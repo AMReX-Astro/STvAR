{
 "cells": [
  {
   "cell_type": "code",
   "execution_count": 1,
   "metadata": {},
   "outputs": [],
   "source": [
    "from SpacetimeVar import *"
   ]
  },
  {
   "cell_type": "code",
   "execution_count": 2,
   "metadata": {},
   "outputs": [],
   "source": [
    "DiffOrder = 4\n",
    "nghostcells = 4\n",
    "KOsigma = 0.1"
   ]
  },
  {
   "cell_type": "code",
   "execution_count": 3,
   "metadata": {},
   "outputs": [],
   "source": [
    "dim = 3\n",
    "path = \"../Source/HamCom/\""
   ]
  },
  {
   "cell_type": "code",
   "execution_count": 4,
   "metadata": {},
   "outputs": [],
   "source": [
    "fileRHS = open(path+\"ET_Integration_Rhs_K.H\", \"w+\")"
   ]
  },
  {
   "cell_type": "code",
   "execution_count": 5,
   "metadata": {},
   "outputs": [
    {
     "data": {
      "text/plain": [
       "705"
      ]
     },
     "execution_count": 5,
     "metadata": {},
     "output_type": "execute_result"
    }
   ],
   "source": [
    "RHS_Header = \"\"\"#ifndef ET_INTEGRATION_RHS_K_H \n",
    "#define ET_INTEGRATION_RHS_K_H \n",
    "\n",
    "#include <AMReX_REAL.H> \n",
    "#include <AMReX_Array4.H> \n",
    "#include <ET_Integration_Setup.H> \n",
    "\n",
    "AMREX_GPU_DEVICE \n",
    "inline \n",
    "void \n",
    "state_rhs(int i, int j, int k, \n",
    "        amrex::Array4<amrex::Real> const& rhs_fab, \n",
    "        amrex::Array4<amrex::Real const> const& state_fab, \n",
    "        amrex::GpuArray<amrex::Real,AMREX_SPACEDIM> const& dx, \n",
    "        const amrex::GeometryData& geom) noexcept \n",
    "{\n",
    "        const auto domain_xlo = geom.ProbLo(); \n",
    "\n",
    "        amrex::Real x0 = (i + 0.5)*geom.CellSize(0) + domain_xlo[0]; \n",
    "        amrex::Real x1 = (j + 0.5)*geom.CellSize(0) + domain_xlo[1]; \n",
    "        amrex::Real x2 = (k + 0.5)*geom.CellSize(0) + domain_xlo[2]; \n",
    "\"\"\"\n",
    "\n",
    "fileRHS.write(RHS_Header)"
   ]
  },
  {
   "cell_type": "code",
   "execution_count": 6,
   "metadata": {},
   "outputs": [],
   "source": [
    "stVar.decl = []\n",
    "u = stVar('u', declare = True)"
   ]
  },
  {
   "cell_type": "code",
   "execution_count": 7,
   "metadata": {},
   "outputs": [
    {
     "data": {
      "text/plain": [
       "52"
      ]
     },
     "execution_count": 7,
     "metadata": {},
     "output_type": "execute_result"
    }
   ],
   "source": [
    "fileRHS.write(u.AMReXDeclare())"
   ]
  },
  {
   "cell_type": "code",
   "execution_count": 8,
   "metadata": {},
   "outputs": [],
   "source": [
    "fileVARS = open(path+\"ET_Integration_Variables.H\",\"w+\")\n",
    "fileVARS.write(\"names = {\")\n",
    "for itr in range(len(stVar.decl)-1):\n",
    "    fileVARS.write(\"\\\"\"+stVar.decl[itr]+\"\\\", \")\n",
    "fileVARS.write(\"\\\"\"+stVar.decl[len(stVar.decl)-1]+\"\\\"\")\n",
    "fileVARS.write(\"};\")\n",
    "fileVARS.close()"
   ]
  },
  {
   "cell_type": "code",
   "execution_count": 9,
   "metadata": {},
   "outputs": [
    {
     "data": {
      "text/plain": [
       "835"
      ]
     },
     "execution_count": 9,
     "metadata": {},
     "output_type": "execute_result"
    }
   ],
   "source": [
    "fileRHS.write(DstVar(u, 1, orderD = DiffOrder).AMReXDeclare())\n",
    "fileRHS.write(DstVar(u, 2, orderD = DiffOrder).AMReXDeclare())\n",
    "fileRHS.write(DstVar(u, 'KO', orderD = DiffOrder).AMReXDeclare())"
   ]
  },
  {
   "cell_type": "code",
   "execution_count": 10,
   "metadata": {},
   "outputs": [],
   "source": [
    "x = stVarRank1('x')\n",
    "r = stVar('r')\n",
    "r.var = sp.sqrt(x.symb[0]**2+x.symb[1]**2+x.symb[2]**2)\n",
    "\n",
    "c1 = stVarRank1('c1')\n",
    "c2 = stVarRank1('c2')\n",
    "c1.var = np.array([1.168642873,0,0])\n",
    "c2.var = np.array([-1.168642873,0,0])\n",
    "\n",
    "M1 = stVar('M1')\n",
    "M2 = stVar('M2')\n",
    "\n",
    "M1.var = 0.453\n",
    "M2.var = 0.453\n",
    "\n",
    "P1 = stVarRank1('P1')\n",
    "P2 = stVarRank1('P2')\n",
    "\n",
    "P1.var = np.array([0,0.3331917498,0])\n",
    "P2.var = np.array([0,-0.3331917498,0])\n",
    "\n",
    "xc1 = stVarRank1('xc1')\n",
    "xc2 = stVarRank1('xc2')\n",
    "\n",
    "for i in range(3):\n",
    "    xc1.var[i] = x.symb[i]-c1.symb[i]\n",
    "    xc2.var[i] = x.symb[i]-c2.symb[i]\n",
    "\n",
    "rc1 = stVar('rc1')\n",
    "rc1.var = sp.sqrt(xc1.symb[0]**2 + xc1.symb[1]**2 + xc1.symb[2]**2)\n",
    "\n",
    "rc2 = stVar('rc2')\n",
    "rc2.var = sp.sqrt(xc2.symb[0]**2 + xc2.symb[1]**2 + xc2.symb[2]**2)\n",
    "\n",
    "eps1 = stVar('eps1')\n",
    "eps2 = stVar('eps2')\n",
    "\n",
    "n1 = stVarRank1('n1')\n",
    "n2 = stVarRank1('n2')\n",
    "\n",
    "for i in range(3):\n",
    "    n1.var[i] = xc1.symb[i]/rc1.symb\n",
    "    n2.var[i] = xc2.symb[i]/rc2.symb"
   ]
  },
  {
   "cell_type": "code",
   "execution_count": 11,
   "metadata": {},
   "outputs": [
    {
     "data": {
      "text/plain": [
       "108"
      ]
     },
     "execution_count": 11,
     "metadata": {},
     "output_type": "execute_result"
    }
   ],
   "source": [
    "fileRHS.write(r.AMReXReal())\n",
    "fileRHS.write(c1.AMReXReal())\n",
    "fileRHS.write(c2.AMReXReal())\n",
    "fileRHS.write(M1.AMReXReal())\n",
    "fileRHS.write(M2.AMReXReal())\n",
    "fileRHS.write(P1.AMReXReal())\n",
    "fileRHS.write(P2.AMReXReal())\n",
    "fileRHS.write(xc1.AMReXReal())\n",
    "fileRHS.write(xc2.AMReXReal())\n",
    "fileRHS.write(rc1.AMReXReal())\n",
    "fileRHS.write(rc2.AMReXReal())\n",
    "fileRHS.write(n1.AMReXReal())\n",
    "fileRHS.write(n2.AMReXReal())"
   ]
  },
  {
   "cell_type": "code",
   "execution_count": 12,
   "metadata": {},
   "outputs": [],
   "source": [
    "Atilde1UU = stVarRank2('Atilde1UU')\n",
    "Atilde2UU = stVarRank2('Atilde2UU')\n",
    "for i in range(3):\n",
    "    for j in range(3):\n",
    "        Atilde1UU.var[i][j] += 3/(2*(rc1.symb)**2)*(P1.symb[i]*n1.symb[j]+P1.symb[j]*n1.symb[i])\n",
    "        Atilde2UU.var[i][j] += 3/(2*(rc2.symb)**2)*(P2.symb[i]*n2.symb[j]+P2.symb[j]*n2.symb[i])\n",
    "        for k in range(3):\n",
    "            Atilde1UU.var[i][j] += -3/(2*(rc1.symb)**2)*(sp.eye(3)[i,j]-n1.symb[i]*n1.symb[j])*n1.symb[k]*P1.symb[k]\n",
    "            Atilde2UU.var[i][j] += -3/(2*(rc2.symb)**2)*(sp.eye(3)[i,j]-n2.symb[i]*n2.symb[j])*n2.symb[k]*P2.symb[k]"
   ]
  },
  {
   "cell_type": "code",
   "execution_count": 13,
   "metadata": {},
   "outputs": [],
   "source": [
    "AtildeUU = stVarRank2('AtildeUU')\n",
    "for i in range(3):\n",
    "    for j in range(3):\n",
    "        AtildeUU.var[i][j] += Atilde1UU.symb[i][j]+Atilde2UU.symb[i][j]"
   ]
  },
  {
   "cell_type": "code",
   "execution_count": 14,
   "metadata": {},
   "outputs": [
    {
     "data": {
      "text/plain": [
       "540"
      ]
     },
     "execution_count": 14,
     "metadata": {},
     "output_type": "execute_result"
    }
   ],
   "source": [
    "fileRHS.write(Atilde1UU.AMReXReal())\n",
    "fileRHS.write(Atilde2UU.AMReXReal())\n",
    "fileRHS.write(AtildeUU.AMReXReal())"
   ]
  },
  {
   "cell_type": "code",
   "execution_count": 15,
   "metadata": {},
   "outputs": [],
   "source": [
    "alpha = stVar('alpha')\n",
    "\n",
    "alpha.var = 1/(M1.symb/(2*rc1.symb)+M2.symb/(2*rc2.symb))"
   ]
  },
  {
   "cell_type": "code",
   "execution_count": 16,
   "metadata": {},
   "outputs": [
    {
     "data": {
      "text/plain": [
       "71"
      ]
     },
     "execution_count": 16,
     "metadata": {},
     "output_type": "execute_result"
    }
   ],
   "source": [
    "fileRHS.write(alpha.AMReXReal())"
   ]
  },
  {
   "cell_type": "code",
   "execution_count": 17,
   "metadata": {},
   "outputs": [],
   "source": [
    "beta = stVar('beta')\n",
    "\n",
    "for i in range(3):\n",
    "    for j in range(3):\n",
    "        beta.var += 1/8*(alpha.symb**7)*AtildeUU.symb[i][j]*AtildeUU.symb[i][j]"
   ]
  },
  {
   "cell_type": "code",
   "execution_count": 18,
   "metadata": {},
   "outputs": [
    {
     "data": {
      "text/plain": [
       "489"
      ]
     },
     "execution_count": 18,
     "metadata": {},
     "output_type": "execute_result"
    }
   ],
   "source": [
    "fileRHS.write(beta.AMReXReal())"
   ]
  },
  {
   "cell_type": "code",
   "execution_count": 19,
   "metadata": {},
   "outputs": [],
   "source": [
    "RHS_u = stVar('u')\n",
    "\n",
    "RHS_u.var = 0\n",
    "for i in range(3):\n",
    "    RHS_u.var += Dsymb(u.symb,str(i)+str(i))\n",
    "    \n",
    "RHS_u.var += beta.symb*(alpha.symb*(1+u.symb)+1)**(-7)\n",
    "\n",
    "RHS_u.var += Dsymb(u.symb,'KO')"
   ]
  },
  {
   "cell_type": "code",
   "execution_count": 20,
   "metadata": {},
   "outputs": [
    {
     "data": {
      "text/plain": [
       "103"
      ]
     },
     "execution_count": 20,
     "metadata": {},
     "output_type": "execute_result"
    }
   ],
   "source": [
    "fileRHS.write(RHS_u.AMReXRHS())"
   ]
  },
  {
   "cell_type": "code",
   "execution_count": 21,
   "metadata": {},
   "outputs": [],
   "source": [
    "fileRHS.write(\"}\\n\")\n",
    "fileRHS.write(\"#endif\")\n",
    "fileRHS.close()"
   ]
  },
  {
   "cell_type": "code",
   "execution_count": null,
   "metadata": {},
   "outputs": [],
   "source": []
  },
  {
   "cell_type": "code",
   "execution_count": null,
   "metadata": {},
   "outputs": [],
   "source": []
  },
  {
   "cell_type": "code",
   "execution_count": 22,
   "metadata": {},
   "outputs": [],
   "source": [
    "fileDIAG = open(path+\"ET_Integration_Diag_K.H\", \"w+\")"
   ]
  },
  {
   "cell_type": "code",
   "execution_count": 23,
   "metadata": {},
   "outputs": [
    {
     "data": {
      "text/plain": [
       "711"
      ]
     },
     "execution_count": 23,
     "metadata": {},
     "output_type": "execute_result"
    }
   ],
   "source": [
    "DIAG_Header = \"\"\"#ifndef ET_INTEGRATION_DIAG_K_H \n",
    "#define ET_INTEGRATION_DIAG_K_H \n",
    "\n",
    "#include <AMReX_REAL.H> \n",
    "#include <AMReX_Array4.H> \n",
    "#include <ET_Integration_Setup.H> \n",
    "\n",
    "AMREX_GPU_DEVICE \n",
    "inline \n",
    "void \n",
    "state_diagnostics(int i, int j, int k, \n",
    "        amrex::Array4<amrex::Real> const& diag, \n",
    "        amrex::Array4<amrex::Real const> const& state_fab, \n",
    "        amrex::GpuArray<amrex::Real,AMREX_SPACEDIM> const& dx,\n",
    "        const amrex::GeometryData& geom) noexcept \n",
    "{\n",
    "\n",
    "        const auto domain_xlo = geom.ProbLo(); \n",
    "\n",
    "        amrex::Real x0 = (i + 0.5)*geom.CellSize(0) + domain_xlo[0]; \n",
    "        amrex::Real x1 = (j + 0.5)*geom.CellSize(0) + domain_xlo[1]; \n",
    "        amrex::Real x2 = (k + 0.5)*geom.CellSize(0) + domain_xlo[2];\n",
    "\"\"\"\n",
    "\n",
    "fileDIAG.write(DIAG_Header)"
   ]
  },
  {
   "cell_type": "code",
   "execution_count": 24,
   "metadata": {},
   "outputs": [
    {
     "data": {
      "text/plain": [
       "52"
      ]
     },
     "execution_count": 24,
     "metadata": {},
     "output_type": "execute_result"
    }
   ],
   "source": [
    "fileDIAG.write(u.AMReXDeclare())"
   ]
  },
  {
   "cell_type": "code",
   "execution_count": 25,
   "metadata": {},
   "outputs": [],
   "source": [
    "x = stVarRank1('x')\n",
    "r = stVar('r')\n",
    "r.var = sp.sqrt(x.symb[0]**2+x.symb[1]**2+x.symb[2]**2)\n",
    "\n",
    "c1 = stVarRank1('c1')\n",
    "c2 = stVarRank1('c2')\n",
    "c1.var = np.array([1.168642873,0,0])\n",
    "c2.var = np.array([-1.168642873,0,0])\n",
    "\n",
    "M1 = stVar('M1')\n",
    "M2 = stVar('M2')\n",
    "\n",
    "M1.var = 0.453\n",
    "M2.var = 0.453\n",
    "\n",
    "P1 = stVarRank1('P1')\n",
    "P2 = stVarRank1('P2')\n",
    "\n",
    "P1.var = np.array([0,0.3331917498,0])\n",
    "P2.var = np.array([0,-0.3331917498,0])\n",
    "\n",
    "xc1 = stVarRank1('xc1')\n",
    "xc2 = stVarRank1('xc2')\n",
    "\n",
    "for i in range(3):\n",
    "    xc1.var[i] = x.symb[i]-c1.symb[i]\n",
    "    xc2.var[i] = x.symb[i]-c2.symb[i]\n",
    "\n",
    "rc1 = stVar('rc1')\n",
    "rc1.var = sp.sqrt(xc1.symb[0]**2 + xc1.symb[1]**2 + xc1.symb[2]**2)\n",
    "\n",
    "rc2 = stVar('rc2')\n",
    "rc2.var = sp.sqrt(xc2.symb[0]**2 + xc2.symb[1]**2 + xc2.symb[2]**2)\n",
    "\n",
    "eps1 = stVar('eps1')\n",
    "eps2 = stVar('eps2')\n",
    "\n",
    "n1 = stVarRank1('n1')\n",
    "n2 = stVarRank1('n2')\n",
    "\n",
    "for i in range(3):\n",
    "    n1.var[i] = xc1.symb[i]/rc1.symb\n",
    "    n2.var[i] = xc2.symb[i]/rc2.symb"
   ]
  },
  {
   "cell_type": "code",
   "execution_count": 26,
   "metadata": {},
   "outputs": [
    {
     "data": {
      "text/plain": [
       "108"
      ]
     },
     "execution_count": 26,
     "metadata": {},
     "output_type": "execute_result"
    }
   ],
   "source": [
    "fileDIAG.write(r.AMReXReal())\n",
    "fileDIAG.write(c1.AMReXReal())\n",
    "fileDIAG.write(c2.AMReXReal())\n",
    "fileDIAG.write(M1.AMReXReal())\n",
    "fileDIAG.write(M2.AMReXReal())\n",
    "fileDIAG.write(P1.AMReXReal())\n",
    "fileDIAG.write(P2.AMReXReal())\n",
    "fileDIAG.write(xc1.AMReXReal())\n",
    "fileDIAG.write(xc2.AMReXReal())\n",
    "fileDIAG.write(rc1.AMReXReal())\n",
    "fileDIAG.write(rc2.AMReXReal())\n",
    "fileDIAG.write(n1.AMReXReal())\n",
    "fileDIAG.write(n2.AMReXReal())"
   ]
  },
  {
   "cell_type": "code",
   "execution_count": 27,
   "metadata": {},
   "outputs": [],
   "source": [
    "Abar1UU = stVarRank2('Abar1UU')\n",
    "Abar2UU = stVarRank2('Abar2UU')\n",
    "for i in range(3):\n",
    "    for j in range(3):\n",
    "        Abar1UU.var[i][j] += 3/(2*(rc1.symb)**2)*(P1.symb[i]*n1.symb[j]+P1.symb[j]*n1.symb[i])\n",
    "        Abar2UU.var[i][j] += 3/(2*(rc2.symb)**2)*(P2.symb[i]*n2.symb[j]+P2.symb[j]*n2.symb[i])\n",
    "        for k in range(3):\n",
    "            Abar1UU.var[i][j] += -3/(2*(rc1.symb)**2)*(sp.eye(3)[i,j]-n1.symb[i]*n1.symb[j])*n1.symb[k]*P1.symb[k]\n",
    "            Abar2UU.var[i][j] += -3/(2*(rc2.symb)**2)*(sp.eye(3)[i,j]-n2.symb[i]*n2.symb[j])*n2.symb[k]*P2.symb[k]"
   ]
  },
  {
   "cell_type": "code",
   "execution_count": 28,
   "metadata": {},
   "outputs": [],
   "source": [
    "AbarUU = stVarRank2('AbarUU')\n",
    "for i in range(3):\n",
    "    for j in range(3):\n",
    "        AbarUU.var[i][j] += Abar1UU.symb[i][j]+Abar2UU.symb[i][j]"
   ]
  },
  {
   "cell_type": "code",
   "execution_count": 29,
   "metadata": {},
   "outputs": [
    {
     "data": {
      "text/plain": [
       "486"
      ]
     },
     "execution_count": 29,
     "metadata": {},
     "output_type": "execute_result"
    }
   ],
   "source": [
    "fileDIAG.write(Abar1UU.AMReXReal())\n",
    "fileDIAG.write(Abar2UU.AMReXReal())\n",
    "fileDIAG.write(AbarUU.AMReXReal())"
   ]
  },
  {
   "cell_type": "code",
   "execution_count": 30,
   "metadata": {},
   "outputs": [],
   "source": [
    "alphafunc = stVar('alphafunc')\n",
    "\n",
    "alphafunc.var = 1/(M1.symb/(2*rc1.symb)+M2.symb/(2*rc2.symb))"
   ]
  },
  {
   "cell_type": "code",
   "execution_count": 31,
   "metadata": {},
   "outputs": [
    {
     "data": {
      "text/plain": [
       "71"
      ]
     },
     "execution_count": 31,
     "metadata": {},
     "output_type": "execute_result"
    }
   ],
   "source": [
    "fileDIAG.write(alphafunc.AMReXReal())"
   ]
  },
  {
   "cell_type": "code",
   "execution_count": 32,
   "metadata": {},
   "outputs": [],
   "source": [
    "psi = stVar('psi')\n",
    "\n",
    "psi.var = 1+alphafunc.symb**(-1)+u.symb"
   ]
  },
  {
   "cell_type": "code",
   "execution_count": 33,
   "metadata": {},
   "outputs": [
    {
     "data": {
      "text/plain": [
       "45"
      ]
     },
     "execution_count": 33,
     "metadata": {},
     "output_type": "execute_result"
    }
   ],
   "source": [
    "fileDIAG.write(psi.AMReXReal())"
   ]
  },
  {
   "cell_type": "code",
   "execution_count": 34,
   "metadata": {},
   "outputs": [],
   "source": [
    "stVar.declDiag = []  #We want a list of declared variables that we will cycle through when we convert our RHS equations.\n",
    "\n",
    "chi = stVar('chi',declareDiag = True) #Scalar variables like chi can be declared with stVar.\n",
    "gamtildeLL = stVarRank2('gamtildeLL', sym = 'sym01', declareDiag = True)  #gamtildeLL is rank 2, so it is declared with stVarRank2\n",
    "Khat = stVar('Khat',declareDiag = True)\n",
    "AtildeLL = stVarRank2('AtildeLL', sym = 'sym01',declareDiag = True)\n",
    "theta = stVar('theta',declareDiag = True)\n",
    "GamtildeU = stVarRank1('GamtildeU',declareDiag = True)\n",
    "\n",
    "alpha = stVar('alpha',declareDiag = True)\n",
    "betaU = stVarRank1('betaU',declareDiag = True)"
   ]
  },
  {
   "cell_type": "code",
   "execution_count": 35,
   "metadata": {},
   "outputs": [],
   "source": [
    "fileDIAGVARS = open(path+\"ET_Integration_Diagnostic_Variables.H\",\"w+\")\n",
    "fileDIAGVARS.write(\"names = {\")\n",
    "for itr in range(len(stVar.declDiag)-1):\n",
    "    fileDIAGVARS.write(\"\\\"\"+stVar.declDiag[itr]+\"\\\", \")\n",
    "fileDIAGVARS.write(\"\\\"\"+stVar.declDiag[len(stVar.declDiag)-1]+\"\\\"\")\n",
    "fileDIAGVARS.write(\"};\")\n",
    "fileDIAGVARS.close()"
   ]
  },
  {
   "cell_type": "code",
   "execution_count": 36,
   "metadata": {},
   "outputs": [],
   "source": [
    "chi.var = psi.symb**(-4)"
   ]
  },
  {
   "cell_type": "code",
   "execution_count": 37,
   "metadata": {},
   "outputs": [
    {
     "data": {
      "text/plain": [
       "55"
      ]
     },
     "execution_count": 37,
     "metadata": {},
     "output_type": "execute_result"
    }
   ],
   "source": [
    "fileDIAG.write(chi.AMReXDiag())"
   ]
  },
  {
   "cell_type": "code",
   "execution_count": 38,
   "metadata": {},
   "outputs": [],
   "source": [
    "gamtildeLL.var = [[1,0,0],[0,1,0],[0,0,1]]"
   ]
  },
  {
   "cell_type": "code",
   "execution_count": 39,
   "metadata": {},
   "outputs": [
    {
     "data": {
      "text/plain": [
       "288"
      ]
     },
     "execution_count": 39,
     "metadata": {},
     "output_type": "execute_result"
    }
   ],
   "source": [
    "fileDIAG.write(gamtildeLL.AMReXDiag())"
   ]
  },
  {
   "cell_type": "code",
   "execution_count": 40,
   "metadata": {},
   "outputs": [],
   "source": [
    "Khat.var = 0"
   ]
  },
  {
   "cell_type": "code",
   "execution_count": 41,
   "metadata": {},
   "outputs": [
    {
     "data": {
      "text/plain": [
       "40"
      ]
     },
     "execution_count": 41,
     "metadata": {},
     "output_type": "execute_result"
    }
   ],
   "source": [
    "fileDIAG.write(Khat.AMReXDiag())"
   ]
  },
  {
   "cell_type": "code",
   "execution_count": 42,
   "metadata": {},
   "outputs": [],
   "source": [
    "AtildeLL.var = (psi.symb**(-6))*AbarUU.symb"
   ]
  },
  {
   "cell_type": "code",
   "execution_count": 43,
   "metadata": {},
   "outputs": [
    {
     "data": {
      "text/plain": [
       "420"
      ]
     },
     "execution_count": 43,
     "metadata": {},
     "output_type": "execute_result"
    }
   ],
   "source": [
    "fileDIAG.write(AtildeLL.AMReXDiag())"
   ]
  },
  {
   "cell_type": "code",
   "execution_count": 44,
   "metadata": {},
   "outputs": [],
   "source": [
    "theta.var = 0"
   ]
  },
  {
   "cell_type": "code",
   "execution_count": 45,
   "metadata": {},
   "outputs": [
    {
     "data": {
      "text/plain": [
       "41"
      ]
     },
     "execution_count": 45,
     "metadata": {},
     "output_type": "execute_result"
    }
   ],
   "source": [
    "fileDIAG.write(theta.AMReXDiag())"
   ]
  },
  {
   "cell_type": "code",
   "execution_count": 46,
   "metadata": {},
   "outputs": [],
   "source": [
    "GamtildeU.var = [0,0,0]"
   ]
  },
  {
   "cell_type": "code",
   "execution_count": 47,
   "metadata": {},
   "outputs": [
    {
     "data": {
      "text/plain": [
       "138"
      ]
     },
     "execution_count": 47,
     "metadata": {},
     "output_type": "execute_result"
    }
   ],
   "source": [
    "fileDIAG.write(GamtildeU.AMReXDiag())"
   ]
  },
  {
   "cell_type": "code",
   "execution_count": 48,
   "metadata": {},
   "outputs": [],
   "source": [
    "alpha.var = psi.symb**(-2)"
   ]
  },
  {
   "cell_type": "code",
   "execution_count": 49,
   "metadata": {},
   "outputs": [
    {
     "data": {
      "text/plain": [
       "57"
      ]
     },
     "execution_count": 49,
     "metadata": {},
     "output_type": "execute_result"
    }
   ],
   "source": [
    "fileDIAG.write(alpha.AMReXDiag())"
   ]
  },
  {
   "cell_type": "code",
   "execution_count": 50,
   "metadata": {},
   "outputs": [],
   "source": [
    "betaU.var = [0,0,0]"
   ]
  },
  {
   "cell_type": "code",
   "execution_count": 51,
   "metadata": {},
   "outputs": [
    {
     "data": {
      "text/plain": [
       "126"
      ]
     },
     "execution_count": 51,
     "metadata": {},
     "output_type": "execute_result"
    }
   ],
   "source": [
    "fileDIAG.write(betaU.AMReXDiag())"
   ]
  },
  {
   "cell_type": "code",
   "execution_count": 52,
   "metadata": {},
   "outputs": [],
   "source": [
    "fileDIAG.write(\"}\\n\")\n",
    "fileDIAG.write(\"#endif\")\n",
    "fileDIAG.close()"
   ]
  },
  {
   "cell_type": "code",
   "execution_count": 53,
   "metadata": {},
   "outputs": [],
   "source": [
    "fileSETUP = open(path+\"ET_Integration_Setup.H\", \"w+\")"
   ]
  },
  {
   "cell_type": "code",
   "execution_count": 54,
   "metadata": {},
   "outputs": [],
   "source": [
    "fileSETUP.write(\"#ifndef ET_INTEGRATION_SETUP_K_H \\n\")\n",
    "fileSETUP.write(\"#define ET_INTEGRATION_SETUP_K_H \\n\\n\")\n",
    "\n",
    "fileSETUP.write(\"#include <AMReX_REAL.H> \\n\")\n",
    "fileSETUP.write(\"#include <AMReX_Array4.H> \\n\\n\")\n",
    "    \n",
    "fileSETUP.write(\"namespace Idx { \\n\")\n",
    "fileSETUP.write(\"         enum ETIndexes {\")\n",
    "    \n",
    "Idx_string = \"\"\n",
    "for itr in stVar.decl:\n",
    "    Idx_string += itr+\", \"\n",
    "Idx_string += \"NumScalars\"\n",
    "    \n",
    "fileSETUP.write(Idx_string)\n",
    "fileSETUP.write(\"}; \\n};\\n\\n\")\n",
    "    \n",
    "fileSETUP.write(\"namespace Diag { \\n\")\n",
    "fileSETUP.write(\"         enum DiagnosticIndexes {\")\n",
    "    \n",
    "Idx_string = \"\"\n",
    "for itr in stVar.declDiag:\n",
    "    Idx_string += itr+\", \"\n",
    "Idx_string += \"NumScalars\"\n",
    "    \n",
    "fileSETUP.write(Idx_string)\n",
    "fileSETUP.write(\"}; \\n};\\n\\n\")\n",
    "    \n",
    "fileSETUP.write(\"#define NUM_GHOST_CELLS \"+str(nghostcells)+\"\\n\\n\")\n",
    "fileSETUP.write(\"#endif\")\n",
    "\n",
    "fileSETUP.close()"
   ]
  },
  {
   "cell_type": "code",
   "execution_count": 55,
   "metadata": {},
   "outputs": [],
   "source": [
    "filePOST = open(path+\"ET_Integration_Post_Update_K.H\", \"w+\")"
   ]
  },
  {
   "cell_type": "code",
   "execution_count": 56,
   "metadata": {},
   "outputs": [
    {
     "data": {
      "text/plain": [
       "348"
      ]
     },
     "execution_count": 56,
     "metadata": {},
     "output_type": "execute_result"
    }
   ],
   "source": [
    "PostUpdate_Header = \"\"\"#ifndef ET_INTEGRATION_POST_UPDATE_K_H \n",
    "#define ET_INTEGRATION_POST_UPDATE_K_H \n",
    "\n",
    "#include <AMReX_REAL.H> \n",
    "#include <AMReX_Array4.H> \n",
    "#include <ET_Integration_Setup.H> \n",
    "\n",
    "AMREX_GPU_DEVICE \n",
    "inline \n",
    "void \n",
    "state_post_update(int i, int j, int k, \n",
    "        amrex::Array4<amrex::Real> const& state_fab, \n",
    "        const amrex::GeometryData& geom) noexcept \n",
    "{\n",
    "\"\"\"\n",
    "\n",
    "filePOST.write(PostUpdate_Header)"
   ]
  },
  {
   "cell_type": "code",
   "execution_count": 57,
   "metadata": {},
   "outputs": [],
   "source": [
    "filePOST.write(\"}\\n\")\n",
    "filePOST.write(\"#endif\")\n",
    "filePOST.close()"
   ]
  },
  {
   "cell_type": "code",
   "execution_count": null,
   "metadata": {},
   "outputs": [],
   "source": []
  },
  {
   "cell_type": "code",
   "execution_count": null,
   "metadata": {},
   "outputs": [],
   "source": []
  },
  {
   "cell_type": "code",
   "execution_count": 58,
   "metadata": {},
   "outputs": [],
   "source": [
    "fileINIT = open(path+\"ET_Integration_Init_K.H\", \"w+\")"
   ]
  },
  {
   "cell_type": "code",
   "execution_count": 59,
   "metadata": {},
   "outputs": [
    {
     "data": {
      "text/plain": [
       "605"
      ]
     },
     "execution_count": 59,
     "metadata": {},
     "output_type": "execute_result"
    }
   ],
   "source": [
    "Init_Header = \"\"\"#ifndef ET_INTEGRATION_INIT_K_H \n",
    "#define ET_INTEGRATION_INIT_K_H \n",
    "\n",
    "#include <AMReX_REAL.H> \n",
    "#include <AMReX_Array4.H> \n",
    "#include <ET_Integration_Setup.H> \n",
    "\n",
    "AMREX_GPU_DEVICE \n",
    "inline \n",
    "void \n",
    "state_init(int i, int j, int k, \n",
    "        amrex::Array4<amrex::Real> const& state_fab, \n",
    "        amrex::Real time, const amrex::GeometryData& geom) noexcept \n",
    "{\n",
    "\n",
    "        const auto domain_xlo = geom.ProbLo(); \n",
    "\n",
    "        amrex::Real x0 = (i + 0.5)*geom.CellSize(0) + domain_xlo[0]; \n",
    "        amrex::Real x1 = (j + 0.5)*geom.CellSize(0) + domain_xlo[1]; \n",
    "        amrex::Real x2 = (k + 0.5)*geom.CellSize(0) + domain_xlo[2]; \n",
    "\"\"\"\n",
    "\n",
    "fileINIT.write(Init_Header)"
   ]
  },
  {
   "cell_type": "code",
   "execution_count": 60,
   "metadata": {},
   "outputs": [],
   "source": [
    "uInit = stVar('u')"
   ]
  },
  {
   "cell_type": "code",
   "execution_count": 61,
   "metadata": {},
   "outputs": [],
   "source": [
    "uInit.var = 0"
   ]
  },
  {
   "cell_type": "code",
   "execution_count": 62,
   "metadata": {
    "scrolled": true
   },
   "outputs": [
    {
     "data": {
      "text/plain": [
       "41"
      ]
     },
     "execution_count": 62,
     "metadata": {},
     "output_type": "execute_result"
    }
   ],
   "source": [
    "fileINIT.write(uInit.AMReXInit())"
   ]
  },
  {
   "cell_type": "code",
   "execution_count": 63,
   "metadata": {},
   "outputs": [],
   "source": [
    "fileINIT.write(\"}\\n\")\n",
    "fileINIT.write(\"#endif\")\n",
    "fileINIT.close()"
   ]
  },
  {
   "cell_type": "code",
   "execution_count": null,
   "metadata": {},
   "outputs": [],
   "source": []
  }
 ],
 "metadata": {
  "kernelspec": {
   "display_name": "Python 3",
   "language": "python",
   "name": "python3"
  },
  "language_info": {
   "codemirror_mode": {
    "name": "ipython",
    "version": 3
   },
   "file_extension": ".py",
   "mimetype": "text/x-python",
   "name": "python",
   "nbconvert_exporter": "python",
   "pygments_lexer": "ipython3",
   "version": "3.5.2"
  }
 },
 "nbformat": 4,
 "nbformat_minor": 2
}
