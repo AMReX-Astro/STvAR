{
 "cells": [
  {
   "cell_type": "code",
   "execution_count": 1,
   "metadata": {},
   "outputs": [],
   "source": [
    "from FunctionSet import *\n",
    "# The NRPy_param_funcs module sets up global structures that manage free parameters within NRPy+\n",
    "import NRPy_param_funcs as par \n",
    "# The indexedexp module defines various functions for defining and managing indexed quantities like tensors and pseudotensors\n",
    "import indexedexp as ixp\n",
    "# The grid module defines various parameters related to a numerical grid or the dimensionality of indexed expressions\n",
    "# For example, it declares the parameter DIM, which specifies the dimensionality of the indexed expression\n",
    "import grid as gri\n",
    "from outputC import *\n",
    "import numpy as np\n",
    "\n",
    "import sympy\n",
    "from sympy import symbols, IndexedBase, Indexed, Idx, preorder_traversal"
   ]
  },
  {
   "cell_type": "code",
   "execution_count": 2,
   "metadata": {},
   "outputs": [],
   "source": [
    "Nx, Ny, Nz= symbols('Nx Ny Nz', integer=True)\n",
    "i = Idx('i', Nx)\n",
    "j = Idx('j', Ny)\n",
    "k = Idx('k', Nz)\n",
    "name = Idx('name')\n",
    "dx, dy, dz = symbols('dx dy dz')\n",
    "\n",
    "var_phi = [\"Phi0\",\"Phi1\",\"Phi2\"]\n",
    "\n",
    "Phi = ixp.zerorank1(DIM=3)\n",
    "\n",
    "for itr in range(len(directions)):\n",
    "    Phi[itr] = IndexedBase('state_fab'+var_phi[itr])[i,j,k,var_phi[itr]]"
   ]
  },
  {
   "cell_type": "code",
   "execution_count": 7,
   "metadata": {},
   "outputs": [],
   "source": [
    "dphi = ixp.declarerank2('dphi','sym01')\n",
    "ddphi = ixp.declarerank3('ddphi','sym12')"
   ]
  },
  {
   "cell_type": "code",
   "execution_count": 22,
   "metadata": {},
   "outputs": [
    {
     "name": "stdout",
     "output_type": "stream",
     "text": [
      "amrex::Real ddphi000 = (1.0L/2.0L)*((1.0L/2.0L)*(state_fab(i + 2, j, k, Idx::Phi0) - state_fab(i, j, k, Idx::Phi0))/dx[0] - 1.0L/2.0L*(-state_fab(i - 2, j, k, Idx::Phi0) + state_fab(i, j, k, Idx::Phi0))/dx[0])/dx[0];\n",
      "\n",
      "amrex::Real ddphi001 = (1.0L/2.0L)*((1.0L/2.0L)*(state_fab(i + 1, j + 1, k, Idx::Phi0) - state_fab(i - 1, j + 1, k, Idx::Phi0))/dx[0] - 1.0L/2.0L*(state_fab(i + 1, j - 1, k, Idx::Phi0) - state_fab(i - 1, j - 1, k, Idx::Phi0))/dx[0])/dx[1];\n",
      "\n",
      "amrex::Real ddphi002 = (1.0L/2.0L)*((1.0L/2.0L)*(state_fab(i + 1, j, k + 1, Idx::Phi0) - state_fab(i - 1, j, k + 1, Idx::Phi0))/dx[0] - 1.0L/2.0L*(state_fab(i + 1, j, k - 1, Idx::Phi0) - state_fab(i - 1, j, k - 1, Idx::Phi0))/dx[0])/dx[2];\n",
      "\n",
      "amrex::Real ddphi001 = (1.0L/2.0L)*((1.0L/2.0L)*(state_fab(i + 1, j + 1, k, Idx::Phi0) - state_fab(i + 1, j - 1, k, Idx::Phi0))/dx[1] - 1.0L/2.0L*(state_fab(i - 1, j + 1, k, Idx::Phi0) - state_fab(i - 1, j - 1, k, Idx::Phi0))/dx[1])/dx[0];\n",
      "\n",
      "amrex::Real ddphi011 = (1.0L/2.0L)*((1.0L/2.0L)*(state_fab(i, j + 2, k, Idx::Phi0) - state_fab(i, j, k, Idx::Phi0))/dx[1] - 1.0L/2.0L*(-state_fab(i, j - 2, k, Idx::Phi0) + state_fab(i, j, k, Idx::Phi0))/dx[1])/dx[1];\n",
      "\n",
      "amrex::Real ddphi012 = (1.0L/2.0L)*((1.0L/2.0L)*(state_fab(i, j + 1, k + 1, Idx::Phi0) - state_fab(i, j - 1, k + 1, Idx::Phi0))/dx[1] - 1.0L/2.0L*(state_fab(i, j + 1, k - 1, Idx::Phi0) - state_fab(i, j - 1, k - 1, Idx::Phi0))/dx[1])/dx[2];\n",
      "\n",
      "amrex::Real ddphi002 = (1.0L/2.0L)*((1.0L/2.0L)*(state_fab(i + 1, j, k + 1, Idx::Phi0) - state_fab(i + 1, j, k - 1, Idx::Phi0))/dx[2] - 1.0L/2.0L*(state_fab(i - 1, j, k + 1, Idx::Phi0) - state_fab(i - 1, j, k - 1, Idx::Phi0))/dx[2])/dx[0];\n",
      "\n",
      "amrex::Real ddphi012 = (1.0L/2.0L)*((1.0L/2.0L)*(state_fab(i, j + 1, k + 1, Idx::Phi0) - state_fab(i, j + 1, k - 1, Idx::Phi0))/dx[2] - 1.0L/2.0L*(state_fab(i, j - 1, k + 1, Idx::Phi0) - state_fab(i, j - 1, k - 1, Idx::Phi0))/dx[2])/dx[1];\n",
      "\n",
      "amrex::Real ddphi022 = (1.0L/2.0L)*((1.0L/2.0L)*(state_fab(i, j, k + 2, Idx::Phi0) - state_fab(i, j, k, Idx::Phi0))/dx[2] - 1.0L/2.0L*(-state_fab(i, j, k - 2, Idx::Phi0) + state_fab(i, j, k, Idx::Phi0))/dx[2])/dx[2];\n",
      "\n",
      "amrex::Real ddphi100 = (1.0L/2.0L)*((1.0L/2.0L)*(state_fab(i + 2, j, k, Idx::Phi1) - state_fab(i, j, k, Idx::Phi1))/dx[0] - 1.0L/2.0L*(-state_fab(i - 2, j, k, Idx::Phi1) + state_fab(i, j, k, Idx::Phi1))/dx[0])/dx[0];\n",
      "\n",
      "amrex::Real ddphi101 = (1.0L/2.0L)*((1.0L/2.0L)*(state_fab(i + 1, j + 1, k, Idx::Phi1) - state_fab(i - 1, j + 1, k, Idx::Phi1))/dx[0] - 1.0L/2.0L*(state_fab(i + 1, j - 1, k, Idx::Phi1) - state_fab(i - 1, j - 1, k, Idx::Phi1))/dx[0])/dx[1];\n",
      "\n",
      "amrex::Real ddphi102 = (1.0L/2.0L)*((1.0L/2.0L)*(state_fab(i + 1, j, k + 1, Idx::Phi1) - state_fab(i - 1, j, k + 1, Idx::Phi1))/dx[0] - 1.0L/2.0L*(state_fab(i + 1, j, k - 1, Idx::Phi1) - state_fab(i - 1, j, k - 1, Idx::Phi1))/dx[0])/dx[2];\n",
      "\n",
      "amrex::Real ddphi101 = (1.0L/2.0L)*((1.0L/2.0L)*(state_fab(i + 1, j + 1, k, Idx::Phi1) - state_fab(i + 1, j - 1, k, Idx::Phi1))/dx[1] - 1.0L/2.0L*(state_fab(i - 1, j + 1, k, Idx::Phi1) - state_fab(i - 1, j - 1, k, Idx::Phi1))/dx[1])/dx[0];\n",
      "\n",
      "amrex::Real ddphi111 = (1.0L/2.0L)*((1.0L/2.0L)*(state_fab(i, j + 2, k, Idx::Phi1) - state_fab(i, j, k, Idx::Phi1))/dx[1] - 1.0L/2.0L*(-state_fab(i, j - 2, k, Idx::Phi1) + state_fab(i, j, k, Idx::Phi1))/dx[1])/dx[1];\n",
      "\n",
      "amrex::Real ddphi112 = (1.0L/2.0L)*((1.0L/2.0L)*(state_fab(i, j + 1, k + 1, Idx::Phi1) - state_fab(i, j - 1, k + 1, Idx::Phi1))/dx[1] - 1.0L/2.0L*(state_fab(i, j + 1, k - 1, Idx::Phi1) - state_fab(i, j - 1, k - 1, Idx::Phi1))/dx[1])/dx[2];\n",
      "\n",
      "amrex::Real ddphi102 = (1.0L/2.0L)*((1.0L/2.0L)*(state_fab(i + 1, j, k + 1, Idx::Phi1) - state_fab(i + 1, j, k - 1, Idx::Phi1))/dx[2] - 1.0L/2.0L*(state_fab(i - 1, j, k + 1, Idx::Phi1) - state_fab(i - 1, j, k - 1, Idx::Phi1))/dx[2])/dx[0];\n",
      "\n",
      "amrex::Real ddphi112 = (1.0L/2.0L)*((1.0L/2.0L)*(state_fab(i, j + 1, k + 1, Idx::Phi1) - state_fab(i, j + 1, k - 1, Idx::Phi1))/dx[2] - 1.0L/2.0L*(state_fab(i, j - 1, k + 1, Idx::Phi1) - state_fab(i, j - 1, k - 1, Idx::Phi1))/dx[2])/dx[1];\n",
      "\n",
      "amrex::Real ddphi122 = (1.0L/2.0L)*((1.0L/2.0L)*(state_fab(i, j, k + 2, Idx::Phi1) - state_fab(i, j, k, Idx::Phi1))/dx[2] - 1.0L/2.0L*(-state_fab(i, j, k - 2, Idx::Phi1) + state_fab(i, j, k, Idx::Phi1))/dx[2])/dx[2];\n",
      "\n",
      "amrex::Real ddphi200 = (1.0L/2.0L)*((1.0L/2.0L)*(state_fab(i + 2, j, k, Idx::Phi2) - state_fab(i, j, k, Idx::Phi2))/dx[0] - 1.0L/2.0L*(-state_fab(i - 2, j, k, Idx::Phi2) + state_fab(i, j, k, Idx::Phi2))/dx[0])/dx[0];\n",
      "\n",
      "amrex::Real ddphi201 = (1.0L/2.0L)*((1.0L/2.0L)*(state_fab(i + 1, j + 1, k, Idx::Phi2) - state_fab(i - 1, j + 1, k, Idx::Phi2))/dx[0] - 1.0L/2.0L*(state_fab(i + 1, j - 1, k, Idx::Phi2) - state_fab(i - 1, j - 1, k, Idx::Phi2))/dx[0])/dx[1];\n",
      "\n",
      "amrex::Real ddphi202 = (1.0L/2.0L)*((1.0L/2.0L)*(state_fab(i + 1, j, k + 1, Idx::Phi2) - state_fab(i - 1, j, k + 1, Idx::Phi2))/dx[0] - 1.0L/2.0L*(state_fab(i + 1, j, k - 1, Idx::Phi2) - state_fab(i - 1, j, k - 1, Idx::Phi2))/dx[0])/dx[2];\n",
      "\n",
      "amrex::Real ddphi201 = (1.0L/2.0L)*((1.0L/2.0L)*(state_fab(i + 1, j + 1, k, Idx::Phi2) - state_fab(i + 1, j - 1, k, Idx::Phi2))/dx[1] - 1.0L/2.0L*(state_fab(i - 1, j + 1, k, Idx::Phi2) - state_fab(i - 1, j - 1, k, Idx::Phi2))/dx[1])/dx[0];\n",
      "\n",
      "amrex::Real ddphi211 = (1.0L/2.0L)*((1.0L/2.0L)*(state_fab(i, j + 2, k, Idx::Phi2) - state_fab(i, j, k, Idx::Phi2))/dx[1] - 1.0L/2.0L*(-state_fab(i, j - 2, k, Idx::Phi2) + state_fab(i, j, k, Idx::Phi2))/dx[1])/dx[1];\n",
      "\n",
      "amrex::Real ddphi212 = (1.0L/2.0L)*((1.0L/2.0L)*(state_fab(i, j + 1, k + 1, Idx::Phi2) - state_fab(i, j - 1, k + 1, Idx::Phi2))/dx[1] - 1.0L/2.0L*(state_fab(i, j + 1, k - 1, Idx::Phi2) - state_fab(i, j - 1, k - 1, Idx::Phi2))/dx[1])/dx[2];\n",
      "\n",
      "amrex::Real ddphi202 = (1.0L/2.0L)*((1.0L/2.0L)*(state_fab(i + 1, j, k + 1, Idx::Phi2) - state_fab(i + 1, j, k - 1, Idx::Phi2))/dx[2] - 1.0L/2.0L*(state_fab(i - 1, j, k + 1, Idx::Phi2) - state_fab(i - 1, j, k - 1, Idx::Phi2))/dx[2])/dx[0];\n",
      "\n",
      "amrex::Real ddphi212 = (1.0L/2.0L)*((1.0L/2.0L)*(state_fab(i, j + 1, k + 1, Idx::Phi2) - state_fab(i, j + 1, k - 1, Idx::Phi2))/dx[2] - 1.0L/2.0L*(state_fab(i, j - 1, k + 1, Idx::Phi2) - state_fab(i, j - 1, k - 1, Idx::Phi2))/dx[2])/dx[1];\n",
      "\n",
      "amrex::Real ddphi222 = (1.0L/2.0L)*((1.0L/2.0L)*(state_fab(i, j, k + 2, Idx::Phi2) - state_fab(i, j, k, Idx::Phi2))/dx[2] - 1.0L/2.0L*(-state_fab(i, j, k - 2, Idx::Phi2) + state_fab(i, j, k, Idx::Phi2))/dx[2])/dx[2];\n",
      "\n"
     ]
    }
   ],
   "source": [
    "for itri in range(len(var_phi)):\n",
    "    for itrj in range(len(directions)):\n",
    "        for itrk in range(len(directions)):\n",
    "            print(\"amrex::Real \"+ str(ddphi[itri][itrj][itrk]) + \" = \" + AMReXcode(Dc(Dc(Phi[itri],directions[itrj]),directions[itrk]),var_phi)+\"\\n\")"
   ]
  },
  {
   "cell_type": "code",
   "execution_count": 44,
   "metadata": {},
   "outputs": [],
   "source": [
    "LapPhi = ixp.zerorank1()\n",
    "\n",
    "for itr in range(len(var_phi)):\n",
    "    LapPhi[itr] = ddphi[itr][0][0]+ddphi[itr][1][1]+ddphi[itr][2][2]"
   ]
  },
  {
   "cell_type": "code",
   "execution_count": 45,
   "metadata": {},
   "outputs": [],
   "source": [
    "RHS_dotPhi = LapPhi"
   ]
  },
  {
   "cell_type": "code",
   "execution_count": 47,
   "metadata": {},
   "outputs": [
    {
     "name": "stdout",
     "output_type": "stream",
     "text": [
      "amrex::Real ddphi000 = (1.0L/4.0L)*(state_fab(i + 2, j, k, Idx::Phi0) + state_fab(i - 2, j, k, Idx::Phi0) - 2*state_fab(i, j, k, Idx::Phi0))/std::pow(dx[0], 2);\n"
     ]
    },
    {
     "data": {
      "text/plain": [
       "'ddphi200 + ddphi211 + ddphi222;'"
      ]
     },
     "execution_count": 47,
     "metadata": {},
     "output_type": "execute_result"
    }
   ],
   "source": [
    "print(\"amrex::Real \"+str(ddphi[0][0][0])+\" = \"+AMReXcode(sp.simplify(Dc(Dc(Phi[0],'x'),'x')),var_phi))\n",
    "#print(AMReXcode(Dc(Phi[0],'x'),var_phi))\n",
    "AMReXcode(RHS_dotPhi[2])"
   ]
  },
  {
   "cell_type": "code",
   "execution_count": 38,
   "metadata": {},
   "outputs": [
    {
     "data": {
      "text/plain": [
       "(state_fabPhi0[i + 2, j, k, Phi0] + state_fabPhi0[i - 2, j, k, Phi0] - 2*state_fabPhi0[i, j, k, Phi0])/(4*dx**2)"
      ]
     },
     "execution_count": 38,
     "metadata": {},
     "output_type": "execute_result"
    }
   ],
   "source": [
    "sp.simplify(Dc(Dc(Phi[0],'x'),'x'))"
   ]
  },
  {
   "cell_type": "code",
   "execution_count": 26,
   "metadata": {},
   "outputs": [],
   "source": [
    "dphi = ixp.declarerank1('dphi')\n",
    "ddphi = ixp.declarerank2('ddphi','nosym')"
   ]
  },
  {
   "cell_type": "code",
   "execution_count": 27,
   "metadata": {},
   "outputs": [
    {
     "data": {
      "text/plain": [
       "[[ddphi00, ddphi01, ddphi02],\n",
       " [ddphi10, ddphi11, ddphi12],\n",
       " [ddphi20, ddphi21, ddphi22]]"
      ]
     },
     "execution_count": 27,
     "metadata": {},
     "output_type": "execute_result"
    }
   ],
   "source": [
    "ddphi"
   ]
  },
  {
   "cell_type": "code",
   "execution_count": 17,
   "metadata": {},
   "outputs": [
    {
     "data": {
      "text/plain": [
       "'dphi0;'"
      ]
     },
     "execution_count": 17,
     "metadata": {},
     "output_type": "execute_result"
    }
   ],
   "source": []
  },
  {
   "cell_type": "code",
   "execution_count": null,
   "metadata": {},
   "outputs": [],
   "source": []
  }
 ],
 "metadata": {
  "kernelspec": {
   "display_name": "Python 3",
   "language": "python",
   "name": "python3"
  },
  "language_info": {
   "codemirror_mode": {
    "name": "ipython",
    "version": 3
   },
   "file_extension": ".py",
   "mimetype": "text/x-python",
   "name": "python",
   "nbconvert_exporter": "python",
   "pygments_lexer": "ipython3",
   "version": "3.6.5"
  }
 },
 "nbformat": 4,
 "nbformat_minor": 2
}
