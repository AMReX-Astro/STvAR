{
 "cells": [
  {
   "cell_type": "code",
   "execution_count": 1,
   "metadata": {},
   "outputs": [],
   "source": [
    "from FunctionSet import *\n",
    "# The NRPy_param_funcs module sets up global structures that manage free parameters within NRPy+\n",
    "import NRPy_param_funcs as par \n",
    "# The indexedexp module defines various functions for defining and managing indexed quantities like tensors and pseudotensors\n",
    "import indexedexp as ixp\n",
    "# The grid module defines various parameters related to a numerical grid or the dimensionality of indexed expressions\n",
    "# For example, it declares the parameter DIM, which specifies the dimensionality of the indexed expression\n",
    "import grid as gri\n",
    "from outputC import *\n",
    "import numpy as np\n",
    "\n",
    "import sympy as sp\n",
    "from sympy import symbols, IndexedBase, Indexed, Idx, preorder_traversal\n",
    "from sympy.matrices import *"
   ]
  },
  {
   "cell_type": "code",
   "execution_count": 2,
   "metadata": {},
   "outputs": [],
   "source": [
    "Nx, Ny, Nz= symbols('Nx Ny Nz', integer=True)\n",
    "i = Idx('i', Nx)\n",
    "j = Idx('j', Ny)\n",
    "k = Idx('k', Nz)\n",
    "name = Idx('name')\n",
    "dx, dy, dz = symbols('dx dy dz')"
   ]
  },
  {
   "cell_type": "code",
   "execution_count": 19,
   "metadata": {},
   "outputs": [],
   "source": [
    "var_beta = ['beta_x','beta_y','beta_z']\n",
    "\n",
    "betaL = ixp.zerorank1(DIM=3)\n",
    "\n",
    "for itr in range(len(directions)):\n",
    "    betaL[itr] = IndexedBase('state_fab'+directions[itr])[i,j,k,var_beta[itr]]\n",
    "    \n",
    "#var_gam = [['gxx','gxy','gxz'],['gyx','gyy','gyz'],['gzx','gzy','gzz']]\n",
    "\n",
    "gamLL = ixp.declarerank2('g','sym01')\n",
    "for itr1 in range(len(directions)):\n",
    "    for itr2 in range(len(directions)):\n",
    "        gamLL[itr1][itr2] = IndexedBase('gam'+str(itr1)+str(itr2))"
   ]
  },
  {
   "cell_type": "code",
   "execution_count": 20,
   "metadata": {},
   "outputs": [
    {
     "data": {
      "text/plain": [
       "-(gam02/gam00 - (gam12 - gam02*gam10/gam00)*gam01/((gam11 - gam01*gam10/gam00)*gam00))*(-gam20/gam00 + (gam21 - gam01*gam20/gam00)*gam10/((gam11 - gam01*gam10/gam00)*gam00))*(gam00*gam11 - gam01*gam10)/(gam00*gam11*gam22 - gam00*gam12*gam21 - gam01*gam10*gam22 + gam01*gam12*gam20 + gam02*gam10*gam21 - gam02*gam11*gam20) + 1/gam00 + gam01*gam10/((gam11 - gam01*gam10/gam00)*gam00**2)"
      ]
     },
     "execution_count": 20,
     "metadata": {},
     "output_type": "execute_result"
    }
   ],
   "source": [
    "Matrix(np.array(gamLL)).inv()[0,0]"
   ]
  },
  {
   "cell_type": "code",
   "execution_count": 21,
   "metadata": {},
   "outputs": [],
   "source": [
    "gamUU = np.array(Matrix(gamLL).inv())"
   ]
  },
  {
   "cell_type": "code",
   "execution_count": 10,
   "metadata": {},
   "outputs": [],
   "source": [
    "GammaULL = ixp.declarerank3('Gamma','nosym')"
   ]
  },
  {
   "cell_type": "code",
   "execution_count": 11,
   "metadata": {},
   "outputs": [
    {
     "data": {
      "text/plain": [
       "[[[Gamma000, Gamma001, Gamma002],\n",
       "  [Gamma010, Gamma011, Gamma012],\n",
       "  [Gamma020, Gamma021, Gamma022]],\n",
       " [[Gamma100, Gamma101, Gamma102],\n",
       "  [Gamma110, Gamma111, Gamma112],\n",
       "  [Gamma120, Gamma121, Gamma122]],\n",
       " [[Gamma200, Gamma201, Gamma202],\n",
       "  [Gamma210, Gamma211, Gamma212],\n",
       "  [Gamma220, Gamma221, Gamma222]]]"
      ]
     },
     "execution_count": 11,
     "metadata": {},
     "output_type": "execute_result"
    }
   ],
   "source": [
    "GammaULL"
   ]
  },
  {
   "cell_type": "code",
   "execution_count": null,
   "metadata": {},
   "outputs": [],
   "source": []
  }
 ],
 "metadata": {
  "kernelspec": {
   "display_name": "Python 3",
   "language": "python",
   "name": "python3"
  },
  "language_info": {
   "codemirror_mode": {
    "name": "ipython",
    "version": 3
   },
   "file_extension": ".py",
   "mimetype": "text/x-python",
   "name": "python",
   "nbconvert_exporter": "python",
   "pygments_lexer": "ipython3",
   "version": "3.5.2"
  }
 },
 "nbformat": 4,
 "nbformat_minor": 2
}
