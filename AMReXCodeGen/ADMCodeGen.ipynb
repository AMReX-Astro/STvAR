{
 "cells": [
  {
   "cell_type": "code",
   "execution_count": 1,
   "metadata": {},
   "outputs": [],
   "source": [
    "from FunctionSet import *\n",
    "# The NRPy_param_funcs module sets up global structures that manage free parameters within NRPy+\n",
    "import NRPy_param_funcs as par \n",
    "# The indexedexp module defines various functions for defining and managing indexed quantities like tensors and pseudotensors\n",
    "import indexedexp as ixp\n",
    "# The grid module defines various parameters related to a numerical grid or the dimensionality of indexed expressions\n",
    "# For example, it declares the parameter DIM, which specifies the dimensionality of the indexed expression\n",
    "import grid as gri\n",
    "from outputC import *\n",
    "import numpy as np\n",
    "\n",
    "import sympy as sp\n",
    "from sympy import symbols, IndexedBase, Indexed, Idx, preorder_traversal\n",
    "from sympy.matrices import *"
   ]
  },
  {
   "cell_type": "markdown",
   "metadata": {},
   "source": [
    "Declaring indexed variables."
   ]
  },
  {
   "cell_type": "code",
   "execution_count": 2,
   "metadata": {},
   "outputs": [],
   "source": [
    "path = \"../Source/ADM/\""
   ]
  },
  {
   "cell_type": "code",
   "execution_count": 3,
   "metadata": {},
   "outputs": [],
   "source": [
    "Nx, Ny, Nz= symbols('Nx Ny Nz', integer=True)\n",
    "i = Idx('i', Nx)\n",
    "j = Idx('j', Ny)\n",
    "k = Idx('k', Nz)\n",
    "name = Idx('name')\n",
    "dx, dy, dz = symbols('dx dy dz')"
   ]
  },
  {
   "cell_type": "markdown",
   "metadata": {},
   "source": [
    "Declaring variables and types.  Will need to find a more efficient way to do this.  It works for now.|"
   ]
  },
  {
   "cell_type": "code",
   "execution_count": 4,
   "metadata": {},
   "outputs": [],
   "source": [
    "var_alpha = ['alpha']\n",
    "\n",
    "alpha = IndexedBase('state_fab'+var_alpha[0])[i,j,k,var_alpha[0]]\n",
    "\n",
    "var_beta = ['betax','betay','betaz']\n",
    "\n",
    "betaL = ixp.zerorank1(DIM=3)\n",
    "\n",
    "for itr in range(len(directions)):\n",
    "    betaL[itr] = IndexedBase('state_fab'+var_beta[itr])[i,j,k,var_beta[itr]]\n",
    "    \n",
    "betaL = np.array(betaL)\n",
    "    \n",
    "var_gam = [['gxx','gxy','gxz'],['gyx','gyy','gyz'],['gzx','gzy','gzz']]\n",
    "\n",
    "gamLL = ixp.declarerank2('g','sym01')\n",
    "for itr1 in range(len(directions)):\n",
    "    for itr2 in range(len(directions)):\n",
    "        gamLL[itr1][itr2] = IndexedBase('state_fab'+var_gam[itr1][itr2])[i,j,k,var_gam[itr1][itr2]]\n",
    "\n",
    "gamLL = np.array(gamLL)\n",
    "\n",
    "var_gaminv = [['ginvxx','ginvxy','ginvxz'],['ginvyx','ginvyy','ginvyz'],['ginvzx','ginvzy','ginvzz']]\n",
    "        \n",
    "gamUU = ixp.declarerank2('ginv','sym01')\n",
    "for itr1 in range(len(directions)):\n",
    "    for itr2 in range(len(directions)):\n",
    "        gamUU[itr1][itr2] = IndexedBase('state_fab'+var_gaminv[itr1][itr2])[i,j,k,var_gaminv[itr1][itr2]]\n",
    "        \n",
    "gamUU = np.array(gamUU)\n",
    "        \n",
    "var_K = [['Kxx','Kxy','Kxz'],['Kyx','Kyy','Kyz'],['Kzx','Kzy','Kzz'],]\n",
    "        \n",
    "KLL = ixp.declarerank2('K','sym01')\n",
    "for itr1 in range(len(directions)):\n",
    "    for itr2 in range(len(directions)):\n",
    "        KLL[itr1][itr2] = IndexedBase('state_fab'+var_K[itr1][itr2])[i,j,k,var_K[itr1][itr2]]\n",
    "\n",
    "KLL = np.array(KLL)"
   ]
  },
  {
   "cell_type": "code",
   "execution_count": 5,
   "metadata": {},
   "outputs": [
    {
     "data": {
      "text/plain": [
       "['betax', 'betay', 'betaz']"
      ]
     },
     "execution_count": 5,
     "metadata": {},
     "output_type": "execute_result"
    }
   ],
   "source": [
    "var_beta"
   ]
  },
  {
   "cell_type": "markdown",
   "metadata": {},
   "source": [
    "Making a list of all variable names to assign string replacements in AMReXcode output later."
   ]
  },
  {
   "cell_type": "code",
   "execution_count": 6,
   "metadata": {},
   "outputs": [
    {
     "name": "stdout",
     "output_type": "stream",
     "text": [
      "['betax', 'betay', 'betaz']\n"
     ]
    }
   ],
   "source": [
    "var_names=[]\n",
    "for itr in range(len(var_beta)):\n",
    "    var_names.append(var_beta[itr])\n",
    "print(var_names)"
   ]
  },
  {
   "cell_type": "code",
   "execution_count": 7,
   "metadata": {},
   "outputs": [
    {
     "name": "stdout",
     "output_type": "stream",
     "text": [
      "['alpha', 'betax', 'betay', 'betaz', 'gxx', 'gxy', 'gxz', 'gyx', 'gyy', 'gyz', 'gzx', 'gzy', 'gzz', 'ginvxx', 'ginvxy', 'ginvxz', 'ginvyx', 'ginvyy', 'ginvyz', 'ginvzx', 'ginvzy', 'ginvzz', 'Kxx', 'Kxy', 'Kxz', 'Kyx', 'Kyy', 'Kyz', 'Kzx', 'Kzy', 'Kzz']\n"
     ]
    }
   ],
   "source": [
    "var_names = []\n",
    "for itr in range(len(var_beta)):\n",
    "    var_names.append(var_beta[itr])\n",
    "for iter1 in var_gam:\n",
    "    var_names.extend(iter1)\n",
    "for iter2 in var_gaminv:\n",
    "    var_names.extend(iter2)\n",
    "for iter3 in var_K:\n",
    "    var_names.extend(iter3)\n",
    "var_names.insert(0,var_alpha[0])\n",
    "print(var_names)"
   ]
  },
  {
   "cell_type": "markdown",
   "metadata": {},
   "source": [
    "Constructing the Gamma{i,j,k} connection coefficients from the metric."
   ]
  },
  {
   "cell_type": "code",
   "execution_count": 9,
   "metadata": {},
   "outputs": [],
   "source": [
    "DcgLLL = ixp.zerorank3(3)\n",
    "GammaULL = ixp.zerorank3(3)\n",
    "\n",
    "for itri in range(len(directions)):\n",
    "    for itrj in range(len(directions)):\n",
    "        for itrk in range(len(directions)):\n",
    "            DcgLLL[itri][itrj][itrk] = Dc(gamLL[itri][itrj],directions[itrk])\n",
    "            \n",
    "for itri in range(len(directions)):\n",
    "    for itrj in range(len(directions)):\n",
    "        for itrk in range(len(directions)):\n",
    "            for itrl in range(len(directions)):\n",
    "                GammaULL[itri][itrj][itrk] += 1/2*gamUU[itri][itrl]*(DcgLLL[itrj][itrl][itrk]+DcgLLL[itrk][itrl][itrj]-DcgLLL[itrj][itrk][itrl])"
   ]
  },
  {
   "cell_type": "markdown",
   "metadata": {},
   "source": [
    "Constructing covariant derivatives of beta."
   ]
  },
  {
   "cell_type": "code",
   "execution_count": 10,
   "metadata": {},
   "outputs": [],
   "source": [
    "covbetaLL = ixp.zerorank2(3)\n",
    "covbetaTransLL = ixp.zerorank2(3)\n",
    "for itri in range(len(directions)):\n",
    "    for itrj in range(len(directions)):\n",
    "        covbetaLL[itri][itrj] = Dc(betaL[itrj],directions[itri])\n",
    "        covbetaTansLL = Dc(betaL[itri],directions[itrj])\n",
    "        for itrk in range(len(directions)):\n",
    "            covbetaLL[itri][itrj] += GammaULL[itrk][itri][itrj]*betaL[itrk]\n",
    "            covbetaTransLL[itri][itrj] += GammaULL[itrk][itrj][itri]*betaL[itrk]"
   ]
  },
  {
   "cell_type": "markdown",
   "metadata": {},
   "source": [
    "Constructing the RHS of metric in ADM evolution equations.  Evolution eq for K to come later."
   ]
  },
  {
   "cell_type": "code",
   "execution_count": 11,
   "metadata": {},
   "outputs": [],
   "source": [
    "gam_RHS = -2*alpha*KLL+covbetaLL+covbetaTransLL\n",
    "\n",
    "alpha_Init = 0\n",
    "beta_Init = np.array([0,0,0])\n",
    "gam_Init = np.array([[1,0,0],[0,1,0],[0,0,1]])"
   ]
  },
  {
   "cell_type": "code",
   "execution_count": 12,
   "metadata": {},
   "outputs": [
    {
     "data": {
      "text/plain": [
       "['betax', 'betay', 'betaz']"
      ]
     },
     "execution_count": 12,
     "metadata": {},
     "output_type": "execute_result"
    }
   ],
   "source": [
    "var_beta"
   ]
  },
  {
   "cell_type": "code",
   "execution_count": 13,
   "metadata": {},
   "outputs": [
    {
     "data": {
      "text/plain": [
       "'state_fab(i, j, k, Idx::betax) = 0;'"
      ]
     },
     "execution_count": 13,
     "metadata": {},
     "output_type": "execute_result"
    }
   ],
   "source": [
    "AMReXcode(beta_Init[0],var_names,declare_state=True, statename=var_beta[0])"
   ]
  },
  {
   "cell_type": "markdown",
   "metadata": {},
   "source": [
    "Create Setup.H, Variable.H, Init_K.H, and Rhs_K.H"
   ]
  },
  {
   "cell_type": "code",
   "execution_count": 14,
   "metadata": {},
   "outputs": [],
   "source": [
    "createSETUP(path+\"ET_Integration_Setup.H\",var_names,1)"
   ]
  },
  {
   "cell_type": "code",
   "execution_count": 15,
   "metadata": {},
   "outputs": [],
   "source": [
    "createVARIABLES(path+\"ET_Integration_Variables.H\",var_names)"
   ]
  },
  {
   "cell_type": "code",
   "execution_count": 16,
   "metadata": {},
   "outputs": [],
   "source": [
    "createINIT(path+\"ET_Integration_Init_K.H\")\n",
    "addINIT(path+\"ET_Integration_Init_K.H\",AMReXcode(alpha_Init,var_names,declare_state=True, statename=var_alpha[0]))\n",
    "for itr in range(3):\n",
    "    addINIT(path+\"ET_Integration_Init_K.H\",AMReXcode(beta_Init[itr],var_names,declare_state=True, statename=var_beta[itr]))\n",
    "for itri in range(3):\n",
    "        for itrj in range(3):\n",
    "            addINIT(path+\"ET_Integration_Init_K.H\",AMReXcode(gam_Init[itri][itrj],var_names,declare_state=True, statename=var_gam[itri][itrj]))\n",
    "finishINIT(path+\"ET_Integration_Init_K.H\")"
   ]
  },
  {
   "cell_type": "code",
   "execution_count": 17,
   "metadata": {},
   "outputs": [],
   "source": [
    "createRHS(path+\"ET_Integration_Rhs_K.H\")\n",
    "for itri in range(3):\n",
    "        for itrj in range(3):\n",
    "            addRHS(path+\"ET_Integration_Rhs_K.H\",AMReXcode(gam_RHS[itri][itrj],var_names,declare_rhs=True, rhsname=var_gam[itri][itrj]))\n",
    "finishRHS(path+\"ET_Integration_Rhs_K.H\")"
   ]
  },
  {
   "cell_type": "code",
   "execution_count": null,
   "metadata": {},
   "outputs": [],
   "source": []
  }
 ],
 "metadata": {
  "kernelspec": {
   "display_name": "Python 3",
   "language": "python",
   "name": "python3"
  },
  "language_info": {
   "codemirror_mode": {
    "name": "ipython",
    "version": 3
   },
   "file_extension": ".py",
   "mimetype": "text/x-python",
   "name": "python",
   "nbconvert_exporter": "python",
   "pygments_lexer": "ipython3",
   "version": "3.5.2"
  }
 },
 "nbformat": 4,
 "nbformat_minor": 2
}
