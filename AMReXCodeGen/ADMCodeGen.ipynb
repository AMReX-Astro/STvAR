{
 "cells": [
  {
   "cell_type": "code",
   "execution_count": 1,
   "metadata": {},
   "outputs": [],
   "source": [
    "from FunctionSet import *\n",
    "# The NRPy_param_funcs module sets up global structures that manage free parameters within NRPy+\n",
    "import NRPy_param_funcs as par \n",
    "# The indexedexp module defines various functions for defining and managing indexed quantities like tensors and pseudotensors\n",
    "import indexedexp as ixp\n",
    "# The grid module defines various parameters related to a numerical grid or the dimensionality of indexed expressions\n",
    "# For example, it declares the parameter DIM, which specifies the dimensionality of the indexed expression\n",
    "import grid as gri\n",
    "from outputC import *\n",
    "import numpy as np\n",
    "\n",
    "import sympy as sp\n",
    "from sympy import symbols, IndexedBase, Indexed, Idx, preorder_traversal\n",
    "from sympy.matrices import *"
   ]
  },
  {
   "cell_type": "markdown",
   "metadata": {},
   "source": [
    "Declaring indexed variables."
   ]
  },
  {
   "cell_type": "code",
   "execution_count": 2,
   "metadata": {},
   "outputs": [],
   "source": [
    "Nx, Ny, Nz= symbols('Nx Ny Nz', integer=True)\n",
    "i = Idx('i', Nx)\n",
    "j = Idx('j', Ny)\n",
    "k = Idx('k', Nz)\n",
    "name = Idx('name')\n",
    "dx, dy, dz = symbols('dx dy dz')"
   ]
  },
  {
   "cell_type": "markdown",
   "metadata": {},
   "source": [
    "Declaring variables and types.  Will need to find a more efficient way to do this.  It works for now.|"
   ]
  },
  {
   "cell_type": "code",
   "execution_count": 3,
   "metadata": {},
   "outputs": [],
   "source": [
    "var_beta = ['betax','betay','betaz']\n",
    "\n",
    "betaL = ixp.zerorank1(DIM=3)\n",
    "\n",
    "for itr in range(len(directions)):\n",
    "    betaL[itr] = IndexedBase('state_fab'+var_beta[itr])[i,j,k,var_beta[itr]]\n",
    "    \n",
    "betaL = np.array(betaL)\n",
    "    \n",
    "var_gam = [['gxx','gxy','gxz'],['gyx','gyy','gyz'],['gzx','gzy','gzz']]\n",
    "\n",
    "gamLL = ixp.declarerank2('g','sym01')\n",
    "for itr1 in range(len(directions)):\n",
    "    for itr2 in range(len(directions)):\n",
    "        gamLL[itr1][itr2] = IndexedBase('state_fab'+var_gam[itr1][itr2])[i,j,k,var_gam[itr1][itr2]]\n",
    "\n",
    "gamLL = np.array(gamLL)\n",
    "\n",
    "var_gaminv = [['ginvxx','ginvxy','ginvxz'],['ginvyx','ginvyy','ginvyz'],['ginvzx','ginvzy','ginvzz']]\n",
    "        \n",
    "gamUU = ixp.declarerank2('ginv','sym01')\n",
    "for itr1 in range(len(directions)):\n",
    "    for itr2 in range(len(directions)):\n",
    "        gamUU[itr1][itr2] = IndexedBase('state_fab'+var_gaminv[itr1][itr2])[i,j,k,var_gaminv[itr1][itr2]]\n",
    "        \n",
    "gamUU = np.array(gamUU)\n",
    "        \n",
    "var_K = [['Kxx','Kxy','Kxz'],['Kyx','Kyy','Kyz'],['Kzx','Kzy','Kzz'],]\n",
    "        \n",
    "KLL = ixp.declarerank2('K','sym01')\n",
    "for itr1 in range(len(directions)):\n",
    "    for itr2 in range(len(directions)):\n",
    "        KLL[itr1][itr2] = IndexedBase('state_fab'+var_K[itr1][itr2])[i,j,k,var_K[itr1][itr2]]\n",
    "\n",
    "KLL = np.array(KLL)"
   ]
  },
  {
   "cell_type": "markdown",
   "metadata": {},
   "source": [
    "Making a list of all variable names to assign string replacements in AMReXcode output later."
   ]
  },
  {
   "cell_type": "code",
   "execution_count": 4,
   "metadata": {},
   "outputs": [
    {
     "name": "stdout",
     "output_type": "stream",
     "text": [
      "['betax', 'betay', 'betaz', 'gxx', 'gxy', 'gxz', 'gyx', 'gyy', 'gyz', 'gzx', 'gzy', 'gzz', 'ginvxx', 'ginvxy', 'ginvxz', 'ginvyx', 'ginvyy', 'ginvyz', 'ginvzx', 'ginvzy', 'ginvzz', 'Kxx', 'Kxy', 'Kxz', 'Kyx', 'Kyy', 'Kyz', 'Kzx', 'Kzy', 'Kzz']\n"
     ]
    }
   ],
   "source": [
    "var_names = var_beta\n",
    "for iter1 in var_gam:\n",
    "    var_names.extend(iter1)\n",
    "for iter2 in var_gaminv:\n",
    "    var_names.extend(iter2)\n",
    "for iter3 in var_K:\n",
    "    var_names.extend(iter3)\n",
    "print(var_names)"
   ]
  },
  {
   "cell_type": "markdown",
   "metadata": {},
   "source": [
    "Constructing the Gamma{i,j,k} connection coefficients from the metric."
   ]
  },
  {
   "cell_type": "code",
   "execution_count": 5,
   "metadata": {},
   "outputs": [],
   "source": [
    "DcgLLL = ixp.zerorank3(3)\n",
    "GammaULL = ixp.zerorank3(3)\n",
    "\n",
    "for itri in range(len(directions)):\n",
    "    for itrj in range(len(directions)):\n",
    "        for itrk in range(len(directions)):\n",
    "            DcgLLL[itri][itrj][itrk] = Dc(gamLL[itri][itrj],directions[itrk])\n",
    "            \n",
    "for itri in range(len(directions)):\n",
    "    for itrj in range(len(directions)):\n",
    "        for itrk in range(len(directions)):\n",
    "            for itrl in range(len(directions)):\n",
    "                GammaULL[itri][itrj][itrk] += 1/2*gamUU[itri][itrl]*(DcgLLL[itrj][itrl][itrk]+DcgLLL[itrk][itrl][itrj]-DcgLLL[itrj][itrk][itrl])"
   ]
  },
  {
   "cell_type": "markdown",
   "metadata": {},
   "source": [
    "Constructing covariant derivatives of beta."
   ]
  },
  {
   "cell_type": "code",
   "execution_count": 7,
   "metadata": {},
   "outputs": [],
   "source": [
    "covbetaLL = ixp.zerorank2(3)\n",
    "covbetaTransLL = ixp.zerorank2(3)\n",
    "for itri in range(len(directions)):\n",
    "    for itrj in range(len(directions)):\n",
    "        covbetaLL[itri][itrj] = Dc(betaL[itrj],directions[itri])\n",
    "        covbetaTansLL = Dc(betaL[itri],directions[itrj])\n",
    "        for itrk in range(len(directions)):\n",
    "            covbetaLL[itri][itrj] += GammaULL[itrk][itri][itrj]*betaL[itrk]\n",
    "            covbetaTransLL[itri][itrj] += GammaULL[itrk][itrj][itri]*betaL[itrk]"
   ]
  },
  {
   "cell_type": "markdown",
   "metadata": {},
   "source": [
    "Constructing the RHS of metric in ADM evolution equations.  Evolution eq for K to come later."
   ]
  },
  {
   "cell_type": "code",
   "execution_count": 9,
   "metadata": {},
   "outputs": [],
   "source": [
    "gam_RHS = KLL+covbetaLL+covbetaTransLL"
   ]
  },
  {
   "cell_type": "markdown",
   "metadata": {},
   "source": [
    "Example AMReX code for advancing gam_xy component.  Easy to output other components."
   ]
  },
  {
   "cell_type": "code",
   "execution_count": 14,
   "metadata": {},
   "outputs": [
    {
     "data": {
      "text/plain": [
       "'rhs_fab(i, j, k, Idx::gxy) = (0.5*((-state_fab(i, j - 1, k, Idx::gxx) + state_fab(i, j + 1, k, Idx::gxx))/(2*dx[1]) - (-state_fab(i - 1, j, k, Idx::gxy) + state_fab(i + 1, j, k, Idx::gxy))/(2*dx[0]) + (-state_fab(i - 1, j, k, Idx::gyx) + state_fab(i + 1, j, k, Idx::gyx))/(2*dx[0]))*state_fab(i, j, k, Idx::ginvxx) + 0.5*(-(-state_fab(i, j, k - 1, Idx::gxy) + state_fab(i, j, k + 1, Idx::gxy))/(2*dx[2]) + (-state_fab(i, j - 1, k, Idx::gxz) + state_fab(i, j + 1, k, Idx::gxz))/(2*dx[1]) + (-state_fab(i - 1, j, k, Idx::gyz) + state_fab(i + 1, j, k, Idx::gyz))/(2*dx[0]))*state_fab(i, j, k, Idx::ginvxz) + 0.25*(-state_fab(i - 1, j, k, Idx::gyy) + state_fab(i + 1, j, k, Idx::gyy))*state_fab(i, j, k, Idx::ginvxy)/dx[0])*state_fab(i, j, k, Idx::betax) + (0.5*((-state_fab(i, j - 1, k, Idx::gxx) + state_fab(i, j + 1, k, Idx::gxx))/(2*dx[1]) - (-state_fab(i - 1, j, k, Idx::gxy) + state_fab(i + 1, j, k, Idx::gxy))/(2*dx[0]) + (-state_fab(i - 1, j, k, Idx::gyx) + state_fab(i + 1, j, k, Idx::gyx))/(2*dx[0]))*state_fab(i, j, k, Idx::ginvyx) + 0.5*(-(-state_fab(i, j, k - 1, Idx::gxy) + state_fab(i, j, k + 1, Idx::gxy))/(2*dx[2]) + (-state_fab(i, j - 1, k, Idx::gxz) + state_fab(i, j + 1, k, Idx::gxz))/(2*dx[1]) + (-state_fab(i - 1, j, k, Idx::gyz) + state_fab(i + 1, j, k, Idx::gyz))/(2*dx[0]))*state_fab(i, j, k, Idx::ginvyz) + 0.25*(-state_fab(i - 1, j, k, Idx::gyy) + state_fab(i + 1, j, k, Idx::gyy))*state_fab(i, j, k, Idx::ginvyy)/dx[0])*state_fab(i, j, k, Idx::betay) + (0.5*((-state_fab(i, j - 1, k, Idx::gxx) + state_fab(i, j + 1, k, Idx::gxx))/(2*dx[1]) - (-state_fab(i - 1, j, k, Idx::gxy) + state_fab(i + 1, j, k, Idx::gxy))/(2*dx[0]) + (-state_fab(i - 1, j, k, Idx::gyx) + state_fab(i + 1, j, k, Idx::gyx))/(2*dx[0]))*state_fab(i, j, k, Idx::ginvzx) + 0.5*(-(-state_fab(i, j, k - 1, Idx::gxy) + state_fab(i, j, k + 1, Idx::gxy))/(2*dx[2]) + (-state_fab(i, j - 1, k, Idx::gxz) + state_fab(i, j + 1, k, Idx::gxz))/(2*dx[1]) + (-state_fab(i - 1, j, k, Idx::gyz) + state_fab(i + 1, j, k, Idx::gyz))/(2*dx[0]))*state_fab(i, j, k, Idx::ginvzz) + 0.25*(-state_fab(i - 1, j, k, Idx::gyy) + state_fab(i + 1, j, k, Idx::gyy))*state_fab(i, j, k, Idx::ginvzy)/dx[0])*state_fab(i, j, k, Idx::betaz) + (0.5*((-state_fab(i, j - 1, k, Idx::gxy) + state_fab(i, j + 1, k, Idx::gxy))/(2*dx[1]) - (-state_fab(i, j - 1, k, Idx::gyx) + state_fab(i, j + 1, k, Idx::gyx))/(2*dx[1]) + (-state_fab(i - 1, j, k, Idx::gyy) + state_fab(i + 1, j, k, Idx::gyy))/(2*dx[0]))*state_fab(i, j, k, Idx::ginvxy) + 0.5*(-(-state_fab(i, j, k - 1, Idx::gyx) + state_fab(i, j, k + 1, Idx::gyx))/(2*dx[2]) + (-state_fab(i, j - 1, k, Idx::gxz) + state_fab(i, j + 1, k, Idx::gxz))/(2*dx[1]) + (-state_fab(i - 1, j, k, Idx::gyz) + state_fab(i + 1, j, k, Idx::gyz))/(2*dx[0]))*state_fab(i, j, k, Idx::ginvxz) + 0.25*(-state_fab(i, j - 1, k, Idx::gxx) + state_fab(i, j + 1, k, Idx::gxx))*state_fab(i, j, k, Idx::ginvxx)/dx[1])*state_fab(i, j, k, Idx::betax) + (0.5*((-state_fab(i, j - 1, k, Idx::gxy) + state_fab(i, j + 1, k, Idx::gxy))/(2*dx[1]) - (-state_fab(i, j - 1, k, Idx::gyx) + state_fab(i, j + 1, k, Idx::gyx))/(2*dx[1]) + (-state_fab(i - 1, j, k, Idx::gyy) + state_fab(i + 1, j, k, Idx::gyy))/(2*dx[0]))*state_fab(i, j, k, Idx::ginvyy) + 0.5*(-(-state_fab(i, j, k - 1, Idx::gyx) + state_fab(i, j, k + 1, Idx::gyx))/(2*dx[2]) + (-state_fab(i, j - 1, k, Idx::gxz) + state_fab(i, j + 1, k, Idx::gxz))/(2*dx[1]) + (-state_fab(i - 1, j, k, Idx::gyz) + state_fab(i + 1, j, k, Idx::gyz))/(2*dx[0]))*state_fab(i, j, k, Idx::ginvyz) + 0.25*(-state_fab(i, j - 1, k, Idx::gxx) + state_fab(i, j + 1, k, Idx::gxx))*state_fab(i, j, k, Idx::ginvyx)/dx[1])*state_fab(i, j, k, Idx::betay) + (0.5*((-state_fab(i, j - 1, k, Idx::gxy) + state_fab(i, j + 1, k, Idx::gxy))/(2*dx[1]) - (-state_fab(i, j - 1, k, Idx::gyx) + state_fab(i, j + 1, k, Idx::gyx))/(2*dx[1]) + (-state_fab(i - 1, j, k, Idx::gyy) + state_fab(i + 1, j, k, Idx::gyy))/(2*dx[0]))*state_fab(i, j, k, Idx::ginvzy) + 0.5*(-(-state_fab(i, j, k - 1, Idx::gyx) + state_fab(i, j, k + 1, Idx::gyx))/(2*dx[2]) + (-state_fab(i, j - 1, k, Idx::gxz) + state_fab(i, j + 1, k, Idx::gxz))/(2*dx[1]) + (-state_fab(i - 1, j, k, Idx::gyz) + state_fab(i + 1, j, k, Idx::gyz))/(2*dx[0]))*state_fab(i, j, k, Idx::ginvzz) + 0.25*(-state_fab(i, j - 1, k, Idx::gxx) + state_fab(i, j + 1, k, Idx::gxx))*state_fab(i, j, k, Idx::ginvzx)/dx[1])*state_fab(i, j, k, Idx::betaz) + state_fab(i, j, k, Idx::Kxy) + (-state_fab(i - 1, j, k, Idx::betay) + state_fab(i + 1, j, k, Idx::betay))/(2*dx[0]);'"
      ]
     },
     "execution_count": 14,
     "metadata": {},
     "output_type": "execute_result"
    }
   ],
   "source": [
    "AMReXcode(gam_RHS[0][1],var_names,True, var_gam[0][1])"
   ]
  },
  {
   "cell_type": "code",
   "execution_count": null,
   "metadata": {},
   "outputs": [],
   "source": []
  }
 ],
 "metadata": {
  "kernelspec": {
   "display_name": "Python 3",
   "language": "python",
   "name": "python3"
  },
  "language_info": {
   "codemirror_mode": {
    "name": "ipython",
    "version": 3
   },
   "file_extension": ".py",
   "mimetype": "text/x-python",
   "name": "python",
   "nbconvert_exporter": "python",
   "pygments_lexer": "ipython3",
   "version": "3.5.2"
  }
 },
 "nbformat": 4,
 "nbformat_minor": 2
}
