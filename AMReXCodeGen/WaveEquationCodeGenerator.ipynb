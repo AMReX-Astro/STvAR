{
 "cells": [
  {
   "cell_type": "code",
   "execution_count": 3,
   "metadata": {},
   "outputs": [],
   "source": [
    "import sympy\n",
    "from sympy import symbols, IndexedBase, Indexed, Idx, preorder_traversal\n",
    "from outputC import *"
   ]
  },
  {
   "cell_type": "markdown",
   "metadata": {},
   "source": [
    "Declaring indices and grid variables.  \"var_names\" will be used later for string replacements when generating AMReX block."
   ]
  },
  {
   "cell_type": "code",
   "execution_count": 4,
   "metadata": {},
   "outputs": [],
   "source": [
    "Nx, Ny, Nz, Nn= symbols('Nx Ny Nz Nn', integer=True)\n",
    "i = Idx('i', Nx)\n",
    "j = Idx('j', Ny)\n",
    "k = Idx('k', Nz)\n",
    "n = Idx('n', Nn)\n",
    "dx, dy, dz = symbols('dx dy dz')\n",
    "phi = IndexedBase('phi')\n",
    "pi = IndexedBase('pi')\n",
    "var_names = ['phi','pi']"
   ]
  },
  {
   "cell_type": "markdown",
   "metadata": {},
   "source": [
    "These functions implement finite-differencing on grid variables. These are courtesy of Don."
   ]
  },
  {
   "cell_type": "code",
   "execution_count": 5,
   "metadata": {},
   "outputs": [],
   "source": [
    "def shift(E, idx_shift):\n",
    "    # This function takes a generic Sympy expression and\n",
    "    # returns a new Sympy expression where every Sympy Indexed\n",
    "    # object in E has been shifted by idx_shift.\n",
    "    # - idx_shift should be of length D, the dimension of E\n",
    "    \n",
    "    def shift_indexed(S, idx_shift):\n",
    "        # This function returns a new IndexedBase object with shifted indices\n",
    "        # - S should be a Sympy Indexed object\n",
    "        # - idx_shift should be a tuple or list of index offsets to apply\n",
    "        # - idx_shift should be of length D, the dimension of S\n",
    "        base = S.base\n",
    "        indices = [si + di for si, di in zip(S.indices, idx_shift)]\n",
    "        return base[indices]\n",
    "\n",
    "    return E.replace(lambda expr: type(expr) == Indexed, lambda expr: shift_indexed(expr, idx_shift))\n",
    "\n",
    "def Dc(E, direction):\n",
    "    assert(direction == 'x' or direction == 'y' or direction == 'z')\n",
    "    if direction == 'x':\n",
    "        shift_hi = (1, 0, 0, 0)\n",
    "        shift_lo = (-1, 0, 0, 0)\n",
    "        delta = dx\n",
    "    elif direction == 'y':\n",
    "        shift_hi = (0, 1, 0, 0)\n",
    "        shift_lo = (0, -1, 0, 0)\n",
    "        delta = dy\n",
    "    elif direction == 'z':\n",
    "        shift_hi = (0, 0, 1, 0)\n",
    "        shift_lo = (0, 0, -1, 0)\n",
    "        delta = dz\n",
    "    return (shift(E, shift_hi) - shift(E, shift_lo))/(2 * delta)\n",
    "\n",
    "def Dc2(E, direction):\n",
    "    assert(direction == 'x' or direction == 'y' or direction == 'z')\n",
    "    if direction == 'x':\n",
    "        shift_hi = (1, 0, 0, 0)\n",
    "        shift_lo = (-1, 0, 0, 0)\n",
    "        delta = dx*dx\n",
    "    elif direction == 'y':\n",
    "        shift_hi = (0, 1, 0, 0)\n",
    "        shift_lo = (0, -1, 0, 0)\n",
    "        delta = dy*dy\n",
    "    elif direction == 'z':\n",
    "        shift_hi = (0, 0, 1, 0)\n",
    "        shift_lo = (0, 0, -1, 0)\n",
    "        delta = dz*dz\n",
    "    return (shift(E, shift_hi) - 2*E + shift(E, shift_lo))/(delta)\n",
    "\n"
   ]
  },
  {
   "cell_type": "markdown",
   "metadata": {},
   "source": [
    "Here we define symbolic names that will be used in the equations of motion. They will be used when expanding out the equations of motion for AMReX code blocks."
   ]
  },
  {
   "cell_type": "code",
   "execution_count": 6,
   "metadata": {},
   "outputs": [],
   "source": [
    "PHI = phi[i,j,k,n]\n",
    "PHI_dx = Dc(phi[i,j,k,n],'x')\n",
    "PHI_dxx = Dc2(phi[i,j,k,n],'x')\n",
    "PHI_dy = Dc(phi[i,j,k,n],'y')\n",
    "PHI_dyy = Dc2(phi[i,j,k,n],'y')\n",
    "\n",
    "PI = pi[i,j,k,n]\n",
    "PI_dx = Dc(pi[i,j,k,n],'x')\n",
    "PI_dxx = Dc2(pi[i,j,k,n],'x')\n",
    "PI_dy = Dc(pi[i,j,k,n],'y')\n",
    "PI_dyy = Dc2(pi[i,j,k,n],'y')"
   ]
  },
  {
   "cell_type": "markdown",
   "metadata": {},
   "source": [
    "Symbolic forms of the equations of motion."
   ]
  },
  {
   "cell_type": "code",
   "execution_count": 7,
   "metadata": {},
   "outputs": [],
   "source": [
    "RHS_PHI = PI\n",
    "RHS_PI = PHI_dxx+PHI_dyy"
   ]
  },
  {
   "cell_type": "markdown",
   "metadata": {},
   "source": [
    "Here we define the AMReXcode generator that takes the RHS expressions above and returns a string of compilable code to be inserted into the AMReX time stepper."
   ]
  },
  {
   "cell_type": "code",
   "execution_count": 16,
   "metadata": {},
   "outputs": [],
   "source": [
    "def AMReXcode(expr,varnames):\n",
    "    str_expr = str(expr)\n",
    "    for name in varnames:\n",
    "        str_expr = str_expr.replace(name,name+\"_old_fab\")\n",
    "    str_expr = str_expr.replace(\"[\",\"(\").replace(\"]\",\")\")\n",
    "    str_expr = str_expr.replace(\"dx**2\",\"(dx[0]*dx[0])\")\n",
    "    str_expr = str_expr.replace(\"dy**2\",\"(dx[1]*dx[1])\")\n",
    "    str_expr = str_expr+\";\"\n",
    "    return str_expr"
   ]
  },
  {
   "cell_type": "code",
   "execution_count": 18,
   "metadata": {},
   "outputs": [
    {
     "name": "stdout",
     "output_type": "stream",
     "text": [
      "(phi_old_fab(i, j + 1, k, n) + phi_old_fab(i, j - 1, k, n) - 2*phi_old_fab(i, j, k, n))/(dx[1]*dx[1]) + (phi_old_fab(i + 1, j, k, n) + phi_old_fab(i - 1, j, k, n) - 2*phi_old_fab(i, j, k, n))/(dx[0]*dx[0]);\n"
     ]
    }
   ],
   "source": [
    "print(AMReXcode(RHS_PI,var_names))"
   ]
  },
  {
   "cell_type": "code",
   "execution_count": null,
   "metadata": {},
   "outputs": [],
   "source": []
  }
 ],
 "metadata": {
  "kernelspec": {
   "display_name": "Python 3",
   "language": "python",
   "name": "python3"
  },
  "language_info": {
   "codemirror_mode": {
    "name": "ipython",
    "version": 3
   },
   "file_extension": ".py",
   "mimetype": "text/x-python",
   "name": "python",
   "nbconvert_exporter": "python",
   "pygments_lexer": "ipython3",
   "version": "3.6.5"
  }
 },
 "nbformat": 4,
 "nbformat_minor": 2
}
