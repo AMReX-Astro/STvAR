{
 "cells": [
  {
   "cell_type": "code",
   "execution_count": 1,
   "metadata": {},
   "outputs": [],
   "source": [
    "from FunctionSet import *\n",
    "# The NRPy_param_funcs module sets up global structures that manage free parameters within NRPy+\n",
    "import NRPy_param_funcs as par \n",
    "# The indexedexp module defines various functions for defining and managing indexed quantities like tensors and pseudotensors\n",
    "import indexedexp as ixp\n",
    "# The grid module defines various parameters related to a numerical grid or the dimensionality of indexed expressions\n",
    "# For example, it declares the parameter DIM, which specifies the dimensionality of the indexed expression\n",
    "import grid as gri\n",
    "from outputC import *\n",
    "import numpy as np\n",
    "\n",
    "import sympy as sp\n",
    "from sympy import symbols, IndexedBase, Indexed, Idx, preorder_traversal\n",
    "from sympy.matrices import *"
   ]
  },
  {
   "cell_type": "markdown",
   "metadata": {},
   "source": [
    "Declaring indexed variables"
   ]
  },
  {
   "cell_type": "code",
   "execution_count": 2,
   "metadata": {},
   "outputs": [],
   "source": [
    "Nx, Ny, Nz= symbols('Nx Ny Nz', integer=True)\n",
    "i = Idx('i', Nx)\n",
    "j = Idx('j', Ny)\n",
    "k = Idx('k', Nz)\n",
    "name = Idx('name')\n",
    "dx, dy, dz = symbols('dx dy dz')"
   ]
  },
  {
   "cell_type": "markdown",
   "metadata": {},
   "source": [
    "Declaring variable names to be replaced later in AMReX code output."
   ]
  },
  {
   "cell_type": "code",
   "execution_count": 3,
   "metadata": {},
   "outputs": [],
   "source": [
    "var_alpha = ['alpha']\n",
    "\n",
    "alpha = IndexedBase('state_fab'+var_alpha[0])[i,j,k,var_alpha[0]]\n",
    "\n",
    "var_beta = ['betax','betay','betaz']\n",
    "\n",
    "betaL = ixp.zerorank1(DIM=3)\n",
    "\n",
    "for itr in range(len(directions)):\n",
    "    betaL[itr] = IndexedBase('state_fab'+var_beta[itr])[i,j,k,var_beta[itr]]\n",
    "    \n",
    "betaL = np.array(betaL)\n",
    "\n",
    "var_gam = [['gxx','gxy','gxz'],['gyx','gyy','gyz'],['gzx','gzy','gzz']]\n",
    "\n",
    "gamLL = ixp.declarerank2('g','sym01')\n",
    "for itr1 in range(len(directions)):\n",
    "    for itr2 in range(len(directions)):\n",
    "        gamLL[itr1][itr2] = IndexedBase('state_fab'+var_gam[itr1][itr2])[i,j,k,var_gam[itr1][itr2]]\n",
    "\n",
    "gamLL = np.array(gamLL)\n",
    "\n",
    "var_gaminv = [['ginvxx','ginvxy','ginvxz'],['ginvyx','ginvyy','ginvyz'],['ginvzx','ginvzy','ginvzz']]\n",
    "        \n",
    "gamUU = ixp.declarerank2('ginv','sym01')\n",
    "for itr1 in range(len(directions)):\n",
    "    for itr2 in range(len(directions)):\n",
    "        gamUU[itr1][itr2] = IndexedBase('state_fab'+var_gaminv[itr1][itr2])[i,j,k,var_gaminv[itr1][itr2]]\n",
    "        \n",
    "gamUU = np.array(gamUU)\n",
    "\n",
    "var_K = [['Kxx','Kxy','Kxz'],['Kyx','Kyy','Kyz'],['Kzx','Kzy','Kzz'],]\n",
    "        \n",
    "KLL = ixp.declarerank2('K','sym01')\n",
    "for itr1 in range(len(directions)):\n",
    "    for itr2 in range(len(directions)):\n",
    "        KLL[itr1][itr2] = IndexedBase('state_fab'+var_K[itr1][itr2])[i,j,k,var_K[itr1][itr2]]\n",
    "\n",
    "KLL = np.array(KLL)\n",
    "\n"
   ]
  },
  {
   "cell_type": "code",
   "execution_count": 4,
   "metadata": {},
   "outputs": [],
   "source": [
    "betaU = ixp.zerorank1(3)\n",
    "for itri in range(len(directions)):\n",
    "    for itrj in range(len(directions)):\n",
    "        betaU[itri] = gamUU[itri][itrj]*betaL[itrj]"
   ]
  },
  {
   "cell_type": "markdown",
   "metadata": {},
   "source": [
    "Organizing variable names into a complete list."
   ]
  },
  {
   "cell_type": "code",
   "execution_count": 5,
   "metadata": {},
   "outputs": [
    {
     "name": "stdout",
     "output_type": "stream",
     "text": [
      "['alpha', 'betax', 'betay', 'betaz', 'gxx', 'gxy', 'gxz', 'gyx', 'gyy', 'gyz', 'gzx', 'gzy', 'gzz', 'ginvxx', 'ginvxy', 'ginvxz', 'ginvyx', 'ginvyy', 'ginvyz', 'ginvzx', 'ginvzy', 'ginvzz', 'Kxx', 'Kxy', 'Kxz', 'Kyx', 'Kyy', 'Kyz', 'Kzx', 'Kzy', 'Kzz']\n"
     ]
    }
   ],
   "source": [
    "var_names = var_beta\n",
    "for iter1 in var_gam:\n",
    "    var_names.extend(iter1)\n",
    "for iter2 in var_gaminv:\n",
    "    var_names.extend(iter2)\n",
    "for iter3 in var_K:\n",
    "    var_names.extend(iter3)\n",
    "var_names.insert(0,var_alpha[0])\n",
    "print(var_names)"
   ]
  },
  {
   "cell_type": "markdown",
   "metadata": {},
   "source": [
    "Definging Christoffel symbols."
   ]
  },
  {
   "cell_type": "code",
   "execution_count": 6,
   "metadata": {},
   "outputs": [],
   "source": [
    "DcgLLL = ixp.zerorank3(3)\n",
    "GammaULL = ixp.zerorank3(3)\n",
    "\n",
    "for itri in range(len(directions)):\n",
    "    for itrj in range(len(directions)):\n",
    "        for itrk in range(len(directions)):\n",
    "            DcgLLL[itri][itrj][itrk] = Dc(gamLL[itri][itrj],directions[itrk])\n",
    "            \n",
    "for itri in range(len(directions)):\n",
    "    for itrj in range(len(directions)):\n",
    "        for itrk in range(len(directions)):\n",
    "            for itrl in range(len(directions)):\n",
    "                GammaULL[itri][itrj][itrk] += 1/2*gamUU[itri][itrl]*(DcgLLL[itrj][itrl][itrk]+DcgLLL[itrk][itrl][itrj]-DcgLLL[itrj][itrk][itrl])"
   ]
  },
  {
   "cell_type": "markdown",
   "metadata": {},
   "source": [
    "Defining derivatives of Christoffel symbols. This will take a few seconds."
   ]
  },
  {
   "cell_type": "code",
   "execution_count": 8,
   "metadata": {},
   "outputs": [],
   "source": [
    "divGammaLULL = ixp.zerorank4(3)\n",
    "\n",
    "for itri in range(len(directions)):\n",
    "    for itrj in range(len(directions)):\n",
    "        for itrk in range(len(directions)):\n",
    "            for itrl in range(len(directions)):\n",
    "                divGammaLULL[itrl][itri][itrj][itrk] = Dc(GammaULL[itri][itrj][itrk],directions[itrl])\n",
    "    "
   ]
  },
  {
   "cell_type": "markdown",
   "metadata": {},
   "source": [
    "Defining spatial Ricci tensor."
   ]
  },
  {
   "cell_type": "code",
   "execution_count": 9,
   "metadata": {},
   "outputs": [],
   "source": [
    "RLL = ixp.zerorank2(3)\n",
    "for itri in range(len(directions)):\n",
    "    for itrj in range(len(directions)):\n",
    "        for itrk in range(len(directions)):\n",
    "            RLL[itri][itrj] += divGammaLULL[itrk][itrk][itri][itrj]-divGammaLULL[itrj][itrk][itri][itrk]\n",
    "            for itrl in range(len(directions)):\n",
    "                RLL[itri][itrj] += GammaULL[itrk][itrl][itrk]*GammaULL[itrl][itri][itrj]-GammaULL[itrk][itrl][itri]*GammaULL[itrl][itrj][itrk]"
   ]
  },
  {
   "cell_type": "code",
   "execution_count": 10,
   "metadata": {},
   "outputs": [],
   "source": [
    "DDalpha = ixp.zerorank2(3) \n",
    "for itri in range(len(directions)):\n",
    "    for itrj in range(len(directions)):\n",
    "        DDalpha[itri][itrj]= Dc(Dc(alpha,directions[itri]),directions[itrj])"
   ]
  },
  {
   "cell_type": "code",
   "execution_count": 11,
   "metadata": {},
   "outputs": [],
   "source": [
    "TrK = 0\n",
    "for itri in range(len(directions)):\n",
    "    for itrj in range(len(directions)):\n",
    "        TrK += gamUU[itri][itrj]*KLL[itri][itrj]"
   ]
  },
  {
   "cell_type": "code",
   "execution_count": 12,
   "metadata": {},
   "outputs": [],
   "source": [
    "RHS_KLL = ixp.zerorank2(3)\n",
    "KKLL= ixp.zerorank2(3)\n",
    "for itri in range(len(directions)):\n",
    "    for itrj in range(len(directions)):\n",
    "        for itrk in range(len(directions)):\n",
    "            for itrl in range(len(directions)):\n",
    "                KKLL[itri][itrj] = KLL[itri][itrk]*gamUU[itrk][itrl]*KLL[itrl][itrj]\n",
    "for itri in range(len(directions)):\n",
    "    for itrj in range(len(directions)):\n",
    "        RHS_KLL[itri][itrj] += alpha*(RLL[itri][itrj]-2*KKLL[itri][itrj]+TrK*KLL[itri][itrj])-DDalpha[itri][itrj]\n",
    "        for itrk in range(len(directions)):\n",
    "            RHS_KLL[itri][itrj] += betaU[itrk]*Dc(KLL[itri][itrj],directions[0])+KLL[itri][itrk]*Dc(betaU[itrk],directions[itrj])+KLL[itrk][itrj]*Dc(betaU[itrk],directions[itri])\n",
    "            "
   ]
  },
  {
   "cell_type": "markdown",
   "metadata": {},
   "source": [
    "One of six examples of AMReXcode output for K_ij."
   ]
  },
  {
   "cell_type": "code",
   "execution_count": 13,
   "metadata": {
    "scrolled": false
   },
   "outputs": [
    {
     "data": {
      "text/plain": [
       "'rhs_fab(i, j, k, Idx::Kxy) = (0.5*(-(-state_fab(i, j - 1, k, Idx::gxx) + state_fab(i, j + 1, k, Idx::gxx))/(2*dx[1]) + (-state_fab(i - 1, j, k, Idx::gxy) + state_fab(i + 1, j, k, Idx::gxy))/dx[0])*state_fab(i, j, k, Idx::ginvxy) + 0.5*(-(-state_fab(i, j, k - 1, Idx::gxx) + state_fab(i, j, k + 1, Idx::gxx))/(2*dx[2]) + (-state_fab(i - 1, j, k, Idx::gxz) + state_fab(i + 1, j, k, Idx::gxz))/dx[0])*state_fab(i, j, k, Idx::ginvxz) + 0.25*(-state_fab(i - 1, j, k, Idx::gxx) + state_fab(i + 1, j, k, Idx::gxx))*state_fab(i, j, k, Idx::ginvxx)/dx[0])*(0.5*((-state_fab(i, j - 1, k, Idx::gxx) + state_fab(i, j + 1, k, Idx::gxx))/(2*dx[1]) - (-state_fab(i - 1, j, k, Idx::gxy) + state_fab(i + 1, j, k, Idx::gxy))/(2*dx[0]) + (-state_fab(i - 1, j, k, Idx::gyx) + state_fab(i + 1, j, k, Idx::gyx))/(2*dx[0]))*state_fab(i, j, k, Idx::ginvxx) + 0.5*(-(-state_fab(i, j, k - 1, Idx::gxy) + state_fab(i, j, k + 1, Idx::gxy))/(2*dx[2]) + (-state_fab(i, j - 1, k, Idx::gxz) + state_fab(i, j + 1, k, Idx::gxz))/(2*dx[1]) + (-state_fab(i - 1, j, k, Idx::gyz) + state_fab(i + 1, j, k, Idx::gyz))/(2*dx[0]))*state_fab(i, j, k, Idx::ginvxz) + 0.25*(-state_fab(i - 1, j, k, Idx::gyy) + state_fab(i + 1, j, k, Idx::gyy))*state_fab(i, j, k, Idx::ginvxy)/dx[0]) - (0.5*(-(-state_fab(i, j - 1, k, Idx::gxx) + state_fab(i, j + 1, k, Idx::gxx))/(2*dx[1]) + (-state_fab(i - 1, j, k, Idx::gxy) + state_fab(i + 1, j, k, Idx::gxy))/dx[0])*state_fab(i, j, k, Idx::ginvxy) + 0.5*(-(-state_fab(i, j, k - 1, Idx::gxx) + state_fab(i, j, k + 1, Idx::gxx))/(2*dx[2]) + (-state_fab(i - 1, j, k, Idx::gxz) + state_fab(i + 1, j, k, Idx::gxz))/dx[0])*state_fab(i, j, k, Idx::ginvxz) + 0.25*(-state_fab(i - 1, j, k, Idx::gxx) + state_fab(i + 1, j, k, Idx::gxx))*state_fab(i, j, k, Idx::ginvxx)/dx[0])*(0.5*((-state_fab(i, j - 1, k, Idx::gxy) + state_fab(i, j + 1, k, Idx::gxy))/(2*dx[1]) - (-state_fab(i, j - 1, k, Idx::gyx) + state_fab(i, j + 1, k, Idx::gyx))/(2*dx[1]) + (-state_fab(i - 1, j, k, Idx::gyy) + state_fab(i + 1, j, k, Idx::gyy))/(2*dx[0]))*state_fab(i, j, k, Idx::ginvxy) + 0.5*(-(-state_fab(i, j, k - 1, Idx::gyx) + state_fab(i, j, k + 1, Idx::gyx))/(2*dx[2]) + (-state_fab(i, j - 1, k, Idx::gxz) + state_fab(i, j + 1, k, Idx::gxz))/(2*dx[1]) + (-state_fab(i - 1, j, k, Idx::gyz) + state_fab(i + 1, j, k, Idx::gyz))/(2*dx[0]))*state_fab(i, j, k, Idx::ginvxz) + 0.25*(-state_fab(i, j - 1, k, Idx::gxx) + state_fab(i, j + 1, k, Idx::gxx))*state_fab(i, j, k, Idx::ginvxx)/dx[1]) - (0.5*(-(-state_fab(i, j - 1, k, Idx::gxx) + state_fab(i, j + 1, k, Idx::gxx))/(2*dx[1]) + (-state_fab(i - 1, j, k, Idx::gxy) + state_fab(i + 1, j, k, Idx::gxy))/dx[0])*state_fab(i, j, k, Idx::ginvyy) + 0.5*(-(-state_fab(i, j, k - 1, Idx::gxx) + state_fab(i, j, k + 1, Idx::gxx))/(2*dx[2]) + (-state_fab(i - 1, j, k, Idx::gxz) + state_fab(i + 1, j, k, Idx::gxz))/dx[0])*state_fab(i, j, k, Idx::ginvyz) + 0.25*(-state_fab(i - 1, j, k, Idx::gxx) + state_fab(i + 1, j, k, Idx::gxx))*state_fab(i, j, k, Idx::ginvyx)/dx[0])*(0.5*((-state_fab(i, j - 1, k, Idx::gyx) + state_fab(i, j + 1, k, Idx::gyx))/dx[1] - (-state_fab(i - 1, j, k, Idx::gyy) + state_fab(i + 1, j, k, Idx::gyy))/(2*dx[0]))*state_fab(i, j, k, Idx::ginvxx) + 0.5*(-(-state_fab(i, j, k - 1, Idx::gyy) + state_fab(i, j, k + 1, Idx::gyy))/(2*dx[2]) + (-state_fab(i, j - 1, k, Idx::gyz) + state_fab(i, j + 1, k, Idx::gyz))/dx[1])*state_fab(i, j, k, Idx::ginvxz) + 0.25*(-state_fab(i, j - 1, k, Idx::gyy) + state_fab(i, j + 1, k, Idx::gyy))*state_fab(i, j, k, Idx::ginvxy)/dx[1]) - (0.5*(-(-state_fab(i, j - 1, k, Idx::gxx) + state_fab(i, j + 1, k, Idx::gxx))/(2*dx[1]) + (-state_fab(i - 1, j, k, Idx::gxy) + state_fab(i + 1, j, k, Idx::gxy))/dx[0])*state_fab(i, j, k, Idx::ginvzy) + 0.5*(-(-state_fab(i, j, k - 1, Idx::gxx) + state_fab(i, j, k + 1, Idx::gxx))/(2*dx[2]) + (-state_fab(i - 1, j, k, Idx::gxz) + state_fab(i + 1, j, k, Idx::gxz))/dx[0])*state_fab(i, j, k, Idx::ginvzz) + 0.25*(-state_fab(i - 1, j, k, Idx::gxx) + state_fab(i + 1, j, k, Idx::gxx))*state_fab(i, j, k, Idx::ginvzx)/dx[0])*(0.5*((-state_fab(i, j, k - 1, Idx::gyx) + state_fab(i, j, k + 1, Idx::gyx))/(2*dx[2]) + (-state_fab(i, j - 1, k, Idx::gzx) + state_fab(i, j + 1, k, Idx::gzx))/(2*dx[1]) - (-state_fab(i - 1, j, k, Idx::gyz) + state_fab(i + 1, j, k, Idx::gyz))/(2*dx[0]))*state_fab(i, j, k, Idx::ginvxx) + 0.5*((-state_fab(i, j, k - 1, Idx::gyy) + state_fab(i, j, k + 1, Idx::gyy))/(2*dx[2]) - (-state_fab(i, j - 1, k, Idx::gyz) + state_fab(i, j + 1, k, Idx::gyz))/(2*dx[1]) + (-state_fab(i, j - 1, k, Idx::gzy) + state_fab(i, j + 1, k, Idx::gzy))/(2*dx[1]))*state_fab(i, j, k, Idx::ginvxy) + 0.25*(-state_fab(i, j - 1, k, Idx::gzz) + state_fab(i, j + 1, k, Idx::gzz))*state_fab(i, j, k, Idx::ginvxz)/dx[1]) + (0.5*((-state_fab(i, j - 1, k, Idx::gyx) + state_fab(i, j + 1, k, Idx::gyx))/dx[1] - (-state_fab(i - 1, j, k, Idx::gyy) + state_fab(i + 1, j, k, Idx::gyy))/(2*dx[0]))*state_fab(i, j, k, Idx::ginvyx) + 0.5*(-(-state_fab(i, j, k - 1, Idx::gyy) + state_fab(i, j, k + 1, Idx::gyy))/(2*dx[2]) + (-state_fab(i, j - 1, k, Idx::gyz) + state_fab(i, j + 1, k, Idx::gyz))/dx[1])*state_fab(i, j, k, Idx::ginvyz) + 0.25*(-state_fab(i, j - 1, k, Idx::gyy) + state_fab(i, j + 1, k, Idx::gyy))*state_fab(i, j, k, Idx::ginvyy)/dx[1])*(0.5*((-state_fab(i, j - 1, k, Idx::gxx) + state_fab(i, j + 1, k, Idx::gxx))/(2*dx[1]) - (-state_fab(i - 1, j, k, Idx::gxy) + state_fab(i + 1, j, k, Idx::gxy))/(2*dx[0]) + (-state_fab(i - 1, j, k, Idx::gyx) + state_fab(i + 1, j, k, Idx::gyx))/(2*dx[0]))*state_fab(i, j, k, Idx::ginvyx) + 0.5*(-(-state_fab(i, j, k - 1, Idx::gxy) + state_fab(i, j, k + 1, Idx::gxy))/(2*dx[2]) + (-state_fab(i, j - 1, k, Idx::gxz) + state_fab(i, j + 1, k, Idx::gxz))/(2*dx[1]) + (-state_fab(i - 1, j, k, Idx::gyz) + state_fab(i + 1, j, k, Idx::gyz))/(2*dx[0]))*state_fab(i, j, k, Idx::ginvyz) + 0.25*(-state_fab(i - 1, j, k, Idx::gyy) + state_fab(i + 1, j, k, Idx::gyy))*state_fab(i, j, k, Idx::ginvyy)/dx[0]) - (0.5*((-state_fab(i, j - 1, k, Idx::gyx) + state_fab(i, j + 1, k, Idx::gyx))/dx[1] - (-state_fab(i - 1, j, k, Idx::gyy) + state_fab(i + 1, j, k, Idx::gyy))/(2*dx[0]))*state_fab(i, j, k, Idx::ginvyx) + 0.5*(-(-state_fab(i, j, k - 1, Idx::gyy) + state_fab(i, j, k + 1, Idx::gyy))/(2*dx[2]) + (-state_fab(i, j - 1, k, Idx::gyz) + state_fab(i, j + 1, k, Idx::gyz))/dx[1])*state_fab(i, j, k, Idx::ginvyz) + 0.25*(-state_fab(i, j - 1, k, Idx::gyy) + state_fab(i, j + 1, k, Idx::gyy))*state_fab(i, j, k, Idx::ginvyy)/dx[1])*(0.5*((-state_fab(i, j - 1, k, Idx::gxy) + state_fab(i, j + 1, k, Idx::gxy))/(2*dx[1]) - (-state_fab(i, j - 1, k, Idx::gyx) + state_fab(i, j + 1, k, Idx::gyx))/(2*dx[1]) + (-state_fab(i - 1, j, k, Idx::gyy) + state_fab(i + 1, j, k, Idx::gyy))/(2*dx[0]))*state_fab(i, j, k, Idx::ginvyy) + 0.5*(-(-state_fab(i, j, k - 1, Idx::gyx) + state_fab(i, j, k + 1, Idx::gyx))/(2*dx[2]) + (-state_fab(i, j - 1, k, Idx::gxz) + state_fab(i, j + 1, k, Idx::gxz))/(2*dx[1]) + (-state_fab(i - 1, j, k, Idx::gyz) + state_fab(i + 1, j, k, Idx::gyz))/(2*dx[0]))*state_fab(i, j, k, Idx::ginvyz) + 0.25*(-state_fab(i, j - 1, k, Idx::gxx) + state_fab(i, j + 1, k, Idx::gxx))*state_fab(i, j, k, Idx::ginvyx)/dx[1]) - (0.5*((-state_fab(i, j - 1, k, Idx::gyx) + state_fab(i, j + 1, k, Idx::gyx))/dx[1] - (-state_fab(i - 1, j, k, Idx::gyy) + state_fab(i + 1, j, k, Idx::gyy))/(2*dx[0]))*state_fab(i, j, k, Idx::ginvzx) + 0.5*(-(-state_fab(i, j, k - 1, Idx::gyy) + state_fab(i, j, k + 1, Idx::gyy))/(2*dx[2]) + (-state_fab(i, j - 1, k, Idx::gyz) + state_fab(i, j + 1, k, Idx::gyz))/dx[1])*state_fab(i, j, k, Idx::ginvzz) + 0.25*(-state_fab(i, j - 1, k, Idx::gyy) + state_fab(i, j + 1, k, Idx::gyy))*state_fab(i, j, k, Idx::ginvzy)/dx[1])*(0.5*((-state_fab(i, j, k - 1, Idx::gxy) + state_fab(i, j, k + 1, Idx::gxy))/(2*dx[2]) - (-state_fab(i, j - 1, k, Idx::gzx) + state_fab(i, j + 1, k, Idx::gzx))/(2*dx[1]) + (-state_fab(i - 1, j, k, Idx::gzy) + state_fab(i + 1, j, k, Idx::gzy))/(2*dx[0]))*state_fab(i, j, k, Idx::ginvyy) + 0.5*((-state_fab(i, j, k - 1, Idx::gxz) + state_fab(i, j, k + 1, Idx::gxz))/(2*dx[2]) - (-state_fab(i, j, k - 1, Idx::gzx) + state_fab(i, j, k + 1, Idx::gzx))/(2*dx[2]) + (-state_fab(i - 1, j, k, Idx::gzz) + state_fab(i + 1, j, k, Idx::gzz))/(2*dx[0]))*state_fab(i, j, k, Idx::ginvyz) + 0.25*(-state_fab(i, j, k - 1, Idx::gxx) + state_fab(i, j, k + 1, Idx::gxx))*state_fab(i, j, k, Idx::ginvyx)/dx[2]) + (0.5*((-state_fab(i, j, k - 1, Idx::gzx) + state_fab(i, j, k + 1, Idx::gzx))/dx[2] - (-state_fab(i - 1, j, k, Idx::gzz) + state_fab(i + 1, j, k, Idx::gzz))/(2*dx[0]))*state_fab(i, j, k, Idx::ginvzx) + 0.5*((-state_fab(i, j, k - 1, Idx::gzy) + state_fab(i, j, k + 1, Idx::gzy))/dx[2] - (-state_fab(i, j - 1, k, Idx::gzz) + state_fab(i, j + 1, k, Idx::gzz))/(2*dx[1]))*state_fab(i, j, k, Idx::ginvzy) + 0.25*(-state_fab(i, j, k - 1, Idx::gzz) + state_fab(i, j, k + 1, Idx::gzz))*state_fab(i, j, k, Idx::ginvzz)/dx[2])*(0.5*((-state_fab(i, j - 1, k, Idx::gxx) + state_fab(i, j + 1, k, Idx::gxx))/(2*dx[1]) - (-state_fab(i - 1, j, k, Idx::gxy) + state_fab(i + 1, j, k, Idx::gxy))/(2*dx[0]) + (-state_fab(i - 1, j, k, Idx::gyx) + state_fab(i + 1, j, k, Idx::gyx))/(2*dx[0]))*state_fab(i, j, k, Idx::ginvzx) + 0.5*(-(-state_fab(i, j, k - 1, Idx::gxy) + state_fab(i, j, k + 1, Idx::gxy))/(2*dx[2]) + (-state_fab(i, j - 1, k, Idx::gxz) + state_fab(i, j + 1, k, Idx::gxz))/(2*dx[1]) + (-state_fab(i - 1, j, k, Idx::gyz) + state_fab(i + 1, j, k, Idx::gyz))/(2*dx[0]))*state_fab(i, j, k, Idx::ginvzz) + 0.25*(-state_fab(i - 1, j, k, Idx::gyy) + state_fab(i + 1, j, k, Idx::gyy))*state_fab(i, j, k, Idx::ginvzy)/dx[0]) + (0.5*((-state_fab(i, j - 1, k, Idx::gxx) + state_fab(i, j + 1, k, Idx::gxx))/(2*dx[1]) - (-state_fab(i - 1, j, k, Idx::gxy) + state_fab(i + 1, j, k, Idx::gxy))/(2*dx[0]) + (-state_fab(i - 1, j, k, Idx::gyx) + state_fab(i + 1, j, k, Idx::gyx))/(2*dx[0]))*state_fab(i, j, k, Idx::ginvxx) + 0.5*(-(-state_fab(i, j, k - 1, Idx::gxy) + state_fab(i, j, k + 1, Idx::gxy))/(2*dx[2]) + (-state_fab(i, j - 1, k, Idx::gxz) + state_fab(i, j + 1, k, Idx::gxz))/(2*dx[1]) + (-state_fab(i - 1, j, k, Idx::gyz) + state_fab(i + 1, j, k, Idx::gyz))/(2*dx[0]))*state_fab(i, j, k, Idx::ginvxz) + 0.25*(-state_fab(i - 1, j, k, Idx::gyy) + state_fab(i + 1, j, k, Idx::gyy))*state_fab(i, j, k, Idx::ginvxy)/dx[0])*(0.5*((-state_fab(i, j - 1, k, Idx::gxx) + state_fab(i, j + 1, k, Idx::gxx))/(2*dx[1]) - (-state_fab(i - 1, j, k, Idx::gxy) + state_fab(i + 1, j, k, Idx::gxy))/(2*dx[0]) + (-state_fab(i - 1, j, k, Idx::gyx) + state_fab(i + 1, j, k, Idx::gyx))/(2*dx[0]))*state_fab(i, j, k, Idx::ginvyx) + 0.5*(-(-state_fab(i, j, k - 1, Idx::gxy) + state_fab(i, j, k + 1, Idx::gxy))/(2*dx[2]) + (-state_fab(i, j - 1, k, Idx::gxz) + state_fab(i, j + 1, k, Idx::gxz))/(2*dx[1]) + (-state_fab(i - 1, j, k, Idx::gyz) + state_fab(i + 1, j, k, Idx::gyz))/(2*dx[0]))*state_fab(i, j, k, Idx::ginvyz) + 0.25*(-state_fab(i - 1, j, k, Idx::gyy) + state_fab(i + 1, j, k, Idx::gyy))*state_fab(i, j, k, Idx::ginvyy)/dx[0]) + (0.5*((-state_fab(i, j - 1, k, Idx::gxx) + state_fab(i, j + 1, k, Idx::gxx))/(2*dx[1]) - (-state_fab(i - 1, j, k, Idx::gxy) + state_fab(i + 1, j, k, Idx::gxy))/(2*dx[0]) + (-state_fab(i - 1, j, k, Idx::gyx) + state_fab(i + 1, j, k, Idx::gyx))/(2*dx[0]))*state_fab(i, j, k, Idx::ginvxx) + 0.5*(-(-state_fab(i, j, k - 1, Idx::gxy) + state_fab(i, j, k + 1, Idx::gxy))/(2*dx[2]) + (-state_fab(i, j - 1, k, Idx::gxz) + state_fab(i, j + 1, k, Idx::gxz))/(2*dx[1]) + (-state_fab(i - 1, j, k, Idx::gyz) + state_fab(i + 1, j, k, Idx::gyz))/(2*dx[0]))*state_fab(i, j, k, Idx::ginvxz) + 0.25*(-state_fab(i - 1, j, k, Idx::gyy) + state_fab(i + 1, j, k, Idx::gyy))*state_fab(i, j, k, Idx::ginvxy)/dx[0])*(0.5*((-state_fab(i, j, k - 1, Idx::gxx) + state_fab(i, j, k + 1, Idx::gxx))/(2*dx[2]) - (-state_fab(i - 1, j, k, Idx::gxz) + state_fab(i + 1, j, k, Idx::gxz))/(2*dx[0]) + (-state_fab(i - 1, j, k, Idx::gzx) + state_fab(i + 1, j, k, Idx::gzx))/(2*dx[0]))*state_fab(i, j, k, Idx::ginvzx) + 0.5*((-state_fab(i, j, k - 1, Idx::gxy) + state_fab(i, j, k + 1, Idx::gxy))/(2*dx[2]) - (-state_fab(i, j - 1, k, Idx::gxz) + state_fab(i, j + 1, k, Idx::gxz))/(2*dx[1]) + (-state_fab(i - 1, j, k, Idx::gzy) + state_fab(i + 1, j, k, Idx::gzy))/(2*dx[0]))*state_fab(i, j, k, Idx::ginvzy) + 0.25*(-state_fab(i - 1, j, k, Idx::gzz) + state_fab(i + 1, j, k, Idx::gzz))*state_fab(i, j, k, Idx::ginvzz)/dx[0]) + (0.5*((-state_fab(i, j - 1, k, Idx::gxx) + state_fab(i, j + 1, k, Idx::gxx))/(2*dx[1]) - (-state_fab(i - 1, j, k, Idx::gxy) + state_fab(i + 1, j, k, Idx::gxy))/(2*dx[0]) + (-state_fab(i - 1, j, k, Idx::gyx) + state_fab(i + 1, j, k, Idx::gyx))/(2*dx[0]))*state_fab(i, j, k, Idx::ginvyx) + 0.5*(-(-state_fab(i, j, k - 1, Idx::gxy) + state_fab(i, j, k + 1, Idx::gxy))/(2*dx[2]) + (-state_fab(i, j - 1, k, Idx::gxz) + state_fab(i, j + 1, k, Idx::gxz))/(2*dx[1]) + (-state_fab(i - 1, j, k, Idx::gyz) + state_fab(i + 1, j, k, Idx::gyz))/(2*dx[0]))*state_fab(i, j, k, Idx::ginvyz) + 0.25*(-state_fab(i - 1, j, k, Idx::gyy) + state_fab(i + 1, j, k, Idx::gyy))*state_fab(i, j, k, Idx::ginvyy)/dx[0])*(0.5*((-state_fab(i, j - 1, k, Idx::gxy) + state_fab(i, j + 1, k, Idx::gxy))/(2*dx[1]) - (-state_fab(i, j - 1, k, Idx::gyx) + state_fab(i, j + 1, k, Idx::gyx))/(2*dx[1]) + (-state_fab(i - 1, j, k, Idx::gyy) + state_fab(i + 1, j, k, Idx::gyy))/(2*dx[0]))*state_fab(i, j, k, Idx::ginvxy) + 0.5*(-(-state_fab(i, j, k - 1, Idx::gyx) + state_fab(i, j, k + 1, Idx::gyx))/(2*dx[2]) + (-state_fab(i, j - 1, k, Idx::gxz) + state_fab(i, j + 1, k, Idx::gxz))/(2*dx[1]) + (-state_fab(i - 1, j, k, Idx::gyz) + state_fab(i + 1, j, k, Idx::gyz))/(2*dx[0]))*state_fab(i, j, k, Idx::ginvxz) + 0.25*(-state_fab(i, j - 1, k, Idx::gxx) + state_fab(i, j + 1, k, Idx::gxx))*state_fab(i, j, k, Idx::ginvxx)/dx[1]) + (0.5*((-state_fab(i, j - 1, k, Idx::gxx) + state_fab(i, j + 1, k, Idx::gxx))/(2*dx[1]) - (-state_fab(i - 1, j, k, Idx::gxy) + state_fab(i + 1, j, k, Idx::gxy))/(2*dx[0]) + (-state_fab(i - 1, j, k, Idx::gyx) + state_fab(i + 1, j, k, Idx::gyx))/(2*dx[0]))*state_fab(i, j, k, Idx::ginvyx) + 0.5*(-(-state_fab(i, j, k - 1, Idx::gxy) + state_fab(i, j, k + 1, Idx::gxy))/(2*dx[2]) + (-state_fab(i, j - 1, k, Idx::gxz) + state_fab(i, j + 1, k, Idx::gxz))/(2*dx[1]) + (-state_fab(i - 1, j, k, Idx::gyz) + state_fab(i + 1, j, k, Idx::gyz))/(2*dx[0]))*state_fab(i, j, k, Idx::ginvyz) + 0.25*(-state_fab(i - 1, j, k, Idx::gyy) + state_fab(i + 1, j, k, Idx::gyy))*state_fab(i, j, k, Idx::ginvyy)/dx[0])*(0.5*((-state_fab(i, j, k - 1, Idx::gyx) + state_fab(i, j, k + 1, Idx::gyx))/(2*dx[2]) + (-state_fab(i, j - 1, k, Idx::gzx) + state_fab(i, j + 1, k, Idx::gzx))/(2*dx[1]) - (-state_fab(i - 1, j, k, Idx::gyz) + state_fab(i + 1, j, k, Idx::gyz))/(2*dx[0]))*state_fab(i, j, k, Idx::ginvzx) + 0.5*((-state_fab(i, j, k - 1, Idx::gyy) + state_fab(i, j, k + 1, Idx::gyy))/(2*dx[2]) - (-state_fab(i, j - 1, k, Idx::gyz) + state_fab(i, j + 1, k, Idx::gyz))/(2*dx[1]) + (-state_fab(i, j - 1, k, Idx::gzy) + state_fab(i, j + 1, k, Idx::gzy))/(2*dx[1]))*state_fab(i, j, k, Idx::ginvzy) + 0.25*(-state_fab(i, j - 1, k, Idx::gzz) + state_fab(i, j + 1, k, Idx::gzz))*state_fab(i, j, k, Idx::ginvzz)/dx[1]) + (0.5*((-state_fab(i, j - 1, k, Idx::gxx) + state_fab(i, j + 1, k, Idx::gxx))/(2*dx[1]) - (-state_fab(i - 1, j, k, Idx::gxy) + state_fab(i + 1, j, k, Idx::gxy))/(2*dx[0]) + (-state_fab(i - 1, j, k, Idx::gyx) + state_fab(i + 1, j, k, Idx::gyx))/(2*dx[0]))*state_fab(i, j, k, Idx::ginvzx) + 0.5*(-(-state_fab(i, j, k - 1, Idx::gxy) + state_fab(i, j, k + 1, Idx::gxy))/(2*dx[2]) + (-state_fab(i, j - 1, k, Idx::gxz) + state_fab(i, j + 1, k, Idx::gxz))/(2*dx[1]) + (-state_fab(i - 1, j, k, Idx::gyz) + state_fab(i + 1, j, k, Idx::gyz))/(2*dx[0]))*state_fab(i, j, k, Idx::ginvzz) + 0.25*(-state_fab(i - 1, j, k, Idx::gyy) + state_fab(i + 1, j, k, Idx::gyy))*state_fab(i, j, k, Idx::ginvzy)/dx[0])*(0.5*((-state_fab(i, j, k - 1, Idx::gxy) + state_fab(i, j, k + 1, Idx::gxy))/(2*dx[2]) - (-state_fab(i, j - 1, k, Idx::gzx) + state_fab(i, j + 1, k, Idx::gzx))/(2*dx[1]) + (-state_fab(i - 1, j, k, Idx::gzy) + state_fab(i + 1, j, k, Idx::gzy))/(2*dx[0]))*state_fab(i, j, k, Idx::ginvxy) + 0.5*((-state_fab(i, j, k - 1, Idx::gxz) + state_fab(i, j, k + 1, Idx::gxz))/(2*dx[2]) - (-state_fab(i, j, k - 1, Idx::gzx) + state_fab(i, j, k + 1, Idx::gzx))/(2*dx[2]) + (-state_fab(i - 1, j, k, Idx::gzz) + state_fab(i + 1, j, k, Idx::gzz))/(2*dx[0]))*state_fab(i, j, k, Idx::ginvxz) + 0.25*(-state_fab(i, j, k - 1, Idx::gxx) + state_fab(i, j, k + 1, Idx::gxx))*state_fab(i, j, k, Idx::ginvxx)/dx[2]) + (0.5*((-state_fab(i, j - 1, k, Idx::gxx) + state_fab(i, j + 1, k, Idx::gxx))/(2*dx[1]) - (-state_fab(i - 1, j, k, Idx::gxy) + state_fab(i + 1, j, k, Idx::gxy))/(2*dx[0]) + (-state_fab(i - 1, j, k, Idx::gyx) + state_fab(i + 1, j, k, Idx::gyx))/(2*dx[0]))*state_fab(i, j, k, Idx::ginvzx) + 0.5*(-(-state_fab(i, j, k - 1, Idx::gxy) + state_fab(i, j, k + 1, Idx::gxy))/(2*dx[2]) + (-state_fab(i, j - 1, k, Idx::gxz) + state_fab(i, j + 1, k, Idx::gxz))/(2*dx[1]) + (-state_fab(i - 1, j, k, Idx::gyz) + state_fab(i + 1, j, k, Idx::gyz))/(2*dx[0]))*state_fab(i, j, k, Idx::ginvzz) + 0.25*(-state_fab(i - 1, j, k, Idx::gyy) + state_fab(i + 1, j, k, Idx::gyy))*state_fab(i, j, k, Idx::ginvzy)/dx[0])*(0.5*((-state_fab(i, j, k - 1, Idx::gyx) + state_fab(i, j, k + 1, Idx::gyx))/(2*dx[2]) + (-state_fab(i, j - 1, k, Idx::gzx) + state_fab(i, j + 1, k, Idx::gzx))/(2*dx[1]) - (-state_fab(i - 1, j, k, Idx::gzy) + state_fab(i + 1, j, k, Idx::gzy))/(2*dx[0]))*state_fab(i, j, k, Idx::ginvyx) + 0.5*((-state_fab(i, j, k - 1, Idx::gyz) + state_fab(i, j, k + 1, Idx::gyz))/(2*dx[2]) - (-state_fab(i, j, k - 1, Idx::gzy) + state_fab(i, j, k + 1, Idx::gzy))/(2*dx[2]) + (-state_fab(i, j - 1, k, Idx::gzz) + state_fab(i, j + 1, k, Idx::gzz))/(2*dx[1]))*state_fab(i, j, k, Idx::ginvyz) + 0.25*(-state_fab(i, j, k - 1, Idx::gyy) + state_fab(i, j, k + 1, Idx::gyy))*state_fab(i, j, k, Idx::ginvyy)/dx[2]) - (0.5*((-state_fab(i, j - 1, k, Idx::gxy) + state_fab(i, j + 1, k, Idx::gxy))/(2*dx[1]) - (-state_fab(i, j - 1, k, Idx::gyx) + state_fab(i, j + 1, k, Idx::gyx))/(2*dx[1]) + (-state_fab(i - 1, j, k, Idx::gyy) + state_fab(i + 1, j, k, Idx::gyy))/(2*dx[0]))*state_fab(i, j, k, Idx::ginvxy) + 0.5*(-(-state_fab(i, j, k - 1, Idx::gyx) + state_fab(i, j, k + 1, Idx::gyx))/(2*dx[2]) + (-state_fab(i, j - 1, k, Idx::gxz) + state_fab(i, j + 1, k, Idx::gxz))/(2*dx[1]) + (-state_fab(i - 1, j, k, Idx::gyz) + state_fab(i + 1, j, k, Idx::gyz))/(2*dx[0]))*state_fab(i, j, k, Idx::ginvxz) + 0.25*(-state_fab(i, j - 1, k, Idx::gxx) + state_fab(i, j + 1, k, Idx::gxx))*state_fab(i, j, k, Idx::ginvxx)/dx[1])*(0.5*((-state_fab(i, j - 1, k, Idx::gxy) + state_fab(i, j + 1, k, Idx::gxy))/(2*dx[1]) - (-state_fab(i, j - 1, k, Idx::gyx) + state_fab(i, j + 1, k, Idx::gyx))/(2*dx[1]) + (-state_fab(i - 1, j, k, Idx::gyy) + state_fab(i + 1, j, k, Idx::gyy))/(2*dx[0]))*state_fab(i, j, k, Idx::ginvyy) + 0.5*(-(-state_fab(i, j, k - 1, Idx::gyx) + state_fab(i, j, k + 1, Idx::gyx))/(2*dx[2]) + (-state_fab(i, j - 1, k, Idx::gxz) + state_fab(i, j + 1, k, Idx::gxz))/(2*dx[1]) + (-state_fab(i - 1, j, k, Idx::gyz) + state_fab(i + 1, j, k, Idx::gyz))/(2*dx[0]))*state_fab(i, j, k, Idx::ginvyz) + 0.25*(-state_fab(i, j - 1, k, Idx::gxx) + state_fab(i, j + 1, k, Idx::gxx))*state_fab(i, j, k, Idx::ginvyx)/dx[1]) - (0.5*((-state_fab(i, j - 1, k, Idx::gxy) + state_fab(i, j + 1, k, Idx::gxy))/(2*dx[1]) - (-state_fab(i, j - 1, k, Idx::gyx) + state_fab(i, j + 1, k, Idx::gyx))/(2*dx[1]) + (-state_fab(i - 1, j, k, Idx::gyy) + state_fab(i + 1, j, k, Idx::gyy))/(2*dx[0]))*state_fab(i, j, k, Idx::ginvzy) + 0.5*(-(-state_fab(i, j, k - 1, Idx::gyx) + state_fab(i, j, k + 1, Idx::gyx))/(2*dx[2]) + (-state_fab(i, j - 1, k, Idx::gxz) + state_fab(i, j + 1, k, Idx::gxz))/(2*dx[1]) + (-state_fab(i - 1, j, k, Idx::gyz) + state_fab(i + 1, j, k, Idx::gyz))/(2*dx[0]))*state_fab(i, j, k, Idx::ginvzz) + 0.25*(-state_fab(i, j - 1, k, Idx::gxx) + state_fab(i, j + 1, k, Idx::gxx))*state_fab(i, j, k, Idx::ginvzx)/dx[1])*(0.5*((-state_fab(i, j, k - 1, Idx::gxy) + state_fab(i, j, k + 1, Idx::gxy))/(2*dx[2]) - (-state_fab(i, j - 1, k, Idx::gzx) + state_fab(i, j + 1, k, Idx::gzx))/(2*dx[1]) + (-state_fab(i - 1, j, k, Idx::gzy) + state_fab(i + 1, j, k, Idx::gzy))/(2*dx[0]))*state_fab(i, j, k, Idx::ginvxy) + 0.5*((-state_fab(i, j, k - 1, Idx::gxz) + state_fab(i, j, k + 1, Idx::gxz))/(2*dx[2]) - (-state_fab(i, j, k - 1, Idx::gzx) + state_fab(i, j, k + 1, Idx::gzx))/(2*dx[2]) + (-state_fab(i - 1, j, k, Idx::gzz) + state_fab(i + 1, j, k, Idx::gzz))/(2*dx[0]))*state_fab(i, j, k, Idx::ginvxz) + 0.25*(-state_fab(i, j, k - 1, Idx::gxx) + state_fab(i, j, k + 1, Idx::gxx))*state_fab(i, j, k, Idx::ginvxx)/dx[2]) - (0.5*((-state_fab(i, j - 1, k, Idx::gxy) + state_fab(i, j + 1, k, Idx::gxy))/(2*dx[1]) - (-state_fab(i, j - 1, k, Idx::gyx) + state_fab(i, j + 1, k, Idx::gyx))/(2*dx[1]) + (-state_fab(i - 1, j, k, Idx::gyy) + state_fab(i + 1, j, k, Idx::gyy))/(2*dx[0]))*state_fab(i, j, k, Idx::ginvzy) + 0.5*(-(-state_fab(i, j, k - 1, Idx::gyx) + state_fab(i, j, k + 1, Idx::gyx))/(2*dx[2]) + (-state_fab(i, j - 1, k, Idx::gxz) + state_fab(i, j + 1, k, Idx::gxz))/(2*dx[1]) + (-state_fab(i - 1, j, k, Idx::gyz) + state_fab(i + 1, j, k, Idx::gyz))/(2*dx[0]))*state_fab(i, j, k, Idx::ginvzz) + 0.25*(-state_fab(i, j - 1, k, Idx::gxx) + state_fab(i, j + 1, k, Idx::gxx))*state_fab(i, j, k, Idx::ginvzx)/dx[1])*(0.5*((-state_fab(i, j, k - 1, Idx::gyx) + state_fab(i, j, k + 1, Idx::gyx))/(2*dx[2]) + (-state_fab(i, j - 1, k, Idx::gzx) + state_fab(i, j + 1, k, Idx::gzx))/(2*dx[1]) - (-state_fab(i - 1, j, k, Idx::gyz) + state_fab(i + 1, j, k, Idx::gyz))/(2*dx[0]))*state_fab(i, j, k, Idx::ginvyx) + 0.5*((-state_fab(i, j, k - 1, Idx::gyy) + state_fab(i, j, k + 1, Idx::gyy))/(2*dx[2]) - (-state_fab(i, j - 1, k, Idx::gyz) + state_fab(i, j + 1, k, Idx::gyz))/(2*dx[1]) + (-state_fab(i, j - 1, k, Idx::gzy) + state_fab(i, j + 1, k, Idx::gzy))/(2*dx[1]))*state_fab(i, j, k, Idx::ginvyy) + 0.25*(-state_fab(i, j - 1, k, Idx::gzz) + state_fab(i, j + 1, k, Idx::gzz))*state_fab(i, j, k, Idx::ginvyz)/dx[1]) - (0.5*((-state_fab(i, j, k - 1, Idx::gxy) + state_fab(i, j, k + 1, Idx::gxy))/(2*dx[2]) - (-state_fab(i, j - 1, k, Idx::gzx) + state_fab(i, j + 1, k, Idx::gzx))/(2*dx[1]) + (-state_fab(i - 1, j, k, Idx::gzy) + state_fab(i + 1, j, k, Idx::gzy))/(2*dx[0]))*state_fab(i, j, k, Idx::ginvzy) + 0.5*((-state_fab(i, j, k - 1, Idx::gxz) + state_fab(i, j, k + 1, Idx::gxz))/(2*dx[2]) - (-state_fab(i, j, k - 1, Idx::gzx) + state_fab(i, j, k + 1, Idx::gzx))/(2*dx[2]) + (-state_fab(i - 1, j, k, Idx::gzz) + state_fab(i + 1, j, k, Idx::gzz))/(2*dx[0]))*state_fab(i, j, k, Idx::ginvzz) + 0.25*(-state_fab(i, j, k - 1, Idx::gxx) + state_fab(i, j, k + 1, Idx::gxx))*state_fab(i, j, k, Idx::ginvzx)/dx[2])*(0.5*((-state_fab(i, j, k - 1, Idx::gyx) + state_fab(i, j, k + 1, Idx::gyx))/(2*dx[2]) + (-state_fab(i, j - 1, k, Idx::gzx) + state_fab(i, j + 1, k, Idx::gzx))/(2*dx[1]) - (-state_fab(i - 1, j, k, Idx::gyz) + state_fab(i + 1, j, k, Idx::gyz))/(2*dx[0]))*state_fab(i, j, k, Idx::ginvzx) + 0.5*((-state_fab(i, j, k - 1, Idx::gyy) + state_fab(i, j, k + 1, Idx::gyy))/(2*dx[2]) - (-state_fab(i, j - 1, k, Idx::gyz) + state_fab(i, j + 1, k, Idx::gyz))/(2*dx[1]) + (-state_fab(i, j - 1, k, Idx::gzy) + state_fab(i, j + 1, k, Idx::gzy))/(2*dx[1]))*state_fab(i, j, k, Idx::ginvzy) + 0.25*(-state_fab(i, j - 1, k, Idx::gzz) + state_fab(i, j + 1, k, Idx::gzz))*state_fab(i, j, k, Idx::ginvzz)/dx[1]) + (-0.5*((-state_fab(i, j - 1, k - 1, Idx::gxx) + state_fab(i, j + 1, k - 1, Idx::gxx))/(2*dx[1]) - (-state_fab(i - 1, j, k - 1, Idx::gxy) + state_fab(i + 1, j, k - 1, Idx::gxy))/(2*dx[0]) + (-state_fab(i - 1, j, k - 1, Idx::gyx) + state_fab(i + 1, j, k - 1, Idx::gyx))/(2*dx[0]))*state_fab(i, j, k - 1, Idx::ginvzx) + 0.5*((-state_fab(i, j - 1, k + 1, Idx::gxx) + state_fab(i, j + 1, k + 1, Idx::gxx))/(2*dx[1]) - (-state_fab(i - 1, j, k + 1, Idx::gxy) + state_fab(i + 1, j, k + 1, Idx::gxy))/(2*dx[0]) + (-state_fab(i - 1, j, k + 1, Idx::gyx) + state_fab(i + 1, j, k + 1, Idx::gyx))/(2*dx[0]))*state_fab(i, j, k + 1, Idx::ginvzx) - 0.5*(-(-state_fab(i, j, k - 2, Idx::gxy) + state_fab(i, j, k, Idx::gxy))/(2*dx[2]) + (-state_fab(i, j - 1, k - 1, Idx::gxz) + state_fab(i, j + 1, k - 1, Idx::gxz))/(2*dx[1]) + (-state_fab(i - 1, j, k - 1, Idx::gyz) + state_fab(i + 1, j, k - 1, Idx::gyz))/(2*dx[0]))*state_fab(i, j, k - 1, Idx::ginvzz) + 0.5*(-(state_fab(i, j, k + 2, Idx::gxy) - state_fab(i, j, k, Idx::gxy))/(2*dx[2]) + (-state_fab(i, j - 1, k + 1, Idx::gxz) + state_fab(i, j + 1, k + 1, Idx::gxz))/(2*dx[1]) + (-state_fab(i - 1, j, k + 1, Idx::gyz) + state_fab(i + 1, j, k + 1, Idx::gyz))/(2*dx[0]))*state_fab(i, j, k + 1, Idx::ginvzz) - 0.25*(-state_fab(i - 1, j, k - 1, Idx::gyy) + state_fab(i + 1, j, k - 1, Idx::gyy))*state_fab(i, j, k - 1, Idx::ginvzy)/dx[0] + 0.25*(-state_fab(i - 1, j, k + 1, Idx::gyy) + state_fab(i + 1, j, k + 1, Idx::gyy))*state_fab(i, j, k + 1, Idx::ginvzy)/dx[0])/(2*dx[2]) - (-0.5*(-(-state_fab(i, j - 2, k, Idx::gxx) + state_fab(i, j, k, Idx::gxx))/(2*dx[1]) + (-state_fab(i - 1, j - 1, k, Idx::gxy) + state_fab(i + 1, j - 1, k, Idx::gxy))/dx[0])*state_fab(i, j - 1, k, Idx::ginvxy) + 0.5*(-(state_fab(i, j + 2, k, Idx::gxx) - state_fab(i, j, k, Idx::gxx))/(2*dx[1]) + (-state_fab(i - 1, j + 1, k, Idx::gxy) + state_fab(i + 1, j + 1, k, Idx::gxy))/dx[0])*state_fab(i, j + 1, k, Idx::ginvxy) - 0.5*(-(-state_fab(i, j - 1, k - 1, Idx::gxx) + state_fab(i, j - 1, k + 1, Idx::gxx))/(2*dx[2]) + (-state_fab(i - 1, j - 1, k, Idx::gxz) + state_fab(i + 1, j - 1, k, Idx::gxz))/dx[0])*state_fab(i, j - 1, k, Idx::ginvxz) + 0.5*(-(-state_fab(i, j + 1, k - 1, Idx::gxx) + state_fab(i, j + 1, k + 1, Idx::gxx))/(2*dx[2]) + (-state_fab(i - 1, j + 1, k, Idx::gxz) + state_fab(i + 1, j + 1, k, Idx::gxz))/dx[0])*state_fab(i, j + 1, k, Idx::ginvxz) - 0.25*(-state_fab(i - 1, j - 1, k, Idx::gxx) + state_fab(i + 1, j - 1, k, Idx::gxx))*state_fab(i, j - 1, k, Idx::ginvxx)/dx[0] + 0.25*(-state_fab(i - 1, j + 1, k, Idx::gxx) + state_fab(i + 1, j + 1, k, Idx::gxx))*state_fab(i, j + 1, k, Idx::ginvxx)/dx[0])/(2*dx[1]) - (-0.5*((-state_fab(i, j - 1, k - 1, Idx::gxx) + state_fab(i, j - 1, k + 1, Idx::gxx))/(2*dx[2]) - (-state_fab(i - 1, j - 1, k, Idx::gxz) + state_fab(i + 1, j - 1, k, Idx::gxz))/(2*dx[0]) + (-state_fab(i - 1, j - 1, k, Idx::gzx) + state_fab(i + 1, j - 1, k, Idx::gzx))/(2*dx[0]))*state_fab(i, j - 1, k, Idx::ginvzx) + 0.5*((-state_fab(i, j + 1, k - 1, Idx::gxx) + state_fab(i, j + 1, k + 1, Idx::gxx))/(2*dx[2]) - (-state_fab(i - 1, j + 1, k, Idx::gxz) + state_fab(i + 1, j + 1, k, Idx::gxz))/(2*dx[0]) + (-state_fab(i - 1, j + 1, k, Idx::gzx) + state_fab(i + 1, j + 1, k, Idx::gzx))/(2*dx[0]))*state_fab(i, j + 1, k, Idx::ginvzx) - 0.5*((-state_fab(i, j - 1, k - 1, Idx::gxy) + state_fab(i, j - 1, k + 1, Idx::gxy))/(2*dx[2]) - (-state_fab(i, j - 2, k, Idx::gxz) + state_fab(i, j, k, Idx::gxz))/(2*dx[1]) + (-state_fab(i - 1, j - 1, k, Idx::gzy) + state_fab(i + 1, j - 1, k, Idx::gzy))/(2*dx[0]))*state_fab(i, j - 1, k, Idx::ginvzy) + 0.5*((-state_fab(i, j + 1, k - 1, Idx::gxy) + state_fab(i, j + 1, k + 1, Idx::gxy))/(2*dx[2]) - (state_fab(i, j + 2, k, Idx::gxz) - state_fab(i, j, k, Idx::gxz))/(2*dx[1]) + (-state_fab(i - 1, j + 1, k, Idx::gzy) + state_fab(i + 1, j + 1, k, Idx::gzy))/(2*dx[0]))*state_fab(i, j + 1, k, Idx::ginvzy) - 0.25*(-state_fab(i - 1, j - 1, k, Idx::gzz) + state_fab(i + 1, j - 1, k, Idx::gzz))*state_fab(i, j - 1, k, Idx::ginvzz)/dx[0] + 0.25*(-state_fab(i - 1, j + 1, k, Idx::gzz) + state_fab(i + 1, j + 1, k, Idx::gzz))*state_fab(i, j + 1, k, Idx::ginvzz)/dx[0])/(2*dx[1]) + (-0.5*((-state_fab(i - 1, j - 1, k, Idx::gxx) + state_fab(i - 1, j + 1, k, Idx::gxx))/(2*dx[1]) - (-state_fab(i - 2, j, k, Idx::gxy) + state_fab(i, j, k, Idx::gxy))/(2*dx[0]) + (-state_fab(i - 2, j, k, Idx::gyx) + state_fab(i, j, k, Idx::gyx))/(2*dx[0]))*state_fab(i - 1, j, k, Idx::ginvxx) + 0.5*((-state_fab(i + 1, j - 1, k, Idx::gxx) + state_fab(i + 1, j + 1, k, Idx::gxx))/(2*dx[1]) - (state_fab(i + 2, j, k, Idx::gxy) - state_fab(i, j, k, Idx::gxy))/(2*dx[0]) + (state_fab(i + 2, j, k, Idx::gyx) - state_fab(i, j, k, Idx::gyx))/(2*dx[0]))*state_fab(i + 1, j, k, Idx::ginvxx) - 0.5*(-(-state_fab(i - 1, j, k - 1, Idx::gxy) + state_fab(i - 1, j, k + 1, Idx::gxy))/(2*dx[2]) + (-state_fab(i - 1, j - 1, k, Idx::gxz) + state_fab(i - 1, j + 1, k, Idx::gxz))/(2*dx[1]) + (-state_fab(i - 2, j, k, Idx::gyz) + state_fab(i, j, k, Idx::gyz))/(2*dx[0]))*state_fab(i - 1, j, k, Idx::ginvxz) + 0.5*(-(-state_fab(i + 1, j, k - 1, Idx::gxy) + state_fab(i + 1, j, k + 1, Idx::gxy))/(2*dx[2]) + (-state_fab(i + 1, j - 1, k, Idx::gxz) + state_fab(i + 1, j + 1, k, Idx::gxz))/(2*dx[1]) + (state_fab(i + 2, j, k, Idx::gyz) - state_fab(i, j, k, Idx::gyz))/(2*dx[0]))*state_fab(i + 1, j, k, Idx::ginvxz) - 0.25*(-state_fab(i - 2, j, k, Idx::gyy) + state_fab(i, j, k, Idx::gyy))*state_fab(i - 1, j, k, Idx::ginvxy)/dx[0] + 0.25*(state_fab(i + 2, j, k, Idx::gyy) - state_fab(i, j, k, Idx::gyy))*state_fab(i + 1, j, k, Idx::ginvxy)/dx[0])/(2*dx[0]);'"
      ]
     },
     "execution_count": 13,
     "metadata": {},
     "output_type": "execute_result"
    }
   ],
   "source": [
    "AMReXcode(RLL[0][1],var_names,True, var_K[0][1])"
   ]
  },
  {
   "cell_type": "code",
   "execution_count": null,
   "metadata": {},
   "outputs": [],
   "source": []
  }
 ],
 "metadata": {
  "kernelspec": {
   "display_name": "Python 3",
   "language": "python",
   "name": "python3"
  },
  "language_info": {
   "codemirror_mode": {
    "name": "ipython",
    "version": 3
   },
   "file_extension": ".py",
   "mimetype": "text/x-python",
   "name": "python",
   "nbconvert_exporter": "python",
   "pygments_lexer": "ipython3",
   "version": "3.5.2"
  }
 },
 "nbformat": 4,
 "nbformat_minor": 2
}
