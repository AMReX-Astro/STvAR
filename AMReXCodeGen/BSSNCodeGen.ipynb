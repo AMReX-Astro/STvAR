{
 "cells": [
  {
   "cell_type": "code",
   "execution_count": 1,
   "metadata": {},
   "outputs": [],
   "source": [
    "from FunctionSet import *\n",
    "# The NRPy_param_funcs module sets up global structures that manage free parameters within NRPy+\n",
    "#import NRPy_param_funcs as par \n",
    "# The indexedexp module defines various functions for defining and managing indexed quantities like tensors and pseudotensors\n",
    "import indexedexp as ixp\n",
    "# The grid module defines various parameters related to a numerical grid or the dimensionality of indexed expressions\n",
    "# For example, it declares the parameter DIM, which specifies the dimensionality of the indexed expression\n",
    "#import grid as gri\n",
    "#from outputC import *\n",
    "import numpy as np\n",
    "\n",
    "import sympy\n",
    "from sympy import symbols, IndexedBase, Indexed, Idx #, preorder_traversal"
   ]
  },
  {
   "cell_type": "markdown",
   "metadata": {},
   "source": [
    "A list of all evolved variables is initialized here."
   ]
  },
  {
   "cell_type": "code",
   "execution_count": 2,
   "metadata": {},
   "outputs": [],
   "source": [
    "list_vars = []"
   ]
  },
  {
   "cell_type": "markdown",
   "metadata": {},
   "source": [
    "The conformal factor phi is initialized and appended to the evolved variables list."
   ]
  },
  {
   "cell_type": "code",
   "execution_count": 3,
   "metadata": {},
   "outputs": [],
   "source": [
    "symb_phi = symbols('phi')\n",
    "phi = IndexedBase('state_fab'+str(symb_phi))[i,j,k,str(symb_phi)]\n",
    "\n",
    "list_vars.append(str(symb_phi))"
   ]
  },
  {
   "cell_type": "markdown",
   "metadata": {},
   "source": [
    "The conformally related spatial metric gbarLL (for gammabarLL) is initialized and added to the list."
   ]
  },
  {
   "cell_type": "code",
   "execution_count": 4,
   "metadata": {},
   "outputs": [],
   "source": [
    "symb_gbarLL = ixp.declarerank2('gbar','sym01')\n",
    "\n",
    "gbarLL = ixp.zerorank2(DIM=3)\n",
    "for itr1 in range(len(directions)):\n",
    "    for itr2 in range(len(directions)):\n",
    "        gbarLL[itr1][itr2] = IndexedBase('state_fab'+str(symb_gbarLL[itr1][itr2]))[i,j,k,str(symb_gbarLL[itr1][itr2])]\n",
    "\n",
    "for itri in range(len(symb_gbarLL)):\n",
    "    for itrj in range(itri,len(symb_gbarLL)):\n",
    "        list_vars.append(str(symb_gbarLL[itri][itrj]))\n",
    "        \n",
    "symb_gbarLL = np.array(symb_gbarLL)"
   ]
  },
  {
   "cell_type": "code",
   "execution_count": 5,
   "metadata": {},
   "outputs": [
    {
     "data": {
      "text/plain": [
       "'state_fab(i, j, k, Idx::gbar00)*state_fab(i, j, k, Idx::gbar11)*state_fab(i, j, k, Idx::gbar22) - state_fab(i, j, k, Idx::gbar00)*std::pow(state_fab(i, j, k, Idx::gbar12), 2) - std::pow(state_fab(i, j, k, Idx::gbar01), 2)*state_fab(i, j, k, Idx::gbar22) + 2*state_fab(i, j, k, Idx::gbar01)*state_fab(i, j, k, Idx::gbar02)*state_fab(i, j, k, Idx::gbar12) - std::pow(state_fab(i, j, k, Idx::gbar02), 2)*state_fab(i, j, k, Idx::gbar11);'"
      ]
     },
     "execution_count": 5,
     "metadata": {},
     "output_type": "execute_result"
    }
   ],
   "source": [
    "AMReXcode(sp.det(sp.Matrix(gbarLL)),list_vars)"
   ]
  },
  {
   "cell_type": "markdown",
   "metadata": {},
   "source": [
    "We need the extrinsic curvature scalar treated as an independent variable to be evolved and added to the list."
   ]
  },
  {
   "cell_type": "code",
   "execution_count": 6,
   "metadata": {},
   "outputs": [],
   "source": [
    "symb_Ksclr=symbols('Ksclr')\n",
    "Ksclr = IndexedBase('state_fab'+str(symb_Ksclr))[i,j,k,str(symb_Ksclr)]\n",
    "\n",
    "list_vars.append(str(symb_Ksclr))"
   ]
  },
  {
   "cell_type": "markdown",
   "metadata": {},
   "source": [
    "The conformally related traceless part of the extrinsic curvature is initialized and added to the list."
   ]
  },
  {
   "cell_type": "code",
   "execution_count": 7,
   "metadata": {},
   "outputs": [],
   "source": [
    "symb_AbarLL = ixp.declarerank2('Abar','sym01')\n",
    "\n",
    "AbarLL = ixp.zerorank2(DIM=3)\n",
    "for itr1 in range(len(directions)):\n",
    "    for itr2 in range(len(directions)):\n",
    "        AbarLL[itr1][itr2] = IndexedBase('state_fab'+str(symb_AbarLL[itr1][itr2]))[i,j,k,str(symb_AbarLL[itr1][itr2])]\n",
    "\n",
    "for itri in range(len(symb_AbarLL)):\n",
    "    for itrj in range(itri,len(symb_AbarLL)):\n",
    "        list_vars.append(str(symb_AbarLL[itri][itrj]))\n",
    "        \n",
    "symb_AbarLL = np.array(symb_AbarLL)"
   ]
  },
  {
   "cell_type": "markdown",
   "metadata": {},
   "source": [
    "Trace of the conformal connection coefficients, treated as independent and evolved variables, and thus added to the variable list."
   ]
  },
  {
   "cell_type": "code",
   "execution_count": 8,
   "metadata": {},
   "outputs": [],
   "source": [
    "symb_GambarU = ixp.declarerank1('GambarU')\n",
    "GambarU = ixp.zerorank1(DIM=3)\n",
    "\n",
    "for itr in range(len(directions)):\n",
    "    GambarU[itr] = IndexedBase('state_fab'+str(symb_GambarU[itr]))[i,j,k,str(symb_GambarU[itr])]\n",
    "\n",
    "for itr in range(len(symb_GambarU)):\n",
    "    list_vars.append(str(symb_GambarU[itr]))\n",
    "\n",
    "symb_GambarU = np.array(symb_GambarU)"
   ]
  },
  {
   "cell_type": "markdown",
   "metadata": {},
   "source": [
    "The gauge variable lapse function alpha is treated as an evolved variable in the 1+log gauge. Also added to the list."
   ]
  },
  {
   "cell_type": "code",
   "execution_count": 9,
   "metadata": {},
   "outputs": [],
   "source": [
    "symb_alpha = symbols('alpha')\n",
    "alpha = IndexedBase('state_fab'+str(symb_alpha))[i,j,k,str(symb_alpha)]\n",
    "\n",
    "list_vars.append(str(symb_alpha))"
   ]
  },
  {
   "cell_type": "markdown",
   "metadata": {},
   "source": [
    "The shift beta and B will be treated in the gamma driver scheme, and are thus evolved.  Both added to the list."
   ]
  },
  {
   "cell_type": "code",
   "execution_count": 10,
   "metadata": {},
   "outputs": [],
   "source": [
    "symb_betaU = ixp.declarerank1('betaU')\n",
    "betaU = ixp.zerorank1(DIM=3)\n",
    "\n",
    "for itr in range(len(directions)):\n",
    "    betaU[itr] = IndexedBase('state_fab'+str(symb_betaU[itr]))[i,j,k,str(symb_betaU[itr])]\n",
    "\n",
    "for itr in range(len(symb_betaU)):\n",
    "    list_vars.append(str(symb_betaU[itr]))\n",
    "\n",
    "symb_betaU = np.array(symb_betaU)"
   ]
  },
  {
   "cell_type": "code",
   "execution_count": 11,
   "metadata": {},
   "outputs": [],
   "source": [
    "symb_BU = ixp.declarerank1('BU')\n",
    "BU = ixp.zerorank1(DIM=3)\n",
    "\n",
    "for itr in range(len(directions)):\n",
    "    BU[itr] = IndexedBase('state_fab'+str(symb_BU[itr]))[i,j,k,str(symb_BU[itr])]\n",
    "\n",
    "for itr in range(len(symb_BU)):\n",
    "    list_vars.append(str(symb_BU[itr]))\n",
    "\n",
    "symb_BU = np.array(symb_BU)"
   ]
  },
  {
   "cell_type": "markdown",
   "metadata": {},
   "source": [
    "The inverse metric gbarUU will be defined and calculated before inserting them into the evolved equations.  This reduces the number of calls to variables in memory."
   ]
  },
  {
   "cell_type": "code",
   "execution_count": 12,
   "metadata": {},
   "outputs": [],
   "source": [
    "symb_gbarUU = ixp.declarerank2('gbarinv','sym01')\n",
    "#for itri in range(len(name_gUU)):\n",
    " #   for itrj in range(itri,len(name_gUU)):\n",
    "  #      var_names.append(str(name_gUU[itri][itrj]))\n",
    "symb_gbarUU = np.array(symb_gbarUU)"
   ]
  },
  {
   "cell_type": "markdown",
   "metadata": {},
   "source": [
    "Defining the connection coefficents for both the barred and unbarred spatial metrics."
   ]
  },
  {
   "cell_type": "code",
   "execution_count": 13,
   "metadata": {},
   "outputs": [],
   "source": [
    "DcgbarLLL = ixp.zerorank3(3)\n",
    "GammabarULL = ixp.zerorank3(3)\n",
    "GammabarLLL=ixp.zerorank3(3)\n",
    "\n",
    "for itri in range(len(directions)):\n",
    "    for itrj in range(len(directions)):\n",
    "        for itrk in range(len(directions)):\n",
    "            DcgbarLLL[itri][itrj][itrk] = der(symb_gbarLL[itri][itrj],itrk)\n",
    "            \n",
    "for itri in range(len(directions)):\n",
    "    for itrj in range(len(directions)):\n",
    "        for itrk in range(len(directions)):\n",
    "            for itrl in range(len(directions)):\n",
    "                GammabarULL[itrk][itri][itrj] += 1/2*symb_gbarUU[itrk][itrl]*(DcgbarLLL[itrl][itri][itrj]+DcgbarLLL[itrl][itrj][itri]-DcgbarLLL[itri][itrj][itrl])\n",
    "                \n",
    "for itri in range(len(directions)):\n",
    "    for itrj in range(len(directions)):\n",
    "        for itrk in range(len(directions)):\n",
    "            for itrl in range(len(directions)):\n",
    "                GammabarLLL[itri][itrj][itrk]+= symb_gbarLL[itri][itrl]*GammabarULL[itrl][itrj][itrk]\n",
    "                \n",
    "GammaULL = ixp.zerorank3(3)\n",
    "for i in range(3):\n",
    "    for j in range(3):\n",
    "        for k in range(3):\n",
    "            GammaULL[i][j][k] += GammabarULL[i][j][k] + 2*(sp.eye(3)[i,j]*der(symb_phi,k)+sp.eye(3)[i,k]*der(symb_phi,j))\n",
    "            for l in range(3):\n",
    "                GammaULL[i][j][k] += -2*symb_gbarLL[j][k]*symb_gbarUU[i][l]*der(symb_phi,l)"
   ]
  },
  {
   "cell_type": "markdown",
   "metadata": {},
   "source": [
    "Defining the Ricci curvature tensor.  It is split (as in standard BSSN convention) into the barred part and the phi part."
   ]
  },
  {
   "cell_type": "code",
   "execution_count": 14,
   "metadata": {},
   "outputs": [],
   "source": [
    "RbarLL = ixp.zerorank2(3)\n",
    "\n",
    "for i in range(len(directions)):\n",
    "    for j in range(i,len(directions)):\n",
    "        for l in range(len(directions)):\n",
    "            for m in range(l,len(directions)):\n",
    "                RbarLL[i][j] += -symb_gbarUU[l][m]*der(der(symb_gbarLL[i][j],l),m)\n",
    "                RbarLL[j][i] += -symb_gbarUU[l][m]*der(der(symb_gbarLL[i][j],l),m)\n",
    "                for k in range(len(directions)):\n",
    "                    RbarLL[i][j] += 2*symb_gbarUU[l][m]*(GammabarULL[k][l][i]*GammabarLLL[j][k][m]+GammabarULL[k][l][j]*GammabarLLL[i][k][m]+GammabarULL[k][i][m]*GammabarLLL[k][l][j])\n",
    "                    RbarLL[j][i] += 2*symb_gbarUU[l][m]*(GammabarULL[k][l][i]*GammabarLLL[j][k][m]+GammabarULL[k][l][j]*GammabarLLL[i][k][m]+GammabarULL[k][i][m]*GammabarLLL[k][l][j])\n",
    "        for  k in range(len(directions)):\n",
    "            RbarLL[i][j]+= 1/2*(symb_gbarLL[k][i]*der(symb_GambarU[k],j)+symb_gbarLL[k][j]*der(symb_GambarU[k],i))+symb_GambarU[k]*1/2*(GammabarLLL[i][j][k]+GammabarLLL[j][i][k])\n",
    "            RbarLL[j][i]+= 1/2*(symb_gbarLL[k][i]*der(symb_GambarU[k],j)+symb_gbarLL[k][j]*der(symb_GambarU[k],i))+symb_GambarU[k]*1/2*(GammabarLLL[i][j][k]+GammabarLLL[j][i][k])"
   ]
  },
  {
   "cell_type": "code",
   "execution_count": 15,
   "metadata": {},
   "outputs": [],
   "source": [
    "RphiLL = ixp.zerorank2(3)\n",
    "DbarDbarphi = ixp.zerorank2(3)\n",
    "\n",
    "for i in range(len(directions)):\n",
    "    for j in range(i,len(directions)):\n",
    "        DbarDbarphi[i][j] += der(der(symb_phi,i),j)\n",
    "        DbarDbarphi[j][i] += der(der(symb_phi,i),j)\n",
    "        for k in range(len(directions)):\n",
    "            DbarDbarphi[i][j] += GammabarULL[k][i][j]*der(symb_phi,k)\n",
    "            DbarDbarphi[j][i] += GammabarULL[k][i][j]*der(symb_phi,k)\n",
    "\n",
    "for i in range(len(directions)):\n",
    "    for j in range(i,len(directions)):\n",
    "        RphiLL[i][j] += -2*DbarDbarphi[i][j] + 4*der(symb_phi,i)*der(symb_phi,j)\n",
    "        RphiLL[j][i] += -2*DbarDbarphi[i][j] + 4*der(symb_phi,i)*der(symb_phi,j)\n",
    "        for l in range(len(directions)):\n",
    "            for m in range(l,len(directions)):\n",
    "                RphiLL[i][j] += 2*symb_gbarLL[i][j]*symb_gbarUU[l][m]*(-2*DbarDbarphi[l][m]-4*der(symb_phi,l)*der(symb_phi,m))\n",
    "                RphiLL[j][i] += 2*symb_gbarLL[i][j]*symb_gbarUU[l][m]*(-2*DbarDbarphi[l][m]-4*der(symb_phi,l)*der(symb_phi,m))"
   ]
  },
  {
   "cell_type": "code",
   "execution_count": 16,
   "metadata": {},
   "outputs": [],
   "source": [
    "RLL = ixp.zerorank2(3)\n",
    "for i in range(len(directions)):\n",
    "    for j in range(i,len(directions)):\n",
    "        RLL[i][j] += RbarLL[i][j]+RphiLL[i][j]\n",
    "        RLL[j][i] += RbarLL[i][j]+RphiLL[i][j]"
   ]
  },
  {
   "cell_type": "markdown",
   "metadata": {},
   "source": [
    "As the case for the inverse metric, we will define intermediate variables for the Ricci tensor and its trace free part, to reduce the number of variable calls in the code."
   ]
  },
  {
   "cell_type": "code",
   "execution_count": 17,
   "metadata": {},
   "outputs": [],
   "source": [
    "symb_RLL = ixp.declarerank2('RLL','sym01')\n",
    "#for itri in range(len(name_gUU)):\n",
    " #   for itrj in range(itri,len(name_gUU)):\n",
    "  #      var_names.append(str(name_gUU[itri][itrj]))\n",
    "symb_RLL = np.array(symb_RLL)"
   ]
  },
  {
   "cell_type": "code",
   "execution_count": 18,
   "metadata": {},
   "outputs": [],
   "source": [
    "symb_RTFLL = ixp.declarerank2('RTFLL','sym01')\n",
    "#for itri in range(len(name_gUU)):\n",
    " #   for itrj in range(itri,len(name_gUU)):\n",
    "  #      var_names.append(str(name_gUU[itri][itrj]))\n",
    "symb_RTFLL = np.array(symb_RTFLL)"
   ]
  },
  {
   "cell_type": "code",
   "execution_count": 19,
   "metadata": {},
   "outputs": [],
   "source": [
    "Rsclr = 0\n",
    "for i in range(3):\n",
    "    for j in range(3):\n",
    "        Rsclr += symb_gbarUU[i][j]*symb_RLL[i][j]"
   ]
  },
  {
   "cell_type": "code",
   "execution_count": 20,
   "metadata": {},
   "outputs": [],
   "source": [
    "symb_Rsclr = symbols('Rsclr')"
   ]
  },
  {
   "cell_type": "markdown",
   "metadata": {},
   "source": [
    "Right hand side of the equations of motion for phi,and metric."
   ]
  },
  {
   "cell_type": "code",
   "execution_count": 21,
   "metadata": {},
   "outputs": [],
   "source": [
    "RHS_phi = -1/6*symb_alpha*symb_Ksclr\n",
    "for k in range(len(directions)):\n",
    "    RHS_phi += symb_betaU[k]*der(symb_phi,k)+1/6*der(symb_betaU[k],k)"
   ]
  },
  {
   "cell_type": "code",
   "execution_count": 22,
   "metadata": {},
   "outputs": [],
   "source": [
    "RHS_gbarLL = ixp.zerorank2(3)\n",
    "for i in range(3):\n",
    "    for j in range(3):\n",
    "        RHS_gbarLL[i][j] += -2*symb_alpha*symb_AbarLL[i][j]\n",
    "        for k in range(3):\n",
    "            RHS_gbarLL[i][j] += symb_betaU[k]*der(symb_gbarLL[i][j],k)+symb_gbarLL[i][k]*der(symb_betaU[k],j)+symb_gbarLL[j][k]*der(symb_betaU[k],i)-2/3*symb_gbarLL[i][j]*der(symb_betaU[k],k)"
   ]
  },
  {
   "cell_type": "markdown",
   "metadata": {},
   "source": [
    "Intermediate variable definitions for Abar with raised indices.  Will make defining EOMS for Ksclr and Abar below."
   ]
  },
  {
   "cell_type": "code",
   "execution_count": 23,
   "metadata": {},
   "outputs": [],
   "source": [
    "symb_AbarUU = ixp.zerorank2(3)\n",
    "for i in range(3):\n",
    "    for j in range(3):\n",
    "        for k in range(3):\n",
    "            for l in range(3):\n",
    "                symb_AbarUU[i][j] += symb_gbarUU[i][k]*symb_gbarUU[j][l]*symb_AbarLL[k][l]\n",
    "                \n",
    "symb_AbarUL = ixp.zerorank2(3)\n",
    "for i in range(3):\n",
    "    for j in range(3):\n",
    "        for k in range(3):\n",
    "            symb_AbarUL[i][j] = symb_gbarUU[i][k]*symb_AbarLL[k][j]"
   ]
  },
  {
   "cell_type": "markdown",
   "metadata": {},
   "source": [
    "Second covariant derivatives of alpha defined."
   ]
  },
  {
   "cell_type": "code",
   "execution_count": 24,
   "metadata": {},
   "outputs": [],
   "source": [
    "DDalpha= ixp.zerorank2(3)\n",
    "for i in range(3):\n",
    "    for j in range(i,3):\n",
    "        DDalpha[i][j] += der(der(symb_alpha,i),j)\n",
    "        DDalpha[j][i] += der(der(symb_alpha,i),j)\n",
    "        for k in range(3):\n",
    "            DDalpha[i][j] += -GammaULL[k][i][j]*der(symb_alpha,k)\n",
    "            DDalpha[j][i] += -GammaULL[k][i][j]*der(symb_alpha,k)"
   ]
  },
  {
   "cell_type": "code",
   "execution_count": 25,
   "metadata": {},
   "outputs": [],
   "source": [
    "RHS_Ksclr=0\n",
    "for i in range(3):\n",
    "    for j in range(3):\n",
    "        RHS_Ksclr += -sp.exp(4*symb_phi)*symb_gbarLL[i][j]*DDalpha[i][j]\n",
    "        RHS_Ksclr += symb_alpha*(symb_AbarLL[i][j]*symb_AbarUU[i][j]+1/3*symb_Ksclr**2)\n",
    "for i in range(3):\n",
    "    RHS_Ksclr += symb_betaU[i]*der(symb_Ksclr,i)"
   ]
  },
  {
   "cell_type": "code",
   "execution_count": 26,
   "metadata": {},
   "outputs": [],
   "source": [
    "DDalphaTF = ixp.zerorank2(3)\n",
    "for i in range(3):\n",
    "    for j in range(3):\n",
    "        DDalphaTF[i][j]=DDalpha[i][j]\n",
    "        for l in range(3):\n",
    "            for m in range(3):\n",
    "                DDalphaTF[i][j] += -1/3*sp.exp(4*symb_phi)*symb_gbarLL[i][j]*symb_gbarUU[l][m]*DDalpha[l][m]\n",
    "        "
   ]
  },
  {
   "cell_type": "markdown",
   "metadata": {},
   "source": [
    "Intermediate definition of the trace free Ricci tensor. "
   ]
  },
  {
   "cell_type": "code",
   "execution_count": 27,
   "metadata": {},
   "outputs": [],
   "source": [
    "RTFLL = ixp.zerorank2(3)\n",
    "for i in range(3):\n",
    "    for j in range(i,3):\n",
    "        RTFLL[i][j] = symb_RLL[i][j]\n",
    "        RTFLL[j][i] = symb_RLL[i][j]\n",
    "        for l in range(3):\n",
    "            for m in range(l,3):\n",
    "                RTFLL[i][j] += -2/3*sp.exp(4*symb_phi)*symb_gbarLL[i][j]*symb_gbarUU[l][m]*symb_RLL[l][m]\n",
    "                RTFLL[j][i] += -2/3*sp.exp(4*symb_phi)*symb_gbarLL[i][j]*symb_gbarUU[l][m]*symb_RLL[l][m]"
   ]
  },
  {
   "cell_type": "markdown",
   "metadata": {},
   "source": [
    "RHS of AbarLL finally defined."
   ]
  },
  {
   "cell_type": "code",
   "execution_count": 28,
   "metadata": {},
   "outputs": [],
   "source": [
    "RHS_AbarLL = ixp.zerorank2(3)\n",
    "for i in range(3):\n",
    "    for j in range(i,3):\n",
    "        RHS_AbarLL[i][j] += sp.exp(-4*symb_phi)*(-DDalphaTF[i][j]+symb_alpha*(symb_RTFLL[i][j]))+symb_alpha*symb_Ksclr*symb_AbarLL[i][j]\n",
    "        RHS_AbarLL[j][i] += sp.exp(-4*symb_phi)*(-DDalphaTF[i][j]+symb_alpha*(symb_RTFLL[i][j]))+symb_alpha*symb_Ksclr*symb_AbarLL[i][j]\n",
    "        for k in range(3):\n",
    "            RHS_AbarLL[i][j] += -2*symb_alpha*symb_AbarLL[i][k]*symb_AbarUL[k][j]\n",
    "            RHS_AbarLL[i][j] += symb_betaU[k]*der(symb_AbarLL[i][j],k)+symb_AbarLL[i][k]*der(symb_betaU[k],j)+symb_AbarLL[k][j]*der(symb_betaU[k],i)-2/3*symb_AbarLL[i][j]*der(symb_betaU[k],k)\n",
    "            RHS_AbarLL[j][i] += -2*symb_alpha*symb_AbarLL[i][k]*symb_AbarUL[k][j]\n",
    "            RHS_AbarLL[j][i] += symb_betaU[k]*der(symb_AbarLL[i][j],k)+symb_AbarLL[i][k]*der(symb_betaU[k],j)+symb_AbarLL[k][j]*der(symb_betaU[k],i)-2/3*symb_AbarLL[i][j]*der(symb_betaU[k],k)\n"
   ]
  },
  {
   "cell_type": "markdown",
   "metadata": {},
   "source": [
    "RHS of the conformal connection coefficients."
   ]
  },
  {
   "cell_type": "code",
   "execution_count": 29,
   "metadata": {},
   "outputs": [],
   "source": [
    "RHS_GambarU = ixp.zerorank1(3)\n",
    "for i in range(3):\n",
    "    for j in range(3):\n",
    "        RHS_GambarU[i] += -2*symb_AbarUU[i][j]*der(symb_alpha,j)+2*symb_alpha*(-2/3*symb_gbarUU[i][j]*der(symb_Ksclr,j)+6*symb_AbarUU[i][j]*der(symb_phi,j))\n",
    "        RHS_GambarU[i] += symb_betaU[j]*der(symb_GambarU[i],j)-symb_GambarU[j]*der(symb_betaU[i],j)+2/3*symb_GambarU[i]*der(symb_betaU[j],j)\n",
    "        for l in range(j,3):\n",
    "            RHS_GambarU[i] += 4*symb_alpha*GammabarULL[i][j][l]*symb_AbarUU[l][j]\n",
    "            RHS_GambarU[i] +=2/3*symb_gbarUU[l][i]*der(der(symb_betaU[j],j),l)+symb_gbarUU[l][j]*der(der(symb_betaU[i],j),l)"
   ]
  },
  {
   "cell_type": "markdown",
   "metadata": {},
   "source": [
    "RHS for the gauge variables alpha, beta, and B in the 1+log and Gamma Driver schemes."
   ]
  },
  {
   "cell_type": "code",
   "execution_count": 30,
   "metadata": {},
   "outputs": [],
   "source": [
    "RHS_alpha = -2*symb_alpha*symb_Ksclr\n",
    "for i in range(3):\n",
    "    RHS_alpha += symb_betaU[i]*der(symb_alpha,i)"
   ]
  },
  {
   "cell_type": "code",
   "execution_count": 31,
   "metadata": {},
   "outputs": [],
   "source": [
    "RHS_betaU = ixp.zerorank1(3)\n",
    "for i in range(3):\n",
    "    RHS_betaU[i] += 3/4*symb_BU[i]\n",
    "    for j in range(3):\n",
    "        RHS_betaU[i] += symb_betaU[j]*der(symb_betaU[i],j)"
   ]
  },
  {
   "cell_type": "code",
   "execution_count": 32,
   "metadata": {},
   "outputs": [],
   "source": [
    "RHS_BU = ixp.zerorank1(3)\n",
    "eta = 1\n",
    "for i in range(3):\n",
    "    RHS_BU[i] += RHS_GambarU[i]-eta*symb_BU[i]\n",
    "    for j in range(3):\n",
    "        RHS_BU[i] += symb_betaU[j]*der(symb_BU[i],j)"
   ]
  },
  {
   "cell_type": "markdown",
   "metadata": {},
   "source": [
    "We define the constraint equations."
   ]
  },
  {
   "cell_type": "code",
   "execution_count": 44,
   "metadata": {},
   "outputs": [],
   "source": [
    "ConstraintH = 0\n",
    "for i in range(3):\n",
    "    for j in range(i,3):\n",
    "        ConstraintH += 2*sp.exp(symb_phi)*symb_gbarUU[i][j]*(der(der(symb_phi,i),j)+DbarDbarphi[i][j])+sp.exp(5*symb_phi)*symb_AbarLL[i][j]*symb_AbarUU[i][j]/4\n",
    "ConstraintH +=sp.exp(symb_phi)*symb_Rsclr/8-sp.exp(symb_phi)*(symb_Ksclr**2)/12\n",
    "\n",
    "ConstraintH = 0\n",
    "for i in range(3):\n",
    "        ConstraintH += sp.exp(symb_phi)*(der(symb_phi,i)*der(symb_phi,i)+der(der(symb_phi,i),i))"
   ]
  },
  {
   "cell_type": "code",
   "execution_count": 45,
   "metadata": {},
   "outputs": [
    {
     "data": {
      "text/plain": [
       "'(ddphi00 + std::pow(dphi0, 2))*std::exp(phi) + (ddphi11 + std::pow(dphi1, 2))*std::exp(phi) + (ddphi22 + std::pow(dphi2, 2))*std::exp(phi);'"
      ]
     },
     "execution_count": 45,
     "metadata": {},
     "output_type": "execute_result"
    }
   ],
   "source": [
    "AMReXcode(ConstraintH)"
   ]
  },
  {
   "cell_type": "code",
   "execution_count": 35,
   "metadata": {},
   "outputs": [],
   "source": [
    "ConstraintM = ixp.zerorank1(3)\n",
    "for i in range(3):\n",
    "    for j in range(3):\n",
    "        ConstraintM[i] += -2/3*sp.exp(6*symb_phi)*symb_gbarUU[i][j]*der(symb_Ksclr,j)\n",
    "for i in range(3):\n",
    "    for j in range(3):\n",
    "        ConstraintM[i] += sp.exp(6*symb_phi)*6*der(symb_phi,j)*symb_AbarUU[j][i]\n",
    "\n",
    "DbarAbarLLL = ixp.zerorank3(3)\n",
    "for j in range(3):\n",
    "    for k in range(3):\n",
    "        for l in range(3):\n",
    "            DbarAbarLLL[j][k][l] += der(symb_AbarLL[k][l],j)\n",
    "            for q in range(3):\n",
    "                DbarAbarLLL[j][k][l] += -GammabarLLL[q][j][k]*symb_AbarLL[q][l]-GammabarLLL[q][j][l]*symb_AbarLL[k][q]\n",
    "            \n",
    "        \n",
    "for i in range(3):\n",
    "    for j in range(3):\n",
    "        for k in range(3):\n",
    "            for l in range(3):\n",
    "                ConstraintM[i] +=sp.exp(6*symb_phi)*symb_gbarUU[j][k]*symb_gbarUU[i][l]*DbarAbarLLL[j][k][l]"
   ]
  },
  {
   "cell_type": "markdown",
   "metadata": {},
   "source": [
    "We must initialize all of the the evolved variables in the list. "
   ]
  },
  {
   "cell_type": "code",
   "execution_count": 36,
   "metadata": {},
   "outputs": [],
   "source": [
    "x,y,z = sp.symbols('x y z')\n",
    "r = sp.sqrt(x**2 + y**2 + z**2)"
   ]
  },
  {
   "cell_type": "code",
   "execution_count": 37,
   "metadata": {},
   "outputs": [],
   "source": [
    "list_init = []\n",
    "\n",
    "M = 1\n",
    "\n",
    "phi_init = sp.log(1+M/(2*r))\n",
    "list_init.append(phi_init)\n",
    "\n",
    "gbarLL_init = np.array(sp.eye(3))\n",
    "for i in range(3):\n",
    "    for j in range(i,3):\n",
    "        list_init.append(gbarLL_init[i][j])\n",
    "        \n",
    "Ksclr_init = 0\n",
    "list_init.append(Ksclr_init)\n",
    "\n",
    "AbarLL_init = np.array([[0,0,0],[0,0,0],[0,0,0]])\n",
    "gbarLL_init = np.array(sp.eye(3))\n",
    "for i in range(3):\n",
    "    for j in range(i,3):\n",
    "        list_init.append(AbarLL_init[i][j])\n",
    "\n",
    "GambarU_init = np.array([0,0,0])\n",
    "for i in range(3):\n",
    "    list_init.append(GambarU_init[i])\n",
    "    \n",
    "alpha_init = (1-M/(2*r))/(1+M/(2*r))\n",
    "list_init.append(alpha_init)\n",
    "\n",
    "betaU_init = np.array([0,0,0])\n",
    "for i in range(3):\n",
    "    list_init.append(betaU_init[i])\n",
    "    \n",
    "BU_init = np.array([0,0,0])\n",
    "for i in range(3):\n",
    "    list_init.append(BU_init[i])"
   ]
  },
  {
   "cell_type": "markdown",
   "metadata": {},
   "source": [
    "We now create the AMReX files for the equations of motion.  I do not recommend looking at the RHS file generated."
   ]
  },
  {
   "cell_type": "code",
   "execution_count": 38,
   "metadata": {},
   "outputs": [],
   "source": [
    "Difforder = 4"
   ]
  },
  {
   "cell_type": "code",
   "execution_count": 39,
   "metadata": {},
   "outputs": [],
   "source": [
    "path = \"../Source/BSSN/\""
   ]
  },
  {
   "cell_type": "code",
   "execution_count": 47,
   "metadata": {},
   "outputs": [],
   "source": [
    "list_diags = ['H']"
   ]
  },
  {
   "cell_type": "code",
   "execution_count": 40,
   "metadata": {},
   "outputs": [],
   "source": [
    "createSETUP(path+\"ET_Integration_Setup.H\",list_vars,list_diags,2)"
   ]
  },
  {
   "cell_type": "code",
   "execution_count": 41,
   "metadata": {},
   "outputs": [],
   "source": [
    "createVARIABLES(path+\"ET_Integration_Variables.H\",list_vars)"
   ]
  },
  {
   "cell_type": "code",
   "execution_count": 42,
   "metadata": {},
   "outputs": [],
   "source": [
    "createINIT(path+\"ET_Integration_Init_K.H\")\n",
    "for itr in range(len(list_vars)):\n",
    "    addINIT(path+\"ET_Integration_Init_K.H\",AMReXcode(list_init[itr],list_vars,declare_state=True, statename=list_vars[itr]))\n",
    "finishINIT(path+\"ET_Integration_Init_K.H\")"
   ]
  },
  {
   "cell_type": "markdown",
   "metadata": {},
   "source": [
    "The evolved variables, intermediate variables, and derivatives are all initialized in the code as intermediated AMReX reals defined in terms of the grid functions (multifabs).  The RHS equations we've coded above are all written in terms of these to reduce the number of calls to the grid data in the EOMS."
   ]
  },
  {
   "cell_type": "code",
   "execution_count": 43,
   "metadata": {},
   "outputs": [],
   "source": [
    "createRHS(path+\"ET_Integration_Rhs_K.H\")\n",
    "fileRHS=open(path+\"ET_Integration_Rhs_K.H\",\"a+\")\n",
    "fileRHS.write(\"         amrex::Real \" + str(symb_phi) + \" = \" + AMReXcode(phi,list_vars)+'\\n')\n",
    "\n",
    "for i in range(3):\n",
    "    for j in range(i,3):\n",
    "        fileRHS.write(\"         amrex::Real \" + str(symb_gbarLL[i][j]) + \" = \" + AMReXcode(gbarLL[i][j],list_vars)+'\\n')\n",
    "\n",
    "fileRHS.write(\"         amrex::Real \" + str(symb_Ksclr) + \" = \" + AMReXcode(Ksclr,list_vars)+'\\n')\n",
    "\n",
    "for i in range(3):\n",
    "    for j in range(i,3):\n",
    "        fileRHS.write(\"         amrex::Real \" + str(symb_AbarLL[i][j]) + \" = \" + AMReXcode(AbarLL[i][j],list_vars)+'\\n')\n",
    "\n",
    "for i in range(3):\n",
    "    fileRHS.write(\"         amrex::Real \" + str(symb_GambarU[i]) + \" = \" + AMReXcode(GambarU[i],list_vars)+'\\n')\n",
    "\n",
    "fileRHS.write(\"         amrex::Real \" + str(symb_alpha) + \" = \" + AMReXcode(alpha,list_vars)+'\\n')\n",
    "    \n",
    "for i in range(3):\n",
    "    fileRHS.write(\"         amrex::Real \" + str(symb_betaU[i]) + \" = \" + AMReXcode(betaU[i],list_vars)+'\\n')\n",
    "    \n",
    "for i in range(3):\n",
    "    fileRHS.write(\"         amrex::Real \" + str(symb_BU[i]) + \" = \" + AMReXcode(BU[i],list_vars)+'\\n')\n",
    "    \n",
    "for i in range(3):\n",
    "    for j in range(i,3):\n",
    "        fileRHS.write(\"         amrex::Real \" + str(symb_gbarUU[i][j]) + \" = \" + AMReXcode(sp.simplify(sp.Matrix(symb_gbarLL).inv()[i,j]))+'\\n')\n",
    "\n",
    "for i in range(3):\n",
    "    fileRHS.write(\"         amrex::Real \" + str(der(symb_phi,i)) + \" = \" + AMReXcode(Diff1(phi,'dD'+str(i),Difforder),list_vars)+'\\n')\n",
    "    \n",
    "for i in range(3):\n",
    "    for j in range(i,3):\n",
    "        fileRHS.write(\"         amrex::Real \" + str(der(der(symb_phi,i),j)) + \" = \" + AMReXcode(Diff2(phi,'dDD'+str(i)+str(j),Difforder),list_vars)+'\\n')\n",
    "\n",
    "for i in range(3):\n",
    "    fileRHS.write(\"         amrex::Real \" + str(der(symb_Ksclr,i)) + \" = \" + AMReXcode(Diff1(Ksclr,'dD'+str(i),Difforder),list_vars)+'\\n')\n",
    "        \n",
    "for i in range(3):\n",
    "    fileRHS.write(\"         amrex::Real \" + str(der(symb_alpha,i)) + \" = \" + AMReXcode(Diff1(alpha,'dD'+str(i),Difforder),list_vars)+'\\n')    \n",
    "\n",
    "for i in range(3):\n",
    "    for j in range(i,3):\n",
    "        fileRHS.write(\"         amrex::Real \" + str(der(der(symb_alpha,i),j)) + \" = \" + AMReXcode(Diff2(alpha,'dDD'+str(i)+str(j),Difforder),list_vars)+'\\n')\n",
    "    \n",
    "for i in range(3):\n",
    "    for j in range(3):\n",
    "        fileRHS.write(\"         amrex::Real \" + str(der(symb_betaU[i],j)) + \" = \" + AMReXcode(Diff1(betaU[i],'dD'+str(j),Difforder),list_vars)+'\\n')\n",
    "        \n",
    "for i in range(3):\n",
    "    for j in range(3):\n",
    "        for k in range(j,3):\n",
    "            fileRHS.write(\"         amrex::Real \" + str(der(der(symb_betaU[i],j),k)) + \" = \" + AMReXcode(Diff2(betaU[i],'dDD'+str(j)+str(k),Difforder),list_vars)+'\\n')\n",
    "\n",
    "for i in range(3):\n",
    "    for j in range(3):\n",
    "        fileRHS.write(\"         amrex::Real \" + str(der(symb_BU[i],j)) + \" = \" + AMReXcode(Diff1(BU[i],'dD'+str(j),Difforder),list_vars)+'\\n')\n",
    "            \n",
    "for i in range(3):\n",
    "    for j in range(i,3):\n",
    "        for k in range(3):\n",
    "            fileRHS.write(\"         amrex::Real \" + str(der(symb_gbarLL[i][j],k)) + \" = \" + AMReXcode(Diff1(gbarLL[i][j],'dD'+str(k),Difforder),list_vars)+'\\n')\n",
    "\n",
    "for i in range(3):\n",
    "    for j in range(i,3):\n",
    "        for k in range(3):\n",
    "            for l in range(k,3):\n",
    "                fileRHS.write(\"         amrex::Real \" + str(der(der(symb_gbarLL[i][j],k),l)) + \" = \" + AMReXcode(Diff2(gbarLL[i][j],'dDD'+str(k)+str(l),Difforder),list_vars)+'\\n')\n",
    "\n",
    "for i in range(3):\n",
    "    for j in range(i,3):\n",
    "        for k in range(3):\n",
    "            fileRHS.write(\"         amrex::Real \" + str(der(symb_AbarLL[i][j],k)) + \" = \" + AMReXcode(Diff1(AbarLL[i][j],'dD'+str(k),Difforder),list_vars)+'\\n')\n",
    "                \n",
    "for i in range(3):\n",
    "    for j in range(3):\n",
    "        fileRHS.write(\"         amrex::Real \" + str(der(symb_GambarU[i],j)) + \" = \" + AMReXcode(Diff1(GambarU[i],'dD'+str(j),Difforder),list_vars)+'\\n')\n",
    "        \n",
    "for i in range(3):\n",
    "    for j in range(i,3):\n",
    "        fileRHS.write(\"         amrex::Real \" + str(symb_RLL[i][j]) + \" = \" + AMReXcode(RLL[i][j])+'\\n')\n",
    "        \n",
    "for i in range(3):\n",
    "    for j in range(i,3):\n",
    "        fileRHS.write(\"         amrex::Real \" + str(symb_RTFLL[i][j]) + \" = \" + AMReXcode(RTFLL[i][j])+'\\n')\n",
    "    \n",
    "fileRHS.close()\n",
    "\n",
    "addRHS(path+\"ET_Integration_Rhs_K.H\",AMReXcode(RHS_phi,declare_rhs = True, rhsname = str(symb_phi)))\n",
    "\n",
    "for i in range(3):\n",
    "    for j in range(i,3):\n",
    "        addRHS(path+\"ET_Integration_Rhs_K.H\",AMReXcode(RHS_gbarLL[i][j],declare_rhs = True, rhsname = str(symb_gbarLL[i][j])))\n",
    "\n",
    "addRHS(path+\"ET_Integration_Rhs_K.H\",AMReXcode(RHS_Ksclr,declare_rhs = True, rhsname = str(symb_Ksclr)))\n",
    "\n",
    "for i in range(3):\n",
    "    for j in range(i,3):\n",
    "        addRHS(path+\"ET_Integration_Rhs_K.H\",AMReXcode(RHS_AbarLL[i][j],declare_rhs = True, rhsname = str(symb_AbarLL[i][j])))\n",
    "\n",
    "for i in range(3):\n",
    "    addRHS(path+\"ET_Integration_Rhs_K.H\",AMReXcode(RHS_GambarU[i],declare_rhs = True, rhsname = str(symb_GambarU[i])))\n",
    "\n",
    "addRHS(path+\"ET_Integration_Rhs_K.H\",AMReXcode(RHS_alpha,declare_rhs = True, rhsname = str(symb_alpha)))\n",
    "\n",
    "for i in range(3):\n",
    "    addRHS(path+\"ET_Integration_Rhs_K.H\",AMReXcode(RHS_betaU[i],declare_rhs = True, rhsname = str(symb_betaU[i])))\n",
    "    \n",
    "for i in range(3):\n",
    "    addRHS(path+\"ET_Integration_Rhs_K.H\",AMReXcode(RHS_BU[i],declare_rhs = True, rhsname = str(symb_BU[i])))\n",
    "\n",
    "finishRHS(path+\"ET_Integration_Rhs_K.H\")"
   ]
  },
  {
   "cell_type": "code",
   "execution_count": null,
   "metadata": {},
   "outputs": [],
   "source": []
  }
 ],
 "metadata": {
  "kernelspec": {
   "display_name": "Python 3",
   "language": "python",
   "name": "python3"
  },
  "language_info": {
   "codemirror_mode": {
    "name": "ipython",
    "version": 3
   },
   "file_extension": ".py",
   "mimetype": "text/x-python",
   "name": "python",
   "nbconvert_exporter": "python",
   "pygments_lexer": "ipython3",
   "version": "3.5.2"
  }
 },
 "nbformat": 4,
 "nbformat_minor": 2
}
