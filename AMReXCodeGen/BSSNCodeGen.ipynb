{
 "cells": [
  {
   "cell_type": "code",
   "execution_count": 1,
   "metadata": {},
   "outputs": [],
   "source": [
    "from FunctionSet import *\n",
    "# The NRPy_param_funcs module sets up global structures that manage free parameters within NRPy+\n",
    "#import NRPy_param_funcs as par \n",
    "# The indexedexp module defines various functions for defining and managing indexed quantities like tensors and pseudotensors\n",
    "import indexedexp as ixp\n",
    "# The grid module defines various parameters related to a numerical grid or the dimensionality of indexed expressions\n",
    "# For example, it declares the parameter DIM, which specifies the dimensionality of the indexed expression\n",
    "#import grid as gri\n",
    "#from outputC import *\n",
    "import numpy as np\n",
    "\n",
    "import sympy\n",
    "from sympy import symbols, IndexedBase, Indexed, Idx#, preorder_traversal"
   ]
  },
  {
   "cell_type": "code",
   "execution_count": 2,
   "metadata": {},
   "outputs": [],
   "source": [
    "list_vars = []"
   ]
  },
  {
   "cell_type": "code",
   "execution_count": 3,
   "metadata": {},
   "outputs": [],
   "source": [
    "symb_phi=symbols('phi')\n",
    "phi = IndexedBase('state_fab'+str(symb_phi))[i,j,k,str(symb_phi)]\n",
    "\n",
    "list_vars.append(str(symb_phi))"
   ]
  },
  {
   "cell_type": "code",
   "execution_count": 4,
   "metadata": {},
   "outputs": [],
   "source": [
    "symb_gbarLL = ixp.declarerank2('gbar','sym01')\n",
    "\n",
    "gbarLL = ixp.zerorank2(DIM=3)\n",
    "for itr1 in range(len(directions)):\n",
    "    for itr2 in range(len(directions)):\n",
    "        gbarLL[itr1][itr2] = IndexedBase('state_fab'+str(symb_gbarLL[itr1][itr2]))[i,j,k,str(symb_gbarLL[itr1][itr2])]\n",
    "\n",
    "for itri in range(len(symb_gbarLL)):\n",
    "    for itrj in range(itri,len(symb_gbarLL)):\n",
    "        list_vars.append(str(symb_gbarLL[itri][itrj]))\n",
    "        \n",
    "symb_gbarLL = np.array(symb_gbarLL)"
   ]
  },
  {
   "cell_type": "code",
   "execution_count": 5,
   "metadata": {},
   "outputs": [],
   "source": [
    "symb_Ksclr=symbols('Ksclr')\n",
    "Ksclr = IndexedBase('state_fab'+str(symb_Ksclr))[i,j,k,str(symb_Ksclr)]\n",
    "\n",
    "list_vars.append(str(symb_Ksclr))"
   ]
  },
  {
   "cell_type": "code",
   "execution_count": 6,
   "metadata": {},
   "outputs": [],
   "source": [
    "symb_AbarLL = ixp.declarerank2('Abar','sym01')\n",
    "\n",
    "AbarLL = ixp.zerorank2(DIM=3)\n",
    "for itr1 in range(len(directions)):\n",
    "    for itr2 in range(len(directions)):\n",
    "        AbarLL[itr1][itr2] = IndexedBase('state_fab'+str(symb_AbarLL[itr1][itr2]))[i,j,k,str(symb_AbarLL[itr1][itr2])]\n",
    "\n",
    "for itri in range(len(symb_AbarLL)):\n",
    "    for itrj in range(itri,len(symb_AbarLL)):\n",
    "        list_vars.append(str(symb_AbarLL[itri][itrj]))\n",
    "        \n",
    "symb_AbarLL = np.array(symb_AbarLL)"
   ]
  },
  {
   "cell_type": "code",
   "execution_count": 7,
   "metadata": {},
   "outputs": [],
   "source": [
    "symb_GambarU = ixp.declarerank1('GambarU')\n",
    "GambarU = ixp.zerorank1(DIM=3)\n",
    "\n",
    "for itr in range(len(directions)):\n",
    "    GambarU[itr] = IndexedBase('state_fab'+str(symb_GambarU[itr]))[i,j,k,str(symb_GambarU[itr])]\n",
    "\n",
    "for itr in range(len(symb_GambarU)):\n",
    "    list_vars.append(str(symb_GambarU[itr]))\n",
    "\n",
    "symb_GambarU = np.array(symb_GambarU)"
   ]
  },
  {
   "cell_type": "code",
   "execution_count": 8,
   "metadata": {},
   "outputs": [],
   "source": [
    "symb_alpha =symbols('alpha')\n",
    "alpha = IndexedBase('state_fab'+str(symb_alpha))[i,j,k,str(symb_alpha)]\n",
    "\n",
    "list_vars.append(str(symb_alpha))"
   ]
  },
  {
   "cell_type": "code",
   "execution_count": 9,
   "metadata": {},
   "outputs": [],
   "source": [
    "symb_betaU = ixp.declarerank1('betaU')\n",
    "betaU = ixp.zerorank1(DIM=3)\n",
    "\n",
    "for itr in range(len(directions)):\n",
    "    betaU[itr] = IndexedBase('state_fab'+str(symb_betaU[itr]))[i,j,k,str(symb_betaU[itr])]\n",
    "\n",
    "for itr in range(len(symb_betaU)):\n",
    "    list_vars.append(str(symb_betaU[itr]))\n",
    "\n",
    "symb_betaU = np.array(symb_betaU)"
   ]
  },
  {
   "cell_type": "code",
   "execution_count": 10,
   "metadata": {},
   "outputs": [],
   "source": [
    "symb_BU = ixp.declarerank1('BU')\n",
    "BU = ixp.zerorank1(DIM=3)\n",
    "\n",
    "for itr in range(len(directions)):\n",
    "    BU[itr] = IndexedBase('state_fab'+str(symb_BU[itr]))[i,j,k,str(symb_BU[itr])]\n",
    "\n",
    "for itr in range(len(symb_BU)):\n",
    "    list_vars.append(str(symb_BU[itr]))\n",
    "\n",
    "symb_BU = np.array(symb_BU)"
   ]
  },
  {
   "cell_type": "code",
   "execution_count": 11,
   "metadata": {},
   "outputs": [],
   "source": [
    "symb_gbarUU = ixp.declarerank2('gbarinv','sym01')\n",
    "#for itri in range(len(name_gUU)):\n",
    " #   for itrj in range(itri,len(name_gUU)):\n",
    "  #      var_names.append(str(name_gUU[itri][itrj]))\n",
    "symb_gbarUU = np.array(symb_gbarUU)"
   ]
  },
  {
   "cell_type": "code",
   "execution_count": 12,
   "metadata": {},
   "outputs": [],
   "source": [
    "DcgbarLLL = ixp.zerorank3(3)\n",
    "GammabarULL = ixp.zerorank3(3)\n",
    "GammabarLLL=ixp.zerorank3(3)\n",
    "\n",
    "for itri in range(len(directions)):\n",
    "    for itrj in range(len(directions)):\n",
    "        for itrk in range(len(directions)):\n",
    "            DcgbarLLL[itri][itrj][itrk] = der(symb_gbarLL[itri][itrj],itrk)\n",
    "            \n",
    "for itri in range(len(directions)):\n",
    "    for itrj in range(len(directions)):\n",
    "        for itrk in range(len(directions)):\n",
    "            for itrl in range(len(directions)):\n",
    "                GammabarULL[itrk][itri][itrj] += 1/2*symb_gbarUU[itrk][itrl]*(DcgbarLLL[itrl][itri][itrj]+DcgbarLLL[itrl][itrj][itri]-DcgbarLLL[itri][itrj][itrl])\n",
    "                \n",
    "for itri in range(len(directions)):\n",
    "    for itrj in range(len(directions)):\n",
    "        for itrk in range(len(directions)):\n",
    "            for itrl in range(len(directions)):\n",
    "                GammabarLLL[itri][itrj][itrk]+= symb_gbarLL[itri][itrl]*GammabarULL[itrl][itrj][itrk]\n",
    "                \n",
    "GammaULL = ixp.zerorank3(3)\n",
    "for i in range(3):\n",
    "    for j in range(3):\n",
    "        for k in range(3):\n",
    "            GammaULL[i][j][k] += GammabarULL[i][j][k] + 2*(sp.eye(3)[i,j]*der(symb_phi,k)+sp.eye(3)[i,k]*der(symb_phi,j))\n",
    "            for l in range(3):\n",
    "                GammaULL[i][j][k] += -2*symb_gbarLL[j][k]*symb_gbarUU[i][l]*der(phi,l)"
   ]
  },
  {
   "cell_type": "code",
   "execution_count": 13,
   "metadata": {},
   "outputs": [],
   "source": [
    "RbarLL = ixp.zerorank2(3)\n",
    "\n",
    "for i in range(len(directions)):\n",
    "    for j in range(i,len(directions)):\n",
    "        for l in range(len(directions)):\n",
    "            for m in range(i,len(directions)):\n",
    "                RbarLL[i][j] += -1/2*symb_gbarUU[l][m]*der(der(symb_gbarLL[i][j],l),m)\n",
    "                for k in range(len(directions)):\n",
    "                    RbarLL[i][j] += symb_gbarUU[l][m]*(GammabarULL[k][l][i]*GammabarLLL[j][k][m]+GammabarULL[k][l][j]*GammabarLLL[i][k][m]+GammabarULL[k][i][m]*GammabarLLL[k][l][j])\n",
    "        for  k in range(len(directions)):\n",
    "            RbarLL[i][j]+= 1/2*(symb_gbarLL[k][i]*der(symb_GambarU[k],j)+symb_gbarLL[k][j]*der(symb_GambarU[k],i))+symb_GambarU[k]*1/2*(GammabarLLL[i][j][k]+GammabarLLL[j][i][k])"
   ]
  },
  {
   "cell_type": "code",
   "execution_count": 14,
   "metadata": {},
   "outputs": [],
   "source": [
    "RphiLL = ixp.zerorank2(3)\n",
    "DbarDbarphi = ixp.zerorank2(3)\n",
    "\n",
    "for i in range(len(directions)):\n",
    "    for j in range(len(directions)):\n",
    "        DbarDbarphi[i][j] += der(der(symb_phi,i),j)\n",
    "        for k in range(len(directions)):\n",
    "            DbarDbarphi[i][j] += GammabarULL[k][i][j]*der(symb_phi,k)\n",
    "\n",
    "for i in range(len(directions)):\n",
    "    for j in range(len(directions)):\n",
    "        RphiLL[i][j] += -2*DbarDbarphi[i][j] + 4*der(symb_phi,i)*der(symb_phi,j)\n",
    "        for l in range(len(directions)):\n",
    "            for m in range(len(directions)):\n",
    "                RphiLL[i][j] += symb_gbarLL[i][j]*symb_gbarUU[l][m]*(-2*DbarDbarphi[l][m]-4*der(der(symb_phi,l),m))"
   ]
  },
  {
   "cell_type": "code",
   "execution_count": 15,
   "metadata": {},
   "outputs": [],
   "source": [
    "symb_RLL = ixp.declarerank2('RLL','sym01')\n",
    "#for itri in range(len(name_gUU)):\n",
    " #   for itrj in range(itri,len(name_gUU)):\n",
    "  #      var_names.append(str(name_gUU[itri][itrj]))\n",
    "symb_RLL = np.array(symb_RLL)"
   ]
  },
  {
   "cell_type": "code",
   "execution_count": 16,
   "metadata": {},
   "outputs": [],
   "source": [
    "symb_RTFLL = ixp.declarerank2('RTFLL','sym01')\n",
    "#for itri in range(len(name_gUU)):\n",
    " #   for itrj in range(itri,len(name_gUU)):\n",
    "  #      var_names.append(str(name_gUU[itri][itrj]))\n",
    "symb_RTFLL = np.array(symb_RTFLL)"
   ]
  },
  {
   "cell_type": "code",
   "execution_count": 17,
   "metadata": {},
   "outputs": [],
   "source": [
    "RLL = ixp.zerorank2(3)\n",
    "for i in range(len(directions)):\n",
    "    for j in range(len(directions)):\n",
    "        RLL[i][j] += RbarLL[i][j]+RphiLL[i][j]"
   ]
  },
  {
   "cell_type": "code",
   "execution_count": 18,
   "metadata": {},
   "outputs": [],
   "source": [
    "#print(\"amrex::Real \" + str(symb_RLL[0][0]) + \" = \" + AMReXcode(RLL[0][0])+'\\n')"
   ]
  },
  {
   "cell_type": "code",
   "execution_count": 19,
   "metadata": {},
   "outputs": [],
   "source": [
    "#RTFLL = ixp.zerorank2(3)\n",
    "#for i in range(len(directions)):\n",
    "#    for j in range(len(directions)):\n",
    "#        RTFLL[i][j] += RLL[i][j]\n",
    "#        for l in range(len(directions)):\n",
    "#            for m in range(len(directions)):\n",
    "#                RTFLL[i][j] += -1/3*symb_gbarLL[i][j]*sp.exp(4*symb_phi)*symb_gbarUU[l][m]*RLL[l][m]"
   ]
  },
  {
   "cell_type": "code",
   "execution_count": 20,
   "metadata": {},
   "outputs": [],
   "source": [
    "RHS_phi = -1/6*symb_alpha*symb_Ksclr\n",
    "for k in range(len(directions)):\n",
    "    RHS_phi += symb_betaU[k]*der(symb_phi,k)+1/6*der(symb_betaU[k],k)"
   ]
  },
  {
   "cell_type": "code",
   "execution_count": 21,
   "metadata": {},
   "outputs": [],
   "source": [
    "RHS_gbarLL = ixp.zerorank2(3)\n",
    "for i in range(3):\n",
    "    for j in range(3):\n",
    "        RHS_gbarLL[i][j] += -2*symb_alpha*symb_AbarLL[i][j]\n",
    "        for k in range(3):\n",
    "            RHS_gbarLL[i][j] += symb_betaU[k]*der(symb_gbarLL[i][j],k)+symb_gbarLL[i][k]*der(symb_betaU[k],j)+symb_gbarLL[j][k]*der(symb_betaU[k],i)-2/3*symb_gbarLL[i][j]*der(symb_betaU[k],k)"
   ]
  },
  {
   "cell_type": "code",
   "execution_count": 22,
   "metadata": {},
   "outputs": [],
   "source": [
    "symb_AbarUU = ixp.zerorank2(3)\n",
    "for i in range(3):\n",
    "    for j in range(3):\n",
    "        for k in range(3):\n",
    "            for l in range(3):\n",
    "                symb_AbarUU[i][j] += symb_gbarUU[i][k]*symb_gbarUU[j][l]*symb_AbarLL[k][l]\n",
    "                \n",
    "symb_AbarUL = ixp.zerorank2(3)\n",
    "for i in range(3):\n",
    "    for j in range(3):\n",
    "        for k in range(3):\n",
    "            symb_AbarUL[i][j] = symb_gbarUU[i][k]*symb_AbarLL[k][j]"
   ]
  },
  {
   "cell_type": "code",
   "execution_count": 23,
   "metadata": {},
   "outputs": [],
   "source": [
    "DDalpha= ixp.zerorank2(3)\n",
    "for i in range(3):\n",
    "    for j in range(3):\n",
    "        DDalpha[i][j] += der(der(symb_alpha,i),j)\n",
    "        for k in range(3):\n",
    "            DDalpha[i][j] += -GammaULL[k][i][j]*der(symb_alpha,k)"
   ]
  },
  {
   "cell_type": "code",
   "execution_count": 24,
   "metadata": {},
   "outputs": [],
   "source": [
    "RHS_Ksclr=0\n",
    "for i in range(3):\n",
    "    for j in range(3):\n",
    "        RHS_Ksclr += -sp.exp(4*symb_phi)*symb_gbarLL[i][j]*DDalpha[i][j]\n",
    "        RHS_Ksclr += symb_alpha*(symb_AbarLL[i][j]*symb_AbarUU[i][j]+1/3*symb_Ksclr**2)\n",
    "for i in range(3):\n",
    "    RHS_Ksclr += symb_betaU[i]*der(symb_Ksclr,i)"
   ]
  },
  {
   "cell_type": "code",
   "execution_count": 25,
   "metadata": {},
   "outputs": [],
   "source": [
    "DDalphaTF = ixp.zerorank2(3)\n",
    "for i in range(3):\n",
    "    for j in range(3):\n",
    "        DDalphaTF[i][j]=DDalpha[i][j]\n",
    "        for l in range(3):\n",
    "            for m in range(3):\n",
    "                DDalphaTF[i][j] += -1/3*sp.exp(4*symb_phi)*symb_gbarLL[i][j]*symb_gbarUU[l][m]*DDalpha[l][m]\n",
    "        "
   ]
  },
  {
   "cell_type": "code",
   "execution_count": 26,
   "metadata": {},
   "outputs": [],
   "source": [
    "RTFLL = ixp.zerorank2(3)\n",
    "for i in range(3):\n",
    "    for j in range(3):\n",
    "        RTFLL[i][j] = symb_RLL[i][j]\n",
    "        for l in range(3):\n",
    "            for m in range(3):\n",
    "                RTFLL[i][j] += -1/3*sp.exp(4*symb_phi)*symb_gbarLL[i][j]*symb_gbarUU[l][m]*symb_RLL[l][m]"
   ]
  },
  {
   "cell_type": "code",
   "execution_count": 27,
   "metadata": {},
   "outputs": [],
   "source": [
    "RHS_AbarLL = ixp.zerorank2(3)\n",
    "for i in range(3):\n",
    "    for j in range(3):\n",
    "        RHS_AbarLL[i][j] += sp.exp(-4*symb_phi)*(-DDalphaTF[i][j]+symb_alpha*(RTFLL[i][j]))+symb_alpha*symb_Ksclr*symb_AbarLL[i][j]\n",
    "        for k in range(3):\n",
    "            RHS_AbarLL[i][j] += -2*symb_alpha*symb_AbarLL[i][k]*symb_AbarUL[k][j]\n",
    "            RHS_AbarLL[i][j] += symb_betaU[k]*der(symb_AbarLL[i][j],k)+symb_AbarLL[i][k]*der(symb_betaU[k],j)+symb_AbarLL[k][j]*der(symb_betaU[k],i)-2/3*symb_AbarLL[i][j]*der(symb_betaU[k],k)\n"
   ]
  },
  {
   "cell_type": "code",
   "execution_count": 28,
   "metadata": {},
   "outputs": [],
   "source": [
    "RHS_GambarU = ixp.zerorank1(3)\n",
    "for i in range(3):\n",
    "    for j in range(3):\n",
    "        RHS_GambarU[i] += -2*symb_AbarUU[i][j]*der(symb_alpha,j)+2*symb_alpha*(-2/3*symb_gbarUU[i][j]*der(symb_Ksclr,j)+6*symb_AbarUU[i][j]*der(symb_phi,j))\n",
    "        RHS_GambarU[i] += symb_betaU[j]*der(symb_GambarU[i],j)-symb_GambarU[j]*der(symb_betaU[i],j)+2/3*symb_GambarU[i]*der(symb_betaU[j],j)\n",
    "        for l in range(3):\n",
    "            RHS_GambarU[i] += 2*symb_alpha*GammabarULL[i][j][l]*symb_AbarUU[l][j]\n",
    "            RHS_GambarU[i] +=1/3*symb_gbarUU[l][i]*der(der(symb_betaU[j],j),l)+symb_gbarUU[l][j]*der(der(symb_betaU[i],l),j)"
   ]
  },
  {
   "cell_type": "code",
   "execution_count": null,
   "metadata": {},
   "outputs": [],
   "source": []
  }
 ],
 "metadata": {
  "kernelspec": {
   "display_name": "Python 3",
   "language": "python",
   "name": "python3"
  },
  "language_info": {
   "codemirror_mode": {
    "name": "ipython",
    "version": 3
   },
   "file_extension": ".py",
   "mimetype": "text/x-python",
   "name": "python",
   "nbconvert_exporter": "python",
   "pygments_lexer": "ipython3",
   "version": "3.5.2"
  }
 },
 "nbformat": 4,
 "nbformat_minor": 2
}
