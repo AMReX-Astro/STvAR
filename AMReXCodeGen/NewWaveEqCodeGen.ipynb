{
 "cells": [
  {
   "cell_type": "code",
   "execution_count": 1,
   "metadata": {},
   "outputs": [],
   "source": [
    "from FunctionSet import *\n",
    "# The NRPy_param_funcs module sets up global structures that manage free parameters within NRPy+\n",
    "import NRPy_param_funcs as par \n",
    "# The indexedexp module defines various functions for defining and managing indexed quantities like tensors and pseudotensors\n",
    "import indexedexp as ixp\n",
    "# The grid module defines various parameters related to a numerical grid or the dimensionality of indexed expressions\n",
    "# For example, it declares the parameter DIM, which specifies the dimensionality of the indexed expression\n",
    "import grid as gri\n",
    "from outputC import *\n",
    "import numpy as np\n",
    "\n",
    "import sympy\n",
    "from sympy import symbols, IndexedBase, Indexed, Idx, preorder_traversal"
   ]
  },
  {
   "cell_type": "code",
   "execution_count": 2,
   "metadata": {},
   "outputs": [
    {
     "name": "stdout",
     "output_type": "stream",
     "text": [
      "state_fab[i, j, k, Phi]\n",
      "state_fab[i, j, k, Pi]\n",
      "Idx::phi\n"
     ]
    }
   ],
   "source": [
    "Nx, Ny, Nz= symbols('Nx Ny Nz', integer=True)\n",
    "i = Idx('i', Nx)\n",
    "j = Idx('j', Ny)\n",
    "k = Idx('k', Nz)\n",
    "name = Idx('name')\n",
    "dx, dy, dz = symbols('dx dy dz')\n",
    "\n",
    "var_names = [\"Phi\",\"Pi\"]\n",
    "\n",
    "phi = IndexedBase('state_fab')[i,j,k,var_names[0]]\n",
    "pi = IndexedBase('state_fab')[i,j,k,var_names[1]]\n",
    "\n",
    "print(phi)\n",
    "print(pi)\n",
    "\n",
    "print(\"Idx::phi\")"
   ]
  },
  {
   "cell_type": "code",
   "execution_count": 3,
   "metadata": {},
   "outputs": [],
   "source": [
    "RHS_dotPHI = pi\n",
    "RHS_dotPI = Dc2(phi,'x')+Dc2(phi,'y')"
   ]
  },
  {
   "cell_type": "code",
   "execution_count": 4,
   "metadata": {},
   "outputs": [
    {
     "data": {
      "text/plain": [
       "(state_fab[i, j - 1, k, Phi] + state_fab[i, j + 1, k, Phi] - 2*state_fab[i, j, k, Phi])/dy**2 + (state_fab[i - 1, j, k, Phi] + state_fab[i + 1, j, k, Phi] - 2*state_fab[i, j, k, Phi])/dx**2"
      ]
     },
     "execution_count": 4,
     "metadata": {},
     "output_type": "execute_result"
    }
   ],
   "source": [
    "RHS_dotPI"
   ]
  },
  {
   "cell_type": "code",
   "execution_count": 5,
   "metadata": {},
   "outputs": [
    {
     "name": "stdout",
     "output_type": "stream",
     "text": [
      "rhs_fab(i, j, k, Idx::Phi) = state_fab(i, j, k, Idx::Pi);\n",
      "\n",
      "rhs_fab(i, j, k, Idx::Pi) = (state_fab(i, j - 1, k, Idx::Phi) + state_fab(i, j + 1, k, Idx::Phi) - 2*state_fab(i, j, k, Idx::Phi))/(dx[1]*dx[1]) + (state_fab(i - 1, j, k, Idx::Phi) + state_fab(i + 1, j, k, Idx::Phi) - 2*state_fab(i, j, k, Idx::Phi))/(dx[0]*dx[0]);\n"
     ]
    }
   ],
   "source": [
    "print(AMReXcode(RHS_dotPHI,var_names,True,var_names[0])+\"\\n\")\n",
    "print(AMReXcode(RHS_dotPI,var_names,True,var_names[1]))"
   ]
  },
  {
   "cell_type": "code",
   "execution_count": null,
   "metadata": {},
   "outputs": [],
   "source": []
  }
 ],
 "metadata": {
  "kernelspec": {
   "display_name": "Python 3",
   "language": "python",
   "name": "python3"
  },
  "language_info": {
   "codemirror_mode": {
    "name": "ipython",
    "version": 3
   },
   "file_extension": ".py",
   "mimetype": "text/x-python",
   "name": "python",
   "nbconvert_exporter": "python",
   "pygments_lexer": "ipython3",
   "version": "3.5.2"
  }
 },
 "nbformat": 4,
 "nbformat_minor": 2
}
