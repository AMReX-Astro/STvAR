{
 "cells": [
  {
   "cell_type": "code",
   "execution_count": 1,
   "metadata": {},
   "outputs": [],
   "source": [
    "from SpacetimeVar import *"
   ]
  },
  {
   "cell_type": "code",
   "execution_count": 2,
   "metadata": {},
   "outputs": [],
   "source": [
    "dim = 3\n",
    "path = \"../Source/Z4c/\""
   ]
  },
  {
   "cell_type": "code",
   "execution_count": 3,
   "metadata": {},
   "outputs": [
    {
     "data": {
      "text/plain": [
       "75"
      ]
     },
     "execution_count": 3,
     "metadata": {},
     "output_type": "execute_result"
    }
   ],
   "source": [
    "fileRHS = open(path+\"ET_Integration_Rhs_K.H\", \"w+\")\n",
    "fileRHS.write(\"#ifndef ET_INTEGRATION_RHS_K_H \\n\")\n",
    "fileRHS.write(\"#define ET_INTEGRATION_RHS_K_H \\n\\n\")\n",
    "\n",
    "fileRHS.write(\"#include <AMReX_REAL.H> \\n\")\n",
    "fileRHS.write(\"#include <AMReX_Array4.H> \\n\")\n",
    "fileRHS.write(\"#include <ET_Integration_Setup.H> \\n\\n\")\n",
    "\n",
    "fileRHS.write(\"AMREX_GPU_DEVICE \\ninline \\nvoid \\n\")\n",
    "fileRHS.write(\"state_rhs(int i, int j, int k, \\n\")\n",
    "fileRHS.write(\"        amrex::Array4<amrex::Real> const& rhs_fab, \\n\")\n",
    "fileRHS.write(\"        amrex::Array4<amrex::Real const> const& state_fab, \\n\")\n",
    "fileRHS.write(\"        amrex::GpuArray<amrex::Real,AMREX_SPACEDIM> const& dx) noexcept \\n{\\n\")"
   ]
  },
  {
   "cell_type": "code",
   "execution_count": 4,
   "metadata": {},
   "outputs": [],
   "source": [
    "stVar.decl = []\n",
    "\n",
    "phi = stVar('phi', declare = True)\n",
    "gamtildeLL = stVarRank2('gamtildeLL', sym = 'sym01', declare = True)\n",
    "Khat = stVar('Khat', declare = True)\n",
    "AtildeLL = stVarRank2('AtildeLL', sym = 'sym01', declare = True)\n",
    "theta = stVar('theta', declare = True)\n",
    "GamtildeU = stVarRank1('GamtildeU', declare = True)"
   ]
  },
  {
   "cell_type": "code",
   "execution_count": 5,
   "metadata": {},
   "outputs": [],
   "source": [
    "alpha = stVar('alpha', declare = True)\n",
    "betaU = stVarRank1('betaU', declare = True)\n",
    "BU = stVarRank1('BU', declare = True)"
   ]
  },
  {
   "cell_type": "code",
   "execution_count": 6,
   "metadata": {},
   "outputs": [],
   "source": [
    "chi = stVar('chi')\n",
    "chi.var = sp.exp(-4*phi.symb)"
   ]
  },
  {
   "cell_type": "code",
   "execution_count": 7,
   "metadata": {},
   "outputs": [
    {
     "data": {
      "text/plain": [
       "44"
      ]
     },
     "execution_count": 7,
     "metadata": {},
     "output_type": "execute_result"
    }
   ],
   "source": [
    "fileRHS.write(phi.AMReXDeclare())\n",
    "fileRHS.write(gamtildeLL.AMReXDeclare())\n",
    "fileRHS.write(Khat.AMReXDeclare())\n",
    "fileRHS.write(AtildeLL.AMReXDeclare())\n",
    "fileRHS.write(theta.AMReXDeclare())\n",
    "fileRHS.write(GamtildeU.AMReXDeclare())\n",
    "\n",
    "fileRHS.write(alpha.AMReXDeclare())\n",
    "fileRHS.write(betaU.AMReXDeclare())\n",
    "fileRHS.write(BU.AMReXDeclare())\n",
    "\n",
    "fileRHS.write(chi.AMReXReal())\n"
   ]
  },
  {
   "cell_type": "code",
   "execution_count": 8,
   "metadata": {},
   "outputs": [],
   "source": [
    "DiffOrder = 4\n",
    "KOsigma = 0.1"
   ]
  },
  {
   "cell_type": "code",
   "execution_count": 9,
   "metadata": {
    "scrolled": true
   },
   "outputs": [
    {
     "data": {
      "text/plain": [
       "2637"
      ]
     },
     "execution_count": 9,
     "metadata": {},
     "output_type": "execute_result"
    }
   ],
   "source": [
    "fileRHS.write(DstVar(phi,1, orderD = DiffOrder).AMReXDeclare())\n",
    "fileRHS.write(DstVar(phi,2,orderD = DiffOrder).AMReXDeclare())\n",
    "fileRHS.write(DstVar(phi, 'KO', orderD = DiffOrder, sigma = KOsigma).AMReXDeclare())\n",
    "\n",
    "fileRHS.write(DstVarRank2(gamtildeLL,1,orderD = DiffOrder).AMReXDeclare())\n",
    "fileRHS.write(DstVarRank2(gamtildeLL,2,orderD = DiffOrder).AMReXDeclare())\n",
    "fileRHS.write(DstVarRank2(gamtildeLL, 'KO', sigma = KOsigma).AMReXDeclare())\n",
    "\n",
    "fileRHS.write(DstVar(Khat,1,orderD = DiffOrder).AMReXDeclare())\n",
    "fileRHS.write(DstVar(Khat, 'KO', sigma = KOsigma,orderD = DiffOrder).AMReXDeclare())\n",
    "\n",
    "fileRHS.write(DstVarRank2(AtildeLL,1, orderD = DiffOrder).AMReXDeclare())\n",
    "fileRHS.write(DstVarRank2(AtildeLL, 'KO', sigma = KOsigma, orderD = DiffOrder).AMReXDeclare())\n",
    "\n",
    "fileRHS.write(DstVar(theta,1, orderD = DiffOrder).AMReXDeclare())\n",
    "fileRHS.write(DstVar(theta, 'KO', sigma = KOsigma, orderD = DiffOrder).AMReXDeclare())\n",
    "\n",
    "fileRHS.write(DstVarRank1(GamtildeU, 1, orderD = DiffOrder).AMReXDeclare())\n",
    "fileRHS.write(DstVarRank1(GamtildeU, 'KO', sigma = KOsigma, orderD = DiffOrder).AMReXDeclare())\n",
    "\n",
    "fileRHS.write(DstVar(alpha, 1, orderD = DiffOrder).AMReXDeclare())\n",
    "fileRHS.write(DstVar(alpha, 2, orderD = DiffOrder).AMReXDeclare())\n",
    "fileRHS.write(DstVar(alpha, 'KO', sigma = KOsigma, orderD = DiffOrder).AMReXDeclare())\n",
    "\n",
    "fileRHS.write(DstVarRank1(betaU, 1, orderD = DiffOrder).AMReXDeclare())\n",
    "fileRHS.write(DstVarRank1(betaU, 2, orderD = DiffOrder).AMReXDeclare())\n",
    "fileRHS.write(DstVarRank1(betaU, 'KO', sigma = KOsigma, orderD = DiffOrder).AMReXDeclare())\n",
    "\n",
    "fileRHS.write(DstVarRank1(BU, 1, orderD = DiffOrder).AMReXDeclare())\n",
    "fileRHS.write(DstVarRank1(BU, 'KO', sigma = KOsigma, orderD = DiffOrder).AMReXDeclare())\n"
   ]
  },
  {
   "cell_type": "code",
   "execution_count": 10,
   "metadata": {},
   "outputs": [],
   "source": [
    "gamtildeUU = stVarRank2('gamtildeUU')\n",
    "for i in range(dim):\n",
    "    for j in range(dim):\n",
    "         gamtildeUU.var[i][j] += sp.simplify(sp.Matrix(gamtildeLL.symb).inv()[i,j])"
   ]
  },
  {
   "cell_type": "code",
   "execution_count": 11,
   "metadata": {},
   "outputs": [],
   "source": [
    "detgamtilde = stVar('detgamtilde')\n",
    "detgamtilde.var = sp.simplify(sp.Matrix(gamtildeLL.symb).det())"
   ]
  },
  {
   "cell_type": "code",
   "execution_count": 12,
   "metadata": {},
   "outputs": [
    {
     "name": "stdout",
     "output_type": "stream",
     "text": [
      "gamtildeLL00*gamtildeLL11*gamtildeLL22 - gamtildeLL00*gamtildeLL12*gamtildeLL21 - gamtildeLL01*gamtildeLL10*gamtildeLL22 + gamtildeLL01*gamtildeLL12*gamtildeLL20 + gamtildeLL02*gamtildeLL10*gamtildeLL21 - gamtildeLL02*gamtildeLL11*gamtildeLL20\n"
     ]
    }
   ],
   "source": [
    "print(detgamtilde.var)"
   ]
  },
  {
   "cell_type": "code",
   "execution_count": 13,
   "metadata": {},
   "outputs": [
    {
     "data": {
      "text/plain": [
       "3026"
      ]
     },
     "execution_count": 13,
     "metadata": {},
     "output_type": "execute_result"
    }
   ],
   "source": [
    "fileRHS.write(gamtildeUU.AMReXReal())"
   ]
  },
  {
   "cell_type": "code",
   "execution_count": 14,
   "metadata": {},
   "outputs": [],
   "source": [
    "DgamtildeLLL = stVarRank3('DgambarLLL')\n",
    "GamtildeULL = stVarRank3('GamtildeULL')\n",
    "GamtildeLLL = stVarRank3('GamtildeLLL')\n",
    "GamULL = stVarRank3('GamULL')\n",
    "\n",
    "for i in range(dim):\n",
    "    for j in range(dim):\n",
    "        for k in range(dim):\n",
    "            DgamtildeLLL.var[i][j][k] = Dsymb(gamtildeLL.symb[i][j],k)\n",
    "            \n",
    "for i in range(dim):\n",
    "    for j in range(dim):\n",
    "        for k in range(dim):\n",
    "            for l in range(dim):\n",
    "                GamtildeULL.var[i][j][k] += 1/2*gamtildeUU.symb[i][l]*(DgamtildeLLL.var[l][j][k]+DgamtildeLLL.var[l][k][j]-DgamtildeLLL.var[j][k][l])\n",
    "                \n",
    "for i in range(dim):\n",
    "    for j in range(dim):\n",
    "        for k in range(dim):\n",
    "            for l in range(dim):\n",
    "                GamtildeLLL.var[i][j][k] += gamtildeLL.symb[i][l]*GamtildeULL.var[l][j][k]\n",
    "                \n",
    "for i in range(dim):\n",
    "    for j in range(dim):\n",
    "        for k in range(dim):\n",
    "            GamULL.var[i][j][k] += GamtildeULL.symb[i][j][k] + 2*(sp.eye(3)[i,j]*Dsymb(phi.symb,k)+sp.eye(3)[i,k]*Dsymb(phi.symb,j))\n",
    "            for l in range(3):\n",
    "                GamULL.var[i][j][k] += -2*gamtildeLL.symb[j][k]*gamtildeUU.symb[i][l]*Dsymb(phi.symb,l)\n",
    "                               \n",
    "                "
   ]
  },
  {
   "cell_type": "code",
   "execution_count": 15,
   "metadata": {},
   "outputs": [
    {
     "data": {
      "text/plain": [
       "4362"
      ]
     },
     "execution_count": 15,
     "metadata": {},
     "output_type": "execute_result"
    }
   ],
   "source": [
    "fileRHS.write(GamtildeULL.AMReXReal())\n",
    "fileRHS.write(GamtildeLLL.AMReXReal())\n",
    "fileRHS.write(GamULL.AMReXReal())"
   ]
  },
  {
   "cell_type": "code",
   "execution_count": 16,
   "metadata": {},
   "outputs": [],
   "source": [
    "DDalphaLL = stVarRank2('DDalphaLL')\n",
    "for i in range(3):\n",
    "    for j in range(3):\n",
    "        DDalphaLL.var[i][j] += Dsymb(alpha.symb,str(i)+str(j))\n",
    "        for k in range(3):\n",
    "            DDalphaLL.var[i][j] += -GamULL.symb[k][i][j]*Dsymb(alpha.symb,str(k))"
   ]
  },
  {
   "cell_type": "code",
   "execution_count": 17,
   "metadata": {},
   "outputs": [
    {
     "data": {
      "text/plain": [
       "954"
      ]
     },
     "execution_count": 17,
     "metadata": {},
     "output_type": "execute_result"
    }
   ],
   "source": [
    "fileRHS.write(DDalphaLL.AMReXReal())"
   ]
  },
  {
   "cell_type": "code",
   "execution_count": 18,
   "metadata": {},
   "outputs": [],
   "source": [
    "gamLL = stVarRank2('gamLL')\n",
    "for i in range(3):\n",
    "    for j in range(3):\n",
    "        gamLL.var[i][j] = sp.exp(4*phi.symb)*gamtildeLL.symb[i][j]\n",
    "        \n",
    "gamUU = stVarRank2('gamUU')\n",
    "for i in range(3):\n",
    "    for j in range(3):\n",
    "        gamUU.var[i][j] = sp.exp(-4*phi.symb)*gamtildeUU.symb[i][j]"
   ]
  },
  {
   "cell_type": "code",
   "execution_count": 19,
   "metadata": {},
   "outputs": [
    {
     "data": {
      "text/plain": [
       "549"
      ]
     },
     "execution_count": 19,
     "metadata": {},
     "output_type": "execute_result"
    }
   ],
   "source": [
    "fileRHS.write(gamLL.AMReXReal())\n",
    "fileRHS.write(gamUU.AMReXReal())"
   ]
  },
  {
   "cell_type": "code",
   "execution_count": 20,
   "metadata": {},
   "outputs": [],
   "source": [
    "AtildeUU = stVarRank2('AtildeUU')\n",
    "for i in range(3):\n",
    "    for j in range(3):\n",
    "        for k in range(3):\n",
    "            for l in range(3):\n",
    "                AtildeUU.var[i][j] += gamtildeUU.symb[i][k]*gamtildeUU.symb[j][l]*AtildeLL.symb[k][l]\n",
    "                \n",
    "AtildeUL = stVarRank2('AtildeUL')\n",
    "for i in range(3):\n",
    "    for j in range(3):\n",
    "        for k in range(3):\n",
    "            AtildeUL.var[i][j] += gamtildeUU.symb[i][k]*AtildeLL.symb[k][j]"
   ]
  },
  {
   "cell_type": "code",
   "execution_count": 21,
   "metadata": {},
   "outputs": [],
   "source": [
    "TrAtilde = stVar('TrAtilde')\n",
    "for i in range(3):\n",
    "    for j in range(3):\n",
    "        TrAtilde.var += gamtildeUU.symb[i][j]*AtildeLL.symb[i][j]"
   ]
  },
  {
   "cell_type": "code",
   "execution_count": 22,
   "metadata": {},
   "outputs": [
    {
     "name": "stdout",
     "output_type": "stream",
     "text": [
      "        amrex::Real TrAtilde = 0 + AtildeLL00*gamtildeUU00 + AtildeLL01*gamtildeUU01 + AtildeLL02*gamtildeUU02 + AtildeLL10*gamtildeUU10 + AtildeLL11*gamtildeUU11 + AtildeLL12*gamtildeUU12 + AtildeLL20*gamtildeUU20 + AtildeLL21*gamtildeUU21 + AtildeLL22*gamtildeUU22;\n",
      "\n"
     ]
    }
   ],
   "source": [
    "print(TrAtilde.AMReXReal())"
   ]
  },
  {
   "cell_type": "code",
   "execution_count": 23,
   "metadata": {},
   "outputs": [
    {
     "data": {
      "text/plain": [
       "990"
      ]
     },
     "execution_count": 23,
     "metadata": {},
     "output_type": "execute_result"
    }
   ],
   "source": [
    "fileRHS.write(AtildeUU.AMReXReal())\n",
    "fileRHS.write(AtildeUL.AMReXReal())"
   ]
  },
  {
   "cell_type": "code",
   "execution_count": 24,
   "metadata": {},
   "outputs": [],
   "source": [
    "DDalphaTFLL=stVarRank2('DDalphaTFLL')\n",
    "\n",
    "for i in range(3):\n",
    "    for j in range(3):\n",
    "        DDalphaTFLL.var[i][j] += DDalphaLL.symb[i][j]\n",
    "        for k in range(3):\n",
    "            for l in range(3):\n",
    "                DDalphaTFLL.var[i][j] += -1/3*gamLL.symb[i][j]*(gamUU.symb[k][l]*DDalphaLL.symb[k][l])"
   ]
  },
  {
   "cell_type": "code",
   "execution_count": 25,
   "metadata": {},
   "outputs": [
    {
     "data": {
      "text/plain": [
       "4500"
      ]
     },
     "execution_count": 25,
     "metadata": {},
     "output_type": "execute_result"
    }
   ],
   "source": [
    "fileRHS.write(DDalphaTFLL.AMReXReal())"
   ]
  },
  {
   "cell_type": "code",
   "execution_count": 26,
   "metadata": {},
   "outputs": [],
   "source": [
    "GamtildeDU = stVarRank1('GamtildeDU')\n",
    "for i in range(dim):\n",
    "    for j in range(dim):\n",
    "        for k in range(dim):\n",
    "            GamtildeDU.var[i] += GamtildeULL.symb[i][j][k]*gamtildeUU.symb[j][k] "
   ]
  },
  {
   "cell_type": "code",
   "execution_count": 27,
   "metadata": {},
   "outputs": [
    {
     "data": {
      "text/plain": [
       "909"
      ]
     },
     "execution_count": 27,
     "metadata": {},
     "output_type": "execute_result"
    }
   ],
   "source": [
    "fileRHS.write(GamtildeDU.AMReXReal())"
   ]
  },
  {
   "cell_type": "code",
   "execution_count": 28,
   "metadata": {},
   "outputs": [],
   "source": [
    "RtildeLL = stVarRank2('RtildeLL')\n",
    "\n",
    "for i in range(3):\n",
    "    for j in range(3):\n",
    "        for l in range(3):\n",
    "            for m in range(3):\n",
    "                RtildeLL.var[i][j] += -1/2*gamtildeUU.symb[l][m]*Dsymb(gamtildeLL.symb[i][j],str(l)+str(m))\n",
    "        for k in range(3):\n",
    "            RtildeLL.var[i][j] += 1/2*(gamtildeLL.symb[k][i]*Dsymb(GamtildeU.symb[k],str(j))+gamtildeLL.symb[k][j]*Dsymb(GamtildeU.symb[k],str(i)))\n",
    "            RtildeLL.var[i][j] += 1/2*(GamtildeDU.symb[k]*GamtildeLLL.symb[i][j][k]+GamtildeDU.symb[k]*GamtildeLLL.symb[j][i][k])\n",
    "            #RtildeLL.var[i][j] += 1/2*GamtildeU.symb[k]*(symb_GambarLLL[i][j][k]+symb_GambarLLL[j][i][k])\n",
    "            #RtildeLL.var[i][j] += 1/2*(symb_gambarLL[k][i]*der(symb_GambarU[k],j)+symb_gambarLL[k][j]*der(symb_GambarU[k],i))\n",
    "            \n",
    "for i in range(3):\n",
    "    for j in range(3):\n",
    "        for k in range(3):\n",
    "            for l in range(3):\n",
    "                for m in range(3):\n",
    "                    RtildeLL.var[i][j] += gamtildeUU.symb[l][m]*(GamtildeULL.symb[k][l][i]*GamtildeLLL.symb[j][k][m]+GamtildeULL.symb[k][l][j]*GamtildeLLL.symb[i][k][m])\n",
    "                    RtildeLL.var[i][j] += gamtildeUU.symb[l][m]*GamtildeULL.symb[k][i][m]*GamtildeLLL.symb[k][l][j]"
   ]
  },
  {
   "cell_type": "code",
   "execution_count": 29,
   "metadata": {},
   "outputs": [
    {
     "data": {
      "text/plain": [
       "33534"
      ]
     },
     "execution_count": 29,
     "metadata": {},
     "output_type": "execute_result"
    }
   ],
   "source": [
    "fileRHS.write(RtildeLL.AMReXReal())"
   ]
  },
  {
   "cell_type": "code",
   "execution_count": 30,
   "metadata": {},
   "outputs": [],
   "source": [
    "DtildeDtildephiLL = stVarRank2('DtildeDtildephiLL')\n",
    "for i in range(3):\n",
    "    for j in range(3):\n",
    "        DtildeDtildephiLL.var[i][j] += Dsymb(phi.symb,str(i)+str(j))\n",
    "        for k in range(3):\n",
    "            DtildeDtildephiLL.var[i][j] += -GamtildeULL.symb[k][i][j]*Dsymb(phi.symb,k)\n"
   ]
  },
  {
   "cell_type": "code",
   "execution_count": 31,
   "metadata": {
    "scrolled": true
   },
   "outputs": [
    {
     "data": {
      "text/plain": [
       "1089"
      ]
     },
     "execution_count": 31,
     "metadata": {},
     "output_type": "execute_result"
    }
   ],
   "source": [
    "fileRHS.write(DtildeDtildephiLL.AMReXReal())"
   ]
  },
  {
   "cell_type": "code",
   "execution_count": 32,
   "metadata": {},
   "outputs": [],
   "source": [
    "RphiLL = stVarRank2('RphiLL')            \n",
    "for i in range(3):\n",
    "    for j in range(3):\n",
    "        RphiLL.var[i][j] += -2*(DtildeDtildephiLL.symb[i][j])+4*Dsymb(phi.symb,str(i))*Dsymb(phi.symb,str(j))\n",
    "        for l in range(3):\n",
    "            for m in range(3):\n",
    "                RphiLL.var[i][j] += -2*gamtildeLL.symb[i][j]*gamtildeUU.symb[l][m]*DtildeDtildephiLL.symb[l][m]\n",
    "                RphiLL.var[i][j] += -4*gamtildeLL.symb[i][j]*gamtildeUU.symb[l][m]*Dsymb(phi.symb,str(l))*Dsymb(phi.symb,str(m))                "
   ]
  },
  {
   "cell_type": "code",
   "execution_count": 33,
   "metadata": {},
   "outputs": [
    {
     "data": {
      "text/plain": [
       "8301"
      ]
     },
     "execution_count": 33,
     "metadata": {},
     "output_type": "execute_result"
    }
   ],
   "source": [
    "fileRHS.write(RphiLL.AMReXReal())"
   ]
  },
  {
   "cell_type": "code",
   "execution_count": 34,
   "metadata": {},
   "outputs": [],
   "source": [
    "RLL = stVarRank2('RLL')\n",
    "for i in range(3):\n",
    "    for j in range(3):\n",
    "        RLL.var[i][j] += RtildeLL.symb[i][j]+RphiLL.symb[i][j]"
   ]
  },
  {
   "cell_type": "code",
   "execution_count": 35,
   "metadata": {},
   "outputs": [
    {
     "data": {
      "text/plain": [
       "459"
      ]
     },
     "execution_count": 35,
     "metadata": {},
     "output_type": "execute_result"
    }
   ],
   "source": [
    "fileRHS.write(RLL.AMReXReal())"
   ]
  },
  {
   "cell_type": "code",
   "execution_count": 36,
   "metadata": {},
   "outputs": [],
   "source": [
    "Rsclr = stVar('Rsclr')\n",
    "for i in range(3):\n",
    "    for j in range(3):\n",
    "        Rsclr.var += gamUU.symb[i][j]*RLL.symb[i][j] "
   ]
  },
  {
   "cell_type": "code",
   "execution_count": 37,
   "metadata": {},
   "outputs": [
    {
     "data": {
      "text/plain": [
       "175"
      ]
     },
     "execution_count": 37,
     "metadata": {},
     "output_type": "execute_result"
    }
   ],
   "source": [
    "fileRHS.write(Rsclr.AMReXReal())"
   ]
  },
  {
   "cell_type": "code",
   "execution_count": 38,
   "metadata": {},
   "outputs": [],
   "source": [
    "RTFLL = stVarRank2('RTFLL')\n",
    "for i in range(3):\n",
    "    for j in range(3):\n",
    "        RTFLL.var[i][j] = RLL.symb[i][j]\n",
    "        for l in range(3):\n",
    "            for m in range(l,3):\n",
    "                RTFLL.var[i][j] += -1/3*gamLL.symb[i][j]*gamUU.symb[l][m]*RLL.symb[l][m]"
   ]
  },
  {
   "cell_type": "code",
   "execution_count": 39,
   "metadata": {},
   "outputs": [
    {
     "data": {
      "text/plain": [
       "2718"
      ]
     },
     "execution_count": 39,
     "metadata": {},
     "output_type": "execute_result"
    }
   ],
   "source": [
    "fileRHS.write(RTFLL.AMReXReal())"
   ]
  },
  {
   "cell_type": "code",
   "execution_count": 40,
   "metadata": {},
   "outputs": [],
   "source": [
    "RHS_phi = stVar('phi')\n",
    "RHS_phi.var = -1/6*alpha.symb*(Khat.symb+2*theta.symb)\n",
    "for k in range(3):\n",
    "    RHS_phi.var += betaU.symb[k]*Dsymb(phi.symb,str(k))+1/6*Dsymb(betaU.symb[k],str(k))\n",
    "    \n",
    "RHS_phi.var += Dsymb(phi.symb,'KO')"
   ]
  },
  {
   "cell_type": "code",
   "execution_count": 41,
   "metadata": {},
   "outputs": [
    {
     "data": {
      "text/plain": [
       "228"
      ]
     },
     "execution_count": 41,
     "metadata": {},
     "output_type": "execute_result"
    }
   ],
   "source": [
    "fileRHS.write(RHS_phi.AMReXRHS())"
   ]
  },
  {
   "cell_type": "code",
   "execution_count": 42,
   "metadata": {},
   "outputs": [],
   "source": [
    "RHS_gamtildeLL = stVarRank2('gamtildeLL',sym = 'sym01')\n",
    "\n",
    "for i in range(3):\n",
    "    for j in range(3):\n",
    "        RHS_gamtildeLL.var[i][j] += -2*alpha.symb*AtildeLL.symb[i][j]\n",
    "        for k in range(3):\n",
    "            RHS_gamtildeLL.var[i][j] += betaU.symb[k]*Dsymb(gamtildeLL.symb[i][j],str(k))+gamtildeLL.symb[i][k]*Dsymb(betaU.symb[k],str(j))+gamtildeLL.symb[j][k]*Dsymb(betaU.symb[k],str(i))-2/3*gamtildeLL.symb[i][j]*Dsymb(betaU.symb[k],str(k))\n",
    "            \n",
    "for i in range(3):\n",
    "    for j in range(3):\n",
    "        RHS_gamtildeLL.var[i][j] +=Dsymb(gamtildeLL.symb[i][j],'KO')\n",
    "   "
   ]
  },
  {
   "cell_type": "code",
   "execution_count": 43,
   "metadata": {},
   "outputs": [
    {
     "data": {
      "text/plain": [
       "2247"
      ]
     },
     "execution_count": 43,
     "metadata": {},
     "output_type": "execute_result"
    }
   ],
   "source": [
    "fileRHS.write(RHS_gamtildeLL.AMReXRHS())"
   ]
  },
  {
   "cell_type": "code",
   "execution_count": 44,
   "metadata": {},
   "outputs": [],
   "source": [
    "#RHS_Ksclr = 0\n",
    "#for i in range(3):\n",
    "#    for j in range(3):\n",
    "#        RHS_Ksclr += -sp.exp(-4*symb_phi)*symb_gambarUU[i][j]*DDalphaLL[j][i]+symb_alpha*symb_AbarLL[i][j]*symb_AbarUU[i][j]\n",
    "#for k in range(3):\n",
    "#    RHS_Ksclr += symb_betaU[k]*der(symb_Ksclr,k)\n",
    "#RHS_Ksclr += 1/3*symb_alpha*(symb_Ksclr**2)\n",
    "#RHS_Ksclr += symb_KOKsclr\n",
    "\n",
    "kappa1 = stVar('kappa1')\n",
    "kappa2 = stVar('kappa2')\n",
    "\n",
    "kappa1.var = 0.02\n",
    "kappa2.var = 0\n",
    "\n",
    "RHS_Khat = stVar('Khat')\n",
    "for i in range(3):\n",
    "    for j in range(3):\n",
    "        RHS_Khat.var += -gamUU.symb[i][j]*DDalphaLL.symb[j][i]+alpha.symb*AtildeLL.symb[i][j]*AtildeUU.symb[i][j]\n",
    "        \n",
    "for k in range(3):\n",
    "    RHS_Khat.var += betaU.symb[k]*Dsymb(Khat.symb,str(k))\n",
    "\n",
    "RHS_Khat.var += 1/3*alpha.symb*((Khat.symb+2*theta.symb)**2+kappa1.symb*(1-kappa2.symb)*theta.symb)\n",
    "RHS_Khat.var += Dsymb(Khat.symb,'KO')\n"
   ]
  },
  {
   "cell_type": "code",
   "execution_count": 45,
   "metadata": {},
   "outputs": [
    {
     "data": {
      "text/plain": [
       "653"
      ]
     },
     "execution_count": 45,
     "metadata": {},
     "output_type": "execute_result"
    }
   ],
   "source": [
    "fileRHS.write(kappa1.AMReXReal())\n",
    "fileRHS.write(kappa2.AMReXReal())\n",
    "fileRHS.write(RHS_Khat.AMReXRHS())"
   ]
  },
  {
   "cell_type": "code",
   "execution_count": 46,
   "metadata": {},
   "outputs": [],
   "source": [
    "RHS_AtildeLL = stVarRank2('AtildeLL', sym = 'sym01')\n",
    "for i in range(3):\n",
    "    for j in range(3):\n",
    "        RHS_AtildeLL.var[i][j] += chi.symb*(-DDalphaTFLL.symb[i][j]+alpha.symb*RTFLL.symb[i][j])+alpha.symb*(Khat.symb+2*theta.symb)*AtildeLL.symb[i][j]\n",
    "        for k in range(3):\n",
    "            RHS_AtildeLL.var[i][j] += -2*alpha.symb*AtildeLL.symb[i][k]*AtildeUL.symb[k][j]\n",
    "            RHS_AtildeLL.var[i][j] += betaU.symb[k]*Dsymb(AtildeLL.symb[i][j],str(k))+AtildeLL.symb[i][k]*Dsymb(betaU.symb[k],str(j))+AtildeLL.symb[j][k]*Dsymb(betaU.symb[k],str(i))-2/3*AtildeLL.symb[i][j]*Dsymb(betaU.symb[k],str(k))\n",
    "            \n",
    "for i in range(3):\n",
    "    for j in range(3):\n",
    "        RHS_AtildeLL.var[i][j] += Dsymb(AtildeLL.symb[i][j],'KO')"
   ]
  },
  {
   "cell_type": "code",
   "execution_count": 47,
   "metadata": {},
   "outputs": [
    {
     "data": {
      "text/plain": [
       "3009"
      ]
     },
     "execution_count": 47,
     "metadata": {},
     "output_type": "execute_result"
    }
   ],
   "source": [
    "fileRHS.write(RHS_AtildeLL.AMReXRHS())"
   ]
  },
  {
   "cell_type": "code",
   "execution_count": 48,
   "metadata": {},
   "outputs": [],
   "source": [
    "RHS_theta = stVar('theta')\n",
    "RHS_theta.var = 1/2*alpha.symb*(Rsclr.symb + 2/3*(Khat.symb+2*theta.symb)**2 - 2*kappa1.symb*(2+kappa2.symb)*theta.symb)\n",
    "for i in range(3):\n",
    "    RHS_theta.var += betaU.symb[i]*Dsymb(theta.symb,str(i))\n",
    "    \n",
    "for i in range(3):\n",
    "    for j in range(3):\n",
    "        RHS_theta.var += -1/2*alpha.symb*AtildeLL.symb[i][j]*AtildeUU.symb[i][j]\n",
    "        \n",
    "RHS_theta.var = 0\n",
    "\n",
    "#RHS_theta.var += Dsymb(theta.symb,'KO')"
   ]
  },
  {
   "cell_type": "code",
   "execution_count": 49,
   "metadata": {},
   "outputs": [
    {
     "data": {
      "text/plain": [
       "43"
      ]
     },
     "execution_count": 49,
     "metadata": {},
     "output_type": "execute_result"
    }
   ],
   "source": [
    "fileRHS.write(RHS_theta.AMReXRHS())"
   ]
  },
  {
   "cell_type": "code",
   "execution_count": 50,
   "metadata": {},
   "outputs": [],
   "source": [
    "RHS_GamtildeU = stVarRank1('GamtildeU')\n",
    "\n",
    "for i in range(3):\n",
    "    for j in range(3):\n",
    "        RHS_GamtildeU.var[i] += -2*AtildeUU.symb[i][j]*Dsymb(alpha.symb,str(j))+2*alpha.symb*(-1/3*gamtildeUU.symb[i][j]*(2*Dsymb(Khat.symb,str(j))+Dsymb(theta.symb,str(j)))+6*AtildeUU.symb[i][j]*Dsymb(phi.symb,str(j)))\n",
    "        RHS_GamtildeU.var[i] += betaU.symb[j]*Dsymb(GamtildeU.symb[i],str(j))-GamtildeDU.symb[j]*Dsymb(betaU.symb[i],str(j))+2/3*GamtildeDU.symb[i]*Dsymb(betaU.symb[j],str(j))\n",
    "        for k in range(3):\n",
    "            RHS_GamtildeU.var[i] += 2*alpha.symb*GamtildeULL.symb[i][j][k]*AtildeUU.symb[k][j]\n",
    "            RHS_GamtildeU.var[i] += 1/3*gamtildeUU.symb[k][i]*Dsymb(betaU.symb[j],str(j)+str(k))+gamtildeUU.symb[j][k]*Dsymb(betaU.symb[i],str(j)+str(k))\n",
    "            \n",
    "for i in range(3):\n",
    "    RHS_GamtildeU.var[i] += -2*alpha.symb*kappa1.symb*(GamtildeU.symb[i]-GamtildeDU.symb[i])\n",
    "for i in range(3):\n",
    "    RHS_GamtildeU.var[i] += Dsymb(GamtildeU.symb[i],'KO')"
   ]
  },
  {
   "cell_type": "code",
   "execution_count": 51,
   "metadata": {},
   "outputs": [
    {
     "data": {
      "text/plain": [
       "4860"
      ]
     },
     "execution_count": 51,
     "metadata": {},
     "output_type": "execute_result"
    }
   ],
   "source": [
    "fileRHS.write(RHS_GamtildeU.AMReXRHS())"
   ]
  },
  {
   "cell_type": "code",
   "execution_count": 52,
   "metadata": {},
   "outputs": [],
   "source": [
    "RHS_alpha = stVar('alpha')\n",
    "\n",
    "RHS_alpha.var = -2*alpha.symb*Khat.symb\n",
    "for i in range(3):\n",
    "    RHS_alpha.var += betaU.symb[i]*Dsymb(alpha.symb,str(i))\n",
    "RHS_alpha.var += Dsymb(alpha.symb,'KO')"
   ]
  },
  {
   "cell_type": "code",
   "execution_count": 53,
   "metadata": {},
   "outputs": [
    {
     "data": {
      "text/plain": [
       "115"
      ]
     },
     "execution_count": 53,
     "metadata": {},
     "output_type": "execute_result"
    }
   ],
   "source": [
    "fileRHS.write(RHS_alpha.AMReXRHS())"
   ]
  },
  {
   "cell_type": "code",
   "execution_count": 54,
   "metadata": {},
   "outputs": [],
   "source": [
    "RHS_betaU = stVarRank1('betaU')\n",
    "for i in range(3):\n",
    "    RHS_betaU.var[i] += 3/4*BU.symb[i]\n",
    "    for j in range(3):\n",
    "        RHS_betaU.var[i] += betaU.symb[j]*Dsymb(betaU.symb[i],str(j))\n",
    "        \n",
    "for i in range(3):\n",
    "    RHS_betaU.var[i] += Dsymb(betaU.symb[i],'KO')"
   ]
  },
  {
   "cell_type": "code",
   "execution_count": 55,
   "metadata": {},
   "outputs": [
    {
     "data": {
      "text/plain": [
       "348"
      ]
     },
     "execution_count": 55,
     "metadata": {},
     "output_type": "execute_result"
    }
   ],
   "source": [
    "fileRHS.write(RHS_betaU.AMReXRHS())"
   ]
  },
  {
   "cell_type": "code",
   "execution_count": 56,
   "metadata": {},
   "outputs": [],
   "source": [
    "RHS_BU = stVarRank1('BU')\n",
    "eta = stVar('eta')\n",
    "eta.var = 1\n",
    "for i in range(3):\n",
    "    RHS_BU.var[i] += RHS_GamtildeU.var[i]-eta.symb*BU.symb[i]\n",
    "    for j in range(3):\n",
    "        RHS_BU.var[i] += betaU.symb[j]*Dsymb(BU.symb[i],j)\n",
    "        \n",
    "for i in range(3):\n",
    "    for j in range(3):\n",
    "        RHS_BU.var[i] += -betaU.symb[j]*Dsymb(GamtildeU.symb[i],j)\n",
    "        \n",
    "for i in range(3):\n",
    "    RHS_BU.var[i] += Dsymb(BU.symb[i],'KO')"
   ]
  },
  {
   "cell_type": "code",
   "execution_count": 57,
   "metadata": {},
   "outputs": [
    {
     "data": {
      "text/plain": [
       "4830"
      ]
     },
     "execution_count": 57,
     "metadata": {},
     "output_type": "execute_result"
    }
   ],
   "source": [
    "fileRHS.write(eta.AMReXReal())\n",
    "\n",
    "fileRHS.write(RHS_BU.AMReXRHS())"
   ]
  },
  {
   "cell_type": "code",
   "execution_count": 58,
   "metadata": {},
   "outputs": [],
   "source": [
    "fileRHS.write(\"}\\n\")\n",
    "fileRHS.write(\"#endif\")\n",
    "fileRHS.close()"
   ]
  },
  {
   "cell_type": "code",
   "execution_count": 59,
   "metadata": {},
   "outputs": [
    {
     "data": {
      "text/plain": [
       "69"
      ]
     },
     "execution_count": 59,
     "metadata": {},
     "output_type": "execute_result"
    }
   ],
   "source": [
    "fileINIT = open(path+\"ET_Integration_Init_K.H\", \"w+\")\n",
    "fileINIT.write(\"#ifndef ET_INTEGRATION_INIT_K_H \\n\")\n",
    "fileINIT.write(\"#define ET_INTEGRATION_INIT_K_H \\n\\n\")\n",
    "\n",
    "fileINIT.write(\"#include <AMReX_REAL.H> \\n\")\n",
    "fileINIT.write(\"#include <AMReX_Array4.H> \\n\")\n",
    "fileINIT.write(\"#include <ET_Integration_Setup.H> \\n\\n\")\n",
    "\n",
    "fileINIT.write(\"AMREX_GPU_DEVICE \\ninline \\nvoid \\n\")\n",
    "fileINIT.write(\"state_init(int i, int j, int k, \\n\")\n",
    "fileINIT.write(\"        amrex::Array4<amrex::Real> const& state_fab, \\n\")\n",
    "fileINIT.write(\"        amrex::Real time, const amrex::GeometryData& geom) noexcept \\n{\\n\")\n",
    "fileINIT.write(\"        const auto domain_xlo = geom.ProbLo(); \\n\\n\")\n",
    "fileINIT.write(\"        amrex::Real x = (i + 0.5)*geom.CellSize(0) + domain_xlo[0];\\n\")\n",
    "fileINIT.write(\"        amrex::Real y = (j + 0.5)*geom.CellSize(1) + domain_xlo[1];\\n\")\n",
    "fileINIT.write(\"        amrex::Real z = (k + 0.5)*geom.CellSize(2) + domain_xlo[2];\\n\\n\")"
   ]
  },
  {
   "cell_type": "code",
   "execution_count": 60,
   "metadata": {},
   "outputs": [],
   "source": [
    "x = stVar('x')\n",
    "y = stVar('y')\n",
    "z = stVar('z')\n",
    "r = stVar('r')\n",
    "r.var = sp.sqrt(x.symb**2+y.symb**2+z.symb**2)\n",
    "\n",
    "x1 = stVar('x1')\n",
    "x2 = stVar('x2')\n",
    "x1.var = 0.0\n",
    "x2.var = -3.0\n",
    "\n",
    "r1 = stVar('r1')\n",
    "r1.var = sp.sqrt((x.symb - x1.symb)**2 + y.symb**2 + z.symb**2)\n",
    "\n",
    "r2 = stVar('r2')\n",
    "r2.var = sp.sqrt((x.symb - x2.symb)**2 + y.symb**2 + z.symb**2)\n",
    "\n",
    "M1 = stVar('M1')\n",
    "M2 = stVar('M2')\n",
    "M1.var = 2.0\n",
    "M2.var = 2.0"
   ]
  },
  {
   "cell_type": "code",
   "execution_count": 61,
   "metadata": {},
   "outputs": [
    {
     "data": {
      "text/plain": [
       "30"
      ]
     },
     "execution_count": 61,
     "metadata": {},
     "output_type": "execute_result"
    }
   ],
   "source": [
    "fileINIT.write(r.AMReXReal())\n",
    "fileINIT.write(x1.AMReXReal())\n",
    "fileINIT.write(x2.AMReXReal())\n",
    "fileINIT.write(r1.AMReXReal())\n",
    "fileINIT.write(r2.AMReXReal())\n",
    "fileINIT.write(M1.AMReXReal())\n",
    "fileINIT.write(M2.AMReXReal())"
   ]
  },
  {
   "cell_type": "code",
   "execution_count": 62,
   "metadata": {},
   "outputs": [],
   "source": [
    "Init_phi = stVar('phi')\n",
    "Init_phi.var = sp.log(1+M1.symb/(2*r1.symb))"
   ]
  },
  {
   "cell_type": "code",
   "execution_count": 63,
   "metadata": {},
   "outputs": [
    {
     "data": {
      "text/plain": [
       "71"
      ]
     },
     "execution_count": 63,
     "metadata": {},
     "output_type": "execute_result"
    }
   ],
   "source": [
    "fileINIT.write(Init_phi.AMReXInit())"
   ]
  },
  {
   "cell_type": "code",
   "execution_count": 64,
   "metadata": {},
   "outputs": [],
   "source": [
    "Init_gamtildeLL = stVarRank2('gamtildeLL', sym = 'sym01')\n",
    "Init_gamtildeLL.var = np.array(sp.eye(3))        "
   ]
  },
  {
   "cell_type": "code",
   "execution_count": 65,
   "metadata": {},
   "outputs": [
    {
     "data": {
      "text/plain": [
       "312"
      ]
     },
     "execution_count": 65,
     "metadata": {},
     "output_type": "execute_result"
    }
   ],
   "source": [
    "fileINIT.write(Init_gamtildeLL.AMReXInit())"
   ]
  },
  {
   "cell_type": "code",
   "execution_count": 66,
   "metadata": {},
   "outputs": [],
   "source": [
    "Init_Khat = stVar('Khat')\n",
    "Init_Khat.var = 0"
   ]
  },
  {
   "cell_type": "code",
   "execution_count": 67,
   "metadata": {
    "scrolled": true
   },
   "outputs": [
    {
     "data": {
      "text/plain": [
       "44"
      ]
     },
     "execution_count": 67,
     "metadata": {},
     "output_type": "execute_result"
    }
   ],
   "source": [
    "fileINIT.write(Init_Khat.AMReXInit())"
   ]
  },
  {
   "cell_type": "code",
   "execution_count": 68,
   "metadata": {},
   "outputs": [],
   "source": [
    "Init_AtildeLL = stVarRank2('AtildeLL', sym = 'sym01')\n",
    "Init_AtildeLL.var = np.array(sp.zeros(3))"
   ]
  },
  {
   "cell_type": "code",
   "execution_count": 69,
   "metadata": {},
   "outputs": [
    {
     "data": {
      "text/plain": [
       "300"
      ]
     },
     "execution_count": 69,
     "metadata": {},
     "output_type": "execute_result"
    }
   ],
   "source": [
    "fileINIT.write(Init_AtildeLL.AMReXInit())"
   ]
  },
  {
   "cell_type": "code",
   "execution_count": 70,
   "metadata": {},
   "outputs": [],
   "source": [
    "Init_theta = stVar('theta')\n",
    "Init_theta.var = 0"
   ]
  },
  {
   "cell_type": "code",
   "execution_count": 71,
   "metadata": {},
   "outputs": [
    {
     "data": {
      "text/plain": [
       "45"
      ]
     },
     "execution_count": 71,
     "metadata": {},
     "output_type": "execute_result"
    }
   ],
   "source": [
    "fileINIT.write(Init_theta.AMReXInit())"
   ]
  },
  {
   "cell_type": "code",
   "execution_count": 72,
   "metadata": {},
   "outputs": [],
   "source": [
    "Init_GamtildeU = stVarRank1('GamtildeU')\n",
    "Init_GamtildeU.var = np.array([0, 0, 0])"
   ]
  },
  {
   "cell_type": "code",
   "execution_count": 73,
   "metadata": {},
   "outputs": [
    {
     "data": {
      "text/plain": [
       "150"
      ]
     },
     "execution_count": 73,
     "metadata": {},
     "output_type": "execute_result"
    }
   ],
   "source": [
    "fileINIT.write(Init_GamtildeU.AMReXInit())"
   ]
  },
  {
   "cell_type": "code",
   "execution_count": 74,
   "metadata": {},
   "outputs": [],
   "source": [
    "Init_alpha = stVar('alpha')\n",
    "Init_alpha.var = sp.exp(-2*Init_phi.var)"
   ]
  },
  {
   "cell_type": "code",
   "execution_count": 75,
   "metadata": {},
   "outputs": [
    {
     "data": {
      "text/plain": [
       "77"
      ]
     },
     "execution_count": 75,
     "metadata": {},
     "output_type": "execute_result"
    }
   ],
   "source": [
    "fileINIT.write(Init_alpha.AMReXInit())"
   ]
  },
  {
   "cell_type": "code",
   "execution_count": 76,
   "metadata": {},
   "outputs": [],
   "source": [
    "Init_betaU = stVarRank1('betaU')\n",
    "Init_betaU.var = np.array([0, 0, 0])"
   ]
  },
  {
   "cell_type": "code",
   "execution_count": 77,
   "metadata": {},
   "outputs": [
    {
     "data": {
      "text/plain": [
       "138"
      ]
     },
     "execution_count": 77,
     "metadata": {},
     "output_type": "execute_result"
    }
   ],
   "source": [
    "fileINIT.write(Init_betaU.AMReXInit())"
   ]
  },
  {
   "cell_type": "code",
   "execution_count": 78,
   "metadata": {},
   "outputs": [],
   "source": [
    "Init_BU = stVarRank1('BU')\n",
    "Init_BU.var = np.array([0, 0, 0])"
   ]
  },
  {
   "cell_type": "code",
   "execution_count": 79,
   "metadata": {},
   "outputs": [
    {
     "data": {
      "text/plain": [
       "129"
      ]
     },
     "execution_count": 79,
     "metadata": {},
     "output_type": "execute_result"
    }
   ],
   "source": [
    "fileINIT.write(Init_BU.AMReXInit())"
   ]
  },
  {
   "cell_type": "code",
   "execution_count": 80,
   "metadata": {},
   "outputs": [],
   "source": [
    "fileINIT.write(\"}\\n\")\n",
    "fileINIT.write(\"#endif\")\n",
    "fileINIT.close()"
   ]
  },
  {
   "cell_type": "code",
   "execution_count": 81,
   "metadata": {},
   "outputs": [
    {
     "data": {
      "text/plain": [
       "75"
      ]
     },
     "execution_count": 81,
     "metadata": {},
     "output_type": "execute_result"
    }
   ],
   "source": [
    "fileDiag = open(path+\"ET_Integration_Constraints_K.H\", \"w+\")\n",
    "fileDiag.write(\"#ifndef ET_INTEGRATION_CONSTRAINTS_K_H \\n\")\n",
    "fileDiag.write(\"#define ET_INTEGRATION_CONSTRAINTS_K_H \\n\\n\")\n",
    "\n",
    "fileDiag.write(\"#include <AMReX_REAL.H> \\n\")\n",
    "fileDiag.write(\"#include <AMReX_Array4.H> \\n\")\n",
    "fileDiag.write(\"#include <ET_Integration_Setup.H> \\n\\n\")\n",
    "\n",
    "fileDiag.write(\"AMREX_GPU_DEVICE \\ninline \\nvoid \\n\")\n",
    "fileDiag.write(\"state_diagnostics(int i, int j, int k, \\n\")\n",
    "fileDiag.write(\"        amrex::Array4<amrex::Real> const& diag, \\n\")\n",
    "fileDiag.write(\"        amrex::Array4<amrex::Real const> const& state_fab, \\n\")\n",
    "fileDiag.write(\"        amrex::GpuArray<amrex::Real,AMREX_SPACEDIM> const& dx) noexcept \\n{\\n\")"
   ]
  },
  {
   "cell_type": "code",
   "execution_count": 82,
   "metadata": {},
   "outputs": [
    {
     "data": {
      "text/plain": [
       "44"
      ]
     },
     "execution_count": 82,
     "metadata": {},
     "output_type": "execute_result"
    }
   ],
   "source": [
    "fileDiag.write(phi.AMReXDeclare())\n",
    "fileDiag.write(gamtildeLL.AMReXDeclare())\n",
    "fileDiag.write(Khat.AMReXDeclare())\n",
    "fileDiag.write(AtildeLL.AMReXDeclare())\n",
    "fileDiag.write(theta.AMReXDeclare())\n",
    "fileDiag.write(GamtildeU.AMReXDeclare())\n",
    "\n",
    "fileDiag.write(chi.AMReXReal())"
   ]
  },
  {
   "cell_type": "code",
   "execution_count": 83,
   "metadata": {},
   "outputs": [
    {
     "data": {
      "text/plain": [
       "2232"
      ]
     },
     "execution_count": 83,
     "metadata": {},
     "output_type": "execute_result"
    }
   ],
   "source": [
    "fileDiag.write(DstVar(phi, 1, orderD = DiffOrder).AMReXDeclare())\n",
    "fileDiag.write(DstVar(phi, 2, orderD = DiffOrder).AMReXDeclare())\n",
    "\n",
    "fileDiag.write(DstVarRank2(gamtildeLL, 1, orderD = DiffOrder).AMReXDeclare())\n",
    "fileDiag.write(DstVarRank2(gamtildeLL, 2, orderD = DiffOrder).AMReXDeclare())\n",
    "\n",
    "fileDiag.write(DstVar(Khat, 1, orderD = DiffOrder).AMReXDeclare())\n",
    "\n",
    "#fileDiag.write(DstVarRank2(AtildeLL,1).AMReXDeclare())\n",
    "\n",
    "fileDiag.write(DstVar(theta, 1, orderD = DiffOrder).AMReXDeclare())\n",
    "\n",
    "fileDiag.write(DstVarRank1(GamtildeU, 1, orderD = DiffOrder).AMReXDeclare())\n"
   ]
  },
  {
   "cell_type": "code",
   "execution_count": 84,
   "metadata": {},
   "outputs": [
    {
     "data": {
      "text/plain": [
       "3026"
      ]
     },
     "execution_count": 84,
     "metadata": {},
     "output_type": "execute_result"
    }
   ],
   "source": [
    "fileDiag.write(gamtildeUU.AMReXReal())"
   ]
  },
  {
   "cell_type": "code",
   "execution_count": 85,
   "metadata": {},
   "outputs": [
    {
     "data": {
      "text/plain": [
       "3447"
      ]
     },
     "execution_count": 85,
     "metadata": {},
     "output_type": "execute_result"
    }
   ],
   "source": [
    "fileDiag.write(AtildeUU.AMReXReal())"
   ]
  },
  {
   "cell_type": "code",
   "execution_count": 86,
   "metadata": {},
   "outputs": [
    {
     "data": {
      "text/plain": [
       "15552"
      ]
     },
     "execution_count": 86,
     "metadata": {},
     "output_type": "execute_result"
    }
   ],
   "source": [
    "fileDiag.write(GamtildeULL.AMReXReal())\n",
    "fileDiag.write(GamtildeLLL.AMReXReal())"
   ]
  },
  {
   "cell_type": "code",
   "execution_count": 87,
   "metadata": {},
   "outputs": [
    {
     "data": {
      "text/plain": [
       "909"
      ]
     },
     "execution_count": 87,
     "metadata": {},
     "output_type": "execute_result"
    }
   ],
   "source": [
    "fileDiag.write(GamtildeDU.AMReXReal())"
   ]
  },
  {
   "cell_type": "code",
   "execution_count": 88,
   "metadata": {},
   "outputs": [
    {
     "data": {
      "text/plain": [
       "33534"
      ]
     },
     "execution_count": 88,
     "metadata": {},
     "output_type": "execute_result"
    }
   ],
   "source": [
    "fileDiag.write(RtildeLL.AMReXReal())"
   ]
  },
  {
   "cell_type": "code",
   "execution_count": 89,
   "metadata": {},
   "outputs": [],
   "source": [
    "Rtildesclr = stVar('Rtildesclr')\n",
    "for i in range(3):\n",
    "    for j in range(3):\n",
    "        Rtildesclr.var += gamtildeUU.symb[i][j]*RtildeLL.symb[i][j] "
   ]
  },
  {
   "cell_type": "code",
   "execution_count": 90,
   "metadata": {},
   "outputs": [
    {
     "data": {
      "text/plain": [
       "270"
      ]
     },
     "execution_count": 90,
     "metadata": {},
     "output_type": "execute_result"
    }
   ],
   "source": [
    "fileDiag.write(Rtildesclr.AMReXReal())"
   ]
  },
  {
   "cell_type": "code",
   "execution_count": 91,
   "metadata": {},
   "outputs": [],
   "source": [
    "DtildeDtildephiLL = stVarRank2('DtildeDtildephiLL')\n",
    "\n",
    "for i in range(3):\n",
    "    for j in range(3):\n",
    "        DtildeDtildephiLL.var[i][j] += Dsymb(phi.symb,str(i)+str(j))\n",
    "        for k in range(3):\n",
    "            DtildeDtildephiLL.var[i][j] += -GamtildeULL.symb[k][i][j]*Dsymb(phi.symb,str(k))"
   ]
  },
  {
   "cell_type": "code",
   "execution_count": 92,
   "metadata": {},
   "outputs": [
    {
     "data": {
      "text/plain": [
       "1089"
      ]
     },
     "execution_count": 92,
     "metadata": {},
     "output_type": "execute_result"
    }
   ],
   "source": [
    "fileDiag.write(DtildeDtildephiLL.AMReXReal())"
   ]
  },
  {
   "cell_type": "code",
   "execution_count": 93,
   "metadata": {},
   "outputs": [],
   "source": [
    "ConstraintH = stVar('H', declareDiag = True)\n",
    "for i in range(3):\n",
    "    for j in range(3):\n",
    "        ConstraintH.var += sp.exp(phi.symb)*gamtildeUU.symb[i][j]*(Dsymb(phi.symb,str(i)+str(j))+DtildeDtildephiLL.symb[i][j])+sp.exp(5*phi.symb)*AtildeLL.symb[i][j]*AtildeUU.symb[i][j]/8\n",
    "ConstraintH.var += sp.exp(phi.symb)*Rtildesclr.symb/8-sp.exp(phi.symb)*((Khat.symb+2*theta.symb)**2)/12"
   ]
  },
  {
   "cell_type": "code",
   "execution_count": 94,
   "metadata": {},
   "outputs": [
    {
     "data": {
      "text/plain": [
       "1126"
      ]
     },
     "execution_count": 94,
     "metadata": {},
     "output_type": "execute_result"
    }
   ],
   "source": [
    "fileDiag.write(ConstraintH.AMReXDiag())"
   ]
  },
  {
   "cell_type": "code",
   "execution_count": 95,
   "metadata": {},
   "outputs": [],
   "source": [
    "fileDiag.write(\"}\\n\")\n",
    "fileDiag.write(\"#endif\")\n",
    "fileDiag.close()"
   ]
  },
  {
   "cell_type": "code",
   "execution_count": 96,
   "metadata": {},
   "outputs": [],
   "source": [
    "nghostcells = 4"
   ]
  },
  {
   "cell_type": "code",
   "execution_count": 97,
   "metadata": {},
   "outputs": [],
   "source": [
    "fileSETUP = open(path+\"ET_Integration_Setup.H\", \"w+\")\n",
    "fileSETUP.write(\"#ifndef ET_INTEGRATION_SETUP_K_H \\n\")\n",
    "fileSETUP.write(\"#define ET_INTEGRATION_SETUP_K_H \\n\\n\")\n",
    "\n",
    "fileSETUP.write(\"#include <AMReX_REAL.H> \\n\")\n",
    "fileSETUP.write(\"#include <AMReX_Array4.H> \\n\\n\")\n",
    "    \n",
    "fileSETUP.write(\"namespace Idx { \\n\")\n",
    "fileSETUP.write(\"         enum ETIndexes {\")\n",
    "    \n",
    "Idx_string = \"\"\n",
    "for itr in stVar.decl:\n",
    "    Idx_string += itr+\", \"\n",
    "Idx_string += \"NumScalars\"\n",
    "    \n",
    "fileSETUP.write(Idx_string)\n",
    "fileSETUP.write(\"}; \\n};\\n\\n\")\n",
    "    \n",
    "fileSETUP.write(\"namespace Diag { \\n\")\n",
    "fileSETUP.write(\"         enum DiagnosticIndexes {\")\n",
    "    \n",
    "Idx_string = \"\"\n",
    "for itr in stVar.declDiag:\n",
    "    Idx_string += itr+\", \"\n",
    "Idx_string += \"NumScalars\"\n",
    "    \n",
    "fileSETUP.write(Idx_string)\n",
    "fileSETUP.write(\"}; \\n};\\n\\n\")\n",
    "    \n",
    "fileSETUP.write(\"#define NUM_GHOST_CELLS \"+str(nghostcells)+\"\\n\\n\")\n",
    "fileSETUP.write(\"#endif\")\n",
    "\n",
    "fileSETUP.close()"
   ]
  },
  {
   "cell_type": "code",
   "execution_count": 98,
   "metadata": {},
   "outputs": [],
   "source": [
    "fileVARS = open(path+\"ET_Integration_Variables.H\",\"w+\")\n",
    "fileVARS.write(\"names = {\")\n",
    "for itr in range(len(stVar.decl)-1):\n",
    "    fileVARS.write(\"\\\"\"+stVar.decl[itr]+\"\\\", \")\n",
    "fileVARS.write(\"\\\"\"+stVar.decl[len(stVar.decl)-1]+\"\\\"\")\n",
    "fileVARS.write(\"};\")\n",
    "fileVARS.close()"
   ]
  },
  {
   "cell_type": "code",
   "execution_count": null,
   "metadata": {},
   "outputs": [],
   "source": []
  }
 ],
 "metadata": {
  "kernelspec": {
   "display_name": "Python 3",
   "language": "python",
   "name": "python3"
  },
  "language_info": {
   "codemirror_mode": {
    "name": "ipython",
    "version": 3
   },
   "file_extension": ".py",
   "mimetype": "text/x-python",
   "name": "python",
   "nbconvert_exporter": "python",
   "pygments_lexer": "ipython3",
   "version": "3.5.2"
  }
 },
 "nbformat": 4,
 "nbformat_minor": 2
}
