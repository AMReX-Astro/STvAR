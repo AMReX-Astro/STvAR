{
 "cells": [
  {
   "cell_type": "code",
   "execution_count": 1,
   "metadata": {},
   "outputs": [],
   "source": [
    "from SpacetimeVar import *"
   ]
  },
  {
   "cell_type": "code",
   "execution_count": 2,
   "metadata": {},
   "outputs": [],
   "source": [
    "dim = 3\n",
    "path = \"../Source/HamCom/\""
   ]
  },
  {
   "cell_type": "code",
   "execution_count": 3,
   "metadata": {},
   "outputs": [
    {
     "data": {
      "text/plain": [
       "71"
      ]
     },
     "execution_count": 3,
     "metadata": {},
     "output_type": "execute_result"
    }
   ],
   "source": [
    "fileRHS = open(path+\"ET_Integration_Rhs_K.H\", \"w+\")\n",
    "fileRHS.write(\"#ifndef ET_INTEGRATION_RHS_K_H \\n\")\n",
    "fileRHS.write(\"#define ET_INTEGRATION_RHS_K_H \\n\\n\")\n",
    "\n",
    "fileRHS.write(\"#include <AMReX_REAL.H> \\n\")\n",
    "fileRHS.write(\"#include <AMReX_Array4.H> \\n\")\n",
    "fileRHS.write(\"#include <ET_Integration_Setup.H> \\n\\n\")\n",
    "\n",
    "fileRHS.write(\"AMREX_GPU_DEVICE \\ninline \\nvoid \\n\")\n",
    "fileRHS.write(\"state_rhs(int i, int j, int k, \\n\")\n",
    "fileRHS.write(\"        amrex::Array4<amrex::Real> const& rhs_fab, \\n\")\n",
    "fileRHS.write(\"        amrex::Array4<amrex::Real const> const& state_fab, \\n\")\n",
    "fileRHS.write(\"        amrex::GpuArray<amrex::Real,AMREX_SPACEDIM> const& dx, \\n\")\n",
    "fileRHS.write(\"        const amrex::GeometryData& geom) noexcept \\n{\\n\")\n",
    "fileRHS.write(\"        const auto domain_xlo = geom.ProbLo(); \\n\\n\")\n",
    "fileRHS.write(\"        amrex::Real x0 = (i + 0.5)*geom.CellSize(0) + domain_xlo[0]; \\n\")\n",
    "fileRHS.write(\"        amrex::Real x1 = (j + 0.5)*geom.CellSize(0) + domain_xlo[1]; \\n\")\n",
    "fileRHS.write(\"        amrex::Real x2 = (k + 0.5)*geom.CellSize(0) + domain_xlo[2]; \\n\\n\")"
   ]
  },
  {
   "cell_type": "code",
   "execution_count": 4,
   "metadata": {},
   "outputs": [],
   "source": [
    "stVar.decl = []\n",
    "u = stVar('u', declare = True)"
   ]
  },
  {
   "cell_type": "code",
   "execution_count": 5,
   "metadata": {},
   "outputs": [
    {
     "data": {
      "text/plain": [
       "52"
      ]
     },
     "execution_count": 5,
     "metadata": {},
     "output_type": "execute_result"
    }
   ],
   "source": [
    "fileRHS.write(u.AMReXDeclare())"
   ]
  },
  {
   "cell_type": "code",
   "execution_count": 6,
   "metadata": {},
   "outputs": [],
   "source": [
    "DiffOrder = 2"
   ]
  },
  {
   "cell_type": "code",
   "execution_count": 7,
   "metadata": {},
   "outputs": [
    {
     "data": {
      "text/plain": [
       "1797"
      ]
     },
     "execution_count": 7,
     "metadata": {},
     "output_type": "execute_result"
    }
   ],
   "source": [
    "fileRHS.write(DstVar(u, 1, orderD = DiffOrder).AMReXDeclare())\n",
    "fileRHS.write(DstVar(u, 2, orderD = DiffOrder).AMReXDeclare())"
   ]
  },
  {
   "cell_type": "code",
   "execution_count": 8,
   "metadata": {},
   "outputs": [],
   "source": [
    "x = stVarRank1('x')\n",
    "r = stVar('r')\n",
    "r.var = sp.sqrt(x.symb[0]**2+x.symb[1]**2+x.symb[2]**2)\n",
    "\n",
    "c1 = stVarRank1('c1')\n",
    "c2 = stVarRank1('c2')\n",
    "c1.var = np.array([3.0,0,0])\n",
    "c2.var = np.array([-3.0,0,0])\n",
    "\n",
    "P1 = stVarRank1('P1')\n",
    "P2 = stVarRank1('P2')\n",
    "\n",
    "P1.var = np.array([0,0.2,0])\n",
    "P2.var = np.array([0,-0.2,0])\n",
    "\n",
    "xc1 = stVarRank1('xc1')\n",
    "xc2 = stVarRank1('xc2')\n",
    "\n",
    "for i in range(3):\n",
    "    xc1.var[i] = x.symb[i]-c1.symb[i]\n",
    "    xc2.var[i] = x.symb[i]-c2.symb[i]\n",
    "\n",
    "rc1 = stVar('rc1')\n",
    "rc1.var = sp.sqrt(xc1.symb[0]**2 + xc1.symb[1]**2 + xc1.symb[2]**2)\n",
    "\n",
    "rc2 = stVar('rc2')\n",
    "rc2.var = sp.sqrt(xc2.symb[0]**2 + xc2.symb[1]**2 + xc2.symb[2]**2)\n",
    "\n",
    "eps1 = stVar('eps1')\n",
    "eps2 = stVar('eps2')\n",
    "\n",
    "n1 = stVarRank1('n1')\n",
    "n2 = stVarRank1('n2')\n",
    "\n",
    "for i in range(3):\n",
    "    n1.var[i] = xc1.symb[i]/rc1.symb\n",
    "    n2.var[i] = xc2.symb[i]/rc2.symb"
   ]
  },
  {
   "cell_type": "code",
   "execution_count": 9,
   "metadata": {},
   "outputs": [
    {
     "data": {
      "text/plain": [
       "108"
      ]
     },
     "execution_count": 9,
     "metadata": {},
     "output_type": "execute_result"
    }
   ],
   "source": [
    "fileRHS.write(r.AMReXReal())\n",
    "fileRHS.write(c1.AMReXReal())\n",
    "fileRHS.write(c2.AMReXReal())\n",
    "fileRHS.write(P1.AMReXReal())\n",
    "fileRHS.write(P2.AMReXReal())\n",
    "fileRHS.write(xc1.AMReXReal())\n",
    "fileRHS.write(xc2.AMReXReal())\n",
    "fileRHS.write(rc1.AMReXReal())\n",
    "fileRHS.write(rc2.AMReXReal())\n",
    "fileRHS.write(n1.AMReXReal())\n",
    "fileRHS.write(n2.AMReXReal())"
   ]
  },
  {
   "cell_type": "code",
   "execution_count": 10,
   "metadata": {
    "scrolled": true
   },
   "outputs": [],
   "source": [
    "Atilde1UU = stVarRank2('Atilde1UU')\n",
    "Atilde2UU = stVarRank2('Atilde2UU')\n",
    "for i in range(3):\n",
    "    for j in range(3):\n",
    "        Atilde1UU.var[i][j] += 3/(2*(rc1.symb+eps1.symb)**2)*(P1.symb[i]*n1.symb[j]+P1.symb[j]*n1.symb[i])\n",
    "        Atilde2UU.var[i][j] += 3/(2*(rc2.symb+eps2.symb)**2)*(P2.symb[i]*n2.symb[j]+P2.symb[j]*n2.symb[i])\n",
    "        for k in range(3):\n",
    "            Atilde1UU.var[i][j] += -3/(2*(rc1.symb+eps1.symb)**2)*(sp.eye(3)[i,j]-n1.symb[i]*n1.symb[j])*n1.symb[k]*P1.symb[k]\n",
    "            Atilde2UU.var[i][j] += -3/(2*(rc2.symb+eps2.symb)**2)*(sp.eye(3)[i,j]-n2.symb[i]*n2.symb[j])*n2.symb[k]*P2.symb[k]"
   ]
  },
  {
   "cell_type": "code",
   "execution_count": 11,
   "metadata": {},
   "outputs": [],
   "source": [
    "AtildeUU = stVarRank2('AtildeUU')\n",
    "for i in range(3):\n",
    "    for j in range(3):\n",
    "        AtildeUU.var[i][j] += Atilde1UU.symb[i][j]+Atilde2UU.symb[i][j]"
   ]
  },
  {
   "cell_type": "code",
   "execution_count": 12,
   "metadata": {},
   "outputs": [
    {
     "data": {
      "text/plain": [
       "540"
      ]
     },
     "execution_count": 12,
     "metadata": {},
     "output_type": "execute_result"
    }
   ],
   "source": [
    "fileRHS.write(Atilde1UU.AMReXReal())\n",
    "fileRHS.write(Atilde2UU.AMReXReal())\n",
    "fileRHS.write(AtildeUU.AMReXReal())"
   ]
  },
  {
   "cell_type": "code",
   "execution_count": 13,
   "metadata": {},
   "outputs": [],
   "source": [
    "M1 = stVar('M1')\n",
    "M2 = stVar('M2')\n",
    "\n",
    "M1.var = 1.0\n",
    "M2.var = 1.0\n",
    "\n",
    "alpha = stVar('alpha')\n",
    "\n",
    "alpha.var = 1/(M1.symb/(rc1.symb+eps1.symb)+M2.symb/(rc2.symb+eps2.symb))"
   ]
  },
  {
   "cell_type": "code",
   "execution_count": 14,
   "metadata": {},
   "outputs": [
    {
     "data": {
      "text/plain": [
       "69"
      ]
     },
     "execution_count": 14,
     "metadata": {},
     "output_type": "execute_result"
    }
   ],
   "source": [
    "fileRHS.write(M1.AMReXReal())\n",
    "fileRHS.write(M2.AMReXReal())\n",
    "fileRHS.write(alpha.AMReXReal())"
   ]
  },
  {
   "cell_type": "code",
   "execution_count": 15,
   "metadata": {},
   "outputs": [],
   "source": [
    "beta = stVar('beta')\n",
    "\n",
    "for i in range(3):\n",
    "    for j in range(3):\n",
    "        beta.var += 1/8*(alpha.symb**7)*AtildeUU.symb[i][j]*AtildeUU.symb[i][j]"
   ]
  },
  {
   "cell_type": "code",
   "execution_count": 16,
   "metadata": {},
   "outputs": [
    {
     "data": {
      "text/plain": [
       "489"
      ]
     },
     "execution_count": 16,
     "metadata": {},
     "output_type": "execute_result"
    }
   ],
   "source": [
    "fileRHS.write(beta.AMReXReal())"
   ]
  },
  {
   "cell_type": "code",
   "execution_count": 17,
   "metadata": {},
   "outputs": [],
   "source": [
    "RHS_u = stVar('u')\n",
    "\n",
    "RHS_u.var = 0\n",
    "for i in range(3):\n",
    "    RHS_u.var += Dsymb(u.symb,str(i)+str(i))\n",
    "    \n",
    "RHS_u.var += beta.symb*(alpha.symb*(1+u.symb)+1)**(-7)"
   ]
  },
  {
   "cell_type": "code",
   "execution_count": 18,
   "metadata": {},
   "outputs": [
    {
     "data": {
      "text/plain": [
       "97"
      ]
     },
     "execution_count": 18,
     "metadata": {},
     "output_type": "execute_result"
    }
   ],
   "source": [
    "fileRHS.write(RHS_u.AMReXRHS())"
   ]
  },
  {
   "cell_type": "code",
   "execution_count": 19,
   "metadata": {},
   "outputs": [],
   "source": [
    "fileRHS.write(\"}\\n\")\n",
    "fileRHS.write(\"#endif\")\n",
    "fileRHS.close()"
   ]
  },
  {
   "cell_type": "code",
   "execution_count": 20,
   "metadata": {},
   "outputs": [
    {
     "data": {
      "text/plain": [
       "[]"
      ]
     },
     "execution_count": 20,
     "metadata": {},
     "output_type": "execute_result"
    }
   ],
   "source": [
    "stVar.declDiag"
   ]
  },
  {
   "cell_type": "code",
   "execution_count": null,
   "metadata": {},
   "outputs": [],
   "source": []
  }
 ],
 "metadata": {
  "kernelspec": {
   "display_name": "Python 3",
   "language": "python",
   "name": "python3"
  },
  "language_info": {
   "codemirror_mode": {
    "name": "ipython",
    "version": 3
   },
   "file_extension": ".py",
   "mimetype": "text/x-python",
   "name": "python",
   "nbconvert_exporter": "python",
   "pygments_lexer": "ipython3",
   "version": "3.5.2"
  }
 },
 "nbformat": 4,
 "nbformat_minor": 2
}
