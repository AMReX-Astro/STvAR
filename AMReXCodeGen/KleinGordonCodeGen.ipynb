{
 "cells": [
  {
   "cell_type": "code",
   "execution_count": 1,
   "metadata": {},
   "outputs": [],
   "source": [
    "from SpacetimeVar import *"
   ]
  },
  {
   "cell_type": "code",
   "execution_count": 2,
   "metadata": {},
   "outputs": [],
   "source": [
    "DiffOrder = 4\n",
    "nghostcells = 4\n",
    "KOsigma = 0.1"
   ]
  },
  {
   "cell_type": "code",
   "execution_count": 3,
   "metadata": {},
   "outputs": [],
   "source": [
    "dim = 2\n",
    "path = \"../Source/KleinGordon/\""
   ]
  },
  {
   "cell_type": "code",
   "execution_count": 4,
   "metadata": {},
   "outputs": [],
   "source": [
    "fileRHS = open(path+\"ET_Integration_Rhs_K.H\", \"w+\")"
   ]
  },
  {
   "cell_type": "code",
   "execution_count": 5,
   "metadata": {},
   "outputs": [
    {
     "data": {
      "text/plain": [
       "643"
      ]
     },
     "execution_count": 5,
     "metadata": {},
     "output_type": "execute_result"
    }
   ],
   "source": [
    "RHS_Header = \"\"\"#ifndef ET_INTEGRATION_RHS_K_H \n",
    "#define ET_INTEGRATION_RHS_K_H \n",
    "\n",
    "#include <AMReX_REAL.H> \n",
    "#include <AMReX_Array4.H> \n",
    "#include <ET_Integration_Setup.H> \n",
    "\n",
    "AMREX_GPU_DEVICE \n",
    "inline \n",
    "void \n",
    "state_rhs(int i, int j, int k, \n",
    "        amrex::Array4<amrex::Real> const& rhs_fab, \n",
    "        amrex::Array4<amrex::Real const> const& state_fab, \n",
    "        amrex::GpuArray<amrex::Real,AMREX_SPACEDIM> const& dx, \n",
    "        const amrex::GeometryData& geom) noexcept \n",
    "{\n",
    "        const auto domain_xlo = geom.ProbLo(); \n",
    "\n",
    "        amrex::Real x0 = (i + 0.5)*geom.CellSize(0) + domain_xlo[0]; \n",
    "        amrex::Real x1 = (j + 0.5)*geom.CellSize(1) + domain_xlo[1];\n",
    "        \n",
    "\"\"\"\n",
    "\n",
    "fileRHS.write(RHS_Header)"
   ]
  },
  {
   "cell_type": "code",
   "execution_count": 6,
   "metadata": {},
   "outputs": [
    {
     "data": {
      "text/plain": [
       "54"
      ]
     },
     "execution_count": 6,
     "metadata": {},
     "output_type": "execute_result"
    }
   ],
   "source": [
    "stVar.decl = []\n",
    "\n",
    "Psi = stVar('Psi', declare = True)\n",
    "Pi = stVar('Pi', declare = True)\n",
    "\n",
    "fileRHS.write(Psi.AMReXDeclare())\n",
    "fileRHS.write(Pi.AMReXDeclare())"
   ]
  },
  {
   "cell_type": "code",
   "execution_count": 7,
   "metadata": {},
   "outputs": [],
   "source": [
    "fileVARS = open(path+\"ET_Integration_Variables.H\",\"w+\")\n",
    "fileVARS.write(\"names = {\")\n",
    "for itr in range(len(stVar.decl)-1):\n",
    "    fileVARS.write(\"\\\"\"+stVar.decl[itr]+\"\\\", \")\n",
    "fileVARS.write(\"\\\"\"+stVar.decl[len(stVar.decl)-1]+\"\\\"\")\n",
    "fileVARS.write(\"};\")\n",
    "fileVARS.close()"
   ]
  },
  {
   "cell_type": "code",
   "execution_count": 8,
   "metadata": {},
   "outputs": [
    {
     "data": {
      "text/plain": [
       "879"
      ]
     },
     "execution_count": 8,
     "metadata": {},
     "output_type": "execute_result"
    }
   ],
   "source": [
    "fileRHS.write(DstVar(Psi, 1, orderD = DiffOrder).AMReXDeclare())\n",
    "fileRHS.write(DstVar(Psi, 2, orderD = DiffOrder).AMReXDeclare())\n",
    "fileRHS.write(DstVar(Psi, 'KO', orderD = DiffOrder, sigma = KOsigma).AMReXDeclare())"
   ]
  },
  {
   "cell_type": "code",
   "execution_count": 9,
   "metadata": {},
   "outputs": [],
   "source": [
    "x = stVarRank1('x', dim = 2)"
   ]
  },
  {
   "cell_type": "code",
   "execution_count": 10,
   "metadata": {},
   "outputs": [
    {
     "data": {
      "text/plain": [
       "27"
      ]
     },
     "execution_count": 10,
     "metadata": {},
     "output_type": "execute_result"
    }
   ],
   "source": [
    "m = stVar('m')\n",
    "m.var = 1\n",
    "fileRHS.write(m.AMReXReal())"
   ]
  },
  {
   "cell_type": "code",
   "execution_count": 11,
   "metadata": {},
   "outputs": [],
   "source": [
    "RHS_Psi = stVar('Psi')\n",
    "\n",
    "RHS_Psi.var = Pi.symb"
   ]
  },
  {
   "cell_type": "code",
   "execution_count": 12,
   "metadata": {},
   "outputs": [],
   "source": [
    "RHS_Pi = stVar('Pi')\n",
    "\n",
    "for i in range(dim):\n",
    "    RHS_Pi.var += Dsymb(Psi.symb, str(i)+str(i))\n",
    "\n",
    "RHS_Pi.var += -m.symb**2*Psi.symb"
   ]
  },
  {
   "cell_type": "code",
   "execution_count": 13,
   "metadata": {},
   "outputs": [
    {
     "data": {
      "text/plain": [
       "81"
      ]
     },
     "execution_count": 13,
     "metadata": {},
     "output_type": "execute_result"
    }
   ],
   "source": [
    "fileRHS.write(RHS_Psi.AMReXRHS())\n",
    "fileRHS.write(RHS_Pi.AMReXRHS())"
   ]
  },
  {
   "cell_type": "code",
   "execution_count": 14,
   "metadata": {},
   "outputs": [],
   "source": [
    "fileRHS.write(\"}\\n\")\n",
    "fileRHS.write(\"#endif\")\n",
    "fileRHS.close()"
   ]
  },
  {
   "cell_type": "code",
   "execution_count": 15,
   "metadata": {},
   "outputs": [],
   "source": [
    "fileSETUP = open(path+\"ET_Integration_Setup.H\", \"w+\")\n",
    "\n",
    "fileSETUP.write(\"#ifndef ET_INTEGRATION_SETUP_K_H \\n\")\n",
    "fileSETUP.write(\"#define ET_INTEGRATION_SETUP_K_H \\n\\n\")\n",
    "\n",
    "fileSETUP.write(\"#include <AMReX_REAL.H> \\n\")\n",
    "fileSETUP.write(\"#include <AMReX_Array4.H> \\n\\n\")\n",
    "    \n",
    "fileSETUP.write(\"namespace Idx { \\n\")\n",
    "fileSETUP.write(\"         enum ETIndexes {\")\n",
    "    \n",
    "Idx_string = \"\"\n",
    "for itr in stVar.decl:\n",
    "    Idx_string += itr+\", \"\n",
    "Idx_string += \"NumScalars\"\n",
    "    \n",
    "fileSETUP.write(Idx_string)\n",
    "fileSETUP.write(\"}; \\n};\\n\\n\")\n",
    "    \n",
    "fileSETUP.write(\"namespace Diag { \\n\")\n",
    "fileSETUP.write(\"         enum DiagnosticIndexes {\")\n",
    "    \n",
    "Idx_string = \"\"\n",
    "for itr in stVar.declDiag:\n",
    "    Idx_string += itr+\", \"\n",
    "Idx_string += \"NumScalars\"\n",
    "    \n",
    "fileSETUP.write(Idx_string)\n",
    "fileSETUP.write(\"}; \\n};\\n\\n\")\n",
    "    \n",
    "fileSETUP.write(\"#define NUM_GHOST_CELLS \"+str(nghostcells)+\"\\n\\n\")\n",
    "fileSETUP.write(\"#endif\")\n",
    "\n",
    "fileSETUP.close()"
   ]
  },
  {
   "cell_type": "code",
   "execution_count": 16,
   "metadata": {},
   "outputs": [],
   "source": [
    "filePOST = open(path+\"ET_Integration_Post_Update_K.H\", \"w+\")\n",
    "\n",
    "PostUpdate_Header = \"\"\"#ifndef ET_INTEGRATION_POST_UPDATE_K_H \n",
    "#define ET_INTEGRATION_POST_UPDATE_K_H \n",
    "\n",
    "#include <AMReX_REAL.H> \n",
    "#include <AMReX_Array4.H> \n",
    "#include <ET_Integration_Setup.H> \n",
    "\n",
    "AMREX_GPU_DEVICE \n",
    "inline \n",
    "void \n",
    "state_post_update(int i, int j, int k, \n",
    "        amrex::Array4<amrex::Real> const& state_fab, \n",
    "        const amrex::GeometryData& geom) noexcept \n",
    "{\n",
    "\"\"\"\n",
    "\n",
    "filePOST.write(PostUpdate_Header)\n",
    "\n",
    "filePOST.write(\"}\\n\")\n",
    "filePOST.write(\"#endif\")\n",
    "filePOST.close()"
   ]
  },
  {
   "cell_type": "code",
   "execution_count": null,
   "metadata": {},
   "outputs": [],
   "source": []
  },
  {
   "cell_type": "code",
   "execution_count": 24,
   "metadata": {},
   "outputs": [
    {
     "data": {
      "text/plain": [
       "536"
      ]
     },
     "execution_count": 24,
     "metadata": {},
     "output_type": "execute_result"
    }
   ],
   "source": [
    "fileINIT = open(path+\"ET_Integration_Init_K.H\", \"w+\")\n",
    "\n",
    "Init_Header = \"\"\"#ifndef ET_INTEGRATION_INIT_K_H \n",
    "#define ET_INTEGRATION_INIT_K_H \n",
    "\n",
    "#include <AMReX_REAL.H> \n",
    "#include <AMReX_Array4.H> \n",
    "#include <ET_Integration_Setup.H> \n",
    "\n",
    "AMREX_GPU_DEVICE \n",
    "inline \n",
    "void \n",
    "state_init(int i, int j, int k, \n",
    "        amrex::Array4<amrex::Real> const& state_fab, \n",
    "        amrex::Real time, const amrex::GeometryData& geom) noexcept \n",
    "{\n",
    "\n",
    "        const auto domain_xlo = geom.ProbLo(); \n",
    "\n",
    "        amrex::Real x0 = (i + 0.5)*geom.CellSize(0) + domain_xlo[0]; \n",
    "        amrex::Real x1 = (j + 0.5)*geom.CellSize(1) + domain_xlo[1]; \n",
    "\n",
    "\"\"\"\n",
    "\n",
    "fileINIT.write(Init_Header)"
   ]
  },
  {
   "cell_type": "code",
   "execution_count": 25,
   "metadata": {},
   "outputs": [],
   "source": [
    "PsiInit = stVar('Psi')\n",
    "PiInit = stVar('Pi')"
   ]
  },
  {
   "cell_type": "code",
   "execution_count": 26,
   "metadata": {},
   "outputs": [],
   "source": [
    "PsiInit.var = sp.exp(-x.symb[0]**2 - x.symb[1]**2)\n",
    "PiInit.var = 0"
   ]
  },
  {
   "cell_type": "code",
   "execution_count": 27,
   "metadata": {},
   "outputs": [
    {
     "data": {
      "text/plain": [
       "42"
      ]
     },
     "execution_count": 27,
     "metadata": {},
     "output_type": "execute_result"
    }
   ],
   "source": [
    "fileINIT.write(PsiInit.AMReXInit())\n",
    "fileINIT.write(PiInit.AMReXInit())"
   ]
  },
  {
   "cell_type": "code",
   "execution_count": 28,
   "metadata": {},
   "outputs": [],
   "source": [
    "fileINIT.write(\"}\\n\")\n",
    "fileINIT.write(\"#endif\")\n",
    "fileINIT.close()"
   ]
  },
  {
   "cell_type": "code",
   "execution_count": 31,
   "metadata": {},
   "outputs": [],
   "source": [
    "stVar.declDiag = []\n",
    "\n",
    "Psi = stVar('Psi',declareDiag = True)\n",
    "\n",
    "fileDIAGVARS = open(path+\"ET_Integration_Diagnostic_Variables.H\",\"w+\")\n",
    "fileDIAGVARS.write(\"names = {\")\n",
    "for itr in range(len(stVar.declDiag)-1):\n",
    "    fileDIAGVARS.write(\"\\\"\"+stVar.declDiag[itr]+\"\\\", \")\n",
    "fileDIAGVARS.write(\"\\\"\"+stVar.declDiag[len(stVar.declDiag)-1]+\"\\\"\")\n",
    "fileDIAGVARS.write(\"};\")\n",
    "fileDIAGVARS.close()"
   ]
  },
  {
   "cell_type": "code",
   "execution_count": 33,
   "metadata": {},
   "outputs": [
    {
     "data": {
      "text/plain": [
       "711"
      ]
     },
     "execution_count": 33,
     "metadata": {},
     "output_type": "execute_result"
    }
   ],
   "source": [
    "fileDIAG = open(path+\"ET_Integration_Diag_K.H\", \"w+\")\n",
    "\n",
    "DIAG_Header = \"\"\"#ifndef ET_INTEGRATION_DIAG_K_H \n",
    "#define ET_INTEGRATION_DIAG_K_H \n",
    "\n",
    "#include <AMReX_REAL.H> \n",
    "#include <AMReX_Array4.H> \n",
    "#include <ET_Integration_Setup.H> \n",
    "\n",
    "AMREX_GPU_DEVICE \n",
    "inline \n",
    "void \n",
    "state_diagnostics(int i, int j, int k, \n",
    "        amrex::Array4<amrex::Real> const& diag, \n",
    "        amrex::Array4<amrex::Real const> const& state_fab, \n",
    "        amrex::GpuArray<amrex::Real,AMREX_SPACEDIM> const& dx,\n",
    "        const amrex::GeometryData& geom) noexcept \n",
    "{\n",
    "\n",
    "        const auto domain_xlo = geom.ProbLo(); \n",
    "\n",
    "        amrex::Real x0 = (i + 0.5)*geom.CellSize(0) + domain_xlo[0]; \n",
    "        amrex::Real x1 = (j + 0.5)*geom.CellSize(0) + domain_xlo[1]; \n",
    "        amrex::Real x2 = (k + 0.5)*geom.CellSize(0) + domain_xlo[2];\n",
    "\"\"\"\n",
    "\n",
    "fileDIAG.write(DIAG_Header)"
   ]
  },
  {
   "cell_type": "code",
   "execution_count": 34,
   "metadata": {},
   "outputs": [],
   "source": [
    "fileDIAG.write(\"}\\n\")\n",
    "fileDIAG.write(\"#endif\")\n",
    "fileDIAG.close()"
   ]
  },
  {
   "cell_type": "markdown",
   "metadata": {},
   "source": []
  },
  {
   "cell_type": "code",
   "execution_count": null,
   "metadata": {},
   "outputs": [],
   "source": []
  },
  {
   "cell_type": "code",
   "execution_count": null,
   "metadata": {},
   "outputs": [],
   "source": []
  },
  {
   "cell_type": "code",
   "execution_count": null,
   "metadata": {},
   "outputs": [],
   "source": []
  }
 ],
 "metadata": {
  "kernelspec": {
   "display_name": "Python 3",
   "language": "python",
   "name": "python3"
  },
  "language_info": {
   "codemirror_mode": {
    "name": "ipython",
    "version": 3
   },
   "file_extension": ".py",
   "mimetype": "text/x-python",
   "name": "python",
   "nbconvert_exporter": "python",
   "pygments_lexer": "ipython3",
   "version": "3.5.2"
  }
 },
 "nbformat": 4,
 "nbformat_minor": 2
}
