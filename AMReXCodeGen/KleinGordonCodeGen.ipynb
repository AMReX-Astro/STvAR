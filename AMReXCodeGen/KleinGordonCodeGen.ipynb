{
 "cells": [
  {
   "cell_type": "code",
   "execution_count": 37,
   "metadata": {},
   "outputs": [],
   "source": [
    "from STvAR import *\n",
    "import STvARFileWrite as stfw\n",
    "import STvARInputs as stvi"
   ]
  },
  {
   "cell_type": "code",
   "execution_count": 38,
   "metadata": {},
   "outputs": [],
   "source": [
    "DiffOrder = 2\n",
    "nghostcells = 4\n",
    "#KOsigma = 0.1  #Kriess-Oliger dissipation.  Irrelevant for linear equations like Klein Gordon"
   ]
  },
  {
   "cell_type": "code",
   "execution_count": 39,
   "metadata": {},
   "outputs": [],
   "source": [
    "dim = 2\n",
    "path = \"../Source/KleinGordon/\""
   ]
  },
  {
   "cell_type": "markdown",
   "metadata": {},
   "source": [
    "# RHS"
   ]
  },
  {
   "cell_type": "code",
   "execution_count": 40,
   "metadata": {},
   "outputs": [
    {
     "data": {
      "text/plain": [
       "673"
      ]
     },
     "execution_count": 40,
     "metadata": {},
     "output_type": "execute_result"
    }
   ],
   "source": [
    "fileRHS = open(path+\"ET_Integration_Rhs_K.H\", \"w+\")\n",
    "fileRHS.write(stfw.RHS_Header(dim = 2)) #Standard header for dim = 2 system."
   ]
  },
  {
   "cell_type": "code",
   "execution_count": 41,
   "metadata": {},
   "outputs": [
    {
     "data": {
      "text/plain": [
       "55"
      ]
     },
     "execution_count": 41,
     "metadata": {},
     "output_type": "execute_result"
    }
   ],
   "source": [
    "stVar.declState = [] #This will hold the names of evolved variables for sympy->AMReX CodeGen\n",
    "\n",
    "Psi = stVar('Psi', state = True)  #Setting state = true means it will be treated as an evolved variable and added to the list stVar.declState\n",
    "Pi = stVar('Pi', state = True)\n",
    "\n",
    "fileRHS.write(Psi.AMReXSymb2State())  #This will define a symbol Psi initialized to the indexed multifab expression\n",
    "fileRHS.write(Pi.AMReXSymb2State())"
   ]
  },
  {
   "cell_type": "code",
   "execution_count": 42,
   "metadata": {},
   "outputs": [],
   "source": [
    "#This will hold the list of evolved variables for the plot files.\n",
    "\n",
    "fileVARS = open(path+\"ET_Integration_Variables.H\",\"w+\")\n",
    "fileVARS.write(stfw.VarString(stVar.declState))\n",
    "fileVARS.close()"
   ]
  },
  {
   "cell_type": "code",
   "execution_count": 43,
   "metadata": {},
   "outputs": [
    {
     "data": {
      "text/plain": [
       "1881"
      ]
     },
     "execution_count": 43,
     "metadata": {},
     "output_type": "execute_result"
    }
   ],
   "source": [
    "#DstVar operates on stVar objects and returns finite differenced indexed expressions.\n",
    "#AMReXSymb2Expr() writes out an executable line defining a symbol initialized to the expression contained in the stVar object.\n",
    "#Try replacing fileRHS.write with print to see what they look like.\n",
    "\n",
    "fileRHS.write(DstVar(Psi, 1, orderD = DiffOrder).AMReXSymb2Expr()) \n",
    "fileRHS.write(DstVar(Psi, 2, orderD = DiffOrder).AMReXSymb2Expr())\n",
    "#fileRHS.write(DstVar(Psi, 'KO', orderD = DiffOrder, sigma = KOsigma).AMReXSymb2Expr())"
   ]
  },
  {
   "cell_type": "code",
   "execution_count": 44,
   "metadata": {},
   "outputs": [
    {
     "data": {
      "text/plain": [
       "28"
      ]
     },
     "execution_count": 44,
     "metadata": {},
     "output_type": "execute_result"
    }
   ],
   "source": [
    "m = stVar('m')  #stVar objects can be used for constants as well.  Here we define a symbol for the mass.\n",
    "m.expr = 1  #Mass set to 1, by setting the expression (expr) to 1.\n",
    "fileRHS.write(m.AMReXSymb2Expr())"
   ]
  },
  {
   "cell_type": "code",
   "execution_count": 45,
   "metadata": {},
   "outputs": [],
   "source": [
    "RHS_Psi = stVar('Psi')  #Defining a separate stVar object holding the RHS expression for Psi.  It has the same symbolic name as the original stVar object.\n",
    "\n",
    "RHS_Psi.expr = Pi.symb  #Expression (expr) of RHS_Psi set to Pi.\n",
    "\n",
    "# Note: .symb refers to the symbol holding information.  It isn't really necessary, but makes code look more clean.\n",
    "# You could for example instead write RHS_Psi.expr = Pi.expr, in which case you'll get the rhs equal to the indexed version.\n",
    "# Again, try printing the statements to get an idea of how they are organized."
   ]
  },
  {
   "cell_type": "code",
   "execution_count": 46,
   "metadata": {},
   "outputs": [],
   "source": [
    "RHS_Pi = stVar('Pi')\n",
    "\n",
    "for i in range(dim):\n",
    "    RHS_Pi.expr += Dsymb(Psi.symb, str(i)+str(i))\n",
    "\n",
    "RHS_Pi.expr += -m.symb**2*Psi.symb"
   ]
  },
  {
   "cell_type": "code",
   "execution_count": 47,
   "metadata": {},
   "outputs": [
    {
     "data": {
      "text/plain": [
       "78"
      ]
     },
     "execution_count": 47,
     "metadata": {},
     "output_type": "execute_result"
    }
   ],
   "source": [
    "#Writing RHS expressions to the RHS file.\n",
    "\n",
    "fileRHS.write(RHS_Psi.AMReXSetRHS())\n",
    "fileRHS.write(RHS_Pi.AMReXSetRHS())"
   ]
  },
  {
   "cell_type": "code",
   "execution_count": 48,
   "metadata": {},
   "outputs": [],
   "source": [
    "fileRHS.write(\"}\\n\")\n",
    "fileRHS.write(\"#endif\")\n",
    "fileRHS.close()"
   ]
  },
  {
   "cell_type": "markdown",
   "metadata": {},
   "source": [
    "# Diagnostics file"
   ]
  },
  {
   "cell_type": "markdown",
   "metadata": {},
   "source": [
    "You can use these to plot any diagnostic functions that are not directly evolved by the equations of motion.\n",
    "E.g. you. could plot the energy density as a function of psi and its derivatives."
   ]
  },
  {
   "cell_type": "code",
   "execution_count": 13,
   "metadata": {},
   "outputs": [
    {
     "data": {
      "text/plain": [
       "684"
      ]
     },
     "execution_count": 13,
     "metadata": {},
     "output_type": "execute_result"
    }
   ],
   "source": [
    "fileDIAG = open(path+\"ET_Integration_Diag_K.H\", \"w+\")\n",
    "fileDIAG.write(stfw.Diag_Header(dim = 2))"
   ]
  },
  {
   "cell_type": "code",
   "execution_count": 14,
   "metadata": {},
   "outputs": [
    {
     "data": {
      "text/plain": [
       "55"
      ]
     },
     "execution_count": 14,
     "metadata": {},
     "output_type": "execute_result"
    }
   ],
   "source": [
    "#We will again need symbols for Pi and Psi here.\n",
    "\n",
    "fileDIAG.write(Psi.AMReXSymb2State())\n",
    "fileDIAG.write(Pi.AMReXSymb2State())"
   ]
  },
  {
   "cell_type": "code",
   "execution_count": 15,
   "metadata": {},
   "outputs": [
    {
     "data": {
      "text/plain": [
       "639"
      ]
     },
     "execution_count": 15,
     "metadata": {},
     "output_type": "execute_result"
    }
   ],
   "source": [
    "#We only need first order spatial derivatives for Psi\n",
    "\n",
    "fileDIAG.write(DstVar(Psi, 1, orderD = DiffOrder).AMReXSymb2Expr()) "
   ]
  },
  {
   "cell_type": "code",
   "execution_count": 16,
   "metadata": {},
   "outputs": [
    {
     "data": {
      "text/plain": [
       "28"
      ]
     },
     "execution_count": 16,
     "metadata": {},
     "output_type": "execute_result"
    }
   ],
   "source": [
    "fileDIAG.write(m.AMReXSymb2Expr())"
   ]
  },
  {
   "cell_type": "code",
   "execution_count": 17,
   "metadata": {},
   "outputs": [],
   "source": [
    "#Now define the expression for energy density.  First we declare a diagnostic variable\n",
    "\n",
    "stVar.declDiag = []\n",
    "\n",
    "EnDens = stVar('EnDens', diag = True)"
   ]
  },
  {
   "cell_type": "code",
   "execution_count": 18,
   "metadata": {},
   "outputs": [],
   "source": [
    "fileDIAGVARS = open(path+\"ET_Integration_Diagnostic_Variables.H\",\"w+\")\n",
    "fileDIAGVARS.write(stfw.VarString(stVar.declDiag))\n",
    "fileDIAGVARS.close()"
   ]
  },
  {
   "cell_type": "code",
   "execution_count": 19,
   "metadata": {},
   "outputs": [],
   "source": [
    "EnDens.expr = 1/2*(Pi.symb)**2 + 1/2*(m.symb**2)*(Psi.symb**2)+1/2*Dsymb(Psi.symb, '0')**2 + 1/2*Dsymb(Psi.symb, '1')**2"
   ]
  },
  {
   "cell_type": "code",
   "execution_count": 20,
   "metadata": {},
   "outputs": [
    {
     "data": {
      "text/plain": [
       "148"
      ]
     },
     "execution_count": 20,
     "metadata": {},
     "output_type": "execute_result"
    }
   ],
   "source": [
    "fileDIAG.write(EnDens.AMReXSetDiag())"
   ]
  },
  {
   "cell_type": "code",
   "execution_count": 21,
   "metadata": {},
   "outputs": [
    {
     "data": {
      "text/plain": [
       "['EnDens']"
      ]
     },
     "execution_count": 21,
     "metadata": {},
     "output_type": "execute_result"
    }
   ],
   "source": [
    "stVar.declDiag"
   ]
  },
  {
   "cell_type": "code",
   "execution_count": 22,
   "metadata": {},
   "outputs": [],
   "source": [
    "fileDIAG.write(stfw.Closer())\n",
    "fileDIAG.close()"
   ]
  },
  {
   "cell_type": "markdown",
   "metadata": {},
   "source": [
    "# Problem Setup file"
   ]
  },
  {
   "cell_type": "markdown",
   "metadata": {},
   "source": [
    "Defines the variables and diagnostics to be tracked, as well as ghost cells, and namespaces for the components."
   ]
  },
  {
   "cell_type": "code",
   "execution_count": 23,
   "metadata": {},
   "outputs": [],
   "source": [
    "fileSETUP = open(path+\"ET_Integration_Setup_K.H\", \"w+\")\n",
    "fileSETUP.write(stfw.Write_Setup_File(stVar.declState, stVar.declInit, stVar.declDiag, nghostcells))\n",
    "fileSETUP.close()"
   ]
  },
  {
   "cell_type": "markdown",
   "metadata": {},
   "source": [
    "# Post updating"
   ]
  },
  {
   "cell_type": "markdown",
   "metadata": {},
   "source": [
    "We can do any time step post updating here. For example we could insist on a particular gauge condition here. It would be written in the same format as RHS and DIAG files.  For Klein Gordon it is blank since it is not used."
   ]
  },
  {
   "cell_type": "code",
   "execution_count": 24,
   "metadata": {},
   "outputs": [],
   "source": [
    "filePOST = open(path+\"ET_Integration_Post_Update_K.H\", \"w+\")\n",
    "filePOST.write(stfw.PostUpdate_Header())\n",
    "filePOST.write(stfw.Closer())\n",
    "filePOST.close()"
   ]
  },
  {
   "cell_type": "markdown",
   "metadata": {},
   "source": [
    "# Initializations of evolved variables"
   ]
  },
  {
   "cell_type": "markdown",
   "metadata": {},
   "source": [
    "Here is where we will define the initial conditions for the KG fields."
   ]
  },
  {
   "cell_type": "code",
   "execution_count": 25,
   "metadata": {},
   "outputs": [
    {
     "data": {
      "text/plain": [
       "612"
      ]
     },
     "execution_count": 25,
     "metadata": {},
     "output_type": "execute_result"
    }
   ],
   "source": [
    "fileINIT = open(path+\"ET_Integration_Init_K.H\", \"w+\")\n",
    "fileINIT.write(stfw.InitFromScratch_Header())"
   ]
  },
  {
   "cell_type": "code",
   "execution_count": 26,
   "metadata": {},
   "outputs": [],
   "source": [
    "PsiInit = stVar('Psi')\n",
    "PiInit = stVar('Pi')"
   ]
  },
  {
   "cell_type": "code",
   "execution_count": 27,
   "metadata": {},
   "outputs": [],
   "source": [
    "x = stVarRank1('x') #Need a coordinate symbol to define initial condition"
   ]
  },
  {
   "cell_type": "code",
   "execution_count": 28,
   "metadata": {},
   "outputs": [],
   "source": [
    "PsiInit.expr = sp.exp(-(x.symb[0]-5)**2 - x.symb[1]**2)+sp.exp(-(x.symb[0]+5)**2 - x.symb[1]**2)\n",
    "PiInit.expr = 0"
   ]
  },
  {
   "cell_type": "code",
   "execution_count": 29,
   "metadata": {},
   "outputs": [
    {
     "data": {
      "text/plain": [
       "42"
      ]
     },
     "execution_count": 29,
     "metadata": {},
     "output_type": "execute_result"
    }
   ],
   "source": [
    "fileINIT.write(PsiInit.AMReXSetState())\n",
    "fileINIT.write(PiInit.AMReXSetState())"
   ]
  },
  {
   "cell_type": "code",
   "execution_count": 30,
   "metadata": {},
   "outputs": [],
   "source": [
    "fileINIT.write(stfw.Closer())\n",
    "fileINIT.close()"
   ]
  },
  {
   "cell_type": "markdown",
   "metadata": {},
   "source": [
    "# AMR tagging conditions"
   ]
  },
  {
   "cell_type": "markdown",
   "metadata": {},
   "source": [
    "We will defining the cell tagging conditions here.  Virtually any function of the field variables and their derivatives can serve as a tagging condition.  Here we will simply use |Psi| > threshold as the condition."
   ]
  },
  {
   "cell_type": "code",
   "execution_count": 31,
   "metadata": {},
   "outputs": [
    {
     "data": {
      "text/plain": [
       "744"
      ]
     },
     "execution_count": 31,
     "metadata": {},
     "output_type": "execute_result"
    }
   ],
   "source": [
    "fileAMRTAG = open(path+\"ET_Integration_AMR_Cell_Tag_K.H\", \"w+\")\n",
    "fileAMRTAG.write(stfw.AMRtagging_Header())"
   ]
  },
  {
   "cell_type": "code",
   "execution_count": 32,
   "metadata": {},
   "outputs": [
    {
     "data": {
      "text/plain": [
       "57"
      ]
     },
     "execution_count": 32,
     "metadata": {},
     "output_type": "execute_result"
    }
   ],
   "source": [
    "fileAMRTAG.write(Psi.AMReXSymb2State())"
   ]
  },
  {
   "cell_type": "code",
   "execution_count": 33,
   "metadata": {},
   "outputs": [],
   "source": [
    "AbsPsi = stVar('AbsPsi')\n",
    "AbsPsi.expr = sp.Abs(Psi.symb)"
   ]
  },
  {
   "cell_type": "code",
   "execution_count": 34,
   "metadata": {},
   "outputs": [
    {
     "data": {
      "text/plain": [
       "46"
      ]
     },
     "execution_count": 34,
     "metadata": {},
     "output_type": "execute_result"
    }
   ],
   "source": [
    "fileAMRTAG.write(AbsPsi.AMReXSymb2Expr())"
   ]
  },
  {
   "cell_type": "code",
   "execution_count": 35,
   "metadata": {},
   "outputs": [
    {
     "data": {
      "text/plain": [
       "41"
      ]
     },
     "execution_count": 35,
     "metadata": {},
     "output_type": "execute_result"
    }
   ],
   "source": [
    "fileAMRTAG.write(TagCondition(AbsPsi, '>','symb'))"
   ]
  },
  {
   "cell_type": "code",
   "execution_count": 36,
   "metadata": {},
   "outputs": [],
   "source": [
    "fileAMRTAG.write(stfw.Closer())\n",
    "fileAMRTAG.close()"
   ]
  }
 ],
 "metadata": {
  "kernelspec": {
   "display_name": "Python 3",
   "language": "python",
   "name": "python3"
  },
  "language_info": {
   "codemirror_mode": {
    "name": "ipython",
    "version": 3
   },
   "file_extension": ".py",
   "mimetype": "text/x-python",
   "name": "python",
   "nbconvert_exporter": "python",
   "pygments_lexer": "ipython3",
   "version": "3.5.2"
  }
 },
 "nbformat": 4,
 "nbformat_minor": 2
}
