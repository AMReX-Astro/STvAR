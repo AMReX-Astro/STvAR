{
 "cells": [
  {
   "cell_type": "code",
   "execution_count": 1,
   "metadata": {},
   "outputs": [],
   "source": [
    "from STvAR import *\n",
    "import STvARFileWrite as stfw"
   ]
  },
  {
   "cell_type": "code",
   "execution_count": 2,
   "metadata": {},
   "outputs": [],
   "source": [
    "DiffOrder = 4\n",
    "nghostcells = 4\n",
    "KOsigma = 0.1\n",
    "DiffOrderUpDn = 4"
   ]
  },
  {
   "cell_type": "code",
   "execution_count": 3,
   "metadata": {},
   "outputs": [],
   "source": [
    "dim = 3\n",
    "path = \"../Source/InitialDataHolographicVortex/\""
   ]
  },
  {
   "cell_type": "code",
   "execution_count": 12,
   "metadata": {},
   "outputs": [],
   "source": [
    "fileAmplitudes = open('Amp7.txt', 'r')"
   ]
  },
  {
   "cell_type": "code",
   "execution_count": 13,
   "metadata": {},
   "outputs": [],
   "source": [
    "A = np.zeros((20,20))"
   ]
  },
  {
   "cell_type": "code",
   "execution_count": 14,
   "metadata": {},
   "outputs": [],
   "source": [
    "A = np.zeros((20,20))\n",
    "n=0\n",
    "for line in fileAmplitudes:\n",
    "    row = line.split()\n",
    "    A[n] = row\n",
    "    n += 1"
   ]
  },
  {
   "cell_type": "code",
   "execution_count": 15,
   "metadata": {},
   "outputs": [],
   "source": [
    "fileAmplitudes.close()"
   ]
  },
  {
   "cell_type": "code",
   "execution_count": 16,
   "metadata": {},
   "outputs": [],
   "source": [
    "Q7 = stVar('Q7', initial=True)\n",
    "Q7.expr = 0"
   ]
  },
  {
   "cell_type": "code",
   "execution_count": 17,
   "metadata": {},
   "outputs": [],
   "source": [
    "x = stVarRank1('x')"
   ]
  },
  {
   "cell_type": "code",
   "execution_count": 18,
   "metadata": {},
   "outputs": [],
   "source": [
    "a = stVar('a')\n",
    "a.expr = 5\n",
    "v = stVar('v')\n",
    "v.expr = 0.5"
   ]
  },
  {
   "cell_type": "code",
   "execution_count": 19,
   "metadata": {},
   "outputs": [
    {
     "name": "stdout",
     "output_type": "stream",
     "text": [
      "        amrex::Real a = 5;\n",
      "\n",
      "\n",
      "        amrex::Real v = 0.5;\n",
      "\n",
      "\n"
     ]
    }
   ],
   "source": [
    "print(a.AMReXSymb2Expr())\n",
    "print(v.AMReXSymb2Expr())"
   ]
  },
  {
   "cell_type": "code",
   "execution_count": 20,
   "metadata": {},
   "outputs": [],
   "source": [
    "X = stVar('X')\n",
    "X.expr = sp.sqrt(((a.symb+x.symb[0])**2)/(1-v.symb**2)+x.symb[1]**2)/(1+sp.sqrt(((a.symb+x.symb[0])**2)/(1-v.symb**2)+x.symb[1]**2))"
   ]
  },
  {
   "cell_type": "code",
   "execution_count": 21,
   "metadata": {},
   "outputs": [],
   "source": [
    "Q7.expr = 0\n",
    "for n in range(20):\n",
    "    for m in range(20):\n",
    "        Q7.expr += A[n][m]*sp.cos(n*sp.acos(-1+2*X.symb))*sp.cos(m*sp.acos(-1+2*x.symb[2]))"
   ]
  },
  {
   "cell_type": "code",
   "execution_count": 22,
   "metadata": {},
   "outputs": [
    {
     "name": "stdout",
     "output_type": "stream",
     "text": [
      "        state_fab(i, j, k, Idx::Q7) = 1.0910575107898681*X - 0.12002759466638298*x2 + (3.2322752582651139e-10 - 6.4645505165302278e-10*X)*std::cos(18*std::acos(2*x2 - 1)) + (7.94687269022867e-9 - 1.589374538045734e-8*X)*std::cos(15*std::acos(2*x2 - 1)) + (6.7419173404128282e-8 - 1.3483834680825656e-7*X)*std::cos(13*std::acos(2*x2 - 1)) + (2.6454840105553348e-6 - 5.2909680211106697e-6*X)*std::cos(10*std::acos(2*x2 - 1)) + (2.0397482759435226e-5 - 4.0794965518870451e-5*X)*std::cos(8*std::acos(2*x2 - 1)) + (0.00030510077809498166 - 0.00061020155618996333*X)*std::cos(3*std::acos(2*x2 - 1)) + (0.00064300666921238473 - 0.0012860133384247695*X)*std::cos(5*std::acos(2*x2 - 1)) + (0.0058047419927006435 - 0.011609483985401287*X)*std::cos(2*std::acos(2*x2 - 1)) + (9.7442772356874305e-11*X - 4.8721386178437152e-11)*std::cos(19*std::acos(2*x2 - 1)) + (8.8779980204423473e-10*X - 4.4389990102211736e-10)*std::cos(17*std::acos(2*x2 - 1)) + (1.4075310831684722e-9*X - 7.0376554158423608e-10)*std::cos(16*std::acos(2*x2 - 1)) + (1.6860334896458273e-8*X - 8.4301674482291367e-9)*std::cos(12*std::acos(2*x2 - 1)) + (6.4513281172425604e-8*X - 3.2256640586212802e-8)*std::cos(14*std::acos(2*x2 - 1)) + (1.0493638807594912e-6*X - 5.2468194037974558e-7)*std::cos(11*std::acos(2*x2 - 1)) + (1.7850618857614704e-5*X - 8.9253094288073518e-6)*std::cos(7*std::acos(2*x2 - 1)) + (1.8011141474147678e-5*X - 9.0055707370738391e-6)*std::cos(9*std::acos(2*x2 - 1)) + (0.00029262852442209106*X - 0.00014631426221104553)*std::cos(6*std::acos(2*x2 - 1)) + (0.0025370507919543969*X - 0.0012685253959771985)*std::cos(4*std::acos(2*x2 - 1)) + (0.036772416057047716*X - 0.018386208028523858)*(2*x2 - 1) + 0.053942378905912761*(2*x2 - 1)*std::cos(2*std::acos(2*X - 1)) + 0.013122526237757932*(2*x2 - 1)*std::cos(3*std::acos(2*X - 1)) - 0.015336274379028174*(2*x2 - 1)*std::cos(4*std::acos(2*X - 1)) - 0.01409582701195076*(2*x2 - 1)*std::cos(5*std::acos(2*X - 1)) - 0.003123868648090456*(2*x2 - 1)*std::cos(6*std::acos(2*X - 1)) + 0.0031917505489678613*(2*x2 - 1)*std::cos(7*std::acos(2*X - 1)) + 0.0035621569190374038*(2*x2 - 1)*std::cos(8*std::acos(2*X - 1)) + 0.0016358851626377814*(2*x2 - 1)*std::cos(9*std::acos(2*X - 1)) + 3.6798643427727489e-5*(2*x2 - 1)*std::cos(10*std::acos(2*X - 1)) - 0.00058954176170277731*(2*x2 - 1)*std::cos(11*std::acos(2*X - 1)) - 0.00056084061428285218*(2*x2 - 1)*std::cos(12*std::acos(2*X - 1)) - 0.00030586065964590325*(2*x2 - 1)*std::cos(13*std::acos(2*X - 1)) - 7.6609571895922598e-5*(2*x2 - 1)*std::cos(14*std::acos(2*X - 1)) + 4.7198368202701867e-5*(2*x2 - 1)*std::cos(15*std::acos(2*X - 1)) + 7.6981367832244102e-5*(2*x2 - 1)*std::cos(16*std::acos(2*X - 1)) + 5.8450394997841006e-5*(2*x2 - 1)*std::cos(17*std::acos(2*X - 1)) + 3.2336605752168041e-5*(2*x2 - 1)*std::cos(18*std::acos(2*X - 1)) + 9.9487967381308405e-6*(2*x2 - 1)*std::cos(19*std::acos(2*X - 1)) - 0.009836216823537091*std::cos(2*std::acos(2*X - 1))*std::cos(2*std::acos(2*x2 - 1)) - 0.0038436080467554971*std::cos(2*std::acos(2*X - 1))*std::cos(3*std::acos(2*x2 - 1)) + 0.0028242349089990133*std::cos(2*std::acos(2*X - 1))*std::cos(4*std::acos(2*x2 - 1)) - 0.00073064670421088009*std::cos(2*std::acos(2*X - 1))*std::cos(5*std::acos(2*x2 - 1)) + 1.2542051765240738e-5*std::cos(2*std::acos(2*X - 1))*std::cos(6*std::acos(2*x2 - 1)) + 5.9517060936809329e-5*std::cos(2*std::acos(2*X - 1))*std::cos(7*std::acos(2*x2 - 1)) - 2.5553428595577381e-5*std::cos(2*std::acos(2*X - 1))*std::cos(8*std::acos(2*x2 - 1)) + 6.8203922231144937e-6*std::cos(2*std::acos(2*X - 1))*std::cos(9*std::acos(2*x2 - 1)) - 1.3023936666673884e-6*std::cos(2*std::acos(2*X - 1))*std::cos(10*std::acos(2*x2 - 1)) + 2.3039881282490324e-8*std::cos(2*std::acos(2*X - 1))*std::cos(11*std::acos(2*x2 - 1)) + 1.2493255538225485e-7*std::cos(2*std::acos(2*X - 1))*std::cos(12*std::acos(2*x2 - 1)) - 5.302543732009122e-8*std::cos(2*std::acos(2*X - 1))*std::cos(13*std::acos(2*x2 - 1)) + 6.1517788792729566e-9*std::cos(2*std::acos(2*X - 1))*std::cos(14*std::acos(2*x2 - 1)) + 3.2261349913541943e-9*std::cos(2*std::acos(2*X - 1))*std::cos(15*std::acos(2*x2 - 1)) - 2.1350264692310012e-9*std::cos(2*std::acos(2*X - 1))*std::cos(16*std::acos(2*x2 - 1)) + 6.7641944760774182e-10*std::cos(2*std::acos(2*X - 1))*std::cos(17*std::acos(2*x2 - 1)) - 2.0714673369898271e-10*std::cos(2*std::acos(2*X - 1))*std::cos(18*std::acos(2*x2 - 1)) + 1.4998001385475076e-10*std::cos(2*std::acos(2*X - 1))*std::cos(19*std::acos(2*x2 - 1)) - 0.029427329382975952*std::cos(2*std::acos(2*X - 1)) - 9.5399348490060295e-5*std::cos(3*std::acos(2*X - 1))*std::cos(2*std::acos(2*x2 - 1)) - 0.0018113391247424585*std::cos(3*std::acos(2*X - 1))*std::cos(3*std::acos(2*x2 - 1)) + 0.00036017625241901833*std::cos(3*std::acos(2*X - 1))*std::cos(4*std::acos(2*x2 - 1)) + 0.00018355275723762614*std::cos(3*std::acos(2*X - 1))*std::cos(5*std::acos(2*x2 - 1)) - 0.00011143992020950948*std::cos(3*std::acos(2*X - 1))*std::cos(6*std::acos(2*x2 - 1)) + 1.6197851429648947e-5*std::cos(3*std::acos(2*X - 1))*std::cos(7*std::acos(2*x2 - 1)) + 6.0305386103058325e-6*std::cos(3*std::acos(2*X - 1))*std::cos(8*std::acos(2*x2 - 1)) - 3.8487723549786735e-6*std::cos(3*std::acos(2*X - 1))*std::cos(9*std::acos(2*x2 - 1)) + 1.1594180695569535e-6*std::cos(3*std::acos(2*X - 1))*std::cos(10*std::acos(2*x2 - 1)) - 2.4921195664432425e-7*std::cos(3*std::acos(2*X - 1))*std::cos(11*std::acos(2*x2 - 1)) + 4.2572909375197593e-9*std::cos(3*std::acos(2*X - 1))*std::cos(12*std::acos(2*x2 - 1)) + 3.5964663909607069e-8*std::cos(3*std::acos(2*X - 1))*std::cos(13*std::acos(2*x2 - 1)) - 1.9352654468765573e-8*std::cos(3*std::acos(2*X - 1))*std::cos(14*std::acos(2*x2 - 1)) + 4.5389224880113292e-9*std::cos(3*std::acos(2*X - 1))*std::cos(15*std::acos(2*x2 - 1)) - 1.4803252541958564e-10*std::cos(3*std::acos(2*X - 1))*std::cos(16*std::acos(2*x2 - 1)) - 2.2003429019947212e-10*std::cos(3*std::acos(2*X - 1))*std::cos(17*std::acos(2*x2 - 1)) + 1.238418939473367e-10*std::cos(3*std::acos(2*X - 1))*std::cos(18*std::acos(2*x2 - 1)) - 3.9615323073002601e-11*std::cos(3*std::acos(2*X - 1))*std::cos(19*std::acos(2*x2 - 1)) - 0.14246593107973396*std::cos(3*std::acos(2*X - 1)) + 0.0038389617665701968*std::cos(4*std::acos(2*X - 1))*std::cos(2*std::acos(2*x2 - 1)) + 0.00079622285866627574*std::cos(4*std::acos(2*X - 1))*std::cos(3*std::acos(2*x2 - 1)) - 0.0010047208763944043*std::cos(4*std::acos(2*X - 1))*std::cos(4*std::acos(2*x2 - 1)) + 0.00035322187645622555*std::cos(4*std::acos(2*X - 1))*std::cos(5*std::acos(2*x2 - 1)) - 2.8049163424314976e-5*std::cos(4*std::acos(2*X - 1))*std::cos(6*std::acos(2*x2 - 1)) - 2.6454764138473391e-5*std::cos(4*std::acos(2*X - 1))*std::cos(7*std::acos(2*x2 - 1)) + 1.3052097933509145e-5*std::cos(4*std::acos(2*X - 1))*std::cos(8*std::acos(2*x2 - 1)) - 3.0508577692190634e-6*std::cos(4*std::acos(2*X - 1))*std::cos(9*std::acos(2*x2 - 1)) + 3.4579269322181061e-7*std::cos(4*std::acos(2*X - 1))*std::cos(10*std::acos(2*x2 - 1)) + 7.3568758601722873e-8*std::cos(4*std::acos(2*X - 1))*std::cos(11*std::acos(2*x2 - 1)) - 7.6101077135082686e-8*std::cos(4*std::acos(2*X - 1))*std::cos(12*std::acos(2*x2 - 1)) + 2.8100150085578817e-8*std::cos(4*std::acos(2*X - 1))*std::cos(13*std::acos(2*x2 - 1)) - 1.3570059232120152e-9*std::cos(4*std::acos(2*X - 1))*std::cos(14*std::acos(2*x2 - 1)) - 3.3168684143941671e-9*std::cos(4*std::acos(2*X - 1))*std::cos(15*std::acos(2*x2 - 1)) + 1.6347098640554815e-9*std::cos(4*std::acos(2*X - 1))*std::cos(16*std::acos(2*x2 - 1)) - 3.0130531747450499e-10*std::cos(4*std::acos(2*X - 1))*std::cos(17*std::acos(2*x2 - 1)) + 2.8902477525009906e-11*std::cos(4*std::acos(2*X - 1))*std::cos(18*std::acos(2*x2 - 1)) - 9.0557303680533635e-11*std::cos(4*std::acos(2*X - 1))*std::cos(19*std::acos(2*x2 - 1)) - 0.073604902306544484*std::cos(4*std::acos(2*X - 1)) + 0.0017095944714147792*std::cos(5*std::acos(2*X - 1))*std::cos(2*std::acos(2*x2 - 1)) + 0.0013967058350509139*std::cos(5*std::acos(2*X - 1))*std::cos(3*std::acos(2*x2 - 1)) - 0.00064353443102921674*std::cos(5*std::acos(2*X - 1))*std::cos(4*std::acos(2*x2 - 1)) + 3.9947691703439998e-5*std::cos(5*std::acos(2*X - 1))*std::cos(5*std::acos(2*x2 - 1)) + 5.5939948511025603e-5*std::cos(5*std::acos(2*X - 1))*std::cos(6*std::acos(2*x2 - 1)) - 2.0440997487457041e-5*std::cos(5*std::acos(2*X - 1))*std::cos(7*std::acos(2*x2 - 1)) + 1.1847024089055021e-6*std::cos(5*std::acos(2*X - 1))*std::cos(8*std::acos(2*x2 - 1)) + 1.2322187377012013e-6*std::cos(5*std::acos(2*X - 1))*std::cos(9*std::acos(2*x2 - 1)) - 4.9710371556420515e-7*std::cos(5*std::acos(2*X - 1))*std::cos(10*std::acos(2*x2 - 1)) + 1.1710997298972525e-7*std::cos(5*std::acos(2*X - 1))*std::cos(11*std::acos(2*x2 - 1)) - 9.4052043288911369e-9*std::cos(5*std::acos(2*X - 1))*std::cos(12*std::acos(2*x2 - 1)) - 1.4988838476369024e-8*std::cos(5*std::acos(2*X - 1))*std::cos(13*std::acos(2*x2 - 1)) + 1.0426975558365872e-8*std::cos(5*std::acos(2*X - 1))*std::cos(14*std::acos(2*x2 - 1)) - 2.8520302209987915e-9*std::cos(5*std::acos(2*X - 1))*std::cos(15*std::acos(2*x2 - 1)) + 6.8905122439007899e-11*std::cos(5*std::acos(2*X - 1))*std::cos(16*std::acos(2*x2 - 1)) + 1.621360886939734e-10*std::cos(5*std::acos(2*X - 1))*std::cos(17*std::acos(2*x2 - 1)) - 4.4652209406641392e-11*std::cos(5*std::acos(2*X - 1))*std::cos(18*std::acos(2*x2 - 1)) + 2.0077191333609835e-11*std::cos(5*std::acos(2*X - 1))*std::cos(19*std::acos(2*x2 - 1)) - 0.0093168355769919983*std::cos(5*std::acos(2*X - 1)) - 0.00059116146001533462*std::cos(6*std::acos(2*X - 1))*std::cos(2*std::acos(2*x2 - 1)) + 0.00060568997904411701*std::cos(6*std::acos(2*X - 1))*std::cos(3*std::acos(2*x2 - 1)) + 3.8144935132975333e-5*std::cos(6*std::acos(2*X - 1))*std::cos(4*std::acos(2*x2 - 1)) - 0.00013239671549350088*std::cos(6*std::acos(2*X - 1))*std::cos(5*std::acos(2*x2 - 1)) + 3.9740669445621112e-5*std::cos(6*std::acos(2*X - 1))*std::cos(6*std::acos(2*x2 - 1)) + 3.6768004479126066e-6*std::cos(6*std::acos(2*X - 1))*std::cos(7*std::acos(2*x2 - 1)) - 5.5797327713234324e-6*std::cos(6*std::acos(2*X - 1))*std::cos(8*std::acos(2*x2 - 1)) + 1.541386430843546e-6*std::cos(6*std::acos(2*X - 1))*std::cos(9*std::acos(2*x2 - 1)) - 1.1701595656346216e-7*std::cos(6*std::acos(2*X - 1))*std::cos(10*std::acos(2*x2 - 1)) - 5.6259522940939376e-8*std::cos(6*std::acos(2*X - 1))*std::cos(11*std::acos(2*x2 - 1)) + 3.9181829921715447e-8*std::cos(6*std::acos(2*X - 1))*std::cos(12*std::acos(2*x2 - 1)) - 1.6249083139782683e-8*std::cos(6*std::acos(2*X - 1))*std::cos(13*std::acos(2*x2 - 1)) + 2.0415804640112108e-9*std::cos(6*std::acos(2*X - 1))*std::cos(14*std::acos(2*x2 - 1)) + 1.7332923108132146e-9*std::cos(6*std::acos(2*X - 1))*std::cos(15*std::acos(2*x2 - 1)) - 1.0030018569439237e-9*std::cos(6*std::acos(2*X - 1))*std::cos(16*std::acos(2*x2 - 1)) + 1.3502602025849617e-10*std::cos(6*std::acos(2*X - 1))*std::cos(17*std::acos(2*x2 - 1)) + 1.435863160683705e-11*std::cos(6*std::acos(2*X - 1))*std::cos(18*std::acos(2*x2 - 1)) + 2.3909468250204145e-11*std::cos(6*std::acos(2*X - 1))*std::cos(19*std::acos(2*x2 - 1)) + 0.013371797352158182*std::cos(6*std::acos(2*X - 1)) - 0.00093218745667758606*std::cos(7*std::acos(2*X - 1))*std::cos(2*std::acos(2*x2 - 1)) - 0.00019195211642252983*std::cos(7*std::acos(2*X - 1))*std::cos(3*std::acos(2*x2 - 1)) + 0.00026505406981611245*std::cos(7*std::acos(2*X - 1))*std::cos(4*std::acos(2*x2 - 1)) - 7.7556082384242441e-5*std::cos(7*std::acos(2*X - 1))*std::cos(5*std::acos(2*x2 - 1)) - 8.0218781561712033e-6*std::cos(7*std::acos(2*X - 1))*std::cos(6*std::acos(2*x2 - 1)) + 1.1736359006030671e-5*std::cos(7*std::acos(2*X - 1))*std::cos(7*std::acos(2*x2 - 1)) - 2.765962843665791e-6*std::cos(7*std::acos(2*X - 1))*std::cos(8*std::acos(2*x2 - 1)) - 2.2880997053284957e-7*std::cos(7*std::acos(2*X - 1))*std::cos(9*std::acos(2*x2 - 1)) + 2.7516469960952097e-7*std::cos(7*std::acos(2*X - 1))*std::cos(10*std::acos(2*x2 - 1)) - 7.220593369772915e-8*std::cos(7*std::acos(2*X - 1))*std::cos(11*std::acos(2*x2 - 1)) + 9.3191999633559152e-9*std::cos(7*std::acos(2*X - 1))*std::cos(12*std::acos(2*x2 - 1)) + 4.2067717877160727e-9*std::cos(7*std::acos(2*X - 1))*std::cos(13*std::acos(2*x2 - 1)) - 4.8385013605710707e-9*std::cos(7*std::acos(2*X - 1))*std::cos(14*std::acos(2*x2 - 1)) + 1.889638385910576e-9*std::cos(7*std::acos(2*X - 1))*std::cos(15*std::acos(2*x2 - 1)) - 1.7481881140455919e-10*std::cos(7*std::acos(2*X - 1))*std::cos(16*std::acos(2*x2 - 1)) - 1.4974873491018729e-10*std::cos(7*std::acos(2*X - 1))*std::cos(17*std::acos(2*x2 - 1)) + 6.3498795550018597e-11*std::cos(7*std::acos(2*X - 1))*std::cos(18*std::acos(2*x2 - 1)) + 2.3878848910403958e-11*std::cos(7*std::acos(2*X - 1))*std::cos(19*std::acos(2*x2 - 1)) + 0.012946839701312274*std::cos(7*std::acos(2*X - 1)) - 0.00031746471455361099*std::cos(8*std::acos(2*X - 1))*std::cos(2*std::acos(2*x2 - 1)) - 0.00041339700680121012*std::cos(8*std::acos(2*X - 1))*std::cos(3*std::acos(2*x2 - 1)) + 0.00014848411209892568*std::cos(8*std::acos(2*X - 1))*std::cos(4*std::acos(2*x2 - 1)) + 1.522443148561101e-5*std::cos(8*std::acos(2*X - 1))*std::cos(5*std::acos(2*x2 - 1)) - 2.2940092943165541e-5*std::cos(8*std::acos(2*X - 1))*std::cos(6*std::acos(2*x2 - 1)) + 4.3611103118758527e-6*std::cos(8*std::acos(2*X - 1))*std::cos(7*std::acos(2*x2 - 1)) + 1.3403578592163378e-6*std::cos(8*std::acos(2*X - 1))*std::cos(8*std::acos(2*x2 - 1)) - 8.1078071741511493e-7*std::cos(8*std::acos(2*X - 1))*std::cos(9*std::acos(2*x2 - 1)) + 1.1841592796080246e-7*std::cos(8*std::acos(2*X - 1))*std::cos(10*std::acos(2*x2 - 1)) + 2.5154300539021292e-8*std::cos(8*std::acos(2*X - 1))*std::cos(11*std::acos(2*x2 - 1)) - 1.9861880880712047e-8*std::cos(8*std::acos(2*X - 1))*std::cos(12*std::acos(2*x2 - 1)) + 8.5005539571063587e-9*std::cos(8*std::acos(2*X - 1))*std::cos(13*std::acos(2*x2 - 1)) - 1.9869385114410247e-9*std::cos(8*std::acos(2*X - 1))*std::cos(14*std::acos(2*x2 - 1)) - 4.8195678880918937e-10*std::cos(8*std::acos(2*X - 1))*std::cos(15*std::acos(2*x2 - 1)) + 5.543779322999794e-10*std::cos(8*std::acos(2*X - 1))*std::cos(16*std::acos(2*x2 - 1)) - 9.7641050328606607e-11*std::cos(8*std::acos(2*X - 1))*std::cos(17*std::acos(2*x2 - 1)) - 3.6226344718600333e-11*std::cos(8*std::acos(2*X - 1))*std::cos(18*std::acos(2*x2 - 1)) - 2.963923074664589e-11*std::cos(8*std::acos(2*X - 1))*std::cos(19*std::acos(2*x2 - 1)) + 0.0069613187738337204*std::cos(8*std::acos(2*X - 1)) + 0.00012986622176843957*std::cos(9*std::acos(2*X - 1))*std::cos(2*std::acos(2*x2 - 1)) - 0.00024182126921254123*std::cos(9*std::acos(2*X - 1))*std::cos(3*std::acos(2*x2 - 1)) + 1.263697142215366e-6*std::cos(9*std::acos(2*X - 1))*std::cos(4*std::acos(2*x2 - 1)) + 3.98403001707659e-5*std::cos(9*std::acos(2*X - 1))*std::cos(5*std::acos(2*x2 - 1)) - 9.4974832357124525e-6*std::cos(9*std::acos(2*X - 1))*std::cos(6*std::acos(2*x2 - 1)) - 2.950275503842454e-6*std::cos(9*std::acos(2*X - 1))*std::cos(7*std::acos(2*x2 - 1)) + 1.8656692380989489e-6*std::cos(9*std::acos(2*X - 1))*std::cos(8*std::acos(2*x2 - 1)) - 1.6649903107480274e-7*std::cos(9*std::acos(2*X - 1))*std::cos(9*std::acos(2*x2 - 1)) - 1.2903725389416809e-7*std::cos(9*std::acos(2*X - 1))*std::cos(10*std::acos(2*x2 - 1)) + 5.1235442949184337e-8*std::cos(9*std::acos(2*X - 1))*std::cos(11*std::acos(2*x2 - 1)) - 8.9812657111328119e-9*std::cos(9*std::acos(2*X - 1))*std::cos(12*std::acos(2*x2 - 1)) - 2.8563362782050173e-10*std::cos(9*std::acos(2*X - 1))*std::cos(13*std::acos(2*x2 - 1)) + 1.8300980283216537e-9*std::cos(9*std::acos(2*X - 1))*std::cos(14*std::acos(2*x2 - 1)) - 1.104430885748341e-9*std::cos(9*std::acos(2*X - 1))*std::cos(15*std::acos(2*x2 - 1)) + 1.958315419954516e-10*std::cos(9*std::acos(2*X - 1))*std::cos(16*std::acos(2*x2 - 1)) + 6.7186170472563478e-11*std::cos(9*std::acos(2*X - 1))*std::cos(17*std::acos(2*x2 - 1)) - 2.9187221148546487e-11*std::cos(9*std::acos(2*X - 1))*std::cos(18*std::acos(2*x2 - 1)) + 1.76307961828083e-11*std::cos(9*std::acos(2*X - 1))*std::cos(19*std::acos(2*x2 - 1)) + 0.00213530146076258*std::cos(9*std::acos(2*X - 1)) + 0.0001813354022837344*std::cos(10*std::acos(2*X - 1))*std::cos(2*std::acos(2*x2 - 1)) - 2.3379878592533437e-5*std::cos(10*std::acos(2*X - 1))*std::cos(3*std::acos(2*x2 - 1)) - 4.8161901950922331e-5*std::cos(10*std::acos(2*X - 1))*std::cos(4*std::acos(2*x2 - 1)) + 1.7045961461239844e-5*std::cos(10*std::acos(2*X - 1))*std::cos(5*std::acos(2*x2 - 1)) + 4.0138549428321904e-6*std::cos(10*std::acos(2*X - 1))*std::cos(6*std::acos(2*x2 - 1)) - 3.5123885714950922e-6*std::cos(10*std::acos(2*X - 1))*std::cos(7*std::acos(2*x2 - 1)) + 3.0811274854614708e-7*std::cos(10*std::acos(2*X - 1))*std::cos(8*std::acos(2*x2 - 1)) + 3.4795563362904837e-7*std::cos(10*std::acos(2*X - 1))*std::cos(9*std::acos(2*x2 - 1)) - 1.2321599737144962e-7*std::cos(10*std::acos(2*X - 1))*std::cos(10*std::acos(2*x2 - 1)) + 2.1234025467169139e-9*std::cos(10*std::acos(2*X - 1))*std::cos(11*std::acos(2*x2 - 1)) + 9.2311471676696051e-9*std::cos(10*std::acos(2*X - 1))*std::cos(12*std::acos(2*x2 - 1)) - 4.1218920269846639e-9*std::cos(10*std::acos(2*X - 1))*std::cos(13*std::acos(2*x2 - 1)) + 1.3478608026923225e-9*std::cos(10*std::acos(2*X - 1))*std::cos(14*std::acos(2*x2 - 1)) - 5.9816279018723786e-11*std::cos(10*std::acos(2*X - 1))*std::cos(15*std::acos(2*x2 - 1)) - 2.2778280364601101e-10*std::cos(10*std::acos(2*X - 1))*std::cos(16*std::acos(2*x2 - 1)) + 1.0945927053206822e-10*std::cos(10*std::acos(2*X - 1))*std::cos(17*std::acos(2*x2 - 1)) - 1.1099469908177999e-11*std::cos(10*std::acos(2*X - 1))*std::cos(18*std::acos(2*x2 - 1)) - 1.5281591693016433e-11*std::cos(10*std::acos(2*X - 1))*std::cos(19*std::acos(2*x2 - 1)) - 0.00050186527609309001*std::cos(10*std::acos(2*X - 1)) + 6.8066916050288123e-5*std::cos(11*std::acos(2*X - 1))*std::cos(2*std::acos(2*x2 - 1)) + 7.7598757962898403e-5*std::cos(11*std::acos(2*X - 1))*std::cos(3*std::acos(2*x2 - 1)) - 3.0727619059953777e-5*std::cos(11*std::acos(2*X - 1))*std::cos(4*std::acos(2*x2 - 1)) - 5.2537694776430468e-6*std::cos(11*std::acos(2*X - 1))*std::cos(5*std::acos(2*x2 - 1)) + 6.119934440122204e-6*std::cos(11*std::acos(2*X - 1))*std::cos(6*std::acos(2*x2 - 1)) - 6.9848867390121601e-7*std::cos(11*std::acos(2*X - 1))*std::cos(7*std::acos(2*x2 - 1)) - 6.7009766412025893e-7*std::cos(11*std::acos(2*X - 1))*std::cos(8*std::acos(2*x2 - 1)) + 2.5402131575086924e-7*std::cos(11*std::acos(2*X - 1))*std::cos(9*std::acos(2*x2 - 1)) + 1.1565185755479956e-8*std::cos(11*std::acos(2*X - 1))*std::cos(10*std::acos(2*x2 - 1)) - 2.9473624944652147e-8*std::cos(11*std::acos(2*X - 1))*std::cos(11*std::acos(2*x2 - 1)) + 8.3715347973028695e-9*std::cos(11*std::acos(2*X - 1))*std::cos(12*std::acos(2*x2 - 1)) - 7.2676877984159151e-10*std::cos(11*std::acos(2*X - 1))*std::cos(13*std::acos(2*x2 - 1)) - 5.7425148562381418e-10*std::cos(11*std::acos(2*X - 1))*std::cos(14*std::acos(2*x2 - 1)) + 4.9887092860281725e-10*std::cos(11*std::acos(2*X - 1))*std::cos(15*std::acos(2*x2 - 1)) - 1.7428921209093704e-10*std::cos(11*std::acos(2*X - 1))*std::cos(16*std::acos(2*x2 - 1)) - 1.2180562683700505e-11*std::cos(11*std::acos(2*X - 1))*std::cos(17*std::acos(2*x2 - 1)) + 2.9404170274311379e-11*std::cos(11*std::acos(2*X - 1))*std::cos(18*std::acos(2*x2 - 1)) - 1.8670866651251776e-12*std::cos(11*std::acos(2*X - 1))*std::cos(19*std::acos(2*x2 - 1)) - 0.0014427365716866217*std::cos(11*std::acos(2*X - 1)) - 1.5037488037032308e-5*std::cos(12*std::acos(2*X - 1))*std::cos(2*std::acos(2*x2 - 1)) + 7.4388100559195404e-5*std::cos(12*std::acos(2*X - 1))*std::cos(3*std::acos(2*x2 - 1)) - 5.0714199728327074e-6*std::cos(12*std::acos(2*X - 1))*std::cos(4*std::acos(2*x2 - 1)) - 9.8706298003650023e-6*std::cos(12*std::acos(2*X - 1))*std::cos(5*std::acos(2*x2 - 1)) + 2.1072883657158125e-6*std::cos(12*std::acos(2*X - 1))*std::cos(6*std::acos(2*x2 - 1)) + 1.0711925026105898e-6*std::cos(12*std::acos(2*X - 1))*std::cos(7*std::acos(2*x2 - 1)) - 4.9140853490522486e-7*std::cos(12*std::acos(2*X - 1))*std::cos(8*std::acos(2*x2 - 1)) - 3.9118650199844581e-8*std::cos(12*std::acos(2*X - 1))*std::cos(9*std::acos(2*x2 - 1)) + 7.0466880754669649e-8*std::cos(12*std::acos(2*X - 1))*std::cos(10*std::acos(2*x2 - 1)) - 1.5078888703247135e-8*std::cos(12*std::acos(2*X - 1))*std::cos(11*std::acos(2*x2 - 1)) - 1.9307869333163924e-9*std::cos(12*std::acos(2*X - 1))*std::cos(12*std::acos(2*x2 - 1)) + 2.0194347042843102e-9*std::cos(12*std::acos(2*X - 1))*std::cos(13*std::acos(2*x2 - 1)) - 8.2139290536614468e-10*std::cos(12*std::acos(2*X - 1))*std::cos(14*std::acos(2*x2 - 1)) + 1.794752206688054e-10*std::cos(12*std::acos(2*X - 1))*std::cos(15*std::acos(2*x2 - 1)) + 6.1778907578286142e-11*std::cos(12*std::acos(2*X - 1))*std::cos(16*std::acos(2*x2 - 1)) - 6.3725574716753074e-11*std::cos(12*std::acos(2*X - 1))*std::cos(17*std::acos(2*x2 - 1)) + 1.3873530877719573e-11*std::cos(12*std::acos(2*X - 1))*std::cos(18*std::acos(2*x2 - 1)) + 6.8241494472951435e-12*std::cos(12*std::acos(2*X - 1))*std::cos(19*std::acos(2*x2 - 1)) - 0.0013670345457876959*std::cos(12*std::acos(2*X - 1)) - 2.9511094253432285e-5*std::cos(13*std::acos(2*X - 1))*std::cos(2*std::acos(2*x2 - 1)) + 3.4863287530162218e-5*std::cos(13*std::acos(2*X - 1))*std::cos(3*std::acos(2*x2 - 1)) + 4.9035222804705032e-6*std::cos(13*std::acos(2*X - 1))*std::cos(4*std::acos(2*x2 - 1)) - 4.4867070575838118e-6*std::cos(13*std::acos(2*X - 1))*std::cos(5*std::acos(2*x2 - 1)) - 9.5902243263658814e-7*std::cos(13*std::acos(2*X - 1))*std::cos(6*std::acos(2*x2 - 1)) + 9.1387399196293166e-7*std::cos(13*std::acos(2*X - 1))*std::cos(7*std::acos(2*x2 - 1)) + 2.0578051222627748e-8*std::cos(13*std::acos(2*X - 1))*std::cos(8*std::acos(2*x2 - 1)) - 1.4784798319560847e-7*std::cos(13*std::acos(2*X - 1))*std::cos(9*std::acos(2*x2 - 1)) + 3.2985649467848774e-8*std::cos(13*std::acos(2*X - 1))*std::cos(10*std::acos(2*x2 - 1)) + 8.7203181091323901e-9*std::cos(13*std::acos(2*X - 1))*std::cos(11*std::acos(2*x2 - 1)) - 5.6554478486089185e-9*std::cos(13*std::acos(2*X - 1))*std::cos(12*std::acos(2*x2 - 1)) + 1.0199671319132894e-9*std::cos(13*std::acos(2*X - 1))*std::cos(13*std::acos(2*x2 - 1)) + 8.660763309320009e-11*std::cos(13*std::acos(2*X - 1))*std::cos(14*std::acos(2*x2 - 1)) - 1.7617361044931952e-10*std::cos(13*std::acos(2*X - 1))*std::cos(15*std::acos(2*x2 - 1)) + 1.0976402352682636e-10*std::cos(13*std::acos(2*X - 1))*std::cos(16*std::acos(2*x2 - 1)) - 1.364763667745586e-11*std::cos(13*std::acos(2*X - 1))*std::cos(17*std::acos(2*x2 - 1)) - 1.8437731511911429e-11*std::cos(13*std::acos(2*X - 1))*std::cos(18*std::acos(2*x2 - 1)) - 5.2406520827585554e-12*std::cos(13*std::acos(2*X - 1))*std::cos(19*std::acos(2*x2 - 1)) - 0.00085789319652423979*std::cos(13*std::acos(2*X - 1)) - 1.1646213643451485e-5*std::cos(14*std::acos(2*X - 1))*std::cos(2*std::acos(2*x2 - 1)) + 3.7101863914844714e-6*std::cos(14*std::acos(2*X - 1))*std::cos(3*std::acos(2*x2 - 1)) + 3.211587415013204e-6*std::cos(14*std::acos(2*X - 1))*std::cos(4*std::acos(2*x2 - 1)) + 6.1290928860347827e-7*std::cos(14*std::acos(2*X - 1))*std::cos(5*std::acos(2*x2 - 1)) - 1.2368196121545125e-6*std::cos(14*std::acos(2*X - 1))*std::cos(6*std::acos(2*x2 - 1)) + 1.0210248529009085e-7*std::cos(14*std::acos(2*X - 1))*std::cos(7*std::acos(2*x2 - 1)) + 2.2123853003107796e-7*std::cos(14*std::acos(2*X - 1))*std::cos(8*std::acos(2*x2 - 1)) - 7.0269915419107895e-8*std::cos(14*std::acos(2*X - 1))*std::cos(9*std::acos(2*x2 - 1)) - 1.4646017250494105e-8*std::cos(14*std::acos(2*X - 1))*std::cos(10*std::acos(2*x2 - 1)) + 1.270230135297693e-8*std::cos(14*std::acos(2*X - 1))*std::cos(11*std::acos(2*x2 - 1)) - 1.8162425346242989e-9*std::cos(14*std::acos(2*X - 1))*std::cos(12*std::acos(2*x2 - 1)) - 7.5009996099910468e-10*std::cos(14*std::acos(2*X - 1))*std::cos(13*std::acos(2*x2 - 1)) + 4.7485112489222686e-10*std::cos(14*std::acos(2*X - 1))*std::cos(14*std::acos(2*x2 - 1)) - 1.5481360435959639e-10*std::cos(14*std::acos(2*X - 1))*std::cos(15*std::acos(2*x2 - 1)) - 2.8837116613882052e-12*std::cos(14*std::acos(2*X - 1))*std::cos(16*std::acos(2*x2 - 1)) + 1.4571475251998027e-11*std::cos(14*std::acos(2*X - 1))*std::cos(17*std::acos(2*x2 - 1)) + 1.0863139408194902e-12*std::cos(14*std::acos(2*X - 1))*std::cos(18*std::acos(2*x2 - 1)) + 1.4575403533309376e-11*std::cos(14*std::acos(2*X - 1))*std::cos(19*std::acos(2*x2 - 1)) - 0.00033614845266818211*std::cos(14*std::acos(2*X - 1)) + 3.83493821478145e-6*std::cos(15*std::acos(2*X - 1))*std::cos(2*std::acos(2*x2 - 1)) - 8.7799537378005325e-6*std::cos(15*std::acos(2*X - 1))*std::cos(3*std::acos(2*x2 - 1)) - 2.561353799921751e-7*std::cos(15*std::acos(2*X - 1))*std::cos(4*std::acos(2*x2 - 1)) + 2.0178615652869053e-6*std::cos(15*std::acos(2*X - 1))*std::cos(5*std::acos(2*x2 - 1)) - 3.2095380113420771e-7*std::cos(15*std::acos(2*X - 1))*std::cos(6*std::acos(2*x2 - 1)) - 3.1446745624050211e-7*std::cos(15*std::acos(2*X - 1))*std::cos(7*std::acos(2*x2 - 1)) + 1.1975174586244882e-7*std::cos(15*std::acos(2*X - 1))*std::cos(8*std::acos(2*x2 - 1)) + 2.4234832359421336e-8*std::cos(15*std::acos(2*X - 1))*std::cos(9*std::acos(2*x2 - 1)) - 2.3035276955032285e-8*std::cos(15*std::acos(2*X - 1))*std::cos(10*std::acos(2*x2 - 1)) + 2.5046486262227888e-9*std::cos(15*std::acos(2*X - 1))*std::cos(11*std::acos(2*x2 - 1)) + 2.0054577797945592e-9*std::cos(15*std::acos(2*X - 1))*std::cos(12*std::acos(2*x2 - 1)) - 8.5994724505927302e-10*std::cos(15*std::acos(2*X - 1))*std::cos(13*std::acos(2*x2 - 1)) + 1.2579552389991797e-10*std::cos(15*std::acos(2*X - 1))*std::cos(14*std::acos(2*x2 - 1)) + 4.1514451679927275e-11*std::cos(15*std::acos(2*X - 1))*std::cos(15*std::acos(2*x2 - 1)) - 3.8489423833439756e-11*std::cos(15*std::acos(2*X - 1))*std::cos(16*std::acos(2*x2 - 1)) + 2.4717295294936562e-11*std::cos(15*std::acos(2*X - 1))*std::cos(17*std::acos(2*x2 - 1)) - 7.342370201418591e-12*std::cos(15*std::acos(2*X - 1))*std::cos(18*std::acos(2*x2 - 1)) - 1.2774534793695558e-11*std::cos(15*std::acos(2*X - 1))*std::cos(19*std::acos(2*x2 - 1)) + 1.4349802464105887e-5*std::cos(15*std::acos(2*X - 1)) + 7.108977008075815e-6*std::cos(16*std::acos(2*X - 1))*std::cos(2*std::acos(2*x2 - 1)) - 9.1150222153867262e-6*std::cos(16*std::acos(2*X - 1))*std::cos(3*std::acos(2*x2 - 1)) - 1.2485376894813983e-6*std::cos(16*std::acos(2*X - 1))*std::cos(4*std::acos(2*x2 - 1)) + 1.2325873437117434e-6*std::cos(16*std::acos(2*X - 1))*std::cos(5*std::acos(2*x2 - 1)) + 2.7205703033221192e-7*std::cos(16*std::acos(2*X - 1))*std::cos(6*std::acos(2*x2 - 1)) - 2.5549570524310557e-7*std::cos(16*std::acos(2*X - 1))*std::cos(7*std::acos(2*x2 - 1)) - 1.9624790989115231e-8*std::cos(16*std::acos(2*X - 1))*std::cos(8*std::acos(2*x2 - 1)) + 4.8581590325049925e-8*std::cos(16*std::acos(2*X - 1))*std::cos(9*std::acos(2*x2 - 1)) - 7.1753996564165746e-9*std::cos(16*std::acos(2*X - 1))*std::cos(10*std::acos(2*x2 - 1)) - 5.2761813704003827e-9*std::cos(16*std::acos(2*X - 1))*std::cos(11*std::acos(2*x2 - 1)) + 2.2513425201653231e-9*std::cos(16*std::acos(2*X - 1))*std::cos(12*std::acos(2*x2 - 1)) - 1.5682815316568968e-11*std::cos(16*std::acos(2*X - 1))*std::cos(13*std::acos(2*x2 - 1)) - 2.4072413193929141e-10*std::cos(16*std::acos(2*X - 1))*std::cos(14*std::acos(2*x2 - 1)) + 9.5162649827828898e-11*std::cos(16*std::acos(2*X - 1))*std::cos(15*std::acos(2*x2 - 1)) - 1.8018277137248767e-11*std::cos(16*std::acos(2*X - 1))*std::cos(16*std::acos(2*x2 - 1)) - 7.9051721088184077e-12*std::cos(16*std::acos(2*X - 1))*std::cos(17*std::acos(2*x2 - 1)) + 9.7618644531770674e-12*std::cos(16*std::acos(2*X - 1))*std::cos(18*std::acos(2*x2 - 1)) + 1.8384114692268465e-12*std::cos(16*std::acos(2*X - 1))*std::cos(19*std::acos(2*x2 - 1)) + 0.00016129318361614298*std::cos(16*std::acos(2*X - 1)) + 1.9967466228818865e-6*std::cos(17*std::acos(2*X - 1))*std::cos(2*std::acos(2*x2 - 1)) - 5.5264035335553133e-6*std::cos(17*std::acos(2*X - 1))*std::cos(3*std::acos(2*x2 - 1)) - 3.2482034506944087e-8*std::cos(17*std::acos(2*X - 1))*std::cos(4*std::acos(2*x2 - 1)) + 1.7142140106750576e-7*std::cos(17*std::acos(2*X - 1))*std::cos(5*std::acos(2*x2 - 1)) + 2.1532664617719905e-7*std::cos(17*std::acos(2*X - 1))*std::cos(6*std::acos(2*x2 - 1)) - 3.8331521132230748e-8*std::cos(17*std::acos(2*X - 1))*std::cos(7*std::acos(2*x2 - 1)) - 5.3684879687285821e-8*std::cos(17*std::acos(2*X - 1))*std::cos(8*std::acos(2*x2 - 1)) + 1.9228786504472267e-8*std::cos(17*std::acos(2*X - 1))*std::cos(9*std::acos(2*x2 - 1)) + 4.7341646841061406e-9*std::cos(17*std::acos(2*X - 1))*std::cos(10*std::acos(2*x2 - 1)) - 3.852620639895857e-9*std::cos(17*std::acos(2*X - 1))*std::cos(11*std::acos(2*x2 - 1)) + 3.2787314015051208e-10*std::cos(17*std::acos(2*X - 1))*std::cos(12*std::acos(2*x2 - 1)) + 3.5325579558710598e-10*std::cos(17*std::acos(2*X - 1))*std::cos(13*std::acos(2*x2 - 1)) - 1.6150719856552337e-10*std::cos(17*std::acos(2*X - 1))*std::cos(14*std::acos(2*x2 - 1)) + 3.2800675302496578e-11*std::cos(17*std::acos(2*X - 1))*std::cos(15*std::acos(2*x2 - 1)) + 8.1874647849238674e-12*std::cos(17*std::acos(2*X - 1))*std::cos(16*std::acos(2*x2 - 1)) - 1.3196109867807601e-11*std::cos(17*std::acos(2*X - 1))*std::cos(17*std::acos(2*x2 - 1)) + 2.964900555429105e-12*std::cos(17*std::acos(2*X - 1))*std::cos(18*std::acos(2*x2 - 1)) + 1.5161364866475222e-12*std::cos(17*std::acos(2*X - 1))*std::cos(19*std::acos(2*x2 - 1)) + 0.00019307533603107885*std::cos(17*std::acos(2*X - 1)) - 3.2001998237617818e-6*std::cos(18*std::acos(2*X - 1))*std::cos(2*std::acos(2*x2 - 1)) - 2.3804868272158698e-6*std::cos(18*std::acos(2*X - 1))*std::cos(3*std::acos(2*x2 - 1)) + 1.313810674937599e-6*std::cos(18*std::acos(2*X - 1))*std::cos(4*std::acos(2*x2 - 1)) - 3.8175368215732854e-7*std::cos(18*std::acos(2*X - 1))*std::cos(5*std::acos(2*x2 - 1)) - 6.2788405400670969e-8*std::cos(18*std::acos(2*X - 1))*std::cos(6*std::acos(2*x2 - 1)) + 9.7213165459143422e-8*std::cos(18*std::acos(2*X - 1))*std::cos(7*std::acos(2*x2 - 1)) - 1.5810431205372623e-8*std::cos(18*std::acos(2*X - 1))*std::cos(8*std::acos(2*x2 - 1)) - 1.2087436236229033e-8*std::cos(18*std::acos(2*X - 1))*std::cos(9*std::acos(2*x2 - 1)) + 4.577311862928677e-9*std::cos(18*std::acos(2*X - 1))*std::cos(10*std::acos(2*x2 - 1)) + 1.0227255697328134e-9*std::cos(18*std::acos(2*X - 1))*std::cos(11*std::acos(2*x2 - 1)) - 9.2409987019308193e-10*std::cos(18*std::acos(2*X - 1))*std::cos(12*std::acos(2*x2 - 1)) + 1.126628460120481e-10*std::cos(18*std::acos(2*X - 1))*std::cos(13*std::acos(2*x2 - 1)) + 7.5367982552620658e-11*std::cos(18*std::acos(2*X - 1))*std::cos(14*std::acos(2*x2 - 1)) - 3.5160823850990258e-11*std::cos(18*std::acos(2*X - 1))*std::cos(15*std::acos(2*x2 - 1)) + 8.4879578138210426e-12*std::cos(18*std::acos(2*X - 1))*std::cos(16*std::acos(2*x2 - 1)) + 3.9341460048459426e-12*std::cos(18*std::acos(2*X - 1))*std::cos(17*std::acos(2*x2 - 1)) - 5.1558947270022998e-12*std::cos(18*std::acos(2*X - 1))*std::cos(18*std::acos(2*x2 - 1)) - 2.5040477639537775e-12*std::cos(18*std::acos(2*X - 1))*std::cos(19*std::acos(2*x2 - 1)) + 0.00017750296061913584*std::cos(18*std::acos(2*X - 1)) - 2.1011071700446611e-6*std::cos(19*std::acos(2*X - 1))*std::cos(2*std::acos(2*x2 - 1)) - 5.6860047802044164e-7*std::cos(19*std::acos(2*X - 1))*std::cos(3*std::acos(2*x2 - 1)) + 7.7276050061214976e-7*std::cos(19*std::acos(2*X - 1))*std::cos(4*std::acos(2*x2 - 1)) - 2.2665419669148229e-7*std::cos(19*std::acos(2*X - 1))*std::cos(5*std::acos(2*x2 - 1)) - 7.999102608671196e-8*std::cos(19*std::acos(2*X - 1))*std::cos(6*std::acos(2*x2 - 1)) + 5.7400674125093407e-8*std::cos(19*std::acos(2*X - 1))*std::cos(7*std::acos(2*x2 - 1)) + 3.3663446102395224e-9*std::cos(19*std::acos(2*X - 1))*std::cos(8*std::acos(2*x2 - 1)) - 9.7602538842126319e-9*std::cos(19*std::acos(2*X - 1))*std::cos(9*std::acos(2*x2 - 1)) + 9.9162472181582757e-10*std::cos(19*std::acos(2*X - 1))*std::cos(10*std::acos(2*x2 - 1)) + 1.3415983754158124e-9*std::cos(19*std::acos(2*X - 1))*std::cos(11*std::acos(2*x2 - 1)) - 4.7864973058220697e-10*std::cos(19*std::acos(2*X - 1))*std::cos(12*std::acos(2*x2 - 1)) - 3.1562729995793584e-11*std::cos(19*std::acos(2*X - 1))*std::cos(13*std::acos(2*x2 - 1)) + 6.9725699470895783e-11*std::cos(19*std::acos(2*X - 1))*std::cos(14*std::acos(2*x2 - 1)) - 2.7862030553809508e-11*std::cos(19*std::acos(2*X - 1))*std::cos(15*std::acos(2*x2 - 1)) + 5.0408950017649667e-14*std::cos(19*std::acos(2*X - 1))*std::cos(16*std::acos(2*x2 - 1)) + 3.3223852271765941e-12*std::cos(19*std::acos(2*X - 1))*std::cos(17*std::acos(2*x2 - 1)) + 2.7209034721489833e-13*std::cos(19*std::acos(2*X - 1))*std::cos(18*std::acos(2*x2 - 1)) + 2.0281577524199068e-12*std::cos(19*std::acos(2*X - 1))*std::cos(19*std::acos(2*x2 - 1)) + 7.3519174796973091e-5*std::cos(19*std::acos(2*X - 1)) + 0.011697902458968927*std::cos(2*std::acos(2*x2 - 1)) + 0.0038677896822086905*std::cos(3*std::acos(2*x2 - 1)) - 0.0031823316489451928*std::cos(4*std::acos(2*x2 - 1)) + 0.00095095788740184319*std::cos(5*std::acos(2*x2 - 1)) - 8.4657280111891662e-5*std::cos(6*std::acos(2*x2 - 1)) - 5.1991065322750285e-5*std::cos(7*std::acos(2*x2 - 1)) + 3.14008198005463e-5*std::cos(8*std::acos(2*x2 - 1)) - 1.0908786205173756e-5*std::cos(9*std::acos(2*x2 - 1)) + 2.8349950868499765e-6*std::cos(10*std::acos(2*x2 - 1)) - 4.1184656239334023e-7*std::cos(11*std::acos(2*x2 - 1)) - 8.3153744112444711e-8*std::cos(12*std::acos(2*x2 - 1)) + 7.8196659308041533e-8*std::cos(13*std::acos(2*x2 - 1)) - 2.5554306317358963e-8*std::cos(14*std::acos(2*x2 - 1)) + 3.9201732767607002e-9*std::cos(15*std::acos(2*x2 - 1)) + 5.7648431530830588e-10*std::cos(16*std::acos(2*x2 - 1)) - 7.6128769607719526e-10*std::cos(17*std::acos(2*x2 - 1)) + 3.9451082087553144e-10*std::cos(18*std::acos(2*x2 - 1)) - 1.135001857039894e-10*std::cos(19*std::acos(2*x2 - 1)) + 0.19224196503911239;\n",
      "\n",
      "\n"
     ]
    }
   ],
   "source": [
    "print(Q7.AMReXSetState())"
   ]
  },
  {
   "cell_type": "code",
   "execution_count": null,
   "metadata": {},
   "outputs": [],
   "source": []
  },
  {
   "cell_type": "code",
   "execution_count": null,
   "metadata": {},
   "outputs": [],
   "source": []
  }
 ],
 "metadata": {
  "kernelspec": {
   "display_name": "Python 3",
   "language": "python",
   "name": "python3"
  },
  "language_info": {
   "codemirror_mode": {
    "name": "ipython",
    "version": 3
   },
   "file_extension": ".py",
   "mimetype": "text/x-python",
   "name": "python",
   "nbconvert_exporter": "python",
   "pygments_lexer": "ipython3",
   "version": "3.5.2"
  }
 },
 "nbformat": 4,
 "nbformat_minor": 2
}
