{
 "cells": [
  {
   "cell_type": "markdown",
   "metadata": {},
   "source": [
    "FunctionSet.py contains a set of functions that do things like take finite difference derivatives of grid variables.\n",
    "\n",
    "Also, numpy is used here so that array adding is easier to do."
   ]
  },
  {
   "cell_type": "code",
   "execution_count": 1,
   "metadata": {},
   "outputs": [],
   "source": [
    "from FunctionSet import *\n",
    "# The NRPy_param_funcs module sets up global structures that manage free parameters within NRPy+\n",
    "import NRPy_param_funcs as par \n",
    "# The indexedexp module defines various functions for defining and managing indexed quantities like tensors and pseudotensors\n",
    "import indexedexp as ixp\n",
    "# The grid module defines various parameters related to a numerical grid or the dimensionality of indexed expressions\n",
    "# For example, it declares the parameter DIM, which specifies the dimensionality of the indexed expression\n",
    "import grid as gri\n",
    "from outputC import *\n",
    "import numpy as np"
   ]
  },
  {
   "cell_type": "code",
   "execution_count": 2,
   "metadata": {},
   "outputs": [],
   "source": [
    "import sympy\n",
    "from sympy import symbols, IndexedBase, Indexed, Idx, preorder_traversal"
   ]
  },
  {
   "cell_type": "markdown",
   "metadata": {},
   "source": [
    "Declaring grid variables and indices. Note that the variables to be evolved are the vector potential and electric field.\n",
    "\n",
    "Attaching grid indices to the declared variables.  \n",
    "\n",
    "Also... 'Low' is meant to show that this variable is a vector with a lower index.   This is unimportant in flat space here, but will be necessary to keep track of when a curved metric is used in future developments."
   ]
  },
  {
   "cell_type": "code",
   "execution_count": 3,
   "metadata": {},
   "outputs": [],
   "source": [
    "Nx, Ny, Nz= symbols('Nx Ny Nz', integer=True)\n",
    "i = Idx('i', Nx)\n",
    "j = Idx('j', Ny)\n",
    "k = Idx('k', Nz)\n",
    "name = Idx('name')\n",
    "dx, dy, dz = symbols('dx dy dz')\n",
    "\n",
    "var_A = ['Ax','Ay','Az']\n",
    "var_E = ['Ex','Ey','Ez']\n",
    "var_Gamma = ['Gamma']\n",
    "var_phi = ['phi']\n",
    "var_names = var_A+var_E+var_Gamma+var_phi\n",
    "\n",
    "ELow = ixp.zerorank1(DIM=3)\n",
    "ALow = ixp.zerorank1(DIM=3)\n",
    "for itr in range(len(directions)):\n",
    "    ELow[itr] = IndexedBase('state_fab'+directions[itr])[i,j,k,var_E[itr]]\n",
    "    ALow[itr] = IndexedBase('state_fab'+directions[itr])[i,j,k,var_A[itr]]\n",
    "ELow = np.array(ELow)\n",
    "ALow = np.array(ALow)\n",
    "\n",
    "Gamma =IndexedBase('state_fab')[i,j,k,var_Gamma[0]]\n",
    "\n",
    "phi = IndexedBase('state_fab')[i,j,k,var_phi[0]]"
   ]
  },
  {
   "cell_type": "markdown",
   "metadata": {},
   "source": [
    "Righthand side of Maxwell evolution equations written in a symbolic form.  These are in vacuum for now, but can easily be extended to include currents."
   ]
  },
  {
   "cell_type": "code",
   "execution_count": 4,
   "metadata": {},
   "outputs": [],
   "source": [
    "RHS_Gamma = -Lap(phi)\n",
    "RHS_dotALow = -ELow-np.array(grad(phi))\n",
    "RHS_dotELow = -LapTen(ALow)+grad(Gamma)"
   ]
  },
  {
   "cell_type": "markdown",
   "metadata": {},
   "source": [
    "Making use of the AMReXcode to convert RHSs to compilable code blocks to be inserted in the AMReX advance.cpp code. You can choose to prepend the expression with the updated \"new\" fabs."
   ]
  },
  {
   "cell_type": "code",
   "execution_count": 5,
   "metadata": {},
   "outputs": [
    {
     "name": "stdout",
     "output_type": "stream",
     "text": [
      "rhs_fab(i, j, k, Idx::Gamma) = -(state_fab(i, j, k - 1, Idx::phi) + state_fab(i, j, k + 1, Idx::phi) - 2*state_fab(i, j, k, Idx::phi))/(dx[2]*dx[2]) - (state_fab(i, j - 1, k, Idx::phi) + state_fab(i, j + 1, k, Idx::phi) - 2*state_fab(i, j, k, Idx::phi))/(dx[1]*dx[1]) - (state_fab(i - 1, j, k, Idx::phi) + state_fab(i + 1, j, k, Idx::phi) - 2*state_fab(i, j, k, Idx::phi))/(dx[0]*dx[0]);\n",
      "\n",
      "\n",
      "rhs_fab(i, j, k, Idx::Ax) = -state_fabx(i, j, k, Idx::Ex) - (-state_fab(i - 1, j, k, Idx::phi) + state_fab(i + 1, j, k, Idx::phi))/(2*dx[0]);\n",
      "\n",
      "rhs_fab(i, j, k, Idx::Ay) = -state_faby(i, j, k, Idx::Ey) - (-state_fab(i, j - 1, k, Idx::phi) + state_fab(i, j + 1, k, Idx::phi))/(2*dx[1]);\n",
      "\n",
      "rhs_fab(i, j, k, Idx::Az) = -state_fabz(i, j, k, Idx::Ez) - (-state_fab(i, j, k - 1, Idx::phi) + state_fab(i, j, k + 1, Idx::phi))/(2*dx[2]);\n",
      "\n",
      "\n",
      "rhs_fab(i, j, k, Idx::Ex) = -(state_fabx(i, j, k - 1, Idx::Ax) + state_fabx(i, j, k + 1, Idx::Ax) - 2*state_fabx(i, j, k, Idx::Ax))/(dx[2]*dx[2]) - (state_fabx(i, j - 1, k, Idx::Ax) + state_fabx(i, j + 1, k, Idx::Ax) - 2*state_fabx(i, j, k, Idx::Ax))/(dx[1]*dx[1]) + (-state_fab(i - 1, j, k, Idx::Gamma) + state_fab(i + 1, j, k, Idx::Gamma))/(2*dx[0]) - (state_fabx(i - 1, j, k, Idx::Ax) + state_fabx(i + 1, j, k, Idx::Ax) - 2*state_fabx(i, j, k, Idx::Ax))/(dx[0]*dx[0]);\n",
      "\n",
      "rhs_fab(i, j, k, Idx::Ey) = -(state_faby(i, j, k - 1, Idx::Ay) + state_faby(i, j, k + 1, Idx::Ay) - 2*state_faby(i, j, k, Idx::Ay))/(dx[2]*dx[2]) + (-state_fab(i, j - 1, k, Idx::Gamma) + state_fab(i, j + 1, k, Idx::Gamma))/(2*dx[1]) - (state_faby(i, j - 1, k, Idx::Ay) + state_faby(i, j + 1, k, Idx::Ay) - 2*state_faby(i, j, k, Idx::Ay))/(dx[1]*dx[1]) - (state_faby(i - 1, j, k, Idx::Ay) + state_faby(i + 1, j, k, Idx::Ay) - 2*state_faby(i, j, k, Idx::Ay))/(dx[0]*dx[0]);\n",
      "\n",
      "rhs_fab(i, j, k, Idx::Ez) = (-state_fab(i, j, k - 1, Idx::Gamma) + state_fab(i, j, k + 1, Idx::Gamma))/(2*dx[2]) - (state_fabz(i, j, k - 1, Idx::Az) + state_fabz(i, j, k + 1, Idx::Az) - 2*state_fabz(i, j, k, Idx::Az))/(dx[2]*dx[2]) - (state_fabz(i, j - 1, k, Idx::Az) + state_fabz(i, j + 1, k, Idx::Az) - 2*state_fabz(i, j, k, Idx::Az))/(dx[1]*dx[1]) - (state_fabz(i - 1, j, k, Idx::Az) + state_fabz(i + 1, j, k, Idx::Az) - 2*state_fabz(i, j, k, Idx::Az))/(dx[0]*dx[0]);\n",
      "\n",
      "\n"
     ]
    }
   ],
   "source": [
    "AMRoutGamma = AMReXcode(RHS_Gamma,var_names,True,var_Gamma[0])+\"\\n\\n\"\n",
    "print(AMRoutGamma)\n",
    "\n",
    "AMRoutA = \"\"\n",
    "for itr in range(len(directions)):\n",
    "    AMRoutA += AMReXcode(RHS_dotALow[itr],var_names,True,var_A[itr]) + \"\\n\\n\"\n",
    "print(AMRoutA)\n",
    "\n",
    "AMRoutE = \"\"\n",
    "for itr in range(len(directions)):\n",
    "    AMRoutE += AMReXcode(RHS_dotELow[itr],var_names,True,var_E[itr]) + \"\\n\\n\"\n",
    "print(AMRoutE)"
   ]
  },
  {
   "cell_type": "code",
   "execution_count": null,
   "metadata": {},
   "outputs": [],
   "source": []
  }
 ],
 "metadata": {
  "kernelspec": {
   "display_name": "Python 3",
   "language": "python",
   "name": "python3"
  },
  "language_info": {
   "codemirror_mode": {
    "name": "ipython",
    "version": 3
   },
   "file_extension": ".py",
   "mimetype": "text/x-python",
   "name": "python",
   "nbconvert_exporter": "python",
   "pygments_lexer": "ipython3",
   "version": "3.5.2"
  }
 },
 "nbformat": 4,
 "nbformat_minor": 2
}
