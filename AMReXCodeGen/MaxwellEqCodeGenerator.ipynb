{
 "cells": [
  {
   "cell_type": "markdown",
   "metadata": {},
   "source": [
    "FunctionSet.py contains a set of functions that do things like take finite difference derivatives of grid variables.\n",
    "\n",
    "Also, numpy is used here so that array adding is easier to do."
   ]
  },
  {
   "cell_type": "code",
   "execution_count": 1,
   "metadata": {},
   "outputs": [],
   "source": [
    "from FunctionSet import *\n",
    "# The NRPy_param_funcs module sets up global structures that manage free parameters within NRPy+\n",
    "import NRPy_param_funcs as par \n",
    "# The indexedexp module defines various functions for defining and managing indexed quantities like tensors and pseudotensors\n",
    "import indexedexp as ixp\n",
    "# The grid module defines various parameters related to a numerical grid or the dimensionality of indexed expressions\n",
    "# For example, it declares the parameter DIM, which specifies the dimensionality of the indexed expression\n",
    "import grid as gri\n",
    "from outputC import *\n",
    "import numpy as np"
   ]
  },
  {
   "cell_type": "code",
   "execution_count": 2,
   "metadata": {},
   "outputs": [],
   "source": [
    "import sympy\n",
    "from sympy import symbols, IndexedBase, Indexed, Idx, preorder_traversal"
   ]
  },
  {
   "cell_type": "markdown",
   "metadata": {},
   "source": [
    "Declaring grid variables and indices. Note that the variables to be evolved are the vector potential and electric field."
   ]
  },
  {
   "cell_type": "code",
   "execution_count": 3,
   "metadata": {},
   "outputs": [],
   "source": [
    "Nx, Ny, Nz, Nn= symbols('Nx Ny Nz Nn', integer=True)\n",
    "i = Idx('i', Nx)\n",
    "j = Idx('j', Ny)\n",
    "k = Idx('k', Nz)\n",
    "n = Idx('n', Nn)\n",
    "dx, dy, dz = symbols('dx dy dz')\n",
    "Evec = [IndexedBase('Ex'),IndexedBase('Ey'),IndexedBase('Ez')]\n",
    "Avec = [IndexedBase('Ax'),IndexedBase('Ay'),IndexedBase('Az')]\n",
    "phi = IndexedBase('phi')\n",
    "var_names = ['Ax','Ay','Az','Ex','Ey','Ez','phi']"
   ]
  },
  {
   "cell_type": "markdown",
   "metadata": {},
   "source": [
    "Attaching grid indices to the declared variables.  \n",
    "\n",
    "Also... 'Low' is meant to show that this variable is a vector with a lower index.   This is unimportant in flat space here, but will be necessary to keep track of when a curved metric is used in future developments."
   ]
  },
  {
   "cell_type": "code",
   "execution_count": 4,
   "metadata": {},
   "outputs": [],
   "source": [
    "ELow = ixp.zerorank1(DIM = 3)\n",
    "for itr in range(3):\n",
    "    ELow[itr]=Evec[itr][i,j,k,n]\n",
    "    \n",
    "ALow = ixp.zerorank1(DIM = 3)\n",
    "for itr in range(3):\n",
    "    ALow[itr]=Avec[itr][i,j,k,n]\n",
    "    \n",
    "phi = phi[i,j,k,n]\n",
    "\n",
    "ELow = np.array(ELow)\n",
    "ALow = np.array(ALow)"
   ]
  },
  {
   "cell_type": "markdown",
   "metadata": {},
   "source": [
    "Righthand side of Maxwell evolution equations written in a symbolic form.  These are in vacuum for now, but can easily be extended to include currents."
   ]
  },
  {
   "cell_type": "code",
   "execution_count": 5,
   "metadata": {},
   "outputs": [],
   "source": [
    "RHS_dotALow = -ELow-np.array(grad(phi))\n",
    "RHS_dotELow = np.array(grad(div(ALow)))-LapTen(ALow)"
   ]
  },
  {
   "cell_type": "markdown",
   "metadata": {},
   "source": [
    "Making use of the AMReXcode to convert RHSs to compilable code blocks to be inserted in the AMReX advance.cpp code. In the near future we will add an option to prepend the expressions with the 'new' expression."
   ]
  },
  {
   "cell_type": "code",
   "execution_count": 34,
   "metadata": {},
   "outputs": [],
   "source": [
    "AMRout = \"\"\n",
    "for itr in range(len(directions)):\n",
    "    AMRout += var_names[itr]+\"_new_fab(i,j,k,n) = \" + AMReXcode(RHS_dotALow[itr],var_names) + \"\\n\\n\"\n",
    "\n",
    "for itr in range(len(directions)):\n",
    "    AMRout += var_names[itr+3]+\"_new_fab(i,j,k,n) = \" + AMReXcode(RHS_dotELow[itr],var_names) + \"\\n\\n\""
   ]
  },
  {
   "cell_type": "markdown",
   "metadata": {},
   "source": [
    "This is what you would copy paste into an appropriate AMReX advance.cpp file"
   ]
  },
  {
   "cell_type": "code",
   "execution_count": 36,
   "metadata": {},
   "outputs": [
    {
     "name": "stdout",
     "output_type": "stream",
     "text": [
      "Ax_new_fab(i,j,k,n) = -Ex_old_fab(i, j, k, n) - (phi_old_fab(i + 1, j, k, n) - phi_old_fab(i - 1, j, k, n))/(2*dx[0]);\n",
      "\n",
      "Ay_new_fab(i,j,k,n) = -Ey_old_fab(i, j, k, n) - (phi_old_fab(i, j + 1, k, n) - phi_old_fab(i, j - 1, k, n))/(2*dx[1]);\n",
      "\n",
      "Az_new_fab(i,j,k,n) = -Ez_old_fab(i, j, k, n) - (phi_old_fab(i, j, k + 1, n) - phi_old_fab(i, j, k - 1, n))/(2*dx[2]);\n",
      "\n",
      "Ex_new_fab(i,j,k,n) = -(Ax_old_fab(i, j, k + 1, n) + Ax_old_fab(i, j, k - 1, n) - 2*Ax_old_fab(i, j, k, n))/(dx[2]*dx[2]) - (Ax_old_fab(i, j + 1, k, n) + Ax_old_fab(i, j - 1, k, n) - 2*Ax_old_fab(i, j, k, n))/(dx[1]*dx[1]) + ((Az_old_fab(i + 1, j, k + 1, n) - Az_old_fab(i + 1, j, k - 1, n))/(2*dx[2]) - (Az_old_fab(i - 1, j, k + 1, n) - Az_old_fab(i - 1, j, k - 1, n))/(2*dx[2]) + (Ay_old_fab(i + 1, j + 1, k, n) - Ay_old_fab(i + 1, j - 1, k, n))/(2*dx[1]) - (Ay_old_fab(i - 1, j + 1, k, n) - Ay_old_fab(i - 1, j - 1, k, n))/(2*dx[1]) + (Ax_old_fab(i + 2, j, k, n) - Ax_old_fab(i, j, k, n))/(2*dx[0]) - (-Ax_old_fab(i - 2, j, k, n) + Ax_old_fab(i, j, k, n))/(2*dx[0]))/(2*dx[0]) - (Ax_old_fab(i + 1, j, k, n) + Ax_old_fab(i - 1, j, k, n) - 2*Ax_old_fab(i, j, k, n))/(dx[0]*dx[0]);\n",
      "\n",
      "Ey_new_fab(i,j,k,n) = -(Ay_old_fab(i, j, k + 1, n) + Ay_old_fab(i, j, k - 1, n) - 2*Ay_old_fab(i, j, k, n))/(dx[2]*dx[2]) + ((Az_old_fab(i, j + 1, k + 1, n) - Az_old_fab(i, j + 1, k - 1, n))/(2*dx[2]) - (Az_old_fab(i, j - 1, k + 1, n) - Az_old_fab(i, j - 1, k - 1, n))/(2*dx[2]) + (Ay_old_fab(i, j + 2, k, n) - Ay_old_fab(i, j, k, n))/(2*dx[1]) - (-Ay_old_fab(i, j - 2, k, n) + Ay_old_fab(i, j, k, n))/(2*dx[1]) + (Ax_old_fab(i + 1, j + 1, k, n) - Ax_old_fab(i - 1, j + 1, k, n))/(2*dx[0]) - (Ax_old_fab(i + 1, j - 1, k, n) - Ax_old_fab(i - 1, j - 1, k, n))/(2*dx[0]))/(2*dx[1]) - (Ay_old_fab(i, j + 1, k, n) + Ay_old_fab(i, j - 1, k, n) - 2*Ay_old_fab(i, j, k, n))/(dx[1]*dx[1]) - (Ay_old_fab(i + 1, j, k, n) + Ay_old_fab(i - 1, j, k, n) - 2*Ay_old_fab(i, j, k, n))/(dx[0]*dx[0]);\n",
      "\n",
      "Ez_new_fab(i,j,k,n) = ((Az_old_fab(i, j, k + 2, n) - Az_old_fab(i, j, k, n))/(2*dx[2]) - (-Az_old_fab(i, j, k - 2, n) + Az_old_fab(i, j, k, n))/(2*dx[2]) + (Ay_old_fab(i, j + 1, k + 1, n) - Ay_old_fab(i, j - 1, k + 1, n))/(2*dx[1]) - (Ay_old_fab(i, j + 1, k - 1, n) - Ay_old_fab(i, j - 1, k - 1, n))/(2*dx[1]) + (Ax_old_fab(i + 1, j, k + 1, n) - Ax_old_fab(i - 1, j, k + 1, n))/(2*dx[0]) - (Ax_old_fab(i + 1, j, k - 1, n) - Ax_old_fab(i - 1, j, k - 1, n))/(2*dx[0]))/(2*dx[2]) - (Az_old_fab(i, j, k + 1, n) + Az_old_fab(i, j, k - 1, n) - 2*Az_old_fab(i, j, k, n))/(dx[2]*dx[2]) - (Az_old_fab(i, j + 1, k, n) + Az_old_fab(i, j - 1, k, n) - 2*Az_old_fab(i, j, k, n))/(dx[1]*dx[1]) - (Az_old_fab(i + 1, j, k, n) + Az_old_fab(i - 1, j, k, n) - 2*Az_old_fab(i, j, k, n))/(dx[0]*dx[0]);\n",
      "\n",
      "\n"
     ]
    }
   ],
   "source": [
    "print(AMRout)"
   ]
  },
  {
   "cell_type": "code",
   "execution_count": null,
   "metadata": {},
   "outputs": [],
   "source": []
  }
 ],
 "metadata": {
  "kernelspec": {
   "display_name": "Python 3",
   "language": "python",
   "name": "python3"
  },
  "language_info": {
   "codemirror_mode": {
    "name": "ipython",
    "version": 3
   },
   "file_extension": ".py",
   "mimetype": "text/x-python",
   "name": "python",
   "nbconvert_exporter": "python",
   "pygments_lexer": "ipython3",
   "version": "3.6.5"
  }
 },
 "nbformat": 4,
 "nbformat_minor": 2
}
