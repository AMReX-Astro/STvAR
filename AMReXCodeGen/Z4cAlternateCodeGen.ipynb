{
 "cells": [
  {
   "cell_type": "markdown",
   "metadata": {},
   "source": [
    "We start by importing th Spacetime Variables module, which contains all the functionality we will need to generate our Z4c equations."
   ]
  },
  {
   "cell_type": "code",
   "execution_count": 1,
   "metadata": {},
   "outputs": [],
   "source": [
    "from SpacetimeVar import *"
   ]
  },
  {
   "cell_type": "markdown",
   "metadata": {},
   "source": [
    "We set a path for our source files to be generated."
   ]
  },
  {
   "cell_type": "code",
   "execution_count": 2,
   "metadata": {},
   "outputs": [],
   "source": [
    "DiffOrder = 4\n",
    "KOsigma = 0.1\n",
    "DiffOrderUpDn = 4"
   ]
  },
  {
   "cell_type": "code",
   "execution_count": 3,
   "metadata": {},
   "outputs": [],
   "source": [
    "if DiffOrderUpDn%2 == 0:\n",
    "    strUpCn = 'up'\n",
    "else:\n",
    "    strUpCn = 'cn'"
   ]
  },
  {
   "cell_type": "code",
   "execution_count": null,
   "metadata": {},
   "outputs": [],
   "source": []
  },
  {
   "cell_type": "code",
   "execution_count": null,
   "metadata": {},
   "outputs": [],
   "source": []
  },
  {
   "cell_type": "code",
   "execution_count": null,
   "metadata": {},
   "outputs": [],
   "source": []
  },
  {
   "cell_type": "code",
   "execution_count": 4,
   "metadata": {},
   "outputs": [],
   "source": [
    "dim = 3\n",
    "path = \"../Source/Z4c/\""
   ]
  },
  {
   "cell_type": "markdown",
   "metadata": {},
   "source": [
    "Let us begin by writing the beginnings of our RHS file that will contain the right hand sides of our evolutions equations. These statements set up the grid to which our multifab grid functions will live."
   ]
  },
  {
   "cell_type": "code",
   "execution_count": 5,
   "metadata": {},
   "outputs": [
    {
     "data": {
      "text/plain": [
       "71"
      ]
     },
     "execution_count": 5,
     "metadata": {},
     "output_type": "execute_result"
    }
   ],
   "source": [
    "fileRHS = open(path+\"ET_Integration_Rhs_K.H\", \"w+\")\n",
    "fileRHS.write(\"#ifndef ET_INTEGRATION_RHS_K_H \\n\")\n",
    "fileRHS.write(\"#define ET_INTEGRATION_RHS_K_H \\n\\n\")\n",
    "\n",
    "fileRHS.write(\"#include <AMReX_REAL.H> \\n\")\n",
    "fileRHS.write(\"#include <AMReX_Array4.H> \\n\")\n",
    "fileRHS.write(\"#include <ET_Integration_Setup.H> \\n\\n\")\n",
    "\n",
    "fileRHS.write(\"AMREX_GPU_DEVICE \\ninline \\nvoid \\n\")\n",
    "fileRHS.write(\"state_rhs(int i, int j, int k, \\n\")\n",
    "fileRHS.write(\"        amrex::Array4<amrex::Real> const& rhs_fab, \\n\")\n",
    "fileRHS.write(\"        amrex::Array4<amrex::Real const> const& state_fab, \\n\")\n",
    "fileRHS.write(\"        amrex::GpuArray<amrex::Real,AMREX_SPACEDIM> const& dx, \\n\")\n",
    "fileRHS.write(\"        const amrex::GeometryData& geom) noexcept \\n{\\n\")\n",
    "fileRHS.write(\"        const auto domain_xlo = geom.ProbLo(); \\n\\n\")\n",
    "fileRHS.write(\"        amrex::Real x0 = (i + 0.5)*geom.CellSize(0) + domain_xlo[0]; \\n\")\n",
    "fileRHS.write(\"        amrex::Real x1 = (j + 0.5)*geom.CellSize(0) + domain_xlo[1]; \\n\")\n",
    "fileRHS.write(\"        amrex::Real x2 = (k + 0.5)*geom.CellSize(0) + domain_xlo[2]; \\n\\n\")"
   ]
  },
  {
   "cell_type": "markdown",
   "metadata": {},
   "source": [
    "Now we will declare our evolution variables including the gauge variables alpha and beta (and B optionally).  "
   ]
  },
  {
   "cell_type": "code",
   "execution_count": 6,
   "metadata": {},
   "outputs": [],
   "source": [
    "stVar.decl = []  #We want a list of declared variables that we will cycle through when we convert our RHS equations.\n",
    "\n",
    "chi = stVar('chi', declare = True) #Scalar variables like chi can be declared with stVar.\n",
    "gamtildeLL = stVarRank2('gamtildeLL', sym = 'sym01', declare = True)  #gamtildeLL is rank 2, so it is declared with stVarRank2\n",
    "Khat = stVar('Khat', declare = True)\n",
    "AtildeLL = stVarRank2('AtildeLL', sym = 'sym01', declare = True)\n",
    "theta = stVar('theta', declare = True)\n",
    "GamtildeU = stVarRank1('GamtildeU', declare = True)\n",
    "\n",
    "alpha = stVar('alpha', declare = True)\n",
    "betaU = stVarRank1('betaU', declare = True)"
   ]
  },
  {
   "cell_type": "markdown",
   "metadata": {},
   "source": [
    "We are now ready to declare our evolution variables in the RHS. We do this with AMReXDeclare(), meaning that these variables are defined by their associated grid functions.  Below we will define other intermediate variables (like the Ricci curvature etc. in terms of other (declared and not declared) variables. "
   ]
  },
  {
   "cell_type": "code",
   "execution_count": 7,
   "metadata": {},
   "outputs": [
    {
     "data": {
      "text/plain": [
       "186"
      ]
     },
     "execution_count": 7,
     "metadata": {},
     "output_type": "execute_result"
    }
   ],
   "source": [
    "fileRHS.write(chi.AMReXDeclare())\n",
    "fileRHS.write(gamtildeLL.AMReXDeclare())\n",
    "fileRHS.write(Khat.AMReXDeclare())\n",
    "fileRHS.write(AtildeLL.AMReXDeclare())\n",
    "fileRHS.write(theta.AMReXDeclare())\n",
    "fileRHS.write(GamtildeU.AMReXDeclare())\n",
    "\n",
    "fileRHS.write(alpha.AMReXDeclare())\n",
    "fileRHS.write(betaU.AMReXDeclare())"
   ]
  },
  {
   "cell_type": "code",
   "execution_count": 8,
   "metadata": {},
   "outputs": [],
   "source": [
    "betaUp = stVarRank1('betaUp')\n",
    "betaDn = stVarRank1('betaDn')"
   ]
  },
  {
   "cell_type": "code",
   "execution_count": 9,
   "metadata": {},
   "outputs": [
    {
     "data": {
      "text/plain": [
       "792"
      ]
     },
     "execution_count": 9,
     "metadata": {},
     "output_type": "execute_result"
    }
   ],
   "source": [
    "betaString = \"\"\"\n",
    "        amrex::Real betaUp0 = 0;\n",
    "        amrex::Real betaDn0 = 0;\n",
    "        if(betaU0 > 0)\n",
    "        {\n",
    "            betaUp0 = 1;\n",
    "            betaDn0 = 0;\n",
    "        }\n",
    "        else if(betaU0 < 0)\n",
    "        {\n",
    "            betaUp0 = 0;\n",
    "            betaDn0 = 1;\n",
    "        }\n",
    "        \n",
    "        amrex::Real betaUp1 = 0;\n",
    "        amrex::Real betaDn1 = 0;\n",
    "        if(betaU1 > 0)\n",
    "        {\n",
    "            betaUp1 = 1;\n",
    "            betaDn1 = 0;\n",
    "        }\n",
    "        else if(betaU1 < 0)\n",
    "        {\n",
    "            betaUp1 = 0;\n",
    "            betaDn1 = 1;\n",
    "        }\n",
    "        \n",
    "        amrex::Real betaUp2 = 0;\n",
    "        amrex::Real betaDn2 = 0;\n",
    "        if(betaU2 > 0)\n",
    "        {\n",
    "            betaUp2 = 1;\n",
    "            betaDn2 = 0;\n",
    "        }\n",
    "        else if(betaU2 < 0)\n",
    "        {\n",
    "            betaUp2 = 0;\n",
    "            betaDn2 = 1;\n",
    "        }\n",
    "\n",
    "\n",
    "\"\"\"\n",
    "fileRHS.write(betaString)"
   ]
  },
  {
   "cell_type": "code",
   "execution_count": 10,
   "metadata": {},
   "outputs": [],
   "source": [
    "betaDchi = stVar('betaDchi')\n",
    "Dupchi = stVarRank1('Dupchi')\n",
    "Dupchi.var = DstVar(chi, difftype = 1,CnUpDnRank1=strUpCn,orderD = DiffOrderUpDn).var\n",
    "\n",
    "Ddnchi = stVarRank1('Ddnphi')\n",
    "Ddnchi.var = DstVar(chi, difftype = 1,CnUpDnRank1='dn',orderD = DiffOrderUpDn).var\n",
    "\n",
    "for k in range(3):\n",
    "    betaDchi.var += betaU.symb[k]*(betaUp.symb[k]*Dupchi.symb[k]+betaDn.symb[k]*Ddnchi.symb[k])\n",
    "    \n",
    "betaDgamtildeLL = stVarRank2('betaDgamtildeLL')\n",
    "DupgamtildeLL = stVarRank3('DupgamtildeLL')\n",
    "DupgamtildeLL.var = DstVarRank2(gamtildeLL,difftype = 1, CnUpDnRank1=strUpCn,orderD=DiffOrderUpDn).var\n",
    "\n",
    "DdngamtildeLL = stVarRank3('DdngamtildeLL')\n",
    "DdngamtildeLL.var = DstVarRank2(gamtildeLL,difftype = 1, CnUpDnRank1='dn',orderD=DiffOrderUpDn).var\n",
    "\n",
    "for i in range(3):\n",
    "    for j in range(3):\n",
    "        for k in range(3):\n",
    "            betaDgamtildeLL.var[i][j] += betaU.symb[k]*(betaUp.symb[k]*DupgamtildeLL.symb[i][j][k]+betaDn.symb[k]*DdngamtildeLL.symb[i][j][k])\n",
    "\n",
    "betaDKhat = stVar('betaDKhat')\n",
    "DupKhat = stVarRank1('DupKhat')\n",
    "DupKhat.var = DstVar(Khat, difftype = 1,CnUpDnRank1=strUpCn,orderD = DiffOrderUpDn).var\n",
    "\n",
    "DdnKhat = stVarRank1('DdnKhat')\n",
    "DdnKhat.var = DstVar(Khat, difftype = 1,CnUpDnRank1='dn',orderD = DiffOrderUpDn).var\n",
    "\n",
    "for k in range(3):\n",
    "    betaDKhat.var += betaU.symb[k]*(betaUp.symb[k]*DupKhat.symb[k]+betaDn.symb[k]*DdnKhat.symb[k])\n",
    "    \n",
    "betaDAtildeLL = stVarRank2('betaDAtildeLL')\n",
    "DupAtildeLL = stVarRank3('DupAtildeLL')\n",
    "DupAtildeLL.var = DstVarRank2(AtildeLL,difftype = 1, CnUpDnRank1=strUpCn,orderD=DiffOrderUpDn).var\n",
    "\n",
    "DdnAtildeLL = stVarRank3('DdnAtildeLL')\n",
    "DdnAtildeLL.var = DstVarRank2(AtildeLL,difftype = 1, CnUpDnRank1='dn',orderD=DiffOrderUpDn).var\n",
    "\n",
    "for i in range(3):\n",
    "    for j in range(3):\n",
    "        for k in range(3):\n",
    "            betaDAtildeLL.var[i][j] += betaU.symb[k]*(betaUp.symb[k]*DupAtildeLL.symb[i][j][k]+betaDn.symb[k]*DdnAtildeLL.symb[i][j][k])\n",
    "\n",
    "betaDtheta = stVar('betaDtheta')\n",
    "Duptheta = stVarRank1('Duptheta')\n",
    "Duptheta.var = DstVar(theta, difftype = 1,CnUpDnRank1=strUpCn,orderD = DiffOrderUpDn).var\n",
    "\n",
    "Ddntheta = stVarRank1('Ddntheta')\n",
    "Ddntheta.var = DstVar(theta, difftype = 1,CnUpDnRank1='dn',orderD = DiffOrderUpDn).var\n",
    "\n",
    "for k in range(3):\n",
    "    betaDtheta.var += betaU.symb[k]*(betaUp.symb[k]*Duptheta.symb[k]+betaDn.symb[k]*Ddntheta.symb[k])\n",
    "    \n",
    "betaDGamtildeU = stVarRank1('betaDGamtildeU')\n",
    "DupGamtildeU = stVarRank2('DupGamtildeU')\n",
    "DupGamtildeU.var = DstVarRank1(GamtildeU,difftype = 1, CnUpDnRank1=strUpCn,orderD=DiffOrderUpDn).var\n",
    "\n",
    "DdnGamtildeU = stVarRank2('DdnGamtildeU')\n",
    "DdnGamtildeU.var = DstVarRank1(GamtildeU,difftype = 1, CnUpDnRank1='dn',orderD=DiffOrderUpDn).var\n",
    "\n",
    "for i in range(3):\n",
    "    for k in range(3):\n",
    "        betaDGamtildeU.var[i] += betaU.symb[k]*(betaUp.symb[k]*DupGamtildeU.symb[i][k]+betaDn.symb[k]*DdnGamtildeU.symb[i][k])\n",
    "\n",
    "betaDalpha = stVar('betaDalpha')\n",
    "Dupalpha = stVarRank1('Dupalpha')\n",
    "Dupalpha.var = DstVar(alpha, difftype = 1,CnUpDnRank1=strUpCn,orderD = DiffOrderUpDn).var\n",
    "\n",
    "Ddnalpha = stVarRank1('Ddnalpha')\n",
    "Ddnalpha.var = DstVar(alpha, difftype = 1,CnUpDnRank1='dn',orderD = DiffOrderUpDn).var\n",
    "\n",
    "for k in range(3):\n",
    "    betaDalpha.var += betaU.symb[k]*(betaUp.symb[k]*Dupalpha.symb[k]+betaDn.symb[k]*Ddnalpha.symb[k])\n",
    "    \n",
    "betaDbetaU = stVarRank1('betaDbetaU')\n",
    "DupbetaU = stVarRank2('DupbetaU')\n",
    "DupbetaU.var = DstVarRank1(betaU,difftype = 1, CnUpDnRank1=strUpCn,orderD=DiffOrderUpDn).var\n",
    "\n",
    "DdnbetaU = stVarRank2('DdnbetaU')\n",
    "DdnbetaU.var = DstVarRank1(betaU,difftype = 1, CnUpDnRank1='dn',orderD=DiffOrderUpDn).var\n",
    "\n",
    "for i in range(3):\n",
    "    for k in range(3):\n",
    "        betaDbetaU.var[i] += betaU.symb[k]*(betaUp.symb[k]*DupbetaU.symb[i][k]+betaDn.symb[k]*DdnbetaU.symb[i][k])\n"
   ]
  },
  {
   "cell_type": "code",
   "execution_count": 11,
   "metadata": {},
   "outputs": [
    {
     "data": {
      "text/plain": [
       "558"
      ]
     },
     "execution_count": 11,
     "metadata": {},
     "output_type": "execute_result"
    }
   ],
   "source": [
    "fileRHS.write(Dupchi.AMReXDeclare())\n",
    "fileRHS.write(Ddnchi.AMReXDeclare())\n",
    "fileRHS.write(betaDchi.AMReXReal())\n",
    "\n",
    "fileRHS.write(DupgamtildeLL.AMReXDeclare())\n",
    "fileRHS.write(DdngamtildeLL.AMReXDeclare())\n",
    "fileRHS.write(betaDgamtildeLL.AMReXReal())\n",
    "\n",
    "fileRHS.write(DupKhat.AMReXDeclare())\n",
    "fileRHS.write(DdnKhat.AMReXDeclare())\n",
    "fileRHS.write(betaDKhat.AMReXReal())\n",
    "\n",
    "fileRHS.write(DupAtildeLL.AMReXDeclare())\n",
    "fileRHS.write(DdnAtildeLL.AMReXDeclare())\n",
    "fileRHS.write(betaDAtildeLL.AMReXReal())\n",
    "\n",
    "fileRHS.write(Duptheta.AMReXDeclare())\n",
    "fileRHS.write(Ddntheta.AMReXDeclare())\n",
    "fileRHS.write(betaDtheta.AMReXReal())\n",
    "\n",
    "fileRHS.write(DupGamtildeU.AMReXDeclare())\n",
    "fileRHS.write(DdnGamtildeU.AMReXDeclare())\n",
    "fileRHS.write(betaDGamtildeU.AMReXReal())\n",
    "\n",
    "fileRHS.write(Dupalpha.AMReXDeclare())\n",
    "fileRHS.write(Ddnalpha.AMReXDeclare())\n",
    "fileRHS.write(betaDalpha.AMReXReal())\n",
    "\n",
    "fileRHS.write(DupbetaU.AMReXDeclare())\n",
    "fileRHS.write(DdnbetaU.AMReXDeclare())\n",
    "fileRHS.write(betaDbetaU.AMReXReal())"
   ]
  },
  {
   "cell_type": "code",
   "execution_count": 12,
   "metadata": {},
   "outputs": [],
   "source": [
    "DiffOrder = 2\n",
    "KOsigma = 0.1"
   ]
  },
  {
   "cell_type": "code",
   "execution_count": 13,
   "metadata": {},
   "outputs": [
    {
     "data": {
      "text/plain": [
       "2100"
      ]
     },
     "execution_count": 13,
     "metadata": {},
     "output_type": "execute_result"
    }
   ],
   "source": [
    "fileRHS.write(DstVar(chi, 1, orderD = DiffOrder).AMReXDeclare())\n",
    "fileRHS.write(DstVar(chi, 2, orderD = DiffOrder).AMReXDeclare())\n",
    "fileRHS.write(DstVar(chi, 'KO', orderD = DiffOrder, sigma = KOsigma).AMReXDeclare())\n",
    "\n",
    "fileRHS.write(DstVarRank2(gamtildeLL,1,orderD = DiffOrder).AMReXDeclare())\n",
    "fileRHS.write(DstVarRank2(gamtildeLL,2,orderD = DiffOrder).AMReXDeclare())\n",
    "fileRHS.write(DstVarRank2(gamtildeLL, 'KO', sigma = KOsigma).AMReXDeclare())\n",
    "\n",
    "fileRHS.write(DstVar(Khat,1,orderD = DiffOrder).AMReXDeclare())\n",
    "fileRHS.write(DstVar(Khat, 'KO', sigma = KOsigma,orderD = DiffOrder).AMReXDeclare())\n",
    "\n",
    "fileRHS.write(DstVarRank2(AtildeLL,1, orderD = DiffOrder).AMReXDeclare())\n",
    "fileRHS.write(DstVarRank2(AtildeLL, 'KO', sigma = KOsigma, orderD = DiffOrder).AMReXDeclare())\n",
    "\n",
    "fileRHS.write(DstVar(theta,1, orderD = DiffOrder).AMReXDeclare())\n",
    "fileRHS.write(DstVar(theta, 'KO', sigma = KOsigma, orderD = DiffOrder).AMReXDeclare())\n",
    "\n",
    "fileRHS.write(DstVarRank1(GamtildeU, 1, orderD = DiffOrder).AMReXDeclare())\n",
    "fileRHS.write(DstVarRank1(GamtildeU, 'KO', sigma = KOsigma, orderD = DiffOrder).AMReXDeclare())\n",
    "\n",
    "fileRHS.write(DstVar(alpha, 1, orderD = DiffOrder).AMReXDeclare())\n",
    "fileRHS.write(DstVar(alpha, 2, orderD = DiffOrder).AMReXDeclare())\n",
    "fileRHS.write(DstVar(alpha, 'KO', sigma = KOsigma, orderD = DiffOrder).AMReXDeclare())\n",
    "\n",
    "fileRHS.write(DstVarRank1(betaU, 1, orderD = DiffOrder).AMReXDeclare())\n",
    "fileRHS.write(DstVarRank1(betaU, 2, orderD = DiffOrder).AMReXDeclare())\n",
    "fileRHS.write(DstVarRank1(betaU, 'KO', sigma = KOsigma, orderD = DiffOrder).AMReXDeclare())"
   ]
  },
  {
   "cell_type": "code",
   "execution_count": 14,
   "metadata": {},
   "outputs": [],
   "source": [
    "gamtildeUU = stVarRank2('gamtildeUU')\n",
    "for i in range(dim):\n",
    "    for j in range(dim):\n",
    "         gamtildeUU.var[i][j] += sp.simplify(sp.Matrix(gamtildeLL.symb).inv()[i,j])"
   ]
  },
  {
   "cell_type": "code",
   "execution_count": 15,
   "metadata": {},
   "outputs": [
    {
     "name": "stdout",
     "output_type": "stream",
     "text": [
      "gamtildeLL00*gamtildeLL11*gamtildeLL22 - gamtildeLL00*gamtildeLL12*gamtildeLL21 - gamtildeLL01*gamtildeLL10*gamtildeLL22 + gamtildeLL01*gamtildeLL12*gamtildeLL20 + gamtildeLL02*gamtildeLL10*gamtildeLL21 - gamtildeLL02*gamtildeLL11*gamtildeLL20\n"
     ]
    }
   ],
   "source": [
    "detgamtilde = stVar('detgamtilde')\n",
    "detgamtilde.var = sp.simplify(sp.Matrix(gamtildeLL.symb).det())\n",
    "print(detgamtilde.var)"
   ]
  },
  {
   "cell_type": "code",
   "execution_count": 16,
   "metadata": {},
   "outputs": [
    {
     "data": {
      "text/plain": [
       "3026"
      ]
     },
     "execution_count": 16,
     "metadata": {},
     "output_type": "execute_result"
    }
   ],
   "source": [
    "fileRHS.write(gamtildeUU.AMReXReal())"
   ]
  },
  {
   "cell_type": "code",
   "execution_count": 17,
   "metadata": {},
   "outputs": [],
   "source": [
    "DgamtildeLLL = stVarRank3('DgambarLLL')\n",
    "GamtildeULL = stVarRank3('GamtildeULL')\n",
    "GamtildeLLL = stVarRank3('GamtildeLLL')\n",
    "GamULL = stVarRank3('GamULL')\n",
    "\n",
    "for i in range(dim):\n",
    "    for j in range(dim):\n",
    "        for k in range(dim):\n",
    "            DgamtildeLLL.var[i][j][k] = Dsymb(gamtildeLL.symb[i][j],k)\n",
    "            \n",
    "for i in range(dim):\n",
    "    for j in range(dim):\n",
    "        for k in range(dim):\n",
    "            for l in range(dim):\n",
    "                GamtildeULL.var[i][j][k] += 1/2*gamtildeUU.symb[i][l]*(DgamtildeLLL.var[l][j][k]+DgamtildeLLL.var[l][k][j]-DgamtildeLLL.var[j][k][l])\n",
    "                \n",
    "for i in range(dim):\n",
    "    for j in range(dim):\n",
    "        for k in range(dim):\n",
    "            for l in range(dim):\n",
    "                GamtildeLLL.var[i][j][k] += gamtildeLL.symb[i][l]*GamtildeULL.var[l][j][k]\n",
    "                \n",
    "for i in range(dim):\n",
    "    for j in range(dim):\n",
    "        for k in range(dim):\n",
    "            GamULL.var[i][j][k] += GamtildeULL.symb[i][j][k] - 1/2*((sp.eye(3)[i,j]/chi.symb)*Dsymb(chi.symb,k)+(sp.eye(3)[i,k]/chi.symb)*Dsymb(chi.symb,j))\n",
    "            for l in range(3):\n",
    "                GamULL.var[i][j][k] += 1/2*gamtildeLL.symb[j][k]*gamtildeUU.symb[i][l]*Dsymb(chi.symb,l)/chi.symb\n",
    "                               \n",
    "                "
   ]
  },
  {
   "cell_type": "code",
   "execution_count": 18,
   "metadata": {},
   "outputs": [
    {
     "data": {
      "text/plain": [
       "4938"
      ]
     },
     "execution_count": 18,
     "metadata": {},
     "output_type": "execute_result"
    }
   ],
   "source": [
    "fileRHS.write(GamtildeULL.AMReXReal())\n",
    "fileRHS.write(GamtildeLLL.AMReXReal())\n",
    "fileRHS.write(GamULL.AMReXReal())"
   ]
  },
  {
   "cell_type": "code",
   "execution_count": 19,
   "metadata": {},
   "outputs": [],
   "source": [
    "DDalphaLL = stVarRank2('DDalphaLL')\n",
    "for i in range(3):\n",
    "    for j in range(3):\n",
    "        DDalphaLL.var[i][j] += Dsymb(alpha.symb,str(i)+str(j))\n",
    "        for k in range(3):\n",
    "            DDalphaLL.var[i][j] += -GamULL.symb[k][i][j]*Dsymb(alpha.symb,str(k))"
   ]
  },
  {
   "cell_type": "code",
   "execution_count": 20,
   "metadata": {},
   "outputs": [
    {
     "data": {
      "text/plain": [
       "954"
      ]
     },
     "execution_count": 20,
     "metadata": {},
     "output_type": "execute_result"
    }
   ],
   "source": [
    "fileRHS.write(DDalphaLL.AMReXReal())"
   ]
  },
  {
   "cell_type": "code",
   "execution_count": 21,
   "metadata": {},
   "outputs": [],
   "source": [
    "gamLL = stVarRank2('gamLL')\n",
    "for i in range(3):\n",
    "    for j in range(3):\n",
    "        gamLL.var[i][j] = (chi.symb**(-1))*gamtildeLL.symb[i][j]\n",
    "        \n",
    "gamUU = stVarRank2('gamUU')\n",
    "for i in range(3):\n",
    "    for j in range(3):\n",
    "        gamUU.var[i][j] = chi.symb*gamtildeUU.symb[i][j]"
   ]
  },
  {
   "cell_type": "code",
   "execution_count": 22,
   "metadata": {},
   "outputs": [
    {
     "data": {
      "text/plain": [
       "432"
      ]
     },
     "execution_count": 22,
     "metadata": {},
     "output_type": "execute_result"
    }
   ],
   "source": [
    "fileRHS.write(gamLL.AMReXReal())\n",
    "fileRHS.write(gamUU.AMReXReal())"
   ]
  },
  {
   "cell_type": "code",
   "execution_count": 23,
   "metadata": {},
   "outputs": [],
   "source": [
    "AtildeUU = stVarRank2('AtildeUU')\n",
    "for i in range(3):\n",
    "    for j in range(3):\n",
    "        for k in range(3):\n",
    "            for l in range(3):\n",
    "                AtildeUU.var[i][j] += gamtildeUU.symb[i][k]*gamtildeUU.symb[j][l]*AtildeLL.symb[k][l]\n",
    "                \n",
    "AtildeUL = stVarRank2('AtildeUL')\n",
    "for i in range(3):\n",
    "    for j in range(3):\n",
    "        for k in range(3):\n",
    "            AtildeUL.var[i][j] += gamtildeUU.symb[i][k]*AtildeLL.symb[k][j]"
   ]
  },
  {
   "cell_type": "code",
   "execution_count": 24,
   "metadata": {},
   "outputs": [
    {
     "name": "stdout",
     "output_type": "stream",
     "text": [
      "0 + AtildeLL00*gamtildeUU00 + AtildeLL01*gamtildeUU01 + AtildeLL02*gamtildeUU02 + AtildeLL10*gamtildeUU10 + AtildeLL11*gamtildeUU11 + AtildeLL12*gamtildeUU12 + AtildeLL20*gamtildeUU20 + AtildeLL21*gamtildeUU21 + AtildeLL22*gamtildeUU22\n"
     ]
    }
   ],
   "source": [
    "TrAtilde = stVar('TrAtilde')\n",
    "for i in range(3):\n",
    "    for j in range(3):\n",
    "        TrAtilde.var += gamtildeUU.symb[i][j]*AtildeLL.symb[i][j]\n",
    "        \n",
    "print(TrAtilde.var)"
   ]
  },
  {
   "cell_type": "code",
   "execution_count": 25,
   "metadata": {},
   "outputs": [
    {
     "data": {
      "text/plain": [
       "990"
      ]
     },
     "execution_count": 25,
     "metadata": {},
     "output_type": "execute_result"
    }
   ],
   "source": [
    "fileRHS.write(AtildeUU.AMReXReal())\n",
    "fileRHS.write(AtildeUL.AMReXReal())"
   ]
  },
  {
   "cell_type": "code",
   "execution_count": 26,
   "metadata": {},
   "outputs": [],
   "source": [
    "DDalphaTFLL=stVarRank2('DDalphaTFLL')\n",
    "\n",
    "for i in range(3):\n",
    "    for j in range(3):\n",
    "        DDalphaTFLL.var[i][j] += DDalphaLL.symb[i][j]\n",
    "        for k in range(3):\n",
    "            for l in range(3):\n",
    "                DDalphaTFLL.var[i][j] += -1/3*gamLL.symb[i][j]*(gamUU.symb[k][l]*DDalphaLL.symb[k][l])"
   ]
  },
  {
   "cell_type": "code",
   "execution_count": 27,
   "metadata": {},
   "outputs": [
    {
     "data": {
      "text/plain": [
       "4500"
      ]
     },
     "execution_count": 27,
     "metadata": {},
     "output_type": "execute_result"
    }
   ],
   "source": [
    "fileRHS.write(DDalphaTFLL.AMReXReal())"
   ]
  },
  {
   "cell_type": "code",
   "execution_count": 28,
   "metadata": {},
   "outputs": [],
   "source": [
    "GamtildeDU = stVarRank1('GamtildeDU')\n",
    "for i in range(dim):\n",
    "    for j in range(dim):\n",
    "        for k in range(dim):\n",
    "            GamtildeDU.var[i] += GamtildeULL.symb[i][j][k]*gamtildeUU.symb[j][k] "
   ]
  },
  {
   "cell_type": "code",
   "execution_count": 29,
   "metadata": {},
   "outputs": [
    {
     "data": {
      "text/plain": [
       "909"
      ]
     },
     "execution_count": 29,
     "metadata": {},
     "output_type": "execute_result"
    }
   ],
   "source": [
    "fileRHS.write(GamtildeDU.AMReXReal())"
   ]
  },
  {
   "cell_type": "code",
   "execution_count": 30,
   "metadata": {},
   "outputs": [],
   "source": [
    "RtildeLL = stVarRank2('RtildeLL')\n",
    "\n",
    "for i in range(3):\n",
    "    for j in range(3):\n",
    "        for l in range(3):\n",
    "            for m in range(3):\n",
    "                RtildeLL.var[i][j] += -1/2*gamtildeUU.symb[l][m]*Dsymb(gamtildeLL.symb[i][j],str(l)+str(m))\n",
    "        for k in range(3):\n",
    "            RtildeLL.var[i][j] += 1/2*(gamtildeLL.symb[k][i]*Dsymb(GamtildeU.symb[k],str(j))+gamtildeLL.symb[k][j]*Dsymb(GamtildeU.symb[k],str(i)))\n",
    "            RtildeLL.var[i][j] += 1/2*(GamtildeDU.symb[k]*GamtildeLLL.symb[i][j][k]+GamtildeDU.symb[k]*GamtildeLLL.symb[j][i][k])\n",
    "            \n",
    "for i in range(3):\n",
    "    for j in range(3):\n",
    "        for k in range(3):\n",
    "            for l in range(3):\n",
    "                for m in range(3):\n",
    "                    RtildeLL.var[i][j] += gamtildeUU.symb[l][m]*(GamtildeULL.symb[k][l][i]*GamtildeLLL.symb[j][k][m]+GamtildeULL.symb[k][l][j]*GamtildeLLL.symb[i][k][m])\n",
    "                    RtildeLL.var[i][j] += gamtildeUU.symb[l][m]*GamtildeULL.symb[k][i][m]*GamtildeLLL.symb[k][l][j]"
   ]
  },
  {
   "cell_type": "code",
   "execution_count": 31,
   "metadata": {},
   "outputs": [
    {
     "data": {
      "text/plain": [
       "33534"
      ]
     },
     "execution_count": 31,
     "metadata": {},
     "output_type": "execute_result"
    }
   ],
   "source": [
    "fileRHS.write(RtildeLL.AMReXReal())"
   ]
  },
  {
   "cell_type": "code",
   "execution_count": 32,
   "metadata": {},
   "outputs": [],
   "source": [
    "DtildeDtildechiLL = stVarRank2('DtildeDtildechiLL')\n",
    "for i in range(3):\n",
    "    for j in range(3):\n",
    "        DtildeDtildechiLL.var[i][j] += Dsymb(chi.symb,str(i)+str(j))\n",
    "        for k in range(3):\n",
    "            DtildeDtildechiLL.var[i][j] += -GamtildeULL.symb[k][i][j]*Dsymb(chi.symb,k)\n",
    "            \n",
    "TrDtildeDtildechi = stVar('TrDtildeDtildechi')\n",
    "for i in range(3):\n",
    "    for j in range(3):\n",
    "        TrDtildeDtildechi.var += gamtildeUU.symb[i][j]*DtildeDtildechiLL.symb[i][j]"
   ]
  },
  {
   "cell_type": "code",
   "execution_count": 33,
   "metadata": {},
   "outputs": [
    {
     "data": {
      "text/plain": [
       "358"
      ]
     },
     "execution_count": 33,
     "metadata": {},
     "output_type": "execute_result"
    }
   ],
   "source": [
    "fileRHS.write(DtildeDtildechiLL.AMReXReal())\n",
    "fileRHS.write(TrDtildeDtildechi.AMReXReal())"
   ]
  },
  {
   "cell_type": "code",
   "execution_count": 34,
   "metadata": {},
   "outputs": [],
   "source": [
    "RchiLL = stVarRank2('RchiLL')            \n",
    "for i in range(3):\n",
    "    for j in range(3):\n",
    "        RchiLL.var[i][j] += 1/2*(chi.symb**(-1))*(DtildeDtildechiLL.symb[i][j]+gamtildeLL.symb[i][j]*TrDtildeDtildechi.symb)\n",
    "        RchiLL.var[i][j] += -1/4*(chi.symb**(-2))*Dsymb(chi.symb,str(i))*Dsymb(chi.symb,str(j))\n",
    "        for l in range(3):\n",
    "            RchiLL.var[i][j] += -3/4*(chi.symb**(-2))*gamtildeLL.symb[i][j]*Dsymb(chi.symb,str(l))*Dsymb(chi.symb,str(l))\n",
    "        "
   ]
  },
  {
   "cell_type": "code",
   "execution_count": 35,
   "metadata": {},
   "outputs": [
    {
     "data": {
      "text/plain": [
       "2712"
      ]
     },
     "execution_count": 35,
     "metadata": {},
     "output_type": "execute_result"
    }
   ],
   "source": [
    "fileRHS.write(RchiLL.AMReXReal())"
   ]
  },
  {
   "cell_type": "code",
   "execution_count": 36,
   "metadata": {},
   "outputs": [],
   "source": [
    "RLL = stVarRank2('RLL')\n",
    "for i in range(3):\n",
    "    for j in range(3):\n",
    "        RLL.var[i][j] += RtildeLL.symb[i][j]+RchiLL.symb[i][j]"
   ]
  },
  {
   "cell_type": "code",
   "execution_count": 37,
   "metadata": {},
   "outputs": [
    {
     "data": {
      "text/plain": [
       "459"
      ]
     },
     "execution_count": 37,
     "metadata": {},
     "output_type": "execute_result"
    }
   ],
   "source": [
    "fileRHS.write(RLL.AMReXReal())"
   ]
  },
  {
   "cell_type": "code",
   "execution_count": 38,
   "metadata": {},
   "outputs": [],
   "source": [
    "Rsclr = stVar('Rsclr')\n",
    "for i in range(3):\n",
    "    for j in range(3):\n",
    "        Rsclr.var += gamUU.symb[i][j]*RLL.symb[i][j] "
   ]
  },
  {
   "cell_type": "code",
   "execution_count": 39,
   "metadata": {},
   "outputs": [
    {
     "data": {
      "text/plain": [
       "175"
      ]
     },
     "execution_count": 39,
     "metadata": {},
     "output_type": "execute_result"
    }
   ],
   "source": [
    "fileRHS.write(Rsclr.AMReXReal())"
   ]
  },
  {
   "cell_type": "code",
   "execution_count": 40,
   "metadata": {},
   "outputs": [],
   "source": [
    "RTFLL = stVarRank2('RTFLL')\n",
    "for i in range(3):\n",
    "    for j in range(3):\n",
    "        RTFLL.var[i][j] = RLL.symb[i][j]-1/3*gamLL.symb[i][j]*Rsclr.symb"
   ]
  },
  {
   "cell_type": "code",
   "execution_count": 41,
   "metadata": {},
   "outputs": [
    {
     "data": {
      "text/plain": [
       "657"
      ]
     },
     "execution_count": 41,
     "metadata": {},
     "output_type": "execute_result"
    }
   ],
   "source": [
    "fileRHS.write(RTFLL.AMReXReal())"
   ]
  },
  {
   "cell_type": "code",
   "execution_count": 42,
   "metadata": {},
   "outputs": [],
   "source": [
    "divTildebeta = stVar('divTildebeta')\n",
    "for i in range(3):\n",
    "    divTildebeta.var += Dsymb(betaU.symb[i],str(i))\n",
    "    for k in range(3):\n",
    "        divTildebeta.var += GamtildeULL.symb[i][i][k]*betaU.symb[k]"
   ]
  },
  {
   "cell_type": "code",
   "execution_count": 43,
   "metadata": {},
   "outputs": [
    {
     "data": {
      "text/plain": [
       "287"
      ]
     },
     "execution_count": 43,
     "metadata": {},
     "output_type": "execute_result"
    }
   ],
   "source": [
    "fileRHS.write(divTildebeta.AMReXReal())"
   ]
  },
  {
   "cell_type": "code",
   "execution_count": 44,
   "metadata": {},
   "outputs": [],
   "source": [
    "RHS_chi = stVar('chi')\n",
    "RHS_chi.var = 2/3*chi.symb*(alpha.symb*(Khat.symb+2*theta.symb)-divTildebeta.symb)\n",
    "RHS_chi.var += betaDchi.symb \n",
    "    \n",
    "RHS_chi.var += Dsymb(chi.symb,'KO')"
   ]
  },
  {
   "cell_type": "code",
   "execution_count": 45,
   "metadata": {},
   "outputs": [
    {
     "data": {
      "text/plain": [
       "122"
      ]
     },
     "execution_count": 45,
     "metadata": {},
     "output_type": "execute_result"
    }
   ],
   "source": [
    "fileRHS.write(RHS_chi.AMReXRHS())"
   ]
  },
  {
   "cell_type": "code",
   "execution_count": 46,
   "metadata": {},
   "outputs": [],
   "source": [
    "RHS_gamtildeLL = stVarRank2('gamtildeLL',sym = 'sym01')\n",
    "\n",
    "for i in range(3):\n",
    "    for j in range(3):\n",
    "        RHS_gamtildeLL.var[i][j] += -2*alpha.symb*AtildeLL.symb[i][j]\n",
    "        RHS_gamtildeLL.var[i][j] += betaDgamtildeLL.symb[i][j]\n",
    "        for k in range(3):\n",
    "            RHS_gamtildeLL.var[i][j] += gamtildeLL.symb[k][i]*Dsymb(betaU.symb[k],str(j))+gamtildeLL.symb[k][j]*Dsymb(betaU.symb[k],str(i))\n",
    "            RHS_gamtildeLL.var[i][j] += -2/3*gamtildeLL.symb[i][j]*Dsymb(betaU.symb[k],str(k))#+betaU.symb[k]*Dsymb(gamtildeLL.symb[i][j],str(k))\n",
    "            \n",
    "for i in range(3):\n",
    "    for j in range(3):\n",
    "        RHS_gamtildeLL.var[i][j] += Dsymb(gamtildeLL.symb[i][j],'KO')"
   ]
  },
  {
   "cell_type": "code",
   "execution_count": 47,
   "metadata": {},
   "outputs": [
    {
     "data": {
      "text/plain": [
       "1935"
      ]
     },
     "execution_count": 47,
     "metadata": {},
     "output_type": "execute_result"
    }
   ],
   "source": [
    "fileRHS.write(RHS_gamtildeLL.AMReXRHS())"
   ]
  },
  {
   "cell_type": "code",
   "execution_count": 48,
   "metadata": {},
   "outputs": [],
   "source": [
    "kappa1 = stVar('kappa1')\n",
    "kappa2 = stVar('kappa2')\n",
    "\n",
    "kappa1.var = 0.02\n",
    "kappa2.var = 0\n",
    "\n",
    "RHS_Khat = stVar('Khat')\n",
    "for i in range(3):\n",
    "    for j in range(3):\n",
    "        RHS_Khat.var += -gamUU.symb[i][j]*DDalphaLL.symb[j][i]+alpha.symb*AtildeLL.symb[i][j]*AtildeUU.symb[i][j]\n",
    "\n",
    "RHS_Khat.var += betaDKhat.symb\n",
    "#for k in range(3):\n",
    " #   RHS_Khat.var += betaU.symb[k]*Dsymb(Khat.symb,str(k))\n",
    "\n",
    "RHS_Khat.var += 1/3*alpha.symb*((Khat.symb+2*theta.symb)**2+kappa1.symb*(1-kappa2.symb)*theta.symb)\n",
    "RHS_Khat.var += Dsymb(Khat.symb,'KO')"
   ]
  },
  {
   "cell_type": "code",
   "execution_count": 49,
   "metadata": {},
   "outputs": [
    {
     "data": {
      "text/plain": [
       "617"
      ]
     },
     "execution_count": 49,
     "metadata": {},
     "output_type": "execute_result"
    }
   ],
   "source": [
    "fileRHS.write(kappa1.AMReXReal())\n",
    "fileRHS.write(kappa2.AMReXReal())\n",
    "fileRHS.write(RHS_Khat.AMReXRHS())"
   ]
  },
  {
   "cell_type": "code",
   "execution_count": 50,
   "metadata": {},
   "outputs": [],
   "source": [
    "RHS_AtildeLL = stVarRank2('AtildeLL', sym = 'sym01')\n",
    "for i in range(3):\n",
    "    for j in range(3):\n",
    "        RHS_AtildeLL.var[i][j] += chi.symb*(-DDalphaTFLL.symb[i][j]+alpha.symb*RTFLL.symb[i][j])+alpha.symb*(Khat.symb+2*theta.symb)*AtildeLL.symb[i][j]\n",
    "        RHS_AtildeLL.var[i][j] += betaDAtildeLL.symb[i][j]\n",
    "        for k in range(3):\n",
    "            RHS_AtildeLL.var[i][j] += -2*alpha.symb*AtildeLL.symb[i][k]*AtildeUL.symb[k][j]#+betaU.symb[k]*Dsymb(AtildeLL.symb[i][j],str(k))\n",
    "            RHS_AtildeLL.var[i][j] += AtildeLL.symb[k][i]*Dsymb(betaU.symb[k],str(j))+AtildeLL.symb[k][j]*Dsymb(betaU.symb[k],str(i))-2/3*AtildeLL.symb[i][j]*Dsymb(betaU.symb[k],str(k))\n",
    "            \n",
    "for i in range(3):\n",
    "    for j in range(3):\n",
    "        RHS_AtildeLL.var[i][j] += Dsymb(AtildeLL.symb[i][j],'KO')"
   ]
  },
  {
   "cell_type": "code",
   "execution_count": 51,
   "metadata": {},
   "outputs": [
    {
     "data": {
      "text/plain": [
       "2718"
      ]
     },
     "execution_count": 51,
     "metadata": {},
     "output_type": "execute_result"
    }
   ],
   "source": [
    "fileRHS.write(RHS_AtildeLL.AMReXRHS())"
   ]
  },
  {
   "cell_type": "code",
   "execution_count": 52,
   "metadata": {},
   "outputs": [],
   "source": [
    "RHS_theta = stVar('theta')\n",
    "RHS_theta.var = 1/2*alpha.symb*(Rsclr.symb + 2/3*(Khat.symb+2*theta.symb)**2 - 2*kappa1.symb*(2+kappa2.symb)*theta.symb)\n",
    "#for i in range(3):\n",
    " #   RHS_theta.var += betaU.symb[i]*Dsymb(theta.symb,str(i))\n",
    "\n",
    "RHS_theta.var += betaDtheta.symb\n",
    "for i in range(3):\n",
    "    for j in range(3):\n",
    "        RHS_theta.var += -1/2*alpha.symb*AtildeLL.symb[i][j]*AtildeUU.symb[i][j]\n",
    "\n",
    "RHS_theta.var += Dsymb(theta.symb,'KO')"
   ]
  },
  {
   "cell_type": "code",
   "execution_count": 53,
   "metadata": {},
   "outputs": [
    {
     "data": {
      "text/plain": [
       "469"
      ]
     },
     "execution_count": 53,
     "metadata": {},
     "output_type": "execute_result"
    }
   ],
   "source": [
    "fileRHS.write(RHS_theta.AMReXRHS())"
   ]
  },
  {
   "cell_type": "code",
   "execution_count": 54,
   "metadata": {},
   "outputs": [],
   "source": [
    "RHS_GamtildeU = stVarRank1('GamtildeU')\n",
    "\n",
    "for i in range(3):\n",
    "    RHS_GamtildeU.var[i] += betaDGamtildeU.symb[i]\n",
    "    for j in range(3):\n",
    "        RHS_GamtildeU.var[i] += -2*AtildeUU.symb[i][j]*Dsymb(alpha.symb,str(j))+2*alpha.symb*(-1/3*gamtildeUU.symb[i][j]*(2*Dsymb(Khat.symb,str(j))+Dsymb(theta.symb,str(j)))-3/2*AtildeUU.symb[i][j]*Dsymb(chi.symb,str(j))/chi.symb)\n",
    "        RHS_GamtildeU.var[i] += -GamtildeDU.symb[j]*Dsymb(betaU.symb[i],str(j))+2/3*GamtildeDU.symb[i]*Dsymb(betaU.symb[j],str(j))#+betaU.symb[j]*Dsymb(GamtildeU.symb[i],str(j))\n",
    "        for k in range(3):\n",
    "            RHS_GamtildeU.var[i] += 2*alpha.symb*GamtildeULL.symb[i][j][k]*AtildeUU.symb[j][k]\n",
    "            RHS_GamtildeU.var[i] += 1/3*gamtildeUU.symb[i][j]*Dsymb(betaU.symb[k],str(j)+str(k))+gamtildeUU.symb[j][k]*Dsymb(betaU.symb[i],str(j)+str(k))\n",
    "            \n",
    "for i in range(3):\n",
    "    RHS_GamtildeU.var[i] += -2*alpha.symb*kappa1.symb*(GamtildeU.symb[i]-GamtildeDU.symb[i])\n",
    "for i in range(3):\n",
    "    RHS_GamtildeU.var[i] += Dsymb(GamtildeU.symb[i],'KO')"
   ]
  },
  {
   "cell_type": "code",
   "execution_count": 55,
   "metadata": {},
   "outputs": [
    {
     "data": {
      "text/plain": [
       "4779"
      ]
     },
     "execution_count": 55,
     "metadata": {},
     "output_type": "execute_result"
    }
   ],
   "source": [
    "fileRHS.write(RHS_GamtildeU.AMReXRHS())"
   ]
  },
  {
   "cell_type": "code",
   "execution_count": 56,
   "metadata": {},
   "outputs": [],
   "source": [
    "mul = stVar('mul')\n",
    "mus = stVar('mus')\n",
    "\n",
    "mul.var = 2/alpha.symb\n",
    "mus.var = 1/(alpha.symb**(2))"
   ]
  },
  {
   "cell_type": "code",
   "execution_count": 57,
   "metadata": {},
   "outputs": [],
   "source": [
    "RHS_alpha = stVar('alpha')\n",
    "\n",
    "RHS_alpha.var += -mul.symb*(alpha.symb**2)*Khat.symb+betaDalpha.symb\n",
    "RHS_alpha.var += Dsymb(alpha.symb,'KO')"
   ]
  },
  {
   "cell_type": "code",
   "execution_count": 58,
   "metadata": {},
   "outputs": [
    {
     "data": {
      "text/plain": [
       "96"
      ]
     },
     "execution_count": 58,
     "metadata": {},
     "output_type": "execute_result"
    }
   ],
   "source": [
    "fileRHS.write(mul.AMReXReal())\n",
    "fileRHS.write(mus.AMReXReal())\n",
    "fileRHS.write(RHS_alpha.AMReXRHS())"
   ]
  },
  {
   "cell_type": "code",
   "execution_count": 59,
   "metadata": {},
   "outputs": [],
   "source": [
    "eta = stVar('eta')\n",
    "eta.var = 2.0\n",
    "\n",
    "RHS_betaU = stVarRank1('betaU')\n",
    "\n",
    "for i in range(3):\n",
    "    RHS_betaU.var[i] += mus.symb*(alpha.symb**2)*GamtildeU.symb[i]-eta.symb*betaU.symb[i]+betaDbetaU.symb[i]\n",
    "    \n",
    "for i in range(3):\n",
    "    RHS_betaU.var[i] += Dsymb(betaU.symb[i],'KO')"
   ]
  },
  {
   "cell_type": "code",
   "execution_count": 60,
   "metadata": {},
   "outputs": [
    {
     "data": {
      "text/plain": [
       "342"
      ]
     },
     "execution_count": 60,
     "metadata": {},
     "output_type": "execute_result"
    }
   ],
   "source": [
    "fileRHS.write(eta.AMReXReal())\n",
    "fileRHS.write(RHS_betaU.AMReXRHS())"
   ]
  },
  {
   "cell_type": "code",
   "execution_count": 61,
   "metadata": {},
   "outputs": [],
   "source": [
    "fileRHS.write(\"}\\n\")\n",
    "fileRHS.write(\"#endif\")\n",
    "fileRHS.close()"
   ]
  }
 ],
 "metadata": {
  "kernelspec": {
   "display_name": "Python 3",
   "language": "python",
   "name": "python3"
  },
  "language_info": {
   "codemirror_mode": {
    "name": "ipython",
    "version": 3
   },
   "file_extension": ".py",
   "mimetype": "text/x-python",
   "name": "python",
   "nbconvert_exporter": "python",
   "pygments_lexer": "ipython3",
   "version": "3.5.2"
  }
 },
 "nbformat": 4,
 "nbformat_minor": 2
}
