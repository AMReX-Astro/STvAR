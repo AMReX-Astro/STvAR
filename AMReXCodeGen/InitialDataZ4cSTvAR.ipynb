{
 "cells": [
  {
   "cell_type": "code",
   "execution_count": 1,
   "metadata": {},
   "outputs": [],
   "source": [
    "from STvAR import *\n",
    "import STvARFileWrite as stfw"
   ]
  },
  {
   "cell_type": "code",
   "execution_count": 2,
   "metadata": {},
   "outputs": [],
   "source": [
    "DiffOrder = 4  \n",
    "nghostcells = 4  \n",
    "KOsigma = 0.1   "
   ]
  },
  {
   "cell_type": "code",
   "execution_count": 3,
   "metadata": {},
   "outputs": [],
   "source": [
    "dim = 3\n",
    "path = \"../Source/InitialDataSolver/\""
   ]
  },
  {
   "cell_type": "markdown",
   "metadata": {},
   "source": [
    "# RHS"
   ]
  },
  {
   "cell_type": "code",
   "execution_count": 4,
   "metadata": {},
   "outputs": [],
   "source": [
    "fileRHS = open(path+\"ET_Integration_Rhs_K.H\", \"w+\")"
   ]
  },
  {
   "cell_type": "code",
   "execution_count": 5,
   "metadata": {},
   "outputs": [
    {
     "data": {
      "text/plain": [
       "743"
      ]
     },
     "execution_count": 5,
     "metadata": {},
     "output_type": "execute_result"
    }
   ],
   "source": [
    "fileRHS.write(stfw.RHS_Header())"
   ]
  },
  {
   "cell_type": "code",
   "execution_count": 6,
   "metadata": {},
   "outputs": [],
   "source": [
    "stVar.declState = [] #We will hold a list of evolution variable names that we cycle through when converting sympy expressions to C code.\n",
    "u = stVar('u', state = True)"
   ]
  },
  {
   "cell_type": "code",
   "execution_count": 7,
   "metadata": {},
   "outputs": [
    {
     "data": {
      "text/plain": [
       "53"
      ]
     },
     "execution_count": 7,
     "metadata": {},
     "output_type": "execute_result"
    }
   ],
   "source": [
    "fileRHS.write(u.AMReXSymb2State())"
   ]
  },
  {
   "cell_type": "code",
   "execution_count": 8,
   "metadata": {},
   "outputs": [],
   "source": [
    "fileVARS = open(path+\"ET_Integration_Variables.H\",\"w+\")\n",
    "fileVARS.write(stfw.VarString(stVar.declState))\n",
    "fileVARS.close()"
   ]
  },
  {
   "cell_type": "code",
   "execution_count": 9,
   "metadata": {},
   "outputs": [
    {
     "data": {
      "text/plain": [
       "836"
      ]
     },
     "execution_count": 9,
     "metadata": {},
     "output_type": "execute_result"
    }
   ],
   "source": [
    "fileRHS.write(DstVar(u, difftype = 1, orderD = DiffOrder).AMReXSymb2Expr())\n",
    "fileRHS.write(DstVar(u, difftype = 2, orderD = DiffOrder).AMReXSymb2Expr())\n",
    "fileRHS.write(DstVar(u, 'KO', orderD = DiffOrder).AMReXSymb2Expr())"
   ]
  },
  {
   "cell_type": "code",
   "execution_count": 10,
   "metadata": {},
   "outputs": [],
   "source": [
    "x = stVarRank1('x')  #Defining symbols for the grid point positions.  They are already declared in the header.\n",
    "r = stVar('r')  #Define symbol for radius from the center of our coordinate system.\n",
    "r.expr = sp.sqrt(x.symb[0]**2+x.symb[1]**2+x.symb[2]**2)  #Defining how r is related to x0, x1, and x2.\n",
    "\n",
    "#We place two black holes at postions along the x0 = x axis.\n",
    "c1 = stVarRank1('c1')\n",
    "c2 = stVarRank1('c2')\n",
    "c1.expr = np.array([1.168642873,0,0])\n",
    "c2.expr = np.array([-1.168642873,0,0])\n",
    "\n",
    "#Bare masses\n",
    "M1 = stVar('M1')\n",
    "M2 = stVar('M2')\n",
    "\n",
    "M1.expr = 0.453*4/3\n",
    "M2.expr = 0.453*2/3\n",
    "\n",
    "#Momenta\n",
    "P1 = stVarRank1('P1')\n",
    "P2 = stVarRank1('P2')\n",
    "\n",
    "P1.expr = np.array([0,0.3231917498,0])\n",
    "P2.expr = np.array([0,-0.3231917498,0])\n",
    "\n",
    "S1 = stVarRank1('S1')\n",
    "S2 = stVarRank1('S2')\n",
    "\n",
    "S1.expr = [0,0,0.2]\n",
    "S2.expr = [0,0.3,0]\n",
    "\n",
    "#To simplify expressions below we can specify intermediate coordinates defined relative to the black hole centers.\n",
    "xc1 = stVarRank1('xc1')\n",
    "xc2 = stVarRank1('xc2')\n",
    "\n",
    "for i in range(3):\n",
    "    xc1.expr[i] = x.symb[i]-c1.symb[i]\n",
    "    xc2.expr[i] = x.symb[i]-c2.symb[i]\n",
    "\n",
    "rc1 = stVar('rc1')\n",
    "rc1.expr = sp.sqrt(xc1.symb[0]**2 + xc1.symb[1]**2 + xc1.symb[2]**2)\n",
    "\n",
    "rc2 = stVar('rc2')\n",
    "rc2.expr = sp.sqrt(xc2.symb[0]**2 + xc2.symb[1]**2 + xc2.symb[2]**2)\n",
    "\n",
    "n1 = stVarRank1('n1')\n",
    "n2 = stVarRank1('n2')\n",
    "\n",
    "for i in range(3):\n",
    "    n1.expr[i] = xc1.symb[i]/rc1.symb\n",
    "    n2.expr[i] = xc2.symb[i]/rc2.symb"
   ]
  },
  {
   "cell_type": "code",
   "execution_count": 11,
   "metadata": {},
   "outputs": [
    {
     "data": {
      "text/plain": [
       "108"
      ]
     },
     "execution_count": 11,
     "metadata": {},
     "output_type": "execute_result"
    }
   ],
   "source": [
    "fileRHS.write(r.AMReXSymb2Expr())\n",
    "fileRHS.write(c1.AMReXSymb2Expr())\n",
    "fileRHS.write(c2.AMReXSymb2Expr())\n",
    "fileRHS.write(M1.AMReXSymb2Expr())\n",
    "fileRHS.write(M2.AMReXSymb2Expr())\n",
    "fileRHS.write(P1.AMReXSymb2Expr())\n",
    "fileRHS.write(P2.AMReXSymb2Expr())\n",
    "fileRHS.write(S1.AMReXSymb2Expr())\n",
    "fileRHS.write(S2.AMReXSymb2Expr())\n",
    "fileRHS.write(xc1.AMReXSymb2Expr())\n",
    "fileRHS.write(xc2.AMReXSymb2Expr())\n",
    "fileRHS.write(rc1.AMReXSymb2Expr())\n",
    "fileRHS.write(rc2.AMReXSymb2Expr())\n",
    "fileRHS.write(n1.AMReXSymb2Expr())\n",
    "fileRHS.write(n2.AMReXSymb2Expr())"
   ]
  },
  {
   "cell_type": "code",
   "execution_count": 12,
   "metadata": {},
   "outputs": [],
   "source": [
    "Abar1UU = stVarRank2('Abar1UU')\n",
    "Abar2UU = stVarRank2('Abar2UU')\n",
    "for i in range(3):\n",
    "    for j in range(3):\n",
    "        Abar1UU.expr[i][j] += 3/(2*(rc1.symb)**2)*(P1.symb[i]*n1.symb[j]+P1.symb[j]*n1.symb[i])\n",
    "        Abar2UU.expr[i][j] += 3/(2*(rc2.symb)**2)*(P2.symb[i]*n2.symb[j]+P2.symb[j]*n2.symb[i])\n",
    "        for k in range(3):\n",
    "            Abar1UU.expr[i][j] += -3/(2*(rc1.symb)**2)*(sp.eye(3)[i,j]-n1.symb[i]*n1.symb[j])*n1.symb[k]*P1.symb[k]\n",
    "            Abar2UU.expr[i][j] += -3/(2*(rc2.symb)**2)*(sp.eye(3)[i,j]-n2.symb[i]*n2.symb[j])*n2.symb[k]*P2.symb[k]\n",
    "            \n",
    "for i in range(3):\n",
    "    for j in range(3):\n",
    "        for k in range(3):\n",
    "            for l in range(3):\n",
    "                Abar1UU.expr[i][j] +=3/(rc1.symb**3)*(n1.symb[i]*sp.Eijk(j,k,l)*S1.symb[k]*n1.symb[l]+n1.symb[j]*sp.Eijk(i,k,l)*S1.symb[k]*n1.symb[l])\n",
    "                Abar2UU.expr[i][j] +=3/(rc2.symb**3)*(n2.symb[i]*sp.Eijk(j,k,l)*S2.symb[k]*n2.symb[l]+n2.symb[j]*sp.Eijk(i,k,l)*S2.symb[k]*n2.symb[l])"
   ]
  },
  {
   "cell_type": "code",
   "execution_count": 13,
   "metadata": {},
   "outputs": [],
   "source": [
    "AbarUU = stVarRank2('AbarUU')\n",
    "for i in range(3):\n",
    "    for j in range(3):\n",
    "        AbarUU.expr[i][j] += Abar1UU.symb[i][j]+Abar2UU.symb[i][j]"
   ]
  },
  {
   "cell_type": "code",
   "execution_count": 14,
   "metadata": {},
   "outputs": [
    {
     "data": {
      "text/plain": [
       "486"
      ]
     },
     "execution_count": 14,
     "metadata": {},
     "output_type": "execute_result"
    }
   ],
   "source": [
    "fileRHS.write(Abar1UU.AMReXSymb2Expr())\n",
    "fileRHS.write(Abar2UU.AMReXSymb2Expr())\n",
    "fileRHS.write(AbarUU.AMReXSymb2Expr())"
   ]
  },
  {
   "cell_type": "code",
   "execution_count": 15,
   "metadata": {},
   "outputs": [],
   "source": [
    "alphaFunc = stVar('alpha')\n",
    "alphaFunc.expr = 1/(M1.symb/(2*rc1.symb)+M2.symb/(2*rc2.symb))"
   ]
  },
  {
   "cell_type": "code",
   "execution_count": 16,
   "metadata": {},
   "outputs": [
    {
     "data": {
      "text/plain": [
       "72"
      ]
     },
     "execution_count": 16,
     "metadata": {},
     "output_type": "execute_result"
    }
   ],
   "source": [
    "fileRHS.write(alphaFunc.AMReXSymb2Expr())"
   ]
  },
  {
   "cell_type": "code",
   "execution_count": 17,
   "metadata": {},
   "outputs": [],
   "source": [
    "beta = stVar('beta')\n",
    "\n",
    "for i in range(3):\n",
    "    for j in range(3):\n",
    "        beta.expr += 1/8*(alphaFunc.symb**7)*AbarUU.symb[i][j]*AbarUU.symb[i][j]"
   ]
  },
  {
   "cell_type": "code",
   "execution_count": 18,
   "metadata": {},
   "outputs": [
    {
     "data": {
      "text/plain": [
       "468"
      ]
     },
     "execution_count": 18,
     "metadata": {},
     "output_type": "execute_result"
    }
   ],
   "source": [
    "fileRHS.write(beta.AMReXSymb2Expr())"
   ]
  },
  {
   "cell_type": "code",
   "execution_count": 19,
   "metadata": {},
   "outputs": [],
   "source": [
    "RHS_u = stVar('u')\n",
    "\n",
    "RHS_u.expr = 0\n",
    "for i in range(3):\n",
    "    RHS_u.expr += Dsymb(u.symb,str(i)+str(i))\n",
    "    \n",
    "RHS_u.expr += beta.symb*(alphaFunc.symb*(1+u.symb)+1)**(-7)\n",
    "\n",
    "RHS_u.expr += Dsymb(u.symb,'KO')"
   ]
  },
  {
   "cell_type": "code",
   "execution_count": 20,
   "metadata": {},
   "outputs": [
    {
     "data": {
      "text/plain": [
       "103"
      ]
     },
     "execution_count": 20,
     "metadata": {},
     "output_type": "execute_result"
    }
   ],
   "source": [
    "fileRHS.write(RHS_u.AMReXSetRHS())"
   ]
  },
  {
   "cell_type": "code",
   "execution_count": 21,
   "metadata": {},
   "outputs": [],
   "source": [
    "fileRHS.write(stfw.Closer())\n",
    "fileRHS.close()"
   ]
  },
  {
   "cell_type": "markdown",
   "metadata": {},
   "source": [
    "# Diagnostics"
   ]
  },
  {
   "cell_type": "code",
   "execution_count": 22,
   "metadata": {},
   "outputs": [],
   "source": [
    "fileDIAG = open(path+\"ET_Integration_Diag_K.H\", \"w+\")"
   ]
  },
  {
   "cell_type": "code",
   "execution_count": 23,
   "metadata": {},
   "outputs": [
    {
     "data": {
      "text/plain": [
       "754"
      ]
     },
     "execution_count": 23,
     "metadata": {},
     "output_type": "execute_result"
    }
   ],
   "source": [
    "fileDIAG.write(stfw.Diag_Header())"
   ]
  },
  {
   "cell_type": "code",
   "execution_count": 24,
   "metadata": {},
   "outputs": [
    {
     "data": {
      "text/plain": [
       "53"
      ]
     },
     "execution_count": 24,
     "metadata": {},
     "output_type": "execute_result"
    }
   ],
   "source": [
    "fileDIAG.write(u.AMReXSymb2State())"
   ]
  },
  {
   "cell_type": "code",
   "execution_count": 25,
   "metadata": {},
   "outputs": [
    {
     "data": {
      "text/plain": [
       "108"
      ]
     },
     "execution_count": 25,
     "metadata": {},
     "output_type": "execute_result"
    }
   ],
   "source": [
    "fileDIAG.write(r.AMReXSymb2Expr())\n",
    "fileDIAG.write(c1.AMReXSymb2Expr())\n",
    "fileDIAG.write(c2.AMReXSymb2Expr())\n",
    "fileDIAG.write(M1.AMReXSymb2Expr())\n",
    "fileDIAG.write(M2.AMReXSymb2Expr())\n",
    "fileDIAG.write(P1.AMReXSymb2Expr())\n",
    "fileDIAG.write(P2.AMReXSymb2Expr())\n",
    "fileDIAG.write(S1.AMReXSymb2Expr())\n",
    "fileDIAG.write(S2.AMReXSymb2Expr())\n",
    "fileDIAG.write(xc1.AMReXSymb2Expr())\n",
    "fileDIAG.write(xc2.AMReXSymb2Expr())\n",
    "fileDIAG.write(rc1.AMReXSymb2Expr())\n",
    "fileDIAG.write(rc2.AMReXSymb2Expr())\n",
    "fileDIAG.write(n1.AMReXSymb2Expr())\n",
    "fileDIAG.write(n2.AMReXSymb2Expr())"
   ]
  },
  {
   "cell_type": "code",
   "execution_count": 26,
   "metadata": {},
   "outputs": [
    {
     "data": {
      "text/plain": [
       "486"
      ]
     },
     "execution_count": 26,
     "metadata": {},
     "output_type": "execute_result"
    }
   ],
   "source": [
    "fileDIAG.write(Abar1UU.AMReXSymb2Expr())\n",
    "fileDIAG.write(Abar2UU.AMReXSymb2Expr())\n",
    "fileDIAG.write(AbarUU.AMReXSymb2Expr())"
   ]
  },
  {
   "cell_type": "code",
   "execution_count": 27,
   "metadata": {},
   "outputs": [
    {
     "data": {
      "text/plain": [
       "72"
      ]
     },
     "execution_count": 27,
     "metadata": {},
     "output_type": "execute_result"
    }
   ],
   "source": [
    "fileDIAG.write(alphaFunc.AMReXSymb2Expr())"
   ]
  },
  {
   "cell_type": "code",
   "execution_count": 28,
   "metadata": {},
   "outputs": [],
   "source": [
    "psi = stVar('psi')\n",
    "psi.expr = 1+alphaFunc.symb**(-1)+u.symb"
   ]
  },
  {
   "cell_type": "code",
   "execution_count": 29,
   "metadata": {},
   "outputs": [
    {
     "data": {
      "text/plain": [
       "46"
      ]
     },
     "execution_count": 29,
     "metadata": {},
     "output_type": "execute_result"
    }
   ],
   "source": [
    "fileDIAG.write(psi.AMReXSymb2Expr())"
   ]
  },
  {
   "cell_type": "code",
   "execution_count": 30,
   "metadata": {},
   "outputs": [],
   "source": [
    "stVar.declDiag = []  #We want a list of declared variables that we will cycle through when we convert our RHS equations.\n",
    "chiDIAG = stVar('chi',diag = True) #Scalar variables like chi can be declared with stVar.\n",
    "alphaDIAG = stVar('alpha',diag = True)"
   ]
  },
  {
   "cell_type": "code",
   "execution_count": 31,
   "metadata": {},
   "outputs": [],
   "source": [
    "fileDIAGVARS = open(path+\"ET_Integration_Diagnostic_Variables.H\",\"w+\")\n",
    "fileDIAGVARS.write(stfw.VarString(stVar.declDiag))\n",
    "fileDIAGVARS.close()"
   ]
  },
  {
   "cell_type": "code",
   "execution_count": 32,
   "metadata": {},
   "outputs": [],
   "source": [
    "chiDIAG.expr = psi.symb**(-4)"
   ]
  },
  {
   "cell_type": "code",
   "execution_count": 33,
   "metadata": {},
   "outputs": [
    {
     "data": {
      "text/plain": [
       "55"
      ]
     },
     "execution_count": 33,
     "metadata": {},
     "output_type": "execute_result"
    }
   ],
   "source": [
    "fileDIAG.write(chiDIAG.AMReXSetDiag())"
   ]
  },
  {
   "cell_type": "code",
   "execution_count": 34,
   "metadata": {
    "scrolled": true
   },
   "outputs": [],
   "source": [
    "alphaDIAG.expr = psi.symb**(-2)"
   ]
  },
  {
   "cell_type": "code",
   "execution_count": 35,
   "metadata": {},
   "outputs": [
    {
     "data": {
      "text/plain": [
       "57"
      ]
     },
     "execution_count": 35,
     "metadata": {},
     "output_type": "execute_result"
    }
   ],
   "source": [
    "fileDIAG.write(alphaDIAG.AMReXSetDiag())"
   ]
  },
  {
   "cell_type": "code",
   "execution_count": 36,
   "metadata": {},
   "outputs": [],
   "source": [
    "fileDIAG.write(stfw.Closer())\n",
    "fileDIAG.close()"
   ]
  },
  {
   "cell_type": "markdown",
   "metadata": {},
   "source": [
    "# Setup file"
   ]
  },
  {
   "cell_type": "code",
   "execution_count": 37,
   "metadata": {},
   "outputs": [],
   "source": [
    "fileSETUP = open(path+\"ET_Integration_Setup_K.H\", \"w+\")\n",
    "fileSETUP.write(stfw.Write_Setup_File(stVar.declState, stVar.declInit, stVar.declDiag, nghostcells))\n",
    "fileSETUP.close()"
   ]
  },
  {
   "cell_type": "markdown",
   "metadata": {},
   "source": [
    "# Post updating"
   ]
  },
  {
   "cell_type": "code",
   "execution_count": 38,
   "metadata": {},
   "outputs": [],
   "source": [
    "filePOST = open(path+\"ET_Integration_Post_Update_K.H\", \"w+\")"
   ]
  },
  {
   "cell_type": "code",
   "execution_count": 39,
   "metadata": {},
   "outputs": [
    {
     "data": {
      "text/plain": [
       "708"
      ]
     },
     "execution_count": 39,
     "metadata": {},
     "output_type": "execute_result"
    }
   ],
   "source": [
    "filePOST.write(stfw.PostUpdate_Header())"
   ]
  },
  {
   "cell_type": "code",
   "execution_count": 40,
   "metadata": {},
   "outputs": [],
   "source": [
    "filePOST.write(stfw.Closer())\n",
    "filePOST.close()"
   ]
  },
  {
   "cell_type": "markdown",
   "metadata": {},
   "source": [
    "# Init file"
   ]
  },
  {
   "cell_type": "code",
   "execution_count": 41,
   "metadata": {},
   "outputs": [],
   "source": [
    "fileINIT = open(path+\"ET_Integration_Init_K.H\", \"w+\")"
   ]
  },
  {
   "cell_type": "code",
   "execution_count": 42,
   "metadata": {},
   "outputs": [
    {
     "data": {
      "text/plain": [
       "612"
      ]
     },
     "execution_count": 42,
     "metadata": {},
     "output_type": "execute_result"
    }
   ],
   "source": [
    "fileINIT.write(stfw.InitFromScratch_Header())"
   ]
  },
  {
   "cell_type": "code",
   "execution_count": 43,
   "metadata": {},
   "outputs": [],
   "source": [
    "uInit = stVar('u')\n",
    "uInit.expr = 0"
   ]
  },
  {
   "cell_type": "code",
   "execution_count": 44,
   "metadata": {},
   "outputs": [
    {
     "data": {
      "text/plain": [
       "41"
      ]
     },
     "execution_count": 44,
     "metadata": {},
     "output_type": "execute_result"
    }
   ],
   "source": [
    "fileINIT.write(uInit.AMReXSetState())"
   ]
  },
  {
   "cell_type": "code",
   "execution_count": 45,
   "metadata": {},
   "outputs": [],
   "source": [
    "fileINIT.write(stfw.Closer())\n",
    "fileINIT.close()"
   ]
  },
  {
   "cell_type": "markdown",
   "metadata": {},
   "source": [
    "# AMR tagging"
   ]
  },
  {
   "cell_type": "code",
   "execution_count": 46,
   "metadata": {},
   "outputs": [],
   "source": [
    "fileAMRTAG = open(path+\"ET_Integration_AMR_Cell_Tag_K.H\", \"w+\")"
   ]
  },
  {
   "cell_type": "code",
   "execution_count": 47,
   "metadata": {},
   "outputs": [
    {
     "data": {
      "text/plain": [
       "744"
      ]
     },
     "execution_count": 47,
     "metadata": {},
     "output_type": "execute_result"
    }
   ],
   "source": [
    "fileAMRTAG.write(stfw.AMRtagging_Header())"
   ]
  },
  {
   "cell_type": "code",
   "execution_count": 48,
   "metadata": {},
   "outputs": [
    {
     "data": {
      "text/plain": [
       "53"
      ]
     },
     "execution_count": 48,
     "metadata": {},
     "output_type": "execute_result"
    }
   ],
   "source": [
    "fileAMRTAG.write(u.AMReXSymb2State())"
   ]
  },
  {
   "cell_type": "code",
   "execution_count": 49,
   "metadata": {},
   "outputs": [
    {
     "data": {
      "text/plain": [
       "108"
      ]
     },
     "execution_count": 49,
     "metadata": {},
     "output_type": "execute_result"
    }
   ],
   "source": [
    "fileAMRTAG.write(r.AMReXSymb2Expr())\n",
    "fileAMRTAG.write(c1.AMReXSymb2Expr())\n",
    "fileAMRTAG.write(c2.AMReXSymb2Expr())\n",
    "fileAMRTAG.write(M1.AMReXSymb2Expr())\n",
    "fileAMRTAG.write(M2.AMReXSymb2Expr())\n",
    "fileAMRTAG.write(P1.AMReXSymb2Expr())\n",
    "fileAMRTAG.write(P2.AMReXSymb2Expr())\n",
    "fileAMRTAG.write(S1.AMReXSymb2Expr())\n",
    "fileAMRTAG.write(S2.AMReXSymb2Expr())\n",
    "fileAMRTAG.write(xc1.AMReXSymb2Expr())\n",
    "fileAMRTAG.write(xc2.AMReXSymb2Expr())\n",
    "fileAMRTAG.write(rc1.AMReXSymb2Expr())\n",
    "fileAMRTAG.write(rc2.AMReXSymb2Expr())\n",
    "fileAMRTAG.write(n1.AMReXSymb2Expr())\n",
    "fileAMRTAG.write(n2.AMReXSymb2Expr())"
   ]
  },
  {
   "cell_type": "code",
   "execution_count": 50,
   "metadata": {},
   "outputs": [
    {
     "data": {
      "text/plain": [
       "46"
      ]
     },
     "execution_count": 50,
     "metadata": {},
     "output_type": "execute_result"
    }
   ],
   "source": [
    "fileAMRTAG.write(alphaFunc.AMReXSymb2Expr())\n",
    "fileAMRTAG.write(psi.AMReXSymb2Expr())"
   ]
  },
  {
   "cell_type": "code",
   "execution_count": 51,
   "metadata": {},
   "outputs": [],
   "source": [
    "alphaAMRTAG = stVar('alphaTAG')"
   ]
  },
  {
   "cell_type": "code",
   "execution_count": 52,
   "metadata": {},
   "outputs": [],
   "source": [
    "alphaAMRTAG.expr = psi.symb**(-2)"
   ]
  },
  {
   "cell_type": "code",
   "execution_count": 53,
   "metadata": {},
   "outputs": [
    {
     "data": {
      "text/plain": [
       "51"
      ]
     },
     "execution_count": 53,
     "metadata": {},
     "output_type": "execute_result"
    }
   ],
   "source": [
    "fileAMRTAG.write(alphaAMRTAG.AMReXSymb2Expr())"
   ]
  },
  {
   "cell_type": "code",
   "execution_count": 54,
   "metadata": {},
   "outputs": [
    {
     "data": {
      "text/plain": [
       "43"
      ]
     },
     "execution_count": 54,
     "metadata": {},
     "output_type": "execute_result"
    }
   ],
   "source": [
    "fileAMRTAG.write(TagCondition(alphaAMRTAG, '<','symb'))"
   ]
  },
  {
   "cell_type": "code",
   "execution_count": 55,
   "metadata": {},
   "outputs": [],
   "source": [
    "fileAMRTAG.write(stfw.Closer())\n",
    "fileAMRTAG.close()"
   ]
  },
  {
   "cell_type": "markdown",
   "metadata": {},
   "source": [
    "# Gridding, Parameters, and Inputs"
   ]
  },
  {
   "cell_type": "code",
   "execution_count": 56,
   "metadata": {},
   "outputs": [],
   "source": [
    "import STvARInputs as sti"
   ]
  },
  {
   "cell_type": "code",
   "execution_count": 57,
   "metadata": {},
   "outputs": [],
   "source": [
    "pathInputs = \"../Exec/InitialDataSolver/\"\n",
    "INPUTS = open(pathInputs + \"inputs\", \"w+\")"
   ]
  },
  {
   "cell_type": "code",
   "execution_count": 58,
   "metadata": {},
   "outputs": [],
   "source": [
    "#STOPPING CRITERIA\n",
    "MAX_STEP = 200\n",
    "MAX_TIME = 100.0\n",
    "\n",
    "#Equation type (default hyperbolic) and Courant Factor.\n",
    "CFL = 0.005\n",
    "\n",
    "#Geometry\n",
    "NUM_COARSE_CELLS = [64, 64, 64]\n",
    "LOWER_BOUNDS = [-40.0, -40.0, -40.0]\n",
    "UPPER_BOUNDS = [40.0, 40.0, 40.0]\n",
    "PERIODICITY = [0, 0, 0]\n",
    "\n",
    "#AMR Refinement Parameters\n",
    "NUM_LEVELS = 6\n",
    "MAX_NUM_GRID_CELLS = 32\n",
    "REF_RATIO = 2\n",
    "NUM_BUFFER_CELLS = 1\n",
    "BLOCKING_FACTOR = 8\n",
    "REGRID_PERIOD = 2\n",
    "\n",
    "#Coarse/Fine boundary interpolation procedure\n",
    "INTERPOLATION_TYPE = 6\n",
    "\n",
    "#TAGGING_THRESHOLDS = [0.003, 0.005, 0.007, 0.009, 0.011]\n",
    "TAGGING_THRESHOLDS = [0.7, 0.6, 0.5, 0.4, 0.3]\n",
    "ERROR_COMP = 0\n",
    "\n",
    "#Problem specific Boundary Conditions\n",
    "BC_UPPER = [2, 2, 2]\n",
    "BC_LOWER = [2, 2, 2]\n",
    "\n",
    "#How often to plot states, plot diagnostics, and write checkpoint files\n",
    "PLOT_INT = 1\n",
    "DIAG_INT = 10\n",
    "CHECKPOINT_INT = 10\n",
    "\n",
    "#Restart file names\n",
    "RESTART_FILE = \"initial_data_chk\"\n",
    "IS_INITIAL_DATA = 1\n",
    "\n",
    "#Integration type.\n",
    "RUNGE_KUTTA_TYPE = 4"
   ]
  },
  {
   "cell_type": "code",
   "execution_count": 59,
   "metadata": {},
   "outputs": [
    {
     "data": {
      "text/plain": [
       "711"
      ]
     },
     "execution_count": 59,
     "metadata": {},
     "output_type": "execute_result"
    }
   ],
   "source": [
    "INPUTS.write(sti.StoppingCriteria(MAX_STEP, MAX_TIME))\n",
    "INPUTS.write(sti.Geometry(NUM_COARSE_CELLS, LOWER_BOUNDS, UPPER_BOUNDS, PERIODICITY))\n",
    "INPUTS.write(sti.AMRVerbosity())\n",
    "INPUTS.write(sti.RefinementPar(NUM_LEVELS, MAX_NUM_GRID_CELLS, REF_RATIO, NUM_BUFFER_CELLS, BLOCKING_FACTOR, REGRID_PERIOD))\n",
    "INPUTS.write(sti.Interpolation(INTERPOLATION_TYPE))\n",
    "INPUTS.write(sti.BoundaryConditions(BC_LOWER, BC_UPPER))\n",
    "INPUTS.write(sti.TaggingThresholds(TAGGING_THRESHOLDS, ERROR_COMP))\n",
    "INPUTS.write(sti.ProblemType(CFL))\n",
    "INPUTS.write(sti.PlottingCriteria(PLOT_INT, DIAG_INT, CHECKPOINT_INT))\n",
    "INPUTS.write(sti.IntegrationType(RUNGE_KUTTA_TYPE))"
   ]
  },
  {
   "cell_type": "code",
   "execution_count": 60,
   "metadata": {},
   "outputs": [],
   "source": [
    "INPUTS.close()"
   ]
  }
 ],
 "metadata": {
  "kernelspec": {
   "display_name": "Python 3",
   "language": "python",
   "name": "python3"
  },
  "language_info": {
   "codemirror_mode": {
    "name": "ipython",
    "version": 3
   },
   "file_extension": ".py",
   "mimetype": "text/x-python",
   "name": "python",
   "nbconvert_exporter": "python",
   "pygments_lexer": "ipython3",
   "version": "3.5.2"
  }
 },
 "nbformat": 4,
 "nbformat_minor": 2
}
