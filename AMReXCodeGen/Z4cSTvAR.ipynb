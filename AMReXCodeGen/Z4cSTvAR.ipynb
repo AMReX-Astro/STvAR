{
 "cells": [
  {
   "cell_type": "code",
   "execution_count": 1,
   "metadata": {},
   "outputs": [],
   "source": [
    "from STvAR import *\n",
    "import STvARFileWrite as stfw"
   ]
  },
  {
   "cell_type": "code",
   "execution_count": 2,
   "metadata": {},
   "outputs": [],
   "source": [
    "DiffOrder = 4\n",
    "nghostcells = 4\n",
    "KOsigma = 0.3\n",
    "DiffOrderUpDn = 4"
   ]
  },
  {
   "cell_type": "code",
   "execution_count": 3,
   "metadata": {},
   "outputs": [],
   "source": [
    "dim = 3\n",
    "path = \"../Source/Z4c/\""
   ]
  },
  {
   "cell_type": "markdown",
   "metadata": {},
   "source": [
    "# Generating RHS"
   ]
  },
  {
   "cell_type": "code",
   "execution_count": 4,
   "metadata": {},
   "outputs": [],
   "source": [
    "fileRHS = open(path+\"ET_Integration_Rhs_K.H\", \"w+\")"
   ]
  },
  {
   "cell_type": "code",
   "execution_count": 5,
   "metadata": {},
   "outputs": [
    {
     "data": {
      "text/plain": [
       "743"
      ]
     },
     "execution_count": 5,
     "metadata": {},
     "output_type": "execute_result"
    }
   ],
   "source": [
    "fileRHS.write(stfw.RHS_Header())"
   ]
  },
  {
   "cell_type": "code",
   "execution_count": 6,
   "metadata": {},
   "outputs": [],
   "source": [
    "stVar.declState = []  #We want a list of declared variables that we will cycle through when we convert our RHS equations.\n",
    "\n",
    "chi = stVar('chi', state = True) #Scalar variables like chi can be declared with stVar.\n",
    "gamtildeLL = stVarRank2('gamtildeLL', sym = 'sym01', state = True)  #gamtildeLL is rank 2, so it is declared with stVarRank2\n",
    "Khat = stVar('Khat', state = True)\n",
    "AtildeLL = stVarRank2('AtildeLL', sym = 'sym01', state = True)\n",
    "theta = stVar('theta', state = True)\n",
    "GamtildeU = stVarRank1('GamtildeU', state = True)\n",
    "\n",
    "alpha = stVar('alpha', state = True)\n",
    "betaU = stVarRank1('betaU', state = True)"
   ]
  },
  {
   "cell_type": "code",
   "execution_count": 7,
   "metadata": {},
   "outputs": [],
   "source": [
    "fileVARS = open(path+\"ET_Integration_Variables.H\",\"w+\")\n",
    "fileVARS.write(stfw.VarString(stVar.declState))\n",
    "fileVARS.close()"
   ]
  },
  {
   "cell_type": "code",
   "execution_count": 8,
   "metadata": {},
   "outputs": [
    {
     "data": {
      "text/plain": [
       "186"
      ]
     },
     "execution_count": 8,
     "metadata": {},
     "output_type": "execute_result"
    }
   ],
   "source": [
    "fileRHS.write(chi.AMReXSymb2State())\n",
    "fileRHS.write(gamtildeLL.AMReXSymb2State())\n",
    "fileRHS.write(Khat.AMReXSymb2State())\n",
    "fileRHS.write(AtildeLL.AMReXSymb2State())\n",
    "fileRHS.write(theta.AMReXSymb2State())\n",
    "fileRHS.write(GamtildeU.AMReXSymb2State())\n",
    "\n",
    "fileRHS.write(alpha.AMReXSymb2State())\n",
    "fileRHS.write(betaU.AMReXSymb2State())"
   ]
  },
  {
   "cell_type": "code",
   "execution_count": 9,
   "metadata": {},
   "outputs": [],
   "source": [
    "betaUp = stVarRank1('betaUp')\n",
    "betaDn = stVarRank1('betaDn')"
   ]
  },
  {
   "cell_type": "code",
   "execution_count": 10,
   "metadata": {},
   "outputs": [
    {
     "data": {
      "text/plain": [
       "830"
      ]
     },
     "execution_count": 10,
     "metadata": {},
     "output_type": "execute_result"
    }
   ],
   "source": [
    "betaString = \"\"\"\n",
    "        std::vector<amrex::Real> UpWind; UpWind.push_back(1); UpWind.push_back(0); \n",
    "        std::vector<amrex::Real> DnWind; DnWind.push_back(0); DnWind.push_back(1);\n",
    "\n",
    "        std::vector<amrex::Real> betaAdv0;\n",
    "        betaAdv0.resize(2);\n",
    "        \n",
    "        std::vector<amrex::Real> betaAdv1;\n",
    "        betaAdv1.resize(2);\n",
    "        \n",
    "        std::vector<amrex::Real> betaAdv2;\n",
    "        betaAdv2.resize(2);\n",
    "        \n",
    "        betaAdv0 = (betaU0 > 0) ? UpWind : DnWind;\n",
    "        betaAdv1 = (betaU1 > 0) ? UpWind : DnWind;\n",
    "        betaAdv2 = (betaU2 > 0) ? UpWind : DnWind;\n",
    "        \n",
    "        amrex::Real betaUp0 = betaAdv0[0];\n",
    "        amrex::Real betaDn0 = betaAdv0[1];\n",
    "        amrex::Real betaUp1 = betaAdv1[0];\n",
    "        amrex::Real betaDn1 = betaAdv1[1];\n",
    "        amrex::Real betaUp2 = betaAdv2[0];\n",
    "        amrex::Real betaDn2 = betaAdv2[1];\n",
    "\n",
    "\"\"\"\n",
    "fileRHS.write(betaString)"
   ]
  },
  {
   "cell_type": "code",
   "execution_count": 11,
   "metadata": {},
   "outputs": [],
   "source": [
    "if DiffOrderUpDn%2 == 0:\n",
    "    strUpCn = 'up'\n",
    "else:\n",
    "    strUpCn = 'cn'\n",
    "\n",
    "betaDchi = stVar('betaDchi')\n",
    "Dupchi = stVarRank1('Dupchi')\n",
    "Dupchi.expr = DstVar(chi, difftype = 1,CnUpDnRank1=strUpCn,orderD = DiffOrderUpDn).expr\n",
    "\n",
    "Ddnchi = stVarRank1('Ddnphi')\n",
    "Ddnchi.expr = DstVar(chi, difftype = 1,CnUpDnRank1='dn',orderD = DiffOrderUpDn).expr\n",
    "\n",
    "for k in range(3):\n",
    "    betaDchi.expr += betaU.symb[k]*(betaUp.symb[k]*Dupchi.symb[k]+betaDn.symb[k]*Ddnchi.symb[k])\n",
    "    \n",
    "betaDgamtildeLL = stVarRank2('betaDgamtildeLL')\n",
    "DupgamtildeLL = stVarRank3('DupgamtildeLL')\n",
    "DupgamtildeLL.expr = DstVarRank2(gamtildeLL,difftype = 1, CnUpDnRank1=strUpCn,orderD=DiffOrderUpDn).expr\n",
    "\n",
    "DdngamtildeLL = stVarRank3('DdngamtildeLL')\n",
    "DdngamtildeLL.expr = DstVarRank2(gamtildeLL,difftype = 1, CnUpDnRank1='dn',orderD=DiffOrderUpDn).expr\n",
    "\n",
    "for i in range(3):\n",
    "    for j in range(3):\n",
    "        for k in range(3):\n",
    "            betaDgamtildeLL.expr[i][j] += betaU.symb[k]*(betaUp.symb[k]*DupgamtildeLL.symb[i][j][k]+betaDn.symb[k]*DdngamtildeLL.symb[i][j][k])\n",
    "\n",
    "betaDKhat = stVar('betaDKhat')\n",
    "DupKhat = stVarRank1('DupKhat')\n",
    "DupKhat.expr = DstVar(Khat, difftype = 1,CnUpDnRank1=strUpCn,orderD = DiffOrderUpDn).expr\n",
    "\n",
    "DdnKhat = stVarRank1('DdnKhat')\n",
    "DdnKhat.expr = DstVar(Khat, difftype = 1,CnUpDnRank1='dn',orderD = DiffOrderUpDn).expr\n",
    "\n",
    "for k in range(3):\n",
    "    betaDKhat.expr += betaU.symb[k]*(betaUp.symb[k]*DupKhat.symb[k]+betaDn.symb[k]*DdnKhat.symb[k])\n",
    "    \n",
    "betaDAtildeLL = stVarRank2('betaDAtildeLL')\n",
    "DupAtildeLL = stVarRank3('DupAtildeLL')\n",
    "DupAtildeLL.expr = DstVarRank2(AtildeLL,difftype = 1, CnUpDnRank1=strUpCn,orderD=DiffOrderUpDn).expr\n",
    "\n",
    "DdnAtildeLL = stVarRank3('DdnAtildeLL')\n",
    "DdnAtildeLL.expr = DstVarRank2(AtildeLL,difftype = 1, CnUpDnRank1='dn',orderD=DiffOrderUpDn).expr\n",
    "\n",
    "for i in range(3):\n",
    "    for j in range(3):\n",
    "        for k in range(3):\n",
    "            betaDAtildeLL.expr[i][j] += betaU.symb[k]*(betaUp.symb[k]*DupAtildeLL.symb[i][j][k]+betaDn.symb[k]*DdnAtildeLL.symb[i][j][k])\n",
    "\n",
    "betaDtheta = stVar('betaDtheta')\n",
    "Duptheta = stVarRank1('Duptheta')\n",
    "Duptheta.expr = DstVar(theta, difftype = 1,CnUpDnRank1=strUpCn,orderD = DiffOrderUpDn).expr\n",
    "\n",
    "Ddntheta = stVarRank1('Ddntheta')\n",
    "Ddntheta.expr = DstVar(theta, difftype = 1,CnUpDnRank1='dn',orderD = DiffOrderUpDn).expr\n",
    "\n",
    "for k in range(3):\n",
    "    betaDtheta.expr += betaU.symb[k]*(betaUp.symb[k]*Duptheta.symb[k]+betaDn.symb[k]*Ddntheta.symb[k])\n",
    "    \n",
    "betaDGamtildeU = stVarRank1('betaDGamtildeU')\n",
    "DupGamtildeU = stVarRank2('DupGamtildeU')\n",
    "DupGamtildeU.expr = DstVarRank1(GamtildeU,difftype = 1, CnUpDnRank1=strUpCn,orderD=DiffOrderUpDn).expr\n",
    "\n",
    "DdnGamtildeU = stVarRank2('DdnGamtildeU')\n",
    "DdnGamtildeU.expr = DstVarRank1(GamtildeU,difftype = 1, CnUpDnRank1='dn',orderD=DiffOrderUpDn).expr\n",
    "\n",
    "for i in range(3):\n",
    "    for k in range(3):\n",
    "        betaDGamtildeU.expr[i] += betaU.symb[k]*(betaUp.symb[k]*DupGamtildeU.symb[i][k]+betaDn.symb[k]*DdnGamtildeU.symb[i][k])\n",
    "\n",
    "betaDalpha = stVar('betaDalpha')\n",
    "Dupalpha = stVarRank1('Dupalpha')\n",
    "Dupalpha.expr = DstVar(alpha, difftype = 1,CnUpDnRank1=strUpCn,orderD = DiffOrderUpDn).expr\n",
    "\n",
    "Ddnalpha = stVarRank1('Ddnalpha')\n",
    "Ddnalpha.expr = DstVar(alpha, difftype = 1,CnUpDnRank1='dn',orderD = DiffOrderUpDn).expr\n",
    "\n",
    "for k in range(3):\n",
    "    betaDalpha.expr += betaU.symb[k]*(betaUp.symb[k]*Dupalpha.symb[k]+betaDn.symb[k]*Ddnalpha.symb[k])\n",
    "    \n",
    "betaDbetaU = stVarRank1('betaDbetaU')\n",
    "DupbetaU = stVarRank2('DupbetaU')\n",
    "DupbetaU.expr = DstVarRank1(betaU,difftype = 1, CnUpDnRank1=strUpCn,orderD=DiffOrderUpDn).expr\n",
    "\n",
    "DdnbetaU = stVarRank2('DdnbetaU')\n",
    "DdnbetaU.expr = DstVarRank1(betaU,difftype = 1, CnUpDnRank1='dn',orderD=DiffOrderUpDn).expr\n",
    "\n",
    "for i in range(3):\n",
    "    for k in range(3):\n",
    "        betaDbetaU.expr[i] += betaU.symb[k]*(betaUp.symb[k]*DupbetaU.symb[i][k]+betaDn.symb[k]*DdnbetaU.symb[i][k])\n"
   ]
  },
  {
   "cell_type": "code",
   "execution_count": 12,
   "metadata": {},
   "outputs": [
    {
     "data": {
      "text/plain": [
       "558"
      ]
     },
     "execution_count": 12,
     "metadata": {},
     "output_type": "execute_result"
    }
   ],
   "source": [
    "fileRHS.write(Dupchi.AMReXSymb2Expr())\n",
    "fileRHS.write(Ddnchi.AMReXSymb2Expr())\n",
    "fileRHS.write(betaDchi.AMReXSymb2Expr())\n",
    "\n",
    "fileRHS.write(DupgamtildeLL.AMReXSymb2Expr())\n",
    "fileRHS.write(DdngamtildeLL.AMReXSymb2Expr())\n",
    "fileRHS.write(betaDgamtildeLL.AMReXSymb2Expr())\n",
    "\n",
    "fileRHS.write(DupKhat.AMReXSymb2Expr())\n",
    "fileRHS.write(DdnKhat.AMReXSymb2Expr())\n",
    "fileRHS.write(betaDKhat.AMReXSymb2Expr())\n",
    "\n",
    "fileRHS.write(DupAtildeLL.AMReXSymb2Expr())\n",
    "fileRHS.write(DdnAtildeLL.AMReXSymb2Expr())\n",
    "fileRHS.write(betaDAtildeLL.AMReXSymb2Expr())\n",
    "\n",
    "fileRHS.write(Duptheta.AMReXSymb2Expr())\n",
    "fileRHS.write(Ddntheta.AMReXSymb2Expr())\n",
    "fileRHS.write(betaDtheta.AMReXSymb2Expr())\n",
    "\n",
    "fileRHS.write(DupGamtildeU.AMReXSymb2Expr())\n",
    "fileRHS.write(DdnGamtildeU.AMReXSymb2Expr())\n",
    "fileRHS.write(betaDGamtildeU.AMReXSymb2Expr())\n",
    "\n",
    "fileRHS.write(Dupalpha.AMReXSymb2Expr())\n",
    "fileRHS.write(Ddnalpha.AMReXSymb2Expr())\n",
    "fileRHS.write(betaDalpha.AMReXSymb2Expr())\n",
    "\n",
    "fileRHS.write(DupbetaU.AMReXSymb2Expr())\n",
    "fileRHS.write(DdnbetaU.AMReXSymb2Expr())\n",
    "fileRHS.write(betaDbetaU.AMReXSymb2Expr())"
   ]
  },
  {
   "cell_type": "code",
   "execution_count": 13,
   "metadata": {},
   "outputs": [
    {
     "data": {
      "text/plain": [
       "2835"
      ]
     },
     "execution_count": 13,
     "metadata": {},
     "output_type": "execute_result"
    }
   ],
   "source": [
    "fileRHS.write(DstVar(chi, 1, orderD = DiffOrder).AMReXSymb2Expr())\n",
    "fileRHS.write(DstVar(chi, 2, orderD = DiffOrder).AMReXSymb2Expr())\n",
    "fileRHS.write(DstVar(chi, 'KO', orderD = DiffOrder, sigma = KOsigma).AMReXSymb2Expr())\n",
    "\n",
    "fileRHS.write(DstVarRank2(gamtildeLL,1,orderD = DiffOrder).AMReXSymb2Expr())\n",
    "fileRHS.write(DstVarRank2(gamtildeLL,2,orderD = DiffOrder).AMReXSymb2Expr())\n",
    "fileRHS.write(DstVarRank2(gamtildeLL, 'KO', orderD = DiffOrder, sigma = KOsigma).AMReXSymb2Expr())\n",
    "\n",
    "fileRHS.write(DstVar(Khat,1,orderD = DiffOrder).AMReXSymb2Expr())\n",
    "fileRHS.write(DstVar(Khat, 'KO', sigma = KOsigma,orderD = DiffOrder).AMReXSymb2Expr())\n",
    "\n",
    "fileRHS.write(DstVarRank2(AtildeLL,1, orderD = DiffOrder).AMReXSymb2Expr())\n",
    "fileRHS.write(DstVarRank2(AtildeLL, 'KO', sigma = KOsigma, orderD = DiffOrder).AMReXSymb2Expr())\n",
    "\n",
    "fileRHS.write(DstVar(theta,1, orderD = DiffOrder).AMReXSymb2Expr())\n",
    "fileRHS.write(DstVar(theta, 'KO', sigma = KOsigma, orderD = DiffOrder).AMReXSymb2Expr())\n",
    "\n",
    "fileRHS.write(DstVarRank1(GamtildeU, 1, orderD = DiffOrder).AMReXSymb2Expr())\n",
    "fileRHS.write(DstVarRank1(GamtildeU, 'KO', sigma = KOsigma, orderD = DiffOrder).AMReXSymb2Expr())\n",
    "\n",
    "fileRHS.write(DstVar(alpha, 1, orderD = DiffOrder).AMReXSymb2Expr())\n",
    "fileRHS.write(DstVar(alpha, 2, orderD = DiffOrder).AMReXSymb2Expr())\n",
    "fileRHS.write(DstVar(alpha, 'KO', sigma = KOsigma, orderD = DiffOrder).AMReXSymb2Expr())\n",
    "\n",
    "fileRHS.write(DstVarRank1(betaU, 1, orderD = DiffOrder).AMReXSymb2Expr())\n",
    "fileRHS.write(DstVarRank1(betaU, 2, orderD = DiffOrder).AMReXSymb2Expr())\n",
    "fileRHS.write(DstVarRank1(betaU, 'KO', sigma = KOsigma, orderD = DiffOrder).AMReXSymb2Expr())"
   ]
  },
  {
   "cell_type": "code",
   "execution_count": 14,
   "metadata": {},
   "outputs": [],
   "source": [
    "gamtildeUU = stVarRank2('gamtildeUU')\n",
    "for i in range(dim):\n",
    "    for j in range(dim):\n",
    "         gamtildeUU.expr[i][j] += sp.simplify(sp.Matrix(gamtildeLL.symb).inv()[i,j])"
   ]
  },
  {
   "cell_type": "code",
   "execution_count": 15,
   "metadata": {},
   "outputs": [
    {
     "data": {
      "text/plain": [
       "3026"
      ]
     },
     "execution_count": 15,
     "metadata": {},
     "output_type": "execute_result"
    }
   ],
   "source": [
    "fileRHS.write(gamtildeUU.AMReXSymb2Expr())"
   ]
  },
  {
   "cell_type": "code",
   "execution_count": 16,
   "metadata": {},
   "outputs": [],
   "source": [
    "DgamtildeLLL = stVarRank3('DgambarLLL')\n",
    "GamtildeULL = stVarRank3('GamtildeULL')\n",
    "GamtildeLLL = stVarRank3('GamtildeLLL')\n",
    "GamULL = stVarRank3('GamULL')\n",
    "\n",
    "for i in range(dim):\n",
    "    for j in range(dim):\n",
    "        for k in range(dim):\n",
    "            DgamtildeLLL.expr[i][j][k] = Dsymb(gamtildeLL.symb[i][j],k)\n",
    "            \n",
    "for i in range(dim):\n",
    "    for j in range(dim):\n",
    "        for k in range(dim):\n",
    "            for l in range(dim):\n",
    "                GamtildeULL.expr[i][j][k] += 1/2*gamtildeUU.symb[i][l]*(DgamtildeLLL.symb[l][j][k]+DgamtildeLLL.symb[l][k][j]-DgamtildeLLL.symb[j][k][l])\n",
    "                \n",
    "for i in range(dim):\n",
    "    for j in range(dim):\n",
    "        for k in range(dim):\n",
    "            for l in range(dim):\n",
    "                GamtildeLLL.expr[i][j][k] += gamtildeLL.symb[i][l]*GamtildeULL.symb[l][j][k]\n",
    "                \n",
    "for i in range(dim):\n",
    "    for j in range(dim):\n",
    "        for k in range(dim):\n",
    "            GamULL.expr[i][j][k] += GamtildeULL.symb[i][j][k] - 1/2*((sp.eye(3)[i,j]/chi.symb)*Dsymb(chi.symb,k)+(sp.eye(3)[i,k]/chi.symb)*Dsymb(chi.symb,j))\n",
    "            for l in range(3):\n",
    "                GamULL.expr[i][j][k] += 1/2*gamtildeLL.symb[j][k]*gamtildeUU.symb[i][l]*Dsymb(chi.symb,l)/chi.symb\n"
   ]
  },
  {
   "cell_type": "code",
   "execution_count": 17,
   "metadata": {},
   "outputs": [
    {
     "data": {
      "text/plain": [
       "4938"
      ]
     },
     "execution_count": 17,
     "metadata": {},
     "output_type": "execute_result"
    }
   ],
   "source": [
    "fileRHS.write(DgamtildeLLL.AMReXSymb2Expr())\n",
    "fileRHS.write(GamtildeULL.AMReXSymb2Expr())\n",
    "fileRHS.write(GamtildeLLL.AMReXSymb2Expr())\n",
    "fileRHS.write(GamULL.AMReXSymb2Expr())"
   ]
  },
  {
   "cell_type": "code",
   "execution_count": 18,
   "metadata": {},
   "outputs": [],
   "source": [
    "DDalphaLL = stVarRank2('DDalphaLL')\n",
    "for i in range(3):\n",
    "    for j in range(3):\n",
    "        DDalphaLL.expr[i][j] += Ds(alpha,str(i)+str(j))\n",
    "        for k in range(3):\n",
    "            DDalphaLL.expr[i][j] += -GamULL.symb[k][i][j]*Ds(alpha,str(k))"
   ]
  },
  {
   "cell_type": "code",
   "execution_count": 19,
   "metadata": {},
   "outputs": [
    {
     "data": {
      "text/plain": [
       "954"
      ]
     },
     "execution_count": 19,
     "metadata": {},
     "output_type": "execute_result"
    }
   ],
   "source": [
    "fileRHS.write(DDalphaLL.AMReXSymb2Expr())"
   ]
  },
  {
   "cell_type": "code",
   "execution_count": 20,
   "metadata": {},
   "outputs": [],
   "source": [
    "gamLL = stVarRank2('gamLL')\n",
    "for i in range(3):\n",
    "    for j in range(3):\n",
    "        gamLL.expr[i][j] = (chi.symb**(-1))*gamtildeLL.symb[i][j]\n",
    "        \n",
    "gamUU = stVarRank2('gamUU')\n",
    "for i in range(3):\n",
    "    for j in range(3):\n",
    "        gamUU.expr[i][j] = chi.symb*gamtildeUU.symb[i][j]"
   ]
  },
  {
   "cell_type": "code",
   "execution_count": 21,
   "metadata": {},
   "outputs": [
    {
     "data": {
      "text/plain": [
       "432"
      ]
     },
     "execution_count": 21,
     "metadata": {},
     "output_type": "execute_result"
    }
   ],
   "source": [
    "fileRHS.write(gamLL.AMReXSymb2Expr())\n",
    "fileRHS.write(gamUU.AMReXSymb2Expr())"
   ]
  },
  {
   "cell_type": "code",
   "execution_count": 22,
   "metadata": {},
   "outputs": [],
   "source": [
    "AtildeUU = stVarRank2('AtildeUU')\n",
    "for i in range(3):\n",
    "    for j in range(3):\n",
    "        for k in range(3):\n",
    "            for l in range(3):\n",
    "                AtildeUU.expr[i][j] += gamtildeUU.symb[i][k]*gamtildeUU.symb[j][l]*AtildeLL.symb[k][l]\n",
    "                \n",
    "AtildeUL = stVarRank2('AtildeUL')\n",
    "for i in range(3):\n",
    "    for j in range(3):\n",
    "        for k in range(3):\n",
    "            AtildeUL.expr[i][j] += gamtildeUU.symb[i][k]*AtildeLL.symb[k][j]"
   ]
  },
  {
   "cell_type": "code",
   "execution_count": 23,
   "metadata": {},
   "outputs": [
    {
     "data": {
      "text/plain": [
       "990"
      ]
     },
     "execution_count": 23,
     "metadata": {},
     "output_type": "execute_result"
    }
   ],
   "source": [
    "fileRHS.write(AtildeUU.AMReXSymb2Expr())\n",
    "fileRHS.write(AtildeUL.AMReXSymb2Expr())"
   ]
  },
  {
   "cell_type": "code",
   "execution_count": 24,
   "metadata": {},
   "outputs": [],
   "source": [
    "DDalphaTFLL=stVarRank2('DDalphaTFLL')\n",
    "\n",
    "for i in range(3):\n",
    "    for j in range(3):\n",
    "        DDalphaTFLL.expr[i][j] += DDalphaLL.symb[i][j]\n",
    "        for k in range(3):\n",
    "            for l in range(3):\n",
    "                DDalphaTFLL.expr[i][j] += -1/3*gamLL.symb[i][j]*(gamUU.symb[k][l]*DDalphaLL.symb[k][l])"
   ]
  },
  {
   "cell_type": "code",
   "execution_count": 25,
   "metadata": {},
   "outputs": [
    {
     "data": {
      "text/plain": [
       "4500"
      ]
     },
     "execution_count": 25,
     "metadata": {},
     "output_type": "execute_result"
    }
   ],
   "source": [
    "fileRHS.write(DDalphaTFLL.AMReXSymb2Expr())"
   ]
  },
  {
   "cell_type": "code",
   "execution_count": 26,
   "metadata": {},
   "outputs": [],
   "source": [
    "GamtildeDU = stVarRank1('GamtildeDU')\n",
    "for i in range(dim):\n",
    "    for j in range(dim):\n",
    "        for k in range(dim):\n",
    "            GamtildeDU.expr[i] += GamtildeULL.symb[i][j][k]*gamtildeUU.symb[j][k] "
   ]
  },
  {
   "cell_type": "code",
   "execution_count": 27,
   "metadata": {},
   "outputs": [
    {
     "data": {
      "text/plain": [
       "909"
      ]
     },
     "execution_count": 27,
     "metadata": {},
     "output_type": "execute_result"
    }
   ],
   "source": [
    "fileRHS.write(GamtildeDU.AMReXSymb2Expr())"
   ]
  },
  {
   "cell_type": "code",
   "execution_count": 28,
   "metadata": {},
   "outputs": [],
   "source": [
    "RtildeLL = stVarRank2('RtildeLL')\n",
    "\n",
    "for i in range(3):\n",
    "    for j in range(3):\n",
    "        for l in range(3):\n",
    "            for m in range(3):\n",
    "                RtildeLL.expr[i][j] += -1/2*gamtildeUU.symb[l][m]*Dsymb(gamtildeLL.symb[i][j],str(l)+str(m))\n",
    "        for k in range(3):\n",
    "            RtildeLL.expr[i][j] += 1/2*(gamtildeLL.symb[k][i]*Dsymb(GamtildeU.symb[k],str(j))+gamtildeLL.symb[k][j]*Dsymb(GamtildeU.symb[k],str(i)))\n",
    "            RtildeLL.expr[i][j] += 1/2*(GamtildeDU.symb[k]*GamtildeLLL.symb[i][j][k]+GamtildeDU.symb[k]*GamtildeLLL.symb[j][i][k])\n",
    "            \n",
    "for i in range(3):\n",
    "    for j in range(3):\n",
    "        for k in range(3):\n",
    "            for l in range(3):\n",
    "                for m in range(3):\n",
    "                    RtildeLL.expr[i][j] += gamtildeUU.symb[l][m]*(GamtildeULL.symb[k][l][i]*GamtildeLLL.symb[j][k][m]+GamtildeULL.symb[k][l][j]*GamtildeLLL.symb[i][k][m])\n",
    "                    RtildeLL.expr[i][j] += gamtildeUU.symb[l][m]*GamtildeULL.symb[k][i][m]*GamtildeLLL.symb[k][l][j]"
   ]
  },
  {
   "cell_type": "code",
   "execution_count": 29,
   "metadata": {},
   "outputs": [
    {
     "data": {
      "text/plain": [
       "33534"
      ]
     },
     "execution_count": 29,
     "metadata": {},
     "output_type": "execute_result"
    }
   ],
   "source": [
    "fileRHS.write(RtildeLL.AMReXSymb2Expr())"
   ]
  },
  {
   "cell_type": "code",
   "execution_count": 30,
   "metadata": {},
   "outputs": [],
   "source": [
    "DtildeDtildechiLL = stVarRank2('DtildeDtildechiLL')\n",
    "for i in range(3):\n",
    "    for j in range(3):\n",
    "        DtildeDtildechiLL.expr[i][j] += Dsymb(chi.symb,str(i)+str(j))\n",
    "        for k in range(3):\n",
    "            DtildeDtildechiLL.expr[i][j] += -GamtildeULL.symb[k][i][j]*Dsymb(chi.symb,k)\n",
    "            \n",
    "TrDtildeDtildechi = stVar('TrDtildeDtildechi')\n",
    "for i in range(3):\n",
    "    for j in range(3):\n",
    "        TrDtildeDtildechi.expr += gamtildeUU.symb[i][j]*DtildeDtildechiLL.symb[i][j]"
   ]
  },
  {
   "cell_type": "code",
   "execution_count": 31,
   "metadata": {},
   "outputs": [
    {
     "data": {
      "text/plain": [
       "355"
      ]
     },
     "execution_count": 31,
     "metadata": {},
     "output_type": "execute_result"
    }
   ],
   "source": [
    "fileRHS.write(DtildeDtildechiLL.AMReXSymb2Expr())\n",
    "fileRHS.write(TrDtildeDtildechi.AMReXSymb2Expr())"
   ]
  },
  {
   "cell_type": "code",
   "execution_count": 32,
   "metadata": {},
   "outputs": [],
   "source": [
    "RchiLL = stVarRank2('RchiLL')            \n",
    "for i in range(3):\n",
    "    for j in range(3):\n",
    "        RchiLL.expr[i][j] += 1/2*(chi.symb**(-1))*(DtildeDtildechiLL.symb[i][j]+gamtildeLL.symb[i][j]*TrDtildeDtildechi.symb)\n",
    "        RchiLL.expr[i][j] += -1/4*(chi.symb**(-2))*Dsymb(chi.symb,str(i))*Dsymb(chi.symb,str(j))\n",
    "        for l in range(3):\n",
    "            for m in range(3):\n",
    "                RchiLL.expr[i][j] += -3/4*(chi.symb**(-2))*gamtildeLL.symb[i][j]*gamtildeUU.symb[l][m]*Dsymb(chi.symb,str(m))*Dsymb(chi.symb,str(l))\n",
    "        "
   ]
  },
  {
   "cell_type": "code",
   "execution_count": 33,
   "metadata": {},
   "outputs": [
    {
     "data": {
      "text/plain": [
       "6411"
      ]
     },
     "execution_count": 33,
     "metadata": {},
     "output_type": "execute_result"
    }
   ],
   "source": [
    "fileRHS.write(RchiLL.AMReXSymb2Expr())"
   ]
  },
  {
   "cell_type": "code",
   "execution_count": 34,
   "metadata": {},
   "outputs": [],
   "source": [
    "RLL = stVarRank2('RLL')\n",
    "for i in range(3):\n",
    "    for j in range(3):\n",
    "        RLL.expr[i][j] += RtildeLL.symb[i][j]+RchiLL.symb[i][j]"
   ]
  },
  {
   "cell_type": "code",
   "execution_count": 35,
   "metadata": {},
   "outputs": [
    {
     "data": {
      "text/plain": [
       "459"
      ]
     },
     "execution_count": 35,
     "metadata": {},
     "output_type": "execute_result"
    }
   ],
   "source": [
    "fileRHS.write(RLL.AMReXSymb2Expr())"
   ]
  },
  {
   "cell_type": "code",
   "execution_count": 36,
   "metadata": {},
   "outputs": [],
   "source": [
    "Rsclr = stVar('Rsclr')\n",
    "for i in range(3):\n",
    "    for j in range(3):\n",
    "        Rsclr.expr += gamUU.symb[i][j]*RLL.symb[i][j] "
   ]
  },
  {
   "cell_type": "code",
   "execution_count": 37,
   "metadata": {},
   "outputs": [
    {
     "data": {
      "text/plain": [
       "172"
      ]
     },
     "execution_count": 37,
     "metadata": {},
     "output_type": "execute_result"
    }
   ],
   "source": [
    "fileRHS.write(Rsclr.AMReXSymb2Expr())"
   ]
  },
  {
   "cell_type": "code",
   "execution_count": 38,
   "metadata": {},
   "outputs": [],
   "source": [
    "RTFLL = stVarRank2('RTFLL')\n",
    "for i in range(3):\n",
    "    for j in range(3):\n",
    "        RTFLL.expr[i][j] = RLL.symb[i][j]-1/3*gamLL.symb[i][j]*Rsclr.symb"
   ]
  },
  {
   "cell_type": "code",
   "execution_count": 39,
   "metadata": {},
   "outputs": [
    {
     "data": {
      "text/plain": [
       "657"
      ]
     },
     "execution_count": 39,
     "metadata": {},
     "output_type": "execute_result"
    }
   ],
   "source": [
    "fileRHS.write(RTFLL.AMReXSymb2Expr())"
   ]
  },
  {
   "cell_type": "code",
   "execution_count": 40,
   "metadata": {},
   "outputs": [],
   "source": [
    "divTildebeta = stVar('divTildebeta')\n",
    "for i in range(3):\n",
    "    divTildebeta.expr += Dsymb(betaU.symb[i],str(i))\n",
    "    for k in range(3):\n",
    "        divTildebeta.expr += GamtildeULL.symb[i][i][k]*betaU.symb[k]"
   ]
  },
  {
   "cell_type": "code",
   "execution_count": 41,
   "metadata": {},
   "outputs": [
    {
     "data": {
      "text/plain": [
       "284"
      ]
     },
     "execution_count": 41,
     "metadata": {},
     "output_type": "execute_result"
    }
   ],
   "source": [
    "fileRHS.write(divTildebeta.AMReXSymb2Expr())"
   ]
  },
  {
   "cell_type": "code",
   "execution_count": 42,
   "metadata": {},
   "outputs": [],
   "source": [
    "RHS_chi = stVar('chi')\n",
    "\n",
    "RHS_chi.expr = 2.0/3*chi.symb*(alpha.symb*(Khat.symb+2*theta.symb)-divTildebeta.symb)\n",
    "RHS_chi.expr += betaDchi.symb     \n",
    "RHS_chi.expr += Dsymb(chi.symb,'KO')"
   ]
  },
  {
   "cell_type": "code",
   "execution_count": 43,
   "metadata": {},
   "outputs": [
    {
     "data": {
      "text/plain": [
       "122"
      ]
     },
     "execution_count": 43,
     "metadata": {},
     "output_type": "execute_result"
    }
   ],
   "source": [
    "fileRHS.write(RHS_chi.AMReXSetRHS())"
   ]
  },
  {
   "cell_type": "code",
   "execution_count": 44,
   "metadata": {},
   "outputs": [],
   "source": [
    "RHS_gamtildeLL = stVarRank2('gamtildeLL',sym = 'sym01')\n",
    "\n",
    "for i in range(3):\n",
    "    for j in range(3):\n",
    "        RHS_gamtildeLL.expr[i][j] += -2*alpha.symb*AtildeLL.symb[i][j]\n",
    "        RHS_gamtildeLL.expr[i][j] += betaDgamtildeLL.symb[i][j]\n",
    "        for k in range(3):\n",
    "            RHS_gamtildeLL.expr[i][j] += gamtildeLL.symb[k][i]*Dsymb(betaU.symb[k],str(j))+gamtildeLL.symb[k][j]*Dsymb(betaU.symb[k],str(i))\n",
    "            RHS_gamtildeLL.expr[i][j] += -2/3*gamtildeLL.symb[i][j]*Dsymb(betaU.symb[k],str(k))\n",
    "            \n",
    "for i in range(3):\n",
    "    for j in range(3):\n",
    "        RHS_gamtildeLL.expr[i][j] += Dsymb(gamtildeLL.symb[i][j],'KO')"
   ]
  },
  {
   "cell_type": "code",
   "execution_count": 45,
   "metadata": {},
   "outputs": [
    {
     "data": {
      "text/plain": [
       "1935"
      ]
     },
     "execution_count": 45,
     "metadata": {},
     "output_type": "execute_result"
    }
   ],
   "source": [
    "fileRHS.write(RHS_gamtildeLL.AMReXSetRHS())"
   ]
  },
  {
   "cell_type": "code",
   "execution_count": 46,
   "metadata": {},
   "outputs": [],
   "source": [
    "kappa1 = stVar('kappa1')\n",
    "kappa2 = stVar('kappa2')\n",
    "\n",
    "kappa1.expr = 0.02\n",
    "kappa2.expr = 0\n",
    "\n",
    "RHS_Khat = stVar('Khat')\n",
    "for i in range(3):\n",
    "    for j in range(3):\n",
    "        RHS_Khat.expr += -gamUU.symb[i][j]*DDalphaLL.symb[j][i]+alpha.symb*AtildeLL.symb[i][j]*AtildeUU.symb[i][j]\n",
    "\n",
    "RHS_Khat.expr += betaDKhat.symb\n",
    "RHS_Khat.expr += 1/3*alpha.symb*((Khat.symb+2*theta.symb)**2+3*kappa1.symb*(1-kappa2.symb)*theta.symb)\n",
    "RHS_Khat.expr += Dsymb(Khat.symb,'KO')"
   ]
  },
  {
   "cell_type": "code",
   "execution_count": 47,
   "metadata": {},
   "outputs": [
    {
     "data": {
      "text/plain": [
       "615"
      ]
     },
     "execution_count": 47,
     "metadata": {},
     "output_type": "execute_result"
    }
   ],
   "source": [
    "fileRHS.write(kappa1.AMReXSymb2Expr())\n",
    "fileRHS.write(kappa2.AMReXSymb2Expr())\n",
    "fileRHS.write(RHS_Khat.AMReXSetRHS())"
   ]
  },
  {
   "cell_type": "code",
   "execution_count": 48,
   "metadata": {},
   "outputs": [],
   "source": [
    "RHS_AtildeLL = stVarRank2('AtildeLL', sym = 'sym01')\n",
    "\n",
    "for i in range(3):\n",
    "    for j in range(3):\n",
    "        RHS_AtildeLL.expr[i][j] += chi.symb*(-DDalphaTFLL.symb[i][j]+alpha.symb*RTFLL.symb[i][j])+alpha.symb*(Khat.symb+2*theta.symb)*AtildeLL.symb[i][j]\n",
    "        RHS_AtildeLL.expr[i][j] += betaDAtildeLL.symb[i][j]\n",
    "        for k in range(3):\n",
    "            RHS_AtildeLL.expr[i][j] += -2*alpha.symb*AtildeLL.symb[i][k]*AtildeUL.symb[k][j]\n",
    "            RHS_AtildeLL.expr[i][j] += AtildeLL.symb[k][i]*Dsymb(betaU.symb[k],str(j))+AtildeLL.symb[k][j]*Dsymb(betaU.symb[k],str(i))-2/3*AtildeLL.symb[i][j]*Dsymb(betaU.symb[k],str(k))\n",
    "            \n",
    "for i in range(3):\n",
    "    for j in range(3):\n",
    "        RHS_AtildeLL.expr[i][j] += Dsymb(AtildeLL.symb[i][j],'KO')"
   ]
  },
  {
   "cell_type": "code",
   "execution_count": 49,
   "metadata": {},
   "outputs": [
    {
     "data": {
      "text/plain": [
       "2718"
      ]
     },
     "execution_count": 49,
     "metadata": {},
     "output_type": "execute_result"
    }
   ],
   "source": [
    "fileRHS.write(RHS_AtildeLL.AMReXSetRHS())"
   ]
  },
  {
   "cell_type": "code",
   "execution_count": 50,
   "metadata": {},
   "outputs": [],
   "source": [
    "RHS_theta = stVar('theta')\n",
    "\n",
    "RHS_theta.expr = 1/2*alpha.symb*(Rsclr.symb + 2/3*(Khat.symb+2*theta.symb)**2 - 2*kappa1.symb*(2+kappa2.symb)*theta.symb)\n",
    "RHS_theta.expr += betaDtheta.symb\n",
    "for i in range(3):\n",
    "    for j in range(3):\n",
    "        RHS_theta.expr += -1/2*alpha.symb*AtildeLL.symb[i][j]*AtildeUU.symb[i][j]\n",
    "\n",
    "RHS_theta.expr += Dsymb(theta.symb,'KO')"
   ]
  },
  {
   "cell_type": "code",
   "execution_count": 51,
   "metadata": {},
   "outputs": [
    {
     "data": {
      "text/plain": [
       "469"
      ]
     },
     "execution_count": 51,
     "metadata": {},
     "output_type": "execute_result"
    }
   ],
   "source": [
    "fileRHS.write(RHS_theta.AMReXSetRHS())"
   ]
  },
  {
   "cell_type": "code",
   "execution_count": 52,
   "metadata": {},
   "outputs": [],
   "source": [
    "RHS_GamtildeU = stVarRank1('GamtildeU')\n",
    "\n",
    "for i in range(3):\n",
    "    RHS_GamtildeU.expr[i] += betaDGamtildeU.symb[i]\n",
    "    for j in range(3):\n",
    "        RHS_GamtildeU.expr[i] += -2*AtildeUU.symb[i][j]*Dsymb(alpha.symb,str(j))+2*alpha.symb*(-1/3*gamtildeUU.symb[i][j]*(2*Dsymb(Khat.symb,str(j))+Dsymb(theta.symb,str(j)))-3/2*AtildeUU.symb[i][j]*Dsymb(chi.symb,str(j))/chi.symb)\n",
    "        RHS_GamtildeU.expr[i] += -GamtildeDU.symb[j]*Dsymb(betaU.symb[i],str(j))+2/3*GamtildeDU.symb[i]*Dsymb(betaU.symb[j],str(j))\n",
    "        for k in range(3):\n",
    "            RHS_GamtildeU.expr[i] += 2*alpha.symb*GamtildeULL.symb[i][j][k]*AtildeUU.symb[j][k]\n",
    "            RHS_GamtildeU.expr[i] += 1/3*gamtildeUU.symb[i][j]*Dsymb(betaU.symb[k],str(j)+str(k))+gamtildeUU.symb[j][k]*Dsymb(betaU.symb[i],str(j)+str(k))\n",
    "            \n",
    "for i in range(3):\n",
    "    RHS_GamtildeU.expr[i] += -2*alpha.symb*kappa1.symb*(GamtildeU.symb[i]-GamtildeDU.symb[i])\n",
    "for i in range(3):\n",
    "    RHS_GamtildeU.expr[i] += Dsymb(GamtildeU.symb[i],'KO')"
   ]
  },
  {
   "cell_type": "code",
   "execution_count": 163,
   "metadata": {},
   "outputs": [
    {
     "name": "stdout",
     "output_type": "stream",
     "text": [
      "        rhs_fab(i, j, k, Idx::GamtildeU0) = 2*AtildeUU00*GamtildeULL000*alpha - 2*AtildeUU00*dalpha0 + 2*AtildeUU01*GamtildeULL001*alpha - 2*AtildeUU01*dalpha1 + 2*AtildeUU02*GamtildeULL002*alpha - 2*AtildeUU02*dalpha2 + 2*AtildeUU10*GamtildeULL010*alpha + 2*AtildeUU11*GamtildeULL011*alpha + 2*AtildeUU12*GamtildeULL012*alpha + 2*AtildeUU20*GamtildeULL020*alpha + 2*AtildeUU21*GamtildeULL021*alpha + 2*AtildeUU22*GamtildeULL022*alpha - 0.33333333333333337*GamtildeDU0*dbetaU00 + 0.66666666666666663*GamtildeDU0*dbetaU11 + 0.66666666666666663*GamtildeDU0*dbetaU22 - GamtildeDU1*dbetaU01 - GamtildeDU2*dbetaU02 + KOGamtildeU0 - 2*alpha*kappa1*(-GamtildeDU0 + GamtildeU0) + 2*alpha*(-1.5*AtildeUU00*dchi0/chi - 0.33333333333333331*gamtildeUU00*(2*dKhat0 + dtheta0)) + 2*alpha*(-1.5*AtildeUU01*dchi1/chi - 0.33333333333333331*gamtildeUU01*(2*dKhat1 + dtheta1)) + 2*alpha*(-1.5*AtildeUU02*dchi2/chi - 0.33333333333333331*gamtildeUU02*(2*dKhat2 + dtheta2)) + betaDGamtildeU0 + 1.3333333333333333*ddbetaU000*gamtildeUU00 + ddbetaU001*gamtildeUU01 + ddbetaU002*gamtildeUU02 + 0.33333333333333331*ddbetaU010*gamtildeUU01 + ddbetaU010*gamtildeUU10 + ddbetaU011*gamtildeUU11 + ddbetaU012*gamtildeUU12 + 0.33333333333333331*ddbetaU020*gamtildeUU02 + ddbetaU020*gamtildeUU20 + ddbetaU021*gamtildeUU21 + ddbetaU022*gamtildeUU22 + 0.33333333333333331*ddbetaU101*gamtildeUU00 + 0.33333333333333331*ddbetaU111*gamtildeUU01 + 0.33333333333333331*ddbetaU121*gamtildeUU02 + 0.33333333333333331*ddbetaU202*gamtildeUU00 + 0.33333333333333331*ddbetaU212*gamtildeUU01 + 0.33333333333333331*ddbetaU222*gamtildeUU02;\n",
      "\n",
      "        rhs_fab(i, j, k, Idx::GamtildeU1) = 2*AtildeUU00*GamtildeULL100*alpha + 2*AtildeUU01*GamtildeULL101*alpha + 2*AtildeUU02*GamtildeULL102*alpha + 2*AtildeUU10*GamtildeULL110*alpha - 2*AtildeUU10*dalpha0 + 2*AtildeUU11*GamtildeULL111*alpha - 2*AtildeUU11*dalpha1 + 2*AtildeUU12*GamtildeULL112*alpha - 2*AtildeUU12*dalpha2 + 2*AtildeUU20*GamtildeULL120*alpha + 2*AtildeUU21*GamtildeULL121*alpha + 2*AtildeUU22*GamtildeULL122*alpha - GamtildeDU0*dbetaU10 + 0.66666666666666663*GamtildeDU1*dbetaU00 - 0.33333333333333337*GamtildeDU1*dbetaU11 + 0.66666666666666663*GamtildeDU1*dbetaU22 - GamtildeDU2*dbetaU12 + KOGamtildeU1 - 2*alpha*kappa1*(-GamtildeDU1 + GamtildeU1) + 2*alpha*(-1.5*AtildeUU10*dchi0/chi - 0.33333333333333331*gamtildeUU10*(2*dKhat0 + dtheta0)) + 2*alpha*(-1.5*AtildeUU11*dchi1/chi - 0.33333333333333331*gamtildeUU11*(2*dKhat1 + dtheta1)) + 2*alpha*(-1.5*AtildeUU12*dchi2/chi - 0.33333333333333331*gamtildeUU12*(2*dKhat2 + dtheta2)) + betaDGamtildeU1 + 0.33333333333333331*ddbetaU000*gamtildeUU10 + 0.33333333333333331*ddbetaU010*gamtildeUU11 + 0.33333333333333331*ddbetaU020*gamtildeUU12 + ddbetaU100*gamtildeUU00 + ddbetaU101*gamtildeUU01 + 0.33333333333333331*ddbetaU101*gamtildeUU10 + ddbetaU102*gamtildeUU02 + ddbetaU110*gamtildeUU10 + 1.3333333333333333*ddbetaU111*gamtildeUU11 + ddbetaU112*gamtildeUU12 + ddbetaU120*gamtildeUU20 + 0.33333333333333331*ddbetaU121*gamtildeUU12 + ddbetaU121*gamtildeUU21 + ddbetaU122*gamtildeUU22 + 0.33333333333333331*ddbetaU202*gamtildeUU10 + 0.33333333333333331*ddbetaU212*gamtildeUU11 + 0.33333333333333331*ddbetaU222*gamtildeUU12;\n",
      "\n",
      "        rhs_fab(i, j, k, Idx::GamtildeU2) = 2*AtildeUU00*GamtildeULL200*alpha + 2*AtildeUU01*GamtildeULL201*alpha + 2*AtildeUU02*GamtildeULL202*alpha + 2*AtildeUU10*GamtildeULL210*alpha + 2*AtildeUU11*GamtildeULL211*alpha + 2*AtildeUU12*GamtildeULL212*alpha + 2*AtildeUU20*GamtildeULL220*alpha - 2*AtildeUU20*dalpha0 + 2*AtildeUU21*GamtildeULL221*alpha - 2*AtildeUU21*dalpha1 + 2*AtildeUU22*GamtildeULL222*alpha - 2*AtildeUU22*dalpha2 - GamtildeDU0*dbetaU20 - GamtildeDU1*dbetaU21 + 0.66666666666666663*GamtildeDU2*dbetaU00 + 0.66666666666666663*GamtildeDU2*dbetaU11 - 0.33333333333333337*GamtildeDU2*dbetaU22 + KOGamtildeU2 - 2*alpha*kappa1*(-GamtildeDU2 + GamtildeU2) + 2*alpha*(-1.5*AtildeUU20*dchi0/chi - 0.33333333333333331*gamtildeUU20*(2*dKhat0 + dtheta0)) + 2*alpha*(-1.5*AtildeUU21*dchi1/chi - 0.33333333333333331*gamtildeUU21*(2*dKhat1 + dtheta1)) + 2*alpha*(-1.5*AtildeUU22*dchi2/chi - 0.33333333333333331*gamtildeUU22*(2*dKhat2 + dtheta2)) + betaDGamtildeU2 + 0.33333333333333331*ddbetaU000*gamtildeUU20 + 0.33333333333333331*ddbetaU010*gamtildeUU21 + 0.33333333333333331*ddbetaU020*gamtildeUU22 + 0.33333333333333331*ddbetaU101*gamtildeUU20 + 0.33333333333333331*ddbetaU111*gamtildeUU21 + 0.33333333333333331*ddbetaU121*gamtildeUU22 + ddbetaU200*gamtildeUU00 + ddbetaU201*gamtildeUU01 + ddbetaU202*gamtildeUU02 + 0.33333333333333331*ddbetaU202*gamtildeUU20 + ddbetaU210*gamtildeUU10 + ddbetaU211*gamtildeUU11 + ddbetaU212*gamtildeUU12 + 0.33333333333333331*ddbetaU212*gamtildeUU21 + ddbetaU220*gamtildeUU20 + ddbetaU221*gamtildeUU21 + 1.3333333333333333*ddbetaU222*gamtildeUU22;\n",
      "\n",
      "\n"
     ]
    }
   ],
   "source": [
    "print(RHS_GamtildeU.AMReXSetRHS())"
   ]
  },
  {
   "cell_type": "code",
   "execution_count": 53,
   "metadata": {},
   "outputs": [
    {
     "data": {
      "text/plain": [
       "4779"
      ]
     },
     "execution_count": 53,
     "metadata": {},
     "output_type": "execute_result"
    }
   ],
   "source": [
    "fileRHS.write(RHS_GamtildeU.AMReXSetRHS())"
   ]
  },
  {
   "cell_type": "code",
   "execution_count": 54,
   "metadata": {},
   "outputs": [],
   "source": [
    "mul = stVar('mul')\n",
    "mus = stVar('mus')\n",
    "\n",
    "mul.expr = 2/alpha.symb\n",
    "mus.expr = 1/(alpha.symb**(2))"
   ]
  },
  {
   "cell_type": "code",
   "execution_count": 55,
   "metadata": {},
   "outputs": [],
   "source": [
    "RHS_alpha = stVar('alpha')\n",
    "\n",
    "RHS_alpha.expr += -mul.symb*(alpha.symb**2)*Khat.symb+betaDalpha.symb\n",
    "RHS_alpha.expr += Dsymb(alpha.symb,'KO')"
   ]
  },
  {
   "cell_type": "code",
   "execution_count": 56,
   "metadata": {},
   "outputs": [
    {
     "data": {
      "text/plain": [
       "92"
      ]
     },
     "execution_count": 56,
     "metadata": {},
     "output_type": "execute_result"
    }
   ],
   "source": [
    "fileRHS.write(mul.AMReXSymb2Expr())\n",
    "fileRHS.write(mus.AMReXSymb2Expr())\n",
    "fileRHS.write(RHS_alpha.AMReXSetRHS())"
   ]
  },
  {
   "cell_type": "code",
   "execution_count": 57,
   "metadata": {},
   "outputs": [],
   "source": [
    "eta = stVar('eta')\n",
    "eta.expr = 2.0\n",
    "\n",
    "RHS_betaU = stVarRank1('betaU')\n",
    "\n",
    "for i in range(3):\n",
    "    RHS_betaU.expr[i] += mus.symb*(alpha.symb**2)*GamtildeU.symb[i]-eta.symb*betaU.symb[i]+betaDbetaU.symb[i]\n",
    "    \n",
    "for i in range(3):\n",
    "    RHS_betaU.expr[i] += Dsymb(betaU.symb[i],'KO')"
   ]
  },
  {
   "cell_type": "code",
   "execution_count": 58,
   "metadata": {},
   "outputs": [
    {
     "data": {
      "text/plain": [
       "342"
      ]
     },
     "execution_count": 58,
     "metadata": {},
     "output_type": "execute_result"
    }
   ],
   "source": [
    "fileRHS.write(eta.AMReXSymb2Expr())\n",
    "fileRHS.write(RHS_betaU.AMReXSetRHS())"
   ]
  },
  {
   "cell_type": "code",
   "execution_count": 59,
   "metadata": {},
   "outputs": [],
   "source": [
    "fileRHS.write(stfw.Closer())\n",
    "fileRHS.close()"
   ]
  },
  {
   "cell_type": "markdown",
   "metadata": {},
   "source": [
    "# Diagnostics file"
   ]
  },
  {
   "cell_type": "code",
   "execution_count": 60,
   "metadata": {},
   "outputs": [],
   "source": [
    "fileDIAG = open(path+\"ET_Integration_Diag_K.H\", \"w+\")"
   ]
  },
  {
   "cell_type": "code",
   "execution_count": 61,
   "metadata": {},
   "outputs": [
    {
     "data": {
      "text/plain": [
       "754"
      ]
     },
     "execution_count": 61,
     "metadata": {},
     "output_type": "execute_result"
    }
   ],
   "source": [
    "fileDIAG.write(stfw.Diag_Header())"
   ]
  },
  {
   "cell_type": "code",
   "execution_count": 62,
   "metadata": {},
   "outputs": [],
   "source": [
    "stVar.declDiag=[]\n",
    "H = stVar('H', diag=True)\n",
    "ML = stVarRank1('ML', diag=True)\n",
    "C = stVar('C', diag=True)\n",
    "Ksclr = stVar('Ksclr', diag=True)"
   ]
  },
  {
   "cell_type": "code",
   "execution_count": 63,
   "metadata": {},
   "outputs": [
    {
     "data": {
      "text/plain": [
       "210"
      ]
     },
     "execution_count": 63,
     "metadata": {},
     "output_type": "execute_result"
    }
   ],
   "source": [
    "fileDIAG.write(chi.AMReXSymb2State())\n",
    "fileDIAG.write(gamtildeLL.AMReXSymb2State())\n",
    "fileDIAG.write(Khat.AMReXSymb2State())\n",
    "fileDIAG.write(AtildeLL.AMReXSymb2State())\n",
    "fileDIAG.write(theta.AMReXSymb2State())\n",
    "fileDIAG.write(GamtildeU.AMReXSymb2State())"
   ]
  },
  {
   "cell_type": "code",
   "execution_count": 64,
   "metadata": {},
   "outputs": [
    {
     "data": {
      "text/plain": [
       "2232"
      ]
     },
     "execution_count": 64,
     "metadata": {},
     "output_type": "execute_result"
    }
   ],
   "source": [
    "fileDIAG.write(DstVar(chi, 1, orderD = DiffOrder).AMReXSymb2Expr())\n",
    "fileDIAG.write(DstVar(chi, 2, orderD = DiffOrder).AMReXSymb2Expr())\n",
    "\n",
    "fileDIAG.write(DstVarRank2(gamtildeLL,1,orderD = DiffOrder).AMReXSymb2Expr())\n",
    "fileDIAG.write(DstVarRank2(gamtildeLL,2,orderD = DiffOrder).AMReXSymb2Expr())\n",
    "\n",
    "fileDIAG.write(DstVar(Khat,1,orderD = DiffOrder).AMReXSymb2Expr())\n",
    "\n",
    "fileDIAG.write(DstVarRank2(AtildeLL,1, orderD = DiffOrder).AMReXSymb2Expr())\n",
    "\n",
    "fileDIAG.write(DstVar(theta,1,orderD = DiffOrder).AMReXSymb2Expr())\n",
    "\n",
    "fileDIAG.write(DstVarRank1(GamtildeU, 1, orderD = DiffOrder).AMReXSymb2Expr())"
   ]
  },
  {
   "cell_type": "code",
   "execution_count": 65,
   "metadata": {},
   "outputs": [
    {
     "data": {
      "text/plain": [
       "3026"
      ]
     },
     "execution_count": 65,
     "metadata": {},
     "output_type": "execute_result"
    }
   ],
   "source": [
    "fileDIAG.write(gamtildeUU.AMReXSymb2Expr())"
   ]
  },
  {
   "cell_type": "code",
   "execution_count": 66,
   "metadata": {},
   "outputs": [
    {
     "data": {
      "text/plain": [
       "4938"
      ]
     },
     "execution_count": 66,
     "metadata": {},
     "output_type": "execute_result"
    }
   ],
   "source": [
    "fileDIAG.write(DgamtildeLLL.AMReXSymb2Expr())\n",
    "fileDIAG.write(GamtildeULL.AMReXSymb2Expr())\n",
    "fileDIAG.write(GamtildeLLL.AMReXSymb2Expr())\n",
    "fileDIAG.write(GamULL.AMReXSymb2Expr())"
   ]
  },
  {
   "cell_type": "code",
   "execution_count": 67,
   "metadata": {},
   "outputs": [
    {
     "data": {
      "text/plain": [
       "432"
      ]
     },
     "execution_count": 67,
     "metadata": {},
     "output_type": "execute_result"
    }
   ],
   "source": [
    "fileDIAG.write(gamLL.AMReXSymb2Expr())\n",
    "fileDIAG.write(gamUU.AMReXSymb2Expr())"
   ]
  },
  {
   "cell_type": "code",
   "execution_count": 68,
   "metadata": {},
   "outputs": [
    {
     "data": {
      "text/plain": [
       "990"
      ]
     },
     "execution_count": 68,
     "metadata": {},
     "output_type": "execute_result"
    }
   ],
   "source": [
    "fileDIAG.write(AtildeUU.AMReXSymb2Expr())\n",
    "fileDIAG.write(AtildeUL.AMReXSymb2Expr())"
   ]
  },
  {
   "cell_type": "code",
   "execution_count": 69,
   "metadata": {},
   "outputs": [
    {
     "data": {
      "text/plain": [
       "909"
      ]
     },
     "execution_count": 69,
     "metadata": {},
     "output_type": "execute_result"
    }
   ],
   "source": [
    "fileDIAG.write(GamtildeDU.AMReXSymb2Expr())"
   ]
  },
  {
   "cell_type": "code",
   "execution_count": 70,
   "metadata": {},
   "outputs": [
    {
     "data": {
      "text/plain": [
       "33534"
      ]
     },
     "execution_count": 70,
     "metadata": {},
     "output_type": "execute_result"
    }
   ],
   "source": [
    "fileDIAG.write(RtildeLL.AMReXSymb2Expr())"
   ]
  },
  {
   "cell_type": "code",
   "execution_count": 71,
   "metadata": {},
   "outputs": [
    {
     "data": {
      "text/plain": [
       "355"
      ]
     },
     "execution_count": 71,
     "metadata": {},
     "output_type": "execute_result"
    }
   ],
   "source": [
    "fileDIAG.write(DtildeDtildechiLL.AMReXSymb2Expr())\n",
    "fileDIAG.write(TrDtildeDtildechi.AMReXSymb2Expr())"
   ]
  },
  {
   "cell_type": "code",
   "execution_count": 72,
   "metadata": {},
   "outputs": [
    {
     "data": {
      "text/plain": [
       "6411"
      ]
     },
     "execution_count": 72,
     "metadata": {},
     "output_type": "execute_result"
    }
   ],
   "source": [
    "fileDIAG.write(RchiLL.AMReXSymb2Expr())"
   ]
  },
  {
   "cell_type": "code",
   "execution_count": 73,
   "metadata": {},
   "outputs": [
    {
     "data": {
      "text/plain": [
       "172"
      ]
     },
     "execution_count": 73,
     "metadata": {},
     "output_type": "execute_result"
    }
   ],
   "source": [
    "fileDIAG.write(RLL.AMReXSymb2Expr())\n",
    "fileDIAG.write(Rsclr.AMReXSymb2Expr())"
   ]
  },
  {
   "cell_type": "code",
   "execution_count": 74,
   "metadata": {},
   "outputs": [],
   "source": [
    "KLL = stVarRank2('KLL', sym = 'sym01')\n",
    "for i in range(dim):\n",
    "    for j in range(dim):\n",
    "        KLL.expr[i][j] = AtildeLL.symb[i][j]/chi.symb+1/3*gamLL.symb[i][j]*(Khat.symb+2*theta.symb)"
   ]
  },
  {
   "cell_type": "code",
   "execution_count": 75,
   "metadata": {},
   "outputs": [
    {
     "data": {
      "text/plain": [
       "819"
      ]
     },
     "execution_count": 75,
     "metadata": {},
     "output_type": "execute_result"
    }
   ],
   "source": [
    "fileDIAG.write(KLL.AMReXSymb2Expr())"
   ]
  },
  {
   "cell_type": "code",
   "execution_count": 76,
   "metadata": {},
   "outputs": [],
   "source": [
    "KUU = stVarRank2('KUU', sym = 'sym01')\n",
    "for i in range(dim):\n",
    "    for j in range(dim):\n",
    "        for k in range(dim):\n",
    "            for l in range(dim):\n",
    "                KUU.expr[i][j] += gamUU.symb[i][k]*gamUU.symb[j][l]*KLL.symb[k][l]"
   ]
  },
  {
   "cell_type": "code",
   "execution_count": 77,
   "metadata": {},
   "outputs": [
    {
     "data": {
      "text/plain": [
       "2232"
      ]
     },
     "execution_count": 77,
     "metadata": {},
     "output_type": "execute_result"
    }
   ],
   "source": [
    "fileDIAG.write(KUU.AMReXSymb2Expr())"
   ]
  },
  {
   "cell_type": "code",
   "execution_count": 78,
   "metadata": {},
   "outputs": [],
   "source": [
    "H.expr = Rsclr.symb + (Khat.symb + 2*theta.symb)**2\n",
    "\n",
    "for i in range(dim):\n",
    "    for j in range(dim):\n",
    "        H.expr += -KLL.symb[i][j]*KUU.symb[i][j]"
   ]
  },
  {
   "cell_type": "code",
   "execution_count": 79,
   "metadata": {},
   "outputs": [
    {
     "data": {
      "text/plain": [
       "198"
      ]
     },
     "execution_count": 79,
     "metadata": {},
     "output_type": "execute_result"
    }
   ],
   "source": [
    "fileDIAG.write(H.AMReXSetDiag())"
   ]
  },
  {
   "cell_type": "code",
   "execution_count": 80,
   "metadata": {},
   "outputs": [
    {
     "data": {
      "text/plain": [
       "49"
      ]
     },
     "execution_count": 80,
     "metadata": {},
     "output_type": "execute_result"
    }
   ],
   "source": [
    "fileDIAG.write(H.AMReXSymb2State())"
   ]
  },
  {
   "cell_type": "code",
   "execution_count": 81,
   "metadata": {},
   "outputs": [],
   "source": [
    "InterKLL = stVarRank2('InterKLL', sym = 'sym01')\n",
    "for i in range(dim):\n",
    "    for j in range(dim):\n",
    "        InterKLL.expr[i][j] = KLL.symb[i][j]-gamLL.symb[i][j]*(Khat.symb + 2*theta.symb)"
   ]
  },
  {
   "cell_type": "code",
   "execution_count": 82,
   "metadata": {},
   "outputs": [
    {
     "data": {
      "text/plain": [
       "603"
      ]
     },
     "execution_count": 82,
     "metadata": {},
     "output_type": "execute_result"
    }
   ],
   "source": [
    "fileDIAG.write(InterKLL.AMReXSymb2Expr())"
   ]
  },
  {
   "cell_type": "code",
   "execution_count": 83,
   "metadata": {},
   "outputs": [],
   "source": [
    "dInterKLLL = stVarRank3('dInterKLLL')\n",
    "for i in range(dim):\n",
    "    for j in range(dim):\n",
    "        for k in range(dim):\n",
    "            dInterKLLL.expr[i][j][k] += (1/chi.symb)*(-Ds(chi,str(k))*InterKLL.symb[i][j]+Dsymb(AtildeLL.symb[i][j],str(k))-2/3*Dsymb(gamtildeLL.symb[i][j],str(k))*(Khat.symb+2*theta.symb)-2/3*gamtildeLL.symb[i][j]*(Ds(Khat,str(k))+2*Ds(theta,str(k))))"
   ]
  },
  {
   "cell_type": "code",
   "execution_count": 84,
   "metadata": {},
   "outputs": [
    {
     "data": {
      "text/plain": [
       "5022"
      ]
     },
     "execution_count": 84,
     "metadata": {},
     "output_type": "execute_result"
    }
   ],
   "source": [
    "fileDIAG.write(dInterKLLL.AMReXSymb2Expr())"
   ]
  },
  {
   "cell_type": "code",
   "execution_count": 85,
   "metadata": {},
   "outputs": [],
   "source": [
    "DInterKL = stVarRank1('DInterKL')\n",
    "for i in range(dim):\n",
    "    for j in range(dim):\n",
    "        for k in range(dim):\n",
    "            DInterKL.expr[i] += gamUU.symb[j][k]*dInterKLLL.symb[i][j][k]\n",
    "            for l in range(dim):\n",
    "                DInterKL.expr[i] += -gamUU.symb[j][k]*(GamULL.symb[l][i][k]*InterKLL.symb[l][j]+GamULL.symb[l][j][k]*InterKLL.symb[i][l])"
   ]
  },
  {
   "cell_type": "code",
   "execution_count": 86,
   "metadata": {},
   "outputs": [
    {
     "data": {
      "text/plain": [
       "5073"
      ]
     },
     "execution_count": 86,
     "metadata": {},
     "output_type": "execute_result"
    }
   ],
   "source": [
    "fileDIAG.write(DInterKL.AMReXSymb2Expr())"
   ]
  },
  {
   "cell_type": "code",
   "execution_count": 87,
   "metadata": {},
   "outputs": [],
   "source": [
    "ML.expr = DInterKL.symb"
   ]
  },
  {
   "cell_type": "code",
   "execution_count": 88,
   "metadata": {},
   "outputs": [
    {
     "data": {
      "text/plain": [
       "141"
      ]
     },
     "execution_count": 88,
     "metadata": {},
     "output_type": "execute_result"
    }
   ],
   "source": [
    "fileDIAG.write(ML.AMReXSetDiag())"
   ]
  },
  {
   "cell_type": "code",
   "execution_count": 89,
   "metadata": {},
   "outputs": [
    {
     "data": {
      "text/plain": [
       "156"
      ]
     },
     "execution_count": 89,
     "metadata": {},
     "output_type": "execute_result"
    }
   ],
   "source": [
    "fileDIAG.write(ML.AMReXSymb2State())"
   ]
  },
  {
   "cell_type": "code",
   "execution_count": 90,
   "metadata": {},
   "outputs": [],
   "source": [
    "MU = stVarRank1('MU')\n",
    "for i in range(dim):\n",
    "    for j in range(dim):\n",
    "        MU.expr[i] += gamUU.symb[i][j]*ML.symb[j]"
   ]
  },
  {
   "cell_type": "code",
   "execution_count": 91,
   "metadata": {},
   "outputs": [
    {
     "data": {
      "text/plain": [
       "201"
      ]
     },
     "execution_count": 91,
     "metadata": {},
     "output_type": "execute_result"
    }
   ],
   "source": [
    "fileDIAG.write(MU.AMReXSymb2Expr())"
   ]
  },
  {
   "cell_type": "code",
   "execution_count": 92,
   "metadata": {},
   "outputs": [],
   "source": [
    "Csqr = stVar('Csqr')"
   ]
  },
  {
   "cell_type": "code",
   "execution_count": 93,
   "metadata": {},
   "outputs": [],
   "source": [
    "Csqr.expr = H.symb**2 + theta.symb**2\n",
    "for i in range(dim):\n",
    "    Csqr.expr += MU.symb[i]*ML.symb[i]    "
   ]
  },
  {
   "cell_type": "code",
   "execution_count": 94,
   "metadata": {},
   "outputs": [
    {
     "data": {
      "text/plain": [
       "95"
      ]
     },
     "execution_count": 94,
     "metadata": {},
     "output_type": "execute_result"
    }
   ],
   "source": [
    "fileDIAG.write(Csqr.AMReXSymb2Expr())"
   ]
  },
  {
   "cell_type": "code",
   "execution_count": 95,
   "metadata": {},
   "outputs": [],
   "source": [
    "C.expr = sp.sqrt(Csqr.symb)"
   ]
  },
  {
   "cell_type": "code",
   "execution_count": 96,
   "metadata": {},
   "outputs": [
    {
     "data": {
      "text/plain": [
       "51"
      ]
     },
     "execution_count": 96,
     "metadata": {},
     "output_type": "execute_result"
    }
   ],
   "source": [
    "fileDIAG.write(C.AMReXSetDiag())"
   ]
  },
  {
   "cell_type": "code",
   "execution_count": 97,
   "metadata": {},
   "outputs": [],
   "source": [
    "Ksclr.expr = Khat.symb + 2*theta.symb"
   ]
  },
  {
   "cell_type": "code",
   "execution_count": 98,
   "metadata": {},
   "outputs": [
    {
     "data": {
      "text/plain": [
       "54"
      ]
     },
     "execution_count": 98,
     "metadata": {},
     "output_type": "execute_result"
    }
   ],
   "source": [
    "fileDIAG.write(Ksclr.AMReXSetDiag())"
   ]
  },
  {
   "cell_type": "code",
   "execution_count": null,
   "metadata": {},
   "outputs": [],
   "source": []
  },
  {
   "cell_type": "code",
   "execution_count": 99,
   "metadata": {},
   "outputs": [],
   "source": [
    "fileDIAGVARS = open(path+\"ET_Integration_Diagnostic_Variables.H\",\"w+\")\n",
    "fileDIAGVARS.write(stfw.VarString(stVar.declDiag))\n",
    "fileDIAGVARS.close()"
   ]
  },
  {
   "cell_type": "code",
   "execution_count": 100,
   "metadata": {},
   "outputs": [],
   "source": [
    "fileDIAG.write(stfw.Closer())\n",
    "fileDIAG.close()"
   ]
  },
  {
   "cell_type": "markdown",
   "metadata": {},
   "source": [
    "# Load Initial Data file (must have same parameters as Initial Data RHS)"
   ]
  },
  {
   "cell_type": "code",
   "execution_count": 101,
   "metadata": {},
   "outputs": [],
   "source": [
    "from sympy import Eijk, LeviCivita"
   ]
  },
  {
   "cell_type": "code",
   "execution_count": 102,
   "metadata": {},
   "outputs": [],
   "source": [
    "stVar.declInit = []\n",
    "u = stVar('u', initial = True)"
   ]
  },
  {
   "cell_type": "code",
   "execution_count": 103,
   "metadata": {
    "scrolled": false
   },
   "outputs": [],
   "source": [
    "fileLOADINIT = open(path+\"ET_Integration_LoadInitData_K.H\", \"w+\")"
   ]
  },
  {
   "cell_type": "code",
   "execution_count": 104,
   "metadata": {},
   "outputs": [
    {
     "data": {
      "text/plain": [
       "744"
      ]
     },
     "execution_count": 104,
     "metadata": {},
     "output_type": "execute_result"
    }
   ],
   "source": [
    "fileLOADINIT.write(stfw.LoadInit_Header())"
   ]
  },
  {
   "cell_type": "code",
   "execution_count": 105,
   "metadata": {},
   "outputs": [
    {
     "data": {
      "text/plain": [
       "60"
      ]
     },
     "execution_count": 105,
     "metadata": {},
     "output_type": "execute_result"
    }
   ],
   "source": [
    "fileLOADINIT.write(u.AMReXSymb2State())"
   ]
  },
  {
   "cell_type": "code",
   "execution_count": 106,
   "metadata": {
    "scrolled": true
   },
   "outputs": [],
   "source": [
    "x = stVarRank1('x')  #Defining symbols for the grid point positions.  They are already declared in the header.\n",
    "r = stVar('r')  #Define symbol for radius from the center of our coordinate system.\n",
    "r.expr = sp.sqrt(x.symb[0]**2+x.symb[1]**2+x.symb[2]**2)  #Defining how r is related to x0, x1, and x2.\n",
    "\n",
    "#We place two black holes at postions along the x0 = x axis.\n",
    "c1 = stVarRank1('c1')\n",
    "c2 = stVarRank1('c2')\n",
    "c1.expr = np.array([1.168642873,0,0])\n",
    "c2.expr = np.array([-1.168642873,0,0])\n",
    "\n",
    "#Bare masses\n",
    "M1 = stVar('M1')\n",
    "M2 = stVar('M2')\n",
    "\n",
    "M1.expr = 0.453\n",
    "M2.expr = 0.453\n",
    "\n",
    "#Momenta\n",
    "P1 = stVarRank1('P1')\n",
    "P2 = stVarRank1('P2')\n",
    "\n",
    "P1.expr = np.array([0,0.3331917498,0])\n",
    "P2.expr = np.array([0,-0.3331917498,0])\n",
    "\n",
    "S1 = stVarRank1('S1')\n",
    "S2 = stVarRank1('S2')\n",
    "\n",
    "S1.expr = [0,0,0]\n",
    "S2.expr = [0,0,0]\n",
    "\n",
    "#To simplify expressions below we can specify intermediate coordinates defined relative to the black hole centers.\n",
    "xc1 = stVarRank1('xc1')\n",
    "xc2 = stVarRank1('xc2')\n",
    "\n",
    "for i in range(3):\n",
    "    xc1.expr[i] = x.symb[i]-c1.symb[i]\n",
    "    xc2.expr[i] = x.symb[i]-c2.symb[i]\n",
    "\n",
    "rc1 = stVar('rc1')\n",
    "rc1.expr = sp.Max(sp.sqrt(xc1.symb[0]**2 + xc1.symb[1]**2 + xc1.symb[2]**2), 0.01)\n",
    "\n",
    "rc2 = stVar('rc2')\n",
    "rc2.expr = sp.Max(sp.sqrt(xc2.symb[0]**2 + xc2.symb[1]**2 + xc2.symb[2]**2), 0.01)\n",
    "\n",
    "n1 = stVarRank1('n1')\n",
    "n2 = stVarRank1('n2')\n",
    "\n",
    "for i in range(3):\n",
    "    n1.expr[i] = xc1.symb[i]/rc1.symb\n",
    "    n2.expr[i] = xc2.symb[i]/rc2.symb"
   ]
  },
  {
   "cell_type": "code",
   "execution_count": 107,
   "metadata": {},
   "outputs": [
    {
     "data": {
      "text/plain": [
       "108"
      ]
     },
     "execution_count": 107,
     "metadata": {},
     "output_type": "execute_result"
    }
   ],
   "source": [
    "fileLOADINIT.write(r.AMReXSymb2Expr())\n",
    "fileLOADINIT.write(c1.AMReXSymb2Expr())\n",
    "fileLOADINIT.write(c2.AMReXSymb2Expr())\n",
    "fileLOADINIT.write(M1.AMReXSymb2Expr())\n",
    "fileLOADINIT.write(M2.AMReXSymb2Expr())\n",
    "fileLOADINIT.write(P1.AMReXSymb2Expr())\n",
    "fileLOADINIT.write(P2.AMReXSymb2Expr())\n",
    "fileLOADINIT.write(S1.AMReXSymb2Expr())\n",
    "fileLOADINIT.write(S2.AMReXSymb2Expr())\n",
    "fileLOADINIT.write(xc1.AMReXSymb2Expr())\n",
    "fileLOADINIT.write(xc2.AMReXSymb2Expr())\n",
    "fileLOADINIT.write(rc1.AMReXSymb2Expr())\n",
    "fileLOADINIT.write(rc2.AMReXSymb2Expr())\n",
    "fileLOADINIT.write(n1.AMReXSymb2Expr())\n",
    "fileLOADINIT.write(n2.AMReXSymb2Expr())"
   ]
  },
  {
   "cell_type": "code",
   "execution_count": 108,
   "metadata": {},
   "outputs": [],
   "source": [
    "Abar1UU = stVarRank2('Abar1UU')\n",
    "Abar2UU = stVarRank2('Abar2UU')\n",
    "for i in range(3):\n",
    "    for j in range(3):\n",
    "        Abar1UU.expr[i][j] += 3/(2*(rc1.symb)**2)*(P1.symb[i]*n1.symb[j]+P1.symb[j]*n1.symb[i])\n",
    "        Abar2UU.expr[i][j] += 3/(2*(rc2.symb)**2)*(P2.symb[i]*n2.symb[j]+P2.symb[j]*n2.symb[i])\n",
    "        for k in range(3):\n",
    "            Abar1UU.expr[i][j] += -3/(2*(rc1.symb)**2)*(sp.eye(3)[i,j]-n1.symb[i]*n1.symb[j])*n1.symb[k]*P1.symb[k]\n",
    "            Abar2UU.expr[i][j] += -3/(2*(rc2.symb)**2)*(sp.eye(3)[i,j]-n2.symb[i]*n2.symb[j])*n2.symb[k]*P2.symb[k]\n",
    "            \n",
    "for i in range(3):\n",
    "    for j in range(3):\n",
    "        for k in range(3):\n",
    "            for l in range(3):\n",
    "                Abar1UU.expr[i][j] +=3/(rc1.symb**3)*(n1.symb[i]*Eijk(j,k,l)*S1.symb[k]*n1.symb[l]+n1.symb[j]*Eijk(i,k,l)*S1.symb[k]*n1.symb[l])\n",
    "                Abar2UU.expr[i][j] +=3/(rc2.symb**3)*(n2.symb[i]*Eijk(j,k,l)*S2.symb[k]*n2.symb[l]+n2.symb[j]*Eijk(i,k,l)*S2.symb[k]*n2.symb[l])"
   ]
  },
  {
   "cell_type": "code",
   "execution_count": 109,
   "metadata": {},
   "outputs": [],
   "source": [
    "AbarUU = stVarRank2('AbarUU')\n",
    "for i in range(3):\n",
    "    for j in range(3):\n",
    "        AbarUU.expr[i][j] += Abar1UU.symb[i][j]+Abar2UU.symb[i][j]"
   ]
  },
  {
   "cell_type": "code",
   "execution_count": 110,
   "metadata": {},
   "outputs": [
    {
     "data": {
      "text/plain": [
       "486"
      ]
     },
     "execution_count": 110,
     "metadata": {},
     "output_type": "execute_result"
    }
   ],
   "source": [
    "fileLOADINIT.write(Abar1UU.AMReXSymb2Expr())\n",
    "fileLOADINIT.write(Abar2UU.AMReXSymb2Expr())\n",
    "fileLOADINIT.write(AbarUU.AMReXSymb2Expr())"
   ]
  },
  {
   "cell_type": "code",
   "execution_count": 111,
   "metadata": {},
   "outputs": [],
   "source": [
    "alphaFunc = stVar('alphaFunc')\n",
    "alphaFunc.expr = 1/(M1.symb/(2*rc1.symb)+M2.symb/(2*rc2.symb))"
   ]
  },
  {
   "cell_type": "code",
   "execution_count": 112,
   "metadata": {},
   "outputs": [
    {
     "data": {
      "text/plain": [
       "76"
      ]
     },
     "execution_count": 112,
     "metadata": {},
     "output_type": "execute_result"
    }
   ],
   "source": [
    "fileLOADINIT.write(alphaFunc.AMReXSymb2Expr())"
   ]
  },
  {
   "cell_type": "code",
   "execution_count": 113,
   "metadata": {},
   "outputs": [],
   "source": [
    "psiInit = stVar('psiInit')\n",
    "psiInit.expr = 1 + u.symb + 1/alphaFunc.symb"
   ]
  },
  {
   "cell_type": "code",
   "execution_count": 114,
   "metadata": {},
   "outputs": [
    {
     "data": {
      "text/plain": [
       "54"
      ]
     },
     "execution_count": 114,
     "metadata": {},
     "output_type": "execute_result"
    }
   ],
   "source": [
    "fileLOADINIT.write(psiInit.AMReXSymb2Expr())"
   ]
  },
  {
   "cell_type": "code",
   "execution_count": 115,
   "metadata": {},
   "outputs": [],
   "source": [
    "chiInit = stVar('chi')\n",
    "chiInit.expr = psiInit.symb**(-4)"
   ]
  },
  {
   "cell_type": "code",
   "execution_count": 116,
   "metadata": {},
   "outputs": [
    {
     "data": {
      "text/plain": [
       "63"
      ]
     },
     "execution_count": 116,
     "metadata": {},
     "output_type": "execute_result"
    }
   ],
   "source": [
    "fileLOADINIT.write(chiInit.AMReXSetState())"
   ]
  },
  {
   "cell_type": "code",
   "execution_count": 117,
   "metadata": {},
   "outputs": [],
   "source": [
    "gamtildeLLInit = stVarRank2('gamtildeLL', sym = 'sym01')\n",
    "gamtildeLLInit.expr = [[1,0,0],[0,1,0],[0,0,1]]"
   ]
  },
  {
   "cell_type": "code",
   "execution_count": 118,
   "metadata": {},
   "outputs": [
    {
     "data": {
      "text/plain": [
       "312"
      ]
     },
     "execution_count": 118,
     "metadata": {},
     "output_type": "execute_result"
    }
   ],
   "source": [
    "fileLOADINIT.write(gamtildeLLInit.AMReXSetState())"
   ]
  },
  {
   "cell_type": "code",
   "execution_count": 119,
   "metadata": {},
   "outputs": [],
   "source": [
    "KhatInit = stVar('Khat')\n",
    "KhatInit.expr = 0"
   ]
  },
  {
   "cell_type": "code",
   "execution_count": 120,
   "metadata": {},
   "outputs": [
    {
     "data": {
      "text/plain": [
       "44"
      ]
     },
     "execution_count": 120,
     "metadata": {},
     "output_type": "execute_result"
    }
   ],
   "source": [
    "fileLOADINIT.write(KhatInit.AMReXSetState())"
   ]
  },
  {
   "cell_type": "code",
   "execution_count": 121,
   "metadata": {},
   "outputs": [],
   "source": [
    "AtildeLLInit = stVarRank2('AtildeLL', sym = 'sym01')\n",
    "\n",
    "AtildeLLInit.expr = psiInit.symb**(-6)*AbarUU.symb"
   ]
  },
  {
   "cell_type": "code",
   "execution_count": 122,
   "metadata": {},
   "outputs": [
    {
     "data": {
      "text/plain": [
       "468"
      ]
     },
     "execution_count": 122,
     "metadata": {},
     "output_type": "execute_result"
    }
   ],
   "source": [
    "fileLOADINIT.write(AtildeLLInit.AMReXSetState())"
   ]
  },
  {
   "cell_type": "code",
   "execution_count": 123,
   "metadata": {},
   "outputs": [],
   "source": [
    "thetaInit = stVar('theta')\n",
    "thetaInit.expr = 0"
   ]
  },
  {
   "cell_type": "code",
   "execution_count": 124,
   "metadata": {},
   "outputs": [
    {
     "data": {
      "text/plain": [
       "45"
      ]
     },
     "execution_count": 124,
     "metadata": {},
     "output_type": "execute_result"
    }
   ],
   "source": [
    "fileLOADINIT.write(thetaInit.AMReXSetState())"
   ]
  },
  {
   "cell_type": "code",
   "execution_count": 125,
   "metadata": {},
   "outputs": [],
   "source": [
    "GamtildeUInit = stVarRank1('GamtildeU')\n",
    "GamtildeUInit.expr = [0,0,0]"
   ]
  },
  {
   "cell_type": "code",
   "execution_count": 126,
   "metadata": {},
   "outputs": [
    {
     "data": {
      "text/plain": [
       "150"
      ]
     },
     "execution_count": 126,
     "metadata": {},
     "output_type": "execute_result"
    }
   ],
   "source": [
    "fileLOADINIT.write(GamtildeUInit.AMReXSetState())"
   ]
  },
  {
   "cell_type": "code",
   "execution_count": 127,
   "metadata": {},
   "outputs": [],
   "source": [
    "alphaInit = stVar('alpha')\n",
    "alphaInit.expr = psiInit.symb**(-2)"
   ]
  },
  {
   "cell_type": "code",
   "execution_count": 128,
   "metadata": {},
   "outputs": [
    {
     "data": {
      "text/plain": [
       "65"
      ]
     },
     "execution_count": 128,
     "metadata": {},
     "output_type": "execute_result"
    }
   ],
   "source": [
    "fileLOADINIT.write(alphaInit.AMReXSetState())"
   ]
  },
  {
   "cell_type": "code",
   "execution_count": 129,
   "metadata": {},
   "outputs": [],
   "source": [
    "betaUInit = stVarRank1('betaU')\n",
    "betaUInit.expr = [0,0,0]"
   ]
  },
  {
   "cell_type": "code",
   "execution_count": 130,
   "metadata": {},
   "outputs": [
    {
     "data": {
      "text/plain": [
       "138"
      ]
     },
     "execution_count": 130,
     "metadata": {},
     "output_type": "execute_result"
    }
   ],
   "source": [
    "fileLOADINIT.write(betaUInit.AMReXSetState())"
   ]
  },
  {
   "cell_type": "code",
   "execution_count": 131,
   "metadata": {},
   "outputs": [],
   "source": [
    "fileLOADINIT.write(stfw.Closer())\n",
    "fileLOADINIT.close()"
   ]
  },
  {
   "cell_type": "markdown",
   "metadata": {},
   "source": [
    "# Setup file"
   ]
  },
  {
   "cell_type": "code",
   "execution_count": 132,
   "metadata": {},
   "outputs": [],
   "source": [
    "fileSETUP = open(path+\"ET_Integration_Setup_K.H\", \"w+\")\n",
    "fileSETUP.write(stfw.Write_Setup_File(stVar.declState, stVar.declInit, stVar.declDiag, nghostcells))\n",
    "fileSETUP.close()"
   ]
  },
  {
   "cell_type": "markdown",
   "metadata": {},
   "source": [
    "# Post timestep updating"
   ]
  },
  {
   "cell_type": "code",
   "execution_count": 133,
   "metadata": {},
   "outputs": [],
   "source": [
    "filePOST = open(path+\"ET_Integration_Post_Update_K.H\", \"w+\")"
   ]
  },
  {
   "cell_type": "code",
   "execution_count": 134,
   "metadata": {},
   "outputs": [
    {
     "data": {
      "text/plain": [
       "708"
      ]
     },
     "execution_count": 134,
     "metadata": {},
     "output_type": "execute_result"
    }
   ],
   "source": [
    "filePOST.write(stfw.PostUpdate_Header())"
   ]
  },
  {
   "cell_type": "code",
   "execution_count": 135,
   "metadata": {},
   "outputs": [
    {
     "data": {
      "text/plain": [
       "666"
      ]
     },
     "execution_count": 135,
     "metadata": {},
     "output_type": "execute_result"
    }
   ],
   "source": [
    "filePOST.write(gamtildeLL.AMReXSymb2State())"
   ]
  },
  {
   "cell_type": "code",
   "execution_count": 136,
   "metadata": {},
   "outputs": [],
   "source": [
    "detgamtilde = stVar('detgamtilde')\n",
    "detgamtilde.expr = sp.simplify(sp.Matrix(gamtildeLL.symb).det())"
   ]
  },
  {
   "cell_type": "code",
   "execution_count": 137,
   "metadata": {},
   "outputs": [
    {
     "data": {
      "text/plain": [
       "280"
      ]
     },
     "execution_count": 137,
     "metadata": {},
     "output_type": "execute_result"
    }
   ],
   "source": [
    "filePOST.write(detgamtilde.AMReXSymb2Expr())"
   ]
  },
  {
   "cell_type": "code",
   "execution_count": 138,
   "metadata": {},
   "outputs": [],
   "source": [
    "scalefactor = stVar('scalefactor')\n",
    "scalefactor.expr = detgamtilde.symb**(-1.0/3.0)"
   ]
  },
  {
   "cell_type": "code",
   "execution_count": 139,
   "metadata": {},
   "outputs": [
    {
     "data": {
      "text/plain": [
       "80"
      ]
     },
     "execution_count": 139,
     "metadata": {},
     "output_type": "execute_result"
    }
   ],
   "source": [
    "filePOST.write(scalefactor.AMReXSymb2Expr())"
   ]
  },
  {
   "cell_type": "code",
   "execution_count": 140,
   "metadata": {},
   "outputs": [],
   "source": [
    "Reset_gamtildeLL = stVarRank2('gamtildeLL',sym = 'sym01')\n",
    "Reset_gamtildeLL.expr = gamtildeLL.symb*scalefactor.symb"
   ]
  },
  {
   "cell_type": "code",
   "execution_count": 141,
   "metadata": {},
   "outputs": [
    {
     "data": {
      "text/plain": [
       "450"
      ]
     },
     "execution_count": 141,
     "metadata": {},
     "output_type": "execute_result"
    }
   ],
   "source": [
    "filePOST.write(Reset_gamtildeLL.AMReXSetState())"
   ]
  },
  {
   "cell_type": "code",
   "execution_count": 142,
   "metadata": {},
   "outputs": [
    {
     "data": {
      "text/plain": [
       "630"
      ]
     },
     "execution_count": 142,
     "metadata": {},
     "output_type": "execute_result"
    }
   ],
   "source": [
    "filePOST.write(AtildeLL.AMReXSymb2State())"
   ]
  },
  {
   "cell_type": "code",
   "execution_count": 143,
   "metadata": {},
   "outputs": [
    {
     "data": {
      "text/plain": [
       "3026"
      ]
     },
     "execution_count": 143,
     "metadata": {},
     "output_type": "execute_result"
    }
   ],
   "source": [
    "filePOST.write(gamtildeUU.AMReXSymb2Expr())"
   ]
  },
  {
   "cell_type": "code",
   "execution_count": 144,
   "metadata": {},
   "outputs": [],
   "source": [
    "TrAtilde = stVar('TrAtilde')\n",
    "for i in range(3):\n",
    "    for j in range(3):\n",
    "        TrAtilde.expr += gamtildeUU.symb[i][j]*AtildeLL.symb[i][j]"
   ]
  },
  {
   "cell_type": "code",
   "execution_count": 145,
   "metadata": {},
   "outputs": [
    {
     "data": {
      "text/plain": [
       "265"
      ]
     },
     "execution_count": 145,
     "metadata": {},
     "output_type": "execute_result"
    }
   ],
   "source": [
    "filePOST.write(TrAtilde.AMReXSymb2Expr())"
   ]
  },
  {
   "cell_type": "code",
   "execution_count": 146,
   "metadata": {},
   "outputs": [],
   "source": [
    "Reset_AtildeLL = stVarRank2('AtildeLL', sym = 'sym01')\n",
    "Reset_AtildeLL.expr = AtildeLL.symb -1/3*TrAtilde.symb*gamtildeLL.symb"
   ]
  },
  {
   "cell_type": "code",
   "execution_count": 147,
   "metadata": {},
   "outputs": [
    {
     "data": {
      "text/plain": [
       "618"
      ]
     },
     "execution_count": 147,
     "metadata": {},
     "output_type": "execute_result"
    }
   ],
   "source": [
    "filePOST.write(Reset_AtildeLL.AMReXSetState())"
   ]
  },
  {
   "cell_type": "code",
   "execution_count": 148,
   "metadata": {},
   "outputs": [],
   "source": [
    "filePOST.write(stfw.Closer())\n",
    "filePOST.close()"
   ]
  },
  {
   "cell_type": "markdown",
   "metadata": {},
   "source": [
    "# INIT file (empty for this case)"
   ]
  },
  {
   "cell_type": "code",
   "execution_count": 149,
   "metadata": {},
   "outputs": [],
   "source": [
    "fileINIT = open(path+\"ET_Integration_Init_K.H\", \"w+\")"
   ]
  },
  {
   "cell_type": "code",
   "execution_count": 150,
   "metadata": {},
   "outputs": [
    {
     "data": {
      "text/plain": [
       "612"
      ]
     },
     "execution_count": 150,
     "metadata": {},
     "output_type": "execute_result"
    }
   ],
   "source": [
    "fileINIT.write(stfw.InitFromScratch_Header())"
   ]
  },
  {
   "cell_type": "code",
   "execution_count": 151,
   "metadata": {},
   "outputs": [],
   "source": [
    "fileINIT.write(stfw.Closer())\n",
    "fileINIT.close()"
   ]
  },
  {
   "cell_type": "markdown",
   "metadata": {},
   "source": [
    "# AMR taging file"
   ]
  },
  {
   "cell_type": "code",
   "execution_count": 152,
   "metadata": {},
   "outputs": [],
   "source": [
    "fileAMRTAG = open(path+\"ET_Integration_AMR_Cell_Tag_K.H\", \"w+\")"
   ]
  },
  {
   "cell_type": "code",
   "execution_count": 153,
   "metadata": {},
   "outputs": [
    {
     "data": {
      "text/plain": [
       "744"
      ]
     },
     "execution_count": 153,
     "metadata": {},
     "output_type": "execute_result"
    }
   ],
   "source": [
    "fileAMRTAG.write(stfw.AMRtagging_Header())"
   ]
  },
  {
   "cell_type": "code",
   "execution_count": 154,
   "metadata": {},
   "outputs": [
    {
     "data": {
      "text/plain": [
       "61"
      ]
     },
     "execution_count": 154,
     "metadata": {},
     "output_type": "execute_result"
    }
   ],
   "source": [
    "fileAMRTAG.write(alpha.AMReXSymb2State())"
   ]
  },
  {
   "cell_type": "code",
   "execution_count": 155,
   "metadata": {},
   "outputs": [],
   "source": [
    "TagVar = stVar('TagVar')\n",
    "TagVar.expr = str(sp.Abs(alpha.symb))"
   ]
  },
  {
   "cell_type": "code",
   "execution_count": 156,
   "metadata": {},
   "outputs": [
    {
     "data": {
      "text/plain": [
       "51"
      ]
     },
     "execution_count": 156,
     "metadata": {},
     "output_type": "execute_result"
    }
   ],
   "source": [
    "fileAMRTAG.write(TagCondition(TagVar, '<'))"
   ]
  },
  {
   "cell_type": "code",
   "execution_count": 157,
   "metadata": {},
   "outputs": [],
   "source": [
    "fileAMRTAG.write(stfw.Closer())\n",
    "fileAMRTAG.close()"
   ]
  },
  {
   "cell_type": "markdown",
   "metadata": {},
   "source": [
    "# Gridding, Parameters, and Inputs"
   ]
  },
  {
   "cell_type": "code",
   "execution_count": 158,
   "metadata": {},
   "outputs": [],
   "source": [
    "import STvARInputs as sti"
   ]
  },
  {
   "cell_type": "code",
   "execution_count": 159,
   "metadata": {},
   "outputs": [],
   "source": [
    "pathInputs = \"../Exec/Z4c/\"\n",
    "INPUTS = open(pathInputs + \"inputs\", \"w+\")"
   ]
  },
  {
   "cell_type": "code",
   "execution_count": 160,
   "metadata": {},
   "outputs": [],
   "source": [
    "#STOPPING CRITERIA\n",
    "MAX_STEP = 200\n",
    "MAX_TIME = 100.0\n",
    "\n",
    "#Equation type (default hyperbolic) and Courant Factor.\n",
    "CFL = 0.25\n",
    "\n",
    "#Geometry\n",
    "NUM_COARSE_CELLS = [64, 64, 64]\n",
    "LOWER_BOUNDS = [-50.0, -50.0, -50.0]\n",
    "UPPER_BOUNDS = [50.0, 50.0, 50.0]\n",
    "PERIODICITY = [0, 0, 0]\n",
    "\n",
    "#AMR Refinement Parameters\n",
    "NUM_LEVELS = 6\n",
    "MAX_NUM_GRID_CELLS = 64\n",
    "REF_RATIO = 2\n",
    "NUM_BUFFER_CELLS = 1\n",
    "BLOCKING_FACTOR = 8\n",
    "REGRID_PERIOD = 1\n",
    "\n",
    "#Coarse/Fine boundary interpolation procedure\n",
    "INTERPOLATION_TYPE = 6\n",
    "\n",
    "TAGGING_THRESHOLDS = [0.7, 0.6, 0.5, 0.4, 0.3]\n",
    "ERROR_COMP = 0\n",
    "\n",
    "#Problem specific Boundary Conditions\n",
    "BC_UPPER = [2, 2, 2]\n",
    "BC_LOWER = [2, 2, 2]\n",
    "\n",
    "#How often to plot states, plot diagnostics, and write checkpoint files\n",
    "PLOT_INT = 1\n",
    "DIAG_INT = 1\n",
    "CHECKPOINT_INT = 10\n",
    "\n",
    "#Restart file names\n",
    "RESTART_FILE = \"initial_data_chk\"\n",
    "IS_INITIAL_DATA = 1\n",
    "\n",
    "#Integration type.\n",
    "RUNGE_KUTTA_TYPE = 4"
   ]
  },
  {
   "cell_type": "code",
   "execution_count": 161,
   "metadata": {
    "scrolled": false
   },
   "outputs": [
    {
     "data": {
      "text/plain": [
       "711"
      ]
     },
     "execution_count": 161,
     "metadata": {},
     "output_type": "execute_result"
    }
   ],
   "source": [
    "INPUTS.write(sti.StoppingCriteria(MAX_STEP, MAX_TIME))\n",
    "INPUTS.write(sti.Geometry(NUM_COARSE_CELLS, LOWER_BOUNDS, UPPER_BOUNDS, PERIODICITY))\n",
    "INPUTS.write(sti.AMRVerbosity())\n",
    "INPUTS.write(sti.RefinementPar(NUM_LEVELS, MAX_NUM_GRID_CELLS, REF_RATIO, NUM_BUFFER_CELLS, BLOCKING_FACTOR, REGRID_PERIOD))\n",
    "INPUTS.write(sti.Interpolation(INTERPOLATION_TYPE))\n",
    "INPUTS.write(sti.BoundaryConditions(BC_LOWER, BC_UPPER))\n",
    "INPUTS.write(sti.TaggingThresholds(TAGGING_THRESHOLDS, ERROR_COMP))\n",
    "INPUTS.write(sti.ProblemType(CFL))\n",
    "INPUTS.write(sti.PlottingCriteria(PLOT_INT, DIAG_INT, CHECKPOINT_INT))\n",
    "INPUTS.write(sti.RestartFromCheckPoint(RESTART_FILE, IS_INITIAL_DATA))\n",
    "INPUTS.write(sti.IntegrationType(RUNGE_KUTTA_TYPE))"
   ]
  },
  {
   "cell_type": "code",
   "execution_count": 162,
   "metadata": {},
   "outputs": [],
   "source": [
    "INPUTS.close()"
   ]
  },
  {
   "cell_type": "markdown",
   "metadata": {},
   "source": [
    "# To be added\n",
    "\n",
    "Less dependence on NRPy+ functions"
   ]
  },
  {
   "cell_type": "code",
   "execution_count": null,
   "metadata": {},
   "outputs": [],
   "source": []
  },
  {
   "cell_type": "code",
   "execution_count": null,
   "metadata": {},
   "outputs": [],
   "source": []
  },
  {
   "cell_type": "code",
   "execution_count": null,
   "metadata": {},
   "outputs": [],
   "source": []
  },
  {
   "cell_type": "code",
   "execution_count": null,
   "metadata": {},
   "outputs": [],
   "source": []
  },
  {
   "cell_type": "code",
   "execution_count": null,
   "metadata": {},
   "outputs": [],
   "source": []
  },
  {
   "cell_type": "code",
   "execution_count": null,
   "metadata": {},
   "outputs": [],
   "source": []
  }
 ],
 "metadata": {
  "kernelspec": {
   "display_name": "Python 3",
   "language": "python",
   "name": "python3"
  },
  "language_info": {
   "codemirror_mode": {
    "name": "ipython",
    "version": 3
   },
   "file_extension": ".py",
   "mimetype": "text/x-python",
   "name": "python",
   "nbconvert_exporter": "python",
   "pygments_lexer": "ipython3",
   "version": "3.5.2"
  }
 },
 "nbformat": 4,
 "nbformat_minor": 2
}
