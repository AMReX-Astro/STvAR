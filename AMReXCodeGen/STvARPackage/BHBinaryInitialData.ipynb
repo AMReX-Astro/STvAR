{
 "cells": [
  {
   "cell_type": "code",
   "execution_count": 1,
   "metadata": {},
   "outputs": [],
   "source": [
    "from STvAR_v3 import *\n",
    "from STvARMetricObjects import *\n",
    "from STvARFiniteDifference import *\n",
    "from STvARAdvection import *\n",
    "from STvARSymbolParsing import *\n",
    "from STvARIndexing import*"
   ]
  },
  {
   "cell_type": "code",
   "execution_count": 2,
   "metadata": {},
   "outputs": [],
   "source": [
    "DiffOrder = 4\n",
    "DiffOrderKO = DiffOrder + 2\n",
    "KOsigma = 0.3\n",
    "dim = 3"
   ]
  },
  {
   "cell_type": "code",
   "execution_count": 3,
   "metadata": {},
   "outputs": [],
   "source": [
    "gridvars = []\n",
    "vartypes = []\n",
    "\n",
    "u = stvar('u',  gridvar = True, vartype = 'state_fab')\n",
    "chi = stvar('chi',  gridvar = True, vartype = 'state_fab')\n",
    "psi = stvar('psi', gridvar = True, vartype = 'state_fab')\n",
    "gamtilde_LL = stvarrank2('gamtilde_LL',  gridvar = True, vartype = 'state_fab', sym = 'sym01')\n",
    "Atilde_LL = stvarrank2('Atilde_LL', gridvar = True, vartype = 'state_fab', sym = 'sym01')"
   ]
  },
  {
   "cell_type": "markdown",
   "metadata": {},
   "source": [
    "# Initialization"
   ]
  },
  {
   "cell_type": "code",
   "execution_count": 4,
   "metadata": {},
   "outputs": [],
   "source": [
    "InitString = \"\""
   ]
  },
  {
   "cell_type": "code",
   "execution_count": null,
   "metadata": {},
   "outputs": [],
   "source": []
  },
  {
   "cell_type": "code",
   "execution_count": null,
   "metadata": {},
   "outputs": [],
   "source": []
  },
  {
   "cell_type": "code",
   "execution_count": 5,
   "metadata": {},
   "outputs": [],
   "source": [
    "x_U = stvarrank1('x_U')"
   ]
  },
  {
   "cell_type": "code",
   "execution_count": 6,
   "metadata": {},
   "outputs": [],
   "source": [
    "Mp = stvar('bareMp')\n",
    "Mp.expr = 0.4856\n",
    "\n",
    "Mm = stvar('bareMm')\n",
    "Mm.expr = 0.4856"
   ]
  },
  {
   "cell_type": "code",
   "execution_count": 7,
   "metadata": {},
   "outputs": [],
   "source": [
    "InitString += Mp.symb2expr() + Mm.symb2expr()"
   ]
  },
  {
   "cell_type": "code",
   "execution_count": 8,
   "metadata": {},
   "outputs": [],
   "source": [
    "cp_U = stvarrank1('cp_U')\n",
    "cp_U.expr = [4.891,0,0]\n",
    "\n",
    "cm_U = stvarrank1('cm_U')\n",
    "cm_U.expr = [-4.891,0,0]"
   ]
  },
  {
   "cell_type": "code",
   "execution_count": 9,
   "metadata": {},
   "outputs": [],
   "source": [
    "InitString += cp_U.symb2expr() +cm_U.symb2expr()"
   ]
  },
  {
   "cell_type": "code",
   "execution_count": 10,
   "metadata": {},
   "outputs": [],
   "source": [
    "Pp_U = stvarrank1('Pp_U')\n",
    "Pp_U.expr = [0, 0.0969, 0]\n",
    "\n",
    "Pm_U = stvarrank1('Pm_U')\n",
    "Pm_U.expr = [0, -0.0969, 0]"
   ]
  },
  {
   "cell_type": "code",
   "execution_count": 11,
   "metadata": {},
   "outputs": [],
   "source": [
    "InitString += Pp_U.symb2expr() + Pm_U.symb2expr()"
   ]
  },
  {
   "cell_type": "code",
   "execution_count": 12,
   "metadata": {},
   "outputs": [],
   "source": [
    "Pp = stvar('Pp')\n",
    "Pp.expr = sp.sqrt(Pp_U.symb[0]**2 + Pp_U.symb[1]**2 + Pp_U.symb[2]**2)\n",
    "\n",
    "Pm = stvar('Pm')\n",
    "Pm.expr = sp.sqrt(Pm_U.symb[0]**2 + Pm_U.symb[1]**2 + Pm_U.symb[2]**2)"
   ]
  },
  {
   "cell_type": "code",
   "execution_count": 13,
   "metadata": {},
   "outputs": [],
   "source": [
    "InitString += Pp.symb2expr() + Pm.symb2expr()"
   ]
  },
  {
   "cell_type": "code",
   "execution_count": 14,
   "metadata": {},
   "outputs": [],
   "source": [
    "xpc_U = stvarrank1('xpc_U')\n",
    "xpc_U.expr = x_U.symb-cp_U.symb\n",
    "\n",
    "xmc_U = stvarrank1('xmc_U')\n",
    "xmc_U.expr = x_U.symb-cm_U.symb"
   ]
  },
  {
   "cell_type": "code",
   "execution_count": 15,
   "metadata": {},
   "outputs": [],
   "source": [
    "InitString+= xpc_U.symb2expr() + xmc_U.symb2expr()"
   ]
  },
  {
   "cell_type": "code",
   "execution_count": 16,
   "metadata": {},
   "outputs": [],
   "source": [
    "rpc = stvar('rpc')\n",
    "rpc.expr = sp.Max(0.001, sp.sqrt(xpc_U.symb[0]**2+xpc_U.symb[1]**2+xpc_U.symb[2]**2))\n",
    "\n",
    "rmc = stvar('rmc')\n",
    "rmc.expr = sp.Max(0.001, sp.sqrt(xmc_U.symb[0]**2+xmc_U.symb[1]**2+xmc_U.symb[2]**2))"
   ]
  },
  {
   "cell_type": "code",
   "execution_count": 17,
   "metadata": {},
   "outputs": [],
   "source": [
    "InitString += rpc.symb2expr()+rmc.symb2expr()"
   ]
  },
  {
   "cell_type": "code",
   "execution_count": 18,
   "metadata": {},
   "outputs": [],
   "source": [
    "npc_U = stvarrank1('npc_U')\n",
    "npc_U.expr = xpc_U.symb/rpc.symb\n",
    "\n",
    "nmc_U = stvarrank1('nmc_U')\n",
    "nmc_U.expr = xmc_U.symb/rmc.symb"
   ]
  },
  {
   "cell_type": "code",
   "execution_count": 19,
   "metadata": {},
   "outputs": [],
   "source": [
    "InitString += npc_U.symb2expr()\n",
    "InitString += nmc_U.symb2expr()"
   ]
  },
  {
   "cell_type": "code",
   "execution_count": 20,
   "metadata": {},
   "outputs": [],
   "source": [
    "Abarp_UU = stvarrank2('Abarp_UU', sym = 'sym01')\n",
    "\n",
    "for i in range(3):\n",
    "    for j in range(3):\n",
    "        Abarp_UU.expr[i][j] += 3/(2*rpc.symb**2)*(Pp_U.symb[i]*npc_U.symb[j]+Pp_U.symb[j]*npc_U.symb[i])\n",
    "        for k in range(3):\n",
    "            Abarp_UU.expr[i][j] += -3/(2*rpc.symb**2)*(sp.eye(3)[i,j]-npc_U.symb[i]*npc_U.symb[j])*npc_U.symb[k]*Pp_U.symb[k]\n",
    "            \n",
    "Abarm_UU = stvarrank2('Abarm_UU', sym = 'sym01')\n",
    "\n",
    "for i in range(3):\n",
    "    for j in range(3):\n",
    "        Abarm_UU.expr[i][j] += 3/(2*rmc.symb**2)*(Pm_U.symb[i]*nmc_U.symb[j]+Pm_U.symb[j]*nmc_U.symb[i])\n",
    "        for k in range(3):\n",
    "            Abarm_UU.expr[i][j] += -3/(2*rmc.symb**2)*(sp.eye(3)[i,j]-nmc_U.symb[i]*nmc_U.symb[j])*nmc_U.symb[k]*Pm_U.symb[k]"
   ]
  },
  {
   "cell_type": "code",
   "execution_count": 21,
   "metadata": {},
   "outputs": [],
   "source": [
    "InitString+=Abarp_UU.symb2expr()+Abarm_UU.symb2expr()"
   ]
  },
  {
   "cell_type": "code",
   "execution_count": 22,
   "metadata": {},
   "outputs": [],
   "source": [
    "Abar_UU = stvarrank2('Abar_UU', sym='sym01')\n",
    "Abar_UU.expr = Abarp_UU.symb + Abarm_UU.symb"
   ]
  },
  {
   "cell_type": "code",
   "execution_count": 23,
   "metadata": {},
   "outputs": [],
   "source": [
    "InitString+=Abar_UU.symb2expr()"
   ]
  },
  {
   "cell_type": "code",
   "execution_count": 24,
   "metadata": {},
   "outputs": [],
   "source": [
    "alphafunc = stvar('alphafunc', gridvar = True, vartype = 'state_fab')\n",
    "alphafunc.expr = 1/(Mp.symb/(2*rpc.symb)+Mm.symb/(2*rmc.symb))"
   ]
  },
  {
   "cell_type": "code",
   "execution_count": 25,
   "metadata": {},
   "outputs": [],
   "source": [
    "InitString += alphafunc.setisymb()+alphafunc.symb2expr()"
   ]
  },
  {
   "cell_type": "code",
   "execution_count": 26,
   "metadata": {},
   "outputs": [],
   "source": [
    "betafunc = stvar('betafunc', gridvar = True, vartype = 'state_fab')\n",
    "for i in range(3):\n",
    "    for j in range(3):\n",
    "        betafunc.expr += 1/8*(alphafunc.symb**7)*Abar_UU.symb[i][j]**2"
   ]
  },
  {
   "cell_type": "code",
   "execution_count": 27,
   "metadata": {},
   "outputs": [],
   "source": [
    "InitString += betafunc.setisymb()"
   ]
  },
  {
   "cell_type": "code",
   "execution_count": 28,
   "metadata": {},
   "outputs": [],
   "source": [
    "psi.expr = 1+1/alphafunc.symb "
   ]
  },
  {
   "cell_type": "code",
   "execution_count": 29,
   "metadata": {},
   "outputs": [],
   "source": [
    "InitString += psi.setisymb()+psi.symb2expr()"
   ]
  },
  {
   "cell_type": "code",
   "execution_count": 30,
   "metadata": {},
   "outputs": [],
   "source": [
    "chi.expr = psi.symb**(-4)"
   ]
  },
  {
   "cell_type": "code",
   "execution_count": 31,
   "metadata": {},
   "outputs": [],
   "source": [
    "InitString += chi.setisymb()"
   ]
  },
  {
   "cell_type": "code",
   "execution_count": 32,
   "metadata": {},
   "outputs": [],
   "source": [
    "Abar_LL = stvarrank2('Abar_LL', sym = 'sym01')\n",
    "Abar_LL.expr = Abar_UU.symb"
   ]
  },
  {
   "cell_type": "code",
   "execution_count": 33,
   "metadata": {},
   "outputs": [],
   "source": [
    "InitString += Abar_LL.symb2expr()"
   ]
  },
  {
   "cell_type": "code",
   "execution_count": 34,
   "metadata": {},
   "outputs": [],
   "source": [
    "Atilde_LL.expr = psi.symb**(-6)*Abar_LL.symb"
   ]
  },
  {
   "cell_type": "code",
   "execution_count": 35,
   "metadata": {},
   "outputs": [],
   "source": [
    "InitString += Atilde_LL.setisymb()"
   ]
  },
  {
   "cell_type": "code",
   "execution_count": 36,
   "metadata": {},
   "outputs": [],
   "source": [
    "up0 = stvar('up0')\n",
    "up0.expr = Mp.symb**4 + 10*(Mp.symb**3)*rpc.symb + 40*(Mp.symb**2)*rpc.symb**2 + 80*Mp.symb*rpc.symb**3 + 80*rpc.symb**4\n",
    "\n",
    "um0 = stvar('um0')\n",
    "um0.expr = Mm.symb**4 + 10*(Mm.symb**3)*rmc.symb + 40*(Mm.symb**2)*rmc.symb**2 + 80*Mm.symb*rmc.symb**3 + 80*rmc.symb**4"
   ]
  },
  {
   "cell_type": "code",
   "execution_count": 37,
   "metadata": {},
   "outputs": [],
   "source": [
    "InitString += up0.symb2expr() + um0.symb2expr()"
   ]
  },
  {
   "cell_type": "code",
   "execution_count": 38,
   "metadata": {},
   "outputs": [],
   "source": [
    "up2 = stvar('up2')\n",
    "up2.expr = (Mp.symb/(5*rpc.symb**3))*(42*(Mp.symb**5)*rpc.symb + 378*(Mp.symb**4)*rpc.symb**2 + 1316*(Mp.symb**3)*rpc.symb**3 + 2156*(Mp.symb**2)*rpc.symb**4 + 1536*Mp.symb*rpc.symb**5 + 240*rpc.symb**6 + 21*Mp.symb*((Mp.symb + 2*rpc.symb)**5)*sp.log(Mp.symb/(Mp.symb + 2*rpc.symb)))\n",
    "\n",
    "um2 = stvar('um2')\n",
    "um2.expr = (Mm.symb/(5*rmc.symb**3))*(42*(Mm.symb**5)*rmc.symb + 378*(Mm.symb**4)*rmc.symb**2 + 1316*(Mm.symb**3)*rmc.symb**3 + 2156*(Mm.symb**2)*rmc.symb**4 + 1536*Mm.symb*rmc.symb**5 + 240*rmc.symb**6 + 21*Mm.symb*((Mm.symb + 2*rmc.symb)**5)*sp.log(Mm.symb/(Mm.symb + 2*rmc.symb)))"
   ]
  },
  {
   "cell_type": "code",
   "execution_count": 39,
   "metadata": {},
   "outputs": [],
   "source": [
    "InitString += up2.symb2expr() + um2.symb2expr()"
   ]
  },
  {
   "cell_type": "code",
   "execution_count": 40,
   "metadata": {},
   "outputs": [],
   "source": [
    "cosp = stvar('cosp')\n",
    "cosp.expr = xpc_U.symb[1]/rpc.symb\n",
    "\n",
    "cosm = stvar('cosm')\n",
    "cosm.expr = xmc_U.symb[1]/rmc.symb"
   ]
  },
  {
   "cell_type": "code",
   "execution_count": 41,
   "metadata": {},
   "outputs": [],
   "source": [
    "InitString += cosp.symb2expr() + cosm.symb2expr()"
   ]
  },
  {
   "cell_type": "code",
   "execution_count": 42,
   "metadata": {},
   "outputs": [],
   "source": [
    "Lp2 = stvar('Lp2')\n",
    "Lp2.expr = (3/2)*cosp.symb**2 - 1/2\n",
    "\n",
    "Lm2 = stvar('Lm2')\n",
    "Lm2.expr = (3/2)*cosm.symb**2 - 1/2"
   ]
  },
  {
   "cell_type": "code",
   "execution_count": 43,
   "metadata": {},
   "outputs": [],
   "source": [
    "InitString += Lp2.symb2expr() + Lm2.symb2expr()"
   ]
  },
  {
   "cell_type": "code",
   "execution_count": 44,
   "metadata": {},
   "outputs": [],
   "source": [
    "uPp = stvar('uPp')\n",
    "uPp.expr = Mp.symb*(Pp.symb/Mp.symb)**2/(8*(Mp.symb + 2*rpc.symb)**5)*(up0.symb+up2.symb*Lp2.symb)\n",
    "\n",
    "uPm = stvar('uPm')\n",
    "uPm.expr = Mm.symb*(Pm.symb/Mm.symb)**2/(8*(Mm.symb + 2*rmc.symb)**5)*(um0.symb+um2.symb*Lm2.symb)"
   ]
  },
  {
   "cell_type": "code",
   "execution_count": 45,
   "metadata": {},
   "outputs": [],
   "source": [
    "InitString += uPp.symb2expr() + uPm.symb2expr()"
   ]
  },
  {
   "cell_type": "code",
   "execution_count": 46,
   "metadata": {},
   "outputs": [],
   "source": [
    "u.expr = uPp.symb + uPm.symb"
   ]
  },
  {
   "cell_type": "code",
   "execution_count": null,
   "metadata": {},
   "outputs": [],
   "source": []
  },
  {
   "cell_type": "code",
   "execution_count": 47,
   "metadata": {},
   "outputs": [],
   "source": [
    "InitString += u.setisymb()"
   ]
  },
  {
   "cell_type": "code",
   "execution_count": 48,
   "metadata": {},
   "outputs": [
    {
     "name": "stdout",
     "output_type": "stream",
     "text": [
      "        amrex::Real bareMp = 0.48559999999999998;\n",
      "\n",
      "        amrex::Real bareMm = 0.48559999999999998;\n",
      "\n",
      "        amrex::Real cp_U_0 = 4.891;\n",
      "        amrex::Real cp_U_1 = 0;\n",
      "        amrex::Real cp_U_2 = 0;\n",
      "\n",
      "        amrex::Real cm_U_0 = -4.891;\n",
      "        amrex::Real cm_U_1 = 0;\n",
      "        amrex::Real cm_U_2 = 0;\n",
      "\n",
      "        amrex::Real Pp_U_0 = 0;\n",
      "        amrex::Real Pp_U_1 = 0.0969;\n",
      "        amrex::Real Pp_U_2 = 0;\n",
      "\n",
      "        amrex::Real Pm_U_0 = 0;\n",
      "        amrex::Real Pm_U_1 = -0.0969;\n",
      "        amrex::Real Pm_U_2 = 0;\n",
      "\n",
      "        amrex::Real Pp = std::sqrt(std::pow(Pp_U_0, 2) + std::pow(Pp_U_1, 2) + std::pow(Pp_U_2, 2));\n",
      "\n",
      "        amrex::Real Pm = std::sqrt(std::pow(Pm_U_0, 2) + std::pow(Pm_U_1, 2) + std::pow(Pm_U_2, 2));\n",
      "\n",
      "        amrex::Real xpc_U_0 = -cp_U_0 + x_U_0;\n",
      "        amrex::Real xpc_U_1 = -cp_U_1 + x_U_1;\n",
      "        amrex::Real xpc_U_2 = -cp_U_2 + x_U_2;\n",
      "\n",
      "        amrex::Real xmc_U_0 = -cm_U_0 + x_U_0;\n",
      "        amrex::Real xmc_U_1 = -cm_U_1 + x_U_1;\n",
      "        amrex::Real xmc_U_2 = -cm_U_2 + x_U_2;\n",
      "\n",
      "        amrex::Real rpc = std::max(0.00100000000000000, std::sqrt(std::pow(xpc_U_0, 2) + std::pow(xpc_U_1, 2) + std::pow(xpc_U_2, 2)));\n",
      "\n",
      "        amrex::Real rmc = std::max(0.00100000000000000, std::sqrt(std::pow(xmc_U_0, 2) + std::pow(xmc_U_1, 2) + std::pow(xmc_U_2, 2)));\n",
      "\n",
      "        amrex::Real npc_U_0 = xpc_U_0/rpc;\n",
      "        amrex::Real npc_U_1 = xpc_U_1/rpc;\n",
      "        amrex::Real npc_U_2 = xpc_U_2/rpc;\n",
      "\n",
      "        amrex::Real nmc_U_0 = xmc_U_0/rmc;\n",
      "        amrex::Real nmc_U_1 = xmc_U_1/rmc;\n",
      "        amrex::Real nmc_U_2 = xmc_U_2/rmc;\n",
      "\n",
      "        amrex::Real Abarp_UU_00 = -3.0/2.0*Pp_U_0*npc_U_0*(1 - std::pow(npc_U_0, 2))/std::pow(rpc, 2) + 3*Pp_U_0*npc_U_0/std::pow(rpc, 2) - 3.0/2.0*Pp_U_1*npc_U_1*(1 - std::pow(npc_U_0, 2))/std::pow(rpc, 2) - 3.0/2.0*Pp_U_2*npc_U_2*(1 - std::pow(npc_U_0, 2))/std::pow(rpc, 2);\n",
      "        amrex::Real Abarp_UU_01 = (3.0/2.0)*Pp_U_0*std::pow(npc_U_0, 2)*npc_U_1/std::pow(rpc, 2) + (3.0/2.0)*Pp_U_1*npc_U_0*std::pow(npc_U_1, 2)/std::pow(rpc, 2) + (3.0/2.0)*Pp_U_2*npc_U_0*npc_U_1*npc_U_2/std::pow(rpc, 2) + (3.0/2.0)*(Pp_U_0*npc_U_1 + Pp_U_1*npc_U_0)/std::pow(rpc, 2);\n",
      "        amrex::Real Abarp_UU_02 = (3.0/2.0)*Pp_U_0*std::pow(npc_U_0, 2)*npc_U_2/std::pow(rpc, 2) + (3.0/2.0)*Pp_U_1*npc_U_0*npc_U_1*npc_U_2/std::pow(rpc, 2) + (3.0/2.0)*Pp_U_2*npc_U_0*std::pow(npc_U_2, 2)/std::pow(rpc, 2) + (3.0/2.0)*(Pp_U_0*npc_U_2 + Pp_U_2*npc_U_0)/std::pow(rpc, 2);\n",
      "        amrex::Real Abarp_UU_11 = -3.0/2.0*Pp_U_0*npc_U_0*(1 - std::pow(npc_U_1, 2))/std::pow(rpc, 2) - 3.0/2.0*Pp_U_1*npc_U_1*(1 - std::pow(npc_U_1, 2))/std::pow(rpc, 2) + 3*Pp_U_1*npc_U_1/std::pow(rpc, 2) - 3.0/2.0*Pp_U_2*npc_U_2*(1 - std::pow(npc_U_1, 2))/std::pow(rpc, 2);\n",
      "        amrex::Real Abarp_UU_12 = (3.0/2.0)*Pp_U_0*npc_U_0*npc_U_1*npc_U_2/std::pow(rpc, 2) + (3.0/2.0)*Pp_U_1*std::pow(npc_U_1, 2)*npc_U_2/std::pow(rpc, 2) + (3.0/2.0)*Pp_U_2*npc_U_1*std::pow(npc_U_2, 2)/std::pow(rpc, 2) + (3.0/2.0)*(Pp_U_1*npc_U_2 + Pp_U_2*npc_U_1)/std::pow(rpc, 2);\n",
      "        amrex::Real Abarp_UU_22 = -3.0/2.0*Pp_U_0*npc_U_0*(1 - std::pow(npc_U_2, 2))/std::pow(rpc, 2) - 3.0/2.0*Pp_U_1*npc_U_1*(1 - std::pow(npc_U_2, 2))/std::pow(rpc, 2) - 3.0/2.0*Pp_U_2*npc_U_2*(1 - std::pow(npc_U_2, 2))/std::pow(rpc, 2) + 3*Pp_U_2*npc_U_2/std::pow(rpc, 2);\n",
      "\n",
      "        amrex::Real Abarm_UU_00 = -3.0/2.0*Pm_U_0*nmc_U_0*(1 - std::pow(nmc_U_0, 2))/std::pow(rmc, 2) + 3*Pm_U_0*nmc_U_0/std::pow(rmc, 2) - 3.0/2.0*Pm_U_1*nmc_U_1*(1 - std::pow(nmc_U_0, 2))/std::pow(rmc, 2) - 3.0/2.0*Pm_U_2*nmc_U_2*(1 - std::pow(nmc_U_0, 2))/std::pow(rmc, 2);\n",
      "        amrex::Real Abarm_UU_01 = (3.0/2.0)*Pm_U_0*std::pow(nmc_U_0, 2)*nmc_U_1/std::pow(rmc, 2) + (3.0/2.0)*Pm_U_1*nmc_U_0*std::pow(nmc_U_1, 2)/std::pow(rmc, 2) + (3.0/2.0)*Pm_U_2*nmc_U_0*nmc_U_1*nmc_U_2/std::pow(rmc, 2) + (3.0/2.0)*(Pm_U_0*nmc_U_1 + Pm_U_1*nmc_U_0)/std::pow(rmc, 2);\n",
      "        amrex::Real Abarm_UU_02 = (3.0/2.0)*Pm_U_0*std::pow(nmc_U_0, 2)*nmc_U_2/std::pow(rmc, 2) + (3.0/2.0)*Pm_U_1*nmc_U_0*nmc_U_1*nmc_U_2/std::pow(rmc, 2) + (3.0/2.0)*Pm_U_2*nmc_U_0*std::pow(nmc_U_2, 2)/std::pow(rmc, 2) + (3.0/2.0)*(Pm_U_0*nmc_U_2 + Pm_U_2*nmc_U_0)/std::pow(rmc, 2);\n",
      "        amrex::Real Abarm_UU_11 = -3.0/2.0*Pm_U_0*nmc_U_0*(1 - std::pow(nmc_U_1, 2))/std::pow(rmc, 2) - 3.0/2.0*Pm_U_1*nmc_U_1*(1 - std::pow(nmc_U_1, 2))/std::pow(rmc, 2) + 3*Pm_U_1*nmc_U_1/std::pow(rmc, 2) - 3.0/2.0*Pm_U_2*nmc_U_2*(1 - std::pow(nmc_U_1, 2))/std::pow(rmc, 2);\n",
      "        amrex::Real Abarm_UU_12 = (3.0/2.0)*Pm_U_0*nmc_U_0*nmc_U_1*nmc_U_2/std::pow(rmc, 2) + (3.0/2.0)*Pm_U_1*std::pow(nmc_U_1, 2)*nmc_U_2/std::pow(rmc, 2) + (3.0/2.0)*Pm_U_2*nmc_U_1*std::pow(nmc_U_2, 2)/std::pow(rmc, 2) + (3.0/2.0)*(Pm_U_1*nmc_U_2 + Pm_U_2*nmc_U_1)/std::pow(rmc, 2);\n",
      "        amrex::Real Abarm_UU_22 = -3.0/2.0*Pm_U_0*nmc_U_0*(1 - std::pow(nmc_U_2, 2))/std::pow(rmc, 2) - 3.0/2.0*Pm_U_1*nmc_U_1*(1 - std::pow(nmc_U_2, 2))/std::pow(rmc, 2) - 3.0/2.0*Pm_U_2*nmc_U_2*(1 - std::pow(nmc_U_2, 2))/std::pow(rmc, 2) + 3*Pm_U_2*nmc_U_2/std::pow(rmc, 2);\n",
      "\n",
      "        amrex::Real Abar_UU_00 = Abarm_UU_00 + Abarp_UU_00;\n",
      "        amrex::Real Abar_UU_01 = Abarm_UU_01 + Abarp_UU_01;\n",
      "        amrex::Real Abar_UU_02 = Abarm_UU_02 + Abarp_UU_02;\n",
      "        amrex::Real Abar_UU_11 = Abarm_UU_11 + Abarp_UU_11;\n",
      "        amrex::Real Abar_UU_12 = Abarm_UU_12 + Abarp_UU_12;\n",
      "        amrex::Real Abar_UU_22 = Abarm_UU_22 + Abarp_UU_22;\n",
      "\n",
      "        state_fab(i, j, k, Idx::alphafunc) = 1.0/((1.0/2.0)*bareMm/rmc + (1.0/2.0)*bareMp/rpc);\n",
      "\n",
      "        amrex::Real alphafunc = 1.0/((1.0/2.0)*bareMm/rmc + (1.0/2.0)*bareMp/rpc);\n",
      "\n",
      "        state_fab(i, j, k, Idx::betafunc) = 0.125*std::pow(Abar_UU_00, 2)*std::pow(alphafunc, 7) + 0.25*std::pow(Abar_UU_01, 2)*std::pow(alphafunc, 7) + 0.25*std::pow(Abar_UU_02, 2)*std::pow(alphafunc, 7) + 0.125*std::pow(Abar_UU_11, 2)*std::pow(alphafunc, 7) + 0.25*std::pow(Abar_UU_12, 2)*std::pow(alphafunc, 7) + 0.125*std::pow(Abar_UU_22, 2)*std::pow(alphafunc, 7);\n",
      "\n",
      "        state_fab(i, j, k, Idx::psi) = 1 + 1.0/alphafunc;\n",
      "\n",
      "        amrex::Real psi = 1 + 1.0/alphafunc;\n",
      "\n",
      "        state_fab(i, j, k, Idx::chi) = std::pow(psi, -4);\n",
      "\n",
      "        amrex::Real Abar_LL_00 = Abar_UU_00;\n",
      "        amrex::Real Abar_LL_01 = Abar_UU_01;\n",
      "        amrex::Real Abar_LL_02 = Abar_UU_02;\n",
      "        amrex::Real Abar_LL_11 = Abar_UU_11;\n",
      "        amrex::Real Abar_LL_12 = Abar_UU_12;\n",
      "        amrex::Real Abar_LL_22 = Abar_UU_22;\n",
      "\n",
      "        state_fab(i, j, k, Idx::Atilde_LL_00) = Abar_LL_00/std::pow(psi, 6);\n",
      "        state_fab(i, j, k, Idx::Atilde_LL_01) = Abar_LL_01/std::pow(psi, 6);\n",
      "        state_fab(i, j, k, Idx::Atilde_LL_02) = Abar_LL_02/std::pow(psi, 6);\n",
      "        state_fab(i, j, k, Idx::Atilde_LL_11) = Abar_LL_11/std::pow(psi, 6);\n",
      "        state_fab(i, j, k, Idx::Atilde_LL_12) = Abar_LL_12/std::pow(psi, 6);\n",
      "        state_fab(i, j, k, Idx::Atilde_LL_22) = Abar_LL_22/std::pow(psi, 6);\n",
      "\n",
      "        amrex::Real up0 = std::pow(bareMp, 4) + 10*std::pow(bareMp, 3)*rpc + 40*std::pow(bareMp, 2)*std::pow(rpc, 2) + 80*bareMp*std::pow(rpc, 3) + 80*std::pow(rpc, 4);\n",
      "\n",
      "        amrex::Real um0 = std::pow(bareMm, 4) + 10*std::pow(bareMm, 3)*rmc + 40*std::pow(bareMm, 2)*std::pow(rmc, 2) + 80*bareMm*std::pow(rmc, 3) + 80*std::pow(rmc, 4);\n",
      "\n",
      "        amrex::Real up2 = (1.0/5.0)*bareMp*(42*std::pow(bareMp, 5)*rpc + 378*std::pow(bareMp, 4)*std::pow(rpc, 2) + 1316*std::pow(bareMp, 3)*std::pow(rpc, 3) + 2156*std::pow(bareMp, 2)*std::pow(rpc, 4) + 1536*bareMp*std::pow(rpc, 5) + 21*bareMp*std::pow(bareMp + 2*rpc, 5)*std::log(bareMp/(bareMp + 2*rpc)) + 240*std::pow(rpc, 6))/std::pow(rpc, 3);\n",
      "\n",
      "        amrex::Real um2 = (1.0/5.0)*bareMm*(42*std::pow(bareMm, 5)*rmc + 378*std::pow(bareMm, 4)*std::pow(rmc, 2) + 1316*std::pow(bareMm, 3)*std::pow(rmc, 3) + 2156*std::pow(bareMm, 2)*std::pow(rmc, 4) + 1536*bareMm*std::pow(rmc, 5) + 21*bareMm*std::pow(bareMm + 2*rmc, 5)*std::log(bareMm/(bareMm + 2*rmc)) + 240*std::pow(rmc, 6))/std::pow(rmc, 3);\n",
      "\n",
      "        amrex::Real cosp = xpc_U_1/rpc;\n",
      "\n",
      "        amrex::Real cosm = xmc_U_1/rmc;\n",
      "\n",
      "        amrex::Real Lp2 = 1.5*std::pow(cosp, 2) - 0.5;\n",
      "\n",
      "        amrex::Real Lm2 = 1.5*std::pow(cosm, 2) - 0.5;\n",
      "\n",
      "        amrex::Real uPp = (1.0/8.0)*std::pow(Pp, 2)*(Lp2*up2 + up0)/(bareMp*std::pow(bareMp + 2*rpc, 5));\n",
      "\n",
      "        amrex::Real uPm = (1.0/8.0)*std::pow(Pm, 2)*(Lm2*um2 + um0)/(bareMm*std::pow(bareMm + 2*rmc, 5));\n",
      "\n",
      "        state_fab(i, j, k, Idx::u) = uPm + uPp;\n",
      "\n",
      "\n"
     ]
    }
   ],
   "source": [
    "print(InitString.replace(\"state_fabIdx\", \"Idx\"))"
   ]
  },
  {
   "cell_type": "markdown",
   "metadata": {},
   "source": [
    "# Diagnostics"
   ]
  },
  {
   "cell_type": "code",
   "execution_count": 49,
   "metadata": {},
   "outputs": [],
   "source": [
    "Hchi = stvar('Hchi', gridvar = True, varprefix = 'diag', vartype = 'Diag')\n",
    "Hpsi = stvar('Hpsi', gridvar = True, varprefix = 'diag', vartype = 'Diag')\n",
    "Hu = stvar('Hu', gridvar = True, varprefix = 'diag', vartype = 'Diag')"
   ]
  },
  {
   "cell_type": "code",
   "execution_count": 50,
   "metadata": {},
   "outputs": [],
   "source": [
    "DiagString = \"\""
   ]
  },
  {
   "cell_type": "code",
   "execution_count": 51,
   "metadata": {},
   "outputs": [],
   "source": [
    "DiagString += u.symb2isymb() + psi.symb2isymb() + chi.symb2isymb() + alphafunc.symb2isymb() + betafunc.symb2isymb()"
   ]
  },
  {
   "cell_type": "code",
   "execution_count": 52,
   "metadata": {},
   "outputs": [],
   "source": [
    "dDu_L = u.diff('dD', Accuracy = DiffOrder)\n",
    "dDDu_LL = u.diff('dDD', Accuracy = DiffOrder)\n",
    "\n",
    "dDpsi_L = psi.diff('dD', Accuracy = DiffOrder)\n",
    "dDDpsi_LL = psi.diff('dDD', Accuracy = DiffOrder)\n",
    "\n",
    "dDchi_L = chi.diff('dD', Accuracy = DiffOrder)\n",
    "dDDchi_LL = chi.diff('dDD', Accuracy = DiffOrder)"
   ]
  },
  {
   "cell_type": "code",
   "execution_count": 53,
   "metadata": {},
   "outputs": [],
   "source": [
    "DiagString += dDu_L.symb2isymb()+dDDu_LL.symb2isymb()\n",
    "DiagString += dDpsi_L.symb2isymb()+dDDpsi_LL.symb2isymb()\n",
    "DiagString += dDchi_L.symb2isymb()+dDDchi_LL.symb2isymb()"
   ]
  },
  {
   "cell_type": "code",
   "execution_count": 54,
   "metadata": {},
   "outputs": [],
   "source": [
    "RsclrPsi = stvar('RsclrPsi')\n",
    "RsclrChi = stvar('RsclrChi')"
   ]
  },
  {
   "cell_type": "code",
   "execution_count": 55,
   "metadata": {},
   "outputs": [],
   "source": [
    "for k in range(3):\n",
    "    RsclrPsi.expr += -8*(psi.symb**(-5))*dDDpsi_LL.symb[k][k]\n",
    "    RsclrChi.expr += 2*dDDchi_LL.symb[k][k]-5/(2*chi.symb)*dDchi_L.symb[k]*dDchi_L.symb[k]"
   ]
  },
  {
   "cell_type": "code",
   "execution_count": 56,
   "metadata": {},
   "outputs": [],
   "source": [
    "DiagString += RsclrPsi.symb2expr() + RsclrChi.symb2expr()"
   ]
  },
  {
   "cell_type": "code",
   "execution_count": 57,
   "metadata": {},
   "outputs": [],
   "source": [
    "DiagString += Atilde_LL.symb2isymb()"
   ]
  },
  {
   "cell_type": "code",
   "execution_count": 58,
   "metadata": {},
   "outputs": [],
   "source": [
    "Atilde_UU = stvarrank2('Atilde_UU', sym = 'sym01')\n",
    "Atilde_UU.expr = Atilde_LL.symb"
   ]
  },
  {
   "cell_type": "code",
   "execution_count": 59,
   "metadata": {},
   "outputs": [],
   "source": [
    "DiagString += Atilde_UU.symb2expr()"
   ]
  },
  {
   "cell_type": "code",
   "execution_count": 60,
   "metadata": {},
   "outputs": [],
   "source": [
    "Hpsi.expr += RsclrPsi.symb\n",
    "Hchi.expr += RsclrChi.symb\n",
    "for i in range(3):\n",
    "    for j in range(3):\n",
    "        Hpsi.expr += Atilde_LL.symb[i][j]*Atilde_UU.symb[i][j]\n",
    "        Hchi.expr += Atilde_LL.symb[i][j]*Atilde_UU.symb[i][j]"
   ]
  },
  {
   "cell_type": "code",
   "execution_count": 61,
   "metadata": {},
   "outputs": [],
   "source": [
    "Hu.expr += betafunc.symb*(alphafunc.symb*(1+u.symb)+1)**(-7)\n",
    "for k in range(3):\n",
    "    Hu.expr += dDDu_LL.symb[k][k]\n",
    "    \n",
    "Hu.expr *= psi.symb**(-5)"
   ]
  },
  {
   "cell_type": "code",
   "execution_count": 62,
   "metadata": {},
   "outputs": [],
   "source": [
    "DiagString += Hpsi.setisymb() + Hchi.setisymb() + Hu.setisymb()"
   ]
  },
  {
   "cell_type": "code",
   "execution_count": null,
   "metadata": {},
   "outputs": [],
   "source": []
  },
  {
   "cell_type": "code",
   "execution_count": null,
   "metadata": {},
   "outputs": [],
   "source": []
  },
  {
   "cell_type": "code",
   "execution_count": 63,
   "metadata": {
    "scrolled": false
   },
   "outputs": [
    {
     "name": "stdout",
     "output_type": "stream",
     "text": [
      "        amrex::Real u = state_fab(i, j, k, Idx::u);\n",
      "\n",
      "        amrex::Real psi = state_fab(i, j, k, Idx::psi);\n",
      "\n",
      "        amrex::Real chi = state_fab(i, j, k, Idx::chi);\n",
      "\n",
      "        amrex::Real alphafunc = state_fab(i, j, k, Idx::alphafunc);\n",
      "\n",
      "        amrex::Real betafunc = state_fab(i, j, k, Idx::betafunc);\n",
      "\n",
      "        amrex::Real dDu_L_0 = ((2.0/3.0)*state_fab(i + 1, j, k, Idx::u) - 1.0/12.0*state_fab(i + 2, j, k, Idx::u) - 2.0/3.0*state_fab(i - 1, j, k, Idx::u) + (1.0/12.0)*state_fab(i - 2, j, k, Idx::u))/dx[0];\n",
      "        amrex::Real dDu_L_1 = ((2.0/3.0)*state_fab(i, j + 1, k, Idx::u) - 1.0/12.0*state_fab(i, j + 2, k, Idx::u) - 2.0/3.0*state_fab(i, j - 1, k, Idx::u) + (1.0/12.0)*state_fab(i, j - 2, k, Idx::u))/dx[1];\n",
      "        amrex::Real dDu_L_2 = ((2.0/3.0)*state_fab(i, j, k + 1, Idx::u) - 1.0/12.0*state_fab(i, j, k + 2, Idx::u) - 2.0/3.0*state_fab(i, j, k - 1, Idx::u) + (1.0/12.0)*state_fab(i, j, k - 2, Idx::u))/dx[2];\n",
      "\n",
      "        amrex::Real dDDu_LL_00 = ((4.0/3.0)*state_fab(i + 1, j, k, Idx::u) - 1.0/12.0*state_fab(i + 2, j, k, Idx::u) + (4.0/3.0)*state_fab(i - 1, j, k, Idx::u) - 1.0/12.0*state_fab(i - 2, j, k, Idx::u) - 5.0/2.0*state_fab(i, j, k, Idx::u))/std::pow(dx[0], 2);\n",
      "        amrex::Real dDDu_LL_01 = ((4.0/9.0)*state_fab(i + 1, j + 1, k, Idx::u) - 1.0/18.0*state_fab(i + 1, j + 2, k, Idx::u) - 4.0/9.0*state_fab(i + 1, j - 1, k, Idx::u) + (1.0/18.0)*state_fab(i + 1, j - 2, k, Idx::u) - 1.0/18.0*state_fab(i + 2, j + 1, k, Idx::u) + (1.0/144.0)*state_fab(i + 2, j + 2, k, Idx::u) + (1.0/18.0)*state_fab(i + 2, j - 1, k, Idx::u) - 1.0/144.0*state_fab(i + 2, j - 2, k, Idx::u) - 4.0/9.0*state_fab(i - 1, j + 1, k, Idx::u) + (1.0/18.0)*state_fab(i - 1, j + 2, k, Idx::u) + (4.0/9.0)*state_fab(i - 1, j - 1, k, Idx::u) - 1.0/18.0*state_fab(i - 1, j - 2, k, Idx::u) + (1.0/18.0)*state_fab(i - 2, j + 1, k, Idx::u) - 1.0/144.0*state_fab(i - 2, j + 2, k, Idx::u) - 1.0/18.0*state_fab(i - 2, j - 1, k, Idx::u) + (1.0/144.0)*state_fab(i - 2, j - 2, k, Idx::u))/(dx[0]*dx[1]);\n",
      "        amrex::Real dDDu_LL_02 = ((4.0/9.0)*state_fab(i + 1, j, k + 1, Idx::u) - 1.0/18.0*state_fab(i + 1, j, k + 2, Idx::u) - 4.0/9.0*state_fab(i + 1, j, k - 1, Idx::u) + (1.0/18.0)*state_fab(i + 1, j, k - 2, Idx::u) - 1.0/18.0*state_fab(i + 2, j, k + 1, Idx::u) + (1.0/144.0)*state_fab(i + 2, j, k + 2, Idx::u) + (1.0/18.0)*state_fab(i + 2, j, k - 1, Idx::u) - 1.0/144.0*state_fab(i + 2, j, k - 2, Idx::u) - 4.0/9.0*state_fab(i - 1, j, k + 1, Idx::u) + (1.0/18.0)*state_fab(i - 1, j, k + 2, Idx::u) + (4.0/9.0)*state_fab(i - 1, j, k - 1, Idx::u) - 1.0/18.0*state_fab(i - 1, j, k - 2, Idx::u) + (1.0/18.0)*state_fab(i - 2, j, k + 1, Idx::u) - 1.0/144.0*state_fab(i - 2, j, k + 2, Idx::u) - 1.0/18.0*state_fab(i - 2, j, k - 1, Idx::u) + (1.0/144.0)*state_fab(i - 2, j, k - 2, Idx::u))/(dx[0]*dx[2]);\n",
      "        amrex::Real dDDu_LL_11 = ((4.0/3.0)*state_fab(i, j + 1, k, Idx::u) - 1.0/12.0*state_fab(i, j + 2, k, Idx::u) + (4.0/3.0)*state_fab(i, j - 1, k, Idx::u) - 1.0/12.0*state_fab(i, j - 2, k, Idx::u) - 5.0/2.0*state_fab(i, j, k, Idx::u))/std::pow(dx[1], 2);\n",
      "        amrex::Real dDDu_LL_12 = ((4.0/9.0)*state_fab(i, j + 1, k + 1, Idx::u) - 1.0/18.0*state_fab(i, j + 1, k + 2, Idx::u) - 4.0/9.0*state_fab(i, j + 1, k - 1, Idx::u) + (1.0/18.0)*state_fab(i, j + 1, k - 2, Idx::u) - 1.0/18.0*state_fab(i, j + 2, k + 1, Idx::u) + (1.0/144.0)*state_fab(i, j + 2, k + 2, Idx::u) + (1.0/18.0)*state_fab(i, j + 2, k - 1, Idx::u) - 1.0/144.0*state_fab(i, j + 2, k - 2, Idx::u) - 4.0/9.0*state_fab(i, j - 1, k + 1, Idx::u) + (1.0/18.0)*state_fab(i, j - 1, k + 2, Idx::u) + (4.0/9.0)*state_fab(i, j - 1, k - 1, Idx::u) - 1.0/18.0*state_fab(i, j - 1, k - 2, Idx::u) + (1.0/18.0)*state_fab(i, j - 2, k + 1, Idx::u) - 1.0/144.0*state_fab(i, j - 2, k + 2, Idx::u) - 1.0/18.0*state_fab(i, j - 2, k - 1, Idx::u) + (1.0/144.0)*state_fab(i, j - 2, k - 2, Idx::u))/(dx[1]*dx[2]);\n",
      "        amrex::Real dDDu_LL_22 = ((4.0/3.0)*state_fab(i, j, k + 1, Idx::u) - 1.0/12.0*state_fab(i, j, k + 2, Idx::u) + (4.0/3.0)*state_fab(i, j, k - 1, Idx::u) - 1.0/12.0*state_fab(i, j, k - 2, Idx::u) - 5.0/2.0*state_fab(i, j, k, Idx::u))/std::pow(dx[2], 2);\n",
      "\n",
      "        amrex::Real dDpsi_L_0 = ((2.0/3.0)*state_fab(i + 1, j, k, Idx::psi) - 1.0/12.0*state_fab(i + 2, j, k, Idx::psi) - 2.0/3.0*state_fab(i - 1, j, k, Idx::psi) + (1.0/12.0)*state_fab(i - 2, j, k, Idx::psi))/dx[0];\n",
      "        amrex::Real dDpsi_L_1 = ((2.0/3.0)*state_fab(i, j + 1, k, Idx::psi) - 1.0/12.0*state_fab(i, j + 2, k, Idx::psi) - 2.0/3.0*state_fab(i, j - 1, k, Idx::psi) + (1.0/12.0)*state_fab(i, j - 2, k, Idx::psi))/dx[1];\n",
      "        amrex::Real dDpsi_L_2 = ((2.0/3.0)*state_fab(i, j, k + 1, Idx::psi) - 1.0/12.0*state_fab(i, j, k + 2, Idx::psi) - 2.0/3.0*state_fab(i, j, k - 1, Idx::psi) + (1.0/12.0)*state_fab(i, j, k - 2, Idx::psi))/dx[2];\n",
      "\n",
      "        amrex::Real dDDpsi_LL_00 = ((4.0/3.0)*state_fab(i + 1, j, k, Idx::psi) - 1.0/12.0*state_fab(i + 2, j, k, Idx::psi) + (4.0/3.0)*state_fab(i - 1, j, k, Idx::psi) - 1.0/12.0*state_fab(i - 2, j, k, Idx::psi) - 5.0/2.0*state_fab(i, j, k, Idx::psi))/std::pow(dx[0], 2);\n",
      "        amrex::Real dDDpsi_LL_01 = ((4.0/9.0)*state_fab(i + 1, j + 1, k, Idx::psi) - 1.0/18.0*state_fab(i + 1, j + 2, k, Idx::psi) - 4.0/9.0*state_fab(i + 1, j - 1, k, Idx::psi) + (1.0/18.0)*state_fab(i + 1, j - 2, k, Idx::psi) - 1.0/18.0*state_fab(i + 2, j + 1, k, Idx::psi) + (1.0/144.0)*state_fab(i + 2, j + 2, k, Idx::psi) + (1.0/18.0)*state_fab(i + 2, j - 1, k, Idx::psi) - 1.0/144.0*state_fab(i + 2, j - 2, k, Idx::psi) - 4.0/9.0*state_fab(i - 1, j + 1, k, Idx::psi) + (1.0/18.0)*state_fab(i - 1, j + 2, k, Idx::psi) + (4.0/9.0)*state_fab(i - 1, j - 1, k, Idx::psi) - 1.0/18.0*state_fab(i - 1, j - 2, k, Idx::psi) + (1.0/18.0)*state_fab(i - 2, j + 1, k, Idx::psi) - 1.0/144.0*state_fab(i - 2, j + 2, k, Idx::psi) - 1.0/18.0*state_fab(i - 2, j - 1, k, Idx::psi) + (1.0/144.0)*state_fab(i - 2, j - 2, k, Idx::psi))/(dx[0]*dx[1]);\n",
      "        amrex::Real dDDpsi_LL_02 = ((4.0/9.0)*state_fab(i + 1, j, k + 1, Idx::psi) - 1.0/18.0*state_fab(i + 1, j, k + 2, Idx::psi) - 4.0/9.0*state_fab(i + 1, j, k - 1, Idx::psi) + (1.0/18.0)*state_fab(i + 1, j, k - 2, Idx::psi) - 1.0/18.0*state_fab(i + 2, j, k + 1, Idx::psi) + (1.0/144.0)*state_fab(i + 2, j, k + 2, Idx::psi) + (1.0/18.0)*state_fab(i + 2, j, k - 1, Idx::psi) - 1.0/144.0*state_fab(i + 2, j, k - 2, Idx::psi) - 4.0/9.0*state_fab(i - 1, j, k + 1, Idx::psi) + (1.0/18.0)*state_fab(i - 1, j, k + 2, Idx::psi) + (4.0/9.0)*state_fab(i - 1, j, k - 1, Idx::psi) - 1.0/18.0*state_fab(i - 1, j, k - 2, Idx::psi) + (1.0/18.0)*state_fab(i - 2, j, k + 1, Idx::psi) - 1.0/144.0*state_fab(i - 2, j, k + 2, Idx::psi) - 1.0/18.0*state_fab(i - 2, j, k - 1, Idx::psi) + (1.0/144.0)*state_fab(i - 2, j, k - 2, Idx::psi))/(dx[0]*dx[2]);\n",
      "        amrex::Real dDDpsi_LL_11 = ((4.0/3.0)*state_fab(i, j + 1, k, Idx::psi) - 1.0/12.0*state_fab(i, j + 2, k, Idx::psi) + (4.0/3.0)*state_fab(i, j - 1, k, Idx::psi) - 1.0/12.0*state_fab(i, j - 2, k, Idx::psi) - 5.0/2.0*state_fab(i, j, k, Idx::psi))/std::pow(dx[1], 2);\n",
      "        amrex::Real dDDpsi_LL_12 = ((4.0/9.0)*state_fab(i, j + 1, k + 1, Idx::psi) - 1.0/18.0*state_fab(i, j + 1, k + 2, Idx::psi) - 4.0/9.0*state_fab(i, j + 1, k - 1, Idx::psi) + (1.0/18.0)*state_fab(i, j + 1, k - 2, Idx::psi) - 1.0/18.0*state_fab(i, j + 2, k + 1, Idx::psi) + (1.0/144.0)*state_fab(i, j + 2, k + 2, Idx::psi) + (1.0/18.0)*state_fab(i, j + 2, k - 1, Idx::psi) - 1.0/144.0*state_fab(i, j + 2, k - 2, Idx::psi) - 4.0/9.0*state_fab(i, j - 1, k + 1, Idx::psi) + (1.0/18.0)*state_fab(i, j - 1, k + 2, Idx::psi) + (4.0/9.0)*state_fab(i, j - 1, k - 1, Idx::psi) - 1.0/18.0*state_fab(i, j - 1, k - 2, Idx::psi) + (1.0/18.0)*state_fab(i, j - 2, k + 1, Idx::psi) - 1.0/144.0*state_fab(i, j - 2, k + 2, Idx::psi) - 1.0/18.0*state_fab(i, j - 2, k - 1, Idx::psi) + (1.0/144.0)*state_fab(i, j - 2, k - 2, Idx::psi))/(dx[1]*dx[2]);\n",
      "        amrex::Real dDDpsi_LL_22 = ((4.0/3.0)*state_fab(i, j, k + 1, Idx::psi) - 1.0/12.0*state_fab(i, j, k + 2, Idx::psi) + (4.0/3.0)*state_fab(i, j, k - 1, Idx::psi) - 1.0/12.0*state_fab(i, j, k - 2, Idx::psi) - 5.0/2.0*state_fab(i, j, k, Idx::psi))/std::pow(dx[2], 2);\n",
      "\n",
      "        amrex::Real dDchi_L_0 = ((2.0/3.0)*state_fab(i + 1, j, k, Idx::chi) - 1.0/12.0*state_fab(i + 2, j, k, Idx::chi) - 2.0/3.0*state_fab(i - 1, j, k, Idx::chi) + (1.0/12.0)*state_fab(i - 2, j, k, Idx::chi))/dx[0];\n",
      "        amrex::Real dDchi_L_1 = ((2.0/3.0)*state_fab(i, j + 1, k, Idx::chi) - 1.0/12.0*state_fab(i, j + 2, k, Idx::chi) - 2.0/3.0*state_fab(i, j - 1, k, Idx::chi) + (1.0/12.0)*state_fab(i, j - 2, k, Idx::chi))/dx[1];\n",
      "        amrex::Real dDchi_L_2 = ((2.0/3.0)*state_fab(i, j, k + 1, Idx::chi) - 1.0/12.0*state_fab(i, j, k + 2, Idx::chi) - 2.0/3.0*state_fab(i, j, k - 1, Idx::chi) + (1.0/12.0)*state_fab(i, j, k - 2, Idx::chi))/dx[2];\n",
      "\n",
      "        amrex::Real dDDchi_LL_00 = ((4.0/3.0)*state_fab(i + 1, j, k, Idx::chi) - 1.0/12.0*state_fab(i + 2, j, k, Idx::chi) + (4.0/3.0)*state_fab(i - 1, j, k, Idx::chi) - 1.0/12.0*state_fab(i - 2, j, k, Idx::chi) - 5.0/2.0*state_fab(i, j, k, Idx::chi))/std::pow(dx[0], 2);\n",
      "        amrex::Real dDDchi_LL_01 = ((4.0/9.0)*state_fab(i + 1, j + 1, k, Idx::chi) - 1.0/18.0*state_fab(i + 1, j + 2, k, Idx::chi) - 4.0/9.0*state_fab(i + 1, j - 1, k, Idx::chi) + (1.0/18.0)*state_fab(i + 1, j - 2, k, Idx::chi) - 1.0/18.0*state_fab(i + 2, j + 1, k, Idx::chi) + (1.0/144.0)*state_fab(i + 2, j + 2, k, Idx::chi) + (1.0/18.0)*state_fab(i + 2, j - 1, k, Idx::chi) - 1.0/144.0*state_fab(i + 2, j - 2, k, Idx::chi) - 4.0/9.0*state_fab(i - 1, j + 1, k, Idx::chi) + (1.0/18.0)*state_fab(i - 1, j + 2, k, Idx::chi) + (4.0/9.0)*state_fab(i - 1, j - 1, k, Idx::chi) - 1.0/18.0*state_fab(i - 1, j - 2, k, Idx::chi) + (1.0/18.0)*state_fab(i - 2, j + 1, k, Idx::chi) - 1.0/144.0*state_fab(i - 2, j + 2, k, Idx::chi) - 1.0/18.0*state_fab(i - 2, j - 1, k, Idx::chi) + (1.0/144.0)*state_fab(i - 2, j - 2, k, Idx::chi))/(dx[0]*dx[1]);\n",
      "        amrex::Real dDDchi_LL_02 = ((4.0/9.0)*state_fab(i + 1, j, k + 1, Idx::chi) - 1.0/18.0*state_fab(i + 1, j, k + 2, Idx::chi) - 4.0/9.0*state_fab(i + 1, j, k - 1, Idx::chi) + (1.0/18.0)*state_fab(i + 1, j, k - 2, Idx::chi) - 1.0/18.0*state_fab(i + 2, j, k + 1, Idx::chi) + (1.0/144.0)*state_fab(i + 2, j, k + 2, Idx::chi) + (1.0/18.0)*state_fab(i + 2, j, k - 1, Idx::chi) - 1.0/144.0*state_fab(i + 2, j, k - 2, Idx::chi) - 4.0/9.0*state_fab(i - 1, j, k + 1, Idx::chi) + (1.0/18.0)*state_fab(i - 1, j, k + 2, Idx::chi) + (4.0/9.0)*state_fab(i - 1, j, k - 1, Idx::chi) - 1.0/18.0*state_fab(i - 1, j, k - 2, Idx::chi) + (1.0/18.0)*state_fab(i - 2, j, k + 1, Idx::chi) - 1.0/144.0*state_fab(i - 2, j, k + 2, Idx::chi) - 1.0/18.0*state_fab(i - 2, j, k - 1, Idx::chi) + (1.0/144.0)*state_fab(i - 2, j, k - 2, Idx::chi))/(dx[0]*dx[2]);\n",
      "        amrex::Real dDDchi_LL_11 = ((4.0/3.0)*state_fab(i, j + 1, k, Idx::chi) - 1.0/12.0*state_fab(i, j + 2, k, Idx::chi) + (4.0/3.0)*state_fab(i, j - 1, k, Idx::chi) - 1.0/12.0*state_fab(i, j - 2, k, Idx::chi) - 5.0/2.0*state_fab(i, j, k, Idx::chi))/std::pow(dx[1], 2);\n",
      "        amrex::Real dDDchi_LL_12 = ((4.0/9.0)*state_fab(i, j + 1, k + 1, Idx::chi) - 1.0/18.0*state_fab(i, j + 1, k + 2, Idx::chi) - 4.0/9.0*state_fab(i, j + 1, k - 1, Idx::chi) + (1.0/18.0)*state_fab(i, j + 1, k - 2, Idx::chi) - 1.0/18.0*state_fab(i, j + 2, k + 1, Idx::chi) + (1.0/144.0)*state_fab(i, j + 2, k + 2, Idx::chi) + (1.0/18.0)*state_fab(i, j + 2, k - 1, Idx::chi) - 1.0/144.0*state_fab(i, j + 2, k - 2, Idx::chi) - 4.0/9.0*state_fab(i, j - 1, k + 1, Idx::chi) + (1.0/18.0)*state_fab(i, j - 1, k + 2, Idx::chi) + (4.0/9.0)*state_fab(i, j - 1, k - 1, Idx::chi) - 1.0/18.0*state_fab(i, j - 1, k - 2, Idx::chi) + (1.0/18.0)*state_fab(i, j - 2, k + 1, Idx::chi) - 1.0/144.0*state_fab(i, j - 2, k + 2, Idx::chi) - 1.0/18.0*state_fab(i, j - 2, k - 1, Idx::chi) + (1.0/144.0)*state_fab(i, j - 2, k - 2, Idx::chi))/(dx[1]*dx[2]);\n",
      "        amrex::Real dDDchi_LL_22 = ((4.0/3.0)*state_fab(i, j, k + 1, Idx::chi) - 1.0/12.0*state_fab(i, j, k + 2, Idx::chi) + (4.0/3.0)*state_fab(i, j, k - 1, Idx::chi) - 1.0/12.0*state_fab(i, j, k - 2, Idx::chi) - 5.0/2.0*state_fab(i, j, k, Idx::chi))/std::pow(dx[2], 2);\n",
      "\n",
      "        amrex::Real RsclrPsi = -8*dDDpsi_LL_00/std::pow(psi, 5) - 8*dDDpsi_LL_11/std::pow(psi, 5) - 8*dDDpsi_LL_22/std::pow(psi, 5);\n",
      "\n",
      "        amrex::Real RsclrChi = 2*dDDchi_LL_00 + 2*dDDchi_LL_11 + 2*dDDchi_LL_22 - 5.0/2.0*std::pow(dDchi_L_0, 2)/chi - 5.0/2.0*std::pow(dDchi_L_1, 2)/chi - 5.0/2.0*std::pow(dDchi_L_2, 2)/chi;\n",
      "\n",
      "        amrex::Real Atilde_LL_00 = state_fab(i, j, k, Idx::Atilde_LL_00);\n",
      "        amrex::Real Atilde_LL_01 = state_fab(i, j, k, Idx::Atilde_LL_01);\n",
      "        amrex::Real Atilde_LL_02 = state_fab(i, j, k, Idx::Atilde_LL_02);\n",
      "        amrex::Real Atilde_LL_11 = state_fab(i, j, k, Idx::Atilde_LL_11);\n",
      "        amrex::Real Atilde_LL_12 = state_fab(i, j, k, Idx::Atilde_LL_12);\n",
      "        amrex::Real Atilde_LL_22 = state_fab(i, j, k, Idx::Atilde_LL_22);\n",
      "\n",
      "        amrex::Real Atilde_UU_00 = Atilde_LL_00;\n",
      "        amrex::Real Atilde_UU_01 = Atilde_LL_01;\n",
      "        amrex::Real Atilde_UU_02 = Atilde_LL_02;\n",
      "        amrex::Real Atilde_UU_11 = Atilde_LL_11;\n",
      "        amrex::Real Atilde_UU_12 = Atilde_LL_12;\n",
      "        amrex::Real Atilde_UU_22 = Atilde_LL_22;\n",
      "\n",
      "        diag(i, j, k, Diag::Hpsi) = Atilde_LL_00*Atilde_UU_00 + 2*Atilde_LL_01*Atilde_UU_01 + 2*Atilde_LL_02*Atilde_UU_02 + Atilde_LL_11*Atilde_UU_11 + 2*Atilde_LL_12*Atilde_UU_12 + Atilde_LL_22*Atilde_UU_22 + RsclrPsi;\n",
      "\n",
      "        diag(i, j, k, Diag::Hchi) = Atilde_LL_00*Atilde_UU_00 + 2*Atilde_LL_01*Atilde_UU_01 + 2*Atilde_LL_02*Atilde_UU_02 + Atilde_LL_11*Atilde_UU_11 + 2*Atilde_LL_12*Atilde_UU_12 + Atilde_LL_22*Atilde_UU_22 + RsclrChi;\n",
      "\n",
      "        diag(i, j, k, Diag::Hu) = (betafunc/std::pow(alphafunc*(u + 1) + 1, 7) + dDDu_LL_00 + dDDu_LL_11 + dDDu_LL_22)/std::pow(psi, 5);\n",
      "\n",
      "\n"
     ]
    }
   ],
   "source": [
    "print(DiagString.replace('DiagIdx', 'Diag').replace('state_fabIdx', 'Idx'))"
   ]
  },
  {
   "cell_type": "markdown",
   "metadata": {},
   "source": [
    "# RHS"
   ]
  },
  {
   "cell_type": "code",
   "execution_count": 64,
   "metadata": {},
   "outputs": [],
   "source": [
    "RHSString = \"\""
   ]
  },
  {
   "cell_type": "code",
   "execution_count": 65,
   "metadata": {},
   "outputs": [],
   "source": [
    "RHSString += u.symb2isymb()"
   ]
  },
  {
   "cell_type": "code",
   "execution_count": 66,
   "metadata": {},
   "outputs": [],
   "source": [
    "RHSString += dDu_L.symb2isymb()+dDDu_LL.symb2isymb()"
   ]
  },
  {
   "cell_type": "code",
   "execution_count": 67,
   "metadata": {},
   "outputs": [],
   "source": [
    "RHSString += alphafunc.symb2isymb() + betafunc.symb2isymb()"
   ]
  },
  {
   "cell_type": "code",
   "execution_count": null,
   "metadata": {},
   "outputs": [],
   "source": []
  },
  {
   "cell_type": "code",
   "execution_count": 68,
   "metadata": {},
   "outputs": [],
   "source": [
    "RHSu = stvar('u', gridvar = True, addtolist = False, vartype = \"state_fab\", varprefix = \"rhs_fab\")\n",
    "RHSu.expr += betafunc.symb*(alphafunc.symb*(1+u.symb)+1)**(-7)\n",
    "for k in range(3):\n",
    "    RHSu.expr += dDDu_LL.symb[k][k]"
   ]
  },
  {
   "cell_type": "code",
   "execution_count": 69,
   "metadata": {},
   "outputs": [],
   "source": [
    "RHSString += RHSu.setisymb()"
   ]
  },
  {
   "cell_type": "code",
   "execution_count": 70,
   "metadata": {},
   "outputs": [
    {
     "name": "stdout",
     "output_type": "stream",
     "text": [
      "rhs_fab[i, j, k, state_fabu]\n"
     ]
    }
   ],
   "source": [
    "print(RHSu.isymb)"
   ]
  },
  {
   "cell_type": "code",
   "execution_count": null,
   "metadata": {},
   "outputs": [],
   "source": []
  },
  {
   "cell_type": "code",
   "execution_count": null,
   "metadata": {},
   "outputs": [],
   "source": []
  },
  {
   "cell_type": "code",
   "execution_count": 71,
   "metadata": {},
   "outputs": [
    {
     "name": "stdout",
     "output_type": "stream",
     "text": [
      "        amrex::Real u = state_fab(i, j, k, Idx::u);\n",
      "\n",
      "        amrex::Real dDu_L_0 = ((2.0/3.0)*state_fab(i + 1, j, k, Idx::u) - 1.0/12.0*state_fab(i + 2, j, k, Idx::u) - 2.0/3.0*state_fab(i - 1, j, k, Idx::u) + (1.0/12.0)*state_fab(i - 2, j, k, Idx::u))/dx[0];\n",
      "        amrex::Real dDu_L_1 = ((2.0/3.0)*state_fab(i, j + 1, k, Idx::u) - 1.0/12.0*state_fab(i, j + 2, k, Idx::u) - 2.0/3.0*state_fab(i, j - 1, k, Idx::u) + (1.0/12.0)*state_fab(i, j - 2, k, Idx::u))/dx[1];\n",
      "        amrex::Real dDu_L_2 = ((2.0/3.0)*state_fab(i, j, k + 1, Idx::u) - 1.0/12.0*state_fab(i, j, k + 2, Idx::u) - 2.0/3.0*state_fab(i, j, k - 1, Idx::u) + (1.0/12.0)*state_fab(i, j, k - 2, Idx::u))/dx[2];\n",
      "\n",
      "        amrex::Real dDDu_LL_00 = ((4.0/3.0)*state_fab(i + 1, j, k, Idx::u) - 1.0/12.0*state_fab(i + 2, j, k, Idx::u) + (4.0/3.0)*state_fab(i - 1, j, k, Idx::u) - 1.0/12.0*state_fab(i - 2, j, k, Idx::u) - 5.0/2.0*state_fab(i, j, k, Idx::u))/std::pow(dx[0], 2);\n",
      "        amrex::Real dDDu_LL_01 = ((4.0/9.0)*state_fab(i + 1, j + 1, k, Idx::u) - 1.0/18.0*state_fab(i + 1, j + 2, k, Idx::u) - 4.0/9.0*state_fab(i + 1, j - 1, k, Idx::u) + (1.0/18.0)*state_fab(i + 1, j - 2, k, Idx::u) - 1.0/18.0*state_fab(i + 2, j + 1, k, Idx::u) + (1.0/144.0)*state_fab(i + 2, j + 2, k, Idx::u) + (1.0/18.0)*state_fab(i + 2, j - 1, k, Idx::u) - 1.0/144.0*state_fab(i + 2, j - 2, k, Idx::u) - 4.0/9.0*state_fab(i - 1, j + 1, k, Idx::u) + (1.0/18.0)*state_fab(i - 1, j + 2, k, Idx::u) + (4.0/9.0)*state_fab(i - 1, j - 1, k, Idx::u) - 1.0/18.0*state_fab(i - 1, j - 2, k, Idx::u) + (1.0/18.0)*state_fab(i - 2, j + 1, k, Idx::u) - 1.0/144.0*state_fab(i - 2, j + 2, k, Idx::u) - 1.0/18.0*state_fab(i - 2, j - 1, k, Idx::u) + (1.0/144.0)*state_fab(i - 2, j - 2, k, Idx::u))/(dx[0]*dx[1]);\n",
      "        amrex::Real dDDu_LL_02 = ((4.0/9.0)*state_fab(i + 1, j, k + 1, Idx::u) - 1.0/18.0*state_fab(i + 1, j, k + 2, Idx::u) - 4.0/9.0*state_fab(i + 1, j, k - 1, Idx::u) + (1.0/18.0)*state_fab(i + 1, j, k - 2, Idx::u) - 1.0/18.0*state_fab(i + 2, j, k + 1, Idx::u) + (1.0/144.0)*state_fab(i + 2, j, k + 2, Idx::u) + (1.0/18.0)*state_fab(i + 2, j, k - 1, Idx::u) - 1.0/144.0*state_fab(i + 2, j, k - 2, Idx::u) - 4.0/9.0*state_fab(i - 1, j, k + 1, Idx::u) + (1.0/18.0)*state_fab(i - 1, j, k + 2, Idx::u) + (4.0/9.0)*state_fab(i - 1, j, k - 1, Idx::u) - 1.0/18.0*state_fab(i - 1, j, k - 2, Idx::u) + (1.0/18.0)*state_fab(i - 2, j, k + 1, Idx::u) - 1.0/144.0*state_fab(i - 2, j, k + 2, Idx::u) - 1.0/18.0*state_fab(i - 2, j, k - 1, Idx::u) + (1.0/144.0)*state_fab(i - 2, j, k - 2, Idx::u))/(dx[0]*dx[2]);\n",
      "        amrex::Real dDDu_LL_11 = ((4.0/3.0)*state_fab(i, j + 1, k, Idx::u) - 1.0/12.0*state_fab(i, j + 2, k, Idx::u) + (4.0/3.0)*state_fab(i, j - 1, k, Idx::u) - 1.0/12.0*state_fab(i, j - 2, k, Idx::u) - 5.0/2.0*state_fab(i, j, k, Idx::u))/std::pow(dx[1], 2);\n",
      "        amrex::Real dDDu_LL_12 = ((4.0/9.0)*state_fab(i, j + 1, k + 1, Idx::u) - 1.0/18.0*state_fab(i, j + 1, k + 2, Idx::u) - 4.0/9.0*state_fab(i, j + 1, k - 1, Idx::u) + (1.0/18.0)*state_fab(i, j + 1, k - 2, Idx::u) - 1.0/18.0*state_fab(i, j + 2, k + 1, Idx::u) + (1.0/144.0)*state_fab(i, j + 2, k + 2, Idx::u) + (1.0/18.0)*state_fab(i, j + 2, k - 1, Idx::u) - 1.0/144.0*state_fab(i, j + 2, k - 2, Idx::u) - 4.0/9.0*state_fab(i, j - 1, k + 1, Idx::u) + (1.0/18.0)*state_fab(i, j - 1, k + 2, Idx::u) + (4.0/9.0)*state_fab(i, j - 1, k - 1, Idx::u) - 1.0/18.0*state_fab(i, j - 1, k - 2, Idx::u) + (1.0/18.0)*state_fab(i, j - 2, k + 1, Idx::u) - 1.0/144.0*state_fab(i, j - 2, k + 2, Idx::u) - 1.0/18.0*state_fab(i, j - 2, k - 1, Idx::u) + (1.0/144.0)*state_fab(i, j - 2, k - 2, Idx::u))/(dx[1]*dx[2]);\n",
      "        amrex::Real dDDu_LL_22 = ((4.0/3.0)*state_fab(i, j, k + 1, Idx::u) - 1.0/12.0*state_fab(i, j, k + 2, Idx::u) + (4.0/3.0)*state_fab(i, j, k - 1, Idx::u) - 1.0/12.0*state_fab(i, j, k - 2, Idx::u) - 5.0/2.0*state_fab(i, j, k, Idx::u))/std::pow(dx[2], 2);\n",
      "\n",
      "        amrex::Real alphafunc = state_fab(i, j, k, Idx::alphafunc);\n",
      "\n",
      "        amrex::Real betafunc = state_fab(i, j, k, Idx::betafunc);\n",
      "\n",
      "        rhs_fab(i, j, k, Idx::u) = betafunc/std::pow(alphafunc*(u + 1) + 1, 7) + dDDu_LL_00 + dDDu_LL_11 + dDDu_LL_22;\n",
      "\n",
      "\n"
     ]
    }
   ],
   "source": [
    "print(RHSString.replace(\"state_fabIdx\", \"Idx\"))"
   ]
  },
  {
   "cell_type": "markdown",
   "metadata": {},
   "source": [
    "# Post Update"
   ]
  },
  {
   "cell_type": "code",
   "execution_count": 72,
   "metadata": {},
   "outputs": [],
   "source": [
    "PUString = \"\""
   ]
  },
  {
   "cell_type": "code",
   "execution_count": 73,
   "metadata": {},
   "outputs": [],
   "source": [
    "PUString += u.symb2isymb()"
   ]
  },
  {
   "cell_type": "code",
   "execution_count": 74,
   "metadata": {},
   "outputs": [],
   "source": [
    "PUString += Mp.symb2expr() + Mm.symb2expr()"
   ]
  },
  {
   "cell_type": "code",
   "execution_count": 75,
   "metadata": {},
   "outputs": [],
   "source": [
    "PUString += cp_U.symb2expr() +cm_U.symb2expr()"
   ]
  },
  {
   "cell_type": "code",
   "execution_count": 76,
   "metadata": {},
   "outputs": [],
   "source": [
    "PUString += Pp_U.symb2expr() + Pm_U.symb2expr()"
   ]
  },
  {
   "cell_type": "code",
   "execution_count": 77,
   "metadata": {},
   "outputs": [],
   "source": [
    "PUString+= xpc_U.symb2expr() + xmc_U.symb2expr()"
   ]
  },
  {
   "cell_type": "code",
   "execution_count": 78,
   "metadata": {},
   "outputs": [],
   "source": [
    "PUString += rpc.symb2expr()+rmc.symb2expr()"
   ]
  },
  {
   "cell_type": "code",
   "execution_count": 79,
   "metadata": {},
   "outputs": [],
   "source": [
    "PUString += npc_U.symb2expr()+nmc_U.symb2expr()"
   ]
  },
  {
   "cell_type": "code",
   "execution_count": 80,
   "metadata": {},
   "outputs": [],
   "source": [
    "PUString+=Abarp_UU.symb2expr()+Abarm_UU.symb2expr()"
   ]
  },
  {
   "cell_type": "code",
   "execution_count": 81,
   "metadata": {},
   "outputs": [],
   "source": [
    "PUString+=Abar_UU.symb2expr()"
   ]
  },
  {
   "cell_type": "code",
   "execution_count": 82,
   "metadata": {},
   "outputs": [],
   "source": [
    "PUString += alphafunc.setisymb()\n",
    "PUString += alphafunc.symb2expr()"
   ]
  },
  {
   "cell_type": "code",
   "execution_count": 83,
   "metadata": {},
   "outputs": [],
   "source": [
    "PUString += betafunc.setisymb()"
   ]
  },
  {
   "cell_type": "code",
   "execution_count": 84,
   "metadata": {},
   "outputs": [],
   "source": [
    "psi.expr += u.symb"
   ]
  },
  {
   "cell_type": "code",
   "execution_count": 85,
   "metadata": {},
   "outputs": [],
   "source": [
    "PUString += psi.setisymb()\n",
    "PUString += psi.symb2expr()"
   ]
  },
  {
   "cell_type": "code",
   "execution_count": 86,
   "metadata": {},
   "outputs": [],
   "source": [
    "PUString += chi.setisymb()"
   ]
  },
  {
   "cell_type": "code",
   "execution_count": 87,
   "metadata": {},
   "outputs": [],
   "source": [
    "PUString += Abar_LL.symb2expr()"
   ]
  },
  {
   "cell_type": "code",
   "execution_count": 88,
   "metadata": {},
   "outputs": [],
   "source": [
    "PUString += Atilde_LL.setisymb()"
   ]
  },
  {
   "cell_type": "code",
   "execution_count": null,
   "metadata": {},
   "outputs": [],
   "source": []
  },
  {
   "cell_type": "code",
   "execution_count": null,
   "metadata": {},
   "outputs": [],
   "source": []
  },
  {
   "cell_type": "code",
   "execution_count": null,
   "metadata": {},
   "outputs": [],
   "source": []
  },
  {
   "cell_type": "code",
   "execution_count": 89,
   "metadata": {},
   "outputs": [
    {
     "name": "stdout",
     "output_type": "stream",
     "text": [
      "        amrex::Real u = state_fab(i, j, k, Idx::u);\n",
      "\n",
      "        amrex::Real bareMp = 0.48559999999999998;\n",
      "\n",
      "        amrex::Real bareMm = 0.48559999999999998;\n",
      "\n",
      "        amrex::Real cp_U_0 = 4.891;\n",
      "        amrex::Real cp_U_1 = 0;\n",
      "        amrex::Real cp_U_2 = 0;\n",
      "\n",
      "        amrex::Real cm_U_0 = -4.891;\n",
      "        amrex::Real cm_U_1 = 0;\n",
      "        amrex::Real cm_U_2 = 0;\n",
      "\n",
      "        amrex::Real Pp_U_0 = 0;\n",
      "        amrex::Real Pp_U_1 = 0.0969;\n",
      "        amrex::Real Pp_U_2 = 0;\n",
      "\n",
      "        amrex::Real Pm_U_0 = 0;\n",
      "        amrex::Real Pm_U_1 = -0.0969;\n",
      "        amrex::Real Pm_U_2 = 0;\n",
      "\n",
      "        amrex::Real xpc_U_0 = -cp_U_0 + x_U_0;\n",
      "        amrex::Real xpc_U_1 = -cp_U_1 + x_U_1;\n",
      "        amrex::Real xpc_U_2 = -cp_U_2 + x_U_2;\n",
      "\n",
      "        amrex::Real xmc_U_0 = -cm_U_0 + x_U_0;\n",
      "        amrex::Real xmc_U_1 = -cm_U_1 + x_U_1;\n",
      "        amrex::Real xmc_U_2 = -cm_U_2 + x_U_2;\n",
      "\n",
      "        amrex::Real rpc = std::max(0.00100000000000000, std::sqrt(std::pow(xpc_U_0, 2) + std::pow(xpc_U_1, 2) + std::pow(xpc_U_2, 2)));\n",
      "\n",
      "        amrex::Real rmc = std::max(0.00100000000000000, std::sqrt(std::pow(xmc_U_0, 2) + std::pow(xmc_U_1, 2) + std::pow(xmc_U_2, 2)));\n",
      "\n",
      "        amrex::Real npc_U_0 = xpc_U_0/rpc;\n",
      "        amrex::Real npc_U_1 = xpc_U_1/rpc;\n",
      "        amrex::Real npc_U_2 = xpc_U_2/rpc;\n",
      "\n",
      "        amrex::Real nmc_U_0 = xmc_U_0/rmc;\n",
      "        amrex::Real nmc_U_1 = xmc_U_1/rmc;\n",
      "        amrex::Real nmc_U_2 = xmc_U_2/rmc;\n",
      "\n",
      "        amrex::Real Abarp_UU_00 = -3.0/2.0*Pp_U_0*npc_U_0*(1 - std::pow(npc_U_0, 2))/std::pow(rpc, 2) + 3*Pp_U_0*npc_U_0/std::pow(rpc, 2) - 3.0/2.0*Pp_U_1*npc_U_1*(1 - std::pow(npc_U_0, 2))/std::pow(rpc, 2) - 3.0/2.0*Pp_U_2*npc_U_2*(1 - std::pow(npc_U_0, 2))/std::pow(rpc, 2);\n",
      "        amrex::Real Abarp_UU_01 = (3.0/2.0)*Pp_U_0*std::pow(npc_U_0, 2)*npc_U_1/std::pow(rpc, 2) + (3.0/2.0)*Pp_U_1*npc_U_0*std::pow(npc_U_1, 2)/std::pow(rpc, 2) + (3.0/2.0)*Pp_U_2*npc_U_0*npc_U_1*npc_U_2/std::pow(rpc, 2) + (3.0/2.0)*(Pp_U_0*npc_U_1 + Pp_U_1*npc_U_0)/std::pow(rpc, 2);\n",
      "        amrex::Real Abarp_UU_02 = (3.0/2.0)*Pp_U_0*std::pow(npc_U_0, 2)*npc_U_2/std::pow(rpc, 2) + (3.0/2.0)*Pp_U_1*npc_U_0*npc_U_1*npc_U_2/std::pow(rpc, 2) + (3.0/2.0)*Pp_U_2*npc_U_0*std::pow(npc_U_2, 2)/std::pow(rpc, 2) + (3.0/2.0)*(Pp_U_0*npc_U_2 + Pp_U_2*npc_U_0)/std::pow(rpc, 2);\n",
      "        amrex::Real Abarp_UU_11 = -3.0/2.0*Pp_U_0*npc_U_0*(1 - std::pow(npc_U_1, 2))/std::pow(rpc, 2) - 3.0/2.0*Pp_U_1*npc_U_1*(1 - std::pow(npc_U_1, 2))/std::pow(rpc, 2) + 3*Pp_U_1*npc_U_1/std::pow(rpc, 2) - 3.0/2.0*Pp_U_2*npc_U_2*(1 - std::pow(npc_U_1, 2))/std::pow(rpc, 2);\n",
      "        amrex::Real Abarp_UU_12 = (3.0/2.0)*Pp_U_0*npc_U_0*npc_U_1*npc_U_2/std::pow(rpc, 2) + (3.0/2.0)*Pp_U_1*std::pow(npc_U_1, 2)*npc_U_2/std::pow(rpc, 2) + (3.0/2.0)*Pp_U_2*npc_U_1*std::pow(npc_U_2, 2)/std::pow(rpc, 2) + (3.0/2.0)*(Pp_U_1*npc_U_2 + Pp_U_2*npc_U_1)/std::pow(rpc, 2);\n",
      "        amrex::Real Abarp_UU_22 = -3.0/2.0*Pp_U_0*npc_U_0*(1 - std::pow(npc_U_2, 2))/std::pow(rpc, 2) - 3.0/2.0*Pp_U_1*npc_U_1*(1 - std::pow(npc_U_2, 2))/std::pow(rpc, 2) - 3.0/2.0*Pp_U_2*npc_U_2*(1 - std::pow(npc_U_2, 2))/std::pow(rpc, 2) + 3*Pp_U_2*npc_U_2/std::pow(rpc, 2);\n",
      "\n",
      "        amrex::Real Abarm_UU_00 = -3.0/2.0*Pm_U_0*nmc_U_0*(1 - std::pow(nmc_U_0, 2))/std::pow(rmc, 2) + 3*Pm_U_0*nmc_U_0/std::pow(rmc, 2) - 3.0/2.0*Pm_U_1*nmc_U_1*(1 - std::pow(nmc_U_0, 2))/std::pow(rmc, 2) - 3.0/2.0*Pm_U_2*nmc_U_2*(1 - std::pow(nmc_U_0, 2))/std::pow(rmc, 2);\n",
      "        amrex::Real Abarm_UU_01 = (3.0/2.0)*Pm_U_0*std::pow(nmc_U_0, 2)*nmc_U_1/std::pow(rmc, 2) + (3.0/2.0)*Pm_U_1*nmc_U_0*std::pow(nmc_U_1, 2)/std::pow(rmc, 2) + (3.0/2.0)*Pm_U_2*nmc_U_0*nmc_U_1*nmc_U_2/std::pow(rmc, 2) + (3.0/2.0)*(Pm_U_0*nmc_U_1 + Pm_U_1*nmc_U_0)/std::pow(rmc, 2);\n",
      "        amrex::Real Abarm_UU_02 = (3.0/2.0)*Pm_U_0*std::pow(nmc_U_0, 2)*nmc_U_2/std::pow(rmc, 2) + (3.0/2.0)*Pm_U_1*nmc_U_0*nmc_U_1*nmc_U_2/std::pow(rmc, 2) + (3.0/2.0)*Pm_U_2*nmc_U_0*std::pow(nmc_U_2, 2)/std::pow(rmc, 2) + (3.0/2.0)*(Pm_U_0*nmc_U_2 + Pm_U_2*nmc_U_0)/std::pow(rmc, 2);\n",
      "        amrex::Real Abarm_UU_11 = -3.0/2.0*Pm_U_0*nmc_U_0*(1 - std::pow(nmc_U_1, 2))/std::pow(rmc, 2) - 3.0/2.0*Pm_U_1*nmc_U_1*(1 - std::pow(nmc_U_1, 2))/std::pow(rmc, 2) + 3*Pm_U_1*nmc_U_1/std::pow(rmc, 2) - 3.0/2.0*Pm_U_2*nmc_U_2*(1 - std::pow(nmc_U_1, 2))/std::pow(rmc, 2);\n",
      "        amrex::Real Abarm_UU_12 = (3.0/2.0)*Pm_U_0*nmc_U_0*nmc_U_1*nmc_U_2/std::pow(rmc, 2) + (3.0/2.0)*Pm_U_1*std::pow(nmc_U_1, 2)*nmc_U_2/std::pow(rmc, 2) + (3.0/2.0)*Pm_U_2*nmc_U_1*std::pow(nmc_U_2, 2)/std::pow(rmc, 2) + (3.0/2.0)*(Pm_U_1*nmc_U_2 + Pm_U_2*nmc_U_1)/std::pow(rmc, 2);\n",
      "        amrex::Real Abarm_UU_22 = -3.0/2.0*Pm_U_0*nmc_U_0*(1 - std::pow(nmc_U_2, 2))/std::pow(rmc, 2) - 3.0/2.0*Pm_U_1*nmc_U_1*(1 - std::pow(nmc_U_2, 2))/std::pow(rmc, 2) - 3.0/2.0*Pm_U_2*nmc_U_2*(1 - std::pow(nmc_U_2, 2))/std::pow(rmc, 2) + 3*Pm_U_2*nmc_U_2/std::pow(rmc, 2);\n",
      "\n",
      "        amrex::Real Abar_UU_00 = Abarm_UU_00 + Abarp_UU_00;\n",
      "        amrex::Real Abar_UU_01 = Abarm_UU_01 + Abarp_UU_01;\n",
      "        amrex::Real Abar_UU_02 = Abarm_UU_02 + Abarp_UU_02;\n",
      "        amrex::Real Abar_UU_11 = Abarm_UU_11 + Abarp_UU_11;\n",
      "        amrex::Real Abar_UU_12 = Abarm_UU_12 + Abarp_UU_12;\n",
      "        amrex::Real Abar_UU_22 = Abarm_UU_22 + Abarp_UU_22;\n",
      "\n",
      "        state_fab(i, j, k, Idx::alphafunc) = 1.0/((1.0/2.0)*bareMm/rmc + (1.0/2.0)*bareMp/rpc);\n",
      "\n",
      "        amrex::Real alphafunc = 1.0/((1.0/2.0)*bareMm/rmc + (1.0/2.0)*bareMp/rpc);\n",
      "\n",
      "        state_fab(i, j, k, Idx::betafunc) = 0.125*std::pow(Abar_UU_00, 2)*std::pow(alphafunc, 7) + 0.25*std::pow(Abar_UU_01, 2)*std::pow(alphafunc, 7) + 0.25*std::pow(Abar_UU_02, 2)*std::pow(alphafunc, 7) + 0.125*std::pow(Abar_UU_11, 2)*std::pow(alphafunc, 7) + 0.25*std::pow(Abar_UU_12, 2)*std::pow(alphafunc, 7) + 0.125*std::pow(Abar_UU_22, 2)*std::pow(alphafunc, 7);\n",
      "\n",
      "        state_fab(i, j, k, Idx::psi) = u + 1 + 1.0/alphafunc;\n",
      "\n",
      "        amrex::Real psi = u + 1 + 1.0/alphafunc;\n",
      "\n",
      "        state_fab(i, j, k, Idx::chi) = std::pow(psi, -4);\n",
      "\n",
      "        amrex::Real Abar_LL_00 = Abar_UU_00;\n",
      "        amrex::Real Abar_LL_01 = Abar_UU_01;\n",
      "        amrex::Real Abar_LL_02 = Abar_UU_02;\n",
      "        amrex::Real Abar_LL_11 = Abar_UU_11;\n",
      "        amrex::Real Abar_LL_12 = Abar_UU_12;\n",
      "        amrex::Real Abar_LL_22 = Abar_UU_22;\n",
      "\n",
      "        state_fab(i, j, k, Idx::Atilde_LL_00) = Abar_LL_00/std::pow(psi, 6);\n",
      "        state_fab(i, j, k, Idx::Atilde_LL_01) = Abar_LL_01/std::pow(psi, 6);\n",
      "        state_fab(i, j, k, Idx::Atilde_LL_02) = Abar_LL_02/std::pow(psi, 6);\n",
      "        state_fab(i, j, k, Idx::Atilde_LL_11) = Abar_LL_11/std::pow(psi, 6);\n",
      "        state_fab(i, j, k, Idx::Atilde_LL_12) = Abar_LL_12/std::pow(psi, 6);\n",
      "        state_fab(i, j, k, Idx::Atilde_LL_22) = Abar_LL_22/std::pow(psi, 6);\n",
      "\n",
      "\n"
     ]
    }
   ],
   "source": [
    "print(PUString.replace(\"state_fabIdx\", \"Idx\"))"
   ]
  },
  {
   "cell_type": "code",
   "execution_count": null,
   "metadata": {},
   "outputs": [],
   "source": []
  }
 ],
 "metadata": {
  "kernelspec": {
   "display_name": "Python 3",
   "language": "python",
   "name": "python3"
  },
  "language_info": {
   "codemirror_mode": {
    "name": "ipython",
    "version": 3
   },
   "file_extension": ".py",
   "mimetype": "text/x-python",
   "name": "python",
   "nbconvert_exporter": "python",
   "pygments_lexer": "ipython3",
   "version": "3.5.2"
  }
 },
 "nbformat": 4,
 "nbformat_minor": 2
}
