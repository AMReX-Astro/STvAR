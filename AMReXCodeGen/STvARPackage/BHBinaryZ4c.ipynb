{
 "cells": [
  {
   "cell_type": "code",
   "execution_count": 1,
   "metadata": {},
   "outputs": [],
   "source": [
    "from STvAR_v3 import *\n",
    "from STvARMetricObjects import *\n",
    "from STvARFiniteDifference import *\n",
    "from STvARAdvection import *\n",
    "from STvARSymbolParsing import *\n",
    "from STvARIndexing import*"
   ]
  },
  {
   "cell_type": "code",
   "execution_count": 2,
   "metadata": {},
   "outputs": [],
   "source": [
    "DiffOrder = 4\n",
    "upDiffOrder = DiffOrder\n",
    "dnDiffOrder = DiffOrder\n",
    "DiffOrderKO = DiffOrder + 2\n",
    "KOsigmaVal = 0.32\n",
    "dim = 3"
   ]
  },
  {
   "cell_type": "code",
   "execution_count": 3,
   "metadata": {
    "tags": []
   },
   "outputs": [],
   "source": [
    "gridvars = []\n",
    "vartypes = []\n",
    "\n",
    "chi = stvar('chi',  gridvar = True, vartype = 'state_fab')\n",
    "gamtilde_LL = stvarrank2('gamtilde_LL',  gridvar = True, vartype = 'state_fab', sym = 'sym01')\n",
    "Khat = stvar('Khat', gridvar = True, vartype = 'state_fab')\n",
    "Atilde_LL = stvarrank2('Atilde_LL', gridvar = True, vartype = 'state_fab', sym = 'sym01')\n",
    "theta = stvar('theta', gridvar = True, vartype = 'state_fab')\n",
    "Gamtilde_U = stvarrank1('Gamtilde_U', gridvar = True, vartype ='state_fab')\n",
    "\n",
    "alpha = stvar('alpha', gridvar = True, vartype = 'state_fab')\n",
    "beta_U = stvarrank1('beta_U', gridvar = True, vartype = 'state_fab')"
   ]
  },
  {
   "cell_type": "markdown",
   "metadata": {},
   "source": [
    "# RHS"
   ]
  },
  {
   "cell_type": "code",
   "execution_count": 4,
   "metadata": {},
   "outputs": [],
   "source": [
    "RHSString = \"\"\n",
    "RHSString += chi.symb2isymb()\n",
    "RHSString += gamtilde_LL.symb2isymb()\n",
    "RHSString += Khat.symb2isymb()\n",
    "RHSString += Atilde_LL.symb2isymb()\n",
    "RHSString += theta.symb2isymb()\n",
    "RHSString += Gamtilde_U.symb2isymb()\n",
    "\n",
    "RHSString += alpha.symb2isymb()\n",
    "RHSString += beta_U.symb2isymb()"
   ]
  },
  {
   "cell_type": "code",
   "execution_count": 5,
   "metadata": {},
   "outputs": [],
   "source": [
    "dDchi_L = chi.diff('dD', Accuracy = DiffOrder)\n",
    "dupDchi_L = chi.diff('dup1D', Accuracy = upDiffOrder)\n",
    "ddnDchi_L = chi.diff('ddn1D', Accuracy = dnDiffOrder)\n",
    "dDDchi_LL = chi.diff('dDD', Accuracy = DiffOrder)\n",
    "dKODFullchi = chi.diff('dKODFull', Accuracy = DiffOrderKO)\n",
    "AdvDchi = AdvectiveD(chi, beta_U)"
   ]
  },
  {
   "cell_type": "code",
   "execution_count": 6,
   "metadata": {},
   "outputs": [],
   "source": [
    "RHSString += dDchi_L.symb2isymb()\n",
    "RHSString += dupDchi_L.symb2isymb()\n",
    "RHSString += ddnDchi_L.symb2isymb()\n",
    "RHSString += dDDchi_LL.symb2isymb()\n",
    "RHSString += dKODFullchi.symb2isymb()\n",
    "RHSString += AdvDchi.symb2expr()"
   ]
  },
  {
   "cell_type": "code",
   "execution_count": 7,
   "metadata": {},
   "outputs": [],
   "source": [
    "dDgamtilde_LLL = gamtilde_LL.diff('dD', Accuracy = DiffOrder)\n",
    "dupDgamtilde_LLL = gamtilde_LL.diff('dup1D', Accuracy = upDiffOrder)\n",
    "ddnDgamtilde_LLL = gamtilde_LL.diff('ddn1D', Accuracy = dnDiffOrder)\n",
    "dDDgamtilde_LLLL = gamtilde_LL.diff('dDD', Accuracy = DiffOrder)\n",
    "dKODFullgamtilde_LL = gamtilde_LL.diff('dKODFull', Accuracy = DiffOrderKO)\n",
    "AdvDgamtilde_LL = AdvectiveD(gamtilde_LL, beta_U)"
   ]
  },
  {
   "cell_type": "code",
   "execution_count": 8,
   "metadata": {},
   "outputs": [],
   "source": [
    "RHSString += dDgamtilde_LLL.symb2isymb()\n",
    "RHSString += dupDgamtilde_LLL.symb2isymb()\n",
    "RHSString += ddnDgamtilde_LLL.symb2isymb()\n",
    "RHSString += dDDgamtilde_LLLL.symb2isymb()\n",
    "RHSString += dKODFullgamtilde_LL.symb2isymb()\n",
    "RHSString += AdvDgamtilde_LL.symb2expr()"
   ]
  },
  {
   "cell_type": "code",
   "execution_count": 9,
   "metadata": {},
   "outputs": [],
   "source": [
    "dDKhat_L = Khat.diff('dD', Accuracy = DiffOrder)\n",
    "dupDKhat_L = Khat.diff('dup1D', Accuracy = upDiffOrder)\n",
    "ddnDKhat_L = Khat.diff('ddn1D', Accuracy = dnDiffOrder)\n",
    "dDDKhat_LL = Khat.diff('dDD', Accuracy = DiffOrder)\n",
    "dKODFullKhat = Khat.diff('dKODFull', Accuracy = DiffOrderKO)\n",
    "AdvDKhat = AdvectiveD(Khat, beta_U)"
   ]
  },
  {
   "cell_type": "code",
   "execution_count": 10,
   "metadata": {},
   "outputs": [],
   "source": [
    "RHSString += dDKhat_L.symb2isymb()\n",
    "RHSString += dupDKhat_L.symb2isymb()\n",
    "RHSString += ddnDKhat_L.symb2isymb()\n",
    "RHSString += dDDKhat_LL.symb2isymb()\n",
    "RHSString += dKODFullKhat.symb2isymb()\n",
    "RHSString += AdvDKhat.symb2expr()"
   ]
  },
  {
   "cell_type": "code",
   "execution_count": 11,
   "metadata": {},
   "outputs": [],
   "source": [
    "dDAtilde_LLL = Atilde_LL.diff('dD', Accuracy = DiffOrder)\n",
    "dupDAtilde_LLL = Atilde_LL.diff('dup1D', Accuracy = upDiffOrder)\n",
    "ddnDAtilde_LLL = Atilde_LL.diff('ddn1D', Accuracy = dnDiffOrder)\n",
    "dDDAtilde_LLLL = Atilde_LL.diff('dDD', Accuracy = DiffOrder)\n",
    "dKODFullAtilde_LL = Atilde_LL.diff('dKODFull', Accuracy = DiffOrderKO)\n",
    "AdvDAtilde_LL = AdvectiveD(Atilde_LL, beta_U)"
   ]
  },
  {
   "cell_type": "code",
   "execution_count": 12,
   "metadata": {},
   "outputs": [],
   "source": [
    "RHSString += dDAtilde_LLL.symb2isymb()\n",
    "RHSString += dupDAtilde_LLL.symb2isymb()\n",
    "RHSString += ddnDAtilde_LLL.symb2isymb()\n",
    "RHSString += dDDAtilde_LLLL.symb2isymb()\n",
    "RHSString += dKODFullAtilde_LL.symb2isymb()\n",
    "RHSString += AdvDAtilde_LL.symb2expr()"
   ]
  },
  {
   "cell_type": "code",
   "execution_count": 13,
   "metadata": {},
   "outputs": [],
   "source": [
    "dDtheta_L = theta.diff('dD', Accuracy = DiffOrder)\n",
    "dupDtheta_L = theta.diff('dup1D', Accuracy = upDiffOrder)\n",
    "ddnDtheta_L = theta.diff('ddn1D', Accuracy = dnDiffOrder)\n",
    "dDDtheta_LL = theta.diff('dDD', Accuracy = DiffOrder)\n",
    "dKODFulltheta = theta.diff('dKODFull', Accuracy = DiffOrderKO)\n",
    "AdvDtheta = AdvectiveD(theta, beta_U)"
   ]
  },
  {
   "cell_type": "code",
   "execution_count": 14,
   "metadata": {},
   "outputs": [],
   "source": [
    "RHSString += dDtheta_L.symb2isymb()\n",
    "RHSString += dupDtheta_L.symb2isymb()\n",
    "RHSString += ddnDtheta_L.symb2isymb()\n",
    "RHSString += dDDtheta_LL.symb2isymb()\n",
    "RHSString += dKODFulltheta.symb2isymb()\n",
    "RHSString += AdvDtheta.symb2expr()"
   ]
  },
  {
   "cell_type": "code",
   "execution_count": 15,
   "metadata": {},
   "outputs": [],
   "source": [
    "dDGamtilde_UL = Gamtilde_U.diff('dD', Accuracy = DiffOrder)\n",
    "dupDGamtilde_UL = Gamtilde_U.diff('dup1D', Accuracy = upDiffOrder)\n",
    "ddnDGamtilde_UL = Gamtilde_U.diff('ddn1D', Accuracy = dnDiffOrder)\n",
    "dDDGamtilde_ULL = Gamtilde_U.diff('dDD', Accuracy = DiffOrder)\n",
    "dKODFullGamtilde_U = Gamtilde_U.diff('dKODFull', Accuracy = DiffOrderKO)\n",
    "AdvDGamtilde_U = AdvectiveD(Gamtilde_U, beta_U)"
   ]
  },
  {
   "cell_type": "code",
   "execution_count": 16,
   "metadata": {},
   "outputs": [],
   "source": [
    "RHSString += dDGamtilde_UL.symb2isymb()\n",
    "RHSString += dupDGamtilde_UL.symb2isymb()\n",
    "RHSString += ddnDGamtilde_UL.symb2isymb()\n",
    "RHSString += dDDGamtilde_ULL.symb2isymb()\n",
    "RHSString += dKODFullGamtilde_U.symb2isymb()\n",
    "RHSString += AdvDGamtilde_U.symb2expr()"
   ]
  },
  {
   "cell_type": "code",
   "execution_count": 17,
   "metadata": {},
   "outputs": [],
   "source": [
    "dDalpha_L = alpha.diff('dD', Accuracy = DiffOrder)\n",
    "dupDalpha_L = alpha.diff('dup1D', Accuracy = upDiffOrder)\n",
    "ddnDalpha_L = alpha.diff('ddn1D', Accuracy = dnDiffOrder)\n",
    "dDDalpha_LL = alpha.diff('dDD', Accuracy = DiffOrder)\n",
    "dKODFullalpha = alpha.diff('dKODFull', Accuracy = DiffOrderKO)\n",
    "AdvDalpha = AdvectiveD(alpha, beta_U)"
   ]
  },
  {
   "cell_type": "code",
   "execution_count": 18,
   "metadata": {},
   "outputs": [],
   "source": [
    "RHSString += dDalpha_L.symb2isymb()\n",
    "RHSString += dupDalpha_L.symb2isymb()\n",
    "RHSString += ddnDalpha_L.symb2isymb()\n",
    "RHSString += dDDalpha_LL.symb2isymb()\n",
    "RHSString += dKODFullalpha.symb2isymb()\n",
    "RHSString += AdvDalpha.symb2expr()"
   ]
  },
  {
   "cell_type": "code",
   "execution_count": 19,
   "metadata": {},
   "outputs": [],
   "source": [
    "dDbeta_UL = beta_U.diff('dD', Accuracy = DiffOrder)\n",
    "dupDbeta_UL = beta_U.diff('dup1D', Accuracy = upDiffOrder)\n",
    "ddnDbeta_UL = beta_U.diff('ddn1D', Accuracy = dnDiffOrder)\n",
    "dDDbeta_ULL = beta_U.diff('dDD', Accuracy = DiffOrder)\n",
    "dKODFullbeta_U = beta_U.diff('dKODFull', Accuracy = DiffOrderKO)\n",
    "AdvDbeta_U = AdvectiveD(beta_U, beta_U)"
   ]
  },
  {
   "cell_type": "code",
   "execution_count": 20,
   "metadata": {},
   "outputs": [],
   "source": [
    "RHSString += dDbeta_UL.symb2isymb()\n",
    "RHSString += dupDbeta_UL.symb2isymb()\n",
    "RHSString += ddnDbeta_UL.symb2isymb()\n",
    "RHSString += dDDbeta_ULL.symb2isymb()\n",
    "RHSString += dKODFullbeta_U.symb2isymb()\n",
    "RHSString += AdvDbeta_U.symb2expr()"
   ]
  },
  {
   "cell_type": "code",
   "execution_count": null,
   "metadata": {},
   "outputs": [],
   "source": []
  },
  {
   "cell_type": "code",
   "execution_count": null,
   "metadata": {},
   "outputs": [],
   "source": []
  },
  {
   "cell_type": "code",
   "execution_count": 21,
   "metadata": {},
   "outputs": [],
   "source": [
    "gamtilde_UU = inversemetric(gamtilde_LL)"
   ]
  },
  {
   "cell_type": "code",
   "execution_count": 22,
   "metadata": {},
   "outputs": [],
   "source": [
    "RHSString += gamtilde_UU.symb2expr()"
   ]
  },
  {
   "cell_type": "code",
   "execution_count": 23,
   "metadata": {},
   "outputs": [],
   "source": [
    "Gamtilde_LLL = ChristoffelLLL(gamtilde_LL)\n",
    "Gamtilde_ULL = ChristoffelULL(gamtilde_LL)\n",
    "Gam_ULL = ConformalChristoffelULL(chi, gamtilde_LL)"
   ]
  },
  {
   "cell_type": "code",
   "execution_count": 24,
   "metadata": {},
   "outputs": [],
   "source": [
    "RHSString += Gamtilde_LLL.symb2expr()\n",
    "RHSString += Gamtilde_ULL.symb2expr()\n",
    "RHSString += Gam_ULL.symb2expr()"
   ]
  },
  {
   "cell_type": "code",
   "execution_count": 25,
   "metadata": {},
   "outputs": [],
   "source": [
    "CovDDalpha_LL = CovariantD(alpha, Gam_ULL, dstring = 'dDD')"
   ]
  },
  {
   "cell_type": "code",
   "execution_count": null,
   "metadata": {},
   "outputs": [],
   "source": []
  },
  {
   "cell_type": "code",
   "execution_count": 26,
   "metadata": {},
   "outputs": [],
   "source": [
    "RHSString += CovDDalpha_LL.symb2expr()"
   ]
  },
  {
   "cell_type": "code",
   "execution_count": 27,
   "metadata": {},
   "outputs": [],
   "source": [
    "gam_LL = stvarrank2('gam_LL', sym = 'sym01')\n",
    "gam_LL.expr = (chi.symb**(-1))*gamtilde_LL.symb\n",
    "\n",
    "gam_UU = stvarrank2('invgam_UU', sym = 'sym01')\n",
    "gam_UU.expr = chi.symb*gamtilde_UU.symb"
   ]
  },
  {
   "cell_type": "code",
   "execution_count": 28,
   "metadata": {},
   "outputs": [],
   "source": [
    "RHSString += gam_LL.symb2expr()\n",
    "RHSString += gam_UU.symb2expr()"
   ]
  },
  {
   "cell_type": "code",
   "execution_count": 29,
   "metadata": {},
   "outputs": [],
   "source": [
    "Atilde_UU = stvarrank2(\"Atilde_UU\", sym = 'sym01')\n",
    "for i in range(3):\n",
    "    for j in range(3):\n",
    "        for k in range(3):\n",
    "            for l in range(3):\n",
    "                Atilde_UU.expr[i][j] += gamtilde_UU.symb[i][k]*gamtilde_UU.symb[j][l]*Atilde_LL.symb[k][l]\n",
    "                \n",
    "Atilde_UL = stvarrank2(\"Atilde_UL\")\n",
    "for i in range(3):\n",
    "    for j in range(3):\n",
    "        for k in range(3):\n",
    "            Atilde_UL.expr[i][j] += gamtilde_UU.symb[i][k]*Atilde_LL.symb[k][j]"
   ]
  },
  {
   "cell_type": "code",
   "execution_count": 30,
   "metadata": {},
   "outputs": [],
   "source": [
    "RHSString += Atilde_UU.symb2expr()\n",
    "RHSString += Atilde_UL.symb2expr()"
   ]
  },
  {
   "cell_type": "code",
   "execution_count": 31,
   "metadata": {},
   "outputs": [],
   "source": [
    "CovDDalphaTF_LL = stvarrank2('CovDDalphaTF_LL', sym = 'sym01')\n",
    "\n",
    "for i in range(3):\n",
    "    for j in range(3):\n",
    "        CovDDalphaTF_LL.expr[i][j] += CovDDalpha_LL.symb[i][j]\n",
    "        for k in range(3):\n",
    "            for l in range(3):\n",
    "                CovDDalphaTF_LL.expr[i][j] += -1/3*gam_LL.symb[i][j]*(gam_UU.symb[k][l]*CovDDalpha_LL.symb[k][l])"
   ]
  },
  {
   "cell_type": "code",
   "execution_count": 32,
   "metadata": {},
   "outputs": [],
   "source": [
    "RHSString += CovDDalphaTF_LL.symb2expr()"
   ]
  },
  {
   "cell_type": "code",
   "execution_count": 33,
   "metadata": {},
   "outputs": [],
   "source": [
    "GamtildeD_U = ChristoffelDU(gamtilde_LL)"
   ]
  },
  {
   "cell_type": "code",
   "execution_count": 34,
   "metadata": {},
   "outputs": [],
   "source": [
    "RHSString += GamtildeD_U.symb2expr()"
   ]
  },
  {
   "cell_type": "code",
   "execution_count": 35,
   "metadata": {},
   "outputs": [],
   "source": [
    "Rtilde_LL = Z4cRicciTildeTensorLL(gamtilde_LL, Gamtilde_U)"
   ]
  },
  {
   "cell_type": "code",
   "execution_count": 36,
   "metadata": {},
   "outputs": [],
   "source": [
    "RHSString += Rtilde_LL.symb2expr()"
   ]
  },
  {
   "cell_type": "code",
   "execution_count": 37,
   "metadata": {},
   "outputs": [],
   "source": [
    "CovDtildechi_L = CovariantD(chi, Gamtilde_ULL, dstring = 'dD')\n",
    "CovDtildeDtildechi_LL = CovariantD(chi, Gamtilde_ULL, dstring = 'dDD')"
   ]
  },
  {
   "cell_type": "code",
   "execution_count": 38,
   "metadata": {},
   "outputs": [],
   "source": [
    "RHSString += CovDtildechi_L.symb2expr()\n",
    "RHSString += CovDtildeDtildechi_LL.symb2expr()"
   ]
  },
  {
   "cell_type": "code",
   "execution_count": null,
   "metadata": {},
   "outputs": [],
   "source": []
  },
  {
   "cell_type": "code",
   "execution_count": 39,
   "metadata": {},
   "outputs": [],
   "source": [
    "Rchi_LL = Z4cRicciTensorFromScalar(chi, gamtilde_LL, dstring = 'dD')    "
   ]
  },
  {
   "cell_type": "code",
   "execution_count": null,
   "metadata": {
    "scrolled": true
   },
   "outputs": [],
   "source": []
  },
  {
   "cell_type": "code",
   "execution_count": 40,
   "metadata": {},
   "outputs": [],
   "source": [
    "RHSString += Rchi_LL.symb2expr()"
   ]
  },
  {
   "cell_type": "code",
   "execution_count": 41,
   "metadata": {},
   "outputs": [],
   "source": [
    "R_LL = stvarrank2('R_LL', sym = 'sym01')\n",
    "for i in range(3):\n",
    "    for j in range(3):\n",
    "        R_LL.expr[i][j] += Rtilde_LL.symb[i][j]+Rchi_LL.symb[i][j]"
   ]
  },
  {
   "cell_type": "code",
   "execution_count": 42,
   "metadata": {},
   "outputs": [],
   "source": [
    "RHSString += R_LL.symb2expr()"
   ]
  },
  {
   "cell_type": "code",
   "execution_count": 43,
   "metadata": {},
   "outputs": [],
   "source": [
    "Rsclr = stvar('Rsclr')\n",
    "for i in range(3):\n",
    "    for j in range(3):\n",
    "        Rsclr.expr += gam_UU.symb[i][j]*R_LL.symb[i][j] "
   ]
  },
  {
   "cell_type": "code",
   "execution_count": 44,
   "metadata": {},
   "outputs": [],
   "source": [
    "RHSString += Rsclr.symb2expr()"
   ]
  },
  {
   "cell_type": "code",
   "execution_count": 45,
   "metadata": {},
   "outputs": [],
   "source": [
    "RTF_LL = stvarrank2('RTF_LL', sym = 'sym01')\n",
    "for i in range(3):\n",
    "    for j in range(3):\n",
    "        RTF_LL.expr[i][j] = R_LL.symb[i][j]-1/3*gam_LL.symb[i][j]*Rsclr.symb"
   ]
  },
  {
   "cell_type": "code",
   "execution_count": 46,
   "metadata": {},
   "outputs": [],
   "source": [
    "RHSString += RTF_LL.symb2expr()"
   ]
  },
  {
   "cell_type": "code",
   "execution_count": 47,
   "metadata": {},
   "outputs": [],
   "source": [
    "Dtildebeta_UL = CovariantD(beta_U, Gamtilde_ULL, 'dD')"
   ]
  },
  {
   "cell_type": "code",
   "execution_count": null,
   "metadata": {},
   "outputs": [],
   "source": []
  },
  {
   "cell_type": "code",
   "execution_count": 48,
   "metadata": {},
   "outputs": [],
   "source": [
    "RHSString += Dtildebeta_UL.symb2expr()"
   ]
  },
  {
   "cell_type": "code",
   "execution_count": 49,
   "metadata": {},
   "outputs": [],
   "source": [
    "divTildebeta = stvar('divTildebeta')\n",
    "for i in range(3):\n",
    "    divTildebeta.expr += Dtildebeta_UL.symb[i][i]"
   ]
  },
  {
   "cell_type": "code",
   "execution_count": 50,
   "metadata": {},
   "outputs": [],
   "source": [
    "RHSString += divTildebeta.symb2expr()"
   ]
  },
  {
   "cell_type": "code",
   "execution_count": 51,
   "metadata": {},
   "outputs": [],
   "source": [
    "KOsigma = stvar('KOSigma')\n",
    "KOsigma.expr = KOsigmaVal"
   ]
  },
  {
   "cell_type": "code",
   "execution_count": 52,
   "metadata": {},
   "outputs": [],
   "source": [
    "RHSString += KOsigma.symb2expr()"
   ]
  },
  {
   "cell_type": "code",
   "execution_count": 53,
   "metadata": {},
   "outputs": [],
   "source": [
    "RHS_chi = stvar(\"chi\", gridvar = True, addtolist = False, vartype = \"state_fab\", varprefix = \"rhs_fab\")\n",
    "RHS_chi.expr = 2.0/3*chi.symb*(alpha.symb*(Khat.symb+2*theta.symb)-divTildebeta.symb)\n",
    "RHS_chi.expr += AdvDchi.symb     \n",
    "RHS_chi.expr += KOsigma.symb*dKODFullchi.symb"
   ]
  },
  {
   "cell_type": "code",
   "execution_count": 54,
   "metadata": {},
   "outputs": [],
   "source": [
    "RHSString += RHS_chi.setisymb()"
   ]
  },
  {
   "cell_type": "code",
   "execution_count": 55,
   "metadata": {},
   "outputs": [],
   "source": [
    "RHS_gamtilde_LL = stvarrank2(\"gamtilde_LL\", gridvar = True, addtolist = False, sym = 'sym01', vartype = \"state_fab\", varprefix = \"rhs_fab\")\n",
    "\n",
    "for i in range(3):\n",
    "    for j in range(3):\n",
    "        RHS_gamtilde_LL.expr[i][j] += -2*alpha.symb*Atilde_LL.symb[i][j]\n",
    "        RHS_gamtilde_LL.expr[i][j] += AdvDgamtilde_LL.symb[i][j]\n",
    "        for k in range(3):\n",
    "            RHS_gamtilde_LL.expr[i][j] += gamtilde_LL.symb[k][i]*dDbeta_UL.symb[k][j]+gamtilde_LL.symb[k][j]*dDbeta_UL.symb[k][i]\n",
    "            RHS_gamtilde_LL.expr[i][j] += -2/3*gamtilde_LL.symb[i][j]*dDbeta_UL.symb[k][k]\n",
    "            \n",
    "for i in range(3):\n",
    "    for j in range(3):\n",
    "        RHS_gamtilde_LL.expr[i][j] += KOsigma.symb*dKODFullgamtilde_LL.symb[i][j]"
   ]
  },
  {
   "cell_type": "code",
   "execution_count": 56,
   "metadata": {},
   "outputs": [],
   "source": [
    "RHSString += RHS_gamtilde_LL.setisymb()"
   ]
  },
  {
   "cell_type": "code",
   "execution_count": 57,
   "metadata": {},
   "outputs": [],
   "source": [
    "kappa1 = stvar('kappa1')\n",
    "kappa2 = stvar('kappa2')\n",
    "\n",
    "kappa1.expr = 0.02\n",
    "kappa2.expr = 0\n",
    "\n",
    "RHS_Khat = stvar('Khat', gridvar = True, addtolist = False, vartype = \"state_fab\", varprefix = \"rhs_fab\")\n",
    "for i in range(3):\n",
    "    for j in range(3):\n",
    "        RHS_Khat.expr += -gam_UU.symb[i][j]*CovDDalpha_LL.symb[j][i]+alpha.symb*Atilde_LL.symb[i][j]*Atilde_UU.symb[i][j]\n",
    "\n",
    "RHS_Khat.expr += AdvDKhat.symb\n",
    "RHS_Khat.expr += 1/3*alpha.symb*((Khat.symb+2*theta.symb)**2) + alpha.symb*kappa1.symb*(1-kappa2.symb)*theta.symb\n",
    "RHS_Khat.expr += KOsigma.symb*dKODFullKhat.symb"
   ]
  },
  {
   "cell_type": "code",
   "execution_count": 58,
   "metadata": {},
   "outputs": [],
   "source": [
    "RHSString += kappa1.symb2expr()\n",
    "RHSString += kappa2.symb2expr()\n",
    "RHSString += RHS_Khat.setisymb()"
   ]
  },
  {
   "cell_type": "code",
   "execution_count": 59,
   "metadata": {},
   "outputs": [],
   "source": [
    "RHS_Atilde_LL = stvarrank2('Atilde_LL', sym = 'sym01', gridvar = True, addtolist = False, vartype = \"state_fab\", varprefix = \"rhs_fab\")\n",
    "\n",
    "for i in range(3):\n",
    "    for j in range(3):\n",
    "        RHS_Atilde_LL.expr[i][j] += chi.symb*(-CovDDalphaTF_LL.symb[i][j]+alpha.symb*RTF_LL.symb[i][j])+alpha.symb*(Khat.symb+2*theta.symb)*Atilde_LL.symb[i][j]\n",
    "        RHS_Atilde_LL.expr[i][j] += AdvDAtilde_LL.symb[i][j]\n",
    "        for k in range(3):\n",
    "            RHS_Atilde_LL.expr[i][j] += -2*alpha.symb*Atilde_LL.symb[i][k]*Atilde_UL.symb[k][j]\n",
    "            RHS_Atilde_LL.expr[i][j] += Atilde_LL.symb[k][i]*dDbeta_UL.symb[k][j]+Atilde_LL.symb[k][j]*dDbeta_UL.symb[k][i]-2/3*Atilde_LL.symb[i][j]*dDbeta_UL.symb[k][k]\n",
    "            \n",
    "for i in range(3):\n",
    "    for j in range(3):\n",
    "        RHS_Atilde_LL.expr[i][j] += KOsigma.symb*dKODFullAtilde_LL.symb[i][j]"
   ]
  },
  {
   "cell_type": "code",
   "execution_count": 60,
   "metadata": {},
   "outputs": [],
   "source": [
    "RHSString += RHS_Atilde_LL.setisymb()"
   ]
  },
  {
   "cell_type": "code",
   "execution_count": 61,
   "metadata": {},
   "outputs": [],
   "source": [
    "RHS_theta = stvar('theta', gridvar = True, addtolist = False, vartype = \"state_fab\", varprefix = \"rhs_fab\")\n",
    "\n",
    "RHS_theta.expr = 1/2*alpha.symb*(Rsclr.symb + 2/3*(Khat.symb+2*theta.symb)**2 - 2*kappa1.symb*(2+kappa2.symb)*theta.symb)\n",
    "RHS_theta.expr += AdvDtheta.symb\n",
    "for i in range(3):\n",
    "    for j in range(3):\n",
    "        RHS_theta.expr += -1/2*alpha.symb*Atilde_LL.symb[i][j]*Atilde_UU.symb[i][j]\n",
    "\n",
    "RHS_theta.expr += KOsigma.symb*dKODFulltheta.symb"
   ]
  },
  {
   "cell_type": "code",
   "execution_count": 62,
   "metadata": {},
   "outputs": [],
   "source": [
    "RHSString += RHS_theta.setisymb()"
   ]
  },
  {
   "cell_type": "code",
   "execution_count": 63,
   "metadata": {},
   "outputs": [],
   "source": [
    "RHS_Gamtilde_U = stvarrank1('Gamtilde_U', gridvar = True, addtolist = False, vartype = \"state_fab\", varprefix = \"rhs_fab\")\n",
    "\n",
    "for i in range(3):\n",
    "    RHS_Gamtilde_U.expr[i] += AdvDGamtilde_U.symb[i]\n",
    "    for j in range(3):\n",
    "        RHS_Gamtilde_U.expr[i] += -2*Atilde_UU.symb[i][j]*dDalpha_L.symb[j]+2*alpha.symb*(-1/3*gamtilde_UU.symb[i][j]*(2*dDKhat_L.symb[j]+dDtheta_L.symb[j])-3/2*Atilde_UU.symb[i][j]*dDchi_L.symb[j]/chi.symb)\n",
    "        RHS_Gamtilde_U.expr[i] += -GamtildeD_U.symb[j]*dDbeta_UL.symb[i][j]+2/3*GamtildeD_U.symb[i]*dDbeta_UL.symb[j][j]\n",
    "        for k in range(3):\n",
    "            RHS_Gamtilde_U.expr[i] += 2*alpha.symb*Gamtilde_ULL.symb[i][j][k]*Atilde_UU.symb[j][k]\n",
    "            RHS_Gamtilde_U.expr[i] += 1/3*gamtilde_UU.symb[i][j]*dDDbeta_ULL.symb[k][j][k]\n",
    "            RHS_Gamtilde_U.expr[i] += gamtilde_UU.symb[j][k]*dDDbeta_ULL.symb[i][j][k]\n",
    "            \n",
    "for i in range(3):\n",
    "    RHS_Gamtilde_U.expr[i] += -2*alpha.symb*kappa1.symb*(Gamtilde_U.symb[i]-GamtildeD_U.symb[i])\n",
    "for i in range(3):\n",
    "    RHS_Gamtilde_U.expr[i] += KOsigma.symb*dKODFullGamtilde_U.symb[i]"
   ]
  },
  {
   "cell_type": "code",
   "execution_count": 64,
   "metadata": {},
   "outputs": [],
   "source": [
    "RHSString += RHS_Gamtilde_U.setisymb()"
   ]
  },
  {
   "cell_type": "code",
   "execution_count": 65,
   "metadata": {},
   "outputs": [],
   "source": [
    "mul = stvar('mul')\n",
    "mus = stvar('mus')\n",
    "\n",
    "mul.expr = 2/alpha.symb\n",
    "mus.expr = 1/(alpha.symb**(2))"
   ]
  },
  {
   "cell_type": "code",
   "execution_count": 66,
   "metadata": {},
   "outputs": [],
   "source": [
    "RHSString += mul.symb2expr()\n",
    "RHSString += mus.symb2expr()"
   ]
  },
  {
   "cell_type": "code",
   "execution_count": 67,
   "metadata": {},
   "outputs": [],
   "source": [
    "RHS_alpha = stvar('alpha', gridvar = True, addtolist = False, vartype = \"state_fab\", varprefix = \"rhs_fab\")\n",
    "\n",
    "RHS_alpha.expr += -mul.symb*(alpha.symb**2)*Khat.symb+AdvDalpha.symb\n",
    "RHS_alpha.expr += KOsigma.symb*dKODFullalpha.symb"
   ]
  },
  {
   "cell_type": "code",
   "execution_count": 68,
   "metadata": {},
   "outputs": [],
   "source": [
    "RHSString += RHS_alpha.setisymb()"
   ]
  },
  {
   "cell_type": "code",
   "execution_count": 69,
   "metadata": {},
   "outputs": [],
   "source": [
    "eta = stvar('eta')\n",
    "eta.expr = 2.0\n",
    "\n",
    "RHS_beta_U = stvarrank1('beta_U', gridvar = True, addtolist = False, vartype = \"state_fab\", varprefix = \"rhs_fab\")\n",
    "\n",
    "for i in range(3):\n",
    "    RHS_beta_U.expr[i] += mus.symb*(alpha.symb**2)*Gamtilde_U.symb[i]-eta.symb*beta_U.symb[i]+AdvDbeta_U.symb[i]\n",
    "    \n",
    "for i in range(3):\n",
    "    RHS_beta_U.expr[i] += KOsigma.symb*dKODFullbeta_U.symb[i]"
   ]
  },
  {
   "cell_type": "code",
   "execution_count": 70,
   "metadata": {},
   "outputs": [],
   "source": [
    "RHSString += eta.symb2expr()\n",
    "RHSString += RHS_beta_U.setisymb()"
   ]
  },
  {
   "cell_type": "code",
   "execution_count": null,
   "metadata": {},
   "outputs": [],
   "source": []
  },
  {
   "cell_type": "code",
   "execution_count": null,
   "metadata": {},
   "outputs": [],
   "source": []
  },
  {
   "cell_type": "code",
   "execution_count": null,
   "metadata": {},
   "outputs": [],
   "source": []
  },
  {
   "cell_type": "code",
   "execution_count": 71,
   "metadata": {
    "scrolled": true,
    "tags": []
   },
   "outputs": [
    {
     "name": "stdout",
     "output_type": "stream",
     "text": [
      "        amrex::Real chi = state_fab(i, j, k, Idx::chi);\n",
      "\n",
      "        amrex::Real gamtilde_LL_00 = state_fab(i, j, k, Idx::gamtilde_LL_00);\n",
      "        amrex::Real gamtilde_LL_01 = state_fab(i, j, k, Idx::gamtilde_LL_01);\n",
      "        amrex::Real gamtilde_LL_02 = state_fab(i, j, k, Idx::gamtilde_LL_02);\n",
      "        amrex::Real gamtilde_LL_11 = state_fab(i, j, k, Idx::gamtilde_LL_11);\n",
      "        amrex::Real gamtilde_LL_12 = state_fab(i, j, k, Idx::gamtilde_LL_12);\n",
      "        amrex::Real gamtilde_LL_22 = state_fab(i, j, k, Idx::gamtilde_LL_22);\n",
      "\n",
      "        amrex::Real Khat = state_fab(i, j, k, Idx::Khat);\n",
      "\n",
      "        amrex::Real Atilde_LL_00 = state_fab(i, j, k, Idx::Atilde_LL_00);\n",
      "        amrex::Real Atilde_LL_01 = state_fab(i, j, k, Idx::Atilde_LL_01);\n",
      "        amrex::Real Atilde_LL_02 = state_fab(i, j, k, Idx::Atilde_LL_02);\n",
      "        amrex::Real Atilde_LL_11 = state_fab(i, j, k, Idx::Atilde_LL_11);\n",
      "        amrex::Real Atilde_LL_12 = state_fab(i, j, k, Idx::Atilde_LL_12);\n",
      "        amrex::Real Atilde_LL_22 = state_fab(i, j, k, Idx::Atilde_LL_22);\n",
      "\n",
      "        amrex::Real theta = state_fab(i, j, k, Idx::theta);\n",
      "\n",
      "        amrex::Real Gamtilde_U_0 = state_fab(i, j, k, Idx::Gamtilde_U_0);\n",
      "        amrex::Real Gamtilde_U_1 = state_fab(i, j, k, Idx::Gamtilde_U_1);\n",
      "        amrex::Real Gamtilde_U_2 = state_fab(i, j, k, Idx::Gamtilde_U_2);\n",
      "\n",
      "        amrex::Real alpha = state_fab(i, j, k, Idx::alpha);\n",
      "\n",
      "        amrex::Real beta_U_0 = state_fab(i, j, k, Idx::beta_U_0);\n",
      "        amrex::Real beta_U_1 = state_fab(i, j, k, Idx::beta_U_1);\n",
      "        amrex::Real beta_U_2 = state_fab(i, j, k, Idx::beta_U_2);\n",
      "\n",
      "        amrex::Real dDchi_L_0 = ((2.0/3.0)*state_fab(i + 1, j, k, Idx::chi) - 1.0/12.0*state_fab(i + 2, j, k, Idx::chi) - 2.0/3.0*state_fab(i - 1, j, k, Idx::chi) + (1.0/12.0)*state_fab(i - 2, j, k, Idx::chi))/dx[0];\n",
      "        amrex::Real dDchi_L_1 = ((2.0/3.0)*state_fab(i, j + 1, k, Idx::chi) - 1.0/12.0*state_fab(i, j + 2, k, Idx::chi) - 2.0/3.0*state_fab(i, j - 1, k, Idx::chi) + (1.0/12.0)*state_fab(i, j - 2, k, Idx::chi))/dx[1];\n",
      "        amrex::Real dDchi_L_2 = ((2.0/3.0)*state_fab(i, j, k + 1, Idx::chi) - 1.0/12.0*state_fab(i, j, k + 2, Idx::chi) - 2.0/3.0*state_fab(i, j, k - 1, Idx::chi) + (1.0/12.0)*state_fab(i, j, k - 2, Idx::chi))/dx[2];\n",
      "\n",
      "        amrex::Real dupDchi_L_0 = ((3.0/2.0)*state_fab(i + 1, j, k, Idx::chi) - 1.0/2.0*state_fab(i + 2, j, k, Idx::chi) + (1.0/12.0)*state_fab(i + 3, j, k, Idx::chi) - 1.0/4.0*state_fab(i - 1, j, k, Idx::chi) - 5.0/6.0*state_fab(i, j, k, Idx::chi))/dx[0];\n",
      "        amrex::Real dupDchi_L_1 = ((3.0/2.0)*state_fab(i, j + 1, k, Idx::chi) - 1.0/2.0*state_fab(i, j + 2, k, Idx::chi) + (1.0/12.0)*state_fab(i, j + 3, k, Idx::chi) - 1.0/4.0*state_fab(i, j - 1, k, Idx::chi) - 5.0/6.0*state_fab(i, j, k, Idx::chi))/dx[1];\n",
      "        amrex::Real dupDchi_L_2 = ((3.0/2.0)*state_fab(i, j, k + 1, Idx::chi) - 1.0/2.0*state_fab(i, j, k + 2, Idx::chi) + (1.0/12.0)*state_fab(i, j, k + 3, Idx::chi) - 1.0/4.0*state_fab(i, j, k - 1, Idx::chi) - 5.0/6.0*state_fab(i, j, k, Idx::chi))/dx[2];\n",
      "\n",
      "        amrex::Real ddnDchi_L_0 = ((1.0/4.0)*state_fab(i + 1, j, k, Idx::chi) - 3.0/2.0*state_fab(i - 1, j, k, Idx::chi) + (1.0/2.0)*state_fab(i - 2, j, k, Idx::chi) - 1.0/12.0*state_fab(i - 3, j, k, Idx::chi) + (5.0/6.0)*state_fab(i, j, k, Idx::chi))/dx[0];\n",
      "        amrex::Real ddnDchi_L_1 = ((1.0/4.0)*state_fab(i, j + 1, k, Idx::chi) - 3.0/2.0*state_fab(i, j - 1, k, Idx::chi) + (1.0/2.0)*state_fab(i, j - 2, k, Idx::chi) - 1.0/12.0*state_fab(i, j - 3, k, Idx::chi) + (5.0/6.0)*state_fab(i, j, k, Idx::chi))/dx[1];\n",
      "        amrex::Real ddnDchi_L_2 = ((1.0/4.0)*state_fab(i, j, k + 1, Idx::chi) - 3.0/2.0*state_fab(i, j, k - 1, Idx::chi) + (1.0/2.0)*state_fab(i, j, k - 2, Idx::chi) - 1.0/12.0*state_fab(i, j, k - 3, Idx::chi) + (5.0/6.0)*state_fab(i, j, k, Idx::chi))/dx[2];\n",
      "\n",
      "        amrex::Real dDDchi_LL_00 = ((4.0/3.0)*state_fab(i + 1, j, k, Idx::chi) - 1.0/12.0*state_fab(i + 2, j, k, Idx::chi) + (4.0/3.0)*state_fab(i - 1, j, k, Idx::chi) - 1.0/12.0*state_fab(i - 2, j, k, Idx::chi) - 5.0/2.0*state_fab(i, j, k, Idx::chi))/std::pow(dx[0], 2);\n",
      "        amrex::Real dDDchi_LL_01 = ((4.0/9.0)*state_fab(i + 1, j + 1, k, Idx::chi) - 1.0/18.0*state_fab(i + 1, j + 2, k, Idx::chi) - 4.0/9.0*state_fab(i + 1, j - 1, k, Idx::chi) + (1.0/18.0)*state_fab(i + 1, j - 2, k, Idx::chi) - 1.0/18.0*state_fab(i + 2, j + 1, k, Idx::chi) + (1.0/144.0)*state_fab(i + 2, j + 2, k, Idx::chi) + (1.0/18.0)*state_fab(i + 2, j - 1, k, Idx::chi) - 1.0/144.0*state_fab(i + 2, j - 2, k, Idx::chi) - 4.0/9.0*state_fab(i - 1, j + 1, k, Idx::chi) + (1.0/18.0)*state_fab(i - 1, j + 2, k, Idx::chi) + (4.0/9.0)*state_fab(i - 1, j - 1, k, Idx::chi) - 1.0/18.0*state_fab(i - 1, j - 2, k, Idx::chi) + (1.0/18.0)*state_fab(i - 2, j + 1, k, Idx::chi) - 1.0/144.0*state_fab(i - 2, j + 2, k, Idx::chi) - 1.0/18.0*state_fab(i - 2, j - 1, k, Idx::chi) + (1.0/144.0)*state_fab(i - 2, j - 2, k, Idx::chi))/(dx[0]*dx[1]);\n",
      "        amrex::Real dDDchi_LL_02 = ((4.0/9.0)*state_fab(i + 1, j, k + 1, Idx::chi) - 1.0/18.0*state_fab(i + 1, j, k + 2, Idx::chi) - 4.0/9.0*state_fab(i + 1, j, k - 1, Idx::chi) + (1.0/18.0)*state_fab(i + 1, j, k - 2, Idx::chi) - 1.0/18.0*state_fab(i + 2, j, k + 1, Idx::chi) + (1.0/144.0)*state_fab(i + 2, j, k + 2, Idx::chi) + (1.0/18.0)*state_fab(i + 2, j, k - 1, Idx::chi) - 1.0/144.0*state_fab(i + 2, j, k - 2, Idx::chi) - 4.0/9.0*state_fab(i - 1, j, k + 1, Idx::chi) + (1.0/18.0)*state_fab(i - 1, j, k + 2, Idx::chi) + (4.0/9.0)*state_fab(i - 1, j, k - 1, Idx::chi) - 1.0/18.0*state_fab(i - 1, j, k - 2, Idx::chi) + (1.0/18.0)*state_fab(i - 2, j, k + 1, Idx::chi) - 1.0/144.0*state_fab(i - 2, j, k + 2, Idx::chi) - 1.0/18.0*state_fab(i - 2, j, k - 1, Idx::chi) + (1.0/144.0)*state_fab(i - 2, j, k - 2, Idx::chi))/(dx[0]*dx[2]);\n",
      "        amrex::Real dDDchi_LL_11 = ((4.0/3.0)*state_fab(i, j + 1, k, Idx::chi) - 1.0/12.0*state_fab(i, j + 2, k, Idx::chi) + (4.0/3.0)*state_fab(i, j - 1, k, Idx::chi) - 1.0/12.0*state_fab(i, j - 2, k, Idx::chi) - 5.0/2.0*state_fab(i, j, k, Idx::chi))/std::pow(dx[1], 2);\n",
      "        amrex::Real dDDchi_LL_12 = ((4.0/9.0)*state_fab(i, j + 1, k + 1, Idx::chi) - 1.0/18.0*state_fab(i, j + 1, k + 2, Idx::chi) - 4.0/9.0*state_fab(i, j + 1, k - 1, Idx::chi) + (1.0/18.0)*state_fab(i, j + 1, k - 2, Idx::chi) - 1.0/18.0*state_fab(i, j + 2, k + 1, Idx::chi) + (1.0/144.0)*state_fab(i, j + 2, k + 2, Idx::chi) + (1.0/18.0)*state_fab(i, j + 2, k - 1, Idx::chi) - 1.0/144.0*state_fab(i, j + 2, k - 2, Idx::chi) - 4.0/9.0*state_fab(i, j - 1, k + 1, Idx::chi) + (1.0/18.0)*state_fab(i, j - 1, k + 2, Idx::chi) + (4.0/9.0)*state_fab(i, j - 1, k - 1, Idx::chi) - 1.0/18.0*state_fab(i, j - 1, k - 2, Idx::chi) + (1.0/18.0)*state_fab(i, j - 2, k + 1, Idx::chi) - 1.0/144.0*state_fab(i, j - 2, k + 2, Idx::chi) - 1.0/18.0*state_fab(i, j - 2, k - 1, Idx::chi) + (1.0/144.0)*state_fab(i, j - 2, k - 2, Idx::chi))/(dx[1]*dx[2]);\n",
      "        amrex::Real dDDchi_LL_22 = ((4.0/3.0)*state_fab(i, j, k + 1, Idx::chi) - 1.0/12.0*state_fab(i, j, k + 2, Idx::chi) + (4.0/3.0)*state_fab(i, j, k - 1, Idx::chi) - 1.0/12.0*state_fab(i, j, k - 2, Idx::chi) - 5.0/2.0*state_fab(i, j, k, Idx::chi))/std::pow(dx[2], 2);\n",
      "\n",
      "        amrex::Real dKODchi = ((15.0/64.0)*state_fab(i, j, k + 1, Idx::chi) - 3.0/32.0*state_fab(i, j, k + 2, Idx::chi) + (1.0/64.0)*state_fab(i, j, k + 3, Idx::chi) + (15.0/64.0)*state_fab(i, j, k - 1, Idx::chi) - 3.0/32.0*state_fab(i, j, k - 2, Idx::chi) + (1.0/64.0)*state_fab(i, j, k - 3, Idx::chi) - 5.0/16.0*state_fab(i, j, k, Idx::chi))/dx[2] + ((15.0/64.0)*state_fab(i, j + 1, k, Idx::chi) - 3.0/32.0*state_fab(i, j + 2, k, Idx::chi) + (1.0/64.0)*state_fab(i, j + 3, k, Idx::chi) + (15.0/64.0)*state_fab(i, j - 1, k, Idx::chi) - 3.0/32.0*state_fab(i, j - 2, k, Idx::chi) + (1.0/64.0)*state_fab(i, j - 3, k, Idx::chi) - 5.0/16.0*state_fab(i, j, k, Idx::chi))/dx[1] + ((15.0/64.0)*state_fab(i + 1, j, k, Idx::chi) - 3.0/32.0*state_fab(i + 2, j, k, Idx::chi) + (1.0/64.0)*state_fab(i + 3, j, k, Idx::chi) + (15.0/64.0)*state_fab(i - 1, j, k, Idx::chi) - 3.0/32.0*state_fab(i - 2, j, k, Idx::chi) + (1.0/64.0)*state_fab(i - 3, j, k, Idx::chi) - 5.0/16.0*state_fab(i, j, k, Idx::chi))/dx[0];\n",
      "\n",
      "        amrex::Real AdvDbetachi = beta_U_0*(ddnDchi_L_0*(beta_U_0 < 0) + dupDchi_L_0*(beta_U_0 > 0)) + beta_U_1*(ddnDchi_L_1*(beta_U_1 < 0) + dupDchi_L_1*(beta_U_1 > 0)) + beta_U_2*(ddnDchi_L_2*(beta_U_2 < 0) + dupDchi_L_2*(beta_U_2 > 0));\n",
      "\n",
      "        amrex::Real dDgamtilde_LLL_000 = ((2.0/3.0)*state_fab(i + 1, j, k, Idx::gamtilde_LL_00) - 1.0/12.0*state_fab(i + 2, j, k, Idx::gamtilde_LL_00) - 2.0/3.0*state_fab(i - 1, j, k, Idx::gamtilde_LL_00) + (1.0/12.0)*state_fab(i - 2, j, k, Idx::gamtilde_LL_00))/dx[0];\n",
      "        amrex::Real dDgamtilde_LLL_001 = ((2.0/3.0)*state_fab(i, j + 1, k, Idx::gamtilde_LL_00) - 1.0/12.0*state_fab(i, j + 2, k, Idx::gamtilde_LL_00) - 2.0/3.0*state_fab(i, j - 1, k, Idx::gamtilde_LL_00) + (1.0/12.0)*state_fab(i, j - 2, k, Idx::gamtilde_LL_00))/dx[1];\n",
      "        amrex::Real dDgamtilde_LLL_002 = ((2.0/3.0)*state_fab(i, j, k + 1, Idx::gamtilde_LL_00) - 1.0/12.0*state_fab(i, j, k + 2, Idx::gamtilde_LL_00) - 2.0/3.0*state_fab(i, j, k - 1, Idx::gamtilde_LL_00) + (1.0/12.0)*state_fab(i, j, k - 2, Idx::gamtilde_LL_00))/dx[2];\n",
      "        amrex::Real dDgamtilde_LLL_010 = ((2.0/3.0)*state_fab(i + 1, j, k, Idx::gamtilde_LL_01) - 1.0/12.0*state_fab(i + 2, j, k, Idx::gamtilde_LL_01) - 2.0/3.0*state_fab(i - 1, j, k, Idx::gamtilde_LL_01) + (1.0/12.0)*state_fab(i - 2, j, k, Idx::gamtilde_LL_01))/dx[0];\n",
      "        amrex::Real dDgamtilde_LLL_011 = ((2.0/3.0)*state_fab(i, j + 1, k, Idx::gamtilde_LL_01) - 1.0/12.0*state_fab(i, j + 2, k, Idx::gamtilde_LL_01) - 2.0/3.0*state_fab(i, j - 1, k, Idx::gamtilde_LL_01) + (1.0/12.0)*state_fab(i, j - 2, k, Idx::gamtilde_LL_01))/dx[1];\n",
      "        amrex::Real dDgamtilde_LLL_012 = ((2.0/3.0)*state_fab(i, j, k + 1, Idx::gamtilde_LL_01) - 1.0/12.0*state_fab(i, j, k + 2, Idx::gamtilde_LL_01) - 2.0/3.0*state_fab(i, j, k - 1, Idx::gamtilde_LL_01) + (1.0/12.0)*state_fab(i, j, k - 2, Idx::gamtilde_LL_01))/dx[2];\n",
      "        amrex::Real dDgamtilde_LLL_020 = ((2.0/3.0)*state_fab(i + 1, j, k, Idx::gamtilde_LL_02) - 1.0/12.0*state_fab(i + 2, j, k, Idx::gamtilde_LL_02) - 2.0/3.0*state_fab(i - 1, j, k, Idx::gamtilde_LL_02) + (1.0/12.0)*state_fab(i - 2, j, k, Idx::gamtilde_LL_02))/dx[0];\n",
      "        amrex::Real dDgamtilde_LLL_021 = ((2.0/3.0)*state_fab(i, j + 1, k, Idx::gamtilde_LL_02) - 1.0/12.0*state_fab(i, j + 2, k, Idx::gamtilde_LL_02) - 2.0/3.0*state_fab(i, j - 1, k, Idx::gamtilde_LL_02) + (1.0/12.0)*state_fab(i, j - 2, k, Idx::gamtilde_LL_02))/dx[1];\n",
      "        amrex::Real dDgamtilde_LLL_022 = ((2.0/3.0)*state_fab(i, j, k + 1, Idx::gamtilde_LL_02) - 1.0/12.0*state_fab(i, j, k + 2, Idx::gamtilde_LL_02) - 2.0/3.0*state_fab(i, j, k - 1, Idx::gamtilde_LL_02) + (1.0/12.0)*state_fab(i, j, k - 2, Idx::gamtilde_LL_02))/dx[2];\n",
      "        amrex::Real dDgamtilde_LLL_110 = ((2.0/3.0)*state_fab(i + 1, j, k, Idx::gamtilde_LL_11) - 1.0/12.0*state_fab(i + 2, j, k, Idx::gamtilde_LL_11) - 2.0/3.0*state_fab(i - 1, j, k, Idx::gamtilde_LL_11) + (1.0/12.0)*state_fab(i - 2, j, k, Idx::gamtilde_LL_11))/dx[0];\n",
      "        amrex::Real dDgamtilde_LLL_111 = ((2.0/3.0)*state_fab(i, j + 1, k, Idx::gamtilde_LL_11) - 1.0/12.0*state_fab(i, j + 2, k, Idx::gamtilde_LL_11) - 2.0/3.0*state_fab(i, j - 1, k, Idx::gamtilde_LL_11) + (1.0/12.0)*state_fab(i, j - 2, k, Idx::gamtilde_LL_11))/dx[1];\n",
      "        amrex::Real dDgamtilde_LLL_112 = ((2.0/3.0)*state_fab(i, j, k + 1, Idx::gamtilde_LL_11) - 1.0/12.0*state_fab(i, j, k + 2, Idx::gamtilde_LL_11) - 2.0/3.0*state_fab(i, j, k - 1, Idx::gamtilde_LL_11) + (1.0/12.0)*state_fab(i, j, k - 2, Idx::gamtilde_LL_11))/dx[2];\n",
      "        amrex::Real dDgamtilde_LLL_120 = ((2.0/3.0)*state_fab(i + 1, j, k, Idx::gamtilde_LL_12) - 1.0/12.0*state_fab(i + 2, j, k, Idx::gamtilde_LL_12) - 2.0/3.0*state_fab(i - 1, j, k, Idx::gamtilde_LL_12) + (1.0/12.0)*state_fab(i - 2, j, k, Idx::gamtilde_LL_12))/dx[0];\n",
      "        amrex::Real dDgamtilde_LLL_121 = ((2.0/3.0)*state_fab(i, j + 1, k, Idx::gamtilde_LL_12) - 1.0/12.0*state_fab(i, j + 2, k, Idx::gamtilde_LL_12) - 2.0/3.0*state_fab(i, j - 1, k, Idx::gamtilde_LL_12) + (1.0/12.0)*state_fab(i, j - 2, k, Idx::gamtilde_LL_12))/dx[1];\n",
      "        amrex::Real dDgamtilde_LLL_122 = ((2.0/3.0)*state_fab(i, j, k + 1, Idx::gamtilde_LL_12) - 1.0/12.0*state_fab(i, j, k + 2, Idx::gamtilde_LL_12) - 2.0/3.0*state_fab(i, j, k - 1, Idx::gamtilde_LL_12) + (1.0/12.0)*state_fab(i, j, k - 2, Idx::gamtilde_LL_12))/dx[2];\n",
      "        amrex::Real dDgamtilde_LLL_220 = ((2.0/3.0)*state_fab(i + 1, j, k, Idx::gamtilde_LL_22) - 1.0/12.0*state_fab(i + 2, j, k, Idx::gamtilde_LL_22) - 2.0/3.0*state_fab(i - 1, j, k, Idx::gamtilde_LL_22) + (1.0/12.0)*state_fab(i - 2, j, k, Idx::gamtilde_LL_22))/dx[0];\n",
      "        amrex::Real dDgamtilde_LLL_221 = ((2.0/3.0)*state_fab(i, j + 1, k, Idx::gamtilde_LL_22) - 1.0/12.0*state_fab(i, j + 2, k, Idx::gamtilde_LL_22) - 2.0/3.0*state_fab(i, j - 1, k, Idx::gamtilde_LL_22) + (1.0/12.0)*state_fab(i, j - 2, k, Idx::gamtilde_LL_22))/dx[1];\n",
      "        amrex::Real dDgamtilde_LLL_222 = ((2.0/3.0)*state_fab(i, j, k + 1, Idx::gamtilde_LL_22) - 1.0/12.0*state_fab(i, j, k + 2, Idx::gamtilde_LL_22) - 2.0/3.0*state_fab(i, j, k - 1, Idx::gamtilde_LL_22) + (1.0/12.0)*state_fab(i, j, k - 2, Idx::gamtilde_LL_22))/dx[2];\n",
      "\n",
      "        amrex::Real dupDgamtilde_LLL_000 = ((3.0/2.0)*state_fab(i + 1, j, k, Idx::gamtilde_LL_00) - 1.0/2.0*state_fab(i + 2, j, k, Idx::gamtilde_LL_00) + (1.0/12.0)*state_fab(i + 3, j, k, Idx::gamtilde_LL_00) - 1.0/4.0*state_fab(i - 1, j, k, Idx::gamtilde_LL_00) - 5.0/6.0*state_fab(i, j, k, Idx::gamtilde_LL_00))/dx[0];\n",
      "        amrex::Real dupDgamtilde_LLL_001 = ((3.0/2.0)*state_fab(i, j + 1, k, Idx::gamtilde_LL_00) - 1.0/2.0*state_fab(i, j + 2, k, Idx::gamtilde_LL_00) + (1.0/12.0)*state_fab(i, j + 3, k, Idx::gamtilde_LL_00) - 1.0/4.0*state_fab(i, j - 1, k, Idx::gamtilde_LL_00) - 5.0/6.0*state_fab(i, j, k, Idx::gamtilde_LL_00))/dx[1];\n",
      "        amrex::Real dupDgamtilde_LLL_002 = ((3.0/2.0)*state_fab(i, j, k + 1, Idx::gamtilde_LL_00) - 1.0/2.0*state_fab(i, j, k + 2, Idx::gamtilde_LL_00) + (1.0/12.0)*state_fab(i, j, k + 3, Idx::gamtilde_LL_00) - 1.0/4.0*state_fab(i, j, k - 1, Idx::gamtilde_LL_00) - 5.0/6.0*state_fab(i, j, k, Idx::gamtilde_LL_00))/dx[2];\n",
      "        amrex::Real dupDgamtilde_LLL_010 = ((3.0/2.0)*state_fab(i + 1, j, k, Idx::gamtilde_LL_01) - 1.0/2.0*state_fab(i + 2, j, k, Idx::gamtilde_LL_01) + (1.0/12.0)*state_fab(i + 3, j, k, Idx::gamtilde_LL_01) - 1.0/4.0*state_fab(i - 1, j, k, Idx::gamtilde_LL_01) - 5.0/6.0*state_fab(i, j, k, Idx::gamtilde_LL_01))/dx[0];\n",
      "        amrex::Real dupDgamtilde_LLL_011 = ((3.0/2.0)*state_fab(i, j + 1, k, Idx::gamtilde_LL_01) - 1.0/2.0*state_fab(i, j + 2, k, Idx::gamtilde_LL_01) + (1.0/12.0)*state_fab(i, j + 3, k, Idx::gamtilde_LL_01) - 1.0/4.0*state_fab(i, j - 1, k, Idx::gamtilde_LL_01) - 5.0/6.0*state_fab(i, j, k, Idx::gamtilde_LL_01))/dx[1];\n",
      "        amrex::Real dupDgamtilde_LLL_012 = ((3.0/2.0)*state_fab(i, j, k + 1, Idx::gamtilde_LL_01) - 1.0/2.0*state_fab(i, j, k + 2, Idx::gamtilde_LL_01) + (1.0/12.0)*state_fab(i, j, k + 3, Idx::gamtilde_LL_01) - 1.0/4.0*state_fab(i, j, k - 1, Idx::gamtilde_LL_01) - 5.0/6.0*state_fab(i, j, k, Idx::gamtilde_LL_01))/dx[2];\n",
      "        amrex::Real dupDgamtilde_LLL_020 = ((3.0/2.0)*state_fab(i + 1, j, k, Idx::gamtilde_LL_02) - 1.0/2.0*state_fab(i + 2, j, k, Idx::gamtilde_LL_02) + (1.0/12.0)*state_fab(i + 3, j, k, Idx::gamtilde_LL_02) - 1.0/4.0*state_fab(i - 1, j, k, Idx::gamtilde_LL_02) - 5.0/6.0*state_fab(i, j, k, Idx::gamtilde_LL_02))/dx[0];\n",
      "        amrex::Real dupDgamtilde_LLL_021 = ((3.0/2.0)*state_fab(i, j + 1, k, Idx::gamtilde_LL_02) - 1.0/2.0*state_fab(i, j + 2, k, Idx::gamtilde_LL_02) + (1.0/12.0)*state_fab(i, j + 3, k, Idx::gamtilde_LL_02) - 1.0/4.0*state_fab(i, j - 1, k, Idx::gamtilde_LL_02) - 5.0/6.0*state_fab(i, j, k, Idx::gamtilde_LL_02))/dx[1];\n",
      "        amrex::Real dupDgamtilde_LLL_022 = ((3.0/2.0)*state_fab(i, j, k + 1, Idx::gamtilde_LL_02) - 1.0/2.0*state_fab(i, j, k + 2, Idx::gamtilde_LL_02) + (1.0/12.0)*state_fab(i, j, k + 3, Idx::gamtilde_LL_02) - 1.0/4.0*state_fab(i, j, k - 1, Idx::gamtilde_LL_02) - 5.0/6.0*state_fab(i, j, k, Idx::gamtilde_LL_02))/dx[2];\n",
      "        amrex::Real dupDgamtilde_LLL_110 = ((3.0/2.0)*state_fab(i + 1, j, k, Idx::gamtilde_LL_11) - 1.0/2.0*state_fab(i + 2, j, k, Idx::gamtilde_LL_11) + (1.0/12.0)*state_fab(i + 3, j, k, Idx::gamtilde_LL_11) - 1.0/4.0*state_fab(i - 1, j, k, Idx::gamtilde_LL_11) - 5.0/6.0*state_fab(i, j, k, Idx::gamtilde_LL_11))/dx[0];\n",
      "        amrex::Real dupDgamtilde_LLL_111 = ((3.0/2.0)*state_fab(i, j + 1, k, Idx::gamtilde_LL_11) - 1.0/2.0*state_fab(i, j + 2, k, Idx::gamtilde_LL_11) + (1.0/12.0)*state_fab(i, j + 3, k, Idx::gamtilde_LL_11) - 1.0/4.0*state_fab(i, j - 1, k, Idx::gamtilde_LL_11) - 5.0/6.0*state_fab(i, j, k, Idx::gamtilde_LL_11))/dx[1];\n",
      "        amrex::Real dupDgamtilde_LLL_112 = ((3.0/2.0)*state_fab(i, j, k + 1, Idx::gamtilde_LL_11) - 1.0/2.0*state_fab(i, j, k + 2, Idx::gamtilde_LL_11) + (1.0/12.0)*state_fab(i, j, k + 3, Idx::gamtilde_LL_11) - 1.0/4.0*state_fab(i, j, k - 1, Idx::gamtilde_LL_11) - 5.0/6.0*state_fab(i, j, k, Idx::gamtilde_LL_11))/dx[2];\n",
      "        amrex::Real dupDgamtilde_LLL_120 = ((3.0/2.0)*state_fab(i + 1, j, k, Idx::gamtilde_LL_12) - 1.0/2.0*state_fab(i + 2, j, k, Idx::gamtilde_LL_12) + (1.0/12.0)*state_fab(i + 3, j, k, Idx::gamtilde_LL_12) - 1.0/4.0*state_fab(i - 1, j, k, Idx::gamtilde_LL_12) - 5.0/6.0*state_fab(i, j, k, Idx::gamtilde_LL_12))/dx[0];\n",
      "        amrex::Real dupDgamtilde_LLL_121 = ((3.0/2.0)*state_fab(i, j + 1, k, Idx::gamtilde_LL_12) - 1.0/2.0*state_fab(i, j + 2, k, Idx::gamtilde_LL_12) + (1.0/12.0)*state_fab(i, j + 3, k, Idx::gamtilde_LL_12) - 1.0/4.0*state_fab(i, j - 1, k, Idx::gamtilde_LL_12) - 5.0/6.0*state_fab(i, j, k, Idx::gamtilde_LL_12))/dx[1];\n",
      "        amrex::Real dupDgamtilde_LLL_122 = ((3.0/2.0)*state_fab(i, j, k + 1, Idx::gamtilde_LL_12) - 1.0/2.0*state_fab(i, j, k + 2, Idx::gamtilde_LL_12) + (1.0/12.0)*state_fab(i, j, k + 3, Idx::gamtilde_LL_12) - 1.0/4.0*state_fab(i, j, k - 1, Idx::gamtilde_LL_12) - 5.0/6.0*state_fab(i, j, k, Idx::gamtilde_LL_12))/dx[2];\n",
      "        amrex::Real dupDgamtilde_LLL_220 = ((3.0/2.0)*state_fab(i + 1, j, k, Idx::gamtilde_LL_22) - 1.0/2.0*state_fab(i + 2, j, k, Idx::gamtilde_LL_22) + (1.0/12.0)*state_fab(i + 3, j, k, Idx::gamtilde_LL_22) - 1.0/4.0*state_fab(i - 1, j, k, Idx::gamtilde_LL_22) - 5.0/6.0*state_fab(i, j, k, Idx::gamtilde_LL_22))/dx[0];\n",
      "        amrex::Real dupDgamtilde_LLL_221 = ((3.0/2.0)*state_fab(i, j + 1, k, Idx::gamtilde_LL_22) - 1.0/2.0*state_fab(i, j + 2, k, Idx::gamtilde_LL_22) + (1.0/12.0)*state_fab(i, j + 3, k, Idx::gamtilde_LL_22) - 1.0/4.0*state_fab(i, j - 1, k, Idx::gamtilde_LL_22) - 5.0/6.0*state_fab(i, j, k, Idx::gamtilde_LL_22))/dx[1];\n",
      "        amrex::Real dupDgamtilde_LLL_222 = ((3.0/2.0)*state_fab(i, j, k + 1, Idx::gamtilde_LL_22) - 1.0/2.0*state_fab(i, j, k + 2, Idx::gamtilde_LL_22) + (1.0/12.0)*state_fab(i, j, k + 3, Idx::gamtilde_LL_22) - 1.0/4.0*state_fab(i, j, k - 1, Idx::gamtilde_LL_22) - 5.0/6.0*state_fab(i, j, k, Idx::gamtilde_LL_22))/dx[2];\n",
      "\n",
      "        amrex::Real ddnDgamtilde_LLL_000 = ((1.0/4.0)*state_fab(i + 1, j, k, Idx::gamtilde_LL_00) - 3.0/2.0*state_fab(i - 1, j, k, Idx::gamtilde_LL_00) + (1.0/2.0)*state_fab(i - 2, j, k, Idx::gamtilde_LL_00) - 1.0/12.0*state_fab(i - 3, j, k, Idx::gamtilde_LL_00) + (5.0/6.0)*state_fab(i, j, k, Idx::gamtilde_LL_00))/dx[0];\n",
      "        amrex::Real ddnDgamtilde_LLL_001 = ((1.0/4.0)*state_fab(i, j + 1, k, Idx::gamtilde_LL_00) - 3.0/2.0*state_fab(i, j - 1, k, Idx::gamtilde_LL_00) + (1.0/2.0)*state_fab(i, j - 2, k, Idx::gamtilde_LL_00) - 1.0/12.0*state_fab(i, j - 3, k, Idx::gamtilde_LL_00) + (5.0/6.0)*state_fab(i, j, k, Idx::gamtilde_LL_00))/dx[1];\n",
      "        amrex::Real ddnDgamtilde_LLL_002 = ((1.0/4.0)*state_fab(i, j, k + 1, Idx::gamtilde_LL_00) - 3.0/2.0*state_fab(i, j, k - 1, Idx::gamtilde_LL_00) + (1.0/2.0)*state_fab(i, j, k - 2, Idx::gamtilde_LL_00) - 1.0/12.0*state_fab(i, j, k - 3, Idx::gamtilde_LL_00) + (5.0/6.0)*state_fab(i, j, k, Idx::gamtilde_LL_00))/dx[2];\n",
      "        amrex::Real ddnDgamtilde_LLL_010 = ((1.0/4.0)*state_fab(i + 1, j, k, Idx::gamtilde_LL_01) - 3.0/2.0*state_fab(i - 1, j, k, Idx::gamtilde_LL_01) + (1.0/2.0)*state_fab(i - 2, j, k, Idx::gamtilde_LL_01) - 1.0/12.0*state_fab(i - 3, j, k, Idx::gamtilde_LL_01) + (5.0/6.0)*state_fab(i, j, k, Idx::gamtilde_LL_01))/dx[0];\n",
      "        amrex::Real ddnDgamtilde_LLL_011 = ((1.0/4.0)*state_fab(i, j + 1, k, Idx::gamtilde_LL_01) - 3.0/2.0*state_fab(i, j - 1, k, Idx::gamtilde_LL_01) + (1.0/2.0)*state_fab(i, j - 2, k, Idx::gamtilde_LL_01) - 1.0/12.0*state_fab(i, j - 3, k, Idx::gamtilde_LL_01) + (5.0/6.0)*state_fab(i, j, k, Idx::gamtilde_LL_01))/dx[1];\n",
      "        amrex::Real ddnDgamtilde_LLL_012 = ((1.0/4.0)*state_fab(i, j, k + 1, Idx::gamtilde_LL_01) - 3.0/2.0*state_fab(i, j, k - 1, Idx::gamtilde_LL_01) + (1.0/2.0)*state_fab(i, j, k - 2, Idx::gamtilde_LL_01) - 1.0/12.0*state_fab(i, j, k - 3, Idx::gamtilde_LL_01) + (5.0/6.0)*state_fab(i, j, k, Idx::gamtilde_LL_01))/dx[2];\n",
      "        amrex::Real ddnDgamtilde_LLL_020 = ((1.0/4.0)*state_fab(i + 1, j, k, Idx::gamtilde_LL_02) - 3.0/2.0*state_fab(i - 1, j, k, Idx::gamtilde_LL_02) + (1.0/2.0)*state_fab(i - 2, j, k, Idx::gamtilde_LL_02) - 1.0/12.0*state_fab(i - 3, j, k, Idx::gamtilde_LL_02) + (5.0/6.0)*state_fab(i, j, k, Idx::gamtilde_LL_02))/dx[0];\n",
      "        amrex::Real ddnDgamtilde_LLL_021 = ((1.0/4.0)*state_fab(i, j + 1, k, Idx::gamtilde_LL_02) - 3.0/2.0*state_fab(i, j - 1, k, Idx::gamtilde_LL_02) + (1.0/2.0)*state_fab(i, j - 2, k, Idx::gamtilde_LL_02) - 1.0/12.0*state_fab(i, j - 3, k, Idx::gamtilde_LL_02) + (5.0/6.0)*state_fab(i, j, k, Idx::gamtilde_LL_02))/dx[1];\n",
      "        amrex::Real ddnDgamtilde_LLL_022 = ((1.0/4.0)*state_fab(i, j, k + 1, Idx::gamtilde_LL_02) - 3.0/2.0*state_fab(i, j, k - 1, Idx::gamtilde_LL_02) + (1.0/2.0)*state_fab(i, j, k - 2, Idx::gamtilde_LL_02) - 1.0/12.0*state_fab(i, j, k - 3, Idx::gamtilde_LL_02) + (5.0/6.0)*state_fab(i, j, k, Idx::gamtilde_LL_02))/dx[2];\n",
      "        amrex::Real ddnDgamtilde_LLL_110 = ((1.0/4.0)*state_fab(i + 1, j, k, Idx::gamtilde_LL_11) - 3.0/2.0*state_fab(i - 1, j, k, Idx::gamtilde_LL_11) + (1.0/2.0)*state_fab(i - 2, j, k, Idx::gamtilde_LL_11) - 1.0/12.0*state_fab(i - 3, j, k, Idx::gamtilde_LL_11) + (5.0/6.0)*state_fab(i, j, k, Idx::gamtilde_LL_11))/dx[0];\n",
      "        amrex::Real ddnDgamtilde_LLL_111 = ((1.0/4.0)*state_fab(i, j + 1, k, Idx::gamtilde_LL_11) - 3.0/2.0*state_fab(i, j - 1, k, Idx::gamtilde_LL_11) + (1.0/2.0)*state_fab(i, j - 2, k, Idx::gamtilde_LL_11) - 1.0/12.0*state_fab(i, j - 3, k, Idx::gamtilde_LL_11) + (5.0/6.0)*state_fab(i, j, k, Idx::gamtilde_LL_11))/dx[1];\n",
      "        amrex::Real ddnDgamtilde_LLL_112 = ((1.0/4.0)*state_fab(i, j, k + 1, Idx::gamtilde_LL_11) - 3.0/2.0*state_fab(i, j, k - 1, Idx::gamtilde_LL_11) + (1.0/2.0)*state_fab(i, j, k - 2, Idx::gamtilde_LL_11) - 1.0/12.0*state_fab(i, j, k - 3, Idx::gamtilde_LL_11) + (5.0/6.0)*state_fab(i, j, k, Idx::gamtilde_LL_11))/dx[2];\n",
      "        amrex::Real ddnDgamtilde_LLL_120 = ((1.0/4.0)*state_fab(i + 1, j, k, Idx::gamtilde_LL_12) - 3.0/2.0*state_fab(i - 1, j, k, Idx::gamtilde_LL_12) + (1.0/2.0)*state_fab(i - 2, j, k, Idx::gamtilde_LL_12) - 1.0/12.0*state_fab(i - 3, j, k, Idx::gamtilde_LL_12) + (5.0/6.0)*state_fab(i, j, k, Idx::gamtilde_LL_12))/dx[0];\n",
      "        amrex::Real ddnDgamtilde_LLL_121 = ((1.0/4.0)*state_fab(i, j + 1, k, Idx::gamtilde_LL_12) - 3.0/2.0*state_fab(i, j - 1, k, Idx::gamtilde_LL_12) + (1.0/2.0)*state_fab(i, j - 2, k, Idx::gamtilde_LL_12) - 1.0/12.0*state_fab(i, j - 3, k, Idx::gamtilde_LL_12) + (5.0/6.0)*state_fab(i, j, k, Idx::gamtilde_LL_12))/dx[1];\n",
      "        amrex::Real ddnDgamtilde_LLL_122 = ((1.0/4.0)*state_fab(i, j, k + 1, Idx::gamtilde_LL_12) - 3.0/2.0*state_fab(i, j, k - 1, Idx::gamtilde_LL_12) + (1.0/2.0)*state_fab(i, j, k - 2, Idx::gamtilde_LL_12) - 1.0/12.0*state_fab(i, j, k - 3, Idx::gamtilde_LL_12) + (5.0/6.0)*state_fab(i, j, k, Idx::gamtilde_LL_12))/dx[2];\n",
      "        amrex::Real ddnDgamtilde_LLL_220 = ((1.0/4.0)*state_fab(i + 1, j, k, Idx::gamtilde_LL_22) - 3.0/2.0*state_fab(i - 1, j, k, Idx::gamtilde_LL_22) + (1.0/2.0)*state_fab(i - 2, j, k, Idx::gamtilde_LL_22) - 1.0/12.0*state_fab(i - 3, j, k, Idx::gamtilde_LL_22) + (5.0/6.0)*state_fab(i, j, k, Idx::gamtilde_LL_22))/dx[0];\n",
      "        amrex::Real ddnDgamtilde_LLL_221 = ((1.0/4.0)*state_fab(i, j + 1, k, Idx::gamtilde_LL_22) - 3.0/2.0*state_fab(i, j - 1, k, Idx::gamtilde_LL_22) + (1.0/2.0)*state_fab(i, j - 2, k, Idx::gamtilde_LL_22) - 1.0/12.0*state_fab(i, j - 3, k, Idx::gamtilde_LL_22) + (5.0/6.0)*state_fab(i, j, k, Idx::gamtilde_LL_22))/dx[1];\n",
      "        amrex::Real ddnDgamtilde_LLL_222 = ((1.0/4.0)*state_fab(i, j, k + 1, Idx::gamtilde_LL_22) - 3.0/2.0*state_fab(i, j, k - 1, Idx::gamtilde_LL_22) + (1.0/2.0)*state_fab(i, j, k - 2, Idx::gamtilde_LL_22) - 1.0/12.0*state_fab(i, j, k - 3, Idx::gamtilde_LL_22) + (5.0/6.0)*state_fab(i, j, k, Idx::gamtilde_LL_22))/dx[2];\n",
      "\n",
      "        amrex::Real dDDgamtilde_LLLL_0000 = ((4.0/3.0)*state_fab(i + 1, j, k, Idx::gamtilde_LL_00) - 1.0/12.0*state_fab(i + 2, j, k, Idx::gamtilde_LL_00) + (4.0/3.0)*state_fab(i - 1, j, k, Idx::gamtilde_LL_00) - 1.0/12.0*state_fab(i - 2, j, k, Idx::gamtilde_LL_00) - 5.0/2.0*state_fab(i, j, k, Idx::gamtilde_LL_00))/std::pow(dx[0], 2);\n",
      "        amrex::Real dDDgamtilde_LLLL_0001 = ((4.0/9.0)*state_fab(i + 1, j + 1, k, Idx::gamtilde_LL_00) - 1.0/18.0*state_fab(i + 1, j + 2, k, Idx::gamtilde_LL_00) - 4.0/9.0*state_fab(i + 1, j - 1, k, Idx::gamtilde_LL_00) + (1.0/18.0)*state_fab(i + 1, j - 2, k, Idx::gamtilde_LL_00) - 1.0/18.0*state_fab(i + 2, j + 1, k, Idx::gamtilde_LL_00) + (1.0/144.0)*state_fab(i + 2, j + 2, k, Idx::gamtilde_LL_00) + (1.0/18.0)*state_fab(i + 2, j - 1, k, Idx::gamtilde_LL_00) - 1.0/144.0*state_fab(i + 2, j - 2, k, Idx::gamtilde_LL_00) - 4.0/9.0*state_fab(i - 1, j + 1, k, Idx::gamtilde_LL_00) + (1.0/18.0)*state_fab(i - 1, j + 2, k, Idx::gamtilde_LL_00) + (4.0/9.0)*state_fab(i - 1, j - 1, k, Idx::gamtilde_LL_00) - 1.0/18.0*state_fab(i - 1, j - 2, k, Idx::gamtilde_LL_00) + (1.0/18.0)*state_fab(i - 2, j + 1, k, Idx::gamtilde_LL_00) - 1.0/144.0*state_fab(i - 2, j + 2, k, Idx::gamtilde_LL_00) - 1.0/18.0*state_fab(i - 2, j - 1, k, Idx::gamtilde_LL_00) + (1.0/144.0)*state_fab(i - 2, j - 2, k, Idx::gamtilde_LL_00))/(dx[0]*dx[1]);\n",
      "        amrex::Real dDDgamtilde_LLLL_0002 = ((4.0/9.0)*state_fab(i + 1, j, k + 1, Idx::gamtilde_LL_00) - 1.0/18.0*state_fab(i + 1, j, k + 2, Idx::gamtilde_LL_00) - 4.0/9.0*state_fab(i + 1, j, k - 1, Idx::gamtilde_LL_00) + (1.0/18.0)*state_fab(i + 1, j, k - 2, Idx::gamtilde_LL_00) - 1.0/18.0*state_fab(i + 2, j, k + 1, Idx::gamtilde_LL_00) + (1.0/144.0)*state_fab(i + 2, j, k + 2, Idx::gamtilde_LL_00) + (1.0/18.0)*state_fab(i + 2, j, k - 1, Idx::gamtilde_LL_00) - 1.0/144.0*state_fab(i + 2, j, k - 2, Idx::gamtilde_LL_00) - 4.0/9.0*state_fab(i - 1, j, k + 1, Idx::gamtilde_LL_00) + (1.0/18.0)*state_fab(i - 1, j, k + 2, Idx::gamtilde_LL_00) + (4.0/9.0)*state_fab(i - 1, j, k - 1, Idx::gamtilde_LL_00) - 1.0/18.0*state_fab(i - 1, j, k - 2, Idx::gamtilde_LL_00) + (1.0/18.0)*state_fab(i - 2, j, k + 1, Idx::gamtilde_LL_00) - 1.0/144.0*state_fab(i - 2, j, k + 2, Idx::gamtilde_LL_00) - 1.0/18.0*state_fab(i - 2, j, k - 1, Idx::gamtilde_LL_00) + (1.0/144.0)*state_fab(i - 2, j, k - 2, Idx::gamtilde_LL_00))/(dx[0]*dx[2]);\n",
      "        amrex::Real dDDgamtilde_LLLL_0011 = ((4.0/3.0)*state_fab(i, j + 1, k, Idx::gamtilde_LL_00) - 1.0/12.0*state_fab(i, j + 2, k, Idx::gamtilde_LL_00) + (4.0/3.0)*state_fab(i, j - 1, k, Idx::gamtilde_LL_00) - 1.0/12.0*state_fab(i, j - 2, k, Idx::gamtilde_LL_00) - 5.0/2.0*state_fab(i, j, k, Idx::gamtilde_LL_00))/std::pow(dx[1], 2);\n",
      "        amrex::Real dDDgamtilde_LLLL_0012 = ((4.0/9.0)*state_fab(i, j + 1, k + 1, Idx::gamtilde_LL_00) - 1.0/18.0*state_fab(i, j + 1, k + 2, Idx::gamtilde_LL_00) - 4.0/9.0*state_fab(i, j + 1, k - 1, Idx::gamtilde_LL_00) + (1.0/18.0)*state_fab(i, j + 1, k - 2, Idx::gamtilde_LL_00) - 1.0/18.0*state_fab(i, j + 2, k + 1, Idx::gamtilde_LL_00) + (1.0/144.0)*state_fab(i, j + 2, k + 2, Idx::gamtilde_LL_00) + (1.0/18.0)*state_fab(i, j + 2, k - 1, Idx::gamtilde_LL_00) - 1.0/144.0*state_fab(i, j + 2, k - 2, Idx::gamtilde_LL_00) - 4.0/9.0*state_fab(i, j - 1, k + 1, Idx::gamtilde_LL_00) + (1.0/18.0)*state_fab(i, j - 1, k + 2, Idx::gamtilde_LL_00) + (4.0/9.0)*state_fab(i, j - 1, k - 1, Idx::gamtilde_LL_00) - 1.0/18.0*state_fab(i, j - 1, k - 2, Idx::gamtilde_LL_00) + (1.0/18.0)*state_fab(i, j - 2, k + 1, Idx::gamtilde_LL_00) - 1.0/144.0*state_fab(i, j - 2, k + 2, Idx::gamtilde_LL_00) - 1.0/18.0*state_fab(i, j - 2, k - 1, Idx::gamtilde_LL_00) + (1.0/144.0)*state_fab(i, j - 2, k - 2, Idx::gamtilde_LL_00))/(dx[1]*dx[2]);\n",
      "        amrex::Real dDDgamtilde_LLLL_0022 = ((4.0/3.0)*state_fab(i, j, k + 1, Idx::gamtilde_LL_00) - 1.0/12.0*state_fab(i, j, k + 2, Idx::gamtilde_LL_00) + (4.0/3.0)*state_fab(i, j, k - 1, Idx::gamtilde_LL_00) - 1.0/12.0*state_fab(i, j, k - 2, Idx::gamtilde_LL_00) - 5.0/2.0*state_fab(i, j, k, Idx::gamtilde_LL_00))/std::pow(dx[2], 2);\n",
      "        amrex::Real dDDgamtilde_LLLL_0100 = ((4.0/3.0)*state_fab(i + 1, j, k, Idx::gamtilde_LL_01) - 1.0/12.0*state_fab(i + 2, j, k, Idx::gamtilde_LL_01) + (4.0/3.0)*state_fab(i - 1, j, k, Idx::gamtilde_LL_01) - 1.0/12.0*state_fab(i - 2, j, k, Idx::gamtilde_LL_01) - 5.0/2.0*state_fab(i, j, k, Idx::gamtilde_LL_01))/std::pow(dx[0], 2);\n",
      "        amrex::Real dDDgamtilde_LLLL_0101 = ((4.0/9.0)*state_fab(i + 1, j + 1, k, Idx::gamtilde_LL_01) - 1.0/18.0*state_fab(i + 1, j + 2, k, Idx::gamtilde_LL_01) - 4.0/9.0*state_fab(i + 1, j - 1, k, Idx::gamtilde_LL_01) + (1.0/18.0)*state_fab(i + 1, j - 2, k, Idx::gamtilde_LL_01) - 1.0/18.0*state_fab(i + 2, j + 1, k, Idx::gamtilde_LL_01) + (1.0/144.0)*state_fab(i + 2, j + 2, k, Idx::gamtilde_LL_01) + (1.0/18.0)*state_fab(i + 2, j - 1, k, Idx::gamtilde_LL_01) - 1.0/144.0*state_fab(i + 2, j - 2, k, Idx::gamtilde_LL_01) - 4.0/9.0*state_fab(i - 1, j + 1, k, Idx::gamtilde_LL_01) + (1.0/18.0)*state_fab(i - 1, j + 2, k, Idx::gamtilde_LL_01) + (4.0/9.0)*state_fab(i - 1, j - 1, k, Idx::gamtilde_LL_01) - 1.0/18.0*state_fab(i - 1, j - 2, k, Idx::gamtilde_LL_01) + (1.0/18.0)*state_fab(i - 2, j + 1, k, Idx::gamtilde_LL_01) - 1.0/144.0*state_fab(i - 2, j + 2, k, Idx::gamtilde_LL_01) - 1.0/18.0*state_fab(i - 2, j - 1, k, Idx::gamtilde_LL_01) + (1.0/144.0)*state_fab(i - 2, j - 2, k, Idx::gamtilde_LL_01))/(dx[0]*dx[1]);\n",
      "        amrex::Real dDDgamtilde_LLLL_0102 = ((4.0/9.0)*state_fab(i + 1, j, k + 1, Idx::gamtilde_LL_01) - 1.0/18.0*state_fab(i + 1, j, k + 2, Idx::gamtilde_LL_01) - 4.0/9.0*state_fab(i + 1, j, k - 1, Idx::gamtilde_LL_01) + (1.0/18.0)*state_fab(i + 1, j, k - 2, Idx::gamtilde_LL_01) - 1.0/18.0*state_fab(i + 2, j, k + 1, Idx::gamtilde_LL_01) + (1.0/144.0)*state_fab(i + 2, j, k + 2, Idx::gamtilde_LL_01) + (1.0/18.0)*state_fab(i + 2, j, k - 1, Idx::gamtilde_LL_01) - 1.0/144.0*state_fab(i + 2, j, k - 2, Idx::gamtilde_LL_01) - 4.0/9.0*state_fab(i - 1, j, k + 1, Idx::gamtilde_LL_01) + (1.0/18.0)*state_fab(i - 1, j, k + 2, Idx::gamtilde_LL_01) + (4.0/9.0)*state_fab(i - 1, j, k - 1, Idx::gamtilde_LL_01) - 1.0/18.0*state_fab(i - 1, j, k - 2, Idx::gamtilde_LL_01) + (1.0/18.0)*state_fab(i - 2, j, k + 1, Idx::gamtilde_LL_01) - 1.0/144.0*state_fab(i - 2, j, k + 2, Idx::gamtilde_LL_01) - 1.0/18.0*state_fab(i - 2, j, k - 1, Idx::gamtilde_LL_01) + (1.0/144.0)*state_fab(i - 2, j, k - 2, Idx::gamtilde_LL_01))/(dx[0]*dx[2]);\n",
      "        amrex::Real dDDgamtilde_LLLL_0111 = ((4.0/3.0)*state_fab(i, j + 1, k, Idx::gamtilde_LL_01) - 1.0/12.0*state_fab(i, j + 2, k, Idx::gamtilde_LL_01) + (4.0/3.0)*state_fab(i, j - 1, k, Idx::gamtilde_LL_01) - 1.0/12.0*state_fab(i, j - 2, k, Idx::gamtilde_LL_01) - 5.0/2.0*state_fab(i, j, k, Idx::gamtilde_LL_01))/std::pow(dx[1], 2);\n",
      "        amrex::Real dDDgamtilde_LLLL_0112 = ((4.0/9.0)*state_fab(i, j + 1, k + 1, Idx::gamtilde_LL_01) - 1.0/18.0*state_fab(i, j + 1, k + 2, Idx::gamtilde_LL_01) - 4.0/9.0*state_fab(i, j + 1, k - 1, Idx::gamtilde_LL_01) + (1.0/18.0)*state_fab(i, j + 1, k - 2, Idx::gamtilde_LL_01) - 1.0/18.0*state_fab(i, j + 2, k + 1, Idx::gamtilde_LL_01) + (1.0/144.0)*state_fab(i, j + 2, k + 2, Idx::gamtilde_LL_01) + (1.0/18.0)*state_fab(i, j + 2, k - 1, Idx::gamtilde_LL_01) - 1.0/144.0*state_fab(i, j + 2, k - 2, Idx::gamtilde_LL_01) - 4.0/9.0*state_fab(i, j - 1, k + 1, Idx::gamtilde_LL_01) + (1.0/18.0)*state_fab(i, j - 1, k + 2, Idx::gamtilde_LL_01) + (4.0/9.0)*state_fab(i, j - 1, k - 1, Idx::gamtilde_LL_01) - 1.0/18.0*state_fab(i, j - 1, k - 2, Idx::gamtilde_LL_01) + (1.0/18.0)*state_fab(i, j - 2, k + 1, Idx::gamtilde_LL_01) - 1.0/144.0*state_fab(i, j - 2, k + 2, Idx::gamtilde_LL_01) - 1.0/18.0*state_fab(i, j - 2, k - 1, Idx::gamtilde_LL_01) + (1.0/144.0)*state_fab(i, j - 2, k - 2, Idx::gamtilde_LL_01))/(dx[1]*dx[2]);\n",
      "        amrex::Real dDDgamtilde_LLLL_0122 = ((4.0/3.0)*state_fab(i, j, k + 1, Idx::gamtilde_LL_01) - 1.0/12.0*state_fab(i, j, k + 2, Idx::gamtilde_LL_01) + (4.0/3.0)*state_fab(i, j, k - 1, Idx::gamtilde_LL_01) - 1.0/12.0*state_fab(i, j, k - 2, Idx::gamtilde_LL_01) - 5.0/2.0*state_fab(i, j, k, Idx::gamtilde_LL_01))/std::pow(dx[2], 2);\n",
      "        amrex::Real dDDgamtilde_LLLL_0200 = ((4.0/3.0)*state_fab(i + 1, j, k, Idx::gamtilde_LL_02) - 1.0/12.0*state_fab(i + 2, j, k, Idx::gamtilde_LL_02) + (4.0/3.0)*state_fab(i - 1, j, k, Idx::gamtilde_LL_02) - 1.0/12.0*state_fab(i - 2, j, k, Idx::gamtilde_LL_02) - 5.0/2.0*state_fab(i, j, k, Idx::gamtilde_LL_02))/std::pow(dx[0], 2);\n",
      "        amrex::Real dDDgamtilde_LLLL_0201 = ((4.0/9.0)*state_fab(i + 1, j + 1, k, Idx::gamtilde_LL_02) - 1.0/18.0*state_fab(i + 1, j + 2, k, Idx::gamtilde_LL_02) - 4.0/9.0*state_fab(i + 1, j - 1, k, Idx::gamtilde_LL_02) + (1.0/18.0)*state_fab(i + 1, j - 2, k, Idx::gamtilde_LL_02) - 1.0/18.0*state_fab(i + 2, j + 1, k, Idx::gamtilde_LL_02) + (1.0/144.0)*state_fab(i + 2, j + 2, k, Idx::gamtilde_LL_02) + (1.0/18.0)*state_fab(i + 2, j - 1, k, Idx::gamtilde_LL_02) - 1.0/144.0*state_fab(i + 2, j - 2, k, Idx::gamtilde_LL_02) - 4.0/9.0*state_fab(i - 1, j + 1, k, Idx::gamtilde_LL_02) + (1.0/18.0)*state_fab(i - 1, j + 2, k, Idx::gamtilde_LL_02) + (4.0/9.0)*state_fab(i - 1, j - 1, k, Idx::gamtilde_LL_02) - 1.0/18.0*state_fab(i - 1, j - 2, k, Idx::gamtilde_LL_02) + (1.0/18.0)*state_fab(i - 2, j + 1, k, Idx::gamtilde_LL_02) - 1.0/144.0*state_fab(i - 2, j + 2, k, Idx::gamtilde_LL_02) - 1.0/18.0*state_fab(i - 2, j - 1, k, Idx::gamtilde_LL_02) + (1.0/144.0)*state_fab(i - 2, j - 2, k, Idx::gamtilde_LL_02))/(dx[0]*dx[1]);\n",
      "        amrex::Real dDDgamtilde_LLLL_0202 = ((4.0/9.0)*state_fab(i + 1, j, k + 1, Idx::gamtilde_LL_02) - 1.0/18.0*state_fab(i + 1, j, k + 2, Idx::gamtilde_LL_02) - 4.0/9.0*state_fab(i + 1, j, k - 1, Idx::gamtilde_LL_02) + (1.0/18.0)*state_fab(i + 1, j, k - 2, Idx::gamtilde_LL_02) - 1.0/18.0*state_fab(i + 2, j, k + 1, Idx::gamtilde_LL_02) + (1.0/144.0)*state_fab(i + 2, j, k + 2, Idx::gamtilde_LL_02) + (1.0/18.0)*state_fab(i + 2, j, k - 1, Idx::gamtilde_LL_02) - 1.0/144.0*state_fab(i + 2, j, k - 2, Idx::gamtilde_LL_02) - 4.0/9.0*state_fab(i - 1, j, k + 1, Idx::gamtilde_LL_02) + (1.0/18.0)*state_fab(i - 1, j, k + 2, Idx::gamtilde_LL_02) + (4.0/9.0)*state_fab(i - 1, j, k - 1, Idx::gamtilde_LL_02) - 1.0/18.0*state_fab(i - 1, j, k - 2, Idx::gamtilde_LL_02) + (1.0/18.0)*state_fab(i - 2, j, k + 1, Idx::gamtilde_LL_02) - 1.0/144.0*state_fab(i - 2, j, k + 2, Idx::gamtilde_LL_02) - 1.0/18.0*state_fab(i - 2, j, k - 1, Idx::gamtilde_LL_02) + (1.0/144.0)*state_fab(i - 2, j, k - 2, Idx::gamtilde_LL_02))/(dx[0]*dx[2]);\n",
      "        amrex::Real dDDgamtilde_LLLL_0211 = ((4.0/3.0)*state_fab(i, j + 1, k, Idx::gamtilde_LL_02) - 1.0/12.0*state_fab(i, j + 2, k, Idx::gamtilde_LL_02) + (4.0/3.0)*state_fab(i, j - 1, k, Idx::gamtilde_LL_02) - 1.0/12.0*state_fab(i, j - 2, k, Idx::gamtilde_LL_02) - 5.0/2.0*state_fab(i, j, k, Idx::gamtilde_LL_02))/std::pow(dx[1], 2);\n",
      "        amrex::Real dDDgamtilde_LLLL_0212 = ((4.0/9.0)*state_fab(i, j + 1, k + 1, Idx::gamtilde_LL_02) - 1.0/18.0*state_fab(i, j + 1, k + 2, Idx::gamtilde_LL_02) - 4.0/9.0*state_fab(i, j + 1, k - 1, Idx::gamtilde_LL_02) + (1.0/18.0)*state_fab(i, j + 1, k - 2, Idx::gamtilde_LL_02) - 1.0/18.0*state_fab(i, j + 2, k + 1, Idx::gamtilde_LL_02) + (1.0/144.0)*state_fab(i, j + 2, k + 2, Idx::gamtilde_LL_02) + (1.0/18.0)*state_fab(i, j + 2, k - 1, Idx::gamtilde_LL_02) - 1.0/144.0*state_fab(i, j + 2, k - 2, Idx::gamtilde_LL_02) - 4.0/9.0*state_fab(i, j - 1, k + 1, Idx::gamtilde_LL_02) + (1.0/18.0)*state_fab(i, j - 1, k + 2, Idx::gamtilde_LL_02) + (4.0/9.0)*state_fab(i, j - 1, k - 1, Idx::gamtilde_LL_02) - 1.0/18.0*state_fab(i, j - 1, k - 2, Idx::gamtilde_LL_02) + (1.0/18.0)*state_fab(i, j - 2, k + 1, Idx::gamtilde_LL_02) - 1.0/144.0*state_fab(i, j - 2, k + 2, Idx::gamtilde_LL_02) - 1.0/18.0*state_fab(i, j - 2, k - 1, Idx::gamtilde_LL_02) + (1.0/144.0)*state_fab(i, j - 2, k - 2, Idx::gamtilde_LL_02))/(dx[1]*dx[2]);\n",
      "        amrex::Real dDDgamtilde_LLLL_0222 = ((4.0/3.0)*state_fab(i, j, k + 1, Idx::gamtilde_LL_02) - 1.0/12.0*state_fab(i, j, k + 2, Idx::gamtilde_LL_02) + (4.0/3.0)*state_fab(i, j, k - 1, Idx::gamtilde_LL_02) - 1.0/12.0*state_fab(i, j, k - 2, Idx::gamtilde_LL_02) - 5.0/2.0*state_fab(i, j, k, Idx::gamtilde_LL_02))/std::pow(dx[2], 2);\n",
      "        amrex::Real dDDgamtilde_LLLL_1100 = ((4.0/3.0)*state_fab(i + 1, j, k, Idx::gamtilde_LL_11) - 1.0/12.0*state_fab(i + 2, j, k, Idx::gamtilde_LL_11) + (4.0/3.0)*state_fab(i - 1, j, k, Idx::gamtilde_LL_11) - 1.0/12.0*state_fab(i - 2, j, k, Idx::gamtilde_LL_11) - 5.0/2.0*state_fab(i, j, k, Idx::gamtilde_LL_11))/std::pow(dx[0], 2);\n",
      "        amrex::Real dDDgamtilde_LLLL_1101 = ((4.0/9.0)*state_fab(i + 1, j + 1, k, Idx::gamtilde_LL_11) - 1.0/18.0*state_fab(i + 1, j + 2, k, Idx::gamtilde_LL_11) - 4.0/9.0*state_fab(i + 1, j - 1, k, Idx::gamtilde_LL_11) + (1.0/18.0)*state_fab(i + 1, j - 2, k, Idx::gamtilde_LL_11) - 1.0/18.0*state_fab(i + 2, j + 1, k, Idx::gamtilde_LL_11) + (1.0/144.0)*state_fab(i + 2, j + 2, k, Idx::gamtilde_LL_11) + (1.0/18.0)*state_fab(i + 2, j - 1, k, Idx::gamtilde_LL_11) - 1.0/144.0*state_fab(i + 2, j - 2, k, Idx::gamtilde_LL_11) - 4.0/9.0*state_fab(i - 1, j + 1, k, Idx::gamtilde_LL_11) + (1.0/18.0)*state_fab(i - 1, j + 2, k, Idx::gamtilde_LL_11) + (4.0/9.0)*state_fab(i - 1, j - 1, k, Idx::gamtilde_LL_11) - 1.0/18.0*state_fab(i - 1, j - 2, k, Idx::gamtilde_LL_11) + (1.0/18.0)*state_fab(i - 2, j + 1, k, Idx::gamtilde_LL_11) - 1.0/144.0*state_fab(i - 2, j + 2, k, Idx::gamtilde_LL_11) - 1.0/18.0*state_fab(i - 2, j - 1, k, Idx::gamtilde_LL_11) + (1.0/144.0)*state_fab(i - 2, j - 2, k, Idx::gamtilde_LL_11))/(dx[0]*dx[1]);\n",
      "        amrex::Real dDDgamtilde_LLLL_1102 = ((4.0/9.0)*state_fab(i + 1, j, k + 1, Idx::gamtilde_LL_11) - 1.0/18.0*state_fab(i + 1, j, k + 2, Idx::gamtilde_LL_11) - 4.0/9.0*state_fab(i + 1, j, k - 1, Idx::gamtilde_LL_11) + (1.0/18.0)*state_fab(i + 1, j, k - 2, Idx::gamtilde_LL_11) - 1.0/18.0*state_fab(i + 2, j, k + 1, Idx::gamtilde_LL_11) + (1.0/144.0)*state_fab(i + 2, j, k + 2, Idx::gamtilde_LL_11) + (1.0/18.0)*state_fab(i + 2, j, k - 1, Idx::gamtilde_LL_11) - 1.0/144.0*state_fab(i + 2, j, k - 2, Idx::gamtilde_LL_11) - 4.0/9.0*state_fab(i - 1, j, k + 1, Idx::gamtilde_LL_11) + (1.0/18.0)*state_fab(i - 1, j, k + 2, Idx::gamtilde_LL_11) + (4.0/9.0)*state_fab(i - 1, j, k - 1, Idx::gamtilde_LL_11) - 1.0/18.0*state_fab(i - 1, j, k - 2, Idx::gamtilde_LL_11) + (1.0/18.0)*state_fab(i - 2, j, k + 1, Idx::gamtilde_LL_11) - 1.0/144.0*state_fab(i - 2, j, k + 2, Idx::gamtilde_LL_11) - 1.0/18.0*state_fab(i - 2, j, k - 1, Idx::gamtilde_LL_11) + (1.0/144.0)*state_fab(i - 2, j, k - 2, Idx::gamtilde_LL_11))/(dx[0]*dx[2]);\n",
      "        amrex::Real dDDgamtilde_LLLL_1111 = ((4.0/3.0)*state_fab(i, j + 1, k, Idx::gamtilde_LL_11) - 1.0/12.0*state_fab(i, j + 2, k, Idx::gamtilde_LL_11) + (4.0/3.0)*state_fab(i, j - 1, k, Idx::gamtilde_LL_11) - 1.0/12.0*state_fab(i, j - 2, k, Idx::gamtilde_LL_11) - 5.0/2.0*state_fab(i, j, k, Idx::gamtilde_LL_11))/std::pow(dx[1], 2);\n",
      "        amrex::Real dDDgamtilde_LLLL_1112 = ((4.0/9.0)*state_fab(i, j + 1, k + 1, Idx::gamtilde_LL_11) - 1.0/18.0*state_fab(i, j + 1, k + 2, Idx::gamtilde_LL_11) - 4.0/9.0*state_fab(i, j + 1, k - 1, Idx::gamtilde_LL_11) + (1.0/18.0)*state_fab(i, j + 1, k - 2, Idx::gamtilde_LL_11) - 1.0/18.0*state_fab(i, j + 2, k + 1, Idx::gamtilde_LL_11) + (1.0/144.0)*state_fab(i, j + 2, k + 2, Idx::gamtilde_LL_11) + (1.0/18.0)*state_fab(i, j + 2, k - 1, Idx::gamtilde_LL_11) - 1.0/144.0*state_fab(i, j + 2, k - 2, Idx::gamtilde_LL_11) - 4.0/9.0*state_fab(i, j - 1, k + 1, Idx::gamtilde_LL_11) + (1.0/18.0)*state_fab(i, j - 1, k + 2, Idx::gamtilde_LL_11) + (4.0/9.0)*state_fab(i, j - 1, k - 1, Idx::gamtilde_LL_11) - 1.0/18.0*state_fab(i, j - 1, k - 2, Idx::gamtilde_LL_11) + (1.0/18.0)*state_fab(i, j - 2, k + 1, Idx::gamtilde_LL_11) - 1.0/144.0*state_fab(i, j - 2, k + 2, Idx::gamtilde_LL_11) - 1.0/18.0*state_fab(i, j - 2, k - 1, Idx::gamtilde_LL_11) + (1.0/144.0)*state_fab(i, j - 2, k - 2, Idx::gamtilde_LL_11))/(dx[1]*dx[2]);\n",
      "        amrex::Real dDDgamtilde_LLLL_1122 = ((4.0/3.0)*state_fab(i, j, k + 1, Idx::gamtilde_LL_11) - 1.0/12.0*state_fab(i, j, k + 2, Idx::gamtilde_LL_11) + (4.0/3.0)*state_fab(i, j, k - 1, Idx::gamtilde_LL_11) - 1.0/12.0*state_fab(i, j, k - 2, Idx::gamtilde_LL_11) - 5.0/2.0*state_fab(i, j, k, Idx::gamtilde_LL_11))/std::pow(dx[2], 2);\n",
      "        amrex::Real dDDgamtilde_LLLL_1200 = ((4.0/3.0)*state_fab(i + 1, j, k, Idx::gamtilde_LL_12) - 1.0/12.0*state_fab(i + 2, j, k, Idx::gamtilde_LL_12) + (4.0/3.0)*state_fab(i - 1, j, k, Idx::gamtilde_LL_12) - 1.0/12.0*state_fab(i - 2, j, k, Idx::gamtilde_LL_12) - 5.0/2.0*state_fab(i, j, k, Idx::gamtilde_LL_12))/std::pow(dx[0], 2);\n",
      "        amrex::Real dDDgamtilde_LLLL_1201 = ((4.0/9.0)*state_fab(i + 1, j + 1, k, Idx::gamtilde_LL_12) - 1.0/18.0*state_fab(i + 1, j + 2, k, Idx::gamtilde_LL_12) - 4.0/9.0*state_fab(i + 1, j - 1, k, Idx::gamtilde_LL_12) + (1.0/18.0)*state_fab(i + 1, j - 2, k, Idx::gamtilde_LL_12) - 1.0/18.0*state_fab(i + 2, j + 1, k, Idx::gamtilde_LL_12) + (1.0/144.0)*state_fab(i + 2, j + 2, k, Idx::gamtilde_LL_12) + (1.0/18.0)*state_fab(i + 2, j - 1, k, Idx::gamtilde_LL_12) - 1.0/144.0*state_fab(i + 2, j - 2, k, Idx::gamtilde_LL_12) - 4.0/9.0*state_fab(i - 1, j + 1, k, Idx::gamtilde_LL_12) + (1.0/18.0)*state_fab(i - 1, j + 2, k, Idx::gamtilde_LL_12) + (4.0/9.0)*state_fab(i - 1, j - 1, k, Idx::gamtilde_LL_12) - 1.0/18.0*state_fab(i - 1, j - 2, k, Idx::gamtilde_LL_12) + (1.0/18.0)*state_fab(i - 2, j + 1, k, Idx::gamtilde_LL_12) - 1.0/144.0*state_fab(i - 2, j + 2, k, Idx::gamtilde_LL_12) - 1.0/18.0*state_fab(i - 2, j - 1, k, Idx::gamtilde_LL_12) + (1.0/144.0)*state_fab(i - 2, j - 2, k, Idx::gamtilde_LL_12))/(dx[0]*dx[1]);\n",
      "        amrex::Real dDDgamtilde_LLLL_1202 = ((4.0/9.0)*state_fab(i + 1, j, k + 1, Idx::gamtilde_LL_12) - 1.0/18.0*state_fab(i + 1, j, k + 2, Idx::gamtilde_LL_12) - 4.0/9.0*state_fab(i + 1, j, k - 1, Idx::gamtilde_LL_12) + (1.0/18.0)*state_fab(i + 1, j, k - 2, Idx::gamtilde_LL_12) - 1.0/18.0*state_fab(i + 2, j, k + 1, Idx::gamtilde_LL_12) + (1.0/144.0)*state_fab(i + 2, j, k + 2, Idx::gamtilde_LL_12) + (1.0/18.0)*state_fab(i + 2, j, k - 1, Idx::gamtilde_LL_12) - 1.0/144.0*state_fab(i + 2, j, k - 2, Idx::gamtilde_LL_12) - 4.0/9.0*state_fab(i - 1, j, k + 1, Idx::gamtilde_LL_12) + (1.0/18.0)*state_fab(i - 1, j, k + 2, Idx::gamtilde_LL_12) + (4.0/9.0)*state_fab(i - 1, j, k - 1, Idx::gamtilde_LL_12) - 1.0/18.0*state_fab(i - 1, j, k - 2, Idx::gamtilde_LL_12) + (1.0/18.0)*state_fab(i - 2, j, k + 1, Idx::gamtilde_LL_12) - 1.0/144.0*state_fab(i - 2, j, k + 2, Idx::gamtilde_LL_12) - 1.0/18.0*state_fab(i - 2, j, k - 1, Idx::gamtilde_LL_12) + (1.0/144.0)*state_fab(i - 2, j, k - 2, Idx::gamtilde_LL_12))/(dx[0]*dx[2]);\n",
      "        amrex::Real dDDgamtilde_LLLL_1211 = ((4.0/3.0)*state_fab(i, j + 1, k, Idx::gamtilde_LL_12) - 1.0/12.0*state_fab(i, j + 2, k, Idx::gamtilde_LL_12) + (4.0/3.0)*state_fab(i, j - 1, k, Idx::gamtilde_LL_12) - 1.0/12.0*state_fab(i, j - 2, k, Idx::gamtilde_LL_12) - 5.0/2.0*state_fab(i, j, k, Idx::gamtilde_LL_12))/std::pow(dx[1], 2);\n",
      "        amrex::Real dDDgamtilde_LLLL_1212 = ((4.0/9.0)*state_fab(i, j + 1, k + 1, Idx::gamtilde_LL_12) - 1.0/18.0*state_fab(i, j + 1, k + 2, Idx::gamtilde_LL_12) - 4.0/9.0*state_fab(i, j + 1, k - 1, Idx::gamtilde_LL_12) + (1.0/18.0)*state_fab(i, j + 1, k - 2, Idx::gamtilde_LL_12) - 1.0/18.0*state_fab(i, j + 2, k + 1, Idx::gamtilde_LL_12) + (1.0/144.0)*state_fab(i, j + 2, k + 2, Idx::gamtilde_LL_12) + (1.0/18.0)*state_fab(i, j + 2, k - 1, Idx::gamtilde_LL_12) - 1.0/144.0*state_fab(i, j + 2, k - 2, Idx::gamtilde_LL_12) - 4.0/9.0*state_fab(i, j - 1, k + 1, Idx::gamtilde_LL_12) + (1.0/18.0)*state_fab(i, j - 1, k + 2, Idx::gamtilde_LL_12) + (4.0/9.0)*state_fab(i, j - 1, k - 1, Idx::gamtilde_LL_12) - 1.0/18.0*state_fab(i, j - 1, k - 2, Idx::gamtilde_LL_12) + (1.0/18.0)*state_fab(i, j - 2, k + 1, Idx::gamtilde_LL_12) - 1.0/144.0*state_fab(i, j - 2, k + 2, Idx::gamtilde_LL_12) - 1.0/18.0*state_fab(i, j - 2, k - 1, Idx::gamtilde_LL_12) + (1.0/144.0)*state_fab(i, j - 2, k - 2, Idx::gamtilde_LL_12))/(dx[1]*dx[2]);\n",
      "        amrex::Real dDDgamtilde_LLLL_1222 = ((4.0/3.0)*state_fab(i, j, k + 1, Idx::gamtilde_LL_12) - 1.0/12.0*state_fab(i, j, k + 2, Idx::gamtilde_LL_12) + (4.0/3.0)*state_fab(i, j, k - 1, Idx::gamtilde_LL_12) - 1.0/12.0*state_fab(i, j, k - 2, Idx::gamtilde_LL_12) - 5.0/2.0*state_fab(i, j, k, Idx::gamtilde_LL_12))/std::pow(dx[2], 2);\n",
      "        amrex::Real dDDgamtilde_LLLL_2200 = ((4.0/3.0)*state_fab(i + 1, j, k, Idx::gamtilde_LL_22) - 1.0/12.0*state_fab(i + 2, j, k, Idx::gamtilde_LL_22) + (4.0/3.0)*state_fab(i - 1, j, k, Idx::gamtilde_LL_22) - 1.0/12.0*state_fab(i - 2, j, k, Idx::gamtilde_LL_22) - 5.0/2.0*state_fab(i, j, k, Idx::gamtilde_LL_22))/std::pow(dx[0], 2);\n",
      "        amrex::Real dDDgamtilde_LLLL_2201 = ((4.0/9.0)*state_fab(i + 1, j + 1, k, Idx::gamtilde_LL_22) - 1.0/18.0*state_fab(i + 1, j + 2, k, Idx::gamtilde_LL_22) - 4.0/9.0*state_fab(i + 1, j - 1, k, Idx::gamtilde_LL_22) + (1.0/18.0)*state_fab(i + 1, j - 2, k, Idx::gamtilde_LL_22) - 1.0/18.0*state_fab(i + 2, j + 1, k, Idx::gamtilde_LL_22) + (1.0/144.0)*state_fab(i + 2, j + 2, k, Idx::gamtilde_LL_22) + (1.0/18.0)*state_fab(i + 2, j - 1, k, Idx::gamtilde_LL_22) - 1.0/144.0*state_fab(i + 2, j - 2, k, Idx::gamtilde_LL_22) - 4.0/9.0*state_fab(i - 1, j + 1, k, Idx::gamtilde_LL_22) + (1.0/18.0)*state_fab(i - 1, j + 2, k, Idx::gamtilde_LL_22) + (4.0/9.0)*state_fab(i - 1, j - 1, k, Idx::gamtilde_LL_22) - 1.0/18.0*state_fab(i - 1, j - 2, k, Idx::gamtilde_LL_22) + (1.0/18.0)*state_fab(i - 2, j + 1, k, Idx::gamtilde_LL_22) - 1.0/144.0*state_fab(i - 2, j + 2, k, Idx::gamtilde_LL_22) - 1.0/18.0*state_fab(i - 2, j - 1, k, Idx::gamtilde_LL_22) + (1.0/144.0)*state_fab(i - 2, j - 2, k, Idx::gamtilde_LL_22))/(dx[0]*dx[1]);\n",
      "        amrex::Real dDDgamtilde_LLLL_2202 = ((4.0/9.0)*state_fab(i + 1, j, k + 1, Idx::gamtilde_LL_22) - 1.0/18.0*state_fab(i + 1, j, k + 2, Idx::gamtilde_LL_22) - 4.0/9.0*state_fab(i + 1, j, k - 1, Idx::gamtilde_LL_22) + (1.0/18.0)*state_fab(i + 1, j, k - 2, Idx::gamtilde_LL_22) - 1.0/18.0*state_fab(i + 2, j, k + 1, Idx::gamtilde_LL_22) + (1.0/144.0)*state_fab(i + 2, j, k + 2, Idx::gamtilde_LL_22) + (1.0/18.0)*state_fab(i + 2, j, k - 1, Idx::gamtilde_LL_22) - 1.0/144.0*state_fab(i + 2, j, k - 2, Idx::gamtilde_LL_22) - 4.0/9.0*state_fab(i - 1, j, k + 1, Idx::gamtilde_LL_22) + (1.0/18.0)*state_fab(i - 1, j, k + 2, Idx::gamtilde_LL_22) + (4.0/9.0)*state_fab(i - 1, j, k - 1, Idx::gamtilde_LL_22) - 1.0/18.0*state_fab(i - 1, j, k - 2, Idx::gamtilde_LL_22) + (1.0/18.0)*state_fab(i - 2, j, k + 1, Idx::gamtilde_LL_22) - 1.0/144.0*state_fab(i - 2, j, k + 2, Idx::gamtilde_LL_22) - 1.0/18.0*state_fab(i - 2, j, k - 1, Idx::gamtilde_LL_22) + (1.0/144.0)*state_fab(i - 2, j, k - 2, Idx::gamtilde_LL_22))/(dx[0]*dx[2]);\n",
      "        amrex::Real dDDgamtilde_LLLL_2211 = ((4.0/3.0)*state_fab(i, j + 1, k, Idx::gamtilde_LL_22) - 1.0/12.0*state_fab(i, j + 2, k, Idx::gamtilde_LL_22) + (4.0/3.0)*state_fab(i, j - 1, k, Idx::gamtilde_LL_22) - 1.0/12.0*state_fab(i, j - 2, k, Idx::gamtilde_LL_22) - 5.0/2.0*state_fab(i, j, k, Idx::gamtilde_LL_22))/std::pow(dx[1], 2);\n",
      "        amrex::Real dDDgamtilde_LLLL_2212 = ((4.0/9.0)*state_fab(i, j + 1, k + 1, Idx::gamtilde_LL_22) - 1.0/18.0*state_fab(i, j + 1, k + 2, Idx::gamtilde_LL_22) - 4.0/9.0*state_fab(i, j + 1, k - 1, Idx::gamtilde_LL_22) + (1.0/18.0)*state_fab(i, j + 1, k - 2, Idx::gamtilde_LL_22) - 1.0/18.0*state_fab(i, j + 2, k + 1, Idx::gamtilde_LL_22) + (1.0/144.0)*state_fab(i, j + 2, k + 2, Idx::gamtilde_LL_22) + (1.0/18.0)*state_fab(i, j + 2, k - 1, Idx::gamtilde_LL_22) - 1.0/144.0*state_fab(i, j + 2, k - 2, Idx::gamtilde_LL_22) - 4.0/9.0*state_fab(i, j - 1, k + 1, Idx::gamtilde_LL_22) + (1.0/18.0)*state_fab(i, j - 1, k + 2, Idx::gamtilde_LL_22) + (4.0/9.0)*state_fab(i, j - 1, k - 1, Idx::gamtilde_LL_22) - 1.0/18.0*state_fab(i, j - 1, k - 2, Idx::gamtilde_LL_22) + (1.0/18.0)*state_fab(i, j - 2, k + 1, Idx::gamtilde_LL_22) - 1.0/144.0*state_fab(i, j - 2, k + 2, Idx::gamtilde_LL_22) - 1.0/18.0*state_fab(i, j - 2, k - 1, Idx::gamtilde_LL_22) + (1.0/144.0)*state_fab(i, j - 2, k - 2, Idx::gamtilde_LL_22))/(dx[1]*dx[2]);\n",
      "        amrex::Real dDDgamtilde_LLLL_2222 = ((4.0/3.0)*state_fab(i, j, k + 1, Idx::gamtilde_LL_22) - 1.0/12.0*state_fab(i, j, k + 2, Idx::gamtilde_LL_22) + (4.0/3.0)*state_fab(i, j, k - 1, Idx::gamtilde_LL_22) - 1.0/12.0*state_fab(i, j, k - 2, Idx::gamtilde_LL_22) - 5.0/2.0*state_fab(i, j, k, Idx::gamtilde_LL_22))/std::pow(dx[2], 2);\n",
      "\n",
      "        amrex::Real dKODgamtilde_LL_00 = ((15.0/64.0)*state_fab(i, j, k + 1, Idx::gamtilde_LL_00) - 3.0/32.0*state_fab(i, j, k + 2, Idx::gamtilde_LL_00) + (1.0/64.0)*state_fab(i, j, k + 3, Idx::gamtilde_LL_00) + (15.0/64.0)*state_fab(i, j, k - 1, Idx::gamtilde_LL_00) - 3.0/32.0*state_fab(i, j, k - 2, Idx::gamtilde_LL_00) + (1.0/64.0)*state_fab(i, j, k - 3, Idx::gamtilde_LL_00) - 5.0/16.0*state_fab(i, j, k, Idx::gamtilde_LL_00))/dx[2] + ((15.0/64.0)*state_fab(i, j + 1, k, Idx::gamtilde_LL_00) - 3.0/32.0*state_fab(i, j + 2, k, Idx::gamtilde_LL_00) + (1.0/64.0)*state_fab(i, j + 3, k, Idx::gamtilde_LL_00) + (15.0/64.0)*state_fab(i, j - 1, k, Idx::gamtilde_LL_00) - 3.0/32.0*state_fab(i, j - 2, k, Idx::gamtilde_LL_00) + (1.0/64.0)*state_fab(i, j - 3, k, Idx::gamtilde_LL_00) - 5.0/16.0*state_fab(i, j, k, Idx::gamtilde_LL_00))/dx[1] + ((15.0/64.0)*state_fab(i + 1, j, k, Idx::gamtilde_LL_00) - 3.0/32.0*state_fab(i + 2, j, k, Idx::gamtilde_LL_00) + (1.0/64.0)*state_fab(i + 3, j, k, Idx::gamtilde_LL_00) + (15.0/64.0)*state_fab(i - 1, j, k, Idx::gamtilde_LL_00) - 3.0/32.0*state_fab(i - 2, j, k, Idx::gamtilde_LL_00) + (1.0/64.0)*state_fab(i - 3, j, k, Idx::gamtilde_LL_00) - 5.0/16.0*state_fab(i, j, k, Idx::gamtilde_LL_00))/dx[0];\n",
      "        amrex::Real dKODgamtilde_LL_01 = ((15.0/64.0)*state_fab(i, j, k + 1, Idx::gamtilde_LL_01) - 3.0/32.0*state_fab(i, j, k + 2, Idx::gamtilde_LL_01) + (1.0/64.0)*state_fab(i, j, k + 3, Idx::gamtilde_LL_01) + (15.0/64.0)*state_fab(i, j, k - 1, Idx::gamtilde_LL_01) - 3.0/32.0*state_fab(i, j, k - 2, Idx::gamtilde_LL_01) + (1.0/64.0)*state_fab(i, j, k - 3, Idx::gamtilde_LL_01) - 5.0/16.0*state_fab(i, j, k, Idx::gamtilde_LL_01))/dx[2] + ((15.0/64.0)*state_fab(i, j + 1, k, Idx::gamtilde_LL_01) - 3.0/32.0*state_fab(i, j + 2, k, Idx::gamtilde_LL_01) + (1.0/64.0)*state_fab(i, j + 3, k, Idx::gamtilde_LL_01) + (15.0/64.0)*state_fab(i, j - 1, k, Idx::gamtilde_LL_01) - 3.0/32.0*state_fab(i, j - 2, k, Idx::gamtilde_LL_01) + (1.0/64.0)*state_fab(i, j - 3, k, Idx::gamtilde_LL_01) - 5.0/16.0*state_fab(i, j, k, Idx::gamtilde_LL_01))/dx[1] + ((15.0/64.0)*state_fab(i + 1, j, k, Idx::gamtilde_LL_01) - 3.0/32.0*state_fab(i + 2, j, k, Idx::gamtilde_LL_01) + (1.0/64.0)*state_fab(i + 3, j, k, Idx::gamtilde_LL_01) + (15.0/64.0)*state_fab(i - 1, j, k, Idx::gamtilde_LL_01) - 3.0/32.0*state_fab(i - 2, j, k, Idx::gamtilde_LL_01) + (1.0/64.0)*state_fab(i - 3, j, k, Idx::gamtilde_LL_01) - 5.0/16.0*state_fab(i, j, k, Idx::gamtilde_LL_01))/dx[0];\n",
      "        amrex::Real dKODgamtilde_LL_02 = ((15.0/64.0)*state_fab(i, j, k + 1, Idx::gamtilde_LL_02) - 3.0/32.0*state_fab(i, j, k + 2, Idx::gamtilde_LL_02) + (1.0/64.0)*state_fab(i, j, k + 3, Idx::gamtilde_LL_02) + (15.0/64.0)*state_fab(i, j, k - 1, Idx::gamtilde_LL_02) - 3.0/32.0*state_fab(i, j, k - 2, Idx::gamtilde_LL_02) + (1.0/64.0)*state_fab(i, j, k - 3, Idx::gamtilde_LL_02) - 5.0/16.0*state_fab(i, j, k, Idx::gamtilde_LL_02))/dx[2] + ((15.0/64.0)*state_fab(i, j + 1, k, Idx::gamtilde_LL_02) - 3.0/32.0*state_fab(i, j + 2, k, Idx::gamtilde_LL_02) + (1.0/64.0)*state_fab(i, j + 3, k, Idx::gamtilde_LL_02) + (15.0/64.0)*state_fab(i, j - 1, k, Idx::gamtilde_LL_02) - 3.0/32.0*state_fab(i, j - 2, k, Idx::gamtilde_LL_02) + (1.0/64.0)*state_fab(i, j - 3, k, Idx::gamtilde_LL_02) - 5.0/16.0*state_fab(i, j, k, Idx::gamtilde_LL_02))/dx[1] + ((15.0/64.0)*state_fab(i + 1, j, k, Idx::gamtilde_LL_02) - 3.0/32.0*state_fab(i + 2, j, k, Idx::gamtilde_LL_02) + (1.0/64.0)*state_fab(i + 3, j, k, Idx::gamtilde_LL_02) + (15.0/64.0)*state_fab(i - 1, j, k, Idx::gamtilde_LL_02) - 3.0/32.0*state_fab(i - 2, j, k, Idx::gamtilde_LL_02) + (1.0/64.0)*state_fab(i - 3, j, k, Idx::gamtilde_LL_02) - 5.0/16.0*state_fab(i, j, k, Idx::gamtilde_LL_02))/dx[0];\n",
      "        amrex::Real dKODgamtilde_LL_11 = ((15.0/64.0)*state_fab(i, j, k + 1, Idx::gamtilde_LL_11) - 3.0/32.0*state_fab(i, j, k + 2, Idx::gamtilde_LL_11) + (1.0/64.0)*state_fab(i, j, k + 3, Idx::gamtilde_LL_11) + (15.0/64.0)*state_fab(i, j, k - 1, Idx::gamtilde_LL_11) - 3.0/32.0*state_fab(i, j, k - 2, Idx::gamtilde_LL_11) + (1.0/64.0)*state_fab(i, j, k - 3, Idx::gamtilde_LL_11) - 5.0/16.0*state_fab(i, j, k, Idx::gamtilde_LL_11))/dx[2] + ((15.0/64.0)*state_fab(i, j + 1, k, Idx::gamtilde_LL_11) - 3.0/32.0*state_fab(i, j + 2, k, Idx::gamtilde_LL_11) + (1.0/64.0)*state_fab(i, j + 3, k, Idx::gamtilde_LL_11) + (15.0/64.0)*state_fab(i, j - 1, k, Idx::gamtilde_LL_11) - 3.0/32.0*state_fab(i, j - 2, k, Idx::gamtilde_LL_11) + (1.0/64.0)*state_fab(i, j - 3, k, Idx::gamtilde_LL_11) - 5.0/16.0*state_fab(i, j, k, Idx::gamtilde_LL_11))/dx[1] + ((15.0/64.0)*state_fab(i + 1, j, k, Idx::gamtilde_LL_11) - 3.0/32.0*state_fab(i + 2, j, k, Idx::gamtilde_LL_11) + (1.0/64.0)*state_fab(i + 3, j, k, Idx::gamtilde_LL_11) + (15.0/64.0)*state_fab(i - 1, j, k, Idx::gamtilde_LL_11) - 3.0/32.0*state_fab(i - 2, j, k, Idx::gamtilde_LL_11) + (1.0/64.0)*state_fab(i - 3, j, k, Idx::gamtilde_LL_11) - 5.0/16.0*state_fab(i, j, k, Idx::gamtilde_LL_11))/dx[0];\n",
      "        amrex::Real dKODgamtilde_LL_12 = ((15.0/64.0)*state_fab(i, j, k + 1, Idx::gamtilde_LL_12) - 3.0/32.0*state_fab(i, j, k + 2, Idx::gamtilde_LL_12) + (1.0/64.0)*state_fab(i, j, k + 3, Idx::gamtilde_LL_12) + (15.0/64.0)*state_fab(i, j, k - 1, Idx::gamtilde_LL_12) - 3.0/32.0*state_fab(i, j, k - 2, Idx::gamtilde_LL_12) + (1.0/64.0)*state_fab(i, j, k - 3, Idx::gamtilde_LL_12) - 5.0/16.0*state_fab(i, j, k, Idx::gamtilde_LL_12))/dx[2] + ((15.0/64.0)*state_fab(i, j + 1, k, Idx::gamtilde_LL_12) - 3.0/32.0*state_fab(i, j + 2, k, Idx::gamtilde_LL_12) + (1.0/64.0)*state_fab(i, j + 3, k, Idx::gamtilde_LL_12) + (15.0/64.0)*state_fab(i, j - 1, k, Idx::gamtilde_LL_12) - 3.0/32.0*state_fab(i, j - 2, k, Idx::gamtilde_LL_12) + (1.0/64.0)*state_fab(i, j - 3, k, Idx::gamtilde_LL_12) - 5.0/16.0*state_fab(i, j, k, Idx::gamtilde_LL_12))/dx[1] + ((15.0/64.0)*state_fab(i + 1, j, k, Idx::gamtilde_LL_12) - 3.0/32.0*state_fab(i + 2, j, k, Idx::gamtilde_LL_12) + (1.0/64.0)*state_fab(i + 3, j, k, Idx::gamtilde_LL_12) + (15.0/64.0)*state_fab(i - 1, j, k, Idx::gamtilde_LL_12) - 3.0/32.0*state_fab(i - 2, j, k, Idx::gamtilde_LL_12) + (1.0/64.0)*state_fab(i - 3, j, k, Idx::gamtilde_LL_12) - 5.0/16.0*state_fab(i, j, k, Idx::gamtilde_LL_12))/dx[0];\n",
      "        amrex::Real dKODgamtilde_LL_22 = ((15.0/64.0)*state_fab(i, j, k + 1, Idx::gamtilde_LL_22) - 3.0/32.0*state_fab(i, j, k + 2, Idx::gamtilde_LL_22) + (1.0/64.0)*state_fab(i, j, k + 3, Idx::gamtilde_LL_22) + (15.0/64.0)*state_fab(i, j, k - 1, Idx::gamtilde_LL_22) - 3.0/32.0*state_fab(i, j, k - 2, Idx::gamtilde_LL_22) + (1.0/64.0)*state_fab(i, j, k - 3, Idx::gamtilde_LL_22) - 5.0/16.0*state_fab(i, j, k, Idx::gamtilde_LL_22))/dx[2] + ((15.0/64.0)*state_fab(i, j + 1, k, Idx::gamtilde_LL_22) - 3.0/32.0*state_fab(i, j + 2, k, Idx::gamtilde_LL_22) + (1.0/64.0)*state_fab(i, j + 3, k, Idx::gamtilde_LL_22) + (15.0/64.0)*state_fab(i, j - 1, k, Idx::gamtilde_LL_22) - 3.0/32.0*state_fab(i, j - 2, k, Idx::gamtilde_LL_22) + (1.0/64.0)*state_fab(i, j - 3, k, Idx::gamtilde_LL_22) - 5.0/16.0*state_fab(i, j, k, Idx::gamtilde_LL_22))/dx[1] + ((15.0/64.0)*state_fab(i + 1, j, k, Idx::gamtilde_LL_22) - 3.0/32.0*state_fab(i + 2, j, k, Idx::gamtilde_LL_22) + (1.0/64.0)*state_fab(i + 3, j, k, Idx::gamtilde_LL_22) + (15.0/64.0)*state_fab(i - 1, j, k, Idx::gamtilde_LL_22) - 3.0/32.0*state_fab(i - 2, j, k, Idx::gamtilde_LL_22) + (1.0/64.0)*state_fab(i - 3, j, k, Idx::gamtilde_LL_22) - 5.0/16.0*state_fab(i, j, k, Idx::gamtilde_LL_22))/dx[0];\n",
      "\n",
      "        amrex::Real AdvDbetagamtilde_LL_00 = beta_U_0*(ddnDgamtilde_LLL_000*(beta_U_0 < 0) + dupDgamtilde_LLL_000*(beta_U_0 > 0)) + beta_U_1*(ddnDgamtilde_LLL_001*(beta_U_1 < 0) + dupDgamtilde_LLL_001*(beta_U_1 > 0)) + beta_U_2*(ddnDgamtilde_LLL_002*(beta_U_2 < 0) + dupDgamtilde_LLL_002*(beta_U_2 > 0));\n",
      "        amrex::Real AdvDbetagamtilde_LL_01 = beta_U_0*(ddnDgamtilde_LLL_010*(beta_U_0 < 0) + dupDgamtilde_LLL_010*(beta_U_0 > 0)) + beta_U_1*(ddnDgamtilde_LLL_011*(beta_U_1 < 0) + dupDgamtilde_LLL_011*(beta_U_1 > 0)) + beta_U_2*(ddnDgamtilde_LLL_012*(beta_U_2 < 0) + dupDgamtilde_LLL_012*(beta_U_2 > 0));\n",
      "        amrex::Real AdvDbetagamtilde_LL_02 = beta_U_0*(ddnDgamtilde_LLL_020*(beta_U_0 < 0) + dupDgamtilde_LLL_020*(beta_U_0 > 0)) + beta_U_1*(ddnDgamtilde_LLL_021*(beta_U_1 < 0) + dupDgamtilde_LLL_021*(beta_U_1 > 0)) + beta_U_2*(ddnDgamtilde_LLL_022*(beta_U_2 < 0) + dupDgamtilde_LLL_022*(beta_U_2 > 0));\n",
      "        amrex::Real AdvDbetagamtilde_LL_11 = beta_U_0*(ddnDgamtilde_LLL_110*(beta_U_0 < 0) + dupDgamtilde_LLL_110*(beta_U_0 > 0)) + beta_U_1*(ddnDgamtilde_LLL_111*(beta_U_1 < 0) + dupDgamtilde_LLL_111*(beta_U_1 > 0)) + beta_U_2*(ddnDgamtilde_LLL_112*(beta_U_2 < 0) + dupDgamtilde_LLL_112*(beta_U_2 > 0));\n",
      "        amrex::Real AdvDbetagamtilde_LL_12 = beta_U_0*(ddnDgamtilde_LLL_120*(beta_U_0 < 0) + dupDgamtilde_LLL_120*(beta_U_0 > 0)) + beta_U_1*(ddnDgamtilde_LLL_121*(beta_U_1 < 0) + dupDgamtilde_LLL_121*(beta_U_1 > 0)) + beta_U_2*(ddnDgamtilde_LLL_122*(beta_U_2 < 0) + dupDgamtilde_LLL_122*(beta_U_2 > 0));\n",
      "        amrex::Real AdvDbetagamtilde_LL_22 = beta_U_0*(ddnDgamtilde_LLL_220*(beta_U_0 < 0) + dupDgamtilde_LLL_220*(beta_U_0 > 0)) + beta_U_1*(ddnDgamtilde_LLL_221*(beta_U_1 < 0) + dupDgamtilde_LLL_221*(beta_U_1 > 0)) + beta_U_2*(ddnDgamtilde_LLL_222*(beta_U_2 < 0) + dupDgamtilde_LLL_222*(beta_U_2 > 0));\n",
      "\n",
      "        amrex::Real dDKhat_L_0 = ((2.0/3.0)*state_fab(i + 1, j, k, Idx::Khat) - 1.0/12.0*state_fab(i + 2, j, k, Idx::Khat) - 2.0/3.0*state_fab(i - 1, j, k, Idx::Khat) + (1.0/12.0)*state_fab(i - 2, j, k, Idx::Khat))/dx[0];\n",
      "        amrex::Real dDKhat_L_1 = ((2.0/3.0)*state_fab(i, j + 1, k, Idx::Khat) - 1.0/12.0*state_fab(i, j + 2, k, Idx::Khat) - 2.0/3.0*state_fab(i, j - 1, k, Idx::Khat) + (1.0/12.0)*state_fab(i, j - 2, k, Idx::Khat))/dx[1];\n",
      "        amrex::Real dDKhat_L_2 = ((2.0/3.0)*state_fab(i, j, k + 1, Idx::Khat) - 1.0/12.0*state_fab(i, j, k + 2, Idx::Khat) - 2.0/3.0*state_fab(i, j, k - 1, Idx::Khat) + (1.0/12.0)*state_fab(i, j, k - 2, Idx::Khat))/dx[2];\n",
      "\n",
      "        amrex::Real dupDKhat_L_0 = ((3.0/2.0)*state_fab(i + 1, j, k, Idx::Khat) - 1.0/2.0*state_fab(i + 2, j, k, Idx::Khat) + (1.0/12.0)*state_fab(i + 3, j, k, Idx::Khat) - 1.0/4.0*state_fab(i - 1, j, k, Idx::Khat) - 5.0/6.0*state_fab(i, j, k, Idx::Khat))/dx[0];\n",
      "        amrex::Real dupDKhat_L_1 = ((3.0/2.0)*state_fab(i, j + 1, k, Idx::Khat) - 1.0/2.0*state_fab(i, j + 2, k, Idx::Khat) + (1.0/12.0)*state_fab(i, j + 3, k, Idx::Khat) - 1.0/4.0*state_fab(i, j - 1, k, Idx::Khat) - 5.0/6.0*state_fab(i, j, k, Idx::Khat))/dx[1];\n",
      "        amrex::Real dupDKhat_L_2 = ((3.0/2.0)*state_fab(i, j, k + 1, Idx::Khat) - 1.0/2.0*state_fab(i, j, k + 2, Idx::Khat) + (1.0/12.0)*state_fab(i, j, k + 3, Idx::Khat) - 1.0/4.0*state_fab(i, j, k - 1, Idx::Khat) - 5.0/6.0*state_fab(i, j, k, Idx::Khat))/dx[2];\n",
      "\n",
      "        amrex::Real ddnDKhat_L_0 = ((1.0/4.0)*state_fab(i + 1, j, k, Idx::Khat) - 3.0/2.0*state_fab(i - 1, j, k, Idx::Khat) + (1.0/2.0)*state_fab(i - 2, j, k, Idx::Khat) - 1.0/12.0*state_fab(i - 3, j, k, Idx::Khat) + (5.0/6.0)*state_fab(i, j, k, Idx::Khat))/dx[0];\n",
      "        amrex::Real ddnDKhat_L_1 = ((1.0/4.0)*state_fab(i, j + 1, k, Idx::Khat) - 3.0/2.0*state_fab(i, j - 1, k, Idx::Khat) + (1.0/2.0)*state_fab(i, j - 2, k, Idx::Khat) - 1.0/12.0*state_fab(i, j - 3, k, Idx::Khat) + (5.0/6.0)*state_fab(i, j, k, Idx::Khat))/dx[1];\n",
      "        amrex::Real ddnDKhat_L_2 = ((1.0/4.0)*state_fab(i, j, k + 1, Idx::Khat) - 3.0/2.0*state_fab(i, j, k - 1, Idx::Khat) + (1.0/2.0)*state_fab(i, j, k - 2, Idx::Khat) - 1.0/12.0*state_fab(i, j, k - 3, Idx::Khat) + (5.0/6.0)*state_fab(i, j, k, Idx::Khat))/dx[2];\n",
      "\n",
      "        amrex::Real dDDKhat_LL_00 = ((4.0/3.0)*state_fab(i + 1, j, k, Idx::Khat) - 1.0/12.0*state_fab(i + 2, j, k, Idx::Khat) + (4.0/3.0)*state_fab(i - 1, j, k, Idx::Khat) - 1.0/12.0*state_fab(i - 2, j, k, Idx::Khat) - 5.0/2.0*state_fab(i, j, k, Idx::Khat))/std::pow(dx[0], 2);\n",
      "        amrex::Real dDDKhat_LL_01 = ((4.0/9.0)*state_fab(i + 1, j + 1, k, Idx::Khat) - 1.0/18.0*state_fab(i + 1, j + 2, k, Idx::Khat) - 4.0/9.0*state_fab(i + 1, j - 1, k, Idx::Khat) + (1.0/18.0)*state_fab(i + 1, j - 2, k, Idx::Khat) - 1.0/18.0*state_fab(i + 2, j + 1, k, Idx::Khat) + (1.0/144.0)*state_fab(i + 2, j + 2, k, Idx::Khat) + (1.0/18.0)*state_fab(i + 2, j - 1, k, Idx::Khat) - 1.0/144.0*state_fab(i + 2, j - 2, k, Idx::Khat) - 4.0/9.0*state_fab(i - 1, j + 1, k, Idx::Khat) + (1.0/18.0)*state_fab(i - 1, j + 2, k, Idx::Khat) + (4.0/9.0)*state_fab(i - 1, j - 1, k, Idx::Khat) - 1.0/18.0*state_fab(i - 1, j - 2, k, Idx::Khat) + (1.0/18.0)*state_fab(i - 2, j + 1, k, Idx::Khat) - 1.0/144.0*state_fab(i - 2, j + 2, k, Idx::Khat) - 1.0/18.0*state_fab(i - 2, j - 1, k, Idx::Khat) + (1.0/144.0)*state_fab(i - 2, j - 2, k, Idx::Khat))/(dx[0]*dx[1]);\n",
      "        amrex::Real dDDKhat_LL_02 = ((4.0/9.0)*state_fab(i + 1, j, k + 1, Idx::Khat) - 1.0/18.0*state_fab(i + 1, j, k + 2, Idx::Khat) - 4.0/9.0*state_fab(i + 1, j, k - 1, Idx::Khat) + (1.0/18.0)*state_fab(i + 1, j, k - 2, Idx::Khat) - 1.0/18.0*state_fab(i + 2, j, k + 1, Idx::Khat) + (1.0/144.0)*state_fab(i + 2, j, k + 2, Idx::Khat) + (1.0/18.0)*state_fab(i + 2, j, k - 1, Idx::Khat) - 1.0/144.0*state_fab(i + 2, j, k - 2, Idx::Khat) - 4.0/9.0*state_fab(i - 1, j, k + 1, Idx::Khat) + (1.0/18.0)*state_fab(i - 1, j, k + 2, Idx::Khat) + (4.0/9.0)*state_fab(i - 1, j, k - 1, Idx::Khat) - 1.0/18.0*state_fab(i - 1, j, k - 2, Idx::Khat) + (1.0/18.0)*state_fab(i - 2, j, k + 1, Idx::Khat) - 1.0/144.0*state_fab(i - 2, j, k + 2, Idx::Khat) - 1.0/18.0*state_fab(i - 2, j, k - 1, Idx::Khat) + (1.0/144.0)*state_fab(i - 2, j, k - 2, Idx::Khat))/(dx[0]*dx[2]);\n",
      "        amrex::Real dDDKhat_LL_11 = ((4.0/3.0)*state_fab(i, j + 1, k, Idx::Khat) - 1.0/12.0*state_fab(i, j + 2, k, Idx::Khat) + (4.0/3.0)*state_fab(i, j - 1, k, Idx::Khat) - 1.0/12.0*state_fab(i, j - 2, k, Idx::Khat) - 5.0/2.0*state_fab(i, j, k, Idx::Khat))/std::pow(dx[1], 2);\n",
      "        amrex::Real dDDKhat_LL_12 = ((4.0/9.0)*state_fab(i, j + 1, k + 1, Idx::Khat) - 1.0/18.0*state_fab(i, j + 1, k + 2, Idx::Khat) - 4.0/9.0*state_fab(i, j + 1, k - 1, Idx::Khat) + (1.0/18.0)*state_fab(i, j + 1, k - 2, Idx::Khat) - 1.0/18.0*state_fab(i, j + 2, k + 1, Idx::Khat) + (1.0/144.0)*state_fab(i, j + 2, k + 2, Idx::Khat) + (1.0/18.0)*state_fab(i, j + 2, k - 1, Idx::Khat) - 1.0/144.0*state_fab(i, j + 2, k - 2, Idx::Khat) - 4.0/9.0*state_fab(i, j - 1, k + 1, Idx::Khat) + (1.0/18.0)*state_fab(i, j - 1, k + 2, Idx::Khat) + (4.0/9.0)*state_fab(i, j - 1, k - 1, Idx::Khat) - 1.0/18.0*state_fab(i, j - 1, k - 2, Idx::Khat) + (1.0/18.0)*state_fab(i, j - 2, k + 1, Idx::Khat) - 1.0/144.0*state_fab(i, j - 2, k + 2, Idx::Khat) - 1.0/18.0*state_fab(i, j - 2, k - 1, Idx::Khat) + (1.0/144.0)*state_fab(i, j - 2, k - 2, Idx::Khat))/(dx[1]*dx[2]);\n",
      "        amrex::Real dDDKhat_LL_22 = ((4.0/3.0)*state_fab(i, j, k + 1, Idx::Khat) - 1.0/12.0*state_fab(i, j, k + 2, Idx::Khat) + (4.0/3.0)*state_fab(i, j, k - 1, Idx::Khat) - 1.0/12.0*state_fab(i, j, k - 2, Idx::Khat) - 5.0/2.0*state_fab(i, j, k, Idx::Khat))/std::pow(dx[2], 2);\n",
      "\n",
      "        amrex::Real dKODKhat = ((15.0/64.0)*state_fab(i, j, k + 1, Idx::Khat) - 3.0/32.0*state_fab(i, j, k + 2, Idx::Khat) + (1.0/64.0)*state_fab(i, j, k + 3, Idx::Khat) + (15.0/64.0)*state_fab(i, j, k - 1, Idx::Khat) - 3.0/32.0*state_fab(i, j, k - 2, Idx::Khat) + (1.0/64.0)*state_fab(i, j, k - 3, Idx::Khat) - 5.0/16.0*state_fab(i, j, k, Idx::Khat))/dx[2] + ((15.0/64.0)*state_fab(i, j + 1, k, Idx::Khat) - 3.0/32.0*state_fab(i, j + 2, k, Idx::Khat) + (1.0/64.0)*state_fab(i, j + 3, k, Idx::Khat) + (15.0/64.0)*state_fab(i, j - 1, k, Idx::Khat) - 3.0/32.0*state_fab(i, j - 2, k, Idx::Khat) + (1.0/64.0)*state_fab(i, j - 3, k, Idx::Khat) - 5.0/16.0*state_fab(i, j, k, Idx::Khat))/dx[1] + ((15.0/64.0)*state_fab(i + 1, j, k, Idx::Khat) - 3.0/32.0*state_fab(i + 2, j, k, Idx::Khat) + (1.0/64.0)*state_fab(i + 3, j, k, Idx::Khat) + (15.0/64.0)*state_fab(i - 1, j, k, Idx::Khat) - 3.0/32.0*state_fab(i - 2, j, k, Idx::Khat) + (1.0/64.0)*state_fab(i - 3, j, k, Idx::Khat) - 5.0/16.0*state_fab(i, j, k, Idx::Khat))/dx[0];\n",
      "\n",
      "        amrex::Real AdvDbetaKhat = beta_U_0*(ddnDKhat_L_0*(beta_U_0 < 0) + dupDKhat_L_0*(beta_U_0 > 0)) + beta_U_1*(ddnDKhat_L_1*(beta_U_1 < 0) + dupDKhat_L_1*(beta_U_1 > 0)) + beta_U_2*(ddnDKhat_L_2*(beta_U_2 < 0) + dupDKhat_L_2*(beta_U_2 > 0));\n",
      "\n",
      "        amrex::Real dDAtilde_LLL_000 = ((2.0/3.0)*state_fab(i + 1, j, k, Idx::Atilde_LL_00) - 1.0/12.0*state_fab(i + 2, j, k, Idx::Atilde_LL_00) - 2.0/3.0*state_fab(i - 1, j, k, Idx::Atilde_LL_00) + (1.0/12.0)*state_fab(i - 2, j, k, Idx::Atilde_LL_00))/dx[0];\n",
      "        amrex::Real dDAtilde_LLL_001 = ((2.0/3.0)*state_fab(i, j + 1, k, Idx::Atilde_LL_00) - 1.0/12.0*state_fab(i, j + 2, k, Idx::Atilde_LL_00) - 2.0/3.0*state_fab(i, j - 1, k, Idx::Atilde_LL_00) + (1.0/12.0)*state_fab(i, j - 2, k, Idx::Atilde_LL_00))/dx[1];\n",
      "        amrex::Real dDAtilde_LLL_002 = ((2.0/3.0)*state_fab(i, j, k + 1, Idx::Atilde_LL_00) - 1.0/12.0*state_fab(i, j, k + 2, Idx::Atilde_LL_00) - 2.0/3.0*state_fab(i, j, k - 1, Idx::Atilde_LL_00) + (1.0/12.0)*state_fab(i, j, k - 2, Idx::Atilde_LL_00))/dx[2];\n",
      "        amrex::Real dDAtilde_LLL_010 = ((2.0/3.0)*state_fab(i + 1, j, k, Idx::Atilde_LL_01) - 1.0/12.0*state_fab(i + 2, j, k, Idx::Atilde_LL_01) - 2.0/3.0*state_fab(i - 1, j, k, Idx::Atilde_LL_01) + (1.0/12.0)*state_fab(i - 2, j, k, Idx::Atilde_LL_01))/dx[0];\n",
      "        amrex::Real dDAtilde_LLL_011 = ((2.0/3.0)*state_fab(i, j + 1, k, Idx::Atilde_LL_01) - 1.0/12.0*state_fab(i, j + 2, k, Idx::Atilde_LL_01) - 2.0/3.0*state_fab(i, j - 1, k, Idx::Atilde_LL_01) + (1.0/12.0)*state_fab(i, j - 2, k, Idx::Atilde_LL_01))/dx[1];\n",
      "        amrex::Real dDAtilde_LLL_012 = ((2.0/3.0)*state_fab(i, j, k + 1, Idx::Atilde_LL_01) - 1.0/12.0*state_fab(i, j, k + 2, Idx::Atilde_LL_01) - 2.0/3.0*state_fab(i, j, k - 1, Idx::Atilde_LL_01) + (1.0/12.0)*state_fab(i, j, k - 2, Idx::Atilde_LL_01))/dx[2];\n",
      "        amrex::Real dDAtilde_LLL_020 = ((2.0/3.0)*state_fab(i + 1, j, k, Idx::Atilde_LL_02) - 1.0/12.0*state_fab(i + 2, j, k, Idx::Atilde_LL_02) - 2.0/3.0*state_fab(i - 1, j, k, Idx::Atilde_LL_02) + (1.0/12.0)*state_fab(i - 2, j, k, Idx::Atilde_LL_02))/dx[0];\n",
      "        amrex::Real dDAtilde_LLL_021 = ((2.0/3.0)*state_fab(i, j + 1, k, Idx::Atilde_LL_02) - 1.0/12.0*state_fab(i, j + 2, k, Idx::Atilde_LL_02) - 2.0/3.0*state_fab(i, j - 1, k, Idx::Atilde_LL_02) + (1.0/12.0)*state_fab(i, j - 2, k, Idx::Atilde_LL_02))/dx[1];\n",
      "        amrex::Real dDAtilde_LLL_022 = ((2.0/3.0)*state_fab(i, j, k + 1, Idx::Atilde_LL_02) - 1.0/12.0*state_fab(i, j, k + 2, Idx::Atilde_LL_02) - 2.0/3.0*state_fab(i, j, k - 1, Idx::Atilde_LL_02) + (1.0/12.0)*state_fab(i, j, k - 2, Idx::Atilde_LL_02))/dx[2];\n",
      "        amrex::Real dDAtilde_LLL_110 = ((2.0/3.0)*state_fab(i + 1, j, k, Idx::Atilde_LL_11) - 1.0/12.0*state_fab(i + 2, j, k, Idx::Atilde_LL_11) - 2.0/3.0*state_fab(i - 1, j, k, Idx::Atilde_LL_11) + (1.0/12.0)*state_fab(i - 2, j, k, Idx::Atilde_LL_11))/dx[0];\n",
      "        amrex::Real dDAtilde_LLL_111 = ((2.0/3.0)*state_fab(i, j + 1, k, Idx::Atilde_LL_11) - 1.0/12.0*state_fab(i, j + 2, k, Idx::Atilde_LL_11) - 2.0/3.0*state_fab(i, j - 1, k, Idx::Atilde_LL_11) + (1.0/12.0)*state_fab(i, j - 2, k, Idx::Atilde_LL_11))/dx[1];\n",
      "        amrex::Real dDAtilde_LLL_112 = ((2.0/3.0)*state_fab(i, j, k + 1, Idx::Atilde_LL_11) - 1.0/12.0*state_fab(i, j, k + 2, Idx::Atilde_LL_11) - 2.0/3.0*state_fab(i, j, k - 1, Idx::Atilde_LL_11) + (1.0/12.0)*state_fab(i, j, k - 2, Idx::Atilde_LL_11))/dx[2];\n",
      "        amrex::Real dDAtilde_LLL_120 = ((2.0/3.0)*state_fab(i + 1, j, k, Idx::Atilde_LL_12) - 1.0/12.0*state_fab(i + 2, j, k, Idx::Atilde_LL_12) - 2.0/3.0*state_fab(i - 1, j, k, Idx::Atilde_LL_12) + (1.0/12.0)*state_fab(i - 2, j, k, Idx::Atilde_LL_12))/dx[0];\n",
      "        amrex::Real dDAtilde_LLL_121 = ((2.0/3.0)*state_fab(i, j + 1, k, Idx::Atilde_LL_12) - 1.0/12.0*state_fab(i, j + 2, k, Idx::Atilde_LL_12) - 2.0/3.0*state_fab(i, j - 1, k, Idx::Atilde_LL_12) + (1.0/12.0)*state_fab(i, j - 2, k, Idx::Atilde_LL_12))/dx[1];\n",
      "        amrex::Real dDAtilde_LLL_122 = ((2.0/3.0)*state_fab(i, j, k + 1, Idx::Atilde_LL_12) - 1.0/12.0*state_fab(i, j, k + 2, Idx::Atilde_LL_12) - 2.0/3.0*state_fab(i, j, k - 1, Idx::Atilde_LL_12) + (1.0/12.0)*state_fab(i, j, k - 2, Idx::Atilde_LL_12))/dx[2];\n",
      "        amrex::Real dDAtilde_LLL_220 = ((2.0/3.0)*state_fab(i + 1, j, k, Idx::Atilde_LL_22) - 1.0/12.0*state_fab(i + 2, j, k, Idx::Atilde_LL_22) - 2.0/3.0*state_fab(i - 1, j, k, Idx::Atilde_LL_22) + (1.0/12.0)*state_fab(i - 2, j, k, Idx::Atilde_LL_22))/dx[0];\n",
      "        amrex::Real dDAtilde_LLL_221 = ((2.0/3.0)*state_fab(i, j + 1, k, Idx::Atilde_LL_22) - 1.0/12.0*state_fab(i, j + 2, k, Idx::Atilde_LL_22) - 2.0/3.0*state_fab(i, j - 1, k, Idx::Atilde_LL_22) + (1.0/12.0)*state_fab(i, j - 2, k, Idx::Atilde_LL_22))/dx[1];\n",
      "        amrex::Real dDAtilde_LLL_222 = ((2.0/3.0)*state_fab(i, j, k + 1, Idx::Atilde_LL_22) - 1.0/12.0*state_fab(i, j, k + 2, Idx::Atilde_LL_22) - 2.0/3.0*state_fab(i, j, k - 1, Idx::Atilde_LL_22) + (1.0/12.0)*state_fab(i, j, k - 2, Idx::Atilde_LL_22))/dx[2];\n",
      "\n",
      "        amrex::Real dupDAtilde_LLL_000 = ((3.0/2.0)*state_fab(i + 1, j, k, Idx::Atilde_LL_00) - 1.0/2.0*state_fab(i + 2, j, k, Idx::Atilde_LL_00) + (1.0/12.0)*state_fab(i + 3, j, k, Idx::Atilde_LL_00) - 1.0/4.0*state_fab(i - 1, j, k, Idx::Atilde_LL_00) - 5.0/6.0*state_fab(i, j, k, Idx::Atilde_LL_00))/dx[0];\n",
      "        amrex::Real dupDAtilde_LLL_001 = ((3.0/2.0)*state_fab(i, j + 1, k, Idx::Atilde_LL_00) - 1.0/2.0*state_fab(i, j + 2, k, Idx::Atilde_LL_00) + (1.0/12.0)*state_fab(i, j + 3, k, Idx::Atilde_LL_00) - 1.0/4.0*state_fab(i, j - 1, k, Idx::Atilde_LL_00) - 5.0/6.0*state_fab(i, j, k, Idx::Atilde_LL_00))/dx[1];\n",
      "        amrex::Real dupDAtilde_LLL_002 = ((3.0/2.0)*state_fab(i, j, k + 1, Idx::Atilde_LL_00) - 1.0/2.0*state_fab(i, j, k + 2, Idx::Atilde_LL_00) + (1.0/12.0)*state_fab(i, j, k + 3, Idx::Atilde_LL_00) - 1.0/4.0*state_fab(i, j, k - 1, Idx::Atilde_LL_00) - 5.0/6.0*state_fab(i, j, k, Idx::Atilde_LL_00))/dx[2];\n",
      "        amrex::Real dupDAtilde_LLL_010 = ((3.0/2.0)*state_fab(i + 1, j, k, Idx::Atilde_LL_01) - 1.0/2.0*state_fab(i + 2, j, k, Idx::Atilde_LL_01) + (1.0/12.0)*state_fab(i + 3, j, k, Idx::Atilde_LL_01) - 1.0/4.0*state_fab(i - 1, j, k, Idx::Atilde_LL_01) - 5.0/6.0*state_fab(i, j, k, Idx::Atilde_LL_01))/dx[0];\n",
      "        amrex::Real dupDAtilde_LLL_011 = ((3.0/2.0)*state_fab(i, j + 1, k, Idx::Atilde_LL_01) - 1.0/2.0*state_fab(i, j + 2, k, Idx::Atilde_LL_01) + (1.0/12.0)*state_fab(i, j + 3, k, Idx::Atilde_LL_01) - 1.0/4.0*state_fab(i, j - 1, k, Idx::Atilde_LL_01) - 5.0/6.0*state_fab(i, j, k, Idx::Atilde_LL_01))/dx[1];\n",
      "        amrex::Real dupDAtilde_LLL_012 = ((3.0/2.0)*state_fab(i, j, k + 1, Idx::Atilde_LL_01) - 1.0/2.0*state_fab(i, j, k + 2, Idx::Atilde_LL_01) + (1.0/12.0)*state_fab(i, j, k + 3, Idx::Atilde_LL_01) - 1.0/4.0*state_fab(i, j, k - 1, Idx::Atilde_LL_01) - 5.0/6.0*state_fab(i, j, k, Idx::Atilde_LL_01))/dx[2];\n",
      "        amrex::Real dupDAtilde_LLL_020 = ((3.0/2.0)*state_fab(i + 1, j, k, Idx::Atilde_LL_02) - 1.0/2.0*state_fab(i + 2, j, k, Idx::Atilde_LL_02) + (1.0/12.0)*state_fab(i + 3, j, k, Idx::Atilde_LL_02) - 1.0/4.0*state_fab(i - 1, j, k, Idx::Atilde_LL_02) - 5.0/6.0*state_fab(i, j, k, Idx::Atilde_LL_02))/dx[0];\n",
      "        amrex::Real dupDAtilde_LLL_021 = ((3.0/2.0)*state_fab(i, j + 1, k, Idx::Atilde_LL_02) - 1.0/2.0*state_fab(i, j + 2, k, Idx::Atilde_LL_02) + (1.0/12.0)*state_fab(i, j + 3, k, Idx::Atilde_LL_02) - 1.0/4.0*state_fab(i, j - 1, k, Idx::Atilde_LL_02) - 5.0/6.0*state_fab(i, j, k, Idx::Atilde_LL_02))/dx[1];\n",
      "        amrex::Real dupDAtilde_LLL_022 = ((3.0/2.0)*state_fab(i, j, k + 1, Idx::Atilde_LL_02) - 1.0/2.0*state_fab(i, j, k + 2, Idx::Atilde_LL_02) + (1.0/12.0)*state_fab(i, j, k + 3, Idx::Atilde_LL_02) - 1.0/4.0*state_fab(i, j, k - 1, Idx::Atilde_LL_02) - 5.0/6.0*state_fab(i, j, k, Idx::Atilde_LL_02))/dx[2];\n",
      "        amrex::Real dupDAtilde_LLL_110 = ((3.0/2.0)*state_fab(i + 1, j, k, Idx::Atilde_LL_11) - 1.0/2.0*state_fab(i + 2, j, k, Idx::Atilde_LL_11) + (1.0/12.0)*state_fab(i + 3, j, k, Idx::Atilde_LL_11) - 1.0/4.0*state_fab(i - 1, j, k, Idx::Atilde_LL_11) - 5.0/6.0*state_fab(i, j, k, Idx::Atilde_LL_11))/dx[0];\n",
      "        amrex::Real dupDAtilde_LLL_111 = ((3.0/2.0)*state_fab(i, j + 1, k, Idx::Atilde_LL_11) - 1.0/2.0*state_fab(i, j + 2, k, Idx::Atilde_LL_11) + (1.0/12.0)*state_fab(i, j + 3, k, Idx::Atilde_LL_11) - 1.0/4.0*state_fab(i, j - 1, k, Idx::Atilde_LL_11) - 5.0/6.0*state_fab(i, j, k, Idx::Atilde_LL_11))/dx[1];\n",
      "        amrex::Real dupDAtilde_LLL_112 = ((3.0/2.0)*state_fab(i, j, k + 1, Idx::Atilde_LL_11) - 1.0/2.0*state_fab(i, j, k + 2, Idx::Atilde_LL_11) + (1.0/12.0)*state_fab(i, j, k + 3, Idx::Atilde_LL_11) - 1.0/4.0*state_fab(i, j, k - 1, Idx::Atilde_LL_11) - 5.0/6.0*state_fab(i, j, k, Idx::Atilde_LL_11))/dx[2];\n",
      "        amrex::Real dupDAtilde_LLL_120 = ((3.0/2.0)*state_fab(i + 1, j, k, Idx::Atilde_LL_12) - 1.0/2.0*state_fab(i + 2, j, k, Idx::Atilde_LL_12) + (1.0/12.0)*state_fab(i + 3, j, k, Idx::Atilde_LL_12) - 1.0/4.0*state_fab(i - 1, j, k, Idx::Atilde_LL_12) - 5.0/6.0*state_fab(i, j, k, Idx::Atilde_LL_12))/dx[0];\n",
      "        amrex::Real dupDAtilde_LLL_121 = ((3.0/2.0)*state_fab(i, j + 1, k, Idx::Atilde_LL_12) - 1.0/2.0*state_fab(i, j + 2, k, Idx::Atilde_LL_12) + (1.0/12.0)*state_fab(i, j + 3, k, Idx::Atilde_LL_12) - 1.0/4.0*state_fab(i, j - 1, k, Idx::Atilde_LL_12) - 5.0/6.0*state_fab(i, j, k, Idx::Atilde_LL_12))/dx[1];\n",
      "        amrex::Real dupDAtilde_LLL_122 = ((3.0/2.0)*state_fab(i, j, k + 1, Idx::Atilde_LL_12) - 1.0/2.0*state_fab(i, j, k + 2, Idx::Atilde_LL_12) + (1.0/12.0)*state_fab(i, j, k + 3, Idx::Atilde_LL_12) - 1.0/4.0*state_fab(i, j, k - 1, Idx::Atilde_LL_12) - 5.0/6.0*state_fab(i, j, k, Idx::Atilde_LL_12))/dx[2];\n",
      "        amrex::Real dupDAtilde_LLL_220 = ((3.0/2.0)*state_fab(i + 1, j, k, Idx::Atilde_LL_22) - 1.0/2.0*state_fab(i + 2, j, k, Idx::Atilde_LL_22) + (1.0/12.0)*state_fab(i + 3, j, k, Idx::Atilde_LL_22) - 1.0/4.0*state_fab(i - 1, j, k, Idx::Atilde_LL_22) - 5.0/6.0*state_fab(i, j, k, Idx::Atilde_LL_22))/dx[0];\n",
      "        amrex::Real dupDAtilde_LLL_221 = ((3.0/2.0)*state_fab(i, j + 1, k, Idx::Atilde_LL_22) - 1.0/2.0*state_fab(i, j + 2, k, Idx::Atilde_LL_22) + (1.0/12.0)*state_fab(i, j + 3, k, Idx::Atilde_LL_22) - 1.0/4.0*state_fab(i, j - 1, k, Idx::Atilde_LL_22) - 5.0/6.0*state_fab(i, j, k, Idx::Atilde_LL_22))/dx[1];\n",
      "        amrex::Real dupDAtilde_LLL_222 = ((3.0/2.0)*state_fab(i, j, k + 1, Idx::Atilde_LL_22) - 1.0/2.0*state_fab(i, j, k + 2, Idx::Atilde_LL_22) + (1.0/12.0)*state_fab(i, j, k + 3, Idx::Atilde_LL_22) - 1.0/4.0*state_fab(i, j, k - 1, Idx::Atilde_LL_22) - 5.0/6.0*state_fab(i, j, k, Idx::Atilde_LL_22))/dx[2];\n",
      "\n",
      "        amrex::Real ddnDAtilde_LLL_000 = ((1.0/4.0)*state_fab(i + 1, j, k, Idx::Atilde_LL_00) - 3.0/2.0*state_fab(i - 1, j, k, Idx::Atilde_LL_00) + (1.0/2.0)*state_fab(i - 2, j, k, Idx::Atilde_LL_00) - 1.0/12.0*state_fab(i - 3, j, k, Idx::Atilde_LL_00) + (5.0/6.0)*state_fab(i, j, k, Idx::Atilde_LL_00))/dx[0];\n",
      "        amrex::Real ddnDAtilde_LLL_001 = ((1.0/4.0)*state_fab(i, j + 1, k, Idx::Atilde_LL_00) - 3.0/2.0*state_fab(i, j - 1, k, Idx::Atilde_LL_00) + (1.0/2.0)*state_fab(i, j - 2, k, Idx::Atilde_LL_00) - 1.0/12.0*state_fab(i, j - 3, k, Idx::Atilde_LL_00) + (5.0/6.0)*state_fab(i, j, k, Idx::Atilde_LL_00))/dx[1];\n",
      "        amrex::Real ddnDAtilde_LLL_002 = ((1.0/4.0)*state_fab(i, j, k + 1, Idx::Atilde_LL_00) - 3.0/2.0*state_fab(i, j, k - 1, Idx::Atilde_LL_00) + (1.0/2.0)*state_fab(i, j, k - 2, Idx::Atilde_LL_00) - 1.0/12.0*state_fab(i, j, k - 3, Idx::Atilde_LL_00) + (5.0/6.0)*state_fab(i, j, k, Idx::Atilde_LL_00))/dx[2];\n",
      "        amrex::Real ddnDAtilde_LLL_010 = ((1.0/4.0)*state_fab(i + 1, j, k, Idx::Atilde_LL_01) - 3.0/2.0*state_fab(i - 1, j, k, Idx::Atilde_LL_01) + (1.0/2.0)*state_fab(i - 2, j, k, Idx::Atilde_LL_01) - 1.0/12.0*state_fab(i - 3, j, k, Idx::Atilde_LL_01) + (5.0/6.0)*state_fab(i, j, k, Idx::Atilde_LL_01))/dx[0];\n",
      "        amrex::Real ddnDAtilde_LLL_011 = ((1.0/4.0)*state_fab(i, j + 1, k, Idx::Atilde_LL_01) - 3.0/2.0*state_fab(i, j - 1, k, Idx::Atilde_LL_01) + (1.0/2.0)*state_fab(i, j - 2, k, Idx::Atilde_LL_01) - 1.0/12.0*state_fab(i, j - 3, k, Idx::Atilde_LL_01) + (5.0/6.0)*state_fab(i, j, k, Idx::Atilde_LL_01))/dx[1];\n",
      "        amrex::Real ddnDAtilde_LLL_012 = ((1.0/4.0)*state_fab(i, j, k + 1, Idx::Atilde_LL_01) - 3.0/2.0*state_fab(i, j, k - 1, Idx::Atilde_LL_01) + (1.0/2.0)*state_fab(i, j, k - 2, Idx::Atilde_LL_01) - 1.0/12.0*state_fab(i, j, k - 3, Idx::Atilde_LL_01) + (5.0/6.0)*state_fab(i, j, k, Idx::Atilde_LL_01))/dx[2];\n",
      "        amrex::Real ddnDAtilde_LLL_020 = ((1.0/4.0)*state_fab(i + 1, j, k, Idx::Atilde_LL_02) - 3.0/2.0*state_fab(i - 1, j, k, Idx::Atilde_LL_02) + (1.0/2.0)*state_fab(i - 2, j, k, Idx::Atilde_LL_02) - 1.0/12.0*state_fab(i - 3, j, k, Idx::Atilde_LL_02) + (5.0/6.0)*state_fab(i, j, k, Idx::Atilde_LL_02))/dx[0];\n",
      "        amrex::Real ddnDAtilde_LLL_021 = ((1.0/4.0)*state_fab(i, j + 1, k, Idx::Atilde_LL_02) - 3.0/2.0*state_fab(i, j - 1, k, Idx::Atilde_LL_02) + (1.0/2.0)*state_fab(i, j - 2, k, Idx::Atilde_LL_02) - 1.0/12.0*state_fab(i, j - 3, k, Idx::Atilde_LL_02) + (5.0/6.0)*state_fab(i, j, k, Idx::Atilde_LL_02))/dx[1];\n",
      "        amrex::Real ddnDAtilde_LLL_022 = ((1.0/4.0)*state_fab(i, j, k + 1, Idx::Atilde_LL_02) - 3.0/2.0*state_fab(i, j, k - 1, Idx::Atilde_LL_02) + (1.0/2.0)*state_fab(i, j, k - 2, Idx::Atilde_LL_02) - 1.0/12.0*state_fab(i, j, k - 3, Idx::Atilde_LL_02) + (5.0/6.0)*state_fab(i, j, k, Idx::Atilde_LL_02))/dx[2];\n",
      "        amrex::Real ddnDAtilde_LLL_110 = ((1.0/4.0)*state_fab(i + 1, j, k, Idx::Atilde_LL_11) - 3.0/2.0*state_fab(i - 1, j, k, Idx::Atilde_LL_11) + (1.0/2.0)*state_fab(i - 2, j, k, Idx::Atilde_LL_11) - 1.0/12.0*state_fab(i - 3, j, k, Idx::Atilde_LL_11) + (5.0/6.0)*state_fab(i, j, k, Idx::Atilde_LL_11))/dx[0];\n",
      "        amrex::Real ddnDAtilde_LLL_111 = ((1.0/4.0)*state_fab(i, j + 1, k, Idx::Atilde_LL_11) - 3.0/2.0*state_fab(i, j - 1, k, Idx::Atilde_LL_11) + (1.0/2.0)*state_fab(i, j - 2, k, Idx::Atilde_LL_11) - 1.0/12.0*state_fab(i, j - 3, k, Idx::Atilde_LL_11) + (5.0/6.0)*state_fab(i, j, k, Idx::Atilde_LL_11))/dx[1];\n",
      "        amrex::Real ddnDAtilde_LLL_112 = ((1.0/4.0)*state_fab(i, j, k + 1, Idx::Atilde_LL_11) - 3.0/2.0*state_fab(i, j, k - 1, Idx::Atilde_LL_11) + (1.0/2.0)*state_fab(i, j, k - 2, Idx::Atilde_LL_11) - 1.0/12.0*state_fab(i, j, k - 3, Idx::Atilde_LL_11) + (5.0/6.0)*state_fab(i, j, k, Idx::Atilde_LL_11))/dx[2];\n",
      "        amrex::Real ddnDAtilde_LLL_120 = ((1.0/4.0)*state_fab(i + 1, j, k, Idx::Atilde_LL_12) - 3.0/2.0*state_fab(i - 1, j, k, Idx::Atilde_LL_12) + (1.0/2.0)*state_fab(i - 2, j, k, Idx::Atilde_LL_12) - 1.0/12.0*state_fab(i - 3, j, k, Idx::Atilde_LL_12) + (5.0/6.0)*state_fab(i, j, k, Idx::Atilde_LL_12))/dx[0];\n",
      "        amrex::Real ddnDAtilde_LLL_121 = ((1.0/4.0)*state_fab(i, j + 1, k, Idx::Atilde_LL_12) - 3.0/2.0*state_fab(i, j - 1, k, Idx::Atilde_LL_12) + (1.0/2.0)*state_fab(i, j - 2, k, Idx::Atilde_LL_12) - 1.0/12.0*state_fab(i, j - 3, k, Idx::Atilde_LL_12) + (5.0/6.0)*state_fab(i, j, k, Idx::Atilde_LL_12))/dx[1];\n",
      "        amrex::Real ddnDAtilde_LLL_122 = ((1.0/4.0)*state_fab(i, j, k + 1, Idx::Atilde_LL_12) - 3.0/2.0*state_fab(i, j, k - 1, Idx::Atilde_LL_12) + (1.0/2.0)*state_fab(i, j, k - 2, Idx::Atilde_LL_12) - 1.0/12.0*state_fab(i, j, k - 3, Idx::Atilde_LL_12) + (5.0/6.0)*state_fab(i, j, k, Idx::Atilde_LL_12))/dx[2];\n",
      "        amrex::Real ddnDAtilde_LLL_220 = ((1.0/4.0)*state_fab(i + 1, j, k, Idx::Atilde_LL_22) - 3.0/2.0*state_fab(i - 1, j, k, Idx::Atilde_LL_22) + (1.0/2.0)*state_fab(i - 2, j, k, Idx::Atilde_LL_22) - 1.0/12.0*state_fab(i - 3, j, k, Idx::Atilde_LL_22) + (5.0/6.0)*state_fab(i, j, k, Idx::Atilde_LL_22))/dx[0];\n",
      "        amrex::Real ddnDAtilde_LLL_221 = ((1.0/4.0)*state_fab(i, j + 1, k, Idx::Atilde_LL_22) - 3.0/2.0*state_fab(i, j - 1, k, Idx::Atilde_LL_22) + (1.0/2.0)*state_fab(i, j - 2, k, Idx::Atilde_LL_22) - 1.0/12.0*state_fab(i, j - 3, k, Idx::Atilde_LL_22) + (5.0/6.0)*state_fab(i, j, k, Idx::Atilde_LL_22))/dx[1];\n",
      "        amrex::Real ddnDAtilde_LLL_222 = ((1.0/4.0)*state_fab(i, j, k + 1, Idx::Atilde_LL_22) - 3.0/2.0*state_fab(i, j, k - 1, Idx::Atilde_LL_22) + (1.0/2.0)*state_fab(i, j, k - 2, Idx::Atilde_LL_22) - 1.0/12.0*state_fab(i, j, k - 3, Idx::Atilde_LL_22) + (5.0/6.0)*state_fab(i, j, k, Idx::Atilde_LL_22))/dx[2];\n",
      "\n",
      "        amrex::Real dDDAtilde_LLLL_0000 = ((4.0/3.0)*state_fab(i + 1, j, k, Idx::Atilde_LL_00) - 1.0/12.0*state_fab(i + 2, j, k, Idx::Atilde_LL_00) + (4.0/3.0)*state_fab(i - 1, j, k, Idx::Atilde_LL_00) - 1.0/12.0*state_fab(i - 2, j, k, Idx::Atilde_LL_00) - 5.0/2.0*state_fab(i, j, k, Idx::Atilde_LL_00))/std::pow(dx[0], 2);\n",
      "        amrex::Real dDDAtilde_LLLL_0001 = ((4.0/9.0)*state_fab(i + 1, j + 1, k, Idx::Atilde_LL_00) - 1.0/18.0*state_fab(i + 1, j + 2, k, Idx::Atilde_LL_00) - 4.0/9.0*state_fab(i + 1, j - 1, k, Idx::Atilde_LL_00) + (1.0/18.0)*state_fab(i + 1, j - 2, k, Idx::Atilde_LL_00) - 1.0/18.0*state_fab(i + 2, j + 1, k, Idx::Atilde_LL_00) + (1.0/144.0)*state_fab(i + 2, j + 2, k, Idx::Atilde_LL_00) + (1.0/18.0)*state_fab(i + 2, j - 1, k, Idx::Atilde_LL_00) - 1.0/144.0*state_fab(i + 2, j - 2, k, Idx::Atilde_LL_00) - 4.0/9.0*state_fab(i - 1, j + 1, k, Idx::Atilde_LL_00) + (1.0/18.0)*state_fab(i - 1, j + 2, k, Idx::Atilde_LL_00) + (4.0/9.0)*state_fab(i - 1, j - 1, k, Idx::Atilde_LL_00) - 1.0/18.0*state_fab(i - 1, j - 2, k, Idx::Atilde_LL_00) + (1.0/18.0)*state_fab(i - 2, j + 1, k, Idx::Atilde_LL_00) - 1.0/144.0*state_fab(i - 2, j + 2, k, Idx::Atilde_LL_00) - 1.0/18.0*state_fab(i - 2, j - 1, k, Idx::Atilde_LL_00) + (1.0/144.0)*state_fab(i - 2, j - 2, k, Idx::Atilde_LL_00))/(dx[0]*dx[1]);\n",
      "        amrex::Real dDDAtilde_LLLL_0002 = ((4.0/9.0)*state_fab(i + 1, j, k + 1, Idx::Atilde_LL_00) - 1.0/18.0*state_fab(i + 1, j, k + 2, Idx::Atilde_LL_00) - 4.0/9.0*state_fab(i + 1, j, k - 1, Idx::Atilde_LL_00) + (1.0/18.0)*state_fab(i + 1, j, k - 2, Idx::Atilde_LL_00) - 1.0/18.0*state_fab(i + 2, j, k + 1, Idx::Atilde_LL_00) + (1.0/144.0)*state_fab(i + 2, j, k + 2, Idx::Atilde_LL_00) + (1.0/18.0)*state_fab(i + 2, j, k - 1, Idx::Atilde_LL_00) - 1.0/144.0*state_fab(i + 2, j, k - 2, Idx::Atilde_LL_00) - 4.0/9.0*state_fab(i - 1, j, k + 1, Idx::Atilde_LL_00) + (1.0/18.0)*state_fab(i - 1, j, k + 2, Idx::Atilde_LL_00) + (4.0/9.0)*state_fab(i - 1, j, k - 1, Idx::Atilde_LL_00) - 1.0/18.0*state_fab(i - 1, j, k - 2, Idx::Atilde_LL_00) + (1.0/18.0)*state_fab(i - 2, j, k + 1, Idx::Atilde_LL_00) - 1.0/144.0*state_fab(i - 2, j, k + 2, Idx::Atilde_LL_00) - 1.0/18.0*state_fab(i - 2, j, k - 1, Idx::Atilde_LL_00) + (1.0/144.0)*state_fab(i - 2, j, k - 2, Idx::Atilde_LL_00))/(dx[0]*dx[2]);\n",
      "        amrex::Real dDDAtilde_LLLL_0011 = ((4.0/3.0)*state_fab(i, j + 1, k, Idx::Atilde_LL_00) - 1.0/12.0*state_fab(i, j + 2, k, Idx::Atilde_LL_00) + (4.0/3.0)*state_fab(i, j - 1, k, Idx::Atilde_LL_00) - 1.0/12.0*state_fab(i, j - 2, k, Idx::Atilde_LL_00) - 5.0/2.0*state_fab(i, j, k, Idx::Atilde_LL_00))/std::pow(dx[1], 2);\n",
      "        amrex::Real dDDAtilde_LLLL_0012 = ((4.0/9.0)*state_fab(i, j + 1, k + 1, Idx::Atilde_LL_00) - 1.0/18.0*state_fab(i, j + 1, k + 2, Idx::Atilde_LL_00) - 4.0/9.0*state_fab(i, j + 1, k - 1, Idx::Atilde_LL_00) + (1.0/18.0)*state_fab(i, j + 1, k - 2, Idx::Atilde_LL_00) - 1.0/18.0*state_fab(i, j + 2, k + 1, Idx::Atilde_LL_00) + (1.0/144.0)*state_fab(i, j + 2, k + 2, Idx::Atilde_LL_00) + (1.0/18.0)*state_fab(i, j + 2, k - 1, Idx::Atilde_LL_00) - 1.0/144.0*state_fab(i, j + 2, k - 2, Idx::Atilde_LL_00) - 4.0/9.0*state_fab(i, j - 1, k + 1, Idx::Atilde_LL_00) + (1.0/18.0)*state_fab(i, j - 1, k + 2, Idx::Atilde_LL_00) + (4.0/9.0)*state_fab(i, j - 1, k - 1, Idx::Atilde_LL_00) - 1.0/18.0*state_fab(i, j - 1, k - 2, Idx::Atilde_LL_00) + (1.0/18.0)*state_fab(i, j - 2, k + 1, Idx::Atilde_LL_00) - 1.0/144.0*state_fab(i, j - 2, k + 2, Idx::Atilde_LL_00) - 1.0/18.0*state_fab(i, j - 2, k - 1, Idx::Atilde_LL_00) + (1.0/144.0)*state_fab(i, j - 2, k - 2, Idx::Atilde_LL_00))/(dx[1]*dx[2]);\n",
      "        amrex::Real dDDAtilde_LLLL_0022 = ((4.0/3.0)*state_fab(i, j, k + 1, Idx::Atilde_LL_00) - 1.0/12.0*state_fab(i, j, k + 2, Idx::Atilde_LL_00) + (4.0/3.0)*state_fab(i, j, k - 1, Idx::Atilde_LL_00) - 1.0/12.0*state_fab(i, j, k - 2, Idx::Atilde_LL_00) - 5.0/2.0*state_fab(i, j, k, Idx::Atilde_LL_00))/std::pow(dx[2], 2);\n",
      "        amrex::Real dDDAtilde_LLLL_0100 = ((4.0/3.0)*state_fab(i + 1, j, k, Idx::Atilde_LL_01) - 1.0/12.0*state_fab(i + 2, j, k, Idx::Atilde_LL_01) + (4.0/3.0)*state_fab(i - 1, j, k, Idx::Atilde_LL_01) - 1.0/12.0*state_fab(i - 2, j, k, Idx::Atilde_LL_01) - 5.0/2.0*state_fab(i, j, k, Idx::Atilde_LL_01))/std::pow(dx[0], 2);\n",
      "        amrex::Real dDDAtilde_LLLL_0101 = ((4.0/9.0)*state_fab(i + 1, j + 1, k, Idx::Atilde_LL_01) - 1.0/18.0*state_fab(i + 1, j + 2, k, Idx::Atilde_LL_01) - 4.0/9.0*state_fab(i + 1, j - 1, k, Idx::Atilde_LL_01) + (1.0/18.0)*state_fab(i + 1, j - 2, k, Idx::Atilde_LL_01) - 1.0/18.0*state_fab(i + 2, j + 1, k, Idx::Atilde_LL_01) + (1.0/144.0)*state_fab(i + 2, j + 2, k, Idx::Atilde_LL_01) + (1.0/18.0)*state_fab(i + 2, j - 1, k, Idx::Atilde_LL_01) - 1.0/144.0*state_fab(i + 2, j - 2, k, Idx::Atilde_LL_01) - 4.0/9.0*state_fab(i - 1, j + 1, k, Idx::Atilde_LL_01) + (1.0/18.0)*state_fab(i - 1, j + 2, k, Idx::Atilde_LL_01) + (4.0/9.0)*state_fab(i - 1, j - 1, k, Idx::Atilde_LL_01) - 1.0/18.0*state_fab(i - 1, j - 2, k, Idx::Atilde_LL_01) + (1.0/18.0)*state_fab(i - 2, j + 1, k, Idx::Atilde_LL_01) - 1.0/144.0*state_fab(i - 2, j + 2, k, Idx::Atilde_LL_01) - 1.0/18.0*state_fab(i - 2, j - 1, k, Idx::Atilde_LL_01) + (1.0/144.0)*state_fab(i - 2, j - 2, k, Idx::Atilde_LL_01))/(dx[0]*dx[1]);\n",
      "        amrex::Real dDDAtilde_LLLL_0102 = ((4.0/9.0)*state_fab(i + 1, j, k + 1, Idx::Atilde_LL_01) - 1.0/18.0*state_fab(i + 1, j, k + 2, Idx::Atilde_LL_01) - 4.0/9.0*state_fab(i + 1, j, k - 1, Idx::Atilde_LL_01) + (1.0/18.0)*state_fab(i + 1, j, k - 2, Idx::Atilde_LL_01) - 1.0/18.0*state_fab(i + 2, j, k + 1, Idx::Atilde_LL_01) + (1.0/144.0)*state_fab(i + 2, j, k + 2, Idx::Atilde_LL_01) + (1.0/18.0)*state_fab(i + 2, j, k - 1, Idx::Atilde_LL_01) - 1.0/144.0*state_fab(i + 2, j, k - 2, Idx::Atilde_LL_01) - 4.0/9.0*state_fab(i - 1, j, k + 1, Idx::Atilde_LL_01) + (1.0/18.0)*state_fab(i - 1, j, k + 2, Idx::Atilde_LL_01) + (4.0/9.0)*state_fab(i - 1, j, k - 1, Idx::Atilde_LL_01) - 1.0/18.0*state_fab(i - 1, j, k - 2, Idx::Atilde_LL_01) + (1.0/18.0)*state_fab(i - 2, j, k + 1, Idx::Atilde_LL_01) - 1.0/144.0*state_fab(i - 2, j, k + 2, Idx::Atilde_LL_01) - 1.0/18.0*state_fab(i - 2, j, k - 1, Idx::Atilde_LL_01) + (1.0/144.0)*state_fab(i - 2, j, k - 2, Idx::Atilde_LL_01))/(dx[0]*dx[2]);\n",
      "        amrex::Real dDDAtilde_LLLL_0111 = ((4.0/3.0)*state_fab(i, j + 1, k, Idx::Atilde_LL_01) - 1.0/12.0*state_fab(i, j + 2, k, Idx::Atilde_LL_01) + (4.0/3.0)*state_fab(i, j - 1, k, Idx::Atilde_LL_01) - 1.0/12.0*state_fab(i, j - 2, k, Idx::Atilde_LL_01) - 5.0/2.0*state_fab(i, j, k, Idx::Atilde_LL_01))/std::pow(dx[1], 2);\n",
      "        amrex::Real dDDAtilde_LLLL_0112 = ((4.0/9.0)*state_fab(i, j + 1, k + 1, Idx::Atilde_LL_01) - 1.0/18.0*state_fab(i, j + 1, k + 2, Idx::Atilde_LL_01) - 4.0/9.0*state_fab(i, j + 1, k - 1, Idx::Atilde_LL_01) + (1.0/18.0)*state_fab(i, j + 1, k - 2, Idx::Atilde_LL_01) - 1.0/18.0*state_fab(i, j + 2, k + 1, Idx::Atilde_LL_01) + (1.0/144.0)*state_fab(i, j + 2, k + 2, Idx::Atilde_LL_01) + (1.0/18.0)*state_fab(i, j + 2, k - 1, Idx::Atilde_LL_01) - 1.0/144.0*state_fab(i, j + 2, k - 2, Idx::Atilde_LL_01) - 4.0/9.0*state_fab(i, j - 1, k + 1, Idx::Atilde_LL_01) + (1.0/18.0)*state_fab(i, j - 1, k + 2, Idx::Atilde_LL_01) + (4.0/9.0)*state_fab(i, j - 1, k - 1, Idx::Atilde_LL_01) - 1.0/18.0*state_fab(i, j - 1, k - 2, Idx::Atilde_LL_01) + (1.0/18.0)*state_fab(i, j - 2, k + 1, Idx::Atilde_LL_01) - 1.0/144.0*state_fab(i, j - 2, k + 2, Idx::Atilde_LL_01) - 1.0/18.0*state_fab(i, j - 2, k - 1, Idx::Atilde_LL_01) + (1.0/144.0)*state_fab(i, j - 2, k - 2, Idx::Atilde_LL_01))/(dx[1]*dx[2]);\n",
      "        amrex::Real dDDAtilde_LLLL_0122 = ((4.0/3.0)*state_fab(i, j, k + 1, Idx::Atilde_LL_01) - 1.0/12.0*state_fab(i, j, k + 2, Idx::Atilde_LL_01) + (4.0/3.0)*state_fab(i, j, k - 1, Idx::Atilde_LL_01) - 1.0/12.0*state_fab(i, j, k - 2, Idx::Atilde_LL_01) - 5.0/2.0*state_fab(i, j, k, Idx::Atilde_LL_01))/std::pow(dx[2], 2);\n",
      "        amrex::Real dDDAtilde_LLLL_0200 = ((4.0/3.0)*state_fab(i + 1, j, k, Idx::Atilde_LL_02) - 1.0/12.0*state_fab(i + 2, j, k, Idx::Atilde_LL_02) + (4.0/3.0)*state_fab(i - 1, j, k, Idx::Atilde_LL_02) - 1.0/12.0*state_fab(i - 2, j, k, Idx::Atilde_LL_02) - 5.0/2.0*state_fab(i, j, k, Idx::Atilde_LL_02))/std::pow(dx[0], 2);\n",
      "        amrex::Real dDDAtilde_LLLL_0201 = ((4.0/9.0)*state_fab(i + 1, j + 1, k, Idx::Atilde_LL_02) - 1.0/18.0*state_fab(i + 1, j + 2, k, Idx::Atilde_LL_02) - 4.0/9.0*state_fab(i + 1, j - 1, k, Idx::Atilde_LL_02) + (1.0/18.0)*state_fab(i + 1, j - 2, k, Idx::Atilde_LL_02) - 1.0/18.0*state_fab(i + 2, j + 1, k, Idx::Atilde_LL_02) + (1.0/144.0)*state_fab(i + 2, j + 2, k, Idx::Atilde_LL_02) + (1.0/18.0)*state_fab(i + 2, j - 1, k, Idx::Atilde_LL_02) - 1.0/144.0*state_fab(i + 2, j - 2, k, Idx::Atilde_LL_02) - 4.0/9.0*state_fab(i - 1, j + 1, k, Idx::Atilde_LL_02) + (1.0/18.0)*state_fab(i - 1, j + 2, k, Idx::Atilde_LL_02) + (4.0/9.0)*state_fab(i - 1, j - 1, k, Idx::Atilde_LL_02) - 1.0/18.0*state_fab(i - 1, j - 2, k, Idx::Atilde_LL_02) + (1.0/18.0)*state_fab(i - 2, j + 1, k, Idx::Atilde_LL_02) - 1.0/144.0*state_fab(i - 2, j + 2, k, Idx::Atilde_LL_02) - 1.0/18.0*state_fab(i - 2, j - 1, k, Idx::Atilde_LL_02) + (1.0/144.0)*state_fab(i - 2, j - 2, k, Idx::Atilde_LL_02))/(dx[0]*dx[1]);\n",
      "        amrex::Real dDDAtilde_LLLL_0202 = ((4.0/9.0)*state_fab(i + 1, j, k + 1, Idx::Atilde_LL_02) - 1.0/18.0*state_fab(i + 1, j, k + 2, Idx::Atilde_LL_02) - 4.0/9.0*state_fab(i + 1, j, k - 1, Idx::Atilde_LL_02) + (1.0/18.0)*state_fab(i + 1, j, k - 2, Idx::Atilde_LL_02) - 1.0/18.0*state_fab(i + 2, j, k + 1, Idx::Atilde_LL_02) + (1.0/144.0)*state_fab(i + 2, j, k + 2, Idx::Atilde_LL_02) + (1.0/18.0)*state_fab(i + 2, j, k - 1, Idx::Atilde_LL_02) - 1.0/144.0*state_fab(i + 2, j, k - 2, Idx::Atilde_LL_02) - 4.0/9.0*state_fab(i - 1, j, k + 1, Idx::Atilde_LL_02) + (1.0/18.0)*state_fab(i - 1, j, k + 2, Idx::Atilde_LL_02) + (4.0/9.0)*state_fab(i - 1, j, k - 1, Idx::Atilde_LL_02) - 1.0/18.0*state_fab(i - 1, j, k - 2, Idx::Atilde_LL_02) + (1.0/18.0)*state_fab(i - 2, j, k + 1, Idx::Atilde_LL_02) - 1.0/144.0*state_fab(i - 2, j, k + 2, Idx::Atilde_LL_02) - 1.0/18.0*state_fab(i - 2, j, k - 1, Idx::Atilde_LL_02) + (1.0/144.0)*state_fab(i - 2, j, k - 2, Idx::Atilde_LL_02))/(dx[0]*dx[2]);\n",
      "        amrex::Real dDDAtilde_LLLL_0211 = ((4.0/3.0)*state_fab(i, j + 1, k, Idx::Atilde_LL_02) - 1.0/12.0*state_fab(i, j + 2, k, Idx::Atilde_LL_02) + (4.0/3.0)*state_fab(i, j - 1, k, Idx::Atilde_LL_02) - 1.0/12.0*state_fab(i, j - 2, k, Idx::Atilde_LL_02) - 5.0/2.0*state_fab(i, j, k, Idx::Atilde_LL_02))/std::pow(dx[1], 2);\n",
      "        amrex::Real dDDAtilde_LLLL_0212 = ((4.0/9.0)*state_fab(i, j + 1, k + 1, Idx::Atilde_LL_02) - 1.0/18.0*state_fab(i, j + 1, k + 2, Idx::Atilde_LL_02) - 4.0/9.0*state_fab(i, j + 1, k - 1, Idx::Atilde_LL_02) + (1.0/18.0)*state_fab(i, j + 1, k - 2, Idx::Atilde_LL_02) - 1.0/18.0*state_fab(i, j + 2, k + 1, Idx::Atilde_LL_02) + (1.0/144.0)*state_fab(i, j + 2, k + 2, Idx::Atilde_LL_02) + (1.0/18.0)*state_fab(i, j + 2, k - 1, Idx::Atilde_LL_02) - 1.0/144.0*state_fab(i, j + 2, k - 2, Idx::Atilde_LL_02) - 4.0/9.0*state_fab(i, j - 1, k + 1, Idx::Atilde_LL_02) + (1.0/18.0)*state_fab(i, j - 1, k + 2, Idx::Atilde_LL_02) + (4.0/9.0)*state_fab(i, j - 1, k - 1, Idx::Atilde_LL_02) - 1.0/18.0*state_fab(i, j - 1, k - 2, Idx::Atilde_LL_02) + (1.0/18.0)*state_fab(i, j - 2, k + 1, Idx::Atilde_LL_02) - 1.0/144.0*state_fab(i, j - 2, k + 2, Idx::Atilde_LL_02) - 1.0/18.0*state_fab(i, j - 2, k - 1, Idx::Atilde_LL_02) + (1.0/144.0)*state_fab(i, j - 2, k - 2, Idx::Atilde_LL_02))/(dx[1]*dx[2]);\n",
      "        amrex::Real dDDAtilde_LLLL_0222 = ((4.0/3.0)*state_fab(i, j, k + 1, Idx::Atilde_LL_02) - 1.0/12.0*state_fab(i, j, k + 2, Idx::Atilde_LL_02) + (4.0/3.0)*state_fab(i, j, k - 1, Idx::Atilde_LL_02) - 1.0/12.0*state_fab(i, j, k - 2, Idx::Atilde_LL_02) - 5.0/2.0*state_fab(i, j, k, Idx::Atilde_LL_02))/std::pow(dx[2], 2);\n",
      "        amrex::Real dDDAtilde_LLLL_1100 = ((4.0/3.0)*state_fab(i + 1, j, k, Idx::Atilde_LL_11) - 1.0/12.0*state_fab(i + 2, j, k, Idx::Atilde_LL_11) + (4.0/3.0)*state_fab(i - 1, j, k, Idx::Atilde_LL_11) - 1.0/12.0*state_fab(i - 2, j, k, Idx::Atilde_LL_11) - 5.0/2.0*state_fab(i, j, k, Idx::Atilde_LL_11))/std::pow(dx[0], 2);\n",
      "        amrex::Real dDDAtilde_LLLL_1101 = ((4.0/9.0)*state_fab(i + 1, j + 1, k, Idx::Atilde_LL_11) - 1.0/18.0*state_fab(i + 1, j + 2, k, Idx::Atilde_LL_11) - 4.0/9.0*state_fab(i + 1, j - 1, k, Idx::Atilde_LL_11) + (1.0/18.0)*state_fab(i + 1, j - 2, k, Idx::Atilde_LL_11) - 1.0/18.0*state_fab(i + 2, j + 1, k, Idx::Atilde_LL_11) + (1.0/144.0)*state_fab(i + 2, j + 2, k, Idx::Atilde_LL_11) + (1.0/18.0)*state_fab(i + 2, j - 1, k, Idx::Atilde_LL_11) - 1.0/144.0*state_fab(i + 2, j - 2, k, Idx::Atilde_LL_11) - 4.0/9.0*state_fab(i - 1, j + 1, k, Idx::Atilde_LL_11) + (1.0/18.0)*state_fab(i - 1, j + 2, k, Idx::Atilde_LL_11) + (4.0/9.0)*state_fab(i - 1, j - 1, k, Idx::Atilde_LL_11) - 1.0/18.0*state_fab(i - 1, j - 2, k, Idx::Atilde_LL_11) + (1.0/18.0)*state_fab(i - 2, j + 1, k, Idx::Atilde_LL_11) - 1.0/144.0*state_fab(i - 2, j + 2, k, Idx::Atilde_LL_11) - 1.0/18.0*state_fab(i - 2, j - 1, k, Idx::Atilde_LL_11) + (1.0/144.0)*state_fab(i - 2, j - 2, k, Idx::Atilde_LL_11))/(dx[0]*dx[1]);\n",
      "        amrex::Real dDDAtilde_LLLL_1102 = ((4.0/9.0)*state_fab(i + 1, j, k + 1, Idx::Atilde_LL_11) - 1.0/18.0*state_fab(i + 1, j, k + 2, Idx::Atilde_LL_11) - 4.0/9.0*state_fab(i + 1, j, k - 1, Idx::Atilde_LL_11) + (1.0/18.0)*state_fab(i + 1, j, k - 2, Idx::Atilde_LL_11) - 1.0/18.0*state_fab(i + 2, j, k + 1, Idx::Atilde_LL_11) + (1.0/144.0)*state_fab(i + 2, j, k + 2, Idx::Atilde_LL_11) + (1.0/18.0)*state_fab(i + 2, j, k - 1, Idx::Atilde_LL_11) - 1.0/144.0*state_fab(i + 2, j, k - 2, Idx::Atilde_LL_11) - 4.0/9.0*state_fab(i - 1, j, k + 1, Idx::Atilde_LL_11) + (1.0/18.0)*state_fab(i - 1, j, k + 2, Idx::Atilde_LL_11) + (4.0/9.0)*state_fab(i - 1, j, k - 1, Idx::Atilde_LL_11) - 1.0/18.0*state_fab(i - 1, j, k - 2, Idx::Atilde_LL_11) + (1.0/18.0)*state_fab(i - 2, j, k + 1, Idx::Atilde_LL_11) - 1.0/144.0*state_fab(i - 2, j, k + 2, Idx::Atilde_LL_11) - 1.0/18.0*state_fab(i - 2, j, k - 1, Idx::Atilde_LL_11) + (1.0/144.0)*state_fab(i - 2, j, k - 2, Idx::Atilde_LL_11))/(dx[0]*dx[2]);\n",
      "        amrex::Real dDDAtilde_LLLL_1111 = ((4.0/3.0)*state_fab(i, j + 1, k, Idx::Atilde_LL_11) - 1.0/12.0*state_fab(i, j + 2, k, Idx::Atilde_LL_11) + (4.0/3.0)*state_fab(i, j - 1, k, Idx::Atilde_LL_11) - 1.0/12.0*state_fab(i, j - 2, k, Idx::Atilde_LL_11) - 5.0/2.0*state_fab(i, j, k, Idx::Atilde_LL_11))/std::pow(dx[1], 2);\n",
      "        amrex::Real dDDAtilde_LLLL_1112 = ((4.0/9.0)*state_fab(i, j + 1, k + 1, Idx::Atilde_LL_11) - 1.0/18.0*state_fab(i, j + 1, k + 2, Idx::Atilde_LL_11) - 4.0/9.0*state_fab(i, j + 1, k - 1, Idx::Atilde_LL_11) + (1.0/18.0)*state_fab(i, j + 1, k - 2, Idx::Atilde_LL_11) - 1.0/18.0*state_fab(i, j + 2, k + 1, Idx::Atilde_LL_11) + (1.0/144.0)*state_fab(i, j + 2, k + 2, Idx::Atilde_LL_11) + (1.0/18.0)*state_fab(i, j + 2, k - 1, Idx::Atilde_LL_11) - 1.0/144.0*state_fab(i, j + 2, k - 2, Idx::Atilde_LL_11) - 4.0/9.0*state_fab(i, j - 1, k + 1, Idx::Atilde_LL_11) + (1.0/18.0)*state_fab(i, j - 1, k + 2, Idx::Atilde_LL_11) + (4.0/9.0)*state_fab(i, j - 1, k - 1, Idx::Atilde_LL_11) - 1.0/18.0*state_fab(i, j - 1, k - 2, Idx::Atilde_LL_11) + (1.0/18.0)*state_fab(i, j - 2, k + 1, Idx::Atilde_LL_11) - 1.0/144.0*state_fab(i, j - 2, k + 2, Idx::Atilde_LL_11) - 1.0/18.0*state_fab(i, j - 2, k - 1, Idx::Atilde_LL_11) + (1.0/144.0)*state_fab(i, j - 2, k - 2, Idx::Atilde_LL_11))/(dx[1]*dx[2]);\n",
      "        amrex::Real dDDAtilde_LLLL_1122 = ((4.0/3.0)*state_fab(i, j, k + 1, Idx::Atilde_LL_11) - 1.0/12.0*state_fab(i, j, k + 2, Idx::Atilde_LL_11) + (4.0/3.0)*state_fab(i, j, k - 1, Idx::Atilde_LL_11) - 1.0/12.0*state_fab(i, j, k - 2, Idx::Atilde_LL_11) - 5.0/2.0*state_fab(i, j, k, Idx::Atilde_LL_11))/std::pow(dx[2], 2);\n",
      "        amrex::Real dDDAtilde_LLLL_1200 = ((4.0/3.0)*state_fab(i + 1, j, k, Idx::Atilde_LL_12) - 1.0/12.0*state_fab(i + 2, j, k, Idx::Atilde_LL_12) + (4.0/3.0)*state_fab(i - 1, j, k, Idx::Atilde_LL_12) - 1.0/12.0*state_fab(i - 2, j, k, Idx::Atilde_LL_12) - 5.0/2.0*state_fab(i, j, k, Idx::Atilde_LL_12))/std::pow(dx[0], 2);\n",
      "        amrex::Real dDDAtilde_LLLL_1201 = ((4.0/9.0)*state_fab(i + 1, j + 1, k, Idx::Atilde_LL_12) - 1.0/18.0*state_fab(i + 1, j + 2, k, Idx::Atilde_LL_12) - 4.0/9.0*state_fab(i + 1, j - 1, k, Idx::Atilde_LL_12) + (1.0/18.0)*state_fab(i + 1, j - 2, k, Idx::Atilde_LL_12) - 1.0/18.0*state_fab(i + 2, j + 1, k, Idx::Atilde_LL_12) + (1.0/144.0)*state_fab(i + 2, j + 2, k, Idx::Atilde_LL_12) + (1.0/18.0)*state_fab(i + 2, j - 1, k, Idx::Atilde_LL_12) - 1.0/144.0*state_fab(i + 2, j - 2, k, Idx::Atilde_LL_12) - 4.0/9.0*state_fab(i - 1, j + 1, k, Idx::Atilde_LL_12) + (1.0/18.0)*state_fab(i - 1, j + 2, k, Idx::Atilde_LL_12) + (4.0/9.0)*state_fab(i - 1, j - 1, k, Idx::Atilde_LL_12) - 1.0/18.0*state_fab(i - 1, j - 2, k, Idx::Atilde_LL_12) + (1.0/18.0)*state_fab(i - 2, j + 1, k, Idx::Atilde_LL_12) - 1.0/144.0*state_fab(i - 2, j + 2, k, Idx::Atilde_LL_12) - 1.0/18.0*state_fab(i - 2, j - 1, k, Idx::Atilde_LL_12) + (1.0/144.0)*state_fab(i - 2, j - 2, k, Idx::Atilde_LL_12))/(dx[0]*dx[1]);\n",
      "        amrex::Real dDDAtilde_LLLL_1202 = ((4.0/9.0)*state_fab(i + 1, j, k + 1, Idx::Atilde_LL_12) - 1.0/18.0*state_fab(i + 1, j, k + 2, Idx::Atilde_LL_12) - 4.0/9.0*state_fab(i + 1, j, k - 1, Idx::Atilde_LL_12) + (1.0/18.0)*state_fab(i + 1, j, k - 2, Idx::Atilde_LL_12) - 1.0/18.0*state_fab(i + 2, j, k + 1, Idx::Atilde_LL_12) + (1.0/144.0)*state_fab(i + 2, j, k + 2, Idx::Atilde_LL_12) + (1.0/18.0)*state_fab(i + 2, j, k - 1, Idx::Atilde_LL_12) - 1.0/144.0*state_fab(i + 2, j, k - 2, Idx::Atilde_LL_12) - 4.0/9.0*state_fab(i - 1, j, k + 1, Idx::Atilde_LL_12) + (1.0/18.0)*state_fab(i - 1, j, k + 2, Idx::Atilde_LL_12) + (4.0/9.0)*state_fab(i - 1, j, k - 1, Idx::Atilde_LL_12) - 1.0/18.0*state_fab(i - 1, j, k - 2, Idx::Atilde_LL_12) + (1.0/18.0)*state_fab(i - 2, j, k + 1, Idx::Atilde_LL_12) - 1.0/144.0*state_fab(i - 2, j, k + 2, Idx::Atilde_LL_12) - 1.0/18.0*state_fab(i - 2, j, k - 1, Idx::Atilde_LL_12) + (1.0/144.0)*state_fab(i - 2, j, k - 2, Idx::Atilde_LL_12))/(dx[0]*dx[2]);\n",
      "        amrex::Real dDDAtilde_LLLL_1211 = ((4.0/3.0)*state_fab(i, j + 1, k, Idx::Atilde_LL_12) - 1.0/12.0*state_fab(i, j + 2, k, Idx::Atilde_LL_12) + (4.0/3.0)*state_fab(i, j - 1, k, Idx::Atilde_LL_12) - 1.0/12.0*state_fab(i, j - 2, k, Idx::Atilde_LL_12) - 5.0/2.0*state_fab(i, j, k, Idx::Atilde_LL_12))/std::pow(dx[1], 2);\n",
      "        amrex::Real dDDAtilde_LLLL_1212 = ((4.0/9.0)*state_fab(i, j + 1, k + 1, Idx::Atilde_LL_12) - 1.0/18.0*state_fab(i, j + 1, k + 2, Idx::Atilde_LL_12) - 4.0/9.0*state_fab(i, j + 1, k - 1, Idx::Atilde_LL_12) + (1.0/18.0)*state_fab(i, j + 1, k - 2, Idx::Atilde_LL_12) - 1.0/18.0*state_fab(i, j + 2, k + 1, Idx::Atilde_LL_12) + (1.0/144.0)*state_fab(i, j + 2, k + 2, Idx::Atilde_LL_12) + (1.0/18.0)*state_fab(i, j + 2, k - 1, Idx::Atilde_LL_12) - 1.0/144.0*state_fab(i, j + 2, k - 2, Idx::Atilde_LL_12) - 4.0/9.0*state_fab(i, j - 1, k + 1, Idx::Atilde_LL_12) + (1.0/18.0)*state_fab(i, j - 1, k + 2, Idx::Atilde_LL_12) + (4.0/9.0)*state_fab(i, j - 1, k - 1, Idx::Atilde_LL_12) - 1.0/18.0*state_fab(i, j - 1, k - 2, Idx::Atilde_LL_12) + (1.0/18.0)*state_fab(i, j - 2, k + 1, Idx::Atilde_LL_12) - 1.0/144.0*state_fab(i, j - 2, k + 2, Idx::Atilde_LL_12) - 1.0/18.0*state_fab(i, j - 2, k - 1, Idx::Atilde_LL_12) + (1.0/144.0)*state_fab(i, j - 2, k - 2, Idx::Atilde_LL_12))/(dx[1]*dx[2]);\n",
      "        amrex::Real dDDAtilde_LLLL_1222 = ((4.0/3.0)*state_fab(i, j, k + 1, Idx::Atilde_LL_12) - 1.0/12.0*state_fab(i, j, k + 2, Idx::Atilde_LL_12) + (4.0/3.0)*state_fab(i, j, k - 1, Idx::Atilde_LL_12) - 1.0/12.0*state_fab(i, j, k - 2, Idx::Atilde_LL_12) - 5.0/2.0*state_fab(i, j, k, Idx::Atilde_LL_12))/std::pow(dx[2], 2);\n",
      "        amrex::Real dDDAtilde_LLLL_2200 = ((4.0/3.0)*state_fab(i + 1, j, k, Idx::Atilde_LL_22) - 1.0/12.0*state_fab(i + 2, j, k, Idx::Atilde_LL_22) + (4.0/3.0)*state_fab(i - 1, j, k, Idx::Atilde_LL_22) - 1.0/12.0*state_fab(i - 2, j, k, Idx::Atilde_LL_22) - 5.0/2.0*state_fab(i, j, k, Idx::Atilde_LL_22))/std::pow(dx[0], 2);\n",
      "        amrex::Real dDDAtilde_LLLL_2201 = ((4.0/9.0)*state_fab(i + 1, j + 1, k, Idx::Atilde_LL_22) - 1.0/18.0*state_fab(i + 1, j + 2, k, Idx::Atilde_LL_22) - 4.0/9.0*state_fab(i + 1, j - 1, k, Idx::Atilde_LL_22) + (1.0/18.0)*state_fab(i + 1, j - 2, k, Idx::Atilde_LL_22) - 1.0/18.0*state_fab(i + 2, j + 1, k, Idx::Atilde_LL_22) + (1.0/144.0)*state_fab(i + 2, j + 2, k, Idx::Atilde_LL_22) + (1.0/18.0)*state_fab(i + 2, j - 1, k, Idx::Atilde_LL_22) - 1.0/144.0*state_fab(i + 2, j - 2, k, Idx::Atilde_LL_22) - 4.0/9.0*state_fab(i - 1, j + 1, k, Idx::Atilde_LL_22) + (1.0/18.0)*state_fab(i - 1, j + 2, k, Idx::Atilde_LL_22) + (4.0/9.0)*state_fab(i - 1, j - 1, k, Idx::Atilde_LL_22) - 1.0/18.0*state_fab(i - 1, j - 2, k, Idx::Atilde_LL_22) + (1.0/18.0)*state_fab(i - 2, j + 1, k, Idx::Atilde_LL_22) - 1.0/144.0*state_fab(i - 2, j + 2, k, Idx::Atilde_LL_22) - 1.0/18.0*state_fab(i - 2, j - 1, k, Idx::Atilde_LL_22) + (1.0/144.0)*state_fab(i - 2, j - 2, k, Idx::Atilde_LL_22))/(dx[0]*dx[1]);\n",
      "        amrex::Real dDDAtilde_LLLL_2202 = ((4.0/9.0)*state_fab(i + 1, j, k + 1, Idx::Atilde_LL_22) - 1.0/18.0*state_fab(i + 1, j, k + 2, Idx::Atilde_LL_22) - 4.0/9.0*state_fab(i + 1, j, k - 1, Idx::Atilde_LL_22) + (1.0/18.0)*state_fab(i + 1, j, k - 2, Idx::Atilde_LL_22) - 1.0/18.0*state_fab(i + 2, j, k + 1, Idx::Atilde_LL_22) + (1.0/144.0)*state_fab(i + 2, j, k + 2, Idx::Atilde_LL_22) + (1.0/18.0)*state_fab(i + 2, j, k - 1, Idx::Atilde_LL_22) - 1.0/144.0*state_fab(i + 2, j, k - 2, Idx::Atilde_LL_22) - 4.0/9.0*state_fab(i - 1, j, k + 1, Idx::Atilde_LL_22) + (1.0/18.0)*state_fab(i - 1, j, k + 2, Idx::Atilde_LL_22) + (4.0/9.0)*state_fab(i - 1, j, k - 1, Idx::Atilde_LL_22) - 1.0/18.0*state_fab(i - 1, j, k - 2, Idx::Atilde_LL_22) + (1.0/18.0)*state_fab(i - 2, j, k + 1, Idx::Atilde_LL_22) - 1.0/144.0*state_fab(i - 2, j, k + 2, Idx::Atilde_LL_22) - 1.0/18.0*state_fab(i - 2, j, k - 1, Idx::Atilde_LL_22) + (1.0/144.0)*state_fab(i - 2, j, k - 2, Idx::Atilde_LL_22))/(dx[0]*dx[2]);\n",
      "        amrex::Real dDDAtilde_LLLL_2211 = ((4.0/3.0)*state_fab(i, j + 1, k, Idx::Atilde_LL_22) - 1.0/12.0*state_fab(i, j + 2, k, Idx::Atilde_LL_22) + (4.0/3.0)*state_fab(i, j - 1, k, Idx::Atilde_LL_22) - 1.0/12.0*state_fab(i, j - 2, k, Idx::Atilde_LL_22) - 5.0/2.0*state_fab(i, j, k, Idx::Atilde_LL_22))/std::pow(dx[1], 2);\n",
      "        amrex::Real dDDAtilde_LLLL_2212 = ((4.0/9.0)*state_fab(i, j + 1, k + 1, Idx::Atilde_LL_22) - 1.0/18.0*state_fab(i, j + 1, k + 2, Idx::Atilde_LL_22) - 4.0/9.0*state_fab(i, j + 1, k - 1, Idx::Atilde_LL_22) + (1.0/18.0)*state_fab(i, j + 1, k - 2, Idx::Atilde_LL_22) - 1.0/18.0*state_fab(i, j + 2, k + 1, Idx::Atilde_LL_22) + (1.0/144.0)*state_fab(i, j + 2, k + 2, Idx::Atilde_LL_22) + (1.0/18.0)*state_fab(i, j + 2, k - 1, Idx::Atilde_LL_22) - 1.0/144.0*state_fab(i, j + 2, k - 2, Idx::Atilde_LL_22) - 4.0/9.0*state_fab(i, j - 1, k + 1, Idx::Atilde_LL_22) + (1.0/18.0)*state_fab(i, j - 1, k + 2, Idx::Atilde_LL_22) + (4.0/9.0)*state_fab(i, j - 1, k - 1, Idx::Atilde_LL_22) - 1.0/18.0*state_fab(i, j - 1, k - 2, Idx::Atilde_LL_22) + (1.0/18.0)*state_fab(i, j - 2, k + 1, Idx::Atilde_LL_22) - 1.0/144.0*state_fab(i, j - 2, k + 2, Idx::Atilde_LL_22) - 1.0/18.0*state_fab(i, j - 2, k - 1, Idx::Atilde_LL_22) + (1.0/144.0)*state_fab(i, j - 2, k - 2, Idx::Atilde_LL_22))/(dx[1]*dx[2]);\n",
      "        amrex::Real dDDAtilde_LLLL_2222 = ((4.0/3.0)*state_fab(i, j, k + 1, Idx::Atilde_LL_22) - 1.0/12.0*state_fab(i, j, k + 2, Idx::Atilde_LL_22) + (4.0/3.0)*state_fab(i, j, k - 1, Idx::Atilde_LL_22) - 1.0/12.0*state_fab(i, j, k - 2, Idx::Atilde_LL_22) - 5.0/2.0*state_fab(i, j, k, Idx::Atilde_LL_22))/std::pow(dx[2], 2);\n",
      "\n",
      "        amrex::Real dKODAtilde_LL_00 = ((15.0/64.0)*state_fab(i, j, k + 1, Idx::Atilde_LL_00) - 3.0/32.0*state_fab(i, j, k + 2, Idx::Atilde_LL_00) + (1.0/64.0)*state_fab(i, j, k + 3, Idx::Atilde_LL_00) + (15.0/64.0)*state_fab(i, j, k - 1, Idx::Atilde_LL_00) - 3.0/32.0*state_fab(i, j, k - 2, Idx::Atilde_LL_00) + (1.0/64.0)*state_fab(i, j, k - 3, Idx::Atilde_LL_00) - 5.0/16.0*state_fab(i, j, k, Idx::Atilde_LL_00))/dx[2] + ((15.0/64.0)*state_fab(i, j + 1, k, Idx::Atilde_LL_00) - 3.0/32.0*state_fab(i, j + 2, k, Idx::Atilde_LL_00) + (1.0/64.0)*state_fab(i, j + 3, k, Idx::Atilde_LL_00) + (15.0/64.0)*state_fab(i, j - 1, k, Idx::Atilde_LL_00) - 3.0/32.0*state_fab(i, j - 2, k, Idx::Atilde_LL_00) + (1.0/64.0)*state_fab(i, j - 3, k, Idx::Atilde_LL_00) - 5.0/16.0*state_fab(i, j, k, Idx::Atilde_LL_00))/dx[1] + ((15.0/64.0)*state_fab(i + 1, j, k, Idx::Atilde_LL_00) - 3.0/32.0*state_fab(i + 2, j, k, Idx::Atilde_LL_00) + (1.0/64.0)*state_fab(i + 3, j, k, Idx::Atilde_LL_00) + (15.0/64.0)*state_fab(i - 1, j, k, Idx::Atilde_LL_00) - 3.0/32.0*state_fab(i - 2, j, k, Idx::Atilde_LL_00) + (1.0/64.0)*state_fab(i - 3, j, k, Idx::Atilde_LL_00) - 5.0/16.0*state_fab(i, j, k, Idx::Atilde_LL_00))/dx[0];\n",
      "        amrex::Real dKODAtilde_LL_01 = ((15.0/64.0)*state_fab(i, j, k + 1, Idx::Atilde_LL_01) - 3.0/32.0*state_fab(i, j, k + 2, Idx::Atilde_LL_01) + (1.0/64.0)*state_fab(i, j, k + 3, Idx::Atilde_LL_01) + (15.0/64.0)*state_fab(i, j, k - 1, Idx::Atilde_LL_01) - 3.0/32.0*state_fab(i, j, k - 2, Idx::Atilde_LL_01) + (1.0/64.0)*state_fab(i, j, k - 3, Idx::Atilde_LL_01) - 5.0/16.0*state_fab(i, j, k, Idx::Atilde_LL_01))/dx[2] + ((15.0/64.0)*state_fab(i, j + 1, k, Idx::Atilde_LL_01) - 3.0/32.0*state_fab(i, j + 2, k, Idx::Atilde_LL_01) + (1.0/64.0)*state_fab(i, j + 3, k, Idx::Atilde_LL_01) + (15.0/64.0)*state_fab(i, j - 1, k, Idx::Atilde_LL_01) - 3.0/32.0*state_fab(i, j - 2, k, Idx::Atilde_LL_01) + (1.0/64.0)*state_fab(i, j - 3, k, Idx::Atilde_LL_01) - 5.0/16.0*state_fab(i, j, k, Idx::Atilde_LL_01))/dx[1] + ((15.0/64.0)*state_fab(i + 1, j, k, Idx::Atilde_LL_01) - 3.0/32.0*state_fab(i + 2, j, k, Idx::Atilde_LL_01) + (1.0/64.0)*state_fab(i + 3, j, k, Idx::Atilde_LL_01) + (15.0/64.0)*state_fab(i - 1, j, k, Idx::Atilde_LL_01) - 3.0/32.0*state_fab(i - 2, j, k, Idx::Atilde_LL_01) + (1.0/64.0)*state_fab(i - 3, j, k, Idx::Atilde_LL_01) - 5.0/16.0*state_fab(i, j, k, Idx::Atilde_LL_01))/dx[0];\n",
      "        amrex::Real dKODAtilde_LL_02 = ((15.0/64.0)*state_fab(i, j, k + 1, Idx::Atilde_LL_02) - 3.0/32.0*state_fab(i, j, k + 2, Idx::Atilde_LL_02) + (1.0/64.0)*state_fab(i, j, k + 3, Idx::Atilde_LL_02) + (15.0/64.0)*state_fab(i, j, k - 1, Idx::Atilde_LL_02) - 3.0/32.0*state_fab(i, j, k - 2, Idx::Atilde_LL_02) + (1.0/64.0)*state_fab(i, j, k - 3, Idx::Atilde_LL_02) - 5.0/16.0*state_fab(i, j, k, Idx::Atilde_LL_02))/dx[2] + ((15.0/64.0)*state_fab(i, j + 1, k, Idx::Atilde_LL_02) - 3.0/32.0*state_fab(i, j + 2, k, Idx::Atilde_LL_02) + (1.0/64.0)*state_fab(i, j + 3, k, Idx::Atilde_LL_02) + (15.0/64.0)*state_fab(i, j - 1, k, Idx::Atilde_LL_02) - 3.0/32.0*state_fab(i, j - 2, k, Idx::Atilde_LL_02) + (1.0/64.0)*state_fab(i, j - 3, k, Idx::Atilde_LL_02) - 5.0/16.0*state_fab(i, j, k, Idx::Atilde_LL_02))/dx[1] + ((15.0/64.0)*state_fab(i + 1, j, k, Idx::Atilde_LL_02) - 3.0/32.0*state_fab(i + 2, j, k, Idx::Atilde_LL_02) + (1.0/64.0)*state_fab(i + 3, j, k, Idx::Atilde_LL_02) + (15.0/64.0)*state_fab(i - 1, j, k, Idx::Atilde_LL_02) - 3.0/32.0*state_fab(i - 2, j, k, Idx::Atilde_LL_02) + (1.0/64.0)*state_fab(i - 3, j, k, Idx::Atilde_LL_02) - 5.0/16.0*state_fab(i, j, k, Idx::Atilde_LL_02))/dx[0];\n",
      "        amrex::Real dKODAtilde_LL_11 = ((15.0/64.0)*state_fab(i, j, k + 1, Idx::Atilde_LL_11) - 3.0/32.0*state_fab(i, j, k + 2, Idx::Atilde_LL_11) + (1.0/64.0)*state_fab(i, j, k + 3, Idx::Atilde_LL_11) + (15.0/64.0)*state_fab(i, j, k - 1, Idx::Atilde_LL_11) - 3.0/32.0*state_fab(i, j, k - 2, Idx::Atilde_LL_11) + (1.0/64.0)*state_fab(i, j, k - 3, Idx::Atilde_LL_11) - 5.0/16.0*state_fab(i, j, k, Idx::Atilde_LL_11))/dx[2] + ((15.0/64.0)*state_fab(i, j + 1, k, Idx::Atilde_LL_11) - 3.0/32.0*state_fab(i, j + 2, k, Idx::Atilde_LL_11) + (1.0/64.0)*state_fab(i, j + 3, k, Idx::Atilde_LL_11) + (15.0/64.0)*state_fab(i, j - 1, k, Idx::Atilde_LL_11) - 3.0/32.0*state_fab(i, j - 2, k, Idx::Atilde_LL_11) + (1.0/64.0)*state_fab(i, j - 3, k, Idx::Atilde_LL_11) - 5.0/16.0*state_fab(i, j, k, Idx::Atilde_LL_11))/dx[1] + ((15.0/64.0)*state_fab(i + 1, j, k, Idx::Atilde_LL_11) - 3.0/32.0*state_fab(i + 2, j, k, Idx::Atilde_LL_11) + (1.0/64.0)*state_fab(i + 3, j, k, Idx::Atilde_LL_11) + (15.0/64.0)*state_fab(i - 1, j, k, Idx::Atilde_LL_11) - 3.0/32.0*state_fab(i - 2, j, k, Idx::Atilde_LL_11) + (1.0/64.0)*state_fab(i - 3, j, k, Idx::Atilde_LL_11) - 5.0/16.0*state_fab(i, j, k, Idx::Atilde_LL_11))/dx[0];\n",
      "        amrex::Real dKODAtilde_LL_12 = ((15.0/64.0)*state_fab(i, j, k + 1, Idx::Atilde_LL_12) - 3.0/32.0*state_fab(i, j, k + 2, Idx::Atilde_LL_12) + (1.0/64.0)*state_fab(i, j, k + 3, Idx::Atilde_LL_12) + (15.0/64.0)*state_fab(i, j, k - 1, Idx::Atilde_LL_12) - 3.0/32.0*state_fab(i, j, k - 2, Idx::Atilde_LL_12) + (1.0/64.0)*state_fab(i, j, k - 3, Idx::Atilde_LL_12) - 5.0/16.0*state_fab(i, j, k, Idx::Atilde_LL_12))/dx[2] + ((15.0/64.0)*state_fab(i, j + 1, k, Idx::Atilde_LL_12) - 3.0/32.0*state_fab(i, j + 2, k, Idx::Atilde_LL_12) + (1.0/64.0)*state_fab(i, j + 3, k, Idx::Atilde_LL_12) + (15.0/64.0)*state_fab(i, j - 1, k, Idx::Atilde_LL_12) - 3.0/32.0*state_fab(i, j - 2, k, Idx::Atilde_LL_12) + (1.0/64.0)*state_fab(i, j - 3, k, Idx::Atilde_LL_12) - 5.0/16.0*state_fab(i, j, k, Idx::Atilde_LL_12))/dx[1] + ((15.0/64.0)*state_fab(i + 1, j, k, Idx::Atilde_LL_12) - 3.0/32.0*state_fab(i + 2, j, k, Idx::Atilde_LL_12) + (1.0/64.0)*state_fab(i + 3, j, k, Idx::Atilde_LL_12) + (15.0/64.0)*state_fab(i - 1, j, k, Idx::Atilde_LL_12) - 3.0/32.0*state_fab(i - 2, j, k, Idx::Atilde_LL_12) + (1.0/64.0)*state_fab(i - 3, j, k, Idx::Atilde_LL_12) - 5.0/16.0*state_fab(i, j, k, Idx::Atilde_LL_12))/dx[0];\n",
      "        amrex::Real dKODAtilde_LL_22 = ((15.0/64.0)*state_fab(i, j, k + 1, Idx::Atilde_LL_22) - 3.0/32.0*state_fab(i, j, k + 2, Idx::Atilde_LL_22) + (1.0/64.0)*state_fab(i, j, k + 3, Idx::Atilde_LL_22) + (15.0/64.0)*state_fab(i, j, k - 1, Idx::Atilde_LL_22) - 3.0/32.0*state_fab(i, j, k - 2, Idx::Atilde_LL_22) + (1.0/64.0)*state_fab(i, j, k - 3, Idx::Atilde_LL_22) - 5.0/16.0*state_fab(i, j, k, Idx::Atilde_LL_22))/dx[2] + ((15.0/64.0)*state_fab(i, j + 1, k, Idx::Atilde_LL_22) - 3.0/32.0*state_fab(i, j + 2, k, Idx::Atilde_LL_22) + (1.0/64.0)*state_fab(i, j + 3, k, Idx::Atilde_LL_22) + (15.0/64.0)*state_fab(i, j - 1, k, Idx::Atilde_LL_22) - 3.0/32.0*state_fab(i, j - 2, k, Idx::Atilde_LL_22) + (1.0/64.0)*state_fab(i, j - 3, k, Idx::Atilde_LL_22) - 5.0/16.0*state_fab(i, j, k, Idx::Atilde_LL_22))/dx[1] + ((15.0/64.0)*state_fab(i + 1, j, k, Idx::Atilde_LL_22) - 3.0/32.0*state_fab(i + 2, j, k, Idx::Atilde_LL_22) + (1.0/64.0)*state_fab(i + 3, j, k, Idx::Atilde_LL_22) + (15.0/64.0)*state_fab(i - 1, j, k, Idx::Atilde_LL_22) - 3.0/32.0*state_fab(i - 2, j, k, Idx::Atilde_LL_22) + (1.0/64.0)*state_fab(i - 3, j, k, Idx::Atilde_LL_22) - 5.0/16.0*state_fab(i, j, k, Idx::Atilde_LL_22))/dx[0];\n",
      "\n",
      "        amrex::Real AdvDbetaAtilde_LL_00 = beta_U_0*(ddnDAtilde_LLL_000*(beta_U_0 < 0) + dupDAtilde_LLL_000*(beta_U_0 > 0)) + beta_U_1*(ddnDAtilde_LLL_001*(beta_U_1 < 0) + dupDAtilde_LLL_001*(beta_U_1 > 0)) + beta_U_2*(ddnDAtilde_LLL_002*(beta_U_2 < 0) + dupDAtilde_LLL_002*(beta_U_2 > 0));\n",
      "        amrex::Real AdvDbetaAtilde_LL_01 = beta_U_0*(ddnDAtilde_LLL_010*(beta_U_0 < 0) + dupDAtilde_LLL_010*(beta_U_0 > 0)) + beta_U_1*(ddnDAtilde_LLL_011*(beta_U_1 < 0) + dupDAtilde_LLL_011*(beta_U_1 > 0)) + beta_U_2*(ddnDAtilde_LLL_012*(beta_U_2 < 0) + dupDAtilde_LLL_012*(beta_U_2 > 0));\n",
      "        amrex::Real AdvDbetaAtilde_LL_02 = beta_U_0*(ddnDAtilde_LLL_020*(beta_U_0 < 0) + dupDAtilde_LLL_020*(beta_U_0 > 0)) + beta_U_1*(ddnDAtilde_LLL_021*(beta_U_1 < 0) + dupDAtilde_LLL_021*(beta_U_1 > 0)) + beta_U_2*(ddnDAtilde_LLL_022*(beta_U_2 < 0) + dupDAtilde_LLL_022*(beta_U_2 > 0));\n",
      "        amrex::Real AdvDbetaAtilde_LL_11 = beta_U_0*(ddnDAtilde_LLL_110*(beta_U_0 < 0) + dupDAtilde_LLL_110*(beta_U_0 > 0)) + beta_U_1*(ddnDAtilde_LLL_111*(beta_U_1 < 0) + dupDAtilde_LLL_111*(beta_U_1 > 0)) + beta_U_2*(ddnDAtilde_LLL_112*(beta_U_2 < 0) + dupDAtilde_LLL_112*(beta_U_2 > 0));\n",
      "        amrex::Real AdvDbetaAtilde_LL_12 = beta_U_0*(ddnDAtilde_LLL_120*(beta_U_0 < 0) + dupDAtilde_LLL_120*(beta_U_0 > 0)) + beta_U_1*(ddnDAtilde_LLL_121*(beta_U_1 < 0) + dupDAtilde_LLL_121*(beta_U_1 > 0)) + beta_U_2*(ddnDAtilde_LLL_122*(beta_U_2 < 0) + dupDAtilde_LLL_122*(beta_U_2 > 0));\n",
      "        amrex::Real AdvDbetaAtilde_LL_22 = beta_U_0*(ddnDAtilde_LLL_220*(beta_U_0 < 0) + dupDAtilde_LLL_220*(beta_U_0 > 0)) + beta_U_1*(ddnDAtilde_LLL_221*(beta_U_1 < 0) + dupDAtilde_LLL_221*(beta_U_1 > 0)) + beta_U_2*(ddnDAtilde_LLL_222*(beta_U_2 < 0) + dupDAtilde_LLL_222*(beta_U_2 > 0));\n",
      "\n",
      "        amrex::Real dDtheta_L_0 = ((2.0/3.0)*state_fab(i + 1, j, k, Idx::theta) - 1.0/12.0*state_fab(i + 2, j, k, Idx::theta) - 2.0/3.0*state_fab(i - 1, j, k, Idx::theta) + (1.0/12.0)*state_fab(i - 2, j, k, Idx::theta))/dx[0];\n",
      "        amrex::Real dDtheta_L_1 = ((2.0/3.0)*state_fab(i, j + 1, k, Idx::theta) - 1.0/12.0*state_fab(i, j + 2, k, Idx::theta) - 2.0/3.0*state_fab(i, j - 1, k, Idx::theta) + (1.0/12.0)*state_fab(i, j - 2, k, Idx::theta))/dx[1];\n",
      "        amrex::Real dDtheta_L_2 = ((2.0/3.0)*state_fab(i, j, k + 1, Idx::theta) - 1.0/12.0*state_fab(i, j, k + 2, Idx::theta) - 2.0/3.0*state_fab(i, j, k - 1, Idx::theta) + (1.0/12.0)*state_fab(i, j, k - 2, Idx::theta))/dx[2];\n",
      "\n",
      "        amrex::Real dupDtheta_L_0 = ((3.0/2.0)*state_fab(i + 1, j, k, Idx::theta) - 1.0/2.0*state_fab(i + 2, j, k, Idx::theta) + (1.0/12.0)*state_fab(i + 3, j, k, Idx::theta) - 1.0/4.0*state_fab(i - 1, j, k, Idx::theta) - 5.0/6.0*state_fab(i, j, k, Idx::theta))/dx[0];\n",
      "        amrex::Real dupDtheta_L_1 = ((3.0/2.0)*state_fab(i, j + 1, k, Idx::theta) - 1.0/2.0*state_fab(i, j + 2, k, Idx::theta) + (1.0/12.0)*state_fab(i, j + 3, k, Idx::theta) - 1.0/4.0*state_fab(i, j - 1, k, Idx::theta) - 5.0/6.0*state_fab(i, j, k, Idx::theta))/dx[1];\n",
      "        amrex::Real dupDtheta_L_2 = ((3.0/2.0)*state_fab(i, j, k + 1, Idx::theta) - 1.0/2.0*state_fab(i, j, k + 2, Idx::theta) + (1.0/12.0)*state_fab(i, j, k + 3, Idx::theta) - 1.0/4.0*state_fab(i, j, k - 1, Idx::theta) - 5.0/6.0*state_fab(i, j, k, Idx::theta))/dx[2];\n",
      "\n",
      "        amrex::Real ddnDtheta_L_0 = ((1.0/4.0)*state_fab(i + 1, j, k, Idx::theta) - 3.0/2.0*state_fab(i - 1, j, k, Idx::theta) + (1.0/2.0)*state_fab(i - 2, j, k, Idx::theta) - 1.0/12.0*state_fab(i - 3, j, k, Idx::theta) + (5.0/6.0)*state_fab(i, j, k, Idx::theta))/dx[0];\n",
      "        amrex::Real ddnDtheta_L_1 = ((1.0/4.0)*state_fab(i, j + 1, k, Idx::theta) - 3.0/2.0*state_fab(i, j - 1, k, Idx::theta) + (1.0/2.0)*state_fab(i, j - 2, k, Idx::theta) - 1.0/12.0*state_fab(i, j - 3, k, Idx::theta) + (5.0/6.0)*state_fab(i, j, k, Idx::theta))/dx[1];\n",
      "        amrex::Real ddnDtheta_L_2 = ((1.0/4.0)*state_fab(i, j, k + 1, Idx::theta) - 3.0/2.0*state_fab(i, j, k - 1, Idx::theta) + (1.0/2.0)*state_fab(i, j, k - 2, Idx::theta) - 1.0/12.0*state_fab(i, j, k - 3, Idx::theta) + (5.0/6.0)*state_fab(i, j, k, Idx::theta))/dx[2];\n",
      "\n",
      "        amrex::Real dDDtheta_LL_00 = ((4.0/3.0)*state_fab(i + 1, j, k, Idx::theta) - 1.0/12.0*state_fab(i + 2, j, k, Idx::theta) + (4.0/3.0)*state_fab(i - 1, j, k, Idx::theta) - 1.0/12.0*state_fab(i - 2, j, k, Idx::theta) - 5.0/2.0*state_fab(i, j, k, Idx::theta))/std::pow(dx[0], 2);\n",
      "        amrex::Real dDDtheta_LL_01 = ((4.0/9.0)*state_fab(i + 1, j + 1, k, Idx::theta) - 1.0/18.0*state_fab(i + 1, j + 2, k, Idx::theta) - 4.0/9.0*state_fab(i + 1, j - 1, k, Idx::theta) + (1.0/18.0)*state_fab(i + 1, j - 2, k, Idx::theta) - 1.0/18.0*state_fab(i + 2, j + 1, k, Idx::theta) + (1.0/144.0)*state_fab(i + 2, j + 2, k, Idx::theta) + (1.0/18.0)*state_fab(i + 2, j - 1, k, Idx::theta) - 1.0/144.0*state_fab(i + 2, j - 2, k, Idx::theta) - 4.0/9.0*state_fab(i - 1, j + 1, k, Idx::theta) + (1.0/18.0)*state_fab(i - 1, j + 2, k, Idx::theta) + (4.0/9.0)*state_fab(i - 1, j - 1, k, Idx::theta) - 1.0/18.0*state_fab(i - 1, j - 2, k, Idx::theta) + (1.0/18.0)*state_fab(i - 2, j + 1, k, Idx::theta) - 1.0/144.0*state_fab(i - 2, j + 2, k, Idx::theta) - 1.0/18.0*state_fab(i - 2, j - 1, k, Idx::theta) + (1.0/144.0)*state_fab(i - 2, j - 2, k, Idx::theta))/(dx[0]*dx[1]);\n",
      "        amrex::Real dDDtheta_LL_02 = ((4.0/9.0)*state_fab(i + 1, j, k + 1, Idx::theta) - 1.0/18.0*state_fab(i + 1, j, k + 2, Idx::theta) - 4.0/9.0*state_fab(i + 1, j, k - 1, Idx::theta) + (1.0/18.0)*state_fab(i + 1, j, k - 2, Idx::theta) - 1.0/18.0*state_fab(i + 2, j, k + 1, Idx::theta) + (1.0/144.0)*state_fab(i + 2, j, k + 2, Idx::theta) + (1.0/18.0)*state_fab(i + 2, j, k - 1, Idx::theta) - 1.0/144.0*state_fab(i + 2, j, k - 2, Idx::theta) - 4.0/9.0*state_fab(i - 1, j, k + 1, Idx::theta) + (1.0/18.0)*state_fab(i - 1, j, k + 2, Idx::theta) + (4.0/9.0)*state_fab(i - 1, j, k - 1, Idx::theta) - 1.0/18.0*state_fab(i - 1, j, k - 2, Idx::theta) + (1.0/18.0)*state_fab(i - 2, j, k + 1, Idx::theta) - 1.0/144.0*state_fab(i - 2, j, k + 2, Idx::theta) - 1.0/18.0*state_fab(i - 2, j, k - 1, Idx::theta) + (1.0/144.0)*state_fab(i - 2, j, k - 2, Idx::theta))/(dx[0]*dx[2]);\n",
      "        amrex::Real dDDtheta_LL_11 = ((4.0/3.0)*state_fab(i, j + 1, k, Idx::theta) - 1.0/12.0*state_fab(i, j + 2, k, Idx::theta) + (4.0/3.0)*state_fab(i, j - 1, k, Idx::theta) - 1.0/12.0*state_fab(i, j - 2, k, Idx::theta) - 5.0/2.0*state_fab(i, j, k, Idx::theta))/std::pow(dx[1], 2);\n",
      "        amrex::Real dDDtheta_LL_12 = ((4.0/9.0)*state_fab(i, j + 1, k + 1, Idx::theta) - 1.0/18.0*state_fab(i, j + 1, k + 2, Idx::theta) - 4.0/9.0*state_fab(i, j + 1, k - 1, Idx::theta) + (1.0/18.0)*state_fab(i, j + 1, k - 2, Idx::theta) - 1.0/18.0*state_fab(i, j + 2, k + 1, Idx::theta) + (1.0/144.0)*state_fab(i, j + 2, k + 2, Idx::theta) + (1.0/18.0)*state_fab(i, j + 2, k - 1, Idx::theta) - 1.0/144.0*state_fab(i, j + 2, k - 2, Idx::theta) - 4.0/9.0*state_fab(i, j - 1, k + 1, Idx::theta) + (1.0/18.0)*state_fab(i, j - 1, k + 2, Idx::theta) + (4.0/9.0)*state_fab(i, j - 1, k - 1, Idx::theta) - 1.0/18.0*state_fab(i, j - 1, k - 2, Idx::theta) + (1.0/18.0)*state_fab(i, j - 2, k + 1, Idx::theta) - 1.0/144.0*state_fab(i, j - 2, k + 2, Idx::theta) - 1.0/18.0*state_fab(i, j - 2, k - 1, Idx::theta) + (1.0/144.0)*state_fab(i, j - 2, k - 2, Idx::theta))/(dx[1]*dx[2]);\n",
      "        amrex::Real dDDtheta_LL_22 = ((4.0/3.0)*state_fab(i, j, k + 1, Idx::theta) - 1.0/12.0*state_fab(i, j, k + 2, Idx::theta) + (4.0/3.0)*state_fab(i, j, k - 1, Idx::theta) - 1.0/12.0*state_fab(i, j, k - 2, Idx::theta) - 5.0/2.0*state_fab(i, j, k, Idx::theta))/std::pow(dx[2], 2);\n",
      "\n",
      "        amrex::Real dKODtheta = ((15.0/64.0)*state_fab(i, j, k + 1, Idx::theta) - 3.0/32.0*state_fab(i, j, k + 2, Idx::theta) + (1.0/64.0)*state_fab(i, j, k + 3, Idx::theta) + (15.0/64.0)*state_fab(i, j, k - 1, Idx::theta) - 3.0/32.0*state_fab(i, j, k - 2, Idx::theta) + (1.0/64.0)*state_fab(i, j, k - 3, Idx::theta) - 5.0/16.0*state_fab(i, j, k, Idx::theta))/dx[2] + ((15.0/64.0)*state_fab(i, j + 1, k, Idx::theta) - 3.0/32.0*state_fab(i, j + 2, k, Idx::theta) + (1.0/64.0)*state_fab(i, j + 3, k, Idx::theta) + (15.0/64.0)*state_fab(i, j - 1, k, Idx::theta) - 3.0/32.0*state_fab(i, j - 2, k, Idx::theta) + (1.0/64.0)*state_fab(i, j - 3, k, Idx::theta) - 5.0/16.0*state_fab(i, j, k, Idx::theta))/dx[1] + ((15.0/64.0)*state_fab(i + 1, j, k, Idx::theta) - 3.0/32.0*state_fab(i + 2, j, k, Idx::theta) + (1.0/64.0)*state_fab(i + 3, j, k, Idx::theta) + (15.0/64.0)*state_fab(i - 1, j, k, Idx::theta) - 3.0/32.0*state_fab(i - 2, j, k, Idx::theta) + (1.0/64.0)*state_fab(i - 3, j, k, Idx::theta) - 5.0/16.0*state_fab(i, j, k, Idx::theta))/dx[0];\n",
      "\n",
      "        amrex::Real AdvDbetatheta = beta_U_0*(ddnDtheta_L_0*(beta_U_0 < 0) + dupDtheta_L_0*(beta_U_0 > 0)) + beta_U_1*(ddnDtheta_L_1*(beta_U_1 < 0) + dupDtheta_L_1*(beta_U_1 > 0)) + beta_U_2*(ddnDtheta_L_2*(beta_U_2 < 0) + dupDtheta_L_2*(beta_U_2 > 0));\n",
      "\n",
      "        amrex::Real dDGamtilde_UL_00 = ((2.0/3.0)*state_fab(i + 1, j, k, Idx::Gamtilde_U_0) - 1.0/12.0*state_fab(i + 2, j, k, Idx::Gamtilde_U_0) - 2.0/3.0*state_fab(i - 1, j, k, Idx::Gamtilde_U_0) + (1.0/12.0)*state_fab(i - 2, j, k, Idx::Gamtilde_U_0))/dx[0];\n",
      "        amrex::Real dDGamtilde_UL_01 = ((2.0/3.0)*state_fab(i, j + 1, k, Idx::Gamtilde_U_0) - 1.0/12.0*state_fab(i, j + 2, k, Idx::Gamtilde_U_0) - 2.0/3.0*state_fab(i, j - 1, k, Idx::Gamtilde_U_0) + (1.0/12.0)*state_fab(i, j - 2, k, Idx::Gamtilde_U_0))/dx[1];\n",
      "        amrex::Real dDGamtilde_UL_02 = ((2.0/3.0)*state_fab(i, j, k + 1, Idx::Gamtilde_U_0) - 1.0/12.0*state_fab(i, j, k + 2, Idx::Gamtilde_U_0) - 2.0/3.0*state_fab(i, j, k - 1, Idx::Gamtilde_U_0) + (1.0/12.0)*state_fab(i, j, k - 2, Idx::Gamtilde_U_0))/dx[2];\n",
      "        amrex::Real dDGamtilde_UL_10 = ((2.0/3.0)*state_fab(i + 1, j, k, Idx::Gamtilde_U_1) - 1.0/12.0*state_fab(i + 2, j, k, Idx::Gamtilde_U_1) - 2.0/3.0*state_fab(i - 1, j, k, Idx::Gamtilde_U_1) + (1.0/12.0)*state_fab(i - 2, j, k, Idx::Gamtilde_U_1))/dx[0];\n",
      "        amrex::Real dDGamtilde_UL_11 = ((2.0/3.0)*state_fab(i, j + 1, k, Idx::Gamtilde_U_1) - 1.0/12.0*state_fab(i, j + 2, k, Idx::Gamtilde_U_1) - 2.0/3.0*state_fab(i, j - 1, k, Idx::Gamtilde_U_1) + (1.0/12.0)*state_fab(i, j - 2, k, Idx::Gamtilde_U_1))/dx[1];\n",
      "        amrex::Real dDGamtilde_UL_12 = ((2.0/3.0)*state_fab(i, j, k + 1, Idx::Gamtilde_U_1) - 1.0/12.0*state_fab(i, j, k + 2, Idx::Gamtilde_U_1) - 2.0/3.0*state_fab(i, j, k - 1, Idx::Gamtilde_U_1) + (1.0/12.0)*state_fab(i, j, k - 2, Idx::Gamtilde_U_1))/dx[2];\n",
      "        amrex::Real dDGamtilde_UL_20 = ((2.0/3.0)*state_fab(i + 1, j, k, Idx::Gamtilde_U_2) - 1.0/12.0*state_fab(i + 2, j, k, Idx::Gamtilde_U_2) - 2.0/3.0*state_fab(i - 1, j, k, Idx::Gamtilde_U_2) + (1.0/12.0)*state_fab(i - 2, j, k, Idx::Gamtilde_U_2))/dx[0];\n",
      "        amrex::Real dDGamtilde_UL_21 = ((2.0/3.0)*state_fab(i, j + 1, k, Idx::Gamtilde_U_2) - 1.0/12.0*state_fab(i, j + 2, k, Idx::Gamtilde_U_2) - 2.0/3.0*state_fab(i, j - 1, k, Idx::Gamtilde_U_2) + (1.0/12.0)*state_fab(i, j - 2, k, Idx::Gamtilde_U_2))/dx[1];\n",
      "        amrex::Real dDGamtilde_UL_22 = ((2.0/3.0)*state_fab(i, j, k + 1, Idx::Gamtilde_U_2) - 1.0/12.0*state_fab(i, j, k + 2, Idx::Gamtilde_U_2) - 2.0/3.0*state_fab(i, j, k - 1, Idx::Gamtilde_U_2) + (1.0/12.0)*state_fab(i, j, k - 2, Idx::Gamtilde_U_2))/dx[2];\n",
      "\n",
      "        amrex::Real dupDGamtilde_UL_00 = ((3.0/2.0)*state_fab(i + 1, j, k, Idx::Gamtilde_U_0) - 1.0/2.0*state_fab(i + 2, j, k, Idx::Gamtilde_U_0) + (1.0/12.0)*state_fab(i + 3, j, k, Idx::Gamtilde_U_0) - 1.0/4.0*state_fab(i - 1, j, k, Idx::Gamtilde_U_0) - 5.0/6.0*state_fab(i, j, k, Idx::Gamtilde_U_0))/dx[0];\n",
      "        amrex::Real dupDGamtilde_UL_01 = ((3.0/2.0)*state_fab(i, j + 1, k, Idx::Gamtilde_U_0) - 1.0/2.0*state_fab(i, j + 2, k, Idx::Gamtilde_U_0) + (1.0/12.0)*state_fab(i, j + 3, k, Idx::Gamtilde_U_0) - 1.0/4.0*state_fab(i, j - 1, k, Idx::Gamtilde_U_0) - 5.0/6.0*state_fab(i, j, k, Idx::Gamtilde_U_0))/dx[1];\n",
      "        amrex::Real dupDGamtilde_UL_02 = ((3.0/2.0)*state_fab(i, j, k + 1, Idx::Gamtilde_U_0) - 1.0/2.0*state_fab(i, j, k + 2, Idx::Gamtilde_U_0) + (1.0/12.0)*state_fab(i, j, k + 3, Idx::Gamtilde_U_0) - 1.0/4.0*state_fab(i, j, k - 1, Idx::Gamtilde_U_0) - 5.0/6.0*state_fab(i, j, k, Idx::Gamtilde_U_0))/dx[2];\n",
      "        amrex::Real dupDGamtilde_UL_10 = ((3.0/2.0)*state_fab(i + 1, j, k, Idx::Gamtilde_U_1) - 1.0/2.0*state_fab(i + 2, j, k, Idx::Gamtilde_U_1) + (1.0/12.0)*state_fab(i + 3, j, k, Idx::Gamtilde_U_1) - 1.0/4.0*state_fab(i - 1, j, k, Idx::Gamtilde_U_1) - 5.0/6.0*state_fab(i, j, k, Idx::Gamtilde_U_1))/dx[0];\n",
      "        amrex::Real dupDGamtilde_UL_11 = ((3.0/2.0)*state_fab(i, j + 1, k, Idx::Gamtilde_U_1) - 1.0/2.0*state_fab(i, j + 2, k, Idx::Gamtilde_U_1) + (1.0/12.0)*state_fab(i, j + 3, k, Idx::Gamtilde_U_1) - 1.0/4.0*state_fab(i, j - 1, k, Idx::Gamtilde_U_1) - 5.0/6.0*state_fab(i, j, k, Idx::Gamtilde_U_1))/dx[1];\n",
      "        amrex::Real dupDGamtilde_UL_12 = ((3.0/2.0)*state_fab(i, j, k + 1, Idx::Gamtilde_U_1) - 1.0/2.0*state_fab(i, j, k + 2, Idx::Gamtilde_U_1) + (1.0/12.0)*state_fab(i, j, k + 3, Idx::Gamtilde_U_1) - 1.0/4.0*state_fab(i, j, k - 1, Idx::Gamtilde_U_1) - 5.0/6.0*state_fab(i, j, k, Idx::Gamtilde_U_1))/dx[2];\n",
      "        amrex::Real dupDGamtilde_UL_20 = ((3.0/2.0)*state_fab(i + 1, j, k, Idx::Gamtilde_U_2) - 1.0/2.0*state_fab(i + 2, j, k, Idx::Gamtilde_U_2) + (1.0/12.0)*state_fab(i + 3, j, k, Idx::Gamtilde_U_2) - 1.0/4.0*state_fab(i - 1, j, k, Idx::Gamtilde_U_2) - 5.0/6.0*state_fab(i, j, k, Idx::Gamtilde_U_2))/dx[0];\n",
      "        amrex::Real dupDGamtilde_UL_21 = ((3.0/2.0)*state_fab(i, j + 1, k, Idx::Gamtilde_U_2) - 1.0/2.0*state_fab(i, j + 2, k, Idx::Gamtilde_U_2) + (1.0/12.0)*state_fab(i, j + 3, k, Idx::Gamtilde_U_2) - 1.0/4.0*state_fab(i, j - 1, k, Idx::Gamtilde_U_2) - 5.0/6.0*state_fab(i, j, k, Idx::Gamtilde_U_2))/dx[1];\n",
      "        amrex::Real dupDGamtilde_UL_22 = ((3.0/2.0)*state_fab(i, j, k + 1, Idx::Gamtilde_U_2) - 1.0/2.0*state_fab(i, j, k + 2, Idx::Gamtilde_U_2) + (1.0/12.0)*state_fab(i, j, k + 3, Idx::Gamtilde_U_2) - 1.0/4.0*state_fab(i, j, k - 1, Idx::Gamtilde_U_2) - 5.0/6.0*state_fab(i, j, k, Idx::Gamtilde_U_2))/dx[2];\n",
      "\n",
      "        amrex::Real ddnDGamtilde_UL_00 = ((1.0/4.0)*state_fab(i + 1, j, k, Idx::Gamtilde_U_0) - 3.0/2.0*state_fab(i - 1, j, k, Idx::Gamtilde_U_0) + (1.0/2.0)*state_fab(i - 2, j, k, Idx::Gamtilde_U_0) - 1.0/12.0*state_fab(i - 3, j, k, Idx::Gamtilde_U_0) + (5.0/6.0)*state_fab(i, j, k, Idx::Gamtilde_U_0))/dx[0];\n",
      "        amrex::Real ddnDGamtilde_UL_01 = ((1.0/4.0)*state_fab(i, j + 1, k, Idx::Gamtilde_U_0) - 3.0/2.0*state_fab(i, j - 1, k, Idx::Gamtilde_U_0) + (1.0/2.0)*state_fab(i, j - 2, k, Idx::Gamtilde_U_0) - 1.0/12.0*state_fab(i, j - 3, k, Idx::Gamtilde_U_0) + (5.0/6.0)*state_fab(i, j, k, Idx::Gamtilde_U_0))/dx[1];\n",
      "        amrex::Real ddnDGamtilde_UL_02 = ((1.0/4.0)*state_fab(i, j, k + 1, Idx::Gamtilde_U_0) - 3.0/2.0*state_fab(i, j, k - 1, Idx::Gamtilde_U_0) + (1.0/2.0)*state_fab(i, j, k - 2, Idx::Gamtilde_U_0) - 1.0/12.0*state_fab(i, j, k - 3, Idx::Gamtilde_U_0) + (5.0/6.0)*state_fab(i, j, k, Idx::Gamtilde_U_0))/dx[2];\n",
      "        amrex::Real ddnDGamtilde_UL_10 = ((1.0/4.0)*state_fab(i + 1, j, k, Idx::Gamtilde_U_1) - 3.0/2.0*state_fab(i - 1, j, k, Idx::Gamtilde_U_1) + (1.0/2.0)*state_fab(i - 2, j, k, Idx::Gamtilde_U_1) - 1.0/12.0*state_fab(i - 3, j, k, Idx::Gamtilde_U_1) + (5.0/6.0)*state_fab(i, j, k, Idx::Gamtilde_U_1))/dx[0];\n",
      "        amrex::Real ddnDGamtilde_UL_11 = ((1.0/4.0)*state_fab(i, j + 1, k, Idx::Gamtilde_U_1) - 3.0/2.0*state_fab(i, j - 1, k, Idx::Gamtilde_U_1) + (1.0/2.0)*state_fab(i, j - 2, k, Idx::Gamtilde_U_1) - 1.0/12.0*state_fab(i, j - 3, k, Idx::Gamtilde_U_1) + (5.0/6.0)*state_fab(i, j, k, Idx::Gamtilde_U_1))/dx[1];\n",
      "        amrex::Real ddnDGamtilde_UL_12 = ((1.0/4.0)*state_fab(i, j, k + 1, Idx::Gamtilde_U_1) - 3.0/2.0*state_fab(i, j, k - 1, Idx::Gamtilde_U_1) + (1.0/2.0)*state_fab(i, j, k - 2, Idx::Gamtilde_U_1) - 1.0/12.0*state_fab(i, j, k - 3, Idx::Gamtilde_U_1) + (5.0/6.0)*state_fab(i, j, k, Idx::Gamtilde_U_1))/dx[2];\n",
      "        amrex::Real ddnDGamtilde_UL_20 = ((1.0/4.0)*state_fab(i + 1, j, k, Idx::Gamtilde_U_2) - 3.0/2.0*state_fab(i - 1, j, k, Idx::Gamtilde_U_2) + (1.0/2.0)*state_fab(i - 2, j, k, Idx::Gamtilde_U_2) - 1.0/12.0*state_fab(i - 3, j, k, Idx::Gamtilde_U_2) + (5.0/6.0)*state_fab(i, j, k, Idx::Gamtilde_U_2))/dx[0];\n",
      "        amrex::Real ddnDGamtilde_UL_21 = ((1.0/4.0)*state_fab(i, j + 1, k, Idx::Gamtilde_U_2) - 3.0/2.0*state_fab(i, j - 1, k, Idx::Gamtilde_U_2) + (1.0/2.0)*state_fab(i, j - 2, k, Idx::Gamtilde_U_2) - 1.0/12.0*state_fab(i, j - 3, k, Idx::Gamtilde_U_2) + (5.0/6.0)*state_fab(i, j, k, Idx::Gamtilde_U_2))/dx[1];\n",
      "        amrex::Real ddnDGamtilde_UL_22 = ((1.0/4.0)*state_fab(i, j, k + 1, Idx::Gamtilde_U_2) - 3.0/2.0*state_fab(i, j, k - 1, Idx::Gamtilde_U_2) + (1.0/2.0)*state_fab(i, j, k - 2, Idx::Gamtilde_U_2) - 1.0/12.0*state_fab(i, j, k - 3, Idx::Gamtilde_U_2) + (5.0/6.0)*state_fab(i, j, k, Idx::Gamtilde_U_2))/dx[2];\n",
      "\n",
      "        amrex::Real dDDGamtilde_ULL_000 = ((4.0/3.0)*state_fab(i + 1, j, k, Idx::Gamtilde_U_0) - 1.0/12.0*state_fab(i + 2, j, k, Idx::Gamtilde_U_0) + (4.0/3.0)*state_fab(i - 1, j, k, Idx::Gamtilde_U_0) - 1.0/12.0*state_fab(i - 2, j, k, Idx::Gamtilde_U_0) - 5.0/2.0*state_fab(i, j, k, Idx::Gamtilde_U_0))/std::pow(dx[0], 2);\n",
      "        amrex::Real dDDGamtilde_ULL_001 = ((4.0/9.0)*state_fab(i + 1, j + 1, k, Idx::Gamtilde_U_0) - 1.0/18.0*state_fab(i + 1, j + 2, k, Idx::Gamtilde_U_0) - 4.0/9.0*state_fab(i + 1, j - 1, k, Idx::Gamtilde_U_0) + (1.0/18.0)*state_fab(i + 1, j - 2, k, Idx::Gamtilde_U_0) - 1.0/18.0*state_fab(i + 2, j + 1, k, Idx::Gamtilde_U_0) + (1.0/144.0)*state_fab(i + 2, j + 2, k, Idx::Gamtilde_U_0) + (1.0/18.0)*state_fab(i + 2, j - 1, k, Idx::Gamtilde_U_0) - 1.0/144.0*state_fab(i + 2, j - 2, k, Idx::Gamtilde_U_0) - 4.0/9.0*state_fab(i - 1, j + 1, k, Idx::Gamtilde_U_0) + (1.0/18.0)*state_fab(i - 1, j + 2, k, Idx::Gamtilde_U_0) + (4.0/9.0)*state_fab(i - 1, j - 1, k, Idx::Gamtilde_U_0) - 1.0/18.0*state_fab(i - 1, j - 2, k, Idx::Gamtilde_U_0) + (1.0/18.0)*state_fab(i - 2, j + 1, k, Idx::Gamtilde_U_0) - 1.0/144.0*state_fab(i - 2, j + 2, k, Idx::Gamtilde_U_0) - 1.0/18.0*state_fab(i - 2, j - 1, k, Idx::Gamtilde_U_0) + (1.0/144.0)*state_fab(i - 2, j - 2, k, Idx::Gamtilde_U_0))/(dx[0]*dx[1]);\n",
      "        amrex::Real dDDGamtilde_ULL_002 = ((4.0/9.0)*state_fab(i + 1, j, k + 1, Idx::Gamtilde_U_0) - 1.0/18.0*state_fab(i + 1, j, k + 2, Idx::Gamtilde_U_0) - 4.0/9.0*state_fab(i + 1, j, k - 1, Idx::Gamtilde_U_0) + (1.0/18.0)*state_fab(i + 1, j, k - 2, Idx::Gamtilde_U_0) - 1.0/18.0*state_fab(i + 2, j, k + 1, Idx::Gamtilde_U_0) + (1.0/144.0)*state_fab(i + 2, j, k + 2, Idx::Gamtilde_U_0) + (1.0/18.0)*state_fab(i + 2, j, k - 1, Idx::Gamtilde_U_0) - 1.0/144.0*state_fab(i + 2, j, k - 2, Idx::Gamtilde_U_0) - 4.0/9.0*state_fab(i - 1, j, k + 1, Idx::Gamtilde_U_0) + (1.0/18.0)*state_fab(i - 1, j, k + 2, Idx::Gamtilde_U_0) + (4.0/9.0)*state_fab(i - 1, j, k - 1, Idx::Gamtilde_U_0) - 1.0/18.0*state_fab(i - 1, j, k - 2, Idx::Gamtilde_U_0) + (1.0/18.0)*state_fab(i - 2, j, k + 1, Idx::Gamtilde_U_0) - 1.0/144.0*state_fab(i - 2, j, k + 2, Idx::Gamtilde_U_0) - 1.0/18.0*state_fab(i - 2, j, k - 1, Idx::Gamtilde_U_0) + (1.0/144.0)*state_fab(i - 2, j, k - 2, Idx::Gamtilde_U_0))/(dx[0]*dx[2]);\n",
      "        amrex::Real dDDGamtilde_ULL_011 = ((4.0/3.0)*state_fab(i, j + 1, k, Idx::Gamtilde_U_0) - 1.0/12.0*state_fab(i, j + 2, k, Idx::Gamtilde_U_0) + (4.0/3.0)*state_fab(i, j - 1, k, Idx::Gamtilde_U_0) - 1.0/12.0*state_fab(i, j - 2, k, Idx::Gamtilde_U_0) - 5.0/2.0*state_fab(i, j, k, Idx::Gamtilde_U_0))/std::pow(dx[1], 2);\n",
      "        amrex::Real dDDGamtilde_ULL_012 = ((4.0/9.0)*state_fab(i, j + 1, k + 1, Idx::Gamtilde_U_0) - 1.0/18.0*state_fab(i, j + 1, k + 2, Idx::Gamtilde_U_0) - 4.0/9.0*state_fab(i, j + 1, k - 1, Idx::Gamtilde_U_0) + (1.0/18.0)*state_fab(i, j + 1, k - 2, Idx::Gamtilde_U_0) - 1.0/18.0*state_fab(i, j + 2, k + 1, Idx::Gamtilde_U_0) + (1.0/144.0)*state_fab(i, j + 2, k + 2, Idx::Gamtilde_U_0) + (1.0/18.0)*state_fab(i, j + 2, k - 1, Idx::Gamtilde_U_0) - 1.0/144.0*state_fab(i, j + 2, k - 2, Idx::Gamtilde_U_0) - 4.0/9.0*state_fab(i, j - 1, k + 1, Idx::Gamtilde_U_0) + (1.0/18.0)*state_fab(i, j - 1, k + 2, Idx::Gamtilde_U_0) + (4.0/9.0)*state_fab(i, j - 1, k - 1, Idx::Gamtilde_U_0) - 1.0/18.0*state_fab(i, j - 1, k - 2, Idx::Gamtilde_U_0) + (1.0/18.0)*state_fab(i, j - 2, k + 1, Idx::Gamtilde_U_0) - 1.0/144.0*state_fab(i, j - 2, k + 2, Idx::Gamtilde_U_0) - 1.0/18.0*state_fab(i, j - 2, k - 1, Idx::Gamtilde_U_0) + (1.0/144.0)*state_fab(i, j - 2, k - 2, Idx::Gamtilde_U_0))/(dx[1]*dx[2]);\n",
      "        amrex::Real dDDGamtilde_ULL_022 = ((4.0/3.0)*state_fab(i, j, k + 1, Idx::Gamtilde_U_0) - 1.0/12.0*state_fab(i, j, k + 2, Idx::Gamtilde_U_0) + (4.0/3.0)*state_fab(i, j, k - 1, Idx::Gamtilde_U_0) - 1.0/12.0*state_fab(i, j, k - 2, Idx::Gamtilde_U_0) - 5.0/2.0*state_fab(i, j, k, Idx::Gamtilde_U_0))/std::pow(dx[2], 2);\n",
      "        amrex::Real dDDGamtilde_ULL_100 = ((4.0/3.0)*state_fab(i + 1, j, k, Idx::Gamtilde_U_1) - 1.0/12.0*state_fab(i + 2, j, k, Idx::Gamtilde_U_1) + (4.0/3.0)*state_fab(i - 1, j, k, Idx::Gamtilde_U_1) - 1.0/12.0*state_fab(i - 2, j, k, Idx::Gamtilde_U_1) - 5.0/2.0*state_fab(i, j, k, Idx::Gamtilde_U_1))/std::pow(dx[0], 2);\n",
      "        amrex::Real dDDGamtilde_ULL_101 = ((4.0/9.0)*state_fab(i + 1, j + 1, k, Idx::Gamtilde_U_1) - 1.0/18.0*state_fab(i + 1, j + 2, k, Idx::Gamtilde_U_1) - 4.0/9.0*state_fab(i + 1, j - 1, k, Idx::Gamtilde_U_1) + (1.0/18.0)*state_fab(i + 1, j - 2, k, Idx::Gamtilde_U_1) - 1.0/18.0*state_fab(i + 2, j + 1, k, Idx::Gamtilde_U_1) + (1.0/144.0)*state_fab(i + 2, j + 2, k, Idx::Gamtilde_U_1) + (1.0/18.0)*state_fab(i + 2, j - 1, k, Idx::Gamtilde_U_1) - 1.0/144.0*state_fab(i + 2, j - 2, k, Idx::Gamtilde_U_1) - 4.0/9.0*state_fab(i - 1, j + 1, k, Idx::Gamtilde_U_1) + (1.0/18.0)*state_fab(i - 1, j + 2, k, Idx::Gamtilde_U_1) + (4.0/9.0)*state_fab(i - 1, j - 1, k, Idx::Gamtilde_U_1) - 1.0/18.0*state_fab(i - 1, j - 2, k, Idx::Gamtilde_U_1) + (1.0/18.0)*state_fab(i - 2, j + 1, k, Idx::Gamtilde_U_1) - 1.0/144.0*state_fab(i - 2, j + 2, k, Idx::Gamtilde_U_1) - 1.0/18.0*state_fab(i - 2, j - 1, k, Idx::Gamtilde_U_1) + (1.0/144.0)*state_fab(i - 2, j - 2, k, Idx::Gamtilde_U_1))/(dx[0]*dx[1]);\n",
      "        amrex::Real dDDGamtilde_ULL_102 = ((4.0/9.0)*state_fab(i + 1, j, k + 1, Idx::Gamtilde_U_1) - 1.0/18.0*state_fab(i + 1, j, k + 2, Idx::Gamtilde_U_1) - 4.0/9.0*state_fab(i + 1, j, k - 1, Idx::Gamtilde_U_1) + (1.0/18.0)*state_fab(i + 1, j, k - 2, Idx::Gamtilde_U_1) - 1.0/18.0*state_fab(i + 2, j, k + 1, Idx::Gamtilde_U_1) + (1.0/144.0)*state_fab(i + 2, j, k + 2, Idx::Gamtilde_U_1) + (1.0/18.0)*state_fab(i + 2, j, k - 1, Idx::Gamtilde_U_1) - 1.0/144.0*state_fab(i + 2, j, k - 2, Idx::Gamtilde_U_1) - 4.0/9.0*state_fab(i - 1, j, k + 1, Idx::Gamtilde_U_1) + (1.0/18.0)*state_fab(i - 1, j, k + 2, Idx::Gamtilde_U_1) + (4.0/9.0)*state_fab(i - 1, j, k - 1, Idx::Gamtilde_U_1) - 1.0/18.0*state_fab(i - 1, j, k - 2, Idx::Gamtilde_U_1) + (1.0/18.0)*state_fab(i - 2, j, k + 1, Idx::Gamtilde_U_1) - 1.0/144.0*state_fab(i - 2, j, k + 2, Idx::Gamtilde_U_1) - 1.0/18.0*state_fab(i - 2, j, k - 1, Idx::Gamtilde_U_1) + (1.0/144.0)*state_fab(i - 2, j, k - 2, Idx::Gamtilde_U_1))/(dx[0]*dx[2]);\n",
      "        amrex::Real dDDGamtilde_ULL_111 = ((4.0/3.0)*state_fab(i, j + 1, k, Idx::Gamtilde_U_1) - 1.0/12.0*state_fab(i, j + 2, k, Idx::Gamtilde_U_1) + (4.0/3.0)*state_fab(i, j - 1, k, Idx::Gamtilde_U_1) - 1.0/12.0*state_fab(i, j - 2, k, Idx::Gamtilde_U_1) - 5.0/2.0*state_fab(i, j, k, Idx::Gamtilde_U_1))/std::pow(dx[1], 2);\n",
      "        amrex::Real dDDGamtilde_ULL_112 = ((4.0/9.0)*state_fab(i, j + 1, k + 1, Idx::Gamtilde_U_1) - 1.0/18.0*state_fab(i, j + 1, k + 2, Idx::Gamtilde_U_1) - 4.0/9.0*state_fab(i, j + 1, k - 1, Idx::Gamtilde_U_1) + (1.0/18.0)*state_fab(i, j + 1, k - 2, Idx::Gamtilde_U_1) - 1.0/18.0*state_fab(i, j + 2, k + 1, Idx::Gamtilde_U_1) + (1.0/144.0)*state_fab(i, j + 2, k + 2, Idx::Gamtilde_U_1) + (1.0/18.0)*state_fab(i, j + 2, k - 1, Idx::Gamtilde_U_1) - 1.0/144.0*state_fab(i, j + 2, k - 2, Idx::Gamtilde_U_1) - 4.0/9.0*state_fab(i, j - 1, k + 1, Idx::Gamtilde_U_1) + (1.0/18.0)*state_fab(i, j - 1, k + 2, Idx::Gamtilde_U_1) + (4.0/9.0)*state_fab(i, j - 1, k - 1, Idx::Gamtilde_U_1) - 1.0/18.0*state_fab(i, j - 1, k - 2, Idx::Gamtilde_U_1) + (1.0/18.0)*state_fab(i, j - 2, k + 1, Idx::Gamtilde_U_1) - 1.0/144.0*state_fab(i, j - 2, k + 2, Idx::Gamtilde_U_1) - 1.0/18.0*state_fab(i, j - 2, k - 1, Idx::Gamtilde_U_1) + (1.0/144.0)*state_fab(i, j - 2, k - 2, Idx::Gamtilde_U_1))/(dx[1]*dx[2]);\n",
      "        amrex::Real dDDGamtilde_ULL_122 = ((4.0/3.0)*state_fab(i, j, k + 1, Idx::Gamtilde_U_1) - 1.0/12.0*state_fab(i, j, k + 2, Idx::Gamtilde_U_1) + (4.0/3.0)*state_fab(i, j, k - 1, Idx::Gamtilde_U_1) - 1.0/12.0*state_fab(i, j, k - 2, Idx::Gamtilde_U_1) - 5.0/2.0*state_fab(i, j, k, Idx::Gamtilde_U_1))/std::pow(dx[2], 2);\n",
      "        amrex::Real dDDGamtilde_ULL_200 = ((4.0/3.0)*state_fab(i + 1, j, k, Idx::Gamtilde_U_2) - 1.0/12.0*state_fab(i + 2, j, k, Idx::Gamtilde_U_2) + (4.0/3.0)*state_fab(i - 1, j, k, Idx::Gamtilde_U_2) - 1.0/12.0*state_fab(i - 2, j, k, Idx::Gamtilde_U_2) - 5.0/2.0*state_fab(i, j, k, Idx::Gamtilde_U_2))/std::pow(dx[0], 2);\n",
      "        amrex::Real dDDGamtilde_ULL_201 = ((4.0/9.0)*state_fab(i + 1, j + 1, k, Idx::Gamtilde_U_2) - 1.0/18.0*state_fab(i + 1, j + 2, k, Idx::Gamtilde_U_2) - 4.0/9.0*state_fab(i + 1, j - 1, k, Idx::Gamtilde_U_2) + (1.0/18.0)*state_fab(i + 1, j - 2, k, Idx::Gamtilde_U_2) - 1.0/18.0*state_fab(i + 2, j + 1, k, Idx::Gamtilde_U_2) + (1.0/144.0)*state_fab(i + 2, j + 2, k, Idx::Gamtilde_U_2) + (1.0/18.0)*state_fab(i + 2, j - 1, k, Idx::Gamtilde_U_2) - 1.0/144.0*state_fab(i + 2, j - 2, k, Idx::Gamtilde_U_2) - 4.0/9.0*state_fab(i - 1, j + 1, k, Idx::Gamtilde_U_2) + (1.0/18.0)*state_fab(i - 1, j + 2, k, Idx::Gamtilde_U_2) + (4.0/9.0)*state_fab(i - 1, j - 1, k, Idx::Gamtilde_U_2) - 1.0/18.0*state_fab(i - 1, j - 2, k, Idx::Gamtilde_U_2) + (1.0/18.0)*state_fab(i - 2, j + 1, k, Idx::Gamtilde_U_2) - 1.0/144.0*state_fab(i - 2, j + 2, k, Idx::Gamtilde_U_2) - 1.0/18.0*state_fab(i - 2, j - 1, k, Idx::Gamtilde_U_2) + (1.0/144.0)*state_fab(i - 2, j - 2, k, Idx::Gamtilde_U_2))/(dx[0]*dx[1]);\n",
      "        amrex::Real dDDGamtilde_ULL_202 = ((4.0/9.0)*state_fab(i + 1, j, k + 1, Idx::Gamtilde_U_2) - 1.0/18.0*state_fab(i + 1, j, k + 2, Idx::Gamtilde_U_2) - 4.0/9.0*state_fab(i + 1, j, k - 1, Idx::Gamtilde_U_2) + (1.0/18.0)*state_fab(i + 1, j, k - 2, Idx::Gamtilde_U_2) - 1.0/18.0*state_fab(i + 2, j, k + 1, Idx::Gamtilde_U_2) + (1.0/144.0)*state_fab(i + 2, j, k + 2, Idx::Gamtilde_U_2) + (1.0/18.0)*state_fab(i + 2, j, k - 1, Idx::Gamtilde_U_2) - 1.0/144.0*state_fab(i + 2, j, k - 2, Idx::Gamtilde_U_2) - 4.0/9.0*state_fab(i - 1, j, k + 1, Idx::Gamtilde_U_2) + (1.0/18.0)*state_fab(i - 1, j, k + 2, Idx::Gamtilde_U_2) + (4.0/9.0)*state_fab(i - 1, j, k - 1, Idx::Gamtilde_U_2) - 1.0/18.0*state_fab(i - 1, j, k - 2, Idx::Gamtilde_U_2) + (1.0/18.0)*state_fab(i - 2, j, k + 1, Idx::Gamtilde_U_2) - 1.0/144.0*state_fab(i - 2, j, k + 2, Idx::Gamtilde_U_2) - 1.0/18.0*state_fab(i - 2, j, k - 1, Idx::Gamtilde_U_2) + (1.0/144.0)*state_fab(i - 2, j, k - 2, Idx::Gamtilde_U_2))/(dx[0]*dx[2]);\n",
      "        amrex::Real dDDGamtilde_ULL_211 = ((4.0/3.0)*state_fab(i, j + 1, k, Idx::Gamtilde_U_2) - 1.0/12.0*state_fab(i, j + 2, k, Idx::Gamtilde_U_2) + (4.0/3.0)*state_fab(i, j - 1, k, Idx::Gamtilde_U_2) - 1.0/12.0*state_fab(i, j - 2, k, Idx::Gamtilde_U_2) - 5.0/2.0*state_fab(i, j, k, Idx::Gamtilde_U_2))/std::pow(dx[1], 2);\n",
      "        amrex::Real dDDGamtilde_ULL_212 = ((4.0/9.0)*state_fab(i, j + 1, k + 1, Idx::Gamtilde_U_2) - 1.0/18.0*state_fab(i, j + 1, k + 2, Idx::Gamtilde_U_2) - 4.0/9.0*state_fab(i, j + 1, k - 1, Idx::Gamtilde_U_2) + (1.0/18.0)*state_fab(i, j + 1, k - 2, Idx::Gamtilde_U_2) - 1.0/18.0*state_fab(i, j + 2, k + 1, Idx::Gamtilde_U_2) + (1.0/144.0)*state_fab(i, j + 2, k + 2, Idx::Gamtilde_U_2) + (1.0/18.0)*state_fab(i, j + 2, k - 1, Idx::Gamtilde_U_2) - 1.0/144.0*state_fab(i, j + 2, k - 2, Idx::Gamtilde_U_2) - 4.0/9.0*state_fab(i, j - 1, k + 1, Idx::Gamtilde_U_2) + (1.0/18.0)*state_fab(i, j - 1, k + 2, Idx::Gamtilde_U_2) + (4.0/9.0)*state_fab(i, j - 1, k - 1, Idx::Gamtilde_U_2) - 1.0/18.0*state_fab(i, j - 1, k - 2, Idx::Gamtilde_U_2) + (1.0/18.0)*state_fab(i, j - 2, k + 1, Idx::Gamtilde_U_2) - 1.0/144.0*state_fab(i, j - 2, k + 2, Idx::Gamtilde_U_2) - 1.0/18.0*state_fab(i, j - 2, k - 1, Idx::Gamtilde_U_2) + (1.0/144.0)*state_fab(i, j - 2, k - 2, Idx::Gamtilde_U_2))/(dx[1]*dx[2]);\n",
      "        amrex::Real dDDGamtilde_ULL_222 = ((4.0/3.0)*state_fab(i, j, k + 1, Idx::Gamtilde_U_2) - 1.0/12.0*state_fab(i, j, k + 2, Idx::Gamtilde_U_2) + (4.0/3.0)*state_fab(i, j, k - 1, Idx::Gamtilde_U_2) - 1.0/12.0*state_fab(i, j, k - 2, Idx::Gamtilde_U_2) - 5.0/2.0*state_fab(i, j, k, Idx::Gamtilde_U_2))/std::pow(dx[2], 2);\n",
      "\n",
      "        amrex::Real dKODGamtilde_U_0 = ((15.0/64.0)*state_fab(i, j, k + 1, Idx::Gamtilde_U_0) - 3.0/32.0*state_fab(i, j, k + 2, Idx::Gamtilde_U_0) + (1.0/64.0)*state_fab(i, j, k + 3, Idx::Gamtilde_U_0) + (15.0/64.0)*state_fab(i, j, k - 1, Idx::Gamtilde_U_0) - 3.0/32.0*state_fab(i, j, k - 2, Idx::Gamtilde_U_0) + (1.0/64.0)*state_fab(i, j, k - 3, Idx::Gamtilde_U_0) - 5.0/16.0*state_fab(i, j, k, Idx::Gamtilde_U_0))/dx[2] + ((15.0/64.0)*state_fab(i, j + 1, k, Idx::Gamtilde_U_0) - 3.0/32.0*state_fab(i, j + 2, k, Idx::Gamtilde_U_0) + (1.0/64.0)*state_fab(i, j + 3, k, Idx::Gamtilde_U_0) + (15.0/64.0)*state_fab(i, j - 1, k, Idx::Gamtilde_U_0) - 3.0/32.0*state_fab(i, j - 2, k, Idx::Gamtilde_U_0) + (1.0/64.0)*state_fab(i, j - 3, k, Idx::Gamtilde_U_0) - 5.0/16.0*state_fab(i, j, k, Idx::Gamtilde_U_0))/dx[1] + ((15.0/64.0)*state_fab(i + 1, j, k, Idx::Gamtilde_U_0) - 3.0/32.0*state_fab(i + 2, j, k, Idx::Gamtilde_U_0) + (1.0/64.0)*state_fab(i + 3, j, k, Idx::Gamtilde_U_0) + (15.0/64.0)*state_fab(i - 1, j, k, Idx::Gamtilde_U_0) - 3.0/32.0*state_fab(i - 2, j, k, Idx::Gamtilde_U_0) + (1.0/64.0)*state_fab(i - 3, j, k, Idx::Gamtilde_U_0) - 5.0/16.0*state_fab(i, j, k, Idx::Gamtilde_U_0))/dx[0];\n",
      "        amrex::Real dKODGamtilde_U_1 = ((15.0/64.0)*state_fab(i, j, k + 1, Idx::Gamtilde_U_1) - 3.0/32.0*state_fab(i, j, k + 2, Idx::Gamtilde_U_1) + (1.0/64.0)*state_fab(i, j, k + 3, Idx::Gamtilde_U_1) + (15.0/64.0)*state_fab(i, j, k - 1, Idx::Gamtilde_U_1) - 3.0/32.0*state_fab(i, j, k - 2, Idx::Gamtilde_U_1) + (1.0/64.0)*state_fab(i, j, k - 3, Idx::Gamtilde_U_1) - 5.0/16.0*state_fab(i, j, k, Idx::Gamtilde_U_1))/dx[2] + ((15.0/64.0)*state_fab(i, j + 1, k, Idx::Gamtilde_U_1) - 3.0/32.0*state_fab(i, j + 2, k, Idx::Gamtilde_U_1) + (1.0/64.0)*state_fab(i, j + 3, k, Idx::Gamtilde_U_1) + (15.0/64.0)*state_fab(i, j - 1, k, Idx::Gamtilde_U_1) - 3.0/32.0*state_fab(i, j - 2, k, Idx::Gamtilde_U_1) + (1.0/64.0)*state_fab(i, j - 3, k, Idx::Gamtilde_U_1) - 5.0/16.0*state_fab(i, j, k, Idx::Gamtilde_U_1))/dx[1] + ((15.0/64.0)*state_fab(i + 1, j, k, Idx::Gamtilde_U_1) - 3.0/32.0*state_fab(i + 2, j, k, Idx::Gamtilde_U_1) + (1.0/64.0)*state_fab(i + 3, j, k, Idx::Gamtilde_U_1) + (15.0/64.0)*state_fab(i - 1, j, k, Idx::Gamtilde_U_1) - 3.0/32.0*state_fab(i - 2, j, k, Idx::Gamtilde_U_1) + (1.0/64.0)*state_fab(i - 3, j, k, Idx::Gamtilde_U_1) - 5.0/16.0*state_fab(i, j, k, Idx::Gamtilde_U_1))/dx[0];\n",
      "        amrex::Real dKODGamtilde_U_2 = ((15.0/64.0)*state_fab(i, j, k + 1, Idx::Gamtilde_U_2) - 3.0/32.0*state_fab(i, j, k + 2, Idx::Gamtilde_U_2) + (1.0/64.0)*state_fab(i, j, k + 3, Idx::Gamtilde_U_2) + (15.0/64.0)*state_fab(i, j, k - 1, Idx::Gamtilde_U_2) - 3.0/32.0*state_fab(i, j, k - 2, Idx::Gamtilde_U_2) + (1.0/64.0)*state_fab(i, j, k - 3, Idx::Gamtilde_U_2) - 5.0/16.0*state_fab(i, j, k, Idx::Gamtilde_U_2))/dx[2] + ((15.0/64.0)*state_fab(i, j + 1, k, Idx::Gamtilde_U_2) - 3.0/32.0*state_fab(i, j + 2, k, Idx::Gamtilde_U_2) + (1.0/64.0)*state_fab(i, j + 3, k, Idx::Gamtilde_U_2) + (15.0/64.0)*state_fab(i, j - 1, k, Idx::Gamtilde_U_2) - 3.0/32.0*state_fab(i, j - 2, k, Idx::Gamtilde_U_2) + (1.0/64.0)*state_fab(i, j - 3, k, Idx::Gamtilde_U_2) - 5.0/16.0*state_fab(i, j, k, Idx::Gamtilde_U_2))/dx[1] + ((15.0/64.0)*state_fab(i + 1, j, k, Idx::Gamtilde_U_2) - 3.0/32.0*state_fab(i + 2, j, k, Idx::Gamtilde_U_2) + (1.0/64.0)*state_fab(i + 3, j, k, Idx::Gamtilde_U_2) + (15.0/64.0)*state_fab(i - 1, j, k, Idx::Gamtilde_U_2) - 3.0/32.0*state_fab(i - 2, j, k, Idx::Gamtilde_U_2) + (1.0/64.0)*state_fab(i - 3, j, k, Idx::Gamtilde_U_2) - 5.0/16.0*state_fab(i, j, k, Idx::Gamtilde_U_2))/dx[0];\n",
      "\n",
      "        amrex::Real AdvDbetaGamtilde_U_0 = beta_U_0*(ddnDGamtilde_UL_00*(beta_U_0 < 0) + dupDGamtilde_UL_00*(beta_U_0 > 0)) + beta_U_1*(ddnDGamtilde_UL_01*(beta_U_1 < 0) + dupDGamtilde_UL_01*(beta_U_1 > 0)) + beta_U_2*(ddnDGamtilde_UL_02*(beta_U_2 < 0) + dupDGamtilde_UL_02*(beta_U_2 > 0));\n",
      "        amrex::Real AdvDbetaGamtilde_U_1 = beta_U_0*(ddnDGamtilde_UL_10*(beta_U_0 < 0) + dupDGamtilde_UL_10*(beta_U_0 > 0)) + beta_U_1*(ddnDGamtilde_UL_11*(beta_U_1 < 0) + dupDGamtilde_UL_11*(beta_U_1 > 0)) + beta_U_2*(ddnDGamtilde_UL_12*(beta_U_2 < 0) + dupDGamtilde_UL_12*(beta_U_2 > 0));\n",
      "        amrex::Real AdvDbetaGamtilde_U_2 = beta_U_0*(ddnDGamtilde_UL_20*(beta_U_0 < 0) + dupDGamtilde_UL_20*(beta_U_0 > 0)) + beta_U_1*(ddnDGamtilde_UL_21*(beta_U_1 < 0) + dupDGamtilde_UL_21*(beta_U_1 > 0)) + beta_U_2*(ddnDGamtilde_UL_22*(beta_U_2 < 0) + dupDGamtilde_UL_22*(beta_U_2 > 0));\n",
      "\n",
      "        amrex::Real dDalpha_L_0 = ((2.0/3.0)*state_fab(i + 1, j, k, Idx::alpha) - 1.0/12.0*state_fab(i + 2, j, k, Idx::alpha) - 2.0/3.0*state_fab(i - 1, j, k, Idx::alpha) + (1.0/12.0)*state_fab(i - 2, j, k, Idx::alpha))/dx[0];\n",
      "        amrex::Real dDalpha_L_1 = ((2.0/3.0)*state_fab(i, j + 1, k, Idx::alpha) - 1.0/12.0*state_fab(i, j + 2, k, Idx::alpha) - 2.0/3.0*state_fab(i, j - 1, k, Idx::alpha) + (1.0/12.0)*state_fab(i, j - 2, k, Idx::alpha))/dx[1];\n",
      "        amrex::Real dDalpha_L_2 = ((2.0/3.0)*state_fab(i, j, k + 1, Idx::alpha) - 1.0/12.0*state_fab(i, j, k + 2, Idx::alpha) - 2.0/3.0*state_fab(i, j, k - 1, Idx::alpha) + (1.0/12.0)*state_fab(i, j, k - 2, Idx::alpha))/dx[2];\n",
      "\n",
      "        amrex::Real dupDalpha_L_0 = ((3.0/2.0)*state_fab(i + 1, j, k, Idx::alpha) - 1.0/2.0*state_fab(i + 2, j, k, Idx::alpha) + (1.0/12.0)*state_fab(i + 3, j, k, Idx::alpha) - 1.0/4.0*state_fab(i - 1, j, k, Idx::alpha) - 5.0/6.0*state_fab(i, j, k, Idx::alpha))/dx[0];\n",
      "        amrex::Real dupDalpha_L_1 = ((3.0/2.0)*state_fab(i, j + 1, k, Idx::alpha) - 1.0/2.0*state_fab(i, j + 2, k, Idx::alpha) + (1.0/12.0)*state_fab(i, j + 3, k, Idx::alpha) - 1.0/4.0*state_fab(i, j - 1, k, Idx::alpha) - 5.0/6.0*state_fab(i, j, k, Idx::alpha))/dx[1];\n",
      "        amrex::Real dupDalpha_L_2 = ((3.0/2.0)*state_fab(i, j, k + 1, Idx::alpha) - 1.0/2.0*state_fab(i, j, k + 2, Idx::alpha) + (1.0/12.0)*state_fab(i, j, k + 3, Idx::alpha) - 1.0/4.0*state_fab(i, j, k - 1, Idx::alpha) - 5.0/6.0*state_fab(i, j, k, Idx::alpha))/dx[2];\n",
      "\n",
      "        amrex::Real ddnDalpha_L_0 = ((1.0/4.0)*state_fab(i + 1, j, k, Idx::alpha) - 3.0/2.0*state_fab(i - 1, j, k, Idx::alpha) + (1.0/2.0)*state_fab(i - 2, j, k, Idx::alpha) - 1.0/12.0*state_fab(i - 3, j, k, Idx::alpha) + (5.0/6.0)*state_fab(i, j, k, Idx::alpha))/dx[0];\n",
      "        amrex::Real ddnDalpha_L_1 = ((1.0/4.0)*state_fab(i, j + 1, k, Idx::alpha) - 3.0/2.0*state_fab(i, j - 1, k, Idx::alpha) + (1.0/2.0)*state_fab(i, j - 2, k, Idx::alpha) - 1.0/12.0*state_fab(i, j - 3, k, Idx::alpha) + (5.0/6.0)*state_fab(i, j, k, Idx::alpha))/dx[1];\n",
      "        amrex::Real ddnDalpha_L_2 = ((1.0/4.0)*state_fab(i, j, k + 1, Idx::alpha) - 3.0/2.0*state_fab(i, j, k - 1, Idx::alpha) + (1.0/2.0)*state_fab(i, j, k - 2, Idx::alpha) - 1.0/12.0*state_fab(i, j, k - 3, Idx::alpha) + (5.0/6.0)*state_fab(i, j, k, Idx::alpha))/dx[2];\n",
      "\n",
      "        amrex::Real dDDalpha_LL_00 = ((4.0/3.0)*state_fab(i + 1, j, k, Idx::alpha) - 1.0/12.0*state_fab(i + 2, j, k, Idx::alpha) + (4.0/3.0)*state_fab(i - 1, j, k, Idx::alpha) - 1.0/12.0*state_fab(i - 2, j, k, Idx::alpha) - 5.0/2.0*state_fab(i, j, k, Idx::alpha))/std::pow(dx[0], 2);\n",
      "        amrex::Real dDDalpha_LL_01 = ((4.0/9.0)*state_fab(i + 1, j + 1, k, Idx::alpha) - 1.0/18.0*state_fab(i + 1, j + 2, k, Idx::alpha) - 4.0/9.0*state_fab(i + 1, j - 1, k, Idx::alpha) + (1.0/18.0)*state_fab(i + 1, j - 2, k, Idx::alpha) - 1.0/18.0*state_fab(i + 2, j + 1, k, Idx::alpha) + (1.0/144.0)*state_fab(i + 2, j + 2, k, Idx::alpha) + (1.0/18.0)*state_fab(i + 2, j - 1, k, Idx::alpha) - 1.0/144.0*state_fab(i + 2, j - 2, k, Idx::alpha) - 4.0/9.0*state_fab(i - 1, j + 1, k, Idx::alpha) + (1.0/18.0)*state_fab(i - 1, j + 2, k, Idx::alpha) + (4.0/9.0)*state_fab(i - 1, j - 1, k, Idx::alpha) - 1.0/18.0*state_fab(i - 1, j - 2, k, Idx::alpha) + (1.0/18.0)*state_fab(i - 2, j + 1, k, Idx::alpha) - 1.0/144.0*state_fab(i - 2, j + 2, k, Idx::alpha) - 1.0/18.0*state_fab(i - 2, j - 1, k, Idx::alpha) + (1.0/144.0)*state_fab(i - 2, j - 2, k, Idx::alpha))/(dx[0]*dx[1]);\n",
      "        amrex::Real dDDalpha_LL_02 = ((4.0/9.0)*state_fab(i + 1, j, k + 1, Idx::alpha) - 1.0/18.0*state_fab(i + 1, j, k + 2, Idx::alpha) - 4.0/9.0*state_fab(i + 1, j, k - 1, Idx::alpha) + (1.0/18.0)*state_fab(i + 1, j, k - 2, Idx::alpha) - 1.0/18.0*state_fab(i + 2, j, k + 1, Idx::alpha) + (1.0/144.0)*state_fab(i + 2, j, k + 2, Idx::alpha) + (1.0/18.0)*state_fab(i + 2, j, k - 1, Idx::alpha) - 1.0/144.0*state_fab(i + 2, j, k - 2, Idx::alpha) - 4.0/9.0*state_fab(i - 1, j, k + 1, Idx::alpha) + (1.0/18.0)*state_fab(i - 1, j, k + 2, Idx::alpha) + (4.0/9.0)*state_fab(i - 1, j, k - 1, Idx::alpha) - 1.0/18.0*state_fab(i - 1, j, k - 2, Idx::alpha) + (1.0/18.0)*state_fab(i - 2, j, k + 1, Idx::alpha) - 1.0/144.0*state_fab(i - 2, j, k + 2, Idx::alpha) - 1.0/18.0*state_fab(i - 2, j, k - 1, Idx::alpha) + (1.0/144.0)*state_fab(i - 2, j, k - 2, Idx::alpha))/(dx[0]*dx[2]);\n",
      "        amrex::Real dDDalpha_LL_11 = ((4.0/3.0)*state_fab(i, j + 1, k, Idx::alpha) - 1.0/12.0*state_fab(i, j + 2, k, Idx::alpha) + (4.0/3.0)*state_fab(i, j - 1, k, Idx::alpha) - 1.0/12.0*state_fab(i, j - 2, k, Idx::alpha) - 5.0/2.0*state_fab(i, j, k, Idx::alpha))/std::pow(dx[1], 2);\n",
      "        amrex::Real dDDalpha_LL_12 = ((4.0/9.0)*state_fab(i, j + 1, k + 1, Idx::alpha) - 1.0/18.0*state_fab(i, j + 1, k + 2, Idx::alpha) - 4.0/9.0*state_fab(i, j + 1, k - 1, Idx::alpha) + (1.0/18.0)*state_fab(i, j + 1, k - 2, Idx::alpha) - 1.0/18.0*state_fab(i, j + 2, k + 1, Idx::alpha) + (1.0/144.0)*state_fab(i, j + 2, k + 2, Idx::alpha) + (1.0/18.0)*state_fab(i, j + 2, k - 1, Idx::alpha) - 1.0/144.0*state_fab(i, j + 2, k - 2, Idx::alpha) - 4.0/9.0*state_fab(i, j - 1, k + 1, Idx::alpha) + (1.0/18.0)*state_fab(i, j - 1, k + 2, Idx::alpha) + (4.0/9.0)*state_fab(i, j - 1, k - 1, Idx::alpha) - 1.0/18.0*state_fab(i, j - 1, k - 2, Idx::alpha) + (1.0/18.0)*state_fab(i, j - 2, k + 1, Idx::alpha) - 1.0/144.0*state_fab(i, j - 2, k + 2, Idx::alpha) - 1.0/18.0*state_fab(i, j - 2, k - 1, Idx::alpha) + (1.0/144.0)*state_fab(i, j - 2, k - 2, Idx::alpha))/(dx[1]*dx[2]);\n",
      "        amrex::Real dDDalpha_LL_22 = ((4.0/3.0)*state_fab(i, j, k + 1, Idx::alpha) - 1.0/12.0*state_fab(i, j, k + 2, Idx::alpha) + (4.0/3.0)*state_fab(i, j, k - 1, Idx::alpha) - 1.0/12.0*state_fab(i, j, k - 2, Idx::alpha) - 5.0/2.0*state_fab(i, j, k, Idx::alpha))/std::pow(dx[2], 2);\n",
      "\n",
      "        amrex::Real dKODalpha = ((15.0/64.0)*state_fab(i, j, k + 1, Idx::alpha) - 3.0/32.0*state_fab(i, j, k + 2, Idx::alpha) + (1.0/64.0)*state_fab(i, j, k + 3, Idx::alpha) + (15.0/64.0)*state_fab(i, j, k - 1, Idx::alpha) - 3.0/32.0*state_fab(i, j, k - 2, Idx::alpha) + (1.0/64.0)*state_fab(i, j, k - 3, Idx::alpha) - 5.0/16.0*state_fab(i, j, k, Idx::alpha))/dx[2] + ((15.0/64.0)*state_fab(i, j + 1, k, Idx::alpha) - 3.0/32.0*state_fab(i, j + 2, k, Idx::alpha) + (1.0/64.0)*state_fab(i, j + 3, k, Idx::alpha) + (15.0/64.0)*state_fab(i, j - 1, k, Idx::alpha) - 3.0/32.0*state_fab(i, j - 2, k, Idx::alpha) + (1.0/64.0)*state_fab(i, j - 3, k, Idx::alpha) - 5.0/16.0*state_fab(i, j, k, Idx::alpha))/dx[1] + ((15.0/64.0)*state_fab(i + 1, j, k, Idx::alpha) - 3.0/32.0*state_fab(i + 2, j, k, Idx::alpha) + (1.0/64.0)*state_fab(i + 3, j, k, Idx::alpha) + (15.0/64.0)*state_fab(i - 1, j, k, Idx::alpha) - 3.0/32.0*state_fab(i - 2, j, k, Idx::alpha) + (1.0/64.0)*state_fab(i - 3, j, k, Idx::alpha) - 5.0/16.0*state_fab(i, j, k, Idx::alpha))/dx[0];\n",
      "\n",
      "        amrex::Real AdvDbetaalpha = beta_U_0*(ddnDalpha_L_0*(beta_U_0 < 0) + dupDalpha_L_0*(beta_U_0 > 0)) + beta_U_1*(ddnDalpha_L_1*(beta_U_1 < 0) + dupDalpha_L_1*(beta_U_1 > 0)) + beta_U_2*(ddnDalpha_L_2*(beta_U_2 < 0) + dupDalpha_L_2*(beta_U_2 > 0));\n",
      "\n",
      "        amrex::Real dDbeta_UL_00 = ((2.0/3.0)*state_fab(i + 1, j, k, Idx::beta_U_0) - 1.0/12.0*state_fab(i + 2, j, k, Idx::beta_U_0) - 2.0/3.0*state_fab(i - 1, j, k, Idx::beta_U_0) + (1.0/12.0)*state_fab(i - 2, j, k, Idx::beta_U_0))/dx[0];\n",
      "        amrex::Real dDbeta_UL_01 = ((2.0/3.0)*state_fab(i, j + 1, k, Idx::beta_U_0) - 1.0/12.0*state_fab(i, j + 2, k, Idx::beta_U_0) - 2.0/3.0*state_fab(i, j - 1, k, Idx::beta_U_0) + (1.0/12.0)*state_fab(i, j - 2, k, Idx::beta_U_0))/dx[1];\n",
      "        amrex::Real dDbeta_UL_02 = ((2.0/3.0)*state_fab(i, j, k + 1, Idx::beta_U_0) - 1.0/12.0*state_fab(i, j, k + 2, Idx::beta_U_0) - 2.0/3.0*state_fab(i, j, k - 1, Idx::beta_U_0) + (1.0/12.0)*state_fab(i, j, k - 2, Idx::beta_U_0))/dx[2];\n",
      "        amrex::Real dDbeta_UL_10 = ((2.0/3.0)*state_fab(i + 1, j, k, Idx::beta_U_1) - 1.0/12.0*state_fab(i + 2, j, k, Idx::beta_U_1) - 2.0/3.0*state_fab(i - 1, j, k, Idx::beta_U_1) + (1.0/12.0)*state_fab(i - 2, j, k, Idx::beta_U_1))/dx[0];\n",
      "        amrex::Real dDbeta_UL_11 = ((2.0/3.0)*state_fab(i, j + 1, k, Idx::beta_U_1) - 1.0/12.0*state_fab(i, j + 2, k, Idx::beta_U_1) - 2.0/3.0*state_fab(i, j - 1, k, Idx::beta_U_1) + (1.0/12.0)*state_fab(i, j - 2, k, Idx::beta_U_1))/dx[1];\n",
      "        amrex::Real dDbeta_UL_12 = ((2.0/3.0)*state_fab(i, j, k + 1, Idx::beta_U_1) - 1.0/12.0*state_fab(i, j, k + 2, Idx::beta_U_1) - 2.0/3.0*state_fab(i, j, k - 1, Idx::beta_U_1) + (1.0/12.0)*state_fab(i, j, k - 2, Idx::beta_U_1))/dx[2];\n",
      "        amrex::Real dDbeta_UL_20 = ((2.0/3.0)*state_fab(i + 1, j, k, Idx::beta_U_2) - 1.0/12.0*state_fab(i + 2, j, k, Idx::beta_U_2) - 2.0/3.0*state_fab(i - 1, j, k, Idx::beta_U_2) + (1.0/12.0)*state_fab(i - 2, j, k, Idx::beta_U_2))/dx[0];\n",
      "        amrex::Real dDbeta_UL_21 = ((2.0/3.0)*state_fab(i, j + 1, k, Idx::beta_U_2) - 1.0/12.0*state_fab(i, j + 2, k, Idx::beta_U_2) - 2.0/3.0*state_fab(i, j - 1, k, Idx::beta_U_2) + (1.0/12.0)*state_fab(i, j - 2, k, Idx::beta_U_2))/dx[1];\n",
      "        amrex::Real dDbeta_UL_22 = ((2.0/3.0)*state_fab(i, j, k + 1, Idx::beta_U_2) - 1.0/12.0*state_fab(i, j, k + 2, Idx::beta_U_2) - 2.0/3.0*state_fab(i, j, k - 1, Idx::beta_U_2) + (1.0/12.0)*state_fab(i, j, k - 2, Idx::beta_U_2))/dx[2];\n",
      "\n",
      "        amrex::Real dupDbeta_UL_00 = ((3.0/2.0)*state_fab(i + 1, j, k, Idx::beta_U_0) - 1.0/2.0*state_fab(i + 2, j, k, Idx::beta_U_0) + (1.0/12.0)*state_fab(i + 3, j, k, Idx::beta_U_0) - 1.0/4.0*state_fab(i - 1, j, k, Idx::beta_U_0) - 5.0/6.0*state_fab(i, j, k, Idx::beta_U_0))/dx[0];\n",
      "        amrex::Real dupDbeta_UL_01 = ((3.0/2.0)*state_fab(i, j + 1, k, Idx::beta_U_0) - 1.0/2.0*state_fab(i, j + 2, k, Idx::beta_U_0) + (1.0/12.0)*state_fab(i, j + 3, k, Idx::beta_U_0) - 1.0/4.0*state_fab(i, j - 1, k, Idx::beta_U_0) - 5.0/6.0*state_fab(i, j, k, Idx::beta_U_0))/dx[1];\n",
      "        amrex::Real dupDbeta_UL_02 = ((3.0/2.0)*state_fab(i, j, k + 1, Idx::beta_U_0) - 1.0/2.0*state_fab(i, j, k + 2, Idx::beta_U_0) + (1.0/12.0)*state_fab(i, j, k + 3, Idx::beta_U_0) - 1.0/4.0*state_fab(i, j, k - 1, Idx::beta_U_0) - 5.0/6.0*state_fab(i, j, k, Idx::beta_U_0))/dx[2];\n",
      "        amrex::Real dupDbeta_UL_10 = ((3.0/2.0)*state_fab(i + 1, j, k, Idx::beta_U_1) - 1.0/2.0*state_fab(i + 2, j, k, Idx::beta_U_1) + (1.0/12.0)*state_fab(i + 3, j, k, Idx::beta_U_1) - 1.0/4.0*state_fab(i - 1, j, k, Idx::beta_U_1) - 5.0/6.0*state_fab(i, j, k, Idx::beta_U_1))/dx[0];\n",
      "        amrex::Real dupDbeta_UL_11 = ((3.0/2.0)*state_fab(i, j + 1, k, Idx::beta_U_1) - 1.0/2.0*state_fab(i, j + 2, k, Idx::beta_U_1) + (1.0/12.0)*state_fab(i, j + 3, k, Idx::beta_U_1) - 1.0/4.0*state_fab(i, j - 1, k, Idx::beta_U_1) - 5.0/6.0*state_fab(i, j, k, Idx::beta_U_1))/dx[1];\n",
      "        amrex::Real dupDbeta_UL_12 = ((3.0/2.0)*state_fab(i, j, k + 1, Idx::beta_U_1) - 1.0/2.0*state_fab(i, j, k + 2, Idx::beta_U_1) + (1.0/12.0)*state_fab(i, j, k + 3, Idx::beta_U_1) - 1.0/4.0*state_fab(i, j, k - 1, Idx::beta_U_1) - 5.0/6.0*state_fab(i, j, k, Idx::beta_U_1))/dx[2];\n",
      "        amrex::Real dupDbeta_UL_20 = ((3.0/2.0)*state_fab(i + 1, j, k, Idx::beta_U_2) - 1.0/2.0*state_fab(i + 2, j, k, Idx::beta_U_2) + (1.0/12.0)*state_fab(i + 3, j, k, Idx::beta_U_2) - 1.0/4.0*state_fab(i - 1, j, k, Idx::beta_U_2) - 5.0/6.0*state_fab(i, j, k, Idx::beta_U_2))/dx[0];\n",
      "        amrex::Real dupDbeta_UL_21 = ((3.0/2.0)*state_fab(i, j + 1, k, Idx::beta_U_2) - 1.0/2.0*state_fab(i, j + 2, k, Idx::beta_U_2) + (1.0/12.0)*state_fab(i, j + 3, k, Idx::beta_U_2) - 1.0/4.0*state_fab(i, j - 1, k, Idx::beta_U_2) - 5.0/6.0*state_fab(i, j, k, Idx::beta_U_2))/dx[1];\n",
      "        amrex::Real dupDbeta_UL_22 = ((3.0/2.0)*state_fab(i, j, k + 1, Idx::beta_U_2) - 1.0/2.0*state_fab(i, j, k + 2, Idx::beta_U_2) + (1.0/12.0)*state_fab(i, j, k + 3, Idx::beta_U_2) - 1.0/4.0*state_fab(i, j, k - 1, Idx::beta_U_2) - 5.0/6.0*state_fab(i, j, k, Idx::beta_U_2))/dx[2];\n",
      "\n",
      "        amrex::Real ddnDbeta_UL_00 = ((1.0/4.0)*state_fab(i + 1, j, k, Idx::beta_U_0) - 3.0/2.0*state_fab(i - 1, j, k, Idx::beta_U_0) + (1.0/2.0)*state_fab(i - 2, j, k, Idx::beta_U_0) - 1.0/12.0*state_fab(i - 3, j, k, Idx::beta_U_0) + (5.0/6.0)*state_fab(i, j, k, Idx::beta_U_0))/dx[0];\n",
      "        amrex::Real ddnDbeta_UL_01 = ((1.0/4.0)*state_fab(i, j + 1, k, Idx::beta_U_0) - 3.0/2.0*state_fab(i, j - 1, k, Idx::beta_U_0) + (1.0/2.0)*state_fab(i, j - 2, k, Idx::beta_U_0) - 1.0/12.0*state_fab(i, j - 3, k, Idx::beta_U_0) + (5.0/6.0)*state_fab(i, j, k, Idx::beta_U_0))/dx[1];\n",
      "        amrex::Real ddnDbeta_UL_02 = ((1.0/4.0)*state_fab(i, j, k + 1, Idx::beta_U_0) - 3.0/2.0*state_fab(i, j, k - 1, Idx::beta_U_0) + (1.0/2.0)*state_fab(i, j, k - 2, Idx::beta_U_0) - 1.0/12.0*state_fab(i, j, k - 3, Idx::beta_U_0) + (5.0/6.0)*state_fab(i, j, k, Idx::beta_U_0))/dx[2];\n",
      "        amrex::Real ddnDbeta_UL_10 = ((1.0/4.0)*state_fab(i + 1, j, k, Idx::beta_U_1) - 3.0/2.0*state_fab(i - 1, j, k, Idx::beta_U_1) + (1.0/2.0)*state_fab(i - 2, j, k, Idx::beta_U_1) - 1.0/12.0*state_fab(i - 3, j, k, Idx::beta_U_1) + (5.0/6.0)*state_fab(i, j, k, Idx::beta_U_1))/dx[0];\n",
      "        amrex::Real ddnDbeta_UL_11 = ((1.0/4.0)*state_fab(i, j + 1, k, Idx::beta_U_1) - 3.0/2.0*state_fab(i, j - 1, k, Idx::beta_U_1) + (1.0/2.0)*state_fab(i, j - 2, k, Idx::beta_U_1) - 1.0/12.0*state_fab(i, j - 3, k, Idx::beta_U_1) + (5.0/6.0)*state_fab(i, j, k, Idx::beta_U_1))/dx[1];\n",
      "        amrex::Real ddnDbeta_UL_12 = ((1.0/4.0)*state_fab(i, j, k + 1, Idx::beta_U_1) - 3.0/2.0*state_fab(i, j, k - 1, Idx::beta_U_1) + (1.0/2.0)*state_fab(i, j, k - 2, Idx::beta_U_1) - 1.0/12.0*state_fab(i, j, k - 3, Idx::beta_U_1) + (5.0/6.0)*state_fab(i, j, k, Idx::beta_U_1))/dx[2];\n",
      "        amrex::Real ddnDbeta_UL_20 = ((1.0/4.0)*state_fab(i + 1, j, k, Idx::beta_U_2) - 3.0/2.0*state_fab(i - 1, j, k, Idx::beta_U_2) + (1.0/2.0)*state_fab(i - 2, j, k, Idx::beta_U_2) - 1.0/12.0*state_fab(i - 3, j, k, Idx::beta_U_2) + (5.0/6.0)*state_fab(i, j, k, Idx::beta_U_2))/dx[0];\n",
      "        amrex::Real ddnDbeta_UL_21 = ((1.0/4.0)*state_fab(i, j + 1, k, Idx::beta_U_2) - 3.0/2.0*state_fab(i, j - 1, k, Idx::beta_U_2) + (1.0/2.0)*state_fab(i, j - 2, k, Idx::beta_U_2) - 1.0/12.0*state_fab(i, j - 3, k, Idx::beta_U_2) + (5.0/6.0)*state_fab(i, j, k, Idx::beta_U_2))/dx[1];\n",
      "        amrex::Real ddnDbeta_UL_22 = ((1.0/4.0)*state_fab(i, j, k + 1, Idx::beta_U_2) - 3.0/2.0*state_fab(i, j, k - 1, Idx::beta_U_2) + (1.0/2.0)*state_fab(i, j, k - 2, Idx::beta_U_2) - 1.0/12.0*state_fab(i, j, k - 3, Idx::beta_U_2) + (5.0/6.0)*state_fab(i, j, k, Idx::beta_U_2))/dx[2];\n",
      "\n",
      "        amrex::Real dDDbeta_ULL_000 = ((4.0/3.0)*state_fab(i + 1, j, k, Idx::beta_U_0) - 1.0/12.0*state_fab(i + 2, j, k, Idx::beta_U_0) + (4.0/3.0)*state_fab(i - 1, j, k, Idx::beta_U_0) - 1.0/12.0*state_fab(i - 2, j, k, Idx::beta_U_0) - 5.0/2.0*state_fab(i, j, k, Idx::beta_U_0))/std::pow(dx[0], 2);\n",
      "        amrex::Real dDDbeta_ULL_001 = ((4.0/9.0)*state_fab(i + 1, j + 1, k, Idx::beta_U_0) - 1.0/18.0*state_fab(i + 1, j + 2, k, Idx::beta_U_0) - 4.0/9.0*state_fab(i + 1, j - 1, k, Idx::beta_U_0) + (1.0/18.0)*state_fab(i + 1, j - 2, k, Idx::beta_U_0) - 1.0/18.0*state_fab(i + 2, j + 1, k, Idx::beta_U_0) + (1.0/144.0)*state_fab(i + 2, j + 2, k, Idx::beta_U_0) + (1.0/18.0)*state_fab(i + 2, j - 1, k, Idx::beta_U_0) - 1.0/144.0*state_fab(i + 2, j - 2, k, Idx::beta_U_0) - 4.0/9.0*state_fab(i - 1, j + 1, k, Idx::beta_U_0) + (1.0/18.0)*state_fab(i - 1, j + 2, k, Idx::beta_U_0) + (4.0/9.0)*state_fab(i - 1, j - 1, k, Idx::beta_U_0) - 1.0/18.0*state_fab(i - 1, j - 2, k, Idx::beta_U_0) + (1.0/18.0)*state_fab(i - 2, j + 1, k, Idx::beta_U_0) - 1.0/144.0*state_fab(i - 2, j + 2, k, Idx::beta_U_0) - 1.0/18.0*state_fab(i - 2, j - 1, k, Idx::beta_U_0) + (1.0/144.0)*state_fab(i - 2, j - 2, k, Idx::beta_U_0))/(dx[0]*dx[1]);\n",
      "        amrex::Real dDDbeta_ULL_002 = ((4.0/9.0)*state_fab(i + 1, j, k + 1, Idx::beta_U_0) - 1.0/18.0*state_fab(i + 1, j, k + 2, Idx::beta_U_0) - 4.0/9.0*state_fab(i + 1, j, k - 1, Idx::beta_U_0) + (1.0/18.0)*state_fab(i + 1, j, k - 2, Idx::beta_U_0) - 1.0/18.0*state_fab(i + 2, j, k + 1, Idx::beta_U_0) + (1.0/144.0)*state_fab(i + 2, j, k + 2, Idx::beta_U_0) + (1.0/18.0)*state_fab(i + 2, j, k - 1, Idx::beta_U_0) - 1.0/144.0*state_fab(i + 2, j, k - 2, Idx::beta_U_0) - 4.0/9.0*state_fab(i - 1, j, k + 1, Idx::beta_U_0) + (1.0/18.0)*state_fab(i - 1, j, k + 2, Idx::beta_U_0) + (4.0/9.0)*state_fab(i - 1, j, k - 1, Idx::beta_U_0) - 1.0/18.0*state_fab(i - 1, j, k - 2, Idx::beta_U_0) + (1.0/18.0)*state_fab(i - 2, j, k + 1, Idx::beta_U_0) - 1.0/144.0*state_fab(i - 2, j, k + 2, Idx::beta_U_0) - 1.0/18.0*state_fab(i - 2, j, k - 1, Idx::beta_U_0) + (1.0/144.0)*state_fab(i - 2, j, k - 2, Idx::beta_U_0))/(dx[0]*dx[2]);\n",
      "        amrex::Real dDDbeta_ULL_011 = ((4.0/3.0)*state_fab(i, j + 1, k, Idx::beta_U_0) - 1.0/12.0*state_fab(i, j + 2, k, Idx::beta_U_0) + (4.0/3.0)*state_fab(i, j - 1, k, Idx::beta_U_0) - 1.0/12.0*state_fab(i, j - 2, k, Idx::beta_U_0) - 5.0/2.0*state_fab(i, j, k, Idx::beta_U_0))/std::pow(dx[1], 2);\n",
      "        amrex::Real dDDbeta_ULL_012 = ((4.0/9.0)*state_fab(i, j + 1, k + 1, Idx::beta_U_0) - 1.0/18.0*state_fab(i, j + 1, k + 2, Idx::beta_U_0) - 4.0/9.0*state_fab(i, j + 1, k - 1, Idx::beta_U_0) + (1.0/18.0)*state_fab(i, j + 1, k - 2, Idx::beta_U_0) - 1.0/18.0*state_fab(i, j + 2, k + 1, Idx::beta_U_0) + (1.0/144.0)*state_fab(i, j + 2, k + 2, Idx::beta_U_0) + (1.0/18.0)*state_fab(i, j + 2, k - 1, Idx::beta_U_0) - 1.0/144.0*state_fab(i, j + 2, k - 2, Idx::beta_U_0) - 4.0/9.0*state_fab(i, j - 1, k + 1, Idx::beta_U_0) + (1.0/18.0)*state_fab(i, j - 1, k + 2, Idx::beta_U_0) + (4.0/9.0)*state_fab(i, j - 1, k - 1, Idx::beta_U_0) - 1.0/18.0*state_fab(i, j - 1, k - 2, Idx::beta_U_0) + (1.0/18.0)*state_fab(i, j - 2, k + 1, Idx::beta_U_0) - 1.0/144.0*state_fab(i, j - 2, k + 2, Idx::beta_U_0) - 1.0/18.0*state_fab(i, j - 2, k - 1, Idx::beta_U_0) + (1.0/144.0)*state_fab(i, j - 2, k - 2, Idx::beta_U_0))/(dx[1]*dx[2]);\n",
      "        amrex::Real dDDbeta_ULL_022 = ((4.0/3.0)*state_fab(i, j, k + 1, Idx::beta_U_0) - 1.0/12.0*state_fab(i, j, k + 2, Idx::beta_U_0) + (4.0/3.0)*state_fab(i, j, k - 1, Idx::beta_U_0) - 1.0/12.0*state_fab(i, j, k - 2, Idx::beta_U_0) - 5.0/2.0*state_fab(i, j, k, Idx::beta_U_0))/std::pow(dx[2], 2);\n",
      "        amrex::Real dDDbeta_ULL_100 = ((4.0/3.0)*state_fab(i + 1, j, k, Idx::beta_U_1) - 1.0/12.0*state_fab(i + 2, j, k, Idx::beta_U_1) + (4.0/3.0)*state_fab(i - 1, j, k, Idx::beta_U_1) - 1.0/12.0*state_fab(i - 2, j, k, Idx::beta_U_1) - 5.0/2.0*state_fab(i, j, k, Idx::beta_U_1))/std::pow(dx[0], 2);\n",
      "        amrex::Real dDDbeta_ULL_101 = ((4.0/9.0)*state_fab(i + 1, j + 1, k, Idx::beta_U_1) - 1.0/18.0*state_fab(i + 1, j + 2, k, Idx::beta_U_1) - 4.0/9.0*state_fab(i + 1, j - 1, k, Idx::beta_U_1) + (1.0/18.0)*state_fab(i + 1, j - 2, k, Idx::beta_U_1) - 1.0/18.0*state_fab(i + 2, j + 1, k, Idx::beta_U_1) + (1.0/144.0)*state_fab(i + 2, j + 2, k, Idx::beta_U_1) + (1.0/18.0)*state_fab(i + 2, j - 1, k, Idx::beta_U_1) - 1.0/144.0*state_fab(i + 2, j - 2, k, Idx::beta_U_1) - 4.0/9.0*state_fab(i - 1, j + 1, k, Idx::beta_U_1) + (1.0/18.0)*state_fab(i - 1, j + 2, k, Idx::beta_U_1) + (4.0/9.0)*state_fab(i - 1, j - 1, k, Idx::beta_U_1) - 1.0/18.0*state_fab(i - 1, j - 2, k, Idx::beta_U_1) + (1.0/18.0)*state_fab(i - 2, j + 1, k, Idx::beta_U_1) - 1.0/144.0*state_fab(i - 2, j + 2, k, Idx::beta_U_1) - 1.0/18.0*state_fab(i - 2, j - 1, k, Idx::beta_U_1) + (1.0/144.0)*state_fab(i - 2, j - 2, k, Idx::beta_U_1))/(dx[0]*dx[1]);\n",
      "        amrex::Real dDDbeta_ULL_102 = ((4.0/9.0)*state_fab(i + 1, j, k + 1, Idx::beta_U_1) - 1.0/18.0*state_fab(i + 1, j, k + 2, Idx::beta_U_1) - 4.0/9.0*state_fab(i + 1, j, k - 1, Idx::beta_U_1) + (1.0/18.0)*state_fab(i + 1, j, k - 2, Idx::beta_U_1) - 1.0/18.0*state_fab(i + 2, j, k + 1, Idx::beta_U_1) + (1.0/144.0)*state_fab(i + 2, j, k + 2, Idx::beta_U_1) + (1.0/18.0)*state_fab(i + 2, j, k - 1, Idx::beta_U_1) - 1.0/144.0*state_fab(i + 2, j, k - 2, Idx::beta_U_1) - 4.0/9.0*state_fab(i - 1, j, k + 1, Idx::beta_U_1) + (1.0/18.0)*state_fab(i - 1, j, k + 2, Idx::beta_U_1) + (4.0/9.0)*state_fab(i - 1, j, k - 1, Idx::beta_U_1) - 1.0/18.0*state_fab(i - 1, j, k - 2, Idx::beta_U_1) + (1.0/18.0)*state_fab(i - 2, j, k + 1, Idx::beta_U_1) - 1.0/144.0*state_fab(i - 2, j, k + 2, Idx::beta_U_1) - 1.0/18.0*state_fab(i - 2, j, k - 1, Idx::beta_U_1) + (1.0/144.0)*state_fab(i - 2, j, k - 2, Idx::beta_U_1))/(dx[0]*dx[2]);\n",
      "        amrex::Real dDDbeta_ULL_111 = ((4.0/3.0)*state_fab(i, j + 1, k, Idx::beta_U_1) - 1.0/12.0*state_fab(i, j + 2, k, Idx::beta_U_1) + (4.0/3.0)*state_fab(i, j - 1, k, Idx::beta_U_1) - 1.0/12.0*state_fab(i, j - 2, k, Idx::beta_U_1) - 5.0/2.0*state_fab(i, j, k, Idx::beta_U_1))/std::pow(dx[1], 2);\n",
      "        amrex::Real dDDbeta_ULL_112 = ((4.0/9.0)*state_fab(i, j + 1, k + 1, Idx::beta_U_1) - 1.0/18.0*state_fab(i, j + 1, k + 2, Idx::beta_U_1) - 4.0/9.0*state_fab(i, j + 1, k - 1, Idx::beta_U_1) + (1.0/18.0)*state_fab(i, j + 1, k - 2, Idx::beta_U_1) - 1.0/18.0*state_fab(i, j + 2, k + 1, Idx::beta_U_1) + (1.0/144.0)*state_fab(i, j + 2, k + 2, Idx::beta_U_1) + (1.0/18.0)*state_fab(i, j + 2, k - 1, Idx::beta_U_1) - 1.0/144.0*state_fab(i, j + 2, k - 2, Idx::beta_U_1) - 4.0/9.0*state_fab(i, j - 1, k + 1, Idx::beta_U_1) + (1.0/18.0)*state_fab(i, j - 1, k + 2, Idx::beta_U_1) + (4.0/9.0)*state_fab(i, j - 1, k - 1, Idx::beta_U_1) - 1.0/18.0*state_fab(i, j - 1, k - 2, Idx::beta_U_1) + (1.0/18.0)*state_fab(i, j - 2, k + 1, Idx::beta_U_1) - 1.0/144.0*state_fab(i, j - 2, k + 2, Idx::beta_U_1) - 1.0/18.0*state_fab(i, j - 2, k - 1, Idx::beta_U_1) + (1.0/144.0)*state_fab(i, j - 2, k - 2, Idx::beta_U_1))/(dx[1]*dx[2]);\n",
      "        amrex::Real dDDbeta_ULL_122 = ((4.0/3.0)*state_fab(i, j, k + 1, Idx::beta_U_1) - 1.0/12.0*state_fab(i, j, k + 2, Idx::beta_U_1) + (4.0/3.0)*state_fab(i, j, k - 1, Idx::beta_U_1) - 1.0/12.0*state_fab(i, j, k - 2, Idx::beta_U_1) - 5.0/2.0*state_fab(i, j, k, Idx::beta_U_1))/std::pow(dx[2], 2);\n",
      "        amrex::Real dDDbeta_ULL_200 = ((4.0/3.0)*state_fab(i + 1, j, k, Idx::beta_U_2) - 1.0/12.0*state_fab(i + 2, j, k, Idx::beta_U_2) + (4.0/3.0)*state_fab(i - 1, j, k, Idx::beta_U_2) - 1.0/12.0*state_fab(i - 2, j, k, Idx::beta_U_2) - 5.0/2.0*state_fab(i, j, k, Idx::beta_U_2))/std::pow(dx[0], 2);\n",
      "        amrex::Real dDDbeta_ULL_201 = ((4.0/9.0)*state_fab(i + 1, j + 1, k, Idx::beta_U_2) - 1.0/18.0*state_fab(i + 1, j + 2, k, Idx::beta_U_2) - 4.0/9.0*state_fab(i + 1, j - 1, k, Idx::beta_U_2) + (1.0/18.0)*state_fab(i + 1, j - 2, k, Idx::beta_U_2) - 1.0/18.0*state_fab(i + 2, j + 1, k, Idx::beta_U_2) + (1.0/144.0)*state_fab(i + 2, j + 2, k, Idx::beta_U_2) + (1.0/18.0)*state_fab(i + 2, j - 1, k, Idx::beta_U_2) - 1.0/144.0*state_fab(i + 2, j - 2, k, Idx::beta_U_2) - 4.0/9.0*state_fab(i - 1, j + 1, k, Idx::beta_U_2) + (1.0/18.0)*state_fab(i - 1, j + 2, k, Idx::beta_U_2) + (4.0/9.0)*state_fab(i - 1, j - 1, k, Idx::beta_U_2) - 1.0/18.0*state_fab(i - 1, j - 2, k, Idx::beta_U_2) + (1.0/18.0)*state_fab(i - 2, j + 1, k, Idx::beta_U_2) - 1.0/144.0*state_fab(i - 2, j + 2, k, Idx::beta_U_2) - 1.0/18.0*state_fab(i - 2, j - 1, k, Idx::beta_U_2) + (1.0/144.0)*state_fab(i - 2, j - 2, k, Idx::beta_U_2))/(dx[0]*dx[1]);\n",
      "        amrex::Real dDDbeta_ULL_202 = ((4.0/9.0)*state_fab(i + 1, j, k + 1, Idx::beta_U_2) - 1.0/18.0*state_fab(i + 1, j, k + 2, Idx::beta_U_2) - 4.0/9.0*state_fab(i + 1, j, k - 1, Idx::beta_U_2) + (1.0/18.0)*state_fab(i + 1, j, k - 2, Idx::beta_U_2) - 1.0/18.0*state_fab(i + 2, j, k + 1, Idx::beta_U_2) + (1.0/144.0)*state_fab(i + 2, j, k + 2, Idx::beta_U_2) + (1.0/18.0)*state_fab(i + 2, j, k - 1, Idx::beta_U_2) - 1.0/144.0*state_fab(i + 2, j, k - 2, Idx::beta_U_2) - 4.0/9.0*state_fab(i - 1, j, k + 1, Idx::beta_U_2) + (1.0/18.0)*state_fab(i - 1, j, k + 2, Idx::beta_U_2) + (4.0/9.0)*state_fab(i - 1, j, k - 1, Idx::beta_U_2) - 1.0/18.0*state_fab(i - 1, j, k - 2, Idx::beta_U_2) + (1.0/18.0)*state_fab(i - 2, j, k + 1, Idx::beta_U_2) - 1.0/144.0*state_fab(i - 2, j, k + 2, Idx::beta_U_2) - 1.0/18.0*state_fab(i - 2, j, k - 1, Idx::beta_U_2) + (1.0/144.0)*state_fab(i - 2, j, k - 2, Idx::beta_U_2))/(dx[0]*dx[2]);\n",
      "        amrex::Real dDDbeta_ULL_211 = ((4.0/3.0)*state_fab(i, j + 1, k, Idx::beta_U_2) - 1.0/12.0*state_fab(i, j + 2, k, Idx::beta_U_2) + (4.0/3.0)*state_fab(i, j - 1, k, Idx::beta_U_2) - 1.0/12.0*state_fab(i, j - 2, k, Idx::beta_U_2) - 5.0/2.0*state_fab(i, j, k, Idx::beta_U_2))/std::pow(dx[1], 2);\n",
      "        amrex::Real dDDbeta_ULL_212 = ((4.0/9.0)*state_fab(i, j + 1, k + 1, Idx::beta_U_2) - 1.0/18.0*state_fab(i, j + 1, k + 2, Idx::beta_U_2) - 4.0/9.0*state_fab(i, j + 1, k - 1, Idx::beta_U_2) + (1.0/18.0)*state_fab(i, j + 1, k - 2, Idx::beta_U_2) - 1.0/18.0*state_fab(i, j + 2, k + 1, Idx::beta_U_2) + (1.0/144.0)*state_fab(i, j + 2, k + 2, Idx::beta_U_2) + (1.0/18.0)*state_fab(i, j + 2, k - 1, Idx::beta_U_2) - 1.0/144.0*state_fab(i, j + 2, k - 2, Idx::beta_U_2) - 4.0/9.0*state_fab(i, j - 1, k + 1, Idx::beta_U_2) + (1.0/18.0)*state_fab(i, j - 1, k + 2, Idx::beta_U_2) + (4.0/9.0)*state_fab(i, j - 1, k - 1, Idx::beta_U_2) - 1.0/18.0*state_fab(i, j - 1, k - 2, Idx::beta_U_2) + (1.0/18.0)*state_fab(i, j - 2, k + 1, Idx::beta_U_2) - 1.0/144.0*state_fab(i, j - 2, k + 2, Idx::beta_U_2) - 1.0/18.0*state_fab(i, j - 2, k - 1, Idx::beta_U_2) + (1.0/144.0)*state_fab(i, j - 2, k - 2, Idx::beta_U_2))/(dx[1]*dx[2]);\n",
      "        amrex::Real dDDbeta_ULL_222 = ((4.0/3.0)*state_fab(i, j, k + 1, Idx::beta_U_2) - 1.0/12.0*state_fab(i, j, k + 2, Idx::beta_U_2) + (4.0/3.0)*state_fab(i, j, k - 1, Idx::beta_U_2) - 1.0/12.0*state_fab(i, j, k - 2, Idx::beta_U_2) - 5.0/2.0*state_fab(i, j, k, Idx::beta_U_2))/std::pow(dx[2], 2);\n",
      "\n",
      "        amrex::Real dKODbeta_U_0 = ((15.0/64.0)*state_fab(i, j, k + 1, Idx::beta_U_0) - 3.0/32.0*state_fab(i, j, k + 2, Idx::beta_U_0) + (1.0/64.0)*state_fab(i, j, k + 3, Idx::beta_U_0) + (15.0/64.0)*state_fab(i, j, k - 1, Idx::beta_U_0) - 3.0/32.0*state_fab(i, j, k - 2, Idx::beta_U_0) + (1.0/64.0)*state_fab(i, j, k - 3, Idx::beta_U_0) - 5.0/16.0*state_fab(i, j, k, Idx::beta_U_0))/dx[2] + ((15.0/64.0)*state_fab(i, j + 1, k, Idx::beta_U_0) - 3.0/32.0*state_fab(i, j + 2, k, Idx::beta_U_0) + (1.0/64.0)*state_fab(i, j + 3, k, Idx::beta_U_0) + (15.0/64.0)*state_fab(i, j - 1, k, Idx::beta_U_0) - 3.0/32.0*state_fab(i, j - 2, k, Idx::beta_U_0) + (1.0/64.0)*state_fab(i, j - 3, k, Idx::beta_U_0) - 5.0/16.0*state_fab(i, j, k, Idx::beta_U_0))/dx[1] + ((15.0/64.0)*state_fab(i + 1, j, k, Idx::beta_U_0) - 3.0/32.0*state_fab(i + 2, j, k, Idx::beta_U_0) + (1.0/64.0)*state_fab(i + 3, j, k, Idx::beta_U_0) + (15.0/64.0)*state_fab(i - 1, j, k, Idx::beta_U_0) - 3.0/32.0*state_fab(i - 2, j, k, Idx::beta_U_0) + (1.0/64.0)*state_fab(i - 3, j, k, Idx::beta_U_0) - 5.0/16.0*state_fab(i, j, k, Idx::beta_U_0))/dx[0];\n",
      "        amrex::Real dKODbeta_U_1 = ((15.0/64.0)*state_fab(i, j, k + 1, Idx::beta_U_1) - 3.0/32.0*state_fab(i, j, k + 2, Idx::beta_U_1) + (1.0/64.0)*state_fab(i, j, k + 3, Idx::beta_U_1) + (15.0/64.0)*state_fab(i, j, k - 1, Idx::beta_U_1) - 3.0/32.0*state_fab(i, j, k - 2, Idx::beta_U_1) + (1.0/64.0)*state_fab(i, j, k - 3, Idx::beta_U_1) - 5.0/16.0*state_fab(i, j, k, Idx::beta_U_1))/dx[2] + ((15.0/64.0)*state_fab(i, j + 1, k, Idx::beta_U_1) - 3.0/32.0*state_fab(i, j + 2, k, Idx::beta_U_1) + (1.0/64.0)*state_fab(i, j + 3, k, Idx::beta_U_1) + (15.0/64.0)*state_fab(i, j - 1, k, Idx::beta_U_1) - 3.0/32.0*state_fab(i, j - 2, k, Idx::beta_U_1) + (1.0/64.0)*state_fab(i, j - 3, k, Idx::beta_U_1) - 5.0/16.0*state_fab(i, j, k, Idx::beta_U_1))/dx[1] + ((15.0/64.0)*state_fab(i + 1, j, k, Idx::beta_U_1) - 3.0/32.0*state_fab(i + 2, j, k, Idx::beta_U_1) + (1.0/64.0)*state_fab(i + 3, j, k, Idx::beta_U_1) + (15.0/64.0)*state_fab(i - 1, j, k, Idx::beta_U_1) - 3.0/32.0*state_fab(i - 2, j, k, Idx::beta_U_1) + (1.0/64.0)*state_fab(i - 3, j, k, Idx::beta_U_1) - 5.0/16.0*state_fab(i, j, k, Idx::beta_U_1))/dx[0];\n",
      "        amrex::Real dKODbeta_U_2 = ((15.0/64.0)*state_fab(i, j, k + 1, Idx::beta_U_2) - 3.0/32.0*state_fab(i, j, k + 2, Idx::beta_U_2) + (1.0/64.0)*state_fab(i, j, k + 3, Idx::beta_U_2) + (15.0/64.0)*state_fab(i, j, k - 1, Idx::beta_U_2) - 3.0/32.0*state_fab(i, j, k - 2, Idx::beta_U_2) + (1.0/64.0)*state_fab(i, j, k - 3, Idx::beta_U_2) - 5.0/16.0*state_fab(i, j, k, Idx::beta_U_2))/dx[2] + ((15.0/64.0)*state_fab(i, j + 1, k, Idx::beta_U_2) - 3.0/32.0*state_fab(i, j + 2, k, Idx::beta_U_2) + (1.0/64.0)*state_fab(i, j + 3, k, Idx::beta_U_2) + (15.0/64.0)*state_fab(i, j - 1, k, Idx::beta_U_2) - 3.0/32.0*state_fab(i, j - 2, k, Idx::beta_U_2) + (1.0/64.0)*state_fab(i, j - 3, k, Idx::beta_U_2) - 5.0/16.0*state_fab(i, j, k, Idx::beta_U_2))/dx[1] + ((15.0/64.0)*state_fab(i + 1, j, k, Idx::beta_U_2) - 3.0/32.0*state_fab(i + 2, j, k, Idx::beta_U_2) + (1.0/64.0)*state_fab(i + 3, j, k, Idx::beta_U_2) + (15.0/64.0)*state_fab(i - 1, j, k, Idx::beta_U_2) - 3.0/32.0*state_fab(i - 2, j, k, Idx::beta_U_2) + (1.0/64.0)*state_fab(i - 3, j, k, Idx::beta_U_2) - 5.0/16.0*state_fab(i, j, k, Idx::beta_U_2))/dx[0];\n",
      "\n",
      "        amrex::Real AdvDbetabeta_U_0 = beta_U_0*(ddnDbeta_UL_00*(beta_U_0 < 0) + dupDbeta_UL_00*(beta_U_0 > 0)) + beta_U_1*(ddnDbeta_UL_01*(beta_U_1 < 0) + dupDbeta_UL_01*(beta_U_1 > 0)) + beta_U_2*(ddnDbeta_UL_02*(beta_U_2 < 0) + dupDbeta_UL_02*(beta_U_2 > 0));\n",
      "        amrex::Real AdvDbetabeta_U_1 = beta_U_0*(ddnDbeta_UL_10*(beta_U_0 < 0) + dupDbeta_UL_10*(beta_U_0 > 0)) + beta_U_1*(ddnDbeta_UL_11*(beta_U_1 < 0) + dupDbeta_UL_11*(beta_U_1 > 0)) + beta_U_2*(ddnDbeta_UL_12*(beta_U_2 < 0) + dupDbeta_UL_12*(beta_U_2 > 0));\n",
      "        amrex::Real AdvDbetabeta_U_2 = beta_U_0*(ddnDbeta_UL_20*(beta_U_0 < 0) + dupDbeta_UL_20*(beta_U_0 > 0)) + beta_U_1*(ddnDbeta_UL_21*(beta_U_1 < 0) + dupDbeta_UL_21*(beta_U_1 > 0)) + beta_U_2*(ddnDbeta_UL_22*(beta_U_2 < 0) + dupDbeta_UL_22*(beta_U_2 > 0));\n",
      "\n",
      "        amrex::Real invgamtilde_UU_00 = (gamtilde_LL_11*gamtilde_LL_22 - std::pow(gamtilde_LL_12, 2))/(gamtilde_LL_00*gamtilde_LL_11*gamtilde_LL_22 - gamtilde_LL_00*std::pow(gamtilde_LL_12, 2) - std::pow(gamtilde_LL_01, 2)*gamtilde_LL_22 + 2*gamtilde_LL_01*gamtilde_LL_02*gamtilde_LL_12 - std::pow(gamtilde_LL_02, 2)*gamtilde_LL_11);\n",
      "        amrex::Real invgamtilde_UU_01 = (-gamtilde_LL_01*gamtilde_LL_22 + gamtilde_LL_02*gamtilde_LL_12)/(gamtilde_LL_00*gamtilde_LL_11*gamtilde_LL_22 - gamtilde_LL_00*std::pow(gamtilde_LL_12, 2) - std::pow(gamtilde_LL_01, 2)*gamtilde_LL_22 + 2*gamtilde_LL_01*gamtilde_LL_02*gamtilde_LL_12 - std::pow(gamtilde_LL_02, 2)*gamtilde_LL_11);\n",
      "        amrex::Real invgamtilde_UU_02 = (gamtilde_LL_01*gamtilde_LL_12 - gamtilde_LL_02*gamtilde_LL_11)/(gamtilde_LL_00*gamtilde_LL_11*gamtilde_LL_22 - gamtilde_LL_00*std::pow(gamtilde_LL_12, 2) - std::pow(gamtilde_LL_01, 2)*gamtilde_LL_22 + 2*gamtilde_LL_01*gamtilde_LL_02*gamtilde_LL_12 - std::pow(gamtilde_LL_02, 2)*gamtilde_LL_11);\n",
      "        amrex::Real invgamtilde_UU_11 = (gamtilde_LL_00*gamtilde_LL_22 - std::pow(gamtilde_LL_02, 2))/(gamtilde_LL_00*gamtilde_LL_11*gamtilde_LL_22 - gamtilde_LL_00*std::pow(gamtilde_LL_12, 2) - std::pow(gamtilde_LL_01, 2)*gamtilde_LL_22 + 2*gamtilde_LL_01*gamtilde_LL_02*gamtilde_LL_12 - std::pow(gamtilde_LL_02, 2)*gamtilde_LL_11);\n",
      "        amrex::Real invgamtilde_UU_12 = (-gamtilde_LL_00*gamtilde_LL_12 + gamtilde_LL_01*gamtilde_LL_02)/(gamtilde_LL_00*gamtilde_LL_11*gamtilde_LL_22 - gamtilde_LL_00*std::pow(gamtilde_LL_12, 2) - std::pow(gamtilde_LL_01, 2)*gamtilde_LL_22 + 2*gamtilde_LL_01*gamtilde_LL_02*gamtilde_LL_12 - std::pow(gamtilde_LL_02, 2)*gamtilde_LL_11);\n",
      "        amrex::Real invgamtilde_UU_22 = (gamtilde_LL_00*gamtilde_LL_11 - std::pow(gamtilde_LL_01, 2))/(gamtilde_LL_00*gamtilde_LL_11*gamtilde_LL_22 - gamtilde_LL_00*std::pow(gamtilde_LL_12, 2) - std::pow(gamtilde_LL_01, 2)*gamtilde_LL_22 + 2*gamtilde_LL_01*gamtilde_LL_02*gamtilde_LL_12 - std::pow(gamtilde_LL_02, 2)*gamtilde_LL_11);\n",
      "\n",
      "        amrex::Real Christoffelgamtilde_LLL_000 = 0.5*dDgamtilde_LLL_000;\n",
      "        amrex::Real Christoffelgamtilde_LLL_001 = 0.5*dDgamtilde_LLL_001;\n",
      "        amrex::Real Christoffelgamtilde_LLL_002 = 0.5*dDgamtilde_LLL_002;\n",
      "        amrex::Real Christoffelgamtilde_LLL_011 = 1.0*dDgamtilde_LLL_011 - 0.5*dDgamtilde_LLL_110;\n",
      "        amrex::Real Christoffelgamtilde_LLL_012 = 0.5*dDgamtilde_LLL_012 + 0.5*dDgamtilde_LLL_021 - 0.5*dDgamtilde_LLL_120;\n",
      "        amrex::Real Christoffelgamtilde_LLL_022 = 1.0*dDgamtilde_LLL_022 - 0.5*dDgamtilde_LLL_220;\n",
      "        amrex::Real Christoffelgamtilde_LLL_100 = -0.5*dDgamtilde_LLL_001 + 1.0*dDgamtilde_LLL_010;\n",
      "        amrex::Real Christoffelgamtilde_LLL_101 = 0.5*dDgamtilde_LLL_110;\n",
      "        amrex::Real Christoffelgamtilde_LLL_102 = 0.5*dDgamtilde_LLL_012 - 0.5*dDgamtilde_LLL_021 + 0.5*dDgamtilde_LLL_120;\n",
      "        amrex::Real Christoffelgamtilde_LLL_111 = 0.5*dDgamtilde_LLL_111;\n",
      "        amrex::Real Christoffelgamtilde_LLL_112 = 0.5*dDgamtilde_LLL_112;\n",
      "        amrex::Real Christoffelgamtilde_LLL_122 = 1.0*dDgamtilde_LLL_122 - 0.5*dDgamtilde_LLL_221;\n",
      "        amrex::Real Christoffelgamtilde_LLL_200 = -0.5*dDgamtilde_LLL_002 + 1.0*dDgamtilde_LLL_020;\n",
      "        amrex::Real Christoffelgamtilde_LLL_201 = -0.5*dDgamtilde_LLL_012 + 0.5*dDgamtilde_LLL_021 + 0.5*dDgamtilde_LLL_120;\n",
      "        amrex::Real Christoffelgamtilde_LLL_202 = 0.5*dDgamtilde_LLL_220;\n",
      "        amrex::Real Christoffelgamtilde_LLL_211 = -0.5*dDgamtilde_LLL_112 + 1.0*dDgamtilde_LLL_121;\n",
      "        amrex::Real Christoffelgamtilde_LLL_212 = 0.5*dDgamtilde_LLL_221;\n",
      "        amrex::Real Christoffelgamtilde_LLL_222 = 0.5*dDgamtilde_LLL_222;\n",
      "\n",
      "        amrex::Real Christoffelgamtilde_ULL_000 = Christoffelgamtilde_LLL_000*invgamtilde_UU_00 + Christoffelgamtilde_LLL_100*invgamtilde_UU_01 + Christoffelgamtilde_LLL_200*invgamtilde_UU_02;\n",
      "        amrex::Real Christoffelgamtilde_ULL_001 = Christoffelgamtilde_LLL_001*invgamtilde_UU_00 + Christoffelgamtilde_LLL_101*invgamtilde_UU_01 + Christoffelgamtilde_LLL_201*invgamtilde_UU_02;\n",
      "        amrex::Real Christoffelgamtilde_ULL_002 = Christoffelgamtilde_LLL_002*invgamtilde_UU_00 + Christoffelgamtilde_LLL_102*invgamtilde_UU_01 + Christoffelgamtilde_LLL_202*invgamtilde_UU_02;\n",
      "        amrex::Real Christoffelgamtilde_ULL_011 = Christoffelgamtilde_LLL_011*invgamtilde_UU_00 + Christoffelgamtilde_LLL_111*invgamtilde_UU_01 + Christoffelgamtilde_LLL_211*invgamtilde_UU_02;\n",
      "        amrex::Real Christoffelgamtilde_ULL_012 = Christoffelgamtilde_LLL_012*invgamtilde_UU_00 + Christoffelgamtilde_LLL_112*invgamtilde_UU_01 + Christoffelgamtilde_LLL_212*invgamtilde_UU_02;\n",
      "        amrex::Real Christoffelgamtilde_ULL_022 = Christoffelgamtilde_LLL_022*invgamtilde_UU_00 + Christoffelgamtilde_LLL_122*invgamtilde_UU_01 + Christoffelgamtilde_LLL_222*invgamtilde_UU_02;\n",
      "        amrex::Real Christoffelgamtilde_ULL_100 = Christoffelgamtilde_LLL_000*invgamtilde_UU_01 + Christoffelgamtilde_LLL_100*invgamtilde_UU_11 + Christoffelgamtilde_LLL_200*invgamtilde_UU_12;\n",
      "        amrex::Real Christoffelgamtilde_ULL_101 = Christoffelgamtilde_LLL_001*invgamtilde_UU_01 + Christoffelgamtilde_LLL_101*invgamtilde_UU_11 + Christoffelgamtilde_LLL_201*invgamtilde_UU_12;\n",
      "        amrex::Real Christoffelgamtilde_ULL_102 = Christoffelgamtilde_LLL_002*invgamtilde_UU_01 + Christoffelgamtilde_LLL_102*invgamtilde_UU_11 + Christoffelgamtilde_LLL_202*invgamtilde_UU_12;\n",
      "        amrex::Real Christoffelgamtilde_ULL_111 = Christoffelgamtilde_LLL_011*invgamtilde_UU_01 + Christoffelgamtilde_LLL_111*invgamtilde_UU_11 + Christoffelgamtilde_LLL_211*invgamtilde_UU_12;\n",
      "        amrex::Real Christoffelgamtilde_ULL_112 = Christoffelgamtilde_LLL_012*invgamtilde_UU_01 + Christoffelgamtilde_LLL_112*invgamtilde_UU_11 + Christoffelgamtilde_LLL_212*invgamtilde_UU_12;\n",
      "        amrex::Real Christoffelgamtilde_ULL_122 = Christoffelgamtilde_LLL_022*invgamtilde_UU_01 + Christoffelgamtilde_LLL_122*invgamtilde_UU_11 + Christoffelgamtilde_LLL_222*invgamtilde_UU_12;\n",
      "        amrex::Real Christoffelgamtilde_ULL_200 = Christoffelgamtilde_LLL_000*invgamtilde_UU_02 + Christoffelgamtilde_LLL_100*invgamtilde_UU_12 + Christoffelgamtilde_LLL_200*invgamtilde_UU_22;\n",
      "        amrex::Real Christoffelgamtilde_ULL_201 = Christoffelgamtilde_LLL_001*invgamtilde_UU_02 + Christoffelgamtilde_LLL_101*invgamtilde_UU_12 + Christoffelgamtilde_LLL_201*invgamtilde_UU_22;\n",
      "        amrex::Real Christoffelgamtilde_ULL_202 = Christoffelgamtilde_LLL_002*invgamtilde_UU_02 + Christoffelgamtilde_LLL_102*invgamtilde_UU_12 + Christoffelgamtilde_LLL_202*invgamtilde_UU_22;\n",
      "        amrex::Real Christoffelgamtilde_ULL_211 = Christoffelgamtilde_LLL_011*invgamtilde_UU_02 + Christoffelgamtilde_LLL_111*invgamtilde_UU_12 + Christoffelgamtilde_LLL_211*invgamtilde_UU_22;\n",
      "        amrex::Real Christoffelgamtilde_ULL_212 = Christoffelgamtilde_LLL_012*invgamtilde_UU_02 + Christoffelgamtilde_LLL_112*invgamtilde_UU_12 + Christoffelgamtilde_LLL_212*invgamtilde_UU_22;\n",
      "        amrex::Real Christoffelgamtilde_ULL_222 = Christoffelgamtilde_LLL_022*invgamtilde_UU_02 + Christoffelgamtilde_LLL_122*invgamtilde_UU_12 + Christoffelgamtilde_LLL_222*invgamtilde_UU_22;\n",
      "\n",
      "        amrex::Real ConformalChristoffelchigamtilde_ULL_000 = Christoffelgamtilde_ULL_000 + 0.5*dDchi_L_0*gamtilde_LL_00*invgamtilde_UU_00/chi - 1.0*dDchi_L_0/chi + 0.5*dDchi_L_1*gamtilde_LL_00*invgamtilde_UU_01/chi + 0.5*dDchi_L_2*gamtilde_LL_00*invgamtilde_UU_02/chi;\n",
      "        amrex::Real ConformalChristoffelchigamtilde_ULL_001 = Christoffelgamtilde_ULL_001 + 0.5*dDchi_L_0*gamtilde_LL_01*invgamtilde_UU_00/chi + 0.5*dDchi_L_1*gamtilde_LL_01*invgamtilde_UU_01/chi - 0.5*dDchi_L_1/chi + 0.5*dDchi_L_2*gamtilde_LL_01*invgamtilde_UU_02/chi;\n",
      "        amrex::Real ConformalChristoffelchigamtilde_ULL_002 = Christoffelgamtilde_ULL_002 + 0.5*dDchi_L_0*gamtilde_LL_02*invgamtilde_UU_00/chi + 0.5*dDchi_L_1*gamtilde_LL_02*invgamtilde_UU_01/chi + 0.5*dDchi_L_2*gamtilde_LL_02*invgamtilde_UU_02/chi - 0.5*dDchi_L_2/chi;\n",
      "        amrex::Real ConformalChristoffelchigamtilde_ULL_011 = Christoffelgamtilde_ULL_011 + 0.5*dDchi_L_0*gamtilde_LL_11*invgamtilde_UU_00/chi + 0.5*dDchi_L_1*gamtilde_LL_11*invgamtilde_UU_01/chi + 0.5*dDchi_L_2*gamtilde_LL_11*invgamtilde_UU_02/chi;\n",
      "        amrex::Real ConformalChristoffelchigamtilde_ULL_012 = Christoffelgamtilde_ULL_012 + 0.5*dDchi_L_0*gamtilde_LL_12*invgamtilde_UU_00/chi + 0.5*dDchi_L_1*gamtilde_LL_12*invgamtilde_UU_01/chi + 0.5*dDchi_L_2*gamtilde_LL_12*invgamtilde_UU_02/chi;\n",
      "        amrex::Real ConformalChristoffelchigamtilde_ULL_022 = Christoffelgamtilde_ULL_022 + 0.5*dDchi_L_0*gamtilde_LL_22*invgamtilde_UU_00/chi + 0.5*dDchi_L_1*gamtilde_LL_22*invgamtilde_UU_01/chi + 0.5*dDchi_L_2*gamtilde_LL_22*invgamtilde_UU_02/chi;\n",
      "        amrex::Real ConformalChristoffelchigamtilde_ULL_100 = Christoffelgamtilde_ULL_100 + 0.5*dDchi_L_0*gamtilde_LL_00*invgamtilde_UU_01/chi + 0.5*dDchi_L_1*gamtilde_LL_00*invgamtilde_UU_11/chi + 0.5*dDchi_L_2*gamtilde_LL_00*invgamtilde_UU_12/chi;\n",
      "        amrex::Real ConformalChristoffelchigamtilde_ULL_101 = Christoffelgamtilde_ULL_101 + 0.5*dDchi_L_0*gamtilde_LL_01*invgamtilde_UU_01/chi - 0.5*dDchi_L_0/chi + 0.5*dDchi_L_1*gamtilde_LL_01*invgamtilde_UU_11/chi + 0.5*dDchi_L_2*gamtilde_LL_01*invgamtilde_UU_12/chi;\n",
      "        amrex::Real ConformalChristoffelchigamtilde_ULL_102 = Christoffelgamtilde_ULL_102 + 0.5*dDchi_L_0*gamtilde_LL_02*invgamtilde_UU_01/chi + 0.5*dDchi_L_1*gamtilde_LL_02*invgamtilde_UU_11/chi + 0.5*dDchi_L_2*gamtilde_LL_02*invgamtilde_UU_12/chi;\n",
      "        amrex::Real ConformalChristoffelchigamtilde_ULL_111 = Christoffelgamtilde_ULL_111 + 0.5*dDchi_L_0*gamtilde_LL_11*invgamtilde_UU_01/chi + 0.5*dDchi_L_1*gamtilde_LL_11*invgamtilde_UU_11/chi - 1.0*dDchi_L_1/chi + 0.5*dDchi_L_2*gamtilde_LL_11*invgamtilde_UU_12/chi;\n",
      "        amrex::Real ConformalChristoffelchigamtilde_ULL_112 = Christoffelgamtilde_ULL_112 + 0.5*dDchi_L_0*gamtilde_LL_12*invgamtilde_UU_01/chi + 0.5*dDchi_L_1*gamtilde_LL_12*invgamtilde_UU_11/chi + 0.5*dDchi_L_2*gamtilde_LL_12*invgamtilde_UU_12/chi - 0.5*dDchi_L_2/chi;\n",
      "        amrex::Real ConformalChristoffelchigamtilde_ULL_122 = Christoffelgamtilde_ULL_122 + 0.5*dDchi_L_0*gamtilde_LL_22*invgamtilde_UU_01/chi + 0.5*dDchi_L_1*gamtilde_LL_22*invgamtilde_UU_11/chi + 0.5*dDchi_L_2*gamtilde_LL_22*invgamtilde_UU_12/chi;\n",
      "        amrex::Real ConformalChristoffelchigamtilde_ULL_200 = Christoffelgamtilde_ULL_200 + 0.5*dDchi_L_0*gamtilde_LL_00*invgamtilde_UU_02/chi + 0.5*dDchi_L_1*gamtilde_LL_00*invgamtilde_UU_12/chi + 0.5*dDchi_L_2*gamtilde_LL_00*invgamtilde_UU_22/chi;\n",
      "        amrex::Real ConformalChristoffelchigamtilde_ULL_201 = Christoffelgamtilde_ULL_201 + 0.5*dDchi_L_0*gamtilde_LL_01*invgamtilde_UU_02/chi + 0.5*dDchi_L_1*gamtilde_LL_01*invgamtilde_UU_12/chi + 0.5*dDchi_L_2*gamtilde_LL_01*invgamtilde_UU_22/chi;\n",
      "        amrex::Real ConformalChristoffelchigamtilde_ULL_202 = Christoffelgamtilde_ULL_202 + 0.5*dDchi_L_0*gamtilde_LL_02*invgamtilde_UU_02/chi - 0.5*dDchi_L_0/chi + 0.5*dDchi_L_1*gamtilde_LL_02*invgamtilde_UU_12/chi + 0.5*dDchi_L_2*gamtilde_LL_02*invgamtilde_UU_22/chi;\n",
      "        amrex::Real ConformalChristoffelchigamtilde_ULL_211 = Christoffelgamtilde_ULL_211 + 0.5*dDchi_L_0*gamtilde_LL_11*invgamtilde_UU_02/chi + 0.5*dDchi_L_1*gamtilde_LL_11*invgamtilde_UU_12/chi + 0.5*dDchi_L_2*gamtilde_LL_11*invgamtilde_UU_22/chi;\n",
      "        amrex::Real ConformalChristoffelchigamtilde_ULL_212 = Christoffelgamtilde_ULL_212 + 0.5*dDchi_L_0*gamtilde_LL_12*invgamtilde_UU_02/chi + 0.5*dDchi_L_1*gamtilde_LL_12*invgamtilde_UU_12/chi - 0.5*dDchi_L_1/chi + 0.5*dDchi_L_2*gamtilde_LL_12*invgamtilde_UU_22/chi;\n",
      "        amrex::Real ConformalChristoffelchigamtilde_ULL_222 = Christoffelgamtilde_ULL_222 + 0.5*dDchi_L_0*gamtilde_LL_22*invgamtilde_UU_02/chi + 0.5*dDchi_L_1*gamtilde_LL_22*invgamtilde_UU_12/chi + 0.5*dDchi_L_2*gamtilde_LL_22*invgamtilde_UU_22/chi - 1.0*dDchi_L_2/chi;\n",
      "\n",
      "        amrex::Real CovdDDalpha_LL_00 = -ConformalChristoffelchigamtilde_ULL_000*dDalpha_L_0 - ConformalChristoffelchigamtilde_ULL_100*dDalpha_L_1 - ConformalChristoffelchigamtilde_ULL_200*dDalpha_L_2 + dDDalpha_LL_00;\n",
      "        amrex::Real CovdDDalpha_LL_01 = -ConformalChristoffelchigamtilde_ULL_001*dDalpha_L_0 - ConformalChristoffelchigamtilde_ULL_101*dDalpha_L_1 - ConformalChristoffelchigamtilde_ULL_201*dDalpha_L_2 + dDDalpha_LL_01;\n",
      "        amrex::Real CovdDDalpha_LL_02 = -ConformalChristoffelchigamtilde_ULL_002*dDalpha_L_0 - ConformalChristoffelchigamtilde_ULL_102*dDalpha_L_1 - ConformalChristoffelchigamtilde_ULL_202*dDalpha_L_2 + dDDalpha_LL_02;\n",
      "        amrex::Real CovdDDalpha_LL_11 = -ConformalChristoffelchigamtilde_ULL_011*dDalpha_L_0 - ConformalChristoffelchigamtilde_ULL_111*dDalpha_L_1 - ConformalChristoffelchigamtilde_ULL_211*dDalpha_L_2 + dDDalpha_LL_11;\n",
      "        amrex::Real CovdDDalpha_LL_12 = -ConformalChristoffelchigamtilde_ULL_012*dDalpha_L_0 - ConformalChristoffelchigamtilde_ULL_112*dDalpha_L_1 - ConformalChristoffelchigamtilde_ULL_212*dDalpha_L_2 + dDDalpha_LL_12;\n",
      "        amrex::Real CovdDDalpha_LL_22 = -ConformalChristoffelchigamtilde_ULL_022*dDalpha_L_0 - ConformalChristoffelchigamtilde_ULL_122*dDalpha_L_1 - ConformalChristoffelchigamtilde_ULL_222*dDalpha_L_2 + dDDalpha_LL_22;\n",
      "\n",
      "        amrex::Real gam_LL_00 = gamtilde_LL_00/chi;\n",
      "        amrex::Real gam_LL_01 = gamtilde_LL_01/chi;\n",
      "        amrex::Real gam_LL_02 = gamtilde_LL_02/chi;\n",
      "        amrex::Real gam_LL_11 = gamtilde_LL_11/chi;\n",
      "        amrex::Real gam_LL_12 = gamtilde_LL_12/chi;\n",
      "        amrex::Real gam_LL_22 = gamtilde_LL_22/chi;\n",
      "\n",
      "        amrex::Real invgam_UU_00 = chi*invgamtilde_UU_00;\n",
      "        amrex::Real invgam_UU_01 = chi*invgamtilde_UU_01;\n",
      "        amrex::Real invgam_UU_02 = chi*invgamtilde_UU_02;\n",
      "        amrex::Real invgam_UU_11 = chi*invgamtilde_UU_11;\n",
      "        amrex::Real invgam_UU_12 = chi*invgamtilde_UU_12;\n",
      "        amrex::Real invgam_UU_22 = chi*invgamtilde_UU_22;\n",
      "\n",
      "        amrex::Real Atilde_UU_00 = Atilde_LL_00*std::pow(invgamtilde_UU_00, 2) + 2*Atilde_LL_01*invgamtilde_UU_00*invgamtilde_UU_01 + 2*Atilde_LL_02*invgamtilde_UU_00*invgamtilde_UU_02 + Atilde_LL_11*std::pow(invgamtilde_UU_01, 2) + 2*Atilde_LL_12*invgamtilde_UU_01*invgamtilde_UU_02 + Atilde_LL_22*std::pow(invgamtilde_UU_02, 2);\n",
      "        amrex::Real Atilde_UU_01 = Atilde_LL_00*invgamtilde_UU_00*invgamtilde_UU_01 + Atilde_LL_01*invgamtilde_UU_00*invgamtilde_UU_11 + Atilde_LL_01*std::pow(invgamtilde_UU_01, 2) + Atilde_LL_02*invgamtilde_UU_00*invgamtilde_UU_12 + Atilde_LL_02*invgamtilde_UU_01*invgamtilde_UU_02 + Atilde_LL_11*invgamtilde_UU_01*invgamtilde_UU_11 + Atilde_LL_12*invgamtilde_UU_01*invgamtilde_UU_12 + Atilde_LL_12*invgamtilde_UU_02*invgamtilde_UU_11 + Atilde_LL_22*invgamtilde_UU_02*invgamtilde_UU_12;\n",
      "        amrex::Real Atilde_UU_02 = Atilde_LL_00*invgamtilde_UU_00*invgamtilde_UU_02 + Atilde_LL_01*invgamtilde_UU_00*invgamtilde_UU_12 + Atilde_LL_01*invgamtilde_UU_01*invgamtilde_UU_02 + Atilde_LL_02*invgamtilde_UU_00*invgamtilde_UU_22 + Atilde_LL_02*std::pow(invgamtilde_UU_02, 2) + Atilde_LL_11*invgamtilde_UU_01*invgamtilde_UU_12 + Atilde_LL_12*invgamtilde_UU_01*invgamtilde_UU_22 + Atilde_LL_12*invgamtilde_UU_02*invgamtilde_UU_12 + Atilde_LL_22*invgamtilde_UU_02*invgamtilde_UU_22;\n",
      "        amrex::Real Atilde_UU_11 = Atilde_LL_00*std::pow(invgamtilde_UU_01, 2) + 2*Atilde_LL_01*invgamtilde_UU_01*invgamtilde_UU_11 + 2*Atilde_LL_02*invgamtilde_UU_01*invgamtilde_UU_12 + Atilde_LL_11*std::pow(invgamtilde_UU_11, 2) + 2*Atilde_LL_12*invgamtilde_UU_11*invgamtilde_UU_12 + Atilde_LL_22*std::pow(invgamtilde_UU_12, 2);\n",
      "        amrex::Real Atilde_UU_12 = Atilde_LL_00*invgamtilde_UU_01*invgamtilde_UU_02 + Atilde_LL_01*invgamtilde_UU_01*invgamtilde_UU_12 + Atilde_LL_01*invgamtilde_UU_02*invgamtilde_UU_11 + Atilde_LL_02*invgamtilde_UU_01*invgamtilde_UU_22 + Atilde_LL_02*invgamtilde_UU_02*invgamtilde_UU_12 + Atilde_LL_11*invgamtilde_UU_11*invgamtilde_UU_12 + Atilde_LL_12*invgamtilde_UU_11*invgamtilde_UU_22 + Atilde_LL_12*std::pow(invgamtilde_UU_12, 2) + Atilde_LL_22*invgamtilde_UU_12*invgamtilde_UU_22;\n",
      "        amrex::Real Atilde_UU_22 = Atilde_LL_00*std::pow(invgamtilde_UU_02, 2) + 2*Atilde_LL_01*invgamtilde_UU_02*invgamtilde_UU_12 + 2*Atilde_LL_02*invgamtilde_UU_02*invgamtilde_UU_22 + Atilde_LL_11*std::pow(invgamtilde_UU_12, 2) + 2*Atilde_LL_12*invgamtilde_UU_12*invgamtilde_UU_22 + Atilde_LL_22*std::pow(invgamtilde_UU_22, 2);\n",
      "\n",
      "        amrex::Real Atilde_UL_00 = Atilde_LL_00*invgamtilde_UU_00 + Atilde_LL_01*invgamtilde_UU_01 + Atilde_LL_02*invgamtilde_UU_02;\n",
      "        amrex::Real Atilde_UL_01 = Atilde_LL_01*invgamtilde_UU_00 + Atilde_LL_11*invgamtilde_UU_01 + Atilde_LL_12*invgamtilde_UU_02;\n",
      "        amrex::Real Atilde_UL_02 = Atilde_LL_02*invgamtilde_UU_00 + Atilde_LL_12*invgamtilde_UU_01 + Atilde_LL_22*invgamtilde_UU_02;\n",
      "        amrex::Real Atilde_UL_10 = Atilde_LL_00*invgamtilde_UU_01 + Atilde_LL_01*invgamtilde_UU_11 + Atilde_LL_02*invgamtilde_UU_12;\n",
      "        amrex::Real Atilde_UL_11 = Atilde_LL_01*invgamtilde_UU_01 + Atilde_LL_11*invgamtilde_UU_11 + Atilde_LL_12*invgamtilde_UU_12;\n",
      "        amrex::Real Atilde_UL_12 = Atilde_LL_02*invgamtilde_UU_01 + Atilde_LL_12*invgamtilde_UU_11 + Atilde_LL_22*invgamtilde_UU_12;\n",
      "        amrex::Real Atilde_UL_20 = Atilde_LL_00*invgamtilde_UU_02 + Atilde_LL_01*invgamtilde_UU_12 + Atilde_LL_02*invgamtilde_UU_22;\n",
      "        amrex::Real Atilde_UL_21 = Atilde_LL_01*invgamtilde_UU_02 + Atilde_LL_11*invgamtilde_UU_12 + Atilde_LL_12*invgamtilde_UU_22;\n",
      "        amrex::Real Atilde_UL_22 = Atilde_LL_02*invgamtilde_UU_02 + Atilde_LL_12*invgamtilde_UU_12 + Atilde_LL_22*invgamtilde_UU_22;\n",
      "\n",
      "        amrex::Real CovDDalphaTF_LL_00 = -0.33333333333333331*CovdDDalpha_LL_00*gam_LL_00*invgam_UU_00 + CovdDDalpha_LL_00 - 0.66666666666666663*CovdDDalpha_LL_01*gam_LL_00*invgam_UU_01 - 0.66666666666666663*CovdDDalpha_LL_02*gam_LL_00*invgam_UU_02 - 0.33333333333333331*CovdDDalpha_LL_11*gam_LL_00*invgam_UU_11 - 0.66666666666666663*CovdDDalpha_LL_12*gam_LL_00*invgam_UU_12 - 0.33333333333333331*CovdDDalpha_LL_22*gam_LL_00*invgam_UU_22;\n",
      "        amrex::Real CovDDalphaTF_LL_01 = -0.33333333333333331*CovdDDalpha_LL_00*gam_LL_01*invgam_UU_00 - 0.66666666666666663*CovdDDalpha_LL_01*gam_LL_01*invgam_UU_01 + CovdDDalpha_LL_01 - 0.66666666666666663*CovdDDalpha_LL_02*gam_LL_01*invgam_UU_02 - 0.33333333333333331*CovdDDalpha_LL_11*gam_LL_01*invgam_UU_11 - 0.66666666666666663*CovdDDalpha_LL_12*gam_LL_01*invgam_UU_12 - 0.33333333333333331*CovdDDalpha_LL_22*gam_LL_01*invgam_UU_22;\n",
      "        amrex::Real CovDDalphaTF_LL_02 = -0.33333333333333331*CovdDDalpha_LL_00*gam_LL_02*invgam_UU_00 - 0.66666666666666663*CovdDDalpha_LL_01*gam_LL_02*invgam_UU_01 - 0.66666666666666663*CovdDDalpha_LL_02*gam_LL_02*invgam_UU_02 + CovdDDalpha_LL_02 - 0.33333333333333331*CovdDDalpha_LL_11*gam_LL_02*invgam_UU_11 - 0.66666666666666663*CovdDDalpha_LL_12*gam_LL_02*invgam_UU_12 - 0.33333333333333331*CovdDDalpha_LL_22*gam_LL_02*invgam_UU_22;\n",
      "        amrex::Real CovDDalphaTF_LL_11 = -0.33333333333333331*CovdDDalpha_LL_00*gam_LL_11*invgam_UU_00 - 0.66666666666666663*CovdDDalpha_LL_01*gam_LL_11*invgam_UU_01 - 0.66666666666666663*CovdDDalpha_LL_02*gam_LL_11*invgam_UU_02 - 0.33333333333333331*CovdDDalpha_LL_11*gam_LL_11*invgam_UU_11 + CovdDDalpha_LL_11 - 0.66666666666666663*CovdDDalpha_LL_12*gam_LL_11*invgam_UU_12 - 0.33333333333333331*CovdDDalpha_LL_22*gam_LL_11*invgam_UU_22;\n",
      "        amrex::Real CovDDalphaTF_LL_12 = -0.33333333333333331*CovdDDalpha_LL_00*gam_LL_12*invgam_UU_00 - 0.66666666666666663*CovdDDalpha_LL_01*gam_LL_12*invgam_UU_01 - 0.66666666666666663*CovdDDalpha_LL_02*gam_LL_12*invgam_UU_02 - 0.33333333333333331*CovdDDalpha_LL_11*gam_LL_12*invgam_UU_11 - 0.66666666666666663*CovdDDalpha_LL_12*gam_LL_12*invgam_UU_12 + CovdDDalpha_LL_12 - 0.33333333333333331*CovdDDalpha_LL_22*gam_LL_12*invgam_UU_22;\n",
      "        amrex::Real CovDDalphaTF_LL_22 = -0.33333333333333331*CovdDDalpha_LL_00*gam_LL_22*invgam_UU_00 - 0.66666666666666663*CovdDDalpha_LL_01*gam_LL_22*invgam_UU_01 - 0.66666666666666663*CovdDDalpha_LL_02*gam_LL_22*invgam_UU_02 - 0.33333333333333331*CovdDDalpha_LL_11*gam_LL_22*invgam_UU_11 - 0.66666666666666663*CovdDDalpha_LL_12*gam_LL_22*invgam_UU_12 - 0.33333333333333331*CovdDDalpha_LL_22*gam_LL_22*invgam_UU_22 + CovdDDalpha_LL_22;\n",
      "\n",
      "        amrex::Real ChristoffelDgamtilde_U_0 = Christoffelgamtilde_ULL_000*invgamtilde_UU_00 + 2*Christoffelgamtilde_ULL_001*invgamtilde_UU_01 + 2*Christoffelgamtilde_ULL_002*invgamtilde_UU_02 + Christoffelgamtilde_ULL_011*invgamtilde_UU_11 + 2*Christoffelgamtilde_ULL_012*invgamtilde_UU_12 + Christoffelgamtilde_ULL_022*invgamtilde_UU_22;\n",
      "        amrex::Real ChristoffelDgamtilde_U_1 = Christoffelgamtilde_ULL_100*invgamtilde_UU_00 + 2*Christoffelgamtilde_ULL_101*invgamtilde_UU_01 + 2*Christoffelgamtilde_ULL_102*invgamtilde_UU_02 + Christoffelgamtilde_ULL_111*invgamtilde_UU_11 + 2*Christoffelgamtilde_ULL_112*invgamtilde_UU_12 + Christoffelgamtilde_ULL_122*invgamtilde_UU_22;\n",
      "        amrex::Real ChristoffelDgamtilde_U_2 = Christoffelgamtilde_ULL_200*invgamtilde_UU_00 + 2*Christoffelgamtilde_ULL_201*invgamtilde_UU_01 + 2*Christoffelgamtilde_ULL_202*invgamtilde_UU_02 + Christoffelgamtilde_ULL_211*invgamtilde_UU_11 + 2*Christoffelgamtilde_ULL_212*invgamtilde_UU_12 + Christoffelgamtilde_ULL_222*invgamtilde_UU_22;\n",
      "\n",
      "        amrex::Real Z4cRicciTildegamtilde_LL_00 = 1.0*ChristoffelDgamtilde_U_0*Christoffelgamtilde_LLL_000 + 1.0*ChristoffelDgamtilde_U_1*Christoffelgamtilde_LLL_001 + 1.0*ChristoffelDgamtilde_U_2*Christoffelgamtilde_LLL_002 + 3*Christoffelgamtilde_LLL_000*Christoffelgamtilde_ULL_000*invgamtilde_UU_00 + 3*Christoffelgamtilde_LLL_000*Christoffelgamtilde_ULL_001*invgamtilde_UU_01 + 3*Christoffelgamtilde_LLL_000*Christoffelgamtilde_ULL_002*invgamtilde_UU_02 + 3*Christoffelgamtilde_LLL_001*Christoffelgamtilde_ULL_000*invgamtilde_UU_01 + 3*Christoffelgamtilde_LLL_001*Christoffelgamtilde_ULL_001*invgamtilde_UU_11 + 3*Christoffelgamtilde_LLL_001*Christoffelgamtilde_ULL_002*invgamtilde_UU_12 + 2*Christoffelgamtilde_LLL_001*Christoffelgamtilde_ULL_100*invgamtilde_UU_00 + 2*Christoffelgamtilde_LLL_001*Christoffelgamtilde_ULL_101*invgamtilde_UU_01 + 2*Christoffelgamtilde_LLL_001*Christoffelgamtilde_ULL_102*invgamtilde_UU_02 + 3*Christoffelgamtilde_LLL_002*Christoffelgamtilde_ULL_000*invgamtilde_UU_02 + 3*Christoffelgamtilde_LLL_002*Christoffelgamtilde_ULL_001*invgamtilde_UU_12 + 3*Christoffelgamtilde_LLL_002*Christoffelgamtilde_ULL_002*invgamtilde_UU_22 + 2*Christoffelgamtilde_LLL_002*Christoffelgamtilde_ULL_200*invgamtilde_UU_00 + 2*Christoffelgamtilde_LLL_002*Christoffelgamtilde_ULL_201*invgamtilde_UU_01 + 2*Christoffelgamtilde_LLL_002*Christoffelgamtilde_ULL_202*invgamtilde_UU_02 + 2*Christoffelgamtilde_LLL_011*Christoffelgamtilde_ULL_100*invgamtilde_UU_01 + 2*Christoffelgamtilde_LLL_011*Christoffelgamtilde_ULL_101*invgamtilde_UU_11 + 2*Christoffelgamtilde_LLL_011*Christoffelgamtilde_ULL_102*invgamtilde_UU_12 + 2*Christoffelgamtilde_LLL_012*Christoffelgamtilde_ULL_100*invgamtilde_UU_02 + 2*Christoffelgamtilde_LLL_012*Christoffelgamtilde_ULL_101*invgamtilde_UU_12 + 2*Christoffelgamtilde_LLL_012*Christoffelgamtilde_ULL_102*invgamtilde_UU_22 + 2*Christoffelgamtilde_LLL_012*Christoffelgamtilde_ULL_200*invgamtilde_UU_01 + 2*Christoffelgamtilde_LLL_012*Christoffelgamtilde_ULL_201*invgamtilde_UU_11 + 2*Christoffelgamtilde_LLL_012*Christoffelgamtilde_ULL_202*invgamtilde_UU_12 + 2*Christoffelgamtilde_LLL_022*Christoffelgamtilde_ULL_200*invgamtilde_UU_02 + 2*Christoffelgamtilde_LLL_022*Christoffelgamtilde_ULL_201*invgamtilde_UU_12 + 2*Christoffelgamtilde_LLL_022*Christoffelgamtilde_ULL_202*invgamtilde_UU_22 + Christoffelgamtilde_LLL_100*Christoffelgamtilde_ULL_100*invgamtilde_UU_00 + Christoffelgamtilde_LLL_100*Christoffelgamtilde_ULL_101*invgamtilde_UU_01 + Christoffelgamtilde_LLL_100*Christoffelgamtilde_ULL_102*invgamtilde_UU_02 + Christoffelgamtilde_LLL_101*Christoffelgamtilde_ULL_100*invgamtilde_UU_01 + Christoffelgamtilde_LLL_101*Christoffelgamtilde_ULL_101*invgamtilde_UU_11 + Christoffelgamtilde_LLL_101*Christoffelgamtilde_ULL_102*invgamtilde_UU_12 + Christoffelgamtilde_LLL_102*Christoffelgamtilde_ULL_100*invgamtilde_UU_02 + Christoffelgamtilde_LLL_102*Christoffelgamtilde_ULL_101*invgamtilde_UU_12 + Christoffelgamtilde_LLL_102*Christoffelgamtilde_ULL_102*invgamtilde_UU_22 + Christoffelgamtilde_LLL_200*Christoffelgamtilde_ULL_200*invgamtilde_UU_00 + Christoffelgamtilde_LLL_200*Christoffelgamtilde_ULL_201*invgamtilde_UU_01 + Christoffelgamtilde_LLL_200*Christoffelgamtilde_ULL_202*invgamtilde_UU_02 + Christoffelgamtilde_LLL_201*Christoffelgamtilde_ULL_200*invgamtilde_UU_01 + Christoffelgamtilde_LLL_201*Christoffelgamtilde_ULL_201*invgamtilde_UU_11 + Christoffelgamtilde_LLL_201*Christoffelgamtilde_ULL_202*invgamtilde_UU_12 + Christoffelgamtilde_LLL_202*Christoffelgamtilde_ULL_200*invgamtilde_UU_02 + Christoffelgamtilde_LLL_202*Christoffelgamtilde_ULL_201*invgamtilde_UU_12 + Christoffelgamtilde_LLL_202*Christoffelgamtilde_ULL_202*invgamtilde_UU_22 - 0.5*dDDgamtilde_LLLL_0000*invgamtilde_UU_00 - 1.0*dDDgamtilde_LLLL_0001*invgamtilde_UU_01 - 1.0*dDDgamtilde_LLLL_0002*invgamtilde_UU_02 - 0.5*dDDgamtilde_LLLL_0011*invgamtilde_UU_11 - 1.0*dDDgamtilde_LLLL_0012*invgamtilde_UU_12 - 0.5*dDDgamtilde_LLLL_0022*invgamtilde_UU_22 + 1.0*dDGamtilde_UL_00*gamtilde_LL_00 + 1.0*dDGamtilde_UL_10*gamtilde_LL_01 + 1.0*dDGamtilde_UL_20*gamtilde_LL_02;\n",
      "        amrex::Real Z4cRicciTildegamtilde_LL_01 = 0.5*ChristoffelDgamtilde_U_0*(Christoffelgamtilde_LLL_001 + Christoffelgamtilde_LLL_100) + 0.5*ChristoffelDgamtilde_U_1*(Christoffelgamtilde_LLL_011 + Christoffelgamtilde_LLL_101) + 0.5*ChristoffelDgamtilde_U_2*(Christoffelgamtilde_LLL_012 + Christoffelgamtilde_LLL_102) + Christoffelgamtilde_LLL_001*Christoffelgamtilde_ULL_000*invgamtilde_UU_00 + Christoffelgamtilde_LLL_001*Christoffelgamtilde_ULL_001*invgamtilde_UU_01 + Christoffelgamtilde_LLL_001*Christoffelgamtilde_ULL_002*invgamtilde_UU_02 + Christoffelgamtilde_LLL_011*Christoffelgamtilde_ULL_000*invgamtilde_UU_01 + Christoffelgamtilde_LLL_011*Christoffelgamtilde_ULL_001*invgamtilde_UU_11 + Christoffelgamtilde_LLL_011*Christoffelgamtilde_ULL_002*invgamtilde_UU_12 + Christoffelgamtilde_LLL_012*Christoffelgamtilde_ULL_000*invgamtilde_UU_02 + Christoffelgamtilde_LLL_012*Christoffelgamtilde_ULL_001*invgamtilde_UU_12 + Christoffelgamtilde_LLL_012*Christoffelgamtilde_ULL_002*invgamtilde_UU_22 + Christoffelgamtilde_LLL_101*Christoffelgamtilde_ULL_100*invgamtilde_UU_00 + Christoffelgamtilde_LLL_101*Christoffelgamtilde_ULL_101*invgamtilde_UU_01 + Christoffelgamtilde_LLL_101*Christoffelgamtilde_ULL_102*invgamtilde_UU_02 + Christoffelgamtilde_LLL_111*Christoffelgamtilde_ULL_100*invgamtilde_UU_01 + Christoffelgamtilde_LLL_111*Christoffelgamtilde_ULL_101*invgamtilde_UU_11 + Christoffelgamtilde_LLL_111*Christoffelgamtilde_ULL_102*invgamtilde_UU_12 + Christoffelgamtilde_LLL_112*Christoffelgamtilde_ULL_100*invgamtilde_UU_02 + Christoffelgamtilde_LLL_112*Christoffelgamtilde_ULL_101*invgamtilde_UU_12 + Christoffelgamtilde_LLL_112*Christoffelgamtilde_ULL_102*invgamtilde_UU_22 + Christoffelgamtilde_LLL_201*Christoffelgamtilde_ULL_200*invgamtilde_UU_00 + Christoffelgamtilde_LLL_201*Christoffelgamtilde_ULL_201*invgamtilde_UU_01 + Christoffelgamtilde_LLL_201*Christoffelgamtilde_ULL_202*invgamtilde_UU_02 + Christoffelgamtilde_LLL_211*Christoffelgamtilde_ULL_200*invgamtilde_UU_01 + Christoffelgamtilde_LLL_211*Christoffelgamtilde_ULL_201*invgamtilde_UU_11 + Christoffelgamtilde_LLL_211*Christoffelgamtilde_ULL_202*invgamtilde_UU_12 + Christoffelgamtilde_LLL_212*Christoffelgamtilde_ULL_200*invgamtilde_UU_02 + Christoffelgamtilde_LLL_212*Christoffelgamtilde_ULL_201*invgamtilde_UU_12 + Christoffelgamtilde_LLL_212*Christoffelgamtilde_ULL_202*invgamtilde_UU_22 - 0.5*dDDgamtilde_LLLL_0100*invgamtilde_UU_00 - 1.0*dDDgamtilde_LLLL_0101*invgamtilde_UU_01 - 1.0*dDDgamtilde_LLLL_0102*invgamtilde_UU_02 - 0.5*dDDgamtilde_LLLL_0111*invgamtilde_UU_11 - 1.0*dDDgamtilde_LLLL_0112*invgamtilde_UU_12 - 0.5*dDDgamtilde_LLLL_0122*invgamtilde_UU_22 + 0.5*dDGamtilde_UL_00*gamtilde_LL_01 + 0.5*dDGamtilde_UL_01*gamtilde_LL_00 + 0.5*dDGamtilde_UL_10*gamtilde_LL_11 + 0.5*dDGamtilde_UL_11*gamtilde_LL_01 + 0.5*dDGamtilde_UL_20*gamtilde_LL_12 + 0.5*dDGamtilde_UL_21*gamtilde_LL_02 + invgamtilde_UU_00*(Christoffelgamtilde_LLL_000*Christoffelgamtilde_ULL_001 + Christoffelgamtilde_LLL_100*Christoffelgamtilde_ULL_000) + invgamtilde_UU_00*(Christoffelgamtilde_LLL_001*Christoffelgamtilde_ULL_101 + Christoffelgamtilde_LLL_101*Christoffelgamtilde_ULL_100) + invgamtilde_UU_00*(Christoffelgamtilde_LLL_002*Christoffelgamtilde_ULL_201 + Christoffelgamtilde_LLL_102*Christoffelgamtilde_ULL_200) + invgamtilde_UU_01*(Christoffelgamtilde_LLL_000*Christoffelgamtilde_ULL_011 + Christoffelgamtilde_LLL_100*Christoffelgamtilde_ULL_001) + invgamtilde_UU_01*(Christoffelgamtilde_LLL_001*Christoffelgamtilde_ULL_001 + Christoffelgamtilde_LLL_101*Christoffelgamtilde_ULL_000) + invgamtilde_UU_01*(Christoffelgamtilde_LLL_001*Christoffelgamtilde_ULL_111 + Christoffelgamtilde_LLL_101*Christoffelgamtilde_ULL_101) + invgamtilde_UU_01*(Christoffelgamtilde_LLL_002*Christoffelgamtilde_ULL_211 + Christoffelgamtilde_LLL_102*Christoffelgamtilde_ULL_201) + invgamtilde_UU_01*(Christoffelgamtilde_LLL_011*Christoffelgamtilde_ULL_101 + Christoffelgamtilde_LLL_111*Christoffelgamtilde_ULL_100) + invgamtilde_UU_01*(Christoffelgamtilde_LLL_012*Christoffelgamtilde_ULL_201 + Christoffelgamtilde_LLL_112*Christoffelgamtilde_ULL_200) + invgamtilde_UU_02*(Christoffelgamtilde_LLL_000*Christoffelgamtilde_ULL_012 + Christoffelgamtilde_LLL_100*Christoffelgamtilde_ULL_002) + invgamtilde_UU_02*(Christoffelgamtilde_LLL_001*Christoffelgamtilde_ULL_112 + Christoffelgamtilde_LLL_101*Christoffelgamtilde_ULL_102) + invgamtilde_UU_02*(Christoffelgamtilde_LLL_002*Christoffelgamtilde_ULL_001 + Christoffelgamtilde_LLL_102*Christoffelgamtilde_ULL_000) + invgamtilde_UU_02*(Christoffelgamtilde_LLL_002*Christoffelgamtilde_ULL_212 + Christoffelgamtilde_LLL_102*Christoffelgamtilde_ULL_202) + invgamtilde_UU_02*(Christoffelgamtilde_LLL_012*Christoffelgamtilde_ULL_101 + Christoffelgamtilde_LLL_112*Christoffelgamtilde_ULL_100) + invgamtilde_UU_02*(Christoffelgamtilde_LLL_022*Christoffelgamtilde_ULL_201 + Christoffelgamtilde_LLL_122*Christoffelgamtilde_ULL_200) + invgamtilde_UU_11*(Christoffelgamtilde_LLL_001*Christoffelgamtilde_ULL_011 + Christoffelgamtilde_LLL_101*Christoffelgamtilde_ULL_001) + invgamtilde_UU_11*(Christoffelgamtilde_LLL_011*Christoffelgamtilde_ULL_111 + Christoffelgamtilde_LLL_111*Christoffelgamtilde_ULL_101) + invgamtilde_UU_11*(Christoffelgamtilde_LLL_012*Christoffelgamtilde_ULL_211 + Christoffelgamtilde_LLL_112*Christoffelgamtilde_ULL_201) + invgamtilde_UU_12*(Christoffelgamtilde_LLL_001*Christoffelgamtilde_ULL_012 + Christoffelgamtilde_LLL_101*Christoffelgamtilde_ULL_002) + invgamtilde_UU_12*(Christoffelgamtilde_LLL_002*Christoffelgamtilde_ULL_011 + Christoffelgamtilde_LLL_102*Christoffelgamtilde_ULL_001) + invgamtilde_UU_12*(Christoffelgamtilde_LLL_011*Christoffelgamtilde_ULL_112 + Christoffelgamtilde_LLL_111*Christoffelgamtilde_ULL_102) + invgamtilde_UU_12*(Christoffelgamtilde_LLL_012*Christoffelgamtilde_ULL_111 + Christoffelgamtilde_LLL_112*Christoffelgamtilde_ULL_101) + invgamtilde_UU_12*(Christoffelgamtilde_LLL_012*Christoffelgamtilde_ULL_212 + Christoffelgamtilde_LLL_112*Christoffelgamtilde_ULL_202) + invgamtilde_UU_12*(Christoffelgamtilde_LLL_022*Christoffelgamtilde_ULL_211 + Christoffelgamtilde_LLL_122*Christoffelgamtilde_ULL_201) + invgamtilde_UU_22*(Christoffelgamtilde_LLL_002*Christoffelgamtilde_ULL_012 + Christoffelgamtilde_LLL_102*Christoffelgamtilde_ULL_002) + invgamtilde_UU_22*(Christoffelgamtilde_LLL_012*Christoffelgamtilde_ULL_112 + Christoffelgamtilde_LLL_112*Christoffelgamtilde_ULL_102) + invgamtilde_UU_22*(Christoffelgamtilde_LLL_022*Christoffelgamtilde_ULL_212 + Christoffelgamtilde_LLL_122*Christoffelgamtilde_ULL_202);\n",
      "        amrex::Real Z4cRicciTildegamtilde_LL_02 = 0.5*ChristoffelDgamtilde_U_0*(Christoffelgamtilde_LLL_002 + Christoffelgamtilde_LLL_200) + 0.5*ChristoffelDgamtilde_U_1*(Christoffelgamtilde_LLL_012 + Christoffelgamtilde_LLL_201) + 0.5*ChristoffelDgamtilde_U_2*(Christoffelgamtilde_LLL_022 + Christoffelgamtilde_LLL_202) + Christoffelgamtilde_LLL_002*Christoffelgamtilde_ULL_000*invgamtilde_UU_00 + Christoffelgamtilde_LLL_002*Christoffelgamtilde_ULL_001*invgamtilde_UU_01 + Christoffelgamtilde_LLL_002*Christoffelgamtilde_ULL_002*invgamtilde_UU_02 + Christoffelgamtilde_LLL_012*Christoffelgamtilde_ULL_000*invgamtilde_UU_01 + Christoffelgamtilde_LLL_012*Christoffelgamtilde_ULL_001*invgamtilde_UU_11 + Christoffelgamtilde_LLL_012*Christoffelgamtilde_ULL_002*invgamtilde_UU_12 + Christoffelgamtilde_LLL_022*Christoffelgamtilde_ULL_000*invgamtilde_UU_02 + Christoffelgamtilde_LLL_022*Christoffelgamtilde_ULL_001*invgamtilde_UU_12 + Christoffelgamtilde_LLL_022*Christoffelgamtilde_ULL_002*invgamtilde_UU_22 + Christoffelgamtilde_LLL_102*Christoffelgamtilde_ULL_100*invgamtilde_UU_00 + Christoffelgamtilde_LLL_102*Christoffelgamtilde_ULL_101*invgamtilde_UU_01 + Christoffelgamtilde_LLL_102*Christoffelgamtilde_ULL_102*invgamtilde_UU_02 + Christoffelgamtilde_LLL_112*Christoffelgamtilde_ULL_100*invgamtilde_UU_01 + Christoffelgamtilde_LLL_112*Christoffelgamtilde_ULL_101*invgamtilde_UU_11 + Christoffelgamtilde_LLL_112*Christoffelgamtilde_ULL_102*invgamtilde_UU_12 + Christoffelgamtilde_LLL_122*Christoffelgamtilde_ULL_100*invgamtilde_UU_02 + Christoffelgamtilde_LLL_122*Christoffelgamtilde_ULL_101*invgamtilde_UU_12 + Christoffelgamtilde_LLL_122*Christoffelgamtilde_ULL_102*invgamtilde_UU_22 + Christoffelgamtilde_LLL_202*Christoffelgamtilde_ULL_200*invgamtilde_UU_00 + Christoffelgamtilde_LLL_202*Christoffelgamtilde_ULL_201*invgamtilde_UU_01 + Christoffelgamtilde_LLL_202*Christoffelgamtilde_ULL_202*invgamtilde_UU_02 + Christoffelgamtilde_LLL_212*Christoffelgamtilde_ULL_200*invgamtilde_UU_01 + Christoffelgamtilde_LLL_212*Christoffelgamtilde_ULL_201*invgamtilde_UU_11 + Christoffelgamtilde_LLL_212*Christoffelgamtilde_ULL_202*invgamtilde_UU_12 + Christoffelgamtilde_LLL_222*Christoffelgamtilde_ULL_200*invgamtilde_UU_02 + Christoffelgamtilde_LLL_222*Christoffelgamtilde_ULL_201*invgamtilde_UU_12 + Christoffelgamtilde_LLL_222*Christoffelgamtilde_ULL_202*invgamtilde_UU_22 - 0.5*dDDgamtilde_LLLL_0200*invgamtilde_UU_00 - 1.0*dDDgamtilde_LLLL_0201*invgamtilde_UU_01 - 1.0*dDDgamtilde_LLLL_0202*invgamtilde_UU_02 - 0.5*dDDgamtilde_LLLL_0211*invgamtilde_UU_11 - 1.0*dDDgamtilde_LLLL_0212*invgamtilde_UU_12 - 0.5*dDDgamtilde_LLLL_0222*invgamtilde_UU_22 + 0.5*dDGamtilde_UL_00*gamtilde_LL_02 + 0.5*dDGamtilde_UL_02*gamtilde_LL_00 + 0.5*dDGamtilde_UL_10*gamtilde_LL_12 + 0.5*dDGamtilde_UL_12*gamtilde_LL_01 + 0.5*dDGamtilde_UL_20*gamtilde_LL_22 + 0.5*dDGamtilde_UL_22*gamtilde_LL_02 + invgamtilde_UU_00*(Christoffelgamtilde_LLL_000*Christoffelgamtilde_ULL_002 + Christoffelgamtilde_LLL_200*Christoffelgamtilde_ULL_000) + invgamtilde_UU_00*(Christoffelgamtilde_LLL_001*Christoffelgamtilde_ULL_102 + Christoffelgamtilde_LLL_201*Christoffelgamtilde_ULL_100) + invgamtilde_UU_00*(Christoffelgamtilde_LLL_002*Christoffelgamtilde_ULL_202 + Christoffelgamtilde_LLL_202*Christoffelgamtilde_ULL_200) + invgamtilde_UU_01*(Christoffelgamtilde_LLL_000*Christoffelgamtilde_ULL_012 + Christoffelgamtilde_LLL_200*Christoffelgamtilde_ULL_001) + invgamtilde_UU_01*(Christoffelgamtilde_LLL_001*Christoffelgamtilde_ULL_002 + Christoffelgamtilde_LLL_201*Christoffelgamtilde_ULL_000) + invgamtilde_UU_01*(Christoffelgamtilde_LLL_001*Christoffelgamtilde_ULL_112 + Christoffelgamtilde_LLL_201*Christoffelgamtilde_ULL_101) + invgamtilde_UU_01*(Christoffelgamtilde_LLL_002*Christoffelgamtilde_ULL_212 + Christoffelgamtilde_LLL_202*Christoffelgamtilde_ULL_201) + invgamtilde_UU_01*(Christoffelgamtilde_LLL_011*Christoffelgamtilde_ULL_102 + Christoffelgamtilde_LLL_211*Christoffelgamtilde_ULL_100) + invgamtilde_UU_01*(Christoffelgamtilde_LLL_012*Christoffelgamtilde_ULL_202 + Christoffelgamtilde_LLL_212*Christoffelgamtilde_ULL_200) + invgamtilde_UU_02*(Christoffelgamtilde_LLL_000*Christoffelgamtilde_ULL_022 + Christoffelgamtilde_LLL_200*Christoffelgamtilde_ULL_002) + invgamtilde_UU_02*(Christoffelgamtilde_LLL_001*Christoffelgamtilde_ULL_122 + Christoffelgamtilde_LLL_201*Christoffelgamtilde_ULL_102) + invgamtilde_UU_02*(Christoffelgamtilde_LLL_002*Christoffelgamtilde_ULL_002 + Christoffelgamtilde_LLL_202*Christoffelgamtilde_ULL_000) + invgamtilde_UU_02*(Christoffelgamtilde_LLL_002*Christoffelgamtilde_ULL_222 + Christoffelgamtilde_LLL_202*Christoffelgamtilde_ULL_202) + invgamtilde_UU_02*(Christoffelgamtilde_LLL_012*Christoffelgamtilde_ULL_102 + Christoffelgamtilde_LLL_212*Christoffelgamtilde_ULL_100) + invgamtilde_UU_02*(Christoffelgamtilde_LLL_022*Christoffelgamtilde_ULL_202 + Christoffelgamtilde_LLL_222*Christoffelgamtilde_ULL_200) + invgamtilde_UU_11*(Christoffelgamtilde_LLL_001*Christoffelgamtilde_ULL_012 + Christoffelgamtilde_LLL_201*Christoffelgamtilde_ULL_001) + invgamtilde_UU_11*(Christoffelgamtilde_LLL_011*Christoffelgamtilde_ULL_112 + Christoffelgamtilde_LLL_211*Christoffelgamtilde_ULL_101) + invgamtilde_UU_11*(Christoffelgamtilde_LLL_012*Christoffelgamtilde_ULL_212 + Christoffelgamtilde_LLL_212*Christoffelgamtilde_ULL_201) + invgamtilde_UU_12*(Christoffelgamtilde_LLL_001*Christoffelgamtilde_ULL_022 + Christoffelgamtilde_LLL_201*Christoffelgamtilde_ULL_002) + invgamtilde_UU_12*(Christoffelgamtilde_LLL_002*Christoffelgamtilde_ULL_012 + Christoffelgamtilde_LLL_202*Christoffelgamtilde_ULL_001) + invgamtilde_UU_12*(Christoffelgamtilde_LLL_011*Christoffelgamtilde_ULL_122 + Christoffelgamtilde_LLL_211*Christoffelgamtilde_ULL_102) + invgamtilde_UU_12*(Christoffelgamtilde_LLL_012*Christoffelgamtilde_ULL_112 + Christoffelgamtilde_LLL_212*Christoffelgamtilde_ULL_101) + invgamtilde_UU_12*(Christoffelgamtilde_LLL_012*Christoffelgamtilde_ULL_222 + Christoffelgamtilde_LLL_212*Christoffelgamtilde_ULL_202) + invgamtilde_UU_12*(Christoffelgamtilde_LLL_022*Christoffelgamtilde_ULL_212 + Christoffelgamtilde_LLL_222*Christoffelgamtilde_ULL_201) + invgamtilde_UU_22*(Christoffelgamtilde_LLL_002*Christoffelgamtilde_ULL_022 + Christoffelgamtilde_LLL_202*Christoffelgamtilde_ULL_002) + invgamtilde_UU_22*(Christoffelgamtilde_LLL_012*Christoffelgamtilde_ULL_122 + Christoffelgamtilde_LLL_212*Christoffelgamtilde_ULL_102) + invgamtilde_UU_22*(Christoffelgamtilde_LLL_022*Christoffelgamtilde_ULL_222 + Christoffelgamtilde_LLL_222*Christoffelgamtilde_ULL_202);\n",
      "        amrex::Real Z4cRicciTildegamtilde_LL_11 = 1.0*ChristoffelDgamtilde_U_0*Christoffelgamtilde_LLL_101 + 1.0*ChristoffelDgamtilde_U_1*Christoffelgamtilde_LLL_111 + 1.0*ChristoffelDgamtilde_U_2*Christoffelgamtilde_LLL_112 + Christoffelgamtilde_LLL_001*Christoffelgamtilde_ULL_001*invgamtilde_UU_00 + Christoffelgamtilde_LLL_001*Christoffelgamtilde_ULL_011*invgamtilde_UU_01 + Christoffelgamtilde_LLL_001*Christoffelgamtilde_ULL_012*invgamtilde_UU_02 + Christoffelgamtilde_LLL_011*Christoffelgamtilde_ULL_001*invgamtilde_UU_01 + Christoffelgamtilde_LLL_011*Christoffelgamtilde_ULL_011*invgamtilde_UU_11 + Christoffelgamtilde_LLL_011*Christoffelgamtilde_ULL_012*invgamtilde_UU_12 + Christoffelgamtilde_LLL_012*Christoffelgamtilde_ULL_001*invgamtilde_UU_02 + Christoffelgamtilde_LLL_012*Christoffelgamtilde_ULL_011*invgamtilde_UU_12 + Christoffelgamtilde_LLL_012*Christoffelgamtilde_ULL_012*invgamtilde_UU_22 + 2*Christoffelgamtilde_LLL_100*Christoffelgamtilde_ULL_001*invgamtilde_UU_00 + 2*Christoffelgamtilde_LLL_100*Christoffelgamtilde_ULL_011*invgamtilde_UU_01 + 2*Christoffelgamtilde_LLL_100*Christoffelgamtilde_ULL_012*invgamtilde_UU_02 + 2*Christoffelgamtilde_LLL_101*Christoffelgamtilde_ULL_001*invgamtilde_UU_01 + 2*Christoffelgamtilde_LLL_101*Christoffelgamtilde_ULL_011*invgamtilde_UU_11 + 2*Christoffelgamtilde_LLL_101*Christoffelgamtilde_ULL_012*invgamtilde_UU_12 + 3*Christoffelgamtilde_LLL_101*Christoffelgamtilde_ULL_101*invgamtilde_UU_00 + 3*Christoffelgamtilde_LLL_101*Christoffelgamtilde_ULL_111*invgamtilde_UU_01 + 3*Christoffelgamtilde_LLL_101*Christoffelgamtilde_ULL_112*invgamtilde_UU_02 + 2*Christoffelgamtilde_LLL_102*Christoffelgamtilde_ULL_001*invgamtilde_UU_02 + 2*Christoffelgamtilde_LLL_102*Christoffelgamtilde_ULL_011*invgamtilde_UU_12 + 2*Christoffelgamtilde_LLL_102*Christoffelgamtilde_ULL_012*invgamtilde_UU_22 + 2*Christoffelgamtilde_LLL_102*Christoffelgamtilde_ULL_201*invgamtilde_UU_00 + 2*Christoffelgamtilde_LLL_102*Christoffelgamtilde_ULL_211*invgamtilde_UU_01 + 2*Christoffelgamtilde_LLL_102*Christoffelgamtilde_ULL_212*invgamtilde_UU_02 + 3*Christoffelgamtilde_LLL_111*Christoffelgamtilde_ULL_101*invgamtilde_UU_01 + 3*Christoffelgamtilde_LLL_111*Christoffelgamtilde_ULL_111*invgamtilde_UU_11 + 3*Christoffelgamtilde_LLL_111*Christoffelgamtilde_ULL_112*invgamtilde_UU_12 + 3*Christoffelgamtilde_LLL_112*Christoffelgamtilde_ULL_101*invgamtilde_UU_02 + 3*Christoffelgamtilde_LLL_112*Christoffelgamtilde_ULL_111*invgamtilde_UU_12 + 3*Christoffelgamtilde_LLL_112*Christoffelgamtilde_ULL_112*invgamtilde_UU_22 + 2*Christoffelgamtilde_LLL_112*Christoffelgamtilde_ULL_201*invgamtilde_UU_01 + 2*Christoffelgamtilde_LLL_112*Christoffelgamtilde_ULL_211*invgamtilde_UU_11 + 2*Christoffelgamtilde_LLL_112*Christoffelgamtilde_ULL_212*invgamtilde_UU_12 + 2*Christoffelgamtilde_LLL_122*Christoffelgamtilde_ULL_201*invgamtilde_UU_02 + 2*Christoffelgamtilde_LLL_122*Christoffelgamtilde_ULL_211*invgamtilde_UU_12 + 2*Christoffelgamtilde_LLL_122*Christoffelgamtilde_ULL_212*invgamtilde_UU_22 + Christoffelgamtilde_LLL_201*Christoffelgamtilde_ULL_201*invgamtilde_UU_00 + Christoffelgamtilde_LLL_201*Christoffelgamtilde_ULL_211*invgamtilde_UU_01 + Christoffelgamtilde_LLL_201*Christoffelgamtilde_ULL_212*invgamtilde_UU_02 + Christoffelgamtilde_LLL_211*Christoffelgamtilde_ULL_201*invgamtilde_UU_01 + Christoffelgamtilde_LLL_211*Christoffelgamtilde_ULL_211*invgamtilde_UU_11 + Christoffelgamtilde_LLL_211*Christoffelgamtilde_ULL_212*invgamtilde_UU_12 + Christoffelgamtilde_LLL_212*Christoffelgamtilde_ULL_201*invgamtilde_UU_02 + Christoffelgamtilde_LLL_212*Christoffelgamtilde_ULL_211*invgamtilde_UU_12 + Christoffelgamtilde_LLL_212*Christoffelgamtilde_ULL_212*invgamtilde_UU_22 - 0.5*dDDgamtilde_LLLL_1100*invgamtilde_UU_00 - 1.0*dDDgamtilde_LLLL_1101*invgamtilde_UU_01 - 1.0*dDDgamtilde_LLLL_1102*invgamtilde_UU_02 - 0.5*dDDgamtilde_LLLL_1111*invgamtilde_UU_11 - 1.0*dDDgamtilde_LLLL_1112*invgamtilde_UU_12 - 0.5*dDDgamtilde_LLLL_1122*invgamtilde_UU_22 + 1.0*dDGamtilde_UL_01*gamtilde_LL_01 + 1.0*dDGamtilde_UL_11*gamtilde_LL_11 + 1.0*dDGamtilde_UL_21*gamtilde_LL_12;\n",
      "        amrex::Real Z4cRicciTildegamtilde_LL_12 = 0.5*ChristoffelDgamtilde_U_0*(Christoffelgamtilde_LLL_102 + Christoffelgamtilde_LLL_201) + 0.5*ChristoffelDgamtilde_U_1*(Christoffelgamtilde_LLL_112 + Christoffelgamtilde_LLL_211) + 0.5*ChristoffelDgamtilde_U_2*(Christoffelgamtilde_LLL_122 + Christoffelgamtilde_LLL_212) + Christoffelgamtilde_LLL_002*Christoffelgamtilde_ULL_001*invgamtilde_UU_00 + Christoffelgamtilde_LLL_002*Christoffelgamtilde_ULL_011*invgamtilde_UU_01 + Christoffelgamtilde_LLL_002*Christoffelgamtilde_ULL_012*invgamtilde_UU_02 + Christoffelgamtilde_LLL_012*Christoffelgamtilde_ULL_001*invgamtilde_UU_01 + Christoffelgamtilde_LLL_012*Christoffelgamtilde_ULL_011*invgamtilde_UU_11 + Christoffelgamtilde_LLL_012*Christoffelgamtilde_ULL_012*invgamtilde_UU_12 + Christoffelgamtilde_LLL_022*Christoffelgamtilde_ULL_001*invgamtilde_UU_02 + Christoffelgamtilde_LLL_022*Christoffelgamtilde_ULL_011*invgamtilde_UU_12 + Christoffelgamtilde_LLL_022*Christoffelgamtilde_ULL_012*invgamtilde_UU_22 + Christoffelgamtilde_LLL_102*Christoffelgamtilde_ULL_101*invgamtilde_UU_00 + Christoffelgamtilde_LLL_102*Christoffelgamtilde_ULL_111*invgamtilde_UU_01 + Christoffelgamtilde_LLL_102*Christoffelgamtilde_ULL_112*invgamtilde_UU_02 + Christoffelgamtilde_LLL_112*Christoffelgamtilde_ULL_101*invgamtilde_UU_01 + Christoffelgamtilde_LLL_112*Christoffelgamtilde_ULL_111*invgamtilde_UU_11 + Christoffelgamtilde_LLL_112*Christoffelgamtilde_ULL_112*invgamtilde_UU_12 + Christoffelgamtilde_LLL_122*Christoffelgamtilde_ULL_101*invgamtilde_UU_02 + Christoffelgamtilde_LLL_122*Christoffelgamtilde_ULL_111*invgamtilde_UU_12 + Christoffelgamtilde_LLL_122*Christoffelgamtilde_ULL_112*invgamtilde_UU_22 + Christoffelgamtilde_LLL_202*Christoffelgamtilde_ULL_201*invgamtilde_UU_00 + Christoffelgamtilde_LLL_202*Christoffelgamtilde_ULL_211*invgamtilde_UU_01 + Christoffelgamtilde_LLL_202*Christoffelgamtilde_ULL_212*invgamtilde_UU_02 + Christoffelgamtilde_LLL_212*Christoffelgamtilde_ULL_201*invgamtilde_UU_01 + Christoffelgamtilde_LLL_212*Christoffelgamtilde_ULL_211*invgamtilde_UU_11 + Christoffelgamtilde_LLL_212*Christoffelgamtilde_ULL_212*invgamtilde_UU_12 + Christoffelgamtilde_LLL_222*Christoffelgamtilde_ULL_201*invgamtilde_UU_02 + Christoffelgamtilde_LLL_222*Christoffelgamtilde_ULL_211*invgamtilde_UU_12 + Christoffelgamtilde_LLL_222*Christoffelgamtilde_ULL_212*invgamtilde_UU_22 - 0.5*dDDgamtilde_LLLL_1200*invgamtilde_UU_00 - 1.0*dDDgamtilde_LLLL_1201*invgamtilde_UU_01 - 1.0*dDDgamtilde_LLLL_1202*invgamtilde_UU_02 - 0.5*dDDgamtilde_LLLL_1211*invgamtilde_UU_11 - 1.0*dDDgamtilde_LLLL_1212*invgamtilde_UU_12 - 0.5*dDDgamtilde_LLLL_1222*invgamtilde_UU_22 + 0.5*dDGamtilde_UL_01*gamtilde_LL_02 + 0.5*dDGamtilde_UL_02*gamtilde_LL_01 + 0.5*dDGamtilde_UL_11*gamtilde_LL_12 + 0.5*dDGamtilde_UL_12*gamtilde_LL_11 + 0.5*dDGamtilde_UL_21*gamtilde_LL_22 + 0.5*dDGamtilde_UL_22*gamtilde_LL_12 + invgamtilde_UU_00*(Christoffelgamtilde_LLL_100*Christoffelgamtilde_ULL_002 + Christoffelgamtilde_LLL_200*Christoffelgamtilde_ULL_001) + invgamtilde_UU_00*(Christoffelgamtilde_LLL_101*Christoffelgamtilde_ULL_102 + Christoffelgamtilde_LLL_201*Christoffelgamtilde_ULL_101) + invgamtilde_UU_00*(Christoffelgamtilde_LLL_102*Christoffelgamtilde_ULL_202 + Christoffelgamtilde_LLL_202*Christoffelgamtilde_ULL_201) + invgamtilde_UU_01*(Christoffelgamtilde_LLL_100*Christoffelgamtilde_ULL_012 + Christoffelgamtilde_LLL_200*Christoffelgamtilde_ULL_011) + invgamtilde_UU_01*(Christoffelgamtilde_LLL_101*Christoffelgamtilde_ULL_002 + Christoffelgamtilde_LLL_201*Christoffelgamtilde_ULL_001) + invgamtilde_UU_01*(Christoffelgamtilde_LLL_101*Christoffelgamtilde_ULL_112 + Christoffelgamtilde_LLL_201*Christoffelgamtilde_ULL_111) + invgamtilde_UU_01*(Christoffelgamtilde_LLL_102*Christoffelgamtilde_ULL_212 + Christoffelgamtilde_LLL_202*Christoffelgamtilde_ULL_211) + invgamtilde_UU_01*(Christoffelgamtilde_LLL_111*Christoffelgamtilde_ULL_102 + Christoffelgamtilde_LLL_211*Christoffelgamtilde_ULL_101) + invgamtilde_UU_01*(Christoffelgamtilde_LLL_112*Christoffelgamtilde_ULL_202 + Christoffelgamtilde_LLL_212*Christoffelgamtilde_ULL_201) + invgamtilde_UU_02*(Christoffelgamtilde_LLL_100*Christoffelgamtilde_ULL_022 + Christoffelgamtilde_LLL_200*Christoffelgamtilde_ULL_012) + invgamtilde_UU_02*(Christoffelgamtilde_LLL_101*Christoffelgamtilde_ULL_122 + Christoffelgamtilde_LLL_201*Christoffelgamtilde_ULL_112) + invgamtilde_UU_02*(Christoffelgamtilde_LLL_102*Christoffelgamtilde_ULL_002 + Christoffelgamtilde_LLL_202*Christoffelgamtilde_ULL_001) + invgamtilde_UU_02*(Christoffelgamtilde_LLL_102*Christoffelgamtilde_ULL_222 + Christoffelgamtilde_LLL_202*Christoffelgamtilde_ULL_212) + invgamtilde_UU_02*(Christoffelgamtilde_LLL_112*Christoffelgamtilde_ULL_102 + Christoffelgamtilde_LLL_212*Christoffelgamtilde_ULL_101) + invgamtilde_UU_02*(Christoffelgamtilde_LLL_122*Christoffelgamtilde_ULL_202 + Christoffelgamtilde_LLL_222*Christoffelgamtilde_ULL_201) + invgamtilde_UU_11*(Christoffelgamtilde_LLL_101*Christoffelgamtilde_ULL_012 + Christoffelgamtilde_LLL_201*Christoffelgamtilde_ULL_011) + invgamtilde_UU_11*(Christoffelgamtilde_LLL_111*Christoffelgamtilde_ULL_112 + Christoffelgamtilde_LLL_211*Christoffelgamtilde_ULL_111) + invgamtilde_UU_11*(Christoffelgamtilde_LLL_112*Christoffelgamtilde_ULL_212 + Christoffelgamtilde_LLL_212*Christoffelgamtilde_ULL_211) + invgamtilde_UU_12*(Christoffelgamtilde_LLL_101*Christoffelgamtilde_ULL_022 + Christoffelgamtilde_LLL_201*Christoffelgamtilde_ULL_012) + invgamtilde_UU_12*(Christoffelgamtilde_LLL_102*Christoffelgamtilde_ULL_012 + Christoffelgamtilde_LLL_202*Christoffelgamtilde_ULL_011) + invgamtilde_UU_12*(Christoffelgamtilde_LLL_111*Christoffelgamtilde_ULL_122 + Christoffelgamtilde_LLL_211*Christoffelgamtilde_ULL_112) + invgamtilde_UU_12*(Christoffelgamtilde_LLL_112*Christoffelgamtilde_ULL_112 + Christoffelgamtilde_LLL_212*Christoffelgamtilde_ULL_111) + invgamtilde_UU_12*(Christoffelgamtilde_LLL_112*Christoffelgamtilde_ULL_222 + Christoffelgamtilde_LLL_212*Christoffelgamtilde_ULL_212) + invgamtilde_UU_12*(Christoffelgamtilde_LLL_122*Christoffelgamtilde_ULL_212 + Christoffelgamtilde_LLL_222*Christoffelgamtilde_ULL_211) + invgamtilde_UU_22*(Christoffelgamtilde_LLL_102*Christoffelgamtilde_ULL_022 + Christoffelgamtilde_LLL_202*Christoffelgamtilde_ULL_012) + invgamtilde_UU_22*(Christoffelgamtilde_LLL_112*Christoffelgamtilde_ULL_122 + Christoffelgamtilde_LLL_212*Christoffelgamtilde_ULL_112) + invgamtilde_UU_22*(Christoffelgamtilde_LLL_122*Christoffelgamtilde_ULL_222 + Christoffelgamtilde_LLL_222*Christoffelgamtilde_ULL_212);\n",
      "        amrex::Real Z4cRicciTildegamtilde_LL_22 = 1.0*ChristoffelDgamtilde_U_0*Christoffelgamtilde_LLL_202 + 1.0*ChristoffelDgamtilde_U_1*Christoffelgamtilde_LLL_212 + 1.0*ChristoffelDgamtilde_U_2*Christoffelgamtilde_LLL_222 + Christoffelgamtilde_LLL_002*Christoffelgamtilde_ULL_002*invgamtilde_UU_00 + Christoffelgamtilde_LLL_002*Christoffelgamtilde_ULL_012*invgamtilde_UU_01 + Christoffelgamtilde_LLL_002*Christoffelgamtilde_ULL_022*invgamtilde_UU_02 + Christoffelgamtilde_LLL_012*Christoffelgamtilde_ULL_002*invgamtilde_UU_01 + Christoffelgamtilde_LLL_012*Christoffelgamtilde_ULL_012*invgamtilde_UU_11 + Christoffelgamtilde_LLL_012*Christoffelgamtilde_ULL_022*invgamtilde_UU_12 + Christoffelgamtilde_LLL_022*Christoffelgamtilde_ULL_002*invgamtilde_UU_02 + Christoffelgamtilde_LLL_022*Christoffelgamtilde_ULL_012*invgamtilde_UU_12 + Christoffelgamtilde_LLL_022*Christoffelgamtilde_ULL_022*invgamtilde_UU_22 + Christoffelgamtilde_LLL_102*Christoffelgamtilde_ULL_102*invgamtilde_UU_00 + Christoffelgamtilde_LLL_102*Christoffelgamtilde_ULL_112*invgamtilde_UU_01 + Christoffelgamtilde_LLL_102*Christoffelgamtilde_ULL_122*invgamtilde_UU_02 + Christoffelgamtilde_LLL_112*Christoffelgamtilde_ULL_102*invgamtilde_UU_01 + Christoffelgamtilde_LLL_112*Christoffelgamtilde_ULL_112*invgamtilde_UU_11 + Christoffelgamtilde_LLL_112*Christoffelgamtilde_ULL_122*invgamtilde_UU_12 + Christoffelgamtilde_LLL_122*Christoffelgamtilde_ULL_102*invgamtilde_UU_02 + Christoffelgamtilde_LLL_122*Christoffelgamtilde_ULL_112*invgamtilde_UU_12 + Christoffelgamtilde_LLL_122*Christoffelgamtilde_ULL_122*invgamtilde_UU_22 + 2*Christoffelgamtilde_LLL_200*Christoffelgamtilde_ULL_002*invgamtilde_UU_00 + 2*Christoffelgamtilde_LLL_200*Christoffelgamtilde_ULL_012*invgamtilde_UU_01 + 2*Christoffelgamtilde_LLL_200*Christoffelgamtilde_ULL_022*invgamtilde_UU_02 + 2*Christoffelgamtilde_LLL_201*Christoffelgamtilde_ULL_002*invgamtilde_UU_01 + 2*Christoffelgamtilde_LLL_201*Christoffelgamtilde_ULL_012*invgamtilde_UU_11 + 2*Christoffelgamtilde_LLL_201*Christoffelgamtilde_ULL_022*invgamtilde_UU_12 + 2*Christoffelgamtilde_LLL_201*Christoffelgamtilde_ULL_102*invgamtilde_UU_00 + 2*Christoffelgamtilde_LLL_201*Christoffelgamtilde_ULL_112*invgamtilde_UU_01 + 2*Christoffelgamtilde_LLL_201*Christoffelgamtilde_ULL_122*invgamtilde_UU_02 + 2*Christoffelgamtilde_LLL_202*Christoffelgamtilde_ULL_002*invgamtilde_UU_02 + 2*Christoffelgamtilde_LLL_202*Christoffelgamtilde_ULL_012*invgamtilde_UU_12 + 2*Christoffelgamtilde_LLL_202*Christoffelgamtilde_ULL_022*invgamtilde_UU_22 + 3*Christoffelgamtilde_LLL_202*Christoffelgamtilde_ULL_202*invgamtilde_UU_00 + 3*Christoffelgamtilde_LLL_202*Christoffelgamtilde_ULL_212*invgamtilde_UU_01 + 3*Christoffelgamtilde_LLL_202*Christoffelgamtilde_ULL_222*invgamtilde_UU_02 + 2*Christoffelgamtilde_LLL_211*Christoffelgamtilde_ULL_102*invgamtilde_UU_01 + 2*Christoffelgamtilde_LLL_211*Christoffelgamtilde_ULL_112*invgamtilde_UU_11 + 2*Christoffelgamtilde_LLL_211*Christoffelgamtilde_ULL_122*invgamtilde_UU_12 + 2*Christoffelgamtilde_LLL_212*Christoffelgamtilde_ULL_102*invgamtilde_UU_02 + 2*Christoffelgamtilde_LLL_212*Christoffelgamtilde_ULL_112*invgamtilde_UU_12 + 2*Christoffelgamtilde_LLL_212*Christoffelgamtilde_ULL_122*invgamtilde_UU_22 + 3*Christoffelgamtilde_LLL_212*Christoffelgamtilde_ULL_202*invgamtilde_UU_01 + 3*Christoffelgamtilde_LLL_212*Christoffelgamtilde_ULL_212*invgamtilde_UU_11 + 3*Christoffelgamtilde_LLL_212*Christoffelgamtilde_ULL_222*invgamtilde_UU_12 + 3*Christoffelgamtilde_LLL_222*Christoffelgamtilde_ULL_202*invgamtilde_UU_02 + 3*Christoffelgamtilde_LLL_222*Christoffelgamtilde_ULL_212*invgamtilde_UU_12 + 3*Christoffelgamtilde_LLL_222*Christoffelgamtilde_ULL_222*invgamtilde_UU_22 - 0.5*dDDgamtilde_LLLL_2200*invgamtilde_UU_00 - 1.0*dDDgamtilde_LLLL_2201*invgamtilde_UU_01 - 1.0*dDDgamtilde_LLLL_2202*invgamtilde_UU_02 - 0.5*dDDgamtilde_LLLL_2211*invgamtilde_UU_11 - 1.0*dDDgamtilde_LLLL_2212*invgamtilde_UU_12 - 0.5*dDDgamtilde_LLLL_2222*invgamtilde_UU_22 + 1.0*dDGamtilde_UL_02*gamtilde_LL_02 + 1.0*dDGamtilde_UL_12*gamtilde_LL_12 + 1.0*dDGamtilde_UL_22*gamtilde_LL_22;\n",
      "\n",
      "        amrex::Real CovdDchi_L_0 = dDchi_L_0;\n",
      "        amrex::Real CovdDchi_L_1 = dDchi_L_1;\n",
      "        amrex::Real CovdDchi_L_2 = dDchi_L_2;\n",
      "\n",
      "        amrex::Real CovdDDchi_LL_00 = -Christoffelgamtilde_ULL_000*dDchi_L_0 - Christoffelgamtilde_ULL_100*dDchi_L_1 - Christoffelgamtilde_ULL_200*dDchi_L_2 + dDDchi_LL_00;\n",
      "        amrex::Real CovdDDchi_LL_01 = -Christoffelgamtilde_ULL_001*dDchi_L_0 - Christoffelgamtilde_ULL_101*dDchi_L_1 - Christoffelgamtilde_ULL_201*dDchi_L_2 + dDDchi_LL_01;\n",
      "        amrex::Real CovdDDchi_LL_02 = -Christoffelgamtilde_ULL_002*dDchi_L_0 - Christoffelgamtilde_ULL_102*dDchi_L_1 - Christoffelgamtilde_ULL_202*dDchi_L_2 + dDDchi_LL_02;\n",
      "        amrex::Real CovdDDchi_LL_11 = -Christoffelgamtilde_ULL_011*dDchi_L_0 - Christoffelgamtilde_ULL_111*dDchi_L_1 - Christoffelgamtilde_ULL_211*dDchi_L_2 + dDDchi_LL_11;\n",
      "        amrex::Real CovdDDchi_LL_12 = -Christoffelgamtilde_ULL_012*dDchi_L_0 - Christoffelgamtilde_ULL_112*dDchi_L_1 - Christoffelgamtilde_ULL_212*dDchi_L_2 + dDDchi_LL_12;\n",
      "        amrex::Real CovdDDchi_LL_22 = -Christoffelgamtilde_ULL_022*dDchi_L_0 - Christoffelgamtilde_ULL_122*dDchi_L_1 - Christoffelgamtilde_ULL_222*dDchi_L_2 + dDDchi_LL_22;\n",
      "\n",
      "        amrex::Real Z4cRicciFromchigamtilde_LL_00 = (1.0/2.0)*CovdDDchi_LL_00/chi - 1.0/4.0*std::pow(CovdDchi_L_0, 2)/std::pow(chi, 2) + gamtilde_LL_00*((1.0/2.0)*CovdDDchi_LL_00*invgamtilde_UU_00/chi - 3.0/4.0*std::pow(CovdDchi_L_0, 2)*invgamtilde_UU_00/std::pow(chi, 2)) + 2*gamtilde_LL_00*((1.0/2.0)*CovdDDchi_LL_01*invgamtilde_UU_01/chi - 3.0/4.0*CovdDchi_L_0*CovdDchi_L_1*invgamtilde_UU_01/std::pow(chi, 2)) + 2*gamtilde_LL_00*((1.0/2.0)*CovdDDchi_LL_02*invgamtilde_UU_02/chi - 3.0/4.0*CovdDchi_L_0*CovdDchi_L_2*invgamtilde_UU_02/std::pow(chi, 2)) + gamtilde_LL_00*((1.0/2.0)*CovdDDchi_LL_11*invgamtilde_UU_11/chi - 3.0/4.0*std::pow(CovdDchi_L_1, 2)*invgamtilde_UU_11/std::pow(chi, 2)) + 2*gamtilde_LL_00*((1.0/2.0)*CovdDDchi_LL_12*invgamtilde_UU_12/chi - 3.0/4.0*CovdDchi_L_1*CovdDchi_L_2*invgamtilde_UU_12/std::pow(chi, 2)) + gamtilde_LL_00*((1.0/2.0)*CovdDDchi_LL_22*invgamtilde_UU_22/chi - 3.0/4.0*std::pow(CovdDchi_L_2, 2)*invgamtilde_UU_22/std::pow(chi, 2));\n",
      "        amrex::Real Z4cRicciFromchigamtilde_LL_01 = (1.0/2.0)*CovdDDchi_LL_01/chi - 1.0/4.0*CovdDchi_L_0*CovdDchi_L_1/std::pow(chi, 2) + gamtilde_LL_01*((1.0/2.0)*CovdDDchi_LL_00*invgamtilde_UU_00/chi - 3.0/4.0*std::pow(CovdDchi_L_0, 2)*invgamtilde_UU_00/std::pow(chi, 2)) + 2*gamtilde_LL_01*((1.0/2.0)*CovdDDchi_LL_01*invgamtilde_UU_01/chi - 3.0/4.0*CovdDchi_L_0*CovdDchi_L_1*invgamtilde_UU_01/std::pow(chi, 2)) + 2*gamtilde_LL_01*((1.0/2.0)*CovdDDchi_LL_02*invgamtilde_UU_02/chi - 3.0/4.0*CovdDchi_L_0*CovdDchi_L_2*invgamtilde_UU_02/std::pow(chi, 2)) + gamtilde_LL_01*((1.0/2.0)*CovdDDchi_LL_11*invgamtilde_UU_11/chi - 3.0/4.0*std::pow(CovdDchi_L_1, 2)*invgamtilde_UU_11/std::pow(chi, 2)) + 2*gamtilde_LL_01*((1.0/2.0)*CovdDDchi_LL_12*invgamtilde_UU_12/chi - 3.0/4.0*CovdDchi_L_1*CovdDchi_L_2*invgamtilde_UU_12/std::pow(chi, 2)) + gamtilde_LL_01*((1.0/2.0)*CovdDDchi_LL_22*invgamtilde_UU_22/chi - 3.0/4.0*std::pow(CovdDchi_L_2, 2)*invgamtilde_UU_22/std::pow(chi, 2));\n",
      "        amrex::Real Z4cRicciFromchigamtilde_LL_02 = (1.0/2.0)*CovdDDchi_LL_02/chi - 1.0/4.0*CovdDchi_L_0*CovdDchi_L_2/std::pow(chi, 2) + gamtilde_LL_02*((1.0/2.0)*CovdDDchi_LL_00*invgamtilde_UU_00/chi - 3.0/4.0*std::pow(CovdDchi_L_0, 2)*invgamtilde_UU_00/std::pow(chi, 2)) + 2*gamtilde_LL_02*((1.0/2.0)*CovdDDchi_LL_01*invgamtilde_UU_01/chi - 3.0/4.0*CovdDchi_L_0*CovdDchi_L_1*invgamtilde_UU_01/std::pow(chi, 2)) + 2*gamtilde_LL_02*((1.0/2.0)*CovdDDchi_LL_02*invgamtilde_UU_02/chi - 3.0/4.0*CovdDchi_L_0*CovdDchi_L_2*invgamtilde_UU_02/std::pow(chi, 2)) + gamtilde_LL_02*((1.0/2.0)*CovdDDchi_LL_11*invgamtilde_UU_11/chi - 3.0/4.0*std::pow(CovdDchi_L_1, 2)*invgamtilde_UU_11/std::pow(chi, 2)) + 2*gamtilde_LL_02*((1.0/2.0)*CovdDDchi_LL_12*invgamtilde_UU_12/chi - 3.0/4.0*CovdDchi_L_1*CovdDchi_L_2*invgamtilde_UU_12/std::pow(chi, 2)) + gamtilde_LL_02*((1.0/2.0)*CovdDDchi_LL_22*invgamtilde_UU_22/chi - 3.0/4.0*std::pow(CovdDchi_L_2, 2)*invgamtilde_UU_22/std::pow(chi, 2));\n",
      "        amrex::Real Z4cRicciFromchigamtilde_LL_11 = (1.0/2.0)*CovdDDchi_LL_11/chi - 1.0/4.0*std::pow(CovdDchi_L_1, 2)/std::pow(chi, 2) + gamtilde_LL_11*((1.0/2.0)*CovdDDchi_LL_00*invgamtilde_UU_00/chi - 3.0/4.0*std::pow(CovdDchi_L_0, 2)*invgamtilde_UU_00/std::pow(chi, 2)) + 2*gamtilde_LL_11*((1.0/2.0)*CovdDDchi_LL_01*invgamtilde_UU_01/chi - 3.0/4.0*CovdDchi_L_0*CovdDchi_L_1*invgamtilde_UU_01/std::pow(chi, 2)) + 2*gamtilde_LL_11*((1.0/2.0)*CovdDDchi_LL_02*invgamtilde_UU_02/chi - 3.0/4.0*CovdDchi_L_0*CovdDchi_L_2*invgamtilde_UU_02/std::pow(chi, 2)) + gamtilde_LL_11*((1.0/2.0)*CovdDDchi_LL_11*invgamtilde_UU_11/chi - 3.0/4.0*std::pow(CovdDchi_L_1, 2)*invgamtilde_UU_11/std::pow(chi, 2)) + 2*gamtilde_LL_11*((1.0/2.0)*CovdDDchi_LL_12*invgamtilde_UU_12/chi - 3.0/4.0*CovdDchi_L_1*CovdDchi_L_2*invgamtilde_UU_12/std::pow(chi, 2)) + gamtilde_LL_11*((1.0/2.0)*CovdDDchi_LL_22*invgamtilde_UU_22/chi - 3.0/4.0*std::pow(CovdDchi_L_2, 2)*invgamtilde_UU_22/std::pow(chi, 2));\n",
      "        amrex::Real Z4cRicciFromchigamtilde_LL_12 = (1.0/2.0)*CovdDDchi_LL_12/chi - 1.0/4.0*CovdDchi_L_1*CovdDchi_L_2/std::pow(chi, 2) + gamtilde_LL_12*((1.0/2.0)*CovdDDchi_LL_00*invgamtilde_UU_00/chi - 3.0/4.0*std::pow(CovdDchi_L_0, 2)*invgamtilde_UU_00/std::pow(chi, 2)) + 2*gamtilde_LL_12*((1.0/2.0)*CovdDDchi_LL_01*invgamtilde_UU_01/chi - 3.0/4.0*CovdDchi_L_0*CovdDchi_L_1*invgamtilde_UU_01/std::pow(chi, 2)) + 2*gamtilde_LL_12*((1.0/2.0)*CovdDDchi_LL_02*invgamtilde_UU_02/chi - 3.0/4.0*CovdDchi_L_0*CovdDchi_L_2*invgamtilde_UU_02/std::pow(chi, 2)) + gamtilde_LL_12*((1.0/2.0)*CovdDDchi_LL_11*invgamtilde_UU_11/chi - 3.0/4.0*std::pow(CovdDchi_L_1, 2)*invgamtilde_UU_11/std::pow(chi, 2)) + 2*gamtilde_LL_12*((1.0/2.0)*CovdDDchi_LL_12*invgamtilde_UU_12/chi - 3.0/4.0*CovdDchi_L_1*CovdDchi_L_2*invgamtilde_UU_12/std::pow(chi, 2)) + gamtilde_LL_12*((1.0/2.0)*CovdDDchi_LL_22*invgamtilde_UU_22/chi - 3.0/4.0*std::pow(CovdDchi_L_2, 2)*invgamtilde_UU_22/std::pow(chi, 2));\n",
      "        amrex::Real Z4cRicciFromchigamtilde_LL_22 = (1.0/2.0)*CovdDDchi_LL_22/chi - 1.0/4.0*std::pow(CovdDchi_L_2, 2)/std::pow(chi, 2) + gamtilde_LL_22*((1.0/2.0)*CovdDDchi_LL_00*invgamtilde_UU_00/chi - 3.0/4.0*std::pow(CovdDchi_L_0, 2)*invgamtilde_UU_00/std::pow(chi, 2)) + 2*gamtilde_LL_22*((1.0/2.0)*CovdDDchi_LL_01*invgamtilde_UU_01/chi - 3.0/4.0*CovdDchi_L_0*CovdDchi_L_1*invgamtilde_UU_01/std::pow(chi, 2)) + 2*gamtilde_LL_22*((1.0/2.0)*CovdDDchi_LL_02*invgamtilde_UU_02/chi - 3.0/4.0*CovdDchi_L_0*CovdDchi_L_2*invgamtilde_UU_02/std::pow(chi, 2)) + gamtilde_LL_22*((1.0/2.0)*CovdDDchi_LL_11*invgamtilde_UU_11/chi - 3.0/4.0*std::pow(CovdDchi_L_1, 2)*invgamtilde_UU_11/std::pow(chi, 2)) + 2*gamtilde_LL_22*((1.0/2.0)*CovdDDchi_LL_12*invgamtilde_UU_12/chi - 3.0/4.0*CovdDchi_L_1*CovdDchi_L_2*invgamtilde_UU_12/std::pow(chi, 2)) + gamtilde_LL_22*((1.0/2.0)*CovdDDchi_LL_22*invgamtilde_UU_22/chi - 3.0/4.0*std::pow(CovdDchi_L_2, 2)*invgamtilde_UU_22/std::pow(chi, 2));\n",
      "\n",
      "        amrex::Real R_LL_00 = Z4cRicciFromchigamtilde_LL_00 + Z4cRicciTildegamtilde_LL_00;\n",
      "        amrex::Real R_LL_01 = Z4cRicciFromchigamtilde_LL_01 + Z4cRicciTildegamtilde_LL_01;\n",
      "        amrex::Real R_LL_02 = Z4cRicciFromchigamtilde_LL_02 + Z4cRicciTildegamtilde_LL_02;\n",
      "        amrex::Real R_LL_11 = Z4cRicciFromchigamtilde_LL_11 + Z4cRicciTildegamtilde_LL_11;\n",
      "        amrex::Real R_LL_12 = Z4cRicciFromchigamtilde_LL_12 + Z4cRicciTildegamtilde_LL_12;\n",
      "        amrex::Real R_LL_22 = Z4cRicciFromchigamtilde_LL_22 + Z4cRicciTildegamtilde_LL_22;\n",
      "\n",
      "        amrex::Real Rsclr = R_LL_00*invgam_UU_00 + 2*R_LL_01*invgam_UU_01 + 2*R_LL_02*invgam_UU_02 + R_LL_11*invgam_UU_11 + 2*R_LL_12*invgam_UU_12 + R_LL_22*invgam_UU_22;\n",
      "\n",
      "        amrex::Real RTF_LL_00 = R_LL_00 - 0.33333333333333331*Rsclr*gam_LL_00;\n",
      "        amrex::Real RTF_LL_01 = R_LL_01 - 0.33333333333333331*Rsclr*gam_LL_01;\n",
      "        amrex::Real RTF_LL_02 = R_LL_02 - 0.33333333333333331*Rsclr*gam_LL_02;\n",
      "        amrex::Real RTF_LL_11 = R_LL_11 - 0.33333333333333331*Rsclr*gam_LL_11;\n",
      "        amrex::Real RTF_LL_12 = R_LL_12 - 0.33333333333333331*Rsclr*gam_LL_12;\n",
      "        amrex::Real RTF_LL_22 = R_LL_22 - 0.33333333333333331*Rsclr*gam_LL_22;\n",
      "\n",
      "        amrex::Real CovdDbeta_UL_00 = Christoffelgamtilde_ULL_000*beta_U_0 + Christoffelgamtilde_ULL_001*beta_U_1 + Christoffelgamtilde_ULL_002*beta_U_2 + dDbeta_UL_00;\n",
      "        amrex::Real CovdDbeta_UL_01 = Christoffelgamtilde_ULL_001*beta_U_0 + Christoffelgamtilde_ULL_011*beta_U_1 + Christoffelgamtilde_ULL_012*beta_U_2 + dDbeta_UL_01;\n",
      "        amrex::Real CovdDbeta_UL_02 = Christoffelgamtilde_ULL_002*beta_U_0 + Christoffelgamtilde_ULL_012*beta_U_1 + Christoffelgamtilde_ULL_022*beta_U_2 + dDbeta_UL_02;\n",
      "        amrex::Real CovdDbeta_UL_10 = Christoffelgamtilde_ULL_100*beta_U_0 + Christoffelgamtilde_ULL_101*beta_U_1 + Christoffelgamtilde_ULL_102*beta_U_2 + dDbeta_UL_10;\n",
      "        amrex::Real CovdDbeta_UL_11 = Christoffelgamtilde_ULL_101*beta_U_0 + Christoffelgamtilde_ULL_111*beta_U_1 + Christoffelgamtilde_ULL_112*beta_U_2 + dDbeta_UL_11;\n",
      "        amrex::Real CovdDbeta_UL_12 = Christoffelgamtilde_ULL_102*beta_U_0 + Christoffelgamtilde_ULL_112*beta_U_1 + Christoffelgamtilde_ULL_122*beta_U_2 + dDbeta_UL_12;\n",
      "        amrex::Real CovdDbeta_UL_20 = Christoffelgamtilde_ULL_200*beta_U_0 + Christoffelgamtilde_ULL_201*beta_U_1 + Christoffelgamtilde_ULL_202*beta_U_2 + dDbeta_UL_20;\n",
      "        amrex::Real CovdDbeta_UL_21 = Christoffelgamtilde_ULL_201*beta_U_0 + Christoffelgamtilde_ULL_211*beta_U_1 + Christoffelgamtilde_ULL_212*beta_U_2 + dDbeta_UL_21;\n",
      "        amrex::Real CovdDbeta_UL_22 = Christoffelgamtilde_ULL_202*beta_U_0 + Christoffelgamtilde_ULL_212*beta_U_1 + Christoffelgamtilde_ULL_222*beta_U_2 + dDbeta_UL_22;\n",
      "\n",
      "        amrex::Real divTildebeta = CovdDbeta_UL_00 + CovdDbeta_UL_11 + CovdDbeta_UL_22;\n",
      "\n",
      "        amrex::Real KOSigma = 0.32000000000000001;\n",
      "\n",
      "        rhs_fab(i, j, k, Idx::chi) = AdvDbetachi + KOSigma*dKODchi + 0.66666666666666663*chi*(alpha*(Khat + 2*theta) - divTildebeta);\n",
      "\n",
      "        rhs_fab(i, j, k, Idx::gamtilde_LL_00) = AdvDbetagamtilde_LL_00 - 2*Atilde_LL_00*alpha + KOSigma*dKODgamtilde_LL_00 + 1.3333333333333335*dDbeta_UL_00*gamtilde_LL_00 + 2*dDbeta_UL_10*gamtilde_LL_01 - 0.66666666666666663*dDbeta_UL_11*gamtilde_LL_00 + 2*dDbeta_UL_20*gamtilde_LL_02 - 0.66666666666666663*dDbeta_UL_22*gamtilde_LL_00;\n",
      "        rhs_fab(i, j, k, Idx::gamtilde_LL_01) = AdvDbetagamtilde_LL_01 - 2*Atilde_LL_01*alpha + KOSigma*dKODgamtilde_LL_01 + 0.33333333333333337*dDbeta_UL_00*gamtilde_LL_01 + dDbeta_UL_01*gamtilde_LL_00 + dDbeta_UL_10*gamtilde_LL_11 + 0.33333333333333337*dDbeta_UL_11*gamtilde_LL_01 + dDbeta_UL_20*gamtilde_LL_12 + dDbeta_UL_21*gamtilde_LL_02 - 0.66666666666666663*dDbeta_UL_22*gamtilde_LL_01;\n",
      "        rhs_fab(i, j, k, Idx::gamtilde_LL_02) = AdvDbetagamtilde_LL_02 - 2*Atilde_LL_02*alpha + KOSigma*dKODgamtilde_LL_02 + 0.33333333333333337*dDbeta_UL_00*gamtilde_LL_02 + dDbeta_UL_02*gamtilde_LL_00 + dDbeta_UL_10*gamtilde_LL_12 - 0.66666666666666663*dDbeta_UL_11*gamtilde_LL_02 + dDbeta_UL_12*gamtilde_LL_01 + dDbeta_UL_20*gamtilde_LL_22 + 0.33333333333333337*dDbeta_UL_22*gamtilde_LL_02;\n",
      "        rhs_fab(i, j, k, Idx::gamtilde_LL_11) = AdvDbetagamtilde_LL_11 - 2*Atilde_LL_11*alpha + KOSigma*dKODgamtilde_LL_11 - 0.66666666666666663*dDbeta_UL_00*gamtilde_LL_11 + 2*dDbeta_UL_01*gamtilde_LL_01 + 1.3333333333333335*dDbeta_UL_11*gamtilde_LL_11 + 2*dDbeta_UL_21*gamtilde_LL_12 - 0.66666666666666663*dDbeta_UL_22*gamtilde_LL_11;\n",
      "        rhs_fab(i, j, k, Idx::gamtilde_LL_12) = AdvDbetagamtilde_LL_12 - 2*Atilde_LL_12*alpha + KOSigma*dKODgamtilde_LL_12 - 0.66666666666666663*dDbeta_UL_00*gamtilde_LL_12 + dDbeta_UL_01*gamtilde_LL_02 + dDbeta_UL_02*gamtilde_LL_01 + 0.33333333333333337*dDbeta_UL_11*gamtilde_LL_12 + dDbeta_UL_12*gamtilde_LL_11 + dDbeta_UL_21*gamtilde_LL_22 + 0.33333333333333337*dDbeta_UL_22*gamtilde_LL_12;\n",
      "        rhs_fab(i, j, k, Idx::gamtilde_LL_22) = AdvDbetagamtilde_LL_22 - 2*Atilde_LL_22*alpha + KOSigma*dKODgamtilde_LL_22 - 0.66666666666666663*dDbeta_UL_00*gamtilde_LL_22 + 2*dDbeta_UL_02*gamtilde_LL_02 - 0.66666666666666663*dDbeta_UL_11*gamtilde_LL_22 + 2*dDbeta_UL_12*gamtilde_LL_12 + 1.3333333333333335*dDbeta_UL_22*gamtilde_LL_22;\n",
      "\n",
      "        amrex::Real kappa1 = 0.02;\n",
      "\n",
      "        amrex::Real kappa2 = 0;\n",
      "\n",
      "        rhs_fab(i, j, k, Idx::Khat) = AdvDbetaKhat + Atilde_LL_00*Atilde_UU_00*alpha + 2*Atilde_LL_01*Atilde_UU_01*alpha + 2*Atilde_LL_02*Atilde_UU_02*alpha + Atilde_LL_11*Atilde_UU_11*alpha + 2*Atilde_LL_12*Atilde_UU_12*alpha + Atilde_LL_22*Atilde_UU_22*alpha - CovdDDalpha_LL_00*invgam_UU_00 - 2*CovdDDalpha_LL_01*invgam_UU_01 - 2*CovdDDalpha_LL_02*invgam_UU_02 - CovdDDalpha_LL_11*invgam_UU_11 - 2*CovdDDalpha_LL_12*invgam_UU_12 - CovdDDalpha_LL_22*invgam_UU_22 + KOSigma*dKODKhat + alpha*kappa1*theta*(1 - kappa2) + 0.33333333333333331*alpha*std::pow(Khat + 2*theta, 2);\n",
      "\n",
      "        rhs_fab(i, j, k, Idx::Atilde_LL_00) = AdvDbetaAtilde_LL_00 - 2*Atilde_LL_00*Atilde_UL_00*alpha + Atilde_LL_00*alpha*(Khat + 2*theta) + 1.3333333333333335*Atilde_LL_00*dDbeta_UL_00 - 0.66666666666666663*Atilde_LL_00*dDbeta_UL_11 - 0.66666666666666663*Atilde_LL_00*dDbeta_UL_22 - 2*Atilde_LL_01*Atilde_UL_10*alpha + 2*Atilde_LL_01*dDbeta_UL_10 - 2*Atilde_LL_02*Atilde_UL_20*alpha + 2*Atilde_LL_02*dDbeta_UL_20 + KOSigma*dKODAtilde_LL_00 + chi*(-CovDDalphaTF_LL_00 + RTF_LL_00*alpha);\n",
      "        rhs_fab(i, j, k, Idx::Atilde_LL_01) = AdvDbetaAtilde_LL_01 - 2*Atilde_LL_00*Atilde_UL_01*alpha + Atilde_LL_00*dDbeta_UL_01 - 2*Atilde_LL_01*Atilde_UL_11*alpha + Atilde_LL_01*alpha*(Khat + 2*theta) + 0.33333333333333337*Atilde_LL_01*dDbeta_UL_00 + 0.33333333333333337*Atilde_LL_01*dDbeta_UL_11 - 0.66666666666666663*Atilde_LL_01*dDbeta_UL_22 - 2*Atilde_LL_02*Atilde_UL_21*alpha + Atilde_LL_02*dDbeta_UL_21 + Atilde_LL_11*dDbeta_UL_10 + Atilde_LL_12*dDbeta_UL_20 + KOSigma*dKODAtilde_LL_01 + chi*(-CovDDalphaTF_LL_01 + RTF_LL_01*alpha);\n",
      "        rhs_fab(i, j, k, Idx::Atilde_LL_02) = AdvDbetaAtilde_LL_02 - 2*Atilde_LL_00*Atilde_UL_02*alpha + Atilde_LL_00*dDbeta_UL_02 - 2*Atilde_LL_01*Atilde_UL_12*alpha + Atilde_LL_01*dDbeta_UL_12 - 2*Atilde_LL_02*Atilde_UL_22*alpha + Atilde_LL_02*alpha*(Khat + 2*theta) + 0.33333333333333337*Atilde_LL_02*dDbeta_UL_00 - 0.66666666666666663*Atilde_LL_02*dDbeta_UL_11 + 0.33333333333333337*Atilde_LL_02*dDbeta_UL_22 + Atilde_LL_12*dDbeta_UL_10 + Atilde_LL_22*dDbeta_UL_20 + KOSigma*dKODAtilde_LL_02 + chi*(-CovDDalphaTF_LL_02 + RTF_LL_02*alpha);\n",
      "        rhs_fab(i, j, k, Idx::Atilde_LL_11) = AdvDbetaAtilde_LL_11 - 2*Atilde_LL_01*Atilde_UL_01*alpha + 2*Atilde_LL_01*dDbeta_UL_01 - 2*Atilde_LL_11*Atilde_UL_11*alpha + Atilde_LL_11*alpha*(Khat + 2*theta) - 0.66666666666666663*Atilde_LL_11*dDbeta_UL_00 + 1.3333333333333335*Atilde_LL_11*dDbeta_UL_11 - 0.66666666666666663*Atilde_LL_11*dDbeta_UL_22 - 2*Atilde_LL_12*Atilde_UL_21*alpha + 2*Atilde_LL_12*dDbeta_UL_21 + KOSigma*dKODAtilde_LL_11 + chi*(-CovDDalphaTF_LL_11 + RTF_LL_11*alpha);\n",
      "        rhs_fab(i, j, k, Idx::Atilde_LL_12) = AdvDbetaAtilde_LL_12 - 2*Atilde_LL_01*Atilde_UL_02*alpha + Atilde_LL_01*dDbeta_UL_02 + Atilde_LL_02*dDbeta_UL_01 - 2*Atilde_LL_11*Atilde_UL_12*alpha + Atilde_LL_11*dDbeta_UL_12 - 2*Atilde_LL_12*Atilde_UL_22*alpha + Atilde_LL_12*alpha*(Khat + 2*theta) - 0.66666666666666663*Atilde_LL_12*dDbeta_UL_00 + 0.33333333333333337*Atilde_LL_12*dDbeta_UL_11 + 0.33333333333333337*Atilde_LL_12*dDbeta_UL_22 + Atilde_LL_22*dDbeta_UL_21 + KOSigma*dKODAtilde_LL_12 + chi*(-CovDDalphaTF_LL_12 + RTF_LL_12*alpha);\n",
      "        rhs_fab(i, j, k, Idx::Atilde_LL_22) = AdvDbetaAtilde_LL_22 - 2*Atilde_LL_02*Atilde_UL_02*alpha + 2*Atilde_LL_02*dDbeta_UL_02 - 2*Atilde_LL_12*Atilde_UL_12*alpha + 2*Atilde_LL_12*dDbeta_UL_12 - 2*Atilde_LL_22*Atilde_UL_22*alpha + Atilde_LL_22*alpha*(Khat + 2*theta) - 0.66666666666666663*Atilde_LL_22*dDbeta_UL_00 - 0.66666666666666663*Atilde_LL_22*dDbeta_UL_11 + 1.3333333333333335*Atilde_LL_22*dDbeta_UL_22 + KOSigma*dKODAtilde_LL_22 + chi*(-CovDDalphaTF_LL_22 + RTF_LL_22*alpha);\n",
      "\n",
      "        rhs_fab(i, j, k, Idx::theta) = AdvDbetatheta - 0.5*Atilde_LL_00*Atilde_UU_00*alpha - 1.0*Atilde_LL_01*Atilde_UU_01*alpha - 1.0*Atilde_LL_02*Atilde_UU_02*alpha - 0.5*Atilde_LL_11*Atilde_UU_11*alpha - 1.0*Atilde_LL_12*Atilde_UU_12*alpha - 0.5*Atilde_LL_22*Atilde_UU_22*alpha + KOSigma*dKODtheta + 0.5*alpha*(Rsclr - 2*kappa1*theta*(kappa2 + 2) + 0.66666666666666663*std::pow(Khat + 2*theta, 2));\n",
      "\n",
      "        rhs_fab(i, j, k, Idx::Gamtilde_U_0) = AdvDbetaGamtilde_U_0 + 2*Atilde_UU_00*Christoffelgamtilde_ULL_000*alpha - 2*Atilde_UU_00*dDalpha_L_0 + 4*Atilde_UU_01*Christoffelgamtilde_ULL_001*alpha - 2*Atilde_UU_01*dDalpha_L_1 + 4*Atilde_UU_02*Christoffelgamtilde_ULL_002*alpha - 2*Atilde_UU_02*dDalpha_L_2 + 2*Atilde_UU_11*Christoffelgamtilde_ULL_011*alpha + 4*Atilde_UU_12*Christoffelgamtilde_ULL_012*alpha + 2*Atilde_UU_22*Christoffelgamtilde_ULL_022*alpha - 0.33333333333333337*ChristoffelDgamtilde_U_0*dDbeta_UL_00 + 0.66666666666666663*ChristoffelDgamtilde_U_0*dDbeta_UL_11 + 0.66666666666666663*ChristoffelDgamtilde_U_0*dDbeta_UL_22 - ChristoffelDgamtilde_U_1*dDbeta_UL_01 - ChristoffelDgamtilde_U_2*dDbeta_UL_02 + KOSigma*dKODGamtilde_U_0 - 2*alpha*kappa1*(-ChristoffelDgamtilde_U_0 + Gamtilde_U_0) + 2*alpha*(-1.5*Atilde_UU_00*dDchi_L_0/chi - 0.33333333333333331*invgamtilde_UU_00*(2*dDKhat_L_0 + dDtheta_L_0)) + 2*alpha*(-1.5*Atilde_UU_01*dDchi_L_1/chi - 0.33333333333333331*invgamtilde_UU_01*(2*dDKhat_L_1 + dDtheta_L_1)) + 2*alpha*(-1.5*Atilde_UU_02*dDchi_L_2/chi - 0.33333333333333331*invgamtilde_UU_02*(2*dDKhat_L_2 + dDtheta_L_2)) + 1.3333333333333333*dDDbeta_ULL_000*invgamtilde_UU_00 + 2.333333333333333*dDDbeta_ULL_001*invgamtilde_UU_01 + 2.333333333333333*dDDbeta_ULL_002*invgamtilde_UU_02 + dDDbeta_ULL_011*invgamtilde_UU_11 + 2*dDDbeta_ULL_012*invgamtilde_UU_12 + dDDbeta_ULL_022*invgamtilde_UU_22 + 0.33333333333333331*dDDbeta_ULL_101*invgamtilde_UU_00 + 0.33333333333333331*dDDbeta_ULL_111*invgamtilde_UU_01 + 0.33333333333333331*dDDbeta_ULL_112*invgamtilde_UU_02 + 0.33333333333333331*dDDbeta_ULL_202*invgamtilde_UU_00 + 0.33333333333333331*dDDbeta_ULL_212*invgamtilde_UU_01 + 0.33333333333333331*dDDbeta_ULL_222*invgamtilde_UU_02;\n",
      "        rhs_fab(i, j, k, Idx::Gamtilde_U_1) = AdvDbetaGamtilde_U_1 + 2*Atilde_UU_00*Christoffelgamtilde_ULL_100*alpha + 4*Atilde_UU_01*Christoffelgamtilde_ULL_101*alpha - 2*Atilde_UU_01*dDalpha_L_0 + 4*Atilde_UU_02*Christoffelgamtilde_ULL_102*alpha + 2*Atilde_UU_11*Christoffelgamtilde_ULL_111*alpha - 2*Atilde_UU_11*dDalpha_L_1 + 4*Atilde_UU_12*Christoffelgamtilde_ULL_112*alpha - 2*Atilde_UU_12*dDalpha_L_2 + 2*Atilde_UU_22*Christoffelgamtilde_ULL_122*alpha - ChristoffelDgamtilde_U_0*dDbeta_UL_10 + 0.66666666666666663*ChristoffelDgamtilde_U_1*dDbeta_UL_00 - 0.33333333333333337*ChristoffelDgamtilde_U_1*dDbeta_UL_11 + 0.66666666666666663*ChristoffelDgamtilde_U_1*dDbeta_UL_22 - ChristoffelDgamtilde_U_2*dDbeta_UL_12 + KOSigma*dKODGamtilde_U_1 - 2*alpha*kappa1*(-ChristoffelDgamtilde_U_1 + Gamtilde_U_1) + 2*alpha*(-1.5*Atilde_UU_01*dDchi_L_0/chi - 0.33333333333333331*invgamtilde_UU_01*(2*dDKhat_L_0 + dDtheta_L_0)) + 2*alpha*(-1.5*Atilde_UU_11*dDchi_L_1/chi - 0.33333333333333331*invgamtilde_UU_11*(2*dDKhat_L_1 + dDtheta_L_1)) + 2*alpha*(-1.5*Atilde_UU_12*dDchi_L_2/chi - 0.33333333333333331*invgamtilde_UU_12*(2*dDKhat_L_2 + dDtheta_L_2)) + 0.33333333333333331*dDDbeta_ULL_000*invgamtilde_UU_01 + 0.33333333333333331*dDDbeta_ULL_001*invgamtilde_UU_11 + 0.33333333333333331*dDDbeta_ULL_002*invgamtilde_UU_12 + dDDbeta_ULL_100*invgamtilde_UU_00 + 2.333333333333333*dDDbeta_ULL_101*invgamtilde_UU_01 + 2*dDDbeta_ULL_102*invgamtilde_UU_02 + 1.3333333333333333*dDDbeta_ULL_111*invgamtilde_UU_11 + 2.333333333333333*dDDbeta_ULL_112*invgamtilde_UU_12 + dDDbeta_ULL_122*invgamtilde_UU_22 + 0.33333333333333331*dDDbeta_ULL_202*invgamtilde_UU_01 + 0.33333333333333331*dDDbeta_ULL_212*invgamtilde_UU_11 + 0.33333333333333331*dDDbeta_ULL_222*invgamtilde_UU_12;\n",
      "        rhs_fab(i, j, k, Idx::Gamtilde_U_2) = AdvDbetaGamtilde_U_2 + 2*Atilde_UU_00*Christoffelgamtilde_ULL_200*alpha + 4*Atilde_UU_01*Christoffelgamtilde_ULL_201*alpha + 4*Atilde_UU_02*Christoffelgamtilde_ULL_202*alpha - 2*Atilde_UU_02*dDalpha_L_0 + 2*Atilde_UU_11*Christoffelgamtilde_ULL_211*alpha + 4*Atilde_UU_12*Christoffelgamtilde_ULL_212*alpha - 2*Atilde_UU_12*dDalpha_L_1 + 2*Atilde_UU_22*Christoffelgamtilde_ULL_222*alpha - 2*Atilde_UU_22*dDalpha_L_2 - ChristoffelDgamtilde_U_0*dDbeta_UL_20 - ChristoffelDgamtilde_U_1*dDbeta_UL_21 + 0.66666666666666663*ChristoffelDgamtilde_U_2*dDbeta_UL_00 + 0.66666666666666663*ChristoffelDgamtilde_U_2*dDbeta_UL_11 - 0.33333333333333337*ChristoffelDgamtilde_U_2*dDbeta_UL_22 + KOSigma*dKODGamtilde_U_2 - 2*alpha*kappa1*(-ChristoffelDgamtilde_U_2 + Gamtilde_U_2) + 2*alpha*(-1.5*Atilde_UU_02*dDchi_L_0/chi - 0.33333333333333331*invgamtilde_UU_02*(2*dDKhat_L_0 + dDtheta_L_0)) + 2*alpha*(-1.5*Atilde_UU_12*dDchi_L_1/chi - 0.33333333333333331*invgamtilde_UU_12*(2*dDKhat_L_1 + dDtheta_L_1)) + 2*alpha*(-1.5*Atilde_UU_22*dDchi_L_2/chi - 0.33333333333333331*invgamtilde_UU_22*(2*dDKhat_L_2 + dDtheta_L_2)) + 0.33333333333333331*dDDbeta_ULL_000*invgamtilde_UU_02 + 0.33333333333333331*dDDbeta_ULL_001*invgamtilde_UU_12 + 0.33333333333333331*dDDbeta_ULL_002*invgamtilde_UU_22 + 0.33333333333333331*dDDbeta_ULL_101*invgamtilde_UU_02 + 0.33333333333333331*dDDbeta_ULL_111*invgamtilde_UU_12 + 0.33333333333333331*dDDbeta_ULL_112*invgamtilde_UU_22 + dDDbeta_ULL_200*invgamtilde_UU_00 + 2*dDDbeta_ULL_201*invgamtilde_UU_01 + 2.333333333333333*dDDbeta_ULL_202*invgamtilde_UU_02 + dDDbeta_ULL_211*invgamtilde_UU_11 + 2.333333333333333*dDDbeta_ULL_212*invgamtilde_UU_12 + 1.3333333333333333*dDDbeta_ULL_222*invgamtilde_UU_22;\n",
      "\n",
      "        amrex::Real mul = 2/alpha;\n",
      "\n",
      "        amrex::Real mus = std::pow(alpha, -2);\n",
      "\n",
      "        rhs_fab(i, j, k, Idx::alpha) = AdvDbetaalpha + KOSigma*dKODalpha - Khat*std::pow(alpha, 2)*mul;\n",
      "\n",
      "        amrex::Real eta = 2.0;\n",
      "\n",
      "        rhs_fab(i, j, k, Idx::beta_U_0) = AdvDbetabeta_U_0 + Gamtilde_U_0*std::pow(alpha, 2)*mus + KOSigma*dKODbeta_U_0 - beta_U_0*eta;\n",
      "        rhs_fab(i, j, k, Idx::beta_U_1) = AdvDbetabeta_U_1 + Gamtilde_U_1*std::pow(alpha, 2)*mus + KOSigma*dKODbeta_U_1 - beta_U_1*eta;\n",
      "        rhs_fab(i, j, k, Idx::beta_U_2) = AdvDbetabeta_U_2 + Gamtilde_U_2*std::pow(alpha, 2)*mus + KOSigma*dKODbeta_U_2 - beta_U_2*eta;\n",
      "\n",
      "\n"
     ]
    }
   ],
   "source": [
    "print(RHSString.replace(\"state_fabIdx\",\"Idx\"))"
   ]
  },
  {
   "cell_type": "markdown",
   "metadata": {
    "tags": []
   },
   "source": [
    "# Post Update"
   ]
  },
  {
   "cell_type": "code",
   "execution_count": 72,
   "metadata": {},
   "outputs": [],
   "source": [
    "PUString = \"\""
   ]
  },
  {
   "cell_type": "code",
   "execution_count": 73,
   "metadata": {},
   "outputs": [],
   "source": [
    "PUString += chi.symb2isymb() + alpha.symb2isymb() + gamtilde_LL.symb2isymb()"
   ]
  },
  {
   "cell_type": "code",
   "execution_count": 74,
   "metadata": {},
   "outputs": [],
   "source": [
    "detgamtilde = detmetric(gamtilde_LL)"
   ]
  },
  {
   "cell_type": "code",
   "execution_count": 75,
   "metadata": {},
   "outputs": [],
   "source": [
    "PUString += detgamtilde.symb2expr()"
   ]
  },
  {
   "cell_type": "code",
   "execution_count": 76,
   "metadata": {},
   "outputs": [],
   "source": [
    "scalefactor = stvar('scalefactor')\n",
    "scalefactor.expr = detgamtilde.symb**(-1/3)"
   ]
  },
  {
   "cell_type": "code",
   "execution_count": 77,
   "metadata": {},
   "outputs": [],
   "source": [
    "PUString += scalefactor.symb2expr()"
   ]
  },
  {
   "cell_type": "code",
   "execution_count": 78,
   "metadata": {},
   "outputs": [],
   "source": [
    "gamtilde_LL.expr = gamtilde_LL.symb*scalefactor.symb"
   ]
  },
  {
   "cell_type": "code",
   "execution_count": 79,
   "metadata": {},
   "outputs": [],
   "source": [
    "PUString += gamtilde_LL.setisymb()"
   ]
  },
  {
   "cell_type": "code",
   "execution_count": 80,
   "metadata": {},
   "outputs": [],
   "source": [
    "PUString += Atilde_LL.symb2isymb()"
   ]
  },
  {
   "cell_type": "code",
   "execution_count": 81,
   "metadata": {},
   "outputs": [],
   "source": [
    "PUString += gamtilde_UU.symb2expr()"
   ]
  },
  {
   "cell_type": "code",
   "execution_count": 82,
   "metadata": {},
   "outputs": [],
   "source": [
    "TrAtilde = stvar('TrAtilde')\n",
    "for i in range(3):\n",
    "    for j in range(3):\n",
    "        TrAtilde.expr += gamtilde_UU.symb[i][j]*Atilde_LL.symb[i][j]"
   ]
  },
  {
   "cell_type": "code",
   "execution_count": 83,
   "metadata": {},
   "outputs": [],
   "source": [
    "PUString += TrAtilde.symb2expr()"
   ]
  },
  {
   "cell_type": "code",
   "execution_count": 84,
   "metadata": {},
   "outputs": [],
   "source": [
    "Atilde_LL.expr = (Atilde_LL.symb - 1/3*TrAtilde.symb*gamtilde_LL.symb)*scalefactor.symb"
   ]
  },
  {
   "cell_type": "code",
   "execution_count": 85,
   "metadata": {},
   "outputs": [],
   "source": [
    "PUString += Atilde_LL.setisymb()"
   ]
  },
  {
   "cell_type": "code",
   "execution_count": 86,
   "metadata": {},
   "outputs": [],
   "source": [
    "chi.expr = sp.Max(chi.symb,0.001)\n",
    "alpha.expr = sp.Max(alpha.symb,0.001)"
   ]
  },
  {
   "cell_type": "code",
   "execution_count": 87,
   "metadata": {},
   "outputs": [],
   "source": [
    "PUString += chi.setisymb() + alpha.setisymb()"
   ]
  },
  {
   "cell_type": "code",
   "execution_count": null,
   "metadata": {},
   "outputs": [],
   "source": []
  },
  {
   "cell_type": "code",
   "execution_count": 88,
   "metadata": {},
   "outputs": [
    {
     "name": "stdout",
     "output_type": "stream",
     "text": [
      "        amrex::Real chi = state_fab(i, j, k, Idx::chi);\n",
      "\n",
      "        amrex::Real alpha = state_fab(i, j, k, Idx::alpha);\n",
      "\n",
      "        amrex::Real gamtilde_LL_00 = state_fab(i, j, k, Idx::gamtilde_LL_00);\n",
      "        amrex::Real gamtilde_LL_01 = state_fab(i, j, k, Idx::gamtilde_LL_01);\n",
      "        amrex::Real gamtilde_LL_02 = state_fab(i, j, k, Idx::gamtilde_LL_02);\n",
      "        amrex::Real gamtilde_LL_11 = state_fab(i, j, k, Idx::gamtilde_LL_11);\n",
      "        amrex::Real gamtilde_LL_12 = state_fab(i, j, k, Idx::gamtilde_LL_12);\n",
      "        amrex::Real gamtilde_LL_22 = state_fab(i, j, k, Idx::gamtilde_LL_22);\n",
      "\n",
      "        amrex::Real detgamtilde = gamtilde_LL_00*gamtilde_LL_11*gamtilde_LL_22 - gamtilde_LL_00*std::pow(gamtilde_LL_12, 2) - std::pow(gamtilde_LL_01, 2)*gamtilde_LL_22 + 2*gamtilde_LL_01*gamtilde_LL_02*gamtilde_LL_12 - std::pow(gamtilde_LL_02, 2)*gamtilde_LL_11;\n",
      "\n",
      "        amrex::Real scalefactor = std::pow(detgamtilde, -0.33333333333333331);\n",
      "\n",
      "        state_fab(i, j, k, Idx::gamtilde_LL_00) = gamtilde_LL_00*scalefactor;\n",
      "        state_fab(i, j, k, Idx::gamtilde_LL_01) = gamtilde_LL_01*scalefactor;\n",
      "        state_fab(i, j, k, Idx::gamtilde_LL_02) = gamtilde_LL_02*scalefactor;\n",
      "        state_fab(i, j, k, Idx::gamtilde_LL_11) = gamtilde_LL_11*scalefactor;\n",
      "        state_fab(i, j, k, Idx::gamtilde_LL_12) = gamtilde_LL_12*scalefactor;\n",
      "        state_fab(i, j, k, Idx::gamtilde_LL_22) = gamtilde_LL_22*scalefactor;\n",
      "\n",
      "        amrex::Real Atilde_LL_00 = state_fab(i, j, k, Idx::Atilde_LL_00);\n",
      "        amrex::Real Atilde_LL_01 = state_fab(i, j, k, Idx::Atilde_LL_01);\n",
      "        amrex::Real Atilde_LL_02 = state_fab(i, j, k, Idx::Atilde_LL_02);\n",
      "        amrex::Real Atilde_LL_11 = state_fab(i, j, k, Idx::Atilde_LL_11);\n",
      "        amrex::Real Atilde_LL_12 = state_fab(i, j, k, Idx::Atilde_LL_12);\n",
      "        amrex::Real Atilde_LL_22 = state_fab(i, j, k, Idx::Atilde_LL_22);\n",
      "\n",
      "        amrex::Real invgamtilde_UU_00 = (gamtilde_LL_11*gamtilde_LL_22 - std::pow(gamtilde_LL_12, 2))/(gamtilde_LL_00*gamtilde_LL_11*gamtilde_LL_22 - gamtilde_LL_00*std::pow(gamtilde_LL_12, 2) - std::pow(gamtilde_LL_01, 2)*gamtilde_LL_22 + 2*gamtilde_LL_01*gamtilde_LL_02*gamtilde_LL_12 - std::pow(gamtilde_LL_02, 2)*gamtilde_LL_11);\n",
      "        amrex::Real invgamtilde_UU_01 = (-gamtilde_LL_01*gamtilde_LL_22 + gamtilde_LL_02*gamtilde_LL_12)/(gamtilde_LL_00*gamtilde_LL_11*gamtilde_LL_22 - gamtilde_LL_00*std::pow(gamtilde_LL_12, 2) - std::pow(gamtilde_LL_01, 2)*gamtilde_LL_22 + 2*gamtilde_LL_01*gamtilde_LL_02*gamtilde_LL_12 - std::pow(gamtilde_LL_02, 2)*gamtilde_LL_11);\n",
      "        amrex::Real invgamtilde_UU_02 = (gamtilde_LL_01*gamtilde_LL_12 - gamtilde_LL_02*gamtilde_LL_11)/(gamtilde_LL_00*gamtilde_LL_11*gamtilde_LL_22 - gamtilde_LL_00*std::pow(gamtilde_LL_12, 2) - std::pow(gamtilde_LL_01, 2)*gamtilde_LL_22 + 2*gamtilde_LL_01*gamtilde_LL_02*gamtilde_LL_12 - std::pow(gamtilde_LL_02, 2)*gamtilde_LL_11);\n",
      "        amrex::Real invgamtilde_UU_11 = (gamtilde_LL_00*gamtilde_LL_22 - std::pow(gamtilde_LL_02, 2))/(gamtilde_LL_00*gamtilde_LL_11*gamtilde_LL_22 - gamtilde_LL_00*std::pow(gamtilde_LL_12, 2) - std::pow(gamtilde_LL_01, 2)*gamtilde_LL_22 + 2*gamtilde_LL_01*gamtilde_LL_02*gamtilde_LL_12 - std::pow(gamtilde_LL_02, 2)*gamtilde_LL_11);\n",
      "        amrex::Real invgamtilde_UU_12 = (-gamtilde_LL_00*gamtilde_LL_12 + gamtilde_LL_01*gamtilde_LL_02)/(gamtilde_LL_00*gamtilde_LL_11*gamtilde_LL_22 - gamtilde_LL_00*std::pow(gamtilde_LL_12, 2) - std::pow(gamtilde_LL_01, 2)*gamtilde_LL_22 + 2*gamtilde_LL_01*gamtilde_LL_02*gamtilde_LL_12 - std::pow(gamtilde_LL_02, 2)*gamtilde_LL_11);\n",
      "        amrex::Real invgamtilde_UU_22 = (gamtilde_LL_00*gamtilde_LL_11 - std::pow(gamtilde_LL_01, 2))/(gamtilde_LL_00*gamtilde_LL_11*gamtilde_LL_22 - gamtilde_LL_00*std::pow(gamtilde_LL_12, 2) - std::pow(gamtilde_LL_01, 2)*gamtilde_LL_22 + 2*gamtilde_LL_01*gamtilde_LL_02*gamtilde_LL_12 - std::pow(gamtilde_LL_02, 2)*gamtilde_LL_11);\n",
      "\n",
      "        amrex::Real TrAtilde = Atilde_LL_00*invgamtilde_UU_00 + 2*Atilde_LL_01*invgamtilde_UU_01 + 2*Atilde_LL_02*invgamtilde_UU_02 + Atilde_LL_11*invgamtilde_UU_11 + 2*Atilde_LL_12*invgamtilde_UU_12 + Atilde_LL_22*invgamtilde_UU_22;\n",
      "\n",
      "        state_fab(i, j, k, Idx::Atilde_LL_00) = scalefactor*(Atilde_LL_00 - 0.33333333333333331*TrAtilde*gamtilde_LL_00);\n",
      "        state_fab(i, j, k, Idx::Atilde_LL_01) = scalefactor*(Atilde_LL_01 - 0.33333333333333331*TrAtilde*gamtilde_LL_01);\n",
      "        state_fab(i, j, k, Idx::Atilde_LL_02) = scalefactor*(Atilde_LL_02 - 0.33333333333333331*TrAtilde*gamtilde_LL_02);\n",
      "        state_fab(i, j, k, Idx::Atilde_LL_11) = scalefactor*(Atilde_LL_11 - 0.33333333333333331*TrAtilde*gamtilde_LL_11);\n",
      "        state_fab(i, j, k, Idx::Atilde_LL_12) = scalefactor*(Atilde_LL_12 - 0.33333333333333331*TrAtilde*gamtilde_LL_12);\n",
      "        state_fab(i, j, k, Idx::Atilde_LL_22) = scalefactor*(Atilde_LL_22 - 0.33333333333333331*TrAtilde*gamtilde_LL_22);\n",
      "\n",
      "        state_fab(i, j, k, Idx::chi) = std::max(0.00100000000000000, chi);\n",
      "\n",
      "        state_fab(i, j, k, Idx::alpha) = std::max(0.00100000000000000, alpha);\n",
      "\n",
      "\n"
     ]
    }
   ],
   "source": [
    "print(PUString.replace('state_fabIdx', 'Idx'))"
   ]
  },
  {
   "cell_type": "markdown",
   "metadata": {
    "tags": []
   },
   "source": [
    "# Diagnostics"
   ]
  },
  {
   "cell_type": "code",
   "execution_count": 89,
   "metadata": {},
   "outputs": [],
   "source": [
    "DiagString = \"\""
   ]
  },
  {
   "cell_type": "code",
   "execution_count": 90,
   "metadata": {},
   "outputs": [],
   "source": [
    "H = stvar('H', gridvar = True, vartype = 'Diag', varprefix = 'diag')\n",
    "#M_L = stvarrank1('M_L', gridvar = True, vartype = 'Diag', varprefix = 'diag')\n",
    "C = stvar('C', gridvar = True, vartype = 'Diag', varprefix = 'diag')"
   ]
  },
  {
   "cell_type": "code",
   "execution_count": null,
   "metadata": {},
   "outputs": [],
   "source": []
  },
  {
   "cell_type": "code",
   "execution_count": 91,
   "metadata": {},
   "outputs": [],
   "source": [
    "DiagString = \"\"\n",
    "DiagString += chi.symb2isymb()\n",
    "DiagString += gamtilde_LL.symb2isymb()\n",
    "DiagString += Khat.symb2isymb()\n",
    "DiagString += Atilde_LL.symb2isymb()\n",
    "DiagString += theta.symb2isymb()\n",
    "DiagString += Gamtilde_U.symb2isymb()"
   ]
  },
  {
   "cell_type": "code",
   "execution_count": 92,
   "metadata": {},
   "outputs": [],
   "source": [
    "DiagString += dDchi_L.symb2isymb()\n",
    "DiagString += dDDchi_LL.symb2isymb()\n",
    "\n",
    "DiagString += dDgamtilde_LLL.symb2isymb()\n",
    "DiagString += dDDgamtilde_LLLL.symb2isymb()\n",
    "\n",
    "DiagString += dDKhat_L.symb2isymb()\n",
    "\n",
    "DiagString += dDAtilde_LLL.symb2isymb()\n",
    "\n",
    "DiagString += dDtheta_L.symb2isymb()\n",
    "\n",
    "DiagString += dDGamtilde_UL.symb2isymb()"
   ]
  },
  {
   "cell_type": "code",
   "execution_count": 93,
   "metadata": {},
   "outputs": [],
   "source": [
    "DiagString += gamtilde_UU.symb2expr()"
   ]
  },
  {
   "cell_type": "code",
   "execution_count": 94,
   "metadata": {},
   "outputs": [],
   "source": [
    "DiagString += Gamtilde_LLL.symb2expr()\n",
    "DiagString += Gamtilde_ULL.symb2expr()\n",
    "DiagString += Gam_ULL.symb2expr()"
   ]
  },
  {
   "cell_type": "code",
   "execution_count": 95,
   "metadata": {},
   "outputs": [],
   "source": [
    "DiagString += gam_LL.symb2expr()\n",
    "DiagString += gam_UU.symb2expr()"
   ]
  },
  {
   "cell_type": "code",
   "execution_count": 96,
   "metadata": {},
   "outputs": [],
   "source": [
    "DiagString += Atilde_UU.symb2expr()\n",
    "DiagString += Atilde_UL.symb2expr()"
   ]
  },
  {
   "cell_type": "code",
   "execution_count": 97,
   "metadata": {},
   "outputs": [],
   "source": [
    "DiagString += GamtildeD_U.symb2expr()"
   ]
  },
  {
   "cell_type": "code",
   "execution_count": 98,
   "metadata": {},
   "outputs": [],
   "source": [
    "DiagString += Rtilde_LL.symb2expr()"
   ]
  },
  {
   "cell_type": "code",
   "execution_count": 99,
   "metadata": {},
   "outputs": [],
   "source": [
    "DiagString += CovDtildechi_L.symb2expr()\n",
    "DiagString += CovDtildeDtildechi_LL.symb2expr()"
   ]
  },
  {
   "cell_type": "code",
   "execution_count": 100,
   "metadata": {},
   "outputs": [],
   "source": [
    "DiagString += Rchi_LL.symb2expr()"
   ]
  },
  {
   "cell_type": "code",
   "execution_count": 101,
   "metadata": {},
   "outputs": [],
   "source": [
    "DiagString += R_LL.symb2expr()"
   ]
  },
  {
   "cell_type": "code",
   "execution_count": 102,
   "metadata": {},
   "outputs": [],
   "source": [
    "DiagString += Rsclr.symb2expr()"
   ]
  },
  {
   "cell_type": "code",
   "execution_count": 103,
   "metadata": {},
   "outputs": [],
   "source": [
    "K_LL = stvarrank2('K_LL', sym = 'sym01')\n",
    "K_LL.expr = Atilde_LL.symb/chi.symb + 1/3*gam_LL.symb*(Khat.symb + 2*theta.symb)"
   ]
  },
  {
   "cell_type": "code",
   "execution_count": 104,
   "metadata": {},
   "outputs": [],
   "source": [
    "DiagString += K_LL.symb2expr()"
   ]
  },
  {
   "cell_type": "code",
   "execution_count": 105,
   "metadata": {},
   "outputs": [],
   "source": [
    "K_UU = stvarrank2('K_UU', sym = 'sym01')\n",
    "for i in range(3):\n",
    "    for j in range(3):\n",
    "        for k in range(3):\n",
    "            for l in range(3):\n",
    "                K_UU.expr[i][j] += gam_UU.symb[i][k]*gam_UU.symb[j][l]*K_LL.symb[k][l]"
   ]
  },
  {
   "cell_type": "code",
   "execution_count": 106,
   "metadata": {},
   "outputs": [],
   "source": [
    "DiagString += K_UU.symb2expr()"
   ]
  },
  {
   "cell_type": "code",
   "execution_count": 107,
   "metadata": {},
   "outputs": [],
   "source": [
    "Hsymb = stvar('H')\n",
    "Hsymb.expr += Rsclr.symb + (Khat.symb + 2*theta.symb)**2\n",
    "for i in range(3):\n",
    "    for j in range(3):\n",
    "        Hsymb.expr += -K_LL.symb[i][j]*K_UU.symb[i][j]"
   ]
  },
  {
   "cell_type": "code",
   "execution_count": 108,
   "metadata": {},
   "outputs": [],
   "source": [
    "DiagString += Hsymb.symb2expr()"
   ]
  },
  {
   "cell_type": "code",
   "execution_count": 109,
   "metadata": {},
   "outputs": [],
   "source": [
    "H.expr = Hsymb.symb"
   ]
  },
  {
   "cell_type": "code",
   "execution_count": 110,
   "metadata": {},
   "outputs": [],
   "source": [
    "DiagString += H.setisymb()"
   ]
  },
  {
   "cell_type": "code",
   "execution_count": 111,
   "metadata": {},
   "outputs": [],
   "source": [
    "CovDK_LLL = stvarrank3('CovDK_LLL', sym = 'sym01')\n",
    "for i in range(3):\n",
    "    for j in range(3):\n",
    "        for k in range(3):\n",
    "            CovDK_LLL.expr[i][j][k] += -(dDchi_L.symb[k]/chi.symb)*K_LL.symb[i][j]\n",
    "            CovDK_LLL.expr[i][j][k] += (1/chi.symb)*(dDAtilde_LLL.symb[i][j][k] + 1/3*dDgamtilde_LLL.symb[i][j][k]*(Khat.symb+2*theta.symb)+1/3*gamtilde_LL.symb[i][j]*(dDKhat_L.symb[k]+2*dDtheta_L.symb[k]))\n",
    "            for l in range(3):\n",
    "                CovDK_LLL.expr[i][j][k] += -Gam_ULL.symb[l][k][i]*K_LL.symb[l][j] - Gam_ULL.symb[l][k][j]*K_LL.symb[i][l]"
   ]
  },
  {
   "cell_type": "code",
   "execution_count": 112,
   "metadata": {},
   "outputs": [],
   "source": [
    "DiagString += CovDK_LLL.symb2expr()"
   ]
  },
  {
   "cell_type": "code",
   "execution_count": 113,
   "metadata": {},
   "outputs": [],
   "source": [
    "CovDK_L = stvarrank1('CovDK_L')\n",
    "for i in range(3):\n",
    "    for j in range(3):\n",
    "        for k in range(3):\n",
    "            CovDK_L.expr[i] += gam_UU.symb[j][k]*CovDK_LLL.symb[i][j][k]"
   ]
  },
  {
   "cell_type": "code",
   "execution_count": 114,
   "metadata": {},
   "outputs": [],
   "source": [
    "DiagString += CovDK_L.symb2expr()"
   ]
  },
  {
   "cell_type": "code",
   "execution_count": 115,
   "metadata": {},
   "outputs": [],
   "source": [
    "M_L = stvarrank1('M_L')\n",
    "for i in range(3):\n",
    "    M_L.expr[i] += CovDK_L.symb[i] - (dDKhat_L.symb[i] + 2*dDtheta_L.symb[i])"
   ]
  },
  {
   "cell_type": "code",
   "execution_count": 116,
   "metadata": {},
   "outputs": [],
   "source": [
    "DiagString += M_L.symb2expr()"
   ]
  },
  {
   "cell_type": "code",
   "execution_count": 117,
   "metadata": {},
   "outputs": [],
   "source": [
    "Z_L = stvarrank1('Z_L')\n",
    "for i in range(3):\n",
    "    for j in range(3):\n",
    "        Z_L.expr[i] += (1/2)*gamtilde_LL.symb[i][j]*Gamtilde_U.symb[j] \n",
    "        for k in range(3):\n",
    "            Z_L.expr[i] += - (1/2)*gamtilde_UU.symb[k][j]*dDgamtilde_LLL.symb[i][k][j]"
   ]
  },
  {
   "cell_type": "code",
   "execution_count": 118,
   "metadata": {},
   "outputs": [],
   "source": [
    "DiagString += Z_L.symb2expr()"
   ]
  },
  {
   "cell_type": "code",
   "execution_count": 119,
   "metadata": {},
   "outputs": [],
   "source": [
    "Csqrd = stvar('Csqrd')"
   ]
  },
  {
   "cell_type": "code",
   "execution_count": 120,
   "metadata": {},
   "outputs": [],
   "source": [
    "Csqrd.expr += theta.symb**2 + Hsymb.symb**2\n",
    "for i in range(3):\n",
    "    for j in range(3):\n",
    "        Csqrd.expr += gam_UU.symb[i][j]*M_L.symb[i]*M_L.symb[j]\n",
    "        Csqrd.expr += gam_UU.symb[i][j]*Z_L.symb[i]*Z_L.symb[j]\n",
    "        "
   ]
  },
  {
   "cell_type": "code",
   "execution_count": 121,
   "metadata": {},
   "outputs": [],
   "source": [
    "DiagString += Csqrd.symb2expr()"
   ]
  },
  {
   "cell_type": "code",
   "execution_count": 122,
   "metadata": {},
   "outputs": [],
   "source": [
    "C.expr = sp.sqrt(Csqrd.symb)"
   ]
  },
  {
   "cell_type": "code",
   "execution_count": 123,
   "metadata": {},
   "outputs": [],
   "source": [
    "DiagString += C.setisymb()"
   ]
  },
  {
   "cell_type": "code",
   "execution_count": 124,
   "metadata": {
    "tags": []
   },
   "outputs": [
    {
     "name": "stdout",
     "output_type": "stream",
     "text": [
      "        amrex::Real chi = state_fab(i, j, k, Idx::chi);\n",
      "\n",
      "        amrex::Real gamtilde_LL_00 = state_fab(i, j, k, Idx::gamtilde_LL_00);\n",
      "        amrex::Real gamtilde_LL_01 = state_fab(i, j, k, Idx::gamtilde_LL_01);\n",
      "        amrex::Real gamtilde_LL_02 = state_fab(i, j, k, Idx::gamtilde_LL_02);\n",
      "        amrex::Real gamtilde_LL_11 = state_fab(i, j, k, Idx::gamtilde_LL_11);\n",
      "        amrex::Real gamtilde_LL_12 = state_fab(i, j, k, Idx::gamtilde_LL_12);\n",
      "        amrex::Real gamtilde_LL_22 = state_fab(i, j, k, Idx::gamtilde_LL_22);\n",
      "\n",
      "        amrex::Real Khat = state_fab(i, j, k, Idx::Khat);\n",
      "\n",
      "        amrex::Real Atilde_LL_00 = state_fab(i, j, k, Idx::Atilde_LL_00);\n",
      "        amrex::Real Atilde_LL_01 = state_fab(i, j, k, Idx::Atilde_LL_01);\n",
      "        amrex::Real Atilde_LL_02 = state_fab(i, j, k, Idx::Atilde_LL_02);\n",
      "        amrex::Real Atilde_LL_11 = state_fab(i, j, k, Idx::Atilde_LL_11);\n",
      "        amrex::Real Atilde_LL_12 = state_fab(i, j, k, Idx::Atilde_LL_12);\n",
      "        amrex::Real Atilde_LL_22 = state_fab(i, j, k, Idx::Atilde_LL_22);\n",
      "\n",
      "        amrex::Real theta = state_fab(i, j, k, Idx::theta);\n",
      "\n",
      "        amrex::Real Gamtilde_U_0 = state_fab(i, j, k, Idx::Gamtilde_U_0);\n",
      "        amrex::Real Gamtilde_U_1 = state_fab(i, j, k, Idx::Gamtilde_U_1);\n",
      "        amrex::Real Gamtilde_U_2 = state_fab(i, j, k, Idx::Gamtilde_U_2);\n",
      "\n",
      "        amrex::Real dDchi_L_0 = ((1.0/2.0)*state_fab(i + 1, j, k, Idx::chi) - 1.0/2.0*state_fab(i - 1, j, k, Idx::chi))/dx[0];\n",
      "        amrex::Real dDchi_L_1 = ((1.0/2.0)*state_fab(i, j + 1, k, Idx::chi) - 1.0/2.0*state_fab(i, j - 1, k, Idx::chi))/dx[1];\n",
      "        amrex::Real dDchi_L_2 = ((1.0/2.0)*state_fab(i, j, k + 1, Idx::chi) - 1.0/2.0*state_fab(i, j, k - 1, Idx::chi))/dx[2];\n",
      "\n",
      "        amrex::Real dDDchi_LL_00 = (state_fab(i + 1, j, k, Idx::chi) + state_fab(i - 1, j, k, Idx::chi) - 2*state_fab(i, j, k, Idx::chi))/std::pow(dx[0], 2);\n",
      "        amrex::Real dDDchi_LL_01 = ((1.0/4.0)*state_fab(i + 1, j + 1, k, Idx::chi) - 1.0/4.0*state_fab(i + 1, j - 1, k, Idx::chi) - 1.0/4.0*state_fab(i - 1, j + 1, k, Idx::chi) + (1.0/4.0)*state_fab(i - 1, j - 1, k, Idx::chi))/(dx[0]*dx[1]);\n",
      "        amrex::Real dDDchi_LL_02 = ((1.0/4.0)*state_fab(i + 1, j, k + 1, Idx::chi) - 1.0/4.0*state_fab(i + 1, j, k - 1, Idx::chi) - 1.0/4.0*state_fab(i - 1, j, k + 1, Idx::chi) + (1.0/4.0)*state_fab(i - 1, j, k - 1, Idx::chi))/(dx[0]*dx[2]);\n",
      "        amrex::Real dDDchi_LL_11 = (state_fab(i, j + 1, k, Idx::chi) + state_fab(i, j - 1, k, Idx::chi) - 2*state_fab(i, j, k, Idx::chi))/std::pow(dx[1], 2);\n",
      "        amrex::Real dDDchi_LL_12 = ((1.0/4.0)*state_fab(i, j + 1, k + 1, Idx::chi) - 1.0/4.0*state_fab(i, j + 1, k - 1, Idx::chi) - 1.0/4.0*state_fab(i, j - 1, k + 1, Idx::chi) + (1.0/4.0)*state_fab(i, j - 1, k - 1, Idx::chi))/(dx[1]*dx[2]);\n",
      "        amrex::Real dDDchi_LL_22 = (state_fab(i, j, k + 1, Idx::chi) + state_fab(i, j, k - 1, Idx::chi) - 2*state_fab(i, j, k, Idx::chi))/std::pow(dx[2], 2);\n",
      "\n",
      "        amrex::Real dDgamtilde_LLL_000 = ((1.0/2.0)*state_fab(i + 1, j, k, Idx::gamtilde_LL_00) - 1.0/2.0*state_fab(i - 1, j, k, Idx::gamtilde_LL_00))/dx[0];\n",
      "        amrex::Real dDgamtilde_LLL_001 = ((1.0/2.0)*state_fab(i, j + 1, k, Idx::gamtilde_LL_00) - 1.0/2.0*state_fab(i, j - 1, k, Idx::gamtilde_LL_00))/dx[1];\n",
      "        amrex::Real dDgamtilde_LLL_002 = ((1.0/2.0)*state_fab(i, j, k + 1, Idx::gamtilde_LL_00) - 1.0/2.0*state_fab(i, j, k - 1, Idx::gamtilde_LL_00))/dx[2];\n",
      "        amrex::Real dDgamtilde_LLL_010 = ((1.0/2.0)*state_fab(i + 1, j, k, Idx::gamtilde_LL_01) - 1.0/2.0*state_fab(i - 1, j, k, Idx::gamtilde_LL_01))/dx[0];\n",
      "        amrex::Real dDgamtilde_LLL_011 = ((1.0/2.0)*state_fab(i, j + 1, k, Idx::gamtilde_LL_01) - 1.0/2.0*state_fab(i, j - 1, k, Idx::gamtilde_LL_01))/dx[1];\n",
      "        amrex::Real dDgamtilde_LLL_012 = ((1.0/2.0)*state_fab(i, j, k + 1, Idx::gamtilde_LL_01) - 1.0/2.0*state_fab(i, j, k - 1, Idx::gamtilde_LL_01))/dx[2];\n",
      "        amrex::Real dDgamtilde_LLL_020 = ((1.0/2.0)*state_fab(i + 1, j, k, Idx::gamtilde_LL_02) - 1.0/2.0*state_fab(i - 1, j, k, Idx::gamtilde_LL_02))/dx[0];\n",
      "        amrex::Real dDgamtilde_LLL_021 = ((1.0/2.0)*state_fab(i, j + 1, k, Idx::gamtilde_LL_02) - 1.0/2.0*state_fab(i, j - 1, k, Idx::gamtilde_LL_02))/dx[1];\n",
      "        amrex::Real dDgamtilde_LLL_022 = ((1.0/2.0)*state_fab(i, j, k + 1, Idx::gamtilde_LL_02) - 1.0/2.0*state_fab(i, j, k - 1, Idx::gamtilde_LL_02))/dx[2];\n",
      "        amrex::Real dDgamtilde_LLL_110 = ((1.0/2.0)*state_fab(i + 1, j, k, Idx::gamtilde_LL_11) - 1.0/2.0*state_fab(i - 1, j, k, Idx::gamtilde_LL_11))/dx[0];\n",
      "        amrex::Real dDgamtilde_LLL_111 = ((1.0/2.0)*state_fab(i, j + 1, k, Idx::gamtilde_LL_11) - 1.0/2.0*state_fab(i, j - 1, k, Idx::gamtilde_LL_11))/dx[1];\n",
      "        amrex::Real dDgamtilde_LLL_112 = ((1.0/2.0)*state_fab(i, j, k + 1, Idx::gamtilde_LL_11) - 1.0/2.0*state_fab(i, j, k - 1, Idx::gamtilde_LL_11))/dx[2];\n",
      "        amrex::Real dDgamtilde_LLL_120 = ((1.0/2.0)*state_fab(i + 1, j, k, Idx::gamtilde_LL_12) - 1.0/2.0*state_fab(i - 1, j, k, Idx::gamtilde_LL_12))/dx[0];\n",
      "        amrex::Real dDgamtilde_LLL_121 = ((1.0/2.0)*state_fab(i, j + 1, k, Idx::gamtilde_LL_12) - 1.0/2.0*state_fab(i, j - 1, k, Idx::gamtilde_LL_12))/dx[1];\n",
      "        amrex::Real dDgamtilde_LLL_122 = ((1.0/2.0)*state_fab(i, j, k + 1, Idx::gamtilde_LL_12) - 1.0/2.0*state_fab(i, j, k - 1, Idx::gamtilde_LL_12))/dx[2];\n",
      "        amrex::Real dDgamtilde_LLL_220 = ((1.0/2.0)*state_fab(i + 1, j, k, Idx::gamtilde_LL_22) - 1.0/2.0*state_fab(i - 1, j, k, Idx::gamtilde_LL_22))/dx[0];\n",
      "        amrex::Real dDgamtilde_LLL_221 = ((1.0/2.0)*state_fab(i, j + 1, k, Idx::gamtilde_LL_22) - 1.0/2.0*state_fab(i, j - 1, k, Idx::gamtilde_LL_22))/dx[1];\n",
      "        amrex::Real dDgamtilde_LLL_222 = ((1.0/2.0)*state_fab(i, j, k + 1, Idx::gamtilde_LL_22) - 1.0/2.0*state_fab(i, j, k - 1, Idx::gamtilde_LL_22))/dx[2];\n",
      "\n",
      "        amrex::Real dDDgamtilde_LLLL_0000 = (state_fab(i + 1, j, k, Idx::gamtilde_LL_00) + state_fab(i - 1, j, k, Idx::gamtilde_LL_00) - 2*state_fab(i, j, k, Idx::gamtilde_LL_00))/std::pow(dx[0], 2);\n",
      "        amrex::Real dDDgamtilde_LLLL_0001 = ((1.0/4.0)*state_fab(i + 1, j + 1, k, Idx::gamtilde_LL_00) - 1.0/4.0*state_fab(i + 1, j - 1, k, Idx::gamtilde_LL_00) - 1.0/4.0*state_fab(i - 1, j + 1, k, Idx::gamtilde_LL_00) + (1.0/4.0)*state_fab(i - 1, j - 1, k, Idx::gamtilde_LL_00))/(dx[0]*dx[1]);\n",
      "        amrex::Real dDDgamtilde_LLLL_0002 = ((1.0/4.0)*state_fab(i + 1, j, k + 1, Idx::gamtilde_LL_00) - 1.0/4.0*state_fab(i + 1, j, k - 1, Idx::gamtilde_LL_00) - 1.0/4.0*state_fab(i - 1, j, k + 1, Idx::gamtilde_LL_00) + (1.0/4.0)*state_fab(i - 1, j, k - 1, Idx::gamtilde_LL_00))/(dx[0]*dx[2]);\n",
      "        amrex::Real dDDgamtilde_LLLL_0011 = (state_fab(i, j + 1, k, Idx::gamtilde_LL_00) + state_fab(i, j - 1, k, Idx::gamtilde_LL_00) - 2*state_fab(i, j, k, Idx::gamtilde_LL_00))/std::pow(dx[1], 2);\n",
      "        amrex::Real dDDgamtilde_LLLL_0012 = ((1.0/4.0)*state_fab(i, j + 1, k + 1, Idx::gamtilde_LL_00) - 1.0/4.0*state_fab(i, j + 1, k - 1, Idx::gamtilde_LL_00) - 1.0/4.0*state_fab(i, j - 1, k + 1, Idx::gamtilde_LL_00) + (1.0/4.0)*state_fab(i, j - 1, k - 1, Idx::gamtilde_LL_00))/(dx[1]*dx[2]);\n",
      "        amrex::Real dDDgamtilde_LLLL_0022 = (state_fab(i, j, k + 1, Idx::gamtilde_LL_00) + state_fab(i, j, k - 1, Idx::gamtilde_LL_00) - 2*state_fab(i, j, k, Idx::gamtilde_LL_00))/std::pow(dx[2], 2);\n",
      "        amrex::Real dDDgamtilde_LLLL_0100 = (state_fab(i + 1, j, k, Idx::gamtilde_LL_01) + state_fab(i - 1, j, k, Idx::gamtilde_LL_01) - 2*state_fab(i, j, k, Idx::gamtilde_LL_01))/std::pow(dx[0], 2);\n",
      "        amrex::Real dDDgamtilde_LLLL_0101 = ((1.0/4.0)*state_fab(i + 1, j + 1, k, Idx::gamtilde_LL_01) - 1.0/4.0*state_fab(i + 1, j - 1, k, Idx::gamtilde_LL_01) - 1.0/4.0*state_fab(i - 1, j + 1, k, Idx::gamtilde_LL_01) + (1.0/4.0)*state_fab(i - 1, j - 1, k, Idx::gamtilde_LL_01))/(dx[0]*dx[1]);\n",
      "        amrex::Real dDDgamtilde_LLLL_0102 = ((1.0/4.0)*state_fab(i + 1, j, k + 1, Idx::gamtilde_LL_01) - 1.0/4.0*state_fab(i + 1, j, k - 1, Idx::gamtilde_LL_01) - 1.0/4.0*state_fab(i - 1, j, k + 1, Idx::gamtilde_LL_01) + (1.0/4.0)*state_fab(i - 1, j, k - 1, Idx::gamtilde_LL_01))/(dx[0]*dx[2]);\n",
      "        amrex::Real dDDgamtilde_LLLL_0111 = (state_fab(i, j + 1, k, Idx::gamtilde_LL_01) + state_fab(i, j - 1, k, Idx::gamtilde_LL_01) - 2*state_fab(i, j, k, Idx::gamtilde_LL_01))/std::pow(dx[1], 2);\n",
      "        amrex::Real dDDgamtilde_LLLL_0112 = ((1.0/4.0)*state_fab(i, j + 1, k + 1, Idx::gamtilde_LL_01) - 1.0/4.0*state_fab(i, j + 1, k - 1, Idx::gamtilde_LL_01) - 1.0/4.0*state_fab(i, j - 1, k + 1, Idx::gamtilde_LL_01) + (1.0/4.0)*state_fab(i, j - 1, k - 1, Idx::gamtilde_LL_01))/(dx[1]*dx[2]);\n",
      "        amrex::Real dDDgamtilde_LLLL_0122 = (state_fab(i, j, k + 1, Idx::gamtilde_LL_01) + state_fab(i, j, k - 1, Idx::gamtilde_LL_01) - 2*state_fab(i, j, k, Idx::gamtilde_LL_01))/std::pow(dx[2], 2);\n",
      "        amrex::Real dDDgamtilde_LLLL_0200 = (state_fab(i + 1, j, k, Idx::gamtilde_LL_02) + state_fab(i - 1, j, k, Idx::gamtilde_LL_02) - 2*state_fab(i, j, k, Idx::gamtilde_LL_02))/std::pow(dx[0], 2);\n",
      "        amrex::Real dDDgamtilde_LLLL_0201 = ((1.0/4.0)*state_fab(i + 1, j + 1, k, Idx::gamtilde_LL_02) - 1.0/4.0*state_fab(i + 1, j - 1, k, Idx::gamtilde_LL_02) - 1.0/4.0*state_fab(i - 1, j + 1, k, Idx::gamtilde_LL_02) + (1.0/4.0)*state_fab(i - 1, j - 1, k, Idx::gamtilde_LL_02))/(dx[0]*dx[1]);\n",
      "        amrex::Real dDDgamtilde_LLLL_0202 = ((1.0/4.0)*state_fab(i + 1, j, k + 1, Idx::gamtilde_LL_02) - 1.0/4.0*state_fab(i + 1, j, k - 1, Idx::gamtilde_LL_02) - 1.0/4.0*state_fab(i - 1, j, k + 1, Idx::gamtilde_LL_02) + (1.0/4.0)*state_fab(i - 1, j, k - 1, Idx::gamtilde_LL_02))/(dx[0]*dx[2]);\n",
      "        amrex::Real dDDgamtilde_LLLL_0211 = (state_fab(i, j + 1, k, Idx::gamtilde_LL_02) + state_fab(i, j - 1, k, Idx::gamtilde_LL_02) - 2*state_fab(i, j, k, Idx::gamtilde_LL_02))/std::pow(dx[1], 2);\n",
      "        amrex::Real dDDgamtilde_LLLL_0212 = ((1.0/4.0)*state_fab(i, j + 1, k + 1, Idx::gamtilde_LL_02) - 1.0/4.0*state_fab(i, j + 1, k - 1, Idx::gamtilde_LL_02) - 1.0/4.0*state_fab(i, j - 1, k + 1, Idx::gamtilde_LL_02) + (1.0/4.0)*state_fab(i, j - 1, k - 1, Idx::gamtilde_LL_02))/(dx[1]*dx[2]);\n",
      "        amrex::Real dDDgamtilde_LLLL_0222 = (state_fab(i, j, k + 1, Idx::gamtilde_LL_02) + state_fab(i, j, k - 1, Idx::gamtilde_LL_02) - 2*state_fab(i, j, k, Idx::gamtilde_LL_02))/std::pow(dx[2], 2);\n",
      "        amrex::Real dDDgamtilde_LLLL_1100 = (state_fab(i + 1, j, k, Idx::gamtilde_LL_11) + state_fab(i - 1, j, k, Idx::gamtilde_LL_11) - 2*state_fab(i, j, k, Idx::gamtilde_LL_11))/std::pow(dx[0], 2);\n",
      "        amrex::Real dDDgamtilde_LLLL_1101 = ((1.0/4.0)*state_fab(i + 1, j + 1, k, Idx::gamtilde_LL_11) - 1.0/4.0*state_fab(i + 1, j - 1, k, Idx::gamtilde_LL_11) - 1.0/4.0*state_fab(i - 1, j + 1, k, Idx::gamtilde_LL_11) + (1.0/4.0)*state_fab(i - 1, j - 1, k, Idx::gamtilde_LL_11))/(dx[0]*dx[1]);\n",
      "        amrex::Real dDDgamtilde_LLLL_1102 = ((1.0/4.0)*state_fab(i + 1, j, k + 1, Idx::gamtilde_LL_11) - 1.0/4.0*state_fab(i + 1, j, k - 1, Idx::gamtilde_LL_11) - 1.0/4.0*state_fab(i - 1, j, k + 1, Idx::gamtilde_LL_11) + (1.0/4.0)*state_fab(i - 1, j, k - 1, Idx::gamtilde_LL_11))/(dx[0]*dx[2]);\n",
      "        amrex::Real dDDgamtilde_LLLL_1111 = (state_fab(i, j + 1, k, Idx::gamtilde_LL_11) + state_fab(i, j - 1, k, Idx::gamtilde_LL_11) - 2*state_fab(i, j, k, Idx::gamtilde_LL_11))/std::pow(dx[1], 2);\n",
      "        amrex::Real dDDgamtilde_LLLL_1112 = ((1.0/4.0)*state_fab(i, j + 1, k + 1, Idx::gamtilde_LL_11) - 1.0/4.0*state_fab(i, j + 1, k - 1, Idx::gamtilde_LL_11) - 1.0/4.0*state_fab(i, j - 1, k + 1, Idx::gamtilde_LL_11) + (1.0/4.0)*state_fab(i, j - 1, k - 1, Idx::gamtilde_LL_11))/(dx[1]*dx[2]);\n",
      "        amrex::Real dDDgamtilde_LLLL_1122 = (state_fab(i, j, k + 1, Idx::gamtilde_LL_11) + state_fab(i, j, k - 1, Idx::gamtilde_LL_11) - 2*state_fab(i, j, k, Idx::gamtilde_LL_11))/std::pow(dx[2], 2);\n",
      "        amrex::Real dDDgamtilde_LLLL_1200 = (state_fab(i + 1, j, k, Idx::gamtilde_LL_12) + state_fab(i - 1, j, k, Idx::gamtilde_LL_12) - 2*state_fab(i, j, k, Idx::gamtilde_LL_12))/std::pow(dx[0], 2);\n",
      "        amrex::Real dDDgamtilde_LLLL_1201 = ((1.0/4.0)*state_fab(i + 1, j + 1, k, Idx::gamtilde_LL_12) - 1.0/4.0*state_fab(i + 1, j - 1, k, Idx::gamtilde_LL_12) - 1.0/4.0*state_fab(i - 1, j + 1, k, Idx::gamtilde_LL_12) + (1.0/4.0)*state_fab(i - 1, j - 1, k, Idx::gamtilde_LL_12))/(dx[0]*dx[1]);\n",
      "        amrex::Real dDDgamtilde_LLLL_1202 = ((1.0/4.0)*state_fab(i + 1, j, k + 1, Idx::gamtilde_LL_12) - 1.0/4.0*state_fab(i + 1, j, k - 1, Idx::gamtilde_LL_12) - 1.0/4.0*state_fab(i - 1, j, k + 1, Idx::gamtilde_LL_12) + (1.0/4.0)*state_fab(i - 1, j, k - 1, Idx::gamtilde_LL_12))/(dx[0]*dx[2]);\n",
      "        amrex::Real dDDgamtilde_LLLL_1211 = (state_fab(i, j + 1, k, Idx::gamtilde_LL_12) + state_fab(i, j - 1, k, Idx::gamtilde_LL_12) - 2*state_fab(i, j, k, Idx::gamtilde_LL_12))/std::pow(dx[1], 2);\n",
      "        amrex::Real dDDgamtilde_LLLL_1212 = ((1.0/4.0)*state_fab(i, j + 1, k + 1, Idx::gamtilde_LL_12) - 1.0/4.0*state_fab(i, j + 1, k - 1, Idx::gamtilde_LL_12) - 1.0/4.0*state_fab(i, j - 1, k + 1, Idx::gamtilde_LL_12) + (1.0/4.0)*state_fab(i, j - 1, k - 1, Idx::gamtilde_LL_12))/(dx[1]*dx[2]);\n",
      "        amrex::Real dDDgamtilde_LLLL_1222 = (state_fab(i, j, k + 1, Idx::gamtilde_LL_12) + state_fab(i, j, k - 1, Idx::gamtilde_LL_12) - 2*state_fab(i, j, k, Idx::gamtilde_LL_12))/std::pow(dx[2], 2);\n",
      "        amrex::Real dDDgamtilde_LLLL_2200 = (state_fab(i + 1, j, k, Idx::gamtilde_LL_22) + state_fab(i - 1, j, k, Idx::gamtilde_LL_22) - 2*state_fab(i, j, k, Idx::gamtilde_LL_22))/std::pow(dx[0], 2);\n",
      "        amrex::Real dDDgamtilde_LLLL_2201 = ((1.0/4.0)*state_fab(i + 1, j + 1, k, Idx::gamtilde_LL_22) - 1.0/4.0*state_fab(i + 1, j - 1, k, Idx::gamtilde_LL_22) - 1.0/4.0*state_fab(i - 1, j + 1, k, Idx::gamtilde_LL_22) + (1.0/4.0)*state_fab(i - 1, j - 1, k, Idx::gamtilde_LL_22))/(dx[0]*dx[1]);\n",
      "        amrex::Real dDDgamtilde_LLLL_2202 = ((1.0/4.0)*state_fab(i + 1, j, k + 1, Idx::gamtilde_LL_22) - 1.0/4.0*state_fab(i + 1, j, k - 1, Idx::gamtilde_LL_22) - 1.0/4.0*state_fab(i - 1, j, k + 1, Idx::gamtilde_LL_22) + (1.0/4.0)*state_fab(i - 1, j, k - 1, Idx::gamtilde_LL_22))/(dx[0]*dx[2]);\n",
      "        amrex::Real dDDgamtilde_LLLL_2211 = (state_fab(i, j + 1, k, Idx::gamtilde_LL_22) + state_fab(i, j - 1, k, Idx::gamtilde_LL_22) - 2*state_fab(i, j, k, Idx::gamtilde_LL_22))/std::pow(dx[1], 2);\n",
      "        amrex::Real dDDgamtilde_LLLL_2212 = ((1.0/4.0)*state_fab(i, j + 1, k + 1, Idx::gamtilde_LL_22) - 1.0/4.0*state_fab(i, j + 1, k - 1, Idx::gamtilde_LL_22) - 1.0/4.0*state_fab(i, j - 1, k + 1, Idx::gamtilde_LL_22) + (1.0/4.0)*state_fab(i, j - 1, k - 1, Idx::gamtilde_LL_22))/(dx[1]*dx[2]);\n",
      "        amrex::Real dDDgamtilde_LLLL_2222 = (state_fab(i, j, k + 1, Idx::gamtilde_LL_22) + state_fab(i, j, k - 1, Idx::gamtilde_LL_22) - 2*state_fab(i, j, k, Idx::gamtilde_LL_22))/std::pow(dx[2], 2);\n",
      "\n",
      "        amrex::Real dDKhat_L_0 = ((1.0/2.0)*state_fab(i + 1, j, k, Idx::Khat) - 1.0/2.0*state_fab(i - 1, j, k, Idx::Khat))/dx[0];\n",
      "        amrex::Real dDKhat_L_1 = ((1.0/2.0)*state_fab(i, j + 1, k, Idx::Khat) - 1.0/2.0*state_fab(i, j - 1, k, Idx::Khat))/dx[1];\n",
      "        amrex::Real dDKhat_L_2 = ((1.0/2.0)*state_fab(i, j, k + 1, Idx::Khat) - 1.0/2.0*state_fab(i, j, k - 1, Idx::Khat))/dx[2];\n",
      "\n",
      "        amrex::Real dDAtilde_LLL_000 = ((1.0/2.0)*state_fab(i + 1, j, k, Idx::Atilde_LL_00) - 1.0/2.0*state_fab(i - 1, j, k, Idx::Atilde_LL_00))/dx[0];\n",
      "        amrex::Real dDAtilde_LLL_001 = ((1.0/2.0)*state_fab(i, j + 1, k, Idx::Atilde_LL_00) - 1.0/2.0*state_fab(i, j - 1, k, Idx::Atilde_LL_00))/dx[1];\n",
      "        amrex::Real dDAtilde_LLL_002 = ((1.0/2.0)*state_fab(i, j, k + 1, Idx::Atilde_LL_00) - 1.0/2.0*state_fab(i, j, k - 1, Idx::Atilde_LL_00))/dx[2];\n",
      "        amrex::Real dDAtilde_LLL_010 = ((1.0/2.0)*state_fab(i + 1, j, k, Idx::Atilde_LL_01) - 1.0/2.0*state_fab(i - 1, j, k, Idx::Atilde_LL_01))/dx[0];\n",
      "        amrex::Real dDAtilde_LLL_011 = ((1.0/2.0)*state_fab(i, j + 1, k, Idx::Atilde_LL_01) - 1.0/2.0*state_fab(i, j - 1, k, Idx::Atilde_LL_01))/dx[1];\n",
      "        amrex::Real dDAtilde_LLL_012 = ((1.0/2.0)*state_fab(i, j, k + 1, Idx::Atilde_LL_01) - 1.0/2.0*state_fab(i, j, k - 1, Idx::Atilde_LL_01))/dx[2];\n",
      "        amrex::Real dDAtilde_LLL_020 = ((1.0/2.0)*state_fab(i + 1, j, k, Idx::Atilde_LL_02) - 1.0/2.0*state_fab(i - 1, j, k, Idx::Atilde_LL_02))/dx[0];\n",
      "        amrex::Real dDAtilde_LLL_021 = ((1.0/2.0)*state_fab(i, j + 1, k, Idx::Atilde_LL_02) - 1.0/2.0*state_fab(i, j - 1, k, Idx::Atilde_LL_02))/dx[1];\n",
      "        amrex::Real dDAtilde_LLL_022 = ((1.0/2.0)*state_fab(i, j, k + 1, Idx::Atilde_LL_02) - 1.0/2.0*state_fab(i, j, k - 1, Idx::Atilde_LL_02))/dx[2];\n",
      "        amrex::Real dDAtilde_LLL_110 = ((1.0/2.0)*state_fab(i + 1, j, k, Idx::Atilde_LL_11) - 1.0/2.0*state_fab(i - 1, j, k, Idx::Atilde_LL_11))/dx[0];\n",
      "        amrex::Real dDAtilde_LLL_111 = ((1.0/2.0)*state_fab(i, j + 1, k, Idx::Atilde_LL_11) - 1.0/2.0*state_fab(i, j - 1, k, Idx::Atilde_LL_11))/dx[1];\n",
      "        amrex::Real dDAtilde_LLL_112 = ((1.0/2.0)*state_fab(i, j, k + 1, Idx::Atilde_LL_11) - 1.0/2.0*state_fab(i, j, k - 1, Idx::Atilde_LL_11))/dx[2];\n",
      "        amrex::Real dDAtilde_LLL_120 = ((1.0/2.0)*state_fab(i + 1, j, k, Idx::Atilde_LL_12) - 1.0/2.0*state_fab(i - 1, j, k, Idx::Atilde_LL_12))/dx[0];\n",
      "        amrex::Real dDAtilde_LLL_121 = ((1.0/2.0)*state_fab(i, j + 1, k, Idx::Atilde_LL_12) - 1.0/2.0*state_fab(i, j - 1, k, Idx::Atilde_LL_12))/dx[1];\n",
      "        amrex::Real dDAtilde_LLL_122 = ((1.0/2.0)*state_fab(i, j, k + 1, Idx::Atilde_LL_12) - 1.0/2.0*state_fab(i, j, k - 1, Idx::Atilde_LL_12))/dx[2];\n",
      "        amrex::Real dDAtilde_LLL_220 = ((1.0/2.0)*state_fab(i + 1, j, k, Idx::Atilde_LL_22) - 1.0/2.0*state_fab(i - 1, j, k, Idx::Atilde_LL_22))/dx[0];\n",
      "        amrex::Real dDAtilde_LLL_221 = ((1.0/2.0)*state_fab(i, j + 1, k, Idx::Atilde_LL_22) - 1.0/2.0*state_fab(i, j - 1, k, Idx::Atilde_LL_22))/dx[1];\n",
      "        amrex::Real dDAtilde_LLL_222 = ((1.0/2.0)*state_fab(i, j, k + 1, Idx::Atilde_LL_22) - 1.0/2.0*state_fab(i, j, k - 1, Idx::Atilde_LL_22))/dx[2];\n",
      "\n",
      "        amrex::Real dDtheta_L_0 = ((1.0/2.0)*state_fab(i + 1, j, k, Idx::theta) - 1.0/2.0*state_fab(i - 1, j, k, Idx::theta))/dx[0];\n",
      "        amrex::Real dDtheta_L_1 = ((1.0/2.0)*state_fab(i, j + 1, k, Idx::theta) - 1.0/2.0*state_fab(i, j - 1, k, Idx::theta))/dx[1];\n",
      "        amrex::Real dDtheta_L_2 = ((1.0/2.0)*state_fab(i, j, k + 1, Idx::theta) - 1.0/2.0*state_fab(i, j, k - 1, Idx::theta))/dx[2];\n",
      "\n",
      "        amrex::Real dDGamtilde_UL_00 = ((1.0/2.0)*state_fab(i + 1, j, k, Idx::Gamtilde_U_0) - 1.0/2.0*state_fab(i - 1, j, k, Idx::Gamtilde_U_0))/dx[0];\n",
      "        amrex::Real dDGamtilde_UL_01 = ((1.0/2.0)*state_fab(i, j + 1, k, Idx::Gamtilde_U_0) - 1.0/2.0*state_fab(i, j - 1, k, Idx::Gamtilde_U_0))/dx[1];\n",
      "        amrex::Real dDGamtilde_UL_02 = ((1.0/2.0)*state_fab(i, j, k + 1, Idx::Gamtilde_U_0) - 1.0/2.0*state_fab(i, j, k - 1, Idx::Gamtilde_U_0))/dx[2];\n",
      "        amrex::Real dDGamtilde_UL_10 = ((1.0/2.0)*state_fab(i + 1, j, k, Idx::Gamtilde_U_1) - 1.0/2.0*state_fab(i - 1, j, k, Idx::Gamtilde_U_1))/dx[0];\n",
      "        amrex::Real dDGamtilde_UL_11 = ((1.0/2.0)*state_fab(i, j + 1, k, Idx::Gamtilde_U_1) - 1.0/2.0*state_fab(i, j - 1, k, Idx::Gamtilde_U_1))/dx[1];\n",
      "        amrex::Real dDGamtilde_UL_12 = ((1.0/2.0)*state_fab(i, j, k + 1, Idx::Gamtilde_U_1) - 1.0/2.0*state_fab(i, j, k - 1, Idx::Gamtilde_U_1))/dx[2];\n",
      "        amrex::Real dDGamtilde_UL_20 = ((1.0/2.0)*state_fab(i + 1, j, k, Idx::Gamtilde_U_2) - 1.0/2.0*state_fab(i - 1, j, k, Idx::Gamtilde_U_2))/dx[0];\n",
      "        amrex::Real dDGamtilde_UL_21 = ((1.0/2.0)*state_fab(i, j + 1, k, Idx::Gamtilde_U_2) - 1.0/2.0*state_fab(i, j - 1, k, Idx::Gamtilde_U_2))/dx[1];\n",
      "        amrex::Real dDGamtilde_UL_22 = ((1.0/2.0)*state_fab(i, j, k + 1, Idx::Gamtilde_U_2) - 1.0/2.0*state_fab(i, j, k - 1, Idx::Gamtilde_U_2))/dx[2];\n",
      "\n",
      "        amrex::Real invgamtilde_UU_00 = (gamtilde_LL_11*gamtilde_LL_22 - std::pow(gamtilde_LL_12, 2))/(gamtilde_LL_00*gamtilde_LL_11*gamtilde_LL_22 - gamtilde_LL_00*std::pow(gamtilde_LL_12, 2) - std::pow(gamtilde_LL_01, 2)*gamtilde_LL_22 + 2*gamtilde_LL_01*gamtilde_LL_02*gamtilde_LL_12 - std::pow(gamtilde_LL_02, 2)*gamtilde_LL_11);\n",
      "        amrex::Real invgamtilde_UU_01 = (-gamtilde_LL_01*gamtilde_LL_22 + gamtilde_LL_02*gamtilde_LL_12)/(gamtilde_LL_00*gamtilde_LL_11*gamtilde_LL_22 - gamtilde_LL_00*std::pow(gamtilde_LL_12, 2) - std::pow(gamtilde_LL_01, 2)*gamtilde_LL_22 + 2*gamtilde_LL_01*gamtilde_LL_02*gamtilde_LL_12 - std::pow(gamtilde_LL_02, 2)*gamtilde_LL_11);\n",
      "        amrex::Real invgamtilde_UU_02 = (gamtilde_LL_01*gamtilde_LL_12 - gamtilde_LL_02*gamtilde_LL_11)/(gamtilde_LL_00*gamtilde_LL_11*gamtilde_LL_22 - gamtilde_LL_00*std::pow(gamtilde_LL_12, 2) - std::pow(gamtilde_LL_01, 2)*gamtilde_LL_22 + 2*gamtilde_LL_01*gamtilde_LL_02*gamtilde_LL_12 - std::pow(gamtilde_LL_02, 2)*gamtilde_LL_11);\n",
      "        amrex::Real invgamtilde_UU_11 = (gamtilde_LL_00*gamtilde_LL_22 - std::pow(gamtilde_LL_02, 2))/(gamtilde_LL_00*gamtilde_LL_11*gamtilde_LL_22 - gamtilde_LL_00*std::pow(gamtilde_LL_12, 2) - std::pow(gamtilde_LL_01, 2)*gamtilde_LL_22 + 2*gamtilde_LL_01*gamtilde_LL_02*gamtilde_LL_12 - std::pow(gamtilde_LL_02, 2)*gamtilde_LL_11);\n",
      "        amrex::Real invgamtilde_UU_12 = (-gamtilde_LL_00*gamtilde_LL_12 + gamtilde_LL_01*gamtilde_LL_02)/(gamtilde_LL_00*gamtilde_LL_11*gamtilde_LL_22 - gamtilde_LL_00*std::pow(gamtilde_LL_12, 2) - std::pow(gamtilde_LL_01, 2)*gamtilde_LL_22 + 2*gamtilde_LL_01*gamtilde_LL_02*gamtilde_LL_12 - std::pow(gamtilde_LL_02, 2)*gamtilde_LL_11);\n",
      "        amrex::Real invgamtilde_UU_22 = (gamtilde_LL_00*gamtilde_LL_11 - std::pow(gamtilde_LL_01, 2))/(gamtilde_LL_00*gamtilde_LL_11*gamtilde_LL_22 - gamtilde_LL_00*std::pow(gamtilde_LL_12, 2) - std::pow(gamtilde_LL_01, 2)*gamtilde_LL_22 + 2*gamtilde_LL_01*gamtilde_LL_02*gamtilde_LL_12 - std::pow(gamtilde_LL_02, 2)*gamtilde_LL_11);\n",
      "\n",
      "        amrex::Real Christoffelgamtilde_LLL_000 = 0.5*dDgamtilde_LLL_000;\n",
      "        amrex::Real Christoffelgamtilde_LLL_001 = 0.5*dDgamtilde_LLL_001;\n",
      "        amrex::Real Christoffelgamtilde_LLL_002 = 0.5*dDgamtilde_LLL_002;\n",
      "        amrex::Real Christoffelgamtilde_LLL_011 = 1.0*dDgamtilde_LLL_011 - 0.5*dDgamtilde_LLL_110;\n",
      "        amrex::Real Christoffelgamtilde_LLL_012 = 0.5*dDgamtilde_LLL_012 + 0.5*dDgamtilde_LLL_021 - 0.5*dDgamtilde_LLL_120;\n",
      "        amrex::Real Christoffelgamtilde_LLL_022 = 1.0*dDgamtilde_LLL_022 - 0.5*dDgamtilde_LLL_220;\n",
      "        amrex::Real Christoffelgamtilde_LLL_100 = -0.5*dDgamtilde_LLL_001 + 1.0*dDgamtilde_LLL_010;\n",
      "        amrex::Real Christoffelgamtilde_LLL_101 = 0.5*dDgamtilde_LLL_110;\n",
      "        amrex::Real Christoffelgamtilde_LLL_102 = 0.5*dDgamtilde_LLL_012 - 0.5*dDgamtilde_LLL_021 + 0.5*dDgamtilde_LLL_120;\n",
      "        amrex::Real Christoffelgamtilde_LLL_111 = 0.5*dDgamtilde_LLL_111;\n",
      "        amrex::Real Christoffelgamtilde_LLL_112 = 0.5*dDgamtilde_LLL_112;\n",
      "        amrex::Real Christoffelgamtilde_LLL_122 = 1.0*dDgamtilde_LLL_122 - 0.5*dDgamtilde_LLL_221;\n",
      "        amrex::Real Christoffelgamtilde_LLL_200 = -0.5*dDgamtilde_LLL_002 + 1.0*dDgamtilde_LLL_020;\n",
      "        amrex::Real Christoffelgamtilde_LLL_201 = -0.5*dDgamtilde_LLL_012 + 0.5*dDgamtilde_LLL_021 + 0.5*dDgamtilde_LLL_120;\n",
      "        amrex::Real Christoffelgamtilde_LLL_202 = 0.5*dDgamtilde_LLL_220;\n",
      "        amrex::Real Christoffelgamtilde_LLL_211 = -0.5*dDgamtilde_LLL_112 + 1.0*dDgamtilde_LLL_121;\n",
      "        amrex::Real Christoffelgamtilde_LLL_212 = 0.5*dDgamtilde_LLL_221;\n",
      "        amrex::Real Christoffelgamtilde_LLL_222 = 0.5*dDgamtilde_LLL_222;\n",
      "\n",
      "        amrex::Real Christoffelgamtilde_ULL_000 = Christoffelgamtilde_LLL_000*invgamtilde_UU_00 + Christoffelgamtilde_LLL_100*invgamtilde_UU_01 + Christoffelgamtilde_LLL_200*invgamtilde_UU_02;\n",
      "        amrex::Real Christoffelgamtilde_ULL_001 = Christoffelgamtilde_LLL_001*invgamtilde_UU_00 + Christoffelgamtilde_LLL_101*invgamtilde_UU_01 + Christoffelgamtilde_LLL_201*invgamtilde_UU_02;\n",
      "        amrex::Real Christoffelgamtilde_ULL_002 = Christoffelgamtilde_LLL_002*invgamtilde_UU_00 + Christoffelgamtilde_LLL_102*invgamtilde_UU_01 + Christoffelgamtilde_LLL_202*invgamtilde_UU_02;\n",
      "        amrex::Real Christoffelgamtilde_ULL_011 = Christoffelgamtilde_LLL_011*invgamtilde_UU_00 + Christoffelgamtilde_LLL_111*invgamtilde_UU_01 + Christoffelgamtilde_LLL_211*invgamtilde_UU_02;\n",
      "        amrex::Real Christoffelgamtilde_ULL_012 = Christoffelgamtilde_LLL_012*invgamtilde_UU_00 + Christoffelgamtilde_LLL_112*invgamtilde_UU_01 + Christoffelgamtilde_LLL_212*invgamtilde_UU_02;\n",
      "        amrex::Real Christoffelgamtilde_ULL_022 = Christoffelgamtilde_LLL_022*invgamtilde_UU_00 + Christoffelgamtilde_LLL_122*invgamtilde_UU_01 + Christoffelgamtilde_LLL_222*invgamtilde_UU_02;\n",
      "        amrex::Real Christoffelgamtilde_ULL_100 = Christoffelgamtilde_LLL_000*invgamtilde_UU_01 + Christoffelgamtilde_LLL_100*invgamtilde_UU_11 + Christoffelgamtilde_LLL_200*invgamtilde_UU_12;\n",
      "        amrex::Real Christoffelgamtilde_ULL_101 = Christoffelgamtilde_LLL_001*invgamtilde_UU_01 + Christoffelgamtilde_LLL_101*invgamtilde_UU_11 + Christoffelgamtilde_LLL_201*invgamtilde_UU_12;\n",
      "        amrex::Real Christoffelgamtilde_ULL_102 = Christoffelgamtilde_LLL_002*invgamtilde_UU_01 + Christoffelgamtilde_LLL_102*invgamtilde_UU_11 + Christoffelgamtilde_LLL_202*invgamtilde_UU_12;\n",
      "        amrex::Real Christoffelgamtilde_ULL_111 = Christoffelgamtilde_LLL_011*invgamtilde_UU_01 + Christoffelgamtilde_LLL_111*invgamtilde_UU_11 + Christoffelgamtilde_LLL_211*invgamtilde_UU_12;\n",
      "        amrex::Real Christoffelgamtilde_ULL_112 = Christoffelgamtilde_LLL_012*invgamtilde_UU_01 + Christoffelgamtilde_LLL_112*invgamtilde_UU_11 + Christoffelgamtilde_LLL_212*invgamtilde_UU_12;\n",
      "        amrex::Real Christoffelgamtilde_ULL_122 = Christoffelgamtilde_LLL_022*invgamtilde_UU_01 + Christoffelgamtilde_LLL_122*invgamtilde_UU_11 + Christoffelgamtilde_LLL_222*invgamtilde_UU_12;\n",
      "        amrex::Real Christoffelgamtilde_ULL_200 = Christoffelgamtilde_LLL_000*invgamtilde_UU_02 + Christoffelgamtilde_LLL_100*invgamtilde_UU_12 + Christoffelgamtilde_LLL_200*invgamtilde_UU_22;\n",
      "        amrex::Real Christoffelgamtilde_ULL_201 = Christoffelgamtilde_LLL_001*invgamtilde_UU_02 + Christoffelgamtilde_LLL_101*invgamtilde_UU_12 + Christoffelgamtilde_LLL_201*invgamtilde_UU_22;\n",
      "        amrex::Real Christoffelgamtilde_ULL_202 = Christoffelgamtilde_LLL_002*invgamtilde_UU_02 + Christoffelgamtilde_LLL_102*invgamtilde_UU_12 + Christoffelgamtilde_LLL_202*invgamtilde_UU_22;\n",
      "        amrex::Real Christoffelgamtilde_ULL_211 = Christoffelgamtilde_LLL_011*invgamtilde_UU_02 + Christoffelgamtilde_LLL_111*invgamtilde_UU_12 + Christoffelgamtilde_LLL_211*invgamtilde_UU_22;\n",
      "        amrex::Real Christoffelgamtilde_ULL_212 = Christoffelgamtilde_LLL_012*invgamtilde_UU_02 + Christoffelgamtilde_LLL_112*invgamtilde_UU_12 + Christoffelgamtilde_LLL_212*invgamtilde_UU_22;\n",
      "        amrex::Real Christoffelgamtilde_ULL_222 = Christoffelgamtilde_LLL_022*invgamtilde_UU_02 + Christoffelgamtilde_LLL_122*invgamtilde_UU_12 + Christoffelgamtilde_LLL_222*invgamtilde_UU_22;\n",
      "\n",
      "        amrex::Real ConformalChristoffelchigamtilde_ULL_000 = Christoffelgamtilde_ULL_000 + 0.5*dDchi_L_0*gamtilde_LL_00*invgamtilde_UU_00/chi - 1.0*dDchi_L_0/chi + 0.5*dDchi_L_1*gamtilde_LL_00*invgamtilde_UU_01/chi + 0.5*dDchi_L_2*gamtilde_LL_00*invgamtilde_UU_02/chi;\n",
      "        amrex::Real ConformalChristoffelchigamtilde_ULL_001 = Christoffelgamtilde_ULL_001 + 0.5*dDchi_L_0*gamtilde_LL_01*invgamtilde_UU_00/chi + 0.5*dDchi_L_1*gamtilde_LL_01*invgamtilde_UU_01/chi - 0.5*dDchi_L_1/chi + 0.5*dDchi_L_2*gamtilde_LL_01*invgamtilde_UU_02/chi;\n",
      "        amrex::Real ConformalChristoffelchigamtilde_ULL_002 = Christoffelgamtilde_ULL_002 + 0.5*dDchi_L_0*gamtilde_LL_02*invgamtilde_UU_00/chi + 0.5*dDchi_L_1*gamtilde_LL_02*invgamtilde_UU_01/chi + 0.5*dDchi_L_2*gamtilde_LL_02*invgamtilde_UU_02/chi - 0.5*dDchi_L_2/chi;\n",
      "        amrex::Real ConformalChristoffelchigamtilde_ULL_011 = Christoffelgamtilde_ULL_011 + 0.5*dDchi_L_0*gamtilde_LL_11*invgamtilde_UU_00/chi + 0.5*dDchi_L_1*gamtilde_LL_11*invgamtilde_UU_01/chi + 0.5*dDchi_L_2*gamtilde_LL_11*invgamtilde_UU_02/chi;\n",
      "        amrex::Real ConformalChristoffelchigamtilde_ULL_012 = Christoffelgamtilde_ULL_012 + 0.5*dDchi_L_0*gamtilde_LL_12*invgamtilde_UU_00/chi + 0.5*dDchi_L_1*gamtilde_LL_12*invgamtilde_UU_01/chi + 0.5*dDchi_L_2*gamtilde_LL_12*invgamtilde_UU_02/chi;\n",
      "        amrex::Real ConformalChristoffelchigamtilde_ULL_022 = Christoffelgamtilde_ULL_022 + 0.5*dDchi_L_0*gamtilde_LL_22*invgamtilde_UU_00/chi + 0.5*dDchi_L_1*gamtilde_LL_22*invgamtilde_UU_01/chi + 0.5*dDchi_L_2*gamtilde_LL_22*invgamtilde_UU_02/chi;\n",
      "        amrex::Real ConformalChristoffelchigamtilde_ULL_100 = Christoffelgamtilde_ULL_100 + 0.5*dDchi_L_0*gamtilde_LL_00*invgamtilde_UU_01/chi + 0.5*dDchi_L_1*gamtilde_LL_00*invgamtilde_UU_11/chi + 0.5*dDchi_L_2*gamtilde_LL_00*invgamtilde_UU_12/chi;\n",
      "        amrex::Real ConformalChristoffelchigamtilde_ULL_101 = Christoffelgamtilde_ULL_101 + 0.5*dDchi_L_0*gamtilde_LL_01*invgamtilde_UU_01/chi - 0.5*dDchi_L_0/chi + 0.5*dDchi_L_1*gamtilde_LL_01*invgamtilde_UU_11/chi + 0.5*dDchi_L_2*gamtilde_LL_01*invgamtilde_UU_12/chi;\n",
      "        amrex::Real ConformalChristoffelchigamtilde_ULL_102 = Christoffelgamtilde_ULL_102 + 0.5*dDchi_L_0*gamtilde_LL_02*invgamtilde_UU_01/chi + 0.5*dDchi_L_1*gamtilde_LL_02*invgamtilde_UU_11/chi + 0.5*dDchi_L_2*gamtilde_LL_02*invgamtilde_UU_12/chi;\n",
      "        amrex::Real ConformalChristoffelchigamtilde_ULL_111 = Christoffelgamtilde_ULL_111 + 0.5*dDchi_L_0*gamtilde_LL_11*invgamtilde_UU_01/chi + 0.5*dDchi_L_1*gamtilde_LL_11*invgamtilde_UU_11/chi - 1.0*dDchi_L_1/chi + 0.5*dDchi_L_2*gamtilde_LL_11*invgamtilde_UU_12/chi;\n",
      "        amrex::Real ConformalChristoffelchigamtilde_ULL_112 = Christoffelgamtilde_ULL_112 + 0.5*dDchi_L_0*gamtilde_LL_12*invgamtilde_UU_01/chi + 0.5*dDchi_L_1*gamtilde_LL_12*invgamtilde_UU_11/chi + 0.5*dDchi_L_2*gamtilde_LL_12*invgamtilde_UU_12/chi - 0.5*dDchi_L_2/chi;\n",
      "        amrex::Real ConformalChristoffelchigamtilde_ULL_122 = Christoffelgamtilde_ULL_122 + 0.5*dDchi_L_0*gamtilde_LL_22*invgamtilde_UU_01/chi + 0.5*dDchi_L_1*gamtilde_LL_22*invgamtilde_UU_11/chi + 0.5*dDchi_L_2*gamtilde_LL_22*invgamtilde_UU_12/chi;\n",
      "        amrex::Real ConformalChristoffelchigamtilde_ULL_200 = Christoffelgamtilde_ULL_200 + 0.5*dDchi_L_0*gamtilde_LL_00*invgamtilde_UU_02/chi + 0.5*dDchi_L_1*gamtilde_LL_00*invgamtilde_UU_12/chi + 0.5*dDchi_L_2*gamtilde_LL_00*invgamtilde_UU_22/chi;\n",
      "        amrex::Real ConformalChristoffelchigamtilde_ULL_201 = Christoffelgamtilde_ULL_201 + 0.5*dDchi_L_0*gamtilde_LL_01*invgamtilde_UU_02/chi + 0.5*dDchi_L_1*gamtilde_LL_01*invgamtilde_UU_12/chi + 0.5*dDchi_L_2*gamtilde_LL_01*invgamtilde_UU_22/chi;\n",
      "        amrex::Real ConformalChristoffelchigamtilde_ULL_202 = Christoffelgamtilde_ULL_202 + 0.5*dDchi_L_0*gamtilde_LL_02*invgamtilde_UU_02/chi - 0.5*dDchi_L_0/chi + 0.5*dDchi_L_1*gamtilde_LL_02*invgamtilde_UU_12/chi + 0.5*dDchi_L_2*gamtilde_LL_02*invgamtilde_UU_22/chi;\n",
      "        amrex::Real ConformalChristoffelchigamtilde_ULL_211 = Christoffelgamtilde_ULL_211 + 0.5*dDchi_L_0*gamtilde_LL_11*invgamtilde_UU_02/chi + 0.5*dDchi_L_1*gamtilde_LL_11*invgamtilde_UU_12/chi + 0.5*dDchi_L_2*gamtilde_LL_11*invgamtilde_UU_22/chi;\n",
      "        amrex::Real ConformalChristoffelchigamtilde_ULL_212 = Christoffelgamtilde_ULL_212 + 0.5*dDchi_L_0*gamtilde_LL_12*invgamtilde_UU_02/chi + 0.5*dDchi_L_1*gamtilde_LL_12*invgamtilde_UU_12/chi - 0.5*dDchi_L_1/chi + 0.5*dDchi_L_2*gamtilde_LL_12*invgamtilde_UU_22/chi;\n",
      "        amrex::Real ConformalChristoffelchigamtilde_ULL_222 = Christoffelgamtilde_ULL_222 + 0.5*dDchi_L_0*gamtilde_LL_22*invgamtilde_UU_02/chi + 0.5*dDchi_L_1*gamtilde_LL_22*invgamtilde_UU_12/chi + 0.5*dDchi_L_2*gamtilde_LL_22*invgamtilde_UU_22/chi - 1.0*dDchi_L_2/chi;\n",
      "\n",
      "        amrex::Real gam_LL_00 = gamtilde_LL_00/chi;\n",
      "        amrex::Real gam_LL_01 = gamtilde_LL_01/chi;\n",
      "        amrex::Real gam_LL_02 = gamtilde_LL_02/chi;\n",
      "        amrex::Real gam_LL_11 = gamtilde_LL_11/chi;\n",
      "        amrex::Real gam_LL_12 = gamtilde_LL_12/chi;\n",
      "        amrex::Real gam_LL_22 = gamtilde_LL_22/chi;\n",
      "\n",
      "        amrex::Real invgam_UU_00 = chi*invgamtilde_UU_00;\n",
      "        amrex::Real invgam_UU_01 = chi*invgamtilde_UU_01;\n",
      "        amrex::Real invgam_UU_02 = chi*invgamtilde_UU_02;\n",
      "        amrex::Real invgam_UU_11 = chi*invgamtilde_UU_11;\n",
      "        amrex::Real invgam_UU_12 = chi*invgamtilde_UU_12;\n",
      "        amrex::Real invgam_UU_22 = chi*invgamtilde_UU_22;\n",
      "\n",
      "        amrex::Real Atilde_UU_00 = Atilde_LL_00*std::pow(invgamtilde_UU_00, 2) + 2*Atilde_LL_01*invgamtilde_UU_00*invgamtilde_UU_01 + 2*Atilde_LL_02*invgamtilde_UU_00*invgamtilde_UU_02 + Atilde_LL_11*std::pow(invgamtilde_UU_01, 2) + 2*Atilde_LL_12*invgamtilde_UU_01*invgamtilde_UU_02 + Atilde_LL_22*std::pow(invgamtilde_UU_02, 2);\n",
      "        amrex::Real Atilde_UU_01 = Atilde_LL_00*invgamtilde_UU_00*invgamtilde_UU_01 + Atilde_LL_01*invgamtilde_UU_00*invgamtilde_UU_11 + Atilde_LL_01*std::pow(invgamtilde_UU_01, 2) + Atilde_LL_02*invgamtilde_UU_00*invgamtilde_UU_12 + Atilde_LL_02*invgamtilde_UU_01*invgamtilde_UU_02 + Atilde_LL_11*invgamtilde_UU_01*invgamtilde_UU_11 + Atilde_LL_12*invgamtilde_UU_01*invgamtilde_UU_12 + Atilde_LL_12*invgamtilde_UU_02*invgamtilde_UU_11 + Atilde_LL_22*invgamtilde_UU_02*invgamtilde_UU_12;\n",
      "        amrex::Real Atilde_UU_02 = Atilde_LL_00*invgamtilde_UU_00*invgamtilde_UU_02 + Atilde_LL_01*invgamtilde_UU_00*invgamtilde_UU_12 + Atilde_LL_01*invgamtilde_UU_01*invgamtilde_UU_02 + Atilde_LL_02*invgamtilde_UU_00*invgamtilde_UU_22 + Atilde_LL_02*std::pow(invgamtilde_UU_02, 2) + Atilde_LL_11*invgamtilde_UU_01*invgamtilde_UU_12 + Atilde_LL_12*invgamtilde_UU_01*invgamtilde_UU_22 + Atilde_LL_12*invgamtilde_UU_02*invgamtilde_UU_12 + Atilde_LL_22*invgamtilde_UU_02*invgamtilde_UU_22;\n",
      "        amrex::Real Atilde_UU_11 = Atilde_LL_00*std::pow(invgamtilde_UU_01, 2) + 2*Atilde_LL_01*invgamtilde_UU_01*invgamtilde_UU_11 + 2*Atilde_LL_02*invgamtilde_UU_01*invgamtilde_UU_12 + Atilde_LL_11*std::pow(invgamtilde_UU_11, 2) + 2*Atilde_LL_12*invgamtilde_UU_11*invgamtilde_UU_12 + Atilde_LL_22*std::pow(invgamtilde_UU_12, 2);\n",
      "        amrex::Real Atilde_UU_12 = Atilde_LL_00*invgamtilde_UU_01*invgamtilde_UU_02 + Atilde_LL_01*invgamtilde_UU_01*invgamtilde_UU_12 + Atilde_LL_01*invgamtilde_UU_02*invgamtilde_UU_11 + Atilde_LL_02*invgamtilde_UU_01*invgamtilde_UU_22 + Atilde_LL_02*invgamtilde_UU_02*invgamtilde_UU_12 + Atilde_LL_11*invgamtilde_UU_11*invgamtilde_UU_12 + Atilde_LL_12*invgamtilde_UU_11*invgamtilde_UU_22 + Atilde_LL_12*std::pow(invgamtilde_UU_12, 2) + Atilde_LL_22*invgamtilde_UU_12*invgamtilde_UU_22;\n",
      "        amrex::Real Atilde_UU_22 = Atilde_LL_00*std::pow(invgamtilde_UU_02, 2) + 2*Atilde_LL_01*invgamtilde_UU_02*invgamtilde_UU_12 + 2*Atilde_LL_02*invgamtilde_UU_02*invgamtilde_UU_22 + Atilde_LL_11*std::pow(invgamtilde_UU_12, 2) + 2*Atilde_LL_12*invgamtilde_UU_12*invgamtilde_UU_22 + Atilde_LL_22*std::pow(invgamtilde_UU_22, 2);\n",
      "\n",
      "        amrex::Real Atilde_UL_00 = Atilde_LL_00*invgamtilde_UU_00 + Atilde_LL_01*invgamtilde_UU_01 + Atilde_LL_02*invgamtilde_UU_02;\n",
      "        amrex::Real Atilde_UL_01 = Atilde_LL_01*invgamtilde_UU_00 + Atilde_LL_11*invgamtilde_UU_01 + Atilde_LL_12*invgamtilde_UU_02;\n",
      "        amrex::Real Atilde_UL_02 = Atilde_LL_02*invgamtilde_UU_00 + Atilde_LL_12*invgamtilde_UU_01 + Atilde_LL_22*invgamtilde_UU_02;\n",
      "        amrex::Real Atilde_UL_10 = Atilde_LL_00*invgamtilde_UU_01 + Atilde_LL_01*invgamtilde_UU_11 + Atilde_LL_02*invgamtilde_UU_12;\n",
      "        amrex::Real Atilde_UL_11 = Atilde_LL_01*invgamtilde_UU_01 + Atilde_LL_11*invgamtilde_UU_11 + Atilde_LL_12*invgamtilde_UU_12;\n",
      "        amrex::Real Atilde_UL_12 = Atilde_LL_02*invgamtilde_UU_01 + Atilde_LL_12*invgamtilde_UU_11 + Atilde_LL_22*invgamtilde_UU_12;\n",
      "        amrex::Real Atilde_UL_20 = Atilde_LL_00*invgamtilde_UU_02 + Atilde_LL_01*invgamtilde_UU_12 + Atilde_LL_02*invgamtilde_UU_22;\n",
      "        amrex::Real Atilde_UL_21 = Atilde_LL_01*invgamtilde_UU_02 + Atilde_LL_11*invgamtilde_UU_12 + Atilde_LL_12*invgamtilde_UU_22;\n",
      "        amrex::Real Atilde_UL_22 = Atilde_LL_02*invgamtilde_UU_02 + Atilde_LL_12*invgamtilde_UU_12 + Atilde_LL_22*invgamtilde_UU_22;\n",
      "\n",
      "        amrex::Real ChristoffelDgamtilde_U_0 = Christoffelgamtilde_ULL_000*invgamtilde_UU_00 + 2*Christoffelgamtilde_ULL_001*invgamtilde_UU_01 + 2*Christoffelgamtilde_ULL_002*invgamtilde_UU_02 + Christoffelgamtilde_ULL_011*invgamtilde_UU_11 + 2*Christoffelgamtilde_ULL_012*invgamtilde_UU_12 + Christoffelgamtilde_ULL_022*invgamtilde_UU_22;\n",
      "        amrex::Real ChristoffelDgamtilde_U_1 = Christoffelgamtilde_ULL_100*invgamtilde_UU_00 + 2*Christoffelgamtilde_ULL_101*invgamtilde_UU_01 + 2*Christoffelgamtilde_ULL_102*invgamtilde_UU_02 + Christoffelgamtilde_ULL_111*invgamtilde_UU_11 + 2*Christoffelgamtilde_ULL_112*invgamtilde_UU_12 + Christoffelgamtilde_ULL_122*invgamtilde_UU_22;\n",
      "        amrex::Real ChristoffelDgamtilde_U_2 = Christoffelgamtilde_ULL_200*invgamtilde_UU_00 + 2*Christoffelgamtilde_ULL_201*invgamtilde_UU_01 + 2*Christoffelgamtilde_ULL_202*invgamtilde_UU_02 + Christoffelgamtilde_ULL_211*invgamtilde_UU_11 + 2*Christoffelgamtilde_ULL_212*invgamtilde_UU_12 + Christoffelgamtilde_ULL_222*invgamtilde_UU_22;\n",
      "\n",
      "        amrex::Real Z4cRicciTildegamtilde_LL_00 = 1.0*ChristoffelDgamtilde_U_0*Christoffelgamtilde_LLL_000 + 1.0*ChristoffelDgamtilde_U_1*Christoffelgamtilde_LLL_001 + 1.0*ChristoffelDgamtilde_U_2*Christoffelgamtilde_LLL_002 + 3*Christoffelgamtilde_LLL_000*Christoffelgamtilde_ULL_000*invgamtilde_UU_00 + 3*Christoffelgamtilde_LLL_000*Christoffelgamtilde_ULL_001*invgamtilde_UU_01 + 3*Christoffelgamtilde_LLL_000*Christoffelgamtilde_ULL_002*invgamtilde_UU_02 + 3*Christoffelgamtilde_LLL_001*Christoffelgamtilde_ULL_000*invgamtilde_UU_01 + 3*Christoffelgamtilde_LLL_001*Christoffelgamtilde_ULL_001*invgamtilde_UU_11 + 3*Christoffelgamtilde_LLL_001*Christoffelgamtilde_ULL_002*invgamtilde_UU_12 + 2*Christoffelgamtilde_LLL_001*Christoffelgamtilde_ULL_100*invgamtilde_UU_00 + 2*Christoffelgamtilde_LLL_001*Christoffelgamtilde_ULL_101*invgamtilde_UU_01 + 2*Christoffelgamtilde_LLL_001*Christoffelgamtilde_ULL_102*invgamtilde_UU_02 + 3*Christoffelgamtilde_LLL_002*Christoffelgamtilde_ULL_000*invgamtilde_UU_02 + 3*Christoffelgamtilde_LLL_002*Christoffelgamtilde_ULL_001*invgamtilde_UU_12 + 3*Christoffelgamtilde_LLL_002*Christoffelgamtilde_ULL_002*invgamtilde_UU_22 + 2*Christoffelgamtilde_LLL_002*Christoffelgamtilde_ULL_200*invgamtilde_UU_00 + 2*Christoffelgamtilde_LLL_002*Christoffelgamtilde_ULL_201*invgamtilde_UU_01 + 2*Christoffelgamtilde_LLL_002*Christoffelgamtilde_ULL_202*invgamtilde_UU_02 + 2*Christoffelgamtilde_LLL_011*Christoffelgamtilde_ULL_100*invgamtilde_UU_01 + 2*Christoffelgamtilde_LLL_011*Christoffelgamtilde_ULL_101*invgamtilde_UU_11 + 2*Christoffelgamtilde_LLL_011*Christoffelgamtilde_ULL_102*invgamtilde_UU_12 + 2*Christoffelgamtilde_LLL_012*Christoffelgamtilde_ULL_100*invgamtilde_UU_02 + 2*Christoffelgamtilde_LLL_012*Christoffelgamtilde_ULL_101*invgamtilde_UU_12 + 2*Christoffelgamtilde_LLL_012*Christoffelgamtilde_ULL_102*invgamtilde_UU_22 + 2*Christoffelgamtilde_LLL_012*Christoffelgamtilde_ULL_200*invgamtilde_UU_01 + 2*Christoffelgamtilde_LLL_012*Christoffelgamtilde_ULL_201*invgamtilde_UU_11 + 2*Christoffelgamtilde_LLL_012*Christoffelgamtilde_ULL_202*invgamtilde_UU_12 + 2*Christoffelgamtilde_LLL_022*Christoffelgamtilde_ULL_200*invgamtilde_UU_02 + 2*Christoffelgamtilde_LLL_022*Christoffelgamtilde_ULL_201*invgamtilde_UU_12 + 2*Christoffelgamtilde_LLL_022*Christoffelgamtilde_ULL_202*invgamtilde_UU_22 + Christoffelgamtilde_LLL_100*Christoffelgamtilde_ULL_100*invgamtilde_UU_00 + Christoffelgamtilde_LLL_100*Christoffelgamtilde_ULL_101*invgamtilde_UU_01 + Christoffelgamtilde_LLL_100*Christoffelgamtilde_ULL_102*invgamtilde_UU_02 + Christoffelgamtilde_LLL_101*Christoffelgamtilde_ULL_100*invgamtilde_UU_01 + Christoffelgamtilde_LLL_101*Christoffelgamtilde_ULL_101*invgamtilde_UU_11 + Christoffelgamtilde_LLL_101*Christoffelgamtilde_ULL_102*invgamtilde_UU_12 + Christoffelgamtilde_LLL_102*Christoffelgamtilde_ULL_100*invgamtilde_UU_02 + Christoffelgamtilde_LLL_102*Christoffelgamtilde_ULL_101*invgamtilde_UU_12 + Christoffelgamtilde_LLL_102*Christoffelgamtilde_ULL_102*invgamtilde_UU_22 + Christoffelgamtilde_LLL_200*Christoffelgamtilde_ULL_200*invgamtilde_UU_00 + Christoffelgamtilde_LLL_200*Christoffelgamtilde_ULL_201*invgamtilde_UU_01 + Christoffelgamtilde_LLL_200*Christoffelgamtilde_ULL_202*invgamtilde_UU_02 + Christoffelgamtilde_LLL_201*Christoffelgamtilde_ULL_200*invgamtilde_UU_01 + Christoffelgamtilde_LLL_201*Christoffelgamtilde_ULL_201*invgamtilde_UU_11 + Christoffelgamtilde_LLL_201*Christoffelgamtilde_ULL_202*invgamtilde_UU_12 + Christoffelgamtilde_LLL_202*Christoffelgamtilde_ULL_200*invgamtilde_UU_02 + Christoffelgamtilde_LLL_202*Christoffelgamtilde_ULL_201*invgamtilde_UU_12 + Christoffelgamtilde_LLL_202*Christoffelgamtilde_ULL_202*invgamtilde_UU_22 - 0.5*dDDgamtilde_LLLL_0000*invgamtilde_UU_00 - 1.0*dDDgamtilde_LLLL_0001*invgamtilde_UU_01 - 1.0*dDDgamtilde_LLLL_0002*invgamtilde_UU_02 - 0.5*dDDgamtilde_LLLL_0011*invgamtilde_UU_11 - 1.0*dDDgamtilde_LLLL_0012*invgamtilde_UU_12 - 0.5*dDDgamtilde_LLLL_0022*invgamtilde_UU_22 + 1.0*dDGamtilde_UL_00*gamtilde_LL_00 + 1.0*dDGamtilde_UL_10*gamtilde_LL_01 + 1.0*dDGamtilde_UL_20*gamtilde_LL_02;\n",
      "        amrex::Real Z4cRicciTildegamtilde_LL_01 = 0.5*ChristoffelDgamtilde_U_0*(Christoffelgamtilde_LLL_001 + Christoffelgamtilde_LLL_100) + 0.5*ChristoffelDgamtilde_U_1*(Christoffelgamtilde_LLL_011 + Christoffelgamtilde_LLL_101) + 0.5*ChristoffelDgamtilde_U_2*(Christoffelgamtilde_LLL_012 + Christoffelgamtilde_LLL_102) + Christoffelgamtilde_LLL_001*Christoffelgamtilde_ULL_000*invgamtilde_UU_00 + Christoffelgamtilde_LLL_001*Christoffelgamtilde_ULL_001*invgamtilde_UU_01 + Christoffelgamtilde_LLL_001*Christoffelgamtilde_ULL_002*invgamtilde_UU_02 + Christoffelgamtilde_LLL_011*Christoffelgamtilde_ULL_000*invgamtilde_UU_01 + Christoffelgamtilde_LLL_011*Christoffelgamtilde_ULL_001*invgamtilde_UU_11 + Christoffelgamtilde_LLL_011*Christoffelgamtilde_ULL_002*invgamtilde_UU_12 + Christoffelgamtilde_LLL_012*Christoffelgamtilde_ULL_000*invgamtilde_UU_02 + Christoffelgamtilde_LLL_012*Christoffelgamtilde_ULL_001*invgamtilde_UU_12 + Christoffelgamtilde_LLL_012*Christoffelgamtilde_ULL_002*invgamtilde_UU_22 + Christoffelgamtilde_LLL_101*Christoffelgamtilde_ULL_100*invgamtilde_UU_00 + Christoffelgamtilde_LLL_101*Christoffelgamtilde_ULL_101*invgamtilde_UU_01 + Christoffelgamtilde_LLL_101*Christoffelgamtilde_ULL_102*invgamtilde_UU_02 + Christoffelgamtilde_LLL_111*Christoffelgamtilde_ULL_100*invgamtilde_UU_01 + Christoffelgamtilde_LLL_111*Christoffelgamtilde_ULL_101*invgamtilde_UU_11 + Christoffelgamtilde_LLL_111*Christoffelgamtilde_ULL_102*invgamtilde_UU_12 + Christoffelgamtilde_LLL_112*Christoffelgamtilde_ULL_100*invgamtilde_UU_02 + Christoffelgamtilde_LLL_112*Christoffelgamtilde_ULL_101*invgamtilde_UU_12 + Christoffelgamtilde_LLL_112*Christoffelgamtilde_ULL_102*invgamtilde_UU_22 + Christoffelgamtilde_LLL_201*Christoffelgamtilde_ULL_200*invgamtilde_UU_00 + Christoffelgamtilde_LLL_201*Christoffelgamtilde_ULL_201*invgamtilde_UU_01 + Christoffelgamtilde_LLL_201*Christoffelgamtilde_ULL_202*invgamtilde_UU_02 + Christoffelgamtilde_LLL_211*Christoffelgamtilde_ULL_200*invgamtilde_UU_01 + Christoffelgamtilde_LLL_211*Christoffelgamtilde_ULL_201*invgamtilde_UU_11 + Christoffelgamtilde_LLL_211*Christoffelgamtilde_ULL_202*invgamtilde_UU_12 + Christoffelgamtilde_LLL_212*Christoffelgamtilde_ULL_200*invgamtilde_UU_02 + Christoffelgamtilde_LLL_212*Christoffelgamtilde_ULL_201*invgamtilde_UU_12 + Christoffelgamtilde_LLL_212*Christoffelgamtilde_ULL_202*invgamtilde_UU_22 - 0.5*dDDgamtilde_LLLL_0100*invgamtilde_UU_00 - 1.0*dDDgamtilde_LLLL_0101*invgamtilde_UU_01 - 1.0*dDDgamtilde_LLLL_0102*invgamtilde_UU_02 - 0.5*dDDgamtilde_LLLL_0111*invgamtilde_UU_11 - 1.0*dDDgamtilde_LLLL_0112*invgamtilde_UU_12 - 0.5*dDDgamtilde_LLLL_0122*invgamtilde_UU_22 + 0.5*dDGamtilde_UL_00*gamtilde_LL_01 + 0.5*dDGamtilde_UL_01*gamtilde_LL_00 + 0.5*dDGamtilde_UL_10*gamtilde_LL_11 + 0.5*dDGamtilde_UL_11*gamtilde_LL_01 + 0.5*dDGamtilde_UL_20*gamtilde_LL_12 + 0.5*dDGamtilde_UL_21*gamtilde_LL_02 + invgamtilde_UU_00*(Christoffelgamtilde_LLL_000*Christoffelgamtilde_ULL_001 + Christoffelgamtilde_LLL_100*Christoffelgamtilde_ULL_000) + invgamtilde_UU_00*(Christoffelgamtilde_LLL_001*Christoffelgamtilde_ULL_101 + Christoffelgamtilde_LLL_101*Christoffelgamtilde_ULL_100) + invgamtilde_UU_00*(Christoffelgamtilde_LLL_002*Christoffelgamtilde_ULL_201 + Christoffelgamtilde_LLL_102*Christoffelgamtilde_ULL_200) + invgamtilde_UU_01*(Christoffelgamtilde_LLL_000*Christoffelgamtilde_ULL_011 + Christoffelgamtilde_LLL_100*Christoffelgamtilde_ULL_001) + invgamtilde_UU_01*(Christoffelgamtilde_LLL_001*Christoffelgamtilde_ULL_001 + Christoffelgamtilde_LLL_101*Christoffelgamtilde_ULL_000) + invgamtilde_UU_01*(Christoffelgamtilde_LLL_001*Christoffelgamtilde_ULL_111 + Christoffelgamtilde_LLL_101*Christoffelgamtilde_ULL_101) + invgamtilde_UU_01*(Christoffelgamtilde_LLL_002*Christoffelgamtilde_ULL_211 + Christoffelgamtilde_LLL_102*Christoffelgamtilde_ULL_201) + invgamtilde_UU_01*(Christoffelgamtilde_LLL_011*Christoffelgamtilde_ULL_101 + Christoffelgamtilde_LLL_111*Christoffelgamtilde_ULL_100) + invgamtilde_UU_01*(Christoffelgamtilde_LLL_012*Christoffelgamtilde_ULL_201 + Christoffelgamtilde_LLL_112*Christoffelgamtilde_ULL_200) + invgamtilde_UU_02*(Christoffelgamtilde_LLL_000*Christoffelgamtilde_ULL_012 + Christoffelgamtilde_LLL_100*Christoffelgamtilde_ULL_002) + invgamtilde_UU_02*(Christoffelgamtilde_LLL_001*Christoffelgamtilde_ULL_112 + Christoffelgamtilde_LLL_101*Christoffelgamtilde_ULL_102) + invgamtilde_UU_02*(Christoffelgamtilde_LLL_002*Christoffelgamtilde_ULL_001 + Christoffelgamtilde_LLL_102*Christoffelgamtilde_ULL_000) + invgamtilde_UU_02*(Christoffelgamtilde_LLL_002*Christoffelgamtilde_ULL_212 + Christoffelgamtilde_LLL_102*Christoffelgamtilde_ULL_202) + invgamtilde_UU_02*(Christoffelgamtilde_LLL_012*Christoffelgamtilde_ULL_101 + Christoffelgamtilde_LLL_112*Christoffelgamtilde_ULL_100) + invgamtilde_UU_02*(Christoffelgamtilde_LLL_022*Christoffelgamtilde_ULL_201 + Christoffelgamtilde_LLL_122*Christoffelgamtilde_ULL_200) + invgamtilde_UU_11*(Christoffelgamtilde_LLL_001*Christoffelgamtilde_ULL_011 + Christoffelgamtilde_LLL_101*Christoffelgamtilde_ULL_001) + invgamtilde_UU_11*(Christoffelgamtilde_LLL_011*Christoffelgamtilde_ULL_111 + Christoffelgamtilde_LLL_111*Christoffelgamtilde_ULL_101) + invgamtilde_UU_11*(Christoffelgamtilde_LLL_012*Christoffelgamtilde_ULL_211 + Christoffelgamtilde_LLL_112*Christoffelgamtilde_ULL_201) + invgamtilde_UU_12*(Christoffelgamtilde_LLL_001*Christoffelgamtilde_ULL_012 + Christoffelgamtilde_LLL_101*Christoffelgamtilde_ULL_002) + invgamtilde_UU_12*(Christoffelgamtilde_LLL_002*Christoffelgamtilde_ULL_011 + Christoffelgamtilde_LLL_102*Christoffelgamtilde_ULL_001) + invgamtilde_UU_12*(Christoffelgamtilde_LLL_011*Christoffelgamtilde_ULL_112 + Christoffelgamtilde_LLL_111*Christoffelgamtilde_ULL_102) + invgamtilde_UU_12*(Christoffelgamtilde_LLL_012*Christoffelgamtilde_ULL_111 + Christoffelgamtilde_LLL_112*Christoffelgamtilde_ULL_101) + invgamtilde_UU_12*(Christoffelgamtilde_LLL_012*Christoffelgamtilde_ULL_212 + Christoffelgamtilde_LLL_112*Christoffelgamtilde_ULL_202) + invgamtilde_UU_12*(Christoffelgamtilde_LLL_022*Christoffelgamtilde_ULL_211 + Christoffelgamtilde_LLL_122*Christoffelgamtilde_ULL_201) + invgamtilde_UU_22*(Christoffelgamtilde_LLL_002*Christoffelgamtilde_ULL_012 + Christoffelgamtilde_LLL_102*Christoffelgamtilde_ULL_002) + invgamtilde_UU_22*(Christoffelgamtilde_LLL_012*Christoffelgamtilde_ULL_112 + Christoffelgamtilde_LLL_112*Christoffelgamtilde_ULL_102) + invgamtilde_UU_22*(Christoffelgamtilde_LLL_022*Christoffelgamtilde_ULL_212 + Christoffelgamtilde_LLL_122*Christoffelgamtilde_ULL_202);\n",
      "        amrex::Real Z4cRicciTildegamtilde_LL_02 = 0.5*ChristoffelDgamtilde_U_0*(Christoffelgamtilde_LLL_002 + Christoffelgamtilde_LLL_200) + 0.5*ChristoffelDgamtilde_U_1*(Christoffelgamtilde_LLL_012 + Christoffelgamtilde_LLL_201) + 0.5*ChristoffelDgamtilde_U_2*(Christoffelgamtilde_LLL_022 + Christoffelgamtilde_LLL_202) + Christoffelgamtilde_LLL_002*Christoffelgamtilde_ULL_000*invgamtilde_UU_00 + Christoffelgamtilde_LLL_002*Christoffelgamtilde_ULL_001*invgamtilde_UU_01 + Christoffelgamtilde_LLL_002*Christoffelgamtilde_ULL_002*invgamtilde_UU_02 + Christoffelgamtilde_LLL_012*Christoffelgamtilde_ULL_000*invgamtilde_UU_01 + Christoffelgamtilde_LLL_012*Christoffelgamtilde_ULL_001*invgamtilde_UU_11 + Christoffelgamtilde_LLL_012*Christoffelgamtilde_ULL_002*invgamtilde_UU_12 + Christoffelgamtilde_LLL_022*Christoffelgamtilde_ULL_000*invgamtilde_UU_02 + Christoffelgamtilde_LLL_022*Christoffelgamtilde_ULL_001*invgamtilde_UU_12 + Christoffelgamtilde_LLL_022*Christoffelgamtilde_ULL_002*invgamtilde_UU_22 + Christoffelgamtilde_LLL_102*Christoffelgamtilde_ULL_100*invgamtilde_UU_00 + Christoffelgamtilde_LLL_102*Christoffelgamtilde_ULL_101*invgamtilde_UU_01 + Christoffelgamtilde_LLL_102*Christoffelgamtilde_ULL_102*invgamtilde_UU_02 + Christoffelgamtilde_LLL_112*Christoffelgamtilde_ULL_100*invgamtilde_UU_01 + Christoffelgamtilde_LLL_112*Christoffelgamtilde_ULL_101*invgamtilde_UU_11 + Christoffelgamtilde_LLL_112*Christoffelgamtilde_ULL_102*invgamtilde_UU_12 + Christoffelgamtilde_LLL_122*Christoffelgamtilde_ULL_100*invgamtilde_UU_02 + Christoffelgamtilde_LLL_122*Christoffelgamtilde_ULL_101*invgamtilde_UU_12 + Christoffelgamtilde_LLL_122*Christoffelgamtilde_ULL_102*invgamtilde_UU_22 + Christoffelgamtilde_LLL_202*Christoffelgamtilde_ULL_200*invgamtilde_UU_00 + Christoffelgamtilde_LLL_202*Christoffelgamtilde_ULL_201*invgamtilde_UU_01 + Christoffelgamtilde_LLL_202*Christoffelgamtilde_ULL_202*invgamtilde_UU_02 + Christoffelgamtilde_LLL_212*Christoffelgamtilde_ULL_200*invgamtilde_UU_01 + Christoffelgamtilde_LLL_212*Christoffelgamtilde_ULL_201*invgamtilde_UU_11 + Christoffelgamtilde_LLL_212*Christoffelgamtilde_ULL_202*invgamtilde_UU_12 + Christoffelgamtilde_LLL_222*Christoffelgamtilde_ULL_200*invgamtilde_UU_02 + Christoffelgamtilde_LLL_222*Christoffelgamtilde_ULL_201*invgamtilde_UU_12 + Christoffelgamtilde_LLL_222*Christoffelgamtilde_ULL_202*invgamtilde_UU_22 - 0.5*dDDgamtilde_LLLL_0200*invgamtilde_UU_00 - 1.0*dDDgamtilde_LLLL_0201*invgamtilde_UU_01 - 1.0*dDDgamtilde_LLLL_0202*invgamtilde_UU_02 - 0.5*dDDgamtilde_LLLL_0211*invgamtilde_UU_11 - 1.0*dDDgamtilde_LLLL_0212*invgamtilde_UU_12 - 0.5*dDDgamtilde_LLLL_0222*invgamtilde_UU_22 + 0.5*dDGamtilde_UL_00*gamtilde_LL_02 + 0.5*dDGamtilde_UL_02*gamtilde_LL_00 + 0.5*dDGamtilde_UL_10*gamtilde_LL_12 + 0.5*dDGamtilde_UL_12*gamtilde_LL_01 + 0.5*dDGamtilde_UL_20*gamtilde_LL_22 + 0.5*dDGamtilde_UL_22*gamtilde_LL_02 + invgamtilde_UU_00*(Christoffelgamtilde_LLL_000*Christoffelgamtilde_ULL_002 + Christoffelgamtilde_LLL_200*Christoffelgamtilde_ULL_000) + invgamtilde_UU_00*(Christoffelgamtilde_LLL_001*Christoffelgamtilde_ULL_102 + Christoffelgamtilde_LLL_201*Christoffelgamtilde_ULL_100) + invgamtilde_UU_00*(Christoffelgamtilde_LLL_002*Christoffelgamtilde_ULL_202 + Christoffelgamtilde_LLL_202*Christoffelgamtilde_ULL_200) + invgamtilde_UU_01*(Christoffelgamtilde_LLL_000*Christoffelgamtilde_ULL_012 + Christoffelgamtilde_LLL_200*Christoffelgamtilde_ULL_001) + invgamtilde_UU_01*(Christoffelgamtilde_LLL_001*Christoffelgamtilde_ULL_002 + Christoffelgamtilde_LLL_201*Christoffelgamtilde_ULL_000) + invgamtilde_UU_01*(Christoffelgamtilde_LLL_001*Christoffelgamtilde_ULL_112 + Christoffelgamtilde_LLL_201*Christoffelgamtilde_ULL_101) + invgamtilde_UU_01*(Christoffelgamtilde_LLL_002*Christoffelgamtilde_ULL_212 + Christoffelgamtilde_LLL_202*Christoffelgamtilde_ULL_201) + invgamtilde_UU_01*(Christoffelgamtilde_LLL_011*Christoffelgamtilde_ULL_102 + Christoffelgamtilde_LLL_211*Christoffelgamtilde_ULL_100) + invgamtilde_UU_01*(Christoffelgamtilde_LLL_012*Christoffelgamtilde_ULL_202 + Christoffelgamtilde_LLL_212*Christoffelgamtilde_ULL_200) + invgamtilde_UU_02*(Christoffelgamtilde_LLL_000*Christoffelgamtilde_ULL_022 + Christoffelgamtilde_LLL_200*Christoffelgamtilde_ULL_002) + invgamtilde_UU_02*(Christoffelgamtilde_LLL_001*Christoffelgamtilde_ULL_122 + Christoffelgamtilde_LLL_201*Christoffelgamtilde_ULL_102) + invgamtilde_UU_02*(Christoffelgamtilde_LLL_002*Christoffelgamtilde_ULL_002 + Christoffelgamtilde_LLL_202*Christoffelgamtilde_ULL_000) + invgamtilde_UU_02*(Christoffelgamtilde_LLL_002*Christoffelgamtilde_ULL_222 + Christoffelgamtilde_LLL_202*Christoffelgamtilde_ULL_202) + invgamtilde_UU_02*(Christoffelgamtilde_LLL_012*Christoffelgamtilde_ULL_102 + Christoffelgamtilde_LLL_212*Christoffelgamtilde_ULL_100) + invgamtilde_UU_02*(Christoffelgamtilde_LLL_022*Christoffelgamtilde_ULL_202 + Christoffelgamtilde_LLL_222*Christoffelgamtilde_ULL_200) + invgamtilde_UU_11*(Christoffelgamtilde_LLL_001*Christoffelgamtilde_ULL_012 + Christoffelgamtilde_LLL_201*Christoffelgamtilde_ULL_001) + invgamtilde_UU_11*(Christoffelgamtilde_LLL_011*Christoffelgamtilde_ULL_112 + Christoffelgamtilde_LLL_211*Christoffelgamtilde_ULL_101) + invgamtilde_UU_11*(Christoffelgamtilde_LLL_012*Christoffelgamtilde_ULL_212 + Christoffelgamtilde_LLL_212*Christoffelgamtilde_ULL_201) + invgamtilde_UU_12*(Christoffelgamtilde_LLL_001*Christoffelgamtilde_ULL_022 + Christoffelgamtilde_LLL_201*Christoffelgamtilde_ULL_002) + invgamtilde_UU_12*(Christoffelgamtilde_LLL_002*Christoffelgamtilde_ULL_012 + Christoffelgamtilde_LLL_202*Christoffelgamtilde_ULL_001) + invgamtilde_UU_12*(Christoffelgamtilde_LLL_011*Christoffelgamtilde_ULL_122 + Christoffelgamtilde_LLL_211*Christoffelgamtilde_ULL_102) + invgamtilde_UU_12*(Christoffelgamtilde_LLL_012*Christoffelgamtilde_ULL_112 + Christoffelgamtilde_LLL_212*Christoffelgamtilde_ULL_101) + invgamtilde_UU_12*(Christoffelgamtilde_LLL_012*Christoffelgamtilde_ULL_222 + Christoffelgamtilde_LLL_212*Christoffelgamtilde_ULL_202) + invgamtilde_UU_12*(Christoffelgamtilde_LLL_022*Christoffelgamtilde_ULL_212 + Christoffelgamtilde_LLL_222*Christoffelgamtilde_ULL_201) + invgamtilde_UU_22*(Christoffelgamtilde_LLL_002*Christoffelgamtilde_ULL_022 + Christoffelgamtilde_LLL_202*Christoffelgamtilde_ULL_002) + invgamtilde_UU_22*(Christoffelgamtilde_LLL_012*Christoffelgamtilde_ULL_122 + Christoffelgamtilde_LLL_212*Christoffelgamtilde_ULL_102) + invgamtilde_UU_22*(Christoffelgamtilde_LLL_022*Christoffelgamtilde_ULL_222 + Christoffelgamtilde_LLL_222*Christoffelgamtilde_ULL_202);\n",
      "        amrex::Real Z4cRicciTildegamtilde_LL_11 = 1.0*ChristoffelDgamtilde_U_0*Christoffelgamtilde_LLL_101 + 1.0*ChristoffelDgamtilde_U_1*Christoffelgamtilde_LLL_111 + 1.0*ChristoffelDgamtilde_U_2*Christoffelgamtilde_LLL_112 + Christoffelgamtilde_LLL_001*Christoffelgamtilde_ULL_001*invgamtilde_UU_00 + Christoffelgamtilde_LLL_001*Christoffelgamtilde_ULL_011*invgamtilde_UU_01 + Christoffelgamtilde_LLL_001*Christoffelgamtilde_ULL_012*invgamtilde_UU_02 + Christoffelgamtilde_LLL_011*Christoffelgamtilde_ULL_001*invgamtilde_UU_01 + Christoffelgamtilde_LLL_011*Christoffelgamtilde_ULL_011*invgamtilde_UU_11 + Christoffelgamtilde_LLL_011*Christoffelgamtilde_ULL_012*invgamtilde_UU_12 + Christoffelgamtilde_LLL_012*Christoffelgamtilde_ULL_001*invgamtilde_UU_02 + Christoffelgamtilde_LLL_012*Christoffelgamtilde_ULL_011*invgamtilde_UU_12 + Christoffelgamtilde_LLL_012*Christoffelgamtilde_ULL_012*invgamtilde_UU_22 + 2*Christoffelgamtilde_LLL_100*Christoffelgamtilde_ULL_001*invgamtilde_UU_00 + 2*Christoffelgamtilde_LLL_100*Christoffelgamtilde_ULL_011*invgamtilde_UU_01 + 2*Christoffelgamtilde_LLL_100*Christoffelgamtilde_ULL_012*invgamtilde_UU_02 + 2*Christoffelgamtilde_LLL_101*Christoffelgamtilde_ULL_001*invgamtilde_UU_01 + 2*Christoffelgamtilde_LLL_101*Christoffelgamtilde_ULL_011*invgamtilde_UU_11 + 2*Christoffelgamtilde_LLL_101*Christoffelgamtilde_ULL_012*invgamtilde_UU_12 + 3*Christoffelgamtilde_LLL_101*Christoffelgamtilde_ULL_101*invgamtilde_UU_00 + 3*Christoffelgamtilde_LLL_101*Christoffelgamtilde_ULL_111*invgamtilde_UU_01 + 3*Christoffelgamtilde_LLL_101*Christoffelgamtilde_ULL_112*invgamtilde_UU_02 + 2*Christoffelgamtilde_LLL_102*Christoffelgamtilde_ULL_001*invgamtilde_UU_02 + 2*Christoffelgamtilde_LLL_102*Christoffelgamtilde_ULL_011*invgamtilde_UU_12 + 2*Christoffelgamtilde_LLL_102*Christoffelgamtilde_ULL_012*invgamtilde_UU_22 + 2*Christoffelgamtilde_LLL_102*Christoffelgamtilde_ULL_201*invgamtilde_UU_00 + 2*Christoffelgamtilde_LLL_102*Christoffelgamtilde_ULL_211*invgamtilde_UU_01 + 2*Christoffelgamtilde_LLL_102*Christoffelgamtilde_ULL_212*invgamtilde_UU_02 + 3*Christoffelgamtilde_LLL_111*Christoffelgamtilde_ULL_101*invgamtilde_UU_01 + 3*Christoffelgamtilde_LLL_111*Christoffelgamtilde_ULL_111*invgamtilde_UU_11 + 3*Christoffelgamtilde_LLL_111*Christoffelgamtilde_ULL_112*invgamtilde_UU_12 + 3*Christoffelgamtilde_LLL_112*Christoffelgamtilde_ULL_101*invgamtilde_UU_02 + 3*Christoffelgamtilde_LLL_112*Christoffelgamtilde_ULL_111*invgamtilde_UU_12 + 3*Christoffelgamtilde_LLL_112*Christoffelgamtilde_ULL_112*invgamtilde_UU_22 + 2*Christoffelgamtilde_LLL_112*Christoffelgamtilde_ULL_201*invgamtilde_UU_01 + 2*Christoffelgamtilde_LLL_112*Christoffelgamtilde_ULL_211*invgamtilde_UU_11 + 2*Christoffelgamtilde_LLL_112*Christoffelgamtilde_ULL_212*invgamtilde_UU_12 + 2*Christoffelgamtilde_LLL_122*Christoffelgamtilde_ULL_201*invgamtilde_UU_02 + 2*Christoffelgamtilde_LLL_122*Christoffelgamtilde_ULL_211*invgamtilde_UU_12 + 2*Christoffelgamtilde_LLL_122*Christoffelgamtilde_ULL_212*invgamtilde_UU_22 + Christoffelgamtilde_LLL_201*Christoffelgamtilde_ULL_201*invgamtilde_UU_00 + Christoffelgamtilde_LLL_201*Christoffelgamtilde_ULL_211*invgamtilde_UU_01 + Christoffelgamtilde_LLL_201*Christoffelgamtilde_ULL_212*invgamtilde_UU_02 + Christoffelgamtilde_LLL_211*Christoffelgamtilde_ULL_201*invgamtilde_UU_01 + Christoffelgamtilde_LLL_211*Christoffelgamtilde_ULL_211*invgamtilde_UU_11 + Christoffelgamtilde_LLL_211*Christoffelgamtilde_ULL_212*invgamtilde_UU_12 + Christoffelgamtilde_LLL_212*Christoffelgamtilde_ULL_201*invgamtilde_UU_02 + Christoffelgamtilde_LLL_212*Christoffelgamtilde_ULL_211*invgamtilde_UU_12 + Christoffelgamtilde_LLL_212*Christoffelgamtilde_ULL_212*invgamtilde_UU_22 - 0.5*dDDgamtilde_LLLL_1100*invgamtilde_UU_00 - 1.0*dDDgamtilde_LLLL_1101*invgamtilde_UU_01 - 1.0*dDDgamtilde_LLLL_1102*invgamtilde_UU_02 - 0.5*dDDgamtilde_LLLL_1111*invgamtilde_UU_11 - 1.0*dDDgamtilde_LLLL_1112*invgamtilde_UU_12 - 0.5*dDDgamtilde_LLLL_1122*invgamtilde_UU_22 + 1.0*dDGamtilde_UL_01*gamtilde_LL_01 + 1.0*dDGamtilde_UL_11*gamtilde_LL_11 + 1.0*dDGamtilde_UL_21*gamtilde_LL_12;\n",
      "        amrex::Real Z4cRicciTildegamtilde_LL_12 = 0.5*ChristoffelDgamtilde_U_0*(Christoffelgamtilde_LLL_102 + Christoffelgamtilde_LLL_201) + 0.5*ChristoffelDgamtilde_U_1*(Christoffelgamtilde_LLL_112 + Christoffelgamtilde_LLL_211) + 0.5*ChristoffelDgamtilde_U_2*(Christoffelgamtilde_LLL_122 + Christoffelgamtilde_LLL_212) + Christoffelgamtilde_LLL_002*Christoffelgamtilde_ULL_001*invgamtilde_UU_00 + Christoffelgamtilde_LLL_002*Christoffelgamtilde_ULL_011*invgamtilde_UU_01 + Christoffelgamtilde_LLL_002*Christoffelgamtilde_ULL_012*invgamtilde_UU_02 + Christoffelgamtilde_LLL_012*Christoffelgamtilde_ULL_001*invgamtilde_UU_01 + Christoffelgamtilde_LLL_012*Christoffelgamtilde_ULL_011*invgamtilde_UU_11 + Christoffelgamtilde_LLL_012*Christoffelgamtilde_ULL_012*invgamtilde_UU_12 + Christoffelgamtilde_LLL_022*Christoffelgamtilde_ULL_001*invgamtilde_UU_02 + Christoffelgamtilde_LLL_022*Christoffelgamtilde_ULL_011*invgamtilde_UU_12 + Christoffelgamtilde_LLL_022*Christoffelgamtilde_ULL_012*invgamtilde_UU_22 + Christoffelgamtilde_LLL_102*Christoffelgamtilde_ULL_101*invgamtilde_UU_00 + Christoffelgamtilde_LLL_102*Christoffelgamtilde_ULL_111*invgamtilde_UU_01 + Christoffelgamtilde_LLL_102*Christoffelgamtilde_ULL_112*invgamtilde_UU_02 + Christoffelgamtilde_LLL_112*Christoffelgamtilde_ULL_101*invgamtilde_UU_01 + Christoffelgamtilde_LLL_112*Christoffelgamtilde_ULL_111*invgamtilde_UU_11 + Christoffelgamtilde_LLL_112*Christoffelgamtilde_ULL_112*invgamtilde_UU_12 + Christoffelgamtilde_LLL_122*Christoffelgamtilde_ULL_101*invgamtilde_UU_02 + Christoffelgamtilde_LLL_122*Christoffelgamtilde_ULL_111*invgamtilde_UU_12 + Christoffelgamtilde_LLL_122*Christoffelgamtilde_ULL_112*invgamtilde_UU_22 + Christoffelgamtilde_LLL_202*Christoffelgamtilde_ULL_201*invgamtilde_UU_00 + Christoffelgamtilde_LLL_202*Christoffelgamtilde_ULL_211*invgamtilde_UU_01 + Christoffelgamtilde_LLL_202*Christoffelgamtilde_ULL_212*invgamtilde_UU_02 + Christoffelgamtilde_LLL_212*Christoffelgamtilde_ULL_201*invgamtilde_UU_01 + Christoffelgamtilde_LLL_212*Christoffelgamtilde_ULL_211*invgamtilde_UU_11 + Christoffelgamtilde_LLL_212*Christoffelgamtilde_ULL_212*invgamtilde_UU_12 + Christoffelgamtilde_LLL_222*Christoffelgamtilde_ULL_201*invgamtilde_UU_02 + Christoffelgamtilde_LLL_222*Christoffelgamtilde_ULL_211*invgamtilde_UU_12 + Christoffelgamtilde_LLL_222*Christoffelgamtilde_ULL_212*invgamtilde_UU_22 - 0.5*dDDgamtilde_LLLL_1200*invgamtilde_UU_00 - 1.0*dDDgamtilde_LLLL_1201*invgamtilde_UU_01 - 1.0*dDDgamtilde_LLLL_1202*invgamtilde_UU_02 - 0.5*dDDgamtilde_LLLL_1211*invgamtilde_UU_11 - 1.0*dDDgamtilde_LLLL_1212*invgamtilde_UU_12 - 0.5*dDDgamtilde_LLLL_1222*invgamtilde_UU_22 + 0.5*dDGamtilde_UL_01*gamtilde_LL_02 + 0.5*dDGamtilde_UL_02*gamtilde_LL_01 + 0.5*dDGamtilde_UL_11*gamtilde_LL_12 + 0.5*dDGamtilde_UL_12*gamtilde_LL_11 + 0.5*dDGamtilde_UL_21*gamtilde_LL_22 + 0.5*dDGamtilde_UL_22*gamtilde_LL_12 + invgamtilde_UU_00*(Christoffelgamtilde_LLL_100*Christoffelgamtilde_ULL_002 + Christoffelgamtilde_LLL_200*Christoffelgamtilde_ULL_001) + invgamtilde_UU_00*(Christoffelgamtilde_LLL_101*Christoffelgamtilde_ULL_102 + Christoffelgamtilde_LLL_201*Christoffelgamtilde_ULL_101) + invgamtilde_UU_00*(Christoffelgamtilde_LLL_102*Christoffelgamtilde_ULL_202 + Christoffelgamtilde_LLL_202*Christoffelgamtilde_ULL_201) + invgamtilde_UU_01*(Christoffelgamtilde_LLL_100*Christoffelgamtilde_ULL_012 + Christoffelgamtilde_LLL_200*Christoffelgamtilde_ULL_011) + invgamtilde_UU_01*(Christoffelgamtilde_LLL_101*Christoffelgamtilde_ULL_002 + Christoffelgamtilde_LLL_201*Christoffelgamtilde_ULL_001) + invgamtilde_UU_01*(Christoffelgamtilde_LLL_101*Christoffelgamtilde_ULL_112 + Christoffelgamtilde_LLL_201*Christoffelgamtilde_ULL_111) + invgamtilde_UU_01*(Christoffelgamtilde_LLL_102*Christoffelgamtilde_ULL_212 + Christoffelgamtilde_LLL_202*Christoffelgamtilde_ULL_211) + invgamtilde_UU_01*(Christoffelgamtilde_LLL_111*Christoffelgamtilde_ULL_102 + Christoffelgamtilde_LLL_211*Christoffelgamtilde_ULL_101) + invgamtilde_UU_01*(Christoffelgamtilde_LLL_112*Christoffelgamtilde_ULL_202 + Christoffelgamtilde_LLL_212*Christoffelgamtilde_ULL_201) + invgamtilde_UU_02*(Christoffelgamtilde_LLL_100*Christoffelgamtilde_ULL_022 + Christoffelgamtilde_LLL_200*Christoffelgamtilde_ULL_012) + invgamtilde_UU_02*(Christoffelgamtilde_LLL_101*Christoffelgamtilde_ULL_122 + Christoffelgamtilde_LLL_201*Christoffelgamtilde_ULL_112) + invgamtilde_UU_02*(Christoffelgamtilde_LLL_102*Christoffelgamtilde_ULL_002 + Christoffelgamtilde_LLL_202*Christoffelgamtilde_ULL_001) + invgamtilde_UU_02*(Christoffelgamtilde_LLL_102*Christoffelgamtilde_ULL_222 + Christoffelgamtilde_LLL_202*Christoffelgamtilde_ULL_212) + invgamtilde_UU_02*(Christoffelgamtilde_LLL_112*Christoffelgamtilde_ULL_102 + Christoffelgamtilde_LLL_212*Christoffelgamtilde_ULL_101) + invgamtilde_UU_02*(Christoffelgamtilde_LLL_122*Christoffelgamtilde_ULL_202 + Christoffelgamtilde_LLL_222*Christoffelgamtilde_ULL_201) + invgamtilde_UU_11*(Christoffelgamtilde_LLL_101*Christoffelgamtilde_ULL_012 + Christoffelgamtilde_LLL_201*Christoffelgamtilde_ULL_011) + invgamtilde_UU_11*(Christoffelgamtilde_LLL_111*Christoffelgamtilde_ULL_112 + Christoffelgamtilde_LLL_211*Christoffelgamtilde_ULL_111) + invgamtilde_UU_11*(Christoffelgamtilde_LLL_112*Christoffelgamtilde_ULL_212 + Christoffelgamtilde_LLL_212*Christoffelgamtilde_ULL_211) + invgamtilde_UU_12*(Christoffelgamtilde_LLL_101*Christoffelgamtilde_ULL_022 + Christoffelgamtilde_LLL_201*Christoffelgamtilde_ULL_012) + invgamtilde_UU_12*(Christoffelgamtilde_LLL_102*Christoffelgamtilde_ULL_012 + Christoffelgamtilde_LLL_202*Christoffelgamtilde_ULL_011) + invgamtilde_UU_12*(Christoffelgamtilde_LLL_111*Christoffelgamtilde_ULL_122 + Christoffelgamtilde_LLL_211*Christoffelgamtilde_ULL_112) + invgamtilde_UU_12*(Christoffelgamtilde_LLL_112*Christoffelgamtilde_ULL_112 + Christoffelgamtilde_LLL_212*Christoffelgamtilde_ULL_111) + invgamtilde_UU_12*(Christoffelgamtilde_LLL_112*Christoffelgamtilde_ULL_222 + Christoffelgamtilde_LLL_212*Christoffelgamtilde_ULL_212) + invgamtilde_UU_12*(Christoffelgamtilde_LLL_122*Christoffelgamtilde_ULL_212 + Christoffelgamtilde_LLL_222*Christoffelgamtilde_ULL_211) + invgamtilde_UU_22*(Christoffelgamtilde_LLL_102*Christoffelgamtilde_ULL_022 + Christoffelgamtilde_LLL_202*Christoffelgamtilde_ULL_012) + invgamtilde_UU_22*(Christoffelgamtilde_LLL_112*Christoffelgamtilde_ULL_122 + Christoffelgamtilde_LLL_212*Christoffelgamtilde_ULL_112) + invgamtilde_UU_22*(Christoffelgamtilde_LLL_122*Christoffelgamtilde_ULL_222 + Christoffelgamtilde_LLL_222*Christoffelgamtilde_ULL_212);\n",
      "        amrex::Real Z4cRicciTildegamtilde_LL_22 = 1.0*ChristoffelDgamtilde_U_0*Christoffelgamtilde_LLL_202 + 1.0*ChristoffelDgamtilde_U_1*Christoffelgamtilde_LLL_212 + 1.0*ChristoffelDgamtilde_U_2*Christoffelgamtilde_LLL_222 + Christoffelgamtilde_LLL_002*Christoffelgamtilde_ULL_002*invgamtilde_UU_00 + Christoffelgamtilde_LLL_002*Christoffelgamtilde_ULL_012*invgamtilde_UU_01 + Christoffelgamtilde_LLL_002*Christoffelgamtilde_ULL_022*invgamtilde_UU_02 + Christoffelgamtilde_LLL_012*Christoffelgamtilde_ULL_002*invgamtilde_UU_01 + Christoffelgamtilde_LLL_012*Christoffelgamtilde_ULL_012*invgamtilde_UU_11 + Christoffelgamtilde_LLL_012*Christoffelgamtilde_ULL_022*invgamtilde_UU_12 + Christoffelgamtilde_LLL_022*Christoffelgamtilde_ULL_002*invgamtilde_UU_02 + Christoffelgamtilde_LLL_022*Christoffelgamtilde_ULL_012*invgamtilde_UU_12 + Christoffelgamtilde_LLL_022*Christoffelgamtilde_ULL_022*invgamtilde_UU_22 + Christoffelgamtilde_LLL_102*Christoffelgamtilde_ULL_102*invgamtilde_UU_00 + Christoffelgamtilde_LLL_102*Christoffelgamtilde_ULL_112*invgamtilde_UU_01 + Christoffelgamtilde_LLL_102*Christoffelgamtilde_ULL_122*invgamtilde_UU_02 + Christoffelgamtilde_LLL_112*Christoffelgamtilde_ULL_102*invgamtilde_UU_01 + Christoffelgamtilde_LLL_112*Christoffelgamtilde_ULL_112*invgamtilde_UU_11 + Christoffelgamtilde_LLL_112*Christoffelgamtilde_ULL_122*invgamtilde_UU_12 + Christoffelgamtilde_LLL_122*Christoffelgamtilde_ULL_102*invgamtilde_UU_02 + Christoffelgamtilde_LLL_122*Christoffelgamtilde_ULL_112*invgamtilde_UU_12 + Christoffelgamtilde_LLL_122*Christoffelgamtilde_ULL_122*invgamtilde_UU_22 + 2*Christoffelgamtilde_LLL_200*Christoffelgamtilde_ULL_002*invgamtilde_UU_00 + 2*Christoffelgamtilde_LLL_200*Christoffelgamtilde_ULL_012*invgamtilde_UU_01 + 2*Christoffelgamtilde_LLL_200*Christoffelgamtilde_ULL_022*invgamtilde_UU_02 + 2*Christoffelgamtilde_LLL_201*Christoffelgamtilde_ULL_002*invgamtilde_UU_01 + 2*Christoffelgamtilde_LLL_201*Christoffelgamtilde_ULL_012*invgamtilde_UU_11 + 2*Christoffelgamtilde_LLL_201*Christoffelgamtilde_ULL_022*invgamtilde_UU_12 + 2*Christoffelgamtilde_LLL_201*Christoffelgamtilde_ULL_102*invgamtilde_UU_00 + 2*Christoffelgamtilde_LLL_201*Christoffelgamtilde_ULL_112*invgamtilde_UU_01 + 2*Christoffelgamtilde_LLL_201*Christoffelgamtilde_ULL_122*invgamtilde_UU_02 + 2*Christoffelgamtilde_LLL_202*Christoffelgamtilde_ULL_002*invgamtilde_UU_02 + 2*Christoffelgamtilde_LLL_202*Christoffelgamtilde_ULL_012*invgamtilde_UU_12 + 2*Christoffelgamtilde_LLL_202*Christoffelgamtilde_ULL_022*invgamtilde_UU_22 + 3*Christoffelgamtilde_LLL_202*Christoffelgamtilde_ULL_202*invgamtilde_UU_00 + 3*Christoffelgamtilde_LLL_202*Christoffelgamtilde_ULL_212*invgamtilde_UU_01 + 3*Christoffelgamtilde_LLL_202*Christoffelgamtilde_ULL_222*invgamtilde_UU_02 + 2*Christoffelgamtilde_LLL_211*Christoffelgamtilde_ULL_102*invgamtilde_UU_01 + 2*Christoffelgamtilde_LLL_211*Christoffelgamtilde_ULL_112*invgamtilde_UU_11 + 2*Christoffelgamtilde_LLL_211*Christoffelgamtilde_ULL_122*invgamtilde_UU_12 + 2*Christoffelgamtilde_LLL_212*Christoffelgamtilde_ULL_102*invgamtilde_UU_02 + 2*Christoffelgamtilde_LLL_212*Christoffelgamtilde_ULL_112*invgamtilde_UU_12 + 2*Christoffelgamtilde_LLL_212*Christoffelgamtilde_ULL_122*invgamtilde_UU_22 + 3*Christoffelgamtilde_LLL_212*Christoffelgamtilde_ULL_202*invgamtilde_UU_01 + 3*Christoffelgamtilde_LLL_212*Christoffelgamtilde_ULL_212*invgamtilde_UU_11 + 3*Christoffelgamtilde_LLL_212*Christoffelgamtilde_ULL_222*invgamtilde_UU_12 + 3*Christoffelgamtilde_LLL_222*Christoffelgamtilde_ULL_202*invgamtilde_UU_02 + 3*Christoffelgamtilde_LLL_222*Christoffelgamtilde_ULL_212*invgamtilde_UU_12 + 3*Christoffelgamtilde_LLL_222*Christoffelgamtilde_ULL_222*invgamtilde_UU_22 - 0.5*dDDgamtilde_LLLL_2200*invgamtilde_UU_00 - 1.0*dDDgamtilde_LLLL_2201*invgamtilde_UU_01 - 1.0*dDDgamtilde_LLLL_2202*invgamtilde_UU_02 - 0.5*dDDgamtilde_LLLL_2211*invgamtilde_UU_11 - 1.0*dDDgamtilde_LLLL_2212*invgamtilde_UU_12 - 0.5*dDDgamtilde_LLLL_2222*invgamtilde_UU_22 + 1.0*dDGamtilde_UL_02*gamtilde_LL_02 + 1.0*dDGamtilde_UL_12*gamtilde_LL_12 + 1.0*dDGamtilde_UL_22*gamtilde_LL_22;\n",
      "\n",
      "        amrex::Real CovdDchi_L_0 = dDchi_L_0;\n",
      "        amrex::Real CovdDchi_L_1 = dDchi_L_1;\n",
      "        amrex::Real CovdDchi_L_2 = dDchi_L_2;\n",
      "\n",
      "        amrex::Real CovdDDchi_LL_00 = -Christoffelgamtilde_ULL_000*dDchi_L_0 - Christoffelgamtilde_ULL_100*dDchi_L_1 - Christoffelgamtilde_ULL_200*dDchi_L_2 + dDDchi_LL_00;\n",
      "        amrex::Real CovdDDchi_LL_01 = -Christoffelgamtilde_ULL_001*dDchi_L_0 - Christoffelgamtilde_ULL_101*dDchi_L_1 - Christoffelgamtilde_ULL_201*dDchi_L_2 + dDDchi_LL_01;\n",
      "        amrex::Real CovdDDchi_LL_02 = -Christoffelgamtilde_ULL_002*dDchi_L_0 - Christoffelgamtilde_ULL_102*dDchi_L_1 - Christoffelgamtilde_ULL_202*dDchi_L_2 + dDDchi_LL_02;\n",
      "        amrex::Real CovdDDchi_LL_11 = -Christoffelgamtilde_ULL_011*dDchi_L_0 - Christoffelgamtilde_ULL_111*dDchi_L_1 - Christoffelgamtilde_ULL_211*dDchi_L_2 + dDDchi_LL_11;\n",
      "        amrex::Real CovdDDchi_LL_12 = -Christoffelgamtilde_ULL_012*dDchi_L_0 - Christoffelgamtilde_ULL_112*dDchi_L_1 - Christoffelgamtilde_ULL_212*dDchi_L_2 + dDDchi_LL_12;\n",
      "        amrex::Real CovdDDchi_LL_22 = -Christoffelgamtilde_ULL_022*dDchi_L_0 - Christoffelgamtilde_ULL_122*dDchi_L_1 - Christoffelgamtilde_ULL_222*dDchi_L_2 + dDDchi_LL_22;\n",
      "\n",
      "        amrex::Real Z4cRicciFromchigamtilde_LL_00 = (1.0/2.0)*CovdDDchi_LL_00/chi - 1.0/4.0*std::pow(CovdDchi_L_0, 2)/std::pow(chi, 2) + gamtilde_LL_00*((1.0/2.0)*CovdDDchi_LL_00*invgamtilde_UU_00/chi - 3.0/4.0*std::pow(CovdDchi_L_0, 2)*invgamtilde_UU_00/std::pow(chi, 2)) + 2*gamtilde_LL_00*((1.0/2.0)*CovdDDchi_LL_01*invgamtilde_UU_01/chi - 3.0/4.0*CovdDchi_L_0*CovdDchi_L_1*invgamtilde_UU_01/std::pow(chi, 2)) + 2*gamtilde_LL_00*((1.0/2.0)*CovdDDchi_LL_02*invgamtilde_UU_02/chi - 3.0/4.0*CovdDchi_L_0*CovdDchi_L_2*invgamtilde_UU_02/std::pow(chi, 2)) + gamtilde_LL_00*((1.0/2.0)*CovdDDchi_LL_11*invgamtilde_UU_11/chi - 3.0/4.0*std::pow(CovdDchi_L_1, 2)*invgamtilde_UU_11/std::pow(chi, 2)) + 2*gamtilde_LL_00*((1.0/2.0)*CovdDDchi_LL_12*invgamtilde_UU_12/chi - 3.0/4.0*CovdDchi_L_1*CovdDchi_L_2*invgamtilde_UU_12/std::pow(chi, 2)) + gamtilde_LL_00*((1.0/2.0)*CovdDDchi_LL_22*invgamtilde_UU_22/chi - 3.0/4.0*std::pow(CovdDchi_L_2, 2)*invgamtilde_UU_22/std::pow(chi, 2));\n",
      "        amrex::Real Z4cRicciFromchigamtilde_LL_01 = (1.0/2.0)*CovdDDchi_LL_01/chi - 1.0/4.0*CovdDchi_L_0*CovdDchi_L_1/std::pow(chi, 2) + gamtilde_LL_01*((1.0/2.0)*CovdDDchi_LL_00*invgamtilde_UU_00/chi - 3.0/4.0*std::pow(CovdDchi_L_0, 2)*invgamtilde_UU_00/std::pow(chi, 2)) + 2*gamtilde_LL_01*((1.0/2.0)*CovdDDchi_LL_01*invgamtilde_UU_01/chi - 3.0/4.0*CovdDchi_L_0*CovdDchi_L_1*invgamtilde_UU_01/std::pow(chi, 2)) + 2*gamtilde_LL_01*((1.0/2.0)*CovdDDchi_LL_02*invgamtilde_UU_02/chi - 3.0/4.0*CovdDchi_L_0*CovdDchi_L_2*invgamtilde_UU_02/std::pow(chi, 2)) + gamtilde_LL_01*((1.0/2.0)*CovdDDchi_LL_11*invgamtilde_UU_11/chi - 3.0/4.0*std::pow(CovdDchi_L_1, 2)*invgamtilde_UU_11/std::pow(chi, 2)) + 2*gamtilde_LL_01*((1.0/2.0)*CovdDDchi_LL_12*invgamtilde_UU_12/chi - 3.0/4.0*CovdDchi_L_1*CovdDchi_L_2*invgamtilde_UU_12/std::pow(chi, 2)) + gamtilde_LL_01*((1.0/2.0)*CovdDDchi_LL_22*invgamtilde_UU_22/chi - 3.0/4.0*std::pow(CovdDchi_L_2, 2)*invgamtilde_UU_22/std::pow(chi, 2));\n",
      "        amrex::Real Z4cRicciFromchigamtilde_LL_02 = (1.0/2.0)*CovdDDchi_LL_02/chi - 1.0/4.0*CovdDchi_L_0*CovdDchi_L_2/std::pow(chi, 2) + gamtilde_LL_02*((1.0/2.0)*CovdDDchi_LL_00*invgamtilde_UU_00/chi - 3.0/4.0*std::pow(CovdDchi_L_0, 2)*invgamtilde_UU_00/std::pow(chi, 2)) + 2*gamtilde_LL_02*((1.0/2.0)*CovdDDchi_LL_01*invgamtilde_UU_01/chi - 3.0/4.0*CovdDchi_L_0*CovdDchi_L_1*invgamtilde_UU_01/std::pow(chi, 2)) + 2*gamtilde_LL_02*((1.0/2.0)*CovdDDchi_LL_02*invgamtilde_UU_02/chi - 3.0/4.0*CovdDchi_L_0*CovdDchi_L_2*invgamtilde_UU_02/std::pow(chi, 2)) + gamtilde_LL_02*((1.0/2.0)*CovdDDchi_LL_11*invgamtilde_UU_11/chi - 3.0/4.0*std::pow(CovdDchi_L_1, 2)*invgamtilde_UU_11/std::pow(chi, 2)) + 2*gamtilde_LL_02*((1.0/2.0)*CovdDDchi_LL_12*invgamtilde_UU_12/chi - 3.0/4.0*CovdDchi_L_1*CovdDchi_L_2*invgamtilde_UU_12/std::pow(chi, 2)) + gamtilde_LL_02*((1.0/2.0)*CovdDDchi_LL_22*invgamtilde_UU_22/chi - 3.0/4.0*std::pow(CovdDchi_L_2, 2)*invgamtilde_UU_22/std::pow(chi, 2));\n",
      "        amrex::Real Z4cRicciFromchigamtilde_LL_11 = (1.0/2.0)*CovdDDchi_LL_11/chi - 1.0/4.0*std::pow(CovdDchi_L_1, 2)/std::pow(chi, 2) + gamtilde_LL_11*((1.0/2.0)*CovdDDchi_LL_00*invgamtilde_UU_00/chi - 3.0/4.0*std::pow(CovdDchi_L_0, 2)*invgamtilde_UU_00/std::pow(chi, 2)) + 2*gamtilde_LL_11*((1.0/2.0)*CovdDDchi_LL_01*invgamtilde_UU_01/chi - 3.0/4.0*CovdDchi_L_0*CovdDchi_L_1*invgamtilde_UU_01/std::pow(chi, 2)) + 2*gamtilde_LL_11*((1.0/2.0)*CovdDDchi_LL_02*invgamtilde_UU_02/chi - 3.0/4.0*CovdDchi_L_0*CovdDchi_L_2*invgamtilde_UU_02/std::pow(chi, 2)) + gamtilde_LL_11*((1.0/2.0)*CovdDDchi_LL_11*invgamtilde_UU_11/chi - 3.0/4.0*std::pow(CovdDchi_L_1, 2)*invgamtilde_UU_11/std::pow(chi, 2)) + 2*gamtilde_LL_11*((1.0/2.0)*CovdDDchi_LL_12*invgamtilde_UU_12/chi - 3.0/4.0*CovdDchi_L_1*CovdDchi_L_2*invgamtilde_UU_12/std::pow(chi, 2)) + gamtilde_LL_11*((1.0/2.0)*CovdDDchi_LL_22*invgamtilde_UU_22/chi - 3.0/4.0*std::pow(CovdDchi_L_2, 2)*invgamtilde_UU_22/std::pow(chi, 2));\n",
      "        amrex::Real Z4cRicciFromchigamtilde_LL_12 = (1.0/2.0)*CovdDDchi_LL_12/chi - 1.0/4.0*CovdDchi_L_1*CovdDchi_L_2/std::pow(chi, 2) + gamtilde_LL_12*((1.0/2.0)*CovdDDchi_LL_00*invgamtilde_UU_00/chi - 3.0/4.0*std::pow(CovdDchi_L_0, 2)*invgamtilde_UU_00/std::pow(chi, 2)) + 2*gamtilde_LL_12*((1.0/2.0)*CovdDDchi_LL_01*invgamtilde_UU_01/chi - 3.0/4.0*CovdDchi_L_0*CovdDchi_L_1*invgamtilde_UU_01/std::pow(chi, 2)) + 2*gamtilde_LL_12*((1.0/2.0)*CovdDDchi_LL_02*invgamtilde_UU_02/chi - 3.0/4.0*CovdDchi_L_0*CovdDchi_L_2*invgamtilde_UU_02/std::pow(chi, 2)) + gamtilde_LL_12*((1.0/2.0)*CovdDDchi_LL_11*invgamtilde_UU_11/chi - 3.0/4.0*std::pow(CovdDchi_L_1, 2)*invgamtilde_UU_11/std::pow(chi, 2)) + 2*gamtilde_LL_12*((1.0/2.0)*CovdDDchi_LL_12*invgamtilde_UU_12/chi - 3.0/4.0*CovdDchi_L_1*CovdDchi_L_2*invgamtilde_UU_12/std::pow(chi, 2)) + gamtilde_LL_12*((1.0/2.0)*CovdDDchi_LL_22*invgamtilde_UU_22/chi - 3.0/4.0*std::pow(CovdDchi_L_2, 2)*invgamtilde_UU_22/std::pow(chi, 2));\n",
      "        amrex::Real Z4cRicciFromchigamtilde_LL_22 = (1.0/2.0)*CovdDDchi_LL_22/chi - 1.0/4.0*std::pow(CovdDchi_L_2, 2)/std::pow(chi, 2) + gamtilde_LL_22*((1.0/2.0)*CovdDDchi_LL_00*invgamtilde_UU_00/chi - 3.0/4.0*std::pow(CovdDchi_L_0, 2)*invgamtilde_UU_00/std::pow(chi, 2)) + 2*gamtilde_LL_22*((1.0/2.0)*CovdDDchi_LL_01*invgamtilde_UU_01/chi - 3.0/4.0*CovdDchi_L_0*CovdDchi_L_1*invgamtilde_UU_01/std::pow(chi, 2)) + 2*gamtilde_LL_22*((1.0/2.0)*CovdDDchi_LL_02*invgamtilde_UU_02/chi - 3.0/4.0*CovdDchi_L_0*CovdDchi_L_2*invgamtilde_UU_02/std::pow(chi, 2)) + gamtilde_LL_22*((1.0/2.0)*CovdDDchi_LL_11*invgamtilde_UU_11/chi - 3.0/4.0*std::pow(CovdDchi_L_1, 2)*invgamtilde_UU_11/std::pow(chi, 2)) + 2*gamtilde_LL_22*((1.0/2.0)*CovdDDchi_LL_12*invgamtilde_UU_12/chi - 3.0/4.0*CovdDchi_L_1*CovdDchi_L_2*invgamtilde_UU_12/std::pow(chi, 2)) + gamtilde_LL_22*((1.0/2.0)*CovdDDchi_LL_22*invgamtilde_UU_22/chi - 3.0/4.0*std::pow(CovdDchi_L_2, 2)*invgamtilde_UU_22/std::pow(chi, 2));\n",
      "\n",
      "        amrex::Real R_LL_00 = Z4cRicciFromchigamtilde_LL_00 + Z4cRicciTildegamtilde_LL_00;\n",
      "        amrex::Real R_LL_01 = Z4cRicciFromchigamtilde_LL_01 + Z4cRicciTildegamtilde_LL_01;\n",
      "        amrex::Real R_LL_02 = Z4cRicciFromchigamtilde_LL_02 + Z4cRicciTildegamtilde_LL_02;\n",
      "        amrex::Real R_LL_11 = Z4cRicciFromchigamtilde_LL_11 + Z4cRicciTildegamtilde_LL_11;\n",
      "        amrex::Real R_LL_12 = Z4cRicciFromchigamtilde_LL_12 + Z4cRicciTildegamtilde_LL_12;\n",
      "        amrex::Real R_LL_22 = Z4cRicciFromchigamtilde_LL_22 + Z4cRicciTildegamtilde_LL_22;\n",
      "\n",
      "        amrex::Real Rsclr = R_LL_00*invgam_UU_00 + 2*R_LL_01*invgam_UU_01 + 2*R_LL_02*invgam_UU_02 + R_LL_11*invgam_UU_11 + 2*R_LL_12*invgam_UU_12 + R_LL_22*invgam_UU_22;\n",
      "\n",
      "        amrex::Real K_LL_00 = Atilde_LL_00/chi + 0.33333333333333331*gam_LL_00*(Khat + 2*theta);\n",
      "        amrex::Real K_LL_01 = Atilde_LL_01/chi + 0.33333333333333331*gam_LL_01*(Khat + 2*theta);\n",
      "        amrex::Real K_LL_02 = Atilde_LL_02/chi + 0.33333333333333331*gam_LL_02*(Khat + 2*theta);\n",
      "        amrex::Real K_LL_11 = Atilde_LL_11/chi + 0.33333333333333331*gam_LL_11*(Khat + 2*theta);\n",
      "        amrex::Real K_LL_12 = Atilde_LL_12/chi + 0.33333333333333331*gam_LL_12*(Khat + 2*theta);\n",
      "        amrex::Real K_LL_22 = Atilde_LL_22/chi + 0.33333333333333331*gam_LL_22*(Khat + 2*theta);\n",
      "\n",
      "        amrex::Real K_UU_00 = K_LL_00*std::pow(invgam_UU_00, 2) + 2*K_LL_01*invgam_UU_00*invgam_UU_01 + 2*K_LL_02*invgam_UU_00*invgam_UU_02 + K_LL_11*std::pow(invgam_UU_01, 2) + 2*K_LL_12*invgam_UU_01*invgam_UU_02 + K_LL_22*std::pow(invgam_UU_02, 2);\n",
      "        amrex::Real K_UU_01 = K_LL_00*invgam_UU_00*invgam_UU_01 + K_LL_01*invgam_UU_00*invgam_UU_11 + K_LL_01*std::pow(invgam_UU_01, 2) + K_LL_02*invgam_UU_00*invgam_UU_12 + K_LL_02*invgam_UU_01*invgam_UU_02 + K_LL_11*invgam_UU_01*invgam_UU_11 + K_LL_12*invgam_UU_01*invgam_UU_12 + K_LL_12*invgam_UU_02*invgam_UU_11 + K_LL_22*invgam_UU_02*invgam_UU_12;\n",
      "        amrex::Real K_UU_02 = K_LL_00*invgam_UU_00*invgam_UU_02 + K_LL_01*invgam_UU_00*invgam_UU_12 + K_LL_01*invgam_UU_01*invgam_UU_02 + K_LL_02*invgam_UU_00*invgam_UU_22 + K_LL_02*std::pow(invgam_UU_02, 2) + K_LL_11*invgam_UU_01*invgam_UU_12 + K_LL_12*invgam_UU_01*invgam_UU_22 + K_LL_12*invgam_UU_02*invgam_UU_12 + K_LL_22*invgam_UU_02*invgam_UU_22;\n",
      "        amrex::Real K_UU_11 = K_LL_00*std::pow(invgam_UU_01, 2) + 2*K_LL_01*invgam_UU_01*invgam_UU_11 + 2*K_LL_02*invgam_UU_01*invgam_UU_12 + K_LL_11*std::pow(invgam_UU_11, 2) + 2*K_LL_12*invgam_UU_11*invgam_UU_12 + K_LL_22*std::pow(invgam_UU_12, 2);\n",
      "        amrex::Real K_UU_12 = K_LL_00*invgam_UU_01*invgam_UU_02 + K_LL_01*invgam_UU_01*invgam_UU_12 + K_LL_01*invgam_UU_02*invgam_UU_11 + K_LL_02*invgam_UU_01*invgam_UU_22 + K_LL_02*invgam_UU_02*invgam_UU_12 + K_LL_11*invgam_UU_11*invgam_UU_12 + K_LL_12*invgam_UU_11*invgam_UU_22 + K_LL_12*std::pow(invgam_UU_12, 2) + K_LL_22*invgam_UU_12*invgam_UU_22;\n",
      "        amrex::Real K_UU_22 = K_LL_00*std::pow(invgam_UU_02, 2) + 2*K_LL_01*invgam_UU_02*invgam_UU_12 + 2*K_LL_02*invgam_UU_02*invgam_UU_22 + K_LL_11*std::pow(invgam_UU_12, 2) + 2*K_LL_12*invgam_UU_12*invgam_UU_22 + K_LL_22*std::pow(invgam_UU_22, 2);\n",
      "\n",
      "        amrex::Real H = -K_LL_00*K_UU_00 - 2*K_LL_01*K_UU_01 - 2*K_LL_02*K_UU_02 - K_LL_11*K_UU_11 - 2*K_LL_12*K_UU_12 - K_LL_22*K_UU_22 + Rsclr + std::pow(Khat + 2*theta, 2);\n",
      "\n",
      "        diag(i, j, k, Diag::H) = H;\n",
      "\n",
      "        amrex::Real CovDK_LLL_000 = -2*ConformalChristoffelchigamtilde_ULL_000*K_LL_00 - 2*ConformalChristoffelchigamtilde_ULL_100*K_LL_01 - 2*ConformalChristoffelchigamtilde_ULL_200*K_LL_02 - K_LL_00*dDchi_L_0/chi + (dDAtilde_LLL_000 + 0.33333333333333331*dDgamtilde_LLL_000*(Khat + 2*theta) + 0.33333333333333331*gamtilde_LL_00*(dDKhat_L_0 + 2*dDtheta_L_0))/chi;\n",
      "        amrex::Real CovDK_LLL_001 = -2*ConformalChristoffelchigamtilde_ULL_001*K_LL_00 - 2*ConformalChristoffelchigamtilde_ULL_101*K_LL_01 - 2*ConformalChristoffelchigamtilde_ULL_201*K_LL_02 - K_LL_00*dDchi_L_1/chi + (dDAtilde_LLL_001 + 0.33333333333333331*dDgamtilde_LLL_001*(Khat + 2*theta) + 0.33333333333333331*gamtilde_LL_00*(dDKhat_L_1 + 2*dDtheta_L_1))/chi;\n",
      "        amrex::Real CovDK_LLL_002 = -2*ConformalChristoffelchigamtilde_ULL_002*K_LL_00 - 2*ConformalChristoffelchigamtilde_ULL_102*K_LL_01 - 2*ConformalChristoffelchigamtilde_ULL_202*K_LL_02 - K_LL_00*dDchi_L_2/chi + (dDAtilde_LLL_002 + 0.33333333333333331*dDgamtilde_LLL_002*(Khat + 2*theta) + 0.33333333333333331*gamtilde_LL_00*(dDKhat_L_2 + 2*dDtheta_L_2))/chi;\n",
      "        amrex::Real CovDK_LLL_010 = -ConformalChristoffelchigamtilde_ULL_000*K_LL_01 - ConformalChristoffelchigamtilde_ULL_001*K_LL_00 - ConformalChristoffelchigamtilde_ULL_100*K_LL_11 - ConformalChristoffelchigamtilde_ULL_101*K_LL_01 - ConformalChristoffelchigamtilde_ULL_200*K_LL_12 - ConformalChristoffelchigamtilde_ULL_201*K_LL_02 - K_LL_01*dDchi_L_0/chi + (dDAtilde_LLL_010 + 0.33333333333333331*dDgamtilde_LLL_010*(Khat + 2*theta) + 0.33333333333333331*gamtilde_LL_01*(dDKhat_L_0 + 2*dDtheta_L_0))/chi;\n",
      "        amrex::Real CovDK_LLL_011 = -ConformalChristoffelchigamtilde_ULL_001*K_LL_01 - ConformalChristoffelchigamtilde_ULL_011*K_LL_00 - ConformalChristoffelchigamtilde_ULL_101*K_LL_11 - ConformalChristoffelchigamtilde_ULL_111*K_LL_01 - ConformalChristoffelchigamtilde_ULL_201*K_LL_12 - ConformalChristoffelchigamtilde_ULL_211*K_LL_02 - K_LL_01*dDchi_L_1/chi + (dDAtilde_LLL_011 + 0.33333333333333331*dDgamtilde_LLL_011*(Khat + 2*theta) + 0.33333333333333331*gamtilde_LL_01*(dDKhat_L_1 + 2*dDtheta_L_1))/chi;\n",
      "        amrex::Real CovDK_LLL_012 = -ConformalChristoffelchigamtilde_ULL_002*K_LL_01 - ConformalChristoffelchigamtilde_ULL_012*K_LL_00 - ConformalChristoffelchigamtilde_ULL_102*K_LL_11 - ConformalChristoffelchigamtilde_ULL_112*K_LL_01 - ConformalChristoffelchigamtilde_ULL_202*K_LL_12 - ConformalChristoffelchigamtilde_ULL_212*K_LL_02 - K_LL_01*dDchi_L_2/chi + (dDAtilde_LLL_012 + 0.33333333333333331*dDgamtilde_LLL_012*(Khat + 2*theta) + 0.33333333333333331*gamtilde_LL_01*(dDKhat_L_2 + 2*dDtheta_L_2))/chi;\n",
      "        amrex::Real CovDK_LLL_020 = -ConformalChristoffelchigamtilde_ULL_000*K_LL_02 - ConformalChristoffelchigamtilde_ULL_002*K_LL_00 - ConformalChristoffelchigamtilde_ULL_100*K_LL_12 - ConformalChristoffelchigamtilde_ULL_102*K_LL_01 - ConformalChristoffelchigamtilde_ULL_200*K_LL_22 - ConformalChristoffelchigamtilde_ULL_202*K_LL_02 - K_LL_02*dDchi_L_0/chi + (dDAtilde_LLL_020 + 0.33333333333333331*dDgamtilde_LLL_020*(Khat + 2*theta) + 0.33333333333333331*gamtilde_LL_02*(dDKhat_L_0 + 2*dDtheta_L_0))/chi;\n",
      "        amrex::Real CovDK_LLL_021 = -ConformalChristoffelchigamtilde_ULL_001*K_LL_02 - ConformalChristoffelchigamtilde_ULL_012*K_LL_00 - ConformalChristoffelchigamtilde_ULL_101*K_LL_12 - ConformalChristoffelchigamtilde_ULL_112*K_LL_01 - ConformalChristoffelchigamtilde_ULL_201*K_LL_22 - ConformalChristoffelchigamtilde_ULL_212*K_LL_02 - K_LL_02*dDchi_L_1/chi + (dDAtilde_LLL_021 + 0.33333333333333331*dDgamtilde_LLL_021*(Khat + 2*theta) + 0.33333333333333331*gamtilde_LL_02*(dDKhat_L_1 + 2*dDtheta_L_1))/chi;\n",
      "        amrex::Real CovDK_LLL_022 = -ConformalChristoffelchigamtilde_ULL_002*K_LL_02 - ConformalChristoffelchigamtilde_ULL_022*K_LL_00 - ConformalChristoffelchigamtilde_ULL_102*K_LL_12 - ConformalChristoffelchigamtilde_ULL_122*K_LL_01 - ConformalChristoffelchigamtilde_ULL_202*K_LL_22 - ConformalChristoffelchigamtilde_ULL_222*K_LL_02 - K_LL_02*dDchi_L_2/chi + (dDAtilde_LLL_022 + 0.33333333333333331*dDgamtilde_LLL_022*(Khat + 2*theta) + 0.33333333333333331*gamtilde_LL_02*(dDKhat_L_2 + 2*dDtheta_L_2))/chi;\n",
      "        amrex::Real CovDK_LLL_110 = -2*ConformalChristoffelchigamtilde_ULL_001*K_LL_01 - 2*ConformalChristoffelchigamtilde_ULL_101*K_LL_11 - 2*ConformalChristoffelchigamtilde_ULL_201*K_LL_12 - K_LL_11*dDchi_L_0/chi + (dDAtilde_LLL_110 + 0.33333333333333331*dDgamtilde_LLL_110*(Khat + 2*theta) + 0.33333333333333331*gamtilde_LL_11*(dDKhat_L_0 + 2*dDtheta_L_0))/chi;\n",
      "        amrex::Real CovDK_LLL_111 = -2*ConformalChristoffelchigamtilde_ULL_011*K_LL_01 - 2*ConformalChristoffelchigamtilde_ULL_111*K_LL_11 - 2*ConformalChristoffelchigamtilde_ULL_211*K_LL_12 - K_LL_11*dDchi_L_1/chi + (dDAtilde_LLL_111 + 0.33333333333333331*dDgamtilde_LLL_111*(Khat + 2*theta) + 0.33333333333333331*gamtilde_LL_11*(dDKhat_L_1 + 2*dDtheta_L_1))/chi;\n",
      "        amrex::Real CovDK_LLL_112 = -2*ConformalChristoffelchigamtilde_ULL_012*K_LL_01 - 2*ConformalChristoffelchigamtilde_ULL_112*K_LL_11 - 2*ConformalChristoffelchigamtilde_ULL_212*K_LL_12 - K_LL_11*dDchi_L_2/chi + (dDAtilde_LLL_112 + 0.33333333333333331*dDgamtilde_LLL_112*(Khat + 2*theta) + 0.33333333333333331*gamtilde_LL_11*(dDKhat_L_2 + 2*dDtheta_L_2))/chi;\n",
      "        amrex::Real CovDK_LLL_120 = -ConformalChristoffelchigamtilde_ULL_001*K_LL_02 - ConformalChristoffelchigamtilde_ULL_002*K_LL_01 - ConformalChristoffelchigamtilde_ULL_101*K_LL_12 - ConformalChristoffelchigamtilde_ULL_102*K_LL_11 - ConformalChristoffelchigamtilde_ULL_201*K_LL_22 - ConformalChristoffelchigamtilde_ULL_202*K_LL_12 - K_LL_12*dDchi_L_0/chi + (dDAtilde_LLL_120 + 0.33333333333333331*dDgamtilde_LLL_120*(Khat + 2*theta) + 0.33333333333333331*gamtilde_LL_12*(dDKhat_L_0 + 2*dDtheta_L_0))/chi;\n",
      "        amrex::Real CovDK_LLL_121 = -ConformalChristoffelchigamtilde_ULL_011*K_LL_02 - ConformalChristoffelchigamtilde_ULL_012*K_LL_01 - ConformalChristoffelchigamtilde_ULL_111*K_LL_12 - ConformalChristoffelchigamtilde_ULL_112*K_LL_11 - ConformalChristoffelchigamtilde_ULL_211*K_LL_22 - ConformalChristoffelchigamtilde_ULL_212*K_LL_12 - K_LL_12*dDchi_L_1/chi + (dDAtilde_LLL_121 + 0.33333333333333331*dDgamtilde_LLL_121*(Khat + 2*theta) + 0.33333333333333331*gamtilde_LL_12*(dDKhat_L_1 + 2*dDtheta_L_1))/chi;\n",
      "        amrex::Real CovDK_LLL_122 = -ConformalChristoffelchigamtilde_ULL_012*K_LL_02 - ConformalChristoffelchigamtilde_ULL_022*K_LL_01 - ConformalChristoffelchigamtilde_ULL_112*K_LL_12 - ConformalChristoffelchigamtilde_ULL_122*K_LL_11 - ConformalChristoffelchigamtilde_ULL_212*K_LL_22 - ConformalChristoffelchigamtilde_ULL_222*K_LL_12 - K_LL_12*dDchi_L_2/chi + (dDAtilde_LLL_122 + 0.33333333333333331*dDgamtilde_LLL_122*(Khat + 2*theta) + 0.33333333333333331*gamtilde_LL_12*(dDKhat_L_2 + 2*dDtheta_L_2))/chi;\n",
      "        amrex::Real CovDK_LLL_220 = -2*ConformalChristoffelchigamtilde_ULL_002*K_LL_02 - 2*ConformalChristoffelchigamtilde_ULL_102*K_LL_12 - 2*ConformalChristoffelchigamtilde_ULL_202*K_LL_22 - K_LL_22*dDchi_L_0/chi + (dDAtilde_LLL_220 + 0.33333333333333331*dDgamtilde_LLL_220*(Khat + 2*theta) + 0.33333333333333331*gamtilde_LL_22*(dDKhat_L_0 + 2*dDtheta_L_0))/chi;\n",
      "        amrex::Real CovDK_LLL_221 = -2*ConformalChristoffelchigamtilde_ULL_012*K_LL_02 - 2*ConformalChristoffelchigamtilde_ULL_112*K_LL_12 - 2*ConformalChristoffelchigamtilde_ULL_212*K_LL_22 - K_LL_22*dDchi_L_1/chi + (dDAtilde_LLL_221 + 0.33333333333333331*dDgamtilde_LLL_221*(Khat + 2*theta) + 0.33333333333333331*gamtilde_LL_22*(dDKhat_L_1 + 2*dDtheta_L_1))/chi;\n",
      "        amrex::Real CovDK_LLL_222 = -2*ConformalChristoffelchigamtilde_ULL_022*K_LL_02 - 2*ConformalChristoffelchigamtilde_ULL_122*K_LL_12 - 2*ConformalChristoffelchigamtilde_ULL_222*K_LL_22 - K_LL_22*dDchi_L_2/chi + (dDAtilde_LLL_222 + 0.33333333333333331*dDgamtilde_LLL_222*(Khat + 2*theta) + 0.33333333333333331*gamtilde_LL_22*(dDKhat_L_2 + 2*dDtheta_L_2))/chi;\n",
      "\n",
      "        amrex::Real CovDK_L_0 = CovDK_LLL_000*invgam_UU_00 + CovDK_LLL_001*invgam_UU_01 + CovDK_LLL_002*invgam_UU_02 + CovDK_LLL_010*invgam_UU_01 + CovDK_LLL_011*invgam_UU_11 + CovDK_LLL_012*invgam_UU_12 + CovDK_LLL_020*invgam_UU_02 + CovDK_LLL_021*invgam_UU_12 + CovDK_LLL_022*invgam_UU_22;\n",
      "        amrex::Real CovDK_L_1 = CovDK_LLL_010*invgam_UU_00 + CovDK_LLL_011*invgam_UU_01 + CovDK_LLL_012*invgam_UU_02 + CovDK_LLL_110*invgam_UU_01 + CovDK_LLL_111*invgam_UU_11 + CovDK_LLL_112*invgam_UU_12 + CovDK_LLL_120*invgam_UU_02 + CovDK_LLL_121*invgam_UU_12 + CovDK_LLL_122*invgam_UU_22;\n",
      "        amrex::Real CovDK_L_2 = CovDK_LLL_020*invgam_UU_00 + CovDK_LLL_021*invgam_UU_01 + CovDK_LLL_022*invgam_UU_02 + CovDK_LLL_120*invgam_UU_01 + CovDK_LLL_121*invgam_UU_11 + CovDK_LLL_122*invgam_UU_12 + CovDK_LLL_220*invgam_UU_02 + CovDK_LLL_221*invgam_UU_12 + CovDK_LLL_222*invgam_UU_22;\n",
      "\n",
      "        amrex::Real M_L_0 = CovDK_L_0 - dDKhat_L_0 - 2*dDtheta_L_0;\n",
      "        amrex::Real M_L_1 = CovDK_L_1 - dDKhat_L_1 - 2*dDtheta_L_1;\n",
      "        amrex::Real M_L_2 = CovDK_L_2 - dDKhat_L_2 - 2*dDtheta_L_2;\n",
      "\n",
      "        amrex::Real Z_L_0 = 0.5*Gamtilde_U_0*gamtilde_LL_00 + 0.5*Gamtilde_U_1*gamtilde_LL_01 + 0.5*Gamtilde_U_2*gamtilde_LL_02 - 0.5*dDgamtilde_LLL_000*invgamtilde_UU_00 - 0.5*dDgamtilde_LLL_001*invgamtilde_UU_01 - 0.5*dDgamtilde_LLL_002*invgamtilde_UU_02 - 0.5*dDgamtilde_LLL_010*invgamtilde_UU_01 - 0.5*dDgamtilde_LLL_011*invgamtilde_UU_11 - 0.5*dDgamtilde_LLL_012*invgamtilde_UU_12 - 0.5*dDgamtilde_LLL_020*invgamtilde_UU_02 - 0.5*dDgamtilde_LLL_021*invgamtilde_UU_12 - 0.5*dDgamtilde_LLL_022*invgamtilde_UU_22;\n",
      "        amrex::Real Z_L_1 = 0.5*Gamtilde_U_0*gamtilde_LL_01 + 0.5*Gamtilde_U_1*gamtilde_LL_11 + 0.5*Gamtilde_U_2*gamtilde_LL_12 - 0.5*dDgamtilde_LLL_010*invgamtilde_UU_00 - 0.5*dDgamtilde_LLL_011*invgamtilde_UU_01 - 0.5*dDgamtilde_LLL_012*invgamtilde_UU_02 - 0.5*dDgamtilde_LLL_110*invgamtilde_UU_01 - 0.5*dDgamtilde_LLL_111*invgamtilde_UU_11 - 0.5*dDgamtilde_LLL_112*invgamtilde_UU_12 - 0.5*dDgamtilde_LLL_120*invgamtilde_UU_02 - 0.5*dDgamtilde_LLL_121*invgamtilde_UU_12 - 0.5*dDgamtilde_LLL_122*invgamtilde_UU_22;\n",
      "        amrex::Real Z_L_2 = 0.5*Gamtilde_U_0*gamtilde_LL_02 + 0.5*Gamtilde_U_1*gamtilde_LL_12 + 0.5*Gamtilde_U_2*gamtilde_LL_22 - 0.5*dDgamtilde_LLL_020*invgamtilde_UU_00 - 0.5*dDgamtilde_LLL_021*invgamtilde_UU_01 - 0.5*dDgamtilde_LLL_022*invgamtilde_UU_02 - 0.5*dDgamtilde_LLL_120*invgamtilde_UU_01 - 0.5*dDgamtilde_LLL_121*invgamtilde_UU_11 - 0.5*dDgamtilde_LLL_122*invgamtilde_UU_12 - 0.5*dDgamtilde_LLL_220*invgamtilde_UU_02 - 0.5*dDgamtilde_LLL_221*invgamtilde_UU_12 - 0.5*dDgamtilde_LLL_222*invgamtilde_UU_22;\n",
      "\n",
      "        amrex::Real Csqrd = std::pow(H, 2) + std::pow(M_L_0, 2)*invgam_UU_00 + 2*M_L_0*M_L_1*invgam_UU_01 + 2*M_L_0*M_L_2*invgam_UU_02 + std::pow(M_L_1, 2)*invgam_UU_11 + 2*M_L_1*M_L_2*invgam_UU_12 + std::pow(M_L_2, 2)*invgam_UU_22 + std::pow(Z_L_0, 2)*invgam_UU_00 + 2*Z_L_0*Z_L_1*invgam_UU_01 + 2*Z_L_0*Z_L_2*invgam_UU_02 + std::pow(Z_L_1, 2)*invgam_UU_11 + 2*Z_L_1*Z_L_2*invgam_UU_12 + std::pow(Z_L_2, 2)*invgam_UU_22 + std::pow(theta, 2);\n",
      "\n",
      "        diag(i, j, k, Diag::C) = std::sqrt(Csqrd);\n",
      "\n",
      "\n"
     ]
    }
   ],
   "source": [
    "print(DiagString.replace('state_fabIdx', 'Idx').replace('DiagIdx','Diag'))"
   ]
  },
  {
   "cell_type": "code",
   "execution_count": null,
   "metadata": {},
   "outputs": [],
   "source": []
  },
  {
   "cell_type": "code",
   "execution_count": null,
   "metadata": {},
   "outputs": [],
   "source": []
  },
  {
   "cell_type": "code",
   "execution_count": null,
   "metadata": {},
   "outputs": [],
   "source": []
  },
  {
   "cell_type": "markdown",
   "metadata": {},
   "source": [
    "# Diagnostics for Waveform Extraction"
   ]
  },
  {
   "cell_type": "code",
   "execution_count": 123,
   "metadata": {},
   "outputs": [],
   "source": [
    "WFString = \"\""
   ]
  },
  {
   "cell_type": "code",
   "execution_count": 124,
   "metadata": {},
   "outputs": [],
   "source": [
    "Psi4re = stvar('Psi4re', gridvar = True, vartype = 'Diag', varprefix = 'diag')\n",
    "Psi4im = stvar('Psi4im', gridvar = True, vartype = 'Diag', varprefix = 'diag')"
   ]
  },
  {
   "cell_type": "code",
   "execution_count": 125,
   "metadata": {},
   "outputs": [],
   "source": [
    "WFString = \"\"\n",
    "WFString += chi.symb2isymb()\n",
    "WFString += gamtilde_LL.symb2isymb()\n",
    "WFString += Khat.symb2isymb()\n",
    "WFString += Atilde_LL.symb2isymb()\n",
    "WFString += theta.symb2isymb()\n",
    "WFString += Gamtilde_U.symb2isymb()\n",
    "\n",
    "WFString += alpha.symb2isymb()\n",
    "WFString += beta_U.symb2isymb()"
   ]
  },
  {
   "cell_type": "code",
   "execution_count": 126,
   "metadata": {
    "tags": []
   },
   "outputs": [],
   "source": [
    "WFString += dDchi_L.symb2isymb()\n",
    "WFString += dDDchi_LL.symb2isymb()\n",
    "WFString += dDgamtilde_LLL.symb2isymb()\n",
    "WFString += dDDgamtilde_LLLL.symb2isymb()\n",
    "WFString += dDAtilde_LLL.symb2isymb()\n",
    "WFString += dDKhat_L.symb2isymb()\n",
    "WFString += dDtheta_L.symb2isymb()"
   ]
  },
  {
   "cell_type": "code",
   "execution_count": null,
   "metadata": {
    "tags": []
   },
   "outputs": [],
   "source": []
  },
  {
   "cell_type": "code",
   "execution_count": 127,
   "metadata": {},
   "outputs": [],
   "source": [
    "Gam_LLL = ConformalChristoffelLLL(chi, gamtilde_LL)"
   ]
  },
  {
   "cell_type": "code",
   "execution_count": 128,
   "metadata": {},
   "outputs": [],
   "source": [
    "WFString += gamtilde_UU.symb2expr()\n",
    "WFString += Gamtilde_LLL.symb2expr()\n",
    "WFString += Gamtilde_ULL.symb2expr()\n",
    "WFString += Gam_ULL.symb2expr()\n",
    "WFString += Gam_LLL.symb2expr()\n",
    "\n",
    "WFString += gam_LL.symb2expr()\n",
    "WFString += gam_UU.symb2expr()"
   ]
  },
  {
   "cell_type": "code",
   "execution_count": null,
   "metadata": {},
   "outputs": [],
   "source": []
  },
  {
   "cell_type": "code",
   "execution_count": null,
   "metadata": {},
   "outputs": [],
   "source": []
  },
  {
   "cell_type": "code",
   "execution_count": 129,
   "metadata": {},
   "outputs": [],
   "source": [
    "dDDgam_LLLL = stvarrank4('dDDgam_LLLL', sym = 'sym01sym23')\n",
    "for i in range(3):\n",
    "    for j in range(3):\n",
    "        for k in range(3):\n",
    "            for l in range(3):\n",
    "                dDDgam_LLLL.expr[i][j][k][l] += -dDDchi_LL.symb[l][k]/(chi.symb**2)*gamtilde_LL.symb[i][j]\n",
    "                dDDgam_LLLL.expr[i][j][k][l] += 2*dDchi_L.symb[k]*dDchi_L.symb[l]/(chi.symb**3)*gamtilde_LL.symb[i][j]\n",
    "                dDDgam_LLLL.expr[i][j][k][l] += -dDchi_L.symb[k]/(chi.symb**2)*dDgamtilde_LLL.symb[i][j][l]-dDchi_L.symb[l]/(chi.symb**2)*dDgamtilde_LLL.symb[i][j][k]\n",
    "                dDDgam_LLLL.expr[i][j][k][l] += dDDgamtilde_LLLL.symb[i][j][k][l]/(chi.symb**2)"
   ]
  },
  {
   "cell_type": "code",
   "execution_count": 130,
   "metadata": {},
   "outputs": [],
   "source": [
    "WFString += dDDgam_LLLL.symb2expr()"
   ]
  },
  {
   "cell_type": "code",
   "execution_count": null,
   "metadata": {},
   "outputs": [],
   "source": []
  },
  {
   "cell_type": "code",
   "execution_count": null,
   "metadata": {},
   "outputs": [],
   "source": []
  },
  {
   "cell_type": "code",
   "execution_count": 131,
   "metadata": {},
   "outputs": [],
   "source": [
    "Riem_LLLL = stvarrank4('Riem_LLLL', sym = 'asym01asym23')\n",
    "for i in range(3):\n",
    "    for k in range(3):\n",
    "        for l in range(3):\n",
    "            for m in range(3):\n",
    "                Riem_LLLL.expr[i][k][l][m] += 1/2*(dDDgam_LLLL.symb[i][m][k][l]+dDDgam_LLLL.symb[k][l][i][m]-dDDgam_LLLL.symb[i][l][k][m]-dDDgam_LLLL.symb[k][m][i][l])\n",
    "                for p in range(3):\n",
    "                    Riem_LLLL.expr[i][k][l][m] += Gam_LLL.symb[p][k][l]*Gam_ULL.symb[p][i][m] - Gam_LLL.symb[p][k][m]*Gam_ULL.symb[p][i][l]\n"
   ]
  },
  {
   "cell_type": "code",
   "execution_count": 132,
   "metadata": {},
   "outputs": [],
   "source": [
    "WFString += Riem_LLLL.symb2expr()"
   ]
  },
  {
   "cell_type": "code",
   "execution_count": 133,
   "metadata": {},
   "outputs": [],
   "source": [
    "WFString += K_LL.symb2expr()"
   ]
  },
  {
   "cell_type": "code",
   "execution_count": 134,
   "metadata": {},
   "outputs": [],
   "source": [
    "rank4term_LLLL = stvarrank4('rank4term_LLLL', sym = 'asym01asym23')\n",
    "for i in range(3):\n",
    "    for j in range(3):\n",
    "        for k in range(3):\n",
    "            for l in range(3):\n",
    "                rank4term_LLLL.expr[i][j][k][l] += Riem_LLLL.symb[i][j][k][l] + K_LL.symb[i][k]*K_LL.symb[l][j] - K_LL.symb[i][l]*K_LL.symb[k][j]"
   ]
  },
  {
   "cell_type": "code",
   "execution_count": 135,
   "metadata": {},
   "outputs": [],
   "source": [
    "WFString += rank4term_LLLL.symb2expr()"
   ]
  },
  {
   "cell_type": "code",
   "execution_count": 136,
   "metadata": {},
   "outputs": [],
   "source": [
    "dDK_LLL = stvarrank3('dDK_LLL', sym = 'sym01')\n",
    "for i in range(3):\n",
    "    for j in range(3):\n",
    "        for k in range(3):\n",
    "            dDK_LLL.expr[i][j][k] += -(dDchi_L.symb[k]/chi.symb)*K_LL.symb[i][j]\n",
    "            dDK_LLL.expr[i][j][k] += (1/chi.symb)*(dDAtilde_LLL.symb[i][j][k] + 1/3*dDgamtilde_LLL.symb[i][j][k]*(Khat.symb+2*theta.symb)+1/3*gamtilde_LL.symb[i][j]*(dDKhat_L.symb[k]+2*dDtheta_L.symb[k]))"
   ]
  },
  {
   "cell_type": "code",
   "execution_count": 137,
   "metadata": {},
   "outputs": [],
   "source": [
    "WFString += dDK_LLL.symb2expr()"
   ]
  },
  {
   "cell_type": "code",
   "execution_count": 138,
   "metadata": {},
   "outputs": [],
   "source": [
    "rank3term_LLL = stvarrank3('rank3term_LLL', sym = 'asym12')\n",
    "for j in range(3):\n",
    "    for k in range(3):\n",
    "        for l in range(3):\n",
    "            rank3term_LLL.expr[j][k][l] += -4*(dDK_LLL.symb[j][k][l] - dDK_LLL.symb[j][l][k])\n",
    "            for p in range(3):\n",
    "                rank3term_LLL.expr[j][k][l] += -4*(Gam_ULL.symb[p][j][k]*K_LL.symb[l][p] - Gam_ULL.symb[p][j][l]*K_LL.symb[k][p])"
   ]
  },
  {
   "cell_type": "code",
   "execution_count": 139,
   "metadata": {},
   "outputs": [],
   "source": [
    "WFString += rank3term_LLL.symb2expr()"
   ]
  },
  {
   "cell_type": "code",
   "execution_count": 140,
   "metadata": {},
   "outputs": [],
   "source": [
    "Ricci_LL = stvarrank2('Ricci_LL', sym = 'sym01')\n",
    "for j in range(3):\n",
    "    for l in range(3):\n",
    "        for i in range(3):\n",
    "            for m in range(3):\n",
    "                Ricci_LL.expr[j][l] += gam_UU.symb[i][m]*Riem_LLLL.symb[i][j][m][l]"
   ]
  },
  {
   "cell_type": "code",
   "execution_count": 141,
   "metadata": {},
   "outputs": [],
   "source": [
    "WFString += Ricci_LL.symb2expr()"
   ]
  },
  {
   "cell_type": "code",
   "execution_count": 142,
   "metadata": {},
   "outputs": [],
   "source": [
    "rank2term_LL = stvarrank2('rank2term_LL', sym = 'sym01')\n",
    "for j in range(3):\n",
    "    for l in range(3):\n",
    "        rank2term_LL.expr[j][l] += 4*(Ricci_LL.symb[j][l] + (Khat.symb+2*theta.symb)*K_LL.symb[j][l])\n",
    "        for p in range(3):\n",
    "            for m in range(3):\n",
    "                rank2term_LL.expr[j][l] += -4*K_LL.symb[j][p]*gam_UU.symb[p][m]*K_LL.symb[m][l]"
   ]
  },
  {
   "cell_type": "code",
   "execution_count": 143,
   "metadata": {},
   "outputs": [],
   "source": [
    "WFString += rank2term_LL.symb2expr()"
   ]
  },
  {
   "cell_type": "code",
   "execution_count": 144,
   "metadata": {},
   "outputs": [],
   "source": [
    "x_U = stvarrank1('x_U')"
   ]
  },
  {
   "cell_type": "code",
   "execution_count": 145,
   "metadata": {},
   "outputs": [],
   "source": [
    "v1_U = stvarrank1('v1_U')\n",
    "v1_U.expr = np.array([-x_U.symb[1], x_U.symb[0], 0])\n",
    "\n",
    "v2_U = stvarrank1('v2_U')\n",
    "v2_U.expr = x_U.symb\n",
    "\n",
    "v3_U = stvarrank1('v3_U')\n",
    "for a in range(3):\n",
    "    for b in range(3):\n",
    "        for c in range(3):\n",
    "            for d in range(3):\n",
    "                v3_U.expr[a] += sp.simplify((chi.symb**(-3/2))*gam_UU.symb[a][d]*sp.Eijk(d,b,c)*v1_U.symb[b]*v2_U.symb[c])"
   ]
  },
  {
   "cell_type": "code",
   "execution_count": 146,
   "metadata": {},
   "outputs": [],
   "source": [
    "WFString += v1_U.symb2expr()\n",
    "WFString += v2_U.symb2expr()\n",
    "WFString += v3_U.symb2expr()"
   ]
  },
  {
   "cell_type": "code",
   "execution_count": 147,
   "metadata": {},
   "outputs": [],
   "source": [
    "v1prime_U = stvarrank1('v1prime_U')\n",
    "v1prime_U.expr = v1_U.symb"
   ]
  },
  {
   "cell_type": "code",
   "execution_count": 148,
   "metadata": {},
   "outputs": [],
   "source": [
    "WFString += v1prime_U.symb2expr()"
   ]
  },
  {
   "cell_type": "code",
   "execution_count": 149,
   "metadata": {},
   "outputs": [],
   "source": [
    "omega11 = stvar('omega11')\n",
    "for a in range(3):\n",
    "    for b in range(3):\n",
    "        omega11.expr += gam_LL.symb[a][b]*v1prime_U.symb[a]*v1prime_U.symb[b]"
   ]
  },
  {
   "cell_type": "code",
   "execution_count": 150,
   "metadata": {},
   "outputs": [],
   "source": [
    "WFString += omega11.symb2expr()"
   ]
  },
  {
   "cell_type": "code",
   "execution_count": 151,
   "metadata": {},
   "outputs": [],
   "source": [
    "e1_U = stvarrank1('e1_U')\n",
    "e1_U.expr = v1prime_U.symb/sp.sqrt(omega11.symb)"
   ]
  },
  {
   "cell_type": "code",
   "execution_count": 152,
   "metadata": {},
   "outputs": [],
   "source": [
    "WFString += e1_U.symb2expr()"
   ]
  },
  {
   "cell_type": "code",
   "execution_count": 153,
   "metadata": {},
   "outputs": [],
   "source": [
    "omega12 = stvar('omega12')\n",
    "for a in range(3):\n",
    "    for b in range(3):\n",
    "        omega12.expr += gam_LL.symb[a][b]*e1_U.symb[a]*v2_U.symb[b]"
   ]
  },
  {
   "cell_type": "code",
   "execution_count": 154,
   "metadata": {},
   "outputs": [],
   "source": [
    "WFString += omega12.symb2expr()"
   ]
  },
  {
   "cell_type": "code",
   "execution_count": 155,
   "metadata": {},
   "outputs": [],
   "source": [
    "v2prime_U = stvarrank1('v2prime_U')\n",
    "v2prime_U.expr = v2_U.symb - omega12.symb*e1_U.symb"
   ]
  },
  {
   "cell_type": "code",
   "execution_count": 156,
   "metadata": {},
   "outputs": [],
   "source": [
    "WFString += v2prime_U.symb2expr()"
   ]
  },
  {
   "cell_type": "code",
   "execution_count": 157,
   "metadata": {},
   "outputs": [],
   "source": [
    "omega22 = stvar('omega22')\n",
    "for a in range(3):\n",
    "    for b in range(3):\n",
    "        omega22.expr += gam_LL.symb[a][b]*v2prime_U.symb[a]*v2prime_U.symb[b]"
   ]
  },
  {
   "cell_type": "code",
   "execution_count": 158,
   "metadata": {},
   "outputs": [],
   "source": [
    "WFString += omega22.symb2expr()"
   ]
  },
  {
   "cell_type": "code",
   "execution_count": 159,
   "metadata": {},
   "outputs": [],
   "source": [
    "e2_U = stvarrank1('e2_U')\n",
    "e2_U.expr = v2prime_U.symb/sp.sqrt(omega22.symb)"
   ]
  },
  {
   "cell_type": "code",
   "execution_count": 160,
   "metadata": {},
   "outputs": [],
   "source": [
    "WFString += e2_U.symb2expr()"
   ]
  },
  {
   "cell_type": "code",
   "execution_count": 161,
   "metadata": {},
   "outputs": [],
   "source": [
    "omega13 = stvar('omega13')\n",
    "omega23 = stvar('omega23')\n",
    "for a in range(3):\n",
    "    for b in range(3):\n",
    "        omega13.expr += gam_LL.symb[a][b]*e1_U.symb[a]*v3_U.symb[b]\n",
    "        omega23.expr += gam_LL.symb[a][b]*e2_U.symb[a]*v3_U.symb[b]"
   ]
  },
  {
   "cell_type": "code",
   "execution_count": 162,
   "metadata": {},
   "outputs": [],
   "source": [
    "WFString += omega13.symb2expr() + omega23.symb2expr()"
   ]
  },
  {
   "cell_type": "code",
   "execution_count": 163,
   "metadata": {},
   "outputs": [],
   "source": [
    "v3prime_U = stvarrank1('v3prime_U')\n",
    "v3prime_U.expr = v3_U.symb - omega13.symb*e1_U.symb - omega23.symb*e2_U.symb"
   ]
  },
  {
   "cell_type": "code",
   "execution_count": 164,
   "metadata": {},
   "outputs": [],
   "source": [
    "WFString += v3prime_U.symb2expr()"
   ]
  },
  {
   "cell_type": "code",
   "execution_count": 165,
   "metadata": {},
   "outputs": [],
   "source": [
    "omega33 = stvar('omega33')\n",
    "for a in range(3):\n",
    "    for b in range(3):\n",
    "        omega33.expr += gam_LL.symb[a][b]*v3prime_U.symb[a]*v3prime_U.symb[b]"
   ]
  },
  {
   "cell_type": "code",
   "execution_count": 166,
   "metadata": {},
   "outputs": [],
   "source": [
    "WFString += omega33.symb2expr()"
   ]
  },
  {
   "cell_type": "code",
   "execution_count": 167,
   "metadata": {},
   "outputs": [],
   "source": [
    "e3_U = stvarrank1('e3_U')\n",
    "e3_U.expr = v3prime_U.symb/sp.sqrt(omega33.symb)"
   ]
  },
  {
   "cell_type": "code",
   "execution_count": 168,
   "metadata": {},
   "outputs": [],
   "source": [
    "WFString += e3_U.symb2expr()"
   ]
  },
  {
   "cell_type": "code",
   "execution_count": 169,
   "metadata": {},
   "outputs": [],
   "source": [
    "u_U = stvarrank1('u_U', dim = 4)\n",
    "r_U = stvarrank1('r_U', dim = 4)\n",
    "theta_U = stvarrank1('theta_U', dim = 4)\n",
    "phi_U = stvarrank1('phi_U', dim = 4)\n",
    "\n",
    "u_U.expr[3] = 1/alpha.symb\n",
    "r_U.expr[3] = 0\n",
    "theta_U.expr[3] = 0\n",
    "phi_U.expr[3] = 0\n",
    "\n",
    "for i in range(3):\n",
    "    u_U.expr[i] = -beta_U.symb[i]/alpha.symb\n",
    "    r_U.expr[i] = e2_U.symb[i]\n",
    "    theta_U.expr[i] = e3_U.symb[i]\n",
    "    phi_U.expr[i] = e1_U.symb[i]"
   ]
  },
  {
   "cell_type": "code",
   "execution_count": 170,
   "metadata": {},
   "outputs": [],
   "source": [
    "WFString += u_U.symb2expr() + r_U.symb2expr() + theta_U.symb2expr() + phi_U.symb2expr()"
   ]
  },
  {
   "cell_type": "code",
   "execution_count": 171,
   "metadata": {},
   "outputs": [],
   "source": [
    "l_U = stvarrank1('l_U', dim = 4)\n",
    "l_U.expr =  1/sp.sqrt(2)*(u_U.symb+r_U.symb)\n",
    "\n",
    "n_U = stvarrank1('n_U', dim = 4)\n",
    "n_U.expr =  1/sp.sqrt(2)*(u_U.symb-r_U.symb)\n",
    "\n",
    "mre_U = stvarrank1('mre_U', dim = 4)\n",
    "mre_U.expr =  1/sp.sqrt(2)*theta_U.symb\n",
    "\n",
    "mim_U = stvarrank1('mim_U', dim = 4)\n",
    "mim_U.expr =  1/sp.sqrt(2)*phi_U.symb"
   ]
  },
  {
   "cell_type": "code",
   "execution_count": 172,
   "metadata": {},
   "outputs": [],
   "source": [
    "WFString += l_U.symb2expr() + n_U.symb2expr() + mre_U.symb2expr() + mim_U.symb2expr()"
   ]
  },
  {
   "cell_type": "code",
   "execution_count": 173,
   "metadata": {},
   "outputs": [],
   "source": [
    "nmnmre_UUUU = stvarrank4('nmnmre_UUUU', sym = 'sym02sym13', dim = 4)\n",
    "nmnmim_UUUU = stvarrank4('nmnmim_UUUU', sym = 'sym02sym13', dim = 4)"
   ]
  },
  {
   "cell_type": "code",
   "execution_count": 174,
   "metadata": {},
   "outputs": [],
   "source": [
    "for a in range(4):\n",
    "    for b in range(4):\n",
    "        for c in range(4):\n",
    "            for d in range(4):\n",
    "                nmnmre_UUUU.expr[a][b][c][d] += n_U.symb[a]*mre_U.symb[b]*n_U.symb[c]*mre_U.symb[d] - n_U.symb[a]*mim_U.symb[b]*n_U.symb[c]*mim_U.symb[d]\n",
    "                nmnmim_UUUU.expr[a][b][c][d] += -n_U.symb[a]*mre_U.symb[b]*n_U.symb[c]*mim_U.symb[d] - n_U.symb[a]*mim_U.symb[b]*n_U.symb[c]*mre_U.symb[d]\n",
    "                "
   ]
  },
  {
   "cell_type": "code",
   "execution_count": 175,
   "metadata": {},
   "outputs": [],
   "source": [
    "WFString += nmnmre_UUUU.symb2expr() + nmnmim_UUUU.symb2expr()"
   ]
  },
  {
   "cell_type": "code",
   "execution_count": 176,
   "metadata": {},
   "outputs": [],
   "source": [
    "for i in range(3):\n",
    "    for j in range(3):\n",
    "        Psi4re.expr += 1/4*rank2term_LL.symb[i][j]*(nmnmre_UUUU.symb[3][i][3][j]-nmnmre_UUUU.symb[j][3][3][i]-nmnmre_UUUU.symb[3][i][j][3]+nmnmre_UUUU.symb[i][3][j][3])\n",
    "        Psi4im.expr += 1/4*rank2term_LL.symb[i][j]*(nmnmim_UUUU.symb[3][i][3][j]-nmnmim_UUUU.symb[j][3][3][i]-nmnmim_UUUU.symb[3][i][j][3]+nmnmim_UUUU.symb[i][3][j][3])\n",
    "        for k in range(3):\n",
    "            Psi4re.expr += 1/2*rank3term_LLL.symb[i][j][k]*(nmnmre_UUUU.symb[3][i][j][k]-nmnmre_UUUU.symb[i][3][j][k])\n",
    "            Psi4im.expr += 1/2*rank3term_LLL.symb[i][j][k]*(nmnmim_UUUU.symb[3][i][j][k]-nmnmim_UUUU.symb[i][3][j][k])\n",
    "            for l in range(3):\n",
    "                Psi4re.expr += rank4term_LLLL.symb[i][j][k][l]*nmnmre_UUUU.symb[i][j][k][l]\n",
    "                Psi4im.expr += rank4term_LLLL.symb[i][j][k][l]*nmnmim_UUUU.symb[i][j][k][l]"
   ]
  },
  {
   "cell_type": "code",
   "execution_count": 177,
   "metadata": {},
   "outputs": [],
   "source": [
    "WFString += Psi4re.setisymb() + Psi4im.setisymb()"
   ]
  },
  {
   "cell_type": "code",
   "execution_count": null,
   "metadata": {},
   "outputs": [],
   "source": []
  },
  {
   "cell_type": "code",
   "execution_count": null,
   "metadata": {},
   "outputs": [],
   "source": []
  },
  {
   "cell_type": "code",
   "execution_count": null,
   "metadata": {},
   "outputs": [],
   "source": []
  },
  {
   "cell_type": "code",
   "execution_count": 178,
   "metadata": {},
   "outputs": [
    {
     "name": "stdout",
     "output_type": "stream",
     "text": [
      "        amrex::Real chi = state_fab(i, j, k, Idx::chi);\n",
      "\n",
      "        amrex::Real gamtilde_LL_00 = state_fab(i, j, k, Idx::gamtilde_LL_00);\n",
      "        amrex::Real gamtilde_LL_01 = state_fab(i, j, k, Idx::gamtilde_LL_01);\n",
      "        amrex::Real gamtilde_LL_02 = state_fab(i, j, k, Idx::gamtilde_LL_02);\n",
      "        amrex::Real gamtilde_LL_11 = state_fab(i, j, k, Idx::gamtilde_LL_11);\n",
      "        amrex::Real gamtilde_LL_12 = state_fab(i, j, k, Idx::gamtilde_LL_12);\n",
      "        amrex::Real gamtilde_LL_22 = state_fab(i, j, k, Idx::gamtilde_LL_22);\n",
      "\n",
      "        amrex::Real Khat = state_fab(i, j, k, Idx::Khat);\n",
      "\n",
      "        amrex::Real Atilde_LL_00 = state_fab(i, j, k, Idx::Atilde_LL_00);\n",
      "        amrex::Real Atilde_LL_01 = state_fab(i, j, k, Idx::Atilde_LL_01);\n",
      "        amrex::Real Atilde_LL_02 = state_fab(i, j, k, Idx::Atilde_LL_02);\n",
      "        amrex::Real Atilde_LL_11 = state_fab(i, j, k, Idx::Atilde_LL_11);\n",
      "        amrex::Real Atilde_LL_12 = state_fab(i, j, k, Idx::Atilde_LL_12);\n",
      "        amrex::Real Atilde_LL_22 = state_fab(i, j, k, Idx::Atilde_LL_22);\n",
      "\n",
      "        amrex::Real theta = state_fab(i, j, k, Idx::theta);\n",
      "\n",
      "        amrex::Real Gamtilde_U_0 = state_fab(i, j, k, Idx::Gamtilde_U_0);\n",
      "        amrex::Real Gamtilde_U_1 = state_fab(i, j, k, Idx::Gamtilde_U_1);\n",
      "        amrex::Real Gamtilde_U_2 = state_fab(i, j, k, Idx::Gamtilde_U_2);\n",
      "\n",
      "        amrex::Real alpha = state_fab(i, j, k, Idx::alpha);\n",
      "\n",
      "        amrex::Real beta_U_0 = state_fab(i, j, k, Idx::beta_U_0);\n",
      "        amrex::Real beta_U_1 = state_fab(i, j, k, Idx::beta_U_1);\n",
      "        amrex::Real beta_U_2 = state_fab(i, j, k, Idx::beta_U_2);\n",
      "\n",
      "        amrex::Real dDchi_L_0 = ((2.0/3.0)*state_fab(i + 1, j, k, Idx::chi) - 1.0/12.0*state_fab(i + 2, j, k, Idx::chi) - 2.0/3.0*state_fab(i - 1, j, k, Idx::chi) + (1.0/12.0)*state_fab(i - 2, j, k, Idx::chi))/dx[0];\n",
      "        amrex::Real dDchi_L_1 = ((2.0/3.0)*state_fab(i, j + 1, k, Idx::chi) - 1.0/12.0*state_fab(i, j + 2, k, Idx::chi) - 2.0/3.0*state_fab(i, j - 1, k, Idx::chi) + (1.0/12.0)*state_fab(i, j - 2, k, Idx::chi))/dx[1];\n",
      "        amrex::Real dDchi_L_2 = ((2.0/3.0)*state_fab(i, j, k + 1, Idx::chi) - 1.0/12.0*state_fab(i, j, k + 2, Idx::chi) - 2.0/3.0*state_fab(i, j, k - 1, Idx::chi) + (1.0/12.0)*state_fab(i, j, k - 2, Idx::chi))/dx[2];\n",
      "\n",
      "        amrex::Real dDDchi_LL_00 = ((4.0/3.0)*state_fab(i + 1, j, k, Idx::chi) - 1.0/12.0*state_fab(i + 2, j, k, Idx::chi) + (4.0/3.0)*state_fab(i - 1, j, k, Idx::chi) - 1.0/12.0*state_fab(i - 2, j, k, Idx::chi) - 5.0/2.0*state_fab(i, j, k, Idx::chi))/std::pow(dx[0], 2);\n",
      "        amrex::Real dDDchi_LL_01 = ((4.0/9.0)*state_fab(i + 1, j + 1, k, Idx::chi) - 1.0/18.0*state_fab(i + 1, j + 2, k, Idx::chi) - 4.0/9.0*state_fab(i + 1, j - 1, k, Idx::chi) + (1.0/18.0)*state_fab(i + 1, j - 2, k, Idx::chi) - 1.0/18.0*state_fab(i + 2, j + 1, k, Idx::chi) + (1.0/144.0)*state_fab(i + 2, j + 2, k, Idx::chi) + (1.0/18.0)*state_fab(i + 2, j - 1, k, Idx::chi) - 1.0/144.0*state_fab(i + 2, j - 2, k, Idx::chi) - 4.0/9.0*state_fab(i - 1, j + 1, k, Idx::chi) + (1.0/18.0)*state_fab(i - 1, j + 2, k, Idx::chi) + (4.0/9.0)*state_fab(i - 1, j - 1, k, Idx::chi) - 1.0/18.0*state_fab(i - 1, j - 2, k, Idx::chi) + (1.0/18.0)*state_fab(i - 2, j + 1, k, Idx::chi) - 1.0/144.0*state_fab(i - 2, j + 2, k, Idx::chi) - 1.0/18.0*state_fab(i - 2, j - 1, k, Idx::chi) + (1.0/144.0)*state_fab(i - 2, j - 2, k, Idx::chi))/(dx[0]*dx[1]);\n",
      "        amrex::Real dDDchi_LL_02 = ((4.0/9.0)*state_fab(i + 1, j, k + 1, Idx::chi) - 1.0/18.0*state_fab(i + 1, j, k + 2, Idx::chi) - 4.0/9.0*state_fab(i + 1, j, k - 1, Idx::chi) + (1.0/18.0)*state_fab(i + 1, j, k - 2, Idx::chi) - 1.0/18.0*state_fab(i + 2, j, k + 1, Idx::chi) + (1.0/144.0)*state_fab(i + 2, j, k + 2, Idx::chi) + (1.0/18.0)*state_fab(i + 2, j, k - 1, Idx::chi) - 1.0/144.0*state_fab(i + 2, j, k - 2, Idx::chi) - 4.0/9.0*state_fab(i - 1, j, k + 1, Idx::chi) + (1.0/18.0)*state_fab(i - 1, j, k + 2, Idx::chi) + (4.0/9.0)*state_fab(i - 1, j, k - 1, Idx::chi) - 1.0/18.0*state_fab(i - 1, j, k - 2, Idx::chi) + (1.0/18.0)*state_fab(i - 2, j, k + 1, Idx::chi) - 1.0/144.0*state_fab(i - 2, j, k + 2, Idx::chi) - 1.0/18.0*state_fab(i - 2, j, k - 1, Idx::chi) + (1.0/144.0)*state_fab(i - 2, j, k - 2, Idx::chi))/(dx[0]*dx[2]);\n",
      "        amrex::Real dDDchi_LL_11 = ((4.0/3.0)*state_fab(i, j + 1, k, Idx::chi) - 1.0/12.0*state_fab(i, j + 2, k, Idx::chi) + (4.0/3.0)*state_fab(i, j - 1, k, Idx::chi) - 1.0/12.0*state_fab(i, j - 2, k, Idx::chi) - 5.0/2.0*state_fab(i, j, k, Idx::chi))/std::pow(dx[1], 2);\n",
      "        amrex::Real dDDchi_LL_12 = ((4.0/9.0)*state_fab(i, j + 1, k + 1, Idx::chi) - 1.0/18.0*state_fab(i, j + 1, k + 2, Idx::chi) - 4.0/9.0*state_fab(i, j + 1, k - 1, Idx::chi) + (1.0/18.0)*state_fab(i, j + 1, k - 2, Idx::chi) - 1.0/18.0*state_fab(i, j + 2, k + 1, Idx::chi) + (1.0/144.0)*state_fab(i, j + 2, k + 2, Idx::chi) + (1.0/18.0)*state_fab(i, j + 2, k - 1, Idx::chi) - 1.0/144.0*state_fab(i, j + 2, k - 2, Idx::chi) - 4.0/9.0*state_fab(i, j - 1, k + 1, Idx::chi) + (1.0/18.0)*state_fab(i, j - 1, k + 2, Idx::chi) + (4.0/9.0)*state_fab(i, j - 1, k - 1, Idx::chi) - 1.0/18.0*state_fab(i, j - 1, k - 2, Idx::chi) + (1.0/18.0)*state_fab(i, j - 2, k + 1, Idx::chi) - 1.0/144.0*state_fab(i, j - 2, k + 2, Idx::chi) - 1.0/18.0*state_fab(i, j - 2, k - 1, Idx::chi) + (1.0/144.0)*state_fab(i, j - 2, k - 2, Idx::chi))/(dx[1]*dx[2]);\n",
      "        amrex::Real dDDchi_LL_22 = ((4.0/3.0)*state_fab(i, j, k + 1, Idx::chi) - 1.0/12.0*state_fab(i, j, k + 2, Idx::chi) + (4.0/3.0)*state_fab(i, j, k - 1, Idx::chi) - 1.0/12.0*state_fab(i, j, k - 2, Idx::chi) - 5.0/2.0*state_fab(i, j, k, Idx::chi))/std::pow(dx[2], 2);\n",
      "\n",
      "        amrex::Real dDgamtilde_LLL_000 = ((2.0/3.0)*state_fab(i + 1, j, k, Idx::gamtilde_LL_00) - 1.0/12.0*state_fab(i + 2, j, k, Idx::gamtilde_LL_00) - 2.0/3.0*state_fab(i - 1, j, k, Idx::gamtilde_LL_00) + (1.0/12.0)*state_fab(i - 2, j, k, Idx::gamtilde_LL_00))/dx[0];\n",
      "        amrex::Real dDgamtilde_LLL_001 = ((2.0/3.0)*state_fab(i, j + 1, k, Idx::gamtilde_LL_00) - 1.0/12.0*state_fab(i, j + 2, k, Idx::gamtilde_LL_00) - 2.0/3.0*state_fab(i, j - 1, k, Idx::gamtilde_LL_00) + (1.0/12.0)*state_fab(i, j - 2, k, Idx::gamtilde_LL_00))/dx[1];\n",
      "        amrex::Real dDgamtilde_LLL_002 = ((2.0/3.0)*state_fab(i, j, k + 1, Idx::gamtilde_LL_00) - 1.0/12.0*state_fab(i, j, k + 2, Idx::gamtilde_LL_00) - 2.0/3.0*state_fab(i, j, k - 1, Idx::gamtilde_LL_00) + (1.0/12.0)*state_fab(i, j, k - 2, Idx::gamtilde_LL_00))/dx[2];\n",
      "        amrex::Real dDgamtilde_LLL_010 = ((2.0/3.0)*state_fab(i + 1, j, k, Idx::gamtilde_LL_01) - 1.0/12.0*state_fab(i + 2, j, k, Idx::gamtilde_LL_01) - 2.0/3.0*state_fab(i - 1, j, k, Idx::gamtilde_LL_01) + (1.0/12.0)*state_fab(i - 2, j, k, Idx::gamtilde_LL_01))/dx[0];\n",
      "        amrex::Real dDgamtilde_LLL_011 = ((2.0/3.0)*state_fab(i, j + 1, k, Idx::gamtilde_LL_01) - 1.0/12.0*state_fab(i, j + 2, k, Idx::gamtilde_LL_01) - 2.0/3.0*state_fab(i, j - 1, k, Idx::gamtilde_LL_01) + (1.0/12.0)*state_fab(i, j - 2, k, Idx::gamtilde_LL_01))/dx[1];\n",
      "        amrex::Real dDgamtilde_LLL_012 = ((2.0/3.0)*state_fab(i, j, k + 1, Idx::gamtilde_LL_01) - 1.0/12.0*state_fab(i, j, k + 2, Idx::gamtilde_LL_01) - 2.0/3.0*state_fab(i, j, k - 1, Idx::gamtilde_LL_01) + (1.0/12.0)*state_fab(i, j, k - 2, Idx::gamtilde_LL_01))/dx[2];\n",
      "        amrex::Real dDgamtilde_LLL_020 = ((2.0/3.0)*state_fab(i + 1, j, k, Idx::gamtilde_LL_02) - 1.0/12.0*state_fab(i + 2, j, k, Idx::gamtilde_LL_02) - 2.0/3.0*state_fab(i - 1, j, k, Idx::gamtilde_LL_02) + (1.0/12.0)*state_fab(i - 2, j, k, Idx::gamtilde_LL_02))/dx[0];\n",
      "        amrex::Real dDgamtilde_LLL_021 = ((2.0/3.0)*state_fab(i, j + 1, k, Idx::gamtilde_LL_02) - 1.0/12.0*state_fab(i, j + 2, k, Idx::gamtilde_LL_02) - 2.0/3.0*state_fab(i, j - 1, k, Idx::gamtilde_LL_02) + (1.0/12.0)*state_fab(i, j - 2, k, Idx::gamtilde_LL_02))/dx[1];\n",
      "        amrex::Real dDgamtilde_LLL_022 = ((2.0/3.0)*state_fab(i, j, k + 1, Idx::gamtilde_LL_02) - 1.0/12.0*state_fab(i, j, k + 2, Idx::gamtilde_LL_02) - 2.0/3.0*state_fab(i, j, k - 1, Idx::gamtilde_LL_02) + (1.0/12.0)*state_fab(i, j, k - 2, Idx::gamtilde_LL_02))/dx[2];\n",
      "        amrex::Real dDgamtilde_LLL_110 = ((2.0/3.0)*state_fab(i + 1, j, k, Idx::gamtilde_LL_11) - 1.0/12.0*state_fab(i + 2, j, k, Idx::gamtilde_LL_11) - 2.0/3.0*state_fab(i - 1, j, k, Idx::gamtilde_LL_11) + (1.0/12.0)*state_fab(i - 2, j, k, Idx::gamtilde_LL_11))/dx[0];\n",
      "        amrex::Real dDgamtilde_LLL_111 = ((2.0/3.0)*state_fab(i, j + 1, k, Idx::gamtilde_LL_11) - 1.0/12.0*state_fab(i, j + 2, k, Idx::gamtilde_LL_11) - 2.0/3.0*state_fab(i, j - 1, k, Idx::gamtilde_LL_11) + (1.0/12.0)*state_fab(i, j - 2, k, Idx::gamtilde_LL_11))/dx[1];\n",
      "        amrex::Real dDgamtilde_LLL_112 = ((2.0/3.0)*state_fab(i, j, k + 1, Idx::gamtilde_LL_11) - 1.0/12.0*state_fab(i, j, k + 2, Idx::gamtilde_LL_11) - 2.0/3.0*state_fab(i, j, k - 1, Idx::gamtilde_LL_11) + (1.0/12.0)*state_fab(i, j, k - 2, Idx::gamtilde_LL_11))/dx[2];\n",
      "        amrex::Real dDgamtilde_LLL_120 = ((2.0/3.0)*state_fab(i + 1, j, k, Idx::gamtilde_LL_12) - 1.0/12.0*state_fab(i + 2, j, k, Idx::gamtilde_LL_12) - 2.0/3.0*state_fab(i - 1, j, k, Idx::gamtilde_LL_12) + (1.0/12.0)*state_fab(i - 2, j, k, Idx::gamtilde_LL_12))/dx[0];\n",
      "        amrex::Real dDgamtilde_LLL_121 = ((2.0/3.0)*state_fab(i, j + 1, k, Idx::gamtilde_LL_12) - 1.0/12.0*state_fab(i, j + 2, k, Idx::gamtilde_LL_12) - 2.0/3.0*state_fab(i, j - 1, k, Idx::gamtilde_LL_12) + (1.0/12.0)*state_fab(i, j - 2, k, Idx::gamtilde_LL_12))/dx[1];\n",
      "        amrex::Real dDgamtilde_LLL_122 = ((2.0/3.0)*state_fab(i, j, k + 1, Idx::gamtilde_LL_12) - 1.0/12.0*state_fab(i, j, k + 2, Idx::gamtilde_LL_12) - 2.0/3.0*state_fab(i, j, k - 1, Idx::gamtilde_LL_12) + (1.0/12.0)*state_fab(i, j, k - 2, Idx::gamtilde_LL_12))/dx[2];\n",
      "        amrex::Real dDgamtilde_LLL_220 = ((2.0/3.0)*state_fab(i + 1, j, k, Idx::gamtilde_LL_22) - 1.0/12.0*state_fab(i + 2, j, k, Idx::gamtilde_LL_22) - 2.0/3.0*state_fab(i - 1, j, k, Idx::gamtilde_LL_22) + (1.0/12.0)*state_fab(i - 2, j, k, Idx::gamtilde_LL_22))/dx[0];\n",
      "        amrex::Real dDgamtilde_LLL_221 = ((2.0/3.0)*state_fab(i, j + 1, k, Idx::gamtilde_LL_22) - 1.0/12.0*state_fab(i, j + 2, k, Idx::gamtilde_LL_22) - 2.0/3.0*state_fab(i, j - 1, k, Idx::gamtilde_LL_22) + (1.0/12.0)*state_fab(i, j - 2, k, Idx::gamtilde_LL_22))/dx[1];\n",
      "        amrex::Real dDgamtilde_LLL_222 = ((2.0/3.0)*state_fab(i, j, k + 1, Idx::gamtilde_LL_22) - 1.0/12.0*state_fab(i, j, k + 2, Idx::gamtilde_LL_22) - 2.0/3.0*state_fab(i, j, k - 1, Idx::gamtilde_LL_22) + (1.0/12.0)*state_fab(i, j, k - 2, Idx::gamtilde_LL_22))/dx[2];\n",
      "\n",
      "        amrex::Real dDDgamtilde_LLLL_0000 = ((4.0/3.0)*state_fab(i + 1, j, k, Idx::gamtilde_LL_00) - 1.0/12.0*state_fab(i + 2, j, k, Idx::gamtilde_LL_00) + (4.0/3.0)*state_fab(i - 1, j, k, Idx::gamtilde_LL_00) - 1.0/12.0*state_fab(i - 2, j, k, Idx::gamtilde_LL_00) - 5.0/2.0*state_fab(i, j, k, Idx::gamtilde_LL_00))/std::pow(dx[0], 2);\n",
      "        amrex::Real dDDgamtilde_LLLL_0001 = ((4.0/9.0)*state_fab(i + 1, j + 1, k, Idx::gamtilde_LL_00) - 1.0/18.0*state_fab(i + 1, j + 2, k, Idx::gamtilde_LL_00) - 4.0/9.0*state_fab(i + 1, j - 1, k, Idx::gamtilde_LL_00) + (1.0/18.0)*state_fab(i + 1, j - 2, k, Idx::gamtilde_LL_00) - 1.0/18.0*state_fab(i + 2, j + 1, k, Idx::gamtilde_LL_00) + (1.0/144.0)*state_fab(i + 2, j + 2, k, Idx::gamtilde_LL_00) + (1.0/18.0)*state_fab(i + 2, j - 1, k, Idx::gamtilde_LL_00) - 1.0/144.0*state_fab(i + 2, j - 2, k, Idx::gamtilde_LL_00) - 4.0/9.0*state_fab(i - 1, j + 1, k, Idx::gamtilde_LL_00) + (1.0/18.0)*state_fab(i - 1, j + 2, k, Idx::gamtilde_LL_00) + (4.0/9.0)*state_fab(i - 1, j - 1, k, Idx::gamtilde_LL_00) - 1.0/18.0*state_fab(i - 1, j - 2, k, Idx::gamtilde_LL_00) + (1.0/18.0)*state_fab(i - 2, j + 1, k, Idx::gamtilde_LL_00) - 1.0/144.0*state_fab(i - 2, j + 2, k, Idx::gamtilde_LL_00) - 1.0/18.0*state_fab(i - 2, j - 1, k, Idx::gamtilde_LL_00) + (1.0/144.0)*state_fab(i - 2, j - 2, k, Idx::gamtilde_LL_00))/(dx[0]*dx[1]);\n",
      "        amrex::Real dDDgamtilde_LLLL_0002 = ((4.0/9.0)*state_fab(i + 1, j, k + 1, Idx::gamtilde_LL_00) - 1.0/18.0*state_fab(i + 1, j, k + 2, Idx::gamtilde_LL_00) - 4.0/9.0*state_fab(i + 1, j, k - 1, Idx::gamtilde_LL_00) + (1.0/18.0)*state_fab(i + 1, j, k - 2, Idx::gamtilde_LL_00) - 1.0/18.0*state_fab(i + 2, j, k + 1, Idx::gamtilde_LL_00) + (1.0/144.0)*state_fab(i + 2, j, k + 2, Idx::gamtilde_LL_00) + (1.0/18.0)*state_fab(i + 2, j, k - 1, Idx::gamtilde_LL_00) - 1.0/144.0*state_fab(i + 2, j, k - 2, Idx::gamtilde_LL_00) - 4.0/9.0*state_fab(i - 1, j, k + 1, Idx::gamtilde_LL_00) + (1.0/18.0)*state_fab(i - 1, j, k + 2, Idx::gamtilde_LL_00) + (4.0/9.0)*state_fab(i - 1, j, k - 1, Idx::gamtilde_LL_00) - 1.0/18.0*state_fab(i - 1, j, k - 2, Idx::gamtilde_LL_00) + (1.0/18.0)*state_fab(i - 2, j, k + 1, Idx::gamtilde_LL_00) - 1.0/144.0*state_fab(i - 2, j, k + 2, Idx::gamtilde_LL_00) - 1.0/18.0*state_fab(i - 2, j, k - 1, Idx::gamtilde_LL_00) + (1.0/144.0)*state_fab(i - 2, j, k - 2, Idx::gamtilde_LL_00))/(dx[0]*dx[2]);\n",
      "        amrex::Real dDDgamtilde_LLLL_0011 = ((4.0/3.0)*state_fab(i, j + 1, k, Idx::gamtilde_LL_00) - 1.0/12.0*state_fab(i, j + 2, k, Idx::gamtilde_LL_00) + (4.0/3.0)*state_fab(i, j - 1, k, Idx::gamtilde_LL_00) - 1.0/12.0*state_fab(i, j - 2, k, Idx::gamtilde_LL_00) - 5.0/2.0*state_fab(i, j, k, Idx::gamtilde_LL_00))/std::pow(dx[1], 2);\n",
      "        amrex::Real dDDgamtilde_LLLL_0012 = ((4.0/9.0)*state_fab(i, j + 1, k + 1, Idx::gamtilde_LL_00) - 1.0/18.0*state_fab(i, j + 1, k + 2, Idx::gamtilde_LL_00) - 4.0/9.0*state_fab(i, j + 1, k - 1, Idx::gamtilde_LL_00) + (1.0/18.0)*state_fab(i, j + 1, k - 2, Idx::gamtilde_LL_00) - 1.0/18.0*state_fab(i, j + 2, k + 1, Idx::gamtilde_LL_00) + (1.0/144.0)*state_fab(i, j + 2, k + 2, Idx::gamtilde_LL_00) + (1.0/18.0)*state_fab(i, j + 2, k - 1, Idx::gamtilde_LL_00) - 1.0/144.0*state_fab(i, j + 2, k - 2, Idx::gamtilde_LL_00) - 4.0/9.0*state_fab(i, j - 1, k + 1, Idx::gamtilde_LL_00) + (1.0/18.0)*state_fab(i, j - 1, k + 2, Idx::gamtilde_LL_00) + (4.0/9.0)*state_fab(i, j - 1, k - 1, Idx::gamtilde_LL_00) - 1.0/18.0*state_fab(i, j - 1, k - 2, Idx::gamtilde_LL_00) + (1.0/18.0)*state_fab(i, j - 2, k + 1, Idx::gamtilde_LL_00) - 1.0/144.0*state_fab(i, j - 2, k + 2, Idx::gamtilde_LL_00) - 1.0/18.0*state_fab(i, j - 2, k - 1, Idx::gamtilde_LL_00) + (1.0/144.0)*state_fab(i, j - 2, k - 2, Idx::gamtilde_LL_00))/(dx[1]*dx[2]);\n",
      "        amrex::Real dDDgamtilde_LLLL_0022 = ((4.0/3.0)*state_fab(i, j, k + 1, Idx::gamtilde_LL_00) - 1.0/12.0*state_fab(i, j, k + 2, Idx::gamtilde_LL_00) + (4.0/3.0)*state_fab(i, j, k - 1, Idx::gamtilde_LL_00) - 1.0/12.0*state_fab(i, j, k - 2, Idx::gamtilde_LL_00) - 5.0/2.0*state_fab(i, j, k, Idx::gamtilde_LL_00))/std::pow(dx[2], 2);\n",
      "        amrex::Real dDDgamtilde_LLLL_0100 = ((4.0/3.0)*state_fab(i + 1, j, k, Idx::gamtilde_LL_01) - 1.0/12.0*state_fab(i + 2, j, k, Idx::gamtilde_LL_01) + (4.0/3.0)*state_fab(i - 1, j, k, Idx::gamtilde_LL_01) - 1.0/12.0*state_fab(i - 2, j, k, Idx::gamtilde_LL_01) - 5.0/2.0*state_fab(i, j, k, Idx::gamtilde_LL_01))/std::pow(dx[0], 2);\n",
      "        amrex::Real dDDgamtilde_LLLL_0101 = ((4.0/9.0)*state_fab(i + 1, j + 1, k, Idx::gamtilde_LL_01) - 1.0/18.0*state_fab(i + 1, j + 2, k, Idx::gamtilde_LL_01) - 4.0/9.0*state_fab(i + 1, j - 1, k, Idx::gamtilde_LL_01) + (1.0/18.0)*state_fab(i + 1, j - 2, k, Idx::gamtilde_LL_01) - 1.0/18.0*state_fab(i + 2, j + 1, k, Idx::gamtilde_LL_01) + (1.0/144.0)*state_fab(i + 2, j + 2, k, Idx::gamtilde_LL_01) + (1.0/18.0)*state_fab(i + 2, j - 1, k, Idx::gamtilde_LL_01) - 1.0/144.0*state_fab(i + 2, j - 2, k, Idx::gamtilde_LL_01) - 4.0/9.0*state_fab(i - 1, j + 1, k, Idx::gamtilde_LL_01) + (1.0/18.0)*state_fab(i - 1, j + 2, k, Idx::gamtilde_LL_01) + (4.0/9.0)*state_fab(i - 1, j - 1, k, Idx::gamtilde_LL_01) - 1.0/18.0*state_fab(i - 1, j - 2, k, Idx::gamtilde_LL_01) + (1.0/18.0)*state_fab(i - 2, j + 1, k, Idx::gamtilde_LL_01) - 1.0/144.0*state_fab(i - 2, j + 2, k, Idx::gamtilde_LL_01) - 1.0/18.0*state_fab(i - 2, j - 1, k, Idx::gamtilde_LL_01) + (1.0/144.0)*state_fab(i - 2, j - 2, k, Idx::gamtilde_LL_01))/(dx[0]*dx[1]);\n",
      "        amrex::Real dDDgamtilde_LLLL_0102 = ((4.0/9.0)*state_fab(i + 1, j, k + 1, Idx::gamtilde_LL_01) - 1.0/18.0*state_fab(i + 1, j, k + 2, Idx::gamtilde_LL_01) - 4.0/9.0*state_fab(i + 1, j, k - 1, Idx::gamtilde_LL_01) + (1.0/18.0)*state_fab(i + 1, j, k - 2, Idx::gamtilde_LL_01) - 1.0/18.0*state_fab(i + 2, j, k + 1, Idx::gamtilde_LL_01) + (1.0/144.0)*state_fab(i + 2, j, k + 2, Idx::gamtilde_LL_01) + (1.0/18.0)*state_fab(i + 2, j, k - 1, Idx::gamtilde_LL_01) - 1.0/144.0*state_fab(i + 2, j, k - 2, Idx::gamtilde_LL_01) - 4.0/9.0*state_fab(i - 1, j, k + 1, Idx::gamtilde_LL_01) + (1.0/18.0)*state_fab(i - 1, j, k + 2, Idx::gamtilde_LL_01) + (4.0/9.0)*state_fab(i - 1, j, k - 1, Idx::gamtilde_LL_01) - 1.0/18.0*state_fab(i - 1, j, k - 2, Idx::gamtilde_LL_01) + (1.0/18.0)*state_fab(i - 2, j, k + 1, Idx::gamtilde_LL_01) - 1.0/144.0*state_fab(i - 2, j, k + 2, Idx::gamtilde_LL_01) - 1.0/18.0*state_fab(i - 2, j, k - 1, Idx::gamtilde_LL_01) + (1.0/144.0)*state_fab(i - 2, j, k - 2, Idx::gamtilde_LL_01))/(dx[0]*dx[2]);\n",
      "        amrex::Real dDDgamtilde_LLLL_0111 = ((4.0/3.0)*state_fab(i, j + 1, k, Idx::gamtilde_LL_01) - 1.0/12.0*state_fab(i, j + 2, k, Idx::gamtilde_LL_01) + (4.0/3.0)*state_fab(i, j - 1, k, Idx::gamtilde_LL_01) - 1.0/12.0*state_fab(i, j - 2, k, Idx::gamtilde_LL_01) - 5.0/2.0*state_fab(i, j, k, Idx::gamtilde_LL_01))/std::pow(dx[1], 2);\n",
      "        amrex::Real dDDgamtilde_LLLL_0112 = ((4.0/9.0)*state_fab(i, j + 1, k + 1, Idx::gamtilde_LL_01) - 1.0/18.0*state_fab(i, j + 1, k + 2, Idx::gamtilde_LL_01) - 4.0/9.0*state_fab(i, j + 1, k - 1, Idx::gamtilde_LL_01) + (1.0/18.0)*state_fab(i, j + 1, k - 2, Idx::gamtilde_LL_01) - 1.0/18.0*state_fab(i, j + 2, k + 1, Idx::gamtilde_LL_01) + (1.0/144.0)*state_fab(i, j + 2, k + 2, Idx::gamtilde_LL_01) + (1.0/18.0)*state_fab(i, j + 2, k - 1, Idx::gamtilde_LL_01) - 1.0/144.0*state_fab(i, j + 2, k - 2, Idx::gamtilde_LL_01) - 4.0/9.0*state_fab(i, j - 1, k + 1, Idx::gamtilde_LL_01) + (1.0/18.0)*state_fab(i, j - 1, k + 2, Idx::gamtilde_LL_01) + (4.0/9.0)*state_fab(i, j - 1, k - 1, Idx::gamtilde_LL_01) - 1.0/18.0*state_fab(i, j - 1, k - 2, Idx::gamtilde_LL_01) + (1.0/18.0)*state_fab(i, j - 2, k + 1, Idx::gamtilde_LL_01) - 1.0/144.0*state_fab(i, j - 2, k + 2, Idx::gamtilde_LL_01) - 1.0/18.0*state_fab(i, j - 2, k - 1, Idx::gamtilde_LL_01) + (1.0/144.0)*state_fab(i, j - 2, k - 2, Idx::gamtilde_LL_01))/(dx[1]*dx[2]);\n",
      "        amrex::Real dDDgamtilde_LLLL_0122 = ((4.0/3.0)*state_fab(i, j, k + 1, Idx::gamtilde_LL_01) - 1.0/12.0*state_fab(i, j, k + 2, Idx::gamtilde_LL_01) + (4.0/3.0)*state_fab(i, j, k - 1, Idx::gamtilde_LL_01) - 1.0/12.0*state_fab(i, j, k - 2, Idx::gamtilde_LL_01) - 5.0/2.0*state_fab(i, j, k, Idx::gamtilde_LL_01))/std::pow(dx[2], 2);\n",
      "        amrex::Real dDDgamtilde_LLLL_0200 = ((4.0/3.0)*state_fab(i + 1, j, k, Idx::gamtilde_LL_02) - 1.0/12.0*state_fab(i + 2, j, k, Idx::gamtilde_LL_02) + (4.0/3.0)*state_fab(i - 1, j, k, Idx::gamtilde_LL_02) - 1.0/12.0*state_fab(i - 2, j, k, Idx::gamtilde_LL_02) - 5.0/2.0*state_fab(i, j, k, Idx::gamtilde_LL_02))/std::pow(dx[0], 2);\n",
      "        amrex::Real dDDgamtilde_LLLL_0201 = ((4.0/9.0)*state_fab(i + 1, j + 1, k, Idx::gamtilde_LL_02) - 1.0/18.0*state_fab(i + 1, j + 2, k, Idx::gamtilde_LL_02) - 4.0/9.0*state_fab(i + 1, j - 1, k, Idx::gamtilde_LL_02) + (1.0/18.0)*state_fab(i + 1, j - 2, k, Idx::gamtilde_LL_02) - 1.0/18.0*state_fab(i + 2, j + 1, k, Idx::gamtilde_LL_02) + (1.0/144.0)*state_fab(i + 2, j + 2, k, Idx::gamtilde_LL_02) + (1.0/18.0)*state_fab(i + 2, j - 1, k, Idx::gamtilde_LL_02) - 1.0/144.0*state_fab(i + 2, j - 2, k, Idx::gamtilde_LL_02) - 4.0/9.0*state_fab(i - 1, j + 1, k, Idx::gamtilde_LL_02) + (1.0/18.0)*state_fab(i - 1, j + 2, k, Idx::gamtilde_LL_02) + (4.0/9.0)*state_fab(i - 1, j - 1, k, Idx::gamtilde_LL_02) - 1.0/18.0*state_fab(i - 1, j - 2, k, Idx::gamtilde_LL_02) + (1.0/18.0)*state_fab(i - 2, j + 1, k, Idx::gamtilde_LL_02) - 1.0/144.0*state_fab(i - 2, j + 2, k, Idx::gamtilde_LL_02) - 1.0/18.0*state_fab(i - 2, j - 1, k, Idx::gamtilde_LL_02) + (1.0/144.0)*state_fab(i - 2, j - 2, k, Idx::gamtilde_LL_02))/(dx[0]*dx[1]);\n",
      "        amrex::Real dDDgamtilde_LLLL_0202 = ((4.0/9.0)*state_fab(i + 1, j, k + 1, Idx::gamtilde_LL_02) - 1.0/18.0*state_fab(i + 1, j, k + 2, Idx::gamtilde_LL_02) - 4.0/9.0*state_fab(i + 1, j, k - 1, Idx::gamtilde_LL_02) + (1.0/18.0)*state_fab(i + 1, j, k - 2, Idx::gamtilde_LL_02) - 1.0/18.0*state_fab(i + 2, j, k + 1, Idx::gamtilde_LL_02) + (1.0/144.0)*state_fab(i + 2, j, k + 2, Idx::gamtilde_LL_02) + (1.0/18.0)*state_fab(i + 2, j, k - 1, Idx::gamtilde_LL_02) - 1.0/144.0*state_fab(i + 2, j, k - 2, Idx::gamtilde_LL_02) - 4.0/9.0*state_fab(i - 1, j, k + 1, Idx::gamtilde_LL_02) + (1.0/18.0)*state_fab(i - 1, j, k + 2, Idx::gamtilde_LL_02) + (4.0/9.0)*state_fab(i - 1, j, k - 1, Idx::gamtilde_LL_02) - 1.0/18.0*state_fab(i - 1, j, k - 2, Idx::gamtilde_LL_02) + (1.0/18.0)*state_fab(i - 2, j, k + 1, Idx::gamtilde_LL_02) - 1.0/144.0*state_fab(i - 2, j, k + 2, Idx::gamtilde_LL_02) - 1.0/18.0*state_fab(i - 2, j, k - 1, Idx::gamtilde_LL_02) + (1.0/144.0)*state_fab(i - 2, j, k - 2, Idx::gamtilde_LL_02))/(dx[0]*dx[2]);\n",
      "        amrex::Real dDDgamtilde_LLLL_0211 = ((4.0/3.0)*state_fab(i, j + 1, k, Idx::gamtilde_LL_02) - 1.0/12.0*state_fab(i, j + 2, k, Idx::gamtilde_LL_02) + (4.0/3.0)*state_fab(i, j - 1, k, Idx::gamtilde_LL_02) - 1.0/12.0*state_fab(i, j - 2, k, Idx::gamtilde_LL_02) - 5.0/2.0*state_fab(i, j, k, Idx::gamtilde_LL_02))/std::pow(dx[1], 2);\n",
      "        amrex::Real dDDgamtilde_LLLL_0212 = ((4.0/9.0)*state_fab(i, j + 1, k + 1, Idx::gamtilde_LL_02) - 1.0/18.0*state_fab(i, j + 1, k + 2, Idx::gamtilde_LL_02) - 4.0/9.0*state_fab(i, j + 1, k - 1, Idx::gamtilde_LL_02) + (1.0/18.0)*state_fab(i, j + 1, k - 2, Idx::gamtilde_LL_02) - 1.0/18.0*state_fab(i, j + 2, k + 1, Idx::gamtilde_LL_02) + (1.0/144.0)*state_fab(i, j + 2, k + 2, Idx::gamtilde_LL_02) + (1.0/18.0)*state_fab(i, j + 2, k - 1, Idx::gamtilde_LL_02) - 1.0/144.0*state_fab(i, j + 2, k - 2, Idx::gamtilde_LL_02) - 4.0/9.0*state_fab(i, j - 1, k + 1, Idx::gamtilde_LL_02) + (1.0/18.0)*state_fab(i, j - 1, k + 2, Idx::gamtilde_LL_02) + (4.0/9.0)*state_fab(i, j - 1, k - 1, Idx::gamtilde_LL_02) - 1.0/18.0*state_fab(i, j - 1, k - 2, Idx::gamtilde_LL_02) + (1.0/18.0)*state_fab(i, j - 2, k + 1, Idx::gamtilde_LL_02) - 1.0/144.0*state_fab(i, j - 2, k + 2, Idx::gamtilde_LL_02) - 1.0/18.0*state_fab(i, j - 2, k - 1, Idx::gamtilde_LL_02) + (1.0/144.0)*state_fab(i, j - 2, k - 2, Idx::gamtilde_LL_02))/(dx[1]*dx[2]);\n",
      "        amrex::Real dDDgamtilde_LLLL_0222 = ((4.0/3.0)*state_fab(i, j, k + 1, Idx::gamtilde_LL_02) - 1.0/12.0*state_fab(i, j, k + 2, Idx::gamtilde_LL_02) + (4.0/3.0)*state_fab(i, j, k - 1, Idx::gamtilde_LL_02) - 1.0/12.0*state_fab(i, j, k - 2, Idx::gamtilde_LL_02) - 5.0/2.0*state_fab(i, j, k, Idx::gamtilde_LL_02))/std::pow(dx[2], 2);\n",
      "        amrex::Real dDDgamtilde_LLLL_1100 = ((4.0/3.0)*state_fab(i + 1, j, k, Idx::gamtilde_LL_11) - 1.0/12.0*state_fab(i + 2, j, k, Idx::gamtilde_LL_11) + (4.0/3.0)*state_fab(i - 1, j, k, Idx::gamtilde_LL_11) - 1.0/12.0*state_fab(i - 2, j, k, Idx::gamtilde_LL_11) - 5.0/2.0*state_fab(i, j, k, Idx::gamtilde_LL_11))/std::pow(dx[0], 2);\n",
      "        amrex::Real dDDgamtilde_LLLL_1101 = ((4.0/9.0)*state_fab(i + 1, j + 1, k, Idx::gamtilde_LL_11) - 1.0/18.0*state_fab(i + 1, j + 2, k, Idx::gamtilde_LL_11) - 4.0/9.0*state_fab(i + 1, j - 1, k, Idx::gamtilde_LL_11) + (1.0/18.0)*state_fab(i + 1, j - 2, k, Idx::gamtilde_LL_11) - 1.0/18.0*state_fab(i + 2, j + 1, k, Idx::gamtilde_LL_11) + (1.0/144.0)*state_fab(i + 2, j + 2, k, Idx::gamtilde_LL_11) + (1.0/18.0)*state_fab(i + 2, j - 1, k, Idx::gamtilde_LL_11) - 1.0/144.0*state_fab(i + 2, j - 2, k, Idx::gamtilde_LL_11) - 4.0/9.0*state_fab(i - 1, j + 1, k, Idx::gamtilde_LL_11) + (1.0/18.0)*state_fab(i - 1, j + 2, k, Idx::gamtilde_LL_11) + (4.0/9.0)*state_fab(i - 1, j - 1, k, Idx::gamtilde_LL_11) - 1.0/18.0*state_fab(i - 1, j - 2, k, Idx::gamtilde_LL_11) + (1.0/18.0)*state_fab(i - 2, j + 1, k, Idx::gamtilde_LL_11) - 1.0/144.0*state_fab(i - 2, j + 2, k, Idx::gamtilde_LL_11) - 1.0/18.0*state_fab(i - 2, j - 1, k, Idx::gamtilde_LL_11) + (1.0/144.0)*state_fab(i - 2, j - 2, k, Idx::gamtilde_LL_11))/(dx[0]*dx[1]);\n",
      "        amrex::Real dDDgamtilde_LLLL_1102 = ((4.0/9.0)*state_fab(i + 1, j, k + 1, Idx::gamtilde_LL_11) - 1.0/18.0*state_fab(i + 1, j, k + 2, Idx::gamtilde_LL_11) - 4.0/9.0*state_fab(i + 1, j, k - 1, Idx::gamtilde_LL_11) + (1.0/18.0)*state_fab(i + 1, j, k - 2, Idx::gamtilde_LL_11) - 1.0/18.0*state_fab(i + 2, j, k + 1, Idx::gamtilde_LL_11) + (1.0/144.0)*state_fab(i + 2, j, k + 2, Idx::gamtilde_LL_11) + (1.0/18.0)*state_fab(i + 2, j, k - 1, Idx::gamtilde_LL_11) - 1.0/144.0*state_fab(i + 2, j, k - 2, Idx::gamtilde_LL_11) - 4.0/9.0*state_fab(i - 1, j, k + 1, Idx::gamtilde_LL_11) + (1.0/18.0)*state_fab(i - 1, j, k + 2, Idx::gamtilde_LL_11) + (4.0/9.0)*state_fab(i - 1, j, k - 1, Idx::gamtilde_LL_11) - 1.0/18.0*state_fab(i - 1, j, k - 2, Idx::gamtilde_LL_11) + (1.0/18.0)*state_fab(i - 2, j, k + 1, Idx::gamtilde_LL_11) - 1.0/144.0*state_fab(i - 2, j, k + 2, Idx::gamtilde_LL_11) - 1.0/18.0*state_fab(i - 2, j, k - 1, Idx::gamtilde_LL_11) + (1.0/144.0)*state_fab(i - 2, j, k - 2, Idx::gamtilde_LL_11))/(dx[0]*dx[2]);\n",
      "        amrex::Real dDDgamtilde_LLLL_1111 = ((4.0/3.0)*state_fab(i, j + 1, k, Idx::gamtilde_LL_11) - 1.0/12.0*state_fab(i, j + 2, k, Idx::gamtilde_LL_11) + (4.0/3.0)*state_fab(i, j - 1, k, Idx::gamtilde_LL_11) - 1.0/12.0*state_fab(i, j - 2, k, Idx::gamtilde_LL_11) - 5.0/2.0*state_fab(i, j, k, Idx::gamtilde_LL_11))/std::pow(dx[1], 2);\n",
      "        amrex::Real dDDgamtilde_LLLL_1112 = ((4.0/9.0)*state_fab(i, j + 1, k + 1, Idx::gamtilde_LL_11) - 1.0/18.0*state_fab(i, j + 1, k + 2, Idx::gamtilde_LL_11) - 4.0/9.0*state_fab(i, j + 1, k - 1, Idx::gamtilde_LL_11) + (1.0/18.0)*state_fab(i, j + 1, k - 2, Idx::gamtilde_LL_11) - 1.0/18.0*state_fab(i, j + 2, k + 1, Idx::gamtilde_LL_11) + (1.0/144.0)*state_fab(i, j + 2, k + 2, Idx::gamtilde_LL_11) + (1.0/18.0)*state_fab(i, j + 2, k - 1, Idx::gamtilde_LL_11) - 1.0/144.0*state_fab(i, j + 2, k - 2, Idx::gamtilde_LL_11) - 4.0/9.0*state_fab(i, j - 1, k + 1, Idx::gamtilde_LL_11) + (1.0/18.0)*state_fab(i, j - 1, k + 2, Idx::gamtilde_LL_11) + (4.0/9.0)*state_fab(i, j - 1, k - 1, Idx::gamtilde_LL_11) - 1.0/18.0*state_fab(i, j - 1, k - 2, Idx::gamtilde_LL_11) + (1.0/18.0)*state_fab(i, j - 2, k + 1, Idx::gamtilde_LL_11) - 1.0/144.0*state_fab(i, j - 2, k + 2, Idx::gamtilde_LL_11) - 1.0/18.0*state_fab(i, j - 2, k - 1, Idx::gamtilde_LL_11) + (1.0/144.0)*state_fab(i, j - 2, k - 2, Idx::gamtilde_LL_11))/(dx[1]*dx[2]);\n",
      "        amrex::Real dDDgamtilde_LLLL_1122 = ((4.0/3.0)*state_fab(i, j, k + 1, Idx::gamtilde_LL_11) - 1.0/12.0*state_fab(i, j, k + 2, Idx::gamtilde_LL_11) + (4.0/3.0)*state_fab(i, j, k - 1, Idx::gamtilde_LL_11) - 1.0/12.0*state_fab(i, j, k - 2, Idx::gamtilde_LL_11) - 5.0/2.0*state_fab(i, j, k, Idx::gamtilde_LL_11))/std::pow(dx[2], 2);\n",
      "        amrex::Real dDDgamtilde_LLLL_1200 = ((4.0/3.0)*state_fab(i + 1, j, k, Idx::gamtilde_LL_12) - 1.0/12.0*state_fab(i + 2, j, k, Idx::gamtilde_LL_12) + (4.0/3.0)*state_fab(i - 1, j, k, Idx::gamtilde_LL_12) - 1.0/12.0*state_fab(i - 2, j, k, Idx::gamtilde_LL_12) - 5.0/2.0*state_fab(i, j, k, Idx::gamtilde_LL_12))/std::pow(dx[0], 2);\n",
      "        amrex::Real dDDgamtilde_LLLL_1201 = ((4.0/9.0)*state_fab(i + 1, j + 1, k, Idx::gamtilde_LL_12) - 1.0/18.0*state_fab(i + 1, j + 2, k, Idx::gamtilde_LL_12) - 4.0/9.0*state_fab(i + 1, j - 1, k, Idx::gamtilde_LL_12) + (1.0/18.0)*state_fab(i + 1, j - 2, k, Idx::gamtilde_LL_12) - 1.0/18.0*state_fab(i + 2, j + 1, k, Idx::gamtilde_LL_12) + (1.0/144.0)*state_fab(i + 2, j + 2, k, Idx::gamtilde_LL_12) + (1.0/18.0)*state_fab(i + 2, j - 1, k, Idx::gamtilde_LL_12) - 1.0/144.0*state_fab(i + 2, j - 2, k, Idx::gamtilde_LL_12) - 4.0/9.0*state_fab(i - 1, j + 1, k, Idx::gamtilde_LL_12) + (1.0/18.0)*state_fab(i - 1, j + 2, k, Idx::gamtilde_LL_12) + (4.0/9.0)*state_fab(i - 1, j - 1, k, Idx::gamtilde_LL_12) - 1.0/18.0*state_fab(i - 1, j - 2, k, Idx::gamtilde_LL_12) + (1.0/18.0)*state_fab(i - 2, j + 1, k, Idx::gamtilde_LL_12) - 1.0/144.0*state_fab(i - 2, j + 2, k, Idx::gamtilde_LL_12) - 1.0/18.0*state_fab(i - 2, j - 1, k, Idx::gamtilde_LL_12) + (1.0/144.0)*state_fab(i - 2, j - 2, k, Idx::gamtilde_LL_12))/(dx[0]*dx[1]);\n",
      "        amrex::Real dDDgamtilde_LLLL_1202 = ((4.0/9.0)*state_fab(i + 1, j, k + 1, Idx::gamtilde_LL_12) - 1.0/18.0*state_fab(i + 1, j, k + 2, Idx::gamtilde_LL_12) - 4.0/9.0*state_fab(i + 1, j, k - 1, Idx::gamtilde_LL_12) + (1.0/18.0)*state_fab(i + 1, j, k - 2, Idx::gamtilde_LL_12) - 1.0/18.0*state_fab(i + 2, j, k + 1, Idx::gamtilde_LL_12) + (1.0/144.0)*state_fab(i + 2, j, k + 2, Idx::gamtilde_LL_12) + (1.0/18.0)*state_fab(i + 2, j, k - 1, Idx::gamtilde_LL_12) - 1.0/144.0*state_fab(i + 2, j, k - 2, Idx::gamtilde_LL_12) - 4.0/9.0*state_fab(i - 1, j, k + 1, Idx::gamtilde_LL_12) + (1.0/18.0)*state_fab(i - 1, j, k + 2, Idx::gamtilde_LL_12) + (4.0/9.0)*state_fab(i - 1, j, k - 1, Idx::gamtilde_LL_12) - 1.0/18.0*state_fab(i - 1, j, k - 2, Idx::gamtilde_LL_12) + (1.0/18.0)*state_fab(i - 2, j, k + 1, Idx::gamtilde_LL_12) - 1.0/144.0*state_fab(i - 2, j, k + 2, Idx::gamtilde_LL_12) - 1.0/18.0*state_fab(i - 2, j, k - 1, Idx::gamtilde_LL_12) + (1.0/144.0)*state_fab(i - 2, j, k - 2, Idx::gamtilde_LL_12))/(dx[0]*dx[2]);\n",
      "        amrex::Real dDDgamtilde_LLLL_1211 = ((4.0/3.0)*state_fab(i, j + 1, k, Idx::gamtilde_LL_12) - 1.0/12.0*state_fab(i, j + 2, k, Idx::gamtilde_LL_12) + (4.0/3.0)*state_fab(i, j - 1, k, Idx::gamtilde_LL_12) - 1.0/12.0*state_fab(i, j - 2, k, Idx::gamtilde_LL_12) - 5.0/2.0*state_fab(i, j, k, Idx::gamtilde_LL_12))/std::pow(dx[1], 2);\n",
      "        amrex::Real dDDgamtilde_LLLL_1212 = ((4.0/9.0)*state_fab(i, j + 1, k + 1, Idx::gamtilde_LL_12) - 1.0/18.0*state_fab(i, j + 1, k + 2, Idx::gamtilde_LL_12) - 4.0/9.0*state_fab(i, j + 1, k - 1, Idx::gamtilde_LL_12) + (1.0/18.0)*state_fab(i, j + 1, k - 2, Idx::gamtilde_LL_12) - 1.0/18.0*state_fab(i, j + 2, k + 1, Idx::gamtilde_LL_12) + (1.0/144.0)*state_fab(i, j + 2, k + 2, Idx::gamtilde_LL_12) + (1.0/18.0)*state_fab(i, j + 2, k - 1, Idx::gamtilde_LL_12) - 1.0/144.0*state_fab(i, j + 2, k - 2, Idx::gamtilde_LL_12) - 4.0/9.0*state_fab(i, j - 1, k + 1, Idx::gamtilde_LL_12) + (1.0/18.0)*state_fab(i, j - 1, k + 2, Idx::gamtilde_LL_12) + (4.0/9.0)*state_fab(i, j - 1, k - 1, Idx::gamtilde_LL_12) - 1.0/18.0*state_fab(i, j - 1, k - 2, Idx::gamtilde_LL_12) + (1.0/18.0)*state_fab(i, j - 2, k + 1, Idx::gamtilde_LL_12) - 1.0/144.0*state_fab(i, j - 2, k + 2, Idx::gamtilde_LL_12) - 1.0/18.0*state_fab(i, j - 2, k - 1, Idx::gamtilde_LL_12) + (1.0/144.0)*state_fab(i, j - 2, k - 2, Idx::gamtilde_LL_12))/(dx[1]*dx[2]);\n",
      "        amrex::Real dDDgamtilde_LLLL_1222 = ((4.0/3.0)*state_fab(i, j, k + 1, Idx::gamtilde_LL_12) - 1.0/12.0*state_fab(i, j, k + 2, Idx::gamtilde_LL_12) + (4.0/3.0)*state_fab(i, j, k - 1, Idx::gamtilde_LL_12) - 1.0/12.0*state_fab(i, j, k - 2, Idx::gamtilde_LL_12) - 5.0/2.0*state_fab(i, j, k, Idx::gamtilde_LL_12))/std::pow(dx[2], 2);\n",
      "        amrex::Real dDDgamtilde_LLLL_2200 = ((4.0/3.0)*state_fab(i + 1, j, k, Idx::gamtilde_LL_22) - 1.0/12.0*state_fab(i + 2, j, k, Idx::gamtilde_LL_22) + (4.0/3.0)*state_fab(i - 1, j, k, Idx::gamtilde_LL_22) - 1.0/12.0*state_fab(i - 2, j, k, Idx::gamtilde_LL_22) - 5.0/2.0*state_fab(i, j, k, Idx::gamtilde_LL_22))/std::pow(dx[0], 2);\n",
      "        amrex::Real dDDgamtilde_LLLL_2201 = ((4.0/9.0)*state_fab(i + 1, j + 1, k, Idx::gamtilde_LL_22) - 1.0/18.0*state_fab(i + 1, j + 2, k, Idx::gamtilde_LL_22) - 4.0/9.0*state_fab(i + 1, j - 1, k, Idx::gamtilde_LL_22) + (1.0/18.0)*state_fab(i + 1, j - 2, k, Idx::gamtilde_LL_22) - 1.0/18.0*state_fab(i + 2, j + 1, k, Idx::gamtilde_LL_22) + (1.0/144.0)*state_fab(i + 2, j + 2, k, Idx::gamtilde_LL_22) + (1.0/18.0)*state_fab(i + 2, j - 1, k, Idx::gamtilde_LL_22) - 1.0/144.0*state_fab(i + 2, j - 2, k, Idx::gamtilde_LL_22) - 4.0/9.0*state_fab(i - 1, j + 1, k, Idx::gamtilde_LL_22) + (1.0/18.0)*state_fab(i - 1, j + 2, k, Idx::gamtilde_LL_22) + (4.0/9.0)*state_fab(i - 1, j - 1, k, Idx::gamtilde_LL_22) - 1.0/18.0*state_fab(i - 1, j - 2, k, Idx::gamtilde_LL_22) + (1.0/18.0)*state_fab(i - 2, j + 1, k, Idx::gamtilde_LL_22) - 1.0/144.0*state_fab(i - 2, j + 2, k, Idx::gamtilde_LL_22) - 1.0/18.0*state_fab(i - 2, j - 1, k, Idx::gamtilde_LL_22) + (1.0/144.0)*state_fab(i - 2, j - 2, k, Idx::gamtilde_LL_22))/(dx[0]*dx[1]);\n",
      "        amrex::Real dDDgamtilde_LLLL_2202 = ((4.0/9.0)*state_fab(i + 1, j, k + 1, Idx::gamtilde_LL_22) - 1.0/18.0*state_fab(i + 1, j, k + 2, Idx::gamtilde_LL_22) - 4.0/9.0*state_fab(i + 1, j, k - 1, Idx::gamtilde_LL_22) + (1.0/18.0)*state_fab(i + 1, j, k - 2, Idx::gamtilde_LL_22) - 1.0/18.0*state_fab(i + 2, j, k + 1, Idx::gamtilde_LL_22) + (1.0/144.0)*state_fab(i + 2, j, k + 2, Idx::gamtilde_LL_22) + (1.0/18.0)*state_fab(i + 2, j, k - 1, Idx::gamtilde_LL_22) - 1.0/144.0*state_fab(i + 2, j, k - 2, Idx::gamtilde_LL_22) - 4.0/9.0*state_fab(i - 1, j, k + 1, Idx::gamtilde_LL_22) + (1.0/18.0)*state_fab(i - 1, j, k + 2, Idx::gamtilde_LL_22) + (4.0/9.0)*state_fab(i - 1, j, k - 1, Idx::gamtilde_LL_22) - 1.0/18.0*state_fab(i - 1, j, k - 2, Idx::gamtilde_LL_22) + (1.0/18.0)*state_fab(i - 2, j, k + 1, Idx::gamtilde_LL_22) - 1.0/144.0*state_fab(i - 2, j, k + 2, Idx::gamtilde_LL_22) - 1.0/18.0*state_fab(i - 2, j, k - 1, Idx::gamtilde_LL_22) + (1.0/144.0)*state_fab(i - 2, j, k - 2, Idx::gamtilde_LL_22))/(dx[0]*dx[2]);\n",
      "        amrex::Real dDDgamtilde_LLLL_2211 = ((4.0/3.0)*state_fab(i, j + 1, k, Idx::gamtilde_LL_22) - 1.0/12.0*state_fab(i, j + 2, k, Idx::gamtilde_LL_22) + (4.0/3.0)*state_fab(i, j - 1, k, Idx::gamtilde_LL_22) - 1.0/12.0*state_fab(i, j - 2, k, Idx::gamtilde_LL_22) - 5.0/2.0*state_fab(i, j, k, Idx::gamtilde_LL_22))/std::pow(dx[1], 2);\n",
      "        amrex::Real dDDgamtilde_LLLL_2212 = ((4.0/9.0)*state_fab(i, j + 1, k + 1, Idx::gamtilde_LL_22) - 1.0/18.0*state_fab(i, j + 1, k + 2, Idx::gamtilde_LL_22) - 4.0/9.0*state_fab(i, j + 1, k - 1, Idx::gamtilde_LL_22) + (1.0/18.0)*state_fab(i, j + 1, k - 2, Idx::gamtilde_LL_22) - 1.0/18.0*state_fab(i, j + 2, k + 1, Idx::gamtilde_LL_22) + (1.0/144.0)*state_fab(i, j + 2, k + 2, Idx::gamtilde_LL_22) + (1.0/18.0)*state_fab(i, j + 2, k - 1, Idx::gamtilde_LL_22) - 1.0/144.0*state_fab(i, j + 2, k - 2, Idx::gamtilde_LL_22) - 4.0/9.0*state_fab(i, j - 1, k + 1, Idx::gamtilde_LL_22) + (1.0/18.0)*state_fab(i, j - 1, k + 2, Idx::gamtilde_LL_22) + (4.0/9.0)*state_fab(i, j - 1, k - 1, Idx::gamtilde_LL_22) - 1.0/18.0*state_fab(i, j - 1, k - 2, Idx::gamtilde_LL_22) + (1.0/18.0)*state_fab(i, j - 2, k + 1, Idx::gamtilde_LL_22) - 1.0/144.0*state_fab(i, j - 2, k + 2, Idx::gamtilde_LL_22) - 1.0/18.0*state_fab(i, j - 2, k - 1, Idx::gamtilde_LL_22) + (1.0/144.0)*state_fab(i, j - 2, k - 2, Idx::gamtilde_LL_22))/(dx[1]*dx[2]);\n",
      "        amrex::Real dDDgamtilde_LLLL_2222 = ((4.0/3.0)*state_fab(i, j, k + 1, Idx::gamtilde_LL_22) - 1.0/12.0*state_fab(i, j, k + 2, Idx::gamtilde_LL_22) + (4.0/3.0)*state_fab(i, j, k - 1, Idx::gamtilde_LL_22) - 1.0/12.0*state_fab(i, j, k - 2, Idx::gamtilde_LL_22) - 5.0/2.0*state_fab(i, j, k, Idx::gamtilde_LL_22))/std::pow(dx[2], 2);\n",
      "\n",
      "        amrex::Real dDAtilde_LLL_000 = ((2.0/3.0)*state_fab(i + 1, j, k, Idx::Atilde_LL_00) - 1.0/12.0*state_fab(i + 2, j, k, Idx::Atilde_LL_00) - 2.0/3.0*state_fab(i - 1, j, k, Idx::Atilde_LL_00) + (1.0/12.0)*state_fab(i - 2, j, k, Idx::Atilde_LL_00))/dx[0];\n",
      "        amrex::Real dDAtilde_LLL_001 = ((2.0/3.0)*state_fab(i, j + 1, k, Idx::Atilde_LL_00) - 1.0/12.0*state_fab(i, j + 2, k, Idx::Atilde_LL_00) - 2.0/3.0*state_fab(i, j - 1, k, Idx::Atilde_LL_00) + (1.0/12.0)*state_fab(i, j - 2, k, Idx::Atilde_LL_00))/dx[1];\n",
      "        amrex::Real dDAtilde_LLL_002 = ((2.0/3.0)*state_fab(i, j, k + 1, Idx::Atilde_LL_00) - 1.0/12.0*state_fab(i, j, k + 2, Idx::Atilde_LL_00) - 2.0/3.0*state_fab(i, j, k - 1, Idx::Atilde_LL_00) + (1.0/12.0)*state_fab(i, j, k - 2, Idx::Atilde_LL_00))/dx[2];\n",
      "        amrex::Real dDAtilde_LLL_010 = ((2.0/3.0)*state_fab(i + 1, j, k, Idx::Atilde_LL_01) - 1.0/12.0*state_fab(i + 2, j, k, Idx::Atilde_LL_01) - 2.0/3.0*state_fab(i - 1, j, k, Idx::Atilde_LL_01) + (1.0/12.0)*state_fab(i - 2, j, k, Idx::Atilde_LL_01))/dx[0];\n",
      "        amrex::Real dDAtilde_LLL_011 = ((2.0/3.0)*state_fab(i, j + 1, k, Idx::Atilde_LL_01) - 1.0/12.0*state_fab(i, j + 2, k, Idx::Atilde_LL_01) - 2.0/3.0*state_fab(i, j - 1, k, Idx::Atilde_LL_01) + (1.0/12.0)*state_fab(i, j - 2, k, Idx::Atilde_LL_01))/dx[1];\n",
      "        amrex::Real dDAtilde_LLL_012 = ((2.0/3.0)*state_fab(i, j, k + 1, Idx::Atilde_LL_01) - 1.0/12.0*state_fab(i, j, k + 2, Idx::Atilde_LL_01) - 2.0/3.0*state_fab(i, j, k - 1, Idx::Atilde_LL_01) + (1.0/12.0)*state_fab(i, j, k - 2, Idx::Atilde_LL_01))/dx[2];\n",
      "        amrex::Real dDAtilde_LLL_020 = ((2.0/3.0)*state_fab(i + 1, j, k, Idx::Atilde_LL_02) - 1.0/12.0*state_fab(i + 2, j, k, Idx::Atilde_LL_02) - 2.0/3.0*state_fab(i - 1, j, k, Idx::Atilde_LL_02) + (1.0/12.0)*state_fab(i - 2, j, k, Idx::Atilde_LL_02))/dx[0];\n",
      "        amrex::Real dDAtilde_LLL_021 = ((2.0/3.0)*state_fab(i, j + 1, k, Idx::Atilde_LL_02) - 1.0/12.0*state_fab(i, j + 2, k, Idx::Atilde_LL_02) - 2.0/3.0*state_fab(i, j - 1, k, Idx::Atilde_LL_02) + (1.0/12.0)*state_fab(i, j - 2, k, Idx::Atilde_LL_02))/dx[1];\n",
      "        amrex::Real dDAtilde_LLL_022 = ((2.0/3.0)*state_fab(i, j, k + 1, Idx::Atilde_LL_02) - 1.0/12.0*state_fab(i, j, k + 2, Idx::Atilde_LL_02) - 2.0/3.0*state_fab(i, j, k - 1, Idx::Atilde_LL_02) + (1.0/12.0)*state_fab(i, j, k - 2, Idx::Atilde_LL_02))/dx[2];\n",
      "        amrex::Real dDAtilde_LLL_110 = ((2.0/3.0)*state_fab(i + 1, j, k, Idx::Atilde_LL_11) - 1.0/12.0*state_fab(i + 2, j, k, Idx::Atilde_LL_11) - 2.0/3.0*state_fab(i - 1, j, k, Idx::Atilde_LL_11) + (1.0/12.0)*state_fab(i - 2, j, k, Idx::Atilde_LL_11))/dx[0];\n",
      "        amrex::Real dDAtilde_LLL_111 = ((2.0/3.0)*state_fab(i, j + 1, k, Idx::Atilde_LL_11) - 1.0/12.0*state_fab(i, j + 2, k, Idx::Atilde_LL_11) - 2.0/3.0*state_fab(i, j - 1, k, Idx::Atilde_LL_11) + (1.0/12.0)*state_fab(i, j - 2, k, Idx::Atilde_LL_11))/dx[1];\n",
      "        amrex::Real dDAtilde_LLL_112 = ((2.0/3.0)*state_fab(i, j, k + 1, Idx::Atilde_LL_11) - 1.0/12.0*state_fab(i, j, k + 2, Idx::Atilde_LL_11) - 2.0/3.0*state_fab(i, j, k - 1, Idx::Atilde_LL_11) + (1.0/12.0)*state_fab(i, j, k - 2, Idx::Atilde_LL_11))/dx[2];\n",
      "        amrex::Real dDAtilde_LLL_120 = ((2.0/3.0)*state_fab(i + 1, j, k, Idx::Atilde_LL_12) - 1.0/12.0*state_fab(i + 2, j, k, Idx::Atilde_LL_12) - 2.0/3.0*state_fab(i - 1, j, k, Idx::Atilde_LL_12) + (1.0/12.0)*state_fab(i - 2, j, k, Idx::Atilde_LL_12))/dx[0];\n",
      "        amrex::Real dDAtilde_LLL_121 = ((2.0/3.0)*state_fab(i, j + 1, k, Idx::Atilde_LL_12) - 1.0/12.0*state_fab(i, j + 2, k, Idx::Atilde_LL_12) - 2.0/3.0*state_fab(i, j - 1, k, Idx::Atilde_LL_12) + (1.0/12.0)*state_fab(i, j - 2, k, Idx::Atilde_LL_12))/dx[1];\n",
      "        amrex::Real dDAtilde_LLL_122 = ((2.0/3.0)*state_fab(i, j, k + 1, Idx::Atilde_LL_12) - 1.0/12.0*state_fab(i, j, k + 2, Idx::Atilde_LL_12) - 2.0/3.0*state_fab(i, j, k - 1, Idx::Atilde_LL_12) + (1.0/12.0)*state_fab(i, j, k - 2, Idx::Atilde_LL_12))/dx[2];\n",
      "        amrex::Real dDAtilde_LLL_220 = ((2.0/3.0)*state_fab(i + 1, j, k, Idx::Atilde_LL_22) - 1.0/12.0*state_fab(i + 2, j, k, Idx::Atilde_LL_22) - 2.0/3.0*state_fab(i - 1, j, k, Idx::Atilde_LL_22) + (1.0/12.0)*state_fab(i - 2, j, k, Idx::Atilde_LL_22))/dx[0];\n",
      "        amrex::Real dDAtilde_LLL_221 = ((2.0/3.0)*state_fab(i, j + 1, k, Idx::Atilde_LL_22) - 1.0/12.0*state_fab(i, j + 2, k, Idx::Atilde_LL_22) - 2.0/3.0*state_fab(i, j - 1, k, Idx::Atilde_LL_22) + (1.0/12.0)*state_fab(i, j - 2, k, Idx::Atilde_LL_22))/dx[1];\n",
      "        amrex::Real dDAtilde_LLL_222 = ((2.0/3.0)*state_fab(i, j, k + 1, Idx::Atilde_LL_22) - 1.0/12.0*state_fab(i, j, k + 2, Idx::Atilde_LL_22) - 2.0/3.0*state_fab(i, j, k - 1, Idx::Atilde_LL_22) + (1.0/12.0)*state_fab(i, j, k - 2, Idx::Atilde_LL_22))/dx[2];\n",
      "\n",
      "        amrex::Real dDKhat_L_0 = ((2.0/3.0)*state_fab(i + 1, j, k, Idx::Khat) - 1.0/12.0*state_fab(i + 2, j, k, Idx::Khat) - 2.0/3.0*state_fab(i - 1, j, k, Idx::Khat) + (1.0/12.0)*state_fab(i - 2, j, k, Idx::Khat))/dx[0];\n",
      "        amrex::Real dDKhat_L_1 = ((2.0/3.0)*state_fab(i, j + 1, k, Idx::Khat) - 1.0/12.0*state_fab(i, j + 2, k, Idx::Khat) - 2.0/3.0*state_fab(i, j - 1, k, Idx::Khat) + (1.0/12.0)*state_fab(i, j - 2, k, Idx::Khat))/dx[1];\n",
      "        amrex::Real dDKhat_L_2 = ((2.0/3.0)*state_fab(i, j, k + 1, Idx::Khat) - 1.0/12.0*state_fab(i, j, k + 2, Idx::Khat) - 2.0/3.0*state_fab(i, j, k - 1, Idx::Khat) + (1.0/12.0)*state_fab(i, j, k - 2, Idx::Khat))/dx[2];\n",
      "\n",
      "        amrex::Real dDtheta_L_0 = ((2.0/3.0)*state_fab(i + 1, j, k, Idx::theta) - 1.0/12.0*state_fab(i + 2, j, k, Idx::theta) - 2.0/3.0*state_fab(i - 1, j, k, Idx::theta) + (1.0/12.0)*state_fab(i - 2, j, k, Idx::theta))/dx[0];\n",
      "        amrex::Real dDtheta_L_1 = ((2.0/3.0)*state_fab(i, j + 1, k, Idx::theta) - 1.0/12.0*state_fab(i, j + 2, k, Idx::theta) - 2.0/3.0*state_fab(i, j - 1, k, Idx::theta) + (1.0/12.0)*state_fab(i, j - 2, k, Idx::theta))/dx[1];\n",
      "        amrex::Real dDtheta_L_2 = ((2.0/3.0)*state_fab(i, j, k + 1, Idx::theta) - 1.0/12.0*state_fab(i, j, k + 2, Idx::theta) - 2.0/3.0*state_fab(i, j, k - 1, Idx::theta) + (1.0/12.0)*state_fab(i, j, k - 2, Idx::theta))/dx[2];\n",
      "\n",
      "        amrex::Real invgamtilde_UU_00 = (gamtilde_LL_11*gamtilde_LL_22 - std::pow(gamtilde_LL_12, 2))/(gamtilde_LL_00*gamtilde_LL_11*gamtilde_LL_22 - gamtilde_LL_00*std::pow(gamtilde_LL_12, 2) - std::pow(gamtilde_LL_01, 2)*gamtilde_LL_22 + 2*gamtilde_LL_01*gamtilde_LL_02*gamtilde_LL_12 - std::pow(gamtilde_LL_02, 2)*gamtilde_LL_11);\n",
      "        amrex::Real invgamtilde_UU_01 = (-gamtilde_LL_01*gamtilde_LL_22 + gamtilde_LL_02*gamtilde_LL_12)/(gamtilde_LL_00*gamtilde_LL_11*gamtilde_LL_22 - gamtilde_LL_00*std::pow(gamtilde_LL_12, 2) - std::pow(gamtilde_LL_01, 2)*gamtilde_LL_22 + 2*gamtilde_LL_01*gamtilde_LL_02*gamtilde_LL_12 - std::pow(gamtilde_LL_02, 2)*gamtilde_LL_11);\n",
      "        amrex::Real invgamtilde_UU_02 = (gamtilde_LL_01*gamtilde_LL_12 - gamtilde_LL_02*gamtilde_LL_11)/(gamtilde_LL_00*gamtilde_LL_11*gamtilde_LL_22 - gamtilde_LL_00*std::pow(gamtilde_LL_12, 2) - std::pow(gamtilde_LL_01, 2)*gamtilde_LL_22 + 2*gamtilde_LL_01*gamtilde_LL_02*gamtilde_LL_12 - std::pow(gamtilde_LL_02, 2)*gamtilde_LL_11);\n",
      "        amrex::Real invgamtilde_UU_11 = (gamtilde_LL_00*gamtilde_LL_22 - std::pow(gamtilde_LL_02, 2))/(gamtilde_LL_00*gamtilde_LL_11*gamtilde_LL_22 - gamtilde_LL_00*std::pow(gamtilde_LL_12, 2) - std::pow(gamtilde_LL_01, 2)*gamtilde_LL_22 + 2*gamtilde_LL_01*gamtilde_LL_02*gamtilde_LL_12 - std::pow(gamtilde_LL_02, 2)*gamtilde_LL_11);\n",
      "        amrex::Real invgamtilde_UU_12 = (-gamtilde_LL_00*gamtilde_LL_12 + gamtilde_LL_01*gamtilde_LL_02)/(gamtilde_LL_00*gamtilde_LL_11*gamtilde_LL_22 - gamtilde_LL_00*std::pow(gamtilde_LL_12, 2) - std::pow(gamtilde_LL_01, 2)*gamtilde_LL_22 + 2*gamtilde_LL_01*gamtilde_LL_02*gamtilde_LL_12 - std::pow(gamtilde_LL_02, 2)*gamtilde_LL_11);\n",
      "        amrex::Real invgamtilde_UU_22 = (gamtilde_LL_00*gamtilde_LL_11 - std::pow(gamtilde_LL_01, 2))/(gamtilde_LL_00*gamtilde_LL_11*gamtilde_LL_22 - gamtilde_LL_00*std::pow(gamtilde_LL_12, 2) - std::pow(gamtilde_LL_01, 2)*gamtilde_LL_22 + 2*gamtilde_LL_01*gamtilde_LL_02*gamtilde_LL_12 - std::pow(gamtilde_LL_02, 2)*gamtilde_LL_11);\n",
      "\n",
      "        amrex::Real Christoffelgamtilde_LLL_000 = 0.5*dDgamtilde_LLL_000;\n",
      "        amrex::Real Christoffelgamtilde_LLL_001 = 0.5*dDgamtilde_LLL_001;\n",
      "        amrex::Real Christoffelgamtilde_LLL_002 = 0.5*dDgamtilde_LLL_002;\n",
      "        amrex::Real Christoffelgamtilde_LLL_011 = 1.0*dDgamtilde_LLL_011 - 0.5*dDgamtilde_LLL_110;\n",
      "        amrex::Real Christoffelgamtilde_LLL_012 = 0.5*dDgamtilde_LLL_012 + 0.5*dDgamtilde_LLL_021 - 0.5*dDgamtilde_LLL_120;\n",
      "        amrex::Real Christoffelgamtilde_LLL_022 = 1.0*dDgamtilde_LLL_022 - 0.5*dDgamtilde_LLL_220;\n",
      "        amrex::Real Christoffelgamtilde_LLL_100 = -0.5*dDgamtilde_LLL_001 + 1.0*dDgamtilde_LLL_010;\n",
      "        amrex::Real Christoffelgamtilde_LLL_101 = 0.5*dDgamtilde_LLL_110;\n",
      "        amrex::Real Christoffelgamtilde_LLL_102 = 0.5*dDgamtilde_LLL_012 - 0.5*dDgamtilde_LLL_021 + 0.5*dDgamtilde_LLL_120;\n",
      "        amrex::Real Christoffelgamtilde_LLL_111 = 0.5*dDgamtilde_LLL_111;\n",
      "        amrex::Real Christoffelgamtilde_LLL_112 = 0.5*dDgamtilde_LLL_112;\n",
      "        amrex::Real Christoffelgamtilde_LLL_122 = 1.0*dDgamtilde_LLL_122 - 0.5*dDgamtilde_LLL_221;\n",
      "        amrex::Real Christoffelgamtilde_LLL_200 = -0.5*dDgamtilde_LLL_002 + 1.0*dDgamtilde_LLL_020;\n",
      "        amrex::Real Christoffelgamtilde_LLL_201 = -0.5*dDgamtilde_LLL_012 + 0.5*dDgamtilde_LLL_021 + 0.5*dDgamtilde_LLL_120;\n",
      "        amrex::Real Christoffelgamtilde_LLL_202 = 0.5*dDgamtilde_LLL_220;\n",
      "        amrex::Real Christoffelgamtilde_LLL_211 = -0.5*dDgamtilde_LLL_112 + 1.0*dDgamtilde_LLL_121;\n",
      "        amrex::Real Christoffelgamtilde_LLL_212 = 0.5*dDgamtilde_LLL_221;\n",
      "        amrex::Real Christoffelgamtilde_LLL_222 = 0.5*dDgamtilde_LLL_222;\n",
      "\n",
      "        amrex::Real Christoffelgamtilde_ULL_000 = Christoffelgamtilde_LLL_000*invgamtilde_UU_00 + Christoffelgamtilde_LLL_100*invgamtilde_UU_01 + Christoffelgamtilde_LLL_200*invgamtilde_UU_02;\n",
      "        amrex::Real Christoffelgamtilde_ULL_001 = Christoffelgamtilde_LLL_001*invgamtilde_UU_00 + Christoffelgamtilde_LLL_101*invgamtilde_UU_01 + Christoffelgamtilde_LLL_201*invgamtilde_UU_02;\n",
      "        amrex::Real Christoffelgamtilde_ULL_002 = Christoffelgamtilde_LLL_002*invgamtilde_UU_00 + Christoffelgamtilde_LLL_102*invgamtilde_UU_01 + Christoffelgamtilde_LLL_202*invgamtilde_UU_02;\n",
      "        amrex::Real Christoffelgamtilde_ULL_011 = Christoffelgamtilde_LLL_011*invgamtilde_UU_00 + Christoffelgamtilde_LLL_111*invgamtilde_UU_01 + Christoffelgamtilde_LLL_211*invgamtilde_UU_02;\n",
      "        amrex::Real Christoffelgamtilde_ULL_012 = Christoffelgamtilde_LLL_012*invgamtilde_UU_00 + Christoffelgamtilde_LLL_112*invgamtilde_UU_01 + Christoffelgamtilde_LLL_212*invgamtilde_UU_02;\n",
      "        amrex::Real Christoffelgamtilde_ULL_022 = Christoffelgamtilde_LLL_022*invgamtilde_UU_00 + Christoffelgamtilde_LLL_122*invgamtilde_UU_01 + Christoffelgamtilde_LLL_222*invgamtilde_UU_02;\n",
      "        amrex::Real Christoffelgamtilde_ULL_100 = Christoffelgamtilde_LLL_000*invgamtilde_UU_01 + Christoffelgamtilde_LLL_100*invgamtilde_UU_11 + Christoffelgamtilde_LLL_200*invgamtilde_UU_12;\n",
      "        amrex::Real Christoffelgamtilde_ULL_101 = Christoffelgamtilde_LLL_001*invgamtilde_UU_01 + Christoffelgamtilde_LLL_101*invgamtilde_UU_11 + Christoffelgamtilde_LLL_201*invgamtilde_UU_12;\n",
      "        amrex::Real Christoffelgamtilde_ULL_102 = Christoffelgamtilde_LLL_002*invgamtilde_UU_01 + Christoffelgamtilde_LLL_102*invgamtilde_UU_11 + Christoffelgamtilde_LLL_202*invgamtilde_UU_12;\n",
      "        amrex::Real Christoffelgamtilde_ULL_111 = Christoffelgamtilde_LLL_011*invgamtilde_UU_01 + Christoffelgamtilde_LLL_111*invgamtilde_UU_11 + Christoffelgamtilde_LLL_211*invgamtilde_UU_12;\n",
      "        amrex::Real Christoffelgamtilde_ULL_112 = Christoffelgamtilde_LLL_012*invgamtilde_UU_01 + Christoffelgamtilde_LLL_112*invgamtilde_UU_11 + Christoffelgamtilde_LLL_212*invgamtilde_UU_12;\n",
      "        amrex::Real Christoffelgamtilde_ULL_122 = Christoffelgamtilde_LLL_022*invgamtilde_UU_01 + Christoffelgamtilde_LLL_122*invgamtilde_UU_11 + Christoffelgamtilde_LLL_222*invgamtilde_UU_12;\n",
      "        amrex::Real Christoffelgamtilde_ULL_200 = Christoffelgamtilde_LLL_000*invgamtilde_UU_02 + Christoffelgamtilde_LLL_100*invgamtilde_UU_12 + Christoffelgamtilde_LLL_200*invgamtilde_UU_22;\n",
      "        amrex::Real Christoffelgamtilde_ULL_201 = Christoffelgamtilde_LLL_001*invgamtilde_UU_02 + Christoffelgamtilde_LLL_101*invgamtilde_UU_12 + Christoffelgamtilde_LLL_201*invgamtilde_UU_22;\n",
      "        amrex::Real Christoffelgamtilde_ULL_202 = Christoffelgamtilde_LLL_002*invgamtilde_UU_02 + Christoffelgamtilde_LLL_102*invgamtilde_UU_12 + Christoffelgamtilde_LLL_202*invgamtilde_UU_22;\n",
      "        amrex::Real Christoffelgamtilde_ULL_211 = Christoffelgamtilde_LLL_011*invgamtilde_UU_02 + Christoffelgamtilde_LLL_111*invgamtilde_UU_12 + Christoffelgamtilde_LLL_211*invgamtilde_UU_22;\n",
      "        amrex::Real Christoffelgamtilde_ULL_212 = Christoffelgamtilde_LLL_012*invgamtilde_UU_02 + Christoffelgamtilde_LLL_112*invgamtilde_UU_12 + Christoffelgamtilde_LLL_212*invgamtilde_UU_22;\n",
      "        amrex::Real Christoffelgamtilde_ULL_222 = Christoffelgamtilde_LLL_022*invgamtilde_UU_02 + Christoffelgamtilde_LLL_122*invgamtilde_UU_12 + Christoffelgamtilde_LLL_222*invgamtilde_UU_22;\n",
      "\n",
      "        amrex::Real ConformalChristoffelchigamtilde_ULL_000 = Christoffelgamtilde_ULL_000 + 0.5*dDchi_L_0*gamtilde_LL_00*invgamtilde_UU_00/chi - 1.0*dDchi_L_0/chi + 0.5*dDchi_L_1*gamtilde_LL_00*invgamtilde_UU_01/chi + 0.5*dDchi_L_2*gamtilde_LL_00*invgamtilde_UU_02/chi;\n",
      "        amrex::Real ConformalChristoffelchigamtilde_ULL_001 = Christoffelgamtilde_ULL_001 + 0.5*dDchi_L_0*gamtilde_LL_01*invgamtilde_UU_00/chi + 0.5*dDchi_L_1*gamtilde_LL_01*invgamtilde_UU_01/chi - 0.5*dDchi_L_1/chi + 0.5*dDchi_L_2*gamtilde_LL_01*invgamtilde_UU_02/chi;\n",
      "        amrex::Real ConformalChristoffelchigamtilde_ULL_002 = Christoffelgamtilde_ULL_002 + 0.5*dDchi_L_0*gamtilde_LL_02*invgamtilde_UU_00/chi + 0.5*dDchi_L_1*gamtilde_LL_02*invgamtilde_UU_01/chi + 0.5*dDchi_L_2*gamtilde_LL_02*invgamtilde_UU_02/chi - 0.5*dDchi_L_2/chi;\n",
      "        amrex::Real ConformalChristoffelchigamtilde_ULL_011 = Christoffelgamtilde_ULL_011 + 0.5*dDchi_L_0*gamtilde_LL_11*invgamtilde_UU_00/chi + 0.5*dDchi_L_1*gamtilde_LL_11*invgamtilde_UU_01/chi + 0.5*dDchi_L_2*gamtilde_LL_11*invgamtilde_UU_02/chi;\n",
      "        amrex::Real ConformalChristoffelchigamtilde_ULL_012 = Christoffelgamtilde_ULL_012 + 0.5*dDchi_L_0*gamtilde_LL_12*invgamtilde_UU_00/chi + 0.5*dDchi_L_1*gamtilde_LL_12*invgamtilde_UU_01/chi + 0.5*dDchi_L_2*gamtilde_LL_12*invgamtilde_UU_02/chi;\n",
      "        amrex::Real ConformalChristoffelchigamtilde_ULL_022 = Christoffelgamtilde_ULL_022 + 0.5*dDchi_L_0*gamtilde_LL_22*invgamtilde_UU_00/chi + 0.5*dDchi_L_1*gamtilde_LL_22*invgamtilde_UU_01/chi + 0.5*dDchi_L_2*gamtilde_LL_22*invgamtilde_UU_02/chi;\n",
      "        amrex::Real ConformalChristoffelchigamtilde_ULL_100 = Christoffelgamtilde_ULL_100 + 0.5*dDchi_L_0*gamtilde_LL_00*invgamtilde_UU_01/chi + 0.5*dDchi_L_1*gamtilde_LL_00*invgamtilde_UU_11/chi + 0.5*dDchi_L_2*gamtilde_LL_00*invgamtilde_UU_12/chi;\n",
      "        amrex::Real ConformalChristoffelchigamtilde_ULL_101 = Christoffelgamtilde_ULL_101 + 0.5*dDchi_L_0*gamtilde_LL_01*invgamtilde_UU_01/chi - 0.5*dDchi_L_0/chi + 0.5*dDchi_L_1*gamtilde_LL_01*invgamtilde_UU_11/chi + 0.5*dDchi_L_2*gamtilde_LL_01*invgamtilde_UU_12/chi;\n",
      "        amrex::Real ConformalChristoffelchigamtilde_ULL_102 = Christoffelgamtilde_ULL_102 + 0.5*dDchi_L_0*gamtilde_LL_02*invgamtilde_UU_01/chi + 0.5*dDchi_L_1*gamtilde_LL_02*invgamtilde_UU_11/chi + 0.5*dDchi_L_2*gamtilde_LL_02*invgamtilde_UU_12/chi;\n",
      "        amrex::Real ConformalChristoffelchigamtilde_ULL_111 = Christoffelgamtilde_ULL_111 + 0.5*dDchi_L_0*gamtilde_LL_11*invgamtilde_UU_01/chi + 0.5*dDchi_L_1*gamtilde_LL_11*invgamtilde_UU_11/chi - 1.0*dDchi_L_1/chi + 0.5*dDchi_L_2*gamtilde_LL_11*invgamtilde_UU_12/chi;\n",
      "        amrex::Real ConformalChristoffelchigamtilde_ULL_112 = Christoffelgamtilde_ULL_112 + 0.5*dDchi_L_0*gamtilde_LL_12*invgamtilde_UU_01/chi + 0.5*dDchi_L_1*gamtilde_LL_12*invgamtilde_UU_11/chi + 0.5*dDchi_L_2*gamtilde_LL_12*invgamtilde_UU_12/chi - 0.5*dDchi_L_2/chi;\n",
      "        amrex::Real ConformalChristoffelchigamtilde_ULL_122 = Christoffelgamtilde_ULL_122 + 0.5*dDchi_L_0*gamtilde_LL_22*invgamtilde_UU_01/chi + 0.5*dDchi_L_1*gamtilde_LL_22*invgamtilde_UU_11/chi + 0.5*dDchi_L_2*gamtilde_LL_22*invgamtilde_UU_12/chi;\n",
      "        amrex::Real ConformalChristoffelchigamtilde_ULL_200 = Christoffelgamtilde_ULL_200 + 0.5*dDchi_L_0*gamtilde_LL_00*invgamtilde_UU_02/chi + 0.5*dDchi_L_1*gamtilde_LL_00*invgamtilde_UU_12/chi + 0.5*dDchi_L_2*gamtilde_LL_00*invgamtilde_UU_22/chi;\n",
      "        amrex::Real ConformalChristoffelchigamtilde_ULL_201 = Christoffelgamtilde_ULL_201 + 0.5*dDchi_L_0*gamtilde_LL_01*invgamtilde_UU_02/chi + 0.5*dDchi_L_1*gamtilde_LL_01*invgamtilde_UU_12/chi + 0.5*dDchi_L_2*gamtilde_LL_01*invgamtilde_UU_22/chi;\n",
      "        amrex::Real ConformalChristoffelchigamtilde_ULL_202 = Christoffelgamtilde_ULL_202 + 0.5*dDchi_L_0*gamtilde_LL_02*invgamtilde_UU_02/chi - 0.5*dDchi_L_0/chi + 0.5*dDchi_L_1*gamtilde_LL_02*invgamtilde_UU_12/chi + 0.5*dDchi_L_2*gamtilde_LL_02*invgamtilde_UU_22/chi;\n",
      "        amrex::Real ConformalChristoffelchigamtilde_ULL_211 = Christoffelgamtilde_ULL_211 + 0.5*dDchi_L_0*gamtilde_LL_11*invgamtilde_UU_02/chi + 0.5*dDchi_L_1*gamtilde_LL_11*invgamtilde_UU_12/chi + 0.5*dDchi_L_2*gamtilde_LL_11*invgamtilde_UU_22/chi;\n",
      "        amrex::Real ConformalChristoffelchigamtilde_ULL_212 = Christoffelgamtilde_ULL_212 + 0.5*dDchi_L_0*gamtilde_LL_12*invgamtilde_UU_02/chi + 0.5*dDchi_L_1*gamtilde_LL_12*invgamtilde_UU_12/chi - 0.5*dDchi_L_1/chi + 0.5*dDchi_L_2*gamtilde_LL_12*invgamtilde_UU_22/chi;\n",
      "        amrex::Real ConformalChristoffelchigamtilde_ULL_222 = Christoffelgamtilde_ULL_222 + 0.5*dDchi_L_0*gamtilde_LL_22*invgamtilde_UU_02/chi + 0.5*dDchi_L_1*gamtilde_LL_22*invgamtilde_UU_12/chi + 0.5*dDchi_L_2*gamtilde_LL_22*invgamtilde_UU_22/chi - 1.0*dDchi_L_2/chi;\n",
      "\n",
      "        amrex::Real ConformalChristoffelchigamtilde_LLL_000 = ConformalChristoffelchigamtilde_ULL_000*gamtilde_LL_00/chi + ConformalChristoffelchigamtilde_ULL_100*gamtilde_LL_01/chi + ConformalChristoffelchigamtilde_ULL_200*gamtilde_LL_02/chi;\n",
      "        amrex::Real ConformalChristoffelchigamtilde_LLL_001 = ConformalChristoffelchigamtilde_ULL_001*gamtilde_LL_00/chi + ConformalChristoffelchigamtilde_ULL_101*gamtilde_LL_01/chi + ConformalChristoffelchigamtilde_ULL_201*gamtilde_LL_02/chi;\n",
      "        amrex::Real ConformalChristoffelchigamtilde_LLL_002 = ConformalChristoffelchigamtilde_ULL_002*gamtilde_LL_00/chi + ConformalChristoffelchigamtilde_ULL_102*gamtilde_LL_01/chi + ConformalChristoffelchigamtilde_ULL_202*gamtilde_LL_02/chi;\n",
      "        amrex::Real ConformalChristoffelchigamtilde_LLL_011 = ConformalChristoffelchigamtilde_ULL_011*gamtilde_LL_00/chi + ConformalChristoffelchigamtilde_ULL_111*gamtilde_LL_01/chi + ConformalChristoffelchigamtilde_ULL_211*gamtilde_LL_02/chi;\n",
      "        amrex::Real ConformalChristoffelchigamtilde_LLL_012 = ConformalChristoffelchigamtilde_ULL_012*gamtilde_LL_00/chi + ConformalChristoffelchigamtilde_ULL_112*gamtilde_LL_01/chi + ConformalChristoffelchigamtilde_ULL_212*gamtilde_LL_02/chi;\n",
      "        amrex::Real ConformalChristoffelchigamtilde_LLL_022 = ConformalChristoffelchigamtilde_ULL_022*gamtilde_LL_00/chi + ConformalChristoffelchigamtilde_ULL_122*gamtilde_LL_01/chi + ConformalChristoffelchigamtilde_ULL_222*gamtilde_LL_02/chi;\n",
      "        amrex::Real ConformalChristoffelchigamtilde_LLL_100 = ConformalChristoffelchigamtilde_ULL_000*gamtilde_LL_01/chi + ConformalChristoffelchigamtilde_ULL_100*gamtilde_LL_11/chi + ConformalChristoffelchigamtilde_ULL_200*gamtilde_LL_12/chi;\n",
      "        amrex::Real ConformalChristoffelchigamtilde_LLL_101 = ConformalChristoffelchigamtilde_ULL_001*gamtilde_LL_01/chi + ConformalChristoffelchigamtilde_ULL_101*gamtilde_LL_11/chi + ConformalChristoffelchigamtilde_ULL_201*gamtilde_LL_12/chi;\n",
      "        amrex::Real ConformalChristoffelchigamtilde_LLL_102 = ConformalChristoffelchigamtilde_ULL_002*gamtilde_LL_01/chi + ConformalChristoffelchigamtilde_ULL_102*gamtilde_LL_11/chi + ConformalChristoffelchigamtilde_ULL_202*gamtilde_LL_12/chi;\n",
      "        amrex::Real ConformalChristoffelchigamtilde_LLL_111 = ConformalChristoffelchigamtilde_ULL_011*gamtilde_LL_01/chi + ConformalChristoffelchigamtilde_ULL_111*gamtilde_LL_11/chi + ConformalChristoffelchigamtilde_ULL_211*gamtilde_LL_12/chi;\n",
      "        amrex::Real ConformalChristoffelchigamtilde_LLL_112 = ConformalChristoffelchigamtilde_ULL_012*gamtilde_LL_01/chi + ConformalChristoffelchigamtilde_ULL_112*gamtilde_LL_11/chi + ConformalChristoffelchigamtilde_ULL_212*gamtilde_LL_12/chi;\n",
      "        amrex::Real ConformalChristoffelchigamtilde_LLL_122 = ConformalChristoffelchigamtilde_ULL_022*gamtilde_LL_01/chi + ConformalChristoffelchigamtilde_ULL_122*gamtilde_LL_11/chi + ConformalChristoffelchigamtilde_ULL_222*gamtilde_LL_12/chi;\n",
      "        amrex::Real ConformalChristoffelchigamtilde_LLL_200 = ConformalChristoffelchigamtilde_ULL_000*gamtilde_LL_02/chi + ConformalChristoffelchigamtilde_ULL_100*gamtilde_LL_12/chi + ConformalChristoffelchigamtilde_ULL_200*gamtilde_LL_22/chi;\n",
      "        amrex::Real ConformalChristoffelchigamtilde_LLL_201 = ConformalChristoffelchigamtilde_ULL_001*gamtilde_LL_02/chi + ConformalChristoffelchigamtilde_ULL_101*gamtilde_LL_12/chi + ConformalChristoffelchigamtilde_ULL_201*gamtilde_LL_22/chi;\n",
      "        amrex::Real ConformalChristoffelchigamtilde_LLL_202 = ConformalChristoffelchigamtilde_ULL_002*gamtilde_LL_02/chi + ConformalChristoffelchigamtilde_ULL_102*gamtilde_LL_12/chi + ConformalChristoffelchigamtilde_ULL_202*gamtilde_LL_22/chi;\n",
      "        amrex::Real ConformalChristoffelchigamtilde_LLL_211 = ConformalChristoffelchigamtilde_ULL_011*gamtilde_LL_02/chi + ConformalChristoffelchigamtilde_ULL_111*gamtilde_LL_12/chi + ConformalChristoffelchigamtilde_ULL_211*gamtilde_LL_22/chi;\n",
      "        amrex::Real ConformalChristoffelchigamtilde_LLL_212 = ConformalChristoffelchigamtilde_ULL_012*gamtilde_LL_02/chi + ConformalChristoffelchigamtilde_ULL_112*gamtilde_LL_12/chi + ConformalChristoffelchigamtilde_ULL_212*gamtilde_LL_22/chi;\n",
      "        amrex::Real ConformalChristoffelchigamtilde_LLL_222 = ConformalChristoffelchigamtilde_ULL_022*gamtilde_LL_02/chi + ConformalChristoffelchigamtilde_ULL_122*gamtilde_LL_12/chi + ConformalChristoffelchigamtilde_ULL_222*gamtilde_LL_22/chi;\n",
      "\n",
      "        amrex::Real gam_LL_00 = gamtilde_LL_00/chi;\n",
      "        amrex::Real gam_LL_01 = gamtilde_LL_01/chi;\n",
      "        amrex::Real gam_LL_02 = gamtilde_LL_02/chi;\n",
      "        amrex::Real gam_LL_11 = gamtilde_LL_11/chi;\n",
      "        amrex::Real gam_LL_12 = gamtilde_LL_12/chi;\n",
      "        amrex::Real gam_LL_22 = gamtilde_LL_22/chi;\n",
      "\n",
      "        amrex::Real invgam_UU_00 = chi*invgamtilde_UU_00;\n",
      "        amrex::Real invgam_UU_01 = chi*invgamtilde_UU_01;\n",
      "        amrex::Real invgam_UU_02 = chi*invgamtilde_UU_02;\n",
      "        amrex::Real invgam_UU_11 = chi*invgamtilde_UU_11;\n",
      "        amrex::Real invgam_UU_12 = chi*invgamtilde_UU_12;\n",
      "        amrex::Real invgam_UU_22 = chi*invgamtilde_UU_22;\n",
      "\n",
      "        amrex::Real dDDgam_LLLL_0000 = -dDDchi_LL_00*gamtilde_LL_00/std::pow(chi, 2) + dDDgamtilde_LLLL_0000/std::pow(chi, 2) - 2*dDchi_L_0*dDgamtilde_LLL_000/std::pow(chi, 2) + 2*std::pow(dDchi_L_0, 2)*gamtilde_LL_00/std::pow(chi, 3);\n",
      "        amrex::Real dDDgam_LLLL_0001 = -dDDchi_LL_01*gamtilde_LL_00/std::pow(chi, 2) + dDDgamtilde_LLLL_0001/std::pow(chi, 2) - dDchi_L_0*dDgamtilde_LLL_001/std::pow(chi, 2) - dDchi_L_1*dDgamtilde_LLL_000/std::pow(chi, 2) + 2*dDchi_L_0*dDchi_L_1*gamtilde_LL_00/std::pow(chi, 3);\n",
      "        amrex::Real dDDgam_LLLL_0002 = -dDDchi_LL_02*gamtilde_LL_00/std::pow(chi, 2) + dDDgamtilde_LLLL_0002/std::pow(chi, 2) - dDchi_L_0*dDgamtilde_LLL_002/std::pow(chi, 2) - dDchi_L_2*dDgamtilde_LLL_000/std::pow(chi, 2) + 2*dDchi_L_0*dDchi_L_2*gamtilde_LL_00/std::pow(chi, 3);\n",
      "        amrex::Real dDDgam_LLLL_0011 = -dDDchi_LL_11*gamtilde_LL_00/std::pow(chi, 2) + dDDgamtilde_LLLL_0011/std::pow(chi, 2) - 2*dDchi_L_1*dDgamtilde_LLL_001/std::pow(chi, 2) + 2*std::pow(dDchi_L_1, 2)*gamtilde_LL_00/std::pow(chi, 3);\n",
      "        amrex::Real dDDgam_LLLL_0012 = -dDDchi_LL_12*gamtilde_LL_00/std::pow(chi, 2) + dDDgamtilde_LLLL_0012/std::pow(chi, 2) - dDchi_L_1*dDgamtilde_LLL_002/std::pow(chi, 2) - dDchi_L_2*dDgamtilde_LLL_001/std::pow(chi, 2) + 2*dDchi_L_1*dDchi_L_2*gamtilde_LL_00/std::pow(chi, 3);\n",
      "        amrex::Real dDDgam_LLLL_0022 = -dDDchi_LL_22*gamtilde_LL_00/std::pow(chi, 2) + dDDgamtilde_LLLL_0022/std::pow(chi, 2) - 2*dDchi_L_2*dDgamtilde_LLL_002/std::pow(chi, 2) + 2*std::pow(dDchi_L_2, 2)*gamtilde_LL_00/std::pow(chi, 3);\n",
      "        amrex::Real dDDgam_LLLL_0100 = -dDDchi_LL_00*gamtilde_LL_01/std::pow(chi, 2) + dDDgamtilde_LLLL_0100/std::pow(chi, 2) - 2*dDchi_L_0*dDgamtilde_LLL_010/std::pow(chi, 2) + 2*std::pow(dDchi_L_0, 2)*gamtilde_LL_01/std::pow(chi, 3);\n",
      "        amrex::Real dDDgam_LLLL_0101 = -dDDchi_LL_01*gamtilde_LL_01/std::pow(chi, 2) + dDDgamtilde_LLLL_0101/std::pow(chi, 2) - dDchi_L_0*dDgamtilde_LLL_011/std::pow(chi, 2) - dDchi_L_1*dDgamtilde_LLL_010/std::pow(chi, 2) + 2*dDchi_L_0*dDchi_L_1*gamtilde_LL_01/std::pow(chi, 3);\n",
      "        amrex::Real dDDgam_LLLL_0102 = -dDDchi_LL_02*gamtilde_LL_01/std::pow(chi, 2) + dDDgamtilde_LLLL_0102/std::pow(chi, 2) - dDchi_L_0*dDgamtilde_LLL_012/std::pow(chi, 2) - dDchi_L_2*dDgamtilde_LLL_010/std::pow(chi, 2) + 2*dDchi_L_0*dDchi_L_2*gamtilde_LL_01/std::pow(chi, 3);\n",
      "        amrex::Real dDDgam_LLLL_0111 = -dDDchi_LL_11*gamtilde_LL_01/std::pow(chi, 2) + dDDgamtilde_LLLL_0111/std::pow(chi, 2) - 2*dDchi_L_1*dDgamtilde_LLL_011/std::pow(chi, 2) + 2*std::pow(dDchi_L_1, 2)*gamtilde_LL_01/std::pow(chi, 3);\n",
      "        amrex::Real dDDgam_LLLL_0112 = -dDDchi_LL_12*gamtilde_LL_01/std::pow(chi, 2) + dDDgamtilde_LLLL_0112/std::pow(chi, 2) - dDchi_L_1*dDgamtilde_LLL_012/std::pow(chi, 2) - dDchi_L_2*dDgamtilde_LLL_011/std::pow(chi, 2) + 2*dDchi_L_1*dDchi_L_2*gamtilde_LL_01/std::pow(chi, 3);\n",
      "        amrex::Real dDDgam_LLLL_0122 = -dDDchi_LL_22*gamtilde_LL_01/std::pow(chi, 2) + dDDgamtilde_LLLL_0122/std::pow(chi, 2) - 2*dDchi_L_2*dDgamtilde_LLL_012/std::pow(chi, 2) + 2*std::pow(dDchi_L_2, 2)*gamtilde_LL_01/std::pow(chi, 3);\n",
      "        amrex::Real dDDgam_LLLL_0200 = -dDDchi_LL_00*gamtilde_LL_02/std::pow(chi, 2) + dDDgamtilde_LLLL_0200/std::pow(chi, 2) - 2*dDchi_L_0*dDgamtilde_LLL_020/std::pow(chi, 2) + 2*std::pow(dDchi_L_0, 2)*gamtilde_LL_02/std::pow(chi, 3);\n",
      "        amrex::Real dDDgam_LLLL_0201 = -dDDchi_LL_01*gamtilde_LL_02/std::pow(chi, 2) + dDDgamtilde_LLLL_0201/std::pow(chi, 2) - dDchi_L_0*dDgamtilde_LLL_021/std::pow(chi, 2) - dDchi_L_1*dDgamtilde_LLL_020/std::pow(chi, 2) + 2*dDchi_L_0*dDchi_L_1*gamtilde_LL_02/std::pow(chi, 3);\n",
      "        amrex::Real dDDgam_LLLL_0202 = -dDDchi_LL_02*gamtilde_LL_02/std::pow(chi, 2) + dDDgamtilde_LLLL_0202/std::pow(chi, 2) - dDchi_L_0*dDgamtilde_LLL_022/std::pow(chi, 2) - dDchi_L_2*dDgamtilde_LLL_020/std::pow(chi, 2) + 2*dDchi_L_0*dDchi_L_2*gamtilde_LL_02/std::pow(chi, 3);\n",
      "        amrex::Real dDDgam_LLLL_0211 = -dDDchi_LL_11*gamtilde_LL_02/std::pow(chi, 2) + dDDgamtilde_LLLL_0211/std::pow(chi, 2) - 2*dDchi_L_1*dDgamtilde_LLL_021/std::pow(chi, 2) + 2*std::pow(dDchi_L_1, 2)*gamtilde_LL_02/std::pow(chi, 3);\n",
      "        amrex::Real dDDgam_LLLL_0212 = -dDDchi_LL_12*gamtilde_LL_02/std::pow(chi, 2) + dDDgamtilde_LLLL_0212/std::pow(chi, 2) - dDchi_L_1*dDgamtilde_LLL_022/std::pow(chi, 2) - dDchi_L_2*dDgamtilde_LLL_021/std::pow(chi, 2) + 2*dDchi_L_1*dDchi_L_2*gamtilde_LL_02/std::pow(chi, 3);\n",
      "        amrex::Real dDDgam_LLLL_0222 = -dDDchi_LL_22*gamtilde_LL_02/std::pow(chi, 2) + dDDgamtilde_LLLL_0222/std::pow(chi, 2) - 2*dDchi_L_2*dDgamtilde_LLL_022/std::pow(chi, 2) + 2*std::pow(dDchi_L_2, 2)*gamtilde_LL_02/std::pow(chi, 3);\n",
      "        amrex::Real dDDgam_LLLL_1100 = -dDDchi_LL_00*gamtilde_LL_11/std::pow(chi, 2) + dDDgamtilde_LLLL_1100/std::pow(chi, 2) - 2*dDchi_L_0*dDgamtilde_LLL_110/std::pow(chi, 2) + 2*std::pow(dDchi_L_0, 2)*gamtilde_LL_11/std::pow(chi, 3);\n",
      "        amrex::Real dDDgam_LLLL_1101 = -dDDchi_LL_01*gamtilde_LL_11/std::pow(chi, 2) + dDDgamtilde_LLLL_1101/std::pow(chi, 2) - dDchi_L_0*dDgamtilde_LLL_111/std::pow(chi, 2) - dDchi_L_1*dDgamtilde_LLL_110/std::pow(chi, 2) + 2*dDchi_L_0*dDchi_L_1*gamtilde_LL_11/std::pow(chi, 3);\n",
      "        amrex::Real dDDgam_LLLL_1102 = -dDDchi_LL_02*gamtilde_LL_11/std::pow(chi, 2) + dDDgamtilde_LLLL_1102/std::pow(chi, 2) - dDchi_L_0*dDgamtilde_LLL_112/std::pow(chi, 2) - dDchi_L_2*dDgamtilde_LLL_110/std::pow(chi, 2) + 2*dDchi_L_0*dDchi_L_2*gamtilde_LL_11/std::pow(chi, 3);\n",
      "        amrex::Real dDDgam_LLLL_1111 = -dDDchi_LL_11*gamtilde_LL_11/std::pow(chi, 2) + dDDgamtilde_LLLL_1111/std::pow(chi, 2) - 2*dDchi_L_1*dDgamtilde_LLL_111/std::pow(chi, 2) + 2*std::pow(dDchi_L_1, 2)*gamtilde_LL_11/std::pow(chi, 3);\n",
      "        amrex::Real dDDgam_LLLL_1112 = -dDDchi_LL_12*gamtilde_LL_11/std::pow(chi, 2) + dDDgamtilde_LLLL_1112/std::pow(chi, 2) - dDchi_L_1*dDgamtilde_LLL_112/std::pow(chi, 2) - dDchi_L_2*dDgamtilde_LLL_111/std::pow(chi, 2) + 2*dDchi_L_1*dDchi_L_2*gamtilde_LL_11/std::pow(chi, 3);\n",
      "        amrex::Real dDDgam_LLLL_1122 = -dDDchi_LL_22*gamtilde_LL_11/std::pow(chi, 2) + dDDgamtilde_LLLL_1122/std::pow(chi, 2) - 2*dDchi_L_2*dDgamtilde_LLL_112/std::pow(chi, 2) + 2*std::pow(dDchi_L_2, 2)*gamtilde_LL_11/std::pow(chi, 3);\n",
      "        amrex::Real dDDgam_LLLL_1200 = -dDDchi_LL_00*gamtilde_LL_12/std::pow(chi, 2) + dDDgamtilde_LLLL_1200/std::pow(chi, 2) - 2*dDchi_L_0*dDgamtilde_LLL_120/std::pow(chi, 2) + 2*std::pow(dDchi_L_0, 2)*gamtilde_LL_12/std::pow(chi, 3);\n",
      "        amrex::Real dDDgam_LLLL_1201 = -dDDchi_LL_01*gamtilde_LL_12/std::pow(chi, 2) + dDDgamtilde_LLLL_1201/std::pow(chi, 2) - dDchi_L_0*dDgamtilde_LLL_121/std::pow(chi, 2) - dDchi_L_1*dDgamtilde_LLL_120/std::pow(chi, 2) + 2*dDchi_L_0*dDchi_L_1*gamtilde_LL_12/std::pow(chi, 3);\n",
      "        amrex::Real dDDgam_LLLL_1202 = -dDDchi_LL_02*gamtilde_LL_12/std::pow(chi, 2) + dDDgamtilde_LLLL_1202/std::pow(chi, 2) - dDchi_L_0*dDgamtilde_LLL_122/std::pow(chi, 2) - dDchi_L_2*dDgamtilde_LLL_120/std::pow(chi, 2) + 2*dDchi_L_0*dDchi_L_2*gamtilde_LL_12/std::pow(chi, 3);\n",
      "        amrex::Real dDDgam_LLLL_1211 = -dDDchi_LL_11*gamtilde_LL_12/std::pow(chi, 2) + dDDgamtilde_LLLL_1211/std::pow(chi, 2) - 2*dDchi_L_1*dDgamtilde_LLL_121/std::pow(chi, 2) + 2*std::pow(dDchi_L_1, 2)*gamtilde_LL_12/std::pow(chi, 3);\n",
      "        amrex::Real dDDgam_LLLL_1212 = -dDDchi_LL_12*gamtilde_LL_12/std::pow(chi, 2) + dDDgamtilde_LLLL_1212/std::pow(chi, 2) - dDchi_L_1*dDgamtilde_LLL_122/std::pow(chi, 2) - dDchi_L_2*dDgamtilde_LLL_121/std::pow(chi, 2) + 2*dDchi_L_1*dDchi_L_2*gamtilde_LL_12/std::pow(chi, 3);\n",
      "        amrex::Real dDDgam_LLLL_1222 = -dDDchi_LL_22*gamtilde_LL_12/std::pow(chi, 2) + dDDgamtilde_LLLL_1222/std::pow(chi, 2) - 2*dDchi_L_2*dDgamtilde_LLL_122/std::pow(chi, 2) + 2*std::pow(dDchi_L_2, 2)*gamtilde_LL_12/std::pow(chi, 3);\n",
      "        amrex::Real dDDgam_LLLL_2200 = -dDDchi_LL_00*gamtilde_LL_22/std::pow(chi, 2) + dDDgamtilde_LLLL_2200/std::pow(chi, 2) - 2*dDchi_L_0*dDgamtilde_LLL_220/std::pow(chi, 2) + 2*std::pow(dDchi_L_0, 2)*gamtilde_LL_22/std::pow(chi, 3);\n",
      "        amrex::Real dDDgam_LLLL_2201 = -dDDchi_LL_01*gamtilde_LL_22/std::pow(chi, 2) + dDDgamtilde_LLLL_2201/std::pow(chi, 2) - dDchi_L_0*dDgamtilde_LLL_221/std::pow(chi, 2) - dDchi_L_1*dDgamtilde_LLL_220/std::pow(chi, 2) + 2*dDchi_L_0*dDchi_L_1*gamtilde_LL_22/std::pow(chi, 3);\n",
      "        amrex::Real dDDgam_LLLL_2202 = -dDDchi_LL_02*gamtilde_LL_22/std::pow(chi, 2) + dDDgamtilde_LLLL_2202/std::pow(chi, 2) - dDchi_L_0*dDgamtilde_LLL_222/std::pow(chi, 2) - dDchi_L_2*dDgamtilde_LLL_220/std::pow(chi, 2) + 2*dDchi_L_0*dDchi_L_2*gamtilde_LL_22/std::pow(chi, 3);\n",
      "        amrex::Real dDDgam_LLLL_2211 = -dDDchi_LL_11*gamtilde_LL_22/std::pow(chi, 2) + dDDgamtilde_LLLL_2211/std::pow(chi, 2) - 2*dDchi_L_1*dDgamtilde_LLL_221/std::pow(chi, 2) + 2*std::pow(dDchi_L_1, 2)*gamtilde_LL_22/std::pow(chi, 3);\n",
      "        amrex::Real dDDgam_LLLL_2212 = -dDDchi_LL_12*gamtilde_LL_22/std::pow(chi, 2) + dDDgamtilde_LLLL_2212/std::pow(chi, 2) - dDchi_L_1*dDgamtilde_LLL_222/std::pow(chi, 2) - dDchi_L_2*dDgamtilde_LLL_221/std::pow(chi, 2) + 2*dDchi_L_1*dDchi_L_2*gamtilde_LL_22/std::pow(chi, 3);\n",
      "        amrex::Real dDDgam_LLLL_2222 = -dDDchi_LL_22*gamtilde_LL_22/std::pow(chi, 2) + dDDgamtilde_LLLL_2222/std::pow(chi, 2) - 2*dDchi_L_2*dDgamtilde_LLL_222/std::pow(chi, 2) + 2*std::pow(dDchi_L_2, 2)*gamtilde_LL_22/std::pow(chi, 3);\n",
      "\n",
      "        amrex::Real Riem_LLLL_0101 = ConformalChristoffelchigamtilde_LLL_001*ConformalChristoffelchigamtilde_ULL_001 - ConformalChristoffelchigamtilde_LLL_011*ConformalChristoffelchigamtilde_ULL_000 + ConformalChristoffelchigamtilde_LLL_101*ConformalChristoffelchigamtilde_ULL_101 - ConformalChristoffelchigamtilde_LLL_111*ConformalChristoffelchigamtilde_ULL_100 + ConformalChristoffelchigamtilde_LLL_201*ConformalChristoffelchigamtilde_ULL_201 - ConformalChristoffelchigamtilde_LLL_211*ConformalChristoffelchigamtilde_ULL_200 - 0.5*dDDgam_LLLL_0011 + 1.0*dDDgam_LLLL_0101 - 0.5*dDDgam_LLLL_1100;\n",
      "        amrex::Real Riem_LLLL_0102 = ConformalChristoffelchigamtilde_LLL_001*ConformalChristoffelchigamtilde_ULL_002 - ConformalChristoffelchigamtilde_LLL_012*ConformalChristoffelchigamtilde_ULL_000 + ConformalChristoffelchigamtilde_LLL_101*ConformalChristoffelchigamtilde_ULL_102 - ConformalChristoffelchigamtilde_LLL_112*ConformalChristoffelchigamtilde_ULL_100 + ConformalChristoffelchigamtilde_LLL_201*ConformalChristoffelchigamtilde_ULL_202 - ConformalChristoffelchigamtilde_LLL_212*ConformalChristoffelchigamtilde_ULL_200 - 0.5*dDDgam_LLLL_0012 + 0.5*dDDgam_LLLL_0102 + 0.5*dDDgam_LLLL_0201 - 0.5*dDDgam_LLLL_1200;\n",
      "        amrex::Real Riem_LLLL_0112 = ConformalChristoffelchigamtilde_LLL_011*ConformalChristoffelchigamtilde_ULL_002 - ConformalChristoffelchigamtilde_LLL_012*ConformalChristoffelchigamtilde_ULL_001 + ConformalChristoffelchigamtilde_LLL_111*ConformalChristoffelchigamtilde_ULL_102 - ConformalChristoffelchigamtilde_LLL_112*ConformalChristoffelchigamtilde_ULL_101 + ConformalChristoffelchigamtilde_LLL_211*ConformalChristoffelchigamtilde_ULL_202 - ConformalChristoffelchigamtilde_LLL_212*ConformalChristoffelchigamtilde_ULL_201 - 0.5*dDDgam_LLLL_0112 + 0.5*dDDgam_LLLL_0211 + 0.5*dDDgam_LLLL_1102 - 0.5*dDDgam_LLLL_1201;\n",
      "        amrex::Real Riem_LLLL_0201 = ConformalChristoffelchigamtilde_LLL_002*ConformalChristoffelchigamtilde_ULL_001 - ConformalChristoffelchigamtilde_LLL_012*ConformalChristoffelchigamtilde_ULL_000 + ConformalChristoffelchigamtilde_LLL_102*ConformalChristoffelchigamtilde_ULL_101 - ConformalChristoffelchigamtilde_LLL_112*ConformalChristoffelchigamtilde_ULL_100 + ConformalChristoffelchigamtilde_LLL_202*ConformalChristoffelchigamtilde_ULL_201 - ConformalChristoffelchigamtilde_LLL_212*ConformalChristoffelchigamtilde_ULL_200 - 0.5*dDDgam_LLLL_0012 + 0.5*dDDgam_LLLL_0102 + 0.5*dDDgam_LLLL_0201 - 0.5*dDDgam_LLLL_1200;\n",
      "        amrex::Real Riem_LLLL_0202 = ConformalChristoffelchigamtilde_LLL_002*ConformalChristoffelchigamtilde_ULL_002 - ConformalChristoffelchigamtilde_LLL_022*ConformalChristoffelchigamtilde_ULL_000 + ConformalChristoffelchigamtilde_LLL_102*ConformalChristoffelchigamtilde_ULL_102 - ConformalChristoffelchigamtilde_LLL_122*ConformalChristoffelchigamtilde_ULL_100 + ConformalChristoffelchigamtilde_LLL_202*ConformalChristoffelchigamtilde_ULL_202 - ConformalChristoffelchigamtilde_LLL_222*ConformalChristoffelchigamtilde_ULL_200 - 0.5*dDDgam_LLLL_0022 + 1.0*dDDgam_LLLL_0202 - 0.5*dDDgam_LLLL_2200;\n",
      "        amrex::Real Riem_LLLL_0212 = ConformalChristoffelchigamtilde_LLL_012*ConformalChristoffelchigamtilde_ULL_002 - ConformalChristoffelchigamtilde_LLL_022*ConformalChristoffelchigamtilde_ULL_001 + ConformalChristoffelchigamtilde_LLL_112*ConformalChristoffelchigamtilde_ULL_102 - ConformalChristoffelchigamtilde_LLL_122*ConformalChristoffelchigamtilde_ULL_101 + ConformalChristoffelchigamtilde_LLL_212*ConformalChristoffelchigamtilde_ULL_202 - ConformalChristoffelchigamtilde_LLL_222*ConformalChristoffelchigamtilde_ULL_201 - 0.5*dDDgam_LLLL_0122 + 0.5*dDDgam_LLLL_0212 + 0.5*dDDgam_LLLL_1202 - 0.5*dDDgam_LLLL_2201;\n",
      "        amrex::Real Riem_LLLL_1201 = ConformalChristoffelchigamtilde_LLL_002*ConformalChristoffelchigamtilde_ULL_011 - ConformalChristoffelchigamtilde_LLL_012*ConformalChristoffelchigamtilde_ULL_001 + ConformalChristoffelchigamtilde_LLL_102*ConformalChristoffelchigamtilde_ULL_111 - ConformalChristoffelchigamtilde_LLL_112*ConformalChristoffelchigamtilde_ULL_101 + ConformalChristoffelchigamtilde_LLL_202*ConformalChristoffelchigamtilde_ULL_211 - ConformalChristoffelchigamtilde_LLL_212*ConformalChristoffelchigamtilde_ULL_201 - 0.5*dDDgam_LLLL_0112 + 0.5*dDDgam_LLLL_0211 + 0.5*dDDgam_LLLL_1102 - 0.5*dDDgam_LLLL_1201;\n",
      "        amrex::Real Riem_LLLL_1202 = ConformalChristoffelchigamtilde_LLL_002*ConformalChristoffelchigamtilde_ULL_012 - ConformalChristoffelchigamtilde_LLL_022*ConformalChristoffelchigamtilde_ULL_001 + ConformalChristoffelchigamtilde_LLL_102*ConformalChristoffelchigamtilde_ULL_112 - ConformalChristoffelchigamtilde_LLL_122*ConformalChristoffelchigamtilde_ULL_101 + ConformalChristoffelchigamtilde_LLL_202*ConformalChristoffelchigamtilde_ULL_212 - ConformalChristoffelchigamtilde_LLL_222*ConformalChristoffelchigamtilde_ULL_201 - 0.5*dDDgam_LLLL_0122 + 0.5*dDDgam_LLLL_0212 + 0.5*dDDgam_LLLL_1202 - 0.5*dDDgam_LLLL_2201;\n",
      "        amrex::Real Riem_LLLL_1212 = ConformalChristoffelchigamtilde_LLL_012*ConformalChristoffelchigamtilde_ULL_012 - ConformalChristoffelchigamtilde_LLL_022*ConformalChristoffelchigamtilde_ULL_011 + ConformalChristoffelchigamtilde_LLL_112*ConformalChristoffelchigamtilde_ULL_112 - ConformalChristoffelchigamtilde_LLL_122*ConformalChristoffelchigamtilde_ULL_111 + ConformalChristoffelchigamtilde_LLL_212*ConformalChristoffelchigamtilde_ULL_212 - ConformalChristoffelchigamtilde_LLL_222*ConformalChristoffelchigamtilde_ULL_211 - 0.5*dDDgam_LLLL_1122 + 1.0*dDDgam_LLLL_1212 - 0.5*dDDgam_LLLL_2211;\n",
      "\n",
      "        amrex::Real K_LL_00 = Atilde_LL_00/chi + 0.33333333333333331*gam_LL_00*(Khat + 2*theta);\n",
      "        amrex::Real K_LL_01 = Atilde_LL_01/chi + 0.33333333333333331*gam_LL_01*(Khat + 2*theta);\n",
      "        amrex::Real K_LL_02 = Atilde_LL_02/chi + 0.33333333333333331*gam_LL_02*(Khat + 2*theta);\n",
      "        amrex::Real K_LL_11 = Atilde_LL_11/chi + 0.33333333333333331*gam_LL_11*(Khat + 2*theta);\n",
      "        amrex::Real K_LL_12 = Atilde_LL_12/chi + 0.33333333333333331*gam_LL_12*(Khat + 2*theta);\n",
      "        amrex::Real K_LL_22 = Atilde_LL_22/chi + 0.33333333333333331*gam_LL_22*(Khat + 2*theta);\n",
      "\n",
      "        amrex::Real rank4term_LLLL_0101 = K_LL_00*K_LL_11 - std::pow(K_LL_01, 2) + Riem_LLLL_0101;\n",
      "        amrex::Real rank4term_LLLL_0102 = K_LL_00*K_LL_12 - K_LL_01*K_LL_02 + Riem_LLLL_0102;\n",
      "        amrex::Real rank4term_LLLL_0112 = K_LL_01*K_LL_12 - K_LL_02*K_LL_11 + Riem_LLLL_0112;\n",
      "        amrex::Real rank4term_LLLL_0201 = K_LL_00*K_LL_12 - K_LL_01*K_LL_02 + Riem_LLLL_0201;\n",
      "        amrex::Real rank4term_LLLL_0202 = K_LL_00*K_LL_22 - std::pow(K_LL_02, 2) + Riem_LLLL_0202;\n",
      "        amrex::Real rank4term_LLLL_0212 = K_LL_01*K_LL_22 - K_LL_02*K_LL_12 + Riem_LLLL_0212;\n",
      "        amrex::Real rank4term_LLLL_1201 = K_LL_01*K_LL_12 - K_LL_02*K_LL_11 + Riem_LLLL_1201;\n",
      "        amrex::Real rank4term_LLLL_1202 = K_LL_01*K_LL_22 - K_LL_02*K_LL_12 + Riem_LLLL_1202;\n",
      "        amrex::Real rank4term_LLLL_1212 = K_LL_11*K_LL_22 - std::pow(K_LL_12, 2) + Riem_LLLL_1212;\n",
      "\n",
      "        amrex::Real dDK_LLL_000 = -K_LL_00*dDchi_L_0/chi + (dDAtilde_LLL_000 + 0.33333333333333331*dDgamtilde_LLL_000*(Khat + 2*theta) + 0.33333333333333331*gamtilde_LL_00*(dDKhat_L_0 + 2*dDtheta_L_0))/chi;\n",
      "        amrex::Real dDK_LLL_001 = -K_LL_00*dDchi_L_1/chi + (dDAtilde_LLL_001 + 0.33333333333333331*dDgamtilde_LLL_001*(Khat + 2*theta) + 0.33333333333333331*gamtilde_LL_00*(dDKhat_L_1 + 2*dDtheta_L_1))/chi;\n",
      "        amrex::Real dDK_LLL_002 = -K_LL_00*dDchi_L_2/chi + (dDAtilde_LLL_002 + 0.33333333333333331*dDgamtilde_LLL_002*(Khat + 2*theta) + 0.33333333333333331*gamtilde_LL_00*(dDKhat_L_2 + 2*dDtheta_L_2))/chi;\n",
      "        amrex::Real dDK_LLL_010 = -K_LL_01*dDchi_L_0/chi + (dDAtilde_LLL_010 + 0.33333333333333331*dDgamtilde_LLL_010*(Khat + 2*theta) + 0.33333333333333331*gamtilde_LL_01*(dDKhat_L_0 + 2*dDtheta_L_0))/chi;\n",
      "        amrex::Real dDK_LLL_011 = -K_LL_01*dDchi_L_1/chi + (dDAtilde_LLL_011 + 0.33333333333333331*dDgamtilde_LLL_011*(Khat + 2*theta) + 0.33333333333333331*gamtilde_LL_01*(dDKhat_L_1 + 2*dDtheta_L_1))/chi;\n",
      "        amrex::Real dDK_LLL_012 = -K_LL_01*dDchi_L_2/chi + (dDAtilde_LLL_012 + 0.33333333333333331*dDgamtilde_LLL_012*(Khat + 2*theta) + 0.33333333333333331*gamtilde_LL_01*(dDKhat_L_2 + 2*dDtheta_L_2))/chi;\n",
      "        amrex::Real dDK_LLL_020 = -K_LL_02*dDchi_L_0/chi + (dDAtilde_LLL_020 + 0.33333333333333331*dDgamtilde_LLL_020*(Khat + 2*theta) + 0.33333333333333331*gamtilde_LL_02*(dDKhat_L_0 + 2*dDtheta_L_0))/chi;\n",
      "        amrex::Real dDK_LLL_021 = -K_LL_02*dDchi_L_1/chi + (dDAtilde_LLL_021 + 0.33333333333333331*dDgamtilde_LLL_021*(Khat + 2*theta) + 0.33333333333333331*gamtilde_LL_02*(dDKhat_L_1 + 2*dDtheta_L_1))/chi;\n",
      "        amrex::Real dDK_LLL_022 = -K_LL_02*dDchi_L_2/chi + (dDAtilde_LLL_022 + 0.33333333333333331*dDgamtilde_LLL_022*(Khat + 2*theta) + 0.33333333333333331*gamtilde_LL_02*(dDKhat_L_2 + 2*dDtheta_L_2))/chi;\n",
      "        amrex::Real dDK_LLL_110 = -K_LL_11*dDchi_L_0/chi + (dDAtilde_LLL_110 + 0.33333333333333331*dDgamtilde_LLL_110*(Khat + 2*theta) + 0.33333333333333331*gamtilde_LL_11*(dDKhat_L_0 + 2*dDtheta_L_0))/chi;\n",
      "        amrex::Real dDK_LLL_111 = -K_LL_11*dDchi_L_1/chi + (dDAtilde_LLL_111 + 0.33333333333333331*dDgamtilde_LLL_111*(Khat + 2*theta) + 0.33333333333333331*gamtilde_LL_11*(dDKhat_L_1 + 2*dDtheta_L_1))/chi;\n",
      "        amrex::Real dDK_LLL_112 = -K_LL_11*dDchi_L_2/chi + (dDAtilde_LLL_112 + 0.33333333333333331*dDgamtilde_LLL_112*(Khat + 2*theta) + 0.33333333333333331*gamtilde_LL_11*(dDKhat_L_2 + 2*dDtheta_L_2))/chi;\n",
      "        amrex::Real dDK_LLL_120 = -K_LL_12*dDchi_L_0/chi + (dDAtilde_LLL_120 + 0.33333333333333331*dDgamtilde_LLL_120*(Khat + 2*theta) + 0.33333333333333331*gamtilde_LL_12*(dDKhat_L_0 + 2*dDtheta_L_0))/chi;\n",
      "        amrex::Real dDK_LLL_121 = -K_LL_12*dDchi_L_1/chi + (dDAtilde_LLL_121 + 0.33333333333333331*dDgamtilde_LLL_121*(Khat + 2*theta) + 0.33333333333333331*gamtilde_LL_12*(dDKhat_L_1 + 2*dDtheta_L_1))/chi;\n",
      "        amrex::Real dDK_LLL_122 = -K_LL_12*dDchi_L_2/chi + (dDAtilde_LLL_122 + 0.33333333333333331*dDgamtilde_LLL_122*(Khat + 2*theta) + 0.33333333333333331*gamtilde_LL_12*(dDKhat_L_2 + 2*dDtheta_L_2))/chi;\n",
      "        amrex::Real dDK_LLL_220 = -K_LL_22*dDchi_L_0/chi + (dDAtilde_LLL_220 + 0.33333333333333331*dDgamtilde_LLL_220*(Khat + 2*theta) + 0.33333333333333331*gamtilde_LL_22*(dDKhat_L_0 + 2*dDtheta_L_0))/chi;\n",
      "        amrex::Real dDK_LLL_221 = -K_LL_22*dDchi_L_1/chi + (dDAtilde_LLL_221 + 0.33333333333333331*dDgamtilde_LLL_221*(Khat + 2*theta) + 0.33333333333333331*gamtilde_LL_22*(dDKhat_L_1 + 2*dDtheta_L_1))/chi;\n",
      "        amrex::Real dDK_LLL_222 = -K_LL_22*dDchi_L_2/chi + (dDAtilde_LLL_222 + 0.33333333333333331*dDgamtilde_LLL_222*(Khat + 2*theta) + 0.33333333333333331*gamtilde_LL_22*(dDKhat_L_2 + 2*dDtheta_L_2))/chi;\n",
      "\n",
      "        amrex::Real rank3term_LLL_001 = -4*ConformalChristoffelchigamtilde_ULL_000*K_LL_01 + 4*ConformalChristoffelchigamtilde_ULL_001*K_LL_00 - 4*ConformalChristoffelchigamtilde_ULL_100*K_LL_11 + 4*ConformalChristoffelchigamtilde_ULL_101*K_LL_01 - 4*ConformalChristoffelchigamtilde_ULL_200*K_LL_12 + 4*ConformalChristoffelchigamtilde_ULL_201*K_LL_02 - 4*dDK_LLL_001 + 4*dDK_LLL_010;\n",
      "        amrex::Real rank3term_LLL_002 = -4*ConformalChristoffelchigamtilde_ULL_000*K_LL_02 + 4*ConformalChristoffelchigamtilde_ULL_002*K_LL_00 - 4*ConformalChristoffelchigamtilde_ULL_100*K_LL_12 + 4*ConformalChristoffelchigamtilde_ULL_102*K_LL_01 - 4*ConformalChristoffelchigamtilde_ULL_200*K_LL_22 + 4*ConformalChristoffelchigamtilde_ULL_202*K_LL_02 - 4*dDK_LLL_002 + 4*dDK_LLL_020;\n",
      "        amrex::Real rank3term_LLL_012 = -4*ConformalChristoffelchigamtilde_ULL_001*K_LL_02 + 4*ConformalChristoffelchigamtilde_ULL_002*K_LL_01 - 4*ConformalChristoffelchigamtilde_ULL_101*K_LL_12 + 4*ConformalChristoffelchigamtilde_ULL_102*K_LL_11 - 4*ConformalChristoffelchigamtilde_ULL_201*K_LL_22 + 4*ConformalChristoffelchigamtilde_ULL_202*K_LL_12 - 4*dDK_LLL_012 + 4*dDK_LLL_021;\n",
      "        amrex::Real rank3term_LLL_101 = -4*ConformalChristoffelchigamtilde_ULL_001*K_LL_01 + 4*ConformalChristoffelchigamtilde_ULL_011*K_LL_00 - 4*ConformalChristoffelchigamtilde_ULL_101*K_LL_11 + 4*ConformalChristoffelchigamtilde_ULL_111*K_LL_01 - 4*ConformalChristoffelchigamtilde_ULL_201*K_LL_12 + 4*ConformalChristoffelchigamtilde_ULL_211*K_LL_02 - 4*dDK_LLL_011 + 4*dDK_LLL_110;\n",
      "        amrex::Real rank3term_LLL_102 = -4*ConformalChristoffelchigamtilde_ULL_001*K_LL_02 + 4*ConformalChristoffelchigamtilde_ULL_012*K_LL_00 - 4*ConformalChristoffelchigamtilde_ULL_101*K_LL_12 + 4*ConformalChristoffelchigamtilde_ULL_112*K_LL_01 - 4*ConformalChristoffelchigamtilde_ULL_201*K_LL_22 + 4*ConformalChristoffelchigamtilde_ULL_212*K_LL_02 - 4*dDK_LLL_012 + 4*dDK_LLL_120;\n",
      "        amrex::Real rank3term_LLL_112 = -4*ConformalChristoffelchigamtilde_ULL_011*K_LL_02 + 4*ConformalChristoffelchigamtilde_ULL_012*K_LL_01 - 4*ConformalChristoffelchigamtilde_ULL_111*K_LL_12 + 4*ConformalChristoffelchigamtilde_ULL_112*K_LL_11 - 4*ConformalChristoffelchigamtilde_ULL_211*K_LL_22 + 4*ConformalChristoffelchigamtilde_ULL_212*K_LL_12 - 4*dDK_LLL_112 + 4*dDK_LLL_121;\n",
      "        amrex::Real rank3term_LLL_201 = -4*ConformalChristoffelchigamtilde_ULL_002*K_LL_01 + 4*ConformalChristoffelchigamtilde_ULL_012*K_LL_00 - 4*ConformalChristoffelchigamtilde_ULL_102*K_LL_11 + 4*ConformalChristoffelchigamtilde_ULL_112*K_LL_01 - 4*ConformalChristoffelchigamtilde_ULL_202*K_LL_12 + 4*ConformalChristoffelchigamtilde_ULL_212*K_LL_02 - 4*dDK_LLL_021 + 4*dDK_LLL_120;\n",
      "        amrex::Real rank3term_LLL_202 = -4*ConformalChristoffelchigamtilde_ULL_002*K_LL_02 + 4*ConformalChristoffelchigamtilde_ULL_022*K_LL_00 - 4*ConformalChristoffelchigamtilde_ULL_102*K_LL_12 + 4*ConformalChristoffelchigamtilde_ULL_122*K_LL_01 - 4*ConformalChristoffelchigamtilde_ULL_202*K_LL_22 + 4*ConformalChristoffelchigamtilde_ULL_222*K_LL_02 - 4*dDK_LLL_022 + 4*dDK_LLL_220;\n",
      "        amrex::Real rank3term_LLL_212 = -4*ConformalChristoffelchigamtilde_ULL_012*K_LL_02 + 4*ConformalChristoffelchigamtilde_ULL_022*K_LL_01 - 4*ConformalChristoffelchigamtilde_ULL_112*K_LL_12 + 4*ConformalChristoffelchigamtilde_ULL_122*K_LL_11 - 4*ConformalChristoffelchigamtilde_ULL_212*K_LL_22 + 4*ConformalChristoffelchigamtilde_ULL_222*K_LL_12 - 4*dDK_LLL_122 + 4*dDK_LLL_221;\n",
      "\n",
      "        amrex::Real Ricci_LL_00 = Riem_LLLL_0101*invgam_UU_11 + Riem_LLLL_0102*invgam_UU_12 + Riem_LLLL_0201*invgam_UU_12 + Riem_LLLL_0202*invgam_UU_22;\n",
      "        amrex::Real Ricci_LL_01 = -Riem_LLLL_0101*invgam_UU_01 + Riem_LLLL_0112*invgam_UU_12 - Riem_LLLL_0201*invgam_UU_02 + Riem_LLLL_0212*invgam_UU_22;\n",
      "        amrex::Real Ricci_LL_02 = -Riem_LLLL_0102*invgam_UU_01 - Riem_LLLL_0112*invgam_UU_11 - Riem_LLLL_0202*invgam_UU_02 - Riem_LLLL_0212*invgam_UU_12;\n",
      "        amrex::Real Ricci_LL_11 = Riem_LLLL_0101*invgam_UU_00 - Riem_LLLL_0112*invgam_UU_02 - Riem_LLLL_1201*invgam_UU_02 + Riem_LLLL_1212*invgam_UU_22;\n",
      "        amrex::Real Ricci_LL_12 = Riem_LLLL_0102*invgam_UU_00 + Riem_LLLL_0112*invgam_UU_01 - Riem_LLLL_1202*invgam_UU_02 - Riem_LLLL_1212*invgam_UU_12;\n",
      "        amrex::Real Ricci_LL_22 = Riem_LLLL_0202*invgam_UU_00 + Riem_LLLL_0212*invgam_UU_01 + Riem_LLLL_1202*invgam_UU_01 + Riem_LLLL_1212*invgam_UU_11;\n",
      "\n",
      "        amrex::Real rank2term_LL_00 = -4*std::pow(K_LL_00, 2)*invgam_UU_00 - 8*K_LL_00*K_LL_01*invgam_UU_01 - 8*K_LL_00*K_LL_02*invgam_UU_02 + 4*K_LL_00*(Khat + 2*theta) - 4*std::pow(K_LL_01, 2)*invgam_UU_11 - 8*K_LL_01*K_LL_02*invgam_UU_12 - 4*std::pow(K_LL_02, 2)*invgam_UU_22 + 4*Ricci_LL_00;\n",
      "        amrex::Real rank2term_LL_01 = -4*K_LL_00*K_LL_01*invgam_UU_00 - 4*K_LL_00*K_LL_11*invgam_UU_01 - 4*K_LL_00*K_LL_12*invgam_UU_02 - 4*std::pow(K_LL_01, 2)*invgam_UU_01 - 4*K_LL_01*K_LL_02*invgam_UU_02 - 4*K_LL_01*K_LL_11*invgam_UU_11 - 4*K_LL_01*K_LL_12*invgam_UU_12 + 4*K_LL_01*(Khat + 2*theta) - 4*K_LL_02*K_LL_11*invgam_UU_12 - 4*K_LL_02*K_LL_12*invgam_UU_22 + 4*Ricci_LL_01;\n",
      "        amrex::Real rank2term_LL_02 = -4*K_LL_00*K_LL_02*invgam_UU_00 - 4*K_LL_00*K_LL_12*invgam_UU_01 - 4*K_LL_00*K_LL_22*invgam_UU_02 - 4*K_LL_01*K_LL_02*invgam_UU_01 - 4*K_LL_01*K_LL_12*invgam_UU_11 - 4*K_LL_01*K_LL_22*invgam_UU_12 - 4*std::pow(K_LL_02, 2)*invgam_UU_02 - 4*K_LL_02*K_LL_12*invgam_UU_12 - 4*K_LL_02*K_LL_22*invgam_UU_22 + 4*K_LL_02*(Khat + 2*theta) + 4*Ricci_LL_02;\n",
      "        amrex::Real rank2term_LL_11 = -4*std::pow(K_LL_01, 2)*invgam_UU_00 - 8*K_LL_01*K_LL_11*invgam_UU_01 - 8*K_LL_01*K_LL_12*invgam_UU_02 - 4*std::pow(K_LL_11, 2)*invgam_UU_11 - 8*K_LL_11*K_LL_12*invgam_UU_12 + 4*K_LL_11*(Khat + 2*theta) - 4*std::pow(K_LL_12, 2)*invgam_UU_22 + 4*Ricci_LL_11;\n",
      "        amrex::Real rank2term_LL_12 = -4*K_LL_01*K_LL_02*invgam_UU_00 - 4*K_LL_01*K_LL_12*invgam_UU_01 - 4*K_LL_01*K_LL_22*invgam_UU_02 - 4*K_LL_02*K_LL_11*invgam_UU_01 - 4*K_LL_02*K_LL_12*invgam_UU_02 - 4*K_LL_11*K_LL_12*invgam_UU_11 - 4*K_LL_11*K_LL_22*invgam_UU_12 - 4*std::pow(K_LL_12, 2)*invgam_UU_12 - 4*K_LL_12*K_LL_22*invgam_UU_22 + 4*K_LL_12*(Khat + 2*theta) + 4*Ricci_LL_12;\n",
      "        amrex::Real rank2term_LL_22 = -4*std::pow(K_LL_02, 2)*invgam_UU_00 - 8*K_LL_02*K_LL_12*invgam_UU_01 - 8*K_LL_02*K_LL_22*invgam_UU_02 - 4*std::pow(K_LL_12, 2)*invgam_UU_11 - 8*K_LL_12*K_LL_22*invgam_UU_12 - 4*std::pow(K_LL_22, 2)*invgam_UU_22 + 4*K_LL_22*(Khat + 2*theta) + 4*Ricci_LL_22;\n",
      "\n",
      "        amrex::Real v1_U_0 = -x_U_1;\n",
      "        amrex::Real v1_U_1 = x_U_0;\n",
      "        amrex::Real v1_U_2 = 0;\n",
      "\n",
      "        amrex::Real v2_U_0 = x_U_0;\n",
      "        amrex::Real v2_U_1 = x_U_1;\n",
      "        amrex::Real v2_U_2 = x_U_2;\n",
      "\n",
      "        amrex::Real v3_U_0 = std::pow(chi, -1.5)*invgam_UU_00*v1_U_1*v2_U_2 - std::pow(chi, -1.5)*invgam_UU_00*v1_U_2*v2_U_1 - std::pow(chi, -1.5)*invgam_UU_01*v1_U_0*v2_U_2 + std::pow(chi, -1.5)*invgam_UU_01*v1_U_2*v2_U_0 + std::pow(chi, -1.5)*invgam_UU_02*v1_U_0*v2_U_1 - std::pow(chi, -1.5)*invgam_UU_02*v1_U_1*v2_U_0;\n",
      "        amrex::Real v3_U_1 = std::pow(chi, -1.5)*invgam_UU_01*v1_U_1*v2_U_2 - std::pow(chi, -1.5)*invgam_UU_01*v1_U_2*v2_U_1 - std::pow(chi, -1.5)*invgam_UU_11*v1_U_0*v2_U_2 + std::pow(chi, -1.5)*invgam_UU_11*v1_U_2*v2_U_0 + std::pow(chi, -1.5)*invgam_UU_12*v1_U_0*v2_U_1 - std::pow(chi, -1.5)*invgam_UU_12*v1_U_1*v2_U_0;\n",
      "        amrex::Real v3_U_2 = std::pow(chi, -1.5)*invgam_UU_02*v1_U_1*v2_U_2 - std::pow(chi, -1.5)*invgam_UU_02*v1_U_2*v2_U_1 - std::pow(chi, -1.5)*invgam_UU_12*v1_U_0*v2_U_2 + std::pow(chi, -1.5)*invgam_UU_12*v1_U_2*v2_U_0 + std::pow(chi, -1.5)*invgam_UU_22*v1_U_0*v2_U_1 - std::pow(chi, -1.5)*invgam_UU_22*v1_U_1*v2_U_0;\n",
      "\n",
      "        amrex::Real v1prime_U_0 = v1_U_0;\n",
      "        amrex::Real v1prime_U_1 = v1_U_1;\n",
      "        amrex::Real v1prime_U_2 = v1_U_2;\n",
      "\n",
      "        amrex::Real omega11 = gam_LL_00*std::pow(v1prime_U_0, 2) + 2*gam_LL_01*v1prime_U_0*v1prime_U_1 + 2*gam_LL_02*v1prime_U_0*v1prime_U_2 + gam_LL_11*std::pow(v1prime_U_1, 2) + 2*gam_LL_12*v1prime_U_1*v1prime_U_2 + gam_LL_22*std::pow(v1prime_U_2, 2);\n",
      "\n",
      "        amrex::Real e1_U_0 = v1prime_U_0/std::sqrt(omega11);\n",
      "        amrex::Real e1_U_1 = v1prime_U_1/std::sqrt(omega11);\n",
      "        amrex::Real e1_U_2 = v1prime_U_2/std::sqrt(omega11);\n",
      "\n",
      "        amrex::Real omega12 = e1_U_0*gam_LL_00*v2_U_0 + e1_U_0*gam_LL_01*v2_U_1 + e1_U_0*gam_LL_02*v2_U_2 + e1_U_1*gam_LL_01*v2_U_0 + e1_U_1*gam_LL_11*v2_U_1 + e1_U_1*gam_LL_12*v2_U_2 + e1_U_2*gam_LL_02*v2_U_0 + e1_U_2*gam_LL_12*v2_U_1 + e1_U_2*gam_LL_22*v2_U_2;\n",
      "\n",
      "        amrex::Real v2prime_U_0 = -e1_U_0*omega12 + v2_U_0;\n",
      "        amrex::Real v2prime_U_1 = -e1_U_1*omega12 + v2_U_1;\n",
      "        amrex::Real v2prime_U_2 = -e1_U_2*omega12 + v2_U_2;\n",
      "\n",
      "        amrex::Real omega22 = gam_LL_00*std::pow(v2prime_U_0, 2) + 2*gam_LL_01*v2prime_U_0*v2prime_U_1 + 2*gam_LL_02*v2prime_U_0*v2prime_U_2 + gam_LL_11*std::pow(v2prime_U_1, 2) + 2*gam_LL_12*v2prime_U_1*v2prime_U_2 + gam_LL_22*std::pow(v2prime_U_2, 2);\n",
      "\n",
      "        amrex::Real e2_U_0 = v2prime_U_0/std::sqrt(omega22);\n",
      "        amrex::Real e2_U_1 = v2prime_U_1/std::sqrt(omega22);\n",
      "        amrex::Real e2_U_2 = v2prime_U_2/std::sqrt(omega22);\n",
      "\n",
      "        amrex::Real omega13 = e1_U_0*gam_LL_00*v3_U_0 + e1_U_0*gam_LL_01*v3_U_1 + e1_U_0*gam_LL_02*v3_U_2 + e1_U_1*gam_LL_01*v3_U_0 + e1_U_1*gam_LL_11*v3_U_1 + e1_U_1*gam_LL_12*v3_U_2 + e1_U_2*gam_LL_02*v3_U_0 + e1_U_2*gam_LL_12*v3_U_1 + e1_U_2*gam_LL_22*v3_U_2;\n",
      "\n",
      "        amrex::Real omega23 = e2_U_0*gam_LL_00*v3_U_0 + e2_U_0*gam_LL_01*v3_U_1 + e2_U_0*gam_LL_02*v3_U_2 + e2_U_1*gam_LL_01*v3_U_0 + e2_U_1*gam_LL_11*v3_U_1 + e2_U_1*gam_LL_12*v3_U_2 + e2_U_2*gam_LL_02*v3_U_0 + e2_U_2*gam_LL_12*v3_U_1 + e2_U_2*gam_LL_22*v3_U_2;\n",
      "\n",
      "        amrex::Real v3prime_U_0 = -e1_U_0*omega13 - e2_U_0*omega23 + v3_U_0;\n",
      "        amrex::Real v3prime_U_1 = -e1_U_1*omega13 - e2_U_1*omega23 + v3_U_1;\n",
      "        amrex::Real v3prime_U_2 = -e1_U_2*omega13 - e2_U_2*omega23 + v3_U_2;\n",
      "\n",
      "        amrex::Real omega33 = gam_LL_00*std::pow(v3prime_U_0, 2) + 2*gam_LL_01*v3prime_U_0*v3prime_U_1 + 2*gam_LL_02*v3prime_U_0*v3prime_U_2 + gam_LL_11*std::pow(v3prime_U_1, 2) + 2*gam_LL_12*v3prime_U_1*v3prime_U_2 + gam_LL_22*std::pow(v3prime_U_2, 2);\n",
      "\n",
      "        amrex::Real e3_U_0 = v3prime_U_0/std::sqrt(omega33);\n",
      "        amrex::Real e3_U_1 = v3prime_U_1/std::sqrt(omega33);\n",
      "        amrex::Real e3_U_2 = v3prime_U_2/std::sqrt(omega33);\n",
      "\n",
      "        amrex::Real u_U_0 = -beta_U_0/alpha;\n",
      "        amrex::Real u_U_1 = -beta_U_1/alpha;\n",
      "        amrex::Real u_U_2 = -beta_U_2/alpha;\n",
      "        amrex::Real u_U_3 = 1.0/alpha;\n",
      "\n",
      "        amrex::Real r_U_0 = e2_U_0;\n",
      "        amrex::Real r_U_1 = e2_U_1;\n",
      "        amrex::Real r_U_2 = e2_U_2;\n",
      "        amrex::Real r_U_3 = 0;\n",
      "\n",
      "        amrex::Real theta_U_0 = e3_U_0;\n",
      "        amrex::Real theta_U_1 = e3_U_1;\n",
      "        amrex::Real theta_U_2 = e3_U_2;\n",
      "        amrex::Real theta_U_3 = 0;\n",
      "\n",
      "        amrex::Real phi_U_0 = e1_U_0;\n",
      "        amrex::Real phi_U_1 = e1_U_1;\n",
      "        amrex::Real phi_U_2 = e1_U_2;\n",
      "        amrex::Real phi_U_3 = 0;\n",
      "\n",
      "        amrex::Real l_U_0 = (1.0/2.0)*M_SQRT2*(r_U_0 + u_U_0);\n",
      "        amrex::Real l_U_1 = (1.0/2.0)*M_SQRT2*(r_U_1 + u_U_1);\n",
      "        amrex::Real l_U_2 = (1.0/2.0)*M_SQRT2*(r_U_2 + u_U_2);\n",
      "        amrex::Real l_U_3 = (1.0/2.0)*M_SQRT2*(r_U_3 + u_U_3);\n",
      "\n",
      "        amrex::Real n_U_0 = (1.0/2.0)*M_SQRT2*(-r_U_0 + u_U_0);\n",
      "        amrex::Real n_U_1 = (1.0/2.0)*M_SQRT2*(-r_U_1 + u_U_1);\n",
      "        amrex::Real n_U_2 = (1.0/2.0)*M_SQRT2*(-r_U_2 + u_U_2);\n",
      "        amrex::Real n_U_3 = (1.0/2.0)*M_SQRT2*(-r_U_3 + u_U_3);\n",
      "\n",
      "        amrex::Real mre_U_0 = (1.0/2.0)*M_SQRT2*theta_U_0;\n",
      "        amrex::Real mre_U_1 = (1.0/2.0)*M_SQRT2*theta_U_1;\n",
      "        amrex::Real mre_U_2 = (1.0/2.0)*M_SQRT2*theta_U_2;\n",
      "        amrex::Real mre_U_3 = (1.0/2.0)*M_SQRT2*theta_U_3;\n",
      "\n",
      "        amrex::Real mim_U_0 = (1.0/2.0)*M_SQRT2*phi_U_0;\n",
      "        amrex::Real mim_U_1 = (1.0/2.0)*M_SQRT2*phi_U_1;\n",
      "        amrex::Real mim_U_2 = (1.0/2.0)*M_SQRT2*phi_U_2;\n",
      "        amrex::Real mim_U_3 = (1.0/2.0)*M_SQRT2*phi_U_3;\n",
      "\n",
      "        amrex::Real nmnmre_UUUU_0000 = -std::pow(mim_U_0, 2)*std::pow(n_U_0, 2) + std::pow(mre_U_0, 2)*std::pow(n_U_0, 2);\n",
      "        amrex::Real nmnmre_UUUU_0001 = -mim_U_0*mim_U_1*std::pow(n_U_0, 2) + mre_U_0*mre_U_1*std::pow(n_U_0, 2);\n",
      "        amrex::Real nmnmre_UUUU_0002 = -mim_U_0*mim_U_2*std::pow(n_U_0, 2) + mre_U_0*mre_U_2*std::pow(n_U_0, 2);\n",
      "        amrex::Real nmnmre_UUUU_0003 = -mim_U_0*mim_U_3*std::pow(n_U_0, 2) + mre_U_0*mre_U_3*std::pow(n_U_0, 2);\n",
      "        amrex::Real nmnmre_UUUU_0010 = -std::pow(mim_U_0, 2)*n_U_0*n_U_1 + std::pow(mre_U_0, 2)*n_U_0*n_U_1;\n",
      "        amrex::Real nmnmre_UUUU_0011 = -mim_U_0*mim_U_1*n_U_0*n_U_1 + mre_U_0*mre_U_1*n_U_0*n_U_1;\n",
      "        amrex::Real nmnmre_UUUU_0012 = -mim_U_0*mim_U_2*n_U_0*n_U_1 + mre_U_0*mre_U_2*n_U_0*n_U_1;\n",
      "        amrex::Real nmnmre_UUUU_0013 = -mim_U_0*mim_U_3*n_U_0*n_U_1 + mre_U_0*mre_U_3*n_U_0*n_U_1;\n",
      "        amrex::Real nmnmre_UUUU_0020 = -std::pow(mim_U_0, 2)*n_U_0*n_U_2 + std::pow(mre_U_0, 2)*n_U_0*n_U_2;\n",
      "        amrex::Real nmnmre_UUUU_0021 = -mim_U_0*mim_U_1*n_U_0*n_U_2 + mre_U_0*mre_U_1*n_U_0*n_U_2;\n",
      "        amrex::Real nmnmre_UUUU_0022 = -mim_U_0*mim_U_2*n_U_0*n_U_2 + mre_U_0*mre_U_2*n_U_0*n_U_2;\n",
      "        amrex::Real nmnmre_UUUU_0023 = -mim_U_0*mim_U_3*n_U_0*n_U_2 + mre_U_0*mre_U_3*n_U_0*n_U_2;\n",
      "        amrex::Real nmnmre_UUUU_0030 = -std::pow(mim_U_0, 2)*n_U_0*n_U_3 + std::pow(mre_U_0, 2)*n_U_0*n_U_3;\n",
      "        amrex::Real nmnmre_UUUU_0031 = -mim_U_0*mim_U_1*n_U_0*n_U_3 + mre_U_0*mre_U_1*n_U_0*n_U_3;\n",
      "        amrex::Real nmnmre_UUUU_0032 = -mim_U_0*mim_U_2*n_U_0*n_U_3 + mre_U_0*mre_U_2*n_U_0*n_U_3;\n",
      "        amrex::Real nmnmre_UUUU_0033 = -mim_U_0*mim_U_3*n_U_0*n_U_3 + mre_U_0*mre_U_3*n_U_0*n_U_3;\n",
      "        amrex::Real nmnmre_UUUU_0101 = -std::pow(mim_U_1, 2)*std::pow(n_U_0, 2) + std::pow(mre_U_1, 2)*std::pow(n_U_0, 2);\n",
      "        amrex::Real nmnmre_UUUU_0102 = -mim_U_1*mim_U_2*std::pow(n_U_0, 2) + mre_U_1*mre_U_2*std::pow(n_U_0, 2);\n",
      "        amrex::Real nmnmre_UUUU_0103 = -mim_U_1*mim_U_3*std::pow(n_U_0, 2) + mre_U_1*mre_U_3*std::pow(n_U_0, 2);\n",
      "        amrex::Real nmnmre_UUUU_0111 = -std::pow(mim_U_1, 2)*n_U_0*n_U_1 + std::pow(mre_U_1, 2)*n_U_0*n_U_1;\n",
      "        amrex::Real nmnmre_UUUU_0112 = -mim_U_1*mim_U_2*n_U_0*n_U_1 + mre_U_1*mre_U_2*n_U_0*n_U_1;\n",
      "        amrex::Real nmnmre_UUUU_0113 = -mim_U_1*mim_U_3*n_U_0*n_U_1 + mre_U_1*mre_U_3*n_U_0*n_U_1;\n",
      "        amrex::Real nmnmre_UUUU_0121 = -std::pow(mim_U_1, 2)*n_U_0*n_U_2 + std::pow(mre_U_1, 2)*n_U_0*n_U_2;\n",
      "        amrex::Real nmnmre_UUUU_0122 = -mim_U_1*mim_U_2*n_U_0*n_U_2 + mre_U_1*mre_U_2*n_U_0*n_U_2;\n",
      "        amrex::Real nmnmre_UUUU_0123 = -mim_U_1*mim_U_3*n_U_0*n_U_2 + mre_U_1*mre_U_3*n_U_0*n_U_2;\n",
      "        amrex::Real nmnmre_UUUU_0131 = -std::pow(mim_U_1, 2)*n_U_0*n_U_3 + std::pow(mre_U_1, 2)*n_U_0*n_U_3;\n",
      "        amrex::Real nmnmre_UUUU_0132 = -mim_U_1*mim_U_2*n_U_0*n_U_3 + mre_U_1*mre_U_2*n_U_0*n_U_3;\n",
      "        amrex::Real nmnmre_UUUU_0133 = -mim_U_1*mim_U_3*n_U_0*n_U_3 + mre_U_1*mre_U_3*n_U_0*n_U_3;\n",
      "        amrex::Real nmnmre_UUUU_0202 = -std::pow(mim_U_2, 2)*std::pow(n_U_0, 2) + std::pow(mre_U_2, 2)*std::pow(n_U_0, 2);\n",
      "        amrex::Real nmnmre_UUUU_0203 = -mim_U_2*mim_U_3*std::pow(n_U_0, 2) + mre_U_2*mre_U_3*std::pow(n_U_0, 2);\n",
      "        amrex::Real nmnmre_UUUU_0212 = -std::pow(mim_U_2, 2)*n_U_0*n_U_1 + std::pow(mre_U_2, 2)*n_U_0*n_U_1;\n",
      "        amrex::Real nmnmre_UUUU_0213 = -mim_U_2*mim_U_3*n_U_0*n_U_1 + mre_U_2*mre_U_3*n_U_0*n_U_1;\n",
      "        amrex::Real nmnmre_UUUU_0222 = -std::pow(mim_U_2, 2)*n_U_0*n_U_2 + std::pow(mre_U_2, 2)*n_U_0*n_U_2;\n",
      "        amrex::Real nmnmre_UUUU_0223 = -mim_U_2*mim_U_3*n_U_0*n_U_2 + mre_U_2*mre_U_3*n_U_0*n_U_2;\n",
      "        amrex::Real nmnmre_UUUU_0232 = -std::pow(mim_U_2, 2)*n_U_0*n_U_3 + std::pow(mre_U_2, 2)*n_U_0*n_U_3;\n",
      "        amrex::Real nmnmre_UUUU_0233 = -mim_U_2*mim_U_3*n_U_0*n_U_3 + mre_U_2*mre_U_3*n_U_0*n_U_3;\n",
      "        amrex::Real nmnmre_UUUU_0303 = -std::pow(mim_U_3, 2)*std::pow(n_U_0, 2) + std::pow(mre_U_3, 2)*std::pow(n_U_0, 2);\n",
      "        amrex::Real nmnmre_UUUU_0313 = -std::pow(mim_U_3, 2)*n_U_0*n_U_1 + std::pow(mre_U_3, 2)*n_U_0*n_U_1;\n",
      "        amrex::Real nmnmre_UUUU_0323 = -std::pow(mim_U_3, 2)*n_U_0*n_U_2 + std::pow(mre_U_3, 2)*n_U_0*n_U_2;\n",
      "        amrex::Real nmnmre_UUUU_0333 = -std::pow(mim_U_3, 2)*n_U_0*n_U_3 + std::pow(mre_U_3, 2)*n_U_0*n_U_3;\n",
      "        amrex::Real nmnmre_UUUU_1010 = -std::pow(mim_U_0, 2)*std::pow(n_U_1, 2) + std::pow(mre_U_0, 2)*std::pow(n_U_1, 2);\n",
      "        amrex::Real nmnmre_UUUU_1011 = -mim_U_0*mim_U_1*std::pow(n_U_1, 2) + mre_U_0*mre_U_1*std::pow(n_U_1, 2);\n",
      "        amrex::Real nmnmre_UUUU_1012 = -mim_U_0*mim_U_2*std::pow(n_U_1, 2) + mre_U_0*mre_U_2*std::pow(n_U_1, 2);\n",
      "        amrex::Real nmnmre_UUUU_1013 = -mim_U_0*mim_U_3*std::pow(n_U_1, 2) + mre_U_0*mre_U_3*std::pow(n_U_1, 2);\n",
      "        amrex::Real nmnmre_UUUU_1020 = -std::pow(mim_U_0, 2)*n_U_1*n_U_2 + std::pow(mre_U_0, 2)*n_U_1*n_U_2;\n",
      "        amrex::Real nmnmre_UUUU_1021 = -mim_U_0*mim_U_1*n_U_1*n_U_2 + mre_U_0*mre_U_1*n_U_1*n_U_2;\n",
      "        amrex::Real nmnmre_UUUU_1022 = -mim_U_0*mim_U_2*n_U_1*n_U_2 + mre_U_0*mre_U_2*n_U_1*n_U_2;\n",
      "        amrex::Real nmnmre_UUUU_1023 = -mim_U_0*mim_U_3*n_U_1*n_U_2 + mre_U_0*mre_U_3*n_U_1*n_U_2;\n",
      "        amrex::Real nmnmre_UUUU_1030 = -std::pow(mim_U_0, 2)*n_U_1*n_U_3 + std::pow(mre_U_0, 2)*n_U_1*n_U_3;\n",
      "        amrex::Real nmnmre_UUUU_1031 = -mim_U_0*mim_U_1*n_U_1*n_U_3 + mre_U_0*mre_U_1*n_U_1*n_U_3;\n",
      "        amrex::Real nmnmre_UUUU_1032 = -mim_U_0*mim_U_2*n_U_1*n_U_3 + mre_U_0*mre_U_2*n_U_1*n_U_3;\n",
      "        amrex::Real nmnmre_UUUU_1033 = -mim_U_0*mim_U_3*n_U_1*n_U_3 + mre_U_0*mre_U_3*n_U_1*n_U_3;\n",
      "        amrex::Real nmnmre_UUUU_1111 = -std::pow(mim_U_1, 2)*std::pow(n_U_1, 2) + std::pow(mre_U_1, 2)*std::pow(n_U_1, 2);\n",
      "        amrex::Real nmnmre_UUUU_1112 = -mim_U_1*mim_U_2*std::pow(n_U_1, 2) + mre_U_1*mre_U_2*std::pow(n_U_1, 2);\n",
      "        amrex::Real nmnmre_UUUU_1113 = -mim_U_1*mim_U_3*std::pow(n_U_1, 2) + mre_U_1*mre_U_3*std::pow(n_U_1, 2);\n",
      "        amrex::Real nmnmre_UUUU_1121 = -std::pow(mim_U_1, 2)*n_U_1*n_U_2 + std::pow(mre_U_1, 2)*n_U_1*n_U_2;\n",
      "        amrex::Real nmnmre_UUUU_1122 = -mim_U_1*mim_U_2*n_U_1*n_U_2 + mre_U_1*mre_U_2*n_U_1*n_U_2;\n",
      "        amrex::Real nmnmre_UUUU_1123 = -mim_U_1*mim_U_3*n_U_1*n_U_2 + mre_U_1*mre_U_3*n_U_1*n_U_2;\n",
      "        amrex::Real nmnmre_UUUU_1131 = -std::pow(mim_U_1, 2)*n_U_1*n_U_3 + std::pow(mre_U_1, 2)*n_U_1*n_U_3;\n",
      "        amrex::Real nmnmre_UUUU_1132 = -mim_U_1*mim_U_2*n_U_1*n_U_3 + mre_U_1*mre_U_2*n_U_1*n_U_3;\n",
      "        amrex::Real nmnmre_UUUU_1133 = -mim_U_1*mim_U_3*n_U_1*n_U_3 + mre_U_1*mre_U_3*n_U_1*n_U_3;\n",
      "        amrex::Real nmnmre_UUUU_1212 = -std::pow(mim_U_2, 2)*std::pow(n_U_1, 2) + std::pow(mre_U_2, 2)*std::pow(n_U_1, 2);\n",
      "        amrex::Real nmnmre_UUUU_1213 = -mim_U_2*mim_U_3*std::pow(n_U_1, 2) + mre_U_2*mre_U_3*std::pow(n_U_1, 2);\n",
      "        amrex::Real nmnmre_UUUU_1222 = -std::pow(mim_U_2, 2)*n_U_1*n_U_2 + std::pow(mre_U_2, 2)*n_U_1*n_U_2;\n",
      "        amrex::Real nmnmre_UUUU_1223 = -mim_U_2*mim_U_3*n_U_1*n_U_2 + mre_U_2*mre_U_3*n_U_1*n_U_2;\n",
      "        amrex::Real nmnmre_UUUU_1232 = -std::pow(mim_U_2, 2)*n_U_1*n_U_3 + std::pow(mre_U_2, 2)*n_U_1*n_U_3;\n",
      "        amrex::Real nmnmre_UUUU_1233 = -mim_U_2*mim_U_3*n_U_1*n_U_3 + mre_U_2*mre_U_3*n_U_1*n_U_3;\n",
      "        amrex::Real nmnmre_UUUU_1313 = -std::pow(mim_U_3, 2)*std::pow(n_U_1, 2) + std::pow(mre_U_3, 2)*std::pow(n_U_1, 2);\n",
      "        amrex::Real nmnmre_UUUU_1323 = -std::pow(mim_U_3, 2)*n_U_1*n_U_2 + std::pow(mre_U_3, 2)*n_U_1*n_U_2;\n",
      "        amrex::Real nmnmre_UUUU_1333 = -std::pow(mim_U_3, 2)*n_U_1*n_U_3 + std::pow(mre_U_3, 2)*n_U_1*n_U_3;\n",
      "        amrex::Real nmnmre_UUUU_2020 = -std::pow(mim_U_0, 2)*std::pow(n_U_2, 2) + std::pow(mre_U_0, 2)*std::pow(n_U_2, 2);\n",
      "        amrex::Real nmnmre_UUUU_2021 = -mim_U_0*mim_U_1*std::pow(n_U_2, 2) + mre_U_0*mre_U_1*std::pow(n_U_2, 2);\n",
      "        amrex::Real nmnmre_UUUU_2022 = -mim_U_0*mim_U_2*std::pow(n_U_2, 2) + mre_U_0*mre_U_2*std::pow(n_U_2, 2);\n",
      "        amrex::Real nmnmre_UUUU_2023 = -mim_U_0*mim_U_3*std::pow(n_U_2, 2) + mre_U_0*mre_U_3*std::pow(n_U_2, 2);\n",
      "        amrex::Real nmnmre_UUUU_2030 = -std::pow(mim_U_0, 2)*n_U_2*n_U_3 + std::pow(mre_U_0, 2)*n_U_2*n_U_3;\n",
      "        amrex::Real nmnmre_UUUU_2031 = -mim_U_0*mim_U_1*n_U_2*n_U_3 + mre_U_0*mre_U_1*n_U_2*n_U_3;\n",
      "        amrex::Real nmnmre_UUUU_2032 = -mim_U_0*mim_U_2*n_U_2*n_U_3 + mre_U_0*mre_U_2*n_U_2*n_U_3;\n",
      "        amrex::Real nmnmre_UUUU_2033 = -mim_U_0*mim_U_3*n_U_2*n_U_3 + mre_U_0*mre_U_3*n_U_2*n_U_3;\n",
      "        amrex::Real nmnmre_UUUU_2121 = -std::pow(mim_U_1, 2)*std::pow(n_U_2, 2) + std::pow(mre_U_1, 2)*std::pow(n_U_2, 2);\n",
      "        amrex::Real nmnmre_UUUU_2122 = -mim_U_1*mim_U_2*std::pow(n_U_2, 2) + mre_U_1*mre_U_2*std::pow(n_U_2, 2);\n",
      "        amrex::Real nmnmre_UUUU_2123 = -mim_U_1*mim_U_3*std::pow(n_U_2, 2) + mre_U_1*mre_U_3*std::pow(n_U_2, 2);\n",
      "        amrex::Real nmnmre_UUUU_2131 = -std::pow(mim_U_1, 2)*n_U_2*n_U_3 + std::pow(mre_U_1, 2)*n_U_2*n_U_3;\n",
      "        amrex::Real nmnmre_UUUU_2132 = -mim_U_1*mim_U_2*n_U_2*n_U_3 + mre_U_1*mre_U_2*n_U_2*n_U_3;\n",
      "        amrex::Real nmnmre_UUUU_2133 = -mim_U_1*mim_U_3*n_U_2*n_U_3 + mre_U_1*mre_U_3*n_U_2*n_U_3;\n",
      "        amrex::Real nmnmre_UUUU_2222 = -std::pow(mim_U_2, 2)*std::pow(n_U_2, 2) + std::pow(mre_U_2, 2)*std::pow(n_U_2, 2);\n",
      "        amrex::Real nmnmre_UUUU_2223 = -mim_U_2*mim_U_3*std::pow(n_U_2, 2) + mre_U_2*mre_U_3*std::pow(n_U_2, 2);\n",
      "        amrex::Real nmnmre_UUUU_2232 = -std::pow(mim_U_2, 2)*n_U_2*n_U_3 + std::pow(mre_U_2, 2)*n_U_2*n_U_3;\n",
      "        amrex::Real nmnmre_UUUU_2233 = -mim_U_2*mim_U_3*n_U_2*n_U_3 + mre_U_2*mre_U_3*n_U_2*n_U_3;\n",
      "        amrex::Real nmnmre_UUUU_2323 = -std::pow(mim_U_3, 2)*std::pow(n_U_2, 2) + std::pow(mre_U_3, 2)*std::pow(n_U_2, 2);\n",
      "        amrex::Real nmnmre_UUUU_2333 = -std::pow(mim_U_3, 2)*n_U_2*n_U_3 + std::pow(mre_U_3, 2)*n_U_2*n_U_3;\n",
      "        amrex::Real nmnmre_UUUU_3030 = -std::pow(mim_U_0, 2)*std::pow(n_U_3, 2) + std::pow(mre_U_0, 2)*std::pow(n_U_3, 2);\n",
      "        amrex::Real nmnmre_UUUU_3031 = -mim_U_0*mim_U_1*std::pow(n_U_3, 2) + mre_U_0*mre_U_1*std::pow(n_U_3, 2);\n",
      "        amrex::Real nmnmre_UUUU_3032 = -mim_U_0*mim_U_2*std::pow(n_U_3, 2) + mre_U_0*mre_U_2*std::pow(n_U_3, 2);\n",
      "        amrex::Real nmnmre_UUUU_3033 = -mim_U_0*mim_U_3*std::pow(n_U_3, 2) + mre_U_0*mre_U_3*std::pow(n_U_3, 2);\n",
      "        amrex::Real nmnmre_UUUU_3131 = -std::pow(mim_U_1, 2)*std::pow(n_U_3, 2) + std::pow(mre_U_1, 2)*std::pow(n_U_3, 2);\n",
      "        amrex::Real nmnmre_UUUU_3132 = -mim_U_1*mim_U_2*std::pow(n_U_3, 2) + mre_U_1*mre_U_2*std::pow(n_U_3, 2);\n",
      "        amrex::Real nmnmre_UUUU_3133 = -mim_U_1*mim_U_3*std::pow(n_U_3, 2) + mre_U_1*mre_U_3*std::pow(n_U_3, 2);\n",
      "        amrex::Real nmnmre_UUUU_3232 = -std::pow(mim_U_2, 2)*std::pow(n_U_3, 2) + std::pow(mre_U_2, 2)*std::pow(n_U_3, 2);\n",
      "        amrex::Real nmnmre_UUUU_3233 = -mim_U_2*mim_U_3*std::pow(n_U_3, 2) + mre_U_2*mre_U_3*std::pow(n_U_3, 2);\n",
      "        amrex::Real nmnmre_UUUU_3333 = -std::pow(mim_U_3, 2)*std::pow(n_U_3, 2) + std::pow(mre_U_3, 2)*std::pow(n_U_3, 2);\n",
      "\n",
      "        amrex::Real nmnmim_UUUU_0000 = -2*mim_U_0*mre_U_0*std::pow(n_U_0, 2);\n",
      "        amrex::Real nmnmim_UUUU_0001 = -mim_U_0*mre_U_1*std::pow(n_U_0, 2) - mim_U_1*mre_U_0*std::pow(n_U_0, 2);\n",
      "        amrex::Real nmnmim_UUUU_0002 = -mim_U_0*mre_U_2*std::pow(n_U_0, 2) - mim_U_2*mre_U_0*std::pow(n_U_0, 2);\n",
      "        amrex::Real nmnmim_UUUU_0003 = -mim_U_0*mre_U_3*std::pow(n_U_0, 2) - mim_U_3*mre_U_0*std::pow(n_U_0, 2);\n",
      "        amrex::Real nmnmim_UUUU_0010 = -2*mim_U_0*mre_U_0*n_U_0*n_U_1;\n",
      "        amrex::Real nmnmim_UUUU_0011 = -mim_U_0*mre_U_1*n_U_0*n_U_1 - mim_U_1*mre_U_0*n_U_0*n_U_1;\n",
      "        amrex::Real nmnmim_UUUU_0012 = -mim_U_0*mre_U_2*n_U_0*n_U_1 - mim_U_2*mre_U_0*n_U_0*n_U_1;\n",
      "        amrex::Real nmnmim_UUUU_0013 = -mim_U_0*mre_U_3*n_U_0*n_U_1 - mim_U_3*mre_U_0*n_U_0*n_U_1;\n",
      "        amrex::Real nmnmim_UUUU_0020 = -2*mim_U_0*mre_U_0*n_U_0*n_U_2;\n",
      "        amrex::Real nmnmim_UUUU_0021 = -mim_U_0*mre_U_1*n_U_0*n_U_2 - mim_U_1*mre_U_0*n_U_0*n_U_2;\n",
      "        amrex::Real nmnmim_UUUU_0022 = -mim_U_0*mre_U_2*n_U_0*n_U_2 - mim_U_2*mre_U_0*n_U_0*n_U_2;\n",
      "        amrex::Real nmnmim_UUUU_0023 = -mim_U_0*mre_U_3*n_U_0*n_U_2 - mim_U_3*mre_U_0*n_U_0*n_U_2;\n",
      "        amrex::Real nmnmim_UUUU_0030 = -2*mim_U_0*mre_U_0*n_U_0*n_U_3;\n",
      "        amrex::Real nmnmim_UUUU_0031 = -mim_U_0*mre_U_1*n_U_0*n_U_3 - mim_U_1*mre_U_0*n_U_0*n_U_3;\n",
      "        amrex::Real nmnmim_UUUU_0032 = -mim_U_0*mre_U_2*n_U_0*n_U_3 - mim_U_2*mre_U_0*n_U_0*n_U_3;\n",
      "        amrex::Real nmnmim_UUUU_0033 = -mim_U_0*mre_U_3*n_U_0*n_U_3 - mim_U_3*mre_U_0*n_U_0*n_U_3;\n",
      "        amrex::Real nmnmim_UUUU_0101 = -2*mim_U_1*mre_U_1*std::pow(n_U_0, 2);\n",
      "        amrex::Real nmnmim_UUUU_0102 = -mim_U_1*mre_U_2*std::pow(n_U_0, 2) - mim_U_2*mre_U_1*std::pow(n_U_0, 2);\n",
      "        amrex::Real nmnmim_UUUU_0103 = -mim_U_1*mre_U_3*std::pow(n_U_0, 2) - mim_U_3*mre_U_1*std::pow(n_U_0, 2);\n",
      "        amrex::Real nmnmim_UUUU_0111 = -2*mim_U_1*mre_U_1*n_U_0*n_U_1;\n",
      "        amrex::Real nmnmim_UUUU_0112 = -mim_U_1*mre_U_2*n_U_0*n_U_1 - mim_U_2*mre_U_1*n_U_0*n_U_1;\n",
      "        amrex::Real nmnmim_UUUU_0113 = -mim_U_1*mre_U_3*n_U_0*n_U_1 - mim_U_3*mre_U_1*n_U_0*n_U_1;\n",
      "        amrex::Real nmnmim_UUUU_0121 = -2*mim_U_1*mre_U_1*n_U_0*n_U_2;\n",
      "        amrex::Real nmnmim_UUUU_0122 = -mim_U_1*mre_U_2*n_U_0*n_U_2 - mim_U_2*mre_U_1*n_U_0*n_U_2;\n",
      "        amrex::Real nmnmim_UUUU_0123 = -mim_U_1*mre_U_3*n_U_0*n_U_2 - mim_U_3*mre_U_1*n_U_0*n_U_2;\n",
      "        amrex::Real nmnmim_UUUU_0131 = -2*mim_U_1*mre_U_1*n_U_0*n_U_3;\n",
      "        amrex::Real nmnmim_UUUU_0132 = -mim_U_1*mre_U_2*n_U_0*n_U_3 - mim_U_2*mre_U_1*n_U_0*n_U_3;\n",
      "        amrex::Real nmnmim_UUUU_0133 = -mim_U_1*mre_U_3*n_U_0*n_U_3 - mim_U_3*mre_U_1*n_U_0*n_U_3;\n",
      "        amrex::Real nmnmim_UUUU_0202 = -2*mim_U_2*mre_U_2*std::pow(n_U_0, 2);\n",
      "        amrex::Real nmnmim_UUUU_0203 = -mim_U_2*mre_U_3*std::pow(n_U_0, 2) - mim_U_3*mre_U_2*std::pow(n_U_0, 2);\n",
      "        amrex::Real nmnmim_UUUU_0212 = -2*mim_U_2*mre_U_2*n_U_0*n_U_1;\n",
      "        amrex::Real nmnmim_UUUU_0213 = -mim_U_2*mre_U_3*n_U_0*n_U_1 - mim_U_3*mre_U_2*n_U_0*n_U_1;\n",
      "        amrex::Real nmnmim_UUUU_0222 = -2*mim_U_2*mre_U_2*n_U_0*n_U_2;\n",
      "        amrex::Real nmnmim_UUUU_0223 = -mim_U_2*mre_U_3*n_U_0*n_U_2 - mim_U_3*mre_U_2*n_U_0*n_U_2;\n",
      "        amrex::Real nmnmim_UUUU_0232 = -2*mim_U_2*mre_U_2*n_U_0*n_U_3;\n",
      "        amrex::Real nmnmim_UUUU_0233 = -mim_U_2*mre_U_3*n_U_0*n_U_3 - mim_U_3*mre_U_2*n_U_0*n_U_3;\n",
      "        amrex::Real nmnmim_UUUU_0303 = -2*mim_U_3*mre_U_3*std::pow(n_U_0, 2);\n",
      "        amrex::Real nmnmim_UUUU_0313 = -2*mim_U_3*mre_U_3*n_U_0*n_U_1;\n",
      "        amrex::Real nmnmim_UUUU_0323 = -2*mim_U_3*mre_U_3*n_U_0*n_U_2;\n",
      "        amrex::Real nmnmim_UUUU_0333 = -2*mim_U_3*mre_U_3*n_U_0*n_U_3;\n",
      "        amrex::Real nmnmim_UUUU_1010 = -2*mim_U_0*mre_U_0*std::pow(n_U_1, 2);\n",
      "        amrex::Real nmnmim_UUUU_1011 = -mim_U_0*mre_U_1*std::pow(n_U_1, 2) - mim_U_1*mre_U_0*std::pow(n_U_1, 2);\n",
      "        amrex::Real nmnmim_UUUU_1012 = -mim_U_0*mre_U_2*std::pow(n_U_1, 2) - mim_U_2*mre_U_0*std::pow(n_U_1, 2);\n",
      "        amrex::Real nmnmim_UUUU_1013 = -mim_U_0*mre_U_3*std::pow(n_U_1, 2) - mim_U_3*mre_U_0*std::pow(n_U_1, 2);\n",
      "        amrex::Real nmnmim_UUUU_1020 = -2*mim_U_0*mre_U_0*n_U_1*n_U_2;\n",
      "        amrex::Real nmnmim_UUUU_1021 = -mim_U_0*mre_U_1*n_U_1*n_U_2 - mim_U_1*mre_U_0*n_U_1*n_U_2;\n",
      "        amrex::Real nmnmim_UUUU_1022 = -mim_U_0*mre_U_2*n_U_1*n_U_2 - mim_U_2*mre_U_0*n_U_1*n_U_2;\n",
      "        amrex::Real nmnmim_UUUU_1023 = -mim_U_0*mre_U_3*n_U_1*n_U_2 - mim_U_3*mre_U_0*n_U_1*n_U_2;\n",
      "        amrex::Real nmnmim_UUUU_1030 = -2*mim_U_0*mre_U_0*n_U_1*n_U_3;\n",
      "        amrex::Real nmnmim_UUUU_1031 = -mim_U_0*mre_U_1*n_U_1*n_U_3 - mim_U_1*mre_U_0*n_U_1*n_U_3;\n",
      "        amrex::Real nmnmim_UUUU_1032 = -mim_U_0*mre_U_2*n_U_1*n_U_3 - mim_U_2*mre_U_0*n_U_1*n_U_3;\n",
      "        amrex::Real nmnmim_UUUU_1033 = -mim_U_0*mre_U_3*n_U_1*n_U_3 - mim_U_3*mre_U_0*n_U_1*n_U_3;\n",
      "        amrex::Real nmnmim_UUUU_1111 = -2*mim_U_1*mre_U_1*std::pow(n_U_1, 2);\n",
      "        amrex::Real nmnmim_UUUU_1112 = -mim_U_1*mre_U_2*std::pow(n_U_1, 2) - mim_U_2*mre_U_1*std::pow(n_U_1, 2);\n",
      "        amrex::Real nmnmim_UUUU_1113 = -mim_U_1*mre_U_3*std::pow(n_U_1, 2) - mim_U_3*mre_U_1*std::pow(n_U_1, 2);\n",
      "        amrex::Real nmnmim_UUUU_1121 = -2*mim_U_1*mre_U_1*n_U_1*n_U_2;\n",
      "        amrex::Real nmnmim_UUUU_1122 = -mim_U_1*mre_U_2*n_U_1*n_U_2 - mim_U_2*mre_U_1*n_U_1*n_U_2;\n",
      "        amrex::Real nmnmim_UUUU_1123 = -mim_U_1*mre_U_3*n_U_1*n_U_2 - mim_U_3*mre_U_1*n_U_1*n_U_2;\n",
      "        amrex::Real nmnmim_UUUU_1131 = -2*mim_U_1*mre_U_1*n_U_1*n_U_3;\n",
      "        amrex::Real nmnmim_UUUU_1132 = -mim_U_1*mre_U_2*n_U_1*n_U_3 - mim_U_2*mre_U_1*n_U_1*n_U_3;\n",
      "        amrex::Real nmnmim_UUUU_1133 = -mim_U_1*mre_U_3*n_U_1*n_U_3 - mim_U_3*mre_U_1*n_U_1*n_U_3;\n",
      "        amrex::Real nmnmim_UUUU_1212 = -2*mim_U_2*mre_U_2*std::pow(n_U_1, 2);\n",
      "        amrex::Real nmnmim_UUUU_1213 = -mim_U_2*mre_U_3*std::pow(n_U_1, 2) - mim_U_3*mre_U_2*std::pow(n_U_1, 2);\n",
      "        amrex::Real nmnmim_UUUU_1222 = -2*mim_U_2*mre_U_2*n_U_1*n_U_2;\n",
      "        amrex::Real nmnmim_UUUU_1223 = -mim_U_2*mre_U_3*n_U_1*n_U_2 - mim_U_3*mre_U_2*n_U_1*n_U_2;\n",
      "        amrex::Real nmnmim_UUUU_1232 = -2*mim_U_2*mre_U_2*n_U_1*n_U_3;\n",
      "        amrex::Real nmnmim_UUUU_1233 = -mim_U_2*mre_U_3*n_U_1*n_U_3 - mim_U_3*mre_U_2*n_U_1*n_U_3;\n",
      "        amrex::Real nmnmim_UUUU_1313 = -2*mim_U_3*mre_U_3*std::pow(n_U_1, 2);\n",
      "        amrex::Real nmnmim_UUUU_1323 = -2*mim_U_3*mre_U_3*n_U_1*n_U_2;\n",
      "        amrex::Real nmnmim_UUUU_1333 = -2*mim_U_3*mre_U_3*n_U_1*n_U_3;\n",
      "        amrex::Real nmnmim_UUUU_2020 = -2*mim_U_0*mre_U_0*std::pow(n_U_2, 2);\n",
      "        amrex::Real nmnmim_UUUU_2021 = -mim_U_0*mre_U_1*std::pow(n_U_2, 2) - mim_U_1*mre_U_0*std::pow(n_U_2, 2);\n",
      "        amrex::Real nmnmim_UUUU_2022 = -mim_U_0*mre_U_2*std::pow(n_U_2, 2) - mim_U_2*mre_U_0*std::pow(n_U_2, 2);\n",
      "        amrex::Real nmnmim_UUUU_2023 = -mim_U_0*mre_U_3*std::pow(n_U_2, 2) - mim_U_3*mre_U_0*std::pow(n_U_2, 2);\n",
      "        amrex::Real nmnmim_UUUU_2030 = -2*mim_U_0*mre_U_0*n_U_2*n_U_3;\n",
      "        amrex::Real nmnmim_UUUU_2031 = -mim_U_0*mre_U_1*n_U_2*n_U_3 - mim_U_1*mre_U_0*n_U_2*n_U_3;\n",
      "        amrex::Real nmnmim_UUUU_2032 = -mim_U_0*mre_U_2*n_U_2*n_U_3 - mim_U_2*mre_U_0*n_U_2*n_U_3;\n",
      "        amrex::Real nmnmim_UUUU_2033 = -mim_U_0*mre_U_3*n_U_2*n_U_3 - mim_U_3*mre_U_0*n_U_2*n_U_3;\n",
      "        amrex::Real nmnmim_UUUU_2121 = -2*mim_U_1*mre_U_1*std::pow(n_U_2, 2);\n",
      "        amrex::Real nmnmim_UUUU_2122 = -mim_U_1*mre_U_2*std::pow(n_U_2, 2) - mim_U_2*mre_U_1*std::pow(n_U_2, 2);\n",
      "        amrex::Real nmnmim_UUUU_2123 = -mim_U_1*mre_U_3*std::pow(n_U_2, 2) - mim_U_3*mre_U_1*std::pow(n_U_2, 2);\n",
      "        amrex::Real nmnmim_UUUU_2131 = -2*mim_U_1*mre_U_1*n_U_2*n_U_3;\n",
      "        amrex::Real nmnmim_UUUU_2132 = -mim_U_1*mre_U_2*n_U_2*n_U_3 - mim_U_2*mre_U_1*n_U_2*n_U_3;\n",
      "        amrex::Real nmnmim_UUUU_2133 = -mim_U_1*mre_U_3*n_U_2*n_U_3 - mim_U_3*mre_U_1*n_U_2*n_U_3;\n",
      "        amrex::Real nmnmim_UUUU_2222 = -2*mim_U_2*mre_U_2*std::pow(n_U_2, 2);\n",
      "        amrex::Real nmnmim_UUUU_2223 = -mim_U_2*mre_U_3*std::pow(n_U_2, 2) - mim_U_3*mre_U_2*std::pow(n_U_2, 2);\n",
      "        amrex::Real nmnmim_UUUU_2232 = -2*mim_U_2*mre_U_2*n_U_2*n_U_3;\n",
      "        amrex::Real nmnmim_UUUU_2233 = -mim_U_2*mre_U_3*n_U_2*n_U_3 - mim_U_3*mre_U_2*n_U_2*n_U_3;\n",
      "        amrex::Real nmnmim_UUUU_2323 = -2*mim_U_3*mre_U_3*std::pow(n_U_2, 2);\n",
      "        amrex::Real nmnmim_UUUU_2333 = -2*mim_U_3*mre_U_3*n_U_2*n_U_3;\n",
      "        amrex::Real nmnmim_UUUU_3030 = -2*mim_U_0*mre_U_0*std::pow(n_U_3, 2);\n",
      "        amrex::Real nmnmim_UUUU_3031 = -mim_U_0*mre_U_1*std::pow(n_U_3, 2) - mim_U_1*mre_U_0*std::pow(n_U_3, 2);\n",
      "        amrex::Real nmnmim_UUUU_3032 = -mim_U_0*mre_U_2*std::pow(n_U_3, 2) - mim_U_2*mre_U_0*std::pow(n_U_3, 2);\n",
      "        amrex::Real nmnmim_UUUU_3033 = -mim_U_0*mre_U_3*std::pow(n_U_3, 2) - mim_U_3*mre_U_0*std::pow(n_U_3, 2);\n",
      "        amrex::Real nmnmim_UUUU_3131 = -2*mim_U_1*mre_U_1*std::pow(n_U_3, 2);\n",
      "        amrex::Real nmnmim_UUUU_3132 = -mim_U_1*mre_U_2*std::pow(n_U_3, 2) - mim_U_2*mre_U_1*std::pow(n_U_3, 2);\n",
      "        amrex::Real nmnmim_UUUU_3133 = -mim_U_1*mre_U_3*std::pow(n_U_3, 2) - mim_U_3*mre_U_1*std::pow(n_U_3, 2);\n",
      "        amrex::Real nmnmim_UUUU_3232 = -2*mim_U_2*mre_U_2*std::pow(n_U_3, 2);\n",
      "        amrex::Real nmnmim_UUUU_3233 = -mim_U_2*mre_U_3*std::pow(n_U_3, 2) - mim_U_3*mre_U_2*std::pow(n_U_3, 2);\n",
      "        amrex::Real nmnmim_UUUU_3333 = -2*mim_U_3*mre_U_3*std::pow(n_U_3, 2);\n",
      "\n",
      "        diag(i, j, k, Diag::Psi4re) = -2*nmnmre_UUUU_0011*rank4term_LLLL_0101 - nmnmre_UUUU_0012*rank4term_LLLL_0102 - nmnmre_UUUU_0012*rank4term_LLLL_0201 - nmnmre_UUUU_0021*rank4term_LLLL_0102 - nmnmre_UUUU_0021*rank4term_LLLL_0201 - 2*nmnmre_UUUU_0022*rank4term_LLLL_0202 + nmnmre_UUUU_0101*rank4term_LLLL_0101 + nmnmre_UUUU_0102*rank4term_LLLL_0102 + nmnmre_UUUU_0102*rank4term_LLLL_0201 + nmnmre_UUUU_0112*rank4term_LLLL_0112 + nmnmre_UUUU_0112*rank4term_LLLL_1201 - nmnmre_UUUU_0121*rank4term_LLLL_0112 - nmnmre_UUUU_0121*rank4term_LLLL_1201 - nmnmre_UUUU_0122*rank4term_LLLL_0212 - nmnmre_UUUU_0122*rank4term_LLLL_1202 + nmnmre_UUUU_0202*rank4term_LLLL_0202 + nmnmre_UUUU_0212*rank4term_LLLL_0212 + nmnmre_UUUU_0212*rank4term_LLLL_1202 + nmnmre_UUUU_1010*rank4term_LLLL_0101 - nmnmre_UUUU_1012*rank4term_LLLL_0112 - nmnmre_UUUU_1012*rank4term_LLLL_1201 + nmnmre_UUUU_1020*rank4term_LLLL_0102 + nmnmre_UUUU_1020*rank4term_LLLL_0201 + nmnmre_UUUU_1021*rank4term_LLLL_0112 + nmnmre_UUUU_1021*rank4term_LLLL_1201 - nmnmre_UUUU_1022*rank4term_LLLL_0212 - nmnmre_UUUU_1022*rank4term_LLLL_1202 - 2*nmnmre_UUUU_1122*rank4term_LLLL_1212 + nmnmre_UUUU_1212*rank4term_LLLL_1212 + nmnmre_UUUU_2020*rank4term_LLLL_0202 + nmnmre_UUUU_2021*rank4term_LLLL_0212 + nmnmre_UUUU_2021*rank4term_LLLL_1202 + nmnmre_UUUU_2121*rank4term_LLLL_1212 + 0.25*rank2term_LL_00*(-2*nmnmre_UUUU_0033 + nmnmre_UUUU_0303 + nmnmre_UUUU_3030) + 0.25*rank2term_LL_01*(-2*nmnmre_UUUU_0133 + nmnmre_UUUU_0313 + nmnmre_UUUU_3031) + 0.25*rank2term_LL_01*(nmnmre_UUUU_0313 - 2*nmnmre_UUUU_1033 + nmnmre_UUUU_3031) + 0.25*rank2term_LL_02*(-2*nmnmre_UUUU_0233 + nmnmre_UUUU_0323 + nmnmre_UUUU_3032) + 0.25*rank2term_LL_02*(nmnmre_UUUU_0323 - 2*nmnmre_UUUU_2033 + nmnmre_UUUU_3032) + 0.25*rank2term_LL_11*(-2*nmnmre_UUUU_1133 + nmnmre_UUUU_1313 + nmnmre_UUUU_3131) + 0.25*rank2term_LL_12*(-2*nmnmre_UUUU_1233 + nmnmre_UUUU_1323 + nmnmre_UUUU_3132) + 0.25*rank2term_LL_12*(nmnmre_UUUU_1323 - 2*nmnmre_UUUU_2133 + nmnmre_UUUU_3132) + 0.25*rank2term_LL_22*(-2*nmnmre_UUUU_2233 + nmnmre_UUUU_2323 + nmnmre_UUUU_3232) - 0.5*rank3term_LLL_001*(-nmnmre_UUUU_0013 + nmnmre_UUUU_1030) + 0.5*rank3term_LLL_001*(nmnmre_UUUU_0031 - nmnmre_UUUU_0103) - 0.5*rank3term_LLL_002*(-nmnmre_UUUU_0023 + nmnmre_UUUU_2030) + 0.5*rank3term_LLL_002*(nmnmre_UUUU_0032 - nmnmre_UUUU_0203) - 0.5*rank3term_LLL_012*(-nmnmre_UUUU_0123 + nmnmre_UUUU_2031) + 0.5*rank3term_LLL_012*(-nmnmre_UUUU_0213 + nmnmre_UUUU_1032) + 0.5*rank3term_LLL_101*(-nmnmre_UUUU_0113 + nmnmre_UUUU_0131) - 0.5*rank3term_LLL_101*(-nmnmre_UUUU_1013 + nmnmre_UUUU_1031) + 0.5*rank3term_LLL_102*(nmnmre_UUUU_0132 - nmnmre_UUUU_0213) - 0.5*rank3term_LLL_102*(-nmnmre_UUUU_1023 + nmnmre_UUUU_2031) - 0.5*rank3term_LLL_112*(-nmnmre_UUUU_1123 + nmnmre_UUUU_2131) + 0.5*rank3term_LLL_112*(nmnmre_UUUU_1132 - nmnmre_UUUU_1213) + 0.5*rank3term_LLL_201*(-nmnmre_UUUU_0123 + nmnmre_UUUU_0132) - 0.5*rank3term_LLL_201*(-nmnmre_UUUU_1023 + nmnmre_UUUU_1032) + 0.5*rank3term_LLL_202*(-nmnmre_UUUU_0223 + nmnmre_UUUU_0232) - 0.5*rank3term_LLL_202*(-nmnmre_UUUU_2023 + nmnmre_UUUU_2032) + 0.5*rank3term_LLL_212*(-nmnmre_UUUU_1223 + nmnmre_UUUU_1232) - 0.5*rank3term_LLL_212*(-nmnmre_UUUU_2123 + nmnmre_UUUU_2132);\n",
      "\n",
      "        diag(i, j, k, Diag::Psi4im) = -2*nmnmim_UUUU_0011*rank4term_LLLL_0101 - nmnmim_UUUU_0012*rank4term_LLLL_0102 - nmnmim_UUUU_0012*rank4term_LLLL_0201 - nmnmim_UUUU_0021*rank4term_LLLL_0102 - nmnmim_UUUU_0021*rank4term_LLLL_0201 - 2*nmnmim_UUUU_0022*rank4term_LLLL_0202 + nmnmim_UUUU_0101*rank4term_LLLL_0101 + nmnmim_UUUU_0102*rank4term_LLLL_0102 + nmnmim_UUUU_0102*rank4term_LLLL_0201 + nmnmim_UUUU_0112*rank4term_LLLL_0112 + nmnmim_UUUU_0112*rank4term_LLLL_1201 - nmnmim_UUUU_0121*rank4term_LLLL_0112 - nmnmim_UUUU_0121*rank4term_LLLL_1201 - nmnmim_UUUU_0122*rank4term_LLLL_0212 - nmnmim_UUUU_0122*rank4term_LLLL_1202 + nmnmim_UUUU_0202*rank4term_LLLL_0202 + nmnmim_UUUU_0212*rank4term_LLLL_0212 + nmnmim_UUUU_0212*rank4term_LLLL_1202 + nmnmim_UUUU_1010*rank4term_LLLL_0101 - nmnmim_UUUU_1012*rank4term_LLLL_0112 - nmnmim_UUUU_1012*rank4term_LLLL_1201 + nmnmim_UUUU_1020*rank4term_LLLL_0102 + nmnmim_UUUU_1020*rank4term_LLLL_0201 + nmnmim_UUUU_1021*rank4term_LLLL_0112 + nmnmim_UUUU_1021*rank4term_LLLL_1201 - nmnmim_UUUU_1022*rank4term_LLLL_0212 - nmnmim_UUUU_1022*rank4term_LLLL_1202 - 2*nmnmim_UUUU_1122*rank4term_LLLL_1212 + nmnmim_UUUU_1212*rank4term_LLLL_1212 + nmnmim_UUUU_2020*rank4term_LLLL_0202 + nmnmim_UUUU_2021*rank4term_LLLL_0212 + nmnmim_UUUU_2021*rank4term_LLLL_1202 + nmnmim_UUUU_2121*rank4term_LLLL_1212 + 0.25*rank2term_LL_00*(-2*nmnmim_UUUU_0033 + nmnmim_UUUU_0303 + nmnmim_UUUU_3030) + 0.25*rank2term_LL_01*(-2*nmnmim_UUUU_0133 + nmnmim_UUUU_0313 + nmnmim_UUUU_3031) + 0.25*rank2term_LL_01*(nmnmim_UUUU_0313 - 2*nmnmim_UUUU_1033 + nmnmim_UUUU_3031) + 0.25*rank2term_LL_02*(-2*nmnmim_UUUU_0233 + nmnmim_UUUU_0323 + nmnmim_UUUU_3032) + 0.25*rank2term_LL_02*(nmnmim_UUUU_0323 - 2*nmnmim_UUUU_2033 + nmnmim_UUUU_3032) + 0.25*rank2term_LL_11*(-2*nmnmim_UUUU_1133 + nmnmim_UUUU_1313 + nmnmim_UUUU_3131) + 0.25*rank2term_LL_12*(-2*nmnmim_UUUU_1233 + nmnmim_UUUU_1323 + nmnmim_UUUU_3132) + 0.25*rank2term_LL_12*(nmnmim_UUUU_1323 - 2*nmnmim_UUUU_2133 + nmnmim_UUUU_3132) + 0.25*rank2term_LL_22*(-2*nmnmim_UUUU_2233 + nmnmim_UUUU_2323 + nmnmim_UUUU_3232) - 0.5*rank3term_LLL_001*(-nmnmim_UUUU_0013 + nmnmim_UUUU_1030) + 0.5*rank3term_LLL_001*(nmnmim_UUUU_0031 - nmnmim_UUUU_0103) - 0.5*rank3term_LLL_002*(-nmnmim_UUUU_0023 + nmnmim_UUUU_2030) + 0.5*rank3term_LLL_002*(nmnmim_UUUU_0032 - nmnmim_UUUU_0203) - 0.5*rank3term_LLL_012*(-nmnmim_UUUU_0123 + nmnmim_UUUU_2031) + 0.5*rank3term_LLL_012*(-nmnmim_UUUU_0213 + nmnmim_UUUU_1032) + 0.5*rank3term_LLL_101*(-nmnmim_UUUU_0113 + nmnmim_UUUU_0131) - 0.5*rank3term_LLL_101*(-nmnmim_UUUU_1013 + nmnmim_UUUU_1031) + 0.5*rank3term_LLL_102*(nmnmim_UUUU_0132 - nmnmim_UUUU_0213) - 0.5*rank3term_LLL_102*(-nmnmim_UUUU_1023 + nmnmim_UUUU_2031) - 0.5*rank3term_LLL_112*(-nmnmim_UUUU_1123 + nmnmim_UUUU_2131) + 0.5*rank3term_LLL_112*(nmnmim_UUUU_1132 - nmnmim_UUUU_1213) + 0.5*rank3term_LLL_201*(-nmnmim_UUUU_0123 + nmnmim_UUUU_0132) - 0.5*rank3term_LLL_201*(-nmnmim_UUUU_1023 + nmnmim_UUUU_1032) + 0.5*rank3term_LLL_202*(-nmnmim_UUUU_0223 + nmnmim_UUUU_0232) - 0.5*rank3term_LLL_202*(-nmnmim_UUUU_2023 + nmnmim_UUUU_2032) + 0.5*rank3term_LLL_212*(-nmnmim_UUUU_1223 + nmnmim_UUUU_1232) - 0.5*rank3term_LLL_212*(-nmnmim_UUUU_2123 + nmnmim_UUUU_2132);\n",
      "\n",
      "\n"
     ]
    }
   ],
   "source": [
    "print(WFString.replace('state_fabIdx', 'Idx').replace('DiagIdx','Diag'))"
   ]
  },
  {
   "cell_type": "markdown",
   "metadata": {},
   "source": [
    "# Loading Initial Data"
   ]
  },
  {
   "cell_type": "code",
   "execution_count": 179,
   "metadata": {},
   "outputs": [],
   "source": [
    "InitString = \"\""
   ]
  },
  {
   "cell_type": "code",
   "execution_count": 180,
   "metadata": {},
   "outputs": [],
   "source": [
    "u = stvar('u', gridvar = True, vartype = 'Init', varprefix = 'initial_data')\n",
    "chiInit = stvar('chi', gridvar = True, vartype = 'Init', varprefix = 'initial_data')\n",
    "AtildeInit_LL = stvarrank2('Atilde_LL', gridvar = True, vartype = 'Init', varprefix = 'initial_data', sym = 'sym01')"
   ]
  },
  {
   "cell_type": "code",
   "execution_count": 181,
   "metadata": {},
   "outputs": [],
   "source": [
    "chi.expr = chiInit.isymb"
   ]
  },
  {
   "cell_type": "code",
   "execution_count": 182,
   "metadata": {},
   "outputs": [],
   "source": [
    "InitString += chi.setisymb()"
   ]
  },
  {
   "cell_type": "code",
   "execution_count": 183,
   "metadata": {},
   "outputs": [],
   "source": [
    "InitString += chiInit.symb2isymb()"
   ]
  },
  {
   "cell_type": "code",
   "execution_count": 184,
   "metadata": {},
   "outputs": [],
   "source": [
    "gamtilde_LL.expr = np.array(sp.eye(3))"
   ]
  },
  {
   "cell_type": "code",
   "execution_count": 185,
   "metadata": {},
   "outputs": [],
   "source": [
    "InitString += gamtilde_LL.setisymb()"
   ]
  },
  {
   "cell_type": "code",
   "execution_count": 186,
   "metadata": {},
   "outputs": [],
   "source": [
    "Khat.expr = 0"
   ]
  },
  {
   "cell_type": "code",
   "execution_count": 187,
   "metadata": {},
   "outputs": [],
   "source": [
    "InitString += Khat.setisymb()"
   ]
  },
  {
   "cell_type": "code",
   "execution_count": 188,
   "metadata": {},
   "outputs": [],
   "source": [
    "Atilde_LL.expr = AtildeInit_LL.isymb"
   ]
  },
  {
   "cell_type": "code",
   "execution_count": 189,
   "metadata": {},
   "outputs": [],
   "source": [
    "InitString += Atilde_LL.setisymb()"
   ]
  },
  {
   "cell_type": "code",
   "execution_count": 190,
   "metadata": {},
   "outputs": [],
   "source": [
    "theta.expr = 0"
   ]
  },
  {
   "cell_type": "code",
   "execution_count": 191,
   "metadata": {},
   "outputs": [],
   "source": [
    "InitString += theta.setisymb()"
   ]
  },
  {
   "cell_type": "code",
   "execution_count": 192,
   "metadata": {},
   "outputs": [],
   "source": [
    "Gamtilde_U.expr = np.array([0,0,0])"
   ]
  },
  {
   "cell_type": "code",
   "execution_count": 193,
   "metadata": {},
   "outputs": [],
   "source": [
    "InitString += Gamtilde_U.setisymb()"
   ]
  },
  {
   "cell_type": "code",
   "execution_count": 194,
   "metadata": {},
   "outputs": [],
   "source": [
    "alpha.expr = sp.sqrt(chi.symb)"
   ]
  },
  {
   "cell_type": "code",
   "execution_count": 195,
   "metadata": {},
   "outputs": [],
   "source": [
    "InitString += alpha.setisymb()"
   ]
  },
  {
   "cell_type": "code",
   "execution_count": 196,
   "metadata": {},
   "outputs": [],
   "source": [
    "beta_U.expr = np.array([0,0,0])"
   ]
  },
  {
   "cell_type": "code",
   "execution_count": 197,
   "metadata": {},
   "outputs": [],
   "source": [
    "InitString += beta_U.setisymb()"
   ]
  },
  {
   "cell_type": "code",
   "execution_count": 198,
   "metadata": {},
   "outputs": [
    {
     "name": "stdout",
     "output_type": "stream",
     "text": [
      "        state_fab(i, j, k, Idx::chi) = initial_data(i, j, k, InitIdx::chi);\n",
      "\n",
      "        amrex::Real chi = initial_data(i, j, k, InitIdx::chi);\n",
      "\n",
      "        state_fab(i, j, k, Idx::gamtilde_LL_00) = 1;\n",
      "        state_fab(i, j, k, Idx::gamtilde_LL_01) = 0;\n",
      "        state_fab(i, j, k, Idx::gamtilde_LL_02) = 0;\n",
      "        state_fab(i, j, k, Idx::gamtilde_LL_11) = 1;\n",
      "        state_fab(i, j, k, Idx::gamtilde_LL_12) = 0;\n",
      "        state_fab(i, j, k, Idx::gamtilde_LL_22) = 1;\n",
      "\n",
      "        state_fab(i, j, k, Idx::Khat) = 0;\n",
      "\n",
      "        state_fab(i, j, k, Idx::Atilde_LL_00) = initial_data(i, j, k, InitIdx::Atilde_LL_00);\n",
      "        state_fab(i, j, k, Idx::Atilde_LL_01) = initial_data(i, j, k, InitIdx::Atilde_LL_01);\n",
      "        state_fab(i, j, k, Idx::Atilde_LL_02) = initial_data(i, j, k, InitIdx::Atilde_LL_02);\n",
      "        state_fab(i, j, k, Idx::Atilde_LL_11) = initial_data(i, j, k, InitIdx::Atilde_LL_11);\n",
      "        state_fab(i, j, k, Idx::Atilde_LL_12) = initial_data(i, j, k, InitIdx::Atilde_LL_12);\n",
      "        state_fab(i, j, k, Idx::Atilde_LL_22) = initial_data(i, j, k, InitIdx::Atilde_LL_22);\n",
      "\n",
      "        state_fab(i, j, k, Idx::theta) = 0;\n",
      "\n",
      "        state_fab(i, j, k, Idx::Gamtilde_U_0) = 0;\n",
      "        state_fab(i, j, k, Idx::Gamtilde_U_1) = 0;\n",
      "        state_fab(i, j, k, Idx::Gamtilde_U_2) = 0;\n",
      "\n",
      "        state_fab(i, j, k, Idx::alpha) = std::sqrt(chi);\n",
      "\n",
      "        state_fab(i, j, k, Idx::beta_U_0) = 0;\n",
      "        state_fab(i, j, k, Idx::beta_U_1) = 0;\n",
      "        state_fab(i, j, k, Idx::beta_U_2) = 0;\n",
      "\n",
      "\n"
     ]
    }
   ],
   "source": [
    "print(InitString.replace('state_fabIdx', 'Idx'))"
   ]
  },
  {
   "cell_type": "code",
   "execution_count": null,
   "metadata": {},
   "outputs": [],
   "source": []
  }
 ],
 "metadata": {
  "kernelspec": {
   "display_name": "Python 3",
   "language": "python",
   "name": "python3"
  },
  "language_info": {
   "codemirror_mode": {
    "name": "ipython",
    "version": 3
   },
   "file_extension": ".py",
   "mimetype": "text/x-python",
   "name": "python",
   "nbconvert_exporter": "python",
   "pygments_lexer": "ipython3",
   "version": "3.8.10"
  }
 },
 "nbformat": 4,
 "nbformat_minor": 4
}
