{
 "cells": [
  {
   "cell_type": "code",
   "execution_count": 1,
   "metadata": {},
   "outputs": [],
   "source": [
    "from STvARIndexing import *\n",
    "from STvAR_v3 import *\n",
    "from STvARFiniteDifference import *\n",
    "from STvARMetricObjects import *\n",
    "from STvARSymbolParsing import *\n",
    "from STvARAdvection import *"
   ]
  },
  {
   "cell_type": "code",
   "execution_count": 2,
   "metadata": {},
   "outputs": [],
   "source": [
    "chi = stvar('chi')\n",
    "T = stvar('T')\n",
    "V = stvarrank1('V_L')\n",
    "A = stvarrank2('A_LL',gridvar = True, vartype = 'state_fab', sym = 'asym01')\n",
    "S = stvarrank2('S_LL', gridvar = True, vartype = 'state_fab', sym = 'diag01')\n",
    "metric = stvarrank2('M_LL', gridvar = True, vartype = 'state_fab', sym = 'sym01')\n",
    "E = stvarrank3('E_LLL', sym = 'asym01asym12')\n",
    "R = stvarrank4('R_ULLL', gridvar = True, vartype = 'state_fab', sym = 'asym01asym12asym23')"
   ]
  },
  {
   "cell_type": "code",
   "execution_count": 3,
   "metadata": {},
   "outputs": [
    {
     "data": {
      "text/plain": [
       "('dDA', 'LLL')"
      ]
     },
     "execution_count": 3,
     "metadata": {},
     "output_type": "execute_result"
    }
   ],
   "source": [
    "dsymb_name_rank(A, 'dD')"
   ]
  },
  {
   "cell_type": "code",
   "execution_count": 8,
   "metadata": {},
   "outputs": [
    {
     "name": "stdout",
     "output_type": "stream",
     "text": [
      "-dDDA_LLLL_0101\n"
     ]
    }
   ],
   "source": [
    "print(A.diff('dDD').symb[1][0][1][0])"
   ]
  },
  {
   "cell_type": "code",
   "execution_count": 3,
   "metadata": {},
   "outputs": [],
   "source": [
    "AdvDA = AdvectiveD(A, V)"
   ]
  },
  {
   "cell_type": "code",
   "execution_count": 10,
   "metadata": {},
   "outputs": [
    {
     "name": "stdout",
     "output_type": "stream",
     "text": [
      "        amrex::Real AdvDVA_LL_01 = V_L_0*(ddnDA_LLL_010*(V_L_0 < 0) + dupDA_LLL_010*(V_L_0 > 0)) + V_L_1*(ddnDA_LLL_011*(V_L_1 < 0) + dupDA_LLL_011*(V_L_1 > 0)) + V_L_2*(ddnDA_LLL_012*(V_L_2 < 0) + dupDA_LLL_012*(V_L_2 > 0));\n",
      "        amrex::Real AdvDVA_LL_02 = V_L_0*(ddnDA_LLL_020*(V_L_0 < 0) + dupDA_LLL_020*(V_L_0 > 0)) + V_L_1*(ddnDA_LLL_021*(V_L_1 < 0) + dupDA_LLL_021*(V_L_1 > 0)) + V_L_2*(ddnDA_LLL_022*(V_L_2 < 0) + dupDA_LLL_022*(V_L_2 > 0));\n",
      "        amrex::Real AdvDVA_LL_12 = V_L_0*(ddnDA_LLL_120*(V_L_0 < 0) + dupDA_LLL_120*(V_L_0 > 0)) + V_L_1*(ddnDA_LLL_121*(V_L_1 < 0) + dupDA_LLL_121*(V_L_1 > 0)) + V_L_2*(ddnDA_LLL_122*(V_L_2 < 0) + dupDA_LLL_122*(V_L_2 > 0));\n",
      "\n",
      "\n"
     ]
    }
   ],
   "source": [
    "print(AdvDA.symb2expr())"
   ]
  },
  {
   "cell_type": "code",
   "execution_count": 13,
   "metadata": {},
   "outputs": [
    {
     "name": "stdout",
     "output_type": "stream",
     "text": [
      "The rank must 3.\n"
     ]
    }
   ],
   "source": [
    "DupA = A.diff('dup', Accuracy = 2)"
   ]
  },
  {
   "cell_type": "code",
   "execution_count": 3,
   "metadata": {},
   "outputs": [],
   "source": [
    "R = Z4cRicciTensorFromScalar(chi, metric)"
   ]
  },
  {
   "cell_type": "code",
   "execution_count": 4,
   "metadata": {},
   "outputs": [
    {
     "name": "stdout",
     "output_type": "stream",
     "text": [
      "CovdDDchi_LL_01/(2*chi) - CovdDchi_L_0*CovdDchi_L_1/(4*chi**2) + M_LL_01*(CovdDDchi_LL_00*invM_UU_00/(2*chi) - 3*CovdDchi_L_0**2*invM_UU_00/(4*chi**2)) + 2*M_LL_01*(CovdDDchi_LL_01*invM_UU_01/(2*chi) - 3*CovdDchi_L_0*CovdDchi_L_1*invM_UU_01/(4*chi**2)) + 2*M_LL_01*(CovdDDchi_LL_02*invM_UU_02/(2*chi) - 3*CovdDchi_L_0*CovdDchi_L_2*invM_UU_02/(4*chi**2)) + M_LL_01*(CovdDDchi_LL_11*invM_UU_11/(2*chi) - 3*CovdDchi_L_1**2*invM_UU_11/(4*chi**2)) + 2*M_LL_01*(CovdDDchi_LL_12*invM_UU_12/(2*chi) - 3*CovdDchi_L_1*CovdDchi_L_2*invM_UU_12/(4*chi**2)) + M_LL_01*(CovdDDchi_LL_22*invM_UU_22/(2*chi) - 3*CovdDchi_L_2**2*invM_UU_22/(4*chi**2))\n"
     ]
    }
   ],
   "source": [
    "print(R.expr[1][0])"
   ]
  },
  {
   "cell_type": "code",
   "execution_count": 6,
   "metadata": {},
   "outputs": [],
   "source": [
    "GamULL = ChristoffelULL(metric)"
   ]
  },
  {
   "cell_type": "code",
   "execution_count": 7,
   "metadata": {
    "scrolled": true
   },
   "outputs": [
    {
     "name": "stdout",
     "output_type": "stream",
     "text": [
      "-ChristoffelM_ULL_001*V_L_0 - ChristoffelM_ULL_101*V_L_1 - ChristoffelM_ULL_201*V_L_2 + dDV_LL_01\n"
     ]
    }
   ],
   "source": [
    "print(CovariantD(V, GamULL, 'dD').expr[0][1])"
   ]
  },
  {
   "cell_type": "code",
   "execution_count": 5,
   "metadata": {},
   "outputs": [],
   "source": [
    "GamU = ChristoffelULL(metric)\n",
    "R = Z4cRicciTildeTensorLL(metric, V)"
   ]
  },
  {
   "cell_type": "code",
   "execution_count": 4,
   "metadata": {},
   "outputs": [
    {
     "name": "stdout",
     "output_type": "stream",
     "text": [
      "Z4cRicciM_LL_02\n",
      "1.0*ChristoffelDM_U_0*ChristoffelM_ULL_202 + 1.0*ChristoffelDM_U_1*ChristoffelM_ULL_212 + 1.0*ChristoffelDM_U_2*ChristoffelM_ULL_222 + ChristoffelM_LLL_002*ChristoffelM_ULL_002*invM_UU_00 + ChristoffelM_LLL_002*ChristoffelM_ULL_012*invM_UU_01 + ChristoffelM_LLL_002*ChristoffelM_ULL_022*invM_UU_02 + ChristoffelM_LLL_012*ChristoffelM_ULL_002*invM_UU_01 + ChristoffelM_LLL_012*ChristoffelM_ULL_012*invM_UU_11 + ChristoffelM_LLL_012*ChristoffelM_ULL_022*invM_UU_12 + ChristoffelM_LLL_022*ChristoffelM_ULL_002*invM_UU_02 + ChristoffelM_LLL_022*ChristoffelM_ULL_012*invM_UU_12 + ChristoffelM_LLL_022*ChristoffelM_ULL_022*invM_UU_22 + ChristoffelM_LLL_102*ChristoffelM_ULL_102*invM_UU_00 + ChristoffelM_LLL_102*ChristoffelM_ULL_112*invM_UU_01 + ChristoffelM_LLL_102*ChristoffelM_ULL_122*invM_UU_02 + ChristoffelM_LLL_112*ChristoffelM_ULL_102*invM_UU_01 + ChristoffelM_LLL_112*ChristoffelM_ULL_112*invM_UU_11 + ChristoffelM_LLL_112*ChristoffelM_ULL_122*invM_UU_12 + ChristoffelM_LLL_122*ChristoffelM_ULL_102*invM_UU_02 + ChristoffelM_LLL_122*ChristoffelM_ULL_112*invM_UU_12 + ChristoffelM_LLL_122*ChristoffelM_ULL_122*invM_UU_22 + 2*ChristoffelM_LLL_200*ChristoffelM_ULL_002*invM_UU_00 + 2*ChristoffelM_LLL_200*ChristoffelM_ULL_012*invM_UU_01 + 2*ChristoffelM_LLL_200*ChristoffelM_ULL_022*invM_UU_02 + 2*ChristoffelM_LLL_201*ChristoffelM_ULL_002*invM_UU_01 + 2*ChristoffelM_LLL_201*ChristoffelM_ULL_012*invM_UU_11 + 2*ChristoffelM_LLL_201*ChristoffelM_ULL_022*invM_UU_12 + 2*ChristoffelM_LLL_201*ChristoffelM_ULL_102*invM_UU_00 + 2*ChristoffelM_LLL_201*ChristoffelM_ULL_112*invM_UU_01 + 2*ChristoffelM_LLL_201*ChristoffelM_ULL_122*invM_UU_02 + 2*ChristoffelM_LLL_202*ChristoffelM_ULL_002*invM_UU_02 + 2*ChristoffelM_LLL_202*ChristoffelM_ULL_012*invM_UU_12 + 2*ChristoffelM_LLL_202*ChristoffelM_ULL_022*invM_UU_22 + 3*ChristoffelM_LLL_202*ChristoffelM_ULL_202*invM_UU_00 + 3*ChristoffelM_LLL_202*ChristoffelM_ULL_212*invM_UU_01 + 3*ChristoffelM_LLL_202*ChristoffelM_ULL_222*invM_UU_02 + 2*ChristoffelM_LLL_211*ChristoffelM_ULL_102*invM_UU_01 + 2*ChristoffelM_LLL_211*ChristoffelM_ULL_112*invM_UU_11 + 2*ChristoffelM_LLL_211*ChristoffelM_ULL_122*invM_UU_12 + 2*ChristoffelM_LLL_212*ChristoffelM_ULL_102*invM_UU_02 + 2*ChristoffelM_LLL_212*ChristoffelM_ULL_112*invM_UU_12 + 2*ChristoffelM_LLL_212*ChristoffelM_ULL_122*invM_UU_22 + 3*ChristoffelM_LLL_212*ChristoffelM_ULL_202*invM_UU_01 + 3*ChristoffelM_LLL_212*ChristoffelM_ULL_212*invM_UU_11 + 3*ChristoffelM_LLL_212*ChristoffelM_ULL_222*invM_UU_12 + 3*ChristoffelM_LLL_222*ChristoffelM_ULL_202*invM_UU_02 + 3*ChristoffelM_LLL_222*ChristoffelM_ULL_212*invM_UU_12 + 3*ChristoffelM_LLL_222*ChristoffelM_ULL_222*invM_UU_22 + 1.0*M_LL_02*dDV_LL_02 + 1.0*M_LL_12*dDV_LL_12 + 1.0*M_LL_22*dDV_LL_22 - 0.5*dDDM_LLLL_2200*invM_UU_00 - 1.0*dDDM_LLLL_2201*invM_UU_01 - 1.0*dDDM_LLLL_2202*invM_UU_02 - 0.5*dDDM_LLLL_2211*invM_UU_11 - 1.0*dDDM_LLLL_2212*invM_UU_12 - 0.5*dDDM_LLLL_2222*invM_UU_22\n"
     ]
    }
   ],
   "source": [
    "print(R.symb[2][0])\n",
    "print(R.expr[2][2])"
   ]
  },
  {
   "cell_type": "code",
   "execution_count": 13,
   "metadata": {},
   "outputs": [],
   "source": [
    "dstring = 'dD'\n",
    "Dim = metric.dim\n",
    "rootname = metric.rootname\n",
    "    \n",
    "inversemetric = stvarrank2(ssp.unparse_name_rank(\"inv\" + metric.rootname, 'UU'), sym = 'sym01', dim = Dim)\n",
    "ChristoffelULL = stvarrank3(ssp.unparse_name_rank('Christoffel' + rootname, 'ULL'), sym = 'sym12', dim=Dim)\n",
    "dsymb_name, dsymb_rank = dsymb_name_rank(inversemetric,dstring)\n",
    "partialinversemetric = stvarrank3(ssp.unparse_name_rank(dsymb_name,dsymb_rank), sym = 'sym01')"
   ]
  },
  {
   "cell_type": "code",
   "execution_count": 14,
   "metadata": {},
   "outputs": [
    {
     "name": "stdout",
     "output_type": "stream",
     "text": [
      "dDinvM\n"
     ]
    }
   ],
   "source": [
    "print(partialinversemetric.rootname)"
   ]
  },
  {
   "cell_type": "code",
   "execution_count": 12,
   "metadata": {},
   "outputs": [
    {
     "name": "stdout",
     "output_type": "stream",
     "text": [
      "('dKODA', 'LLL')\n"
     ]
    }
   ],
   "source": [
    "print(dsymb_name_rank(A,'dKOD'))"
   ]
  },
  {
   "cell_type": "code",
   "execution_count": null,
   "metadata": {},
   "outputs": [],
   "source": []
  },
  {
   "cell_type": "code",
   "execution_count": 3,
   "metadata": {},
   "outputs": [],
   "source": [
    "symboltest = ChristoffelULL(metric)"
   ]
  },
  {
   "cell_type": "code",
   "execution_count": 6,
   "metadata": {},
   "outputs": [
    {
     "name": "stdout",
     "output_type": "stream",
     "text": [
      "ChristoffelM_ULL_212\n"
     ]
    }
   ],
   "source": [
    "print(symboltest.symb[2][2][1])"
   ]
  },
  {
   "cell_type": "code",
   "execution_count": 5,
   "metadata": {},
   "outputs": [],
   "source": [
    "Dim = metric.dim \n",
    "\n",
    "if metric.rank == 'LL':\n",
    "    inverserank = 'UU'\n",
    "elif metric.rank == 'UU':\n",
    "    inverserank = 'LL'\n",
    "else:\n",
    "    print(\"Rank unsupported\")\n",
    "inversemetric = stvarrank2(unparse_name_rank(\"inv\" + metric.rootname, inverserank), sym = 'sym01', dim = Dim)\n",
    "for i in range(Dim):\n",
    "        for j in range(Dim):\n",
    "            inversemetric.expr[i][j] += sp.simplify(sp.Matrix(metric.symb).inv()[i,j])"
   ]
  },
  {
   "cell_type": "code",
   "execution_count": null,
   "metadata": {},
   "outputs": [],
   "source": []
  },
  {
   "cell_type": "code",
   "execution_count": 8,
   "metadata": {},
   "outputs": [],
   "source": [
    "def inversemetric(metric):\n",
    "    Dim = metric.dim\n",
    "    \n",
    "    \n",
    "    \n",
    "    if 'LL' in str(metric.symb[0][0]):\n",
    "        newstring = list(str(metric.symb[0][0])[0:-2])\n",
    "        newstring[-1] = 'U'\n",
    "        newstring[-2] = 'U'\n",
    "        newstring = \"\".join(newstring)\n",
    "    else:\n",
    "        newstring = str(metric.symb[0][0])[0:-2] + 'inv'\n",
    "    inversemetric = stvarrank2(newstring, sym = 'sym01', dim = Dim)\n",
    "    for i in range(Dim):\n",
    "        for j in range(Dim):\n",
    "            inversemetric.expr[i][j] += sp.simplify(sp.Matrix(metric.symb).inv()[i,j])\n",
    "    return inversemetric"
   ]
  },
  {
   "cell_type": "code",
   "execution_count": 3,
   "metadata": {},
   "outputs": [
    {
     "ename": "AttributeError",
     "evalue": "module 'STvARSymbolParsing' has no attribute 'parse_rank_component'",
     "output_type": "error",
     "traceback": [
      "\u001b[0;31m---------------------------------------------------------------------------\u001b[0m",
      "\u001b[0;31mAttributeError\u001b[0m                            Traceback (most recent call last)",
      "\u001b[0;32m<ipython-input-3-e5653db2a4d4>\u001b[0m in \u001b[0;36m<module>\u001b[0;34m\u001b[0m\n\u001b[0;32m----> 1\u001b[0;31m \u001b[0mA\u001b[0m\u001b[0;34m.\u001b[0m\u001b[0mdiff\u001b[0m\u001b[0;34m(\u001b[0m\u001b[0;34m'dD0'\u001b[0m\u001b[0;34m)\u001b[0m\u001b[0;34m\u001b[0m\u001b[0m\n\u001b[0m",
      "\u001b[0;32m~/ET-Integration/AMReXCodeGen/STvARPackage/STvAR_v3.py\u001b[0m in \u001b[0;36mdiff\u001b[0;34m(self, dstring, Accuracy, dim)\u001b[0m\n\u001b[1;32m    265\u001b[0m                 \u001b[0;32mfor\u001b[0m \u001b[0mj\u001b[0m \u001b[0;32min\u001b[0m \u001b[0mrange\u001b[0m\u001b[0;34m(\u001b[0m\u001b[0mdim\u001b[0m\u001b[0;34m)\u001b[0m\u001b[0;34m:\u001b[0m\u001b[0;34m\u001b[0m\u001b[0m\n\u001b[1;32m    266\u001b[0m                     \u001b[0;32mfor\u001b[0m \u001b[0mk\u001b[0m \u001b[0;32min\u001b[0m \u001b[0mrange\u001b[0m\u001b[0;34m(\u001b[0m\u001b[0mdim\u001b[0m\u001b[0;34m)\u001b[0m\u001b[0;34m:\u001b[0m\u001b[0;34m\u001b[0m\u001b[0m\n\u001b[0;32m--> 267\u001b[0;31m                         \u001b[0mstvarout\u001b[0m\u001b[0;34m.\u001b[0m\u001b[0msymb\u001b[0m\u001b[0;34m[\u001b[0m\u001b[0mi\u001b[0m\u001b[0;34m]\u001b[0m\u001b[0;34m[\u001b[0m\u001b[0mj\u001b[0m\u001b[0;34m]\u001b[0m\u001b[0;34m[\u001b[0m\u001b[0mk\u001b[0m\u001b[0;34m]\u001b[0m \u001b[0;34m=\u001b[0m \u001b[0mfd\u001b[0m\u001b[0;34m.\u001b[0m\u001b[0mdsymb\u001b[0m\u001b[0;34m(\u001b[0m\u001b[0mself\u001b[0m\u001b[0;34m.\u001b[0m\u001b[0msymb\u001b[0m\u001b[0;34m[\u001b[0m\u001b[0mi\u001b[0m\u001b[0;34m]\u001b[0m\u001b[0;34m[\u001b[0m\u001b[0mj\u001b[0m\u001b[0;34m]\u001b[0m\u001b[0;34m,\u001b[0m \u001b[0mdstring\u001b[0m \u001b[0;34m+\u001b[0m \u001b[0mstr\u001b[0m\u001b[0;34m(\u001b[0m\u001b[0mk\u001b[0m\u001b[0;34m)\u001b[0m\u001b[0;34m)\u001b[0m\u001b[0;34m\u001b[0m\u001b[0m\n\u001b[0m\u001b[1;32m    268\u001b[0m                         \u001b[0mstvarout\u001b[0m\u001b[0;34m.\u001b[0m\u001b[0misymb\u001b[0m\u001b[0;34m[\u001b[0m\u001b[0mi\u001b[0m\u001b[0;34m]\u001b[0m\u001b[0;34m[\u001b[0m\u001b[0mj\u001b[0m\u001b[0;34m]\u001b[0m\u001b[0;34m[\u001b[0m\u001b[0mk\u001b[0m\u001b[0;34m]\u001b[0m \u001b[0;34m=\u001b[0m \u001b[0mfd\u001b[0m\u001b[0;34m.\u001b[0m\u001b[0mdisymb\u001b[0m\u001b[0;34m(\u001b[0m\u001b[0mself\u001b[0m\u001b[0;34m.\u001b[0m\u001b[0misymb\u001b[0m\u001b[0;34m[\u001b[0m\u001b[0mi\u001b[0m\u001b[0;34m]\u001b[0m\u001b[0;34m[\u001b[0m\u001b[0mj\u001b[0m\u001b[0;34m]\u001b[0m\u001b[0;34m,\u001b[0m \u001b[0mdstring\u001b[0m \u001b[0;34m+\u001b[0m \u001b[0mstr\u001b[0m\u001b[0;34m(\u001b[0m\u001b[0mk\u001b[0m\u001b[0;34m)\u001b[0m\u001b[0;34m,\u001b[0m \u001b[0mAccuracy\u001b[0m\u001b[0;34m)\u001b[0m\u001b[0;34m\u001b[0m\u001b[0m\n\u001b[1;32m    269\u001b[0m         \u001b[0mstvarout\u001b[0m\u001b[0;34m.\u001b[0m\u001b[0mexpr\u001b[0m \u001b[0;34m=\u001b[0m \u001b[0mstvarout\u001b[0m\u001b[0;34m.\u001b[0m\u001b[0misymb\u001b[0m\u001b[0;34m\u001b[0m\u001b[0m\n",
      "\u001b[0;32m~/ET-Integration/AMReXCodeGen/STvARPackage/STvARFiniteDifference.py\u001b[0m in \u001b[0;36mdsymb\u001b[0;34m(symb, dstring)\u001b[0m\n\u001b[1;32m    114\u001b[0m \u001b[0;34m\u001b[0m\u001b[0m\n\u001b[1;32m    115\u001b[0m     \u001b[0;32mglobal\u001b[0m \u001b[0msymbname\u001b[0m\u001b[0;34m,\u001b[0m \u001b[0mrankval\u001b[0m\u001b[0;34m,\u001b[0m \u001b[0mcomponentval\u001b[0m\u001b[0;34m\u001b[0m\u001b[0m\n\u001b[0;32m--> 116\u001b[0;31m     \u001b[0msymbname\u001b[0m\u001b[0;34m,\u001b[0m \u001b[0mrankval\u001b[0m\u001b[0;34m,\u001b[0m \u001b[0mcomponentval\u001b[0m\u001b[0;34m=\u001b[0m \u001b[0mssp\u001b[0m\u001b[0;34m.\u001b[0m\u001b[0mparse_rank_component\u001b[0m\u001b[0;34m(\u001b[0m\u001b[0mstr\u001b[0m\u001b[0;34m(\u001b[0m\u001b[0msymbout\u001b[0m\u001b[0;34m)\u001b[0m\u001b[0;34m)\u001b[0m\u001b[0;34m\u001b[0m\u001b[0m\n\u001b[0m\u001b[1;32m    117\u001b[0m \u001b[0;34m\u001b[0m\u001b[0m\n\u001b[1;32m    118\u001b[0m     \u001b[0;32mif\u001b[0m \u001b[0;34m'dup'\u001b[0m \u001b[0;32min\u001b[0m \u001b[0mdstring\u001b[0m\u001b[0;34m:\u001b[0m\u001b[0;34m\u001b[0m\u001b[0m\n",
      "\u001b[0;31mAttributeError\u001b[0m: module 'STvARSymbolParsing' has no attribute 'parse_rank_component'"
     ]
    }
   ],
   "source": [
    "A.diff('dD0')"
   ]
  },
  {
   "cell_type": "code",
   "execution_count": 14,
   "metadata": {},
   "outputs": [],
   "source": [
    "symbname, rank, component = parse(str(A.symb[1][2]))"
   ]
  },
  {
   "cell_type": "code",
   "execution_count": 17,
   "metadata": {},
   "outputs": [
    {
     "data": {
      "text/plain": [
       "'12'"
      ]
     },
     "execution_count": 17,
     "metadata": {},
     "output_type": "execute_result"
    }
   ],
   "source": [
    "component"
   ]
  },
  {
   "cell_type": "code",
   "execution_count": 10,
   "metadata": {},
   "outputs": [
    {
     "name": "stdout",
     "output_type": "stream",
     "text": [
      "dDDA_LL_0122\n"
     ]
    }
   ],
   "source": [
    "print(A.diff('dDD').symb[0][1][2][2])"
   ]
  },
  {
   "cell_type": "code",
   "execution_count": 3,
   "metadata": {},
   "outputs": [
    {
     "name": "stdout",
     "output_type": "stream",
     "text": [
      "-dDDA_0112\n"
     ]
    }
   ],
   "source": [
    "print(dsymb(A.symb[1][0],'dDD12'))"
   ]
  },
  {
   "cell_type": "code",
   "execution_count": null,
   "metadata": {},
   "outputs": [],
   "source": []
  },
  {
   "cell_type": "code",
   "execution_count": 6,
   "metadata": {
    "scrolled": true
   },
   "outputs": [],
   "source": [
    "T.expr = dsymb(A.symb[1][0],'dD0')*(B.symb[0][1])"
   ]
  },
  {
   "cell_type": "code",
   "execution_count": 7,
   "metadata": {},
   "outputs": [
    {
     "name": "stdout",
     "output_type": "stream",
     "text": [
      "        amrex::Real T = -B_01*dDA_010;\n",
      "\n",
      "\n"
     ]
    }
   ],
   "source": [
    "print(T.symb2expr())"
   ]
  },
  {
   "cell_type": "code",
   "execution_count": 15,
   "metadata": {},
   "outputs": [
    {
     "data": {
      "text/latex": [
       "$\\displaystyle A B$"
      ],
      "text/plain": [
       "A*B"
      ]
     },
     "execution_count": 15,
     "metadata": {},
     "output_type": "execute_result"
    }
   ],
   "source": [
    "(-symbols('A'))*(-symbols('B'))"
   ]
  },
  {
   "cell_type": "code",
   "execution_count": 41,
   "metadata": {},
   "outputs": [
    {
     "data": {
      "text/latex": [
       "$\\displaystyle dDDV_{012}$"
      ],
      "text/plain": [
       "dDDV_012"
      ]
     },
     "execution_count": 41,
     "metadata": {},
     "output_type": "execute_result"
    }
   ],
   "source": [
    "V.diff('dDD').symb[0][2][1]"
   ]
  },
  {
   "cell_type": "code",
   "execution_count": 42,
   "metadata": {},
   "outputs": [
    {
     "data": {
      "text/latex": [
       "$\\displaystyle dD-V_{00}$"
      ],
      "text/plain": [
       "dD-V_00"
      ]
     },
     "execution_count": 42,
     "metadata": {},
     "output_type": "execute_result"
    }
   ],
   "source": [
    "dsymb(-V.symb[0],'dD0')"
   ]
  },
  {
   "cell_type": "code",
   "execution_count": 32,
   "metadata": {},
   "outputs": [
    {
     "data": {
      "text/plain": [
       "('Atilde', '')"
      ]
     },
     "execution_count": 32,
     "metadata": {},
     "output_type": "execute_result"
    }
   ],
   "source": [
    "parse('Atilde')"
   ]
  },
  {
   "cell_type": "code",
   "execution_count": 33,
   "metadata": {},
   "outputs": [
    {
     "data": {
      "text/plain": [
       "'Atilde_ULLL'"
      ]
     },
     "execution_count": 33,
     "metadata": {},
     "output_type": "execute_result"
    }
   ],
   "source": [
    "unparse('Atilde','ULLL')"
   ]
  },
  {
   "cell_type": "code",
   "execution_count": 2,
   "metadata": {},
   "outputs": [],
   "source": [
    "string = 'Atilde_LLUU'"
   ]
  },
  {
   "cell_type": "code",
   "execution_count": 3,
   "metadata": {},
   "outputs": [
    {
     "ename": "SyntaxError",
     "evalue": "invalid syntax (<ipython-input-3-92e3ed715732>, line 1)",
     "output_type": "error",
     "traceback": [
      "\u001b[0;36m  File \u001b[0;32m\"<ipython-input-3-92e3ed715732>\"\u001b[0;36m, line \u001b[0;32m1\u001b[0m\n\u001b[0;31m    string.in('_')\u001b[0m\n\u001b[0m            ^\u001b[0m\n\u001b[0;31mSyntaxError\u001b[0m\u001b[0;31m:\u001b[0m invalid syntax\n"
     ]
    }
   ],
   "source": [
    "string.in('_')"
   ]
  },
  {
   "cell_type": "code",
   "execution_count": 3,
   "metadata": {},
   "outputs": [
    {
     "data": {
      "text/plain": [
       "6"
      ]
     },
     "execution_count": 3,
     "metadata": {},
     "output_type": "execute_result"
    }
   ],
   "source": [
    "string.find('_')"
   ]
  },
  {
   "cell_type": "code",
   "execution_count": 4,
   "metadata": {},
   "outputs": [
    {
     "data": {
      "text/plain": [
       "6"
      ]
     },
     "execution_count": 4,
     "metadata": {},
     "output_type": "execute_result"
    }
   ],
   "source": [
    "string.rfind('_')"
   ]
  },
  {
   "cell_type": "code",
   "execution_count": 5,
   "metadata": {},
   "outputs": [
    {
     "data": {
      "text/plain": [
       "''"
      ]
     },
     "execution_count": 5,
     "metadata": {},
     "output_type": "execute_result"
    }
   ],
   "source": [
    "string[string.find('_')+1:string.rfind('_')]"
   ]
  },
  {
   "cell_type": "code",
   "execution_count": null,
   "metadata": {},
   "outputs": [],
   "source": []
  },
  {
   "cell_type": "code",
   "execution_count": null,
   "metadata": {},
   "outputs": [],
   "source": []
  },
  {
   "cell_type": "code",
   "execution_count": 7,
   "metadata": {},
   "outputs": [],
   "source": [
    "BUL = makestvar('B_UL',gridvar = True, sym = 'nosym', vartype = 'state')"
   ]
  },
  {
   "cell_type": "code",
   "execution_count": 11,
   "metadata": {},
   "outputs": [
    {
     "name": "stdout",
     "output_type": "stream",
     "text": [
      "        amrex::Real B_UL_00 = state(i, j, k, stateIdx::B_UL_00);\n",
      "\n",
      "        amrex::Real B_UL_01 = state(i, j, k, stateIdx::B_UL_01);\n",
      "\n",
      "        amrex::Real B_UL_02 = state(i, j, k, stateIdx::B_UL_02);\n",
      "\n",
      "        amrex::Real B_UL_10 = state(i, j, k, stateIdx::B_UL_10);\n",
      "\n",
      "        amrex::Real B_UL_11 = state(i, j, k, stateIdx::B_UL_11);\n",
      "\n",
      "        amrex::Real B_UL_12 = state(i, j, k, stateIdx::B_UL_12);\n",
      "\n",
      "        amrex::Real B_UL_20 = state(i, j, k, stateIdx::B_UL_20);\n",
      "\n",
      "        amrex::Real B_UL_21 = state(i, j, k, stateIdx::B_UL_21);\n",
      "\n",
      "        amrex::Real B_UL_22 = state(i, j, k, stateIdx::B_UL_22);\n",
      "\n",
      "\n"
     ]
    }
   ],
   "source": [
    "print(BUL.symb2isymb())"
   ]
  },
  {
   "cell_type": "code",
   "execution_count": null,
   "metadata": {},
   "outputs": [],
   "source": []
  }
 ],
 "metadata": {
  "kernelspec": {
   "display_name": "Python 3",
   "language": "python",
   "name": "python3"
  },
  "language_info": {
   "codemirror_mode": {
    "name": "ipython",
    "version": 3
   },
   "file_extension": ".py",
   "mimetype": "text/x-python",
   "name": "python",
   "nbconvert_exporter": "python",
   "pygments_lexer": "ipython3",
   "version": "3.5.2"
  }
 },
 "nbformat": 4,
 "nbformat_minor": 2
}
