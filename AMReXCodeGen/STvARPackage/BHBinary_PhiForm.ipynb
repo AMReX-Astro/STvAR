{
 "cells": [
  {
   "cell_type": "code",
   "execution_count": 1,
   "metadata": {},
   "outputs": [],
   "source": [
    "from STvAR_v3 import *\n",
    "from STvARMetricObjects import *\n",
    "from STvARFiniteDifference import *\n",
    "from STvARAdvection import *\n",
    "from STvARSymbolParsing import *\n",
    "from STvARIndexing import*"
   ]
  },
  {
   "cell_type": "code",
   "execution_count": 2,
   "metadata": {},
   "outputs": [],
   "source": [
    "DiffOrder = 2\n",
    "upDiffOrder = DiffOrder\n",
    "dnDiffOrder = DiffOrder\n",
    "DiffOrderKO = DiffOrder + 2\n",
    "KOsigmaVal = sp.Rational(8,25)\n",
    "dim = 3"
   ]
  },
  {
   "cell_type": "code",
   "execution_count": 3,
   "metadata": {
    "tags": []
   },
   "outputs": [],
   "source": [
    "gridvars = []\n",
    "vartypes = []\n",
    "\n",
    "phi = stvar('phi',  gridvar = True, vartype = 'state_fab')\n",
    "chi = stvar('chi',  gridvar = True, vartype = 'state_fab')\n",
    "gamtilde_LL = stvarrank2('gamtilde_LL',  gridvar = True, vartype = 'state_fab', sym = 'sym01')\n",
    "Khat = stvar('Khat', gridvar = True, vartype = 'state_fab')\n",
    "Atilde_LL = stvarrank2('Atilde_LL', gridvar = True, vartype = 'state_fab', sym = 'sym01')\n",
    "theta = stvar('theta', gridvar = True, vartype = 'state_fab')\n",
    "Gamtilde_U = stvarrank1('Gamtilde_U', gridvar = True, vartype ='state_fab')\n",
    "\n",
    "alpha = stvar('alpha', gridvar = True, vartype = 'state_fab')\n",
    "beta_U = stvarrank1('beta_U', gridvar = True, vartype = 'state_fab')"
   ]
  },
  {
   "cell_type": "markdown",
   "metadata": {},
   "source": [
    "# RHS"
   ]
  },
  {
   "cell_type": "code",
   "execution_count": 4,
   "metadata": {},
   "outputs": [],
   "source": [
    "RHSString = \"\"\n",
    "RHSString += phi.symb2isymb()\n",
    "RHSString += chi.symb2isymb()\n",
    "RHSString += gamtilde_LL.symb2isymb()\n",
    "RHSString += Khat.symb2isymb()\n",
    "RHSString += Atilde_LL.symb2isymb()\n",
    "RHSString += theta.symb2isymb()\n",
    "RHSString += Gamtilde_U.symb2isymb()\n",
    "\n",
    "RHSString += alpha.symb2isymb()\n",
    "RHSString += beta_U.symb2isymb()"
   ]
  },
  {
   "cell_type": "code",
   "execution_count": 5,
   "metadata": {},
   "outputs": [],
   "source": [
    "dDphi_L = phi.diff('dD', Accuracy = DiffOrder)\n",
    "dupDphi_L = phi.diff('dup1D', Accuracy = upDiffOrder)\n",
    "ddnDphi_L = phi.diff('ddn1D', Accuracy = dnDiffOrder)\n",
    "dDDphi_LL = phi.diff('dDD', Accuracy = DiffOrder)\n",
    "dKODFullphi = phi.diff('dKODFull', Accuracy = DiffOrderKO)\n",
    "AdvDphi = AdvectiveD(phi, beta_U)"
   ]
  },
  {
   "cell_type": "code",
   "execution_count": 6,
   "metadata": {},
   "outputs": [],
   "source": [
    "RHSString += dDphi_L.symb2isymb()\n",
    "RHSString += dupDphi_L.symb2isymb()\n",
    "RHSString += ddnDphi_L.symb2isymb()\n",
    "RHSString += dDDphi_LL.symb2isymb()\n",
    "RHSString += dKODFullphi.symb2isymb()\n",
    "RHSString += AdvDphi.symb2expr()"
   ]
  },
  {
   "cell_type": "code",
   "execution_count": 7,
   "metadata": {},
   "outputs": [],
   "source": [
    "dDchi_L = chi.diff('dD', Accuracy = DiffOrder)\n",
    "dupDchi_L = chi.diff('dup1D', Accuracy = upDiffOrder)\n",
    "ddnDchi_L = chi.diff('ddn1D', Accuracy = dnDiffOrder)\n",
    "dDDchi_LL = chi.diff('dDD', Accuracy = DiffOrder)\n",
    "dKODFullchi = chi.diff('dKODFull', Accuracy = DiffOrderKO)\n",
    "AdvDchi = AdvectiveD(chi, beta_U)"
   ]
  },
  {
   "cell_type": "code",
   "execution_count": 8,
   "metadata": {},
   "outputs": [],
   "source": [
    "RHSString += dDchi_L.symb2isymb()\n",
    "RHSString += dupDchi_L.symb2isymb()\n",
    "RHSString += ddnDchi_L.symb2isymb()\n",
    "RHSString += dDDchi_LL.symb2isymb()\n",
    "RHSString += dKODFullchi.symb2isymb()\n",
    "RHSString += AdvDchi.symb2expr()"
   ]
  },
  {
   "cell_type": "code",
   "execution_count": 9,
   "metadata": {},
   "outputs": [],
   "source": [
    "dDgamtilde_LLL = gamtilde_LL.diff('dD', Accuracy = DiffOrder)\n",
    "dupDgamtilde_LLL = gamtilde_LL.diff('dup1D', Accuracy = upDiffOrder)\n",
    "ddnDgamtilde_LLL = gamtilde_LL.diff('ddn1D', Accuracy = dnDiffOrder)\n",
    "dDDgamtilde_LLLL = gamtilde_LL.diff('dDD', Accuracy = DiffOrder)\n",
    "dKODFullgamtilde_LL = gamtilde_LL.diff('dKODFull', Accuracy = DiffOrderKO)\n",
    "AdvDgamtilde_LL = AdvectiveD(gamtilde_LL, beta_U)"
   ]
  },
  {
   "cell_type": "code",
   "execution_count": 10,
   "metadata": {},
   "outputs": [],
   "source": [
    "RHSString += dDgamtilde_LLL.symb2isymb()\n",
    "RHSString += dupDgamtilde_LLL.symb2isymb()\n",
    "RHSString += ddnDgamtilde_LLL.symb2isymb()\n",
    "RHSString += dDDgamtilde_LLLL.symb2isymb()\n",
    "RHSString += dKODFullgamtilde_LL.symb2isymb()\n",
    "RHSString += AdvDgamtilde_LL.symb2expr()"
   ]
  },
  {
   "cell_type": "code",
   "execution_count": 11,
   "metadata": {},
   "outputs": [],
   "source": [
    "dDKhat_L = Khat.diff('dD', Accuracy = DiffOrder)\n",
    "dupDKhat_L = Khat.diff('dup1D', Accuracy = upDiffOrder)\n",
    "ddnDKhat_L = Khat.diff('ddn1D', Accuracy = dnDiffOrder)\n",
    "dDDKhat_LL = Khat.diff('dDD', Accuracy = DiffOrder)\n",
    "dKODFullKhat = Khat.diff('dKODFull', Accuracy = DiffOrderKO)\n",
    "AdvDKhat = AdvectiveD(Khat, beta_U)"
   ]
  },
  {
   "cell_type": "code",
   "execution_count": 12,
   "metadata": {},
   "outputs": [],
   "source": [
    "RHSString += dDKhat_L.symb2isymb()\n",
    "RHSString += dupDKhat_L.symb2isymb()\n",
    "RHSString += ddnDKhat_L.symb2isymb()\n",
    "RHSString += dDDKhat_LL.symb2isymb()\n",
    "RHSString += dKODFullKhat.symb2isymb()\n",
    "RHSString += AdvDKhat.symb2expr()"
   ]
  },
  {
   "cell_type": "code",
   "execution_count": 13,
   "metadata": {},
   "outputs": [],
   "source": [
    "dDAtilde_LLL = Atilde_LL.diff('dD', Accuracy = DiffOrder)\n",
    "dupDAtilde_LLL = Atilde_LL.diff('dup1D', Accuracy = upDiffOrder)\n",
    "ddnDAtilde_LLL = Atilde_LL.diff('ddn1D', Accuracy = dnDiffOrder)\n",
    "dDDAtilde_LLLL = Atilde_LL.diff('dDD', Accuracy = DiffOrder)\n",
    "dKODFullAtilde_LL = Atilde_LL.diff('dKODFull', Accuracy = DiffOrderKO)\n",
    "AdvDAtilde_LL = AdvectiveD(Atilde_LL, beta_U)"
   ]
  },
  {
   "cell_type": "code",
   "execution_count": 14,
   "metadata": {},
   "outputs": [],
   "source": [
    "RHSString += dDAtilde_LLL.symb2isymb()\n",
    "RHSString += dupDAtilde_LLL.symb2isymb()\n",
    "RHSString += ddnDAtilde_LLL.symb2isymb()\n",
    "RHSString += dDDAtilde_LLLL.symb2isymb()\n",
    "RHSString += dKODFullAtilde_LL.symb2isymb()\n",
    "RHSString += AdvDAtilde_LL.symb2expr()"
   ]
  },
  {
   "cell_type": "code",
   "execution_count": 15,
   "metadata": {},
   "outputs": [],
   "source": [
    "dDtheta_L = theta.diff('dD', Accuracy = DiffOrder)\n",
    "dupDtheta_L = theta.diff('dup1D', Accuracy = upDiffOrder)\n",
    "ddnDtheta_L = theta.diff('ddn1D', Accuracy = dnDiffOrder)\n",
    "dDDtheta_LL = theta.diff('dDD', Accuracy = DiffOrder)\n",
    "dKODFulltheta = theta.diff('dKODFull', Accuracy = DiffOrderKO)\n",
    "AdvDtheta = AdvectiveD(theta, beta_U)"
   ]
  },
  {
   "cell_type": "code",
   "execution_count": 16,
   "metadata": {},
   "outputs": [],
   "source": [
    "RHSString += dDtheta_L.symb2isymb()\n",
    "RHSString += dupDtheta_L.symb2isymb()\n",
    "RHSString += ddnDtheta_L.symb2isymb()\n",
    "RHSString += dDDtheta_LL.symb2isymb()\n",
    "RHSString += dKODFulltheta.symb2isymb()\n",
    "RHSString += AdvDtheta.symb2expr()"
   ]
  },
  {
   "cell_type": "code",
   "execution_count": 17,
   "metadata": {},
   "outputs": [],
   "source": [
    "dDGamtilde_UL = Gamtilde_U.diff('dD', Accuracy = DiffOrder)\n",
    "dupDGamtilde_UL = Gamtilde_U.diff('dup1D', Accuracy = upDiffOrder)\n",
    "ddnDGamtilde_UL = Gamtilde_U.diff('ddn1D', Accuracy = dnDiffOrder)\n",
    "dDDGamtilde_ULL = Gamtilde_U.diff('dDD', Accuracy = DiffOrder)\n",
    "dKODFullGamtilde_U = Gamtilde_U.diff('dKODFull', Accuracy = DiffOrderKO)\n",
    "AdvDGamtilde_U = AdvectiveD(Gamtilde_U, beta_U)"
   ]
  },
  {
   "cell_type": "code",
   "execution_count": 18,
   "metadata": {},
   "outputs": [],
   "source": [
    "RHSString += dDGamtilde_UL.symb2isymb()\n",
    "RHSString += dupDGamtilde_UL.symb2isymb()\n",
    "RHSString += ddnDGamtilde_UL.symb2isymb()\n",
    "RHSString += dDDGamtilde_ULL.symb2isymb()\n",
    "RHSString += dKODFullGamtilde_U.symb2isymb()\n",
    "RHSString += AdvDGamtilde_U.symb2expr()"
   ]
  },
  {
   "cell_type": "code",
   "execution_count": 19,
   "metadata": {},
   "outputs": [],
   "source": [
    "dDalpha_L = alpha.diff('dD', Accuracy = DiffOrder)\n",
    "dupDalpha_L = alpha.diff('dup1D', Accuracy = upDiffOrder)\n",
    "ddnDalpha_L = alpha.diff('ddn1D', Accuracy = dnDiffOrder)\n",
    "dDDalpha_LL = alpha.diff('dDD', Accuracy = DiffOrder)\n",
    "dKODFullalpha = alpha.diff('dKODFull', Accuracy = DiffOrderKO)\n",
    "AdvDalpha = AdvectiveD(alpha, beta_U)"
   ]
  },
  {
   "cell_type": "code",
   "execution_count": 20,
   "metadata": {},
   "outputs": [],
   "source": [
    "RHSString += dDalpha_L.symb2isymb()\n",
    "RHSString += dupDalpha_L.symb2isymb()\n",
    "RHSString += ddnDalpha_L.symb2isymb()\n",
    "RHSString += dDDalpha_LL.symb2isymb()\n",
    "RHSString += dKODFullalpha.symb2isymb()\n",
    "RHSString += AdvDalpha.symb2expr()"
   ]
  },
  {
   "cell_type": "code",
   "execution_count": 21,
   "metadata": {},
   "outputs": [],
   "source": [
    "dDbeta_UL = beta_U.diff('dD', Accuracy = DiffOrder)\n",
    "dupDbeta_UL = beta_U.diff('dup1D', Accuracy = upDiffOrder)\n",
    "ddnDbeta_UL = beta_U.diff('ddn1D', Accuracy = dnDiffOrder)\n",
    "dDDbeta_ULL = beta_U.diff('dDD', Accuracy = DiffOrder)\n",
    "dKODFullbeta_U = beta_U.diff('dKODFull', Accuracy = DiffOrderKO)\n",
    "AdvDbeta_U = AdvectiveD(beta_U, beta_U)"
   ]
  },
  {
   "cell_type": "code",
   "execution_count": 22,
   "metadata": {},
   "outputs": [],
   "source": [
    "RHSString += dDbeta_UL.symb2isymb()\n",
    "RHSString += dupDbeta_UL.symb2isymb()\n",
    "RHSString += ddnDbeta_UL.symb2isymb()\n",
    "RHSString += dDDbeta_ULL.symb2isymb()\n",
    "RHSString += dKODFullbeta_U.symb2isymb()\n",
    "RHSString += AdvDbeta_U.symb2expr()"
   ]
  },
  {
   "cell_type": "code",
   "execution_count": null,
   "metadata": {},
   "outputs": [],
   "source": []
  },
  {
   "cell_type": "code",
   "execution_count": null,
   "metadata": {},
   "outputs": [],
   "source": []
  },
  {
   "cell_type": "code",
   "execution_count": 23,
   "metadata": {},
   "outputs": [],
   "source": [
    "gamtilde_UU = inversemetric(gamtilde_LL)"
   ]
  },
  {
   "cell_type": "code",
   "execution_count": 24,
   "metadata": {},
   "outputs": [],
   "source": [
    "RHSString += gamtilde_UU.symb2expr()"
   ]
  },
  {
   "cell_type": "code",
   "execution_count": 25,
   "metadata": {},
   "outputs": [],
   "source": [
    "Gamtilde_LLL = ChristoffelLLL(gamtilde_LL)\n",
    "Gamtilde_ULL = ChristoffelULL(gamtilde_LL)\n",
    "#Gam_ULL = ConformalChristoffelULL(chi, gamtilde_LL)"
   ]
  },
  {
   "cell_type": "code",
   "execution_count": 26,
   "metadata": {},
   "outputs": [],
   "source": [
    "Gam_ULL = stvarrank3('Gam_ULL')\n",
    "Gam_ULL.expr += Gamtilde_ULL.symb\n",
    "for i in range(3):\n",
    "        for j in range(3):\n",
    "            for k in range(3):\n",
    "                Gam_ULL.expr[i][j][k] += 2*(sp.eye(3)[i,j]*dDphi_L.symb[k]+sp.eye(3)[i,k]*dDphi_L.symb[j])\n",
    "                for l in range(3):\n",
    "                    Gam_ULL.expr[i][j][k] += -2*gamtilde_LL.symb[j][k]*gamtilde_UU.symb[i][l]*dDphi_L.symb[l]"
   ]
  },
  {
   "cell_type": "code",
   "execution_count": 27,
   "metadata": {},
   "outputs": [],
   "source": [
    "RHSString += Gamtilde_LLL.symb2expr()\n",
    "RHSString += Gamtilde_ULL.symb2expr()\n",
    "RHSString += Gam_ULL.symb2expr()"
   ]
  },
  {
   "cell_type": "code",
   "execution_count": 28,
   "metadata": {},
   "outputs": [],
   "source": [
    "CovDDalpha_LL = CovariantD(alpha, Gam_ULL, dstring = 'dDD')"
   ]
  },
  {
   "cell_type": "code",
   "execution_count": null,
   "metadata": {},
   "outputs": [],
   "source": []
  },
  {
   "cell_type": "code",
   "execution_count": 29,
   "metadata": {},
   "outputs": [],
   "source": [
    "RHSString += CovDDalpha_LL.symb2expr()"
   ]
  },
  {
   "cell_type": "code",
   "execution_count": 30,
   "metadata": {},
   "outputs": [],
   "source": [
    "gam_LL = stvarrank2('gam_LL', sym = 'sym01')\n",
    "gam_LL.expr = sp.exp(4*phi.symb)*gamtilde_LL.symb\n",
    "\n",
    "gam_UU = stvarrank2('invgam_UU', sym = 'sym01')\n",
    "gam_UU.expr = sp.exp(-4*phi.symb)*gamtilde_UU.symb"
   ]
  },
  {
   "cell_type": "code",
   "execution_count": 31,
   "metadata": {},
   "outputs": [],
   "source": [
    "RHSString += gam_LL.symb2expr()\n",
    "RHSString += gam_UU.symb2expr()"
   ]
  },
  {
   "cell_type": "code",
   "execution_count": 32,
   "metadata": {},
   "outputs": [],
   "source": [
    "Atilde_UU = stvarrank2(\"Atilde_UU\", sym = 'sym01')\n",
    "for i in range(3):\n",
    "    for j in range(3):\n",
    "        for k in range(3):\n",
    "            for l in range(3):\n",
    "                Atilde_UU.expr[i][j] += gamtilde_UU.symb[i][k]*gamtilde_UU.symb[j][l]*Atilde_LL.symb[k][l]\n",
    "                \n",
    "Atilde_UL = stvarrank2(\"Atilde_UL\")\n",
    "for i in range(3):\n",
    "    for j in range(3):\n",
    "        for k in range(3):\n",
    "            Atilde_UL.expr[i][j] += gamtilde_UU.symb[i][k]*Atilde_LL.symb[k][j]"
   ]
  },
  {
   "cell_type": "code",
   "execution_count": 33,
   "metadata": {},
   "outputs": [],
   "source": [
    "RHSString += Atilde_UU.symb2expr()\n",
    "RHSString += Atilde_UL.symb2expr()"
   ]
  },
  {
   "cell_type": "code",
   "execution_count": 34,
   "metadata": {},
   "outputs": [],
   "source": [
    "CovDDalphaTF_LL = stvarrank2('CovDDalphaTF_LL', sym = 'sym01')\n",
    "\n",
    "for i in range(3):\n",
    "    for j in range(3):\n",
    "        CovDDalphaTF_LL.expr[i][j] += CovDDalpha_LL.symb[i][j]\n",
    "        for k in range(3):\n",
    "            for l in range(3):\n",
    "                CovDDalphaTF_LL.expr[i][j] += -sp.Rational(1,3)*gam_LL.symb[i][j]*(gam_UU.symb[k][l]*CovDDalpha_LL.symb[k][l])"
   ]
  },
  {
   "cell_type": "code",
   "execution_count": 35,
   "metadata": {},
   "outputs": [],
   "source": [
    "RHSString += CovDDalphaTF_LL.symb2expr()"
   ]
  },
  {
   "cell_type": "code",
   "execution_count": 36,
   "metadata": {},
   "outputs": [],
   "source": [
    "GamtildeD_U = ChristoffelDU(gamtilde_LL)"
   ]
  },
  {
   "cell_type": "code",
   "execution_count": 37,
   "metadata": {},
   "outputs": [],
   "source": [
    "RHSString += GamtildeD_U.symb2expr()"
   ]
  },
  {
   "cell_type": "code",
   "execution_count": 38,
   "metadata": {},
   "outputs": [],
   "source": [
    "Rtilde_LL = Z4cRicciTildeTensorLL(gamtilde_LL, Gamtilde_U)"
   ]
  },
  {
   "cell_type": "code",
   "execution_count": 39,
   "metadata": {},
   "outputs": [],
   "source": [
    "RHSString += Rtilde_LL.symb2expr()"
   ]
  },
  {
   "cell_type": "code",
   "execution_count": 40,
   "metadata": {},
   "outputs": [],
   "source": [
    "CovDtildephi_L = CovariantD(phi, Gamtilde_ULL, dstring = 'dD')\n",
    "CovDtildeDtildephi_LL = CovariantD(phi, Gamtilde_ULL, dstring = 'dDD')"
   ]
  },
  {
   "cell_type": "code",
   "execution_count": 41,
   "metadata": {},
   "outputs": [],
   "source": [
    "RHSString += CovDtildephi_L.symb2expr()\n",
    "RHSString += CovDtildeDtildephi_LL.symb2expr()"
   ]
  },
  {
   "cell_type": "code",
   "execution_count": 42,
   "metadata": {},
   "outputs": [],
   "source": [
    "Rchi_LL = Z4cRicciTensorFromScalar(chi, gamtilde_LL, dstring = 'dD')\n",
    "Rphi_LL = stvarrank2('Rphi_LL', sym = 'sym01')\n",
    "for i in range(3):\n",
    "        for j in range(3):\n",
    "            Rphi_LL.expr[i][j] += -2*CovDtildeDtildephi_LL.symb[i][j] + 4*CovDtildephi_L.symb[i]*CovDtildephi_L.symb[j]\n",
    "            for k in range(3):\n",
    "                for l in range(3):\n",
    "                    Rphi_LL.expr[i][j] += -gamtilde_LL.symb[i][j]*(2*gamtilde_UU.symb[k][l]*CovDtildeDtildephi_LL.symb[k][l]+4*gamtilde_UU.symb[k][l]*CovDtildephi_L.symb[k]*CovDtildephi_L.symb[l])"
   ]
  },
  {
   "cell_type": "code",
   "execution_count": null,
   "metadata": {
    "scrolled": true
   },
   "outputs": [],
   "source": []
  },
  {
   "cell_type": "code",
   "execution_count": 43,
   "metadata": {},
   "outputs": [],
   "source": [
    "RHSString += Rphi_LL.symb2expr()"
   ]
  },
  {
   "cell_type": "code",
   "execution_count": 44,
   "metadata": {},
   "outputs": [],
   "source": [
    "R_LL = stvarrank2('R_LL', sym = 'sym01')\n",
    "for i in range(3):\n",
    "    for j in range(3):\n",
    "        R_LL.expr[i][j] += Rtilde_LL.symb[i][j]+Rphi_LL.symb[i][j]"
   ]
  },
  {
   "cell_type": "code",
   "execution_count": 45,
   "metadata": {},
   "outputs": [],
   "source": [
    "RHSString += R_LL.symb2expr()"
   ]
  },
  {
   "cell_type": "code",
   "execution_count": 46,
   "metadata": {},
   "outputs": [],
   "source": [
    "Rsclr = stvar('Rsclr')\n",
    "for i in range(3):\n",
    "    for j in range(3):\n",
    "        Rsclr.expr += gam_UU.symb[i][j]*R_LL.symb[i][j] "
   ]
  },
  {
   "cell_type": "code",
   "execution_count": 47,
   "metadata": {},
   "outputs": [],
   "source": [
    "RHSString += Rsclr.symb2expr()"
   ]
  },
  {
   "cell_type": "code",
   "execution_count": 48,
   "metadata": {},
   "outputs": [],
   "source": [
    "RTF_LL = stvarrank2('RTF_LL', sym = 'sym01')\n",
    "for i in range(3):\n",
    "    for j in range(3):\n",
    "        RTF_LL.expr[i][j] = R_LL.symb[i][j]-sp.Rational(1,3)*gam_LL.symb[i][j]*Rsclr.symb"
   ]
  },
  {
   "cell_type": "code",
   "execution_count": 49,
   "metadata": {},
   "outputs": [],
   "source": [
    "RHSString += RTF_LL.symb2expr()"
   ]
  },
  {
   "cell_type": "code",
   "execution_count": 50,
   "metadata": {},
   "outputs": [],
   "source": [
    "Dtildebeta_UL = CovariantD(beta_U, Gamtilde_ULL, 'dD')"
   ]
  },
  {
   "cell_type": "code",
   "execution_count": null,
   "metadata": {},
   "outputs": [],
   "source": []
  },
  {
   "cell_type": "code",
   "execution_count": 51,
   "metadata": {},
   "outputs": [],
   "source": [
    "RHSString += Dtildebeta_UL.symb2expr()"
   ]
  },
  {
   "cell_type": "code",
   "execution_count": 52,
   "metadata": {},
   "outputs": [],
   "source": [
    "divTildebeta = stvar('divTildebeta')\n",
    "for i in range(3):\n",
    "    divTildebeta.expr += Dtildebeta_UL.symb[i][i]"
   ]
  },
  {
   "cell_type": "code",
   "execution_count": 53,
   "metadata": {},
   "outputs": [],
   "source": [
    "RHSString += divTildebeta.symb2expr()"
   ]
  },
  {
   "cell_type": "code",
   "execution_count": 54,
   "metadata": {},
   "outputs": [],
   "source": [
    "KOsigma = stvar('KOSigma')\n",
    "KOsigma.expr = KOsigmaVal"
   ]
  },
  {
   "cell_type": "code",
   "execution_count": 55,
   "metadata": {},
   "outputs": [],
   "source": [
    "RHSString += KOsigma.symb2expr()"
   ]
  },
  {
   "cell_type": "code",
   "execution_count": 56,
   "metadata": {},
   "outputs": [],
   "source": [
    "RHS_phi = stvar(\"phi\", gridvar = True, addtolist = False, vartype = \"state_fab\", varprefix = \"rhs_fab\")\n",
    "RHS_phi.expr = -sp.Rational(1,6)*alpha.symb*(Khat.symb + theta.symb)\n",
    "RHS_phi.expr += AdvDphi.symb\n",
    "for i in range(3):\n",
    "    RHS_phi.expr += sp.Rational(1,6)*dDbeta_UL.symb[i][i]\n",
    "RHS_phi.expr += KOsigma.symb*dKODFullphi.symb"
   ]
  },
  {
   "cell_type": "code",
   "execution_count": 57,
   "metadata": {},
   "outputs": [],
   "source": [
    "RHSString += RHS_phi.setisymb()"
   ]
  },
  {
   "cell_type": "code",
   "execution_count": 58,
   "metadata": {},
   "outputs": [],
   "source": [
    "RHS_gamtilde_LL = stvarrank2(\"gamtilde_LL\", gridvar = True, addtolist = False, sym = 'sym01', vartype = \"state_fab\", varprefix = \"rhs_fab\")\n",
    "\n",
    "for i in range(3):\n",
    "    for j in range(3):\n",
    "        RHS_gamtilde_LL.expr[i][j] += -2*alpha.symb*Atilde_LL.symb[i][j]\n",
    "        RHS_gamtilde_LL.expr[i][j] += AdvDgamtilde_LL.symb[i][j]\n",
    "        for k in range(3):\n",
    "            RHS_gamtilde_LL.expr[i][j] += gamtilde_LL.symb[k][i]*dDbeta_UL.symb[k][j]+gamtilde_LL.symb[k][j]*dDbeta_UL.symb[k][i]\n",
    "            RHS_gamtilde_LL.expr[i][j] += -sp.Rational(2,3)*gamtilde_LL.symb[i][j]*dDbeta_UL.symb[k][k]\n",
    "            \n",
    "for i in range(3):\n",
    "    for j in range(3):\n",
    "        RHS_gamtilde_LL.expr[i][j] += KOsigma.symb*dKODFullgamtilde_LL.symb[i][j]"
   ]
  },
  {
   "cell_type": "code",
   "execution_count": 59,
   "metadata": {},
   "outputs": [],
   "source": [
    "RHSString += RHS_gamtilde_LL.setisymb()"
   ]
  },
  {
   "cell_type": "code",
   "execution_count": 60,
   "metadata": {},
   "outputs": [],
   "source": [
    "kappa1 = stvar('kappa1')\n",
    "kappa2 = stvar('kappa2')\n",
    "\n",
    "kappa1.expr = 0.0\n",
    "kappa2.expr = 0\n",
    "\n",
    "RHS_Khat = stvar('Khat', gridvar = True, addtolist = False, vartype = \"state_fab\", varprefix = \"rhs_fab\")\n",
    "for i in range(3):\n",
    "    for j in range(3):\n",
    "        RHS_Khat.expr += -gam_UU.symb[i][j]*CovDDalpha_LL.symb[j][i]+alpha.symb*Atilde_LL.symb[i][j]*Atilde_UU.symb[i][j]\n",
    "\n",
    "RHS_Khat.expr += AdvDKhat.symb\n",
    "RHS_Khat.expr += sp.Rational(1,3)*alpha.symb*((Khat.symb+2*theta.symb)**2) + alpha.symb*kappa1.symb*(1-kappa2.symb)*theta.symb\n",
    "RHS_Khat.expr += KOsigma.symb*dKODFullKhat.symb"
   ]
  },
  {
   "cell_type": "code",
   "execution_count": 61,
   "metadata": {},
   "outputs": [],
   "source": [
    "RHSString += kappa1.symb2expr()\n",
    "RHSString += kappa2.symb2expr()\n",
    "RHSString += RHS_Khat.setisymb()"
   ]
  },
  {
   "cell_type": "code",
   "execution_count": 62,
   "metadata": {},
   "outputs": [],
   "source": [
    "RHS_Atilde_LL = stvarrank2('Atilde_LL', sym = 'sym01', gridvar = True, addtolist = False, vartype = \"state_fab\", varprefix = \"rhs_fab\")\n",
    "\n",
    "for i in range(3):\n",
    "    for j in range(3):\n",
    "        RHS_Atilde_LL.expr[i][j] += sp.exp(-4*phi.symb)*(-CovDDalphaTF_LL.symb[i][j]+alpha.symb*RTF_LL.symb[i][j])+alpha.symb*(Khat.symb+2*theta.symb)*Atilde_LL.symb[i][j]\n",
    "        RHS_Atilde_LL.expr[i][j] += AdvDAtilde_LL.symb[i][j]\n",
    "        for k in range(3):\n",
    "            RHS_Atilde_LL.expr[i][j] += -2*alpha.symb*Atilde_LL.symb[i][k]*Atilde_UL.symb[k][j]\n",
    "            RHS_Atilde_LL.expr[i][j] += Atilde_LL.symb[k][i]*dDbeta_UL.symb[k][j]+Atilde_LL.symb[k][j]*dDbeta_UL.symb[k][i]-sp.Rational(2,3)*Atilde_LL.symb[i][j]*dDbeta_UL.symb[k][k]\n",
    "            \n",
    "for i in range(3):\n",
    "    for j in range(3):\n",
    "        RHS_Atilde_LL.expr[i][j] += KOsigma.symb*dKODFullAtilde_LL.symb[i][j]"
   ]
  },
  {
   "cell_type": "code",
   "execution_count": 63,
   "metadata": {},
   "outputs": [],
   "source": [
    "RHSString += RHS_Atilde_LL.setisymb()"
   ]
  },
  {
   "cell_type": "code",
   "execution_count": 64,
   "metadata": {},
   "outputs": [],
   "source": [
    "RHS_theta = stvar('theta', gridvar = True, addtolist = False, vartype = \"state_fab\", varprefix = \"rhs_fab\")\n",
    "\n",
    "RHS_theta.expr += sp.Rational(1,2)*alpha.symb*(Rsclr.symb + sp.Rational(2,3)*(Khat.symb+2*theta.symb)**2 - 2*kappa1.symb*(2+kappa2.symb)*theta.symb)\n",
    "RHS_theta.expr += AdvDtheta.symb\n",
    "for i in range(3):\n",
    "    for j in range(3):\n",
    "        RHS_theta.expr += -sp.Rational(1,2)*alpha.symb*Atilde_LL.symb[i][j]*Atilde_UU.symb[i][j]\n",
    "\n",
    "RHS_theta.expr += KOsigma.symb*dKODFulltheta.symb"
   ]
  },
  {
   "cell_type": "code",
   "execution_count": 65,
   "metadata": {},
   "outputs": [],
   "source": [
    "RHSString += RHS_theta.setisymb()"
   ]
  },
  {
   "cell_type": "code",
   "execution_count": 66,
   "metadata": {},
   "outputs": [],
   "source": [
    "RHS_Gamtilde_U = stvarrank1('Gamtilde_U', gridvar = True, addtolist = False, vartype = \"state_fab\", varprefix = \"rhs_fab\")\n",
    "\n",
    "for i in range(3):\n",
    "    RHS_Gamtilde_U.expr[i] += AdvDGamtilde_U.symb[i]\n",
    "    for j in range(3):\n",
    "        RHS_Gamtilde_U.expr[i] += -2*Atilde_UU.symb[i][j]*dDalpha_L.symb[j]+2*alpha.symb*(-sp.Rational(1,3)*gamtilde_UU.symb[i][j]*(2*dDKhat_L.symb[j]+dDtheta_L.symb[j])+6*Atilde_UU.symb[i][j]*dDphi_L.symb[j])\n",
    "        RHS_Gamtilde_U.expr[i] += -GamtildeD_U.symb[j]*dDbeta_UL.symb[i][j]+sp.Rational(2,3)*GamtildeD_U.symb[i]*dDbeta_UL.symb[j][j]\n",
    "        for k in range(3):\n",
    "            RHS_Gamtilde_U.expr[i] += 2*alpha.symb*Gamtilde_ULL.symb[i][j][k]*Atilde_UU.symb[j][k]\n",
    "            RHS_Gamtilde_U.expr[i] += sp.Rational(1,3)*gamtilde_UU.symb[i][j]*dDDbeta_ULL.symb[k][j][k]\n",
    "            RHS_Gamtilde_U.expr[i] += gamtilde_UU.symb[j][k]*dDDbeta_ULL.symb[i][j][k]\n",
    "            \n",
    "for i in range(3):\n",
    "    RHS_Gamtilde_U.expr[i] += -2*alpha.symb*kappa1.symb*(Gamtilde_U.symb[i]-GamtildeD_U.symb[i])\n",
    "for i in range(3):\n",
    "    RHS_Gamtilde_U.expr[i] += KOsigma.symb*dKODFullGamtilde_U.symb[i]"
   ]
  },
  {
   "cell_type": "code",
   "execution_count": 67,
   "metadata": {},
   "outputs": [],
   "source": [
    "RHSString += RHS_Gamtilde_U.setisymb()"
   ]
  },
  {
   "cell_type": "code",
   "execution_count": 68,
   "metadata": {},
   "outputs": [],
   "source": [
    "mul = stvar('mul')\n",
    "mus = stvar('mus')\n",
    "\n",
    "mul.expr = 2/alpha.symb\n",
    "mus.expr = 1/(alpha.symb**(2))"
   ]
  },
  {
   "cell_type": "code",
   "execution_count": 69,
   "metadata": {},
   "outputs": [],
   "source": [
    "RHSString += mul.symb2expr()\n",
    "RHSString += mus.symb2expr()"
   ]
  },
  {
   "cell_type": "code",
   "execution_count": 70,
   "metadata": {},
   "outputs": [],
   "source": [
    "RHS_alpha = stvar('alpha', gridvar = True, addtolist = False, vartype = \"state_fab\", varprefix = \"rhs_fab\")\n",
    "\n",
    "RHS_alpha.expr += -mul.symb*(alpha.symb**2)*Khat.symb+AdvDalpha.symb\n",
    "RHS_alpha.expr += KOsigma.symb*dKODFullalpha.symb"
   ]
  },
  {
   "cell_type": "code",
   "execution_count": 71,
   "metadata": {},
   "outputs": [],
   "source": [
    "RHSString += RHS_alpha.setisymb()"
   ]
  },
  {
   "cell_type": "code",
   "execution_count": 72,
   "metadata": {},
   "outputs": [],
   "source": [
    "eta = stvar('eta')\n",
    "eta.expr = 2.0\n",
    "\n",
    "RHS_beta_U = stvarrank1('beta_U', gridvar = True, addtolist = False, vartype = \"state_fab\", varprefix = \"rhs_fab\")\n",
    "\n",
    "#for i in range(3):\n",
    " #   RHS_beta_U.expr[i] += (alpha.symb**2)*sp.exp(-4*phi.symb)*(Gamtilde_U.symb[i])+AdvDbeta_U.symb[i]\n",
    "  #  for j in range(3):\n",
    "   #     RHS_beta_U.expr[i] += -2*(alpha.symb**2)*sp.exp(-8*phi.symb)*gamtilde_UU.symb[i][j]*dDphi_L.symb[j]-sp.exp(-4*phi.symb)*gamtilde_UU.symb[i][j]*alpha.symb*dDalpha_L.symb[j]\n",
    "\n",
    "for i in range(3):\n",
    "    RHS_beta_U.expr[i] += mus.symb*(alpha.symb**2)*Gamtilde_U.symb[i]-eta.symb*beta_U.symb[i]+AdvDbeta_U.symb[i]\n",
    "    \n",
    "for i in range(3):\n",
    "    RHS_beta_U.expr[i] += KOsigma.symb*dKODFullbeta_U.symb[i]"
   ]
  },
  {
   "cell_type": "code",
   "execution_count": 73,
   "metadata": {},
   "outputs": [],
   "source": [
    "RHSString += eta.symb2expr()\n",
    "RHSString += RHS_beta_U.setisymb()"
   ]
  },
  {
   "cell_type": "code",
   "execution_count": null,
   "metadata": {},
   "outputs": [],
   "source": []
  },
  {
   "cell_type": "code",
   "execution_count": null,
   "metadata": {},
   "outputs": [],
   "source": []
  },
  {
   "cell_type": "code",
   "execution_count": null,
   "metadata": {},
   "outputs": [],
   "source": []
  },
  {
   "cell_type": "code",
   "execution_count": 74,
   "metadata": {
    "scrolled": true,
    "tags": []
   },
   "outputs": [
    {
     "name": "stdout",
     "output_type": "stream",
     "text": [
      "        amrex::Real phi = state_fab(i, j, k, Idx::phi);\n",
      "\n",
      "        amrex::Real chi = state_fab(i, j, k, Idx::chi);\n",
      "\n",
      "        amrex::Real gamtilde_LL_00 = state_fab(i, j, k, Idx::gamtilde_LL_00);\n",
      "        amrex::Real gamtilde_LL_01 = state_fab(i, j, k, Idx::gamtilde_LL_01);\n",
      "        amrex::Real gamtilde_LL_02 = state_fab(i, j, k, Idx::gamtilde_LL_02);\n",
      "        amrex::Real gamtilde_LL_11 = state_fab(i, j, k, Idx::gamtilde_LL_11);\n",
      "        amrex::Real gamtilde_LL_12 = state_fab(i, j, k, Idx::gamtilde_LL_12);\n",
      "        amrex::Real gamtilde_LL_22 = state_fab(i, j, k, Idx::gamtilde_LL_22);\n",
      "\n",
      "        amrex::Real Khat = state_fab(i, j, k, Idx::Khat);\n",
      "\n",
      "        amrex::Real Atilde_LL_00 = state_fab(i, j, k, Idx::Atilde_LL_00);\n",
      "        amrex::Real Atilde_LL_01 = state_fab(i, j, k, Idx::Atilde_LL_01);\n",
      "        amrex::Real Atilde_LL_02 = state_fab(i, j, k, Idx::Atilde_LL_02);\n",
      "        amrex::Real Atilde_LL_11 = state_fab(i, j, k, Idx::Atilde_LL_11);\n",
      "        amrex::Real Atilde_LL_12 = state_fab(i, j, k, Idx::Atilde_LL_12);\n",
      "        amrex::Real Atilde_LL_22 = state_fab(i, j, k, Idx::Atilde_LL_22);\n",
      "\n",
      "        amrex::Real theta = state_fab(i, j, k, Idx::theta);\n",
      "\n",
      "        amrex::Real Gamtilde_U_0 = state_fab(i, j, k, Idx::Gamtilde_U_0);\n",
      "        amrex::Real Gamtilde_U_1 = state_fab(i, j, k, Idx::Gamtilde_U_1);\n",
      "        amrex::Real Gamtilde_U_2 = state_fab(i, j, k, Idx::Gamtilde_U_2);\n",
      "\n",
      "        amrex::Real alpha = state_fab(i, j, k, Idx::alpha);\n",
      "\n",
      "        amrex::Real beta_U_0 = state_fab(i, j, k, Idx::beta_U_0);\n",
      "        amrex::Real beta_U_1 = state_fab(i, j, k, Idx::beta_U_1);\n",
      "        amrex::Real beta_U_2 = state_fab(i, j, k, Idx::beta_U_2);\n",
      "\n",
      "        amrex::Real dDphi_L_0 = ((1.0/2.0)*state_fab(i + 1, j, k, Idx::phi) - 1.0/2.0*state_fab(i - 1, j, k, Idx::phi))/dx[0];\n",
      "        amrex::Real dDphi_L_1 = ((1.0/2.0)*state_fab(i, j + 1, k, Idx::phi) - 1.0/2.0*state_fab(i, j - 1, k, Idx::phi))/dx[1];\n",
      "        amrex::Real dDphi_L_2 = ((1.0/2.0)*state_fab(i, j, k + 1, Idx::phi) - 1.0/2.0*state_fab(i, j, k - 1, Idx::phi))/dx[2];\n",
      "\n",
      "        amrex::Real dupDphi_L_0 = (2*state_fab(i + 1, j, k, Idx::phi) - 1.0/2.0*state_fab(i + 2, j, k, Idx::phi) - 3.0/2.0*state_fab(i, j, k, Idx::phi))/dx[0];\n",
      "        amrex::Real dupDphi_L_1 = (2*state_fab(i, j + 1, k, Idx::phi) - 1.0/2.0*state_fab(i, j + 2, k, Idx::phi) - 3.0/2.0*state_fab(i, j, k, Idx::phi))/dx[1];\n",
      "        amrex::Real dupDphi_L_2 = (2*state_fab(i, j, k + 1, Idx::phi) - 1.0/2.0*state_fab(i, j, k + 2, Idx::phi) - 3.0/2.0*state_fab(i, j, k, Idx::phi))/dx[2];\n",
      "\n",
      "        amrex::Real ddnDphi_L_0 = (-2*state_fab(i - 1, j, k, Idx::phi) + (1.0/2.0)*state_fab(i - 2, j, k, Idx::phi) + (3.0/2.0)*state_fab(i, j, k, Idx::phi))/dx[0];\n",
      "        amrex::Real ddnDphi_L_1 = (-2*state_fab(i, j - 1, k, Idx::phi) + (1.0/2.0)*state_fab(i, j - 2, k, Idx::phi) + (3.0/2.0)*state_fab(i, j, k, Idx::phi))/dx[1];\n",
      "        amrex::Real ddnDphi_L_2 = (-2*state_fab(i, j, k - 1, Idx::phi) + (1.0/2.0)*state_fab(i, j, k - 2, Idx::phi) + (3.0/2.0)*state_fab(i, j, k, Idx::phi))/dx[2];\n",
      "\n",
      "        amrex::Real dDDphi_LL_00 = (state_fab(i + 1, j, k, Idx::phi) + state_fab(i - 1, j, k, Idx::phi) - 2*state_fab(i, j, k, Idx::phi))/std::pow(dx[0], 2);\n",
      "        amrex::Real dDDphi_LL_01 = ((1.0/4.0)*state_fab(i + 1, j + 1, k, Idx::phi) - 1.0/4.0*state_fab(i + 1, j - 1, k, Idx::phi) - 1.0/4.0*state_fab(i - 1, j + 1, k, Idx::phi) + (1.0/4.0)*state_fab(i - 1, j - 1, k, Idx::phi))/(dx[0]*dx[1]);\n",
      "        amrex::Real dDDphi_LL_02 = ((1.0/4.0)*state_fab(i + 1, j, k + 1, Idx::phi) - 1.0/4.0*state_fab(i + 1, j, k - 1, Idx::phi) - 1.0/4.0*state_fab(i - 1, j, k + 1, Idx::phi) + (1.0/4.0)*state_fab(i - 1, j, k - 1, Idx::phi))/(dx[0]*dx[2]);\n",
      "        amrex::Real dDDphi_LL_11 = (state_fab(i, j + 1, k, Idx::phi) + state_fab(i, j - 1, k, Idx::phi) - 2*state_fab(i, j, k, Idx::phi))/std::pow(dx[1], 2);\n",
      "        amrex::Real dDDphi_LL_12 = ((1.0/4.0)*state_fab(i, j + 1, k + 1, Idx::phi) - 1.0/4.0*state_fab(i, j + 1, k - 1, Idx::phi) - 1.0/4.0*state_fab(i, j - 1, k + 1, Idx::phi) + (1.0/4.0)*state_fab(i, j - 1, k - 1, Idx::phi))/(dx[1]*dx[2]);\n",
      "        amrex::Real dDDphi_LL_22 = (state_fab(i, j, k + 1, Idx::phi) + state_fab(i, j, k - 1, Idx::phi) - 2*state_fab(i, j, k, Idx::phi))/std::pow(dx[2], 2);\n",
      "\n",
      "        amrex::Real dKODphi = ((1.0/4.0)*state_fab(i, j, k + 1, Idx::phi) - 1.0/16.0*state_fab(i, j, k + 2, Idx::phi) + (1.0/4.0)*state_fab(i, j, k - 1, Idx::phi) - 1.0/16.0*state_fab(i, j, k - 2, Idx::phi) - 3.0/8.0*state_fab(i, j, k, Idx::phi))/dx[2] + ((1.0/4.0)*state_fab(i, j + 1, k, Idx::phi) - 1.0/16.0*state_fab(i, j + 2, k, Idx::phi) + (1.0/4.0)*state_fab(i, j - 1, k, Idx::phi) - 1.0/16.0*state_fab(i, j - 2, k, Idx::phi) - 3.0/8.0*state_fab(i, j, k, Idx::phi))/dx[1] + ((1.0/4.0)*state_fab(i + 1, j, k, Idx::phi) - 1.0/16.0*state_fab(i + 2, j, k, Idx::phi) + (1.0/4.0)*state_fab(i - 1, j, k, Idx::phi) - 1.0/16.0*state_fab(i - 2, j, k, Idx::phi) - 3.0/8.0*state_fab(i, j, k, Idx::phi))/dx[0];\n",
      "\n",
      "        amrex::Real AdvDbetaphi = beta_U_0*(ddnDphi_L_0*(beta_U_0 < 0) + dupDphi_L_0*(beta_U_0 > 0)) + beta_U_1*(ddnDphi_L_1*(beta_U_1 < 0) + dupDphi_L_1*(beta_U_1 > 0)) + beta_U_2*(ddnDphi_L_2*(beta_U_2 < 0) + dupDphi_L_2*(beta_U_2 > 0));\n",
      "\n",
      "        amrex::Real dDchi_L_0 = ((1.0/2.0)*state_fab(i + 1, j, k, Idx::chi) - 1.0/2.0*state_fab(i - 1, j, k, Idx::chi))/dx[0];\n",
      "        amrex::Real dDchi_L_1 = ((1.0/2.0)*state_fab(i, j + 1, k, Idx::chi) - 1.0/2.0*state_fab(i, j - 1, k, Idx::chi))/dx[1];\n",
      "        amrex::Real dDchi_L_2 = ((1.0/2.0)*state_fab(i, j, k + 1, Idx::chi) - 1.0/2.0*state_fab(i, j, k - 1, Idx::chi))/dx[2];\n",
      "\n",
      "        amrex::Real dupDchi_L_0 = (2*state_fab(i + 1, j, k, Idx::chi) - 1.0/2.0*state_fab(i + 2, j, k, Idx::chi) - 3.0/2.0*state_fab(i, j, k, Idx::chi))/dx[0];\n",
      "        amrex::Real dupDchi_L_1 = (2*state_fab(i, j + 1, k, Idx::chi) - 1.0/2.0*state_fab(i, j + 2, k, Idx::chi) - 3.0/2.0*state_fab(i, j, k, Idx::chi))/dx[1];\n",
      "        amrex::Real dupDchi_L_2 = (2*state_fab(i, j, k + 1, Idx::chi) - 1.0/2.0*state_fab(i, j, k + 2, Idx::chi) - 3.0/2.0*state_fab(i, j, k, Idx::chi))/dx[2];\n",
      "\n",
      "        amrex::Real ddnDchi_L_0 = (-2*state_fab(i - 1, j, k, Idx::chi) + (1.0/2.0)*state_fab(i - 2, j, k, Idx::chi) + (3.0/2.0)*state_fab(i, j, k, Idx::chi))/dx[0];\n",
      "        amrex::Real ddnDchi_L_1 = (-2*state_fab(i, j - 1, k, Idx::chi) + (1.0/2.0)*state_fab(i, j - 2, k, Idx::chi) + (3.0/2.0)*state_fab(i, j, k, Idx::chi))/dx[1];\n",
      "        amrex::Real ddnDchi_L_2 = (-2*state_fab(i, j, k - 1, Idx::chi) + (1.0/2.0)*state_fab(i, j, k - 2, Idx::chi) + (3.0/2.0)*state_fab(i, j, k, Idx::chi))/dx[2];\n",
      "\n",
      "        amrex::Real dDDchi_LL_00 = (state_fab(i + 1, j, k, Idx::chi) + state_fab(i - 1, j, k, Idx::chi) - 2*state_fab(i, j, k, Idx::chi))/std::pow(dx[0], 2);\n",
      "        amrex::Real dDDchi_LL_01 = ((1.0/4.0)*state_fab(i + 1, j + 1, k, Idx::chi) - 1.0/4.0*state_fab(i + 1, j - 1, k, Idx::chi) - 1.0/4.0*state_fab(i - 1, j + 1, k, Idx::chi) + (1.0/4.0)*state_fab(i - 1, j - 1, k, Idx::chi))/(dx[0]*dx[1]);\n",
      "        amrex::Real dDDchi_LL_02 = ((1.0/4.0)*state_fab(i + 1, j, k + 1, Idx::chi) - 1.0/4.0*state_fab(i + 1, j, k - 1, Idx::chi) - 1.0/4.0*state_fab(i - 1, j, k + 1, Idx::chi) + (1.0/4.0)*state_fab(i - 1, j, k - 1, Idx::chi))/(dx[0]*dx[2]);\n",
      "        amrex::Real dDDchi_LL_11 = (state_fab(i, j + 1, k, Idx::chi) + state_fab(i, j - 1, k, Idx::chi) - 2*state_fab(i, j, k, Idx::chi))/std::pow(dx[1], 2);\n",
      "        amrex::Real dDDchi_LL_12 = ((1.0/4.0)*state_fab(i, j + 1, k + 1, Idx::chi) - 1.0/4.0*state_fab(i, j + 1, k - 1, Idx::chi) - 1.0/4.0*state_fab(i, j - 1, k + 1, Idx::chi) + (1.0/4.0)*state_fab(i, j - 1, k - 1, Idx::chi))/(dx[1]*dx[2]);\n",
      "        amrex::Real dDDchi_LL_22 = (state_fab(i, j, k + 1, Idx::chi) + state_fab(i, j, k - 1, Idx::chi) - 2*state_fab(i, j, k, Idx::chi))/std::pow(dx[2], 2);\n",
      "\n",
      "        amrex::Real dKODchi = ((1.0/4.0)*state_fab(i, j, k + 1, Idx::chi) - 1.0/16.0*state_fab(i, j, k + 2, Idx::chi) + (1.0/4.0)*state_fab(i, j, k - 1, Idx::chi) - 1.0/16.0*state_fab(i, j, k - 2, Idx::chi) - 3.0/8.0*state_fab(i, j, k, Idx::chi))/dx[2] + ((1.0/4.0)*state_fab(i, j + 1, k, Idx::chi) - 1.0/16.0*state_fab(i, j + 2, k, Idx::chi) + (1.0/4.0)*state_fab(i, j - 1, k, Idx::chi) - 1.0/16.0*state_fab(i, j - 2, k, Idx::chi) - 3.0/8.0*state_fab(i, j, k, Idx::chi))/dx[1] + ((1.0/4.0)*state_fab(i + 1, j, k, Idx::chi) - 1.0/16.0*state_fab(i + 2, j, k, Idx::chi) + (1.0/4.0)*state_fab(i - 1, j, k, Idx::chi) - 1.0/16.0*state_fab(i - 2, j, k, Idx::chi) - 3.0/8.0*state_fab(i, j, k, Idx::chi))/dx[0];\n",
      "\n",
      "        amrex::Real AdvDbetachi = beta_U_0*(ddnDchi_L_0*(beta_U_0 < 0) + dupDchi_L_0*(beta_U_0 > 0)) + beta_U_1*(ddnDchi_L_1*(beta_U_1 < 0) + dupDchi_L_1*(beta_U_1 > 0)) + beta_U_2*(ddnDchi_L_2*(beta_U_2 < 0) + dupDchi_L_2*(beta_U_2 > 0));\n",
      "\n",
      "        amrex::Real dDgamtilde_LLL_000 = ((1.0/2.0)*state_fab(i + 1, j, k, Idx::gamtilde_LL_00) - 1.0/2.0*state_fab(i - 1, j, k, Idx::gamtilde_LL_00))/dx[0];\n",
      "        amrex::Real dDgamtilde_LLL_001 = ((1.0/2.0)*state_fab(i, j + 1, k, Idx::gamtilde_LL_00) - 1.0/2.0*state_fab(i, j - 1, k, Idx::gamtilde_LL_00))/dx[1];\n",
      "        amrex::Real dDgamtilde_LLL_002 = ((1.0/2.0)*state_fab(i, j, k + 1, Idx::gamtilde_LL_00) - 1.0/2.0*state_fab(i, j, k - 1, Idx::gamtilde_LL_00))/dx[2];\n",
      "        amrex::Real dDgamtilde_LLL_010 = ((1.0/2.0)*state_fab(i + 1, j, k, Idx::gamtilde_LL_01) - 1.0/2.0*state_fab(i - 1, j, k, Idx::gamtilde_LL_01))/dx[0];\n",
      "        amrex::Real dDgamtilde_LLL_011 = ((1.0/2.0)*state_fab(i, j + 1, k, Idx::gamtilde_LL_01) - 1.0/2.0*state_fab(i, j - 1, k, Idx::gamtilde_LL_01))/dx[1];\n",
      "        amrex::Real dDgamtilde_LLL_012 = ((1.0/2.0)*state_fab(i, j, k + 1, Idx::gamtilde_LL_01) - 1.0/2.0*state_fab(i, j, k - 1, Idx::gamtilde_LL_01))/dx[2];\n",
      "        amrex::Real dDgamtilde_LLL_020 = ((1.0/2.0)*state_fab(i + 1, j, k, Idx::gamtilde_LL_02) - 1.0/2.0*state_fab(i - 1, j, k, Idx::gamtilde_LL_02))/dx[0];\n",
      "        amrex::Real dDgamtilde_LLL_021 = ((1.0/2.0)*state_fab(i, j + 1, k, Idx::gamtilde_LL_02) - 1.0/2.0*state_fab(i, j - 1, k, Idx::gamtilde_LL_02))/dx[1];\n",
      "        amrex::Real dDgamtilde_LLL_022 = ((1.0/2.0)*state_fab(i, j, k + 1, Idx::gamtilde_LL_02) - 1.0/2.0*state_fab(i, j, k - 1, Idx::gamtilde_LL_02))/dx[2];\n",
      "        amrex::Real dDgamtilde_LLL_110 = ((1.0/2.0)*state_fab(i + 1, j, k, Idx::gamtilde_LL_11) - 1.0/2.0*state_fab(i - 1, j, k, Idx::gamtilde_LL_11))/dx[0];\n",
      "        amrex::Real dDgamtilde_LLL_111 = ((1.0/2.0)*state_fab(i, j + 1, k, Idx::gamtilde_LL_11) - 1.0/2.0*state_fab(i, j - 1, k, Idx::gamtilde_LL_11))/dx[1];\n",
      "        amrex::Real dDgamtilde_LLL_112 = ((1.0/2.0)*state_fab(i, j, k + 1, Idx::gamtilde_LL_11) - 1.0/2.0*state_fab(i, j, k - 1, Idx::gamtilde_LL_11))/dx[2];\n",
      "        amrex::Real dDgamtilde_LLL_120 = ((1.0/2.0)*state_fab(i + 1, j, k, Idx::gamtilde_LL_12) - 1.0/2.0*state_fab(i - 1, j, k, Idx::gamtilde_LL_12))/dx[0];\n",
      "        amrex::Real dDgamtilde_LLL_121 = ((1.0/2.0)*state_fab(i, j + 1, k, Idx::gamtilde_LL_12) - 1.0/2.0*state_fab(i, j - 1, k, Idx::gamtilde_LL_12))/dx[1];\n",
      "        amrex::Real dDgamtilde_LLL_122 = ((1.0/2.0)*state_fab(i, j, k + 1, Idx::gamtilde_LL_12) - 1.0/2.0*state_fab(i, j, k - 1, Idx::gamtilde_LL_12))/dx[2];\n",
      "        amrex::Real dDgamtilde_LLL_220 = ((1.0/2.0)*state_fab(i + 1, j, k, Idx::gamtilde_LL_22) - 1.0/2.0*state_fab(i - 1, j, k, Idx::gamtilde_LL_22))/dx[0];\n",
      "        amrex::Real dDgamtilde_LLL_221 = ((1.0/2.0)*state_fab(i, j + 1, k, Idx::gamtilde_LL_22) - 1.0/2.0*state_fab(i, j - 1, k, Idx::gamtilde_LL_22))/dx[1];\n",
      "        amrex::Real dDgamtilde_LLL_222 = ((1.0/2.0)*state_fab(i, j, k + 1, Idx::gamtilde_LL_22) - 1.0/2.0*state_fab(i, j, k - 1, Idx::gamtilde_LL_22))/dx[2];\n",
      "\n",
      "        amrex::Real dupDgamtilde_LLL_000 = (2*state_fab(i + 1, j, k, Idx::gamtilde_LL_00) - 1.0/2.0*state_fab(i + 2, j, k, Idx::gamtilde_LL_00) - 3.0/2.0*state_fab(i, j, k, Idx::gamtilde_LL_00))/dx[0];\n",
      "        amrex::Real dupDgamtilde_LLL_001 = (2*state_fab(i, j + 1, k, Idx::gamtilde_LL_00) - 1.0/2.0*state_fab(i, j + 2, k, Idx::gamtilde_LL_00) - 3.0/2.0*state_fab(i, j, k, Idx::gamtilde_LL_00))/dx[1];\n",
      "        amrex::Real dupDgamtilde_LLL_002 = (2*state_fab(i, j, k + 1, Idx::gamtilde_LL_00) - 1.0/2.0*state_fab(i, j, k + 2, Idx::gamtilde_LL_00) - 3.0/2.0*state_fab(i, j, k, Idx::gamtilde_LL_00))/dx[2];\n",
      "        amrex::Real dupDgamtilde_LLL_010 = (2*state_fab(i + 1, j, k, Idx::gamtilde_LL_01) - 1.0/2.0*state_fab(i + 2, j, k, Idx::gamtilde_LL_01) - 3.0/2.0*state_fab(i, j, k, Idx::gamtilde_LL_01))/dx[0];\n",
      "        amrex::Real dupDgamtilde_LLL_011 = (2*state_fab(i, j + 1, k, Idx::gamtilde_LL_01) - 1.0/2.0*state_fab(i, j + 2, k, Idx::gamtilde_LL_01) - 3.0/2.0*state_fab(i, j, k, Idx::gamtilde_LL_01))/dx[1];\n",
      "        amrex::Real dupDgamtilde_LLL_012 = (2*state_fab(i, j, k + 1, Idx::gamtilde_LL_01) - 1.0/2.0*state_fab(i, j, k + 2, Idx::gamtilde_LL_01) - 3.0/2.0*state_fab(i, j, k, Idx::gamtilde_LL_01))/dx[2];\n",
      "        amrex::Real dupDgamtilde_LLL_020 = (2*state_fab(i + 1, j, k, Idx::gamtilde_LL_02) - 1.0/2.0*state_fab(i + 2, j, k, Idx::gamtilde_LL_02) - 3.0/2.0*state_fab(i, j, k, Idx::gamtilde_LL_02))/dx[0];\n",
      "        amrex::Real dupDgamtilde_LLL_021 = (2*state_fab(i, j + 1, k, Idx::gamtilde_LL_02) - 1.0/2.0*state_fab(i, j + 2, k, Idx::gamtilde_LL_02) - 3.0/2.0*state_fab(i, j, k, Idx::gamtilde_LL_02))/dx[1];\n",
      "        amrex::Real dupDgamtilde_LLL_022 = (2*state_fab(i, j, k + 1, Idx::gamtilde_LL_02) - 1.0/2.0*state_fab(i, j, k + 2, Idx::gamtilde_LL_02) - 3.0/2.0*state_fab(i, j, k, Idx::gamtilde_LL_02))/dx[2];\n",
      "        amrex::Real dupDgamtilde_LLL_110 = (2*state_fab(i + 1, j, k, Idx::gamtilde_LL_11) - 1.0/2.0*state_fab(i + 2, j, k, Idx::gamtilde_LL_11) - 3.0/2.0*state_fab(i, j, k, Idx::gamtilde_LL_11))/dx[0];\n",
      "        amrex::Real dupDgamtilde_LLL_111 = (2*state_fab(i, j + 1, k, Idx::gamtilde_LL_11) - 1.0/2.0*state_fab(i, j + 2, k, Idx::gamtilde_LL_11) - 3.0/2.0*state_fab(i, j, k, Idx::gamtilde_LL_11))/dx[1];\n",
      "        amrex::Real dupDgamtilde_LLL_112 = (2*state_fab(i, j, k + 1, Idx::gamtilde_LL_11) - 1.0/2.0*state_fab(i, j, k + 2, Idx::gamtilde_LL_11) - 3.0/2.0*state_fab(i, j, k, Idx::gamtilde_LL_11))/dx[2];\n",
      "        amrex::Real dupDgamtilde_LLL_120 = (2*state_fab(i + 1, j, k, Idx::gamtilde_LL_12) - 1.0/2.0*state_fab(i + 2, j, k, Idx::gamtilde_LL_12) - 3.0/2.0*state_fab(i, j, k, Idx::gamtilde_LL_12))/dx[0];\n",
      "        amrex::Real dupDgamtilde_LLL_121 = (2*state_fab(i, j + 1, k, Idx::gamtilde_LL_12) - 1.0/2.0*state_fab(i, j + 2, k, Idx::gamtilde_LL_12) - 3.0/2.0*state_fab(i, j, k, Idx::gamtilde_LL_12))/dx[1];\n",
      "        amrex::Real dupDgamtilde_LLL_122 = (2*state_fab(i, j, k + 1, Idx::gamtilde_LL_12) - 1.0/2.0*state_fab(i, j, k + 2, Idx::gamtilde_LL_12) - 3.0/2.0*state_fab(i, j, k, Idx::gamtilde_LL_12))/dx[2];\n",
      "        amrex::Real dupDgamtilde_LLL_220 = (2*state_fab(i + 1, j, k, Idx::gamtilde_LL_22) - 1.0/2.0*state_fab(i + 2, j, k, Idx::gamtilde_LL_22) - 3.0/2.0*state_fab(i, j, k, Idx::gamtilde_LL_22))/dx[0];\n",
      "        amrex::Real dupDgamtilde_LLL_221 = (2*state_fab(i, j + 1, k, Idx::gamtilde_LL_22) - 1.0/2.0*state_fab(i, j + 2, k, Idx::gamtilde_LL_22) - 3.0/2.0*state_fab(i, j, k, Idx::gamtilde_LL_22))/dx[1];\n",
      "        amrex::Real dupDgamtilde_LLL_222 = (2*state_fab(i, j, k + 1, Idx::gamtilde_LL_22) - 1.0/2.0*state_fab(i, j, k + 2, Idx::gamtilde_LL_22) - 3.0/2.0*state_fab(i, j, k, Idx::gamtilde_LL_22))/dx[2];\n",
      "\n",
      "        amrex::Real ddnDgamtilde_LLL_000 = (-2*state_fab(i - 1, j, k, Idx::gamtilde_LL_00) + (1.0/2.0)*state_fab(i - 2, j, k, Idx::gamtilde_LL_00) + (3.0/2.0)*state_fab(i, j, k, Idx::gamtilde_LL_00))/dx[0];\n",
      "        amrex::Real ddnDgamtilde_LLL_001 = (-2*state_fab(i, j - 1, k, Idx::gamtilde_LL_00) + (1.0/2.0)*state_fab(i, j - 2, k, Idx::gamtilde_LL_00) + (3.0/2.0)*state_fab(i, j, k, Idx::gamtilde_LL_00))/dx[1];\n",
      "        amrex::Real ddnDgamtilde_LLL_002 = (-2*state_fab(i, j, k - 1, Idx::gamtilde_LL_00) + (1.0/2.0)*state_fab(i, j, k - 2, Idx::gamtilde_LL_00) + (3.0/2.0)*state_fab(i, j, k, Idx::gamtilde_LL_00))/dx[2];\n",
      "        amrex::Real ddnDgamtilde_LLL_010 = (-2*state_fab(i - 1, j, k, Idx::gamtilde_LL_01) + (1.0/2.0)*state_fab(i - 2, j, k, Idx::gamtilde_LL_01) + (3.0/2.0)*state_fab(i, j, k, Idx::gamtilde_LL_01))/dx[0];\n",
      "        amrex::Real ddnDgamtilde_LLL_011 = (-2*state_fab(i, j - 1, k, Idx::gamtilde_LL_01) + (1.0/2.0)*state_fab(i, j - 2, k, Idx::gamtilde_LL_01) + (3.0/2.0)*state_fab(i, j, k, Idx::gamtilde_LL_01))/dx[1];\n",
      "        amrex::Real ddnDgamtilde_LLL_012 = (-2*state_fab(i, j, k - 1, Idx::gamtilde_LL_01) + (1.0/2.0)*state_fab(i, j, k - 2, Idx::gamtilde_LL_01) + (3.0/2.0)*state_fab(i, j, k, Idx::gamtilde_LL_01))/dx[2];\n",
      "        amrex::Real ddnDgamtilde_LLL_020 = (-2*state_fab(i - 1, j, k, Idx::gamtilde_LL_02) + (1.0/2.0)*state_fab(i - 2, j, k, Idx::gamtilde_LL_02) + (3.0/2.0)*state_fab(i, j, k, Idx::gamtilde_LL_02))/dx[0];\n",
      "        amrex::Real ddnDgamtilde_LLL_021 = (-2*state_fab(i, j - 1, k, Idx::gamtilde_LL_02) + (1.0/2.0)*state_fab(i, j - 2, k, Idx::gamtilde_LL_02) + (3.0/2.0)*state_fab(i, j, k, Idx::gamtilde_LL_02))/dx[1];\n",
      "        amrex::Real ddnDgamtilde_LLL_022 = (-2*state_fab(i, j, k - 1, Idx::gamtilde_LL_02) + (1.0/2.0)*state_fab(i, j, k - 2, Idx::gamtilde_LL_02) + (3.0/2.0)*state_fab(i, j, k, Idx::gamtilde_LL_02))/dx[2];\n",
      "        amrex::Real ddnDgamtilde_LLL_110 = (-2*state_fab(i - 1, j, k, Idx::gamtilde_LL_11) + (1.0/2.0)*state_fab(i - 2, j, k, Idx::gamtilde_LL_11) + (3.0/2.0)*state_fab(i, j, k, Idx::gamtilde_LL_11))/dx[0];\n",
      "        amrex::Real ddnDgamtilde_LLL_111 = (-2*state_fab(i, j - 1, k, Idx::gamtilde_LL_11) + (1.0/2.0)*state_fab(i, j - 2, k, Idx::gamtilde_LL_11) + (3.0/2.0)*state_fab(i, j, k, Idx::gamtilde_LL_11))/dx[1];\n",
      "        amrex::Real ddnDgamtilde_LLL_112 = (-2*state_fab(i, j, k - 1, Idx::gamtilde_LL_11) + (1.0/2.0)*state_fab(i, j, k - 2, Idx::gamtilde_LL_11) + (3.0/2.0)*state_fab(i, j, k, Idx::gamtilde_LL_11))/dx[2];\n",
      "        amrex::Real ddnDgamtilde_LLL_120 = (-2*state_fab(i - 1, j, k, Idx::gamtilde_LL_12) + (1.0/2.0)*state_fab(i - 2, j, k, Idx::gamtilde_LL_12) + (3.0/2.0)*state_fab(i, j, k, Idx::gamtilde_LL_12))/dx[0];\n",
      "        amrex::Real ddnDgamtilde_LLL_121 = (-2*state_fab(i, j - 1, k, Idx::gamtilde_LL_12) + (1.0/2.0)*state_fab(i, j - 2, k, Idx::gamtilde_LL_12) + (3.0/2.0)*state_fab(i, j, k, Idx::gamtilde_LL_12))/dx[1];\n",
      "        amrex::Real ddnDgamtilde_LLL_122 = (-2*state_fab(i, j, k - 1, Idx::gamtilde_LL_12) + (1.0/2.0)*state_fab(i, j, k - 2, Idx::gamtilde_LL_12) + (3.0/2.0)*state_fab(i, j, k, Idx::gamtilde_LL_12))/dx[2];\n",
      "        amrex::Real ddnDgamtilde_LLL_220 = (-2*state_fab(i - 1, j, k, Idx::gamtilde_LL_22) + (1.0/2.0)*state_fab(i - 2, j, k, Idx::gamtilde_LL_22) + (3.0/2.0)*state_fab(i, j, k, Idx::gamtilde_LL_22))/dx[0];\n",
      "        amrex::Real ddnDgamtilde_LLL_221 = (-2*state_fab(i, j - 1, k, Idx::gamtilde_LL_22) + (1.0/2.0)*state_fab(i, j - 2, k, Idx::gamtilde_LL_22) + (3.0/2.0)*state_fab(i, j, k, Idx::gamtilde_LL_22))/dx[1];\n",
      "        amrex::Real ddnDgamtilde_LLL_222 = (-2*state_fab(i, j, k - 1, Idx::gamtilde_LL_22) + (1.0/2.0)*state_fab(i, j, k - 2, Idx::gamtilde_LL_22) + (3.0/2.0)*state_fab(i, j, k, Idx::gamtilde_LL_22))/dx[2];\n",
      "\n",
      "        amrex::Real dDDgamtilde_LLLL_0000 = (state_fab(i + 1, j, k, Idx::gamtilde_LL_00) + state_fab(i - 1, j, k, Idx::gamtilde_LL_00) - 2*state_fab(i, j, k, Idx::gamtilde_LL_00))/std::pow(dx[0], 2);\n",
      "        amrex::Real dDDgamtilde_LLLL_0001 = ((1.0/4.0)*state_fab(i + 1, j + 1, k, Idx::gamtilde_LL_00) - 1.0/4.0*state_fab(i + 1, j - 1, k, Idx::gamtilde_LL_00) - 1.0/4.0*state_fab(i - 1, j + 1, k, Idx::gamtilde_LL_00) + (1.0/4.0)*state_fab(i - 1, j - 1, k, Idx::gamtilde_LL_00))/(dx[0]*dx[1]);\n",
      "        amrex::Real dDDgamtilde_LLLL_0002 = ((1.0/4.0)*state_fab(i + 1, j, k + 1, Idx::gamtilde_LL_00) - 1.0/4.0*state_fab(i + 1, j, k - 1, Idx::gamtilde_LL_00) - 1.0/4.0*state_fab(i - 1, j, k + 1, Idx::gamtilde_LL_00) + (1.0/4.0)*state_fab(i - 1, j, k - 1, Idx::gamtilde_LL_00))/(dx[0]*dx[2]);\n",
      "        amrex::Real dDDgamtilde_LLLL_0011 = (state_fab(i, j + 1, k, Idx::gamtilde_LL_00) + state_fab(i, j - 1, k, Idx::gamtilde_LL_00) - 2*state_fab(i, j, k, Idx::gamtilde_LL_00))/std::pow(dx[1], 2);\n",
      "        amrex::Real dDDgamtilde_LLLL_0012 = ((1.0/4.0)*state_fab(i, j + 1, k + 1, Idx::gamtilde_LL_00) - 1.0/4.0*state_fab(i, j + 1, k - 1, Idx::gamtilde_LL_00) - 1.0/4.0*state_fab(i, j - 1, k + 1, Idx::gamtilde_LL_00) + (1.0/4.0)*state_fab(i, j - 1, k - 1, Idx::gamtilde_LL_00))/(dx[1]*dx[2]);\n",
      "        amrex::Real dDDgamtilde_LLLL_0022 = (state_fab(i, j, k + 1, Idx::gamtilde_LL_00) + state_fab(i, j, k - 1, Idx::gamtilde_LL_00) - 2*state_fab(i, j, k, Idx::gamtilde_LL_00))/std::pow(dx[2], 2);\n",
      "        amrex::Real dDDgamtilde_LLLL_0100 = (state_fab(i + 1, j, k, Idx::gamtilde_LL_01) + state_fab(i - 1, j, k, Idx::gamtilde_LL_01) - 2*state_fab(i, j, k, Idx::gamtilde_LL_01))/std::pow(dx[0], 2);\n",
      "        amrex::Real dDDgamtilde_LLLL_0101 = ((1.0/4.0)*state_fab(i + 1, j + 1, k, Idx::gamtilde_LL_01) - 1.0/4.0*state_fab(i + 1, j - 1, k, Idx::gamtilde_LL_01) - 1.0/4.0*state_fab(i - 1, j + 1, k, Idx::gamtilde_LL_01) + (1.0/4.0)*state_fab(i - 1, j - 1, k, Idx::gamtilde_LL_01))/(dx[0]*dx[1]);\n",
      "        amrex::Real dDDgamtilde_LLLL_0102 = ((1.0/4.0)*state_fab(i + 1, j, k + 1, Idx::gamtilde_LL_01) - 1.0/4.0*state_fab(i + 1, j, k - 1, Idx::gamtilde_LL_01) - 1.0/4.0*state_fab(i - 1, j, k + 1, Idx::gamtilde_LL_01) + (1.0/4.0)*state_fab(i - 1, j, k - 1, Idx::gamtilde_LL_01))/(dx[0]*dx[2]);\n",
      "        amrex::Real dDDgamtilde_LLLL_0111 = (state_fab(i, j + 1, k, Idx::gamtilde_LL_01) + state_fab(i, j - 1, k, Idx::gamtilde_LL_01) - 2*state_fab(i, j, k, Idx::gamtilde_LL_01))/std::pow(dx[1], 2);\n",
      "        amrex::Real dDDgamtilde_LLLL_0112 = ((1.0/4.0)*state_fab(i, j + 1, k + 1, Idx::gamtilde_LL_01) - 1.0/4.0*state_fab(i, j + 1, k - 1, Idx::gamtilde_LL_01) - 1.0/4.0*state_fab(i, j - 1, k + 1, Idx::gamtilde_LL_01) + (1.0/4.0)*state_fab(i, j - 1, k - 1, Idx::gamtilde_LL_01))/(dx[1]*dx[2]);\n",
      "        amrex::Real dDDgamtilde_LLLL_0122 = (state_fab(i, j, k + 1, Idx::gamtilde_LL_01) + state_fab(i, j, k - 1, Idx::gamtilde_LL_01) - 2*state_fab(i, j, k, Idx::gamtilde_LL_01))/std::pow(dx[2], 2);\n",
      "        amrex::Real dDDgamtilde_LLLL_0200 = (state_fab(i + 1, j, k, Idx::gamtilde_LL_02) + state_fab(i - 1, j, k, Idx::gamtilde_LL_02) - 2*state_fab(i, j, k, Idx::gamtilde_LL_02))/std::pow(dx[0], 2);\n",
      "        amrex::Real dDDgamtilde_LLLL_0201 = ((1.0/4.0)*state_fab(i + 1, j + 1, k, Idx::gamtilde_LL_02) - 1.0/4.0*state_fab(i + 1, j - 1, k, Idx::gamtilde_LL_02) - 1.0/4.0*state_fab(i - 1, j + 1, k, Idx::gamtilde_LL_02) + (1.0/4.0)*state_fab(i - 1, j - 1, k, Idx::gamtilde_LL_02))/(dx[0]*dx[1]);\n",
      "        amrex::Real dDDgamtilde_LLLL_0202 = ((1.0/4.0)*state_fab(i + 1, j, k + 1, Idx::gamtilde_LL_02) - 1.0/4.0*state_fab(i + 1, j, k - 1, Idx::gamtilde_LL_02) - 1.0/4.0*state_fab(i - 1, j, k + 1, Idx::gamtilde_LL_02) + (1.0/4.0)*state_fab(i - 1, j, k - 1, Idx::gamtilde_LL_02))/(dx[0]*dx[2]);\n",
      "        amrex::Real dDDgamtilde_LLLL_0211 = (state_fab(i, j + 1, k, Idx::gamtilde_LL_02) + state_fab(i, j - 1, k, Idx::gamtilde_LL_02) - 2*state_fab(i, j, k, Idx::gamtilde_LL_02))/std::pow(dx[1], 2);\n",
      "        amrex::Real dDDgamtilde_LLLL_0212 = ((1.0/4.0)*state_fab(i, j + 1, k + 1, Idx::gamtilde_LL_02) - 1.0/4.0*state_fab(i, j + 1, k - 1, Idx::gamtilde_LL_02) - 1.0/4.0*state_fab(i, j - 1, k + 1, Idx::gamtilde_LL_02) + (1.0/4.0)*state_fab(i, j - 1, k - 1, Idx::gamtilde_LL_02))/(dx[1]*dx[2]);\n",
      "        amrex::Real dDDgamtilde_LLLL_0222 = (state_fab(i, j, k + 1, Idx::gamtilde_LL_02) + state_fab(i, j, k - 1, Idx::gamtilde_LL_02) - 2*state_fab(i, j, k, Idx::gamtilde_LL_02))/std::pow(dx[2], 2);\n",
      "        amrex::Real dDDgamtilde_LLLL_1100 = (state_fab(i + 1, j, k, Idx::gamtilde_LL_11) + state_fab(i - 1, j, k, Idx::gamtilde_LL_11) - 2*state_fab(i, j, k, Idx::gamtilde_LL_11))/std::pow(dx[0], 2);\n",
      "        amrex::Real dDDgamtilde_LLLL_1101 = ((1.0/4.0)*state_fab(i + 1, j + 1, k, Idx::gamtilde_LL_11) - 1.0/4.0*state_fab(i + 1, j - 1, k, Idx::gamtilde_LL_11) - 1.0/4.0*state_fab(i - 1, j + 1, k, Idx::gamtilde_LL_11) + (1.0/4.0)*state_fab(i - 1, j - 1, k, Idx::gamtilde_LL_11))/(dx[0]*dx[1]);\n",
      "        amrex::Real dDDgamtilde_LLLL_1102 = ((1.0/4.0)*state_fab(i + 1, j, k + 1, Idx::gamtilde_LL_11) - 1.0/4.0*state_fab(i + 1, j, k - 1, Idx::gamtilde_LL_11) - 1.0/4.0*state_fab(i - 1, j, k + 1, Idx::gamtilde_LL_11) + (1.0/4.0)*state_fab(i - 1, j, k - 1, Idx::gamtilde_LL_11))/(dx[0]*dx[2]);\n",
      "        amrex::Real dDDgamtilde_LLLL_1111 = (state_fab(i, j + 1, k, Idx::gamtilde_LL_11) + state_fab(i, j - 1, k, Idx::gamtilde_LL_11) - 2*state_fab(i, j, k, Idx::gamtilde_LL_11))/std::pow(dx[1], 2);\n",
      "        amrex::Real dDDgamtilde_LLLL_1112 = ((1.0/4.0)*state_fab(i, j + 1, k + 1, Idx::gamtilde_LL_11) - 1.0/4.0*state_fab(i, j + 1, k - 1, Idx::gamtilde_LL_11) - 1.0/4.0*state_fab(i, j - 1, k + 1, Idx::gamtilde_LL_11) + (1.0/4.0)*state_fab(i, j - 1, k - 1, Idx::gamtilde_LL_11))/(dx[1]*dx[2]);\n",
      "        amrex::Real dDDgamtilde_LLLL_1122 = (state_fab(i, j, k + 1, Idx::gamtilde_LL_11) + state_fab(i, j, k - 1, Idx::gamtilde_LL_11) - 2*state_fab(i, j, k, Idx::gamtilde_LL_11))/std::pow(dx[2], 2);\n",
      "        amrex::Real dDDgamtilde_LLLL_1200 = (state_fab(i + 1, j, k, Idx::gamtilde_LL_12) + state_fab(i - 1, j, k, Idx::gamtilde_LL_12) - 2*state_fab(i, j, k, Idx::gamtilde_LL_12))/std::pow(dx[0], 2);\n",
      "        amrex::Real dDDgamtilde_LLLL_1201 = ((1.0/4.0)*state_fab(i + 1, j + 1, k, Idx::gamtilde_LL_12) - 1.0/4.0*state_fab(i + 1, j - 1, k, Idx::gamtilde_LL_12) - 1.0/4.0*state_fab(i - 1, j + 1, k, Idx::gamtilde_LL_12) + (1.0/4.0)*state_fab(i - 1, j - 1, k, Idx::gamtilde_LL_12))/(dx[0]*dx[1]);\n",
      "        amrex::Real dDDgamtilde_LLLL_1202 = ((1.0/4.0)*state_fab(i + 1, j, k + 1, Idx::gamtilde_LL_12) - 1.0/4.0*state_fab(i + 1, j, k - 1, Idx::gamtilde_LL_12) - 1.0/4.0*state_fab(i - 1, j, k + 1, Idx::gamtilde_LL_12) + (1.0/4.0)*state_fab(i - 1, j, k - 1, Idx::gamtilde_LL_12))/(dx[0]*dx[2]);\n",
      "        amrex::Real dDDgamtilde_LLLL_1211 = (state_fab(i, j + 1, k, Idx::gamtilde_LL_12) + state_fab(i, j - 1, k, Idx::gamtilde_LL_12) - 2*state_fab(i, j, k, Idx::gamtilde_LL_12))/std::pow(dx[1], 2);\n",
      "        amrex::Real dDDgamtilde_LLLL_1212 = ((1.0/4.0)*state_fab(i, j + 1, k + 1, Idx::gamtilde_LL_12) - 1.0/4.0*state_fab(i, j + 1, k - 1, Idx::gamtilde_LL_12) - 1.0/4.0*state_fab(i, j - 1, k + 1, Idx::gamtilde_LL_12) + (1.0/4.0)*state_fab(i, j - 1, k - 1, Idx::gamtilde_LL_12))/(dx[1]*dx[2]);\n",
      "        amrex::Real dDDgamtilde_LLLL_1222 = (state_fab(i, j, k + 1, Idx::gamtilde_LL_12) + state_fab(i, j, k - 1, Idx::gamtilde_LL_12) - 2*state_fab(i, j, k, Idx::gamtilde_LL_12))/std::pow(dx[2], 2);\n",
      "        amrex::Real dDDgamtilde_LLLL_2200 = (state_fab(i + 1, j, k, Idx::gamtilde_LL_22) + state_fab(i - 1, j, k, Idx::gamtilde_LL_22) - 2*state_fab(i, j, k, Idx::gamtilde_LL_22))/std::pow(dx[0], 2);\n",
      "        amrex::Real dDDgamtilde_LLLL_2201 = ((1.0/4.0)*state_fab(i + 1, j + 1, k, Idx::gamtilde_LL_22) - 1.0/4.0*state_fab(i + 1, j - 1, k, Idx::gamtilde_LL_22) - 1.0/4.0*state_fab(i - 1, j + 1, k, Idx::gamtilde_LL_22) + (1.0/4.0)*state_fab(i - 1, j - 1, k, Idx::gamtilde_LL_22))/(dx[0]*dx[1]);\n",
      "        amrex::Real dDDgamtilde_LLLL_2202 = ((1.0/4.0)*state_fab(i + 1, j, k + 1, Idx::gamtilde_LL_22) - 1.0/4.0*state_fab(i + 1, j, k - 1, Idx::gamtilde_LL_22) - 1.0/4.0*state_fab(i - 1, j, k + 1, Idx::gamtilde_LL_22) + (1.0/4.0)*state_fab(i - 1, j, k - 1, Idx::gamtilde_LL_22))/(dx[0]*dx[2]);\n",
      "        amrex::Real dDDgamtilde_LLLL_2211 = (state_fab(i, j + 1, k, Idx::gamtilde_LL_22) + state_fab(i, j - 1, k, Idx::gamtilde_LL_22) - 2*state_fab(i, j, k, Idx::gamtilde_LL_22))/std::pow(dx[1], 2);\n",
      "        amrex::Real dDDgamtilde_LLLL_2212 = ((1.0/4.0)*state_fab(i, j + 1, k + 1, Idx::gamtilde_LL_22) - 1.0/4.0*state_fab(i, j + 1, k - 1, Idx::gamtilde_LL_22) - 1.0/4.0*state_fab(i, j - 1, k + 1, Idx::gamtilde_LL_22) + (1.0/4.0)*state_fab(i, j - 1, k - 1, Idx::gamtilde_LL_22))/(dx[1]*dx[2]);\n",
      "        amrex::Real dDDgamtilde_LLLL_2222 = (state_fab(i, j, k + 1, Idx::gamtilde_LL_22) + state_fab(i, j, k - 1, Idx::gamtilde_LL_22) - 2*state_fab(i, j, k, Idx::gamtilde_LL_22))/std::pow(dx[2], 2);\n",
      "\n",
      "        amrex::Real dKODgamtilde_LL_00 = ((1.0/4.0)*state_fab(i, j, k + 1, Idx::gamtilde_LL_00) - 1.0/16.0*state_fab(i, j, k + 2, Idx::gamtilde_LL_00) + (1.0/4.0)*state_fab(i, j, k - 1, Idx::gamtilde_LL_00) - 1.0/16.0*state_fab(i, j, k - 2, Idx::gamtilde_LL_00) - 3.0/8.0*state_fab(i, j, k, Idx::gamtilde_LL_00))/dx[2] + ((1.0/4.0)*state_fab(i, j + 1, k, Idx::gamtilde_LL_00) - 1.0/16.0*state_fab(i, j + 2, k, Idx::gamtilde_LL_00) + (1.0/4.0)*state_fab(i, j - 1, k, Idx::gamtilde_LL_00) - 1.0/16.0*state_fab(i, j - 2, k, Idx::gamtilde_LL_00) - 3.0/8.0*state_fab(i, j, k, Idx::gamtilde_LL_00))/dx[1] + ((1.0/4.0)*state_fab(i + 1, j, k, Idx::gamtilde_LL_00) - 1.0/16.0*state_fab(i + 2, j, k, Idx::gamtilde_LL_00) + (1.0/4.0)*state_fab(i - 1, j, k, Idx::gamtilde_LL_00) - 1.0/16.0*state_fab(i - 2, j, k, Idx::gamtilde_LL_00) - 3.0/8.0*state_fab(i, j, k, Idx::gamtilde_LL_00))/dx[0];\n",
      "        amrex::Real dKODgamtilde_LL_01 = ((1.0/4.0)*state_fab(i, j, k + 1, Idx::gamtilde_LL_01) - 1.0/16.0*state_fab(i, j, k + 2, Idx::gamtilde_LL_01) + (1.0/4.0)*state_fab(i, j, k - 1, Idx::gamtilde_LL_01) - 1.0/16.0*state_fab(i, j, k - 2, Idx::gamtilde_LL_01) - 3.0/8.0*state_fab(i, j, k, Idx::gamtilde_LL_01))/dx[2] + ((1.0/4.0)*state_fab(i, j + 1, k, Idx::gamtilde_LL_01) - 1.0/16.0*state_fab(i, j + 2, k, Idx::gamtilde_LL_01) + (1.0/4.0)*state_fab(i, j - 1, k, Idx::gamtilde_LL_01) - 1.0/16.0*state_fab(i, j - 2, k, Idx::gamtilde_LL_01) - 3.0/8.0*state_fab(i, j, k, Idx::gamtilde_LL_01))/dx[1] + ((1.0/4.0)*state_fab(i + 1, j, k, Idx::gamtilde_LL_01) - 1.0/16.0*state_fab(i + 2, j, k, Idx::gamtilde_LL_01) + (1.0/4.0)*state_fab(i - 1, j, k, Idx::gamtilde_LL_01) - 1.0/16.0*state_fab(i - 2, j, k, Idx::gamtilde_LL_01) - 3.0/8.0*state_fab(i, j, k, Idx::gamtilde_LL_01))/dx[0];\n",
      "        amrex::Real dKODgamtilde_LL_02 = ((1.0/4.0)*state_fab(i, j, k + 1, Idx::gamtilde_LL_02) - 1.0/16.0*state_fab(i, j, k + 2, Idx::gamtilde_LL_02) + (1.0/4.0)*state_fab(i, j, k - 1, Idx::gamtilde_LL_02) - 1.0/16.0*state_fab(i, j, k - 2, Idx::gamtilde_LL_02) - 3.0/8.0*state_fab(i, j, k, Idx::gamtilde_LL_02))/dx[2] + ((1.0/4.0)*state_fab(i, j + 1, k, Idx::gamtilde_LL_02) - 1.0/16.0*state_fab(i, j + 2, k, Idx::gamtilde_LL_02) + (1.0/4.0)*state_fab(i, j - 1, k, Idx::gamtilde_LL_02) - 1.0/16.0*state_fab(i, j - 2, k, Idx::gamtilde_LL_02) - 3.0/8.0*state_fab(i, j, k, Idx::gamtilde_LL_02))/dx[1] + ((1.0/4.0)*state_fab(i + 1, j, k, Idx::gamtilde_LL_02) - 1.0/16.0*state_fab(i + 2, j, k, Idx::gamtilde_LL_02) + (1.0/4.0)*state_fab(i - 1, j, k, Idx::gamtilde_LL_02) - 1.0/16.0*state_fab(i - 2, j, k, Idx::gamtilde_LL_02) - 3.0/8.0*state_fab(i, j, k, Idx::gamtilde_LL_02))/dx[0];\n",
      "        amrex::Real dKODgamtilde_LL_11 = ((1.0/4.0)*state_fab(i, j, k + 1, Idx::gamtilde_LL_11) - 1.0/16.0*state_fab(i, j, k + 2, Idx::gamtilde_LL_11) + (1.0/4.0)*state_fab(i, j, k - 1, Idx::gamtilde_LL_11) - 1.0/16.0*state_fab(i, j, k - 2, Idx::gamtilde_LL_11) - 3.0/8.0*state_fab(i, j, k, Idx::gamtilde_LL_11))/dx[2] + ((1.0/4.0)*state_fab(i, j + 1, k, Idx::gamtilde_LL_11) - 1.0/16.0*state_fab(i, j + 2, k, Idx::gamtilde_LL_11) + (1.0/4.0)*state_fab(i, j - 1, k, Idx::gamtilde_LL_11) - 1.0/16.0*state_fab(i, j - 2, k, Idx::gamtilde_LL_11) - 3.0/8.0*state_fab(i, j, k, Idx::gamtilde_LL_11))/dx[1] + ((1.0/4.0)*state_fab(i + 1, j, k, Idx::gamtilde_LL_11) - 1.0/16.0*state_fab(i + 2, j, k, Idx::gamtilde_LL_11) + (1.0/4.0)*state_fab(i - 1, j, k, Idx::gamtilde_LL_11) - 1.0/16.0*state_fab(i - 2, j, k, Idx::gamtilde_LL_11) - 3.0/8.0*state_fab(i, j, k, Idx::gamtilde_LL_11))/dx[0];\n",
      "        amrex::Real dKODgamtilde_LL_12 = ((1.0/4.0)*state_fab(i, j, k + 1, Idx::gamtilde_LL_12) - 1.0/16.0*state_fab(i, j, k + 2, Idx::gamtilde_LL_12) + (1.0/4.0)*state_fab(i, j, k - 1, Idx::gamtilde_LL_12) - 1.0/16.0*state_fab(i, j, k - 2, Idx::gamtilde_LL_12) - 3.0/8.0*state_fab(i, j, k, Idx::gamtilde_LL_12))/dx[2] + ((1.0/4.0)*state_fab(i, j + 1, k, Idx::gamtilde_LL_12) - 1.0/16.0*state_fab(i, j + 2, k, Idx::gamtilde_LL_12) + (1.0/4.0)*state_fab(i, j - 1, k, Idx::gamtilde_LL_12) - 1.0/16.0*state_fab(i, j - 2, k, Idx::gamtilde_LL_12) - 3.0/8.0*state_fab(i, j, k, Idx::gamtilde_LL_12))/dx[1] + ((1.0/4.0)*state_fab(i + 1, j, k, Idx::gamtilde_LL_12) - 1.0/16.0*state_fab(i + 2, j, k, Idx::gamtilde_LL_12) + (1.0/4.0)*state_fab(i - 1, j, k, Idx::gamtilde_LL_12) - 1.0/16.0*state_fab(i - 2, j, k, Idx::gamtilde_LL_12) - 3.0/8.0*state_fab(i, j, k, Idx::gamtilde_LL_12))/dx[0];\n",
      "        amrex::Real dKODgamtilde_LL_22 = ((1.0/4.0)*state_fab(i, j, k + 1, Idx::gamtilde_LL_22) - 1.0/16.0*state_fab(i, j, k + 2, Idx::gamtilde_LL_22) + (1.0/4.0)*state_fab(i, j, k - 1, Idx::gamtilde_LL_22) - 1.0/16.0*state_fab(i, j, k - 2, Idx::gamtilde_LL_22) - 3.0/8.0*state_fab(i, j, k, Idx::gamtilde_LL_22))/dx[2] + ((1.0/4.0)*state_fab(i, j + 1, k, Idx::gamtilde_LL_22) - 1.0/16.0*state_fab(i, j + 2, k, Idx::gamtilde_LL_22) + (1.0/4.0)*state_fab(i, j - 1, k, Idx::gamtilde_LL_22) - 1.0/16.0*state_fab(i, j - 2, k, Idx::gamtilde_LL_22) - 3.0/8.0*state_fab(i, j, k, Idx::gamtilde_LL_22))/dx[1] + ((1.0/4.0)*state_fab(i + 1, j, k, Idx::gamtilde_LL_22) - 1.0/16.0*state_fab(i + 2, j, k, Idx::gamtilde_LL_22) + (1.0/4.0)*state_fab(i - 1, j, k, Idx::gamtilde_LL_22) - 1.0/16.0*state_fab(i - 2, j, k, Idx::gamtilde_LL_22) - 3.0/8.0*state_fab(i, j, k, Idx::gamtilde_LL_22))/dx[0];\n",
      "\n",
      "        amrex::Real AdvDbetagamtilde_LL_00 = beta_U_0*(ddnDgamtilde_LLL_000*(beta_U_0 < 0) + dupDgamtilde_LLL_000*(beta_U_0 > 0)) + beta_U_1*(ddnDgamtilde_LLL_001*(beta_U_1 < 0) + dupDgamtilde_LLL_001*(beta_U_1 > 0)) + beta_U_2*(ddnDgamtilde_LLL_002*(beta_U_2 < 0) + dupDgamtilde_LLL_002*(beta_U_2 > 0));\n",
      "        amrex::Real AdvDbetagamtilde_LL_01 = beta_U_0*(ddnDgamtilde_LLL_010*(beta_U_0 < 0) + dupDgamtilde_LLL_010*(beta_U_0 > 0)) + beta_U_1*(ddnDgamtilde_LLL_011*(beta_U_1 < 0) + dupDgamtilde_LLL_011*(beta_U_1 > 0)) + beta_U_2*(ddnDgamtilde_LLL_012*(beta_U_2 < 0) + dupDgamtilde_LLL_012*(beta_U_2 > 0));\n",
      "        amrex::Real AdvDbetagamtilde_LL_02 = beta_U_0*(ddnDgamtilde_LLL_020*(beta_U_0 < 0) + dupDgamtilde_LLL_020*(beta_U_0 > 0)) + beta_U_1*(ddnDgamtilde_LLL_021*(beta_U_1 < 0) + dupDgamtilde_LLL_021*(beta_U_1 > 0)) + beta_U_2*(ddnDgamtilde_LLL_022*(beta_U_2 < 0) + dupDgamtilde_LLL_022*(beta_U_2 > 0));\n",
      "        amrex::Real AdvDbetagamtilde_LL_11 = beta_U_0*(ddnDgamtilde_LLL_110*(beta_U_0 < 0) + dupDgamtilde_LLL_110*(beta_U_0 > 0)) + beta_U_1*(ddnDgamtilde_LLL_111*(beta_U_1 < 0) + dupDgamtilde_LLL_111*(beta_U_1 > 0)) + beta_U_2*(ddnDgamtilde_LLL_112*(beta_U_2 < 0) + dupDgamtilde_LLL_112*(beta_U_2 > 0));\n",
      "        amrex::Real AdvDbetagamtilde_LL_12 = beta_U_0*(ddnDgamtilde_LLL_120*(beta_U_0 < 0) + dupDgamtilde_LLL_120*(beta_U_0 > 0)) + beta_U_1*(ddnDgamtilde_LLL_121*(beta_U_1 < 0) + dupDgamtilde_LLL_121*(beta_U_1 > 0)) + beta_U_2*(ddnDgamtilde_LLL_122*(beta_U_2 < 0) + dupDgamtilde_LLL_122*(beta_U_2 > 0));\n",
      "        amrex::Real AdvDbetagamtilde_LL_22 = beta_U_0*(ddnDgamtilde_LLL_220*(beta_U_0 < 0) + dupDgamtilde_LLL_220*(beta_U_0 > 0)) + beta_U_1*(ddnDgamtilde_LLL_221*(beta_U_1 < 0) + dupDgamtilde_LLL_221*(beta_U_1 > 0)) + beta_U_2*(ddnDgamtilde_LLL_222*(beta_U_2 < 0) + dupDgamtilde_LLL_222*(beta_U_2 > 0));\n",
      "\n",
      "        amrex::Real dDKhat_L_0 = ((1.0/2.0)*state_fab(i + 1, j, k, Idx::Khat) - 1.0/2.0*state_fab(i - 1, j, k, Idx::Khat))/dx[0];\n",
      "        amrex::Real dDKhat_L_1 = ((1.0/2.0)*state_fab(i, j + 1, k, Idx::Khat) - 1.0/2.0*state_fab(i, j - 1, k, Idx::Khat))/dx[1];\n",
      "        amrex::Real dDKhat_L_2 = ((1.0/2.0)*state_fab(i, j, k + 1, Idx::Khat) - 1.0/2.0*state_fab(i, j, k - 1, Idx::Khat))/dx[2];\n",
      "\n",
      "        amrex::Real dupDKhat_L_0 = (2*state_fab(i + 1, j, k, Idx::Khat) - 1.0/2.0*state_fab(i + 2, j, k, Idx::Khat) - 3.0/2.0*state_fab(i, j, k, Idx::Khat))/dx[0];\n",
      "        amrex::Real dupDKhat_L_1 = (2*state_fab(i, j + 1, k, Idx::Khat) - 1.0/2.0*state_fab(i, j + 2, k, Idx::Khat) - 3.0/2.0*state_fab(i, j, k, Idx::Khat))/dx[1];\n",
      "        amrex::Real dupDKhat_L_2 = (2*state_fab(i, j, k + 1, Idx::Khat) - 1.0/2.0*state_fab(i, j, k + 2, Idx::Khat) - 3.0/2.0*state_fab(i, j, k, Idx::Khat))/dx[2];\n",
      "\n",
      "        amrex::Real ddnDKhat_L_0 = (-2*state_fab(i - 1, j, k, Idx::Khat) + (1.0/2.0)*state_fab(i - 2, j, k, Idx::Khat) + (3.0/2.0)*state_fab(i, j, k, Idx::Khat))/dx[0];\n",
      "        amrex::Real ddnDKhat_L_1 = (-2*state_fab(i, j - 1, k, Idx::Khat) + (1.0/2.0)*state_fab(i, j - 2, k, Idx::Khat) + (3.0/2.0)*state_fab(i, j, k, Idx::Khat))/dx[1];\n",
      "        amrex::Real ddnDKhat_L_2 = (-2*state_fab(i, j, k - 1, Idx::Khat) + (1.0/2.0)*state_fab(i, j, k - 2, Idx::Khat) + (3.0/2.0)*state_fab(i, j, k, Idx::Khat))/dx[2];\n",
      "\n",
      "        amrex::Real dDDKhat_LL_00 = (state_fab(i + 1, j, k, Idx::Khat) + state_fab(i - 1, j, k, Idx::Khat) - 2*state_fab(i, j, k, Idx::Khat))/std::pow(dx[0], 2);\n",
      "        amrex::Real dDDKhat_LL_01 = ((1.0/4.0)*state_fab(i + 1, j + 1, k, Idx::Khat) - 1.0/4.0*state_fab(i + 1, j - 1, k, Idx::Khat) - 1.0/4.0*state_fab(i - 1, j + 1, k, Idx::Khat) + (1.0/4.0)*state_fab(i - 1, j - 1, k, Idx::Khat))/(dx[0]*dx[1]);\n",
      "        amrex::Real dDDKhat_LL_02 = ((1.0/4.0)*state_fab(i + 1, j, k + 1, Idx::Khat) - 1.0/4.0*state_fab(i + 1, j, k - 1, Idx::Khat) - 1.0/4.0*state_fab(i - 1, j, k + 1, Idx::Khat) + (1.0/4.0)*state_fab(i - 1, j, k - 1, Idx::Khat))/(dx[0]*dx[2]);\n",
      "        amrex::Real dDDKhat_LL_11 = (state_fab(i, j + 1, k, Idx::Khat) + state_fab(i, j - 1, k, Idx::Khat) - 2*state_fab(i, j, k, Idx::Khat))/std::pow(dx[1], 2);\n",
      "        amrex::Real dDDKhat_LL_12 = ((1.0/4.0)*state_fab(i, j + 1, k + 1, Idx::Khat) - 1.0/4.0*state_fab(i, j + 1, k - 1, Idx::Khat) - 1.0/4.0*state_fab(i, j - 1, k + 1, Idx::Khat) + (1.0/4.0)*state_fab(i, j - 1, k - 1, Idx::Khat))/(dx[1]*dx[2]);\n",
      "        amrex::Real dDDKhat_LL_22 = (state_fab(i, j, k + 1, Idx::Khat) + state_fab(i, j, k - 1, Idx::Khat) - 2*state_fab(i, j, k, Idx::Khat))/std::pow(dx[2], 2);\n",
      "\n",
      "        amrex::Real dKODKhat = ((1.0/4.0)*state_fab(i, j, k + 1, Idx::Khat) - 1.0/16.0*state_fab(i, j, k + 2, Idx::Khat) + (1.0/4.0)*state_fab(i, j, k - 1, Idx::Khat) - 1.0/16.0*state_fab(i, j, k - 2, Idx::Khat) - 3.0/8.0*state_fab(i, j, k, Idx::Khat))/dx[2] + ((1.0/4.0)*state_fab(i, j + 1, k, Idx::Khat) - 1.0/16.0*state_fab(i, j + 2, k, Idx::Khat) + (1.0/4.0)*state_fab(i, j - 1, k, Idx::Khat) - 1.0/16.0*state_fab(i, j - 2, k, Idx::Khat) - 3.0/8.0*state_fab(i, j, k, Idx::Khat))/dx[1] + ((1.0/4.0)*state_fab(i + 1, j, k, Idx::Khat) - 1.0/16.0*state_fab(i + 2, j, k, Idx::Khat) + (1.0/4.0)*state_fab(i - 1, j, k, Idx::Khat) - 1.0/16.0*state_fab(i - 2, j, k, Idx::Khat) - 3.0/8.0*state_fab(i, j, k, Idx::Khat))/dx[0];\n",
      "\n",
      "        amrex::Real AdvDbetaKhat = beta_U_0*(ddnDKhat_L_0*(beta_U_0 < 0) + dupDKhat_L_0*(beta_U_0 > 0)) + beta_U_1*(ddnDKhat_L_1*(beta_U_1 < 0) + dupDKhat_L_1*(beta_U_1 > 0)) + beta_U_2*(ddnDKhat_L_2*(beta_U_2 < 0) + dupDKhat_L_2*(beta_U_2 > 0));\n",
      "\n",
      "        amrex::Real dDAtilde_LLL_000 = ((1.0/2.0)*state_fab(i + 1, j, k, Idx::Atilde_LL_00) - 1.0/2.0*state_fab(i - 1, j, k, Idx::Atilde_LL_00))/dx[0];\n",
      "        amrex::Real dDAtilde_LLL_001 = ((1.0/2.0)*state_fab(i, j + 1, k, Idx::Atilde_LL_00) - 1.0/2.0*state_fab(i, j - 1, k, Idx::Atilde_LL_00))/dx[1];\n",
      "        amrex::Real dDAtilde_LLL_002 = ((1.0/2.0)*state_fab(i, j, k + 1, Idx::Atilde_LL_00) - 1.0/2.0*state_fab(i, j, k - 1, Idx::Atilde_LL_00))/dx[2];\n",
      "        amrex::Real dDAtilde_LLL_010 = ((1.0/2.0)*state_fab(i + 1, j, k, Idx::Atilde_LL_01) - 1.0/2.0*state_fab(i - 1, j, k, Idx::Atilde_LL_01))/dx[0];\n",
      "        amrex::Real dDAtilde_LLL_011 = ((1.0/2.0)*state_fab(i, j + 1, k, Idx::Atilde_LL_01) - 1.0/2.0*state_fab(i, j - 1, k, Idx::Atilde_LL_01))/dx[1];\n",
      "        amrex::Real dDAtilde_LLL_012 = ((1.0/2.0)*state_fab(i, j, k + 1, Idx::Atilde_LL_01) - 1.0/2.0*state_fab(i, j, k - 1, Idx::Atilde_LL_01))/dx[2];\n",
      "        amrex::Real dDAtilde_LLL_020 = ((1.0/2.0)*state_fab(i + 1, j, k, Idx::Atilde_LL_02) - 1.0/2.0*state_fab(i - 1, j, k, Idx::Atilde_LL_02))/dx[0];\n",
      "        amrex::Real dDAtilde_LLL_021 = ((1.0/2.0)*state_fab(i, j + 1, k, Idx::Atilde_LL_02) - 1.0/2.0*state_fab(i, j - 1, k, Idx::Atilde_LL_02))/dx[1];\n",
      "        amrex::Real dDAtilde_LLL_022 = ((1.0/2.0)*state_fab(i, j, k + 1, Idx::Atilde_LL_02) - 1.0/2.0*state_fab(i, j, k - 1, Idx::Atilde_LL_02))/dx[2];\n",
      "        amrex::Real dDAtilde_LLL_110 = ((1.0/2.0)*state_fab(i + 1, j, k, Idx::Atilde_LL_11) - 1.0/2.0*state_fab(i - 1, j, k, Idx::Atilde_LL_11))/dx[0];\n",
      "        amrex::Real dDAtilde_LLL_111 = ((1.0/2.0)*state_fab(i, j + 1, k, Idx::Atilde_LL_11) - 1.0/2.0*state_fab(i, j - 1, k, Idx::Atilde_LL_11))/dx[1];\n",
      "        amrex::Real dDAtilde_LLL_112 = ((1.0/2.0)*state_fab(i, j, k + 1, Idx::Atilde_LL_11) - 1.0/2.0*state_fab(i, j, k - 1, Idx::Atilde_LL_11))/dx[2];\n",
      "        amrex::Real dDAtilde_LLL_120 = ((1.0/2.0)*state_fab(i + 1, j, k, Idx::Atilde_LL_12) - 1.0/2.0*state_fab(i - 1, j, k, Idx::Atilde_LL_12))/dx[0];\n",
      "        amrex::Real dDAtilde_LLL_121 = ((1.0/2.0)*state_fab(i, j + 1, k, Idx::Atilde_LL_12) - 1.0/2.0*state_fab(i, j - 1, k, Idx::Atilde_LL_12))/dx[1];\n",
      "        amrex::Real dDAtilde_LLL_122 = ((1.0/2.0)*state_fab(i, j, k + 1, Idx::Atilde_LL_12) - 1.0/2.0*state_fab(i, j, k - 1, Idx::Atilde_LL_12))/dx[2];\n",
      "        amrex::Real dDAtilde_LLL_220 = ((1.0/2.0)*state_fab(i + 1, j, k, Idx::Atilde_LL_22) - 1.0/2.0*state_fab(i - 1, j, k, Idx::Atilde_LL_22))/dx[0];\n",
      "        amrex::Real dDAtilde_LLL_221 = ((1.0/2.0)*state_fab(i, j + 1, k, Idx::Atilde_LL_22) - 1.0/2.0*state_fab(i, j - 1, k, Idx::Atilde_LL_22))/dx[1];\n",
      "        amrex::Real dDAtilde_LLL_222 = ((1.0/2.0)*state_fab(i, j, k + 1, Idx::Atilde_LL_22) - 1.0/2.0*state_fab(i, j, k - 1, Idx::Atilde_LL_22))/dx[2];\n",
      "\n",
      "        amrex::Real dupDAtilde_LLL_000 = (2*state_fab(i + 1, j, k, Idx::Atilde_LL_00) - 1.0/2.0*state_fab(i + 2, j, k, Idx::Atilde_LL_00) - 3.0/2.0*state_fab(i, j, k, Idx::Atilde_LL_00))/dx[0];\n",
      "        amrex::Real dupDAtilde_LLL_001 = (2*state_fab(i, j + 1, k, Idx::Atilde_LL_00) - 1.0/2.0*state_fab(i, j + 2, k, Idx::Atilde_LL_00) - 3.0/2.0*state_fab(i, j, k, Idx::Atilde_LL_00))/dx[1];\n",
      "        amrex::Real dupDAtilde_LLL_002 = (2*state_fab(i, j, k + 1, Idx::Atilde_LL_00) - 1.0/2.0*state_fab(i, j, k + 2, Idx::Atilde_LL_00) - 3.0/2.0*state_fab(i, j, k, Idx::Atilde_LL_00))/dx[2];\n",
      "        amrex::Real dupDAtilde_LLL_010 = (2*state_fab(i + 1, j, k, Idx::Atilde_LL_01) - 1.0/2.0*state_fab(i + 2, j, k, Idx::Atilde_LL_01) - 3.0/2.0*state_fab(i, j, k, Idx::Atilde_LL_01))/dx[0];\n",
      "        amrex::Real dupDAtilde_LLL_011 = (2*state_fab(i, j + 1, k, Idx::Atilde_LL_01) - 1.0/2.0*state_fab(i, j + 2, k, Idx::Atilde_LL_01) - 3.0/2.0*state_fab(i, j, k, Idx::Atilde_LL_01))/dx[1];\n",
      "        amrex::Real dupDAtilde_LLL_012 = (2*state_fab(i, j, k + 1, Idx::Atilde_LL_01) - 1.0/2.0*state_fab(i, j, k + 2, Idx::Atilde_LL_01) - 3.0/2.0*state_fab(i, j, k, Idx::Atilde_LL_01))/dx[2];\n",
      "        amrex::Real dupDAtilde_LLL_020 = (2*state_fab(i + 1, j, k, Idx::Atilde_LL_02) - 1.0/2.0*state_fab(i + 2, j, k, Idx::Atilde_LL_02) - 3.0/2.0*state_fab(i, j, k, Idx::Atilde_LL_02))/dx[0];\n",
      "        amrex::Real dupDAtilde_LLL_021 = (2*state_fab(i, j + 1, k, Idx::Atilde_LL_02) - 1.0/2.0*state_fab(i, j + 2, k, Idx::Atilde_LL_02) - 3.0/2.0*state_fab(i, j, k, Idx::Atilde_LL_02))/dx[1];\n",
      "        amrex::Real dupDAtilde_LLL_022 = (2*state_fab(i, j, k + 1, Idx::Atilde_LL_02) - 1.0/2.0*state_fab(i, j, k + 2, Idx::Atilde_LL_02) - 3.0/2.0*state_fab(i, j, k, Idx::Atilde_LL_02))/dx[2];\n",
      "        amrex::Real dupDAtilde_LLL_110 = (2*state_fab(i + 1, j, k, Idx::Atilde_LL_11) - 1.0/2.0*state_fab(i + 2, j, k, Idx::Atilde_LL_11) - 3.0/2.0*state_fab(i, j, k, Idx::Atilde_LL_11))/dx[0];\n",
      "        amrex::Real dupDAtilde_LLL_111 = (2*state_fab(i, j + 1, k, Idx::Atilde_LL_11) - 1.0/2.0*state_fab(i, j + 2, k, Idx::Atilde_LL_11) - 3.0/2.0*state_fab(i, j, k, Idx::Atilde_LL_11))/dx[1];\n",
      "        amrex::Real dupDAtilde_LLL_112 = (2*state_fab(i, j, k + 1, Idx::Atilde_LL_11) - 1.0/2.0*state_fab(i, j, k + 2, Idx::Atilde_LL_11) - 3.0/2.0*state_fab(i, j, k, Idx::Atilde_LL_11))/dx[2];\n",
      "        amrex::Real dupDAtilde_LLL_120 = (2*state_fab(i + 1, j, k, Idx::Atilde_LL_12) - 1.0/2.0*state_fab(i + 2, j, k, Idx::Atilde_LL_12) - 3.0/2.0*state_fab(i, j, k, Idx::Atilde_LL_12))/dx[0];\n",
      "        amrex::Real dupDAtilde_LLL_121 = (2*state_fab(i, j + 1, k, Idx::Atilde_LL_12) - 1.0/2.0*state_fab(i, j + 2, k, Idx::Atilde_LL_12) - 3.0/2.0*state_fab(i, j, k, Idx::Atilde_LL_12))/dx[1];\n",
      "        amrex::Real dupDAtilde_LLL_122 = (2*state_fab(i, j, k + 1, Idx::Atilde_LL_12) - 1.0/2.0*state_fab(i, j, k + 2, Idx::Atilde_LL_12) - 3.0/2.0*state_fab(i, j, k, Idx::Atilde_LL_12))/dx[2];\n",
      "        amrex::Real dupDAtilde_LLL_220 = (2*state_fab(i + 1, j, k, Idx::Atilde_LL_22) - 1.0/2.0*state_fab(i + 2, j, k, Idx::Atilde_LL_22) - 3.0/2.0*state_fab(i, j, k, Idx::Atilde_LL_22))/dx[0];\n",
      "        amrex::Real dupDAtilde_LLL_221 = (2*state_fab(i, j + 1, k, Idx::Atilde_LL_22) - 1.0/2.0*state_fab(i, j + 2, k, Idx::Atilde_LL_22) - 3.0/2.0*state_fab(i, j, k, Idx::Atilde_LL_22))/dx[1];\n",
      "        amrex::Real dupDAtilde_LLL_222 = (2*state_fab(i, j, k + 1, Idx::Atilde_LL_22) - 1.0/2.0*state_fab(i, j, k + 2, Idx::Atilde_LL_22) - 3.0/2.0*state_fab(i, j, k, Idx::Atilde_LL_22))/dx[2];\n",
      "\n",
      "        amrex::Real ddnDAtilde_LLL_000 = (-2*state_fab(i - 1, j, k, Idx::Atilde_LL_00) + (1.0/2.0)*state_fab(i - 2, j, k, Idx::Atilde_LL_00) + (3.0/2.0)*state_fab(i, j, k, Idx::Atilde_LL_00))/dx[0];\n",
      "        amrex::Real ddnDAtilde_LLL_001 = (-2*state_fab(i, j - 1, k, Idx::Atilde_LL_00) + (1.0/2.0)*state_fab(i, j - 2, k, Idx::Atilde_LL_00) + (3.0/2.0)*state_fab(i, j, k, Idx::Atilde_LL_00))/dx[1];\n",
      "        amrex::Real ddnDAtilde_LLL_002 = (-2*state_fab(i, j, k - 1, Idx::Atilde_LL_00) + (1.0/2.0)*state_fab(i, j, k - 2, Idx::Atilde_LL_00) + (3.0/2.0)*state_fab(i, j, k, Idx::Atilde_LL_00))/dx[2];\n",
      "        amrex::Real ddnDAtilde_LLL_010 = (-2*state_fab(i - 1, j, k, Idx::Atilde_LL_01) + (1.0/2.0)*state_fab(i - 2, j, k, Idx::Atilde_LL_01) + (3.0/2.0)*state_fab(i, j, k, Idx::Atilde_LL_01))/dx[0];\n",
      "        amrex::Real ddnDAtilde_LLL_011 = (-2*state_fab(i, j - 1, k, Idx::Atilde_LL_01) + (1.0/2.0)*state_fab(i, j - 2, k, Idx::Atilde_LL_01) + (3.0/2.0)*state_fab(i, j, k, Idx::Atilde_LL_01))/dx[1];\n",
      "        amrex::Real ddnDAtilde_LLL_012 = (-2*state_fab(i, j, k - 1, Idx::Atilde_LL_01) + (1.0/2.0)*state_fab(i, j, k - 2, Idx::Atilde_LL_01) + (3.0/2.0)*state_fab(i, j, k, Idx::Atilde_LL_01))/dx[2];\n",
      "        amrex::Real ddnDAtilde_LLL_020 = (-2*state_fab(i - 1, j, k, Idx::Atilde_LL_02) + (1.0/2.0)*state_fab(i - 2, j, k, Idx::Atilde_LL_02) + (3.0/2.0)*state_fab(i, j, k, Idx::Atilde_LL_02))/dx[0];\n",
      "        amrex::Real ddnDAtilde_LLL_021 = (-2*state_fab(i, j - 1, k, Idx::Atilde_LL_02) + (1.0/2.0)*state_fab(i, j - 2, k, Idx::Atilde_LL_02) + (3.0/2.0)*state_fab(i, j, k, Idx::Atilde_LL_02))/dx[1];\n",
      "        amrex::Real ddnDAtilde_LLL_022 = (-2*state_fab(i, j, k - 1, Idx::Atilde_LL_02) + (1.0/2.0)*state_fab(i, j, k - 2, Idx::Atilde_LL_02) + (3.0/2.0)*state_fab(i, j, k, Idx::Atilde_LL_02))/dx[2];\n",
      "        amrex::Real ddnDAtilde_LLL_110 = (-2*state_fab(i - 1, j, k, Idx::Atilde_LL_11) + (1.0/2.0)*state_fab(i - 2, j, k, Idx::Atilde_LL_11) + (3.0/2.0)*state_fab(i, j, k, Idx::Atilde_LL_11))/dx[0];\n",
      "        amrex::Real ddnDAtilde_LLL_111 = (-2*state_fab(i, j - 1, k, Idx::Atilde_LL_11) + (1.0/2.0)*state_fab(i, j - 2, k, Idx::Atilde_LL_11) + (3.0/2.0)*state_fab(i, j, k, Idx::Atilde_LL_11))/dx[1];\n",
      "        amrex::Real ddnDAtilde_LLL_112 = (-2*state_fab(i, j, k - 1, Idx::Atilde_LL_11) + (1.0/2.0)*state_fab(i, j, k - 2, Idx::Atilde_LL_11) + (3.0/2.0)*state_fab(i, j, k, Idx::Atilde_LL_11))/dx[2];\n",
      "        amrex::Real ddnDAtilde_LLL_120 = (-2*state_fab(i - 1, j, k, Idx::Atilde_LL_12) + (1.0/2.0)*state_fab(i - 2, j, k, Idx::Atilde_LL_12) + (3.0/2.0)*state_fab(i, j, k, Idx::Atilde_LL_12))/dx[0];\n",
      "        amrex::Real ddnDAtilde_LLL_121 = (-2*state_fab(i, j - 1, k, Idx::Atilde_LL_12) + (1.0/2.0)*state_fab(i, j - 2, k, Idx::Atilde_LL_12) + (3.0/2.0)*state_fab(i, j, k, Idx::Atilde_LL_12))/dx[1];\n",
      "        amrex::Real ddnDAtilde_LLL_122 = (-2*state_fab(i, j, k - 1, Idx::Atilde_LL_12) + (1.0/2.0)*state_fab(i, j, k - 2, Idx::Atilde_LL_12) + (3.0/2.0)*state_fab(i, j, k, Idx::Atilde_LL_12))/dx[2];\n",
      "        amrex::Real ddnDAtilde_LLL_220 = (-2*state_fab(i - 1, j, k, Idx::Atilde_LL_22) + (1.0/2.0)*state_fab(i - 2, j, k, Idx::Atilde_LL_22) + (3.0/2.0)*state_fab(i, j, k, Idx::Atilde_LL_22))/dx[0];\n",
      "        amrex::Real ddnDAtilde_LLL_221 = (-2*state_fab(i, j - 1, k, Idx::Atilde_LL_22) + (1.0/2.0)*state_fab(i, j - 2, k, Idx::Atilde_LL_22) + (3.0/2.0)*state_fab(i, j, k, Idx::Atilde_LL_22))/dx[1];\n",
      "        amrex::Real ddnDAtilde_LLL_222 = (-2*state_fab(i, j, k - 1, Idx::Atilde_LL_22) + (1.0/2.0)*state_fab(i, j, k - 2, Idx::Atilde_LL_22) + (3.0/2.0)*state_fab(i, j, k, Idx::Atilde_LL_22))/dx[2];\n",
      "\n",
      "        amrex::Real dDDAtilde_LLLL_0000 = (state_fab(i + 1, j, k, Idx::Atilde_LL_00) + state_fab(i - 1, j, k, Idx::Atilde_LL_00) - 2*state_fab(i, j, k, Idx::Atilde_LL_00))/std::pow(dx[0], 2);\n",
      "        amrex::Real dDDAtilde_LLLL_0001 = ((1.0/4.0)*state_fab(i + 1, j + 1, k, Idx::Atilde_LL_00) - 1.0/4.0*state_fab(i + 1, j - 1, k, Idx::Atilde_LL_00) - 1.0/4.0*state_fab(i - 1, j + 1, k, Idx::Atilde_LL_00) + (1.0/4.0)*state_fab(i - 1, j - 1, k, Idx::Atilde_LL_00))/(dx[0]*dx[1]);\n",
      "        amrex::Real dDDAtilde_LLLL_0002 = ((1.0/4.0)*state_fab(i + 1, j, k + 1, Idx::Atilde_LL_00) - 1.0/4.0*state_fab(i + 1, j, k - 1, Idx::Atilde_LL_00) - 1.0/4.0*state_fab(i - 1, j, k + 1, Idx::Atilde_LL_00) + (1.0/4.0)*state_fab(i - 1, j, k - 1, Idx::Atilde_LL_00))/(dx[0]*dx[2]);\n",
      "        amrex::Real dDDAtilde_LLLL_0011 = (state_fab(i, j + 1, k, Idx::Atilde_LL_00) + state_fab(i, j - 1, k, Idx::Atilde_LL_00) - 2*state_fab(i, j, k, Idx::Atilde_LL_00))/std::pow(dx[1], 2);\n",
      "        amrex::Real dDDAtilde_LLLL_0012 = ((1.0/4.0)*state_fab(i, j + 1, k + 1, Idx::Atilde_LL_00) - 1.0/4.0*state_fab(i, j + 1, k - 1, Idx::Atilde_LL_00) - 1.0/4.0*state_fab(i, j - 1, k + 1, Idx::Atilde_LL_00) + (1.0/4.0)*state_fab(i, j - 1, k - 1, Idx::Atilde_LL_00))/(dx[1]*dx[2]);\n",
      "        amrex::Real dDDAtilde_LLLL_0022 = (state_fab(i, j, k + 1, Idx::Atilde_LL_00) + state_fab(i, j, k - 1, Idx::Atilde_LL_00) - 2*state_fab(i, j, k, Idx::Atilde_LL_00))/std::pow(dx[2], 2);\n",
      "        amrex::Real dDDAtilde_LLLL_0100 = (state_fab(i + 1, j, k, Idx::Atilde_LL_01) + state_fab(i - 1, j, k, Idx::Atilde_LL_01) - 2*state_fab(i, j, k, Idx::Atilde_LL_01))/std::pow(dx[0], 2);\n",
      "        amrex::Real dDDAtilde_LLLL_0101 = ((1.0/4.0)*state_fab(i + 1, j + 1, k, Idx::Atilde_LL_01) - 1.0/4.0*state_fab(i + 1, j - 1, k, Idx::Atilde_LL_01) - 1.0/4.0*state_fab(i - 1, j + 1, k, Idx::Atilde_LL_01) + (1.0/4.0)*state_fab(i - 1, j - 1, k, Idx::Atilde_LL_01))/(dx[0]*dx[1]);\n",
      "        amrex::Real dDDAtilde_LLLL_0102 = ((1.0/4.0)*state_fab(i + 1, j, k + 1, Idx::Atilde_LL_01) - 1.0/4.0*state_fab(i + 1, j, k - 1, Idx::Atilde_LL_01) - 1.0/4.0*state_fab(i - 1, j, k + 1, Idx::Atilde_LL_01) + (1.0/4.0)*state_fab(i - 1, j, k - 1, Idx::Atilde_LL_01))/(dx[0]*dx[2]);\n",
      "        amrex::Real dDDAtilde_LLLL_0111 = (state_fab(i, j + 1, k, Idx::Atilde_LL_01) + state_fab(i, j - 1, k, Idx::Atilde_LL_01) - 2*state_fab(i, j, k, Idx::Atilde_LL_01))/std::pow(dx[1], 2);\n",
      "        amrex::Real dDDAtilde_LLLL_0112 = ((1.0/4.0)*state_fab(i, j + 1, k + 1, Idx::Atilde_LL_01) - 1.0/4.0*state_fab(i, j + 1, k - 1, Idx::Atilde_LL_01) - 1.0/4.0*state_fab(i, j - 1, k + 1, Idx::Atilde_LL_01) + (1.0/4.0)*state_fab(i, j - 1, k - 1, Idx::Atilde_LL_01))/(dx[1]*dx[2]);\n",
      "        amrex::Real dDDAtilde_LLLL_0122 = (state_fab(i, j, k + 1, Idx::Atilde_LL_01) + state_fab(i, j, k - 1, Idx::Atilde_LL_01) - 2*state_fab(i, j, k, Idx::Atilde_LL_01))/std::pow(dx[2], 2);\n",
      "        amrex::Real dDDAtilde_LLLL_0200 = (state_fab(i + 1, j, k, Idx::Atilde_LL_02) + state_fab(i - 1, j, k, Idx::Atilde_LL_02) - 2*state_fab(i, j, k, Idx::Atilde_LL_02))/std::pow(dx[0], 2);\n",
      "        amrex::Real dDDAtilde_LLLL_0201 = ((1.0/4.0)*state_fab(i + 1, j + 1, k, Idx::Atilde_LL_02) - 1.0/4.0*state_fab(i + 1, j - 1, k, Idx::Atilde_LL_02) - 1.0/4.0*state_fab(i - 1, j + 1, k, Idx::Atilde_LL_02) + (1.0/4.0)*state_fab(i - 1, j - 1, k, Idx::Atilde_LL_02))/(dx[0]*dx[1]);\n",
      "        amrex::Real dDDAtilde_LLLL_0202 = ((1.0/4.0)*state_fab(i + 1, j, k + 1, Idx::Atilde_LL_02) - 1.0/4.0*state_fab(i + 1, j, k - 1, Idx::Atilde_LL_02) - 1.0/4.0*state_fab(i - 1, j, k + 1, Idx::Atilde_LL_02) + (1.0/4.0)*state_fab(i - 1, j, k - 1, Idx::Atilde_LL_02))/(dx[0]*dx[2]);\n",
      "        amrex::Real dDDAtilde_LLLL_0211 = (state_fab(i, j + 1, k, Idx::Atilde_LL_02) + state_fab(i, j - 1, k, Idx::Atilde_LL_02) - 2*state_fab(i, j, k, Idx::Atilde_LL_02))/std::pow(dx[1], 2);\n",
      "        amrex::Real dDDAtilde_LLLL_0212 = ((1.0/4.0)*state_fab(i, j + 1, k + 1, Idx::Atilde_LL_02) - 1.0/4.0*state_fab(i, j + 1, k - 1, Idx::Atilde_LL_02) - 1.0/4.0*state_fab(i, j - 1, k + 1, Idx::Atilde_LL_02) + (1.0/4.0)*state_fab(i, j - 1, k - 1, Idx::Atilde_LL_02))/(dx[1]*dx[2]);\n",
      "        amrex::Real dDDAtilde_LLLL_0222 = (state_fab(i, j, k + 1, Idx::Atilde_LL_02) + state_fab(i, j, k - 1, Idx::Atilde_LL_02) - 2*state_fab(i, j, k, Idx::Atilde_LL_02))/std::pow(dx[2], 2);\n",
      "        amrex::Real dDDAtilde_LLLL_1100 = (state_fab(i + 1, j, k, Idx::Atilde_LL_11) + state_fab(i - 1, j, k, Idx::Atilde_LL_11) - 2*state_fab(i, j, k, Idx::Atilde_LL_11))/std::pow(dx[0], 2);\n",
      "        amrex::Real dDDAtilde_LLLL_1101 = ((1.0/4.0)*state_fab(i + 1, j + 1, k, Idx::Atilde_LL_11) - 1.0/4.0*state_fab(i + 1, j - 1, k, Idx::Atilde_LL_11) - 1.0/4.0*state_fab(i - 1, j + 1, k, Idx::Atilde_LL_11) + (1.0/4.0)*state_fab(i - 1, j - 1, k, Idx::Atilde_LL_11))/(dx[0]*dx[1]);\n",
      "        amrex::Real dDDAtilde_LLLL_1102 = ((1.0/4.0)*state_fab(i + 1, j, k + 1, Idx::Atilde_LL_11) - 1.0/4.0*state_fab(i + 1, j, k - 1, Idx::Atilde_LL_11) - 1.0/4.0*state_fab(i - 1, j, k + 1, Idx::Atilde_LL_11) + (1.0/4.0)*state_fab(i - 1, j, k - 1, Idx::Atilde_LL_11))/(dx[0]*dx[2]);\n",
      "        amrex::Real dDDAtilde_LLLL_1111 = (state_fab(i, j + 1, k, Idx::Atilde_LL_11) + state_fab(i, j - 1, k, Idx::Atilde_LL_11) - 2*state_fab(i, j, k, Idx::Atilde_LL_11))/std::pow(dx[1], 2);\n",
      "        amrex::Real dDDAtilde_LLLL_1112 = ((1.0/4.0)*state_fab(i, j + 1, k + 1, Idx::Atilde_LL_11) - 1.0/4.0*state_fab(i, j + 1, k - 1, Idx::Atilde_LL_11) - 1.0/4.0*state_fab(i, j - 1, k + 1, Idx::Atilde_LL_11) + (1.0/4.0)*state_fab(i, j - 1, k - 1, Idx::Atilde_LL_11))/(dx[1]*dx[2]);\n",
      "        amrex::Real dDDAtilde_LLLL_1122 = (state_fab(i, j, k + 1, Idx::Atilde_LL_11) + state_fab(i, j, k - 1, Idx::Atilde_LL_11) - 2*state_fab(i, j, k, Idx::Atilde_LL_11))/std::pow(dx[2], 2);\n",
      "        amrex::Real dDDAtilde_LLLL_1200 = (state_fab(i + 1, j, k, Idx::Atilde_LL_12) + state_fab(i - 1, j, k, Idx::Atilde_LL_12) - 2*state_fab(i, j, k, Idx::Atilde_LL_12))/std::pow(dx[0], 2);\n",
      "        amrex::Real dDDAtilde_LLLL_1201 = ((1.0/4.0)*state_fab(i + 1, j + 1, k, Idx::Atilde_LL_12) - 1.0/4.0*state_fab(i + 1, j - 1, k, Idx::Atilde_LL_12) - 1.0/4.0*state_fab(i - 1, j + 1, k, Idx::Atilde_LL_12) + (1.0/4.0)*state_fab(i - 1, j - 1, k, Idx::Atilde_LL_12))/(dx[0]*dx[1]);\n",
      "        amrex::Real dDDAtilde_LLLL_1202 = ((1.0/4.0)*state_fab(i + 1, j, k + 1, Idx::Atilde_LL_12) - 1.0/4.0*state_fab(i + 1, j, k - 1, Idx::Atilde_LL_12) - 1.0/4.0*state_fab(i - 1, j, k + 1, Idx::Atilde_LL_12) + (1.0/4.0)*state_fab(i - 1, j, k - 1, Idx::Atilde_LL_12))/(dx[0]*dx[2]);\n",
      "        amrex::Real dDDAtilde_LLLL_1211 = (state_fab(i, j + 1, k, Idx::Atilde_LL_12) + state_fab(i, j - 1, k, Idx::Atilde_LL_12) - 2*state_fab(i, j, k, Idx::Atilde_LL_12))/std::pow(dx[1], 2);\n",
      "        amrex::Real dDDAtilde_LLLL_1212 = ((1.0/4.0)*state_fab(i, j + 1, k + 1, Idx::Atilde_LL_12) - 1.0/4.0*state_fab(i, j + 1, k - 1, Idx::Atilde_LL_12) - 1.0/4.0*state_fab(i, j - 1, k + 1, Idx::Atilde_LL_12) + (1.0/4.0)*state_fab(i, j - 1, k - 1, Idx::Atilde_LL_12))/(dx[1]*dx[2]);\n",
      "        amrex::Real dDDAtilde_LLLL_1222 = (state_fab(i, j, k + 1, Idx::Atilde_LL_12) + state_fab(i, j, k - 1, Idx::Atilde_LL_12) - 2*state_fab(i, j, k, Idx::Atilde_LL_12))/std::pow(dx[2], 2);\n",
      "        amrex::Real dDDAtilde_LLLL_2200 = (state_fab(i + 1, j, k, Idx::Atilde_LL_22) + state_fab(i - 1, j, k, Idx::Atilde_LL_22) - 2*state_fab(i, j, k, Idx::Atilde_LL_22))/std::pow(dx[0], 2);\n",
      "        amrex::Real dDDAtilde_LLLL_2201 = ((1.0/4.0)*state_fab(i + 1, j + 1, k, Idx::Atilde_LL_22) - 1.0/4.0*state_fab(i + 1, j - 1, k, Idx::Atilde_LL_22) - 1.0/4.0*state_fab(i - 1, j + 1, k, Idx::Atilde_LL_22) + (1.0/4.0)*state_fab(i - 1, j - 1, k, Idx::Atilde_LL_22))/(dx[0]*dx[1]);\n",
      "        amrex::Real dDDAtilde_LLLL_2202 = ((1.0/4.0)*state_fab(i + 1, j, k + 1, Idx::Atilde_LL_22) - 1.0/4.0*state_fab(i + 1, j, k - 1, Idx::Atilde_LL_22) - 1.0/4.0*state_fab(i - 1, j, k + 1, Idx::Atilde_LL_22) + (1.0/4.0)*state_fab(i - 1, j, k - 1, Idx::Atilde_LL_22))/(dx[0]*dx[2]);\n",
      "        amrex::Real dDDAtilde_LLLL_2211 = (state_fab(i, j + 1, k, Idx::Atilde_LL_22) + state_fab(i, j - 1, k, Idx::Atilde_LL_22) - 2*state_fab(i, j, k, Idx::Atilde_LL_22))/std::pow(dx[1], 2);\n",
      "        amrex::Real dDDAtilde_LLLL_2212 = ((1.0/4.0)*state_fab(i, j + 1, k + 1, Idx::Atilde_LL_22) - 1.0/4.0*state_fab(i, j + 1, k - 1, Idx::Atilde_LL_22) - 1.0/4.0*state_fab(i, j - 1, k + 1, Idx::Atilde_LL_22) + (1.0/4.0)*state_fab(i, j - 1, k - 1, Idx::Atilde_LL_22))/(dx[1]*dx[2]);\n",
      "        amrex::Real dDDAtilde_LLLL_2222 = (state_fab(i, j, k + 1, Idx::Atilde_LL_22) + state_fab(i, j, k - 1, Idx::Atilde_LL_22) - 2*state_fab(i, j, k, Idx::Atilde_LL_22))/std::pow(dx[2], 2);\n",
      "\n",
      "        amrex::Real dKODAtilde_LL_00 = ((1.0/4.0)*state_fab(i, j, k + 1, Idx::Atilde_LL_00) - 1.0/16.0*state_fab(i, j, k + 2, Idx::Atilde_LL_00) + (1.0/4.0)*state_fab(i, j, k - 1, Idx::Atilde_LL_00) - 1.0/16.0*state_fab(i, j, k - 2, Idx::Atilde_LL_00) - 3.0/8.0*state_fab(i, j, k, Idx::Atilde_LL_00))/dx[2] + ((1.0/4.0)*state_fab(i, j + 1, k, Idx::Atilde_LL_00) - 1.0/16.0*state_fab(i, j + 2, k, Idx::Atilde_LL_00) + (1.0/4.0)*state_fab(i, j - 1, k, Idx::Atilde_LL_00) - 1.0/16.0*state_fab(i, j - 2, k, Idx::Atilde_LL_00) - 3.0/8.0*state_fab(i, j, k, Idx::Atilde_LL_00))/dx[1] + ((1.0/4.0)*state_fab(i + 1, j, k, Idx::Atilde_LL_00) - 1.0/16.0*state_fab(i + 2, j, k, Idx::Atilde_LL_00) + (1.0/4.0)*state_fab(i - 1, j, k, Idx::Atilde_LL_00) - 1.0/16.0*state_fab(i - 2, j, k, Idx::Atilde_LL_00) - 3.0/8.0*state_fab(i, j, k, Idx::Atilde_LL_00))/dx[0];\n",
      "        amrex::Real dKODAtilde_LL_01 = ((1.0/4.0)*state_fab(i, j, k + 1, Idx::Atilde_LL_01) - 1.0/16.0*state_fab(i, j, k + 2, Idx::Atilde_LL_01) + (1.0/4.0)*state_fab(i, j, k - 1, Idx::Atilde_LL_01) - 1.0/16.0*state_fab(i, j, k - 2, Idx::Atilde_LL_01) - 3.0/8.0*state_fab(i, j, k, Idx::Atilde_LL_01))/dx[2] + ((1.0/4.0)*state_fab(i, j + 1, k, Idx::Atilde_LL_01) - 1.0/16.0*state_fab(i, j + 2, k, Idx::Atilde_LL_01) + (1.0/4.0)*state_fab(i, j - 1, k, Idx::Atilde_LL_01) - 1.0/16.0*state_fab(i, j - 2, k, Idx::Atilde_LL_01) - 3.0/8.0*state_fab(i, j, k, Idx::Atilde_LL_01))/dx[1] + ((1.0/4.0)*state_fab(i + 1, j, k, Idx::Atilde_LL_01) - 1.0/16.0*state_fab(i + 2, j, k, Idx::Atilde_LL_01) + (1.0/4.0)*state_fab(i - 1, j, k, Idx::Atilde_LL_01) - 1.0/16.0*state_fab(i - 2, j, k, Idx::Atilde_LL_01) - 3.0/8.0*state_fab(i, j, k, Idx::Atilde_LL_01))/dx[0];\n",
      "        amrex::Real dKODAtilde_LL_02 = ((1.0/4.0)*state_fab(i, j, k + 1, Idx::Atilde_LL_02) - 1.0/16.0*state_fab(i, j, k + 2, Idx::Atilde_LL_02) + (1.0/4.0)*state_fab(i, j, k - 1, Idx::Atilde_LL_02) - 1.0/16.0*state_fab(i, j, k - 2, Idx::Atilde_LL_02) - 3.0/8.0*state_fab(i, j, k, Idx::Atilde_LL_02))/dx[2] + ((1.0/4.0)*state_fab(i, j + 1, k, Idx::Atilde_LL_02) - 1.0/16.0*state_fab(i, j + 2, k, Idx::Atilde_LL_02) + (1.0/4.0)*state_fab(i, j - 1, k, Idx::Atilde_LL_02) - 1.0/16.0*state_fab(i, j - 2, k, Idx::Atilde_LL_02) - 3.0/8.0*state_fab(i, j, k, Idx::Atilde_LL_02))/dx[1] + ((1.0/4.0)*state_fab(i + 1, j, k, Idx::Atilde_LL_02) - 1.0/16.0*state_fab(i + 2, j, k, Idx::Atilde_LL_02) + (1.0/4.0)*state_fab(i - 1, j, k, Idx::Atilde_LL_02) - 1.0/16.0*state_fab(i - 2, j, k, Idx::Atilde_LL_02) - 3.0/8.0*state_fab(i, j, k, Idx::Atilde_LL_02))/dx[0];\n",
      "        amrex::Real dKODAtilde_LL_11 = ((1.0/4.0)*state_fab(i, j, k + 1, Idx::Atilde_LL_11) - 1.0/16.0*state_fab(i, j, k + 2, Idx::Atilde_LL_11) + (1.0/4.0)*state_fab(i, j, k - 1, Idx::Atilde_LL_11) - 1.0/16.0*state_fab(i, j, k - 2, Idx::Atilde_LL_11) - 3.0/8.0*state_fab(i, j, k, Idx::Atilde_LL_11))/dx[2] + ((1.0/4.0)*state_fab(i, j + 1, k, Idx::Atilde_LL_11) - 1.0/16.0*state_fab(i, j + 2, k, Idx::Atilde_LL_11) + (1.0/4.0)*state_fab(i, j - 1, k, Idx::Atilde_LL_11) - 1.0/16.0*state_fab(i, j - 2, k, Idx::Atilde_LL_11) - 3.0/8.0*state_fab(i, j, k, Idx::Atilde_LL_11))/dx[1] + ((1.0/4.0)*state_fab(i + 1, j, k, Idx::Atilde_LL_11) - 1.0/16.0*state_fab(i + 2, j, k, Idx::Atilde_LL_11) + (1.0/4.0)*state_fab(i - 1, j, k, Idx::Atilde_LL_11) - 1.0/16.0*state_fab(i - 2, j, k, Idx::Atilde_LL_11) - 3.0/8.0*state_fab(i, j, k, Idx::Atilde_LL_11))/dx[0];\n",
      "        amrex::Real dKODAtilde_LL_12 = ((1.0/4.0)*state_fab(i, j, k + 1, Idx::Atilde_LL_12) - 1.0/16.0*state_fab(i, j, k + 2, Idx::Atilde_LL_12) + (1.0/4.0)*state_fab(i, j, k - 1, Idx::Atilde_LL_12) - 1.0/16.0*state_fab(i, j, k - 2, Idx::Atilde_LL_12) - 3.0/8.0*state_fab(i, j, k, Idx::Atilde_LL_12))/dx[2] + ((1.0/4.0)*state_fab(i, j + 1, k, Idx::Atilde_LL_12) - 1.0/16.0*state_fab(i, j + 2, k, Idx::Atilde_LL_12) + (1.0/4.0)*state_fab(i, j - 1, k, Idx::Atilde_LL_12) - 1.0/16.0*state_fab(i, j - 2, k, Idx::Atilde_LL_12) - 3.0/8.0*state_fab(i, j, k, Idx::Atilde_LL_12))/dx[1] + ((1.0/4.0)*state_fab(i + 1, j, k, Idx::Atilde_LL_12) - 1.0/16.0*state_fab(i + 2, j, k, Idx::Atilde_LL_12) + (1.0/4.0)*state_fab(i - 1, j, k, Idx::Atilde_LL_12) - 1.0/16.0*state_fab(i - 2, j, k, Idx::Atilde_LL_12) - 3.0/8.0*state_fab(i, j, k, Idx::Atilde_LL_12))/dx[0];\n",
      "        amrex::Real dKODAtilde_LL_22 = ((1.0/4.0)*state_fab(i, j, k + 1, Idx::Atilde_LL_22) - 1.0/16.0*state_fab(i, j, k + 2, Idx::Atilde_LL_22) + (1.0/4.0)*state_fab(i, j, k - 1, Idx::Atilde_LL_22) - 1.0/16.0*state_fab(i, j, k - 2, Idx::Atilde_LL_22) - 3.0/8.0*state_fab(i, j, k, Idx::Atilde_LL_22))/dx[2] + ((1.0/4.0)*state_fab(i, j + 1, k, Idx::Atilde_LL_22) - 1.0/16.0*state_fab(i, j + 2, k, Idx::Atilde_LL_22) + (1.0/4.0)*state_fab(i, j - 1, k, Idx::Atilde_LL_22) - 1.0/16.0*state_fab(i, j - 2, k, Idx::Atilde_LL_22) - 3.0/8.0*state_fab(i, j, k, Idx::Atilde_LL_22))/dx[1] + ((1.0/4.0)*state_fab(i + 1, j, k, Idx::Atilde_LL_22) - 1.0/16.0*state_fab(i + 2, j, k, Idx::Atilde_LL_22) + (1.0/4.0)*state_fab(i - 1, j, k, Idx::Atilde_LL_22) - 1.0/16.0*state_fab(i - 2, j, k, Idx::Atilde_LL_22) - 3.0/8.0*state_fab(i, j, k, Idx::Atilde_LL_22))/dx[0];\n",
      "\n",
      "        amrex::Real AdvDbetaAtilde_LL_00 = beta_U_0*(ddnDAtilde_LLL_000*(beta_U_0 < 0) + dupDAtilde_LLL_000*(beta_U_0 > 0)) + beta_U_1*(ddnDAtilde_LLL_001*(beta_U_1 < 0) + dupDAtilde_LLL_001*(beta_U_1 > 0)) + beta_U_2*(ddnDAtilde_LLL_002*(beta_U_2 < 0) + dupDAtilde_LLL_002*(beta_U_2 > 0));\n",
      "        amrex::Real AdvDbetaAtilde_LL_01 = beta_U_0*(ddnDAtilde_LLL_010*(beta_U_0 < 0) + dupDAtilde_LLL_010*(beta_U_0 > 0)) + beta_U_1*(ddnDAtilde_LLL_011*(beta_U_1 < 0) + dupDAtilde_LLL_011*(beta_U_1 > 0)) + beta_U_2*(ddnDAtilde_LLL_012*(beta_U_2 < 0) + dupDAtilde_LLL_012*(beta_U_2 > 0));\n",
      "        amrex::Real AdvDbetaAtilde_LL_02 = beta_U_0*(ddnDAtilde_LLL_020*(beta_U_0 < 0) + dupDAtilde_LLL_020*(beta_U_0 > 0)) + beta_U_1*(ddnDAtilde_LLL_021*(beta_U_1 < 0) + dupDAtilde_LLL_021*(beta_U_1 > 0)) + beta_U_2*(ddnDAtilde_LLL_022*(beta_U_2 < 0) + dupDAtilde_LLL_022*(beta_U_2 > 0));\n",
      "        amrex::Real AdvDbetaAtilde_LL_11 = beta_U_0*(ddnDAtilde_LLL_110*(beta_U_0 < 0) + dupDAtilde_LLL_110*(beta_U_0 > 0)) + beta_U_1*(ddnDAtilde_LLL_111*(beta_U_1 < 0) + dupDAtilde_LLL_111*(beta_U_1 > 0)) + beta_U_2*(ddnDAtilde_LLL_112*(beta_U_2 < 0) + dupDAtilde_LLL_112*(beta_U_2 > 0));\n",
      "        amrex::Real AdvDbetaAtilde_LL_12 = beta_U_0*(ddnDAtilde_LLL_120*(beta_U_0 < 0) + dupDAtilde_LLL_120*(beta_U_0 > 0)) + beta_U_1*(ddnDAtilde_LLL_121*(beta_U_1 < 0) + dupDAtilde_LLL_121*(beta_U_1 > 0)) + beta_U_2*(ddnDAtilde_LLL_122*(beta_U_2 < 0) + dupDAtilde_LLL_122*(beta_U_2 > 0));\n",
      "        amrex::Real AdvDbetaAtilde_LL_22 = beta_U_0*(ddnDAtilde_LLL_220*(beta_U_0 < 0) + dupDAtilde_LLL_220*(beta_U_0 > 0)) + beta_U_1*(ddnDAtilde_LLL_221*(beta_U_1 < 0) + dupDAtilde_LLL_221*(beta_U_1 > 0)) + beta_U_2*(ddnDAtilde_LLL_222*(beta_U_2 < 0) + dupDAtilde_LLL_222*(beta_U_2 > 0));\n",
      "\n",
      "        amrex::Real dDtheta_L_0 = ((1.0/2.0)*state_fab(i + 1, j, k, Idx::theta) - 1.0/2.0*state_fab(i - 1, j, k, Idx::theta))/dx[0];\n",
      "        amrex::Real dDtheta_L_1 = ((1.0/2.0)*state_fab(i, j + 1, k, Idx::theta) - 1.0/2.0*state_fab(i, j - 1, k, Idx::theta))/dx[1];\n",
      "        amrex::Real dDtheta_L_2 = ((1.0/2.0)*state_fab(i, j, k + 1, Idx::theta) - 1.0/2.0*state_fab(i, j, k - 1, Idx::theta))/dx[2];\n",
      "\n",
      "        amrex::Real dupDtheta_L_0 = (2*state_fab(i + 1, j, k, Idx::theta) - 1.0/2.0*state_fab(i + 2, j, k, Idx::theta) - 3.0/2.0*state_fab(i, j, k, Idx::theta))/dx[0];\n",
      "        amrex::Real dupDtheta_L_1 = (2*state_fab(i, j + 1, k, Idx::theta) - 1.0/2.0*state_fab(i, j + 2, k, Idx::theta) - 3.0/2.0*state_fab(i, j, k, Idx::theta))/dx[1];\n",
      "        amrex::Real dupDtheta_L_2 = (2*state_fab(i, j, k + 1, Idx::theta) - 1.0/2.0*state_fab(i, j, k + 2, Idx::theta) - 3.0/2.0*state_fab(i, j, k, Idx::theta))/dx[2];\n",
      "\n",
      "        amrex::Real ddnDtheta_L_0 = (-2*state_fab(i - 1, j, k, Idx::theta) + (1.0/2.0)*state_fab(i - 2, j, k, Idx::theta) + (3.0/2.0)*state_fab(i, j, k, Idx::theta))/dx[0];\n",
      "        amrex::Real ddnDtheta_L_1 = (-2*state_fab(i, j - 1, k, Idx::theta) + (1.0/2.0)*state_fab(i, j - 2, k, Idx::theta) + (3.0/2.0)*state_fab(i, j, k, Idx::theta))/dx[1];\n",
      "        amrex::Real ddnDtheta_L_2 = (-2*state_fab(i, j, k - 1, Idx::theta) + (1.0/2.0)*state_fab(i, j, k - 2, Idx::theta) + (3.0/2.0)*state_fab(i, j, k, Idx::theta))/dx[2];\n",
      "\n",
      "        amrex::Real dDDtheta_LL_00 = (state_fab(i + 1, j, k, Idx::theta) + state_fab(i - 1, j, k, Idx::theta) - 2*state_fab(i, j, k, Idx::theta))/std::pow(dx[0], 2);\n",
      "        amrex::Real dDDtheta_LL_01 = ((1.0/4.0)*state_fab(i + 1, j + 1, k, Idx::theta) - 1.0/4.0*state_fab(i + 1, j - 1, k, Idx::theta) - 1.0/4.0*state_fab(i - 1, j + 1, k, Idx::theta) + (1.0/4.0)*state_fab(i - 1, j - 1, k, Idx::theta))/(dx[0]*dx[1]);\n",
      "        amrex::Real dDDtheta_LL_02 = ((1.0/4.0)*state_fab(i + 1, j, k + 1, Idx::theta) - 1.0/4.0*state_fab(i + 1, j, k - 1, Idx::theta) - 1.0/4.0*state_fab(i - 1, j, k + 1, Idx::theta) + (1.0/4.0)*state_fab(i - 1, j, k - 1, Idx::theta))/(dx[0]*dx[2]);\n",
      "        amrex::Real dDDtheta_LL_11 = (state_fab(i, j + 1, k, Idx::theta) + state_fab(i, j - 1, k, Idx::theta) - 2*state_fab(i, j, k, Idx::theta))/std::pow(dx[1], 2);\n",
      "        amrex::Real dDDtheta_LL_12 = ((1.0/4.0)*state_fab(i, j + 1, k + 1, Idx::theta) - 1.0/4.0*state_fab(i, j + 1, k - 1, Idx::theta) - 1.0/4.0*state_fab(i, j - 1, k + 1, Idx::theta) + (1.0/4.0)*state_fab(i, j - 1, k - 1, Idx::theta))/(dx[1]*dx[2]);\n",
      "        amrex::Real dDDtheta_LL_22 = (state_fab(i, j, k + 1, Idx::theta) + state_fab(i, j, k - 1, Idx::theta) - 2*state_fab(i, j, k, Idx::theta))/std::pow(dx[2], 2);\n",
      "\n",
      "        amrex::Real dKODtheta = ((1.0/4.0)*state_fab(i, j, k + 1, Idx::theta) - 1.0/16.0*state_fab(i, j, k + 2, Idx::theta) + (1.0/4.0)*state_fab(i, j, k - 1, Idx::theta) - 1.0/16.0*state_fab(i, j, k - 2, Idx::theta) - 3.0/8.0*state_fab(i, j, k, Idx::theta))/dx[2] + ((1.0/4.0)*state_fab(i, j + 1, k, Idx::theta) - 1.0/16.0*state_fab(i, j + 2, k, Idx::theta) + (1.0/4.0)*state_fab(i, j - 1, k, Idx::theta) - 1.0/16.0*state_fab(i, j - 2, k, Idx::theta) - 3.0/8.0*state_fab(i, j, k, Idx::theta))/dx[1] + ((1.0/4.0)*state_fab(i + 1, j, k, Idx::theta) - 1.0/16.0*state_fab(i + 2, j, k, Idx::theta) + (1.0/4.0)*state_fab(i - 1, j, k, Idx::theta) - 1.0/16.0*state_fab(i - 2, j, k, Idx::theta) - 3.0/8.0*state_fab(i, j, k, Idx::theta))/dx[0];\n",
      "\n",
      "        amrex::Real AdvDbetatheta = beta_U_0*(ddnDtheta_L_0*(beta_U_0 < 0) + dupDtheta_L_0*(beta_U_0 > 0)) + beta_U_1*(ddnDtheta_L_1*(beta_U_1 < 0) + dupDtheta_L_1*(beta_U_1 > 0)) + beta_U_2*(ddnDtheta_L_2*(beta_U_2 < 0) + dupDtheta_L_2*(beta_U_2 > 0));\n",
      "\n",
      "        amrex::Real dDGamtilde_UL_00 = ((1.0/2.0)*state_fab(i + 1, j, k, Idx::Gamtilde_U_0) - 1.0/2.0*state_fab(i - 1, j, k, Idx::Gamtilde_U_0))/dx[0];\n",
      "        amrex::Real dDGamtilde_UL_01 = ((1.0/2.0)*state_fab(i, j + 1, k, Idx::Gamtilde_U_0) - 1.0/2.0*state_fab(i, j - 1, k, Idx::Gamtilde_U_0))/dx[1];\n",
      "        amrex::Real dDGamtilde_UL_02 = ((1.0/2.0)*state_fab(i, j, k + 1, Idx::Gamtilde_U_0) - 1.0/2.0*state_fab(i, j, k - 1, Idx::Gamtilde_U_0))/dx[2];\n",
      "        amrex::Real dDGamtilde_UL_10 = ((1.0/2.0)*state_fab(i + 1, j, k, Idx::Gamtilde_U_1) - 1.0/2.0*state_fab(i - 1, j, k, Idx::Gamtilde_U_1))/dx[0];\n",
      "        amrex::Real dDGamtilde_UL_11 = ((1.0/2.0)*state_fab(i, j + 1, k, Idx::Gamtilde_U_1) - 1.0/2.0*state_fab(i, j - 1, k, Idx::Gamtilde_U_1))/dx[1];\n",
      "        amrex::Real dDGamtilde_UL_12 = ((1.0/2.0)*state_fab(i, j, k + 1, Idx::Gamtilde_U_1) - 1.0/2.0*state_fab(i, j, k - 1, Idx::Gamtilde_U_1))/dx[2];\n",
      "        amrex::Real dDGamtilde_UL_20 = ((1.0/2.0)*state_fab(i + 1, j, k, Idx::Gamtilde_U_2) - 1.0/2.0*state_fab(i - 1, j, k, Idx::Gamtilde_U_2))/dx[0];\n",
      "        amrex::Real dDGamtilde_UL_21 = ((1.0/2.0)*state_fab(i, j + 1, k, Idx::Gamtilde_U_2) - 1.0/2.0*state_fab(i, j - 1, k, Idx::Gamtilde_U_2))/dx[1];\n",
      "        amrex::Real dDGamtilde_UL_22 = ((1.0/2.0)*state_fab(i, j, k + 1, Idx::Gamtilde_U_2) - 1.0/2.0*state_fab(i, j, k - 1, Idx::Gamtilde_U_2))/dx[2];\n",
      "\n",
      "        amrex::Real dupDGamtilde_UL_00 = (2*state_fab(i + 1, j, k, Idx::Gamtilde_U_0) - 1.0/2.0*state_fab(i + 2, j, k, Idx::Gamtilde_U_0) - 3.0/2.0*state_fab(i, j, k, Idx::Gamtilde_U_0))/dx[0];\n",
      "        amrex::Real dupDGamtilde_UL_01 = (2*state_fab(i, j + 1, k, Idx::Gamtilde_U_0) - 1.0/2.0*state_fab(i, j + 2, k, Idx::Gamtilde_U_0) - 3.0/2.0*state_fab(i, j, k, Idx::Gamtilde_U_0))/dx[1];\n",
      "        amrex::Real dupDGamtilde_UL_02 = (2*state_fab(i, j, k + 1, Idx::Gamtilde_U_0) - 1.0/2.0*state_fab(i, j, k + 2, Idx::Gamtilde_U_0) - 3.0/2.0*state_fab(i, j, k, Idx::Gamtilde_U_0))/dx[2];\n",
      "        amrex::Real dupDGamtilde_UL_10 = (2*state_fab(i + 1, j, k, Idx::Gamtilde_U_1) - 1.0/2.0*state_fab(i + 2, j, k, Idx::Gamtilde_U_1) - 3.0/2.0*state_fab(i, j, k, Idx::Gamtilde_U_1))/dx[0];\n",
      "        amrex::Real dupDGamtilde_UL_11 = (2*state_fab(i, j + 1, k, Idx::Gamtilde_U_1) - 1.0/2.0*state_fab(i, j + 2, k, Idx::Gamtilde_U_1) - 3.0/2.0*state_fab(i, j, k, Idx::Gamtilde_U_1))/dx[1];\n",
      "        amrex::Real dupDGamtilde_UL_12 = (2*state_fab(i, j, k + 1, Idx::Gamtilde_U_1) - 1.0/2.0*state_fab(i, j, k + 2, Idx::Gamtilde_U_1) - 3.0/2.0*state_fab(i, j, k, Idx::Gamtilde_U_1))/dx[2];\n",
      "        amrex::Real dupDGamtilde_UL_20 = (2*state_fab(i + 1, j, k, Idx::Gamtilde_U_2) - 1.0/2.0*state_fab(i + 2, j, k, Idx::Gamtilde_U_2) - 3.0/2.0*state_fab(i, j, k, Idx::Gamtilde_U_2))/dx[0];\n",
      "        amrex::Real dupDGamtilde_UL_21 = (2*state_fab(i, j + 1, k, Idx::Gamtilde_U_2) - 1.0/2.0*state_fab(i, j + 2, k, Idx::Gamtilde_U_2) - 3.0/2.0*state_fab(i, j, k, Idx::Gamtilde_U_2))/dx[1];\n",
      "        amrex::Real dupDGamtilde_UL_22 = (2*state_fab(i, j, k + 1, Idx::Gamtilde_U_2) - 1.0/2.0*state_fab(i, j, k + 2, Idx::Gamtilde_U_2) - 3.0/2.0*state_fab(i, j, k, Idx::Gamtilde_U_2))/dx[2];\n",
      "\n",
      "        amrex::Real ddnDGamtilde_UL_00 = (-2*state_fab(i - 1, j, k, Idx::Gamtilde_U_0) + (1.0/2.0)*state_fab(i - 2, j, k, Idx::Gamtilde_U_0) + (3.0/2.0)*state_fab(i, j, k, Idx::Gamtilde_U_0))/dx[0];\n",
      "        amrex::Real ddnDGamtilde_UL_01 = (-2*state_fab(i, j - 1, k, Idx::Gamtilde_U_0) + (1.0/2.0)*state_fab(i, j - 2, k, Idx::Gamtilde_U_0) + (3.0/2.0)*state_fab(i, j, k, Idx::Gamtilde_U_0))/dx[1];\n",
      "        amrex::Real ddnDGamtilde_UL_02 = (-2*state_fab(i, j, k - 1, Idx::Gamtilde_U_0) + (1.0/2.0)*state_fab(i, j, k - 2, Idx::Gamtilde_U_0) + (3.0/2.0)*state_fab(i, j, k, Idx::Gamtilde_U_0))/dx[2];\n",
      "        amrex::Real ddnDGamtilde_UL_10 = (-2*state_fab(i - 1, j, k, Idx::Gamtilde_U_1) + (1.0/2.0)*state_fab(i - 2, j, k, Idx::Gamtilde_U_1) + (3.0/2.0)*state_fab(i, j, k, Idx::Gamtilde_U_1))/dx[0];\n",
      "        amrex::Real ddnDGamtilde_UL_11 = (-2*state_fab(i, j - 1, k, Idx::Gamtilde_U_1) + (1.0/2.0)*state_fab(i, j - 2, k, Idx::Gamtilde_U_1) + (3.0/2.0)*state_fab(i, j, k, Idx::Gamtilde_U_1))/dx[1];\n",
      "        amrex::Real ddnDGamtilde_UL_12 = (-2*state_fab(i, j, k - 1, Idx::Gamtilde_U_1) + (1.0/2.0)*state_fab(i, j, k - 2, Idx::Gamtilde_U_1) + (3.0/2.0)*state_fab(i, j, k, Idx::Gamtilde_U_1))/dx[2];\n",
      "        amrex::Real ddnDGamtilde_UL_20 = (-2*state_fab(i - 1, j, k, Idx::Gamtilde_U_2) + (1.0/2.0)*state_fab(i - 2, j, k, Idx::Gamtilde_U_2) + (3.0/2.0)*state_fab(i, j, k, Idx::Gamtilde_U_2))/dx[0];\n",
      "        amrex::Real ddnDGamtilde_UL_21 = (-2*state_fab(i, j - 1, k, Idx::Gamtilde_U_2) + (1.0/2.0)*state_fab(i, j - 2, k, Idx::Gamtilde_U_2) + (3.0/2.0)*state_fab(i, j, k, Idx::Gamtilde_U_2))/dx[1];\n",
      "        amrex::Real ddnDGamtilde_UL_22 = (-2*state_fab(i, j, k - 1, Idx::Gamtilde_U_2) + (1.0/2.0)*state_fab(i, j, k - 2, Idx::Gamtilde_U_2) + (3.0/2.0)*state_fab(i, j, k, Idx::Gamtilde_U_2))/dx[2];\n",
      "\n",
      "        amrex::Real dDDGamtilde_ULL_000 = (state_fab(i + 1, j, k, Idx::Gamtilde_U_0) + state_fab(i - 1, j, k, Idx::Gamtilde_U_0) - 2*state_fab(i, j, k, Idx::Gamtilde_U_0))/std::pow(dx[0], 2);\n",
      "        amrex::Real dDDGamtilde_ULL_001 = ((1.0/4.0)*state_fab(i + 1, j + 1, k, Idx::Gamtilde_U_0) - 1.0/4.0*state_fab(i + 1, j - 1, k, Idx::Gamtilde_U_0) - 1.0/4.0*state_fab(i - 1, j + 1, k, Idx::Gamtilde_U_0) + (1.0/4.0)*state_fab(i - 1, j - 1, k, Idx::Gamtilde_U_0))/(dx[0]*dx[1]);\n",
      "        amrex::Real dDDGamtilde_ULL_002 = ((1.0/4.0)*state_fab(i + 1, j, k + 1, Idx::Gamtilde_U_0) - 1.0/4.0*state_fab(i + 1, j, k - 1, Idx::Gamtilde_U_0) - 1.0/4.0*state_fab(i - 1, j, k + 1, Idx::Gamtilde_U_0) + (1.0/4.0)*state_fab(i - 1, j, k - 1, Idx::Gamtilde_U_0))/(dx[0]*dx[2]);\n",
      "        amrex::Real dDDGamtilde_ULL_011 = (state_fab(i, j + 1, k, Idx::Gamtilde_U_0) + state_fab(i, j - 1, k, Idx::Gamtilde_U_0) - 2*state_fab(i, j, k, Idx::Gamtilde_U_0))/std::pow(dx[1], 2);\n",
      "        amrex::Real dDDGamtilde_ULL_012 = ((1.0/4.0)*state_fab(i, j + 1, k + 1, Idx::Gamtilde_U_0) - 1.0/4.0*state_fab(i, j + 1, k - 1, Idx::Gamtilde_U_0) - 1.0/4.0*state_fab(i, j - 1, k + 1, Idx::Gamtilde_U_0) + (1.0/4.0)*state_fab(i, j - 1, k - 1, Idx::Gamtilde_U_0))/(dx[1]*dx[2]);\n",
      "        amrex::Real dDDGamtilde_ULL_022 = (state_fab(i, j, k + 1, Idx::Gamtilde_U_0) + state_fab(i, j, k - 1, Idx::Gamtilde_U_0) - 2*state_fab(i, j, k, Idx::Gamtilde_U_0))/std::pow(dx[2], 2);\n",
      "        amrex::Real dDDGamtilde_ULL_100 = (state_fab(i + 1, j, k, Idx::Gamtilde_U_1) + state_fab(i - 1, j, k, Idx::Gamtilde_U_1) - 2*state_fab(i, j, k, Idx::Gamtilde_U_1))/std::pow(dx[0], 2);\n",
      "        amrex::Real dDDGamtilde_ULL_101 = ((1.0/4.0)*state_fab(i + 1, j + 1, k, Idx::Gamtilde_U_1) - 1.0/4.0*state_fab(i + 1, j - 1, k, Idx::Gamtilde_U_1) - 1.0/4.0*state_fab(i - 1, j + 1, k, Idx::Gamtilde_U_1) + (1.0/4.0)*state_fab(i - 1, j - 1, k, Idx::Gamtilde_U_1))/(dx[0]*dx[1]);\n",
      "        amrex::Real dDDGamtilde_ULL_102 = ((1.0/4.0)*state_fab(i + 1, j, k + 1, Idx::Gamtilde_U_1) - 1.0/4.0*state_fab(i + 1, j, k - 1, Idx::Gamtilde_U_1) - 1.0/4.0*state_fab(i - 1, j, k + 1, Idx::Gamtilde_U_1) + (1.0/4.0)*state_fab(i - 1, j, k - 1, Idx::Gamtilde_U_1))/(dx[0]*dx[2]);\n",
      "        amrex::Real dDDGamtilde_ULL_111 = (state_fab(i, j + 1, k, Idx::Gamtilde_U_1) + state_fab(i, j - 1, k, Idx::Gamtilde_U_1) - 2*state_fab(i, j, k, Idx::Gamtilde_U_1))/std::pow(dx[1], 2);\n",
      "        amrex::Real dDDGamtilde_ULL_112 = ((1.0/4.0)*state_fab(i, j + 1, k + 1, Idx::Gamtilde_U_1) - 1.0/4.0*state_fab(i, j + 1, k - 1, Idx::Gamtilde_U_1) - 1.0/4.0*state_fab(i, j - 1, k + 1, Idx::Gamtilde_U_1) + (1.0/4.0)*state_fab(i, j - 1, k - 1, Idx::Gamtilde_U_1))/(dx[1]*dx[2]);\n",
      "        amrex::Real dDDGamtilde_ULL_122 = (state_fab(i, j, k + 1, Idx::Gamtilde_U_1) + state_fab(i, j, k - 1, Idx::Gamtilde_U_1) - 2*state_fab(i, j, k, Idx::Gamtilde_U_1))/std::pow(dx[2], 2);\n",
      "        amrex::Real dDDGamtilde_ULL_200 = (state_fab(i + 1, j, k, Idx::Gamtilde_U_2) + state_fab(i - 1, j, k, Idx::Gamtilde_U_2) - 2*state_fab(i, j, k, Idx::Gamtilde_U_2))/std::pow(dx[0], 2);\n",
      "        amrex::Real dDDGamtilde_ULL_201 = ((1.0/4.0)*state_fab(i + 1, j + 1, k, Idx::Gamtilde_U_2) - 1.0/4.0*state_fab(i + 1, j - 1, k, Idx::Gamtilde_U_2) - 1.0/4.0*state_fab(i - 1, j + 1, k, Idx::Gamtilde_U_2) + (1.0/4.0)*state_fab(i - 1, j - 1, k, Idx::Gamtilde_U_2))/(dx[0]*dx[1]);\n",
      "        amrex::Real dDDGamtilde_ULL_202 = ((1.0/4.0)*state_fab(i + 1, j, k + 1, Idx::Gamtilde_U_2) - 1.0/4.0*state_fab(i + 1, j, k - 1, Idx::Gamtilde_U_2) - 1.0/4.0*state_fab(i - 1, j, k + 1, Idx::Gamtilde_U_2) + (1.0/4.0)*state_fab(i - 1, j, k - 1, Idx::Gamtilde_U_2))/(dx[0]*dx[2]);\n",
      "        amrex::Real dDDGamtilde_ULL_211 = (state_fab(i, j + 1, k, Idx::Gamtilde_U_2) + state_fab(i, j - 1, k, Idx::Gamtilde_U_2) - 2*state_fab(i, j, k, Idx::Gamtilde_U_2))/std::pow(dx[1], 2);\n",
      "        amrex::Real dDDGamtilde_ULL_212 = ((1.0/4.0)*state_fab(i, j + 1, k + 1, Idx::Gamtilde_U_2) - 1.0/4.0*state_fab(i, j + 1, k - 1, Idx::Gamtilde_U_2) - 1.0/4.0*state_fab(i, j - 1, k + 1, Idx::Gamtilde_U_2) + (1.0/4.0)*state_fab(i, j - 1, k - 1, Idx::Gamtilde_U_2))/(dx[1]*dx[2]);\n",
      "        amrex::Real dDDGamtilde_ULL_222 = (state_fab(i, j, k + 1, Idx::Gamtilde_U_2) + state_fab(i, j, k - 1, Idx::Gamtilde_U_2) - 2*state_fab(i, j, k, Idx::Gamtilde_U_2))/std::pow(dx[2], 2);\n",
      "\n",
      "        amrex::Real dKODGamtilde_U_0 = ((1.0/4.0)*state_fab(i, j, k + 1, Idx::Gamtilde_U_0) - 1.0/16.0*state_fab(i, j, k + 2, Idx::Gamtilde_U_0) + (1.0/4.0)*state_fab(i, j, k - 1, Idx::Gamtilde_U_0) - 1.0/16.0*state_fab(i, j, k - 2, Idx::Gamtilde_U_0) - 3.0/8.0*state_fab(i, j, k, Idx::Gamtilde_U_0))/dx[2] + ((1.0/4.0)*state_fab(i, j + 1, k, Idx::Gamtilde_U_0) - 1.0/16.0*state_fab(i, j + 2, k, Idx::Gamtilde_U_0) + (1.0/4.0)*state_fab(i, j - 1, k, Idx::Gamtilde_U_0) - 1.0/16.0*state_fab(i, j - 2, k, Idx::Gamtilde_U_0) - 3.0/8.0*state_fab(i, j, k, Idx::Gamtilde_U_0))/dx[1] + ((1.0/4.0)*state_fab(i + 1, j, k, Idx::Gamtilde_U_0) - 1.0/16.0*state_fab(i + 2, j, k, Idx::Gamtilde_U_0) + (1.0/4.0)*state_fab(i - 1, j, k, Idx::Gamtilde_U_0) - 1.0/16.0*state_fab(i - 2, j, k, Idx::Gamtilde_U_0) - 3.0/8.0*state_fab(i, j, k, Idx::Gamtilde_U_0))/dx[0];\n",
      "        amrex::Real dKODGamtilde_U_1 = ((1.0/4.0)*state_fab(i, j, k + 1, Idx::Gamtilde_U_1) - 1.0/16.0*state_fab(i, j, k + 2, Idx::Gamtilde_U_1) + (1.0/4.0)*state_fab(i, j, k - 1, Idx::Gamtilde_U_1) - 1.0/16.0*state_fab(i, j, k - 2, Idx::Gamtilde_U_1) - 3.0/8.0*state_fab(i, j, k, Idx::Gamtilde_U_1))/dx[2] + ((1.0/4.0)*state_fab(i, j + 1, k, Idx::Gamtilde_U_1) - 1.0/16.0*state_fab(i, j + 2, k, Idx::Gamtilde_U_1) + (1.0/4.0)*state_fab(i, j - 1, k, Idx::Gamtilde_U_1) - 1.0/16.0*state_fab(i, j - 2, k, Idx::Gamtilde_U_1) - 3.0/8.0*state_fab(i, j, k, Idx::Gamtilde_U_1))/dx[1] + ((1.0/4.0)*state_fab(i + 1, j, k, Idx::Gamtilde_U_1) - 1.0/16.0*state_fab(i + 2, j, k, Idx::Gamtilde_U_1) + (1.0/4.0)*state_fab(i - 1, j, k, Idx::Gamtilde_U_1) - 1.0/16.0*state_fab(i - 2, j, k, Idx::Gamtilde_U_1) - 3.0/8.0*state_fab(i, j, k, Idx::Gamtilde_U_1))/dx[0];\n",
      "        amrex::Real dKODGamtilde_U_2 = ((1.0/4.0)*state_fab(i, j, k + 1, Idx::Gamtilde_U_2) - 1.0/16.0*state_fab(i, j, k + 2, Idx::Gamtilde_U_2) + (1.0/4.0)*state_fab(i, j, k - 1, Idx::Gamtilde_U_2) - 1.0/16.0*state_fab(i, j, k - 2, Idx::Gamtilde_U_2) - 3.0/8.0*state_fab(i, j, k, Idx::Gamtilde_U_2))/dx[2] + ((1.0/4.0)*state_fab(i, j + 1, k, Idx::Gamtilde_U_2) - 1.0/16.0*state_fab(i, j + 2, k, Idx::Gamtilde_U_2) + (1.0/4.0)*state_fab(i, j - 1, k, Idx::Gamtilde_U_2) - 1.0/16.0*state_fab(i, j - 2, k, Idx::Gamtilde_U_2) - 3.0/8.0*state_fab(i, j, k, Idx::Gamtilde_U_2))/dx[1] + ((1.0/4.0)*state_fab(i + 1, j, k, Idx::Gamtilde_U_2) - 1.0/16.0*state_fab(i + 2, j, k, Idx::Gamtilde_U_2) + (1.0/4.0)*state_fab(i - 1, j, k, Idx::Gamtilde_U_2) - 1.0/16.0*state_fab(i - 2, j, k, Idx::Gamtilde_U_2) - 3.0/8.0*state_fab(i, j, k, Idx::Gamtilde_U_2))/dx[0];\n",
      "\n",
      "        amrex::Real AdvDbetaGamtilde_U_0 = beta_U_0*(ddnDGamtilde_UL_00*(beta_U_0 < 0) + dupDGamtilde_UL_00*(beta_U_0 > 0)) + beta_U_1*(ddnDGamtilde_UL_01*(beta_U_1 < 0) + dupDGamtilde_UL_01*(beta_U_1 > 0)) + beta_U_2*(ddnDGamtilde_UL_02*(beta_U_2 < 0) + dupDGamtilde_UL_02*(beta_U_2 > 0));\n",
      "        amrex::Real AdvDbetaGamtilde_U_1 = beta_U_0*(ddnDGamtilde_UL_10*(beta_U_0 < 0) + dupDGamtilde_UL_10*(beta_U_0 > 0)) + beta_U_1*(ddnDGamtilde_UL_11*(beta_U_1 < 0) + dupDGamtilde_UL_11*(beta_U_1 > 0)) + beta_U_2*(ddnDGamtilde_UL_12*(beta_U_2 < 0) + dupDGamtilde_UL_12*(beta_U_2 > 0));\n",
      "        amrex::Real AdvDbetaGamtilde_U_2 = beta_U_0*(ddnDGamtilde_UL_20*(beta_U_0 < 0) + dupDGamtilde_UL_20*(beta_U_0 > 0)) + beta_U_1*(ddnDGamtilde_UL_21*(beta_U_1 < 0) + dupDGamtilde_UL_21*(beta_U_1 > 0)) + beta_U_2*(ddnDGamtilde_UL_22*(beta_U_2 < 0) + dupDGamtilde_UL_22*(beta_U_2 > 0));\n",
      "\n",
      "        amrex::Real dDalpha_L_0 = ((1.0/2.0)*state_fab(i + 1, j, k, Idx::alpha) - 1.0/2.0*state_fab(i - 1, j, k, Idx::alpha))/dx[0];\n",
      "        amrex::Real dDalpha_L_1 = ((1.0/2.0)*state_fab(i, j + 1, k, Idx::alpha) - 1.0/2.0*state_fab(i, j - 1, k, Idx::alpha))/dx[1];\n",
      "        amrex::Real dDalpha_L_2 = ((1.0/2.0)*state_fab(i, j, k + 1, Idx::alpha) - 1.0/2.0*state_fab(i, j, k - 1, Idx::alpha))/dx[2];\n",
      "\n",
      "        amrex::Real dupDalpha_L_0 = (2*state_fab(i + 1, j, k, Idx::alpha) - 1.0/2.0*state_fab(i + 2, j, k, Idx::alpha) - 3.0/2.0*state_fab(i, j, k, Idx::alpha))/dx[0];\n",
      "        amrex::Real dupDalpha_L_1 = (2*state_fab(i, j + 1, k, Idx::alpha) - 1.0/2.0*state_fab(i, j + 2, k, Idx::alpha) - 3.0/2.0*state_fab(i, j, k, Idx::alpha))/dx[1];\n",
      "        amrex::Real dupDalpha_L_2 = (2*state_fab(i, j, k + 1, Idx::alpha) - 1.0/2.0*state_fab(i, j, k + 2, Idx::alpha) - 3.0/2.0*state_fab(i, j, k, Idx::alpha))/dx[2];\n",
      "\n",
      "        amrex::Real ddnDalpha_L_0 = (-2*state_fab(i - 1, j, k, Idx::alpha) + (1.0/2.0)*state_fab(i - 2, j, k, Idx::alpha) + (3.0/2.0)*state_fab(i, j, k, Idx::alpha))/dx[0];\n",
      "        amrex::Real ddnDalpha_L_1 = (-2*state_fab(i, j - 1, k, Idx::alpha) + (1.0/2.0)*state_fab(i, j - 2, k, Idx::alpha) + (3.0/2.0)*state_fab(i, j, k, Idx::alpha))/dx[1];\n",
      "        amrex::Real ddnDalpha_L_2 = (-2*state_fab(i, j, k - 1, Idx::alpha) + (1.0/2.0)*state_fab(i, j, k - 2, Idx::alpha) + (3.0/2.0)*state_fab(i, j, k, Idx::alpha))/dx[2];\n",
      "\n",
      "        amrex::Real dDDalpha_LL_00 = (state_fab(i + 1, j, k, Idx::alpha) + state_fab(i - 1, j, k, Idx::alpha) - 2*state_fab(i, j, k, Idx::alpha))/std::pow(dx[0], 2);\n",
      "        amrex::Real dDDalpha_LL_01 = ((1.0/4.0)*state_fab(i + 1, j + 1, k, Idx::alpha) - 1.0/4.0*state_fab(i + 1, j - 1, k, Idx::alpha) - 1.0/4.0*state_fab(i - 1, j + 1, k, Idx::alpha) + (1.0/4.0)*state_fab(i - 1, j - 1, k, Idx::alpha))/(dx[0]*dx[1]);\n",
      "        amrex::Real dDDalpha_LL_02 = ((1.0/4.0)*state_fab(i + 1, j, k + 1, Idx::alpha) - 1.0/4.0*state_fab(i + 1, j, k - 1, Idx::alpha) - 1.0/4.0*state_fab(i - 1, j, k + 1, Idx::alpha) + (1.0/4.0)*state_fab(i - 1, j, k - 1, Idx::alpha))/(dx[0]*dx[2]);\n",
      "        amrex::Real dDDalpha_LL_11 = (state_fab(i, j + 1, k, Idx::alpha) + state_fab(i, j - 1, k, Idx::alpha) - 2*state_fab(i, j, k, Idx::alpha))/std::pow(dx[1], 2);\n",
      "        amrex::Real dDDalpha_LL_12 = ((1.0/4.0)*state_fab(i, j + 1, k + 1, Idx::alpha) - 1.0/4.0*state_fab(i, j + 1, k - 1, Idx::alpha) - 1.0/4.0*state_fab(i, j - 1, k + 1, Idx::alpha) + (1.0/4.0)*state_fab(i, j - 1, k - 1, Idx::alpha))/(dx[1]*dx[2]);\n",
      "        amrex::Real dDDalpha_LL_22 = (state_fab(i, j, k + 1, Idx::alpha) + state_fab(i, j, k - 1, Idx::alpha) - 2*state_fab(i, j, k, Idx::alpha))/std::pow(dx[2], 2);\n",
      "\n",
      "        amrex::Real dKODalpha = ((1.0/4.0)*state_fab(i, j, k + 1, Idx::alpha) - 1.0/16.0*state_fab(i, j, k + 2, Idx::alpha) + (1.0/4.0)*state_fab(i, j, k - 1, Idx::alpha) - 1.0/16.0*state_fab(i, j, k - 2, Idx::alpha) - 3.0/8.0*state_fab(i, j, k, Idx::alpha))/dx[2] + ((1.0/4.0)*state_fab(i, j + 1, k, Idx::alpha) - 1.0/16.0*state_fab(i, j + 2, k, Idx::alpha) + (1.0/4.0)*state_fab(i, j - 1, k, Idx::alpha) - 1.0/16.0*state_fab(i, j - 2, k, Idx::alpha) - 3.0/8.0*state_fab(i, j, k, Idx::alpha))/dx[1] + ((1.0/4.0)*state_fab(i + 1, j, k, Idx::alpha) - 1.0/16.0*state_fab(i + 2, j, k, Idx::alpha) + (1.0/4.0)*state_fab(i - 1, j, k, Idx::alpha) - 1.0/16.0*state_fab(i - 2, j, k, Idx::alpha) - 3.0/8.0*state_fab(i, j, k, Idx::alpha))/dx[0];\n",
      "\n",
      "        amrex::Real AdvDbetaalpha = beta_U_0*(ddnDalpha_L_0*(beta_U_0 < 0) + dupDalpha_L_0*(beta_U_0 > 0)) + beta_U_1*(ddnDalpha_L_1*(beta_U_1 < 0) + dupDalpha_L_1*(beta_U_1 > 0)) + beta_U_2*(ddnDalpha_L_2*(beta_U_2 < 0) + dupDalpha_L_2*(beta_U_2 > 0));\n",
      "\n",
      "        amrex::Real dDbeta_UL_00 = ((1.0/2.0)*state_fab(i + 1, j, k, Idx::beta_U_0) - 1.0/2.0*state_fab(i - 1, j, k, Idx::beta_U_0))/dx[0];\n",
      "        amrex::Real dDbeta_UL_01 = ((1.0/2.0)*state_fab(i, j + 1, k, Idx::beta_U_0) - 1.0/2.0*state_fab(i, j - 1, k, Idx::beta_U_0))/dx[1];\n",
      "        amrex::Real dDbeta_UL_02 = ((1.0/2.0)*state_fab(i, j, k + 1, Idx::beta_U_0) - 1.0/2.0*state_fab(i, j, k - 1, Idx::beta_U_0))/dx[2];\n",
      "        amrex::Real dDbeta_UL_10 = ((1.0/2.0)*state_fab(i + 1, j, k, Idx::beta_U_1) - 1.0/2.0*state_fab(i - 1, j, k, Idx::beta_U_1))/dx[0];\n",
      "        amrex::Real dDbeta_UL_11 = ((1.0/2.0)*state_fab(i, j + 1, k, Idx::beta_U_1) - 1.0/2.0*state_fab(i, j - 1, k, Idx::beta_U_1))/dx[1];\n",
      "        amrex::Real dDbeta_UL_12 = ((1.0/2.0)*state_fab(i, j, k + 1, Idx::beta_U_1) - 1.0/2.0*state_fab(i, j, k - 1, Idx::beta_U_1))/dx[2];\n",
      "        amrex::Real dDbeta_UL_20 = ((1.0/2.0)*state_fab(i + 1, j, k, Idx::beta_U_2) - 1.0/2.0*state_fab(i - 1, j, k, Idx::beta_U_2))/dx[0];\n",
      "        amrex::Real dDbeta_UL_21 = ((1.0/2.0)*state_fab(i, j + 1, k, Idx::beta_U_2) - 1.0/2.0*state_fab(i, j - 1, k, Idx::beta_U_2))/dx[1];\n",
      "        amrex::Real dDbeta_UL_22 = ((1.0/2.0)*state_fab(i, j, k + 1, Idx::beta_U_2) - 1.0/2.0*state_fab(i, j, k - 1, Idx::beta_U_2))/dx[2];\n",
      "\n",
      "        amrex::Real dupDbeta_UL_00 = (2*state_fab(i + 1, j, k, Idx::beta_U_0) - 1.0/2.0*state_fab(i + 2, j, k, Idx::beta_U_0) - 3.0/2.0*state_fab(i, j, k, Idx::beta_U_0))/dx[0];\n",
      "        amrex::Real dupDbeta_UL_01 = (2*state_fab(i, j + 1, k, Idx::beta_U_0) - 1.0/2.0*state_fab(i, j + 2, k, Idx::beta_U_0) - 3.0/2.0*state_fab(i, j, k, Idx::beta_U_0))/dx[1];\n",
      "        amrex::Real dupDbeta_UL_02 = (2*state_fab(i, j, k + 1, Idx::beta_U_0) - 1.0/2.0*state_fab(i, j, k + 2, Idx::beta_U_0) - 3.0/2.0*state_fab(i, j, k, Idx::beta_U_0))/dx[2];\n",
      "        amrex::Real dupDbeta_UL_10 = (2*state_fab(i + 1, j, k, Idx::beta_U_1) - 1.0/2.0*state_fab(i + 2, j, k, Idx::beta_U_1) - 3.0/2.0*state_fab(i, j, k, Idx::beta_U_1))/dx[0];\n",
      "        amrex::Real dupDbeta_UL_11 = (2*state_fab(i, j + 1, k, Idx::beta_U_1) - 1.0/2.0*state_fab(i, j + 2, k, Idx::beta_U_1) - 3.0/2.0*state_fab(i, j, k, Idx::beta_U_1))/dx[1];\n",
      "        amrex::Real dupDbeta_UL_12 = (2*state_fab(i, j, k + 1, Idx::beta_U_1) - 1.0/2.0*state_fab(i, j, k + 2, Idx::beta_U_1) - 3.0/2.0*state_fab(i, j, k, Idx::beta_U_1))/dx[2];\n",
      "        amrex::Real dupDbeta_UL_20 = (2*state_fab(i + 1, j, k, Idx::beta_U_2) - 1.0/2.0*state_fab(i + 2, j, k, Idx::beta_U_2) - 3.0/2.0*state_fab(i, j, k, Idx::beta_U_2))/dx[0];\n",
      "        amrex::Real dupDbeta_UL_21 = (2*state_fab(i, j + 1, k, Idx::beta_U_2) - 1.0/2.0*state_fab(i, j + 2, k, Idx::beta_U_2) - 3.0/2.0*state_fab(i, j, k, Idx::beta_U_2))/dx[1];\n",
      "        amrex::Real dupDbeta_UL_22 = (2*state_fab(i, j, k + 1, Idx::beta_U_2) - 1.0/2.0*state_fab(i, j, k + 2, Idx::beta_U_2) - 3.0/2.0*state_fab(i, j, k, Idx::beta_U_2))/dx[2];\n",
      "\n",
      "        amrex::Real ddnDbeta_UL_00 = (-2*state_fab(i - 1, j, k, Idx::beta_U_0) + (1.0/2.0)*state_fab(i - 2, j, k, Idx::beta_U_0) + (3.0/2.0)*state_fab(i, j, k, Idx::beta_U_0))/dx[0];\n",
      "        amrex::Real ddnDbeta_UL_01 = (-2*state_fab(i, j - 1, k, Idx::beta_U_0) + (1.0/2.0)*state_fab(i, j - 2, k, Idx::beta_U_0) + (3.0/2.0)*state_fab(i, j, k, Idx::beta_U_0))/dx[1];\n",
      "        amrex::Real ddnDbeta_UL_02 = (-2*state_fab(i, j, k - 1, Idx::beta_U_0) + (1.0/2.0)*state_fab(i, j, k - 2, Idx::beta_U_0) + (3.0/2.0)*state_fab(i, j, k, Idx::beta_U_0))/dx[2];\n",
      "        amrex::Real ddnDbeta_UL_10 = (-2*state_fab(i - 1, j, k, Idx::beta_U_1) + (1.0/2.0)*state_fab(i - 2, j, k, Idx::beta_U_1) + (3.0/2.0)*state_fab(i, j, k, Idx::beta_U_1))/dx[0];\n",
      "        amrex::Real ddnDbeta_UL_11 = (-2*state_fab(i, j - 1, k, Idx::beta_U_1) + (1.0/2.0)*state_fab(i, j - 2, k, Idx::beta_U_1) + (3.0/2.0)*state_fab(i, j, k, Idx::beta_U_1))/dx[1];\n",
      "        amrex::Real ddnDbeta_UL_12 = (-2*state_fab(i, j, k - 1, Idx::beta_U_1) + (1.0/2.0)*state_fab(i, j, k - 2, Idx::beta_U_1) + (3.0/2.0)*state_fab(i, j, k, Idx::beta_U_1))/dx[2];\n",
      "        amrex::Real ddnDbeta_UL_20 = (-2*state_fab(i - 1, j, k, Idx::beta_U_2) + (1.0/2.0)*state_fab(i - 2, j, k, Idx::beta_U_2) + (3.0/2.0)*state_fab(i, j, k, Idx::beta_U_2))/dx[0];\n",
      "        amrex::Real ddnDbeta_UL_21 = (-2*state_fab(i, j - 1, k, Idx::beta_U_2) + (1.0/2.0)*state_fab(i, j - 2, k, Idx::beta_U_2) + (3.0/2.0)*state_fab(i, j, k, Idx::beta_U_2))/dx[1];\n",
      "        amrex::Real ddnDbeta_UL_22 = (-2*state_fab(i, j, k - 1, Idx::beta_U_2) + (1.0/2.0)*state_fab(i, j, k - 2, Idx::beta_U_2) + (3.0/2.0)*state_fab(i, j, k, Idx::beta_U_2))/dx[2];\n",
      "\n",
      "        amrex::Real dDDbeta_ULL_000 = (state_fab(i + 1, j, k, Idx::beta_U_0) + state_fab(i - 1, j, k, Idx::beta_U_0) - 2*state_fab(i, j, k, Idx::beta_U_0))/std::pow(dx[0], 2);\n",
      "        amrex::Real dDDbeta_ULL_001 = ((1.0/4.0)*state_fab(i + 1, j + 1, k, Idx::beta_U_0) - 1.0/4.0*state_fab(i + 1, j - 1, k, Idx::beta_U_0) - 1.0/4.0*state_fab(i - 1, j + 1, k, Idx::beta_U_0) + (1.0/4.0)*state_fab(i - 1, j - 1, k, Idx::beta_U_0))/(dx[0]*dx[1]);\n",
      "        amrex::Real dDDbeta_ULL_002 = ((1.0/4.0)*state_fab(i + 1, j, k + 1, Idx::beta_U_0) - 1.0/4.0*state_fab(i + 1, j, k - 1, Idx::beta_U_0) - 1.0/4.0*state_fab(i - 1, j, k + 1, Idx::beta_U_0) + (1.0/4.0)*state_fab(i - 1, j, k - 1, Idx::beta_U_0))/(dx[0]*dx[2]);\n",
      "        amrex::Real dDDbeta_ULL_011 = (state_fab(i, j + 1, k, Idx::beta_U_0) + state_fab(i, j - 1, k, Idx::beta_U_0) - 2*state_fab(i, j, k, Idx::beta_U_0))/std::pow(dx[1], 2);\n",
      "        amrex::Real dDDbeta_ULL_012 = ((1.0/4.0)*state_fab(i, j + 1, k + 1, Idx::beta_U_0) - 1.0/4.0*state_fab(i, j + 1, k - 1, Idx::beta_U_0) - 1.0/4.0*state_fab(i, j - 1, k + 1, Idx::beta_U_0) + (1.0/4.0)*state_fab(i, j - 1, k - 1, Idx::beta_U_0))/(dx[1]*dx[2]);\n",
      "        amrex::Real dDDbeta_ULL_022 = (state_fab(i, j, k + 1, Idx::beta_U_0) + state_fab(i, j, k - 1, Idx::beta_U_0) - 2*state_fab(i, j, k, Idx::beta_U_0))/std::pow(dx[2], 2);\n",
      "        amrex::Real dDDbeta_ULL_100 = (state_fab(i + 1, j, k, Idx::beta_U_1) + state_fab(i - 1, j, k, Idx::beta_U_1) - 2*state_fab(i, j, k, Idx::beta_U_1))/std::pow(dx[0], 2);\n",
      "        amrex::Real dDDbeta_ULL_101 = ((1.0/4.0)*state_fab(i + 1, j + 1, k, Idx::beta_U_1) - 1.0/4.0*state_fab(i + 1, j - 1, k, Idx::beta_U_1) - 1.0/4.0*state_fab(i - 1, j + 1, k, Idx::beta_U_1) + (1.0/4.0)*state_fab(i - 1, j - 1, k, Idx::beta_U_1))/(dx[0]*dx[1]);\n",
      "        amrex::Real dDDbeta_ULL_102 = ((1.0/4.0)*state_fab(i + 1, j, k + 1, Idx::beta_U_1) - 1.0/4.0*state_fab(i + 1, j, k - 1, Idx::beta_U_1) - 1.0/4.0*state_fab(i - 1, j, k + 1, Idx::beta_U_1) + (1.0/4.0)*state_fab(i - 1, j, k - 1, Idx::beta_U_1))/(dx[0]*dx[2]);\n",
      "        amrex::Real dDDbeta_ULL_111 = (state_fab(i, j + 1, k, Idx::beta_U_1) + state_fab(i, j - 1, k, Idx::beta_U_1) - 2*state_fab(i, j, k, Idx::beta_U_1))/std::pow(dx[1], 2);\n",
      "        amrex::Real dDDbeta_ULL_112 = ((1.0/4.0)*state_fab(i, j + 1, k + 1, Idx::beta_U_1) - 1.0/4.0*state_fab(i, j + 1, k - 1, Idx::beta_U_1) - 1.0/4.0*state_fab(i, j - 1, k + 1, Idx::beta_U_1) + (1.0/4.0)*state_fab(i, j - 1, k - 1, Idx::beta_U_1))/(dx[1]*dx[2]);\n",
      "        amrex::Real dDDbeta_ULL_122 = (state_fab(i, j, k + 1, Idx::beta_U_1) + state_fab(i, j, k - 1, Idx::beta_U_1) - 2*state_fab(i, j, k, Idx::beta_U_1))/std::pow(dx[2], 2);\n",
      "        amrex::Real dDDbeta_ULL_200 = (state_fab(i + 1, j, k, Idx::beta_U_2) + state_fab(i - 1, j, k, Idx::beta_U_2) - 2*state_fab(i, j, k, Idx::beta_U_2))/std::pow(dx[0], 2);\n",
      "        amrex::Real dDDbeta_ULL_201 = ((1.0/4.0)*state_fab(i + 1, j + 1, k, Idx::beta_U_2) - 1.0/4.0*state_fab(i + 1, j - 1, k, Idx::beta_U_2) - 1.0/4.0*state_fab(i - 1, j + 1, k, Idx::beta_U_2) + (1.0/4.0)*state_fab(i - 1, j - 1, k, Idx::beta_U_2))/(dx[0]*dx[1]);\n",
      "        amrex::Real dDDbeta_ULL_202 = ((1.0/4.0)*state_fab(i + 1, j, k + 1, Idx::beta_U_2) - 1.0/4.0*state_fab(i + 1, j, k - 1, Idx::beta_U_2) - 1.0/4.0*state_fab(i - 1, j, k + 1, Idx::beta_U_2) + (1.0/4.0)*state_fab(i - 1, j, k - 1, Idx::beta_U_2))/(dx[0]*dx[2]);\n",
      "        amrex::Real dDDbeta_ULL_211 = (state_fab(i, j + 1, k, Idx::beta_U_2) + state_fab(i, j - 1, k, Idx::beta_U_2) - 2*state_fab(i, j, k, Idx::beta_U_2))/std::pow(dx[1], 2);\n",
      "        amrex::Real dDDbeta_ULL_212 = ((1.0/4.0)*state_fab(i, j + 1, k + 1, Idx::beta_U_2) - 1.0/4.0*state_fab(i, j + 1, k - 1, Idx::beta_U_2) - 1.0/4.0*state_fab(i, j - 1, k + 1, Idx::beta_U_2) + (1.0/4.0)*state_fab(i, j - 1, k - 1, Idx::beta_U_2))/(dx[1]*dx[2]);\n",
      "        amrex::Real dDDbeta_ULL_222 = (state_fab(i, j, k + 1, Idx::beta_U_2) + state_fab(i, j, k - 1, Idx::beta_U_2) - 2*state_fab(i, j, k, Idx::beta_U_2))/std::pow(dx[2], 2);\n",
      "\n",
      "        amrex::Real dKODbeta_U_0 = ((1.0/4.0)*state_fab(i, j, k + 1, Idx::beta_U_0) - 1.0/16.0*state_fab(i, j, k + 2, Idx::beta_U_0) + (1.0/4.0)*state_fab(i, j, k - 1, Idx::beta_U_0) - 1.0/16.0*state_fab(i, j, k - 2, Idx::beta_U_0) - 3.0/8.0*state_fab(i, j, k, Idx::beta_U_0))/dx[2] + ((1.0/4.0)*state_fab(i, j + 1, k, Idx::beta_U_0) - 1.0/16.0*state_fab(i, j + 2, k, Idx::beta_U_0) + (1.0/4.0)*state_fab(i, j - 1, k, Idx::beta_U_0) - 1.0/16.0*state_fab(i, j - 2, k, Idx::beta_U_0) - 3.0/8.0*state_fab(i, j, k, Idx::beta_U_0))/dx[1] + ((1.0/4.0)*state_fab(i + 1, j, k, Idx::beta_U_0) - 1.0/16.0*state_fab(i + 2, j, k, Idx::beta_U_0) + (1.0/4.0)*state_fab(i - 1, j, k, Idx::beta_U_0) - 1.0/16.0*state_fab(i - 2, j, k, Idx::beta_U_0) - 3.0/8.0*state_fab(i, j, k, Idx::beta_U_0))/dx[0];\n",
      "        amrex::Real dKODbeta_U_1 = ((1.0/4.0)*state_fab(i, j, k + 1, Idx::beta_U_1) - 1.0/16.0*state_fab(i, j, k + 2, Idx::beta_U_1) + (1.0/4.0)*state_fab(i, j, k - 1, Idx::beta_U_1) - 1.0/16.0*state_fab(i, j, k - 2, Idx::beta_U_1) - 3.0/8.0*state_fab(i, j, k, Idx::beta_U_1))/dx[2] + ((1.0/4.0)*state_fab(i, j + 1, k, Idx::beta_U_1) - 1.0/16.0*state_fab(i, j + 2, k, Idx::beta_U_1) + (1.0/4.0)*state_fab(i, j - 1, k, Idx::beta_U_1) - 1.0/16.0*state_fab(i, j - 2, k, Idx::beta_U_1) - 3.0/8.0*state_fab(i, j, k, Idx::beta_U_1))/dx[1] + ((1.0/4.0)*state_fab(i + 1, j, k, Idx::beta_U_1) - 1.0/16.0*state_fab(i + 2, j, k, Idx::beta_U_1) + (1.0/4.0)*state_fab(i - 1, j, k, Idx::beta_U_1) - 1.0/16.0*state_fab(i - 2, j, k, Idx::beta_U_1) - 3.0/8.0*state_fab(i, j, k, Idx::beta_U_1))/dx[0];\n",
      "        amrex::Real dKODbeta_U_2 = ((1.0/4.0)*state_fab(i, j, k + 1, Idx::beta_U_2) - 1.0/16.0*state_fab(i, j, k + 2, Idx::beta_U_2) + (1.0/4.0)*state_fab(i, j, k - 1, Idx::beta_U_2) - 1.0/16.0*state_fab(i, j, k - 2, Idx::beta_U_2) - 3.0/8.0*state_fab(i, j, k, Idx::beta_U_2))/dx[2] + ((1.0/4.0)*state_fab(i, j + 1, k, Idx::beta_U_2) - 1.0/16.0*state_fab(i, j + 2, k, Idx::beta_U_2) + (1.0/4.0)*state_fab(i, j - 1, k, Idx::beta_U_2) - 1.0/16.0*state_fab(i, j - 2, k, Idx::beta_U_2) - 3.0/8.0*state_fab(i, j, k, Idx::beta_U_2))/dx[1] + ((1.0/4.0)*state_fab(i + 1, j, k, Idx::beta_U_2) - 1.0/16.0*state_fab(i + 2, j, k, Idx::beta_U_2) + (1.0/4.0)*state_fab(i - 1, j, k, Idx::beta_U_2) - 1.0/16.0*state_fab(i - 2, j, k, Idx::beta_U_2) - 3.0/8.0*state_fab(i, j, k, Idx::beta_U_2))/dx[0];\n",
      "\n",
      "        amrex::Real AdvDbetabeta_U_0 = beta_U_0*(ddnDbeta_UL_00*(beta_U_0 < 0) + dupDbeta_UL_00*(beta_U_0 > 0)) + beta_U_1*(ddnDbeta_UL_01*(beta_U_1 < 0) + dupDbeta_UL_01*(beta_U_1 > 0)) + beta_U_2*(ddnDbeta_UL_02*(beta_U_2 < 0) + dupDbeta_UL_02*(beta_U_2 > 0));\n",
      "        amrex::Real AdvDbetabeta_U_1 = beta_U_0*(ddnDbeta_UL_10*(beta_U_0 < 0) + dupDbeta_UL_10*(beta_U_0 > 0)) + beta_U_1*(ddnDbeta_UL_11*(beta_U_1 < 0) + dupDbeta_UL_11*(beta_U_1 > 0)) + beta_U_2*(ddnDbeta_UL_12*(beta_U_2 < 0) + dupDbeta_UL_12*(beta_U_2 > 0));\n",
      "        amrex::Real AdvDbetabeta_U_2 = beta_U_0*(ddnDbeta_UL_20*(beta_U_0 < 0) + dupDbeta_UL_20*(beta_U_0 > 0)) + beta_U_1*(ddnDbeta_UL_21*(beta_U_1 < 0) + dupDbeta_UL_21*(beta_U_1 > 0)) + beta_U_2*(ddnDbeta_UL_22*(beta_U_2 < 0) + dupDbeta_UL_22*(beta_U_2 > 0));\n",
      "\n",
      "        amrex::Real invgamtilde_UU_00 = (gamtilde_LL_11*gamtilde_LL_22 - std::pow(gamtilde_LL_12, 2))/(gamtilde_LL_00*gamtilde_LL_11*gamtilde_LL_22 - gamtilde_LL_00*std::pow(gamtilde_LL_12, 2) - std::pow(gamtilde_LL_01, 2)*gamtilde_LL_22 + 2*gamtilde_LL_01*gamtilde_LL_02*gamtilde_LL_12 - std::pow(gamtilde_LL_02, 2)*gamtilde_LL_11);\n",
      "        amrex::Real invgamtilde_UU_01 = (-gamtilde_LL_01*gamtilde_LL_22 + gamtilde_LL_02*gamtilde_LL_12)/(gamtilde_LL_00*gamtilde_LL_11*gamtilde_LL_22 - gamtilde_LL_00*std::pow(gamtilde_LL_12, 2) - std::pow(gamtilde_LL_01, 2)*gamtilde_LL_22 + 2*gamtilde_LL_01*gamtilde_LL_02*gamtilde_LL_12 - std::pow(gamtilde_LL_02, 2)*gamtilde_LL_11);\n",
      "        amrex::Real invgamtilde_UU_02 = (gamtilde_LL_01*gamtilde_LL_12 - gamtilde_LL_02*gamtilde_LL_11)/(gamtilde_LL_00*gamtilde_LL_11*gamtilde_LL_22 - gamtilde_LL_00*std::pow(gamtilde_LL_12, 2) - std::pow(gamtilde_LL_01, 2)*gamtilde_LL_22 + 2*gamtilde_LL_01*gamtilde_LL_02*gamtilde_LL_12 - std::pow(gamtilde_LL_02, 2)*gamtilde_LL_11);\n",
      "        amrex::Real invgamtilde_UU_11 = (gamtilde_LL_00*gamtilde_LL_22 - std::pow(gamtilde_LL_02, 2))/(gamtilde_LL_00*gamtilde_LL_11*gamtilde_LL_22 - gamtilde_LL_00*std::pow(gamtilde_LL_12, 2) - std::pow(gamtilde_LL_01, 2)*gamtilde_LL_22 + 2*gamtilde_LL_01*gamtilde_LL_02*gamtilde_LL_12 - std::pow(gamtilde_LL_02, 2)*gamtilde_LL_11);\n",
      "        amrex::Real invgamtilde_UU_12 = (-gamtilde_LL_00*gamtilde_LL_12 + gamtilde_LL_01*gamtilde_LL_02)/(gamtilde_LL_00*gamtilde_LL_11*gamtilde_LL_22 - gamtilde_LL_00*std::pow(gamtilde_LL_12, 2) - std::pow(gamtilde_LL_01, 2)*gamtilde_LL_22 + 2*gamtilde_LL_01*gamtilde_LL_02*gamtilde_LL_12 - std::pow(gamtilde_LL_02, 2)*gamtilde_LL_11);\n",
      "        amrex::Real invgamtilde_UU_22 = (gamtilde_LL_00*gamtilde_LL_11 - std::pow(gamtilde_LL_01, 2))/(gamtilde_LL_00*gamtilde_LL_11*gamtilde_LL_22 - gamtilde_LL_00*std::pow(gamtilde_LL_12, 2) - std::pow(gamtilde_LL_01, 2)*gamtilde_LL_22 + 2*gamtilde_LL_01*gamtilde_LL_02*gamtilde_LL_12 - std::pow(gamtilde_LL_02, 2)*gamtilde_LL_11);\n",
      "\n",
      "        amrex::Real Christoffelgamtilde_LLL_000 = 0.5*dDgamtilde_LLL_000;\n",
      "        amrex::Real Christoffelgamtilde_LLL_001 = 0.5*dDgamtilde_LLL_001;\n",
      "        amrex::Real Christoffelgamtilde_LLL_002 = 0.5*dDgamtilde_LLL_002;\n",
      "        amrex::Real Christoffelgamtilde_LLL_011 = 1.0*dDgamtilde_LLL_011 - 0.5*dDgamtilde_LLL_110;\n",
      "        amrex::Real Christoffelgamtilde_LLL_012 = 0.5*dDgamtilde_LLL_012 + 0.5*dDgamtilde_LLL_021 - 0.5*dDgamtilde_LLL_120;\n",
      "        amrex::Real Christoffelgamtilde_LLL_022 = 1.0*dDgamtilde_LLL_022 - 0.5*dDgamtilde_LLL_220;\n",
      "        amrex::Real Christoffelgamtilde_LLL_100 = -0.5*dDgamtilde_LLL_001 + 1.0*dDgamtilde_LLL_010;\n",
      "        amrex::Real Christoffelgamtilde_LLL_101 = 0.5*dDgamtilde_LLL_110;\n",
      "        amrex::Real Christoffelgamtilde_LLL_102 = 0.5*dDgamtilde_LLL_012 - 0.5*dDgamtilde_LLL_021 + 0.5*dDgamtilde_LLL_120;\n",
      "        amrex::Real Christoffelgamtilde_LLL_111 = 0.5*dDgamtilde_LLL_111;\n",
      "        amrex::Real Christoffelgamtilde_LLL_112 = 0.5*dDgamtilde_LLL_112;\n",
      "        amrex::Real Christoffelgamtilde_LLL_122 = 1.0*dDgamtilde_LLL_122 - 0.5*dDgamtilde_LLL_221;\n",
      "        amrex::Real Christoffelgamtilde_LLL_200 = -0.5*dDgamtilde_LLL_002 + 1.0*dDgamtilde_LLL_020;\n",
      "        amrex::Real Christoffelgamtilde_LLL_201 = -0.5*dDgamtilde_LLL_012 + 0.5*dDgamtilde_LLL_021 + 0.5*dDgamtilde_LLL_120;\n",
      "        amrex::Real Christoffelgamtilde_LLL_202 = 0.5*dDgamtilde_LLL_220;\n",
      "        amrex::Real Christoffelgamtilde_LLL_211 = -0.5*dDgamtilde_LLL_112 + 1.0*dDgamtilde_LLL_121;\n",
      "        amrex::Real Christoffelgamtilde_LLL_212 = 0.5*dDgamtilde_LLL_221;\n",
      "        amrex::Real Christoffelgamtilde_LLL_222 = 0.5*dDgamtilde_LLL_222;\n",
      "\n",
      "        amrex::Real Christoffelgamtilde_ULL_000 = Christoffelgamtilde_LLL_000*invgamtilde_UU_00 + Christoffelgamtilde_LLL_100*invgamtilde_UU_01 + Christoffelgamtilde_LLL_200*invgamtilde_UU_02;\n",
      "        amrex::Real Christoffelgamtilde_ULL_001 = Christoffelgamtilde_LLL_001*invgamtilde_UU_00 + Christoffelgamtilde_LLL_101*invgamtilde_UU_01 + Christoffelgamtilde_LLL_201*invgamtilde_UU_02;\n",
      "        amrex::Real Christoffelgamtilde_ULL_002 = Christoffelgamtilde_LLL_002*invgamtilde_UU_00 + Christoffelgamtilde_LLL_102*invgamtilde_UU_01 + Christoffelgamtilde_LLL_202*invgamtilde_UU_02;\n",
      "        amrex::Real Christoffelgamtilde_ULL_011 = Christoffelgamtilde_LLL_011*invgamtilde_UU_00 + Christoffelgamtilde_LLL_111*invgamtilde_UU_01 + Christoffelgamtilde_LLL_211*invgamtilde_UU_02;\n",
      "        amrex::Real Christoffelgamtilde_ULL_012 = Christoffelgamtilde_LLL_012*invgamtilde_UU_00 + Christoffelgamtilde_LLL_112*invgamtilde_UU_01 + Christoffelgamtilde_LLL_212*invgamtilde_UU_02;\n",
      "        amrex::Real Christoffelgamtilde_ULL_022 = Christoffelgamtilde_LLL_022*invgamtilde_UU_00 + Christoffelgamtilde_LLL_122*invgamtilde_UU_01 + Christoffelgamtilde_LLL_222*invgamtilde_UU_02;\n",
      "        amrex::Real Christoffelgamtilde_ULL_100 = Christoffelgamtilde_LLL_000*invgamtilde_UU_01 + Christoffelgamtilde_LLL_100*invgamtilde_UU_11 + Christoffelgamtilde_LLL_200*invgamtilde_UU_12;\n",
      "        amrex::Real Christoffelgamtilde_ULL_101 = Christoffelgamtilde_LLL_001*invgamtilde_UU_01 + Christoffelgamtilde_LLL_101*invgamtilde_UU_11 + Christoffelgamtilde_LLL_201*invgamtilde_UU_12;\n",
      "        amrex::Real Christoffelgamtilde_ULL_102 = Christoffelgamtilde_LLL_002*invgamtilde_UU_01 + Christoffelgamtilde_LLL_102*invgamtilde_UU_11 + Christoffelgamtilde_LLL_202*invgamtilde_UU_12;\n",
      "        amrex::Real Christoffelgamtilde_ULL_111 = Christoffelgamtilde_LLL_011*invgamtilde_UU_01 + Christoffelgamtilde_LLL_111*invgamtilde_UU_11 + Christoffelgamtilde_LLL_211*invgamtilde_UU_12;\n",
      "        amrex::Real Christoffelgamtilde_ULL_112 = Christoffelgamtilde_LLL_012*invgamtilde_UU_01 + Christoffelgamtilde_LLL_112*invgamtilde_UU_11 + Christoffelgamtilde_LLL_212*invgamtilde_UU_12;\n",
      "        amrex::Real Christoffelgamtilde_ULL_122 = Christoffelgamtilde_LLL_022*invgamtilde_UU_01 + Christoffelgamtilde_LLL_122*invgamtilde_UU_11 + Christoffelgamtilde_LLL_222*invgamtilde_UU_12;\n",
      "        amrex::Real Christoffelgamtilde_ULL_200 = Christoffelgamtilde_LLL_000*invgamtilde_UU_02 + Christoffelgamtilde_LLL_100*invgamtilde_UU_12 + Christoffelgamtilde_LLL_200*invgamtilde_UU_22;\n",
      "        amrex::Real Christoffelgamtilde_ULL_201 = Christoffelgamtilde_LLL_001*invgamtilde_UU_02 + Christoffelgamtilde_LLL_101*invgamtilde_UU_12 + Christoffelgamtilde_LLL_201*invgamtilde_UU_22;\n",
      "        amrex::Real Christoffelgamtilde_ULL_202 = Christoffelgamtilde_LLL_002*invgamtilde_UU_02 + Christoffelgamtilde_LLL_102*invgamtilde_UU_12 + Christoffelgamtilde_LLL_202*invgamtilde_UU_22;\n",
      "        amrex::Real Christoffelgamtilde_ULL_211 = Christoffelgamtilde_LLL_011*invgamtilde_UU_02 + Christoffelgamtilde_LLL_111*invgamtilde_UU_12 + Christoffelgamtilde_LLL_211*invgamtilde_UU_22;\n",
      "        amrex::Real Christoffelgamtilde_ULL_212 = Christoffelgamtilde_LLL_012*invgamtilde_UU_02 + Christoffelgamtilde_LLL_112*invgamtilde_UU_12 + Christoffelgamtilde_LLL_212*invgamtilde_UU_22;\n",
      "        amrex::Real Christoffelgamtilde_ULL_222 = Christoffelgamtilde_LLL_022*invgamtilde_UU_02 + Christoffelgamtilde_LLL_122*invgamtilde_UU_12 + Christoffelgamtilde_LLL_222*invgamtilde_UU_22;\n",
      "\n",
      "        amrex::Real Gam_ULL_000 = Christoffelgamtilde_ULL_000 - 2*dDphi_L_0*gamtilde_LL_00*invgamtilde_UU_00 + 4*dDphi_L_0 - 2*dDphi_L_1*gamtilde_LL_00*invgamtilde_UU_01 - 2*dDphi_L_2*gamtilde_LL_00*invgamtilde_UU_02;\n",
      "        amrex::Real Gam_ULL_001 = Christoffelgamtilde_ULL_001 - 2*dDphi_L_0*gamtilde_LL_01*invgamtilde_UU_00 - 2*dDphi_L_1*gamtilde_LL_01*invgamtilde_UU_01 + 2*dDphi_L_1 - 2*dDphi_L_2*gamtilde_LL_01*invgamtilde_UU_02;\n",
      "        amrex::Real Gam_ULL_002 = Christoffelgamtilde_ULL_002 - 2*dDphi_L_0*gamtilde_LL_02*invgamtilde_UU_00 - 2*dDphi_L_1*gamtilde_LL_02*invgamtilde_UU_01 - 2*dDphi_L_2*gamtilde_LL_02*invgamtilde_UU_02 + 2*dDphi_L_2;\n",
      "        amrex::Real Gam_ULL_010 = Christoffelgamtilde_ULL_001 - 2*dDphi_L_0*gamtilde_LL_01*invgamtilde_UU_00 - 2*dDphi_L_1*gamtilde_LL_01*invgamtilde_UU_01 + 2*dDphi_L_1 - 2*dDphi_L_2*gamtilde_LL_01*invgamtilde_UU_02;\n",
      "        amrex::Real Gam_ULL_011 = Christoffelgamtilde_ULL_011 - 2*dDphi_L_0*gamtilde_LL_11*invgamtilde_UU_00 - 2*dDphi_L_1*gamtilde_LL_11*invgamtilde_UU_01 - 2*dDphi_L_2*gamtilde_LL_11*invgamtilde_UU_02;\n",
      "        amrex::Real Gam_ULL_012 = Christoffelgamtilde_ULL_012 - 2*dDphi_L_0*gamtilde_LL_12*invgamtilde_UU_00 - 2*dDphi_L_1*gamtilde_LL_12*invgamtilde_UU_01 - 2*dDphi_L_2*gamtilde_LL_12*invgamtilde_UU_02;\n",
      "        amrex::Real Gam_ULL_020 = Christoffelgamtilde_ULL_002 - 2*dDphi_L_0*gamtilde_LL_02*invgamtilde_UU_00 - 2*dDphi_L_1*gamtilde_LL_02*invgamtilde_UU_01 - 2*dDphi_L_2*gamtilde_LL_02*invgamtilde_UU_02 + 2*dDphi_L_2;\n",
      "        amrex::Real Gam_ULL_021 = Christoffelgamtilde_ULL_012 - 2*dDphi_L_0*gamtilde_LL_12*invgamtilde_UU_00 - 2*dDphi_L_1*gamtilde_LL_12*invgamtilde_UU_01 - 2*dDphi_L_2*gamtilde_LL_12*invgamtilde_UU_02;\n",
      "        amrex::Real Gam_ULL_022 = Christoffelgamtilde_ULL_022 - 2*dDphi_L_0*gamtilde_LL_22*invgamtilde_UU_00 - 2*dDphi_L_1*gamtilde_LL_22*invgamtilde_UU_01 - 2*dDphi_L_2*gamtilde_LL_22*invgamtilde_UU_02;\n",
      "        amrex::Real Gam_ULL_100 = Christoffelgamtilde_ULL_100 - 2*dDphi_L_0*gamtilde_LL_00*invgamtilde_UU_01 - 2*dDphi_L_1*gamtilde_LL_00*invgamtilde_UU_11 - 2*dDphi_L_2*gamtilde_LL_00*invgamtilde_UU_12;\n",
      "        amrex::Real Gam_ULL_101 = Christoffelgamtilde_ULL_101 - 2*dDphi_L_0*gamtilde_LL_01*invgamtilde_UU_01 + 2*dDphi_L_0 - 2*dDphi_L_1*gamtilde_LL_01*invgamtilde_UU_11 - 2*dDphi_L_2*gamtilde_LL_01*invgamtilde_UU_12;\n",
      "        amrex::Real Gam_ULL_102 = Christoffelgamtilde_ULL_102 - 2*dDphi_L_0*gamtilde_LL_02*invgamtilde_UU_01 - 2*dDphi_L_1*gamtilde_LL_02*invgamtilde_UU_11 - 2*dDphi_L_2*gamtilde_LL_02*invgamtilde_UU_12;\n",
      "        amrex::Real Gam_ULL_110 = Christoffelgamtilde_ULL_101 - 2*dDphi_L_0*gamtilde_LL_01*invgamtilde_UU_01 + 2*dDphi_L_0 - 2*dDphi_L_1*gamtilde_LL_01*invgamtilde_UU_11 - 2*dDphi_L_2*gamtilde_LL_01*invgamtilde_UU_12;\n",
      "        amrex::Real Gam_ULL_111 = Christoffelgamtilde_ULL_111 - 2*dDphi_L_0*gamtilde_LL_11*invgamtilde_UU_01 - 2*dDphi_L_1*gamtilde_LL_11*invgamtilde_UU_11 + 4*dDphi_L_1 - 2*dDphi_L_2*gamtilde_LL_11*invgamtilde_UU_12;\n",
      "        amrex::Real Gam_ULL_112 = Christoffelgamtilde_ULL_112 - 2*dDphi_L_0*gamtilde_LL_12*invgamtilde_UU_01 - 2*dDphi_L_1*gamtilde_LL_12*invgamtilde_UU_11 - 2*dDphi_L_2*gamtilde_LL_12*invgamtilde_UU_12 + 2*dDphi_L_2;\n",
      "        amrex::Real Gam_ULL_120 = Christoffelgamtilde_ULL_102 - 2*dDphi_L_0*gamtilde_LL_02*invgamtilde_UU_01 - 2*dDphi_L_1*gamtilde_LL_02*invgamtilde_UU_11 - 2*dDphi_L_2*gamtilde_LL_02*invgamtilde_UU_12;\n",
      "        amrex::Real Gam_ULL_121 = Christoffelgamtilde_ULL_112 - 2*dDphi_L_0*gamtilde_LL_12*invgamtilde_UU_01 - 2*dDphi_L_1*gamtilde_LL_12*invgamtilde_UU_11 - 2*dDphi_L_2*gamtilde_LL_12*invgamtilde_UU_12 + 2*dDphi_L_2;\n",
      "        amrex::Real Gam_ULL_122 = Christoffelgamtilde_ULL_122 - 2*dDphi_L_0*gamtilde_LL_22*invgamtilde_UU_01 - 2*dDphi_L_1*gamtilde_LL_22*invgamtilde_UU_11 - 2*dDphi_L_2*gamtilde_LL_22*invgamtilde_UU_12;\n",
      "        amrex::Real Gam_ULL_200 = Christoffelgamtilde_ULL_200 - 2*dDphi_L_0*gamtilde_LL_00*invgamtilde_UU_02 - 2*dDphi_L_1*gamtilde_LL_00*invgamtilde_UU_12 - 2*dDphi_L_2*gamtilde_LL_00*invgamtilde_UU_22;\n",
      "        amrex::Real Gam_ULL_201 = Christoffelgamtilde_ULL_201 - 2*dDphi_L_0*gamtilde_LL_01*invgamtilde_UU_02 - 2*dDphi_L_1*gamtilde_LL_01*invgamtilde_UU_12 - 2*dDphi_L_2*gamtilde_LL_01*invgamtilde_UU_22;\n",
      "        amrex::Real Gam_ULL_202 = Christoffelgamtilde_ULL_202 - 2*dDphi_L_0*gamtilde_LL_02*invgamtilde_UU_02 + 2*dDphi_L_0 - 2*dDphi_L_1*gamtilde_LL_02*invgamtilde_UU_12 - 2*dDphi_L_2*gamtilde_LL_02*invgamtilde_UU_22;\n",
      "        amrex::Real Gam_ULL_210 = Christoffelgamtilde_ULL_201 - 2*dDphi_L_0*gamtilde_LL_01*invgamtilde_UU_02 - 2*dDphi_L_1*gamtilde_LL_01*invgamtilde_UU_12 - 2*dDphi_L_2*gamtilde_LL_01*invgamtilde_UU_22;\n",
      "        amrex::Real Gam_ULL_211 = Christoffelgamtilde_ULL_211 - 2*dDphi_L_0*gamtilde_LL_11*invgamtilde_UU_02 - 2*dDphi_L_1*gamtilde_LL_11*invgamtilde_UU_12 - 2*dDphi_L_2*gamtilde_LL_11*invgamtilde_UU_22;\n",
      "        amrex::Real Gam_ULL_212 = Christoffelgamtilde_ULL_212 - 2*dDphi_L_0*gamtilde_LL_12*invgamtilde_UU_02 - 2*dDphi_L_1*gamtilde_LL_12*invgamtilde_UU_12 + 2*dDphi_L_1 - 2*dDphi_L_2*gamtilde_LL_12*invgamtilde_UU_22;\n",
      "        amrex::Real Gam_ULL_220 = Christoffelgamtilde_ULL_202 - 2*dDphi_L_0*gamtilde_LL_02*invgamtilde_UU_02 + 2*dDphi_L_0 - 2*dDphi_L_1*gamtilde_LL_02*invgamtilde_UU_12 - 2*dDphi_L_2*gamtilde_LL_02*invgamtilde_UU_22;\n",
      "        amrex::Real Gam_ULL_221 = Christoffelgamtilde_ULL_212 - 2*dDphi_L_0*gamtilde_LL_12*invgamtilde_UU_02 - 2*dDphi_L_1*gamtilde_LL_12*invgamtilde_UU_12 + 2*dDphi_L_1 - 2*dDphi_L_2*gamtilde_LL_12*invgamtilde_UU_22;\n",
      "        amrex::Real Gam_ULL_222 = Christoffelgamtilde_ULL_222 - 2*dDphi_L_0*gamtilde_LL_22*invgamtilde_UU_02 - 2*dDphi_L_1*gamtilde_LL_22*invgamtilde_UU_12 - 2*dDphi_L_2*gamtilde_LL_22*invgamtilde_UU_22 + 4*dDphi_L_2;\n",
      "\n",
      "        amrex::Real CovdDDalpha_LL_00 = -Gam_ULL_000*dDalpha_L_0 - Gam_ULL_100*dDalpha_L_1 - Gam_ULL_200*dDalpha_L_2 + dDDalpha_LL_00;\n",
      "        amrex::Real CovdDDalpha_LL_01 = -Gam_ULL_001*dDalpha_L_0 - Gam_ULL_101*dDalpha_L_1 - Gam_ULL_201*dDalpha_L_2 + dDDalpha_LL_01;\n",
      "        amrex::Real CovdDDalpha_LL_02 = -Gam_ULL_002*dDalpha_L_0 - Gam_ULL_102*dDalpha_L_1 - Gam_ULL_202*dDalpha_L_2 + dDDalpha_LL_02;\n",
      "        amrex::Real CovdDDalpha_LL_11 = -Gam_ULL_011*dDalpha_L_0 - Gam_ULL_111*dDalpha_L_1 - Gam_ULL_211*dDalpha_L_2 + dDDalpha_LL_11;\n",
      "        amrex::Real CovdDDalpha_LL_12 = -Gam_ULL_012*dDalpha_L_0 - Gam_ULL_112*dDalpha_L_1 - Gam_ULL_212*dDalpha_L_2 + dDDalpha_LL_12;\n",
      "        amrex::Real CovdDDalpha_LL_22 = -Gam_ULL_022*dDalpha_L_0 - Gam_ULL_122*dDalpha_L_1 - Gam_ULL_222*dDalpha_L_2 + dDDalpha_LL_22;\n",
      "\n",
      "        amrex::Real gam_LL_00 = gamtilde_LL_00*std::exp(4*phi);\n",
      "        amrex::Real gam_LL_01 = gamtilde_LL_01*std::exp(4*phi);\n",
      "        amrex::Real gam_LL_02 = gamtilde_LL_02*std::exp(4*phi);\n",
      "        amrex::Real gam_LL_11 = gamtilde_LL_11*std::exp(4*phi);\n",
      "        amrex::Real gam_LL_12 = gamtilde_LL_12*std::exp(4*phi);\n",
      "        amrex::Real gam_LL_22 = gamtilde_LL_22*std::exp(4*phi);\n",
      "\n",
      "        amrex::Real invgam_UU_00 = invgamtilde_UU_00*std::exp(-4*phi);\n",
      "        amrex::Real invgam_UU_01 = invgamtilde_UU_01*std::exp(-4*phi);\n",
      "        amrex::Real invgam_UU_02 = invgamtilde_UU_02*std::exp(-4*phi);\n",
      "        amrex::Real invgam_UU_11 = invgamtilde_UU_11*std::exp(-4*phi);\n",
      "        amrex::Real invgam_UU_12 = invgamtilde_UU_12*std::exp(-4*phi);\n",
      "        amrex::Real invgam_UU_22 = invgamtilde_UU_22*std::exp(-4*phi);\n",
      "\n",
      "        amrex::Real Atilde_UU_00 = Atilde_LL_00*std::pow(invgamtilde_UU_00, 2) + 2*Atilde_LL_01*invgamtilde_UU_00*invgamtilde_UU_01 + 2*Atilde_LL_02*invgamtilde_UU_00*invgamtilde_UU_02 + Atilde_LL_11*std::pow(invgamtilde_UU_01, 2) + 2*Atilde_LL_12*invgamtilde_UU_01*invgamtilde_UU_02 + Atilde_LL_22*std::pow(invgamtilde_UU_02, 2);\n",
      "        amrex::Real Atilde_UU_01 = Atilde_LL_00*invgamtilde_UU_00*invgamtilde_UU_01 + Atilde_LL_01*invgamtilde_UU_00*invgamtilde_UU_11 + Atilde_LL_01*std::pow(invgamtilde_UU_01, 2) + Atilde_LL_02*invgamtilde_UU_00*invgamtilde_UU_12 + Atilde_LL_02*invgamtilde_UU_01*invgamtilde_UU_02 + Atilde_LL_11*invgamtilde_UU_01*invgamtilde_UU_11 + Atilde_LL_12*invgamtilde_UU_01*invgamtilde_UU_12 + Atilde_LL_12*invgamtilde_UU_02*invgamtilde_UU_11 + Atilde_LL_22*invgamtilde_UU_02*invgamtilde_UU_12;\n",
      "        amrex::Real Atilde_UU_02 = Atilde_LL_00*invgamtilde_UU_00*invgamtilde_UU_02 + Atilde_LL_01*invgamtilde_UU_00*invgamtilde_UU_12 + Atilde_LL_01*invgamtilde_UU_01*invgamtilde_UU_02 + Atilde_LL_02*invgamtilde_UU_00*invgamtilde_UU_22 + Atilde_LL_02*std::pow(invgamtilde_UU_02, 2) + Atilde_LL_11*invgamtilde_UU_01*invgamtilde_UU_12 + Atilde_LL_12*invgamtilde_UU_01*invgamtilde_UU_22 + Atilde_LL_12*invgamtilde_UU_02*invgamtilde_UU_12 + Atilde_LL_22*invgamtilde_UU_02*invgamtilde_UU_22;\n",
      "        amrex::Real Atilde_UU_11 = Atilde_LL_00*std::pow(invgamtilde_UU_01, 2) + 2*Atilde_LL_01*invgamtilde_UU_01*invgamtilde_UU_11 + 2*Atilde_LL_02*invgamtilde_UU_01*invgamtilde_UU_12 + Atilde_LL_11*std::pow(invgamtilde_UU_11, 2) + 2*Atilde_LL_12*invgamtilde_UU_11*invgamtilde_UU_12 + Atilde_LL_22*std::pow(invgamtilde_UU_12, 2);\n",
      "        amrex::Real Atilde_UU_12 = Atilde_LL_00*invgamtilde_UU_01*invgamtilde_UU_02 + Atilde_LL_01*invgamtilde_UU_01*invgamtilde_UU_12 + Atilde_LL_01*invgamtilde_UU_02*invgamtilde_UU_11 + Atilde_LL_02*invgamtilde_UU_01*invgamtilde_UU_22 + Atilde_LL_02*invgamtilde_UU_02*invgamtilde_UU_12 + Atilde_LL_11*invgamtilde_UU_11*invgamtilde_UU_12 + Atilde_LL_12*invgamtilde_UU_11*invgamtilde_UU_22 + Atilde_LL_12*std::pow(invgamtilde_UU_12, 2) + Atilde_LL_22*invgamtilde_UU_12*invgamtilde_UU_22;\n",
      "        amrex::Real Atilde_UU_22 = Atilde_LL_00*std::pow(invgamtilde_UU_02, 2) + 2*Atilde_LL_01*invgamtilde_UU_02*invgamtilde_UU_12 + 2*Atilde_LL_02*invgamtilde_UU_02*invgamtilde_UU_22 + Atilde_LL_11*std::pow(invgamtilde_UU_12, 2) + 2*Atilde_LL_12*invgamtilde_UU_12*invgamtilde_UU_22 + Atilde_LL_22*std::pow(invgamtilde_UU_22, 2);\n",
      "\n",
      "        amrex::Real Atilde_UL_00 = Atilde_LL_00*invgamtilde_UU_00 + Atilde_LL_01*invgamtilde_UU_01 + Atilde_LL_02*invgamtilde_UU_02;\n",
      "        amrex::Real Atilde_UL_01 = Atilde_LL_01*invgamtilde_UU_00 + Atilde_LL_11*invgamtilde_UU_01 + Atilde_LL_12*invgamtilde_UU_02;\n",
      "        amrex::Real Atilde_UL_02 = Atilde_LL_02*invgamtilde_UU_00 + Atilde_LL_12*invgamtilde_UU_01 + Atilde_LL_22*invgamtilde_UU_02;\n",
      "        amrex::Real Atilde_UL_10 = Atilde_LL_00*invgamtilde_UU_01 + Atilde_LL_01*invgamtilde_UU_11 + Atilde_LL_02*invgamtilde_UU_12;\n",
      "        amrex::Real Atilde_UL_11 = Atilde_LL_01*invgamtilde_UU_01 + Atilde_LL_11*invgamtilde_UU_11 + Atilde_LL_12*invgamtilde_UU_12;\n",
      "        amrex::Real Atilde_UL_12 = Atilde_LL_02*invgamtilde_UU_01 + Atilde_LL_12*invgamtilde_UU_11 + Atilde_LL_22*invgamtilde_UU_12;\n",
      "        amrex::Real Atilde_UL_20 = Atilde_LL_00*invgamtilde_UU_02 + Atilde_LL_01*invgamtilde_UU_12 + Atilde_LL_02*invgamtilde_UU_22;\n",
      "        amrex::Real Atilde_UL_21 = Atilde_LL_01*invgamtilde_UU_02 + Atilde_LL_11*invgamtilde_UU_12 + Atilde_LL_12*invgamtilde_UU_22;\n",
      "        amrex::Real Atilde_UL_22 = Atilde_LL_02*invgamtilde_UU_02 + Atilde_LL_12*invgamtilde_UU_12 + Atilde_LL_22*invgamtilde_UU_22;\n",
      "\n",
      "        amrex::Real CovDDalphaTF_LL_00 = -1.0/3.0*CovdDDalpha_LL_00*gam_LL_00*invgam_UU_00 + CovdDDalpha_LL_00 - 2.0/3.0*CovdDDalpha_LL_01*gam_LL_00*invgam_UU_01 - 2.0/3.0*CovdDDalpha_LL_02*gam_LL_00*invgam_UU_02 - 1.0/3.0*CovdDDalpha_LL_11*gam_LL_00*invgam_UU_11 - 2.0/3.0*CovdDDalpha_LL_12*gam_LL_00*invgam_UU_12 - 1.0/3.0*CovdDDalpha_LL_22*gam_LL_00*invgam_UU_22;\n",
      "        amrex::Real CovDDalphaTF_LL_01 = -1.0/3.0*CovdDDalpha_LL_00*gam_LL_01*invgam_UU_00 - 2.0/3.0*CovdDDalpha_LL_01*gam_LL_01*invgam_UU_01 + CovdDDalpha_LL_01 - 2.0/3.0*CovdDDalpha_LL_02*gam_LL_01*invgam_UU_02 - 1.0/3.0*CovdDDalpha_LL_11*gam_LL_01*invgam_UU_11 - 2.0/3.0*CovdDDalpha_LL_12*gam_LL_01*invgam_UU_12 - 1.0/3.0*CovdDDalpha_LL_22*gam_LL_01*invgam_UU_22;\n",
      "        amrex::Real CovDDalphaTF_LL_02 = -1.0/3.0*CovdDDalpha_LL_00*gam_LL_02*invgam_UU_00 - 2.0/3.0*CovdDDalpha_LL_01*gam_LL_02*invgam_UU_01 - 2.0/3.0*CovdDDalpha_LL_02*gam_LL_02*invgam_UU_02 + CovdDDalpha_LL_02 - 1.0/3.0*CovdDDalpha_LL_11*gam_LL_02*invgam_UU_11 - 2.0/3.0*CovdDDalpha_LL_12*gam_LL_02*invgam_UU_12 - 1.0/3.0*CovdDDalpha_LL_22*gam_LL_02*invgam_UU_22;\n",
      "        amrex::Real CovDDalphaTF_LL_11 = -1.0/3.0*CovdDDalpha_LL_00*gam_LL_11*invgam_UU_00 - 2.0/3.0*CovdDDalpha_LL_01*gam_LL_11*invgam_UU_01 - 2.0/3.0*CovdDDalpha_LL_02*gam_LL_11*invgam_UU_02 - 1.0/3.0*CovdDDalpha_LL_11*gam_LL_11*invgam_UU_11 + CovdDDalpha_LL_11 - 2.0/3.0*CovdDDalpha_LL_12*gam_LL_11*invgam_UU_12 - 1.0/3.0*CovdDDalpha_LL_22*gam_LL_11*invgam_UU_22;\n",
      "        amrex::Real CovDDalphaTF_LL_12 = -1.0/3.0*CovdDDalpha_LL_00*gam_LL_12*invgam_UU_00 - 2.0/3.0*CovdDDalpha_LL_01*gam_LL_12*invgam_UU_01 - 2.0/3.0*CovdDDalpha_LL_02*gam_LL_12*invgam_UU_02 - 1.0/3.0*CovdDDalpha_LL_11*gam_LL_12*invgam_UU_11 - 2.0/3.0*CovdDDalpha_LL_12*gam_LL_12*invgam_UU_12 + CovdDDalpha_LL_12 - 1.0/3.0*CovdDDalpha_LL_22*gam_LL_12*invgam_UU_22;\n",
      "        amrex::Real CovDDalphaTF_LL_22 = -1.0/3.0*CovdDDalpha_LL_00*gam_LL_22*invgam_UU_00 - 2.0/3.0*CovdDDalpha_LL_01*gam_LL_22*invgam_UU_01 - 2.0/3.0*CovdDDalpha_LL_02*gam_LL_22*invgam_UU_02 - 1.0/3.0*CovdDDalpha_LL_11*gam_LL_22*invgam_UU_11 - 2.0/3.0*CovdDDalpha_LL_12*gam_LL_22*invgam_UU_12 - 1.0/3.0*CovdDDalpha_LL_22*gam_LL_22*invgam_UU_22 + CovdDDalpha_LL_22;\n",
      "\n",
      "        amrex::Real ChristoffelDgamtilde_U_0 = Christoffelgamtilde_ULL_000*invgamtilde_UU_00 + 2*Christoffelgamtilde_ULL_001*invgamtilde_UU_01 + 2*Christoffelgamtilde_ULL_002*invgamtilde_UU_02 + Christoffelgamtilde_ULL_011*invgamtilde_UU_11 + 2*Christoffelgamtilde_ULL_012*invgamtilde_UU_12 + Christoffelgamtilde_ULL_022*invgamtilde_UU_22;\n",
      "        amrex::Real ChristoffelDgamtilde_U_1 = Christoffelgamtilde_ULL_100*invgamtilde_UU_00 + 2*Christoffelgamtilde_ULL_101*invgamtilde_UU_01 + 2*Christoffelgamtilde_ULL_102*invgamtilde_UU_02 + Christoffelgamtilde_ULL_111*invgamtilde_UU_11 + 2*Christoffelgamtilde_ULL_112*invgamtilde_UU_12 + Christoffelgamtilde_ULL_122*invgamtilde_UU_22;\n",
      "        amrex::Real ChristoffelDgamtilde_U_2 = Christoffelgamtilde_ULL_200*invgamtilde_UU_00 + 2*Christoffelgamtilde_ULL_201*invgamtilde_UU_01 + 2*Christoffelgamtilde_ULL_202*invgamtilde_UU_02 + Christoffelgamtilde_ULL_211*invgamtilde_UU_11 + 2*Christoffelgamtilde_ULL_212*invgamtilde_UU_12 + Christoffelgamtilde_ULL_222*invgamtilde_UU_22;\n",
      "\n",
      "        amrex::Real Z4cRicciTildegamtilde_LL_00 = 1.0*ChristoffelDgamtilde_U_0*Christoffelgamtilde_LLL_000 + 1.0*ChristoffelDgamtilde_U_1*Christoffelgamtilde_LLL_001 + 1.0*ChristoffelDgamtilde_U_2*Christoffelgamtilde_LLL_002 + 3*Christoffelgamtilde_LLL_000*Christoffelgamtilde_ULL_000*invgamtilde_UU_00 + 3*Christoffelgamtilde_LLL_000*Christoffelgamtilde_ULL_001*invgamtilde_UU_01 + 3*Christoffelgamtilde_LLL_000*Christoffelgamtilde_ULL_002*invgamtilde_UU_02 + 3*Christoffelgamtilde_LLL_001*Christoffelgamtilde_ULL_000*invgamtilde_UU_01 + 3*Christoffelgamtilde_LLL_001*Christoffelgamtilde_ULL_001*invgamtilde_UU_11 + 3*Christoffelgamtilde_LLL_001*Christoffelgamtilde_ULL_002*invgamtilde_UU_12 + 2*Christoffelgamtilde_LLL_001*Christoffelgamtilde_ULL_100*invgamtilde_UU_00 + 2*Christoffelgamtilde_LLL_001*Christoffelgamtilde_ULL_101*invgamtilde_UU_01 + 2*Christoffelgamtilde_LLL_001*Christoffelgamtilde_ULL_102*invgamtilde_UU_02 + 3*Christoffelgamtilde_LLL_002*Christoffelgamtilde_ULL_000*invgamtilde_UU_02 + 3*Christoffelgamtilde_LLL_002*Christoffelgamtilde_ULL_001*invgamtilde_UU_12 + 3*Christoffelgamtilde_LLL_002*Christoffelgamtilde_ULL_002*invgamtilde_UU_22 + 2*Christoffelgamtilde_LLL_002*Christoffelgamtilde_ULL_200*invgamtilde_UU_00 + 2*Christoffelgamtilde_LLL_002*Christoffelgamtilde_ULL_201*invgamtilde_UU_01 + 2*Christoffelgamtilde_LLL_002*Christoffelgamtilde_ULL_202*invgamtilde_UU_02 + 2*Christoffelgamtilde_LLL_011*Christoffelgamtilde_ULL_100*invgamtilde_UU_01 + 2*Christoffelgamtilde_LLL_011*Christoffelgamtilde_ULL_101*invgamtilde_UU_11 + 2*Christoffelgamtilde_LLL_011*Christoffelgamtilde_ULL_102*invgamtilde_UU_12 + 2*Christoffelgamtilde_LLL_012*Christoffelgamtilde_ULL_100*invgamtilde_UU_02 + 2*Christoffelgamtilde_LLL_012*Christoffelgamtilde_ULL_101*invgamtilde_UU_12 + 2*Christoffelgamtilde_LLL_012*Christoffelgamtilde_ULL_102*invgamtilde_UU_22 + 2*Christoffelgamtilde_LLL_012*Christoffelgamtilde_ULL_200*invgamtilde_UU_01 + 2*Christoffelgamtilde_LLL_012*Christoffelgamtilde_ULL_201*invgamtilde_UU_11 + 2*Christoffelgamtilde_LLL_012*Christoffelgamtilde_ULL_202*invgamtilde_UU_12 + 2*Christoffelgamtilde_LLL_022*Christoffelgamtilde_ULL_200*invgamtilde_UU_02 + 2*Christoffelgamtilde_LLL_022*Christoffelgamtilde_ULL_201*invgamtilde_UU_12 + 2*Christoffelgamtilde_LLL_022*Christoffelgamtilde_ULL_202*invgamtilde_UU_22 + Christoffelgamtilde_LLL_100*Christoffelgamtilde_ULL_100*invgamtilde_UU_00 + Christoffelgamtilde_LLL_100*Christoffelgamtilde_ULL_101*invgamtilde_UU_01 + Christoffelgamtilde_LLL_100*Christoffelgamtilde_ULL_102*invgamtilde_UU_02 + Christoffelgamtilde_LLL_101*Christoffelgamtilde_ULL_100*invgamtilde_UU_01 + Christoffelgamtilde_LLL_101*Christoffelgamtilde_ULL_101*invgamtilde_UU_11 + Christoffelgamtilde_LLL_101*Christoffelgamtilde_ULL_102*invgamtilde_UU_12 + Christoffelgamtilde_LLL_102*Christoffelgamtilde_ULL_100*invgamtilde_UU_02 + Christoffelgamtilde_LLL_102*Christoffelgamtilde_ULL_101*invgamtilde_UU_12 + Christoffelgamtilde_LLL_102*Christoffelgamtilde_ULL_102*invgamtilde_UU_22 + Christoffelgamtilde_LLL_200*Christoffelgamtilde_ULL_200*invgamtilde_UU_00 + Christoffelgamtilde_LLL_200*Christoffelgamtilde_ULL_201*invgamtilde_UU_01 + Christoffelgamtilde_LLL_200*Christoffelgamtilde_ULL_202*invgamtilde_UU_02 + Christoffelgamtilde_LLL_201*Christoffelgamtilde_ULL_200*invgamtilde_UU_01 + Christoffelgamtilde_LLL_201*Christoffelgamtilde_ULL_201*invgamtilde_UU_11 + Christoffelgamtilde_LLL_201*Christoffelgamtilde_ULL_202*invgamtilde_UU_12 + Christoffelgamtilde_LLL_202*Christoffelgamtilde_ULL_200*invgamtilde_UU_02 + Christoffelgamtilde_LLL_202*Christoffelgamtilde_ULL_201*invgamtilde_UU_12 + Christoffelgamtilde_LLL_202*Christoffelgamtilde_ULL_202*invgamtilde_UU_22 - 0.5*dDDgamtilde_LLLL_0000*invgamtilde_UU_00 - 1.0*dDDgamtilde_LLLL_0001*invgamtilde_UU_01 - 1.0*dDDgamtilde_LLLL_0002*invgamtilde_UU_02 - 0.5*dDDgamtilde_LLLL_0011*invgamtilde_UU_11 - 1.0*dDDgamtilde_LLLL_0012*invgamtilde_UU_12 - 0.5*dDDgamtilde_LLLL_0022*invgamtilde_UU_22 + 1.0*dDGamtilde_UL_00*gamtilde_LL_00 + 1.0*dDGamtilde_UL_10*gamtilde_LL_01 + 1.0*dDGamtilde_UL_20*gamtilde_LL_02;\n",
      "        amrex::Real Z4cRicciTildegamtilde_LL_01 = 0.5*ChristoffelDgamtilde_U_0*(Christoffelgamtilde_LLL_001 + Christoffelgamtilde_LLL_100) + 0.5*ChristoffelDgamtilde_U_1*(Christoffelgamtilde_LLL_011 + Christoffelgamtilde_LLL_101) + 0.5*ChristoffelDgamtilde_U_2*(Christoffelgamtilde_LLL_012 + Christoffelgamtilde_LLL_102) + Christoffelgamtilde_LLL_001*Christoffelgamtilde_ULL_000*invgamtilde_UU_00 + Christoffelgamtilde_LLL_001*Christoffelgamtilde_ULL_001*invgamtilde_UU_01 + Christoffelgamtilde_LLL_001*Christoffelgamtilde_ULL_002*invgamtilde_UU_02 + Christoffelgamtilde_LLL_011*Christoffelgamtilde_ULL_000*invgamtilde_UU_01 + Christoffelgamtilde_LLL_011*Christoffelgamtilde_ULL_001*invgamtilde_UU_11 + Christoffelgamtilde_LLL_011*Christoffelgamtilde_ULL_002*invgamtilde_UU_12 + Christoffelgamtilde_LLL_012*Christoffelgamtilde_ULL_000*invgamtilde_UU_02 + Christoffelgamtilde_LLL_012*Christoffelgamtilde_ULL_001*invgamtilde_UU_12 + Christoffelgamtilde_LLL_012*Christoffelgamtilde_ULL_002*invgamtilde_UU_22 + Christoffelgamtilde_LLL_101*Christoffelgamtilde_ULL_100*invgamtilde_UU_00 + Christoffelgamtilde_LLL_101*Christoffelgamtilde_ULL_101*invgamtilde_UU_01 + Christoffelgamtilde_LLL_101*Christoffelgamtilde_ULL_102*invgamtilde_UU_02 + Christoffelgamtilde_LLL_111*Christoffelgamtilde_ULL_100*invgamtilde_UU_01 + Christoffelgamtilde_LLL_111*Christoffelgamtilde_ULL_101*invgamtilde_UU_11 + Christoffelgamtilde_LLL_111*Christoffelgamtilde_ULL_102*invgamtilde_UU_12 + Christoffelgamtilde_LLL_112*Christoffelgamtilde_ULL_100*invgamtilde_UU_02 + Christoffelgamtilde_LLL_112*Christoffelgamtilde_ULL_101*invgamtilde_UU_12 + Christoffelgamtilde_LLL_112*Christoffelgamtilde_ULL_102*invgamtilde_UU_22 + Christoffelgamtilde_LLL_201*Christoffelgamtilde_ULL_200*invgamtilde_UU_00 + Christoffelgamtilde_LLL_201*Christoffelgamtilde_ULL_201*invgamtilde_UU_01 + Christoffelgamtilde_LLL_201*Christoffelgamtilde_ULL_202*invgamtilde_UU_02 + Christoffelgamtilde_LLL_211*Christoffelgamtilde_ULL_200*invgamtilde_UU_01 + Christoffelgamtilde_LLL_211*Christoffelgamtilde_ULL_201*invgamtilde_UU_11 + Christoffelgamtilde_LLL_211*Christoffelgamtilde_ULL_202*invgamtilde_UU_12 + Christoffelgamtilde_LLL_212*Christoffelgamtilde_ULL_200*invgamtilde_UU_02 + Christoffelgamtilde_LLL_212*Christoffelgamtilde_ULL_201*invgamtilde_UU_12 + Christoffelgamtilde_LLL_212*Christoffelgamtilde_ULL_202*invgamtilde_UU_22 - 0.5*dDDgamtilde_LLLL_0100*invgamtilde_UU_00 - 1.0*dDDgamtilde_LLLL_0101*invgamtilde_UU_01 - 1.0*dDDgamtilde_LLLL_0102*invgamtilde_UU_02 - 0.5*dDDgamtilde_LLLL_0111*invgamtilde_UU_11 - 1.0*dDDgamtilde_LLLL_0112*invgamtilde_UU_12 - 0.5*dDDgamtilde_LLLL_0122*invgamtilde_UU_22 + 0.5*dDGamtilde_UL_00*gamtilde_LL_01 + 0.5*dDGamtilde_UL_01*gamtilde_LL_00 + 0.5*dDGamtilde_UL_10*gamtilde_LL_11 + 0.5*dDGamtilde_UL_11*gamtilde_LL_01 + 0.5*dDGamtilde_UL_20*gamtilde_LL_12 + 0.5*dDGamtilde_UL_21*gamtilde_LL_02 + invgamtilde_UU_00*(Christoffelgamtilde_LLL_000*Christoffelgamtilde_ULL_001 + Christoffelgamtilde_LLL_100*Christoffelgamtilde_ULL_000) + invgamtilde_UU_00*(Christoffelgamtilde_LLL_001*Christoffelgamtilde_ULL_101 + Christoffelgamtilde_LLL_101*Christoffelgamtilde_ULL_100) + invgamtilde_UU_00*(Christoffelgamtilde_LLL_002*Christoffelgamtilde_ULL_201 + Christoffelgamtilde_LLL_102*Christoffelgamtilde_ULL_200) + invgamtilde_UU_01*(Christoffelgamtilde_LLL_000*Christoffelgamtilde_ULL_011 + Christoffelgamtilde_LLL_100*Christoffelgamtilde_ULL_001) + invgamtilde_UU_01*(Christoffelgamtilde_LLL_001*Christoffelgamtilde_ULL_001 + Christoffelgamtilde_LLL_101*Christoffelgamtilde_ULL_000) + invgamtilde_UU_01*(Christoffelgamtilde_LLL_001*Christoffelgamtilde_ULL_111 + Christoffelgamtilde_LLL_101*Christoffelgamtilde_ULL_101) + invgamtilde_UU_01*(Christoffelgamtilde_LLL_002*Christoffelgamtilde_ULL_211 + Christoffelgamtilde_LLL_102*Christoffelgamtilde_ULL_201) + invgamtilde_UU_01*(Christoffelgamtilde_LLL_011*Christoffelgamtilde_ULL_101 + Christoffelgamtilde_LLL_111*Christoffelgamtilde_ULL_100) + invgamtilde_UU_01*(Christoffelgamtilde_LLL_012*Christoffelgamtilde_ULL_201 + Christoffelgamtilde_LLL_112*Christoffelgamtilde_ULL_200) + invgamtilde_UU_02*(Christoffelgamtilde_LLL_000*Christoffelgamtilde_ULL_012 + Christoffelgamtilde_LLL_100*Christoffelgamtilde_ULL_002) + invgamtilde_UU_02*(Christoffelgamtilde_LLL_001*Christoffelgamtilde_ULL_112 + Christoffelgamtilde_LLL_101*Christoffelgamtilde_ULL_102) + invgamtilde_UU_02*(Christoffelgamtilde_LLL_002*Christoffelgamtilde_ULL_001 + Christoffelgamtilde_LLL_102*Christoffelgamtilde_ULL_000) + invgamtilde_UU_02*(Christoffelgamtilde_LLL_002*Christoffelgamtilde_ULL_212 + Christoffelgamtilde_LLL_102*Christoffelgamtilde_ULL_202) + invgamtilde_UU_02*(Christoffelgamtilde_LLL_012*Christoffelgamtilde_ULL_101 + Christoffelgamtilde_LLL_112*Christoffelgamtilde_ULL_100) + invgamtilde_UU_02*(Christoffelgamtilde_LLL_022*Christoffelgamtilde_ULL_201 + Christoffelgamtilde_LLL_122*Christoffelgamtilde_ULL_200) + invgamtilde_UU_11*(Christoffelgamtilde_LLL_001*Christoffelgamtilde_ULL_011 + Christoffelgamtilde_LLL_101*Christoffelgamtilde_ULL_001) + invgamtilde_UU_11*(Christoffelgamtilde_LLL_011*Christoffelgamtilde_ULL_111 + Christoffelgamtilde_LLL_111*Christoffelgamtilde_ULL_101) + invgamtilde_UU_11*(Christoffelgamtilde_LLL_012*Christoffelgamtilde_ULL_211 + Christoffelgamtilde_LLL_112*Christoffelgamtilde_ULL_201) + invgamtilde_UU_12*(Christoffelgamtilde_LLL_001*Christoffelgamtilde_ULL_012 + Christoffelgamtilde_LLL_101*Christoffelgamtilde_ULL_002) + invgamtilde_UU_12*(Christoffelgamtilde_LLL_002*Christoffelgamtilde_ULL_011 + Christoffelgamtilde_LLL_102*Christoffelgamtilde_ULL_001) + invgamtilde_UU_12*(Christoffelgamtilde_LLL_011*Christoffelgamtilde_ULL_112 + Christoffelgamtilde_LLL_111*Christoffelgamtilde_ULL_102) + invgamtilde_UU_12*(Christoffelgamtilde_LLL_012*Christoffelgamtilde_ULL_111 + Christoffelgamtilde_LLL_112*Christoffelgamtilde_ULL_101) + invgamtilde_UU_12*(Christoffelgamtilde_LLL_012*Christoffelgamtilde_ULL_212 + Christoffelgamtilde_LLL_112*Christoffelgamtilde_ULL_202) + invgamtilde_UU_12*(Christoffelgamtilde_LLL_022*Christoffelgamtilde_ULL_211 + Christoffelgamtilde_LLL_122*Christoffelgamtilde_ULL_201) + invgamtilde_UU_22*(Christoffelgamtilde_LLL_002*Christoffelgamtilde_ULL_012 + Christoffelgamtilde_LLL_102*Christoffelgamtilde_ULL_002) + invgamtilde_UU_22*(Christoffelgamtilde_LLL_012*Christoffelgamtilde_ULL_112 + Christoffelgamtilde_LLL_112*Christoffelgamtilde_ULL_102) + invgamtilde_UU_22*(Christoffelgamtilde_LLL_022*Christoffelgamtilde_ULL_212 + Christoffelgamtilde_LLL_122*Christoffelgamtilde_ULL_202);\n",
      "        amrex::Real Z4cRicciTildegamtilde_LL_02 = 0.5*ChristoffelDgamtilde_U_0*(Christoffelgamtilde_LLL_002 + Christoffelgamtilde_LLL_200) + 0.5*ChristoffelDgamtilde_U_1*(Christoffelgamtilde_LLL_012 + Christoffelgamtilde_LLL_201) + 0.5*ChristoffelDgamtilde_U_2*(Christoffelgamtilde_LLL_022 + Christoffelgamtilde_LLL_202) + Christoffelgamtilde_LLL_002*Christoffelgamtilde_ULL_000*invgamtilde_UU_00 + Christoffelgamtilde_LLL_002*Christoffelgamtilde_ULL_001*invgamtilde_UU_01 + Christoffelgamtilde_LLL_002*Christoffelgamtilde_ULL_002*invgamtilde_UU_02 + Christoffelgamtilde_LLL_012*Christoffelgamtilde_ULL_000*invgamtilde_UU_01 + Christoffelgamtilde_LLL_012*Christoffelgamtilde_ULL_001*invgamtilde_UU_11 + Christoffelgamtilde_LLL_012*Christoffelgamtilde_ULL_002*invgamtilde_UU_12 + Christoffelgamtilde_LLL_022*Christoffelgamtilde_ULL_000*invgamtilde_UU_02 + Christoffelgamtilde_LLL_022*Christoffelgamtilde_ULL_001*invgamtilde_UU_12 + Christoffelgamtilde_LLL_022*Christoffelgamtilde_ULL_002*invgamtilde_UU_22 + Christoffelgamtilde_LLL_102*Christoffelgamtilde_ULL_100*invgamtilde_UU_00 + Christoffelgamtilde_LLL_102*Christoffelgamtilde_ULL_101*invgamtilde_UU_01 + Christoffelgamtilde_LLL_102*Christoffelgamtilde_ULL_102*invgamtilde_UU_02 + Christoffelgamtilde_LLL_112*Christoffelgamtilde_ULL_100*invgamtilde_UU_01 + Christoffelgamtilde_LLL_112*Christoffelgamtilde_ULL_101*invgamtilde_UU_11 + Christoffelgamtilde_LLL_112*Christoffelgamtilde_ULL_102*invgamtilde_UU_12 + Christoffelgamtilde_LLL_122*Christoffelgamtilde_ULL_100*invgamtilde_UU_02 + Christoffelgamtilde_LLL_122*Christoffelgamtilde_ULL_101*invgamtilde_UU_12 + Christoffelgamtilde_LLL_122*Christoffelgamtilde_ULL_102*invgamtilde_UU_22 + Christoffelgamtilde_LLL_202*Christoffelgamtilde_ULL_200*invgamtilde_UU_00 + Christoffelgamtilde_LLL_202*Christoffelgamtilde_ULL_201*invgamtilde_UU_01 + Christoffelgamtilde_LLL_202*Christoffelgamtilde_ULL_202*invgamtilde_UU_02 + Christoffelgamtilde_LLL_212*Christoffelgamtilde_ULL_200*invgamtilde_UU_01 + Christoffelgamtilde_LLL_212*Christoffelgamtilde_ULL_201*invgamtilde_UU_11 + Christoffelgamtilde_LLL_212*Christoffelgamtilde_ULL_202*invgamtilde_UU_12 + Christoffelgamtilde_LLL_222*Christoffelgamtilde_ULL_200*invgamtilde_UU_02 + Christoffelgamtilde_LLL_222*Christoffelgamtilde_ULL_201*invgamtilde_UU_12 + Christoffelgamtilde_LLL_222*Christoffelgamtilde_ULL_202*invgamtilde_UU_22 - 0.5*dDDgamtilde_LLLL_0200*invgamtilde_UU_00 - 1.0*dDDgamtilde_LLLL_0201*invgamtilde_UU_01 - 1.0*dDDgamtilde_LLLL_0202*invgamtilde_UU_02 - 0.5*dDDgamtilde_LLLL_0211*invgamtilde_UU_11 - 1.0*dDDgamtilde_LLLL_0212*invgamtilde_UU_12 - 0.5*dDDgamtilde_LLLL_0222*invgamtilde_UU_22 + 0.5*dDGamtilde_UL_00*gamtilde_LL_02 + 0.5*dDGamtilde_UL_02*gamtilde_LL_00 + 0.5*dDGamtilde_UL_10*gamtilde_LL_12 + 0.5*dDGamtilde_UL_12*gamtilde_LL_01 + 0.5*dDGamtilde_UL_20*gamtilde_LL_22 + 0.5*dDGamtilde_UL_22*gamtilde_LL_02 + invgamtilde_UU_00*(Christoffelgamtilde_LLL_000*Christoffelgamtilde_ULL_002 + Christoffelgamtilde_LLL_200*Christoffelgamtilde_ULL_000) + invgamtilde_UU_00*(Christoffelgamtilde_LLL_001*Christoffelgamtilde_ULL_102 + Christoffelgamtilde_LLL_201*Christoffelgamtilde_ULL_100) + invgamtilde_UU_00*(Christoffelgamtilde_LLL_002*Christoffelgamtilde_ULL_202 + Christoffelgamtilde_LLL_202*Christoffelgamtilde_ULL_200) + invgamtilde_UU_01*(Christoffelgamtilde_LLL_000*Christoffelgamtilde_ULL_012 + Christoffelgamtilde_LLL_200*Christoffelgamtilde_ULL_001) + invgamtilde_UU_01*(Christoffelgamtilde_LLL_001*Christoffelgamtilde_ULL_002 + Christoffelgamtilde_LLL_201*Christoffelgamtilde_ULL_000) + invgamtilde_UU_01*(Christoffelgamtilde_LLL_001*Christoffelgamtilde_ULL_112 + Christoffelgamtilde_LLL_201*Christoffelgamtilde_ULL_101) + invgamtilde_UU_01*(Christoffelgamtilde_LLL_002*Christoffelgamtilde_ULL_212 + Christoffelgamtilde_LLL_202*Christoffelgamtilde_ULL_201) + invgamtilde_UU_01*(Christoffelgamtilde_LLL_011*Christoffelgamtilde_ULL_102 + Christoffelgamtilde_LLL_211*Christoffelgamtilde_ULL_100) + invgamtilde_UU_01*(Christoffelgamtilde_LLL_012*Christoffelgamtilde_ULL_202 + Christoffelgamtilde_LLL_212*Christoffelgamtilde_ULL_200) + invgamtilde_UU_02*(Christoffelgamtilde_LLL_000*Christoffelgamtilde_ULL_022 + Christoffelgamtilde_LLL_200*Christoffelgamtilde_ULL_002) + invgamtilde_UU_02*(Christoffelgamtilde_LLL_001*Christoffelgamtilde_ULL_122 + Christoffelgamtilde_LLL_201*Christoffelgamtilde_ULL_102) + invgamtilde_UU_02*(Christoffelgamtilde_LLL_002*Christoffelgamtilde_ULL_002 + Christoffelgamtilde_LLL_202*Christoffelgamtilde_ULL_000) + invgamtilde_UU_02*(Christoffelgamtilde_LLL_002*Christoffelgamtilde_ULL_222 + Christoffelgamtilde_LLL_202*Christoffelgamtilde_ULL_202) + invgamtilde_UU_02*(Christoffelgamtilde_LLL_012*Christoffelgamtilde_ULL_102 + Christoffelgamtilde_LLL_212*Christoffelgamtilde_ULL_100) + invgamtilde_UU_02*(Christoffelgamtilde_LLL_022*Christoffelgamtilde_ULL_202 + Christoffelgamtilde_LLL_222*Christoffelgamtilde_ULL_200) + invgamtilde_UU_11*(Christoffelgamtilde_LLL_001*Christoffelgamtilde_ULL_012 + Christoffelgamtilde_LLL_201*Christoffelgamtilde_ULL_001) + invgamtilde_UU_11*(Christoffelgamtilde_LLL_011*Christoffelgamtilde_ULL_112 + Christoffelgamtilde_LLL_211*Christoffelgamtilde_ULL_101) + invgamtilde_UU_11*(Christoffelgamtilde_LLL_012*Christoffelgamtilde_ULL_212 + Christoffelgamtilde_LLL_212*Christoffelgamtilde_ULL_201) + invgamtilde_UU_12*(Christoffelgamtilde_LLL_001*Christoffelgamtilde_ULL_022 + Christoffelgamtilde_LLL_201*Christoffelgamtilde_ULL_002) + invgamtilde_UU_12*(Christoffelgamtilde_LLL_002*Christoffelgamtilde_ULL_012 + Christoffelgamtilde_LLL_202*Christoffelgamtilde_ULL_001) + invgamtilde_UU_12*(Christoffelgamtilde_LLL_011*Christoffelgamtilde_ULL_122 + Christoffelgamtilde_LLL_211*Christoffelgamtilde_ULL_102) + invgamtilde_UU_12*(Christoffelgamtilde_LLL_012*Christoffelgamtilde_ULL_112 + Christoffelgamtilde_LLL_212*Christoffelgamtilde_ULL_101) + invgamtilde_UU_12*(Christoffelgamtilde_LLL_012*Christoffelgamtilde_ULL_222 + Christoffelgamtilde_LLL_212*Christoffelgamtilde_ULL_202) + invgamtilde_UU_12*(Christoffelgamtilde_LLL_022*Christoffelgamtilde_ULL_212 + Christoffelgamtilde_LLL_222*Christoffelgamtilde_ULL_201) + invgamtilde_UU_22*(Christoffelgamtilde_LLL_002*Christoffelgamtilde_ULL_022 + Christoffelgamtilde_LLL_202*Christoffelgamtilde_ULL_002) + invgamtilde_UU_22*(Christoffelgamtilde_LLL_012*Christoffelgamtilde_ULL_122 + Christoffelgamtilde_LLL_212*Christoffelgamtilde_ULL_102) + invgamtilde_UU_22*(Christoffelgamtilde_LLL_022*Christoffelgamtilde_ULL_222 + Christoffelgamtilde_LLL_222*Christoffelgamtilde_ULL_202);\n",
      "        amrex::Real Z4cRicciTildegamtilde_LL_11 = 1.0*ChristoffelDgamtilde_U_0*Christoffelgamtilde_LLL_101 + 1.0*ChristoffelDgamtilde_U_1*Christoffelgamtilde_LLL_111 + 1.0*ChristoffelDgamtilde_U_2*Christoffelgamtilde_LLL_112 + Christoffelgamtilde_LLL_001*Christoffelgamtilde_ULL_001*invgamtilde_UU_00 + Christoffelgamtilde_LLL_001*Christoffelgamtilde_ULL_011*invgamtilde_UU_01 + Christoffelgamtilde_LLL_001*Christoffelgamtilde_ULL_012*invgamtilde_UU_02 + Christoffelgamtilde_LLL_011*Christoffelgamtilde_ULL_001*invgamtilde_UU_01 + Christoffelgamtilde_LLL_011*Christoffelgamtilde_ULL_011*invgamtilde_UU_11 + Christoffelgamtilde_LLL_011*Christoffelgamtilde_ULL_012*invgamtilde_UU_12 + Christoffelgamtilde_LLL_012*Christoffelgamtilde_ULL_001*invgamtilde_UU_02 + Christoffelgamtilde_LLL_012*Christoffelgamtilde_ULL_011*invgamtilde_UU_12 + Christoffelgamtilde_LLL_012*Christoffelgamtilde_ULL_012*invgamtilde_UU_22 + 2*Christoffelgamtilde_LLL_100*Christoffelgamtilde_ULL_001*invgamtilde_UU_00 + 2*Christoffelgamtilde_LLL_100*Christoffelgamtilde_ULL_011*invgamtilde_UU_01 + 2*Christoffelgamtilde_LLL_100*Christoffelgamtilde_ULL_012*invgamtilde_UU_02 + 2*Christoffelgamtilde_LLL_101*Christoffelgamtilde_ULL_001*invgamtilde_UU_01 + 2*Christoffelgamtilde_LLL_101*Christoffelgamtilde_ULL_011*invgamtilde_UU_11 + 2*Christoffelgamtilde_LLL_101*Christoffelgamtilde_ULL_012*invgamtilde_UU_12 + 3*Christoffelgamtilde_LLL_101*Christoffelgamtilde_ULL_101*invgamtilde_UU_00 + 3*Christoffelgamtilde_LLL_101*Christoffelgamtilde_ULL_111*invgamtilde_UU_01 + 3*Christoffelgamtilde_LLL_101*Christoffelgamtilde_ULL_112*invgamtilde_UU_02 + 2*Christoffelgamtilde_LLL_102*Christoffelgamtilde_ULL_001*invgamtilde_UU_02 + 2*Christoffelgamtilde_LLL_102*Christoffelgamtilde_ULL_011*invgamtilde_UU_12 + 2*Christoffelgamtilde_LLL_102*Christoffelgamtilde_ULL_012*invgamtilde_UU_22 + 2*Christoffelgamtilde_LLL_102*Christoffelgamtilde_ULL_201*invgamtilde_UU_00 + 2*Christoffelgamtilde_LLL_102*Christoffelgamtilde_ULL_211*invgamtilde_UU_01 + 2*Christoffelgamtilde_LLL_102*Christoffelgamtilde_ULL_212*invgamtilde_UU_02 + 3*Christoffelgamtilde_LLL_111*Christoffelgamtilde_ULL_101*invgamtilde_UU_01 + 3*Christoffelgamtilde_LLL_111*Christoffelgamtilde_ULL_111*invgamtilde_UU_11 + 3*Christoffelgamtilde_LLL_111*Christoffelgamtilde_ULL_112*invgamtilde_UU_12 + 3*Christoffelgamtilde_LLL_112*Christoffelgamtilde_ULL_101*invgamtilde_UU_02 + 3*Christoffelgamtilde_LLL_112*Christoffelgamtilde_ULL_111*invgamtilde_UU_12 + 3*Christoffelgamtilde_LLL_112*Christoffelgamtilde_ULL_112*invgamtilde_UU_22 + 2*Christoffelgamtilde_LLL_112*Christoffelgamtilde_ULL_201*invgamtilde_UU_01 + 2*Christoffelgamtilde_LLL_112*Christoffelgamtilde_ULL_211*invgamtilde_UU_11 + 2*Christoffelgamtilde_LLL_112*Christoffelgamtilde_ULL_212*invgamtilde_UU_12 + 2*Christoffelgamtilde_LLL_122*Christoffelgamtilde_ULL_201*invgamtilde_UU_02 + 2*Christoffelgamtilde_LLL_122*Christoffelgamtilde_ULL_211*invgamtilde_UU_12 + 2*Christoffelgamtilde_LLL_122*Christoffelgamtilde_ULL_212*invgamtilde_UU_22 + Christoffelgamtilde_LLL_201*Christoffelgamtilde_ULL_201*invgamtilde_UU_00 + Christoffelgamtilde_LLL_201*Christoffelgamtilde_ULL_211*invgamtilde_UU_01 + Christoffelgamtilde_LLL_201*Christoffelgamtilde_ULL_212*invgamtilde_UU_02 + Christoffelgamtilde_LLL_211*Christoffelgamtilde_ULL_201*invgamtilde_UU_01 + Christoffelgamtilde_LLL_211*Christoffelgamtilde_ULL_211*invgamtilde_UU_11 + Christoffelgamtilde_LLL_211*Christoffelgamtilde_ULL_212*invgamtilde_UU_12 + Christoffelgamtilde_LLL_212*Christoffelgamtilde_ULL_201*invgamtilde_UU_02 + Christoffelgamtilde_LLL_212*Christoffelgamtilde_ULL_211*invgamtilde_UU_12 + Christoffelgamtilde_LLL_212*Christoffelgamtilde_ULL_212*invgamtilde_UU_22 - 0.5*dDDgamtilde_LLLL_1100*invgamtilde_UU_00 - 1.0*dDDgamtilde_LLLL_1101*invgamtilde_UU_01 - 1.0*dDDgamtilde_LLLL_1102*invgamtilde_UU_02 - 0.5*dDDgamtilde_LLLL_1111*invgamtilde_UU_11 - 1.0*dDDgamtilde_LLLL_1112*invgamtilde_UU_12 - 0.5*dDDgamtilde_LLLL_1122*invgamtilde_UU_22 + 1.0*dDGamtilde_UL_01*gamtilde_LL_01 + 1.0*dDGamtilde_UL_11*gamtilde_LL_11 + 1.0*dDGamtilde_UL_21*gamtilde_LL_12;\n",
      "        amrex::Real Z4cRicciTildegamtilde_LL_12 = 0.5*ChristoffelDgamtilde_U_0*(Christoffelgamtilde_LLL_102 + Christoffelgamtilde_LLL_201) + 0.5*ChristoffelDgamtilde_U_1*(Christoffelgamtilde_LLL_112 + Christoffelgamtilde_LLL_211) + 0.5*ChristoffelDgamtilde_U_2*(Christoffelgamtilde_LLL_122 + Christoffelgamtilde_LLL_212) + Christoffelgamtilde_LLL_002*Christoffelgamtilde_ULL_001*invgamtilde_UU_00 + Christoffelgamtilde_LLL_002*Christoffelgamtilde_ULL_011*invgamtilde_UU_01 + Christoffelgamtilde_LLL_002*Christoffelgamtilde_ULL_012*invgamtilde_UU_02 + Christoffelgamtilde_LLL_012*Christoffelgamtilde_ULL_001*invgamtilde_UU_01 + Christoffelgamtilde_LLL_012*Christoffelgamtilde_ULL_011*invgamtilde_UU_11 + Christoffelgamtilde_LLL_012*Christoffelgamtilde_ULL_012*invgamtilde_UU_12 + Christoffelgamtilde_LLL_022*Christoffelgamtilde_ULL_001*invgamtilde_UU_02 + Christoffelgamtilde_LLL_022*Christoffelgamtilde_ULL_011*invgamtilde_UU_12 + Christoffelgamtilde_LLL_022*Christoffelgamtilde_ULL_012*invgamtilde_UU_22 + Christoffelgamtilde_LLL_102*Christoffelgamtilde_ULL_101*invgamtilde_UU_00 + Christoffelgamtilde_LLL_102*Christoffelgamtilde_ULL_111*invgamtilde_UU_01 + Christoffelgamtilde_LLL_102*Christoffelgamtilde_ULL_112*invgamtilde_UU_02 + Christoffelgamtilde_LLL_112*Christoffelgamtilde_ULL_101*invgamtilde_UU_01 + Christoffelgamtilde_LLL_112*Christoffelgamtilde_ULL_111*invgamtilde_UU_11 + Christoffelgamtilde_LLL_112*Christoffelgamtilde_ULL_112*invgamtilde_UU_12 + Christoffelgamtilde_LLL_122*Christoffelgamtilde_ULL_101*invgamtilde_UU_02 + Christoffelgamtilde_LLL_122*Christoffelgamtilde_ULL_111*invgamtilde_UU_12 + Christoffelgamtilde_LLL_122*Christoffelgamtilde_ULL_112*invgamtilde_UU_22 + Christoffelgamtilde_LLL_202*Christoffelgamtilde_ULL_201*invgamtilde_UU_00 + Christoffelgamtilde_LLL_202*Christoffelgamtilde_ULL_211*invgamtilde_UU_01 + Christoffelgamtilde_LLL_202*Christoffelgamtilde_ULL_212*invgamtilde_UU_02 + Christoffelgamtilde_LLL_212*Christoffelgamtilde_ULL_201*invgamtilde_UU_01 + Christoffelgamtilde_LLL_212*Christoffelgamtilde_ULL_211*invgamtilde_UU_11 + Christoffelgamtilde_LLL_212*Christoffelgamtilde_ULL_212*invgamtilde_UU_12 + Christoffelgamtilde_LLL_222*Christoffelgamtilde_ULL_201*invgamtilde_UU_02 + Christoffelgamtilde_LLL_222*Christoffelgamtilde_ULL_211*invgamtilde_UU_12 + Christoffelgamtilde_LLL_222*Christoffelgamtilde_ULL_212*invgamtilde_UU_22 - 0.5*dDDgamtilde_LLLL_1200*invgamtilde_UU_00 - 1.0*dDDgamtilde_LLLL_1201*invgamtilde_UU_01 - 1.0*dDDgamtilde_LLLL_1202*invgamtilde_UU_02 - 0.5*dDDgamtilde_LLLL_1211*invgamtilde_UU_11 - 1.0*dDDgamtilde_LLLL_1212*invgamtilde_UU_12 - 0.5*dDDgamtilde_LLLL_1222*invgamtilde_UU_22 + 0.5*dDGamtilde_UL_01*gamtilde_LL_02 + 0.5*dDGamtilde_UL_02*gamtilde_LL_01 + 0.5*dDGamtilde_UL_11*gamtilde_LL_12 + 0.5*dDGamtilde_UL_12*gamtilde_LL_11 + 0.5*dDGamtilde_UL_21*gamtilde_LL_22 + 0.5*dDGamtilde_UL_22*gamtilde_LL_12 + invgamtilde_UU_00*(Christoffelgamtilde_LLL_100*Christoffelgamtilde_ULL_002 + Christoffelgamtilde_LLL_200*Christoffelgamtilde_ULL_001) + invgamtilde_UU_00*(Christoffelgamtilde_LLL_101*Christoffelgamtilde_ULL_102 + Christoffelgamtilde_LLL_201*Christoffelgamtilde_ULL_101) + invgamtilde_UU_00*(Christoffelgamtilde_LLL_102*Christoffelgamtilde_ULL_202 + Christoffelgamtilde_LLL_202*Christoffelgamtilde_ULL_201) + invgamtilde_UU_01*(Christoffelgamtilde_LLL_100*Christoffelgamtilde_ULL_012 + Christoffelgamtilde_LLL_200*Christoffelgamtilde_ULL_011) + invgamtilde_UU_01*(Christoffelgamtilde_LLL_101*Christoffelgamtilde_ULL_002 + Christoffelgamtilde_LLL_201*Christoffelgamtilde_ULL_001) + invgamtilde_UU_01*(Christoffelgamtilde_LLL_101*Christoffelgamtilde_ULL_112 + Christoffelgamtilde_LLL_201*Christoffelgamtilde_ULL_111) + invgamtilde_UU_01*(Christoffelgamtilde_LLL_102*Christoffelgamtilde_ULL_212 + Christoffelgamtilde_LLL_202*Christoffelgamtilde_ULL_211) + invgamtilde_UU_01*(Christoffelgamtilde_LLL_111*Christoffelgamtilde_ULL_102 + Christoffelgamtilde_LLL_211*Christoffelgamtilde_ULL_101) + invgamtilde_UU_01*(Christoffelgamtilde_LLL_112*Christoffelgamtilde_ULL_202 + Christoffelgamtilde_LLL_212*Christoffelgamtilde_ULL_201) + invgamtilde_UU_02*(Christoffelgamtilde_LLL_100*Christoffelgamtilde_ULL_022 + Christoffelgamtilde_LLL_200*Christoffelgamtilde_ULL_012) + invgamtilde_UU_02*(Christoffelgamtilde_LLL_101*Christoffelgamtilde_ULL_122 + Christoffelgamtilde_LLL_201*Christoffelgamtilde_ULL_112) + invgamtilde_UU_02*(Christoffelgamtilde_LLL_102*Christoffelgamtilde_ULL_002 + Christoffelgamtilde_LLL_202*Christoffelgamtilde_ULL_001) + invgamtilde_UU_02*(Christoffelgamtilde_LLL_102*Christoffelgamtilde_ULL_222 + Christoffelgamtilde_LLL_202*Christoffelgamtilde_ULL_212) + invgamtilde_UU_02*(Christoffelgamtilde_LLL_112*Christoffelgamtilde_ULL_102 + Christoffelgamtilde_LLL_212*Christoffelgamtilde_ULL_101) + invgamtilde_UU_02*(Christoffelgamtilde_LLL_122*Christoffelgamtilde_ULL_202 + Christoffelgamtilde_LLL_222*Christoffelgamtilde_ULL_201) + invgamtilde_UU_11*(Christoffelgamtilde_LLL_101*Christoffelgamtilde_ULL_012 + Christoffelgamtilde_LLL_201*Christoffelgamtilde_ULL_011) + invgamtilde_UU_11*(Christoffelgamtilde_LLL_111*Christoffelgamtilde_ULL_112 + Christoffelgamtilde_LLL_211*Christoffelgamtilde_ULL_111) + invgamtilde_UU_11*(Christoffelgamtilde_LLL_112*Christoffelgamtilde_ULL_212 + Christoffelgamtilde_LLL_212*Christoffelgamtilde_ULL_211) + invgamtilde_UU_12*(Christoffelgamtilde_LLL_101*Christoffelgamtilde_ULL_022 + Christoffelgamtilde_LLL_201*Christoffelgamtilde_ULL_012) + invgamtilde_UU_12*(Christoffelgamtilde_LLL_102*Christoffelgamtilde_ULL_012 + Christoffelgamtilde_LLL_202*Christoffelgamtilde_ULL_011) + invgamtilde_UU_12*(Christoffelgamtilde_LLL_111*Christoffelgamtilde_ULL_122 + Christoffelgamtilde_LLL_211*Christoffelgamtilde_ULL_112) + invgamtilde_UU_12*(Christoffelgamtilde_LLL_112*Christoffelgamtilde_ULL_112 + Christoffelgamtilde_LLL_212*Christoffelgamtilde_ULL_111) + invgamtilde_UU_12*(Christoffelgamtilde_LLL_112*Christoffelgamtilde_ULL_222 + Christoffelgamtilde_LLL_212*Christoffelgamtilde_ULL_212) + invgamtilde_UU_12*(Christoffelgamtilde_LLL_122*Christoffelgamtilde_ULL_212 + Christoffelgamtilde_LLL_222*Christoffelgamtilde_ULL_211) + invgamtilde_UU_22*(Christoffelgamtilde_LLL_102*Christoffelgamtilde_ULL_022 + Christoffelgamtilde_LLL_202*Christoffelgamtilde_ULL_012) + invgamtilde_UU_22*(Christoffelgamtilde_LLL_112*Christoffelgamtilde_ULL_122 + Christoffelgamtilde_LLL_212*Christoffelgamtilde_ULL_112) + invgamtilde_UU_22*(Christoffelgamtilde_LLL_122*Christoffelgamtilde_ULL_222 + Christoffelgamtilde_LLL_222*Christoffelgamtilde_ULL_212);\n",
      "        amrex::Real Z4cRicciTildegamtilde_LL_22 = 1.0*ChristoffelDgamtilde_U_0*Christoffelgamtilde_LLL_202 + 1.0*ChristoffelDgamtilde_U_1*Christoffelgamtilde_LLL_212 + 1.0*ChristoffelDgamtilde_U_2*Christoffelgamtilde_LLL_222 + Christoffelgamtilde_LLL_002*Christoffelgamtilde_ULL_002*invgamtilde_UU_00 + Christoffelgamtilde_LLL_002*Christoffelgamtilde_ULL_012*invgamtilde_UU_01 + Christoffelgamtilde_LLL_002*Christoffelgamtilde_ULL_022*invgamtilde_UU_02 + Christoffelgamtilde_LLL_012*Christoffelgamtilde_ULL_002*invgamtilde_UU_01 + Christoffelgamtilde_LLL_012*Christoffelgamtilde_ULL_012*invgamtilde_UU_11 + Christoffelgamtilde_LLL_012*Christoffelgamtilde_ULL_022*invgamtilde_UU_12 + Christoffelgamtilde_LLL_022*Christoffelgamtilde_ULL_002*invgamtilde_UU_02 + Christoffelgamtilde_LLL_022*Christoffelgamtilde_ULL_012*invgamtilde_UU_12 + Christoffelgamtilde_LLL_022*Christoffelgamtilde_ULL_022*invgamtilde_UU_22 + Christoffelgamtilde_LLL_102*Christoffelgamtilde_ULL_102*invgamtilde_UU_00 + Christoffelgamtilde_LLL_102*Christoffelgamtilde_ULL_112*invgamtilde_UU_01 + Christoffelgamtilde_LLL_102*Christoffelgamtilde_ULL_122*invgamtilde_UU_02 + Christoffelgamtilde_LLL_112*Christoffelgamtilde_ULL_102*invgamtilde_UU_01 + Christoffelgamtilde_LLL_112*Christoffelgamtilde_ULL_112*invgamtilde_UU_11 + Christoffelgamtilde_LLL_112*Christoffelgamtilde_ULL_122*invgamtilde_UU_12 + Christoffelgamtilde_LLL_122*Christoffelgamtilde_ULL_102*invgamtilde_UU_02 + Christoffelgamtilde_LLL_122*Christoffelgamtilde_ULL_112*invgamtilde_UU_12 + Christoffelgamtilde_LLL_122*Christoffelgamtilde_ULL_122*invgamtilde_UU_22 + 2*Christoffelgamtilde_LLL_200*Christoffelgamtilde_ULL_002*invgamtilde_UU_00 + 2*Christoffelgamtilde_LLL_200*Christoffelgamtilde_ULL_012*invgamtilde_UU_01 + 2*Christoffelgamtilde_LLL_200*Christoffelgamtilde_ULL_022*invgamtilde_UU_02 + 2*Christoffelgamtilde_LLL_201*Christoffelgamtilde_ULL_002*invgamtilde_UU_01 + 2*Christoffelgamtilde_LLL_201*Christoffelgamtilde_ULL_012*invgamtilde_UU_11 + 2*Christoffelgamtilde_LLL_201*Christoffelgamtilde_ULL_022*invgamtilde_UU_12 + 2*Christoffelgamtilde_LLL_201*Christoffelgamtilde_ULL_102*invgamtilde_UU_00 + 2*Christoffelgamtilde_LLL_201*Christoffelgamtilde_ULL_112*invgamtilde_UU_01 + 2*Christoffelgamtilde_LLL_201*Christoffelgamtilde_ULL_122*invgamtilde_UU_02 + 2*Christoffelgamtilde_LLL_202*Christoffelgamtilde_ULL_002*invgamtilde_UU_02 + 2*Christoffelgamtilde_LLL_202*Christoffelgamtilde_ULL_012*invgamtilde_UU_12 + 2*Christoffelgamtilde_LLL_202*Christoffelgamtilde_ULL_022*invgamtilde_UU_22 + 3*Christoffelgamtilde_LLL_202*Christoffelgamtilde_ULL_202*invgamtilde_UU_00 + 3*Christoffelgamtilde_LLL_202*Christoffelgamtilde_ULL_212*invgamtilde_UU_01 + 3*Christoffelgamtilde_LLL_202*Christoffelgamtilde_ULL_222*invgamtilde_UU_02 + 2*Christoffelgamtilde_LLL_211*Christoffelgamtilde_ULL_102*invgamtilde_UU_01 + 2*Christoffelgamtilde_LLL_211*Christoffelgamtilde_ULL_112*invgamtilde_UU_11 + 2*Christoffelgamtilde_LLL_211*Christoffelgamtilde_ULL_122*invgamtilde_UU_12 + 2*Christoffelgamtilde_LLL_212*Christoffelgamtilde_ULL_102*invgamtilde_UU_02 + 2*Christoffelgamtilde_LLL_212*Christoffelgamtilde_ULL_112*invgamtilde_UU_12 + 2*Christoffelgamtilde_LLL_212*Christoffelgamtilde_ULL_122*invgamtilde_UU_22 + 3*Christoffelgamtilde_LLL_212*Christoffelgamtilde_ULL_202*invgamtilde_UU_01 + 3*Christoffelgamtilde_LLL_212*Christoffelgamtilde_ULL_212*invgamtilde_UU_11 + 3*Christoffelgamtilde_LLL_212*Christoffelgamtilde_ULL_222*invgamtilde_UU_12 + 3*Christoffelgamtilde_LLL_222*Christoffelgamtilde_ULL_202*invgamtilde_UU_02 + 3*Christoffelgamtilde_LLL_222*Christoffelgamtilde_ULL_212*invgamtilde_UU_12 + 3*Christoffelgamtilde_LLL_222*Christoffelgamtilde_ULL_222*invgamtilde_UU_22 - 0.5*dDDgamtilde_LLLL_2200*invgamtilde_UU_00 - 1.0*dDDgamtilde_LLLL_2201*invgamtilde_UU_01 - 1.0*dDDgamtilde_LLLL_2202*invgamtilde_UU_02 - 0.5*dDDgamtilde_LLLL_2211*invgamtilde_UU_11 - 1.0*dDDgamtilde_LLLL_2212*invgamtilde_UU_12 - 0.5*dDDgamtilde_LLLL_2222*invgamtilde_UU_22 + 1.0*dDGamtilde_UL_02*gamtilde_LL_02 + 1.0*dDGamtilde_UL_12*gamtilde_LL_12 + 1.0*dDGamtilde_UL_22*gamtilde_LL_22;\n",
      "\n",
      "        amrex::Real CovdDphi_L_0 = dDphi_L_0;\n",
      "        amrex::Real CovdDphi_L_1 = dDphi_L_1;\n",
      "        amrex::Real CovdDphi_L_2 = dDphi_L_2;\n",
      "\n",
      "        amrex::Real CovdDDphi_LL_00 = -Christoffelgamtilde_ULL_000*dDphi_L_0 - Christoffelgamtilde_ULL_100*dDphi_L_1 - Christoffelgamtilde_ULL_200*dDphi_L_2 + dDDphi_LL_00;\n",
      "        amrex::Real CovdDDphi_LL_01 = -Christoffelgamtilde_ULL_001*dDphi_L_0 - Christoffelgamtilde_ULL_101*dDphi_L_1 - Christoffelgamtilde_ULL_201*dDphi_L_2 + dDDphi_LL_01;\n",
      "        amrex::Real CovdDDphi_LL_02 = -Christoffelgamtilde_ULL_002*dDphi_L_0 - Christoffelgamtilde_ULL_102*dDphi_L_1 - Christoffelgamtilde_ULL_202*dDphi_L_2 + dDDphi_LL_02;\n",
      "        amrex::Real CovdDDphi_LL_11 = -Christoffelgamtilde_ULL_011*dDphi_L_0 - Christoffelgamtilde_ULL_111*dDphi_L_1 - Christoffelgamtilde_ULL_211*dDphi_L_2 + dDDphi_LL_11;\n",
      "        amrex::Real CovdDDphi_LL_12 = -Christoffelgamtilde_ULL_012*dDphi_L_0 - Christoffelgamtilde_ULL_112*dDphi_L_1 - Christoffelgamtilde_ULL_212*dDphi_L_2 + dDDphi_LL_12;\n",
      "        amrex::Real CovdDDphi_LL_22 = -Christoffelgamtilde_ULL_022*dDphi_L_0 - Christoffelgamtilde_ULL_122*dDphi_L_1 - Christoffelgamtilde_ULL_222*dDphi_L_2 + dDDphi_LL_22;\n",
      "\n",
      "        amrex::Real Rphi_LL_00 = -2*CovdDDphi_LL_00 + 4*std::pow(CovdDphi_L_0, 2) - gamtilde_LL_00*(2*CovdDDphi_LL_00*invgamtilde_UU_00 + 4*std::pow(CovdDphi_L_0, 2)*invgamtilde_UU_00) - 2*gamtilde_LL_00*(2*CovdDDphi_LL_01*invgamtilde_UU_01 + 4*CovdDphi_L_0*CovdDphi_L_1*invgamtilde_UU_01) - 2*gamtilde_LL_00*(2*CovdDDphi_LL_02*invgamtilde_UU_02 + 4*CovdDphi_L_0*CovdDphi_L_2*invgamtilde_UU_02) - gamtilde_LL_00*(2*CovdDDphi_LL_11*invgamtilde_UU_11 + 4*std::pow(CovdDphi_L_1, 2)*invgamtilde_UU_11) - 2*gamtilde_LL_00*(2*CovdDDphi_LL_12*invgamtilde_UU_12 + 4*CovdDphi_L_1*CovdDphi_L_2*invgamtilde_UU_12) - gamtilde_LL_00*(2*CovdDDphi_LL_22*invgamtilde_UU_22 + 4*std::pow(CovdDphi_L_2, 2)*invgamtilde_UU_22);\n",
      "        amrex::Real Rphi_LL_01 = -2*CovdDDphi_LL_01 + 4*CovdDphi_L_0*CovdDphi_L_1 - gamtilde_LL_01*(2*CovdDDphi_LL_00*invgamtilde_UU_00 + 4*std::pow(CovdDphi_L_0, 2)*invgamtilde_UU_00) - 2*gamtilde_LL_01*(2*CovdDDphi_LL_01*invgamtilde_UU_01 + 4*CovdDphi_L_0*CovdDphi_L_1*invgamtilde_UU_01) - 2*gamtilde_LL_01*(2*CovdDDphi_LL_02*invgamtilde_UU_02 + 4*CovdDphi_L_0*CovdDphi_L_2*invgamtilde_UU_02) - gamtilde_LL_01*(2*CovdDDphi_LL_11*invgamtilde_UU_11 + 4*std::pow(CovdDphi_L_1, 2)*invgamtilde_UU_11) - 2*gamtilde_LL_01*(2*CovdDDphi_LL_12*invgamtilde_UU_12 + 4*CovdDphi_L_1*CovdDphi_L_2*invgamtilde_UU_12) - gamtilde_LL_01*(2*CovdDDphi_LL_22*invgamtilde_UU_22 + 4*std::pow(CovdDphi_L_2, 2)*invgamtilde_UU_22);\n",
      "        amrex::Real Rphi_LL_02 = -2*CovdDDphi_LL_02 + 4*CovdDphi_L_0*CovdDphi_L_2 - gamtilde_LL_02*(2*CovdDDphi_LL_00*invgamtilde_UU_00 + 4*std::pow(CovdDphi_L_0, 2)*invgamtilde_UU_00) - 2*gamtilde_LL_02*(2*CovdDDphi_LL_01*invgamtilde_UU_01 + 4*CovdDphi_L_0*CovdDphi_L_1*invgamtilde_UU_01) - 2*gamtilde_LL_02*(2*CovdDDphi_LL_02*invgamtilde_UU_02 + 4*CovdDphi_L_0*CovdDphi_L_2*invgamtilde_UU_02) - gamtilde_LL_02*(2*CovdDDphi_LL_11*invgamtilde_UU_11 + 4*std::pow(CovdDphi_L_1, 2)*invgamtilde_UU_11) - 2*gamtilde_LL_02*(2*CovdDDphi_LL_12*invgamtilde_UU_12 + 4*CovdDphi_L_1*CovdDphi_L_2*invgamtilde_UU_12) - gamtilde_LL_02*(2*CovdDDphi_LL_22*invgamtilde_UU_22 + 4*std::pow(CovdDphi_L_2, 2)*invgamtilde_UU_22);\n",
      "        amrex::Real Rphi_LL_11 = -2*CovdDDphi_LL_11 + 4*std::pow(CovdDphi_L_1, 2) - gamtilde_LL_11*(2*CovdDDphi_LL_00*invgamtilde_UU_00 + 4*std::pow(CovdDphi_L_0, 2)*invgamtilde_UU_00) - 2*gamtilde_LL_11*(2*CovdDDphi_LL_01*invgamtilde_UU_01 + 4*CovdDphi_L_0*CovdDphi_L_1*invgamtilde_UU_01) - 2*gamtilde_LL_11*(2*CovdDDphi_LL_02*invgamtilde_UU_02 + 4*CovdDphi_L_0*CovdDphi_L_2*invgamtilde_UU_02) - gamtilde_LL_11*(2*CovdDDphi_LL_11*invgamtilde_UU_11 + 4*std::pow(CovdDphi_L_1, 2)*invgamtilde_UU_11) - 2*gamtilde_LL_11*(2*CovdDDphi_LL_12*invgamtilde_UU_12 + 4*CovdDphi_L_1*CovdDphi_L_2*invgamtilde_UU_12) - gamtilde_LL_11*(2*CovdDDphi_LL_22*invgamtilde_UU_22 + 4*std::pow(CovdDphi_L_2, 2)*invgamtilde_UU_22);\n",
      "        amrex::Real Rphi_LL_12 = -2*CovdDDphi_LL_12 + 4*CovdDphi_L_1*CovdDphi_L_2 - gamtilde_LL_12*(2*CovdDDphi_LL_00*invgamtilde_UU_00 + 4*std::pow(CovdDphi_L_0, 2)*invgamtilde_UU_00) - 2*gamtilde_LL_12*(2*CovdDDphi_LL_01*invgamtilde_UU_01 + 4*CovdDphi_L_0*CovdDphi_L_1*invgamtilde_UU_01) - 2*gamtilde_LL_12*(2*CovdDDphi_LL_02*invgamtilde_UU_02 + 4*CovdDphi_L_0*CovdDphi_L_2*invgamtilde_UU_02) - gamtilde_LL_12*(2*CovdDDphi_LL_11*invgamtilde_UU_11 + 4*std::pow(CovdDphi_L_1, 2)*invgamtilde_UU_11) - 2*gamtilde_LL_12*(2*CovdDDphi_LL_12*invgamtilde_UU_12 + 4*CovdDphi_L_1*CovdDphi_L_2*invgamtilde_UU_12) - gamtilde_LL_12*(2*CovdDDphi_LL_22*invgamtilde_UU_22 + 4*std::pow(CovdDphi_L_2, 2)*invgamtilde_UU_22);\n",
      "        amrex::Real Rphi_LL_22 = -2*CovdDDphi_LL_22 + 4*std::pow(CovdDphi_L_2, 2) - gamtilde_LL_22*(2*CovdDDphi_LL_00*invgamtilde_UU_00 + 4*std::pow(CovdDphi_L_0, 2)*invgamtilde_UU_00) - 2*gamtilde_LL_22*(2*CovdDDphi_LL_01*invgamtilde_UU_01 + 4*CovdDphi_L_0*CovdDphi_L_1*invgamtilde_UU_01) - 2*gamtilde_LL_22*(2*CovdDDphi_LL_02*invgamtilde_UU_02 + 4*CovdDphi_L_0*CovdDphi_L_2*invgamtilde_UU_02) - gamtilde_LL_22*(2*CovdDDphi_LL_11*invgamtilde_UU_11 + 4*std::pow(CovdDphi_L_1, 2)*invgamtilde_UU_11) - 2*gamtilde_LL_22*(2*CovdDDphi_LL_12*invgamtilde_UU_12 + 4*CovdDphi_L_1*CovdDphi_L_2*invgamtilde_UU_12) - gamtilde_LL_22*(2*CovdDDphi_LL_22*invgamtilde_UU_22 + 4*std::pow(CovdDphi_L_2, 2)*invgamtilde_UU_22);\n",
      "\n",
      "        amrex::Real R_LL_00 = Rphi_LL_00 + Z4cRicciTildegamtilde_LL_00;\n",
      "        amrex::Real R_LL_01 = Rphi_LL_01 + Z4cRicciTildegamtilde_LL_01;\n",
      "        amrex::Real R_LL_02 = Rphi_LL_02 + Z4cRicciTildegamtilde_LL_02;\n",
      "        amrex::Real R_LL_11 = Rphi_LL_11 + Z4cRicciTildegamtilde_LL_11;\n",
      "        amrex::Real R_LL_12 = Rphi_LL_12 + Z4cRicciTildegamtilde_LL_12;\n",
      "        amrex::Real R_LL_22 = Rphi_LL_22 + Z4cRicciTildegamtilde_LL_22;\n",
      "\n",
      "        amrex::Real Rsclr = R_LL_00*invgam_UU_00 + 2*R_LL_01*invgam_UU_01 + 2*R_LL_02*invgam_UU_02 + R_LL_11*invgam_UU_11 + 2*R_LL_12*invgam_UU_12 + R_LL_22*invgam_UU_22;\n",
      "\n",
      "        amrex::Real RTF_LL_00 = R_LL_00 - 1.0/3.0*Rsclr*gam_LL_00;\n",
      "        amrex::Real RTF_LL_01 = R_LL_01 - 1.0/3.0*Rsclr*gam_LL_01;\n",
      "        amrex::Real RTF_LL_02 = R_LL_02 - 1.0/3.0*Rsclr*gam_LL_02;\n",
      "        amrex::Real RTF_LL_11 = R_LL_11 - 1.0/3.0*Rsclr*gam_LL_11;\n",
      "        amrex::Real RTF_LL_12 = R_LL_12 - 1.0/3.0*Rsclr*gam_LL_12;\n",
      "        amrex::Real RTF_LL_22 = R_LL_22 - 1.0/3.0*Rsclr*gam_LL_22;\n",
      "\n",
      "        amrex::Real CovdDbeta_UL_00 = Christoffelgamtilde_ULL_000*beta_U_0 + Christoffelgamtilde_ULL_001*beta_U_1 + Christoffelgamtilde_ULL_002*beta_U_2 + dDbeta_UL_00;\n",
      "        amrex::Real CovdDbeta_UL_01 = Christoffelgamtilde_ULL_001*beta_U_0 + Christoffelgamtilde_ULL_011*beta_U_1 + Christoffelgamtilde_ULL_012*beta_U_2 + dDbeta_UL_01;\n",
      "        amrex::Real CovdDbeta_UL_02 = Christoffelgamtilde_ULL_002*beta_U_0 + Christoffelgamtilde_ULL_012*beta_U_1 + Christoffelgamtilde_ULL_022*beta_U_2 + dDbeta_UL_02;\n",
      "        amrex::Real CovdDbeta_UL_10 = Christoffelgamtilde_ULL_100*beta_U_0 + Christoffelgamtilde_ULL_101*beta_U_1 + Christoffelgamtilde_ULL_102*beta_U_2 + dDbeta_UL_10;\n",
      "        amrex::Real CovdDbeta_UL_11 = Christoffelgamtilde_ULL_101*beta_U_0 + Christoffelgamtilde_ULL_111*beta_U_1 + Christoffelgamtilde_ULL_112*beta_U_2 + dDbeta_UL_11;\n",
      "        amrex::Real CovdDbeta_UL_12 = Christoffelgamtilde_ULL_102*beta_U_0 + Christoffelgamtilde_ULL_112*beta_U_1 + Christoffelgamtilde_ULL_122*beta_U_2 + dDbeta_UL_12;\n",
      "        amrex::Real CovdDbeta_UL_20 = Christoffelgamtilde_ULL_200*beta_U_0 + Christoffelgamtilde_ULL_201*beta_U_1 + Christoffelgamtilde_ULL_202*beta_U_2 + dDbeta_UL_20;\n",
      "        amrex::Real CovdDbeta_UL_21 = Christoffelgamtilde_ULL_201*beta_U_0 + Christoffelgamtilde_ULL_211*beta_U_1 + Christoffelgamtilde_ULL_212*beta_U_2 + dDbeta_UL_21;\n",
      "        amrex::Real CovdDbeta_UL_22 = Christoffelgamtilde_ULL_202*beta_U_0 + Christoffelgamtilde_ULL_212*beta_U_1 + Christoffelgamtilde_ULL_222*beta_U_2 + dDbeta_UL_22;\n",
      "\n",
      "        amrex::Real divTildebeta = CovdDbeta_UL_00 + CovdDbeta_UL_11 + CovdDbeta_UL_22;\n",
      "\n",
      "        amrex::Real KOSigma = 8.0/25.0;\n",
      "\n",
      "        rhs_fab(i, j, k, Idx::phi) = AdvDbetaphi + KOSigma*dKODphi - 1.0/6.0*alpha*(Khat + theta) + (1.0/6.0)*dDbeta_UL_00 + (1.0/6.0)*dDbeta_UL_11 + (1.0/6.0)*dDbeta_UL_22;\n",
      "\n",
      "        rhs_fab(i, j, k, Idx::gamtilde_LL_00) = AdvDbetagamtilde_LL_00 - 2*Atilde_LL_00*alpha + KOSigma*dKODgamtilde_LL_00 + (4.0/3.0)*dDbeta_UL_00*gamtilde_LL_00 + 2*dDbeta_UL_10*gamtilde_LL_01 - 2.0/3.0*dDbeta_UL_11*gamtilde_LL_00 + 2*dDbeta_UL_20*gamtilde_LL_02 - 2.0/3.0*dDbeta_UL_22*gamtilde_LL_00;\n",
      "        rhs_fab(i, j, k, Idx::gamtilde_LL_01) = AdvDbetagamtilde_LL_01 - 2*Atilde_LL_01*alpha + KOSigma*dKODgamtilde_LL_01 + (1.0/3.0)*dDbeta_UL_00*gamtilde_LL_01 + dDbeta_UL_01*gamtilde_LL_00 + dDbeta_UL_10*gamtilde_LL_11 + (1.0/3.0)*dDbeta_UL_11*gamtilde_LL_01 + dDbeta_UL_20*gamtilde_LL_12 + dDbeta_UL_21*gamtilde_LL_02 - 2.0/3.0*dDbeta_UL_22*gamtilde_LL_01;\n",
      "        rhs_fab(i, j, k, Idx::gamtilde_LL_02) = AdvDbetagamtilde_LL_02 - 2*Atilde_LL_02*alpha + KOSigma*dKODgamtilde_LL_02 + (1.0/3.0)*dDbeta_UL_00*gamtilde_LL_02 + dDbeta_UL_02*gamtilde_LL_00 + dDbeta_UL_10*gamtilde_LL_12 - 2.0/3.0*dDbeta_UL_11*gamtilde_LL_02 + dDbeta_UL_12*gamtilde_LL_01 + dDbeta_UL_20*gamtilde_LL_22 + (1.0/3.0)*dDbeta_UL_22*gamtilde_LL_02;\n",
      "        rhs_fab(i, j, k, Idx::gamtilde_LL_11) = AdvDbetagamtilde_LL_11 - 2*Atilde_LL_11*alpha + KOSigma*dKODgamtilde_LL_11 - 2.0/3.0*dDbeta_UL_00*gamtilde_LL_11 + 2*dDbeta_UL_01*gamtilde_LL_01 + (4.0/3.0)*dDbeta_UL_11*gamtilde_LL_11 + 2*dDbeta_UL_21*gamtilde_LL_12 - 2.0/3.0*dDbeta_UL_22*gamtilde_LL_11;\n",
      "        rhs_fab(i, j, k, Idx::gamtilde_LL_12) = AdvDbetagamtilde_LL_12 - 2*Atilde_LL_12*alpha + KOSigma*dKODgamtilde_LL_12 - 2.0/3.0*dDbeta_UL_00*gamtilde_LL_12 + dDbeta_UL_01*gamtilde_LL_02 + dDbeta_UL_02*gamtilde_LL_01 + (1.0/3.0)*dDbeta_UL_11*gamtilde_LL_12 + dDbeta_UL_12*gamtilde_LL_11 + dDbeta_UL_21*gamtilde_LL_22 + (1.0/3.0)*dDbeta_UL_22*gamtilde_LL_12;\n",
      "        rhs_fab(i, j, k, Idx::gamtilde_LL_22) = AdvDbetagamtilde_LL_22 - 2*Atilde_LL_22*alpha + KOSigma*dKODgamtilde_LL_22 - 2.0/3.0*dDbeta_UL_00*gamtilde_LL_22 + 2*dDbeta_UL_02*gamtilde_LL_02 - 2.0/3.0*dDbeta_UL_11*gamtilde_LL_22 + 2*dDbeta_UL_12*gamtilde_LL_12 + (4.0/3.0)*dDbeta_UL_22*gamtilde_LL_22;\n",
      "\n",
      "        amrex::Real kappa1 = 0.0;\n",
      "\n",
      "        amrex::Real kappa2 = 0;\n",
      "\n",
      "        rhs_fab(i, j, k, Idx::Khat) = AdvDbetaKhat + Atilde_LL_00*Atilde_UU_00*alpha + 2*Atilde_LL_01*Atilde_UU_01*alpha + 2*Atilde_LL_02*Atilde_UU_02*alpha + Atilde_LL_11*Atilde_UU_11*alpha + 2*Atilde_LL_12*Atilde_UU_12*alpha + Atilde_LL_22*Atilde_UU_22*alpha - CovdDDalpha_LL_00*invgam_UU_00 - 2*CovdDDalpha_LL_01*invgam_UU_01 - 2*CovdDDalpha_LL_02*invgam_UU_02 - CovdDDalpha_LL_11*invgam_UU_11 - 2*CovdDDalpha_LL_12*invgam_UU_12 - CovdDDalpha_LL_22*invgam_UU_22 + KOSigma*dKODKhat + alpha*kappa1*theta*(1 - kappa2) + (1.0/3.0)*alpha*std::pow(Khat + 2*theta, 2);\n",
      "\n",
      "        rhs_fab(i, j, k, Idx::Atilde_LL_00) = AdvDbetaAtilde_LL_00 - 2*Atilde_LL_00*Atilde_UL_00*alpha + Atilde_LL_00*alpha*(Khat + 2*theta) + (4.0/3.0)*Atilde_LL_00*dDbeta_UL_00 - 2.0/3.0*Atilde_LL_00*dDbeta_UL_11 - 2.0/3.0*Atilde_LL_00*dDbeta_UL_22 - 2*Atilde_LL_01*Atilde_UL_10*alpha + 2*Atilde_LL_01*dDbeta_UL_10 - 2*Atilde_LL_02*Atilde_UL_20*alpha + 2*Atilde_LL_02*dDbeta_UL_20 + KOSigma*dKODAtilde_LL_00 + (-CovDDalphaTF_LL_00 + RTF_LL_00*alpha)*std::exp(-4*phi);\n",
      "        rhs_fab(i, j, k, Idx::Atilde_LL_01) = AdvDbetaAtilde_LL_01 - 2*Atilde_LL_00*Atilde_UL_01*alpha + Atilde_LL_00*dDbeta_UL_01 - 2*Atilde_LL_01*Atilde_UL_11*alpha + Atilde_LL_01*alpha*(Khat + 2*theta) + (1.0/3.0)*Atilde_LL_01*dDbeta_UL_00 + (1.0/3.0)*Atilde_LL_01*dDbeta_UL_11 - 2.0/3.0*Atilde_LL_01*dDbeta_UL_22 - 2*Atilde_LL_02*Atilde_UL_21*alpha + Atilde_LL_02*dDbeta_UL_21 + Atilde_LL_11*dDbeta_UL_10 + Atilde_LL_12*dDbeta_UL_20 + KOSigma*dKODAtilde_LL_01 + (-CovDDalphaTF_LL_01 + RTF_LL_01*alpha)*std::exp(-4*phi);\n",
      "        rhs_fab(i, j, k, Idx::Atilde_LL_02) = AdvDbetaAtilde_LL_02 - 2*Atilde_LL_00*Atilde_UL_02*alpha + Atilde_LL_00*dDbeta_UL_02 - 2*Atilde_LL_01*Atilde_UL_12*alpha + Atilde_LL_01*dDbeta_UL_12 - 2*Atilde_LL_02*Atilde_UL_22*alpha + Atilde_LL_02*alpha*(Khat + 2*theta) + (1.0/3.0)*Atilde_LL_02*dDbeta_UL_00 - 2.0/3.0*Atilde_LL_02*dDbeta_UL_11 + (1.0/3.0)*Atilde_LL_02*dDbeta_UL_22 + Atilde_LL_12*dDbeta_UL_10 + Atilde_LL_22*dDbeta_UL_20 + KOSigma*dKODAtilde_LL_02 + (-CovDDalphaTF_LL_02 + RTF_LL_02*alpha)*std::exp(-4*phi);\n",
      "        rhs_fab(i, j, k, Idx::Atilde_LL_11) = AdvDbetaAtilde_LL_11 - 2*Atilde_LL_01*Atilde_UL_01*alpha + 2*Atilde_LL_01*dDbeta_UL_01 - 2*Atilde_LL_11*Atilde_UL_11*alpha + Atilde_LL_11*alpha*(Khat + 2*theta) - 2.0/3.0*Atilde_LL_11*dDbeta_UL_00 + (4.0/3.0)*Atilde_LL_11*dDbeta_UL_11 - 2.0/3.0*Atilde_LL_11*dDbeta_UL_22 - 2*Atilde_LL_12*Atilde_UL_21*alpha + 2*Atilde_LL_12*dDbeta_UL_21 + KOSigma*dKODAtilde_LL_11 + (-CovDDalphaTF_LL_11 + RTF_LL_11*alpha)*std::exp(-4*phi);\n",
      "        rhs_fab(i, j, k, Idx::Atilde_LL_12) = AdvDbetaAtilde_LL_12 - 2*Atilde_LL_01*Atilde_UL_02*alpha + Atilde_LL_01*dDbeta_UL_02 + Atilde_LL_02*dDbeta_UL_01 - 2*Atilde_LL_11*Atilde_UL_12*alpha + Atilde_LL_11*dDbeta_UL_12 - 2*Atilde_LL_12*Atilde_UL_22*alpha + Atilde_LL_12*alpha*(Khat + 2*theta) - 2.0/3.0*Atilde_LL_12*dDbeta_UL_00 + (1.0/3.0)*Atilde_LL_12*dDbeta_UL_11 + (1.0/3.0)*Atilde_LL_12*dDbeta_UL_22 + Atilde_LL_22*dDbeta_UL_21 + KOSigma*dKODAtilde_LL_12 + (-CovDDalphaTF_LL_12 + RTF_LL_12*alpha)*std::exp(-4*phi);\n",
      "        rhs_fab(i, j, k, Idx::Atilde_LL_22) = AdvDbetaAtilde_LL_22 - 2*Atilde_LL_02*Atilde_UL_02*alpha + 2*Atilde_LL_02*dDbeta_UL_02 - 2*Atilde_LL_12*Atilde_UL_12*alpha + 2*Atilde_LL_12*dDbeta_UL_12 - 2*Atilde_LL_22*Atilde_UL_22*alpha + Atilde_LL_22*alpha*(Khat + 2*theta) - 2.0/3.0*Atilde_LL_22*dDbeta_UL_00 - 2.0/3.0*Atilde_LL_22*dDbeta_UL_11 + (4.0/3.0)*Atilde_LL_22*dDbeta_UL_22 + KOSigma*dKODAtilde_LL_22 + (-CovDDalphaTF_LL_22 + RTF_LL_22*alpha)*std::exp(-4*phi);\n",
      "\n",
      "        rhs_fab(i, j, k, Idx::theta) = AdvDbetatheta - 1.0/2.0*Atilde_LL_00*Atilde_UU_00*alpha - Atilde_LL_01*Atilde_UU_01*alpha - Atilde_LL_02*Atilde_UU_02*alpha - 1.0/2.0*Atilde_LL_11*Atilde_UU_11*alpha - Atilde_LL_12*Atilde_UU_12*alpha - 1.0/2.0*Atilde_LL_22*Atilde_UU_22*alpha + KOSigma*dKODtheta + (1.0/2.0)*alpha*(Rsclr - 2*kappa1*theta*(kappa2 + 2) + (2.0/3.0)*std::pow(Khat + 2*theta, 2));\n",
      "\n",
      "        rhs_fab(i, j, k, Idx::Gamtilde_U_0) = AdvDbetaGamtilde_U_0 + 2*Atilde_UU_00*Christoffelgamtilde_ULL_000*alpha - 2*Atilde_UU_00*dDalpha_L_0 + 4*Atilde_UU_01*Christoffelgamtilde_ULL_001*alpha - 2*Atilde_UU_01*dDalpha_L_1 + 4*Atilde_UU_02*Christoffelgamtilde_ULL_002*alpha - 2*Atilde_UU_02*dDalpha_L_2 + 2*Atilde_UU_11*Christoffelgamtilde_ULL_011*alpha + 4*Atilde_UU_12*Christoffelgamtilde_ULL_012*alpha + 2*Atilde_UU_22*Christoffelgamtilde_ULL_022*alpha - 1.0/3.0*ChristoffelDgamtilde_U_0*dDbeta_UL_00 + (2.0/3.0)*ChristoffelDgamtilde_U_0*dDbeta_UL_11 + (2.0/3.0)*ChristoffelDgamtilde_U_0*dDbeta_UL_22 - ChristoffelDgamtilde_U_1*dDbeta_UL_01 - ChristoffelDgamtilde_U_2*dDbeta_UL_02 + KOSigma*dKODGamtilde_U_0 - 2*alpha*kappa1*(-ChristoffelDgamtilde_U_0 + Gamtilde_U_0) + 2*alpha*(6*Atilde_UU_00*dDphi_L_0 - 1.0/3.0*invgamtilde_UU_00*(2*dDKhat_L_0 + dDtheta_L_0)) + 2*alpha*(6*Atilde_UU_01*dDphi_L_1 - 1.0/3.0*invgamtilde_UU_01*(2*dDKhat_L_1 + dDtheta_L_1)) + 2*alpha*(6*Atilde_UU_02*dDphi_L_2 - 1.0/3.0*invgamtilde_UU_02*(2*dDKhat_L_2 + dDtheta_L_2)) + (4.0/3.0)*dDDbeta_ULL_000*invgamtilde_UU_00 + (7.0/3.0)*dDDbeta_ULL_001*invgamtilde_UU_01 + (7.0/3.0)*dDDbeta_ULL_002*invgamtilde_UU_02 + dDDbeta_ULL_011*invgamtilde_UU_11 + 2*dDDbeta_ULL_012*invgamtilde_UU_12 + dDDbeta_ULL_022*invgamtilde_UU_22 + (1.0/3.0)*dDDbeta_ULL_101*invgamtilde_UU_00 + (1.0/3.0)*dDDbeta_ULL_111*invgamtilde_UU_01 + (1.0/3.0)*dDDbeta_ULL_112*invgamtilde_UU_02 + (1.0/3.0)*dDDbeta_ULL_202*invgamtilde_UU_00 + (1.0/3.0)*dDDbeta_ULL_212*invgamtilde_UU_01 + (1.0/3.0)*dDDbeta_ULL_222*invgamtilde_UU_02;\n",
      "        rhs_fab(i, j, k, Idx::Gamtilde_U_1) = AdvDbetaGamtilde_U_1 + 2*Atilde_UU_00*Christoffelgamtilde_ULL_100*alpha + 4*Atilde_UU_01*Christoffelgamtilde_ULL_101*alpha - 2*Atilde_UU_01*dDalpha_L_0 + 4*Atilde_UU_02*Christoffelgamtilde_ULL_102*alpha + 2*Atilde_UU_11*Christoffelgamtilde_ULL_111*alpha - 2*Atilde_UU_11*dDalpha_L_1 + 4*Atilde_UU_12*Christoffelgamtilde_ULL_112*alpha - 2*Atilde_UU_12*dDalpha_L_2 + 2*Atilde_UU_22*Christoffelgamtilde_ULL_122*alpha - ChristoffelDgamtilde_U_0*dDbeta_UL_10 + (2.0/3.0)*ChristoffelDgamtilde_U_1*dDbeta_UL_00 - 1.0/3.0*ChristoffelDgamtilde_U_1*dDbeta_UL_11 + (2.0/3.0)*ChristoffelDgamtilde_U_1*dDbeta_UL_22 - ChristoffelDgamtilde_U_2*dDbeta_UL_12 + KOSigma*dKODGamtilde_U_1 - 2*alpha*kappa1*(-ChristoffelDgamtilde_U_1 + Gamtilde_U_1) + 2*alpha*(6*Atilde_UU_01*dDphi_L_0 - 1.0/3.0*invgamtilde_UU_01*(2*dDKhat_L_0 + dDtheta_L_0)) + 2*alpha*(6*Atilde_UU_11*dDphi_L_1 - 1.0/3.0*invgamtilde_UU_11*(2*dDKhat_L_1 + dDtheta_L_1)) + 2*alpha*(6*Atilde_UU_12*dDphi_L_2 - 1.0/3.0*invgamtilde_UU_12*(2*dDKhat_L_2 + dDtheta_L_2)) + (1.0/3.0)*dDDbeta_ULL_000*invgamtilde_UU_01 + (1.0/3.0)*dDDbeta_ULL_001*invgamtilde_UU_11 + (1.0/3.0)*dDDbeta_ULL_002*invgamtilde_UU_12 + dDDbeta_ULL_100*invgamtilde_UU_00 + (7.0/3.0)*dDDbeta_ULL_101*invgamtilde_UU_01 + 2*dDDbeta_ULL_102*invgamtilde_UU_02 + (4.0/3.0)*dDDbeta_ULL_111*invgamtilde_UU_11 + (7.0/3.0)*dDDbeta_ULL_112*invgamtilde_UU_12 + dDDbeta_ULL_122*invgamtilde_UU_22 + (1.0/3.0)*dDDbeta_ULL_202*invgamtilde_UU_01 + (1.0/3.0)*dDDbeta_ULL_212*invgamtilde_UU_11 + (1.0/3.0)*dDDbeta_ULL_222*invgamtilde_UU_12;\n",
      "        rhs_fab(i, j, k, Idx::Gamtilde_U_2) = AdvDbetaGamtilde_U_2 + 2*Atilde_UU_00*Christoffelgamtilde_ULL_200*alpha + 4*Atilde_UU_01*Christoffelgamtilde_ULL_201*alpha + 4*Atilde_UU_02*Christoffelgamtilde_ULL_202*alpha - 2*Atilde_UU_02*dDalpha_L_0 + 2*Atilde_UU_11*Christoffelgamtilde_ULL_211*alpha + 4*Atilde_UU_12*Christoffelgamtilde_ULL_212*alpha - 2*Atilde_UU_12*dDalpha_L_1 + 2*Atilde_UU_22*Christoffelgamtilde_ULL_222*alpha - 2*Atilde_UU_22*dDalpha_L_2 - ChristoffelDgamtilde_U_0*dDbeta_UL_20 - ChristoffelDgamtilde_U_1*dDbeta_UL_21 + (2.0/3.0)*ChristoffelDgamtilde_U_2*dDbeta_UL_00 + (2.0/3.0)*ChristoffelDgamtilde_U_2*dDbeta_UL_11 - 1.0/3.0*ChristoffelDgamtilde_U_2*dDbeta_UL_22 + KOSigma*dKODGamtilde_U_2 - 2*alpha*kappa1*(-ChristoffelDgamtilde_U_2 + Gamtilde_U_2) + 2*alpha*(6*Atilde_UU_02*dDphi_L_0 - 1.0/3.0*invgamtilde_UU_02*(2*dDKhat_L_0 + dDtheta_L_0)) + 2*alpha*(6*Atilde_UU_12*dDphi_L_1 - 1.0/3.0*invgamtilde_UU_12*(2*dDKhat_L_1 + dDtheta_L_1)) + 2*alpha*(6*Atilde_UU_22*dDphi_L_2 - 1.0/3.0*invgamtilde_UU_22*(2*dDKhat_L_2 + dDtheta_L_2)) + (1.0/3.0)*dDDbeta_ULL_000*invgamtilde_UU_02 + (1.0/3.0)*dDDbeta_ULL_001*invgamtilde_UU_12 + (1.0/3.0)*dDDbeta_ULL_002*invgamtilde_UU_22 + (1.0/3.0)*dDDbeta_ULL_101*invgamtilde_UU_02 + (1.0/3.0)*dDDbeta_ULL_111*invgamtilde_UU_12 + (1.0/3.0)*dDDbeta_ULL_112*invgamtilde_UU_22 + dDDbeta_ULL_200*invgamtilde_UU_00 + 2*dDDbeta_ULL_201*invgamtilde_UU_01 + (7.0/3.0)*dDDbeta_ULL_202*invgamtilde_UU_02 + dDDbeta_ULL_211*invgamtilde_UU_11 + (7.0/3.0)*dDDbeta_ULL_212*invgamtilde_UU_12 + (4.0/3.0)*dDDbeta_ULL_222*invgamtilde_UU_22;\n",
      "\n",
      "        amrex::Real mul = 2/alpha;\n",
      "\n",
      "        amrex::Real mus = std::pow(alpha, -2);\n",
      "\n",
      "        rhs_fab(i, j, k, Idx::alpha) = AdvDbetaalpha + KOSigma*dKODalpha - Khat*std::pow(alpha, 2)*mul;\n",
      "\n",
      "        amrex::Real eta = 2.0;\n",
      "\n",
      "        rhs_fab(i, j, k, Idx::beta_U_0) = AdvDbetabeta_U_0 + Gamtilde_U_0*std::pow(alpha, 2)*mus + KOSigma*dKODbeta_U_0 - beta_U_0*eta;\n",
      "        rhs_fab(i, j, k, Idx::beta_U_1) = AdvDbetabeta_U_1 + Gamtilde_U_1*std::pow(alpha, 2)*mus + KOSigma*dKODbeta_U_1 - beta_U_1*eta;\n",
      "        rhs_fab(i, j, k, Idx::beta_U_2) = AdvDbetabeta_U_2 + Gamtilde_U_2*std::pow(alpha, 2)*mus + KOSigma*dKODbeta_U_2 - beta_U_2*eta;\n",
      "\n",
      "\n"
     ]
    }
   ],
   "source": [
    "print(RHSString.replace(\"state_fabIdx\",\"Idx\"))"
   ]
  },
  {
   "cell_type": "markdown",
   "metadata": {
    "tags": []
   },
   "source": [
    "# Post Update"
   ]
  },
  {
   "cell_type": "code",
   "execution_count": 75,
   "metadata": {},
   "outputs": [],
   "source": [
    "PUString = \"\""
   ]
  },
  {
   "cell_type": "code",
   "execution_count": 76,
   "metadata": {},
   "outputs": [],
   "source": [
    "PUString += phi.symb2isymb() + alpha.symb2isymb() + gamtilde_LL.symb2isymb()"
   ]
  },
  {
   "cell_type": "code",
   "execution_count": 77,
   "metadata": {},
   "outputs": [],
   "source": [
    "chi.expr = sp.exp(-4*phi.symb)"
   ]
  },
  {
   "cell_type": "code",
   "execution_count": 78,
   "metadata": {},
   "outputs": [],
   "source": [
    "PUString += chi.setisymb()"
   ]
  },
  {
   "cell_type": "code",
   "execution_count": 79,
   "metadata": {},
   "outputs": [],
   "source": [
    "detgamtilde = detmetric(gamtilde_LL)"
   ]
  },
  {
   "cell_type": "code",
   "execution_count": 80,
   "metadata": {},
   "outputs": [],
   "source": [
    "PUString += detgamtilde.symb2expr()"
   ]
  },
  {
   "cell_type": "code",
   "execution_count": 81,
   "metadata": {},
   "outputs": [],
   "source": [
    "scalefactor = stvar('scalefactor')\n",
    "scalefactor.expr = detgamtilde.symb**(-1/3)"
   ]
  },
  {
   "cell_type": "code",
   "execution_count": 82,
   "metadata": {},
   "outputs": [],
   "source": [
    "PUString += scalefactor.symb2expr()"
   ]
  },
  {
   "cell_type": "code",
   "execution_count": 83,
   "metadata": {},
   "outputs": [],
   "source": [
    "gamtilde_LL.expr = gamtilde_LL.symb*scalefactor.symb"
   ]
  },
  {
   "cell_type": "code",
   "execution_count": 84,
   "metadata": {},
   "outputs": [],
   "source": [
    "PUString += gamtilde_LL.setisymb()"
   ]
  },
  {
   "cell_type": "code",
   "execution_count": 85,
   "metadata": {},
   "outputs": [],
   "source": [
    "PUString += Atilde_LL.symb2isymb()"
   ]
  },
  {
   "cell_type": "code",
   "execution_count": 86,
   "metadata": {},
   "outputs": [],
   "source": [
    "PUString += gamtilde_UU.symb2expr()"
   ]
  },
  {
   "cell_type": "code",
   "execution_count": 87,
   "metadata": {},
   "outputs": [],
   "source": [
    "TrAtilde = stvar('TrAtilde')\n",
    "for i in range(3):\n",
    "    for j in range(3):\n",
    "        TrAtilde.expr += gamtilde_UU.symb[i][j]*Atilde_LL.symb[i][j]"
   ]
  },
  {
   "cell_type": "code",
   "execution_count": 88,
   "metadata": {},
   "outputs": [],
   "source": [
    "PUString += TrAtilde.symb2expr()"
   ]
  },
  {
   "cell_type": "code",
   "execution_count": 89,
   "metadata": {},
   "outputs": [],
   "source": [
    "Atilde_LL.expr = (Atilde_LL.symb - 1/3*TrAtilde.symb*gamtilde_LL.symb)*scalefactor.symb"
   ]
  },
  {
   "cell_type": "code",
   "execution_count": 90,
   "metadata": {},
   "outputs": [],
   "source": [
    "PUString += Atilde_LL.setisymb()"
   ]
  },
  {
   "cell_type": "code",
   "execution_count": 91,
   "metadata": {},
   "outputs": [],
   "source": [
    "chi.expr = sp.Max(chi.symb,0.001)\n",
    "alpha.expr = sp.Max(alpha.symb,0.001)"
   ]
  },
  {
   "cell_type": "code",
   "execution_count": 92,
   "metadata": {},
   "outputs": [],
   "source": [
    "PUString += chi.setisymb() + alpha.setisymb()"
   ]
  },
  {
   "cell_type": "code",
   "execution_count": null,
   "metadata": {},
   "outputs": [],
   "source": []
  },
  {
   "cell_type": "code",
   "execution_count": 93,
   "metadata": {},
   "outputs": [
    {
     "name": "stdout",
     "output_type": "stream",
     "text": [
      "        amrex::Real phi = state_fab(i, j, k, Idx::phi);\n",
      "\n",
      "        amrex::Real alpha = state_fab(i, j, k, Idx::alpha);\n",
      "\n",
      "        amrex::Real gamtilde_LL_00 = state_fab(i, j, k, Idx::gamtilde_LL_00);\n",
      "        amrex::Real gamtilde_LL_01 = state_fab(i, j, k, Idx::gamtilde_LL_01);\n",
      "        amrex::Real gamtilde_LL_02 = state_fab(i, j, k, Idx::gamtilde_LL_02);\n",
      "        amrex::Real gamtilde_LL_11 = state_fab(i, j, k, Idx::gamtilde_LL_11);\n",
      "        amrex::Real gamtilde_LL_12 = state_fab(i, j, k, Idx::gamtilde_LL_12);\n",
      "        amrex::Real gamtilde_LL_22 = state_fab(i, j, k, Idx::gamtilde_LL_22);\n",
      "\n",
      "        state_fab(i, j, k, Idx::chi) = std::exp(-4*phi);\n",
      "\n",
      "        amrex::Real detgamtilde = gamtilde_LL_00*gamtilde_LL_11*gamtilde_LL_22 - gamtilde_LL_00*std::pow(gamtilde_LL_12, 2) - std::pow(gamtilde_LL_01, 2)*gamtilde_LL_22 + 2*gamtilde_LL_01*gamtilde_LL_02*gamtilde_LL_12 - std::pow(gamtilde_LL_02, 2)*gamtilde_LL_11;\n",
      "\n",
      "        amrex::Real scalefactor = std::pow(detgamtilde, -0.33333333333333331);\n",
      "\n",
      "        state_fab(i, j, k, Idx::gamtilde_LL_00) = gamtilde_LL_00*scalefactor;\n",
      "        state_fab(i, j, k, Idx::gamtilde_LL_01) = gamtilde_LL_01*scalefactor;\n",
      "        state_fab(i, j, k, Idx::gamtilde_LL_02) = gamtilde_LL_02*scalefactor;\n",
      "        state_fab(i, j, k, Idx::gamtilde_LL_11) = gamtilde_LL_11*scalefactor;\n",
      "        state_fab(i, j, k, Idx::gamtilde_LL_12) = gamtilde_LL_12*scalefactor;\n",
      "        state_fab(i, j, k, Idx::gamtilde_LL_22) = gamtilde_LL_22*scalefactor;\n",
      "\n",
      "        amrex::Real Atilde_LL_00 = state_fab(i, j, k, Idx::Atilde_LL_00);\n",
      "        amrex::Real Atilde_LL_01 = state_fab(i, j, k, Idx::Atilde_LL_01);\n",
      "        amrex::Real Atilde_LL_02 = state_fab(i, j, k, Idx::Atilde_LL_02);\n",
      "        amrex::Real Atilde_LL_11 = state_fab(i, j, k, Idx::Atilde_LL_11);\n",
      "        amrex::Real Atilde_LL_12 = state_fab(i, j, k, Idx::Atilde_LL_12);\n",
      "        amrex::Real Atilde_LL_22 = state_fab(i, j, k, Idx::Atilde_LL_22);\n",
      "\n",
      "        amrex::Real invgamtilde_UU_00 = (gamtilde_LL_11*gamtilde_LL_22 - std::pow(gamtilde_LL_12, 2))/(gamtilde_LL_00*gamtilde_LL_11*gamtilde_LL_22 - gamtilde_LL_00*std::pow(gamtilde_LL_12, 2) - std::pow(gamtilde_LL_01, 2)*gamtilde_LL_22 + 2*gamtilde_LL_01*gamtilde_LL_02*gamtilde_LL_12 - std::pow(gamtilde_LL_02, 2)*gamtilde_LL_11);\n",
      "        amrex::Real invgamtilde_UU_01 = (-gamtilde_LL_01*gamtilde_LL_22 + gamtilde_LL_02*gamtilde_LL_12)/(gamtilde_LL_00*gamtilde_LL_11*gamtilde_LL_22 - gamtilde_LL_00*std::pow(gamtilde_LL_12, 2) - std::pow(gamtilde_LL_01, 2)*gamtilde_LL_22 + 2*gamtilde_LL_01*gamtilde_LL_02*gamtilde_LL_12 - std::pow(gamtilde_LL_02, 2)*gamtilde_LL_11);\n",
      "        amrex::Real invgamtilde_UU_02 = (gamtilde_LL_01*gamtilde_LL_12 - gamtilde_LL_02*gamtilde_LL_11)/(gamtilde_LL_00*gamtilde_LL_11*gamtilde_LL_22 - gamtilde_LL_00*std::pow(gamtilde_LL_12, 2) - std::pow(gamtilde_LL_01, 2)*gamtilde_LL_22 + 2*gamtilde_LL_01*gamtilde_LL_02*gamtilde_LL_12 - std::pow(gamtilde_LL_02, 2)*gamtilde_LL_11);\n",
      "        amrex::Real invgamtilde_UU_11 = (gamtilde_LL_00*gamtilde_LL_22 - std::pow(gamtilde_LL_02, 2))/(gamtilde_LL_00*gamtilde_LL_11*gamtilde_LL_22 - gamtilde_LL_00*std::pow(gamtilde_LL_12, 2) - std::pow(gamtilde_LL_01, 2)*gamtilde_LL_22 + 2*gamtilde_LL_01*gamtilde_LL_02*gamtilde_LL_12 - std::pow(gamtilde_LL_02, 2)*gamtilde_LL_11);\n",
      "        amrex::Real invgamtilde_UU_12 = (-gamtilde_LL_00*gamtilde_LL_12 + gamtilde_LL_01*gamtilde_LL_02)/(gamtilde_LL_00*gamtilde_LL_11*gamtilde_LL_22 - gamtilde_LL_00*std::pow(gamtilde_LL_12, 2) - std::pow(gamtilde_LL_01, 2)*gamtilde_LL_22 + 2*gamtilde_LL_01*gamtilde_LL_02*gamtilde_LL_12 - std::pow(gamtilde_LL_02, 2)*gamtilde_LL_11);\n",
      "        amrex::Real invgamtilde_UU_22 = (gamtilde_LL_00*gamtilde_LL_11 - std::pow(gamtilde_LL_01, 2))/(gamtilde_LL_00*gamtilde_LL_11*gamtilde_LL_22 - gamtilde_LL_00*std::pow(gamtilde_LL_12, 2) - std::pow(gamtilde_LL_01, 2)*gamtilde_LL_22 + 2*gamtilde_LL_01*gamtilde_LL_02*gamtilde_LL_12 - std::pow(gamtilde_LL_02, 2)*gamtilde_LL_11);\n",
      "\n",
      "        amrex::Real TrAtilde = Atilde_LL_00*invgamtilde_UU_00 + 2*Atilde_LL_01*invgamtilde_UU_01 + 2*Atilde_LL_02*invgamtilde_UU_02 + Atilde_LL_11*invgamtilde_UU_11 + 2*Atilde_LL_12*invgamtilde_UU_12 + Atilde_LL_22*invgamtilde_UU_22;\n",
      "\n",
      "        state_fab(i, j, k, Idx::Atilde_LL_00) = scalefactor*(Atilde_LL_00 - 0.33333333333333331*TrAtilde*gamtilde_LL_00);\n",
      "        state_fab(i, j, k, Idx::Atilde_LL_01) = scalefactor*(Atilde_LL_01 - 0.33333333333333331*TrAtilde*gamtilde_LL_01);\n",
      "        state_fab(i, j, k, Idx::Atilde_LL_02) = scalefactor*(Atilde_LL_02 - 0.33333333333333331*TrAtilde*gamtilde_LL_02);\n",
      "        state_fab(i, j, k, Idx::Atilde_LL_11) = scalefactor*(Atilde_LL_11 - 0.33333333333333331*TrAtilde*gamtilde_LL_11);\n",
      "        state_fab(i, j, k, Idx::Atilde_LL_12) = scalefactor*(Atilde_LL_12 - 0.33333333333333331*TrAtilde*gamtilde_LL_12);\n",
      "        state_fab(i, j, k, Idx::Atilde_LL_22) = scalefactor*(Atilde_LL_22 - 0.33333333333333331*TrAtilde*gamtilde_LL_22);\n",
      "\n",
      "        state_fab(i, j, k, Idx::chi) = std::max(0.00100000000000000, chi);\n",
      "\n",
      "        state_fab(i, j, k, Idx::alpha) = std::max(0.00100000000000000, alpha);\n",
      "\n",
      "\n"
     ]
    }
   ],
   "source": [
    "print(PUString.replace('state_fabIdx', 'Idx'))"
   ]
  },
  {
   "cell_type": "markdown",
   "metadata": {
    "tags": []
   },
   "source": [
    "# Diagnostics"
   ]
  },
  {
   "cell_type": "code",
   "execution_count": 94,
   "metadata": {},
   "outputs": [],
   "source": [
    "DiagString = \"\""
   ]
  },
  {
   "cell_type": "code",
   "execution_count": 95,
   "metadata": {},
   "outputs": [],
   "source": [
    "H = stvar('H', gridvar = True, vartype = 'Diag', varprefix = 'diag')\n",
    "#M_L = stvarrank1('M_L', gridvar = True, vartype = 'Diag', varprefix = 'diag')\n",
    "C = stvar('C', gridvar = True, vartype = 'Diag', varprefix = 'diag')"
   ]
  },
  {
   "cell_type": "code",
   "execution_count": null,
   "metadata": {},
   "outputs": [],
   "source": []
  },
  {
   "cell_type": "code",
   "execution_count": 96,
   "metadata": {},
   "outputs": [],
   "source": [
    "DiagString = \"\"\n",
    "DiagString += chi.symb2isymb()\n",
    "DiagString += gamtilde_LL.symb2isymb()\n",
    "DiagString += Khat.symb2isymb()\n",
    "DiagString += Atilde_LL.symb2isymb()\n",
    "DiagString += theta.symb2isymb()\n",
    "DiagString += Gamtilde_U.symb2isymb()"
   ]
  },
  {
   "cell_type": "code",
   "execution_count": 97,
   "metadata": {},
   "outputs": [],
   "source": [
    "DiagString += dDchi_L.symb2isymb()\n",
    "DiagString += dDDchi_LL.symb2isymb()\n",
    "\n",
    "DiagString += dDgamtilde_LLL.symb2isymb()\n",
    "DiagString += dDDgamtilde_LLLL.symb2isymb()\n",
    "\n",
    "DiagString += dDKhat_L.symb2isymb()\n",
    "\n",
    "DiagString += dDAtilde_LLL.symb2isymb()\n",
    "\n",
    "DiagString += dDtheta_L.symb2isymb()\n",
    "\n",
    "DiagString += dDGamtilde_UL.symb2isymb()"
   ]
  },
  {
   "cell_type": "code",
   "execution_count": 98,
   "metadata": {},
   "outputs": [],
   "source": [
    "DiagString += gamtilde_UU.symb2expr()"
   ]
  },
  {
   "cell_type": "code",
   "execution_count": 99,
   "metadata": {},
   "outputs": [],
   "source": [
    "DiagString += Gamtilde_LLL.symb2expr()\n",
    "DiagString += Gamtilde_ULL.symb2expr()\n",
    "DiagString += Gam_ULL.symb2expr()"
   ]
  },
  {
   "cell_type": "code",
   "execution_count": 100,
   "metadata": {},
   "outputs": [],
   "source": [
    "DiagString += gam_LL.symb2expr()\n",
    "DiagString += gam_UU.symb2expr()"
   ]
  },
  {
   "cell_type": "code",
   "execution_count": 101,
   "metadata": {},
   "outputs": [],
   "source": [
    "DiagString += Atilde_UU.symb2expr()\n",
    "DiagString += Atilde_UL.symb2expr()"
   ]
  },
  {
   "cell_type": "code",
   "execution_count": 102,
   "metadata": {},
   "outputs": [],
   "source": [
    "DiagString += GamtildeD_U.symb2expr()"
   ]
  },
  {
   "cell_type": "code",
   "execution_count": 103,
   "metadata": {},
   "outputs": [],
   "source": [
    "DiagString += Rtilde_LL.symb2expr()"
   ]
  },
  {
   "cell_type": "code",
   "execution_count": 104,
   "metadata": {},
   "outputs": [
    {
     "ename": "NameError",
     "evalue": "name 'CovDtildechi_L' is not defined",
     "output_type": "error",
     "traceback": [
      "\u001b[0;31m---------------------------------------------------------------------------\u001b[0m",
      "\u001b[0;31mNameError\u001b[0m                                 Traceback (most recent call last)",
      "\u001b[0;32m<ipython-input-104-d2bcc316f1b4>\u001b[0m in \u001b[0;36m<module>\u001b[0;34m\u001b[0m\n\u001b[0;32m----> 1\u001b[0;31m \u001b[0mDiagString\u001b[0m \u001b[0;34m+=\u001b[0m \u001b[0mCovDtildechi_L\u001b[0m\u001b[0;34m.\u001b[0m\u001b[0msymb2expr\u001b[0m\u001b[0;34m(\u001b[0m\u001b[0;34m)\u001b[0m\u001b[0;34m\u001b[0m\u001b[0;34m\u001b[0m\u001b[0m\n\u001b[0m\u001b[1;32m      2\u001b[0m \u001b[0mDiagString\u001b[0m \u001b[0;34m+=\u001b[0m \u001b[0mCovDtildeDtildechi_LL\u001b[0m\u001b[0;34m.\u001b[0m\u001b[0msymb2expr\u001b[0m\u001b[0;34m(\u001b[0m\u001b[0;34m)\u001b[0m\u001b[0;34m\u001b[0m\u001b[0;34m\u001b[0m\u001b[0m\n",
      "\u001b[0;31mNameError\u001b[0m: name 'CovDtildechi_L' is not defined"
     ]
    }
   ],
   "source": [
    "DiagString += CovDtildechi_L.symb2expr()\n",
    "DiagString += CovDtildeDtildechi_LL.symb2expr()"
   ]
  },
  {
   "cell_type": "code",
   "execution_count": null,
   "metadata": {},
   "outputs": [],
   "source": [
    "DiagString += Rchi_LL.symb2expr()"
   ]
  },
  {
   "cell_type": "code",
   "execution_count": null,
   "metadata": {},
   "outputs": [],
   "source": [
    "DiagString += R_LL.symb2expr()"
   ]
  },
  {
   "cell_type": "code",
   "execution_count": null,
   "metadata": {},
   "outputs": [],
   "source": [
    "DiagString += Rsclr.symb2expr()"
   ]
  },
  {
   "cell_type": "code",
   "execution_count": null,
   "metadata": {},
   "outputs": [],
   "source": [
    "K_LL = stvarrank2('K_LL', sym = 'sym01')\n",
    "K_LL.expr = Atilde_LL.symb/chi.symb + 1/3*gam_LL.symb*(Khat.symb + 2*theta.symb)"
   ]
  },
  {
   "cell_type": "code",
   "execution_count": null,
   "metadata": {},
   "outputs": [],
   "source": [
    "DiagString += K_LL.symb2expr()"
   ]
  },
  {
   "cell_type": "code",
   "execution_count": null,
   "metadata": {},
   "outputs": [],
   "source": [
    "K_UU = stvarrank2('K_UU', sym = 'sym01')\n",
    "for i in range(3):\n",
    "    for j in range(3):\n",
    "        for k in range(3):\n",
    "            for l in range(3):\n",
    "                K_UU.expr[i][j] += gam_UU.symb[i][k]*gam_UU.symb[j][l]*K_LL.symb[k][l]"
   ]
  },
  {
   "cell_type": "code",
   "execution_count": null,
   "metadata": {},
   "outputs": [],
   "source": [
    "DiagString += K_UU.symb2expr()"
   ]
  },
  {
   "cell_type": "code",
   "execution_count": null,
   "metadata": {},
   "outputs": [],
   "source": [
    "Hsymb = stvar('H')\n",
    "Hsymb.expr += Rsclr.symb + (Khat.symb + 2*theta.symb)**2\n",
    "for i in range(3):\n",
    "    for j in range(3):\n",
    "        Hsymb.expr += -K_LL.symb[i][j]*K_UU.symb[i][j]"
   ]
  },
  {
   "cell_type": "code",
   "execution_count": null,
   "metadata": {},
   "outputs": [],
   "source": [
    "DiagString += Hsymb.symb2expr()"
   ]
  },
  {
   "cell_type": "code",
   "execution_count": null,
   "metadata": {},
   "outputs": [],
   "source": [
    "H.expr = Hsymb.symb"
   ]
  },
  {
   "cell_type": "code",
   "execution_count": null,
   "metadata": {},
   "outputs": [],
   "source": [
    "DiagString += H.setisymb()"
   ]
  },
  {
   "cell_type": "code",
   "execution_count": null,
   "metadata": {},
   "outputs": [],
   "source": [
    "CovDK_LLL = stvarrank3('CovDK_LLL', sym = 'sym01')\n",
    "for i in range(3):\n",
    "    for j in range(3):\n",
    "        for k in range(3):\n",
    "            CovDK_LLL.expr[i][j][k] += -(dDchi_L.symb[k]/chi.symb)*K_LL.symb[i][j]\n",
    "            CovDK_LLL.expr[i][j][k] += (1/chi.symb)*(dDAtilde_LLL.symb[i][j][k] + 1/3*dDgamtilde_LLL.symb[i][j][k]*(Khat.symb+2*theta.symb)+1/3*gamtilde_LL.symb[i][j]*(dDKhat_L.symb[k]+2*dDtheta_L.symb[k]))\n",
    "            for l in range(3):\n",
    "                CovDK_LLL.expr[i][j][k] += -Gam_ULL.symb[l][k][i]*K_LL.symb[l][j] - Gam_ULL.symb[l][k][j]*K_LL.symb[i][l]"
   ]
  },
  {
   "cell_type": "code",
   "execution_count": null,
   "metadata": {},
   "outputs": [],
   "source": [
    "DiagString += CovDK_LLL.symb2expr()"
   ]
  },
  {
   "cell_type": "code",
   "execution_count": null,
   "metadata": {},
   "outputs": [],
   "source": [
    "CovDK_L = stvarrank1('CovDK_L')\n",
    "for i in range(3):\n",
    "    for j in range(3):\n",
    "        for k in range(3):\n",
    "            CovDK_L.expr[i] += gam_UU.symb[j][k]*CovDK_LLL.symb[i][j][k]"
   ]
  },
  {
   "cell_type": "code",
   "execution_count": null,
   "metadata": {},
   "outputs": [],
   "source": [
    "DiagString += CovDK_L.symb2expr()"
   ]
  },
  {
   "cell_type": "code",
   "execution_count": null,
   "metadata": {},
   "outputs": [],
   "source": [
    "M_L = stvarrank1('M_L')\n",
    "for i in range(3):\n",
    "    M_L.expr[i] += CovDK_L.symb[i] - (dDKhat_L.symb[i] + 2*dDtheta_L.symb[i])"
   ]
  },
  {
   "cell_type": "code",
   "execution_count": null,
   "metadata": {},
   "outputs": [],
   "source": [
    "DiagString += M_L.symb2expr()"
   ]
  },
  {
   "cell_type": "code",
   "execution_count": null,
   "metadata": {},
   "outputs": [],
   "source": [
    "Z_L = stvarrank1('Z_L')\n",
    "for i in range(3):\n",
    "    for j in range(3):\n",
    "        Z_L.expr[i] += (1/2)*gamtilde_LL.symb[i][j]*Gamtilde_U.symb[j] \n",
    "        for k in range(3):\n",
    "            Z_L.expr[i] += - (1/2)*gamtilde_UU.symb[k][j]*dDgamtilde_LLL.symb[i][k][j]"
   ]
  },
  {
   "cell_type": "code",
   "execution_count": null,
   "metadata": {},
   "outputs": [],
   "source": [
    "DiagString += Z_L.symb2expr()"
   ]
  },
  {
   "cell_type": "code",
   "execution_count": null,
   "metadata": {},
   "outputs": [],
   "source": [
    "Csqrd = stvar('Csqrd')"
   ]
  },
  {
   "cell_type": "code",
   "execution_count": null,
   "metadata": {},
   "outputs": [],
   "source": [
    "Csqrd.expr += theta.symb**2 + Hsymb.symb**2\n",
    "for i in range(3):\n",
    "    for j in range(3):\n",
    "        Csqrd.expr += gam_UU.symb[i][j]*M_L.symb[i]*M_L.symb[j]\n",
    "        Csqrd.expr += gam_UU.symb[i][j]*Z_L.symb[i]*Z_L.symb[j]\n",
    "        "
   ]
  },
  {
   "cell_type": "code",
   "execution_count": null,
   "metadata": {},
   "outputs": [],
   "source": [
    "DiagString += Csqrd.symb2expr()"
   ]
  },
  {
   "cell_type": "code",
   "execution_count": null,
   "metadata": {},
   "outputs": [],
   "source": [
    "C.expr = sp.sqrt(Csqrd.symb)"
   ]
  },
  {
   "cell_type": "code",
   "execution_count": null,
   "metadata": {},
   "outputs": [],
   "source": [
    "DiagString += C.setisymb()"
   ]
  },
  {
   "cell_type": "code",
   "execution_count": null,
   "metadata": {
    "tags": []
   },
   "outputs": [],
   "source": [
    "print(DiagString.replace('state_fabIdx', 'Idx').replace('DiagIdx','Diag'))"
   ]
  },
  {
   "cell_type": "markdown",
   "metadata": {},
   "source": [
    "# Diagnostics for Waveform Extraction"
   ]
  },
  {
   "cell_type": "code",
   "execution_count": null,
   "metadata": {},
   "outputs": [],
   "source": [
    "WFString = \"\""
   ]
  },
  {
   "cell_type": "code",
   "execution_count": null,
   "metadata": {},
   "outputs": [],
   "source": [
    "Psi4re = stvar('Psi4re', gridvar = True, vartype = 'Diag', varprefix = 'diag')\n",
    "Psi4im = stvar('Psi4im', gridvar = True, vartype = 'Diag', varprefix = 'diag')"
   ]
  },
  {
   "cell_type": "code",
   "execution_count": null,
   "metadata": {},
   "outputs": [],
   "source": [
    "WFString = \"\"\n",
    "WFString += chi.symb2isymb()\n",
    "WFString += gamtilde_LL.symb2isymb()\n",
    "WFString += Khat.symb2isymb()\n",
    "WFString += Atilde_LL.symb2isymb()\n",
    "WFString += theta.symb2isymb()\n",
    "WFString += Gamtilde_U.symb2isymb()\n",
    "\n",
    "WFString += alpha.symb2isymb()\n",
    "WFString += beta_U.symb2isymb()"
   ]
  },
  {
   "cell_type": "code",
   "execution_count": null,
   "metadata": {
    "tags": []
   },
   "outputs": [],
   "source": [
    "WFString += dDchi_L.symb2isymb()\n",
    "WFString += dDDchi_LL.symb2isymb()\n",
    "WFString += dDgamtilde_LLL.symb2isymb()\n",
    "WFString += dDDgamtilde_LLLL.symb2isymb()\n",
    "WFString += dDAtilde_LLL.symb2isymb()\n",
    "WFString += dDKhat_L.symb2isymb()\n",
    "WFString += dDtheta_L.symb2isymb()"
   ]
  },
  {
   "cell_type": "code",
   "execution_count": null,
   "metadata": {
    "tags": []
   },
   "outputs": [],
   "source": []
  },
  {
   "cell_type": "code",
   "execution_count": null,
   "metadata": {},
   "outputs": [],
   "source": [
    "Gam_LLL = ConformalChristoffelLLL(chi, gamtilde_LL)"
   ]
  },
  {
   "cell_type": "code",
   "execution_count": null,
   "metadata": {},
   "outputs": [],
   "source": [
    "WFString += gamtilde_UU.symb2expr()\n",
    "WFString += Gamtilde_LLL.symb2expr()\n",
    "WFString += Gamtilde_ULL.symb2expr()\n",
    "WFString += Gam_ULL.symb2expr()\n",
    "WFString += Gam_LLL.symb2expr()\n",
    "\n",
    "WFString += gam_LL.symb2expr()\n",
    "WFString += gam_UU.symb2expr()"
   ]
  },
  {
   "cell_type": "code",
   "execution_count": null,
   "metadata": {},
   "outputs": [],
   "source": []
  },
  {
   "cell_type": "code",
   "execution_count": null,
   "metadata": {},
   "outputs": [],
   "source": []
  },
  {
   "cell_type": "code",
   "execution_count": null,
   "metadata": {},
   "outputs": [],
   "source": [
    "dDDgam_LLLL = stvarrank4('dDDgam_LLLL', sym = 'sym01sym23')\n",
    "for i in range(3):\n",
    "    for j in range(3):\n",
    "        for k in range(3):\n",
    "            for l in range(3):\n",
    "                dDDgam_LLLL.expr[i][j][k][l] += -dDDchi_LL.symb[l][k]/(chi.symb**2)*gamtilde_LL.symb[i][j]\n",
    "                dDDgam_LLLL.expr[i][j][k][l] += 2*dDchi_L.symb[k]*dDchi_L.symb[l]/(chi.symb**3)*gamtilde_LL.symb[i][j]\n",
    "                dDDgam_LLLL.expr[i][j][k][l] += -dDchi_L.symb[k]/(chi.symb**2)*dDgamtilde_LLL.symb[i][j][l]-dDchi_L.symb[l]/(chi.symb**2)*dDgamtilde_LLL.symb[i][j][k]\n",
    "                dDDgam_LLLL.expr[i][j][k][l] += dDDgamtilde_LLLL.symb[i][j][k][l]/(chi.symb**2)"
   ]
  },
  {
   "cell_type": "code",
   "execution_count": null,
   "metadata": {},
   "outputs": [],
   "source": [
    "WFString += dDDgam_LLLL.symb2expr()"
   ]
  },
  {
   "cell_type": "code",
   "execution_count": null,
   "metadata": {},
   "outputs": [],
   "source": []
  },
  {
   "cell_type": "code",
   "execution_count": null,
   "metadata": {},
   "outputs": [],
   "source": []
  },
  {
   "cell_type": "code",
   "execution_count": null,
   "metadata": {},
   "outputs": [],
   "source": [
    "Riem_LLLL = stvarrank4('Riem_LLLL', sym = 'asym01asym23')\n",
    "for i in range(3):\n",
    "    for k in range(3):\n",
    "        for l in range(3):\n",
    "            for m in range(3):\n",
    "                Riem_LLLL.expr[i][k][l][m] += 1/2*(dDDgam_LLLL.symb[i][m][k][l]+dDDgam_LLLL.symb[k][l][i][m]-dDDgam_LLLL.symb[i][l][k][m]-dDDgam_LLLL.symb[k][m][i][l])\n",
    "                for p in range(3):\n",
    "                    Riem_LLLL.expr[i][k][l][m] += Gam_LLL.symb[p][k][l]*Gam_ULL.symb[p][i][m] - Gam_LLL.symb[p][k][m]*Gam_ULL.symb[p][i][l]\n"
   ]
  },
  {
   "cell_type": "code",
   "execution_count": null,
   "metadata": {},
   "outputs": [],
   "source": [
    "WFString += Riem_LLLL.symb2expr()"
   ]
  },
  {
   "cell_type": "code",
   "execution_count": null,
   "metadata": {},
   "outputs": [],
   "source": [
    "WFString += K_LL.symb2expr()"
   ]
  },
  {
   "cell_type": "code",
   "execution_count": null,
   "metadata": {},
   "outputs": [],
   "source": [
    "rank4term_LLLL = stvarrank4('rank4term_LLLL', sym = 'asym01asym23')\n",
    "for i in range(3):\n",
    "    for j in range(3):\n",
    "        for k in range(3):\n",
    "            for l in range(3):\n",
    "                rank4term_LLLL.expr[i][j][k][l] += Riem_LLLL.symb[i][j][k][l] + K_LL.symb[i][k]*K_LL.symb[l][j] - K_LL.symb[i][l]*K_LL.symb[k][j]"
   ]
  },
  {
   "cell_type": "code",
   "execution_count": null,
   "metadata": {},
   "outputs": [],
   "source": [
    "WFString += rank4term_LLLL.symb2expr()"
   ]
  },
  {
   "cell_type": "code",
   "execution_count": null,
   "metadata": {},
   "outputs": [],
   "source": [
    "dDK_LLL = stvarrank3('dDK_LLL', sym = 'sym01')\n",
    "for i in range(3):\n",
    "    for j in range(3):\n",
    "        for k in range(3):\n",
    "            dDK_LLL.expr[i][j][k] += -(dDchi_L.symb[k]/chi.symb)*K_LL.symb[i][j]\n",
    "            dDK_LLL.expr[i][j][k] += (1/chi.symb)*(dDAtilde_LLL.symb[i][j][k] + 1/3*dDgamtilde_LLL.symb[i][j][k]*(Khat.symb+2*theta.symb)+1/3*gamtilde_LL.symb[i][j]*(dDKhat_L.symb[k]+2*dDtheta_L.symb[k]))"
   ]
  },
  {
   "cell_type": "code",
   "execution_count": null,
   "metadata": {},
   "outputs": [],
   "source": [
    "WFString += dDK_LLL.symb2expr()"
   ]
  },
  {
   "cell_type": "code",
   "execution_count": null,
   "metadata": {},
   "outputs": [],
   "source": [
    "rank3term_LLL = stvarrank3('rank3term_LLL', sym = 'asym12')\n",
    "for j in range(3):\n",
    "    for k in range(3):\n",
    "        for l in range(3):\n",
    "            rank3term_LLL.expr[j][k][l] += -4*(dDK_LLL.symb[j][k][l] - dDK_LLL.symb[j][l][k])\n",
    "            for p in range(3):\n",
    "                rank3term_LLL.expr[j][k][l] += -4*(Gam_ULL.symb[p][j][k]*K_LL.symb[l][p] - Gam_ULL.symb[p][j][l]*K_LL.symb[k][p])"
   ]
  },
  {
   "cell_type": "code",
   "execution_count": null,
   "metadata": {},
   "outputs": [],
   "source": [
    "WFString += rank3term_LLL.symb2expr()"
   ]
  },
  {
   "cell_type": "code",
   "execution_count": null,
   "metadata": {},
   "outputs": [],
   "source": [
    "Ricci_LL = stvarrank2('Ricci_LL', sym = 'sym01')\n",
    "for j in range(3):\n",
    "    for l in range(3):\n",
    "        for i in range(3):\n",
    "            for m in range(3):\n",
    "                Ricci_LL.expr[j][l] += gam_UU.symb[i][m]*Riem_LLLL.symb[i][j][m][l]"
   ]
  },
  {
   "cell_type": "code",
   "execution_count": null,
   "metadata": {},
   "outputs": [],
   "source": [
    "WFString += Ricci_LL.symb2expr()"
   ]
  },
  {
   "cell_type": "code",
   "execution_count": null,
   "metadata": {},
   "outputs": [],
   "source": [
    "rank2term_LL = stvarrank2('rank2term_LL', sym = 'sym01')\n",
    "for j in range(3):\n",
    "    for l in range(3):\n",
    "        rank2term_LL.expr[j][l] += 4*(Ricci_LL.symb[j][l] + (Khat.symb+2*theta.symb)*K_LL.symb[j][l])\n",
    "        for p in range(3):\n",
    "            for m in range(3):\n",
    "                rank2term_LL.expr[j][l] += -4*K_LL.symb[j][p]*gam_UU.symb[p][m]*K_LL.symb[m][l]"
   ]
  },
  {
   "cell_type": "code",
   "execution_count": null,
   "metadata": {},
   "outputs": [],
   "source": [
    "WFString += rank2term_LL.symb2expr()"
   ]
  },
  {
   "cell_type": "code",
   "execution_count": null,
   "metadata": {},
   "outputs": [],
   "source": [
    "x_U = stvarrank1('x_U')"
   ]
  },
  {
   "cell_type": "code",
   "execution_count": null,
   "metadata": {},
   "outputs": [],
   "source": [
    "v1_U = stvarrank1('v1_U')\n",
    "v1_U.expr = np.array([-x_U.symb[1], x_U.symb[0], 0])\n",
    "\n",
    "v2_U = stvarrank1('v2_U')\n",
    "v2_U.expr = x_U.symb\n",
    "\n",
    "v3_U = stvarrank1('v3_U')\n",
    "for a in range(3):\n",
    "    for b in range(3):\n",
    "        for c in range(3):\n",
    "            for d in range(3):\n",
    "                v3_U.expr[a] += sp.simplify((chi.symb**(-3/2))*gam_UU.symb[a][d]*sp.Eijk(d,b,c)*v1_U.symb[b]*v2_U.symb[c])"
   ]
  },
  {
   "cell_type": "code",
   "execution_count": null,
   "metadata": {},
   "outputs": [],
   "source": [
    "WFString += v1_U.symb2expr()\n",
    "WFString += v2_U.symb2expr()\n",
    "WFString += v3_U.symb2expr()"
   ]
  },
  {
   "cell_type": "code",
   "execution_count": null,
   "metadata": {},
   "outputs": [],
   "source": [
    "v1prime_U = stvarrank1('v1prime_U')\n",
    "v1prime_U.expr = v1_U.symb"
   ]
  },
  {
   "cell_type": "code",
   "execution_count": null,
   "metadata": {},
   "outputs": [],
   "source": [
    "WFString += v1prime_U.symb2expr()"
   ]
  },
  {
   "cell_type": "code",
   "execution_count": null,
   "metadata": {},
   "outputs": [],
   "source": [
    "omega11 = stvar('omega11')\n",
    "for a in range(3):\n",
    "    for b in range(3):\n",
    "        omega11.expr += gam_LL.symb[a][b]*v1prime_U.symb[a]*v1prime_U.symb[b]"
   ]
  },
  {
   "cell_type": "code",
   "execution_count": null,
   "metadata": {},
   "outputs": [],
   "source": [
    "WFString += omega11.symb2expr()"
   ]
  },
  {
   "cell_type": "code",
   "execution_count": null,
   "metadata": {},
   "outputs": [],
   "source": [
    "e1_U = stvarrank1('e1_U')\n",
    "e1_U.expr = v1prime_U.symb/sp.sqrt(omega11.symb)"
   ]
  },
  {
   "cell_type": "code",
   "execution_count": null,
   "metadata": {},
   "outputs": [],
   "source": [
    "WFString += e1_U.symb2expr()"
   ]
  },
  {
   "cell_type": "code",
   "execution_count": null,
   "metadata": {},
   "outputs": [],
   "source": [
    "omega12 = stvar('omega12')\n",
    "for a in range(3):\n",
    "    for b in range(3):\n",
    "        omega12.expr += gam_LL.symb[a][b]*e1_U.symb[a]*v2_U.symb[b]"
   ]
  },
  {
   "cell_type": "code",
   "execution_count": null,
   "metadata": {},
   "outputs": [],
   "source": [
    "WFString += omega12.symb2expr()"
   ]
  },
  {
   "cell_type": "code",
   "execution_count": null,
   "metadata": {},
   "outputs": [],
   "source": [
    "v2prime_U = stvarrank1('v2prime_U')\n",
    "v2prime_U.expr = v2_U.symb - omega12.symb*e1_U.symb"
   ]
  },
  {
   "cell_type": "code",
   "execution_count": null,
   "metadata": {},
   "outputs": [],
   "source": [
    "WFString += v2prime_U.symb2expr()"
   ]
  },
  {
   "cell_type": "code",
   "execution_count": null,
   "metadata": {},
   "outputs": [],
   "source": [
    "omega22 = stvar('omega22')\n",
    "for a in range(3):\n",
    "    for b in range(3):\n",
    "        omega22.expr += gam_LL.symb[a][b]*v2prime_U.symb[a]*v2prime_U.symb[b]"
   ]
  },
  {
   "cell_type": "code",
   "execution_count": null,
   "metadata": {},
   "outputs": [],
   "source": [
    "WFString += omega22.symb2expr()"
   ]
  },
  {
   "cell_type": "code",
   "execution_count": null,
   "metadata": {},
   "outputs": [],
   "source": [
    "e2_U = stvarrank1('e2_U')\n",
    "e2_U.expr = v2prime_U.symb/sp.sqrt(omega22.symb)"
   ]
  },
  {
   "cell_type": "code",
   "execution_count": null,
   "metadata": {},
   "outputs": [],
   "source": [
    "WFString += e2_U.symb2expr()"
   ]
  },
  {
   "cell_type": "code",
   "execution_count": null,
   "metadata": {},
   "outputs": [],
   "source": [
    "omega13 = stvar('omega13')\n",
    "omega23 = stvar('omega23')\n",
    "for a in range(3):\n",
    "    for b in range(3):\n",
    "        omega13.expr += gam_LL.symb[a][b]*e1_U.symb[a]*v3_U.symb[b]\n",
    "        omega23.expr += gam_LL.symb[a][b]*e2_U.symb[a]*v3_U.symb[b]"
   ]
  },
  {
   "cell_type": "code",
   "execution_count": null,
   "metadata": {},
   "outputs": [],
   "source": [
    "WFString += omega13.symb2expr() + omega23.symb2expr()"
   ]
  },
  {
   "cell_type": "code",
   "execution_count": null,
   "metadata": {},
   "outputs": [],
   "source": [
    "v3prime_U = stvarrank1('v3prime_U')\n",
    "v3prime_U.expr = v3_U.symb - omega13.symb*e1_U.symb - omega23.symb*e2_U.symb"
   ]
  },
  {
   "cell_type": "code",
   "execution_count": null,
   "metadata": {},
   "outputs": [],
   "source": [
    "WFString += v3prime_U.symb2expr()"
   ]
  },
  {
   "cell_type": "code",
   "execution_count": null,
   "metadata": {},
   "outputs": [],
   "source": [
    "omega33 = stvar('omega33')\n",
    "for a in range(3):\n",
    "    for b in range(3):\n",
    "        omega33.expr += gam_LL.symb[a][b]*v3prime_U.symb[a]*v3prime_U.symb[b]"
   ]
  },
  {
   "cell_type": "code",
   "execution_count": null,
   "metadata": {},
   "outputs": [],
   "source": [
    "WFString += omega33.symb2expr()"
   ]
  },
  {
   "cell_type": "code",
   "execution_count": null,
   "metadata": {},
   "outputs": [],
   "source": [
    "e3_U = stvarrank1('e3_U')\n",
    "e3_U.expr = v3prime_U.symb/sp.sqrt(omega33.symb)"
   ]
  },
  {
   "cell_type": "code",
   "execution_count": null,
   "metadata": {},
   "outputs": [],
   "source": [
    "WFString += e3_U.symb2expr()"
   ]
  },
  {
   "cell_type": "code",
   "execution_count": null,
   "metadata": {},
   "outputs": [],
   "source": [
    "u_U = stvarrank1('u_U', dim = 4)\n",
    "r_U = stvarrank1('r_U', dim = 4)\n",
    "theta_U = stvarrank1('theta_U', dim = 4)\n",
    "phi_U = stvarrank1('phi_U', dim = 4)\n",
    "\n",
    "u_U.expr[3] = 1/alpha.symb\n",
    "r_U.expr[3] = 0\n",
    "theta_U.expr[3] = 0\n",
    "phi_U.expr[3] = 0\n",
    "\n",
    "for i in range(3):\n",
    "    u_U.expr[i] = -beta_U.symb[i]/alpha.symb\n",
    "    r_U.expr[i] = e2_U.symb[i]\n",
    "    theta_U.expr[i] = e3_U.symb[i]\n",
    "    phi_U.expr[i] = e1_U.symb[i]"
   ]
  },
  {
   "cell_type": "code",
   "execution_count": null,
   "metadata": {},
   "outputs": [],
   "source": [
    "WFString += u_U.symb2expr() + r_U.symb2expr() + theta_U.symb2expr() + phi_U.symb2expr()"
   ]
  },
  {
   "cell_type": "code",
   "execution_count": null,
   "metadata": {},
   "outputs": [],
   "source": [
    "l_U = stvarrank1('l_U', dim = 4)\n",
    "l_U.expr =  1/sp.sqrt(2)*(u_U.symb+r_U.symb)\n",
    "\n",
    "n_U = stvarrank1('n_U', dim = 4)\n",
    "n_U.expr =  1/sp.sqrt(2)*(u_U.symb-r_U.symb)\n",
    "\n",
    "mre_U = stvarrank1('mre_U', dim = 4)\n",
    "mre_U.expr =  1/sp.sqrt(2)*theta_U.symb\n",
    "\n",
    "mim_U = stvarrank1('mim_U', dim = 4)\n",
    "mim_U.expr =  1/sp.sqrt(2)*phi_U.symb"
   ]
  },
  {
   "cell_type": "code",
   "execution_count": null,
   "metadata": {},
   "outputs": [],
   "source": [
    "WFString += l_U.symb2expr() + n_U.symb2expr() + mre_U.symb2expr() + mim_U.symb2expr()"
   ]
  },
  {
   "cell_type": "code",
   "execution_count": null,
   "metadata": {},
   "outputs": [],
   "source": [
    "nmnmre_UUUU = stvarrank4('nmnmre_UUUU', sym = 'sym02sym13', dim = 4)\n",
    "nmnmim_UUUU = stvarrank4('nmnmim_UUUU', sym = 'sym02sym13', dim = 4)"
   ]
  },
  {
   "cell_type": "code",
   "execution_count": null,
   "metadata": {},
   "outputs": [],
   "source": [
    "for a in range(4):\n",
    "    for b in range(4):\n",
    "        for c in range(4):\n",
    "            for d in range(4):\n",
    "                nmnmre_UUUU.expr[a][b][c][d] += n_U.symb[a]*mre_U.symb[b]*n_U.symb[c]*mre_U.symb[d] - n_U.symb[a]*mim_U.symb[b]*n_U.symb[c]*mim_U.symb[d]\n",
    "                nmnmim_UUUU.expr[a][b][c][d] += -n_U.symb[a]*mre_U.symb[b]*n_U.symb[c]*mim_U.symb[d] - n_U.symb[a]*mim_U.symb[b]*n_U.symb[c]*mre_U.symb[d]\n",
    "                "
   ]
  },
  {
   "cell_type": "code",
   "execution_count": null,
   "metadata": {},
   "outputs": [],
   "source": [
    "WFString += nmnmre_UUUU.symb2expr() + nmnmim_UUUU.symb2expr()"
   ]
  },
  {
   "cell_type": "code",
   "execution_count": null,
   "metadata": {},
   "outputs": [],
   "source": [
    "for i in range(3):\n",
    "    for j in range(3):\n",
    "        Psi4re.expr += 1/4*rank2term_LL.symb[i][j]*(nmnmre_UUUU.symb[3][i][3][j]-nmnmre_UUUU.symb[j][3][3][i]-nmnmre_UUUU.symb[3][i][j][3]+nmnmre_UUUU.symb[i][3][j][3])\n",
    "        Psi4im.expr += 1/4*rank2term_LL.symb[i][j]*(nmnmim_UUUU.symb[3][i][3][j]-nmnmim_UUUU.symb[j][3][3][i]-nmnmim_UUUU.symb[3][i][j][3]+nmnmim_UUUU.symb[i][3][j][3])\n",
    "        for k in range(3):\n",
    "            Psi4re.expr += 1/2*rank3term_LLL.symb[i][j][k]*(nmnmre_UUUU.symb[3][i][j][k]-nmnmre_UUUU.symb[i][3][j][k])\n",
    "            Psi4im.expr += 1/2*rank3term_LLL.symb[i][j][k]*(nmnmim_UUUU.symb[3][i][j][k]-nmnmim_UUUU.symb[i][3][j][k])\n",
    "            for l in range(3):\n",
    "                Psi4re.expr += rank4term_LLLL.symb[i][j][k][l]*nmnmre_UUUU.symb[i][j][k][l]\n",
    "                Psi4im.expr += rank4term_LLLL.symb[i][j][k][l]*nmnmim_UUUU.symb[i][j][k][l]"
   ]
  },
  {
   "cell_type": "code",
   "execution_count": null,
   "metadata": {},
   "outputs": [],
   "source": [
    "WFString += Psi4re.setisymb() + Psi4im.setisymb()"
   ]
  },
  {
   "cell_type": "code",
   "execution_count": null,
   "metadata": {},
   "outputs": [],
   "source": []
  },
  {
   "cell_type": "code",
   "execution_count": null,
   "metadata": {},
   "outputs": [],
   "source": []
  },
  {
   "cell_type": "code",
   "execution_count": null,
   "metadata": {},
   "outputs": [],
   "source": []
  },
  {
   "cell_type": "code",
   "execution_count": null,
   "metadata": {},
   "outputs": [],
   "source": [
    "print(WFString.replace('state_fabIdx', 'Idx').replace('DiagIdx','Diag'))"
   ]
  },
  {
   "cell_type": "markdown",
   "metadata": {},
   "source": [
    "# Loading Initial Data"
   ]
  },
  {
   "cell_type": "code",
   "execution_count": null,
   "metadata": {},
   "outputs": [],
   "source": [
    "InitString = \"\""
   ]
  },
  {
   "cell_type": "code",
   "execution_count": null,
   "metadata": {},
   "outputs": [],
   "source": [
    "u = stvar('u', gridvar = True, vartype = 'Init', varprefix = 'initial_data')\n",
    "chiInit = stvar('chi', gridvar = True, vartype = 'Init', varprefix = 'initial_data')\n",
    "AtildeInit_LL = stvarrank2('Atilde_LL', gridvar = True, vartype = 'Init', varprefix = 'initial_data', sym = 'sym01')"
   ]
  },
  {
   "cell_type": "code",
   "execution_count": null,
   "metadata": {},
   "outputs": [],
   "source": [
    "chi.expr = chiInit.isymb"
   ]
  },
  {
   "cell_type": "code",
   "execution_count": null,
   "metadata": {},
   "outputs": [],
   "source": [
    "InitString += chi.setisymb()"
   ]
  },
  {
   "cell_type": "code",
   "execution_count": null,
   "metadata": {},
   "outputs": [],
   "source": [
    "InitString += chiInit.symb2isymb()"
   ]
  },
  {
   "cell_type": "code",
   "execution_count": null,
   "metadata": {},
   "outputs": [],
   "source": [
    "gamtilde_LL.expr = np.array(sp.eye(3))"
   ]
  },
  {
   "cell_type": "code",
   "execution_count": null,
   "metadata": {},
   "outputs": [],
   "source": [
    "InitString += gamtilde_LL.setisymb()"
   ]
  },
  {
   "cell_type": "code",
   "execution_count": null,
   "metadata": {},
   "outputs": [],
   "source": [
    "Khat.expr = 0"
   ]
  },
  {
   "cell_type": "code",
   "execution_count": null,
   "metadata": {},
   "outputs": [],
   "source": [
    "InitString += Khat.setisymb()"
   ]
  },
  {
   "cell_type": "code",
   "execution_count": null,
   "metadata": {},
   "outputs": [],
   "source": [
    "Atilde_LL.expr = AtildeInit_LL.isymb"
   ]
  },
  {
   "cell_type": "code",
   "execution_count": null,
   "metadata": {},
   "outputs": [],
   "source": [
    "InitString += Atilde_LL.setisymb()"
   ]
  },
  {
   "cell_type": "code",
   "execution_count": null,
   "metadata": {},
   "outputs": [],
   "source": [
    "theta.expr = 0"
   ]
  },
  {
   "cell_type": "code",
   "execution_count": null,
   "metadata": {},
   "outputs": [],
   "source": [
    "InitString += theta.setisymb()"
   ]
  },
  {
   "cell_type": "code",
   "execution_count": null,
   "metadata": {},
   "outputs": [],
   "source": [
    "Gamtilde_U.expr = np.array([0,0,0])"
   ]
  },
  {
   "cell_type": "code",
   "execution_count": null,
   "metadata": {},
   "outputs": [],
   "source": [
    "InitString += Gamtilde_U.setisymb()"
   ]
  },
  {
   "cell_type": "code",
   "execution_count": null,
   "metadata": {},
   "outputs": [],
   "source": [
    "alpha.expr = sp.sqrt(chi.symb)"
   ]
  },
  {
   "cell_type": "code",
   "execution_count": null,
   "metadata": {},
   "outputs": [],
   "source": [
    "InitString += alpha.setisymb()"
   ]
  },
  {
   "cell_type": "code",
   "execution_count": null,
   "metadata": {},
   "outputs": [],
   "source": [
    "beta_U.expr = np.array([0,0,0])"
   ]
  },
  {
   "cell_type": "code",
   "execution_count": null,
   "metadata": {},
   "outputs": [],
   "source": [
    "InitString += beta_U.setisymb()"
   ]
  },
  {
   "cell_type": "code",
   "execution_count": null,
   "metadata": {},
   "outputs": [],
   "source": [
    "print(InitString.replace('state_fabIdx', 'Idx'))"
   ]
  },
  {
   "cell_type": "code",
   "execution_count": null,
   "metadata": {},
   "outputs": [],
   "source": []
  }
 ],
 "metadata": {
  "kernelspec": {
   "display_name": "MyEnv",
   "language": "python",
   "name": "myenv"
  },
  "language_info": {
   "codemirror_mode": {
    "name": "ipython",
    "version": 3
   },
   "file_extension": ".py",
   "mimetype": "text/x-python",
   "name": "python",
   "nbconvert_exporter": "python",
   "pygments_lexer": "ipython3",
   "version": "3.7.10"
  }
 },
 "nbformat": 4,
 "nbformat_minor": 4
}
