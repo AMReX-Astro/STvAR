{
 "cells": [
  {
   "cell_type": "code",
   "execution_count": 1,
   "metadata": {},
   "outputs": [],
   "source": [
    "from STvAR_v3 import *"
   ]
  },
  {
   "cell_type": "code",
   "execution_count": null,
   "metadata": {},
   "outputs": [],
   "source": []
  },
  {
   "cell_type": "code",
   "execution_count": 2,
   "metadata": {},
   "outputs": [],
   "source": [
    "fileAmplitudes = open('AmpQ1bc.txt', 'r')\n",
    "A1bc = np.zeros((20))\n",
    "n=0\n",
    "for line in fileAmplitudes:\n",
    "    A1bc[n] = line\n",
    "    n = n+1\n",
    "fileAmplitudes.close()\n",
    "\n",
    "fileAmplitudes = open('AmpQ2bc.txt', 'r')\n",
    "A2bc = np.zeros((20))\n",
    "n=0\n",
    "for line in fileAmplitudes:\n",
    "    A2bc[n] = line\n",
    "    n = n+1\n",
    "fileAmplitudes.close()\n",
    "\n",
    "fileAmplitudes = open('AmpQ4bc.txt', 'r')\n",
    "A4bc = np.zeros((20))\n",
    "n=0\n",
    "for line in fileAmplitudes:\n",
    "    A4bc[n] = line\n",
    "    n = n+1\n",
    "fileAmplitudes.close()\n",
    "\n",
    "fileAmplitudes = open('AmpQ6bc.txt', 'r')\n",
    "A6bc = np.zeros((20))\n",
    "n=0\n",
    "for line in fileAmplitudes:\n",
    "    A6bc[n] = line\n",
    "    n = n+1\n",
    "fileAmplitudes.close()"
   ]
  },
  {
   "cell_type": "code",
   "execution_count": 3,
   "metadata": {},
   "outputs": [],
   "source": [
    "A1bc[0] = 1/2*A1bc[0]\n",
    "A1bc[19] = 1/2*A1bc[19]\n",
    "\n",
    "A2bc[0] = 1/2*A2bc[0]\n",
    "A2bc[19] = 1/2*A2bc[19]\n",
    "\n",
    "A4bc[0] = 1/2*A4bc[0]\n",
    "A4bc[19] = 1/2*A4bc[19]\n",
    "\n",
    "A6bc[0] = 1/2*A6bc[0]\n",
    "A6bc[19] = 1/2*A6bc[19]"
   ]
  },
  {
   "cell_type": "code",
   "execution_count": 6,
   "metadata": {},
   "outputs": [
    {
     "data": {
      "text/plain": [
       "array([ 7.45269020e-01, -5.38595207e-02,  1.75729561e-01, -1.42228544e-02,\n",
       "        7.40876397e-03, -2.45387291e-03,  7.24023554e-04, -1.96929662e-04,\n",
       "        7.48083838e-05, -3.40197398e-05,  1.49279598e-05, -6.27554891e-06,\n",
       "        2.84570600e-06, -1.32290756e-06,  6.19360918e-07, -3.03178974e-07,\n",
       "        1.61105564e-07, -9.19645588e-08,  5.66652096e-08, -2.09773254e-08])"
      ]
     },
     "execution_count": 6,
     "metadata": {},
     "output_type": "execute_result"
    }
   ],
   "source": [
    "A4bc"
   ]
  },
  {
   "cell_type": "code",
   "execution_count": 7,
   "metadata": {},
   "outputs": [],
   "source": [
    "Q1bc = stvar('Q1bc')\n",
    "Q1bc.expr = 0\n",
    "\n",
    "Q2bc = stvar('Q2bc')\n",
    "Q2bc.expr = 0\n",
    "\n",
    "Q4bc = stvar('Q4bc')\n",
    "Q4bc.expr = 0\n",
    "\n",
    "Q6bc = stvar('Q6bc')\n",
    "Q6bc.expr = 0"
   ]
  },
  {
   "cell_type": "code",
   "execution_count": 8,
   "metadata": {},
   "outputs": [],
   "source": [
    "x2 = stvar('x2')"
   ]
  },
  {
   "cell_type": "code",
   "execution_count": 9,
   "metadata": {},
   "outputs": [],
   "source": [
    "Q1bc.expr = 0\n",
    "for n in range(20):\n",
    "    Q1bc.expr += A1bc[n]*sp.cos(n*sp.acos(-1+2*x2.symb))\n",
    "        \n",
    "Q2bc.expr = 0\n",
    "for n in range(20):\n",
    "    Q2bc.expr += A2bc[n]*sp.cos(n*sp.acos(-1+2*x2.symb))\n",
    "        \n",
    "Q4bc.expr = 0\n",
    "for n in range(20):\n",
    "    Q4bc.expr += A4bc[n]*sp.cos(n*sp.acos(-1+2*x2.symb))\n",
    "    \n",
    "Q6bc.expr = 0\n",
    "for n in range(20):\n",
    "    Q6bc.expr += A6bc[n]*sp.cos(n*sp.acos(-1+2*x2.symb))"
   ]
  },
  {
   "cell_type": "code",
   "execution_count": 10,
   "metadata": {},
   "outputs": [
    {
     "name": "stdout",
     "output_type": "stream",
     "text": [
      "        amrex::Real Q1bc = -0.68061100520003348*x2 + 0.061019268915739208*std::cos(2*std::acos(2*x2 - 1)) - 0.028811239260563313*std::cos(3*std::acos(2*x2 - 1)) + 0.010994687062544199*std::cos(4*std::acos(2*x2 - 1)) - 0.0023006728019726377*std::cos(5*std::acos(2*x2 - 1)) + 0.00037770024933888972*std::cos(6*std::acos(2*x2 - 1)) - 0.00018926758193727779*std::cos(7*std::acos(2*x2 - 1)) + 8.9792816155849497e-5*std::cos(8*std::acos(2*x2 - 1)) - 3.0124163538172016e-5*std::cos(9*std::acos(2*x2 - 1)) + 1.2021246773304128e-5*std::cos(10*std::acos(2*x2 - 1)) - 6.5053906007292439e-6*std::cos(11*std::acos(2*x2 - 1)) + 3.0449215172399097e-6*std::cos(12*std::acos(2*x2 - 1)) - 1.2811421066013379e-6*std::cos(13*std::acos(2*x2 - 1)) + 5.9240976851317184e-7*std::cos(14*std::acos(2*x2 - 1)) - 3.0791730402934814e-7*std::cos(15*std::acos(2*x2 - 1)) + 1.6297438969713196e-7*std::cos(16*std::acos(2*x2 - 1)) - 9.0628913264681477e-8*std::cos(17*std::acos(2*x2 - 1)) + 5.5925736878320587e-8*std::cos(18*std::acos(2*x2 - 1)) - 2.1597219459004724e-8*std::cos(19*std::acos(2*x2 - 1)) + 0.89616316299388044;\n",
      "\n",
      "\n"
     ]
    }
   ],
   "source": [
    "print(Q1bc.symb2expr())"
   ]
  },
  {
   "cell_type": "code",
   "execution_count": 11,
   "metadata": {},
   "outputs": [
    {
     "name": "stdout",
     "output_type": "stream",
     "text": [
      "        amrex::Real Q2bc = -0.87832357573863939*x2 - 0.20007739541157504*std::cos(2*std::acos(2*x2 - 1)) + 0.065191675198832538*std::cos(3*std::acos(2*x2 - 1)) - 0.0017668632063070847*std::cos(4*std::acos(2*x2 - 1)) + 0.002083321381117274*std::cos(5*std::acos(2*x2 - 1)) - 0.0021755893539064947*std::cos(6*std::acos(2*x2 - 1)) + 0.00023620380812158608*std::cos(7*std::acos(2*x2 - 1)) + 0.00019140508503004937*std::cos(8*std::acos(2*x2 - 1)) - 5.2887991899511905e-6*std::cos(9*std::acos(2*x2 - 1)) - 3.4865365456332106e-5*std::cos(10*std::acos(2*x2 - 1)) + 7.5754289462267449e-6*std::cos(11*std::acos(2*x2 - 1)) - 8.1591316806496617e-7*std::cos(12*std::acos(2*x2 - 1)) + 2.3451911836790823e-6*std::cos(13*std::acos(2*x2 - 1)) - 1.6590877800256448e-6*std::cos(14*std::acos(2*x2 - 1)) + 6.4757982828379801e-7*std::cos(15*std::acos(2*x2 - 1)) - 3.3486047862525681e-7*std::cos(16*std::acos(2*x2 - 1)) + 2.4013722528352932e-7*std::cos(17*std::acos(2*x2 - 1)) - 1.57520797136948e-7*std::cos(18*std::acos(2*x2 - 1)) + 5.9434914744145584e-8*std::cos(19*std::acos(2*x2 - 1)) + 1.2713830549954181;\n",
      "\n",
      "\n"
     ]
    }
   ],
   "source": [
    "print(Q2bc.symb2expr())"
   ]
  },
  {
   "cell_type": "code",
   "execution_count": 12,
   "metadata": {},
   "outputs": [
    {
     "name": "stdout",
     "output_type": "stream",
     "text": [
      "        amrex::Real Q4bc = -0.10771904146263223*x2 + 0.17572956122815425*std::cos(2*std::acos(2*x2 - 1)) - 0.014222854362153495*std::cos(3*std::acos(2*x2 - 1)) + 0.0074087639678264983*std::cos(4*std::acos(2*x2 - 1)) - 0.0024538729112778268*std::cos(5*std::acos(2*x2 - 1)) + 0.00072402355434538629*std::cos(6*std::acos(2*x2 - 1)) - 0.00019692966199925943*std::cos(7*std::acos(2*x2 - 1)) + 7.4808383755037289e-5*std::cos(8*std::acos(2*x2 - 1)) - 3.4019739811985694e-5*std::cos(9*std::acos(2*x2 - 1)) + 1.4927959811270042e-5*std::cos(10*std::acos(2*x2 - 1)) - 6.2755489084950766e-6*std::cos(11*std::acos(2*x2 - 1)) + 2.8457060048184268e-6*std::cos(12*std::acos(2*x2 - 1)) - 1.3229075641260635e-6*std::cos(13*std::acos(2*x2 - 1)) + 6.1936091758085787e-7*std::cos(14*std::acos(2*x2 - 1)) - 3.0317897355136569e-7*std::cos(15*std::acos(2*x2 - 1)) + 1.6110556438908574e-7*std::cos(16*std::acos(2*x2 - 1)) - 9.1964558815438302e-8*std::cos(17*std::acos(2*x2 - 1)) + 5.6665209566264529e-8*std::cos(18*std::acos(2*x2 - 1)) - 2.0977325373289224e-8*std::cos(19*std::acos(2*x2 - 1)) + 0.79912854081583862;\n",
      "\n",
      "\n"
     ]
    }
   ],
   "source": [
    "print(Q4bc.symb2expr())"
   ]
  },
  {
   "cell_type": "code",
   "execution_count": 13,
   "metadata": {},
   "outputs": [
    {
     "name": "stdout",
     "output_type": "stream",
     "text": [
      "        amrex::Real Q6bc = -1.0277957683982426*x2 + 0.08036238750487279*std::cos(2*std::acos(2*x2 - 1)) - 0.0055524109104355922*std::cos(3*std::acos(2*x2 - 1)) - 0.0026679402343711585*std::cos(4*std::acos(2*x2 - 1)) + 0.0023160732311332012*std::cos(5*std::acos(2*x2 - 1)) - 0.0011140115316088835*std::cos(6*std::acos(2*x2 - 1)) + 0.00037841316240069117*std::cos(7*std::acos(2*x2 - 1)) - 0.00011022477711877463*std::cos(8*std::acos(2*x2 - 1)) + 3.4307886145300281e-5*std::cos(9*std::acos(2*x2 - 1)) - 1.1368067326919529e-5*std::cos(10*std::acos(2*x2 - 1)) + 3.6913267404438399e-6*std::cos(11*std::acos(2*x2 - 1)) - 1.3916930764260038e-6*std::cos(12*std::acos(2*x2 - 1)) + 6.6666703796985916e-7*std::cos(13*std::acos(2*x2 - 1)) - 3.3326327965668701e-7*std::cos(14*std::acos(2*x2 - 1)) + 1.5699049563805412e-7*std::cos(15*std::acos(2*x2 - 1)) - 6.725507498833716e-8*std::cos(16*std::acos(2*x2 - 1)) + 1.9632091487198355e-8*std::cos(17*std::acos(2*x2 - 1)) + 5.5247701899463486e-9*std::cos(18*std::acos(2*x2 - 1)) - 6.2320857589087675e-9*std::cos(19*std::acos(2*x2 - 1)) + 1.5277509543379622;\n",
      "\n",
      "\n"
     ]
    }
   ],
   "source": [
    "print(Q6bc.symb2expr())"
   ]
  },
  {
   "cell_type": "code",
   "execution_count": null,
   "metadata": {},
   "outputs": [],
   "source": []
  },
  {
   "cell_type": "code",
   "execution_count": null,
   "metadata": {},
   "outputs": [],
   "source": []
  }
 ],
 "metadata": {
  "kernelspec": {
   "display_name": "Python 3",
   "language": "python",
   "name": "python3"
  },
  "language_info": {
   "codemirror_mode": {
    "name": "ipython",
    "version": 3
   },
   "file_extension": ".py",
   "mimetype": "text/x-python",
   "name": "python",
   "nbconvert_exporter": "python",
   "pygments_lexer": "ipython3",
   "version": "3.5.2"
  }
 },
 "nbformat": 4,
 "nbformat_minor": 2
}
