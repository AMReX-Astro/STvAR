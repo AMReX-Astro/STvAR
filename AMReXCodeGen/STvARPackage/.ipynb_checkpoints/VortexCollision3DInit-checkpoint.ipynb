{
 "cells": [
  {
   "cell_type": "code",
   "execution_count": 1,
   "metadata": {},
   "outputs": [],
   "source": [
    "from STvAR_v3 import *"
   ]
  },
  {
   "cell_type": "code",
   "execution_count": 2,
   "metadata": {},
   "outputs": [],
   "source": [
    "fileAmplitudes = open('AmpF.txt', 'r')\n",
    "AF = np.zeros((50))\n",
    "n=0\n",
    "for line in fileAmplitudes:\n",
    "    AF[n] = line\n",
    "    n = n+1\n",
    "fileAmplitudes.close()\n",
    "\n",
    "fileAmplitudes = open('AmpChi.txt', 'r')\n",
    "AChi = np.zeros((50))\n",
    "n=0\n",
    "for line in fileAmplitudes:\n",
    "    AChi[n] = line\n",
    "    n = n+1\n",
    "fileAmplitudes.close()"
   ]
  },
  {
   "cell_type": "code",
   "execution_count": 3,
   "metadata": {},
   "outputs": [],
   "source": [
    "AF[0] = 1/2*AF[0]\n",
    "AF[49] = 1/2*AF[49]\n",
    "\n",
    "AChi[0] = 1/2*AChi[0]\n",
    "AChi[49] = 1/2*AChi[19]"
   ]
  },
  {
   "cell_type": "code",
   "execution_count": 4,
   "metadata": {},
   "outputs": [],
   "source": [
    "Fpl = stvar('Fpl')\n",
    "Fpl.expr = 0\n",
    "\n",
    "Fpr = stvar('Fpr')\n",
    "Fpr.expr = 0\n",
    "\n",
    "Fml = stvar('Fml')\n",
    "Fml.expr = 0\n",
    "\n",
    "Fmr = stvar('Fmr')\n",
    "Fmr.expr = 0\n",
    "\n",
    "Chipl = stvar('Chipl')\n",
    "Chipl.expr = 0\n",
    "\n",
    "Chiml = stvar('Chiml')\n",
    "Chiml.expr = 0\n",
    "\n",
    "Chipr = stvar('Chipr')\n",
    "Chipr.expr = 0\n",
    "\n",
    "Chimr = stvar('Chimr')\n",
    "Chimr.expr = 0"
   ]
  },
  {
   "cell_type": "code",
   "execution_count": 5,
   "metadata": {},
   "outputs": [],
   "source": [
    "Maxr = stvar('Maxx')\n",
    "Maxr.expr = 20.0"
   ]
  },
  {
   "cell_type": "code",
   "execution_count": null,
   "metadata": {},
   "outputs": [],
   "source": []
  },
  {
   "cell_type": "code",
   "execution_count": 6,
   "metadata": {
    "scrolled": true
   },
   "outputs": [
    {
     "name": "stdout",
     "output_type": "stream",
     "text": [
      "        amrex::Real Maxx = 20.0;\n",
      "\n",
      "\n"
     ]
    }
   ],
   "source": [
    "print(Maxr.symb2expr())"
   ]
  },
  {
   "cell_type": "code",
   "execution_count": 7,
   "metadata": {},
   "outputs": [],
   "source": [
    "v = stvar('v')\n",
    "v.expr = 2\n",
    "\n",
    "lam = stvar('lam')\n",
    "lam.expr = 1\n",
    "\n",
    "Omega = stvar('Omega')\n",
    "Omega.expr = 1\n",
    "\n",
    "a = stvar('a')\n",
    "a.expr = 5\n",
    "\n",
    "e = stvar('e')\n",
    "e.expr = 1\n",
    "\n",
    "vboost = stvar('vboost')\n",
    "vboost.expr = 0.8\n",
    "\n",
    "gammaboost = stvar('gammaboost')\n",
    "gammaboost.expr = 1/sp.sqrt(1-vboost.symb**2)"
   ]
  },
  {
   "cell_type": "code",
   "execution_count": 8,
   "metadata": {},
   "outputs": [
    {
     "name": "stdout",
     "output_type": "stream",
     "text": [
      "        amrex::Real v = 2;\n",
      "\n",
      "\n",
      "        amrex::Real a = 5;\n",
      "\n",
      "\n",
      "        amrex::Real e = 1;\n",
      "\n",
      "\n",
      "        amrex::Real vboost = 0.80000000000000004;\n",
      "\n",
      "\n",
      "        amrex::Real gammaboost = std::pow(1 - std::pow(vboost, 2), -1.0/2.0);\n",
      "\n",
      "\n"
     ]
    }
   ],
   "source": [
    "print(v.symb2expr())\n",
    "print(a.symb2expr())\n",
    "print(e.symb2expr())\n",
    "print(vboost.symb2expr())\n",
    "print(gammaboost.symb2expr())"
   ]
  },
  {
   "cell_type": "code",
   "execution_count": 9,
   "metadata": {},
   "outputs": [],
   "source": [
    "tm = stvar('tm')\n",
    "tm.expr = -0.001\n",
    "tp = stvar('tp')\n",
    "tp.expr = 0.001\n",
    "\n",
    "x0 = stvar('x0')\n",
    "x1 = stvar('x1')\n",
    "x2 = stvar('x2')\n",
    "\n",
    "xpl = stvar('xpl')\n",
    "xpl.expr = (x0.symb + a.symb - vboost.symb*tp.symb)*gammaboost.symb\n",
    "y = stvar('y')\n",
    "y.expr = x1.symb\n",
    "rpl = stvar('rpl')\n",
    "rpl.expr = sp.sqrt(xpl.symb**2 + y.symb**2)\n",
    "\n",
    "xml = stvar('xml')\n",
    "xml.expr = (x0.symb + a.symb - vboost.symb*tm.symb)*gammaboost.symb\n",
    "\n",
    "rml = stvar('rml')\n",
    "rml.expr = sp.sqrt(xml.symb**2 + y.symb**2)\n",
    "\n",
    "xpr = stvar('xpr')\n",
    "xpr.expr = (x0.symb - a.symb + vboost.symb*tp.symb)*gammaboost.symb\n",
    "z = stvar('z')\n",
    "z.expr = x2.symb\n",
    "rpr = stvar('rpr')\n",
    "rpr.expr = sp.sqrt(xpr.symb**2 + z.symb**2)\n",
    "\n",
    "xmr = stvar('xmr')\n",
    "xmr.expr = (x0.symb - a.symb + vboost.symb*tm.symb)*gammaboost.symb\n",
    "\n",
    "rmr = stvar('rmr')\n",
    "rmr.expr = sp.sqrt(xmr.symb**2 + z.symb**2)"
   ]
  },
  {
   "cell_type": "code",
   "execution_count": 10,
   "metadata": {},
   "outputs": [
    {
     "name": "stdout",
     "output_type": "stream",
     "text": [
      "        amrex::Real tm = -0.001;\n",
      "\n",
      "\n",
      "        amrex::Real tp = 0.001;\n",
      "\n",
      "\n",
      "        amrex::Real y = x1;\n",
      "\n",
      "\n",
      "        amrex::Real z = x2;\n",
      "\n",
      "\n",
      "        amrex::Real xpl = gammaboost*(a - tp*vboost + x0);\n",
      "\n",
      "\n",
      "        amrex::Real rpl = std::sqrt(std::pow(xpl, 2) + std::pow(y, 2));\n",
      "\n",
      "\n",
      "        amrex::Real xml = gammaboost*(a - tm*vboost + x0);\n",
      "\n",
      "\n",
      "        amrex::Real rml = std::sqrt(std::pow(xml, 2) + std::pow(y, 2));\n",
      "\n",
      "\n",
      "        amrex::Real xpr = gammaboost*(-a + tp*vboost + x0);\n",
      "\n",
      "\n",
      "        amrex::Real rpr = std::sqrt(std::pow(xpr, 2) + std::pow(z, 2));\n",
      "\n",
      "\n",
      "        amrex::Real xmr = gammaboost*(-a + tm*vboost + x0);\n",
      "\n",
      "\n",
      "        amrex::Real rmr = std::sqrt(std::pow(xmr, 2) + std::pow(z, 2));\n",
      "\n",
      "\n"
     ]
    }
   ],
   "source": [
    "print(tm.symb2expr())\n",
    "print(tp.symb2expr())\n",
    "print(y.symb2expr())\n",
    "print(z.symb2expr())\n",
    "print(xpl.symb2expr())\n",
    "print(rpl.symb2expr())\n",
    "print(xml.symb2expr())\n",
    "print(rml.symb2expr())\n",
    "print(xpr.symb2expr())\n",
    "print(rpr.symb2expr())\n",
    "print(xmr.symb2expr())\n",
    "print(rmr.symb2expr())"
   ]
  },
  {
   "cell_type": "code",
   "execution_count": 11,
   "metadata": {},
   "outputs": [],
   "source": [
    "Fpl.expr = 0\n",
    "for n in range(50):\n",
    "    Fpl.expr += AF[n]*sp.cos(n*sp.acos(-1+2*rpl.symb/Maxr.symb))\n",
    "    \n",
    "Fml.expr = 0\n",
    "for n in range(50):\n",
    "    Fml.expr += AF[n]*sp.cos(n*sp.acos(-1+2*rml.symb/Maxr.symb))\n",
    "    \n",
    "Fpr.expr = 0\n",
    "for n in range(50):\n",
    "    Fpr.expr += AF[n]*sp.cos(n*sp.acos(-1+2*rpr.symb/Maxr.symb))\n",
    "    \n",
    "Fmr.expr = 0\n",
    "for n in range(50):\n",
    "    Fmr.expr += AF[n]*sp.cos(n*sp.acos(-1+2*rmr.symb/Maxr.symb))\n",
    "        \n",
    "Chipl.expr = 0\n",
    "for n in range(50):\n",
    "    Chipl.expr += AChi[n]*sp.cos(n*sp.acos(-1+2*rpl.symb/Maxr.symb))   \n",
    "        \n",
    "Chiml.expr = 0\n",
    "for n in range(50):\n",
    "    Chiml.expr += AChi[n]*sp.cos(n*sp.acos(-1+2*rml.symb/Maxr.symb))\n",
    "    \n",
    "Chipr.expr = 0\n",
    "for n in range(50):\n",
    "    Chipr.expr += AChi[n]*sp.cos(n*sp.acos(-1+2*rpr.symb/Maxr.symb))   \n",
    "        \n",
    "Chimr.expr = 0\n",
    "for n in range(50):\n",
    "    Chimr.expr += AChi[n]*sp.cos(n*sp.acos(-1+2*rmr.symb/Maxr.symb))"
   ]
  },
  {
   "cell_type": "code",
   "execution_count": 12,
   "metadata": {},
   "outputs": [
    {
     "name": "stdout",
     "output_type": "stream",
     "text": [
      "        amrex::Real Fpl = -0.35917315066178251*std::cos(2*std::acos(-1 + 2*rpl/Maxx)) + 0.31026408228419516*std::cos(3*std::acos(-1 + 2*rpl/Maxx)) - 0.25269191924188966*std::cos(4*std::acos(-1 + 2*rpl/Maxx)) + 0.19340799408394338*std::cos(5*std::acos(-1 + 2*rpl/Maxx)) - 0.13808541221142634*std::cos(6*std::acos(-1 + 2*rpl/Maxx)) + 0.090855972788993905*std::cos(7*std::acos(-1 + 2*rpl/Maxx)) - 0.053668480926206845*std::cos(8*std::acos(-1 + 2*rpl/Maxx)) + 0.026846023584892485*std::cos(9*std::acos(-1 + 2*rpl/Maxx)) - 0.0092382514796045048*std::cos(10*std::acos(-1 + 2*rpl/Maxx)) - 0.00092294976747209212*std::cos(11*std::acos(-1 + 2*rpl/Maxx)) + 0.0057405364521011942*std::cos(12*std::acos(-1 + 2*rpl/Maxx)) - 0.007070698627223676*std::cos(13*std::acos(-1 + 2*rpl/Maxx)) + 0.0064761833159145965*std::cos(14*std::acos(-1 + 2*rpl/Maxx)) - 0.005023212158245513*std::cos(15*std::acos(-1 + 2*rpl/Maxx)) + 0.0034205986990656426*std::cos(16*std::acos(-1 + 2*rpl/Maxx)) - 0.0020187427011483169*std::cos(17*std::acos(-1 + 2*rpl/Maxx)) + 0.00097248177039553629*std::cos(18*std::acos(-1 + 2*rpl/Maxx)) - 0.00028000490203370504*std::cos(19*std::acos(-1 + 2*rpl/Maxx)) - 0.00011247961132367784*std::cos(20*std::acos(-1 + 2*rpl/Maxx)) + 0.00029226994135531786*std::cos(21*std::acos(-1 + 2*rpl/Maxx)) - 0.00033451580711545831*std::cos(22*std::acos(-1 + 2*rpl/Maxx)) + 0.00030400380138317223*std::cos(23*std::acos(-1 + 2*rpl/Maxx)) - 0.00024259156065022797*std::cos(24*std::acos(-1 + 2*rpl/Maxx)) + 0.00017781140026720127*std::cos(25*std::acos(-1 + 2*rpl/Maxx)) - 0.00012243328517887869*std::cos(26*std::acos(-1 + 2*rpl/Maxx)) + 8.1706701299991136e-5*std::cos(27*std::acos(-1 + 2*rpl/Maxx)) - 5.505442414322631e-5*std::cos(28*std::acos(-1 + 2*rpl/Maxx)) + 3.9984239007827271e-5*std::cos(29*std::acos(-1 + 2*rpl/Maxx)) - 3.3019509756614107e-5*std::cos(30*std::acos(-1 + 2*rpl/Maxx)) + 3.1145062782095279e-5*std::cos(31*std::acos(-1 + 2*rpl/Maxx)) - 3.1917662849809125e-5*std::cos(32*std::acos(-1 + 2*rpl/Maxx)) + 3.372480805543393e-5*std::cos(33*std::acos(-1 + 2*rpl/Maxx)) - 3.5576354048653946e-5*std::cos(34*std::acos(-1 + 2*rpl/Maxx)) + 3.700079485714769e-5*std::cos(35*std::acos(-1 + 2*rpl/Maxx)) - 3.7838785056844293e-5*std::cos(36*std::acos(-1 + 2*rpl/Maxx)) + 3.8123195968783885e-5*std::cos(37*std::acos(-1 + 2*rpl/Maxx)) - 3.7966563205885095e-5*std::cos(38*std::acos(-1 + 2*rpl/Maxx)) + 3.7503027981854176e-5*std::cos(39*std::acos(-1 + 2*rpl/Maxx)) - 3.6851743728257003e-5*std::cos(40*std::acos(-1 + 2*rpl/Maxx)) + 3.6102848226325646e-5*std::cos(41*std::acos(-1 + 2*rpl/Maxx)) - 3.5319606386974289e-5*std::cos(42*std::acos(-1 + 2*rpl/Maxx)) + 3.4535849445453681e-5*std::cos(43*std::acos(-1 + 2*rpl/Maxx)) - 3.3779744758169472e-5*std::cos(44*std::acos(-1 + 2*rpl/Maxx)) + 3.3049035664471649e-5*std::cos(45*std::acos(-1 + 2*rpl/Maxx)) - 3.2385306649174161e-5*std::cos(46*std::acos(-1 + 2*rpl/Maxx)) + 3.1746637879047357e-5*std::cos(47*std::acos(-1 + 2*rpl/Maxx)) - 3.1307518186224348e-5*std::cos(48*std::acos(-1 + 2*rpl/Maxx)) + 1.5443584021598844e-5*std::cos(49*std::acos(-1 + 2*rpl/Maxx)) + 1.4047430672805694 + 0.78543476897180453*rpl/Maxx;\n",
      "\n",
      "\n",
      "        amrex::Real Fml = -0.35917315066178251*std::cos(2*std::acos(-1 + 2*rml/Maxx)) + 0.31026408228419516*std::cos(3*std::acos(-1 + 2*rml/Maxx)) - 0.25269191924188966*std::cos(4*std::acos(-1 + 2*rml/Maxx)) + 0.19340799408394338*std::cos(5*std::acos(-1 + 2*rml/Maxx)) - 0.13808541221142634*std::cos(6*std::acos(-1 + 2*rml/Maxx)) + 0.090855972788993905*std::cos(7*std::acos(-1 + 2*rml/Maxx)) - 0.053668480926206845*std::cos(8*std::acos(-1 + 2*rml/Maxx)) + 0.026846023584892485*std::cos(9*std::acos(-1 + 2*rml/Maxx)) - 0.0092382514796045048*std::cos(10*std::acos(-1 + 2*rml/Maxx)) - 0.00092294976747209212*std::cos(11*std::acos(-1 + 2*rml/Maxx)) + 0.0057405364521011942*std::cos(12*std::acos(-1 + 2*rml/Maxx)) - 0.007070698627223676*std::cos(13*std::acos(-1 + 2*rml/Maxx)) + 0.0064761833159145965*std::cos(14*std::acos(-1 + 2*rml/Maxx)) - 0.005023212158245513*std::cos(15*std::acos(-1 + 2*rml/Maxx)) + 0.0034205986990656426*std::cos(16*std::acos(-1 + 2*rml/Maxx)) - 0.0020187427011483169*std::cos(17*std::acos(-1 + 2*rml/Maxx)) + 0.00097248177039553629*std::cos(18*std::acos(-1 + 2*rml/Maxx)) - 0.00028000490203370504*std::cos(19*std::acos(-1 + 2*rml/Maxx)) - 0.00011247961132367784*std::cos(20*std::acos(-1 + 2*rml/Maxx)) + 0.00029226994135531786*std::cos(21*std::acos(-1 + 2*rml/Maxx)) - 0.00033451580711545831*std::cos(22*std::acos(-1 + 2*rml/Maxx)) + 0.00030400380138317223*std::cos(23*std::acos(-1 + 2*rml/Maxx)) - 0.00024259156065022797*std::cos(24*std::acos(-1 + 2*rml/Maxx)) + 0.00017781140026720127*std::cos(25*std::acos(-1 + 2*rml/Maxx)) - 0.00012243328517887869*std::cos(26*std::acos(-1 + 2*rml/Maxx)) + 8.1706701299991136e-5*std::cos(27*std::acos(-1 + 2*rml/Maxx)) - 5.505442414322631e-5*std::cos(28*std::acos(-1 + 2*rml/Maxx)) + 3.9984239007827271e-5*std::cos(29*std::acos(-1 + 2*rml/Maxx)) - 3.3019509756614107e-5*std::cos(30*std::acos(-1 + 2*rml/Maxx)) + 3.1145062782095279e-5*std::cos(31*std::acos(-1 + 2*rml/Maxx)) - 3.1917662849809125e-5*std::cos(32*std::acos(-1 + 2*rml/Maxx)) + 3.372480805543393e-5*std::cos(33*std::acos(-1 + 2*rml/Maxx)) - 3.5576354048653946e-5*std::cos(34*std::acos(-1 + 2*rml/Maxx)) + 3.700079485714769e-5*std::cos(35*std::acos(-1 + 2*rml/Maxx)) - 3.7838785056844293e-5*std::cos(36*std::acos(-1 + 2*rml/Maxx)) + 3.8123195968783885e-5*std::cos(37*std::acos(-1 + 2*rml/Maxx)) - 3.7966563205885095e-5*std::cos(38*std::acos(-1 + 2*rml/Maxx)) + 3.7503027981854176e-5*std::cos(39*std::acos(-1 + 2*rml/Maxx)) - 3.6851743728257003e-5*std::cos(40*std::acos(-1 + 2*rml/Maxx)) + 3.6102848226325646e-5*std::cos(41*std::acos(-1 + 2*rml/Maxx)) - 3.5319606386974289e-5*std::cos(42*std::acos(-1 + 2*rml/Maxx)) + 3.4535849445453681e-5*std::cos(43*std::acos(-1 + 2*rml/Maxx)) - 3.3779744758169472e-5*std::cos(44*std::acos(-1 + 2*rml/Maxx)) + 3.3049035664471649e-5*std::cos(45*std::acos(-1 + 2*rml/Maxx)) - 3.2385306649174161e-5*std::cos(46*std::acos(-1 + 2*rml/Maxx)) + 3.1746637879047357e-5*std::cos(47*std::acos(-1 + 2*rml/Maxx)) - 3.1307518186224348e-5*std::cos(48*std::acos(-1 + 2*rml/Maxx)) + 1.5443584021598844e-5*std::cos(49*std::acos(-1 + 2*rml/Maxx)) + 1.4047430672805694 + 0.78543476897180453*rml/Maxx;\n",
      "\n",
      "\n",
      "        amrex::Real Fpr = -0.35917315066178251*std::cos(2*std::acos(-1 + 2*rpr/Maxx)) + 0.31026408228419516*std::cos(3*std::acos(-1 + 2*rpr/Maxx)) - 0.25269191924188966*std::cos(4*std::acos(-1 + 2*rpr/Maxx)) + 0.19340799408394338*std::cos(5*std::acos(-1 + 2*rpr/Maxx)) - 0.13808541221142634*std::cos(6*std::acos(-1 + 2*rpr/Maxx)) + 0.090855972788993905*std::cos(7*std::acos(-1 + 2*rpr/Maxx)) - 0.053668480926206845*std::cos(8*std::acos(-1 + 2*rpr/Maxx)) + 0.026846023584892485*std::cos(9*std::acos(-1 + 2*rpr/Maxx)) - 0.0092382514796045048*std::cos(10*std::acos(-1 + 2*rpr/Maxx)) - 0.00092294976747209212*std::cos(11*std::acos(-1 + 2*rpr/Maxx)) + 0.0057405364521011942*std::cos(12*std::acos(-1 + 2*rpr/Maxx)) - 0.007070698627223676*std::cos(13*std::acos(-1 + 2*rpr/Maxx)) + 0.0064761833159145965*std::cos(14*std::acos(-1 + 2*rpr/Maxx)) - 0.005023212158245513*std::cos(15*std::acos(-1 + 2*rpr/Maxx)) + 0.0034205986990656426*std::cos(16*std::acos(-1 + 2*rpr/Maxx)) - 0.0020187427011483169*std::cos(17*std::acos(-1 + 2*rpr/Maxx)) + 0.00097248177039553629*std::cos(18*std::acos(-1 + 2*rpr/Maxx)) - 0.00028000490203370504*std::cos(19*std::acos(-1 + 2*rpr/Maxx)) - 0.00011247961132367784*std::cos(20*std::acos(-1 + 2*rpr/Maxx)) + 0.00029226994135531786*std::cos(21*std::acos(-1 + 2*rpr/Maxx)) - 0.00033451580711545831*std::cos(22*std::acos(-1 + 2*rpr/Maxx)) + 0.00030400380138317223*std::cos(23*std::acos(-1 + 2*rpr/Maxx)) - 0.00024259156065022797*std::cos(24*std::acos(-1 + 2*rpr/Maxx)) + 0.00017781140026720127*std::cos(25*std::acos(-1 + 2*rpr/Maxx)) - 0.00012243328517887869*std::cos(26*std::acos(-1 + 2*rpr/Maxx)) + 8.1706701299991136e-5*std::cos(27*std::acos(-1 + 2*rpr/Maxx)) - 5.505442414322631e-5*std::cos(28*std::acos(-1 + 2*rpr/Maxx)) + 3.9984239007827271e-5*std::cos(29*std::acos(-1 + 2*rpr/Maxx)) - 3.3019509756614107e-5*std::cos(30*std::acos(-1 + 2*rpr/Maxx)) + 3.1145062782095279e-5*std::cos(31*std::acos(-1 + 2*rpr/Maxx)) - 3.1917662849809125e-5*std::cos(32*std::acos(-1 + 2*rpr/Maxx)) + 3.372480805543393e-5*std::cos(33*std::acos(-1 + 2*rpr/Maxx)) - 3.5576354048653946e-5*std::cos(34*std::acos(-1 + 2*rpr/Maxx)) + 3.700079485714769e-5*std::cos(35*std::acos(-1 + 2*rpr/Maxx)) - 3.7838785056844293e-5*std::cos(36*std::acos(-1 + 2*rpr/Maxx)) + 3.8123195968783885e-5*std::cos(37*std::acos(-1 + 2*rpr/Maxx)) - 3.7966563205885095e-5*std::cos(38*std::acos(-1 + 2*rpr/Maxx)) + 3.7503027981854176e-5*std::cos(39*std::acos(-1 + 2*rpr/Maxx)) - 3.6851743728257003e-5*std::cos(40*std::acos(-1 + 2*rpr/Maxx)) + 3.6102848226325646e-5*std::cos(41*std::acos(-1 + 2*rpr/Maxx)) - 3.5319606386974289e-5*std::cos(42*std::acos(-1 + 2*rpr/Maxx)) + 3.4535849445453681e-5*std::cos(43*std::acos(-1 + 2*rpr/Maxx)) - 3.3779744758169472e-5*std::cos(44*std::acos(-1 + 2*rpr/Maxx)) + 3.3049035664471649e-5*std::cos(45*std::acos(-1 + 2*rpr/Maxx)) - 3.2385306649174161e-5*std::cos(46*std::acos(-1 + 2*rpr/Maxx)) + 3.1746637879047357e-5*std::cos(47*std::acos(-1 + 2*rpr/Maxx)) - 3.1307518186224348e-5*std::cos(48*std::acos(-1 + 2*rpr/Maxx)) + 1.5443584021598844e-5*std::cos(49*std::acos(-1 + 2*rpr/Maxx)) + 1.4047430672805694 + 0.78543476897180453*rpr/Maxx;\n",
      "\n",
      "\n",
      "        amrex::Real Fmr = -0.35917315066178251*std::cos(2*std::acos(-1 + 2*rmr/Maxx)) + 0.31026408228419516*std::cos(3*std::acos(-1 + 2*rmr/Maxx)) - 0.25269191924188966*std::cos(4*std::acos(-1 + 2*rmr/Maxx)) + 0.19340799408394338*std::cos(5*std::acos(-1 + 2*rmr/Maxx)) - 0.13808541221142634*std::cos(6*std::acos(-1 + 2*rmr/Maxx)) + 0.090855972788993905*std::cos(7*std::acos(-1 + 2*rmr/Maxx)) - 0.053668480926206845*std::cos(8*std::acos(-1 + 2*rmr/Maxx)) + 0.026846023584892485*std::cos(9*std::acos(-1 + 2*rmr/Maxx)) - 0.0092382514796045048*std::cos(10*std::acos(-1 + 2*rmr/Maxx)) - 0.00092294976747209212*std::cos(11*std::acos(-1 + 2*rmr/Maxx)) + 0.0057405364521011942*std::cos(12*std::acos(-1 + 2*rmr/Maxx)) - 0.007070698627223676*std::cos(13*std::acos(-1 + 2*rmr/Maxx)) + 0.0064761833159145965*std::cos(14*std::acos(-1 + 2*rmr/Maxx)) - 0.005023212158245513*std::cos(15*std::acos(-1 + 2*rmr/Maxx)) + 0.0034205986990656426*std::cos(16*std::acos(-1 + 2*rmr/Maxx)) - 0.0020187427011483169*std::cos(17*std::acos(-1 + 2*rmr/Maxx)) + 0.00097248177039553629*std::cos(18*std::acos(-1 + 2*rmr/Maxx)) - 0.00028000490203370504*std::cos(19*std::acos(-1 + 2*rmr/Maxx)) - 0.00011247961132367784*std::cos(20*std::acos(-1 + 2*rmr/Maxx)) + 0.00029226994135531786*std::cos(21*std::acos(-1 + 2*rmr/Maxx)) - 0.00033451580711545831*std::cos(22*std::acos(-1 + 2*rmr/Maxx)) + 0.00030400380138317223*std::cos(23*std::acos(-1 + 2*rmr/Maxx)) - 0.00024259156065022797*std::cos(24*std::acos(-1 + 2*rmr/Maxx)) + 0.00017781140026720127*std::cos(25*std::acos(-1 + 2*rmr/Maxx)) - 0.00012243328517887869*std::cos(26*std::acos(-1 + 2*rmr/Maxx)) + 8.1706701299991136e-5*std::cos(27*std::acos(-1 + 2*rmr/Maxx)) - 5.505442414322631e-5*std::cos(28*std::acos(-1 + 2*rmr/Maxx)) + 3.9984239007827271e-5*std::cos(29*std::acos(-1 + 2*rmr/Maxx)) - 3.3019509756614107e-5*std::cos(30*std::acos(-1 + 2*rmr/Maxx)) + 3.1145062782095279e-5*std::cos(31*std::acos(-1 + 2*rmr/Maxx)) - 3.1917662849809125e-5*std::cos(32*std::acos(-1 + 2*rmr/Maxx)) + 3.372480805543393e-5*std::cos(33*std::acos(-1 + 2*rmr/Maxx)) - 3.5576354048653946e-5*std::cos(34*std::acos(-1 + 2*rmr/Maxx)) + 3.700079485714769e-5*std::cos(35*std::acos(-1 + 2*rmr/Maxx)) - 3.7838785056844293e-5*std::cos(36*std::acos(-1 + 2*rmr/Maxx)) + 3.8123195968783885e-5*std::cos(37*std::acos(-1 + 2*rmr/Maxx)) - 3.7966563205885095e-5*std::cos(38*std::acos(-1 + 2*rmr/Maxx)) + 3.7503027981854176e-5*std::cos(39*std::acos(-1 + 2*rmr/Maxx)) - 3.6851743728257003e-5*std::cos(40*std::acos(-1 + 2*rmr/Maxx)) + 3.6102848226325646e-5*std::cos(41*std::acos(-1 + 2*rmr/Maxx)) - 3.5319606386974289e-5*std::cos(42*std::acos(-1 + 2*rmr/Maxx)) + 3.4535849445453681e-5*std::cos(43*std::acos(-1 + 2*rmr/Maxx)) - 3.3779744758169472e-5*std::cos(44*std::acos(-1 + 2*rmr/Maxx)) + 3.3049035664471649e-5*std::cos(45*std::acos(-1 + 2*rmr/Maxx)) - 3.2385306649174161e-5*std::cos(46*std::acos(-1 + 2*rmr/Maxx)) + 3.1746637879047357e-5*std::cos(47*std::acos(-1 + 2*rmr/Maxx)) - 3.1307518186224348e-5*std::cos(48*std::acos(-1 + 2*rmr/Maxx)) + 1.5443584021598844e-5*std::cos(49*std::acos(-1 + 2*rmr/Maxx)) + 1.4047430672805694 + 0.78543476897180453*rmr/Maxx;\n",
      "\n",
      "\n",
      "        amrex::Real Chipl = 0.43340112623802896*std::cos(2*std::acos(-1 + 2*rpl/Maxx)) - 0.31774827985166554*std::cos(3*std::acos(-1 + 2*rpl/Maxx)) + 0.19998261456018498*std::cos(4*std::acos(-1 + 2*rpl/Maxx)) - 0.1011890521472648*std::cos(5*std::acos(-1 + 2*rpl/Maxx)) + 0.031309709374019327*std::cos(6*std::acos(-1 + 2*rpl/Maxx)) + 0.0097483807740246821*std::cos(7*std::acos(-1 + 2*rpl/Maxx)) - 0.028072306937794042*std::cos(8*std::acos(-1 + 2*rpl/Maxx)) + 0.031579928992413006*std::cos(9*std::acos(-1 + 2*rpl/Maxx)) - 0.027268242905828965*std::cos(10*std::acos(-1 + 2*rpl/Maxx)) + 0.020086959089537705*std::cos(11*std::acos(-1 + 2*rpl/Maxx)) - 0.012932135132182582*std::cos(12*std::acos(-1 + 2*rpl/Maxx)) + 0.0071423373139312659*std::cos(13*std::acos(-1 + 2*rpl/Maxx)) - 0.0030751502808775122*std::cos(14*std::acos(-1 + 2*rpl/Maxx)) + 0.00057212404602745943*std::cos(15*std::acos(-1 + 2*rpl/Maxx)) + 0.00073083569672177358*std::cos(16*std::acos(-1 + 2*rpl/Maxx)) - 0.0012249211263976442*std::cos(17*std::acos(-1 + 2*rpl/Maxx)) + 0.0012423930269990797*std::cos(18*std::acos(-1 + 2*rpl/Maxx)) - 0.0010276867457713465*std::cos(19*std::acos(-1 + 2*rpl/Maxx)) + 0.00073965497034770504*std::cos(20*std::acos(-1 + 2*rpl/Maxx)) - 0.00046784166290190517*std::cos(21*std::acos(-1 + 2*rpl/Maxx)) + 0.0002525234347712503*std::cos(22*std::acos(-1 + 2*rpl/Maxx)) - 0.00010305288867957711*std::cos(23*std::acos(-1 + 2*rpl/Maxx)) + 1.2180503460802714e-5*std::cos(24*std::acos(-1 + 2*rpl/Maxx)) + 3.407786259466107e-5*std::cos(25*std::acos(-1 + 2*rpl/Maxx)) - 5.0468498414896573e-5*std::cos(26*std::acos(-1 + 2*rpl/Maxx)) + 4.9471889461645966e-5*std::cos(27*std::acos(-1 + 2*rpl/Maxx)) - 4.0240150116045904e-5*std::cos(28*std::acos(-1 + 2*rpl/Maxx)) + 2.8676705917472915e-5*std::cos(29*std::acos(-1 + 2*rpl/Maxx)) - 1.8055623356814581e-5*std::cos(30*std::acos(-1 + 2*rpl/Maxx)) + 9.7919255406779119e-6*std::cos(31*std::acos(-1 + 2*rpl/Maxx)) - 4.1473547401302034e-6*std::cos(32*std::acos(-1 + 2*rpl/Maxx)) + 7.7858565959144723e-7*std::cos(33*std::acos(-1 + 2*rpl/Maxx)) + 8.8900234542054319e-7*std::cos(34*std::acos(-1 + 2*rpl/Maxx)) - 1.4389434391421072e-6*std::cos(35*std::acos(-1 + 2*rpl/Maxx)) + 1.3544039656598516e-6*std::cos(36*std::acos(-1 + 2*rpl/Maxx)) - 9.8318808066051706e-7*std::cos(37*std::acos(-1 + 2*rpl/Maxx)) + 5.4492692034775625e-7*std::cos(38*std::acos(-1 + 2*rpl/Maxx)) - 1.573699941731101e-7*std::cos(39*std::acos(-1 + 2*rpl/Maxx)) - 1.3276823386561805e-7*std::cos(40*std::acos(-1 + 2*rpl/Maxx)) + 3.2218151837922681e-7*std::cos(41*std::acos(-1 + 2*rpl/Maxx)) - 4.2965056659490721e-7*std::cos(42*std::acos(-1 + 2*rpl/Maxx)) + 4.8132116089356814e-7*std::cos(43*std::acos(-1 + 2*rpl/Maxx)) - 5.0157848029373076e-7*std::cos(44*std::acos(-1 + 2*rpl/Maxx)) + 5.0823627192965966e-7*std::cos(45*std::acos(-1 + 2*rpl/Maxx)) - 5.1100731859337139e-7*std::cos(46*std::acos(-1 + 2*rpl/Maxx)) + 5.1249976453834667e-7*std::cos(47*std::acos(-1 + 2*rpl/Maxx)) - 5.1122811792146057e-7*std::cos(48*std::acos(-1 + 2*rpl/Maxx)) - 0.00051384337288567323*std::cos(49*std::acos(-1 + 2*rpl/Maxx)) + 0.79478748650219244 - 1.0384896692300101*rpl/Maxx;\n",
      "\n",
      "\n",
      "        amrex::Real Chiml = 0.43340112623802896*std::cos(2*std::acos(-1 + 2*rml/Maxx)) - 0.31774827985166554*std::cos(3*std::acos(-1 + 2*rml/Maxx)) + 0.19998261456018498*std::cos(4*std::acos(-1 + 2*rml/Maxx)) - 0.1011890521472648*std::cos(5*std::acos(-1 + 2*rml/Maxx)) + 0.031309709374019327*std::cos(6*std::acos(-1 + 2*rml/Maxx)) + 0.0097483807740246821*std::cos(7*std::acos(-1 + 2*rml/Maxx)) - 0.028072306937794042*std::cos(8*std::acos(-1 + 2*rml/Maxx)) + 0.031579928992413006*std::cos(9*std::acos(-1 + 2*rml/Maxx)) - 0.027268242905828965*std::cos(10*std::acos(-1 + 2*rml/Maxx)) + 0.020086959089537705*std::cos(11*std::acos(-1 + 2*rml/Maxx)) - 0.012932135132182582*std::cos(12*std::acos(-1 + 2*rml/Maxx)) + 0.0071423373139312659*std::cos(13*std::acos(-1 + 2*rml/Maxx)) - 0.0030751502808775122*std::cos(14*std::acos(-1 + 2*rml/Maxx)) + 0.00057212404602745943*std::cos(15*std::acos(-1 + 2*rml/Maxx)) + 0.00073083569672177358*std::cos(16*std::acos(-1 + 2*rml/Maxx)) - 0.0012249211263976442*std::cos(17*std::acos(-1 + 2*rml/Maxx)) + 0.0012423930269990797*std::cos(18*std::acos(-1 + 2*rml/Maxx)) - 0.0010276867457713465*std::cos(19*std::acos(-1 + 2*rml/Maxx)) + 0.00073965497034770504*std::cos(20*std::acos(-1 + 2*rml/Maxx)) - 0.00046784166290190517*std::cos(21*std::acos(-1 + 2*rml/Maxx)) + 0.0002525234347712503*std::cos(22*std::acos(-1 + 2*rml/Maxx)) - 0.00010305288867957711*std::cos(23*std::acos(-1 + 2*rml/Maxx)) + 1.2180503460802714e-5*std::cos(24*std::acos(-1 + 2*rml/Maxx)) + 3.407786259466107e-5*std::cos(25*std::acos(-1 + 2*rml/Maxx)) - 5.0468498414896573e-5*std::cos(26*std::acos(-1 + 2*rml/Maxx)) + 4.9471889461645966e-5*std::cos(27*std::acos(-1 + 2*rml/Maxx)) - 4.0240150116045904e-5*std::cos(28*std::acos(-1 + 2*rml/Maxx)) + 2.8676705917472915e-5*std::cos(29*std::acos(-1 + 2*rml/Maxx)) - 1.8055623356814581e-5*std::cos(30*std::acos(-1 + 2*rml/Maxx)) + 9.7919255406779119e-6*std::cos(31*std::acos(-1 + 2*rml/Maxx)) - 4.1473547401302034e-6*std::cos(32*std::acos(-1 + 2*rml/Maxx)) + 7.7858565959144723e-7*std::cos(33*std::acos(-1 + 2*rml/Maxx)) + 8.8900234542054319e-7*std::cos(34*std::acos(-1 + 2*rml/Maxx)) - 1.4389434391421072e-6*std::cos(35*std::acos(-1 + 2*rml/Maxx)) + 1.3544039656598516e-6*std::cos(36*std::acos(-1 + 2*rml/Maxx)) - 9.8318808066051706e-7*std::cos(37*std::acos(-1 + 2*rml/Maxx)) + 5.4492692034775625e-7*std::cos(38*std::acos(-1 + 2*rml/Maxx)) - 1.573699941731101e-7*std::cos(39*std::acos(-1 + 2*rml/Maxx)) - 1.3276823386561805e-7*std::cos(40*std::acos(-1 + 2*rml/Maxx)) + 3.2218151837922681e-7*std::cos(41*std::acos(-1 + 2*rml/Maxx)) - 4.2965056659490721e-7*std::cos(42*std::acos(-1 + 2*rml/Maxx)) + 4.8132116089356814e-7*std::cos(43*std::acos(-1 + 2*rml/Maxx)) - 5.0157848029373076e-7*std::cos(44*std::acos(-1 + 2*rml/Maxx)) + 5.0823627192965966e-7*std::cos(45*std::acos(-1 + 2*rml/Maxx)) - 5.1100731859337139e-7*std::cos(46*std::acos(-1 + 2*rml/Maxx)) + 5.1249976453834667e-7*std::cos(47*std::acos(-1 + 2*rml/Maxx)) - 5.1122811792146057e-7*std::cos(48*std::acos(-1 + 2*rml/Maxx)) - 0.00051384337288567323*std::cos(49*std::acos(-1 + 2*rml/Maxx)) + 0.79478748650219244 - 1.0384896692300101*rml/Maxx;\n",
      "\n",
      "\n",
      "        amrex::Real Chipr = 0.43340112623802896*std::cos(2*std::acos(-1 + 2*rpr/Maxx)) - 0.31774827985166554*std::cos(3*std::acos(-1 + 2*rpr/Maxx)) + 0.19998261456018498*std::cos(4*std::acos(-1 + 2*rpr/Maxx)) - 0.1011890521472648*std::cos(5*std::acos(-1 + 2*rpr/Maxx)) + 0.031309709374019327*std::cos(6*std::acos(-1 + 2*rpr/Maxx)) + 0.0097483807740246821*std::cos(7*std::acos(-1 + 2*rpr/Maxx)) - 0.028072306937794042*std::cos(8*std::acos(-1 + 2*rpr/Maxx)) + 0.031579928992413006*std::cos(9*std::acos(-1 + 2*rpr/Maxx)) - 0.027268242905828965*std::cos(10*std::acos(-1 + 2*rpr/Maxx)) + 0.020086959089537705*std::cos(11*std::acos(-1 + 2*rpr/Maxx)) - 0.012932135132182582*std::cos(12*std::acos(-1 + 2*rpr/Maxx)) + 0.0071423373139312659*std::cos(13*std::acos(-1 + 2*rpr/Maxx)) - 0.0030751502808775122*std::cos(14*std::acos(-1 + 2*rpr/Maxx)) + 0.00057212404602745943*std::cos(15*std::acos(-1 + 2*rpr/Maxx)) + 0.00073083569672177358*std::cos(16*std::acos(-1 + 2*rpr/Maxx)) - 0.0012249211263976442*std::cos(17*std::acos(-1 + 2*rpr/Maxx)) + 0.0012423930269990797*std::cos(18*std::acos(-1 + 2*rpr/Maxx)) - 0.0010276867457713465*std::cos(19*std::acos(-1 + 2*rpr/Maxx)) + 0.00073965497034770504*std::cos(20*std::acos(-1 + 2*rpr/Maxx)) - 0.00046784166290190517*std::cos(21*std::acos(-1 + 2*rpr/Maxx)) + 0.0002525234347712503*std::cos(22*std::acos(-1 + 2*rpr/Maxx)) - 0.00010305288867957711*std::cos(23*std::acos(-1 + 2*rpr/Maxx)) + 1.2180503460802714e-5*std::cos(24*std::acos(-1 + 2*rpr/Maxx)) + 3.407786259466107e-5*std::cos(25*std::acos(-1 + 2*rpr/Maxx)) - 5.0468498414896573e-5*std::cos(26*std::acos(-1 + 2*rpr/Maxx)) + 4.9471889461645966e-5*std::cos(27*std::acos(-1 + 2*rpr/Maxx)) - 4.0240150116045904e-5*std::cos(28*std::acos(-1 + 2*rpr/Maxx)) + 2.8676705917472915e-5*std::cos(29*std::acos(-1 + 2*rpr/Maxx)) - 1.8055623356814581e-5*std::cos(30*std::acos(-1 + 2*rpr/Maxx)) + 9.7919255406779119e-6*std::cos(31*std::acos(-1 + 2*rpr/Maxx)) - 4.1473547401302034e-6*std::cos(32*std::acos(-1 + 2*rpr/Maxx)) + 7.7858565959144723e-7*std::cos(33*std::acos(-1 + 2*rpr/Maxx)) + 8.8900234542054319e-7*std::cos(34*std::acos(-1 + 2*rpr/Maxx)) - 1.4389434391421072e-6*std::cos(35*std::acos(-1 + 2*rpr/Maxx)) + 1.3544039656598516e-6*std::cos(36*std::acos(-1 + 2*rpr/Maxx)) - 9.8318808066051706e-7*std::cos(37*std::acos(-1 + 2*rpr/Maxx)) + 5.4492692034775625e-7*std::cos(38*std::acos(-1 + 2*rpr/Maxx)) - 1.573699941731101e-7*std::cos(39*std::acos(-1 + 2*rpr/Maxx)) - 1.3276823386561805e-7*std::cos(40*std::acos(-1 + 2*rpr/Maxx)) + 3.2218151837922681e-7*std::cos(41*std::acos(-1 + 2*rpr/Maxx)) - 4.2965056659490721e-7*std::cos(42*std::acos(-1 + 2*rpr/Maxx)) + 4.8132116089356814e-7*std::cos(43*std::acos(-1 + 2*rpr/Maxx)) - 5.0157848029373076e-7*std::cos(44*std::acos(-1 + 2*rpr/Maxx)) + 5.0823627192965966e-7*std::cos(45*std::acos(-1 + 2*rpr/Maxx)) - 5.1100731859337139e-7*std::cos(46*std::acos(-1 + 2*rpr/Maxx)) + 5.1249976453834667e-7*std::cos(47*std::acos(-1 + 2*rpr/Maxx)) - 5.1122811792146057e-7*std::cos(48*std::acos(-1 + 2*rpr/Maxx)) - 0.00051384337288567323*std::cos(49*std::acos(-1 + 2*rpr/Maxx)) + 0.79478748650219244 - 1.0384896692300101*rpr/Maxx;\n",
      "\n",
      "\n"
     ]
    },
    {
     "name": "stdout",
     "output_type": "stream",
     "text": [
      "        amrex::Real Chimr = 0.43340112623802896*std::cos(2*std::acos(-1 + 2*rmr/Maxx)) - 0.31774827985166554*std::cos(3*std::acos(-1 + 2*rmr/Maxx)) + 0.19998261456018498*std::cos(4*std::acos(-1 + 2*rmr/Maxx)) - 0.1011890521472648*std::cos(5*std::acos(-1 + 2*rmr/Maxx)) + 0.031309709374019327*std::cos(6*std::acos(-1 + 2*rmr/Maxx)) + 0.0097483807740246821*std::cos(7*std::acos(-1 + 2*rmr/Maxx)) - 0.028072306937794042*std::cos(8*std::acos(-1 + 2*rmr/Maxx)) + 0.031579928992413006*std::cos(9*std::acos(-1 + 2*rmr/Maxx)) - 0.027268242905828965*std::cos(10*std::acos(-1 + 2*rmr/Maxx)) + 0.020086959089537705*std::cos(11*std::acos(-1 + 2*rmr/Maxx)) - 0.012932135132182582*std::cos(12*std::acos(-1 + 2*rmr/Maxx)) + 0.0071423373139312659*std::cos(13*std::acos(-1 + 2*rmr/Maxx)) - 0.0030751502808775122*std::cos(14*std::acos(-1 + 2*rmr/Maxx)) + 0.00057212404602745943*std::cos(15*std::acos(-1 + 2*rmr/Maxx)) + 0.00073083569672177358*std::cos(16*std::acos(-1 + 2*rmr/Maxx)) - 0.0012249211263976442*std::cos(17*std::acos(-1 + 2*rmr/Maxx)) + 0.0012423930269990797*std::cos(18*std::acos(-1 + 2*rmr/Maxx)) - 0.0010276867457713465*std::cos(19*std::acos(-1 + 2*rmr/Maxx)) + 0.00073965497034770504*std::cos(20*std::acos(-1 + 2*rmr/Maxx)) - 0.00046784166290190517*std::cos(21*std::acos(-1 + 2*rmr/Maxx)) + 0.0002525234347712503*std::cos(22*std::acos(-1 + 2*rmr/Maxx)) - 0.00010305288867957711*std::cos(23*std::acos(-1 + 2*rmr/Maxx)) + 1.2180503460802714e-5*std::cos(24*std::acos(-1 + 2*rmr/Maxx)) + 3.407786259466107e-5*std::cos(25*std::acos(-1 + 2*rmr/Maxx)) - 5.0468498414896573e-5*std::cos(26*std::acos(-1 + 2*rmr/Maxx)) + 4.9471889461645966e-5*std::cos(27*std::acos(-1 + 2*rmr/Maxx)) - 4.0240150116045904e-5*std::cos(28*std::acos(-1 + 2*rmr/Maxx)) + 2.8676705917472915e-5*std::cos(29*std::acos(-1 + 2*rmr/Maxx)) - 1.8055623356814581e-5*std::cos(30*std::acos(-1 + 2*rmr/Maxx)) + 9.7919255406779119e-6*std::cos(31*std::acos(-1 + 2*rmr/Maxx)) - 4.1473547401302034e-6*std::cos(32*std::acos(-1 + 2*rmr/Maxx)) + 7.7858565959144723e-7*std::cos(33*std::acos(-1 + 2*rmr/Maxx)) + 8.8900234542054319e-7*std::cos(34*std::acos(-1 + 2*rmr/Maxx)) - 1.4389434391421072e-6*std::cos(35*std::acos(-1 + 2*rmr/Maxx)) + 1.3544039656598516e-6*std::cos(36*std::acos(-1 + 2*rmr/Maxx)) - 9.8318808066051706e-7*std::cos(37*std::acos(-1 + 2*rmr/Maxx)) + 5.4492692034775625e-7*std::cos(38*std::acos(-1 + 2*rmr/Maxx)) - 1.573699941731101e-7*std::cos(39*std::acos(-1 + 2*rmr/Maxx)) - 1.3276823386561805e-7*std::cos(40*std::acos(-1 + 2*rmr/Maxx)) + 3.2218151837922681e-7*std::cos(41*std::acos(-1 + 2*rmr/Maxx)) - 4.2965056659490721e-7*std::cos(42*std::acos(-1 + 2*rmr/Maxx)) + 4.8132116089356814e-7*std::cos(43*std::acos(-1 + 2*rmr/Maxx)) - 5.0157848029373076e-7*std::cos(44*std::acos(-1 + 2*rmr/Maxx)) + 5.0823627192965966e-7*std::cos(45*std::acos(-1 + 2*rmr/Maxx)) - 5.1100731859337139e-7*std::cos(46*std::acos(-1 + 2*rmr/Maxx)) + 5.1249976453834667e-7*std::cos(47*std::acos(-1 + 2*rmr/Maxx)) - 5.1122811792146057e-7*std::cos(48*std::acos(-1 + 2*rmr/Maxx)) - 0.00051384337288567323*std::cos(49*std::acos(-1 + 2*rmr/Maxx)) + 0.79478748650219244 - 1.0384896692300101*rmr/Maxx;\n",
      "\n",
      "\n"
     ]
    }
   ],
   "source": [
    "print(Fpl.symb2expr())\n",
    "print(Fml.symb2expr())\n",
    "print(Fpr.symb2expr())\n",
    "print(Fmr.symb2expr())\n",
    "print(Chipl.symb2expr())\n",
    "print(Chiml.symb2expr())\n",
    "print(Chipr.symb2expr())\n",
    "print(Chimr.symb2expr())\n"
   ]
  },
  {
   "cell_type": "code",
   "execution_count": null,
   "metadata": {},
   "outputs": [],
   "source": []
  },
  {
   "cell_type": "code",
   "execution_count": 13,
   "metadata": {},
   "outputs": [],
   "source": [
    "Fplmod = stvar('Fplmod')\n",
    "Fplmod.expr = (rpl.symb < Maxr.symb)*Fpl.symb + (rpl.symb >= Maxr.symb)\n",
    "\n",
    "Fmlmod = stvar('Fmlmod')\n",
    "Fmlmod.expr = (rml.symb < Maxr.symb)*Fml.symb + (rml.symb >= Maxr.symb)\n",
    "\n",
    "Fprmod = stvar('Fprmod')\n",
    "Fprmod.expr = (rpr.symb < Maxr.symb)*Fpr.symb + (rpr.symb >= Maxr.symb)\n",
    "\n",
    "Fmrmod = stvar('Fmrmod')\n",
    "Fmrmod.expr = (rmr.symb < Maxr.symb)*Fmr.symb + (rmr.symb >= Maxr.symb)\n",
    "\n",
    "Chiplmod = stvar('Chiplmod')\n",
    "Chiplmod.expr = (rpl.symb < Maxr.symb)*Chipl.symb\n",
    "\n",
    "Chimlmod = stvar('Chimlmod')\n",
    "Chimlmod.expr = (rml.symb < Maxr.symb)*Chiml.symb\n",
    "\n",
    "Chiprmod = stvar('Chiprmod')\n",
    "Chiprmod.expr = (rpr.symb < Maxr.symb)*Chipr.symb\n",
    "\n",
    "Chimrmod = stvar('Chimrmod')\n",
    "Chimrmod.expr = (rmr.symb < Maxr.symb)*Chimr.symb"
   ]
  },
  {
   "cell_type": "code",
   "execution_count": 14,
   "metadata": {},
   "outputs": [
    {
     "name": "stdout",
     "output_type": "stream",
     "text": [
      "        amrex::Real Fplmod = Fpl*(rpl < Maxx) + (rpl >= Maxx);\n",
      "\n",
      "\n",
      "        amrex::Real Fmlmod = Fml*(rml < Maxx) + (rml >= Maxx);\n",
      "\n",
      "\n",
      "        amrex::Real Fprmod = Fpr*(rpr < Maxx) + (rpr >= Maxx);\n",
      "\n",
      "\n",
      "        amrex::Real Fmrmod = Fmr*(rmr < Maxx) + (rmr >= Maxx);\n",
      "\n",
      "\n",
      "        amrex::Real Chiplmod = Chipl*(rpl < Maxx);\n",
      "\n",
      "\n",
      "        amrex::Real Chimlmod = Chiml*(rml < Maxx);\n",
      "\n",
      "\n",
      "        amrex::Real Chiprmod = Chipr*(rpr < Maxx);\n",
      "\n",
      "\n",
      "        amrex::Real Chimrmod = Chimr*(rmr < Maxx);\n",
      "\n",
      "\n"
     ]
    }
   ],
   "source": [
    "print(Fplmod.symb2expr())\n",
    "print(Fmlmod.symb2expr())\n",
    "print(Fprmod.symb2expr())\n",
    "print(Fmrmod.symb2expr())\n",
    "print(Chiplmod.symb2expr())\n",
    "print(Chimlmod.symb2expr())\n",
    "print(Chiprmod.symb2expr())\n",
    "print(Chimrmod.symb2expr())"
   ]
  },
  {
   "cell_type": "code",
   "execution_count": 15,
   "metadata": {},
   "outputs": [],
   "source": [
    "Phirealp = stvar('Phirealp')\n",
    "Phiimaginaryp = stvar('Phiimaginaryp')\n",
    "\n",
    "Phirealm = stvar('Phirealm')\n",
    "Phiimaginarym = stvar('Phiimaginarym')\n",
    "\n",
    "Chip = stvar('Chip')\n",
    "Chim = stvar('Chim')"
   ]
  },
  {
   "cell_type": "code",
   "execution_count": 16,
   "metadata": {},
   "outputs": [],
   "source": [
    "Phirealp.expr = 1/v.symb*Fplmod.symb*Fprmod.symb*(xpl.symb*xpr.symb-y.symb*z.symb)/(rpl.symb*rpr.symb)\n",
    "Phiimaginaryp.expr = 1/v.symb*Fplmod.symb*Fprmod.symb*(xpl.symb*z.symb+y.symb*xpr.symb)/(rpl.symb*rpr.symb)\n",
    "\n",
    "Phirealm.expr = 1/v.symb*Fmlmod.symb*Fmrmod.symb*(xml.symb*xmr.symb-y.symb*z.symb)/(rml.symb*rmr.symb)\n",
    "Phiimaginarym.expr = 1/v.symb*Fmlmod.symb*Fmrmod.symb*(xml.symb*z.symb+y.symb*xmr.symb)/(rml.symb*rmr.symb)\n",
    "\n",
    "Chip.expr = Chiplmod.symb + Chiprmod.symb\n",
    "Chim.expr = Chimlmod.symb + Chimrmod.symb"
   ]
  },
  {
   "cell_type": "code",
   "execution_count": 17,
   "metadata": {},
   "outputs": [
    {
     "name": "stdout",
     "output_type": "stream",
     "text": [
      "        amrex::Real Phirealp = Fplmod*Fprmod*(xpl*xpr - y*z)/(rpl*rpr*v);\n",
      "\n",
      "\n",
      "        amrex::Real Phiimaginaryp = Fplmod*Fprmod*(xpl*z + xpr*y)/(rpl*rpr*v);\n",
      "\n",
      "\n",
      "        amrex::Real Phirealm = Fmlmod*Fmrmod*(xml*xmr - y*z)/(rml*rmr*v);\n",
      "\n",
      "\n",
      "        amrex::Real Phiimaginarym = Fmlmod*Fmrmod*(xml*z + xmr*y)/(rml*rmr*v);\n",
      "\n",
      "\n",
      "        amrex::Real Chip = Chiplmod + Chiprmod;\n",
      "\n",
      "\n",
      "        amrex::Real Chim = Chimlmod + Chimrmod;\n",
      "\n",
      "\n"
     ]
    }
   ],
   "source": [
    "print(Phirealp.symb2expr())\n",
    "print(Phiimaginaryp.symb2expr())\n",
    "print(Phirealm.symb2expr())\n",
    "print(Phiimaginarym.symb2expr())\n",
    "print(Chip.symb2expr())\n",
    "print(Chim.symb2expr())"
   ]
  },
  {
   "cell_type": "code",
   "execution_count": 18,
   "metadata": {},
   "outputs": [],
   "source": [
    "PhiReal = stvar('PhiReal', gridvar = True, vartype = 'state_fab')\n",
    "PhiImaginary = stvar('PhiImaginary', gridvar = True, vartype = 'state_fab')\n",
    "Chi = stvar('Chi', gridvar = True, vartype = 'state_fab')\n",
    "\n",
    "A_L = stvarrank1('A_L', gridvar = True, vartype = 'state_fab')\n",
    "AT = stvar('AT', gridvar = True, vartype = 'state_fab')"
   ]
  },
  {
   "cell_type": "code",
   "execution_count": 19,
   "metadata": {},
   "outputs": [],
   "source": [
    "PhiReal.expr = 1/2*(Phirealp.symb+Phirealm.symb)\n",
    "PhiImaginary.expr = 1/2*(Phiimaginaryp.symb+Phiimaginarym.symb)\n",
    "Chi.expr = 1/2*(Chip.symb+Chim.symb)"
   ]
  },
  {
   "cell_type": "code",
   "execution_count": 20,
   "metadata": {},
   "outputs": [
    {
     "name": "stdout",
     "output_type": "stream",
     "text": [
      "        state_fab(i, j, k, state_fabIdx::PhiReal) = 0.5*Phirealm + 0.5*Phirealp;\n",
      "\n",
      "\n",
      "        state_fab(i, j, k, state_fabIdx::PhiImaginary) = 0.5*Phiimaginarym + 0.5*Phiimaginaryp;\n",
      "\n",
      "\n",
      "        state_fab(i, j, k, state_fabIdx::Chi) = 0.5*Chim + 0.5*Chip;\n",
      "\n",
      "\n"
     ]
    }
   ],
   "source": [
    "print(PhiReal.setisymb())\n",
    "print(PhiImaginary.setisymb())\n",
    "print(Chi.setisymb())"
   ]
  },
  {
   "cell_type": "code",
   "execution_count": 21,
   "metadata": {},
   "outputs": [],
   "source": [
    "PiPhiReal = stvar('PiPhiReal', gridvar = True, vartype = 'state_fab')\n",
    "PiPhiImaginary = stvar('PiPhiImaginary', gridvar = True, vartype = 'state_fab')\n",
    "PiChi = stvar('PiChi', gridvar = True, vartype = 'state_fab')\n",
    "\n",
    "PiA_L = stvarrank1('PiA_L', gridvar = True, vartype = 'state_fab')\n",
    "PiAT = stvar('PiAT', gridvar = True, vartype = 'state_fab')"
   ]
  },
  {
   "cell_type": "code",
   "execution_count": 22,
   "metadata": {},
   "outputs": [],
   "source": [
    "PiPhiReal.expr = (Phirealp.symb-Phirealm.symb)/(tp.symb - tm.symb)\n",
    "PiPhiImaginary.expr = (Phiimaginaryp.symb-Phiimaginarym.symb)/(tp.symb - tm.symb)\n",
    "PiChi.expr = (Chip.symb-Chim.symb)/(tp.symb - tm.symb)"
   ]
  },
  {
   "cell_type": "code",
   "execution_count": 23,
   "metadata": {},
   "outputs": [
    {
     "name": "stdout",
     "output_type": "stream",
     "text": [
      "        state_fab(i, j, k, state_fabIdx::PiPhiReal) = (-Phirealm + Phirealp)/(-tm + tp);\n",
      "\n",
      "\n",
      "        state_fab(i, j, k, state_fabIdx::PiPhiImaginary) = (-Phiimaginarym + Phiimaginaryp)/(-tm + tp);\n",
      "\n",
      "\n",
      "        state_fab(i, j, k, state_fabIdx::PiChi) = (-Chim + Chip)/(-tm + tp);\n",
      "\n",
      "\n"
     ]
    }
   ],
   "source": [
    "print(PiPhiReal.setisymb())\n",
    "print(PiPhiImaginary.setisymb())\n",
    "print(PiChi.setisymb())"
   ]
  },
  {
   "cell_type": "code",
   "execution_count": 24,
   "metadata": {},
   "outputs": [],
   "source": [
    "BCString = \"\"\"\n",
    "        if ((i < dom_lo.x && bcr[n].lo(0) == BCType::ext_dir) ||\n",
    "            (i > dom_hi.x && bcr[n].hi(0) == BCType::ext_dir) ||\n",
    "\n",
    "            (j < dom_lo.y && bcr[n].lo(1) == BCType::ext_dir) ||\n",
    "            (j > dom_hi.y && bcr[n].hi(1) == BCType::ext_dir) ||\n",
    "\n",
    "            (k < dom_lo.z && bcr[n].lo(2) == BCType::ext_dir) ||\n",
    "            (k > dom_hi.z && bcr[n].hi(2) == BCType::ext_dir))\n",
    "        {\n",
    "            if(i < dom_lo.x)\n",
    "            {\n",
    "                data(i, j, k, dcomp+Idx::PhiReal) = data(i+1, j, k, dcomp + Idx::PhiReal);\n",
    "                data(i, j, k, dcomp+Idx::PhiImaginary) = data(i+1, j, k, dcomp + Idx::PhiImaginary);\n",
    "                data(i, j, k, dcomp+Idx::PiPhiReal) = data(i+1, j, k, dcomp + Idx::PiPhiReal);\n",
    "                data(i, j, k, dcomp+Idx::PiPhiImaginary) = data(i+1, j, k, dcomp + Idx::PiPhiImaginary);\n",
    "                data(i, j, k, dcomp+Idx::Chi) = data(i+1, j, k, dcomp + Idx::Chi);\n",
    "                data(i, j, k, dcomp+Idx::PiChi) = data(i+1, j, k, dcomp + Idx::PiChi);\n",
    "            }\n",
    "            else if(i > dom_hi.x)\n",
    "            {\n",
    "                data(i, j, k, dcomp+Idx::PhiReal) = data(i-1, j, k, dcomp + Idx::PhiReal);\n",
    "                data(i, j, k, dcomp+Idx::PhiImaginary) = data(i-1, j, k, dcomp + Idx::PhiImaginary);\n",
    "                data(i, j, k, dcomp+Idx::PiPhiReal) = data(i-1, j, k, dcomp + Idx::PiPhiReal);\n",
    "                data(i, j, k, dcomp+Idx::PiPhiImaginary) = data(i-1, j, k, dcomp + Idx::PiPhiImaginary);\n",
    "                data(i, j, k, dcomp+Idx::Chi) = data(i-1, j, k, dcomp + Idx::Chi);\n",
    "                data(i, j, k, dcomp+Idx::PiChi) = data(i-1, j, k, dcomp + Idx::PiChi);\n",
    "            }\n",
    "            \n",
    "            if(j < dom_lo.y)\n",
    "            {\n",
    "                data(i, j, k, dcomp+Idx::PhiReal) = data(i, j+1, k, dcomp + Idx::PhiReal);\n",
    "                data(i, j, k, dcomp+Idx::PhiImaginary) = data(i, j+1, k, dcomp + Idx::PhiImaginary);\n",
    "                data(i, j, k, dcomp+Idx::PiPhiReal) = data(i, j+1, k, dcomp + Idx::PiPhiReal);\n",
    "                data(i, j, k, dcomp+Idx::PiPhiImaginary) = data(i, j+1, k, dcomp + Idx::PiPhiImaginary);\n",
    "                data(i, j, k, dcomp+Idx::Chi) = data(i, j+1, k, dcomp + Idx::Chi);\n",
    "                data(i, j, k, dcomp+Idx::PiChi) = data(i, j+1, k, dcomp + Idx::PiChi);\n",
    "            }\n",
    "            else if(j > dom_hi.y)\n",
    "            {\n",
    "                data(i, j, k, dcomp+Idx::PhiReal) = data(i, j-1, k, dcomp + Idx::PhiReal);\n",
    "                data(i, j, k, dcomp+Idx::PhiImaginary) = data(i, j-1, k, dcomp + Idx::PhiImaginary);\n",
    "                data(i, j, k, dcomp+Idx::PiPhiReal) = data(i, j-1, k, dcomp + Idx::PiPhiReal);\n",
    "                data(i, j, k, dcomp+Idx::PiPhiImaginary) = data(i, j-1, k, dcomp + Idx::PiPhiImaginary);\n",
    "                data(i, j, k, dcomp+Idx::Chi) = data(i, j-1, k, dcomp + Idx::Chi);\n",
    "                data(i, j, k, dcomp+Idx::PiChi) = data(i, j-1, k, dcomp + Idx::PiChi);\n",
    "            }\n",
    "            \n",
    "            if(k < dom_lo.z)\n",
    "            {\n",
    "                data(i, j, k, dcomp+Idx::PhiReal) = data(i, j, k+1, dcomp + Idx::PhiReal);\n",
    "                data(i, j, k, dcomp+Idx::PhiImaginary) = data(i, j, k+1, dcomp + Idx::PhiImaginary);\n",
    "                data(i, j, k, dcomp+Idx::PiPhiReal) = data(i, j, k+1, dcomp + Idx::PiPhiReal);\n",
    "                data(i, j, k, dcomp+Idx::PiPhiImaginary) = data(i, j, k+1, dcomp + Idx::PiPhiImaginary);\n",
    "                data(i, j, k, dcomp+Idx::Chi) = data(i, j, k+1, dcomp + Idx::Chi);\n",
    "                data(i, j, k, dcomp+Idx::PiChi) = data(i, j, k+1, dcomp + Idx::PiChi);\n",
    "            }\n",
    "            else if(k > dom_hi.z)\n",
    "            {\n",
    "                data(i, j, k, dcomp+Idx::PhiReal) = data(i, j, k-1, dcomp + Idx::PhiReal);\n",
    "                data(i, j, k, dcomp+Idx::PhiImaginary) = data(i, j, k-1, dcomp + Idx::PhiImaginary);\n",
    "                data(i, j, k, dcomp+Idx::PiPhiReal) = data(i, j, k-1, dcomp + Idx::PiPhiReal);\n",
    "                data(i, j, k, dcomp+Idx::PiPhiImaginary) = data(i, j, k-1, dcomp + Idx::PiPhiImaginary);\n",
    "                data(i, j, k, dcomp+Idx::Chi) = data(i, j, k-1, dcomp + Idx::Chi);\n",
    "                data(i, j, k, dcomp+Idx::PiChi) = data(i, j, k-1, dcomp + Idx::PiChi);\n",
    "            }\n",
    "        }\n",
    "\"\"\""
   ]
  },
  {
   "cell_type": "code",
   "execution_count": 25,
   "metadata": {},
   "outputs": [],
   "source": [
    "dDPhiReal_L = PhiReal.diff('dD')\n",
    "dDPhiImaginary_L = PhiImaginary.diff('dD')\n",
    "\n",
    "dDDPhiReal_LL = PhiReal.diff('dDD')\n",
    "dDDPhiImaginary_LL = PhiImaginary.diff('dDD')\n",
    "dDDChi_LL = Chi.diff('dDD')\n",
    "dDDA_LLL = A_L.diff('dDD')\n",
    "\n",
    "dDDAT_LL = AT.diff('dDD')"
   ]
  },
  {
   "cell_type": "code",
   "execution_count": 26,
   "metadata": {},
   "outputs": [],
   "source": [
    "RHSString = \"\""
   ]
  },
  {
   "cell_type": "code",
   "execution_count": 27,
   "metadata": {},
   "outputs": [],
   "source": [
    "RHSString += v.symb2expr()\n",
    "RHSString += lam.symb2expr()\n",
    "RHSString += Omega.symb2expr()\n",
    "RHSString += e.symb2expr()"
   ]
  },
  {
   "cell_type": "code",
   "execution_count": 28,
   "metadata": {
    "scrolled": true
   },
   "outputs": [],
   "source": [
    "RHSString += PhiReal.symb2isymb()\n",
    "RHSString += PhiImaginary.symb2isymb()\n",
    "RHSString += Chi.symb2isymb()\n",
    "RHSString += A_L.symb2isymb()\n",
    "RHSString += AT.symb2isymb()\n",
    "\n",
    "RHSString += PiPhiReal.symb2isymb()\n",
    "RHSString += PiPhiImaginary.symb2isymb()\n",
    "RHSString += PiChi.symb2isymb()\n",
    "RHSString += PiA_L.symb2isymb()\n",
    "RHSString += PiAT.symb2isymb()\n",
    "\n",
    "RHSString += dDPhiReal_L.symb2isymb()\n",
    "RHSString += dDPhiImaginary_L.symb2isymb()\n",
    "RHSString += dDDPhiReal_LL.symb2isymb()\n",
    "RHSString += dDDPhiImaginary_LL.symb2isymb()\n",
    "RHSString += dDDChi_LL.symb2isymb()\n",
    "RHSString += dDDA_LLL.symb2isymb()\n",
    "RHSString += dDDAT_LL.symb2isymb()"
   ]
  },
  {
   "cell_type": "code",
   "execution_count": 29,
   "metadata": {},
   "outputs": [],
   "source": [
    "LapPhiReal = stvar('LapPhiReal')\n",
    "LapPhiReal.expr = dDDPhiReal_LL.symb[0][0] + dDDPhiReal_LL.symb[1][1] + dDDPhiReal_LL.symb[2][2]\n",
    "\n",
    "LapPhiImaginary = stvar('LapPhiImaginary')\n",
    "LapPhiImaginary.expr = dDDPhiImaginary_LL.symb[0][0] + dDDPhiImaginary_LL.symb[1][1] + dDDPhiImaginary_LL.symb[2][2]\n",
    "\n",
    "LapChi = stvar('LapChi')\n",
    "LapChi.expr = dDDChi_LL.symb[0][0] + dDDChi_LL.symb[1][1] + dDDChi_LL.symb[2][2]\n",
    "\n",
    "LapA_L = stvarrank1('LapA_L')\n",
    "for i in range(3):\n",
    "    LapA_L.expr[i] = dDDA_LLL.symb[i][0][0]+dDDA_LLL.symb[i][1][1]+dDDA_LLL.symb[i][2][2]\n",
    "    \n",
    "LapAT = stvar('LapAT')\n",
    "LapAT.expr = dDDAT_LL.symb[0][0] + dDDAT_LL.symb[1][1] + dDDAT_LL.symb[2][2]"
   ]
  },
  {
   "cell_type": "code",
   "execution_count": 30,
   "metadata": {},
   "outputs": [],
   "source": [
    "RHSString += LapPhiReal.symb2expr()\n",
    "RHSString += LapPhiImaginary.symb2expr()\n",
    "RHSString += LapChi.symb2expr()\n",
    "RHSString += LapA_L.symb2expr()\n",
    "RHSString += LapAT.symb2expr()"
   ]
  },
  {
   "cell_type": "code",
   "execution_count": 31,
   "metadata": {},
   "outputs": [],
   "source": [
    "RHS_PhiReal = stvar('PhiReal', gridvar = True, vartype = 'state_fab', varprefix = 'rhs_fab')\n",
    "RHS_PhiReal.expr = PiPhiReal.symb"
   ]
  },
  {
   "cell_type": "code",
   "execution_count": 32,
   "metadata": {},
   "outputs": [],
   "source": [
    "RHS_PhiImaginary = stvar('PhiImaginary', gridvar = True, vartype = 'state_fab', varprefix = 'rhs_fab')\n",
    "RHS_PhiImaginary.expr = PiPhiImaginary.symb"
   ]
  },
  {
   "cell_type": "code",
   "execution_count": 33,
   "metadata": {},
   "outputs": [],
   "source": [
    "RHS_Chi = stvar('Chi', gridvar = True, vartype = 'state_fab', varprefix = 'rhs_fab')\n",
    "RHS_Chi.expr = PiChi.symb"
   ]
  },
  {
   "cell_type": "code",
   "execution_count": 34,
   "metadata": {},
   "outputs": [],
   "source": [
    "RHS_A_L = stvarrank1('A_L', gridvar = True, vartype = 'state_fab', varprefix = 'rhs_fab')\n",
    "RHS_A_L.expr = PiA_L.symb"
   ]
  },
  {
   "cell_type": "code",
   "execution_count": 35,
   "metadata": {},
   "outputs": [],
   "source": [
    "RHS_AT = stvar('AT', gridvar = True, vartype = 'state_fab', varprefix = 'rhs_fab')\n",
    "RHS_AT.expr = PiAT.symb"
   ]
  },
  {
   "cell_type": "code",
   "execution_count": 36,
   "metadata": {},
   "outputs": [],
   "source": [
    "RHS_PiPhiReal = stvar('PiPhiReal', gridvar = True, vartype = 'state_fab', varprefix = 'rhs_fab')\n",
    "RHS_PiPhiReal.expr = LapPhiReal.symb - 2*lam.symb*(PhiReal.symb**2 + PhiImaginary.symb**2 + Chi.symb**2 - v.symb**2)*PhiReal.symb"
   ]
  },
  {
   "cell_type": "code",
   "execution_count": 37,
   "metadata": {},
   "outputs": [],
   "source": [
    "RHS_PiPhiImaginary = stvar('PiPhiImaginary', gridvar = True, vartype = 'state_fab', varprefix = 'rhs_fab')\n",
    "RHS_PiPhiImaginary.expr = LapPhiImaginary.symb - 2*lam.symb*(PhiReal.symb**2 + PhiImaginary.symb**2 + Chi.symb**2 - v.symb**2)*PhiImaginary.symb"
   ]
  },
  {
   "cell_type": "code",
   "execution_count": 38,
   "metadata": {},
   "outputs": [],
   "source": [
    "RHS_PiChi = stvar('PiChi', gridvar = True, vartype = 'state_fab', varprefix = 'rhs_fab')\n",
    "RHS_PiChi.expr = LapChi.symb - 2*lam.symb*(PhiReal.symb**2 + PhiImaginary.symb**2 + Chi.symb**2 - v.symb**2)*Chi.symb -(Omega.symb**2)*Chi.symb"
   ]
  },
  {
   "cell_type": "code",
   "execution_count": 39,
   "metadata": {},
   "outputs": [],
   "source": [
    "j_L = stvarrank1('j_L')\n",
    "for i in range(3):\n",
    "    j_L.expr[i] = PhiReal.symb*dDPhiImaginary_L.symb[i] - PhiImaginary.symb*dDPhiReal_L.symb[i]\n",
    "    \n",
    "jT = stvar('jT')\n",
    "jT.expr = PhiReal.symb*PiPhiImaginary.symb - PhiImaginary.symb*PiPhiReal.symb"
   ]
  },
  {
   "cell_type": "code",
   "execution_count": null,
   "metadata": {},
   "outputs": [],
   "source": [
    "RHSString += j_L.symb2expr()\n",
    "RHSString += jT.symb2expr()"
   ]
  },
  {
   "cell_type": "code",
   "execution_count": 40,
   "metadata": {},
   "outputs": [],
   "source": [
    "RHS_PiA_L = stvarrank1('PiA_L', gridvar = True, vartype = 'state_fab', varprefix = 'rhs_fab')\n",
    "for i in range(3):\n",
    "    RHS_PiA_L.expr[i] = LapA_L.symb[i]-2*(e.symb**2)*(PhiReal.symb**2+PhiImaginary.symb**2)*A_L.symb[i]-2*e.symb*j_L.symb[i] \n"
   ]
  },
  {
   "cell_type": "code",
   "execution_count": 41,
   "metadata": {},
   "outputs": [],
   "source": [
    "RHS_PiAT = stvar('PiAT', gridvar = True, vartype = 'state_fab', varprefix = 'rhs_fab')\n",
    "RHS_PiAT.expr = LapAT.symb-2*(e.symb**2)*(PhiReal.symb**2+PhiImaginary.symb**2)*AT.symb-2*e.symb*jT.symb"
   ]
  },
  {
   "cell_type": "code",
   "execution_count": 42,
   "metadata": {},
   "outputs": [],
   "source": [
    "RHSString += RHS_PhiReal.setisymb()\n",
    "RHSString += RHS_PhiImaginary.setisymb()\n",
    "RHSString += RHS_Chi.setisymb()\n",
    "RHSString += RHS_A_L.setisymb()\n",
    "RHSString += RHS_AT.setisymb()\n",
    "\n",
    "RHSString += RHS_PiPhiReal.setisymb()\n",
    "RHSString += RHS_PiPhiImaginary.setisymb()\n",
    "RHSString += RHS_PiChi.setisymb()\n",
    "RHSString += RHS_PiA_L.setisymb()\n",
    "RHSString += RHS_PiAT.setisymb()\n"
   ]
  },
  {
   "cell_type": "code",
   "execution_count": 43,
   "metadata": {},
   "outputs": [],
   "source": [
    "RHSString = RHSString.replace('state_fabIdx', 'Idx')"
   ]
  },
  {
   "cell_type": "code",
   "execution_count": 44,
   "metadata": {},
   "outputs": [
    {
     "name": "stdout",
     "output_type": "stream",
     "text": [
      "        amrex::Real v = 2;\n",
      "\n",
      "        amrex::Real lam = 1;\n",
      "\n",
      "        amrex::Real Omega = 1;\n",
      "\n",
      "        amrex::Real e = 1;\n",
      "\n",
      "        amrex::Real PhiReal = state_fab(i, j, k, Idx::PhiReal);\n",
      "\n",
      "        amrex::Real PhiImaginary = state_fab(i, j, k, Idx::PhiImaginary);\n",
      "\n",
      "        amrex::Real Chi = state_fab(i, j, k, Idx::Chi);\n",
      "\n",
      "        amrex::Real A_L_0 = state_fab(i, j, k, Idx::A_L_0);\n",
      "        amrex::Real A_L_1 = state_fab(i, j, k, Idx::A_L_1);\n",
      "        amrex::Real A_L_2 = state_fab(i, j, k, Idx::A_L_2);\n",
      "\n",
      "        amrex::Real AT = state_fab(i, j, k, Idx::AT);\n",
      "\n",
      "        amrex::Real PiPhiReal = state_fab(i, j, k, Idx::PiPhiReal);\n",
      "\n",
      "        amrex::Real PiPhiImaginary = state_fab(i, j, k, Idx::PiPhiImaginary);\n",
      "\n",
      "        amrex::Real PiChi = state_fab(i, j, k, Idx::PiChi);\n",
      "\n",
      "        amrex::Real PiA_L_0 = state_fab(i, j, k, Idx::PiA_L_0);\n",
      "        amrex::Real PiA_L_1 = state_fab(i, j, k, Idx::PiA_L_1);\n",
      "        amrex::Real PiA_L_2 = state_fab(i, j, k, Idx::PiA_L_2);\n",
      "\n",
      "        amrex::Real PiAT = state_fab(i, j, k, Idx::PiAT);\n",
      "\n",
      "        amrex::Real dDPhiReal_L_0 = ((1.0/2.0)*state_fab(i + 1, j, k, Idx::PhiReal) - 1.0/2.0*state_fab(i - 1, j, k, Idx::PhiReal))/dx[0];\n",
      "        amrex::Real dDPhiReal_L_1 = ((1.0/2.0)*state_fab(i, j + 1, k, Idx::PhiReal) - 1.0/2.0*state_fab(i, j - 1, k, Idx::PhiReal))/dx[1];\n",
      "        amrex::Real dDPhiReal_L_2 = ((1.0/2.0)*state_fab(i, j, k + 1, Idx::PhiReal) - 1.0/2.0*state_fab(i, j, k - 1, Idx::PhiReal))/dx[2];\n",
      "\n",
      "        amrex::Real dDPhiImaginary_L_0 = ((1.0/2.0)*state_fab(i + 1, j, k, Idx::PhiImaginary) - 1.0/2.0*state_fab(i - 1, j, k, Idx::PhiImaginary))/dx[0];\n",
      "        amrex::Real dDPhiImaginary_L_1 = ((1.0/2.0)*state_fab(i, j + 1, k, Idx::PhiImaginary) - 1.0/2.0*state_fab(i, j - 1, k, Idx::PhiImaginary))/dx[1];\n",
      "        amrex::Real dDPhiImaginary_L_2 = ((1.0/2.0)*state_fab(i, j, k + 1, Idx::PhiImaginary) - 1.0/2.0*state_fab(i, j, k - 1, Idx::PhiImaginary))/dx[2];\n",
      "\n",
      "        amrex::Real dDDPhiReal_LL_00 = (state_fab(i + 1, j, k, Idx::PhiReal) + state_fab(i - 1, j, k, Idx::PhiReal) - 2*state_fab(i, j, k, Idx::PhiReal))/std::pow(dx[0], 2);\n",
      "        amrex::Real dDDPhiReal_LL_01 = ((1.0/4.0)*state_fab(i + 1, j + 1, k, Idx::PhiReal) - 1.0/4.0*state_fab(i + 1, j - 1, k, Idx::PhiReal) - 1.0/4.0*state_fab(i - 1, j + 1, k, Idx::PhiReal) + (1.0/4.0)*state_fab(i - 1, j - 1, k, Idx::PhiReal))/(dx[0]*dx[1]);\n",
      "        amrex::Real dDDPhiReal_LL_02 = ((1.0/4.0)*state_fab(i + 1, j, k + 1, Idx::PhiReal) - 1.0/4.0*state_fab(i + 1, j, k - 1, Idx::PhiReal) - 1.0/4.0*state_fab(i - 1, j, k + 1, Idx::PhiReal) + (1.0/4.0)*state_fab(i - 1, j, k - 1, Idx::PhiReal))/(dx[0]*dx[2]);\n",
      "        amrex::Real dDDPhiReal_LL_11 = (state_fab(i, j + 1, k, Idx::PhiReal) + state_fab(i, j - 1, k, Idx::PhiReal) - 2*state_fab(i, j, k, Idx::PhiReal))/std::pow(dx[1], 2);\n",
      "        amrex::Real dDDPhiReal_LL_12 = ((1.0/4.0)*state_fab(i, j + 1, k + 1, Idx::PhiReal) - 1.0/4.0*state_fab(i, j + 1, k - 1, Idx::PhiReal) - 1.0/4.0*state_fab(i, j - 1, k + 1, Idx::PhiReal) + (1.0/4.0)*state_fab(i, j - 1, k - 1, Idx::PhiReal))/(dx[1]*dx[2]);\n",
      "        amrex::Real dDDPhiReal_LL_22 = (state_fab(i, j, k + 1, Idx::PhiReal) + state_fab(i, j, k - 1, Idx::PhiReal) - 2*state_fab(i, j, k, Idx::PhiReal))/std::pow(dx[2], 2);\n",
      "\n",
      "        amrex::Real dDDPhiImaginary_LL_00 = (state_fab(i + 1, j, k, Idx::PhiImaginary) + state_fab(i - 1, j, k, Idx::PhiImaginary) - 2*state_fab(i, j, k, Idx::PhiImaginary))/std::pow(dx[0], 2);\n",
      "        amrex::Real dDDPhiImaginary_LL_01 = ((1.0/4.0)*state_fab(i + 1, j + 1, k, Idx::PhiImaginary) - 1.0/4.0*state_fab(i + 1, j - 1, k, Idx::PhiImaginary) - 1.0/4.0*state_fab(i - 1, j + 1, k, Idx::PhiImaginary) + (1.0/4.0)*state_fab(i - 1, j - 1, k, Idx::PhiImaginary))/(dx[0]*dx[1]);\n",
      "        amrex::Real dDDPhiImaginary_LL_02 = ((1.0/4.0)*state_fab(i + 1, j, k + 1, Idx::PhiImaginary) - 1.0/4.0*state_fab(i + 1, j, k - 1, Idx::PhiImaginary) - 1.0/4.0*state_fab(i - 1, j, k + 1, Idx::PhiImaginary) + (1.0/4.0)*state_fab(i - 1, j, k - 1, Idx::PhiImaginary))/(dx[0]*dx[2]);\n",
      "        amrex::Real dDDPhiImaginary_LL_11 = (state_fab(i, j + 1, k, Idx::PhiImaginary) + state_fab(i, j - 1, k, Idx::PhiImaginary) - 2*state_fab(i, j, k, Idx::PhiImaginary))/std::pow(dx[1], 2);\n",
      "        amrex::Real dDDPhiImaginary_LL_12 = ((1.0/4.0)*state_fab(i, j + 1, k + 1, Idx::PhiImaginary) - 1.0/4.0*state_fab(i, j + 1, k - 1, Idx::PhiImaginary) - 1.0/4.0*state_fab(i, j - 1, k + 1, Idx::PhiImaginary) + (1.0/4.0)*state_fab(i, j - 1, k - 1, Idx::PhiImaginary))/(dx[1]*dx[2]);\n",
      "        amrex::Real dDDPhiImaginary_LL_22 = (state_fab(i, j, k + 1, Idx::PhiImaginary) + state_fab(i, j, k - 1, Idx::PhiImaginary) - 2*state_fab(i, j, k, Idx::PhiImaginary))/std::pow(dx[2], 2);\n",
      "\n",
      "        amrex::Real dDDChi_LL_00 = (state_fab(i + 1, j, k, Idx::Chi) + state_fab(i - 1, j, k, Idx::Chi) - 2*state_fab(i, j, k, Idx::Chi))/std::pow(dx[0], 2);\n",
      "        amrex::Real dDDChi_LL_01 = ((1.0/4.0)*state_fab(i + 1, j + 1, k, Idx::Chi) - 1.0/4.0*state_fab(i + 1, j - 1, k, Idx::Chi) - 1.0/4.0*state_fab(i - 1, j + 1, k, Idx::Chi) + (1.0/4.0)*state_fab(i - 1, j - 1, k, Idx::Chi))/(dx[0]*dx[1]);\n",
      "        amrex::Real dDDChi_LL_02 = ((1.0/4.0)*state_fab(i + 1, j, k + 1, Idx::Chi) - 1.0/4.0*state_fab(i + 1, j, k - 1, Idx::Chi) - 1.0/4.0*state_fab(i - 1, j, k + 1, Idx::Chi) + (1.0/4.0)*state_fab(i - 1, j, k - 1, Idx::Chi))/(dx[0]*dx[2]);\n",
      "        amrex::Real dDDChi_LL_11 = (state_fab(i, j + 1, k, Idx::Chi) + state_fab(i, j - 1, k, Idx::Chi) - 2*state_fab(i, j, k, Idx::Chi))/std::pow(dx[1], 2);\n",
      "        amrex::Real dDDChi_LL_12 = ((1.0/4.0)*state_fab(i, j + 1, k + 1, Idx::Chi) - 1.0/4.0*state_fab(i, j + 1, k - 1, Idx::Chi) - 1.0/4.0*state_fab(i, j - 1, k + 1, Idx::Chi) + (1.0/4.0)*state_fab(i, j - 1, k - 1, Idx::Chi))/(dx[1]*dx[2]);\n",
      "        amrex::Real dDDChi_LL_22 = (state_fab(i, j, k + 1, Idx::Chi) + state_fab(i, j, k - 1, Idx::Chi) - 2*state_fab(i, j, k, Idx::Chi))/std::pow(dx[2], 2);\n",
      "\n",
      "        amrex::Real dDDA_LLL_000 = (state_fab(i + 1, j, k, Idx::A_L_0) + state_fab(i - 1, j, k, Idx::A_L_0) - 2*state_fab(i, j, k, Idx::A_L_0))/std::pow(dx[0], 2);\n",
      "        amrex::Real dDDA_LLL_001 = ((1.0/4.0)*state_fab(i + 1, j + 1, k, Idx::A_L_0) - 1.0/4.0*state_fab(i + 1, j - 1, k, Idx::A_L_0) - 1.0/4.0*state_fab(i - 1, j + 1, k, Idx::A_L_0) + (1.0/4.0)*state_fab(i - 1, j - 1, k, Idx::A_L_0))/(dx[0]*dx[1]);\n",
      "        amrex::Real dDDA_LLL_002 = ((1.0/4.0)*state_fab(i + 1, j, k + 1, Idx::A_L_0) - 1.0/4.0*state_fab(i + 1, j, k - 1, Idx::A_L_0) - 1.0/4.0*state_fab(i - 1, j, k + 1, Idx::A_L_0) + (1.0/4.0)*state_fab(i - 1, j, k - 1, Idx::A_L_0))/(dx[0]*dx[2]);\n",
      "        amrex::Real dDDA_LLL_011 = (state_fab(i, j + 1, k, Idx::A_L_0) + state_fab(i, j - 1, k, Idx::A_L_0) - 2*state_fab(i, j, k, Idx::A_L_0))/std::pow(dx[1], 2);\n",
      "        amrex::Real dDDA_LLL_012 = ((1.0/4.0)*state_fab(i, j + 1, k + 1, Idx::A_L_0) - 1.0/4.0*state_fab(i, j + 1, k - 1, Idx::A_L_0) - 1.0/4.0*state_fab(i, j - 1, k + 1, Idx::A_L_0) + (1.0/4.0)*state_fab(i, j - 1, k - 1, Idx::A_L_0))/(dx[1]*dx[2]);\n",
      "        amrex::Real dDDA_LLL_022 = (state_fab(i, j, k + 1, Idx::A_L_0) + state_fab(i, j, k - 1, Idx::A_L_0) - 2*state_fab(i, j, k, Idx::A_L_0))/std::pow(dx[2], 2);\n",
      "        amrex::Real dDDA_LLL_100 = (state_fab(i + 1, j, k, Idx::A_L_1) + state_fab(i - 1, j, k, Idx::A_L_1) - 2*state_fab(i, j, k, Idx::A_L_1))/std::pow(dx[0], 2);\n",
      "        amrex::Real dDDA_LLL_101 = ((1.0/4.0)*state_fab(i + 1, j + 1, k, Idx::A_L_1) - 1.0/4.0*state_fab(i + 1, j - 1, k, Idx::A_L_1) - 1.0/4.0*state_fab(i - 1, j + 1, k, Idx::A_L_1) + (1.0/4.0)*state_fab(i - 1, j - 1, k, Idx::A_L_1))/(dx[0]*dx[1]);\n",
      "        amrex::Real dDDA_LLL_102 = ((1.0/4.0)*state_fab(i + 1, j, k + 1, Idx::A_L_1) - 1.0/4.0*state_fab(i + 1, j, k - 1, Idx::A_L_1) - 1.0/4.0*state_fab(i - 1, j, k + 1, Idx::A_L_1) + (1.0/4.0)*state_fab(i - 1, j, k - 1, Idx::A_L_1))/(dx[0]*dx[2]);\n",
      "        amrex::Real dDDA_LLL_111 = (state_fab(i, j + 1, k, Idx::A_L_1) + state_fab(i, j - 1, k, Idx::A_L_1) - 2*state_fab(i, j, k, Idx::A_L_1))/std::pow(dx[1], 2);\n",
      "        amrex::Real dDDA_LLL_112 = ((1.0/4.0)*state_fab(i, j + 1, k + 1, Idx::A_L_1) - 1.0/4.0*state_fab(i, j + 1, k - 1, Idx::A_L_1) - 1.0/4.0*state_fab(i, j - 1, k + 1, Idx::A_L_1) + (1.0/4.0)*state_fab(i, j - 1, k - 1, Idx::A_L_1))/(dx[1]*dx[2]);\n",
      "        amrex::Real dDDA_LLL_122 = (state_fab(i, j, k + 1, Idx::A_L_1) + state_fab(i, j, k - 1, Idx::A_L_1) - 2*state_fab(i, j, k, Idx::A_L_1))/std::pow(dx[2], 2);\n",
      "        amrex::Real dDDA_LLL_200 = (state_fab(i + 1, j, k, Idx::A_L_2) + state_fab(i - 1, j, k, Idx::A_L_2) - 2*state_fab(i, j, k, Idx::A_L_2))/std::pow(dx[0], 2);\n",
      "        amrex::Real dDDA_LLL_201 = ((1.0/4.0)*state_fab(i + 1, j + 1, k, Idx::A_L_2) - 1.0/4.0*state_fab(i + 1, j - 1, k, Idx::A_L_2) - 1.0/4.0*state_fab(i - 1, j + 1, k, Idx::A_L_2) + (1.0/4.0)*state_fab(i - 1, j - 1, k, Idx::A_L_2))/(dx[0]*dx[1]);\n",
      "        amrex::Real dDDA_LLL_202 = ((1.0/4.0)*state_fab(i + 1, j, k + 1, Idx::A_L_2) - 1.0/4.0*state_fab(i + 1, j, k - 1, Idx::A_L_2) - 1.0/4.0*state_fab(i - 1, j, k + 1, Idx::A_L_2) + (1.0/4.0)*state_fab(i - 1, j, k - 1, Idx::A_L_2))/(dx[0]*dx[2]);\n",
      "        amrex::Real dDDA_LLL_211 = (state_fab(i, j + 1, k, Idx::A_L_2) + state_fab(i, j - 1, k, Idx::A_L_2) - 2*state_fab(i, j, k, Idx::A_L_2))/std::pow(dx[1], 2);\n",
      "        amrex::Real dDDA_LLL_212 = ((1.0/4.0)*state_fab(i, j + 1, k + 1, Idx::A_L_2) - 1.0/4.0*state_fab(i, j + 1, k - 1, Idx::A_L_2) - 1.0/4.0*state_fab(i, j - 1, k + 1, Idx::A_L_2) + (1.0/4.0)*state_fab(i, j - 1, k - 1, Idx::A_L_2))/(dx[1]*dx[2]);\n",
      "        amrex::Real dDDA_LLL_222 = (state_fab(i, j, k + 1, Idx::A_L_2) + state_fab(i, j, k - 1, Idx::A_L_2) - 2*state_fab(i, j, k, Idx::A_L_2))/std::pow(dx[2], 2);\n",
      "\n",
      "        amrex::Real dDDAT_LL_00 = (state_fab(i + 1, j, k, Idx::AT) + state_fab(i - 1, j, k, Idx::AT) - 2*state_fab(i, j, k, Idx::AT))/std::pow(dx[0], 2);\n",
      "        amrex::Real dDDAT_LL_01 = ((1.0/4.0)*state_fab(i + 1, j + 1, k, Idx::AT) - 1.0/4.0*state_fab(i + 1, j - 1, k, Idx::AT) - 1.0/4.0*state_fab(i - 1, j + 1, k, Idx::AT) + (1.0/4.0)*state_fab(i - 1, j - 1, k, Idx::AT))/(dx[0]*dx[1]);\n",
      "        amrex::Real dDDAT_LL_02 = ((1.0/4.0)*state_fab(i + 1, j, k + 1, Idx::AT) - 1.0/4.0*state_fab(i + 1, j, k - 1, Idx::AT) - 1.0/4.0*state_fab(i - 1, j, k + 1, Idx::AT) + (1.0/4.0)*state_fab(i - 1, j, k - 1, Idx::AT))/(dx[0]*dx[2]);\n",
      "        amrex::Real dDDAT_LL_11 = (state_fab(i, j + 1, k, Idx::AT) + state_fab(i, j - 1, k, Idx::AT) - 2*state_fab(i, j, k, Idx::AT))/std::pow(dx[1], 2);\n",
      "        amrex::Real dDDAT_LL_12 = ((1.0/4.0)*state_fab(i, j + 1, k + 1, Idx::AT) - 1.0/4.0*state_fab(i, j + 1, k - 1, Idx::AT) - 1.0/4.0*state_fab(i, j - 1, k + 1, Idx::AT) + (1.0/4.0)*state_fab(i, j - 1, k - 1, Idx::AT))/(dx[1]*dx[2]);\n",
      "        amrex::Real dDDAT_LL_22 = (state_fab(i, j, k + 1, Idx::AT) + state_fab(i, j, k - 1, Idx::AT) - 2*state_fab(i, j, k, Idx::AT))/std::pow(dx[2], 2);\n",
      "\n",
      "        amrex::Real LapPhiReal = dDDPhiReal_LL_00 + dDDPhiReal_LL_11 + dDDPhiReal_LL_22;\n",
      "\n",
      "        amrex::Real LapPhiImaginary = dDDPhiImaginary_LL_00 + dDDPhiImaginary_LL_11 + dDDPhiImaginary_LL_22;\n",
      "\n",
      "        amrex::Real LapChi = dDDChi_LL_00 + dDDChi_LL_11 + dDDChi_LL_22;\n",
      "\n",
      "        amrex::Real LapA_L_0 = dDDA_LLL_000 + dDDA_LLL_011 + dDDA_LLL_022;\n",
      "        amrex::Real LapA_L_1 = dDDA_LLL_100 + dDDA_LLL_111 + dDDA_LLL_122;\n",
      "        amrex::Real LapA_L_2 = dDDA_LLL_200 + dDDA_LLL_211 + dDDA_LLL_222;\n",
      "\n",
      "        amrex::Real LapAT = dDDAT_LL_00 + dDDAT_LL_11 + dDDAT_LL_22;\n",
      "\n",
      "        rhs_fab(i, j, k, Idx::PhiReal) = PiPhiReal;\n",
      "\n",
      "        rhs_fab(i, j, k, Idx::PhiImaginary) = PiPhiImaginary;\n",
      "\n",
      "        rhs_fab(i, j, k, Idx::Chi) = PiChi;\n",
      "\n",
      "        rhs_fab(i, j, k, Idx::A_L_0) = PiA_L_0;\n",
      "        rhs_fab(i, j, k, Idx::A_L_1) = PiA_L_1;\n",
      "        rhs_fab(i, j, k, Idx::A_L_2) = PiA_L_2;\n",
      "\n",
      "        rhs_fab(i, j, k, Idx::AT) = PiAT;\n",
      "\n",
      "        rhs_fab(i, j, k, Idx::PiPhiReal) = LapPhiReal - 2*PhiReal*lam*(std::pow(Chi, 2) + std::pow(PhiImaginary, 2) + std::pow(PhiReal, 2) - std::pow(v, 2));\n",
      "\n",
      "        rhs_fab(i, j, k, Idx::PiPhiImaginary) = LapPhiImaginary - 2*PhiImaginary*lam*(std::pow(Chi, 2) + std::pow(PhiImaginary, 2) + std::pow(PhiReal, 2) - std::pow(v, 2));\n",
      "\n",
      "        rhs_fab(i, j, k, Idx::PiChi) = -Chi*std::pow(Omega, 2) - 2*Chi*lam*(std::pow(Chi, 2) + std::pow(PhiImaginary, 2) + std::pow(PhiReal, 2) - std::pow(v, 2)) + LapChi;\n",
      "\n",
      "        rhs_fab(i, j, k, Idx::PiA_L_0) = -2*A_L_0*std::pow(e, 2)*(std::pow(PhiImaginary, 2) + std::pow(PhiReal, 2)) + LapA_L_0 - 2*e*j_L_0;\n",
      "        rhs_fab(i, j, k, Idx::PiA_L_1) = -2*A_L_1*std::pow(e, 2)*(std::pow(PhiImaginary, 2) + std::pow(PhiReal, 2)) + LapA_L_1 - 2*e*j_L_1;\n",
      "        rhs_fab(i, j, k, Idx::PiA_L_2) = -2*A_L_2*std::pow(e, 2)*(std::pow(PhiImaginary, 2) + std::pow(PhiReal, 2)) + LapA_L_2 - 2*e*j_L_2;\n",
      "\n",
      "        rhs_fab(i, j, k, Idx::PiAT) = -2*AT*std::pow(e, 2)*(std::pow(PhiImaginary, 2) + std::pow(PhiReal, 2)) + LapAT - 2*e*jT;\n",
      "\n",
      "\n"
     ]
    }
   ],
   "source": [
    "print(RHSString)"
   ]
  },
  {
   "cell_type": "code",
   "execution_count": null,
   "metadata": {},
   "outputs": [],
   "source": []
  }
 ],
 "metadata": {
  "kernelspec": {
   "display_name": "Python 3",
   "language": "python",
   "name": "python3"
  },
  "language_info": {
   "codemirror_mode": {
    "name": "ipython",
    "version": 3
   },
   "file_extension": ".py",
   "mimetype": "text/x-python",
   "name": "python",
   "nbconvert_exporter": "python",
   "pygments_lexer": "ipython3",
   "version": "3.5.2"
  }
 },
 "nbformat": 4,
 "nbformat_minor": 2
}
