{
 "cells": [
  {
   "cell_type": "code",
   "execution_count": 1,
   "metadata": {},
   "outputs": [],
   "source": [
    "from STvAR_v3 import *\n",
    "from STvARMetricObjects import *\n",
    "from STvARFiniteDifference import *\n",
    "from STvARAdvection import *\n",
    "from STvARSymbolParsing import *\n",
    "from STvARIndexing import*"
   ]
  },
  {
   "cell_type": "code",
   "execution_count": 2,
   "metadata": {},
   "outputs": [],
   "source": [
    "diffOrder = 2"
   ]
  },
  {
   "cell_type": "code",
   "execution_count": 3,
   "metadata": {},
   "outputs": [],
   "source": [
    "stvar.gridvars = []\n",
    "stvar.vartypes = []\n",
    "\n",
    "Q6 = stvar('Q6', gridvar = True, vartype = 'init')\n",
    "Q7 = stvar('Q7', gridvar = True, vartype = 'init')\n",
    "dotQ6 = stvar('dotQ6', gridvar = True, vartype = 'init')\n",
    "dotQ7 = stvar('dotQ7', gridvar = True, vartype = 'init')\n",
    "\n",
    "PhiRe = stvar('PhiRe', gridvar = True, vartype = 'state_fab')\n",
    "PiPhiRe = stvar('PiPhiRe', gridvar = True, vartype = 'state_fab')\n",
    "\n",
    "PhiIm= stvar('PhiIm', gridvar = True, vartype = 'state_fab')\n",
    "PiPhiIm = stvar('PiPhiIm', gridvar = True, vartype = 'state_fab')\n",
    "\n",
    "AT = stvar('AT', gridvar = True, vartype = 'state_fab')\n",
    "PiAT = stvar('PiAT', gridvar = True, vartype = 'state_fab')\n",
    "\n",
    "A3_L = stvarrank1('A3_L', gridvar = True, vartype = 'state_fab')\n",
    "A3_L.symb[2] = 0\n",
    "\n",
    "PiA3_L = stvarrank1('PiA3_L', gridvar = True, vartype = 'state_fab')\n",
    "PiA3_L.symb[2] = 0\n",
    "\n",
    "Psi = stvar('Psi', gridvar = True, vartype = 'state_fab')\n",
    "W_U = stvarrank1('W_U', gridvar = True, vartype = 'state_fab')\n",
    "\n",
    "alpha = stvar('alpha', gridvar = True, vartype = 'state_fab')\n",
    "beta_U = stvarrank1('beta_U', gridvar = True, vartype = 'state_fab')\n",
    "gambar_LL = stvarrank2('gambar_LL', gridvar = True, vartype = 'state_fab', sym = 'sym01')"
   ]
  },
  {
   "cell_type": "code",
   "execution_count": 4,
   "metadata": {},
   "outputs": [],
   "source": [
    "x = stvar('x')\n",
    "x0 = stvar('x0')\n",
    "x.expr = x0.symb\n",
    "y = stvar('y')\n",
    "x1 = stvar('x1')\n",
    "y.expr = x1.symb\n",
    "u = stvar('u')\n",
    "x2 = stvar('x2')\n",
    "u.expr = x2.symb\n",
    "\n",
    "uh = stvar('uh')\n",
    "uh.expr = 0.5\n",
    "vboost = stvar('vboost')\n",
    "vboost.expr = 0.5\n",
    "gamvboost = stvar('gamvboost')\n",
    "gamvboost.expr = 1/sp.sqrt(1-vboost.symb**2)"
   ]
  },
  {
   "cell_type": "code",
   "execution_count": 5,
   "metadata": {},
   "outputs": [],
   "source": [
    "FullString = \"\""
   ]
  },
  {
   "cell_type": "code",
   "execution_count": 6,
   "metadata": {},
   "outputs": [],
   "source": [
    "FullString += x.symb2expr()\n",
    "FullString += y.symb2expr()\n",
    "FullString += u.symb2expr()\n",
    "FullString += uh.symb2expr()\n",
    "FullString += vboost.symb2expr()\n",
    "FullString += gamvboost.symb2expr()"
   ]
  },
  {
   "cell_type": "code",
   "execution_count": 7,
   "metadata": {},
   "outputs": [],
   "source": [
    "#gambar_LL.expr[0][0] = uh.symb**2*gamvboost.symb**2/(u.symb**2)\n",
    "#gambar_LL.expr[1][1] = uh.symb**2/(u.symb**2)\n",
    "#gambar_LL.expr[2][2] = 1/(u.symb**2*(1-u.symb**3))"
   ]
  },
  {
   "cell_type": "code",
   "execution_count": null,
   "metadata": {},
   "outputs": [],
   "source": []
  },
  {
   "cell_type": "code",
   "execution_count": 8,
   "metadata": {},
   "outputs": [],
   "source": [
    "FullString += PhiRe.symb2isymb()\n",
    "FullString += PiPhiRe.symb2isymb()\n",
    "\n",
    "FullString += PhiIm.symb2isymb()\n",
    "FullString += PiPhiIm.symb2isymb()\n",
    "\n",
    "FullString += AT.symb2isymb()\n",
    "FullString += PiAT.symb2isymb()\n",
    "\n",
    "FullString += A3_L.symb2isymb()\n",
    "FullString += PiA3_L.symb2isymb()\n",
    "\n",
    "FullString += Psi.symb2isymb()\n",
    "FullString += W_U.symb2isymb()\n",
    "\n",
    "FullString += alpha.symb2isymb()\n",
    "FullString += beta_U.symb2isymb()\n",
    "FullString += gambar_LL.symb2isymb()"
   ]
  },
  {
   "cell_type": "code",
   "execution_count": 9,
   "metadata": {},
   "outputs": [],
   "source": [
    "dDPhiRe3_L = PhiRe.diff('dD', Accuracy = diffOrder)\n",
    "dDPhiIm3_L = PhiIm.diff('dD', Accuracy = diffOrder)\n",
    "\n",
    "dDA3_LL = A3_L.diff('dD', Accuracy = diffOrder)\n",
    "dDAT3_L = AT.diff('dD', Accuracy = diffOrder)\n",
    "\n",
    "dDPsi_L = Psi.diff('dD', Accuracy = diffOrder)\n",
    "dDDPsi_LL = Psi.diff('dDD', Accuracy = diffOrder)\n",
    "\n",
    "dDW_UL = W_U.diff('dD', Accuracy = diffOrder)\n",
    "dDDW_ULL = W_U.diff('dDD', Accuracy = diffOrder)\n",
    "\n",
    "dDgambar_LLL = gambar_LL.diff('dD', Accuracy = diffOrder) #stvarrank3('dDgambar_LLL', sym = 'diag01')\n",
    "dDDgambar_LLLL = gambar_LL.diff('dDD', Accuracy = diffOrder) #stvarrank4('dDDgambar_LLLL', sym = 'diag01sym23')"
   ]
  },
  {
   "cell_type": "code",
   "execution_count": 10,
   "metadata": {},
   "outputs": [],
   "source": [
    "#Dgambar_LLL.expr[0][0][2] = -2*uh.symb**2*gamvboost.symb**2/(u.symb**3)\n",
    "#dDgambar_LLL.expr[1][1][2] = -2*uh.symb**2/(u.symb**3)\n",
    "#dDgambar_LLL.expr[2][2][2] = (-2+5*u.symb**3)/(u.symb**3*(1-u.symb**3)**2)\n",
    "\n",
    "#dDDgambar_LLLL.expr[0][0][2][2] = 6*uh.symb**2*gamvboost.symb**2/(u.symb**4)\n",
    "#dDDgambar_LLLL.expr[1][1][2][2] = 6*uh.symb**2/(u.symb**4)\n",
    "#dDDgambar_LLLL.expr[2][2][2][2] = 6*(1-3*u.symb**3 + 5*u.symb**6)/(u.symb**4*(1-u.symb**3)**3)"
   ]
  },
  {
   "cell_type": "code",
   "execution_count": null,
   "metadata": {},
   "outputs": [],
   "source": []
  },
  {
   "cell_type": "code",
   "execution_count": 11,
   "metadata": {},
   "outputs": [],
   "source": [
    "FullString += dDPhiRe3_L.symb2isymb()\n",
    "FullString += dDPhiIm3_L.symb2isymb()\n",
    "FullString += dDA3_LL.symb2isymb()\n",
    "FullString += dDAT3_L.symb2isymb()\n",
    "FullString += dDPsi_L.symb2isymb()\n",
    "FullString += dDDPsi_LL.symb2isymb()\n",
    "FullString += dDW_UL.symb2isymb()\n",
    "FullString += dDDW_ULL.symb2isymb()\n",
    "FullString += dDgambar_LLL.symb2isymb()\n",
    "FullString += dDDgambar_LLLL.symb2isymb()"
   ]
  },
  {
   "cell_type": "code",
   "execution_count": 12,
   "metadata": {},
   "outputs": [],
   "source": [
    "dDPhiRe_L = stvarrank1('dDPhiRe4_L', dim = 4)\n",
    "dDPhiIm_L = stvarrank1('dDPhiIm4_L', dim = 4)\n",
    "dDAT_L = stvarrank1('dDAT4_L', dim = 4)\n",
    "dDPhiRe_L.expr[3] = PiPhiRe.symb\n",
    "dDPhiIm_L.expr[3] = PiPhiIm.symb\n",
    "dDAT_L.expr[3] = PiAT.symb\n",
    "for i in range(3):\n",
    "    dDPhiRe_L.expr[i] = dDPhiRe3_L.symb[i]\n",
    "    dDPhiIm_L.expr[i] = dDPhiIm3_L.symb[i]\n",
    "    dDAT_L.expr[i] = dDAT3_L.symb[i]"
   ]
  },
  {
   "cell_type": "code",
   "execution_count": 13,
   "metadata": {},
   "outputs": [],
   "source": [
    "FullString += dDPhiRe_L.symb2expr()\n",
    "FullString += dDPhiIm_L.symb2expr()\n",
    "FullString += dDAT_L.symb2expr()"
   ]
  },
  {
   "cell_type": "code",
   "execution_count": 14,
   "metadata": {},
   "outputs": [],
   "source": [
    "invgambar_UU = inversemetric(gambar_LL)"
   ]
  },
  {
   "cell_type": "code",
   "execution_count": 15,
   "metadata": {},
   "outputs": [],
   "source": [
    "FullString += invgambar_UU.symb2expr()"
   ]
  },
  {
   "cell_type": "code",
   "execution_count": 16,
   "metadata": {},
   "outputs": [],
   "source": [
    "A_L = stvarrank1('A_L', dim = 4)\n",
    "A_L.expr[3] = AT.symb\n",
    "for i in range(3):\n",
    "    A_L.expr[i] = A3_L.symb[i]"
   ]
  },
  {
   "cell_type": "code",
   "execution_count": 17,
   "metadata": {},
   "outputs": [],
   "source": [
    "FullString += A_L.symb2expr()"
   ]
  },
  {
   "cell_type": "code",
   "execution_count": 18,
   "metadata": {},
   "outputs": [],
   "source": [
    "dDA_LL = stvarrank2('dDA_LL', dim = 4)\n",
    "dDA_LL.expr[3][3] = PiAT.symb\n",
    "for i in range(3):\n",
    "    dDA_LL.expr[i][3] = PiA3_L.symb[i]\n",
    "    dDA_LL.expr[3][i] = dDAT3_L.symb[i]\n",
    "    for j in range(3):\n",
    "        dDA_LL.expr[i][j] = dDA_LL.symb[i][j]\n",
    "        \n",
    "for a in range(4):\n",
    "    for b in range(4):\n",
    "        if a == 2:\n",
    "            dDA_LL.symb[a][b] = 0"
   ]
  },
  {
   "cell_type": "code",
   "execution_count": 19,
   "metadata": {},
   "outputs": [],
   "source": [
    "FullString += dDA_LL.symb2expr()"
   ]
  },
  {
   "cell_type": "code",
   "execution_count": 20,
   "metadata": {},
   "outputs": [],
   "source": [
    "beta_L = stvarrank1('beta_L')\n",
    "for i in range(3):\n",
    "    for j in range(3):\n",
    "        beta_L.expr[i] = gambar_LL.symb[i][j]*beta_U.symb[j]"
   ]
  },
  {
   "cell_type": "code",
   "execution_count": 21,
   "metadata": {},
   "outputs": [],
   "source": [
    "FullString += beta_L.symb2expr()"
   ]
  },
  {
   "cell_type": "code",
   "execution_count": 22,
   "metadata": {},
   "outputs": [],
   "source": [
    "g4_LL = stvarrank2('g4_LL', sym = 'sym01', dim = 4)\n",
    "g4_LL.expr[3][3] = -alpha.symb**2\n",
    "for i in range(3):\n",
    "    g4_LL.expr[3][i] = beta_L.symb[i]\n",
    "    g4_LL.expr[i][3] = beta_L.symb[i]\n",
    "    g4_LL.expr[3][3] += beta_L.symb[i]*beta_U.symb[i]\n",
    "    for j in range(3):\n",
    "        g4_LL.expr[i][j] = (Psi.symb**4)*gambar_LL.symb[i][j]"
   ]
  },
  {
   "cell_type": "code",
   "execution_count": 23,
   "metadata": {},
   "outputs": [],
   "source": [
    "FullString += g4_LL.symb2expr()"
   ]
  },
  {
   "cell_type": "code",
   "execution_count": 24,
   "metadata": {},
   "outputs": [],
   "source": [
    "invg4_UU = inversemetric(g4_LL)"
   ]
  },
  {
   "cell_type": "code",
   "execution_count": 25,
   "metadata": {},
   "outputs": [],
   "source": [
    "FullString += invg4_UU.symb2expr()"
   ]
  },
  {
   "cell_type": "code",
   "execution_count": 26,
   "metadata": {},
   "outputs": [],
   "source": [
    "CovDPhiRe_L = CovariantD(PhiRe, g4_LL)\n",
    "CovDPhiRe_L.expr[3] = PiPhiRe.symb\n",
    "CovDPhiIm_L = CovariantD(PhiIm, g4_LL)\n",
    "CovDPhiIm_L.expr[3] = PiPhiIm.symb\n"
   ]
  },
  {
   "cell_type": "code",
   "execution_count": 27,
   "metadata": {},
   "outputs": [],
   "source": [
    "FullString += CovDPhiRe_L.symb2expr()\n",
    "FullString += CovDPhiIm_L.symb2expr()"
   ]
  },
  {
   "cell_type": "code",
   "execution_count": 28,
   "metadata": {},
   "outputs": [],
   "source": [
    "e = stvar('e')\n",
    "e.expr = 1"
   ]
  },
  {
   "cell_type": "code",
   "execution_count": 29,
   "metadata": {},
   "outputs": [],
   "source": [
    "FullString += e.symb2expr()"
   ]
  },
  {
   "cell_type": "code",
   "execution_count": 30,
   "metadata": {},
   "outputs": [],
   "source": [
    "CovDAPhiRe_L = stvarrank1('CovDAPhiRe_L', dim = 4)\n",
    "CovDAPhiRe_L.expr = CovDPhiRe_L.symb - e.symb*PhiIm.symb*A_L.symb\n",
    "\n",
    "CovDAPhiIm_L = stvarrank1('CovDAPhiIm_L', dim = 4)\n",
    "CovDAPhiIm_L.expr = CovDPhiIm_L.symb + e.symb*PhiRe.symb*A_L.symb"
   ]
  },
  {
   "cell_type": "code",
   "execution_count": 31,
   "metadata": {},
   "outputs": [],
   "source": [
    "FullString += CovDAPhiRe_L.symb2expr()\n",
    "FullString += CovDAPhiIm_L.symb2expr()"
   ]
  },
  {
   "cell_type": "code",
   "execution_count": 32,
   "metadata": {},
   "outputs": [],
   "source": [
    "F_LL = stvarrank2('F_LL', sym = 'asym01', dim = 4)\n",
    "for a in range(4):\n",
    "    for b in range(4):\n",
    "        F_LL.expr[a][b] = dDA_LL.symb[b][a] - dDA_LL.symb[a][b]"
   ]
  },
  {
   "cell_type": "code",
   "execution_count": 33,
   "metadata": {},
   "outputs": [],
   "source": [
    "F_UU = stvarrank2('F_UU', sym = 'asym01', dim = 4)\n",
    "F_LU = stvarrank2('F_LU', dim = 4)\n",
    "for a in range(4):\n",
    "    for b in range(4):\n",
    "        for c in range(4):\n",
    "            F_LU.expr[a][b] += invg4_UU.symb[b][c]*F_LL.symb[a][c]\n",
    "            for d in range(4):\n",
    "                F_UU.expr[a][b] += invg4_UU.symb[a][c]*invg4_UU.symb[b][d]*F_LL.symb[c][d]\n"
   ]
  },
  {
   "cell_type": "code",
   "execution_count": 34,
   "metadata": {},
   "outputs": [],
   "source": [
    "FullString += F_LL.symb2expr()\n",
    "FullString += F_UU.symb2expr()\n",
    "FullString += F_LU.symb2expr()"
   ]
  },
  {
   "cell_type": "code",
   "execution_count": 35,
   "metadata": {},
   "outputs": [],
   "source": [
    "Vpotential = stvar('Vpotential')\n",
    "Vpotential.expr = -2*(PhiRe.symb**2 + PhiIm.symb**2)*(1-1/2*(PhiRe.symb**2 + PhiIm.symb**2)) "
   ]
  },
  {
   "cell_type": "code",
   "execution_count": 36,
   "metadata": {},
   "outputs": [],
   "source": [
    "FullString += Vpotential.symb2expr()"
   ]
  },
  {
   "cell_type": "code",
   "execution_count": 37,
   "metadata": {},
   "outputs": [],
   "source": [
    "T_LL = stvarrank2('T_LL', sym = 'sym01', dim = 4)\n",
    "for a in range(4):\n",
    "    for b in range(4):\n",
    "        T_LL.expr[a][b] += CovDAPhiRe_L.symb[a]*CovDAPhiRe_L.symb[b]+CovDAPhiIm_L.symb[a]*CovDAPhiIm_L.symb[b]\n",
    "        T_LL.expr[a][b] += -g4_LL.symb[a][b]*Vpotential.symb\n",
    "        for c in range(4):\n",
    "            T_LL.expr[a][b] += F_LL.symb[a][c]*F_LU.symb[b][c]\n",
    "            for d in range(4):\n",
    "                T_LL.expr[a][b] += -1/2*g4_LL.symb[a][b]*invg4_UU.symb[c][d]*(CovDAPhiRe_L.symb[c]*CovDAPhiRe_L.symb[d]+CovDAPhiIm_L.symb[c]*CovDAPhiIm_L.symb[d])\n",
    "                T_LL.expr[a][b] += -1/4*g4_LL.symb[a][b]*F_LL.symb[c][d]*F_UU.symb[c][d]\n",
    "                \n",
    "for a in range(4):\n",
    "    for b in range(4):\n",
    "        T_LL.expr[a][b] = 1/(8*sp.pi)*(T_LL.expr[a][b] + 3*g4_LL.symb[a][b])"
   ]
  },
  {
   "cell_type": "code",
   "execution_count": 38,
   "metadata": {},
   "outputs": [],
   "source": [
    "FullString += T_LL.symb2expr()"
   ]
  },
  {
   "cell_type": "code",
   "execution_count": 39,
   "metadata": {},
   "outputs": [],
   "source": [
    "n_L = stvarrank1('n_L', dim = 4)\n",
    "n_L.expr[3] = -alpha.symb\n",
    "for i in range(3):\n",
    "    n_L.symb[i] = 0"
   ]
  },
  {
   "cell_type": "code",
   "execution_count": 40,
   "metadata": {},
   "outputs": [],
   "source": [
    "FullString += n_L.symb2expr()"
   ]
  },
  {
   "cell_type": "code",
   "execution_count": 41,
   "metadata": {},
   "outputs": [],
   "source": [
    "n_U = stvarrank1('n_U', dim = 4)\n",
    "for a in range(4):\n",
    "    for b in range(4):\n",
    "        n_U.expr[a] = invg4_UU.symb[a][b]*n_L.symb[b]"
   ]
  },
  {
   "cell_type": "code",
   "execution_count": 42,
   "metadata": {},
   "outputs": [],
   "source": [
    "FullString += n_U.symb2expr()"
   ]
  },
  {
   "cell_type": "code",
   "execution_count": 43,
   "metadata": {},
   "outputs": [],
   "source": [
    "gam4_LL = stvarrank2('gam4_LL', dim = 4, sym = 'sym01')\n",
    "for a in range(4):\n",
    "    for b in range(4):\n",
    "        gam4_LL.expr[a][b] = g4_LL.symb[a][b] + n_L.symb[a]*n_L.symb[b] "
   ]
  },
  {
   "cell_type": "code",
   "execution_count": 44,
   "metadata": {},
   "outputs": [],
   "source": [
    "FullString += gam4_LL.symb2expr()"
   ]
  },
  {
   "cell_type": "code",
   "execution_count": 45,
   "metadata": {},
   "outputs": [],
   "source": [
    "T_UU = stvarrank2('T_UU', sym = 'sym01', dim = 4)\n",
    "for a in range(4):\n",
    "    for b in range(4):\n",
    "        for c in range(4):\n",
    "            for d in range(4):\n",
    "                T_UU.expr[a][b] += invg4_UU.symb[a][c]*invg4_UU.symb[b][d]*T_LL.symb[c][d]"
   ]
  },
  {
   "cell_type": "code",
   "execution_count": 46,
   "metadata": {},
   "outputs": [],
   "source": [
    "FullString += T_UU.symb2expr()"
   ]
  },
  {
   "cell_type": "code",
   "execution_count": 47,
   "metadata": {},
   "outputs": [],
   "source": [
    "rho = stvar('rho')\n",
    "for a in range(4):\n",
    "    for b in range(4):\n",
    "        rho.expr += n_L.symb[a]*n_L.symb[b]*T_UU.symb[a][b]"
   ]
  },
  {
   "cell_type": "code",
   "execution_count": 48,
   "metadata": {},
   "outputs": [],
   "source": [
    "FullString += rho.symb2expr()"
   ]
  },
  {
   "cell_type": "code",
   "execution_count": 49,
   "metadata": {},
   "outputs": [],
   "source": [
    "S_U = stvarrank1('S_U')\n",
    "for i in range(3):\n",
    "    for a in range(4):\n",
    "        for j in range(3):\n",
    "            S_U.expr[i] += - invgambar_UU.symb[i][j]/Psi.symb*n_U.symb[a]*T_LL.symb[a][j]"
   ]
  },
  {
   "cell_type": "code",
   "execution_count": 50,
   "metadata": {},
   "outputs": [],
   "source": [
    "FullString += S_U.symb2expr()"
   ]
  },
  {
   "cell_type": "code",
   "execution_count": 51,
   "metadata": {},
   "outputs": [],
   "source": [
    "Gambar_LLL = ChristoffelLLL(gambar_LL)\n",
    "Gambar_ULL = ChristoffelULL(gambar_LL)"
   ]
  },
  {
   "cell_type": "code",
   "execution_count": 52,
   "metadata": {},
   "outputs": [],
   "source": [
    "FullString += Gambar_LLL.symb2expr()\n",
    "FullString += Gambar_ULL.symb2expr()"
   ]
  },
  {
   "cell_type": "code",
   "execution_count": 53,
   "metadata": {},
   "outputs": [],
   "source": [
    "Riccibar_LL = RicciTensorLL(gambar_LL)"
   ]
  },
  {
   "cell_type": "code",
   "execution_count": 54,
   "metadata": {},
   "outputs": [],
   "source": [
    "FullString += Riccibar_LL.symb2expr()"
   ]
  },
  {
   "cell_type": "code",
   "execution_count": 55,
   "metadata": {},
   "outputs": [],
   "source": [
    "RiccibarSclr = RicciScalar(gambar_LL)"
   ]
  },
  {
   "cell_type": "code",
   "execution_count": 56,
   "metadata": {},
   "outputs": [],
   "source": [
    "FullString += RiccibarSclr.symb2expr()"
   ]
  },
  {
   "cell_type": "code",
   "execution_count": 57,
   "metadata": {},
   "outputs": [],
   "source": [
    "CovDW_UL = CovariantD(W_U, Gambar_ULL, dstring = 'dD')"
   ]
  },
  {
   "cell_type": "code",
   "execution_count": 58,
   "metadata": {},
   "outputs": [],
   "source": [
    "FullString += CovDW_UL.symb2expr()"
   ]
  },
  {
   "cell_type": "code",
   "execution_count": 59,
   "metadata": {},
   "outputs": [],
   "source": [
    "CovDW_UU = stvarrank2('CovDW_UU')\n",
    "for i in range(3):\n",
    "    for j in range(3):\n",
    "        for k in range(3):\n",
    "            CovDW_UU.expr[i][j] += invgambar_UU.symb[i][k]*CovDW_UL.symb[j][k]"
   ]
  },
  {
   "cell_type": "code",
   "execution_count": 60,
   "metadata": {},
   "outputs": [],
   "source": [
    "FullString += CovDW_UU.symb2expr()"
   ]
  },
  {
   "cell_type": "code",
   "execution_count": 61,
   "metadata": {},
   "outputs": [],
   "source": [
    "dinvgambar_UUL = partialinversemetricUUL(gambar_LL)\n",
    "dGambar_LLLL = partialChristoffelLLLL(gambar_LL)\n",
    "dGambar_ULLL = partialChristoffelULLL(gambar_LL)"
   ]
  },
  {
   "cell_type": "code",
   "execution_count": 62,
   "metadata": {},
   "outputs": [],
   "source": [
    "FullString += dinvgambar_UUL.symb2expr()\n",
    "FullString += dGambar_LLLL.symb2expr()\n",
    "FullString += dGambar_ULLL.symb2expr()"
   ]
  },
  {
   "cell_type": "code",
   "execution_count": 63,
   "metadata": {},
   "outputs": [],
   "source": [
    "CovDDW_ULL = CovariantD(W_U, Gambar_ULL, dstring = 'dDD')"
   ]
  },
  {
   "cell_type": "code",
   "execution_count": 64,
   "metadata": {},
   "outputs": [],
   "source": [
    "FullString += CovDDW_ULL.symb2expr()"
   ]
  },
  {
   "cell_type": "code",
   "execution_count": 65,
   "metadata": {},
   "outputs": [],
   "source": [
    "Abar_UU = stvarrank2('Abar_UU', sym = 'sym01')\n",
    "for i in range(3):\n",
    "    for j in range(3):\n",
    "        Abar_UU.expr[i][j] += CovDW_UU.symb[i][j]+CovDW_UU.symb[j][i] \n",
    "        for k in range(3):\n",
    "            Abar_UU.expr[i][j] += - 2/3*invgambar_UU.symb[i][j]*CovDW_UL.symb[k][k]\n",
    "               \n",
    "Abar_LL = stvarrank2('Abar_LL', sym = 'sym01')\n",
    "for i in range(3):\n",
    "    for j in range(3):\n",
    "        for k in range(3):\n",
    "            for l in range(3):\n",
    "                Abar_LL.expr[i][j] += gambar_LL.symb[i][k]*gambar_LL.symb[j][l]*Abar_UU.symb[k][l] "
   ]
  },
  {
   "cell_type": "code",
   "execution_count": 66,
   "metadata": {},
   "outputs": [],
   "source": [
    "FullString += Abar_UU.symb2expr()\n",
    "FullString += Abar_LL.symb2expr()"
   ]
  },
  {
   "cell_type": "code",
   "execution_count": 67,
   "metadata": {},
   "outputs": [],
   "source": [
    "CovDDPsi_LL = CovariantD(Psi, Gambar_ULL, 'dDD')"
   ]
  },
  {
   "cell_type": "code",
   "execution_count": 68,
   "metadata": {},
   "outputs": [],
   "source": [
    "FullString += CovDDPsi_LL.symb2expr()"
   ]
  },
  {
   "cell_type": "code",
   "execution_count": 69,
   "metadata": {},
   "outputs": [],
   "source": [
    "LapbarPsi = stvar('LapbarPsi')\n",
    "for i in range(3):\n",
    "    for j in range(3):\n",
    "        LapbarPsi.expr += invgambar_UU.symb[i][j]*CovDDPsi_LL.symb[i][j]"
   ]
  },
  {
   "cell_type": "code",
   "execution_count": 70,
   "metadata": {},
   "outputs": [],
   "source": [
    "FullString += LapbarPsi.symb2expr()"
   ]
  },
  {
   "cell_type": "code",
   "execution_count": 71,
   "metadata": {},
   "outputs": [],
   "source": [
    "RHS_Psi = stvar('Psi', gridvar = True, addtolist = False, vartype = 'state_fab', varprefix = 'rhs_fab')\n",
    "RHS_Psi.expr += 8*LapbarPsi.symb - Psi.symb*RiccibarSclr.symb + 16*sp.pi*Psi.symb**(5)*rho.symb\n",
    "for i in range(3):\n",
    "    for j in range(3):\n",
    "        RHS_Psi.expr += Psi.symb**(-7)*Abar_LL.symb[i][j]*Abar_UU.symb[i][j]"
   ]
  },
  {
   "cell_type": "code",
   "execution_count": 72,
   "metadata": {},
   "outputs": [],
   "source": [
    "FullString += RHS_Psi.setisymb()"
   ]
  },
  {
   "cell_type": "code",
   "execution_count": 73,
   "metadata": {},
   "outputs": [],
   "source": [
    "LapbarW_U = stvarrank1('LapbarW_U')\n",
    "for i in range(3):\n",
    "    for k in range(3):\n",
    "        LapbarW_U.expr[i] += CovDDW_ULL.symb[i][k][k]"
   ]
  },
  {
   "cell_type": "code",
   "execution_count": 74,
   "metadata": {},
   "outputs": [],
   "source": [
    "FullString += LapbarW_U.symb2expr()"
   ]
  },
  {
   "cell_type": "code",
   "execution_count": 75,
   "metadata": {},
   "outputs": [],
   "source": [
    "Riccibar_UL = stvarrank2('Riccibar_UL')\n",
    "for i in range(3):\n",
    "    for j in range(3):\n",
    "        for k in range(3):\n",
    "            Riccibar_UL.expr[i][j] += invgambar_UU.symb[i][k]*Riccibar_LL.symb[k][j]"
   ]
  },
  {
   "cell_type": "code",
   "execution_count": 76,
   "metadata": {},
   "outputs": [],
   "source": [
    "FullString += Riccibar_UL.symb2expr()"
   ]
  },
  {
   "cell_type": "code",
   "execution_count": 77,
   "metadata": {},
   "outputs": [],
   "source": [
    "divbarW = stvar('divbarW')\n",
    "for k in range(3):\n",
    "    divbarW.expr += CovDW_UL.symb[k][k]"
   ]
  },
  {
   "cell_type": "code",
   "execution_count": 78,
   "metadata": {},
   "outputs": [],
   "source": [
    "FullString += divbarW.symb2expr()"
   ]
  },
  {
   "cell_type": "code",
   "execution_count": 79,
   "metadata": {},
   "outputs": [],
   "source": [
    "CovDdivbarW_U = stvarrank1('CovDdivbarW_U')\n",
    "for i in range(3):\n",
    "    for j in range(3):\n",
    "        for k in range(3):\n",
    "            CovDdivbarW_U.expr[i] += gambar_LL.symb[i][k]*CovDDW_ULL.symb[j][j][k]"
   ]
  },
  {
   "cell_type": "code",
   "execution_count": 80,
   "metadata": {},
   "outputs": [],
   "source": [
    "FullString += CovDdivbarW_U.symb2expr()"
   ]
  },
  {
   "cell_type": "code",
   "execution_count": 81,
   "metadata": {},
   "outputs": [],
   "source": [
    "DeltaW_U = stvarrank1('DeltaW_U')\n",
    "for i in range(3):\n",
    "    DeltaW_U.expr[i] += LapbarW_U.symb[i] + 1/3*CovDdivbarW_U.symb[i]\n",
    "    for j in range(3):\n",
    "        DeltaW_U.expr[i] += Riccibar_UL.symb[i][j]*W_U.symb[j]"
   ]
  },
  {
   "cell_type": "code",
   "execution_count": 82,
   "metadata": {},
   "outputs": [],
   "source": [
    "FullString += DeltaW_U.symb2expr()"
   ]
  },
  {
   "cell_type": "code",
   "execution_count": 83,
   "metadata": {},
   "outputs": [],
   "source": [
    "RHS_W_U = stvarrank1('W_U',gridvar = True, addtolist = False, vartype = 'state_fab' ,varprefix = 'rhs_fab')\n",
    "RHS_W_U.expr += DeltaW_U.symb-8*sp.pi*Psi.symb**(10)*S_U.symb"
   ]
  },
  {
   "cell_type": "code",
   "execution_count": 84,
   "metadata": {},
   "outputs": [],
   "source": [
    "FullString += RHS_W_U.setisymb()"
   ]
  },
  {
   "cell_type": "code",
   "execution_count": 85,
   "metadata": {},
   "outputs": [],
   "source": [
    "FullString = FullString.replace('state_fabIdx', 'Idx')"
   ]
  },
  {
   "cell_type": "code",
   "execution_count": 86,
   "metadata": {},
   "outputs": [
    {
     "name": "stdout",
     "output_type": "stream",
     "text": [
      "        amrex::Real x = x0;\n",
      "\n",
      "        amrex::Real y = x1;\n",
      "\n",
      "        amrex::Real u = x2;\n",
      "\n",
      "        amrex::Real uh = 0.5;\n",
      "\n",
      "        amrex::Real vboost = 0.5;\n",
      "\n",
      "        amrex::Real gamvboost = std::pow(1 - std::pow(vboost, 2), -1.0/2.0);\n",
      "\n",
      "        amrex::Real PhiRe = state_fab(i, j, k, Idx::PhiRe);\n",
      "\n",
      "        amrex::Real PiPhiRe = state_fab(i, j, k, Idx::PiPhiRe);\n",
      "\n",
      "        amrex::Real PhiIm = state_fab(i, j, k, Idx::PhiIm);\n",
      "\n",
      "        amrex::Real PiPhiIm = state_fab(i, j, k, Idx::PiPhiIm);\n",
      "\n",
      "        amrex::Real AT = state_fab(i, j, k, Idx::AT);\n",
      "\n",
      "        amrex::Real PiAT = state_fab(i, j, k, Idx::PiAT);\n",
      "\n",
      "        amrex::Real A3_L_0 = state_fab(i, j, k, Idx::A3_L_0);\n",
      "        amrex::Real A3_L_1 = state_fab(i, j, k, Idx::A3_L_1);\n",
      "\n",
      "        amrex::Real PiA3_L_0 = state_fab(i, j, k, Idx::PiA3_L_0);\n",
      "        amrex::Real PiA3_L_1 = state_fab(i, j, k, Idx::PiA3_L_1);\n",
      "\n",
      "        amrex::Real Psi = state_fab(i, j, k, Idx::Psi);\n",
      "\n",
      "        amrex::Real W_U_0 = state_fab(i, j, k, Idx::W_U_0);\n",
      "        amrex::Real W_U_1 = state_fab(i, j, k, Idx::W_U_1);\n",
      "        amrex::Real W_U_2 = state_fab(i, j, k, Idx::W_U_2);\n",
      "\n",
      "        amrex::Real alpha = state_fab(i, j, k, Idx::alpha);\n",
      "\n",
      "        amrex::Real beta_U_0 = state_fab(i, j, k, Idx::beta_U_0);\n",
      "        amrex::Real beta_U_1 = state_fab(i, j, k, Idx::beta_U_1);\n",
      "        amrex::Real beta_U_2 = state_fab(i, j, k, Idx::beta_U_2);\n",
      "\n",
      "        amrex::Real gambar_LL_00 = state_fab(i, j, k, Idx::gambar_LL_00);\n",
      "        amrex::Real gambar_LL_01 = state_fab(i, j, k, Idx::gambar_LL_01);\n",
      "        amrex::Real gambar_LL_02 = state_fab(i, j, k, Idx::gambar_LL_02);\n",
      "        amrex::Real gambar_LL_11 = state_fab(i, j, k, Idx::gambar_LL_11);\n",
      "        amrex::Real gambar_LL_12 = state_fab(i, j, k, Idx::gambar_LL_12);\n",
      "        amrex::Real gambar_LL_22 = state_fab(i, j, k, Idx::gambar_LL_22);\n",
      "\n",
      "        amrex::Real dDPhiRe_L_0 = ((1.0/2.0)*state_fab(i + 1, j, k, Idx::PhiRe) - 1.0/2.0*state_fab(i - 1, j, k, Idx::PhiRe))/dx[0];\n",
      "        amrex::Real dDPhiRe_L_1 = ((1.0/2.0)*state_fab(i, j + 1, k, Idx::PhiRe) - 1.0/2.0*state_fab(i, j - 1, k, Idx::PhiRe))/dx[1];\n",
      "        amrex::Real dDPhiRe_L_2 = ((1.0/2.0)*state_fab(i, j, k + 1, Idx::PhiRe) - 1.0/2.0*state_fab(i, j, k - 1, Idx::PhiRe))/dx[2];\n",
      "\n",
      "        amrex::Real dDPhiIm_L_0 = ((1.0/2.0)*state_fab(i + 1, j, k, Idx::PhiIm) - 1.0/2.0*state_fab(i - 1, j, k, Idx::PhiIm))/dx[0];\n",
      "        amrex::Real dDPhiIm_L_1 = ((1.0/2.0)*state_fab(i, j + 1, k, Idx::PhiIm) - 1.0/2.0*state_fab(i, j - 1, k, Idx::PhiIm))/dx[1];\n",
      "        amrex::Real dDPhiIm_L_2 = ((1.0/2.0)*state_fab(i, j, k + 1, Idx::PhiIm) - 1.0/2.0*state_fab(i, j, k - 1, Idx::PhiIm))/dx[2];\n",
      "\n",
      "        amrex::Real dDA3_LL_00 = ((1.0/2.0)*state_fab(i + 1, j, k, Idx::A3_L_0) - 1.0/2.0*state_fab(i - 1, j, k, Idx::A3_L_0))/dx[0];\n",
      "        amrex::Real dDA3_LL_01 = ((1.0/2.0)*state_fab(i, j + 1, k, Idx::A3_L_0) - 1.0/2.0*state_fab(i, j - 1, k, Idx::A3_L_0))/dx[1];\n",
      "        amrex::Real dDA3_LL_02 = ((1.0/2.0)*state_fab(i, j, k + 1, Idx::A3_L_0) - 1.0/2.0*state_fab(i, j, k - 1, Idx::A3_L_0))/dx[2];\n",
      "        amrex::Real dDA3_LL_10 = ((1.0/2.0)*state_fab(i + 1, j, k, Idx::A3_L_1) - 1.0/2.0*state_fab(i - 1, j, k, Idx::A3_L_1))/dx[0];\n",
      "        amrex::Real dDA3_LL_11 = ((1.0/2.0)*state_fab(i, j + 1, k, Idx::A3_L_1) - 1.0/2.0*state_fab(i, j - 1, k, Idx::A3_L_1))/dx[1];\n",
      "        amrex::Real dDA3_LL_12 = ((1.0/2.0)*state_fab(i, j, k + 1, Idx::A3_L_1) - 1.0/2.0*state_fab(i, j, k - 1, Idx::A3_L_1))/dx[2];\n",
      "\n",
      "        amrex::Real dDAT_L_0 = ((1.0/2.0)*state_fab(i + 1, j, k, Idx::AT) - 1.0/2.0*state_fab(i - 1, j, k, Idx::AT))/dx[0];\n",
      "        amrex::Real dDAT_L_1 = ((1.0/2.0)*state_fab(i, j + 1, k, Idx::AT) - 1.0/2.0*state_fab(i, j - 1, k, Idx::AT))/dx[1];\n",
      "        amrex::Real dDAT_L_2 = ((1.0/2.0)*state_fab(i, j, k + 1, Idx::AT) - 1.0/2.0*state_fab(i, j, k - 1, Idx::AT))/dx[2];\n",
      "\n",
      "        amrex::Real dDPsi_L_0 = ((1.0/2.0)*state_fab(i + 1, j, k, Idx::Psi) - 1.0/2.0*state_fab(i - 1, j, k, Idx::Psi))/dx[0];\n",
      "        amrex::Real dDPsi_L_1 = ((1.0/2.0)*state_fab(i, j + 1, k, Idx::Psi) - 1.0/2.0*state_fab(i, j - 1, k, Idx::Psi))/dx[1];\n",
      "        amrex::Real dDPsi_L_2 = ((1.0/2.0)*state_fab(i, j, k + 1, Idx::Psi) - 1.0/2.0*state_fab(i, j, k - 1, Idx::Psi))/dx[2];\n",
      "\n",
      "        amrex::Real dDDPsi_LL_00 = (state_fab(i + 1, j, k, Idx::Psi) + state_fab(i - 1, j, k, Idx::Psi) - 2*state_fab(i, j, k, Idx::Psi))/std::pow(dx[0], 2);\n",
      "        amrex::Real dDDPsi_LL_01 = ((1.0/4.0)*state_fab(i + 1, j + 1, k, Idx::Psi) - 1.0/4.0*state_fab(i + 1, j - 1, k, Idx::Psi) - 1.0/4.0*state_fab(i - 1, j + 1, k, Idx::Psi) + (1.0/4.0)*state_fab(i - 1, j - 1, k, Idx::Psi))/(dx[0]*dx[1]);\n",
      "        amrex::Real dDDPsi_LL_02 = ((1.0/4.0)*state_fab(i + 1, j, k + 1, Idx::Psi) - 1.0/4.0*state_fab(i + 1, j, k - 1, Idx::Psi) - 1.0/4.0*state_fab(i - 1, j, k + 1, Idx::Psi) + (1.0/4.0)*state_fab(i - 1, j, k - 1, Idx::Psi))/(dx[0]*dx[2]);\n",
      "        amrex::Real dDDPsi_LL_11 = (state_fab(i, j + 1, k, Idx::Psi) + state_fab(i, j - 1, k, Idx::Psi) - 2*state_fab(i, j, k, Idx::Psi))/std::pow(dx[1], 2);\n",
      "        amrex::Real dDDPsi_LL_12 = ((1.0/4.0)*state_fab(i, j + 1, k + 1, Idx::Psi) - 1.0/4.0*state_fab(i, j + 1, k - 1, Idx::Psi) - 1.0/4.0*state_fab(i, j - 1, k + 1, Idx::Psi) + (1.0/4.0)*state_fab(i, j - 1, k - 1, Idx::Psi))/(dx[1]*dx[2]);\n",
      "        amrex::Real dDDPsi_LL_22 = (state_fab(i, j, k + 1, Idx::Psi) + state_fab(i, j, k - 1, Idx::Psi) - 2*state_fab(i, j, k, Idx::Psi))/std::pow(dx[2], 2);\n",
      "\n",
      "        amrex::Real dDW_UL_00 = ((1.0/2.0)*state_fab(i + 1, j, k, Idx::W_U_0) - 1.0/2.0*state_fab(i - 1, j, k, Idx::W_U_0))/dx[0];\n",
      "        amrex::Real dDW_UL_01 = ((1.0/2.0)*state_fab(i, j + 1, k, Idx::W_U_0) - 1.0/2.0*state_fab(i, j - 1, k, Idx::W_U_0))/dx[1];\n",
      "        amrex::Real dDW_UL_02 = ((1.0/2.0)*state_fab(i, j, k + 1, Idx::W_U_0) - 1.0/2.0*state_fab(i, j, k - 1, Idx::W_U_0))/dx[2];\n",
      "        amrex::Real dDW_UL_10 = ((1.0/2.0)*state_fab(i + 1, j, k, Idx::W_U_1) - 1.0/2.0*state_fab(i - 1, j, k, Idx::W_U_1))/dx[0];\n",
      "        amrex::Real dDW_UL_11 = ((1.0/2.0)*state_fab(i, j + 1, k, Idx::W_U_1) - 1.0/2.0*state_fab(i, j - 1, k, Idx::W_U_1))/dx[1];\n",
      "        amrex::Real dDW_UL_12 = ((1.0/2.0)*state_fab(i, j, k + 1, Idx::W_U_1) - 1.0/2.0*state_fab(i, j, k - 1, Idx::W_U_1))/dx[2];\n",
      "        amrex::Real dDW_UL_20 = ((1.0/2.0)*state_fab(i + 1, j, k, Idx::W_U_2) - 1.0/2.0*state_fab(i - 1, j, k, Idx::W_U_2))/dx[0];\n",
      "        amrex::Real dDW_UL_21 = ((1.0/2.0)*state_fab(i, j + 1, k, Idx::W_U_2) - 1.0/2.0*state_fab(i, j - 1, k, Idx::W_U_2))/dx[1];\n",
      "        amrex::Real dDW_UL_22 = ((1.0/2.0)*state_fab(i, j, k + 1, Idx::W_U_2) - 1.0/2.0*state_fab(i, j, k - 1, Idx::W_U_2))/dx[2];\n",
      "\n",
      "        amrex::Real dDDW_ULL_000 = (state_fab(i + 1, j, k, Idx::W_U_0) + state_fab(i - 1, j, k, Idx::W_U_0) - 2*state_fab(i, j, k, Idx::W_U_0))/std::pow(dx[0], 2);\n",
      "        amrex::Real dDDW_ULL_001 = ((1.0/4.0)*state_fab(i + 1, j + 1, k, Idx::W_U_0) - 1.0/4.0*state_fab(i + 1, j - 1, k, Idx::W_U_0) - 1.0/4.0*state_fab(i - 1, j + 1, k, Idx::W_U_0) + (1.0/4.0)*state_fab(i - 1, j - 1, k, Idx::W_U_0))/(dx[0]*dx[1]);\n",
      "        amrex::Real dDDW_ULL_002 = ((1.0/4.0)*state_fab(i + 1, j, k + 1, Idx::W_U_0) - 1.0/4.0*state_fab(i + 1, j, k - 1, Idx::W_U_0) - 1.0/4.0*state_fab(i - 1, j, k + 1, Idx::W_U_0) + (1.0/4.0)*state_fab(i - 1, j, k - 1, Idx::W_U_0))/(dx[0]*dx[2]);\n",
      "        amrex::Real dDDW_ULL_011 = (state_fab(i, j + 1, k, Idx::W_U_0) + state_fab(i, j - 1, k, Idx::W_U_0) - 2*state_fab(i, j, k, Idx::W_U_0))/std::pow(dx[1], 2);\n",
      "        amrex::Real dDDW_ULL_012 = ((1.0/4.0)*state_fab(i, j + 1, k + 1, Idx::W_U_0) - 1.0/4.0*state_fab(i, j + 1, k - 1, Idx::W_U_0) - 1.0/4.0*state_fab(i, j - 1, k + 1, Idx::W_U_0) + (1.0/4.0)*state_fab(i, j - 1, k - 1, Idx::W_U_0))/(dx[1]*dx[2]);\n",
      "        amrex::Real dDDW_ULL_022 = (state_fab(i, j, k + 1, Idx::W_U_0) + state_fab(i, j, k - 1, Idx::W_U_0) - 2*state_fab(i, j, k, Idx::W_U_0))/std::pow(dx[2], 2);\n",
      "        amrex::Real dDDW_ULL_100 = (state_fab(i + 1, j, k, Idx::W_U_1) + state_fab(i - 1, j, k, Idx::W_U_1) - 2*state_fab(i, j, k, Idx::W_U_1))/std::pow(dx[0], 2);\n",
      "        amrex::Real dDDW_ULL_101 = ((1.0/4.0)*state_fab(i + 1, j + 1, k, Idx::W_U_1) - 1.0/4.0*state_fab(i + 1, j - 1, k, Idx::W_U_1) - 1.0/4.0*state_fab(i - 1, j + 1, k, Idx::W_U_1) + (1.0/4.0)*state_fab(i - 1, j - 1, k, Idx::W_U_1))/(dx[0]*dx[1]);\n",
      "        amrex::Real dDDW_ULL_102 = ((1.0/4.0)*state_fab(i + 1, j, k + 1, Idx::W_U_1) - 1.0/4.0*state_fab(i + 1, j, k - 1, Idx::W_U_1) - 1.0/4.0*state_fab(i - 1, j, k + 1, Idx::W_U_1) + (1.0/4.0)*state_fab(i - 1, j, k - 1, Idx::W_U_1))/(dx[0]*dx[2]);\n",
      "        amrex::Real dDDW_ULL_111 = (state_fab(i, j + 1, k, Idx::W_U_1) + state_fab(i, j - 1, k, Idx::W_U_1) - 2*state_fab(i, j, k, Idx::W_U_1))/std::pow(dx[1], 2);\n",
      "        amrex::Real dDDW_ULL_112 = ((1.0/4.0)*state_fab(i, j + 1, k + 1, Idx::W_U_1) - 1.0/4.0*state_fab(i, j + 1, k - 1, Idx::W_U_1) - 1.0/4.0*state_fab(i, j - 1, k + 1, Idx::W_U_1) + (1.0/4.0)*state_fab(i, j - 1, k - 1, Idx::W_U_1))/(dx[1]*dx[2]);\n",
      "        amrex::Real dDDW_ULL_122 = (state_fab(i, j, k + 1, Idx::W_U_1) + state_fab(i, j, k - 1, Idx::W_U_1) - 2*state_fab(i, j, k, Idx::W_U_1))/std::pow(dx[2], 2);\n",
      "        amrex::Real dDDW_ULL_200 = (state_fab(i + 1, j, k, Idx::W_U_2) + state_fab(i - 1, j, k, Idx::W_U_2) - 2*state_fab(i, j, k, Idx::W_U_2))/std::pow(dx[0], 2);\n",
      "        amrex::Real dDDW_ULL_201 = ((1.0/4.0)*state_fab(i + 1, j + 1, k, Idx::W_U_2) - 1.0/4.0*state_fab(i + 1, j - 1, k, Idx::W_U_2) - 1.0/4.0*state_fab(i - 1, j + 1, k, Idx::W_U_2) + (1.0/4.0)*state_fab(i - 1, j - 1, k, Idx::W_U_2))/(dx[0]*dx[1]);\n",
      "        amrex::Real dDDW_ULL_202 = ((1.0/4.0)*state_fab(i + 1, j, k + 1, Idx::W_U_2) - 1.0/4.0*state_fab(i + 1, j, k - 1, Idx::W_U_2) - 1.0/4.0*state_fab(i - 1, j, k + 1, Idx::W_U_2) + (1.0/4.0)*state_fab(i - 1, j, k - 1, Idx::W_U_2))/(dx[0]*dx[2]);\n",
      "        amrex::Real dDDW_ULL_211 = (state_fab(i, j + 1, k, Idx::W_U_2) + state_fab(i, j - 1, k, Idx::W_U_2) - 2*state_fab(i, j, k, Idx::W_U_2))/std::pow(dx[1], 2);\n",
      "        amrex::Real dDDW_ULL_212 = ((1.0/4.0)*state_fab(i, j + 1, k + 1, Idx::W_U_2) - 1.0/4.0*state_fab(i, j + 1, k - 1, Idx::W_U_2) - 1.0/4.0*state_fab(i, j - 1, k + 1, Idx::W_U_2) + (1.0/4.0)*state_fab(i, j - 1, k - 1, Idx::W_U_2))/(dx[1]*dx[2]);\n",
      "        amrex::Real dDDW_ULL_222 = (state_fab(i, j, k + 1, Idx::W_U_2) + state_fab(i, j, k - 1, Idx::W_U_2) - 2*state_fab(i, j, k, Idx::W_U_2))/std::pow(dx[2], 2);\n",
      "\n",
      "        amrex::Real dDgambar_LLL_000 = ((1.0/2.0)*state_fab(i + 1, j, k, Idx::gambar_LL_00) - 1.0/2.0*state_fab(i - 1, j, k, Idx::gambar_LL_00))/dx[0];\n",
      "        amrex::Real dDgambar_LLL_001 = ((1.0/2.0)*state_fab(i, j + 1, k, Idx::gambar_LL_00) - 1.0/2.0*state_fab(i, j - 1, k, Idx::gambar_LL_00))/dx[1];\n",
      "        amrex::Real dDgambar_LLL_002 = ((1.0/2.0)*state_fab(i, j, k + 1, Idx::gambar_LL_00) - 1.0/2.0*state_fab(i, j, k - 1, Idx::gambar_LL_00))/dx[2];\n",
      "        amrex::Real dDgambar_LLL_010 = ((1.0/2.0)*state_fab(i + 1, j, k, Idx::gambar_LL_01) - 1.0/2.0*state_fab(i - 1, j, k, Idx::gambar_LL_01))/dx[0];\n",
      "        amrex::Real dDgambar_LLL_011 = ((1.0/2.0)*state_fab(i, j + 1, k, Idx::gambar_LL_01) - 1.0/2.0*state_fab(i, j - 1, k, Idx::gambar_LL_01))/dx[1];\n",
      "        amrex::Real dDgambar_LLL_012 = ((1.0/2.0)*state_fab(i, j, k + 1, Idx::gambar_LL_01) - 1.0/2.0*state_fab(i, j, k - 1, Idx::gambar_LL_01))/dx[2];\n",
      "        amrex::Real dDgambar_LLL_020 = ((1.0/2.0)*state_fab(i + 1, j, k, Idx::gambar_LL_02) - 1.0/2.0*state_fab(i - 1, j, k, Idx::gambar_LL_02))/dx[0];\n",
      "        amrex::Real dDgambar_LLL_021 = ((1.0/2.0)*state_fab(i, j + 1, k, Idx::gambar_LL_02) - 1.0/2.0*state_fab(i, j - 1, k, Idx::gambar_LL_02))/dx[1];\n",
      "        amrex::Real dDgambar_LLL_022 = ((1.0/2.0)*state_fab(i, j, k + 1, Idx::gambar_LL_02) - 1.0/2.0*state_fab(i, j, k - 1, Idx::gambar_LL_02))/dx[2];\n",
      "        amrex::Real dDgambar_LLL_110 = ((1.0/2.0)*state_fab(i + 1, j, k, Idx::gambar_LL_11) - 1.0/2.0*state_fab(i - 1, j, k, Idx::gambar_LL_11))/dx[0];\n",
      "        amrex::Real dDgambar_LLL_111 = ((1.0/2.0)*state_fab(i, j + 1, k, Idx::gambar_LL_11) - 1.0/2.0*state_fab(i, j - 1, k, Idx::gambar_LL_11))/dx[1];\n",
      "        amrex::Real dDgambar_LLL_112 = ((1.0/2.0)*state_fab(i, j, k + 1, Idx::gambar_LL_11) - 1.0/2.0*state_fab(i, j, k - 1, Idx::gambar_LL_11))/dx[2];\n",
      "        amrex::Real dDgambar_LLL_120 = ((1.0/2.0)*state_fab(i + 1, j, k, Idx::gambar_LL_12) - 1.0/2.0*state_fab(i - 1, j, k, Idx::gambar_LL_12))/dx[0];\n",
      "        amrex::Real dDgambar_LLL_121 = ((1.0/2.0)*state_fab(i, j + 1, k, Idx::gambar_LL_12) - 1.0/2.0*state_fab(i, j - 1, k, Idx::gambar_LL_12))/dx[1];\n",
      "        amrex::Real dDgambar_LLL_122 = ((1.0/2.0)*state_fab(i, j, k + 1, Idx::gambar_LL_12) - 1.0/2.0*state_fab(i, j, k - 1, Idx::gambar_LL_12))/dx[2];\n",
      "        amrex::Real dDgambar_LLL_220 = ((1.0/2.0)*state_fab(i + 1, j, k, Idx::gambar_LL_22) - 1.0/2.0*state_fab(i - 1, j, k, Idx::gambar_LL_22))/dx[0];\n",
      "        amrex::Real dDgambar_LLL_221 = ((1.0/2.0)*state_fab(i, j + 1, k, Idx::gambar_LL_22) - 1.0/2.0*state_fab(i, j - 1, k, Idx::gambar_LL_22))/dx[1];\n",
      "        amrex::Real dDgambar_LLL_222 = ((1.0/2.0)*state_fab(i, j, k + 1, Idx::gambar_LL_22) - 1.0/2.0*state_fab(i, j, k - 1, Idx::gambar_LL_22))/dx[2];\n",
      "\n",
      "        amrex::Real dDDgambar_LLLL_0000 = (state_fab(i + 1, j, k, Idx::gambar_LL_00) + state_fab(i - 1, j, k, Idx::gambar_LL_00) - 2*state_fab(i, j, k, Idx::gambar_LL_00))/std::pow(dx[0], 2);\n",
      "        amrex::Real dDDgambar_LLLL_0001 = ((1.0/4.0)*state_fab(i + 1, j + 1, k, Idx::gambar_LL_00) - 1.0/4.0*state_fab(i + 1, j - 1, k, Idx::gambar_LL_00) - 1.0/4.0*state_fab(i - 1, j + 1, k, Idx::gambar_LL_00) + (1.0/4.0)*state_fab(i - 1, j - 1, k, Idx::gambar_LL_00))/(dx[0]*dx[1]);\n",
      "        amrex::Real dDDgambar_LLLL_0002 = ((1.0/4.0)*state_fab(i + 1, j, k + 1, Idx::gambar_LL_00) - 1.0/4.0*state_fab(i + 1, j, k - 1, Idx::gambar_LL_00) - 1.0/4.0*state_fab(i - 1, j, k + 1, Idx::gambar_LL_00) + (1.0/4.0)*state_fab(i - 1, j, k - 1, Idx::gambar_LL_00))/(dx[0]*dx[2]);\n",
      "        amrex::Real dDDgambar_LLLL_0011 = (state_fab(i, j + 1, k, Idx::gambar_LL_00) + state_fab(i, j - 1, k, Idx::gambar_LL_00) - 2*state_fab(i, j, k, Idx::gambar_LL_00))/std::pow(dx[1], 2);\n",
      "        amrex::Real dDDgambar_LLLL_0012 = ((1.0/4.0)*state_fab(i, j + 1, k + 1, Idx::gambar_LL_00) - 1.0/4.0*state_fab(i, j + 1, k - 1, Idx::gambar_LL_00) - 1.0/4.0*state_fab(i, j - 1, k + 1, Idx::gambar_LL_00) + (1.0/4.0)*state_fab(i, j - 1, k - 1, Idx::gambar_LL_00))/(dx[1]*dx[2]);\n",
      "        amrex::Real dDDgambar_LLLL_0022 = (state_fab(i, j, k + 1, Idx::gambar_LL_00) + state_fab(i, j, k - 1, Idx::gambar_LL_00) - 2*state_fab(i, j, k, Idx::gambar_LL_00))/std::pow(dx[2], 2);\n",
      "        amrex::Real dDDgambar_LLLL_0100 = (state_fab(i + 1, j, k, Idx::gambar_LL_01) + state_fab(i - 1, j, k, Idx::gambar_LL_01) - 2*state_fab(i, j, k, Idx::gambar_LL_01))/std::pow(dx[0], 2);\n",
      "        amrex::Real dDDgambar_LLLL_0101 = ((1.0/4.0)*state_fab(i + 1, j + 1, k, Idx::gambar_LL_01) - 1.0/4.0*state_fab(i + 1, j - 1, k, Idx::gambar_LL_01) - 1.0/4.0*state_fab(i - 1, j + 1, k, Idx::gambar_LL_01) + (1.0/4.0)*state_fab(i - 1, j - 1, k, Idx::gambar_LL_01))/(dx[0]*dx[1]);\n",
      "        amrex::Real dDDgambar_LLLL_0102 = ((1.0/4.0)*state_fab(i + 1, j, k + 1, Idx::gambar_LL_01) - 1.0/4.0*state_fab(i + 1, j, k - 1, Idx::gambar_LL_01) - 1.0/4.0*state_fab(i - 1, j, k + 1, Idx::gambar_LL_01) + (1.0/4.0)*state_fab(i - 1, j, k - 1, Idx::gambar_LL_01))/(dx[0]*dx[2]);\n",
      "        amrex::Real dDDgambar_LLLL_0111 = (state_fab(i, j + 1, k, Idx::gambar_LL_01) + state_fab(i, j - 1, k, Idx::gambar_LL_01) - 2*state_fab(i, j, k, Idx::gambar_LL_01))/std::pow(dx[1], 2);\n",
      "        amrex::Real dDDgambar_LLLL_0112 = ((1.0/4.0)*state_fab(i, j + 1, k + 1, Idx::gambar_LL_01) - 1.0/4.0*state_fab(i, j + 1, k - 1, Idx::gambar_LL_01) - 1.0/4.0*state_fab(i, j - 1, k + 1, Idx::gambar_LL_01) + (1.0/4.0)*state_fab(i, j - 1, k - 1, Idx::gambar_LL_01))/(dx[1]*dx[2]);\n",
      "        amrex::Real dDDgambar_LLLL_0122 = (state_fab(i, j, k + 1, Idx::gambar_LL_01) + state_fab(i, j, k - 1, Idx::gambar_LL_01) - 2*state_fab(i, j, k, Idx::gambar_LL_01))/std::pow(dx[2], 2);\n",
      "        amrex::Real dDDgambar_LLLL_0200 = (state_fab(i + 1, j, k, Idx::gambar_LL_02) + state_fab(i - 1, j, k, Idx::gambar_LL_02) - 2*state_fab(i, j, k, Idx::gambar_LL_02))/std::pow(dx[0], 2);\n",
      "        amrex::Real dDDgambar_LLLL_0201 = ((1.0/4.0)*state_fab(i + 1, j + 1, k, Idx::gambar_LL_02) - 1.0/4.0*state_fab(i + 1, j - 1, k, Idx::gambar_LL_02) - 1.0/4.0*state_fab(i - 1, j + 1, k, Idx::gambar_LL_02) + (1.0/4.0)*state_fab(i - 1, j - 1, k, Idx::gambar_LL_02))/(dx[0]*dx[1]);\n",
      "        amrex::Real dDDgambar_LLLL_0202 = ((1.0/4.0)*state_fab(i + 1, j, k + 1, Idx::gambar_LL_02) - 1.0/4.0*state_fab(i + 1, j, k - 1, Idx::gambar_LL_02) - 1.0/4.0*state_fab(i - 1, j, k + 1, Idx::gambar_LL_02) + (1.0/4.0)*state_fab(i - 1, j, k - 1, Idx::gambar_LL_02))/(dx[0]*dx[2]);\n",
      "        amrex::Real dDDgambar_LLLL_0211 = (state_fab(i, j + 1, k, Idx::gambar_LL_02) + state_fab(i, j - 1, k, Idx::gambar_LL_02) - 2*state_fab(i, j, k, Idx::gambar_LL_02))/std::pow(dx[1], 2);\n",
      "        amrex::Real dDDgambar_LLLL_0212 = ((1.0/4.0)*state_fab(i, j + 1, k + 1, Idx::gambar_LL_02) - 1.0/4.0*state_fab(i, j + 1, k - 1, Idx::gambar_LL_02) - 1.0/4.0*state_fab(i, j - 1, k + 1, Idx::gambar_LL_02) + (1.0/4.0)*state_fab(i, j - 1, k - 1, Idx::gambar_LL_02))/(dx[1]*dx[2]);\n",
      "        amrex::Real dDDgambar_LLLL_0222 = (state_fab(i, j, k + 1, Idx::gambar_LL_02) + state_fab(i, j, k - 1, Idx::gambar_LL_02) - 2*state_fab(i, j, k, Idx::gambar_LL_02))/std::pow(dx[2], 2);\n",
      "        amrex::Real dDDgambar_LLLL_1100 = (state_fab(i + 1, j, k, Idx::gambar_LL_11) + state_fab(i - 1, j, k, Idx::gambar_LL_11) - 2*state_fab(i, j, k, Idx::gambar_LL_11))/std::pow(dx[0], 2);\n",
      "        amrex::Real dDDgambar_LLLL_1101 = ((1.0/4.0)*state_fab(i + 1, j + 1, k, Idx::gambar_LL_11) - 1.0/4.0*state_fab(i + 1, j - 1, k, Idx::gambar_LL_11) - 1.0/4.0*state_fab(i - 1, j + 1, k, Idx::gambar_LL_11) + (1.0/4.0)*state_fab(i - 1, j - 1, k, Idx::gambar_LL_11))/(dx[0]*dx[1]);\n",
      "        amrex::Real dDDgambar_LLLL_1102 = ((1.0/4.0)*state_fab(i + 1, j, k + 1, Idx::gambar_LL_11) - 1.0/4.0*state_fab(i + 1, j, k - 1, Idx::gambar_LL_11) - 1.0/4.0*state_fab(i - 1, j, k + 1, Idx::gambar_LL_11) + (1.0/4.0)*state_fab(i - 1, j, k - 1, Idx::gambar_LL_11))/(dx[0]*dx[2]);\n",
      "        amrex::Real dDDgambar_LLLL_1111 = (state_fab(i, j + 1, k, Idx::gambar_LL_11) + state_fab(i, j - 1, k, Idx::gambar_LL_11) - 2*state_fab(i, j, k, Idx::gambar_LL_11))/std::pow(dx[1], 2);\n",
      "        amrex::Real dDDgambar_LLLL_1112 = ((1.0/4.0)*state_fab(i, j + 1, k + 1, Idx::gambar_LL_11) - 1.0/4.0*state_fab(i, j + 1, k - 1, Idx::gambar_LL_11) - 1.0/4.0*state_fab(i, j - 1, k + 1, Idx::gambar_LL_11) + (1.0/4.0)*state_fab(i, j - 1, k - 1, Idx::gambar_LL_11))/(dx[1]*dx[2]);\n",
      "        amrex::Real dDDgambar_LLLL_1122 = (state_fab(i, j, k + 1, Idx::gambar_LL_11) + state_fab(i, j, k - 1, Idx::gambar_LL_11) - 2*state_fab(i, j, k, Idx::gambar_LL_11))/std::pow(dx[2], 2);\n",
      "        amrex::Real dDDgambar_LLLL_1200 = (state_fab(i + 1, j, k, Idx::gambar_LL_12) + state_fab(i - 1, j, k, Idx::gambar_LL_12) - 2*state_fab(i, j, k, Idx::gambar_LL_12))/std::pow(dx[0], 2);\n",
      "        amrex::Real dDDgambar_LLLL_1201 = ((1.0/4.0)*state_fab(i + 1, j + 1, k, Idx::gambar_LL_12) - 1.0/4.0*state_fab(i + 1, j - 1, k, Idx::gambar_LL_12) - 1.0/4.0*state_fab(i - 1, j + 1, k, Idx::gambar_LL_12) + (1.0/4.0)*state_fab(i - 1, j - 1, k, Idx::gambar_LL_12))/(dx[0]*dx[1]);\n",
      "        amrex::Real dDDgambar_LLLL_1202 = ((1.0/4.0)*state_fab(i + 1, j, k + 1, Idx::gambar_LL_12) - 1.0/4.0*state_fab(i + 1, j, k - 1, Idx::gambar_LL_12) - 1.0/4.0*state_fab(i - 1, j, k + 1, Idx::gambar_LL_12) + (1.0/4.0)*state_fab(i - 1, j, k - 1, Idx::gambar_LL_12))/(dx[0]*dx[2]);\n",
      "        amrex::Real dDDgambar_LLLL_1211 = (state_fab(i, j + 1, k, Idx::gambar_LL_12) + state_fab(i, j - 1, k, Idx::gambar_LL_12) - 2*state_fab(i, j, k, Idx::gambar_LL_12))/std::pow(dx[1], 2);\n",
      "        amrex::Real dDDgambar_LLLL_1212 = ((1.0/4.0)*state_fab(i, j + 1, k + 1, Idx::gambar_LL_12) - 1.0/4.0*state_fab(i, j + 1, k - 1, Idx::gambar_LL_12) - 1.0/4.0*state_fab(i, j - 1, k + 1, Idx::gambar_LL_12) + (1.0/4.0)*state_fab(i, j - 1, k - 1, Idx::gambar_LL_12))/(dx[1]*dx[2]);\n",
      "        amrex::Real dDDgambar_LLLL_1222 = (state_fab(i, j, k + 1, Idx::gambar_LL_12) + state_fab(i, j, k - 1, Idx::gambar_LL_12) - 2*state_fab(i, j, k, Idx::gambar_LL_12))/std::pow(dx[2], 2);\n",
      "        amrex::Real dDDgambar_LLLL_2200 = (state_fab(i + 1, j, k, Idx::gambar_LL_22) + state_fab(i - 1, j, k, Idx::gambar_LL_22) - 2*state_fab(i, j, k, Idx::gambar_LL_22))/std::pow(dx[0], 2);\n",
      "        amrex::Real dDDgambar_LLLL_2201 = ((1.0/4.0)*state_fab(i + 1, j + 1, k, Idx::gambar_LL_22) - 1.0/4.0*state_fab(i + 1, j - 1, k, Idx::gambar_LL_22) - 1.0/4.0*state_fab(i - 1, j + 1, k, Idx::gambar_LL_22) + (1.0/4.0)*state_fab(i - 1, j - 1, k, Idx::gambar_LL_22))/(dx[0]*dx[1]);\n",
      "        amrex::Real dDDgambar_LLLL_2202 = ((1.0/4.0)*state_fab(i + 1, j, k + 1, Idx::gambar_LL_22) - 1.0/4.0*state_fab(i + 1, j, k - 1, Idx::gambar_LL_22) - 1.0/4.0*state_fab(i - 1, j, k + 1, Idx::gambar_LL_22) + (1.0/4.0)*state_fab(i - 1, j, k - 1, Idx::gambar_LL_22))/(dx[0]*dx[2]);\n",
      "        amrex::Real dDDgambar_LLLL_2211 = (state_fab(i, j + 1, k, Idx::gambar_LL_22) + state_fab(i, j - 1, k, Idx::gambar_LL_22) - 2*state_fab(i, j, k, Idx::gambar_LL_22))/std::pow(dx[1], 2);\n",
      "        amrex::Real dDDgambar_LLLL_2212 = ((1.0/4.0)*state_fab(i, j + 1, k + 1, Idx::gambar_LL_22) - 1.0/4.0*state_fab(i, j + 1, k - 1, Idx::gambar_LL_22) - 1.0/4.0*state_fab(i, j - 1, k + 1, Idx::gambar_LL_22) + (1.0/4.0)*state_fab(i, j - 1, k - 1, Idx::gambar_LL_22))/(dx[1]*dx[2]);\n",
      "        amrex::Real dDDgambar_LLLL_2222 = (state_fab(i, j, k + 1, Idx::gambar_LL_22) + state_fab(i, j, k - 1, Idx::gambar_LL_22) - 2*state_fab(i, j, k, Idx::gambar_LL_22))/std::pow(dx[2], 2);\n",
      "\n",
      "        amrex::Real dDPhiRe4_L_0 = dDPhiRe_L_0;\n",
      "        amrex::Real dDPhiRe4_L_1 = dDPhiRe_L_1;\n",
      "        amrex::Real dDPhiRe4_L_2 = dDPhiRe_L_2;\n",
      "        amrex::Real dDPhiRe4_L_3 = PiPhiRe;\n",
      "\n",
      "        amrex::Real dDPhiIm4_L_0 = dDPhiIm_L_0;\n",
      "        amrex::Real dDPhiIm4_L_1 = dDPhiIm_L_1;\n",
      "        amrex::Real dDPhiIm4_L_2 = dDPhiIm_L_2;\n",
      "        amrex::Real dDPhiIm4_L_3 = PiPhiIm;\n",
      "\n",
      "        amrex::Real dDAT4_L_0 = dDAT_L_0;\n",
      "        amrex::Real dDAT4_L_1 = dDAT_L_1;\n",
      "        amrex::Real dDAT4_L_2 = dDAT_L_2;\n",
      "        amrex::Real dDAT4_L_3 = PiAT;\n",
      "\n",
      "        amrex::Real invgambar_UU_00 = (gambar_LL_11*gambar_LL_22 - std::pow(gambar_LL_12, 2))/(gambar_LL_00*gambar_LL_11*gambar_LL_22 - gambar_LL_00*std::pow(gambar_LL_12, 2) - std::pow(gambar_LL_01, 2)*gambar_LL_22 + 2*gambar_LL_01*gambar_LL_02*gambar_LL_12 - std::pow(gambar_LL_02, 2)*gambar_LL_11);\n",
      "        amrex::Real invgambar_UU_01 = (-gambar_LL_01*gambar_LL_22 + gambar_LL_02*gambar_LL_12)/(gambar_LL_00*gambar_LL_11*gambar_LL_22 - gambar_LL_00*std::pow(gambar_LL_12, 2) - std::pow(gambar_LL_01, 2)*gambar_LL_22 + 2*gambar_LL_01*gambar_LL_02*gambar_LL_12 - std::pow(gambar_LL_02, 2)*gambar_LL_11);\n",
      "        amrex::Real invgambar_UU_02 = (gambar_LL_01*gambar_LL_12 - gambar_LL_02*gambar_LL_11)/(gambar_LL_00*gambar_LL_11*gambar_LL_22 - gambar_LL_00*std::pow(gambar_LL_12, 2) - std::pow(gambar_LL_01, 2)*gambar_LL_22 + 2*gambar_LL_01*gambar_LL_02*gambar_LL_12 - std::pow(gambar_LL_02, 2)*gambar_LL_11);\n",
      "        amrex::Real invgambar_UU_11 = (gambar_LL_00*gambar_LL_22 - std::pow(gambar_LL_02, 2))/(gambar_LL_00*gambar_LL_11*gambar_LL_22 - gambar_LL_00*std::pow(gambar_LL_12, 2) - std::pow(gambar_LL_01, 2)*gambar_LL_22 + 2*gambar_LL_01*gambar_LL_02*gambar_LL_12 - std::pow(gambar_LL_02, 2)*gambar_LL_11);\n",
      "        amrex::Real invgambar_UU_12 = (-gambar_LL_00*gambar_LL_12 + gambar_LL_01*gambar_LL_02)/(gambar_LL_00*gambar_LL_11*gambar_LL_22 - gambar_LL_00*std::pow(gambar_LL_12, 2) - std::pow(gambar_LL_01, 2)*gambar_LL_22 + 2*gambar_LL_01*gambar_LL_02*gambar_LL_12 - std::pow(gambar_LL_02, 2)*gambar_LL_11);\n",
      "        amrex::Real invgambar_UU_22 = (gambar_LL_00*gambar_LL_11 - std::pow(gambar_LL_01, 2))/(gambar_LL_00*gambar_LL_11*gambar_LL_22 - gambar_LL_00*std::pow(gambar_LL_12, 2) - std::pow(gambar_LL_01, 2)*gambar_LL_22 + 2*gambar_LL_01*gambar_LL_02*gambar_LL_12 - std::pow(gambar_LL_02, 2)*gambar_LL_11);\n",
      "\n",
      "        amrex::Real A_L_0 = A3_L_0;\n",
      "        amrex::Real A_L_1 = A3_L_1;\n",
      "        amrex::Real A_L_2 = 0;\n",
      "        amrex::Real A_L_3 = AT;\n",
      "\n",
      "        amrex::Real dDA_LL_00 = dDA_LL_00;\n",
      "        amrex::Real dDA_LL_01 = dDA_LL_01;\n",
      "        amrex::Real dDA_LL_02 = dDA_LL_02;\n",
      "        amrex::Real dDA_LL_03 = PiA3_L_0;\n",
      "        amrex::Real dDA_LL_10 = dDA_LL_10;\n",
      "        amrex::Real dDA_LL_11 = dDA_LL_11;\n",
      "        amrex::Real dDA_LL_12 = dDA_LL_12;\n",
      "        amrex::Real dDA_LL_13 = PiA3_L_1;\n",
      "        amrex::Real dDA_LL_30 = dDAT_L_0;\n",
      "        amrex::Real dDA_LL_31 = dDAT_L_1;\n",
      "        amrex::Real dDA_LL_32 = dDAT_L_2;\n",
      "        amrex::Real dDA_LL_33 = PiAT;\n",
      "\n",
      "        amrex::Real beta_L_0 = beta_U_2*gambar_LL_02;\n",
      "        amrex::Real beta_L_1 = beta_U_2*gambar_LL_12;\n",
      "        amrex::Real beta_L_2 = beta_U_2*gambar_LL_22;\n",
      "\n",
      "        amrex::Real g4_LL_00 = std::pow(Psi, 4)*gambar_LL_00;\n",
      "        amrex::Real g4_LL_01 = std::pow(Psi, 4)*gambar_LL_01;\n",
      "        amrex::Real g4_LL_02 = std::pow(Psi, 4)*gambar_LL_02;\n",
      "        amrex::Real g4_LL_03 = beta_L_0;\n",
      "        amrex::Real g4_LL_11 = std::pow(Psi, 4)*gambar_LL_11;\n",
      "        amrex::Real g4_LL_12 = std::pow(Psi, 4)*gambar_LL_12;\n",
      "        amrex::Real g4_LL_13 = beta_L_1;\n",
      "        amrex::Real g4_LL_22 = std::pow(Psi, 4)*gambar_LL_22;\n",
      "        amrex::Real g4_LL_23 = beta_L_2;\n",
      "        amrex::Real g4_LL_33 = -std::pow(alpha, 2) + beta_L_0*beta_U_0 + beta_L_1*beta_U_1 + beta_L_2*beta_U_2;\n",
      "\n",
      "        amrex::Real invg4_UU_00 = (g4_LL_11*g4_LL_22*g4_LL_33 - g4_LL_11*std::pow(g4_LL_23, 2) - std::pow(g4_LL_12, 2)*g4_LL_33 + 2*g4_LL_12*g4_LL_13*g4_LL_23 - std::pow(g4_LL_13, 2)*g4_LL_22)/(-g4_LL_00*g4_LL_11*std::pow(g4_LL_23, 2) + 2*g4_LL_00*g4_LL_12*g4_LL_13*g4_LL_23 - g4_LL_00*std::pow(g4_LL_13, 2)*g4_LL_22 + std::pow(g4_LL_01, 2)*std::pow(g4_LL_23, 2) - 2*g4_LL_01*g4_LL_02*g4_LL_13*g4_LL_23 + std::pow(g4_LL_02, 2)*std::pow(g4_LL_13, 2) - std::pow(g4_LL_03, 2)*g4_LL_11*g4_LL_22 + std::pow(g4_LL_03, 2)*std::pow(g4_LL_12, 2) + 2*g4_LL_03*(-g4_LL_01*g4_LL_12*g4_LL_23 + g4_LL_01*g4_LL_13*g4_LL_22 + g4_LL_02*g4_LL_11*g4_LL_23 - g4_LL_02*g4_LL_12*g4_LL_13) - g4_LL_33*(-g4_LL_00*g4_LL_11*g4_LL_22 + g4_LL_00*std::pow(g4_LL_12, 2) + std::pow(g4_LL_01, 2)*g4_LL_22 - 2*g4_LL_01*g4_LL_02*g4_LL_12 + std::pow(g4_LL_02, 2)*g4_LL_11));\n",
      "        amrex::Real invg4_UU_01 = (-g4_LL_01*g4_LL_22*g4_LL_33 + g4_LL_01*std::pow(g4_LL_23, 2) + g4_LL_02*g4_LL_12*g4_LL_33 - g4_LL_02*g4_LL_13*g4_LL_23 - g4_LL_03*g4_LL_12*g4_LL_23 + g4_LL_03*g4_LL_13*g4_LL_22)/(-g4_LL_00*g4_LL_11*std::pow(g4_LL_23, 2) + 2*g4_LL_00*g4_LL_12*g4_LL_13*g4_LL_23 - g4_LL_00*std::pow(g4_LL_13, 2)*g4_LL_22 + std::pow(g4_LL_01, 2)*std::pow(g4_LL_23, 2) - 2*g4_LL_01*g4_LL_02*g4_LL_13*g4_LL_23 + std::pow(g4_LL_02, 2)*std::pow(g4_LL_13, 2) - std::pow(g4_LL_03, 2)*g4_LL_11*g4_LL_22 + std::pow(g4_LL_03, 2)*std::pow(g4_LL_12, 2) + 2*g4_LL_03*(-g4_LL_01*g4_LL_12*g4_LL_23 + g4_LL_01*g4_LL_13*g4_LL_22 + g4_LL_02*g4_LL_11*g4_LL_23 - g4_LL_02*g4_LL_12*g4_LL_13) - g4_LL_33*(-g4_LL_00*g4_LL_11*g4_LL_22 + g4_LL_00*std::pow(g4_LL_12, 2) + std::pow(g4_LL_01, 2)*g4_LL_22 - 2*g4_LL_01*g4_LL_02*g4_LL_12 + std::pow(g4_LL_02, 2)*g4_LL_11));\n",
      "        amrex::Real invg4_UU_02 = (g4_LL_01*g4_LL_12*g4_LL_33 - g4_LL_01*g4_LL_13*g4_LL_23 - g4_LL_02*g4_LL_11*g4_LL_33 + g4_LL_02*std::pow(g4_LL_13, 2) + g4_LL_03*g4_LL_11*g4_LL_23 - g4_LL_03*g4_LL_12*g4_LL_13)/(-g4_LL_00*g4_LL_11*std::pow(g4_LL_23, 2) + 2*g4_LL_00*g4_LL_12*g4_LL_13*g4_LL_23 - g4_LL_00*std::pow(g4_LL_13, 2)*g4_LL_22 + std::pow(g4_LL_01, 2)*std::pow(g4_LL_23, 2) - 2*g4_LL_01*g4_LL_02*g4_LL_13*g4_LL_23 + std::pow(g4_LL_02, 2)*std::pow(g4_LL_13, 2) - std::pow(g4_LL_03, 2)*g4_LL_11*g4_LL_22 + std::pow(g4_LL_03, 2)*std::pow(g4_LL_12, 2) + 2*g4_LL_03*(-g4_LL_01*g4_LL_12*g4_LL_23 + g4_LL_01*g4_LL_13*g4_LL_22 + g4_LL_02*g4_LL_11*g4_LL_23 - g4_LL_02*g4_LL_12*g4_LL_13) - g4_LL_33*(-g4_LL_00*g4_LL_11*g4_LL_22 + g4_LL_00*std::pow(g4_LL_12, 2) + std::pow(g4_LL_01, 2)*g4_LL_22 - 2*g4_LL_01*g4_LL_02*g4_LL_12 + std::pow(g4_LL_02, 2)*g4_LL_11));\n",
      "        amrex::Real invg4_UU_03 = (-g4_LL_01*g4_LL_12*g4_LL_23 + g4_LL_01*g4_LL_13*g4_LL_22 + g4_LL_02*g4_LL_11*g4_LL_23 - g4_LL_02*g4_LL_12*g4_LL_13 - g4_LL_03*g4_LL_11*g4_LL_22 + g4_LL_03*std::pow(g4_LL_12, 2))/(-g4_LL_00*g4_LL_11*std::pow(g4_LL_23, 2) + 2*g4_LL_00*g4_LL_12*g4_LL_13*g4_LL_23 - g4_LL_00*std::pow(g4_LL_13, 2)*g4_LL_22 + std::pow(g4_LL_01, 2)*std::pow(g4_LL_23, 2) - 2*g4_LL_01*g4_LL_02*g4_LL_13*g4_LL_23 + std::pow(g4_LL_02, 2)*std::pow(g4_LL_13, 2) - std::pow(g4_LL_03, 2)*g4_LL_11*g4_LL_22 + std::pow(g4_LL_03, 2)*std::pow(g4_LL_12, 2) + 2*g4_LL_03*(-g4_LL_01*g4_LL_12*g4_LL_23 + g4_LL_01*g4_LL_13*g4_LL_22 + g4_LL_02*g4_LL_11*g4_LL_23 - g4_LL_02*g4_LL_12*g4_LL_13) - g4_LL_33*(-g4_LL_00*g4_LL_11*g4_LL_22 + g4_LL_00*std::pow(g4_LL_12, 2) + std::pow(g4_LL_01, 2)*g4_LL_22 - 2*g4_LL_01*g4_LL_02*g4_LL_12 + std::pow(g4_LL_02, 2)*g4_LL_11));\n",
      "        amrex::Real invg4_UU_11 = (g4_LL_00*g4_LL_22*g4_LL_33 - g4_LL_00*std::pow(g4_LL_23, 2) - std::pow(g4_LL_02, 2)*g4_LL_33 + 2*g4_LL_02*g4_LL_03*g4_LL_23 - std::pow(g4_LL_03, 2)*g4_LL_22)/(-g4_LL_00*g4_LL_11*std::pow(g4_LL_23, 2) + 2*g4_LL_00*g4_LL_12*g4_LL_13*g4_LL_23 - g4_LL_00*std::pow(g4_LL_13, 2)*g4_LL_22 + std::pow(g4_LL_01, 2)*std::pow(g4_LL_23, 2) - 2*g4_LL_01*g4_LL_02*g4_LL_13*g4_LL_23 + std::pow(g4_LL_02, 2)*std::pow(g4_LL_13, 2) - std::pow(g4_LL_03, 2)*g4_LL_11*g4_LL_22 + std::pow(g4_LL_03, 2)*std::pow(g4_LL_12, 2) + 2*g4_LL_03*(-g4_LL_01*g4_LL_12*g4_LL_23 + g4_LL_01*g4_LL_13*g4_LL_22 + g4_LL_02*g4_LL_11*g4_LL_23 - g4_LL_02*g4_LL_12*g4_LL_13) - g4_LL_33*(-g4_LL_00*g4_LL_11*g4_LL_22 + g4_LL_00*std::pow(g4_LL_12, 2) + std::pow(g4_LL_01, 2)*g4_LL_22 - 2*g4_LL_01*g4_LL_02*g4_LL_12 + std::pow(g4_LL_02, 2)*g4_LL_11));\n",
      "        amrex::Real invg4_UU_12 = (-g4_LL_00*g4_LL_12*g4_LL_33 + g4_LL_00*g4_LL_13*g4_LL_23 + g4_LL_01*g4_LL_02*g4_LL_33 - g4_LL_01*g4_LL_03*g4_LL_23 - g4_LL_02*g4_LL_03*g4_LL_13 + std::pow(g4_LL_03, 2)*g4_LL_12)/(-g4_LL_00*g4_LL_11*std::pow(g4_LL_23, 2) + 2*g4_LL_00*g4_LL_12*g4_LL_13*g4_LL_23 - g4_LL_00*std::pow(g4_LL_13, 2)*g4_LL_22 + std::pow(g4_LL_01, 2)*std::pow(g4_LL_23, 2) - 2*g4_LL_01*g4_LL_02*g4_LL_13*g4_LL_23 + std::pow(g4_LL_02, 2)*std::pow(g4_LL_13, 2) - std::pow(g4_LL_03, 2)*g4_LL_11*g4_LL_22 + std::pow(g4_LL_03, 2)*std::pow(g4_LL_12, 2) + 2*g4_LL_03*(-g4_LL_01*g4_LL_12*g4_LL_23 + g4_LL_01*g4_LL_13*g4_LL_22 + g4_LL_02*g4_LL_11*g4_LL_23 - g4_LL_02*g4_LL_12*g4_LL_13) - g4_LL_33*(-g4_LL_00*g4_LL_11*g4_LL_22 + g4_LL_00*std::pow(g4_LL_12, 2) + std::pow(g4_LL_01, 2)*g4_LL_22 - 2*g4_LL_01*g4_LL_02*g4_LL_12 + std::pow(g4_LL_02, 2)*g4_LL_11));\n",
      "        amrex::Real invg4_UU_13 = (g4_LL_00*g4_LL_12*g4_LL_23 - g4_LL_00*g4_LL_13*g4_LL_22 - g4_LL_01*g4_LL_02*g4_LL_23 + g4_LL_01*g4_LL_03*g4_LL_22 + std::pow(g4_LL_02, 2)*g4_LL_13 - g4_LL_02*g4_LL_03*g4_LL_12)/(-g4_LL_00*g4_LL_11*std::pow(g4_LL_23, 2) + 2*g4_LL_00*g4_LL_12*g4_LL_13*g4_LL_23 - g4_LL_00*std::pow(g4_LL_13, 2)*g4_LL_22 + std::pow(g4_LL_01, 2)*std::pow(g4_LL_23, 2) - 2*g4_LL_01*g4_LL_02*g4_LL_13*g4_LL_23 + std::pow(g4_LL_02, 2)*std::pow(g4_LL_13, 2) - std::pow(g4_LL_03, 2)*g4_LL_11*g4_LL_22 + std::pow(g4_LL_03, 2)*std::pow(g4_LL_12, 2) + 2*g4_LL_03*(-g4_LL_01*g4_LL_12*g4_LL_23 + g4_LL_01*g4_LL_13*g4_LL_22 + g4_LL_02*g4_LL_11*g4_LL_23 - g4_LL_02*g4_LL_12*g4_LL_13) - g4_LL_33*(-g4_LL_00*g4_LL_11*g4_LL_22 + g4_LL_00*std::pow(g4_LL_12, 2) + std::pow(g4_LL_01, 2)*g4_LL_22 - 2*g4_LL_01*g4_LL_02*g4_LL_12 + std::pow(g4_LL_02, 2)*g4_LL_11));\n",
      "        amrex::Real invg4_UU_22 = (g4_LL_00*g4_LL_11*g4_LL_33 - g4_LL_00*std::pow(g4_LL_13, 2) - std::pow(g4_LL_01, 2)*g4_LL_33 + 2*g4_LL_01*g4_LL_03*g4_LL_13 - std::pow(g4_LL_03, 2)*g4_LL_11)/(-g4_LL_00*g4_LL_11*std::pow(g4_LL_23, 2) + 2*g4_LL_00*g4_LL_12*g4_LL_13*g4_LL_23 - g4_LL_00*std::pow(g4_LL_13, 2)*g4_LL_22 + std::pow(g4_LL_01, 2)*std::pow(g4_LL_23, 2) - 2*g4_LL_01*g4_LL_02*g4_LL_13*g4_LL_23 + std::pow(g4_LL_02, 2)*std::pow(g4_LL_13, 2) - std::pow(g4_LL_03, 2)*g4_LL_11*g4_LL_22 + std::pow(g4_LL_03, 2)*std::pow(g4_LL_12, 2) + 2*g4_LL_03*(-g4_LL_01*g4_LL_12*g4_LL_23 + g4_LL_01*g4_LL_13*g4_LL_22 + g4_LL_02*g4_LL_11*g4_LL_23 - g4_LL_02*g4_LL_12*g4_LL_13) - g4_LL_33*(-g4_LL_00*g4_LL_11*g4_LL_22 + g4_LL_00*std::pow(g4_LL_12, 2) + std::pow(g4_LL_01, 2)*g4_LL_22 - 2*g4_LL_01*g4_LL_02*g4_LL_12 + std::pow(g4_LL_02, 2)*g4_LL_11));\n",
      "        amrex::Real invg4_UU_23 = (-g4_LL_00*g4_LL_11*g4_LL_23 + g4_LL_00*g4_LL_12*g4_LL_13 + std::pow(g4_LL_01, 2)*g4_LL_23 - g4_LL_01*g4_LL_02*g4_LL_13 - g4_LL_01*g4_LL_03*g4_LL_12 + g4_LL_02*g4_LL_03*g4_LL_11)/(-g4_LL_00*g4_LL_11*std::pow(g4_LL_23, 2) + 2*g4_LL_00*g4_LL_12*g4_LL_13*g4_LL_23 - g4_LL_00*std::pow(g4_LL_13, 2)*g4_LL_22 + std::pow(g4_LL_01, 2)*std::pow(g4_LL_23, 2) - 2*g4_LL_01*g4_LL_02*g4_LL_13*g4_LL_23 + std::pow(g4_LL_02, 2)*std::pow(g4_LL_13, 2) - std::pow(g4_LL_03, 2)*g4_LL_11*g4_LL_22 + std::pow(g4_LL_03, 2)*std::pow(g4_LL_12, 2) + 2*g4_LL_03*(-g4_LL_01*g4_LL_12*g4_LL_23 + g4_LL_01*g4_LL_13*g4_LL_22 + g4_LL_02*g4_LL_11*g4_LL_23 - g4_LL_02*g4_LL_12*g4_LL_13) - g4_LL_33*(-g4_LL_00*g4_LL_11*g4_LL_22 + g4_LL_00*std::pow(g4_LL_12, 2) + std::pow(g4_LL_01, 2)*g4_LL_22 - 2*g4_LL_01*g4_LL_02*g4_LL_12 + std::pow(g4_LL_02, 2)*g4_LL_11));\n",
      "        amrex::Real invg4_UU_33 = (g4_LL_00*g4_LL_11*g4_LL_22 - g4_LL_00*std::pow(g4_LL_12, 2) - std::pow(g4_LL_01, 2)*g4_LL_22 + 2*g4_LL_01*g4_LL_02*g4_LL_12 - std::pow(g4_LL_02, 2)*g4_LL_11)/(-g4_LL_00*g4_LL_11*std::pow(g4_LL_23, 2) + 2*g4_LL_00*g4_LL_12*g4_LL_13*g4_LL_23 - g4_LL_00*std::pow(g4_LL_13, 2)*g4_LL_22 + std::pow(g4_LL_01, 2)*std::pow(g4_LL_23, 2) - 2*g4_LL_01*g4_LL_02*g4_LL_13*g4_LL_23 + std::pow(g4_LL_02, 2)*std::pow(g4_LL_13, 2) - std::pow(g4_LL_03, 2)*g4_LL_11*g4_LL_22 + std::pow(g4_LL_03, 2)*std::pow(g4_LL_12, 2) + 2*g4_LL_03*(-g4_LL_01*g4_LL_12*g4_LL_23 + g4_LL_01*g4_LL_13*g4_LL_22 + g4_LL_02*g4_LL_11*g4_LL_23 - g4_LL_02*g4_LL_12*g4_LL_13) - g4_LL_33*(-g4_LL_00*g4_LL_11*g4_LL_22 + g4_LL_00*std::pow(g4_LL_12, 2) + std::pow(g4_LL_01, 2)*g4_LL_22 - 2*g4_LL_01*g4_LL_02*g4_LL_12 + std::pow(g4_LL_02, 2)*g4_LL_11));\n",
      "\n",
      "        amrex::Real CovdDPhiRe_L_0 = dDPhiRe_L_0;\n",
      "        amrex::Real CovdDPhiRe_L_1 = dDPhiRe_L_1;\n",
      "        amrex::Real CovdDPhiRe_L_2 = dDPhiRe_L_2;\n",
      "        amrex::Real CovdDPhiRe_L_3 = PiPhiRe;\n",
      "\n",
      "        amrex::Real CovdDPhiIm_L_0 = dDPhiIm_L_0;\n",
      "        amrex::Real CovdDPhiIm_L_1 = dDPhiIm_L_1;\n",
      "        amrex::Real CovdDPhiIm_L_2 = dDPhiIm_L_2;\n",
      "        amrex::Real CovdDPhiIm_L_3 = PiPhiIm;\n",
      "\n",
      "        amrex::Real e = 1;\n",
      "\n",
      "        amrex::Real CovDAPhiRe_L_0 = -A_L_0*PhiIm*e + CovdDPhiRe_L_0;\n",
      "        amrex::Real CovDAPhiRe_L_1 = -A_L_1*PhiIm*e + CovdDPhiRe_L_1;\n",
      "        amrex::Real CovDAPhiRe_L_2 = -A_L_2*PhiIm*e + CovdDPhiRe_L_2;\n",
      "        amrex::Real CovDAPhiRe_L_3 = -A_L_3*PhiIm*e + CovdDPhiRe_L_3;\n",
      "\n",
      "        amrex::Real CovDAPhiIm_L_0 = A_L_0*PhiRe*e + CovdDPhiIm_L_0;\n",
      "        amrex::Real CovDAPhiIm_L_1 = A_L_1*PhiRe*e + CovdDPhiIm_L_1;\n",
      "        amrex::Real CovDAPhiIm_L_2 = A_L_2*PhiRe*e + CovdDPhiIm_L_2;\n",
      "        amrex::Real CovDAPhiIm_L_3 = A_L_3*PhiRe*e + CovdDPhiIm_L_3;\n",
      "\n",
      "        amrex::Real F_LL_01 = -dDA_LL_01 + dDA_LL_10;\n",
      "        amrex::Real F_LL_02 = -dDA_LL_02;\n",
      "        amrex::Real F_LL_03 = -dDA_LL_03 + dDA_LL_30;\n",
      "        amrex::Real F_LL_12 = -dDA_LL_12;\n",
      "        amrex::Real F_LL_13 = -dDA_LL_13 + dDA_LL_31;\n",
      "        amrex::Real F_LL_23 = dDA_LL_32;\n",
      "\n",
      "        amrex::Real F_UU_01 = F_LL_01*invg4_UU_00*invg4_UU_11 - F_LL_01*std::pow(invg4_UU_01, 2) + F_LL_02*invg4_UU_00*invg4_UU_12 - F_LL_02*invg4_UU_01*invg4_UU_02 + F_LL_03*invg4_UU_00*invg4_UU_13 - F_LL_03*invg4_UU_01*invg4_UU_03 + F_LL_12*invg4_UU_01*invg4_UU_12 - F_LL_12*invg4_UU_02*invg4_UU_11 + F_LL_13*invg4_UU_01*invg4_UU_13 - F_LL_13*invg4_UU_03*invg4_UU_11 + F_LL_23*invg4_UU_02*invg4_UU_13 - F_LL_23*invg4_UU_03*invg4_UU_12;\n",
      "        amrex::Real F_UU_02 = F_LL_01*invg4_UU_00*invg4_UU_12 - F_LL_01*invg4_UU_01*invg4_UU_02 + F_LL_02*invg4_UU_00*invg4_UU_22 - F_LL_02*std::pow(invg4_UU_02, 2) + F_LL_03*invg4_UU_00*invg4_UU_23 - F_LL_03*invg4_UU_02*invg4_UU_03 + F_LL_12*invg4_UU_01*invg4_UU_22 - F_LL_12*invg4_UU_02*invg4_UU_12 + F_LL_13*invg4_UU_01*invg4_UU_23 - F_LL_13*invg4_UU_03*invg4_UU_12 + F_LL_23*invg4_UU_02*invg4_UU_23 - F_LL_23*invg4_UU_03*invg4_UU_22;\n",
      "        amrex::Real F_UU_03 = F_LL_01*invg4_UU_00*invg4_UU_13 - F_LL_01*invg4_UU_01*invg4_UU_03 + F_LL_02*invg4_UU_00*invg4_UU_23 - F_LL_02*invg4_UU_02*invg4_UU_03 + F_LL_03*invg4_UU_00*invg4_UU_33 - F_LL_03*std::pow(invg4_UU_03, 2) + F_LL_12*invg4_UU_01*invg4_UU_23 - F_LL_12*invg4_UU_02*invg4_UU_13 + F_LL_13*invg4_UU_01*invg4_UU_33 - F_LL_13*invg4_UU_03*invg4_UU_13 + F_LL_23*invg4_UU_02*invg4_UU_33 - F_LL_23*invg4_UU_03*invg4_UU_23;\n",
      "        amrex::Real F_UU_12 = F_LL_01*invg4_UU_01*invg4_UU_12 - F_LL_01*invg4_UU_02*invg4_UU_11 + F_LL_02*invg4_UU_01*invg4_UU_22 - F_LL_02*invg4_UU_02*invg4_UU_12 + F_LL_03*invg4_UU_01*invg4_UU_23 - F_LL_03*invg4_UU_02*invg4_UU_13 + F_LL_12*invg4_UU_11*invg4_UU_22 - F_LL_12*std::pow(invg4_UU_12, 2) + F_LL_13*invg4_UU_11*invg4_UU_23 - F_LL_13*invg4_UU_12*invg4_UU_13 + F_LL_23*invg4_UU_12*invg4_UU_23 - F_LL_23*invg4_UU_13*invg4_UU_22;\n",
      "        amrex::Real F_UU_13 = F_LL_01*invg4_UU_01*invg4_UU_13 - F_LL_01*invg4_UU_03*invg4_UU_11 + F_LL_02*invg4_UU_01*invg4_UU_23 - F_LL_02*invg4_UU_03*invg4_UU_12 + F_LL_03*invg4_UU_01*invg4_UU_33 - F_LL_03*invg4_UU_03*invg4_UU_13 + F_LL_12*invg4_UU_11*invg4_UU_23 - F_LL_12*invg4_UU_12*invg4_UU_13 + F_LL_13*invg4_UU_11*invg4_UU_33 - F_LL_13*std::pow(invg4_UU_13, 2) + F_LL_23*invg4_UU_12*invg4_UU_33 - F_LL_23*invg4_UU_13*invg4_UU_23;\n",
      "        amrex::Real F_UU_23 = F_LL_01*invg4_UU_02*invg4_UU_13 - F_LL_01*invg4_UU_03*invg4_UU_12 + F_LL_02*invg4_UU_02*invg4_UU_23 - F_LL_02*invg4_UU_03*invg4_UU_22 + F_LL_03*invg4_UU_02*invg4_UU_33 - F_LL_03*invg4_UU_03*invg4_UU_23 + F_LL_12*invg4_UU_12*invg4_UU_23 - F_LL_12*invg4_UU_13*invg4_UU_22 + F_LL_13*invg4_UU_12*invg4_UU_33 - F_LL_13*invg4_UU_13*invg4_UU_23 + F_LL_23*invg4_UU_22*invg4_UU_33 - F_LL_23*std::pow(invg4_UU_23, 2);\n",
      "\n",
      "        amrex::Real F_LU_00 = F_LL_01*invg4_UU_01 + F_LL_02*invg4_UU_02 + F_LL_03*invg4_UU_03;\n",
      "        amrex::Real F_LU_01 = F_LL_01*invg4_UU_11 + F_LL_02*invg4_UU_12 + F_LL_03*invg4_UU_13;\n",
      "        amrex::Real F_LU_02 = F_LL_01*invg4_UU_12 + F_LL_02*invg4_UU_22 + F_LL_03*invg4_UU_23;\n",
      "        amrex::Real F_LU_03 = F_LL_01*invg4_UU_13 + F_LL_02*invg4_UU_23 + F_LL_03*invg4_UU_33;\n",
      "        amrex::Real F_LU_10 = -F_LL_01*invg4_UU_00 + F_LL_12*invg4_UU_02 + F_LL_13*invg4_UU_03;\n",
      "        amrex::Real F_LU_11 = -F_LL_01*invg4_UU_01 + F_LL_12*invg4_UU_12 + F_LL_13*invg4_UU_13;\n",
      "        amrex::Real F_LU_12 = -F_LL_01*invg4_UU_02 + F_LL_12*invg4_UU_22 + F_LL_13*invg4_UU_23;\n",
      "        amrex::Real F_LU_13 = -F_LL_01*invg4_UU_03 + F_LL_12*invg4_UU_23 + F_LL_13*invg4_UU_33;\n",
      "        amrex::Real F_LU_20 = -F_LL_02*invg4_UU_00 - F_LL_12*invg4_UU_01 + F_LL_23*invg4_UU_03;\n",
      "        amrex::Real F_LU_21 = -F_LL_02*invg4_UU_01 - F_LL_12*invg4_UU_11 + F_LL_23*invg4_UU_13;\n",
      "        amrex::Real F_LU_22 = -F_LL_02*invg4_UU_02 - F_LL_12*invg4_UU_12 + F_LL_23*invg4_UU_23;\n",
      "        amrex::Real F_LU_23 = -F_LL_02*invg4_UU_03 - F_LL_12*invg4_UU_13 + F_LL_23*invg4_UU_33;\n",
      "        amrex::Real F_LU_30 = -F_LL_03*invg4_UU_00 - F_LL_13*invg4_UU_01 - F_LL_23*invg4_UU_02;\n",
      "        amrex::Real F_LU_31 = -F_LL_03*invg4_UU_01 - F_LL_13*invg4_UU_11 - F_LL_23*invg4_UU_12;\n",
      "        amrex::Real F_LU_32 = -F_LL_03*invg4_UU_02 - F_LL_13*invg4_UU_12 - F_LL_23*invg4_UU_22;\n",
      "        amrex::Real F_LU_33 = -F_LL_03*invg4_UU_03 - F_LL_13*invg4_UU_13 - F_LL_23*invg4_UU_23;\n",
      "\n",
      "        amrex::Real Vpotential = (-2*std::pow(PhiIm, 2) - 2*std::pow(PhiRe, 2))*(-0.5*std::pow(PhiIm, 2) - 0.5*std::pow(PhiRe, 2) + 1);\n",
      "\n",
      "        amrex::Real T_LL_00 = (1.0/8.0)*(std::pow(CovDAPhiIm_L_0, 2) + std::pow(CovDAPhiRe_L_0, 2) + F_LL_01*F_LU_01 - 0.5*F_LL_01*F_UU_01*g4_LL_00 + F_LL_02*F_LU_02 - 0.5*F_LL_02*F_UU_02*g4_LL_00 + F_LL_03*F_LU_03 - 0.5*F_LL_03*F_UU_03*g4_LL_00 - 0.5*F_LL_12*F_UU_12*g4_LL_00 - 0.5*F_LL_13*F_UU_13*g4_LL_00 - 0.5*F_LL_23*F_UU_23*g4_LL_00 - Vpotential*g4_LL_00 - 0.5*g4_LL_00*invg4_UU_00*(std::pow(CovDAPhiIm_L_0, 2) + std::pow(CovDAPhiRe_L_0, 2)) - 1.0*g4_LL_00*invg4_UU_01*(CovDAPhiIm_L_0*CovDAPhiIm_L_1 + CovDAPhiRe_L_0*CovDAPhiRe_L_1) - 1.0*g4_LL_00*invg4_UU_02*(CovDAPhiIm_L_0*CovDAPhiIm_L_2 + CovDAPhiRe_L_0*CovDAPhiRe_L_2) - 1.0*g4_LL_00*invg4_UU_03*(CovDAPhiIm_L_0*CovDAPhiIm_L_3 + CovDAPhiRe_L_0*CovDAPhiRe_L_3) - 0.5*g4_LL_00*invg4_UU_11*(std::pow(CovDAPhiIm_L_1, 2) + std::pow(CovDAPhiRe_L_1, 2)) - 1.0*g4_LL_00*invg4_UU_12*(CovDAPhiIm_L_1*CovDAPhiIm_L_2 + CovDAPhiRe_L_1*CovDAPhiRe_L_2) - 1.0*g4_LL_00*invg4_UU_13*(CovDAPhiIm_L_1*CovDAPhiIm_L_3 + CovDAPhiRe_L_1*CovDAPhiRe_L_3) - 0.5*g4_LL_00*invg4_UU_22*(std::pow(CovDAPhiIm_L_2, 2) + std::pow(CovDAPhiRe_L_2, 2)) - 1.0*g4_LL_00*invg4_UU_23*(CovDAPhiIm_L_2*CovDAPhiIm_L_3 + CovDAPhiRe_L_2*CovDAPhiRe_L_3) - 0.5*g4_LL_00*invg4_UU_33*(std::pow(CovDAPhiIm_L_3, 2) + std::pow(CovDAPhiRe_L_3, 2)) + 3*g4_LL_00)/M_PI;\n",
      "        amrex::Real T_LL_01 = (1.0/8.0)*(CovDAPhiIm_L_0*CovDAPhiIm_L_1 + CovDAPhiRe_L_0*CovDAPhiRe_L_1 + F_LL_01*F_LU_11 - 0.5*F_LL_01*F_UU_01*g4_LL_01 + F_LL_02*F_LU_12 - 0.5*F_LL_02*F_UU_02*g4_LL_01 + F_LL_03*F_LU_13 - 0.5*F_LL_03*F_UU_03*g4_LL_01 - 0.5*F_LL_12*F_UU_12*g4_LL_01 - 0.5*F_LL_13*F_UU_13*g4_LL_01 - 0.5*F_LL_23*F_UU_23*g4_LL_01 - Vpotential*g4_LL_01 - 0.5*g4_LL_01*invg4_UU_00*(std::pow(CovDAPhiIm_L_0, 2) + std::pow(CovDAPhiRe_L_0, 2)) - 1.0*g4_LL_01*invg4_UU_01*(CovDAPhiIm_L_0*CovDAPhiIm_L_1 + CovDAPhiRe_L_0*CovDAPhiRe_L_1) - 1.0*g4_LL_01*invg4_UU_02*(CovDAPhiIm_L_0*CovDAPhiIm_L_2 + CovDAPhiRe_L_0*CovDAPhiRe_L_2) - 1.0*g4_LL_01*invg4_UU_03*(CovDAPhiIm_L_0*CovDAPhiIm_L_3 + CovDAPhiRe_L_0*CovDAPhiRe_L_3) - 0.5*g4_LL_01*invg4_UU_11*(std::pow(CovDAPhiIm_L_1, 2) + std::pow(CovDAPhiRe_L_1, 2)) - 1.0*g4_LL_01*invg4_UU_12*(CovDAPhiIm_L_1*CovDAPhiIm_L_2 + CovDAPhiRe_L_1*CovDAPhiRe_L_2) - 1.0*g4_LL_01*invg4_UU_13*(CovDAPhiIm_L_1*CovDAPhiIm_L_3 + CovDAPhiRe_L_1*CovDAPhiRe_L_3) - 0.5*g4_LL_01*invg4_UU_22*(std::pow(CovDAPhiIm_L_2, 2) + std::pow(CovDAPhiRe_L_2, 2)) - 1.0*g4_LL_01*invg4_UU_23*(CovDAPhiIm_L_2*CovDAPhiIm_L_3 + CovDAPhiRe_L_2*CovDAPhiRe_L_3) - 0.5*g4_LL_01*invg4_UU_33*(std::pow(CovDAPhiIm_L_3, 2) + std::pow(CovDAPhiRe_L_3, 2)) + 3*g4_LL_01)/M_PI;\n",
      "        amrex::Real T_LL_02 = (1.0/8.0)*(CovDAPhiIm_L_0*CovDAPhiIm_L_2 + CovDAPhiRe_L_0*CovDAPhiRe_L_2 + F_LL_01*F_LU_21 - 0.5*F_LL_01*F_UU_01*g4_LL_02 + F_LL_02*F_LU_22 - 0.5*F_LL_02*F_UU_02*g4_LL_02 + F_LL_03*F_LU_23 - 0.5*F_LL_03*F_UU_03*g4_LL_02 - 0.5*F_LL_12*F_UU_12*g4_LL_02 - 0.5*F_LL_13*F_UU_13*g4_LL_02 - 0.5*F_LL_23*F_UU_23*g4_LL_02 - Vpotential*g4_LL_02 - 0.5*g4_LL_02*invg4_UU_00*(std::pow(CovDAPhiIm_L_0, 2) + std::pow(CovDAPhiRe_L_0, 2)) - 1.0*g4_LL_02*invg4_UU_01*(CovDAPhiIm_L_0*CovDAPhiIm_L_1 + CovDAPhiRe_L_0*CovDAPhiRe_L_1) - 1.0*g4_LL_02*invg4_UU_02*(CovDAPhiIm_L_0*CovDAPhiIm_L_2 + CovDAPhiRe_L_0*CovDAPhiRe_L_2) - 1.0*g4_LL_02*invg4_UU_03*(CovDAPhiIm_L_0*CovDAPhiIm_L_3 + CovDAPhiRe_L_0*CovDAPhiRe_L_3) - 0.5*g4_LL_02*invg4_UU_11*(std::pow(CovDAPhiIm_L_1, 2) + std::pow(CovDAPhiRe_L_1, 2)) - 1.0*g4_LL_02*invg4_UU_12*(CovDAPhiIm_L_1*CovDAPhiIm_L_2 + CovDAPhiRe_L_1*CovDAPhiRe_L_2) - 1.0*g4_LL_02*invg4_UU_13*(CovDAPhiIm_L_1*CovDAPhiIm_L_3 + CovDAPhiRe_L_1*CovDAPhiRe_L_3) - 0.5*g4_LL_02*invg4_UU_22*(std::pow(CovDAPhiIm_L_2, 2) + std::pow(CovDAPhiRe_L_2, 2)) - 1.0*g4_LL_02*invg4_UU_23*(CovDAPhiIm_L_2*CovDAPhiIm_L_3 + CovDAPhiRe_L_2*CovDAPhiRe_L_3) - 0.5*g4_LL_02*invg4_UU_33*(std::pow(CovDAPhiIm_L_3, 2) + std::pow(CovDAPhiRe_L_3, 2)) + 3*g4_LL_02)/M_PI;\n",
      "        amrex::Real T_LL_03 = (1.0/8.0)*(CovDAPhiIm_L_0*CovDAPhiIm_L_3 + CovDAPhiRe_L_0*CovDAPhiRe_L_3 + F_LL_01*F_LU_31 - 0.5*F_LL_01*F_UU_01*g4_LL_03 + F_LL_02*F_LU_32 - 0.5*F_LL_02*F_UU_02*g4_LL_03 + F_LL_03*F_LU_33 - 0.5*F_LL_03*F_UU_03*g4_LL_03 - 0.5*F_LL_12*F_UU_12*g4_LL_03 - 0.5*F_LL_13*F_UU_13*g4_LL_03 - 0.5*F_LL_23*F_UU_23*g4_LL_03 - Vpotential*g4_LL_03 - 0.5*g4_LL_03*invg4_UU_00*(std::pow(CovDAPhiIm_L_0, 2) + std::pow(CovDAPhiRe_L_0, 2)) - 1.0*g4_LL_03*invg4_UU_01*(CovDAPhiIm_L_0*CovDAPhiIm_L_1 + CovDAPhiRe_L_0*CovDAPhiRe_L_1) - 1.0*g4_LL_03*invg4_UU_02*(CovDAPhiIm_L_0*CovDAPhiIm_L_2 + CovDAPhiRe_L_0*CovDAPhiRe_L_2) - 1.0*g4_LL_03*invg4_UU_03*(CovDAPhiIm_L_0*CovDAPhiIm_L_3 + CovDAPhiRe_L_0*CovDAPhiRe_L_3) - 0.5*g4_LL_03*invg4_UU_11*(std::pow(CovDAPhiIm_L_1, 2) + std::pow(CovDAPhiRe_L_1, 2)) - 1.0*g4_LL_03*invg4_UU_12*(CovDAPhiIm_L_1*CovDAPhiIm_L_2 + CovDAPhiRe_L_1*CovDAPhiRe_L_2) - 1.0*g4_LL_03*invg4_UU_13*(CovDAPhiIm_L_1*CovDAPhiIm_L_3 + CovDAPhiRe_L_1*CovDAPhiRe_L_3) - 0.5*g4_LL_03*invg4_UU_22*(std::pow(CovDAPhiIm_L_2, 2) + std::pow(CovDAPhiRe_L_2, 2)) - 1.0*g4_LL_03*invg4_UU_23*(CovDAPhiIm_L_2*CovDAPhiIm_L_3 + CovDAPhiRe_L_2*CovDAPhiRe_L_3) - 0.5*g4_LL_03*invg4_UU_33*(std::pow(CovDAPhiIm_L_3, 2) + std::pow(CovDAPhiRe_L_3, 2)) + 3*g4_LL_03)/M_PI;\n",
      "        amrex::Real T_LL_11 = (1.0/8.0)*(std::pow(CovDAPhiIm_L_1, 2) + std::pow(CovDAPhiRe_L_1, 2) - F_LL_01*F_LU_10 - 0.5*F_LL_01*F_UU_01*g4_LL_11 - 0.5*F_LL_02*F_UU_02*g4_LL_11 - 0.5*F_LL_03*F_UU_03*g4_LL_11 + F_LL_12*F_LU_12 - 0.5*F_LL_12*F_UU_12*g4_LL_11 + F_LL_13*F_LU_13 - 0.5*F_LL_13*F_UU_13*g4_LL_11 - 0.5*F_LL_23*F_UU_23*g4_LL_11 - Vpotential*g4_LL_11 - 0.5*g4_LL_11*invg4_UU_00*(std::pow(CovDAPhiIm_L_0, 2) + std::pow(CovDAPhiRe_L_0, 2)) - 1.0*g4_LL_11*invg4_UU_01*(CovDAPhiIm_L_0*CovDAPhiIm_L_1 + CovDAPhiRe_L_0*CovDAPhiRe_L_1) - 1.0*g4_LL_11*invg4_UU_02*(CovDAPhiIm_L_0*CovDAPhiIm_L_2 + CovDAPhiRe_L_0*CovDAPhiRe_L_2) - 1.0*g4_LL_11*invg4_UU_03*(CovDAPhiIm_L_0*CovDAPhiIm_L_3 + CovDAPhiRe_L_0*CovDAPhiRe_L_3) - 0.5*g4_LL_11*invg4_UU_11*(std::pow(CovDAPhiIm_L_1, 2) + std::pow(CovDAPhiRe_L_1, 2)) - 1.0*g4_LL_11*invg4_UU_12*(CovDAPhiIm_L_1*CovDAPhiIm_L_2 + CovDAPhiRe_L_1*CovDAPhiRe_L_2) - 1.0*g4_LL_11*invg4_UU_13*(CovDAPhiIm_L_1*CovDAPhiIm_L_3 + CovDAPhiRe_L_1*CovDAPhiRe_L_3) - 0.5*g4_LL_11*invg4_UU_22*(std::pow(CovDAPhiIm_L_2, 2) + std::pow(CovDAPhiRe_L_2, 2)) - 1.0*g4_LL_11*invg4_UU_23*(CovDAPhiIm_L_2*CovDAPhiIm_L_3 + CovDAPhiRe_L_2*CovDAPhiRe_L_3) - 0.5*g4_LL_11*invg4_UU_33*(std::pow(CovDAPhiIm_L_3, 2) + std::pow(CovDAPhiRe_L_3, 2)) + 3*g4_LL_11)/M_PI;\n",
      "        amrex::Real T_LL_12 = (1.0/8.0)*(CovDAPhiIm_L_1*CovDAPhiIm_L_2 + CovDAPhiRe_L_1*CovDAPhiRe_L_2 - F_LL_01*F_LU_20 - 0.5*F_LL_01*F_UU_01*g4_LL_12 - 0.5*F_LL_02*F_UU_02*g4_LL_12 - 0.5*F_LL_03*F_UU_03*g4_LL_12 + F_LL_12*F_LU_22 - 0.5*F_LL_12*F_UU_12*g4_LL_12 + F_LL_13*F_LU_23 - 0.5*F_LL_13*F_UU_13*g4_LL_12 - 0.5*F_LL_23*F_UU_23*g4_LL_12 - Vpotential*g4_LL_12 - 0.5*g4_LL_12*invg4_UU_00*(std::pow(CovDAPhiIm_L_0, 2) + std::pow(CovDAPhiRe_L_0, 2)) - 1.0*g4_LL_12*invg4_UU_01*(CovDAPhiIm_L_0*CovDAPhiIm_L_1 + CovDAPhiRe_L_0*CovDAPhiRe_L_1) - 1.0*g4_LL_12*invg4_UU_02*(CovDAPhiIm_L_0*CovDAPhiIm_L_2 + CovDAPhiRe_L_0*CovDAPhiRe_L_2) - 1.0*g4_LL_12*invg4_UU_03*(CovDAPhiIm_L_0*CovDAPhiIm_L_3 + CovDAPhiRe_L_0*CovDAPhiRe_L_3) - 0.5*g4_LL_12*invg4_UU_11*(std::pow(CovDAPhiIm_L_1, 2) + std::pow(CovDAPhiRe_L_1, 2)) - 1.0*g4_LL_12*invg4_UU_12*(CovDAPhiIm_L_1*CovDAPhiIm_L_2 + CovDAPhiRe_L_1*CovDAPhiRe_L_2) - 1.0*g4_LL_12*invg4_UU_13*(CovDAPhiIm_L_1*CovDAPhiIm_L_3 + CovDAPhiRe_L_1*CovDAPhiRe_L_3) - 0.5*g4_LL_12*invg4_UU_22*(std::pow(CovDAPhiIm_L_2, 2) + std::pow(CovDAPhiRe_L_2, 2)) - 1.0*g4_LL_12*invg4_UU_23*(CovDAPhiIm_L_2*CovDAPhiIm_L_3 + CovDAPhiRe_L_2*CovDAPhiRe_L_3) - 0.5*g4_LL_12*invg4_UU_33*(std::pow(CovDAPhiIm_L_3, 2) + std::pow(CovDAPhiRe_L_3, 2)) + 3*g4_LL_12)/M_PI;\n",
      "        amrex::Real T_LL_13 = (1.0/8.0)*(CovDAPhiIm_L_1*CovDAPhiIm_L_3 + CovDAPhiRe_L_1*CovDAPhiRe_L_3 - F_LL_01*F_LU_30 - 0.5*F_LL_01*F_UU_01*g4_LL_13 - 0.5*F_LL_02*F_UU_02*g4_LL_13 - 0.5*F_LL_03*F_UU_03*g4_LL_13 + F_LL_12*F_LU_32 - 0.5*F_LL_12*F_UU_12*g4_LL_13 + F_LL_13*F_LU_33 - 0.5*F_LL_13*F_UU_13*g4_LL_13 - 0.5*F_LL_23*F_UU_23*g4_LL_13 - Vpotential*g4_LL_13 - 0.5*g4_LL_13*invg4_UU_00*(std::pow(CovDAPhiIm_L_0, 2) + std::pow(CovDAPhiRe_L_0, 2)) - 1.0*g4_LL_13*invg4_UU_01*(CovDAPhiIm_L_0*CovDAPhiIm_L_1 + CovDAPhiRe_L_0*CovDAPhiRe_L_1) - 1.0*g4_LL_13*invg4_UU_02*(CovDAPhiIm_L_0*CovDAPhiIm_L_2 + CovDAPhiRe_L_0*CovDAPhiRe_L_2) - 1.0*g4_LL_13*invg4_UU_03*(CovDAPhiIm_L_0*CovDAPhiIm_L_3 + CovDAPhiRe_L_0*CovDAPhiRe_L_3) - 0.5*g4_LL_13*invg4_UU_11*(std::pow(CovDAPhiIm_L_1, 2) + std::pow(CovDAPhiRe_L_1, 2)) - 1.0*g4_LL_13*invg4_UU_12*(CovDAPhiIm_L_1*CovDAPhiIm_L_2 + CovDAPhiRe_L_1*CovDAPhiRe_L_2) - 1.0*g4_LL_13*invg4_UU_13*(CovDAPhiIm_L_1*CovDAPhiIm_L_3 + CovDAPhiRe_L_1*CovDAPhiRe_L_3) - 0.5*g4_LL_13*invg4_UU_22*(std::pow(CovDAPhiIm_L_2, 2) + std::pow(CovDAPhiRe_L_2, 2)) - 1.0*g4_LL_13*invg4_UU_23*(CovDAPhiIm_L_2*CovDAPhiIm_L_3 + CovDAPhiRe_L_2*CovDAPhiRe_L_3) - 0.5*g4_LL_13*invg4_UU_33*(std::pow(CovDAPhiIm_L_3, 2) + std::pow(CovDAPhiRe_L_3, 2)) + 3*g4_LL_13)/M_PI;\n",
      "        amrex::Real T_LL_22 = (1.0/8.0)*(std::pow(CovDAPhiIm_L_2, 2) + std::pow(CovDAPhiRe_L_2, 2) - 0.5*F_LL_01*F_UU_01*g4_LL_22 - F_LL_02*F_LU_20 - 0.5*F_LL_02*F_UU_02*g4_LL_22 - 0.5*F_LL_03*F_UU_03*g4_LL_22 - F_LL_12*F_LU_21 - 0.5*F_LL_12*F_UU_12*g4_LL_22 - 0.5*F_LL_13*F_UU_13*g4_LL_22 + F_LL_23*F_LU_23 - 0.5*F_LL_23*F_UU_23*g4_LL_22 - Vpotential*g4_LL_22 - 0.5*g4_LL_22*invg4_UU_00*(std::pow(CovDAPhiIm_L_0, 2) + std::pow(CovDAPhiRe_L_0, 2)) - 1.0*g4_LL_22*invg4_UU_01*(CovDAPhiIm_L_0*CovDAPhiIm_L_1 + CovDAPhiRe_L_0*CovDAPhiRe_L_1) - 1.0*g4_LL_22*invg4_UU_02*(CovDAPhiIm_L_0*CovDAPhiIm_L_2 + CovDAPhiRe_L_0*CovDAPhiRe_L_2) - 1.0*g4_LL_22*invg4_UU_03*(CovDAPhiIm_L_0*CovDAPhiIm_L_3 + CovDAPhiRe_L_0*CovDAPhiRe_L_3) - 0.5*g4_LL_22*invg4_UU_11*(std::pow(CovDAPhiIm_L_1, 2) + std::pow(CovDAPhiRe_L_1, 2)) - 1.0*g4_LL_22*invg4_UU_12*(CovDAPhiIm_L_1*CovDAPhiIm_L_2 + CovDAPhiRe_L_1*CovDAPhiRe_L_2) - 1.0*g4_LL_22*invg4_UU_13*(CovDAPhiIm_L_1*CovDAPhiIm_L_3 + CovDAPhiRe_L_1*CovDAPhiRe_L_3) - 0.5*g4_LL_22*invg4_UU_22*(std::pow(CovDAPhiIm_L_2, 2) + std::pow(CovDAPhiRe_L_2, 2)) - 1.0*g4_LL_22*invg4_UU_23*(CovDAPhiIm_L_2*CovDAPhiIm_L_3 + CovDAPhiRe_L_2*CovDAPhiRe_L_3) - 0.5*g4_LL_22*invg4_UU_33*(std::pow(CovDAPhiIm_L_3, 2) + std::pow(CovDAPhiRe_L_3, 2)) + 3*g4_LL_22)/M_PI;\n",
      "        amrex::Real T_LL_23 = (1.0/8.0)*(CovDAPhiIm_L_2*CovDAPhiIm_L_3 + CovDAPhiRe_L_2*CovDAPhiRe_L_3 - 0.5*F_LL_01*F_UU_01*g4_LL_23 - F_LL_02*F_LU_30 - 0.5*F_LL_02*F_UU_02*g4_LL_23 - 0.5*F_LL_03*F_UU_03*g4_LL_23 - F_LL_12*F_LU_31 - 0.5*F_LL_12*F_UU_12*g4_LL_23 - 0.5*F_LL_13*F_UU_13*g4_LL_23 + F_LL_23*F_LU_33 - 0.5*F_LL_23*F_UU_23*g4_LL_23 - Vpotential*g4_LL_23 - 0.5*g4_LL_23*invg4_UU_00*(std::pow(CovDAPhiIm_L_0, 2) + std::pow(CovDAPhiRe_L_0, 2)) - 1.0*g4_LL_23*invg4_UU_01*(CovDAPhiIm_L_0*CovDAPhiIm_L_1 + CovDAPhiRe_L_0*CovDAPhiRe_L_1) - 1.0*g4_LL_23*invg4_UU_02*(CovDAPhiIm_L_0*CovDAPhiIm_L_2 + CovDAPhiRe_L_0*CovDAPhiRe_L_2) - 1.0*g4_LL_23*invg4_UU_03*(CovDAPhiIm_L_0*CovDAPhiIm_L_3 + CovDAPhiRe_L_0*CovDAPhiRe_L_3) - 0.5*g4_LL_23*invg4_UU_11*(std::pow(CovDAPhiIm_L_1, 2) + std::pow(CovDAPhiRe_L_1, 2)) - 1.0*g4_LL_23*invg4_UU_12*(CovDAPhiIm_L_1*CovDAPhiIm_L_2 + CovDAPhiRe_L_1*CovDAPhiRe_L_2) - 1.0*g4_LL_23*invg4_UU_13*(CovDAPhiIm_L_1*CovDAPhiIm_L_3 + CovDAPhiRe_L_1*CovDAPhiRe_L_3) - 0.5*g4_LL_23*invg4_UU_22*(std::pow(CovDAPhiIm_L_2, 2) + std::pow(CovDAPhiRe_L_2, 2)) - 1.0*g4_LL_23*invg4_UU_23*(CovDAPhiIm_L_2*CovDAPhiIm_L_3 + CovDAPhiRe_L_2*CovDAPhiRe_L_3) - 0.5*g4_LL_23*invg4_UU_33*(std::pow(CovDAPhiIm_L_3, 2) + std::pow(CovDAPhiRe_L_3, 2)) + 3*g4_LL_23)/M_PI;\n",
      "        amrex::Real T_LL_33 = (1.0/8.0)*(std::pow(CovDAPhiIm_L_3, 2) + std::pow(CovDAPhiRe_L_3, 2) - 0.5*F_LL_01*F_UU_01*g4_LL_33 - 0.5*F_LL_02*F_UU_02*g4_LL_33 - F_LL_03*F_LU_30 - 0.5*F_LL_03*F_UU_03*g4_LL_33 - 0.5*F_LL_12*F_UU_12*g4_LL_33 - F_LL_13*F_LU_31 - 0.5*F_LL_13*F_UU_13*g4_LL_33 - F_LL_23*F_LU_32 - 0.5*F_LL_23*F_UU_23*g4_LL_33 - Vpotential*g4_LL_33 - 0.5*g4_LL_33*invg4_UU_00*(std::pow(CovDAPhiIm_L_0, 2) + std::pow(CovDAPhiRe_L_0, 2)) - 1.0*g4_LL_33*invg4_UU_01*(CovDAPhiIm_L_0*CovDAPhiIm_L_1 + CovDAPhiRe_L_0*CovDAPhiRe_L_1) - 1.0*g4_LL_33*invg4_UU_02*(CovDAPhiIm_L_0*CovDAPhiIm_L_2 + CovDAPhiRe_L_0*CovDAPhiRe_L_2) - 1.0*g4_LL_33*invg4_UU_03*(CovDAPhiIm_L_0*CovDAPhiIm_L_3 + CovDAPhiRe_L_0*CovDAPhiRe_L_3) - 0.5*g4_LL_33*invg4_UU_11*(std::pow(CovDAPhiIm_L_1, 2) + std::pow(CovDAPhiRe_L_1, 2)) - 1.0*g4_LL_33*invg4_UU_12*(CovDAPhiIm_L_1*CovDAPhiIm_L_2 + CovDAPhiRe_L_1*CovDAPhiRe_L_2) - 1.0*g4_LL_33*invg4_UU_13*(CovDAPhiIm_L_1*CovDAPhiIm_L_3 + CovDAPhiRe_L_1*CovDAPhiRe_L_3) - 0.5*g4_LL_33*invg4_UU_22*(std::pow(CovDAPhiIm_L_2, 2) + std::pow(CovDAPhiRe_L_2, 2)) - 1.0*g4_LL_33*invg4_UU_23*(CovDAPhiIm_L_2*CovDAPhiIm_L_3 + CovDAPhiRe_L_2*CovDAPhiRe_L_3) - 0.5*g4_LL_33*invg4_UU_33*(std::pow(CovDAPhiIm_L_3, 2) + std::pow(CovDAPhiRe_L_3, 2)) + 3*g4_LL_33)/M_PI;\n",
      "\n",
      "        amrex::Real n_L_3 = -alpha;\n",
      "\n",
      "        amrex::Real n_U_0 = invg4_UU_03*n_L_3;\n",
      "        amrex::Real n_U_1 = invg4_UU_13*n_L_3;\n",
      "        amrex::Real n_U_2 = invg4_UU_23*n_L_3;\n",
      "        amrex::Real n_U_3 = invg4_UU_33*n_L_3;\n",
      "\n",
      "        amrex::Real gam4_LL_00 = g4_LL_00;\n",
      "        amrex::Real gam4_LL_01 = g4_LL_01;\n",
      "        amrex::Real gam4_LL_02 = g4_LL_02;\n",
      "        amrex::Real gam4_LL_03 = g4_LL_03;\n",
      "        amrex::Real gam4_LL_11 = g4_LL_11;\n",
      "        amrex::Real gam4_LL_12 = g4_LL_12;\n",
      "        amrex::Real gam4_LL_13 = g4_LL_13;\n",
      "        amrex::Real gam4_LL_22 = g4_LL_22;\n",
      "        amrex::Real gam4_LL_23 = g4_LL_23;\n",
      "        amrex::Real gam4_LL_33 = g4_LL_33 + std::pow(n_L_3, 2);\n",
      "\n",
      "        amrex::Real T_UU_00 = T_LL_00*std::pow(invg4_UU_00, 2) + 2*T_LL_01*invg4_UU_00*invg4_UU_01 + 2*T_LL_02*invg4_UU_00*invg4_UU_02 + 2*T_LL_03*invg4_UU_00*invg4_UU_03 + T_LL_11*std::pow(invg4_UU_01, 2) + 2*T_LL_12*invg4_UU_01*invg4_UU_02 + 2*T_LL_13*invg4_UU_01*invg4_UU_03 + T_LL_22*std::pow(invg4_UU_02, 2) + 2*T_LL_23*invg4_UU_02*invg4_UU_03 + T_LL_33*std::pow(invg4_UU_03, 2);\n",
      "        amrex::Real T_UU_01 = T_LL_00*invg4_UU_00*invg4_UU_01 + T_LL_01*invg4_UU_00*invg4_UU_11 + T_LL_01*std::pow(invg4_UU_01, 2) + T_LL_02*invg4_UU_00*invg4_UU_12 + T_LL_02*invg4_UU_01*invg4_UU_02 + T_LL_03*invg4_UU_00*invg4_UU_13 + T_LL_03*invg4_UU_01*invg4_UU_03 + T_LL_11*invg4_UU_01*invg4_UU_11 + T_LL_12*invg4_UU_01*invg4_UU_12 + T_LL_12*invg4_UU_02*invg4_UU_11 + T_LL_13*invg4_UU_01*invg4_UU_13 + T_LL_13*invg4_UU_03*invg4_UU_11 + T_LL_22*invg4_UU_02*invg4_UU_12 + T_LL_23*invg4_UU_02*invg4_UU_13 + T_LL_23*invg4_UU_03*invg4_UU_12 + T_LL_33*invg4_UU_03*invg4_UU_13;\n",
      "        amrex::Real T_UU_02 = T_LL_00*invg4_UU_00*invg4_UU_02 + T_LL_01*invg4_UU_00*invg4_UU_12 + T_LL_01*invg4_UU_01*invg4_UU_02 + T_LL_02*invg4_UU_00*invg4_UU_22 + T_LL_02*std::pow(invg4_UU_02, 2) + T_LL_03*invg4_UU_00*invg4_UU_23 + T_LL_03*invg4_UU_02*invg4_UU_03 + T_LL_11*invg4_UU_01*invg4_UU_12 + T_LL_12*invg4_UU_01*invg4_UU_22 + T_LL_12*invg4_UU_02*invg4_UU_12 + T_LL_13*invg4_UU_01*invg4_UU_23 + T_LL_13*invg4_UU_03*invg4_UU_12 + T_LL_22*invg4_UU_02*invg4_UU_22 + T_LL_23*invg4_UU_02*invg4_UU_23 + T_LL_23*invg4_UU_03*invg4_UU_22 + T_LL_33*invg4_UU_03*invg4_UU_23;\n",
      "        amrex::Real T_UU_03 = T_LL_00*invg4_UU_00*invg4_UU_03 + T_LL_01*invg4_UU_00*invg4_UU_13 + T_LL_01*invg4_UU_01*invg4_UU_03 + T_LL_02*invg4_UU_00*invg4_UU_23 + T_LL_02*invg4_UU_02*invg4_UU_03 + T_LL_03*invg4_UU_00*invg4_UU_33 + T_LL_03*std::pow(invg4_UU_03, 2) + T_LL_11*invg4_UU_01*invg4_UU_13 + T_LL_12*invg4_UU_01*invg4_UU_23 + T_LL_12*invg4_UU_02*invg4_UU_13 + T_LL_13*invg4_UU_01*invg4_UU_33 + T_LL_13*invg4_UU_03*invg4_UU_13 + T_LL_22*invg4_UU_02*invg4_UU_23 + T_LL_23*invg4_UU_02*invg4_UU_33 + T_LL_23*invg4_UU_03*invg4_UU_23 + T_LL_33*invg4_UU_03*invg4_UU_33;\n",
      "        amrex::Real T_UU_11 = T_LL_00*std::pow(invg4_UU_01, 2) + 2*T_LL_01*invg4_UU_01*invg4_UU_11 + 2*T_LL_02*invg4_UU_01*invg4_UU_12 + 2*T_LL_03*invg4_UU_01*invg4_UU_13 + T_LL_11*std::pow(invg4_UU_11, 2) + 2*T_LL_12*invg4_UU_11*invg4_UU_12 + 2*T_LL_13*invg4_UU_11*invg4_UU_13 + T_LL_22*std::pow(invg4_UU_12, 2) + 2*T_LL_23*invg4_UU_12*invg4_UU_13 + T_LL_33*std::pow(invg4_UU_13, 2);\n",
      "        amrex::Real T_UU_12 = T_LL_00*invg4_UU_01*invg4_UU_02 + T_LL_01*invg4_UU_01*invg4_UU_12 + T_LL_01*invg4_UU_02*invg4_UU_11 + T_LL_02*invg4_UU_01*invg4_UU_22 + T_LL_02*invg4_UU_02*invg4_UU_12 + T_LL_03*invg4_UU_01*invg4_UU_23 + T_LL_03*invg4_UU_02*invg4_UU_13 + T_LL_11*invg4_UU_11*invg4_UU_12 + T_LL_12*invg4_UU_11*invg4_UU_22 + T_LL_12*std::pow(invg4_UU_12, 2) + T_LL_13*invg4_UU_11*invg4_UU_23 + T_LL_13*invg4_UU_12*invg4_UU_13 + T_LL_22*invg4_UU_12*invg4_UU_22 + T_LL_23*invg4_UU_12*invg4_UU_23 + T_LL_23*invg4_UU_13*invg4_UU_22 + T_LL_33*invg4_UU_13*invg4_UU_23;\n",
      "        amrex::Real T_UU_13 = T_LL_00*invg4_UU_01*invg4_UU_03 + T_LL_01*invg4_UU_01*invg4_UU_13 + T_LL_01*invg4_UU_03*invg4_UU_11 + T_LL_02*invg4_UU_01*invg4_UU_23 + T_LL_02*invg4_UU_03*invg4_UU_12 + T_LL_03*invg4_UU_01*invg4_UU_33 + T_LL_03*invg4_UU_03*invg4_UU_13 + T_LL_11*invg4_UU_11*invg4_UU_13 + T_LL_12*invg4_UU_11*invg4_UU_23 + T_LL_12*invg4_UU_12*invg4_UU_13 + T_LL_13*invg4_UU_11*invg4_UU_33 + T_LL_13*std::pow(invg4_UU_13, 2) + T_LL_22*invg4_UU_12*invg4_UU_23 + T_LL_23*invg4_UU_12*invg4_UU_33 + T_LL_23*invg4_UU_13*invg4_UU_23 + T_LL_33*invg4_UU_13*invg4_UU_33;\n",
      "        amrex::Real T_UU_22 = T_LL_00*std::pow(invg4_UU_02, 2) + 2*T_LL_01*invg4_UU_02*invg4_UU_12 + 2*T_LL_02*invg4_UU_02*invg4_UU_22 + 2*T_LL_03*invg4_UU_02*invg4_UU_23 + T_LL_11*std::pow(invg4_UU_12, 2) + 2*T_LL_12*invg4_UU_12*invg4_UU_22 + 2*T_LL_13*invg4_UU_12*invg4_UU_23 + T_LL_22*std::pow(invg4_UU_22, 2) + 2*T_LL_23*invg4_UU_22*invg4_UU_23 + T_LL_33*std::pow(invg4_UU_23, 2);\n",
      "        amrex::Real T_UU_23 = T_LL_00*invg4_UU_02*invg4_UU_03 + T_LL_01*invg4_UU_02*invg4_UU_13 + T_LL_01*invg4_UU_03*invg4_UU_12 + T_LL_02*invg4_UU_02*invg4_UU_23 + T_LL_02*invg4_UU_03*invg4_UU_22 + T_LL_03*invg4_UU_02*invg4_UU_33 + T_LL_03*invg4_UU_03*invg4_UU_23 + T_LL_11*invg4_UU_12*invg4_UU_13 + T_LL_12*invg4_UU_12*invg4_UU_23 + T_LL_12*invg4_UU_13*invg4_UU_22 + T_LL_13*invg4_UU_12*invg4_UU_33 + T_LL_13*invg4_UU_13*invg4_UU_23 + T_LL_22*invg4_UU_22*invg4_UU_23 + T_LL_23*invg4_UU_22*invg4_UU_33 + T_LL_23*std::pow(invg4_UU_23, 2) + T_LL_33*invg4_UU_23*invg4_UU_33;\n",
      "        amrex::Real T_UU_33 = T_LL_00*std::pow(invg4_UU_03, 2) + 2*T_LL_01*invg4_UU_03*invg4_UU_13 + 2*T_LL_02*invg4_UU_03*invg4_UU_23 + 2*T_LL_03*invg4_UU_03*invg4_UU_33 + T_LL_11*std::pow(invg4_UU_13, 2) + 2*T_LL_12*invg4_UU_13*invg4_UU_23 + 2*T_LL_13*invg4_UU_13*invg4_UU_33 + T_LL_22*std::pow(invg4_UU_23, 2) + 2*T_LL_23*invg4_UU_23*invg4_UU_33 + T_LL_33*std::pow(invg4_UU_33, 2);\n",
      "\n",
      "        amrex::Real rho = T_UU_33*std::pow(n_L_3, 2);\n",
      "\n",
      "        amrex::Real S_U_0 = -T_LL_00*invgambar_UU_00*n_U_0/Psi - T_LL_01*invgambar_UU_00*n_U_1/Psi - T_LL_01*invgambar_UU_01*n_U_0/Psi - T_LL_02*invgambar_UU_00*n_U_2/Psi - T_LL_02*invgambar_UU_02*n_U_0/Psi - T_LL_03*invgambar_UU_00*n_U_3/Psi - T_LL_11*invgambar_UU_01*n_U_1/Psi - T_LL_12*invgambar_UU_01*n_U_2/Psi - T_LL_12*invgambar_UU_02*n_U_1/Psi - T_LL_13*invgambar_UU_01*n_U_3/Psi - T_LL_22*invgambar_UU_02*n_U_2/Psi - T_LL_23*invgambar_UU_02*n_U_3/Psi;\n",
      "        amrex::Real S_U_1 = -T_LL_00*invgambar_UU_01*n_U_0/Psi - T_LL_01*invgambar_UU_01*n_U_1/Psi - T_LL_01*invgambar_UU_11*n_U_0/Psi - T_LL_02*invgambar_UU_01*n_U_2/Psi - T_LL_02*invgambar_UU_12*n_U_0/Psi - T_LL_03*invgambar_UU_01*n_U_3/Psi - T_LL_11*invgambar_UU_11*n_U_1/Psi - T_LL_12*invgambar_UU_11*n_U_2/Psi - T_LL_12*invgambar_UU_12*n_U_1/Psi - T_LL_13*invgambar_UU_11*n_U_3/Psi - T_LL_22*invgambar_UU_12*n_U_2/Psi - T_LL_23*invgambar_UU_12*n_U_3/Psi;\n",
      "        amrex::Real S_U_2 = -T_LL_00*invgambar_UU_02*n_U_0/Psi - T_LL_01*invgambar_UU_02*n_U_1/Psi - T_LL_01*invgambar_UU_12*n_U_0/Psi - T_LL_02*invgambar_UU_02*n_U_2/Psi - T_LL_02*invgambar_UU_22*n_U_0/Psi - T_LL_03*invgambar_UU_02*n_U_3/Psi - T_LL_11*invgambar_UU_12*n_U_1/Psi - T_LL_12*invgambar_UU_12*n_U_2/Psi - T_LL_12*invgambar_UU_22*n_U_1/Psi - T_LL_13*invgambar_UU_12*n_U_3/Psi - T_LL_22*invgambar_UU_22*n_U_2/Psi - T_LL_23*invgambar_UU_22*n_U_3/Psi;\n",
      "\n",
      "        amrex::Real Christoffelgambar_LLL_000 = 0.5*dDgambar_LLL_000;\n",
      "        amrex::Real Christoffelgambar_LLL_001 = 0.5*dDgambar_LLL_001;\n",
      "        amrex::Real Christoffelgambar_LLL_002 = 0.5*dDgambar_LLL_002;\n",
      "        amrex::Real Christoffelgambar_LLL_011 = 1.0*dDgambar_LLL_011 - 0.5*dDgambar_LLL_110;\n",
      "        amrex::Real Christoffelgambar_LLL_012 = 0.5*dDgambar_LLL_012 + 0.5*dDgambar_LLL_021 - 0.5*dDgambar_LLL_120;\n",
      "        amrex::Real Christoffelgambar_LLL_022 = 1.0*dDgambar_LLL_022 - 0.5*dDgambar_LLL_220;\n",
      "        amrex::Real Christoffelgambar_LLL_100 = -0.5*dDgambar_LLL_001 + 1.0*dDgambar_LLL_010;\n",
      "        amrex::Real Christoffelgambar_LLL_101 = 0.5*dDgambar_LLL_110;\n",
      "        amrex::Real Christoffelgambar_LLL_102 = 0.5*dDgambar_LLL_012 - 0.5*dDgambar_LLL_021 + 0.5*dDgambar_LLL_120;\n",
      "        amrex::Real Christoffelgambar_LLL_111 = 0.5*dDgambar_LLL_111;\n",
      "        amrex::Real Christoffelgambar_LLL_112 = 0.5*dDgambar_LLL_112;\n",
      "        amrex::Real Christoffelgambar_LLL_122 = 1.0*dDgambar_LLL_122 - 0.5*dDgambar_LLL_221;\n",
      "        amrex::Real Christoffelgambar_LLL_200 = -0.5*dDgambar_LLL_002 + 1.0*dDgambar_LLL_020;\n",
      "        amrex::Real Christoffelgambar_LLL_201 = -0.5*dDgambar_LLL_012 + 0.5*dDgambar_LLL_021 + 0.5*dDgambar_LLL_120;\n",
      "        amrex::Real Christoffelgambar_LLL_202 = 0.5*dDgambar_LLL_220;\n",
      "        amrex::Real Christoffelgambar_LLL_211 = -0.5*dDgambar_LLL_112 + 1.0*dDgambar_LLL_121;\n",
      "        amrex::Real Christoffelgambar_LLL_212 = 0.5*dDgambar_LLL_221;\n",
      "        amrex::Real Christoffelgambar_LLL_222 = 0.5*dDgambar_LLL_222;\n",
      "\n",
      "        amrex::Real Christoffelgambar_ULL_000 = Christoffelgambar_LLL_000*invgambar_UU_00 + Christoffelgambar_LLL_100*invgambar_UU_01 + Christoffelgambar_LLL_200*invgambar_UU_02;\n",
      "        amrex::Real Christoffelgambar_ULL_001 = Christoffelgambar_LLL_001*invgambar_UU_00 + Christoffelgambar_LLL_101*invgambar_UU_01 + Christoffelgambar_LLL_201*invgambar_UU_02;\n",
      "        amrex::Real Christoffelgambar_ULL_002 = Christoffelgambar_LLL_002*invgambar_UU_00 + Christoffelgambar_LLL_102*invgambar_UU_01 + Christoffelgambar_LLL_202*invgambar_UU_02;\n",
      "        amrex::Real Christoffelgambar_ULL_011 = Christoffelgambar_LLL_011*invgambar_UU_00 + Christoffelgambar_LLL_111*invgambar_UU_01 + Christoffelgambar_LLL_211*invgambar_UU_02;\n",
      "        amrex::Real Christoffelgambar_ULL_012 = Christoffelgambar_LLL_012*invgambar_UU_00 + Christoffelgambar_LLL_112*invgambar_UU_01 + Christoffelgambar_LLL_212*invgambar_UU_02;\n",
      "        amrex::Real Christoffelgambar_ULL_022 = Christoffelgambar_LLL_022*invgambar_UU_00 + Christoffelgambar_LLL_122*invgambar_UU_01 + Christoffelgambar_LLL_222*invgambar_UU_02;\n",
      "        amrex::Real Christoffelgambar_ULL_100 = Christoffelgambar_LLL_000*invgambar_UU_01 + Christoffelgambar_LLL_100*invgambar_UU_11 + Christoffelgambar_LLL_200*invgambar_UU_12;\n",
      "        amrex::Real Christoffelgambar_ULL_101 = Christoffelgambar_LLL_001*invgambar_UU_01 + Christoffelgambar_LLL_101*invgambar_UU_11 + Christoffelgambar_LLL_201*invgambar_UU_12;\n",
      "        amrex::Real Christoffelgambar_ULL_102 = Christoffelgambar_LLL_002*invgambar_UU_01 + Christoffelgambar_LLL_102*invgambar_UU_11 + Christoffelgambar_LLL_202*invgambar_UU_12;\n",
      "        amrex::Real Christoffelgambar_ULL_111 = Christoffelgambar_LLL_011*invgambar_UU_01 + Christoffelgambar_LLL_111*invgambar_UU_11 + Christoffelgambar_LLL_211*invgambar_UU_12;\n",
      "        amrex::Real Christoffelgambar_ULL_112 = Christoffelgambar_LLL_012*invgambar_UU_01 + Christoffelgambar_LLL_112*invgambar_UU_11 + Christoffelgambar_LLL_212*invgambar_UU_12;\n",
      "        amrex::Real Christoffelgambar_ULL_122 = Christoffelgambar_LLL_022*invgambar_UU_01 + Christoffelgambar_LLL_122*invgambar_UU_11 + Christoffelgambar_LLL_222*invgambar_UU_12;\n",
      "        amrex::Real Christoffelgambar_ULL_200 = Christoffelgambar_LLL_000*invgambar_UU_02 + Christoffelgambar_LLL_100*invgambar_UU_12 + Christoffelgambar_LLL_200*invgambar_UU_22;\n",
      "        amrex::Real Christoffelgambar_ULL_201 = Christoffelgambar_LLL_001*invgambar_UU_02 + Christoffelgambar_LLL_101*invgambar_UU_12 + Christoffelgambar_LLL_201*invgambar_UU_22;\n",
      "        amrex::Real Christoffelgambar_ULL_202 = Christoffelgambar_LLL_002*invgambar_UU_02 + Christoffelgambar_LLL_102*invgambar_UU_12 + Christoffelgambar_LLL_202*invgambar_UU_22;\n",
      "        amrex::Real Christoffelgambar_ULL_211 = Christoffelgambar_LLL_011*invgambar_UU_02 + Christoffelgambar_LLL_111*invgambar_UU_12 + Christoffelgambar_LLL_211*invgambar_UU_22;\n",
      "        amrex::Real Christoffelgambar_ULL_212 = Christoffelgambar_LLL_012*invgambar_UU_02 + Christoffelgambar_LLL_112*invgambar_UU_12 + Christoffelgambar_LLL_212*invgambar_UU_22;\n",
      "        amrex::Real Christoffelgambar_ULL_222 = Christoffelgambar_LLL_022*invgambar_UU_02 + Christoffelgambar_LLL_122*invgambar_UU_12 + Christoffelgambar_LLL_222*invgambar_UU_22;\n",
      "\n",
      "        amrex::Real Riccigambar_LL_00 = -0.5*dDDgambar_LLLL_0011*invgambar_UU_11 - 1.0*dDDgambar_LLLL_0012*invgambar_UU_12 - 0.5*dDDgambar_LLLL_0022*invgambar_UU_22 + 1.0*dDDgambar_LLLL_0101*invgambar_UU_11 + 1.0*dDDgambar_LLLL_0102*invgambar_UU_12 + 1.0*dDDgambar_LLLL_0201*invgambar_UU_12 + 1.0*dDDgambar_LLLL_0202*invgambar_UU_22 - 0.5*dDDgambar_LLLL_1100*invgambar_UU_11 - 1.0*dDDgambar_LLLL_1200*invgambar_UU_12 - 0.5*dDDgambar_LLLL_2200*invgambar_UU_22 + invgambar_UU_01*(Christoffelgambar_LLL_000*Christoffelgambar_ULL_001 - Christoffelgambar_LLL_001*Christoffelgambar_ULL_000) + invgambar_UU_01*(Christoffelgambar_LLL_100*Christoffelgambar_ULL_101 - Christoffelgambar_LLL_101*Christoffelgambar_ULL_100) + invgambar_UU_01*(Christoffelgambar_LLL_200*Christoffelgambar_ULL_201 - Christoffelgambar_LLL_201*Christoffelgambar_ULL_200) + invgambar_UU_02*(Christoffelgambar_LLL_000*Christoffelgambar_ULL_002 - Christoffelgambar_LLL_002*Christoffelgambar_ULL_000) + invgambar_UU_02*(Christoffelgambar_LLL_100*Christoffelgambar_ULL_102 - Christoffelgambar_LLL_102*Christoffelgambar_ULL_100) + invgambar_UU_02*(Christoffelgambar_LLL_200*Christoffelgambar_ULL_202 - Christoffelgambar_LLL_202*Christoffelgambar_ULL_200) + invgambar_UU_11*(Christoffelgambar_LLL_001*Christoffelgambar_ULL_001 - Christoffelgambar_LLL_011*Christoffelgambar_ULL_000) + invgambar_UU_11*(Christoffelgambar_LLL_101*Christoffelgambar_ULL_101 - Christoffelgambar_LLL_111*Christoffelgambar_ULL_100) + invgambar_UU_11*(Christoffelgambar_LLL_201*Christoffelgambar_ULL_201 - Christoffelgambar_LLL_211*Christoffelgambar_ULL_200) + invgambar_UU_12*(Christoffelgambar_LLL_001*Christoffelgambar_ULL_002 - Christoffelgambar_LLL_012*Christoffelgambar_ULL_000) + invgambar_UU_12*(Christoffelgambar_LLL_002*Christoffelgambar_ULL_001 - Christoffelgambar_LLL_012*Christoffelgambar_ULL_000) + invgambar_UU_12*(Christoffelgambar_LLL_101*Christoffelgambar_ULL_102 - Christoffelgambar_LLL_112*Christoffelgambar_ULL_100) + invgambar_UU_12*(Christoffelgambar_LLL_102*Christoffelgambar_ULL_101 - Christoffelgambar_LLL_112*Christoffelgambar_ULL_100) + invgambar_UU_12*(Christoffelgambar_LLL_201*Christoffelgambar_ULL_202 - Christoffelgambar_LLL_212*Christoffelgambar_ULL_200) + invgambar_UU_12*(Christoffelgambar_LLL_202*Christoffelgambar_ULL_201 - Christoffelgambar_LLL_212*Christoffelgambar_ULL_200) + invgambar_UU_22*(Christoffelgambar_LLL_002*Christoffelgambar_ULL_002 - Christoffelgambar_LLL_022*Christoffelgambar_ULL_000) + invgambar_UU_22*(Christoffelgambar_LLL_102*Christoffelgambar_ULL_102 - Christoffelgambar_LLL_122*Christoffelgambar_ULL_100) + invgambar_UU_22*(Christoffelgambar_LLL_202*Christoffelgambar_ULL_202 - Christoffelgambar_LLL_222*Christoffelgambar_ULL_200);\n",
      "        amrex::Real Riccigambar_LL_01 = 0.5*dDDgambar_LLLL_0011*invgambar_UU_01 + 0.5*dDDgambar_LLLL_0012*invgambar_UU_02 - 1.0*dDDgambar_LLLL_0101*invgambar_UU_01 - 0.5*dDDgambar_LLLL_0102*invgambar_UU_02 - 0.5*dDDgambar_LLLL_0112*invgambar_UU_12 - 0.5*dDDgambar_LLLL_0122*invgambar_UU_22 - 0.5*dDDgambar_LLLL_0201*invgambar_UU_02 + 0.5*dDDgambar_LLLL_0211*invgambar_UU_12 + 0.5*dDDgambar_LLLL_0212*invgambar_UU_22 + 0.5*dDDgambar_LLLL_1100*invgambar_UU_01 + 0.5*dDDgambar_LLLL_1102*invgambar_UU_12 + 0.5*dDDgambar_LLLL_1200*invgambar_UU_02 - 0.5*dDDgambar_LLLL_1201*invgambar_UU_12 + 0.5*dDDgambar_LLLL_1202*invgambar_UU_22 - 0.5*dDDgambar_LLLL_2201*invgambar_UU_22 + invgambar_UU_00*(-Christoffelgambar_LLL_000*Christoffelgambar_ULL_001 + Christoffelgambar_LLL_001*Christoffelgambar_ULL_000) + invgambar_UU_00*(-Christoffelgambar_LLL_100*Christoffelgambar_ULL_101 + Christoffelgambar_LLL_101*Christoffelgambar_ULL_100) + invgambar_UU_00*(-Christoffelgambar_LLL_200*Christoffelgambar_ULL_201 + Christoffelgambar_LLL_201*Christoffelgambar_ULL_200) + invgambar_UU_01*(-Christoffelgambar_LLL_001*Christoffelgambar_ULL_001 + Christoffelgambar_LLL_011*Christoffelgambar_ULL_000) + invgambar_UU_01*(-Christoffelgambar_LLL_101*Christoffelgambar_ULL_101 + Christoffelgambar_LLL_111*Christoffelgambar_ULL_100) + invgambar_UU_01*(-Christoffelgambar_LLL_201*Christoffelgambar_ULL_201 + Christoffelgambar_LLL_211*Christoffelgambar_ULL_200) + invgambar_UU_02*(Christoffelgambar_LLL_001*Christoffelgambar_ULL_002 - Christoffelgambar_LLL_002*Christoffelgambar_ULL_001) + invgambar_UU_02*(-Christoffelgambar_LLL_002*Christoffelgambar_ULL_001 + Christoffelgambar_LLL_012*Christoffelgambar_ULL_000) + invgambar_UU_02*(Christoffelgambar_LLL_101*Christoffelgambar_ULL_102 - Christoffelgambar_LLL_102*Christoffelgambar_ULL_101) + invgambar_UU_02*(-Christoffelgambar_LLL_102*Christoffelgambar_ULL_101 + Christoffelgambar_LLL_112*Christoffelgambar_ULL_100) + invgambar_UU_02*(Christoffelgambar_LLL_201*Christoffelgambar_ULL_202 - Christoffelgambar_LLL_202*Christoffelgambar_ULL_201) + invgambar_UU_02*(-Christoffelgambar_LLL_202*Christoffelgambar_ULL_201 + Christoffelgambar_LLL_212*Christoffelgambar_ULL_200) + invgambar_UU_12*(Christoffelgambar_LLL_011*Christoffelgambar_ULL_002 - Christoffelgambar_LLL_012*Christoffelgambar_ULL_001) + invgambar_UU_12*(Christoffelgambar_LLL_111*Christoffelgambar_ULL_102 - Christoffelgambar_LLL_112*Christoffelgambar_ULL_101) + invgambar_UU_12*(Christoffelgambar_LLL_211*Christoffelgambar_ULL_202 - Christoffelgambar_LLL_212*Christoffelgambar_ULL_201) + invgambar_UU_22*(Christoffelgambar_LLL_012*Christoffelgambar_ULL_002 - Christoffelgambar_LLL_022*Christoffelgambar_ULL_001) + invgambar_UU_22*(Christoffelgambar_LLL_112*Christoffelgambar_ULL_102 - Christoffelgambar_LLL_122*Christoffelgambar_ULL_101) + invgambar_UU_22*(Christoffelgambar_LLL_212*Christoffelgambar_ULL_202 - Christoffelgambar_LLL_222*Christoffelgambar_ULL_201);\n",
      "        amrex::Real Riccigambar_LL_02 = 0.5*dDDgambar_LLLL_0012*invgambar_UU_01 + 0.5*dDDgambar_LLLL_0022*invgambar_UU_02 - 0.5*dDDgambar_LLLL_0102*invgambar_UU_01 + 0.5*dDDgambar_LLLL_0112*invgambar_UU_11 + 0.5*dDDgambar_LLLL_0122*invgambar_UU_12 - 0.5*dDDgambar_LLLL_0201*invgambar_UU_01 - 1.0*dDDgambar_LLLL_0202*invgambar_UU_02 - 0.5*dDDgambar_LLLL_0211*invgambar_UU_11 - 0.5*dDDgambar_LLLL_0212*invgambar_UU_12 - 0.5*dDDgambar_LLLL_1102*invgambar_UU_11 + 0.5*dDDgambar_LLLL_1200*invgambar_UU_01 + 0.5*dDDgambar_LLLL_1201*invgambar_UU_11 - 0.5*dDDgambar_LLLL_1202*invgambar_UU_12 + 0.5*dDDgambar_LLLL_2200*invgambar_UU_02 + 0.5*dDDgambar_LLLL_2201*invgambar_UU_12 + invgambar_UU_00*(-Christoffelgambar_LLL_000*Christoffelgambar_ULL_002 + Christoffelgambar_LLL_002*Christoffelgambar_ULL_000) + invgambar_UU_00*(-Christoffelgambar_LLL_100*Christoffelgambar_ULL_102 + Christoffelgambar_LLL_102*Christoffelgambar_ULL_100) + invgambar_UU_00*(-Christoffelgambar_LLL_200*Christoffelgambar_ULL_202 + Christoffelgambar_LLL_202*Christoffelgambar_ULL_200) + invgambar_UU_01*(-Christoffelgambar_LLL_001*Christoffelgambar_ULL_002 + Christoffelgambar_LLL_002*Christoffelgambar_ULL_001) + invgambar_UU_01*(-Christoffelgambar_LLL_001*Christoffelgambar_ULL_002 + Christoffelgambar_LLL_012*Christoffelgambar_ULL_000) + invgambar_UU_01*(-Christoffelgambar_LLL_101*Christoffelgambar_ULL_102 + Christoffelgambar_LLL_102*Christoffelgambar_ULL_101) + invgambar_UU_01*(-Christoffelgambar_LLL_101*Christoffelgambar_ULL_102 + Christoffelgambar_LLL_112*Christoffelgambar_ULL_100) + invgambar_UU_01*(-Christoffelgambar_LLL_201*Christoffelgambar_ULL_202 + Christoffelgambar_LLL_202*Christoffelgambar_ULL_201) + invgambar_UU_01*(-Christoffelgambar_LLL_201*Christoffelgambar_ULL_202 + Christoffelgambar_LLL_212*Christoffelgambar_ULL_200) + invgambar_UU_02*(-Christoffelgambar_LLL_002*Christoffelgambar_ULL_002 + Christoffelgambar_LLL_022*Christoffelgambar_ULL_000) + invgambar_UU_02*(-Christoffelgambar_LLL_102*Christoffelgambar_ULL_102 + Christoffelgambar_LLL_122*Christoffelgambar_ULL_100) + invgambar_UU_02*(-Christoffelgambar_LLL_202*Christoffelgambar_ULL_202 + Christoffelgambar_LLL_222*Christoffelgambar_ULL_200) + invgambar_UU_11*(-Christoffelgambar_LLL_011*Christoffelgambar_ULL_002 + Christoffelgambar_LLL_012*Christoffelgambar_ULL_001) + invgambar_UU_11*(-Christoffelgambar_LLL_111*Christoffelgambar_ULL_102 + Christoffelgambar_LLL_112*Christoffelgambar_ULL_101) + invgambar_UU_11*(-Christoffelgambar_LLL_211*Christoffelgambar_ULL_202 + Christoffelgambar_LLL_212*Christoffelgambar_ULL_201) + invgambar_UU_12*(-Christoffelgambar_LLL_012*Christoffelgambar_ULL_002 + Christoffelgambar_LLL_022*Christoffelgambar_ULL_001) + invgambar_UU_12*(-Christoffelgambar_LLL_112*Christoffelgambar_ULL_102 + Christoffelgambar_LLL_122*Christoffelgambar_ULL_101) + invgambar_UU_12*(-Christoffelgambar_LLL_212*Christoffelgambar_ULL_202 + Christoffelgambar_LLL_222*Christoffelgambar_ULL_201);\n",
      "        amrex::Real Riccigambar_LL_11 = -0.5*dDDgambar_LLLL_0011*invgambar_UU_00 + 1.0*dDDgambar_LLLL_0101*invgambar_UU_00 + 1.0*dDDgambar_LLLL_0112*invgambar_UU_02 - 1.0*dDDgambar_LLLL_0211*invgambar_UU_02 - 0.5*dDDgambar_LLLL_1100*invgambar_UU_00 - 1.0*dDDgambar_LLLL_1102*invgambar_UU_02 - 0.5*dDDgambar_LLLL_1122*invgambar_UU_22 + 1.0*dDDgambar_LLLL_1201*invgambar_UU_02 + 1.0*dDDgambar_LLLL_1212*invgambar_UU_22 - 0.5*dDDgambar_LLLL_2211*invgambar_UU_22 + invgambar_UU_00*(-Christoffelgambar_LLL_000*Christoffelgambar_ULL_011 + Christoffelgambar_LLL_001*Christoffelgambar_ULL_001) + invgambar_UU_00*(-Christoffelgambar_LLL_100*Christoffelgambar_ULL_111 + Christoffelgambar_LLL_101*Christoffelgambar_ULL_101) + invgambar_UU_00*(-Christoffelgambar_LLL_200*Christoffelgambar_ULL_211 + Christoffelgambar_LLL_201*Christoffelgambar_ULL_201) + invgambar_UU_01*(-Christoffelgambar_LLL_001*Christoffelgambar_ULL_011 + Christoffelgambar_LLL_011*Christoffelgambar_ULL_001) + invgambar_UU_01*(-Christoffelgambar_LLL_101*Christoffelgambar_ULL_111 + Christoffelgambar_LLL_111*Christoffelgambar_ULL_101) + invgambar_UU_01*(-Christoffelgambar_LLL_201*Christoffelgambar_ULL_211 + Christoffelgambar_LLL_211*Christoffelgambar_ULL_201) + invgambar_UU_02*(Christoffelgambar_LLL_001*Christoffelgambar_ULL_012 - Christoffelgambar_LLL_002*Christoffelgambar_ULL_011) + invgambar_UU_02*(-Christoffelgambar_LLL_002*Christoffelgambar_ULL_011 + Christoffelgambar_LLL_012*Christoffelgambar_ULL_001) + invgambar_UU_02*(Christoffelgambar_LLL_101*Christoffelgambar_ULL_112 - Christoffelgambar_LLL_102*Christoffelgambar_ULL_111) + invgambar_UU_02*(-Christoffelgambar_LLL_102*Christoffelgambar_ULL_111 + Christoffelgambar_LLL_112*Christoffelgambar_ULL_101) + invgambar_UU_02*(Christoffelgambar_LLL_201*Christoffelgambar_ULL_212 - Christoffelgambar_LLL_202*Christoffelgambar_ULL_211) + invgambar_UU_02*(-Christoffelgambar_LLL_202*Christoffelgambar_ULL_211 + Christoffelgambar_LLL_212*Christoffelgambar_ULL_201) + invgambar_UU_12*(Christoffelgambar_LLL_011*Christoffelgambar_ULL_012 - Christoffelgambar_LLL_012*Christoffelgambar_ULL_011) + invgambar_UU_12*(Christoffelgambar_LLL_111*Christoffelgambar_ULL_112 - Christoffelgambar_LLL_112*Christoffelgambar_ULL_111) + invgambar_UU_12*(Christoffelgambar_LLL_211*Christoffelgambar_ULL_212 - Christoffelgambar_LLL_212*Christoffelgambar_ULL_211) + invgambar_UU_22*(Christoffelgambar_LLL_012*Christoffelgambar_ULL_012 - Christoffelgambar_LLL_022*Christoffelgambar_ULL_011) + invgambar_UU_22*(Christoffelgambar_LLL_112*Christoffelgambar_ULL_112 - Christoffelgambar_LLL_122*Christoffelgambar_ULL_111) + invgambar_UU_22*(Christoffelgambar_LLL_212*Christoffelgambar_ULL_212 - Christoffelgambar_LLL_222*Christoffelgambar_ULL_211);\n",
      "        amrex::Real Riccigambar_LL_12 = -0.5*dDDgambar_LLLL_0012*invgambar_UU_00 + 0.5*dDDgambar_LLLL_0102*invgambar_UU_00 - 0.5*dDDgambar_LLLL_0112*invgambar_UU_01 + 0.5*dDDgambar_LLLL_0122*invgambar_UU_02 + 0.5*dDDgambar_LLLL_0201*invgambar_UU_00 + 0.5*dDDgambar_LLLL_0211*invgambar_UU_01 - 0.5*dDDgambar_LLLL_0212*invgambar_UU_02 + 0.5*dDDgambar_LLLL_1102*invgambar_UU_01 + 0.5*dDDgambar_LLLL_1122*invgambar_UU_12 - 0.5*dDDgambar_LLLL_1200*invgambar_UU_00 - 0.5*dDDgambar_LLLL_1201*invgambar_UU_01 - 0.5*dDDgambar_LLLL_1202*invgambar_UU_02 - 1.0*dDDgambar_LLLL_1212*invgambar_UU_12 + 0.5*dDDgambar_LLLL_2201*invgambar_UU_02 + 0.5*dDDgambar_LLLL_2211*invgambar_UU_12 + invgambar_UU_00*(-Christoffelgambar_LLL_000*Christoffelgambar_ULL_012 + Christoffelgambar_LLL_002*Christoffelgambar_ULL_001) + invgambar_UU_00*(-Christoffelgambar_LLL_100*Christoffelgambar_ULL_112 + Christoffelgambar_LLL_102*Christoffelgambar_ULL_101) + invgambar_UU_00*(-Christoffelgambar_LLL_200*Christoffelgambar_ULL_212 + Christoffelgambar_LLL_202*Christoffelgambar_ULL_201) + invgambar_UU_01*(-Christoffelgambar_LLL_001*Christoffelgambar_ULL_012 + Christoffelgambar_LLL_002*Christoffelgambar_ULL_011) + invgambar_UU_01*(-Christoffelgambar_LLL_001*Christoffelgambar_ULL_012 + Christoffelgambar_LLL_012*Christoffelgambar_ULL_001) + invgambar_UU_01*(-Christoffelgambar_LLL_101*Christoffelgambar_ULL_112 + Christoffelgambar_LLL_102*Christoffelgambar_ULL_111) + invgambar_UU_01*(-Christoffelgambar_LLL_101*Christoffelgambar_ULL_112 + Christoffelgambar_LLL_112*Christoffelgambar_ULL_101) + invgambar_UU_01*(-Christoffelgambar_LLL_201*Christoffelgambar_ULL_212 + Christoffelgambar_LLL_202*Christoffelgambar_ULL_211) + invgambar_UU_01*(-Christoffelgambar_LLL_201*Christoffelgambar_ULL_212 + Christoffelgambar_LLL_212*Christoffelgambar_ULL_201) + invgambar_UU_02*(-Christoffelgambar_LLL_002*Christoffelgambar_ULL_012 + Christoffelgambar_LLL_022*Christoffelgambar_ULL_001) + invgambar_UU_02*(-Christoffelgambar_LLL_102*Christoffelgambar_ULL_112 + Christoffelgambar_LLL_122*Christoffelgambar_ULL_101) + invgambar_UU_02*(-Christoffelgambar_LLL_202*Christoffelgambar_ULL_212 + Christoffelgambar_LLL_222*Christoffelgambar_ULL_201) + invgambar_UU_11*(-Christoffelgambar_LLL_011*Christoffelgambar_ULL_012 + Christoffelgambar_LLL_012*Christoffelgambar_ULL_011) + invgambar_UU_11*(-Christoffelgambar_LLL_111*Christoffelgambar_ULL_112 + Christoffelgambar_LLL_112*Christoffelgambar_ULL_111) + invgambar_UU_11*(-Christoffelgambar_LLL_211*Christoffelgambar_ULL_212 + Christoffelgambar_LLL_212*Christoffelgambar_ULL_211) + invgambar_UU_12*(-Christoffelgambar_LLL_012*Christoffelgambar_ULL_012 + Christoffelgambar_LLL_022*Christoffelgambar_ULL_011) + invgambar_UU_12*(-Christoffelgambar_LLL_112*Christoffelgambar_ULL_112 + Christoffelgambar_LLL_122*Christoffelgambar_ULL_111) + invgambar_UU_12*(-Christoffelgambar_LLL_212*Christoffelgambar_ULL_212 + Christoffelgambar_LLL_222*Christoffelgambar_ULL_211);\n",
      "        amrex::Real Riccigambar_LL_22 = -0.5*dDDgambar_LLLL_0022*invgambar_UU_00 - 1.0*dDDgambar_LLLL_0122*invgambar_UU_01 + 1.0*dDDgambar_LLLL_0202*invgambar_UU_00 + 1.0*dDDgambar_LLLL_0212*invgambar_UU_01 - 0.5*dDDgambar_LLLL_1122*invgambar_UU_11 + 1.0*dDDgambar_LLLL_1202*invgambar_UU_01 + 1.0*dDDgambar_LLLL_1212*invgambar_UU_11 - 0.5*dDDgambar_LLLL_2200*invgambar_UU_00 - 1.0*dDDgambar_LLLL_2201*invgambar_UU_01 - 0.5*dDDgambar_LLLL_2211*invgambar_UU_11 + invgambar_UU_00*(-Christoffelgambar_LLL_000*Christoffelgambar_ULL_022 + Christoffelgambar_LLL_002*Christoffelgambar_ULL_002) + invgambar_UU_00*(-Christoffelgambar_LLL_100*Christoffelgambar_ULL_122 + Christoffelgambar_LLL_102*Christoffelgambar_ULL_102) + invgambar_UU_00*(-Christoffelgambar_LLL_200*Christoffelgambar_ULL_222 + Christoffelgambar_LLL_202*Christoffelgambar_ULL_202) + invgambar_UU_01*(-Christoffelgambar_LLL_001*Christoffelgambar_ULL_022 + Christoffelgambar_LLL_002*Christoffelgambar_ULL_012) + invgambar_UU_01*(-Christoffelgambar_LLL_001*Christoffelgambar_ULL_022 + Christoffelgambar_LLL_012*Christoffelgambar_ULL_002) + invgambar_UU_01*(-Christoffelgambar_LLL_101*Christoffelgambar_ULL_122 + Christoffelgambar_LLL_102*Christoffelgambar_ULL_112) + invgambar_UU_01*(-Christoffelgambar_LLL_101*Christoffelgambar_ULL_122 + Christoffelgambar_LLL_112*Christoffelgambar_ULL_102) + invgambar_UU_01*(-Christoffelgambar_LLL_201*Christoffelgambar_ULL_222 + Christoffelgambar_LLL_202*Christoffelgambar_ULL_212) + invgambar_UU_01*(-Christoffelgambar_LLL_201*Christoffelgambar_ULL_222 + Christoffelgambar_LLL_212*Christoffelgambar_ULL_202) + invgambar_UU_02*(-Christoffelgambar_LLL_002*Christoffelgambar_ULL_022 + Christoffelgambar_LLL_022*Christoffelgambar_ULL_002) + invgambar_UU_02*(-Christoffelgambar_LLL_102*Christoffelgambar_ULL_122 + Christoffelgambar_LLL_122*Christoffelgambar_ULL_102) + invgambar_UU_02*(-Christoffelgambar_LLL_202*Christoffelgambar_ULL_222 + Christoffelgambar_LLL_222*Christoffelgambar_ULL_202) + invgambar_UU_11*(-Christoffelgambar_LLL_011*Christoffelgambar_ULL_022 + Christoffelgambar_LLL_012*Christoffelgambar_ULL_012) + invgambar_UU_11*(-Christoffelgambar_LLL_111*Christoffelgambar_ULL_122 + Christoffelgambar_LLL_112*Christoffelgambar_ULL_112) + invgambar_UU_11*(-Christoffelgambar_LLL_211*Christoffelgambar_ULL_222 + Christoffelgambar_LLL_212*Christoffelgambar_ULL_212) + invgambar_UU_12*(-Christoffelgambar_LLL_012*Christoffelgambar_ULL_022 + Christoffelgambar_LLL_022*Christoffelgambar_ULL_012) + invgambar_UU_12*(-Christoffelgambar_LLL_112*Christoffelgambar_ULL_122 + Christoffelgambar_LLL_122*Christoffelgambar_ULL_112) + invgambar_UU_12*(-Christoffelgambar_LLL_212*Christoffelgambar_ULL_222 + Christoffelgambar_LLL_222*Christoffelgambar_ULL_212);\n",
      "\n",
      "        amrex::Real RicciScalargambar = Riccigambar_LL_00*invgambar_UU_00 + 2*Riccigambar_LL_01*invgambar_UU_01 + 2*Riccigambar_LL_02*invgambar_UU_02 + Riccigambar_LL_11*invgambar_UU_11 + 2*Riccigambar_LL_12*invgambar_UU_12 + Riccigambar_LL_22*invgambar_UU_22;\n",
      "\n",
      "        amrex::Real CovdDW_UL_00 = Christoffelgambar_ULL_000*W_U_0 + Christoffelgambar_ULL_001*W_U_1 + Christoffelgambar_ULL_002*W_U_2 + dDW_UL_00;\n",
      "        amrex::Real CovdDW_UL_01 = Christoffelgambar_ULL_001*W_U_0 + Christoffelgambar_ULL_011*W_U_1 + Christoffelgambar_ULL_012*W_U_2 + dDW_UL_01;\n",
      "        amrex::Real CovdDW_UL_02 = Christoffelgambar_ULL_002*W_U_0 + Christoffelgambar_ULL_012*W_U_1 + Christoffelgambar_ULL_022*W_U_2 + dDW_UL_02;\n",
      "        amrex::Real CovdDW_UL_10 = Christoffelgambar_ULL_100*W_U_0 + Christoffelgambar_ULL_101*W_U_1 + Christoffelgambar_ULL_102*W_U_2 + dDW_UL_10;\n",
      "        amrex::Real CovdDW_UL_11 = Christoffelgambar_ULL_101*W_U_0 + Christoffelgambar_ULL_111*W_U_1 + Christoffelgambar_ULL_112*W_U_2 + dDW_UL_11;\n",
      "        amrex::Real CovdDW_UL_12 = Christoffelgambar_ULL_102*W_U_0 + Christoffelgambar_ULL_112*W_U_1 + Christoffelgambar_ULL_122*W_U_2 + dDW_UL_12;\n",
      "        amrex::Real CovdDW_UL_20 = Christoffelgambar_ULL_200*W_U_0 + Christoffelgambar_ULL_201*W_U_1 + Christoffelgambar_ULL_202*W_U_2 + dDW_UL_20;\n",
      "        amrex::Real CovdDW_UL_21 = Christoffelgambar_ULL_201*W_U_0 + Christoffelgambar_ULL_211*W_U_1 + Christoffelgambar_ULL_212*W_U_2 + dDW_UL_21;\n",
      "        amrex::Real CovdDW_UL_22 = Christoffelgambar_ULL_202*W_U_0 + Christoffelgambar_ULL_212*W_U_1 + Christoffelgambar_ULL_222*W_U_2 + dDW_UL_22;\n",
      "\n",
      "        amrex::Real CovDW_UU_00 = CovdDW_UL_00*invgambar_UU_00 + CovdDW_UL_01*invgambar_UU_01 + CovdDW_UL_02*invgambar_UU_02;\n",
      "        amrex::Real CovDW_UU_01 = CovdDW_UL_10*invgambar_UU_00 + CovdDW_UL_11*invgambar_UU_01 + CovdDW_UL_12*invgambar_UU_02;\n",
      "        amrex::Real CovDW_UU_02 = CovdDW_UL_20*invgambar_UU_00 + CovdDW_UL_21*invgambar_UU_01 + CovdDW_UL_22*invgambar_UU_02;\n",
      "        amrex::Real CovDW_UU_10 = CovdDW_UL_00*invgambar_UU_01 + CovdDW_UL_01*invgambar_UU_11 + CovdDW_UL_02*invgambar_UU_12;\n",
      "        amrex::Real CovDW_UU_11 = CovdDW_UL_10*invgambar_UU_01 + CovdDW_UL_11*invgambar_UU_11 + CovdDW_UL_12*invgambar_UU_12;\n",
      "        amrex::Real CovDW_UU_12 = CovdDW_UL_20*invgambar_UU_01 + CovdDW_UL_21*invgambar_UU_11 + CovdDW_UL_22*invgambar_UU_12;\n",
      "        amrex::Real CovDW_UU_20 = CovdDW_UL_00*invgambar_UU_02 + CovdDW_UL_01*invgambar_UU_12 + CovdDW_UL_02*invgambar_UU_22;\n",
      "        amrex::Real CovDW_UU_21 = CovdDW_UL_10*invgambar_UU_02 + CovdDW_UL_11*invgambar_UU_12 + CovdDW_UL_12*invgambar_UU_22;\n",
      "        amrex::Real CovDW_UU_22 = CovdDW_UL_20*invgambar_UU_02 + CovdDW_UL_21*invgambar_UU_12 + CovdDW_UL_22*invgambar_UU_22;\n",
      "\n",
      "        amrex::Real dDinvgambar_UUL_000 = -2*Christoffelgambar_ULL_000*invgambar_UU_00 - 2*Christoffelgambar_ULL_001*invgambar_UU_01 - 2*Christoffelgambar_ULL_002*invgambar_UU_02;\n",
      "        amrex::Real dDinvgambar_UUL_001 = -2*Christoffelgambar_ULL_001*invgambar_UU_00 - 2*Christoffelgambar_ULL_011*invgambar_UU_01 - 2*Christoffelgambar_ULL_012*invgambar_UU_02;\n",
      "        amrex::Real dDinvgambar_UUL_002 = -2*Christoffelgambar_ULL_002*invgambar_UU_00 - 2*Christoffelgambar_ULL_012*invgambar_UU_01 - 2*Christoffelgambar_ULL_022*invgambar_UU_02;\n",
      "        amrex::Real dDinvgambar_UUL_010 = -Christoffelgambar_ULL_000*invgambar_UU_01 - Christoffelgambar_ULL_001*invgambar_UU_11 - Christoffelgambar_ULL_002*invgambar_UU_12 - Christoffelgambar_ULL_100*invgambar_UU_00 - Christoffelgambar_ULL_101*invgambar_UU_01 - Christoffelgambar_ULL_102*invgambar_UU_02;\n",
      "        amrex::Real dDinvgambar_UUL_011 = -Christoffelgambar_ULL_001*invgambar_UU_01 - Christoffelgambar_ULL_011*invgambar_UU_11 - Christoffelgambar_ULL_012*invgambar_UU_12 - Christoffelgambar_ULL_101*invgambar_UU_00 - Christoffelgambar_ULL_111*invgambar_UU_01 - Christoffelgambar_ULL_112*invgambar_UU_02;\n",
      "        amrex::Real dDinvgambar_UUL_012 = -Christoffelgambar_ULL_002*invgambar_UU_01 - Christoffelgambar_ULL_012*invgambar_UU_11 - Christoffelgambar_ULL_022*invgambar_UU_12 - Christoffelgambar_ULL_102*invgambar_UU_00 - Christoffelgambar_ULL_112*invgambar_UU_01 - Christoffelgambar_ULL_122*invgambar_UU_02;\n",
      "        amrex::Real dDinvgambar_UUL_020 = -Christoffelgambar_ULL_000*invgambar_UU_02 - Christoffelgambar_ULL_001*invgambar_UU_12 - Christoffelgambar_ULL_002*invgambar_UU_22 - Christoffelgambar_ULL_200*invgambar_UU_00 - Christoffelgambar_ULL_201*invgambar_UU_01 - Christoffelgambar_ULL_202*invgambar_UU_02;\n",
      "        amrex::Real dDinvgambar_UUL_021 = -Christoffelgambar_ULL_001*invgambar_UU_02 - Christoffelgambar_ULL_011*invgambar_UU_12 - Christoffelgambar_ULL_012*invgambar_UU_22 - Christoffelgambar_ULL_201*invgambar_UU_00 - Christoffelgambar_ULL_211*invgambar_UU_01 - Christoffelgambar_ULL_212*invgambar_UU_02;\n",
      "        amrex::Real dDinvgambar_UUL_022 = -Christoffelgambar_ULL_002*invgambar_UU_02 - Christoffelgambar_ULL_012*invgambar_UU_12 - Christoffelgambar_ULL_022*invgambar_UU_22 - Christoffelgambar_ULL_202*invgambar_UU_00 - Christoffelgambar_ULL_212*invgambar_UU_01 - Christoffelgambar_ULL_222*invgambar_UU_02;\n",
      "        amrex::Real dDinvgambar_UUL_110 = -2*Christoffelgambar_ULL_100*invgambar_UU_01 - 2*Christoffelgambar_ULL_101*invgambar_UU_11 - 2*Christoffelgambar_ULL_102*invgambar_UU_12;\n",
      "        amrex::Real dDinvgambar_UUL_111 = -2*Christoffelgambar_ULL_101*invgambar_UU_01 - 2*Christoffelgambar_ULL_111*invgambar_UU_11 - 2*Christoffelgambar_ULL_112*invgambar_UU_12;\n",
      "        amrex::Real dDinvgambar_UUL_112 = -2*Christoffelgambar_ULL_102*invgambar_UU_01 - 2*Christoffelgambar_ULL_112*invgambar_UU_11 - 2*Christoffelgambar_ULL_122*invgambar_UU_12;\n",
      "        amrex::Real dDinvgambar_UUL_120 = -Christoffelgambar_ULL_100*invgambar_UU_02 - Christoffelgambar_ULL_101*invgambar_UU_12 - Christoffelgambar_ULL_102*invgambar_UU_22 - Christoffelgambar_ULL_200*invgambar_UU_01 - Christoffelgambar_ULL_201*invgambar_UU_11 - Christoffelgambar_ULL_202*invgambar_UU_12;\n",
      "        amrex::Real dDinvgambar_UUL_121 = -Christoffelgambar_ULL_101*invgambar_UU_02 - Christoffelgambar_ULL_111*invgambar_UU_12 - Christoffelgambar_ULL_112*invgambar_UU_22 - Christoffelgambar_ULL_201*invgambar_UU_01 - Christoffelgambar_ULL_211*invgambar_UU_11 - Christoffelgambar_ULL_212*invgambar_UU_12;\n",
      "        amrex::Real dDinvgambar_UUL_122 = -Christoffelgambar_ULL_102*invgambar_UU_02 - Christoffelgambar_ULL_112*invgambar_UU_12 - Christoffelgambar_ULL_122*invgambar_UU_22 - Christoffelgambar_ULL_202*invgambar_UU_01 - Christoffelgambar_ULL_212*invgambar_UU_11 - Christoffelgambar_ULL_222*invgambar_UU_12;\n",
      "        amrex::Real dDinvgambar_UUL_220 = -2*Christoffelgambar_ULL_200*invgambar_UU_02 - 2*Christoffelgambar_ULL_201*invgambar_UU_12 - 2*Christoffelgambar_ULL_202*invgambar_UU_22;\n",
      "        amrex::Real dDinvgambar_UUL_221 = -2*Christoffelgambar_ULL_201*invgambar_UU_02 - 2*Christoffelgambar_ULL_211*invgambar_UU_12 - 2*Christoffelgambar_ULL_212*invgambar_UU_22;\n",
      "        amrex::Real dDinvgambar_UUL_222 = -2*Christoffelgambar_ULL_202*invgambar_UU_02 - 2*Christoffelgambar_ULL_212*invgambar_UU_12 - 2*Christoffelgambar_ULL_222*invgambar_UU_22;\n",
      "\n",
      "        amrex::Real dDChristoffelgambar_LLLL_0000 = 0.5*dDDgambar_LLLL_0000;\n",
      "        amrex::Real dDChristoffelgambar_LLLL_0001 = 0.5*dDDgambar_LLLL_0001;\n",
      "        amrex::Real dDChristoffelgambar_LLLL_0002 = 0.5*dDDgambar_LLLL_0002;\n",
      "        amrex::Real dDChristoffelgambar_LLLL_0010 = 0.5*dDDgambar_LLLL_0001;\n",
      "        amrex::Real dDChristoffelgambar_LLLL_0011 = 0.5*dDDgambar_LLLL_0011;\n",
      "        amrex::Real dDChristoffelgambar_LLLL_0012 = 0.5*dDDgambar_LLLL_0012;\n",
      "        amrex::Real dDChristoffelgambar_LLLL_0020 = 0.5*dDDgambar_LLLL_0002;\n",
      "        amrex::Real dDChristoffelgambar_LLLL_0021 = 0.5*dDDgambar_LLLL_0012;\n",
      "        amrex::Real dDChristoffelgambar_LLLL_0022 = 0.5*dDDgambar_LLLL_0022;\n",
      "        amrex::Real dDChristoffelgambar_LLLL_0110 = 1.0*dDDgambar_LLLL_0101 - 0.5*dDDgambar_LLLL_1100;\n",
      "        amrex::Real dDChristoffelgambar_LLLL_0111 = 1.0*dDDgambar_LLLL_0111 - 0.5*dDDgambar_LLLL_1101;\n",
      "        amrex::Real dDChristoffelgambar_LLLL_0112 = 1.0*dDDgambar_LLLL_0112 - 0.5*dDDgambar_LLLL_1102;\n",
      "        amrex::Real dDChristoffelgambar_LLLL_0120 = 0.5*dDDgambar_LLLL_0102 + 0.5*dDDgambar_LLLL_0201 - 0.5*dDDgambar_LLLL_1200;\n",
      "        amrex::Real dDChristoffelgambar_LLLL_0121 = 0.5*dDDgambar_LLLL_0112 + 0.5*dDDgambar_LLLL_0211 - 0.5*dDDgambar_LLLL_1201;\n",
      "        amrex::Real dDChristoffelgambar_LLLL_0122 = 0.5*dDDgambar_LLLL_0122 + 0.5*dDDgambar_LLLL_0212 - 0.5*dDDgambar_LLLL_1202;\n",
      "        amrex::Real dDChristoffelgambar_LLLL_0220 = 1.0*dDDgambar_LLLL_0202 - 0.5*dDDgambar_LLLL_2200;\n",
      "        amrex::Real dDChristoffelgambar_LLLL_0221 = 1.0*dDDgambar_LLLL_0212 - 0.5*dDDgambar_LLLL_2201;\n",
      "        amrex::Real dDChristoffelgambar_LLLL_0222 = 1.0*dDDgambar_LLLL_0222 - 0.5*dDDgambar_LLLL_2202;\n",
      "        amrex::Real dDChristoffelgambar_LLLL_1000 = -0.5*dDDgambar_LLLL_0001 + 1.0*dDDgambar_LLLL_0100;\n",
      "        amrex::Real dDChristoffelgambar_LLLL_1001 = -0.5*dDDgambar_LLLL_0011 + 1.0*dDDgambar_LLLL_0101;\n",
      "        amrex::Real dDChristoffelgambar_LLLL_1002 = -0.5*dDDgambar_LLLL_0012 + 1.0*dDDgambar_LLLL_0102;\n",
      "        amrex::Real dDChristoffelgambar_LLLL_1010 = 0.5*dDDgambar_LLLL_1100;\n",
      "        amrex::Real dDChristoffelgambar_LLLL_1011 = 0.5*dDDgambar_LLLL_1101;\n",
      "        amrex::Real dDChristoffelgambar_LLLL_1012 = 0.5*dDDgambar_LLLL_1102;\n",
      "        amrex::Real dDChristoffelgambar_LLLL_1020 = 0.5*dDDgambar_LLLL_0102 - 0.5*dDDgambar_LLLL_0201 + 0.5*dDDgambar_LLLL_1200;\n",
      "        amrex::Real dDChristoffelgambar_LLLL_1021 = 0.5*dDDgambar_LLLL_0112 - 0.5*dDDgambar_LLLL_0211 + 0.5*dDDgambar_LLLL_1201;\n",
      "        amrex::Real dDChristoffelgambar_LLLL_1022 = 0.5*dDDgambar_LLLL_0122 - 0.5*dDDgambar_LLLL_0212 + 0.5*dDDgambar_LLLL_1202;\n",
      "        amrex::Real dDChristoffelgambar_LLLL_1110 = 0.5*dDDgambar_LLLL_1101;\n",
      "        amrex::Real dDChristoffelgambar_LLLL_1111 = 0.5*dDDgambar_LLLL_1111;\n",
      "        amrex::Real dDChristoffelgambar_LLLL_1112 = 0.5*dDDgambar_LLLL_1112;\n",
      "        amrex::Real dDChristoffelgambar_LLLL_1120 = 0.5*dDDgambar_LLLL_1102;\n",
      "        amrex::Real dDChristoffelgambar_LLLL_1121 = 0.5*dDDgambar_LLLL_1112;\n",
      "        amrex::Real dDChristoffelgambar_LLLL_1122 = 0.5*dDDgambar_LLLL_1122;\n",
      "        amrex::Real dDChristoffelgambar_LLLL_1220 = 1.0*dDDgambar_LLLL_1202 - 0.5*dDDgambar_LLLL_2201;\n",
      "        amrex::Real dDChristoffelgambar_LLLL_1221 = 1.0*dDDgambar_LLLL_1212 - 0.5*dDDgambar_LLLL_2211;\n",
      "        amrex::Real dDChristoffelgambar_LLLL_1222 = 1.0*dDDgambar_LLLL_1222 - 0.5*dDDgambar_LLLL_2212;\n",
      "        amrex::Real dDChristoffelgambar_LLLL_2000 = -0.5*dDDgambar_LLLL_0002 + 1.0*dDDgambar_LLLL_0200;\n",
      "        amrex::Real dDChristoffelgambar_LLLL_2001 = -0.5*dDDgambar_LLLL_0012 + 1.0*dDDgambar_LLLL_0201;\n",
      "        amrex::Real dDChristoffelgambar_LLLL_2002 = -0.5*dDDgambar_LLLL_0022 + 1.0*dDDgambar_LLLL_0202;\n",
      "        amrex::Real dDChristoffelgambar_LLLL_2010 = -0.5*dDDgambar_LLLL_0102 + 0.5*dDDgambar_LLLL_0201 + 0.5*dDDgambar_LLLL_1200;\n",
      "        amrex::Real dDChristoffelgambar_LLLL_2011 = -0.5*dDDgambar_LLLL_0112 + 0.5*dDDgambar_LLLL_0211 + 0.5*dDDgambar_LLLL_1201;\n",
      "        amrex::Real dDChristoffelgambar_LLLL_2012 = -0.5*dDDgambar_LLLL_0122 + 0.5*dDDgambar_LLLL_0212 + 0.5*dDDgambar_LLLL_1202;\n",
      "        amrex::Real dDChristoffelgambar_LLLL_2020 = 0.5*dDDgambar_LLLL_2200;\n",
      "        amrex::Real dDChristoffelgambar_LLLL_2021 = 0.5*dDDgambar_LLLL_2201;\n",
      "        amrex::Real dDChristoffelgambar_LLLL_2022 = 0.5*dDDgambar_LLLL_2202;\n",
      "        amrex::Real dDChristoffelgambar_LLLL_2110 = -0.5*dDDgambar_LLLL_1102 + 1.0*dDDgambar_LLLL_1201;\n",
      "        amrex::Real dDChristoffelgambar_LLLL_2111 = -0.5*dDDgambar_LLLL_1112 + 1.0*dDDgambar_LLLL_1211;\n",
      "        amrex::Real dDChristoffelgambar_LLLL_2112 = -0.5*dDDgambar_LLLL_1122 + 1.0*dDDgambar_LLLL_1212;\n",
      "        amrex::Real dDChristoffelgambar_LLLL_2120 = 0.5*dDDgambar_LLLL_2201;\n",
      "        amrex::Real dDChristoffelgambar_LLLL_2121 = 0.5*dDDgambar_LLLL_2211;\n",
      "        amrex::Real dDChristoffelgambar_LLLL_2122 = 0.5*dDDgambar_LLLL_2212;\n",
      "        amrex::Real dDChristoffelgambar_LLLL_2220 = 0.5*dDDgambar_LLLL_2202;\n",
      "        amrex::Real dDChristoffelgambar_LLLL_2221 = 0.5*dDDgambar_LLLL_2212;\n",
      "        amrex::Real dDChristoffelgambar_LLLL_2222 = 0.5*dDDgambar_LLLL_2222;\n",
      "\n",
      "        amrex::Real dDChristoffelgambar_ULLL_0000 = Christoffelgambar_LLL_000*dDinvgambar_UUL_000 + Christoffelgambar_LLL_100*dDinvgambar_UUL_010 + Christoffelgambar_LLL_200*dDinvgambar_UUL_020 + dDChristoffelgambar_LLLL_0000*invgambar_UU_00 + dDChristoffelgambar_LLLL_1000*invgambar_UU_01 + dDChristoffelgambar_LLLL_2000*invgambar_UU_02;\n",
      "        amrex::Real dDChristoffelgambar_ULLL_0001 = Christoffelgambar_LLL_000*dDinvgambar_UUL_001 + Christoffelgambar_LLL_100*dDinvgambar_UUL_011 + Christoffelgambar_LLL_200*dDinvgambar_UUL_021 + dDChristoffelgambar_LLLL_0001*invgambar_UU_00 + dDChristoffelgambar_LLLL_1001*invgambar_UU_01 + dDChristoffelgambar_LLLL_2001*invgambar_UU_02;\n",
      "        amrex::Real dDChristoffelgambar_ULLL_0002 = Christoffelgambar_LLL_000*dDinvgambar_UUL_002 + Christoffelgambar_LLL_100*dDinvgambar_UUL_012 + Christoffelgambar_LLL_200*dDinvgambar_UUL_022 + dDChristoffelgambar_LLLL_0002*invgambar_UU_00 + dDChristoffelgambar_LLLL_1002*invgambar_UU_01 + dDChristoffelgambar_LLLL_2002*invgambar_UU_02;\n",
      "        amrex::Real dDChristoffelgambar_ULLL_0010 = Christoffelgambar_LLL_001*dDinvgambar_UUL_000 + Christoffelgambar_LLL_101*dDinvgambar_UUL_010 + Christoffelgambar_LLL_201*dDinvgambar_UUL_020 + dDChristoffelgambar_LLLL_0010*invgambar_UU_00 + dDChristoffelgambar_LLLL_1010*invgambar_UU_01 + dDChristoffelgambar_LLLL_2010*invgambar_UU_02;\n",
      "        amrex::Real dDChristoffelgambar_ULLL_0011 = Christoffelgambar_LLL_001*dDinvgambar_UUL_001 + Christoffelgambar_LLL_101*dDinvgambar_UUL_011 + Christoffelgambar_LLL_201*dDinvgambar_UUL_021 + dDChristoffelgambar_LLLL_0011*invgambar_UU_00 + dDChristoffelgambar_LLLL_1011*invgambar_UU_01 + dDChristoffelgambar_LLLL_2011*invgambar_UU_02;\n",
      "        amrex::Real dDChristoffelgambar_ULLL_0012 = Christoffelgambar_LLL_001*dDinvgambar_UUL_002 + Christoffelgambar_LLL_101*dDinvgambar_UUL_012 + Christoffelgambar_LLL_201*dDinvgambar_UUL_022 + dDChristoffelgambar_LLLL_0012*invgambar_UU_00 + dDChristoffelgambar_LLLL_1012*invgambar_UU_01 + dDChristoffelgambar_LLLL_2012*invgambar_UU_02;\n",
      "        amrex::Real dDChristoffelgambar_ULLL_0020 = Christoffelgambar_LLL_002*dDinvgambar_UUL_000 + Christoffelgambar_LLL_102*dDinvgambar_UUL_010 + Christoffelgambar_LLL_202*dDinvgambar_UUL_020 + dDChristoffelgambar_LLLL_0020*invgambar_UU_00 + dDChristoffelgambar_LLLL_1020*invgambar_UU_01 + dDChristoffelgambar_LLLL_2020*invgambar_UU_02;\n",
      "        amrex::Real dDChristoffelgambar_ULLL_0021 = Christoffelgambar_LLL_002*dDinvgambar_UUL_001 + Christoffelgambar_LLL_102*dDinvgambar_UUL_011 + Christoffelgambar_LLL_202*dDinvgambar_UUL_021 + dDChristoffelgambar_LLLL_0021*invgambar_UU_00 + dDChristoffelgambar_LLLL_1021*invgambar_UU_01 + dDChristoffelgambar_LLLL_2021*invgambar_UU_02;\n",
      "        amrex::Real dDChristoffelgambar_ULLL_0022 = Christoffelgambar_LLL_002*dDinvgambar_UUL_002 + Christoffelgambar_LLL_102*dDinvgambar_UUL_012 + Christoffelgambar_LLL_202*dDinvgambar_UUL_022 + dDChristoffelgambar_LLLL_0022*invgambar_UU_00 + dDChristoffelgambar_LLLL_1022*invgambar_UU_01 + dDChristoffelgambar_LLLL_2022*invgambar_UU_02;\n",
      "        amrex::Real dDChristoffelgambar_ULLL_0110 = Christoffelgambar_LLL_011*dDinvgambar_UUL_000 + Christoffelgambar_LLL_111*dDinvgambar_UUL_010 + Christoffelgambar_LLL_211*dDinvgambar_UUL_020 + dDChristoffelgambar_LLLL_0110*invgambar_UU_00 + dDChristoffelgambar_LLLL_1110*invgambar_UU_01 + dDChristoffelgambar_LLLL_2110*invgambar_UU_02;\n",
      "        amrex::Real dDChristoffelgambar_ULLL_0111 = Christoffelgambar_LLL_011*dDinvgambar_UUL_001 + Christoffelgambar_LLL_111*dDinvgambar_UUL_011 + Christoffelgambar_LLL_211*dDinvgambar_UUL_021 + dDChristoffelgambar_LLLL_0111*invgambar_UU_00 + dDChristoffelgambar_LLLL_1111*invgambar_UU_01 + dDChristoffelgambar_LLLL_2111*invgambar_UU_02;\n",
      "        amrex::Real dDChristoffelgambar_ULLL_0112 = Christoffelgambar_LLL_011*dDinvgambar_UUL_002 + Christoffelgambar_LLL_111*dDinvgambar_UUL_012 + Christoffelgambar_LLL_211*dDinvgambar_UUL_022 + dDChristoffelgambar_LLLL_0112*invgambar_UU_00 + dDChristoffelgambar_LLLL_1112*invgambar_UU_01 + dDChristoffelgambar_LLLL_2112*invgambar_UU_02;\n",
      "        amrex::Real dDChristoffelgambar_ULLL_0120 = Christoffelgambar_LLL_012*dDinvgambar_UUL_000 + Christoffelgambar_LLL_112*dDinvgambar_UUL_010 + Christoffelgambar_LLL_212*dDinvgambar_UUL_020 + dDChristoffelgambar_LLLL_0120*invgambar_UU_00 + dDChristoffelgambar_LLLL_1120*invgambar_UU_01 + dDChristoffelgambar_LLLL_2120*invgambar_UU_02;\n",
      "        amrex::Real dDChristoffelgambar_ULLL_0121 = Christoffelgambar_LLL_012*dDinvgambar_UUL_001 + Christoffelgambar_LLL_112*dDinvgambar_UUL_011 + Christoffelgambar_LLL_212*dDinvgambar_UUL_021 + dDChristoffelgambar_LLLL_0121*invgambar_UU_00 + dDChristoffelgambar_LLLL_1121*invgambar_UU_01 + dDChristoffelgambar_LLLL_2121*invgambar_UU_02;\n",
      "        amrex::Real dDChristoffelgambar_ULLL_0122 = Christoffelgambar_LLL_012*dDinvgambar_UUL_002 + Christoffelgambar_LLL_112*dDinvgambar_UUL_012 + Christoffelgambar_LLL_212*dDinvgambar_UUL_022 + dDChristoffelgambar_LLLL_0122*invgambar_UU_00 + dDChristoffelgambar_LLLL_1122*invgambar_UU_01 + dDChristoffelgambar_LLLL_2122*invgambar_UU_02;\n",
      "        amrex::Real dDChristoffelgambar_ULLL_0220 = Christoffelgambar_LLL_022*dDinvgambar_UUL_000 + Christoffelgambar_LLL_122*dDinvgambar_UUL_010 + Christoffelgambar_LLL_222*dDinvgambar_UUL_020 + dDChristoffelgambar_LLLL_0220*invgambar_UU_00 + dDChristoffelgambar_LLLL_1220*invgambar_UU_01 + dDChristoffelgambar_LLLL_2220*invgambar_UU_02;\n",
      "        amrex::Real dDChristoffelgambar_ULLL_0221 = Christoffelgambar_LLL_022*dDinvgambar_UUL_001 + Christoffelgambar_LLL_122*dDinvgambar_UUL_011 + Christoffelgambar_LLL_222*dDinvgambar_UUL_021 + dDChristoffelgambar_LLLL_0221*invgambar_UU_00 + dDChristoffelgambar_LLLL_1221*invgambar_UU_01 + dDChristoffelgambar_LLLL_2221*invgambar_UU_02;\n",
      "        amrex::Real dDChristoffelgambar_ULLL_0222 = Christoffelgambar_LLL_022*dDinvgambar_UUL_002 + Christoffelgambar_LLL_122*dDinvgambar_UUL_012 + Christoffelgambar_LLL_222*dDinvgambar_UUL_022 + dDChristoffelgambar_LLLL_0222*invgambar_UU_00 + dDChristoffelgambar_LLLL_1222*invgambar_UU_01 + dDChristoffelgambar_LLLL_2222*invgambar_UU_02;\n",
      "        amrex::Real dDChristoffelgambar_ULLL_1000 = Christoffelgambar_LLL_000*dDinvgambar_UUL_010 + Christoffelgambar_LLL_100*dDinvgambar_UUL_110 + Christoffelgambar_LLL_200*dDinvgambar_UUL_120 + dDChristoffelgambar_LLLL_0000*invgambar_UU_01 + dDChristoffelgambar_LLLL_1000*invgambar_UU_11 + dDChristoffelgambar_LLLL_2000*invgambar_UU_12;\n",
      "        amrex::Real dDChristoffelgambar_ULLL_1001 = Christoffelgambar_LLL_000*dDinvgambar_UUL_011 + Christoffelgambar_LLL_100*dDinvgambar_UUL_111 + Christoffelgambar_LLL_200*dDinvgambar_UUL_121 + dDChristoffelgambar_LLLL_0001*invgambar_UU_01 + dDChristoffelgambar_LLLL_1001*invgambar_UU_11 + dDChristoffelgambar_LLLL_2001*invgambar_UU_12;\n",
      "        amrex::Real dDChristoffelgambar_ULLL_1002 = Christoffelgambar_LLL_000*dDinvgambar_UUL_012 + Christoffelgambar_LLL_100*dDinvgambar_UUL_112 + Christoffelgambar_LLL_200*dDinvgambar_UUL_122 + dDChristoffelgambar_LLLL_0002*invgambar_UU_01 + dDChristoffelgambar_LLLL_1002*invgambar_UU_11 + dDChristoffelgambar_LLLL_2002*invgambar_UU_12;\n",
      "        amrex::Real dDChristoffelgambar_ULLL_1010 = Christoffelgambar_LLL_001*dDinvgambar_UUL_010 + Christoffelgambar_LLL_101*dDinvgambar_UUL_110 + Christoffelgambar_LLL_201*dDinvgambar_UUL_120 + dDChristoffelgambar_LLLL_0010*invgambar_UU_01 + dDChristoffelgambar_LLLL_1010*invgambar_UU_11 + dDChristoffelgambar_LLLL_2010*invgambar_UU_12;\n",
      "        amrex::Real dDChristoffelgambar_ULLL_1011 = Christoffelgambar_LLL_001*dDinvgambar_UUL_011 + Christoffelgambar_LLL_101*dDinvgambar_UUL_111 + Christoffelgambar_LLL_201*dDinvgambar_UUL_121 + dDChristoffelgambar_LLLL_0011*invgambar_UU_01 + dDChristoffelgambar_LLLL_1011*invgambar_UU_11 + dDChristoffelgambar_LLLL_2011*invgambar_UU_12;\n",
      "        amrex::Real dDChristoffelgambar_ULLL_1012 = Christoffelgambar_LLL_001*dDinvgambar_UUL_012 + Christoffelgambar_LLL_101*dDinvgambar_UUL_112 + Christoffelgambar_LLL_201*dDinvgambar_UUL_122 + dDChristoffelgambar_LLLL_0012*invgambar_UU_01 + dDChristoffelgambar_LLLL_1012*invgambar_UU_11 + dDChristoffelgambar_LLLL_2012*invgambar_UU_12;\n",
      "        amrex::Real dDChristoffelgambar_ULLL_1020 = Christoffelgambar_LLL_002*dDinvgambar_UUL_010 + Christoffelgambar_LLL_102*dDinvgambar_UUL_110 + Christoffelgambar_LLL_202*dDinvgambar_UUL_120 + dDChristoffelgambar_LLLL_0020*invgambar_UU_01 + dDChristoffelgambar_LLLL_1020*invgambar_UU_11 + dDChristoffelgambar_LLLL_2020*invgambar_UU_12;\n",
      "        amrex::Real dDChristoffelgambar_ULLL_1021 = Christoffelgambar_LLL_002*dDinvgambar_UUL_011 + Christoffelgambar_LLL_102*dDinvgambar_UUL_111 + Christoffelgambar_LLL_202*dDinvgambar_UUL_121 + dDChristoffelgambar_LLLL_0021*invgambar_UU_01 + dDChristoffelgambar_LLLL_1021*invgambar_UU_11 + dDChristoffelgambar_LLLL_2021*invgambar_UU_12;\n",
      "        amrex::Real dDChristoffelgambar_ULLL_1022 = Christoffelgambar_LLL_002*dDinvgambar_UUL_012 + Christoffelgambar_LLL_102*dDinvgambar_UUL_112 + Christoffelgambar_LLL_202*dDinvgambar_UUL_122 + dDChristoffelgambar_LLLL_0022*invgambar_UU_01 + dDChristoffelgambar_LLLL_1022*invgambar_UU_11 + dDChristoffelgambar_LLLL_2022*invgambar_UU_12;\n",
      "        amrex::Real dDChristoffelgambar_ULLL_1110 = Christoffelgambar_LLL_011*dDinvgambar_UUL_010 + Christoffelgambar_LLL_111*dDinvgambar_UUL_110 + Christoffelgambar_LLL_211*dDinvgambar_UUL_120 + dDChristoffelgambar_LLLL_0110*invgambar_UU_01 + dDChristoffelgambar_LLLL_1110*invgambar_UU_11 + dDChristoffelgambar_LLLL_2110*invgambar_UU_12;\n",
      "        amrex::Real dDChristoffelgambar_ULLL_1111 = Christoffelgambar_LLL_011*dDinvgambar_UUL_011 + Christoffelgambar_LLL_111*dDinvgambar_UUL_111 + Christoffelgambar_LLL_211*dDinvgambar_UUL_121 + dDChristoffelgambar_LLLL_0111*invgambar_UU_01 + dDChristoffelgambar_LLLL_1111*invgambar_UU_11 + dDChristoffelgambar_LLLL_2111*invgambar_UU_12;\n",
      "        amrex::Real dDChristoffelgambar_ULLL_1112 = Christoffelgambar_LLL_011*dDinvgambar_UUL_012 + Christoffelgambar_LLL_111*dDinvgambar_UUL_112 + Christoffelgambar_LLL_211*dDinvgambar_UUL_122 + dDChristoffelgambar_LLLL_0112*invgambar_UU_01 + dDChristoffelgambar_LLLL_1112*invgambar_UU_11 + dDChristoffelgambar_LLLL_2112*invgambar_UU_12;\n",
      "        amrex::Real dDChristoffelgambar_ULLL_1120 = Christoffelgambar_LLL_012*dDinvgambar_UUL_010 + Christoffelgambar_LLL_112*dDinvgambar_UUL_110 + Christoffelgambar_LLL_212*dDinvgambar_UUL_120 + dDChristoffelgambar_LLLL_0120*invgambar_UU_01 + dDChristoffelgambar_LLLL_1120*invgambar_UU_11 + dDChristoffelgambar_LLLL_2120*invgambar_UU_12;\n",
      "        amrex::Real dDChristoffelgambar_ULLL_1121 = Christoffelgambar_LLL_012*dDinvgambar_UUL_011 + Christoffelgambar_LLL_112*dDinvgambar_UUL_111 + Christoffelgambar_LLL_212*dDinvgambar_UUL_121 + dDChristoffelgambar_LLLL_0121*invgambar_UU_01 + dDChristoffelgambar_LLLL_1121*invgambar_UU_11 + dDChristoffelgambar_LLLL_2121*invgambar_UU_12;\n",
      "        amrex::Real dDChristoffelgambar_ULLL_1122 = Christoffelgambar_LLL_012*dDinvgambar_UUL_012 + Christoffelgambar_LLL_112*dDinvgambar_UUL_112 + Christoffelgambar_LLL_212*dDinvgambar_UUL_122 + dDChristoffelgambar_LLLL_0122*invgambar_UU_01 + dDChristoffelgambar_LLLL_1122*invgambar_UU_11 + dDChristoffelgambar_LLLL_2122*invgambar_UU_12;\n",
      "        amrex::Real dDChristoffelgambar_ULLL_1220 = Christoffelgambar_LLL_022*dDinvgambar_UUL_010 + Christoffelgambar_LLL_122*dDinvgambar_UUL_110 + Christoffelgambar_LLL_222*dDinvgambar_UUL_120 + dDChristoffelgambar_LLLL_0220*invgambar_UU_01 + dDChristoffelgambar_LLLL_1220*invgambar_UU_11 + dDChristoffelgambar_LLLL_2220*invgambar_UU_12;\n",
      "        amrex::Real dDChristoffelgambar_ULLL_1221 = Christoffelgambar_LLL_022*dDinvgambar_UUL_011 + Christoffelgambar_LLL_122*dDinvgambar_UUL_111 + Christoffelgambar_LLL_222*dDinvgambar_UUL_121 + dDChristoffelgambar_LLLL_0221*invgambar_UU_01 + dDChristoffelgambar_LLLL_1221*invgambar_UU_11 + dDChristoffelgambar_LLLL_2221*invgambar_UU_12;\n",
      "        amrex::Real dDChristoffelgambar_ULLL_1222 = Christoffelgambar_LLL_022*dDinvgambar_UUL_012 + Christoffelgambar_LLL_122*dDinvgambar_UUL_112 + Christoffelgambar_LLL_222*dDinvgambar_UUL_122 + dDChristoffelgambar_LLLL_0222*invgambar_UU_01 + dDChristoffelgambar_LLLL_1222*invgambar_UU_11 + dDChristoffelgambar_LLLL_2222*invgambar_UU_12;\n",
      "        amrex::Real dDChristoffelgambar_ULLL_2000 = Christoffelgambar_LLL_000*dDinvgambar_UUL_020 + Christoffelgambar_LLL_100*dDinvgambar_UUL_120 + Christoffelgambar_LLL_200*dDinvgambar_UUL_220 + dDChristoffelgambar_LLLL_0000*invgambar_UU_02 + dDChristoffelgambar_LLLL_1000*invgambar_UU_12 + dDChristoffelgambar_LLLL_2000*invgambar_UU_22;\n",
      "        amrex::Real dDChristoffelgambar_ULLL_2001 = Christoffelgambar_LLL_000*dDinvgambar_UUL_021 + Christoffelgambar_LLL_100*dDinvgambar_UUL_121 + Christoffelgambar_LLL_200*dDinvgambar_UUL_221 + dDChristoffelgambar_LLLL_0001*invgambar_UU_02 + dDChristoffelgambar_LLLL_1001*invgambar_UU_12 + dDChristoffelgambar_LLLL_2001*invgambar_UU_22;\n",
      "        amrex::Real dDChristoffelgambar_ULLL_2002 = Christoffelgambar_LLL_000*dDinvgambar_UUL_022 + Christoffelgambar_LLL_100*dDinvgambar_UUL_122 + Christoffelgambar_LLL_200*dDinvgambar_UUL_222 + dDChristoffelgambar_LLLL_0002*invgambar_UU_02 + dDChristoffelgambar_LLLL_1002*invgambar_UU_12 + dDChristoffelgambar_LLLL_2002*invgambar_UU_22;\n",
      "        amrex::Real dDChristoffelgambar_ULLL_2010 = Christoffelgambar_LLL_001*dDinvgambar_UUL_020 + Christoffelgambar_LLL_101*dDinvgambar_UUL_120 + Christoffelgambar_LLL_201*dDinvgambar_UUL_220 + dDChristoffelgambar_LLLL_0010*invgambar_UU_02 + dDChristoffelgambar_LLLL_1010*invgambar_UU_12 + dDChristoffelgambar_LLLL_2010*invgambar_UU_22;\n",
      "        amrex::Real dDChristoffelgambar_ULLL_2011 = Christoffelgambar_LLL_001*dDinvgambar_UUL_021 + Christoffelgambar_LLL_101*dDinvgambar_UUL_121 + Christoffelgambar_LLL_201*dDinvgambar_UUL_221 + dDChristoffelgambar_LLLL_0011*invgambar_UU_02 + dDChristoffelgambar_LLLL_1011*invgambar_UU_12 + dDChristoffelgambar_LLLL_2011*invgambar_UU_22;\n",
      "        amrex::Real dDChristoffelgambar_ULLL_2012 = Christoffelgambar_LLL_001*dDinvgambar_UUL_022 + Christoffelgambar_LLL_101*dDinvgambar_UUL_122 + Christoffelgambar_LLL_201*dDinvgambar_UUL_222 + dDChristoffelgambar_LLLL_0012*invgambar_UU_02 + dDChristoffelgambar_LLLL_1012*invgambar_UU_12 + dDChristoffelgambar_LLLL_2012*invgambar_UU_22;\n",
      "        amrex::Real dDChristoffelgambar_ULLL_2020 = Christoffelgambar_LLL_002*dDinvgambar_UUL_020 + Christoffelgambar_LLL_102*dDinvgambar_UUL_120 + Christoffelgambar_LLL_202*dDinvgambar_UUL_220 + dDChristoffelgambar_LLLL_0020*invgambar_UU_02 + dDChristoffelgambar_LLLL_1020*invgambar_UU_12 + dDChristoffelgambar_LLLL_2020*invgambar_UU_22;\n",
      "        amrex::Real dDChristoffelgambar_ULLL_2021 = Christoffelgambar_LLL_002*dDinvgambar_UUL_021 + Christoffelgambar_LLL_102*dDinvgambar_UUL_121 + Christoffelgambar_LLL_202*dDinvgambar_UUL_221 + dDChristoffelgambar_LLLL_0021*invgambar_UU_02 + dDChristoffelgambar_LLLL_1021*invgambar_UU_12 + dDChristoffelgambar_LLLL_2021*invgambar_UU_22;\n",
      "        amrex::Real dDChristoffelgambar_ULLL_2022 = Christoffelgambar_LLL_002*dDinvgambar_UUL_022 + Christoffelgambar_LLL_102*dDinvgambar_UUL_122 + Christoffelgambar_LLL_202*dDinvgambar_UUL_222 + dDChristoffelgambar_LLLL_0022*invgambar_UU_02 + dDChristoffelgambar_LLLL_1022*invgambar_UU_12 + dDChristoffelgambar_LLLL_2022*invgambar_UU_22;\n",
      "        amrex::Real dDChristoffelgambar_ULLL_2110 = Christoffelgambar_LLL_011*dDinvgambar_UUL_020 + Christoffelgambar_LLL_111*dDinvgambar_UUL_120 + Christoffelgambar_LLL_211*dDinvgambar_UUL_220 + dDChristoffelgambar_LLLL_0110*invgambar_UU_02 + dDChristoffelgambar_LLLL_1110*invgambar_UU_12 + dDChristoffelgambar_LLLL_2110*invgambar_UU_22;\n",
      "        amrex::Real dDChristoffelgambar_ULLL_2111 = Christoffelgambar_LLL_011*dDinvgambar_UUL_021 + Christoffelgambar_LLL_111*dDinvgambar_UUL_121 + Christoffelgambar_LLL_211*dDinvgambar_UUL_221 + dDChristoffelgambar_LLLL_0111*invgambar_UU_02 + dDChristoffelgambar_LLLL_1111*invgambar_UU_12 + dDChristoffelgambar_LLLL_2111*invgambar_UU_22;\n",
      "        amrex::Real dDChristoffelgambar_ULLL_2112 = Christoffelgambar_LLL_011*dDinvgambar_UUL_022 + Christoffelgambar_LLL_111*dDinvgambar_UUL_122 + Christoffelgambar_LLL_211*dDinvgambar_UUL_222 + dDChristoffelgambar_LLLL_0112*invgambar_UU_02 + dDChristoffelgambar_LLLL_1112*invgambar_UU_12 + dDChristoffelgambar_LLLL_2112*invgambar_UU_22;\n",
      "        amrex::Real dDChristoffelgambar_ULLL_2120 = Christoffelgambar_LLL_012*dDinvgambar_UUL_020 + Christoffelgambar_LLL_112*dDinvgambar_UUL_120 + Christoffelgambar_LLL_212*dDinvgambar_UUL_220 + dDChristoffelgambar_LLLL_0120*invgambar_UU_02 + dDChristoffelgambar_LLLL_1120*invgambar_UU_12 + dDChristoffelgambar_LLLL_2120*invgambar_UU_22;\n",
      "        amrex::Real dDChristoffelgambar_ULLL_2121 = Christoffelgambar_LLL_012*dDinvgambar_UUL_021 + Christoffelgambar_LLL_112*dDinvgambar_UUL_121 + Christoffelgambar_LLL_212*dDinvgambar_UUL_221 + dDChristoffelgambar_LLLL_0121*invgambar_UU_02 + dDChristoffelgambar_LLLL_1121*invgambar_UU_12 + dDChristoffelgambar_LLLL_2121*invgambar_UU_22;\n",
      "        amrex::Real dDChristoffelgambar_ULLL_2122 = Christoffelgambar_LLL_012*dDinvgambar_UUL_022 + Christoffelgambar_LLL_112*dDinvgambar_UUL_122 + Christoffelgambar_LLL_212*dDinvgambar_UUL_222 + dDChristoffelgambar_LLLL_0122*invgambar_UU_02 + dDChristoffelgambar_LLLL_1122*invgambar_UU_12 + dDChristoffelgambar_LLLL_2122*invgambar_UU_22;\n",
      "        amrex::Real dDChristoffelgambar_ULLL_2220 = Christoffelgambar_LLL_022*dDinvgambar_UUL_020 + Christoffelgambar_LLL_122*dDinvgambar_UUL_120 + Christoffelgambar_LLL_222*dDinvgambar_UUL_220 + dDChristoffelgambar_LLLL_0220*invgambar_UU_02 + dDChristoffelgambar_LLLL_1220*invgambar_UU_12 + dDChristoffelgambar_LLLL_2220*invgambar_UU_22;\n",
      "        amrex::Real dDChristoffelgambar_ULLL_2221 = Christoffelgambar_LLL_022*dDinvgambar_UUL_021 + Christoffelgambar_LLL_122*dDinvgambar_UUL_121 + Christoffelgambar_LLL_222*dDinvgambar_UUL_221 + dDChristoffelgambar_LLLL_0221*invgambar_UU_02 + dDChristoffelgambar_LLLL_1221*invgambar_UU_12 + dDChristoffelgambar_LLLL_2221*invgambar_UU_22;\n",
      "        amrex::Real dDChristoffelgambar_ULLL_2222 = Christoffelgambar_LLL_022*dDinvgambar_UUL_022 + Christoffelgambar_LLL_122*dDinvgambar_UUL_122 + Christoffelgambar_LLL_222*dDinvgambar_UUL_222 + dDChristoffelgambar_LLLL_0222*invgambar_UU_02 + dDChristoffelgambar_LLLL_1222*invgambar_UU_12 + dDChristoffelgambar_LLLL_2222*invgambar_UU_22;\n",
      "\n",
      "        amrex::Real CovdDDW_ULL_000 = Christoffelgambar_ULL_000*dDW_UL_00 + Christoffelgambar_ULL_001*Christoffelgambar_ULL_101*W_U_1 + Christoffelgambar_ULL_001*Christoffelgambar_ULL_102*W_U_2 + 2*Christoffelgambar_ULL_001*dDW_UL_10 + Christoffelgambar_ULL_002*Christoffelgambar_ULL_201*W_U_1 + Christoffelgambar_ULL_002*Christoffelgambar_ULL_202*W_U_2 + 2*Christoffelgambar_ULL_002*dDW_UL_20 - Christoffelgambar_ULL_011*Christoffelgambar_ULL_100*W_U_1 - Christoffelgambar_ULL_012*Christoffelgambar_ULL_100*W_U_2 - Christoffelgambar_ULL_012*Christoffelgambar_ULL_200*W_U_1 - Christoffelgambar_ULL_022*Christoffelgambar_ULL_200*W_U_2 - Christoffelgambar_ULL_100*dDW_UL_01 - Christoffelgambar_ULL_200*dDW_UL_02 + W_U_0*dDChristoffelgambar_ULLL_0000 + W_U_1*dDChristoffelgambar_ULLL_0010 + W_U_2*dDChristoffelgambar_ULLL_0020 + dDDW_ULL_000;\n",
      "        amrex::Real CovdDDW_ULL_001 = Christoffelgambar_ULL_000*Christoffelgambar_ULL_011*W_U_1 + Christoffelgambar_ULL_000*Christoffelgambar_ULL_012*W_U_2 + Christoffelgambar_ULL_000*dDW_UL_01 - std::pow(Christoffelgambar_ULL_001, 2)*W_U_1 - Christoffelgambar_ULL_001*Christoffelgambar_ULL_002*W_U_2 + Christoffelgambar_ULL_001*Christoffelgambar_ULL_111*W_U_1 + Christoffelgambar_ULL_001*Christoffelgambar_ULL_112*W_U_2 + Christoffelgambar_ULL_001*dDW_UL_11 + Christoffelgambar_ULL_002*Christoffelgambar_ULL_211*W_U_1 + Christoffelgambar_ULL_002*Christoffelgambar_ULL_212*W_U_2 + Christoffelgambar_ULL_002*dDW_UL_21 - Christoffelgambar_ULL_011*Christoffelgambar_ULL_101*W_U_1 + Christoffelgambar_ULL_011*dDW_UL_10 - Christoffelgambar_ULL_012*Christoffelgambar_ULL_101*W_U_2 - Christoffelgambar_ULL_012*Christoffelgambar_ULL_201*W_U_1 + Christoffelgambar_ULL_012*dDW_UL_20 - Christoffelgambar_ULL_022*Christoffelgambar_ULL_201*W_U_2 - Christoffelgambar_ULL_101*dDW_UL_01 - Christoffelgambar_ULL_201*dDW_UL_02 + W_U_0*dDChristoffelgambar_ULLL_0010 + W_U_1*dDChristoffelgambar_ULLL_0110 + W_U_2*dDChristoffelgambar_ULLL_0120 + dDDW_ULL_001;\n",
      "        amrex::Real CovdDDW_ULL_002 = Christoffelgambar_ULL_000*Christoffelgambar_ULL_012*W_U_1 + Christoffelgambar_ULL_000*Christoffelgambar_ULL_022*W_U_2 + Christoffelgambar_ULL_000*dDW_UL_02 - Christoffelgambar_ULL_001*Christoffelgambar_ULL_002*W_U_1 + Christoffelgambar_ULL_001*Christoffelgambar_ULL_112*W_U_1 + Christoffelgambar_ULL_001*Christoffelgambar_ULL_122*W_U_2 + Christoffelgambar_ULL_001*dDW_UL_12 - std::pow(Christoffelgambar_ULL_002, 2)*W_U_2 + Christoffelgambar_ULL_002*Christoffelgambar_ULL_212*W_U_1 + Christoffelgambar_ULL_002*Christoffelgambar_ULL_222*W_U_2 + Christoffelgambar_ULL_002*dDW_UL_22 - Christoffelgambar_ULL_011*Christoffelgambar_ULL_102*W_U_1 - Christoffelgambar_ULL_012*Christoffelgambar_ULL_102*W_U_2 - Christoffelgambar_ULL_012*Christoffelgambar_ULL_202*W_U_1 + Christoffelgambar_ULL_012*dDW_UL_10 - Christoffelgambar_ULL_022*Christoffelgambar_ULL_202*W_U_2 + Christoffelgambar_ULL_022*dDW_UL_20 - Christoffelgambar_ULL_102*dDW_UL_01 - Christoffelgambar_ULL_202*dDW_UL_02 + W_U_0*dDChristoffelgambar_ULLL_0020 + W_U_1*dDChristoffelgambar_ULLL_0120 + W_U_2*dDChristoffelgambar_ULLL_0220 + dDDW_ULL_002;\n",
      "        amrex::Real CovdDDW_ULL_011 = -Christoffelgambar_ULL_000*Christoffelgambar_ULL_011*W_U_0 + std::pow(Christoffelgambar_ULL_001, 2)*W_U_0 + Christoffelgambar_ULL_001*Christoffelgambar_ULL_012*W_U_2 - Christoffelgambar_ULL_001*Christoffelgambar_ULL_111*W_U_0 + 2*Christoffelgambar_ULL_001*dDW_UL_01 - Christoffelgambar_ULL_002*Christoffelgambar_ULL_011*W_U_2 - Christoffelgambar_ULL_002*Christoffelgambar_ULL_211*W_U_0 + Christoffelgambar_ULL_011*Christoffelgambar_ULL_101*W_U_0 + Christoffelgambar_ULL_011*Christoffelgambar_ULL_112*W_U_2 - Christoffelgambar_ULL_011*dDW_UL_00 + 2*Christoffelgambar_ULL_011*dDW_UL_11 - Christoffelgambar_ULL_012*Christoffelgambar_ULL_111*W_U_2 + Christoffelgambar_ULL_012*Christoffelgambar_ULL_201*W_U_0 + Christoffelgambar_ULL_012*Christoffelgambar_ULL_212*W_U_2 + 2*Christoffelgambar_ULL_012*dDW_UL_21 - Christoffelgambar_ULL_022*Christoffelgambar_ULL_211*W_U_2 - Christoffelgambar_ULL_111*dDW_UL_01 - Christoffelgambar_ULL_211*dDW_UL_02 + W_U_0*dDChristoffelgambar_ULLL_0011 + W_U_1*dDChristoffelgambar_ULLL_0111 + W_U_2*dDChristoffelgambar_ULLL_0121 + dDDW_ULL_011;\n",
      "        amrex::Real CovdDDW_ULL_012 = -Christoffelgambar_ULL_000*Christoffelgambar_ULL_012*W_U_0 + Christoffelgambar_ULL_001*Christoffelgambar_ULL_002*W_U_0 + Christoffelgambar_ULL_001*Christoffelgambar_ULL_022*W_U_2 - Christoffelgambar_ULL_001*Christoffelgambar_ULL_112*W_U_0 + Christoffelgambar_ULL_001*dDW_UL_02 - Christoffelgambar_ULL_002*Christoffelgambar_ULL_012*W_U_2 - Christoffelgambar_ULL_002*Christoffelgambar_ULL_212*W_U_0 + Christoffelgambar_ULL_002*dDW_UL_01 + Christoffelgambar_ULL_011*Christoffelgambar_ULL_102*W_U_0 + Christoffelgambar_ULL_011*Christoffelgambar_ULL_122*W_U_2 + Christoffelgambar_ULL_011*dDW_UL_12 - Christoffelgambar_ULL_012*Christoffelgambar_ULL_112*W_U_2 + Christoffelgambar_ULL_012*Christoffelgambar_ULL_202*W_U_0 + Christoffelgambar_ULL_012*Christoffelgambar_ULL_222*W_U_2 - Christoffelgambar_ULL_012*dDW_UL_00 + Christoffelgambar_ULL_012*dDW_UL_11 + Christoffelgambar_ULL_012*dDW_UL_22 - Christoffelgambar_ULL_022*Christoffelgambar_ULL_212*W_U_2 + Christoffelgambar_ULL_022*dDW_UL_21 - Christoffelgambar_ULL_112*dDW_UL_01 - Christoffelgambar_ULL_212*dDW_UL_02 + W_U_0*dDChristoffelgambar_ULLL_0021 + W_U_1*dDChristoffelgambar_ULLL_0121 + W_U_2*dDChristoffelgambar_ULLL_0221 + dDDW_ULL_012;\n",
      "        amrex::Real CovdDDW_ULL_022 = -Christoffelgambar_ULL_000*Christoffelgambar_ULL_022*W_U_0 - Christoffelgambar_ULL_001*Christoffelgambar_ULL_022*W_U_1 - Christoffelgambar_ULL_001*Christoffelgambar_ULL_122*W_U_0 + std::pow(Christoffelgambar_ULL_002, 2)*W_U_0 + Christoffelgambar_ULL_002*Christoffelgambar_ULL_012*W_U_1 - Christoffelgambar_ULL_002*Christoffelgambar_ULL_222*W_U_0 + 2*Christoffelgambar_ULL_002*dDW_UL_02 - Christoffelgambar_ULL_011*Christoffelgambar_ULL_122*W_U_1 + Christoffelgambar_ULL_012*Christoffelgambar_ULL_102*W_U_0 + Christoffelgambar_ULL_012*Christoffelgambar_ULL_112*W_U_1 - Christoffelgambar_ULL_012*Christoffelgambar_ULL_222*W_U_1 + 2*Christoffelgambar_ULL_012*dDW_UL_12 + Christoffelgambar_ULL_022*Christoffelgambar_ULL_202*W_U_0 + Christoffelgambar_ULL_022*Christoffelgambar_ULL_212*W_U_1 - Christoffelgambar_ULL_022*dDW_UL_00 + 2*Christoffelgambar_ULL_022*dDW_UL_22 - Christoffelgambar_ULL_122*dDW_UL_01 - Christoffelgambar_ULL_222*dDW_UL_02 + W_U_0*dDChristoffelgambar_ULLL_0022 + W_U_1*dDChristoffelgambar_ULLL_0122 + W_U_2*dDChristoffelgambar_ULLL_0222 + dDDW_ULL_022;\n",
      "        amrex::Real CovdDDW_ULL_100 = -Christoffelgambar_ULL_000*Christoffelgambar_ULL_101*W_U_1 - Christoffelgambar_ULL_000*Christoffelgambar_ULL_102*W_U_2 - Christoffelgambar_ULL_000*dDW_UL_10 + Christoffelgambar_ULL_001*Christoffelgambar_ULL_100*W_U_1 + Christoffelgambar_ULL_002*Christoffelgambar_ULL_100*W_U_2 - Christoffelgambar_ULL_100*Christoffelgambar_ULL_111*W_U_1 - Christoffelgambar_ULL_100*Christoffelgambar_ULL_112*W_U_2 + 2*Christoffelgambar_ULL_100*dDW_UL_00 - Christoffelgambar_ULL_100*dDW_UL_11 + std::pow(Christoffelgambar_ULL_101, 2)*W_U_1 + Christoffelgambar_ULL_101*Christoffelgambar_ULL_102*W_U_2 + 2*Christoffelgambar_ULL_101*dDW_UL_10 + Christoffelgambar_ULL_102*Christoffelgambar_ULL_201*W_U_1 + Christoffelgambar_ULL_102*Christoffelgambar_ULL_202*W_U_2 + 2*Christoffelgambar_ULL_102*dDW_UL_20 - Christoffelgambar_ULL_112*Christoffelgambar_ULL_200*W_U_1 - Christoffelgambar_ULL_122*Christoffelgambar_ULL_200*W_U_2 - Christoffelgambar_ULL_200*dDW_UL_12 + W_U_0*dDChristoffelgambar_ULLL_1000 + W_U_1*dDChristoffelgambar_ULLL_1010 + W_U_2*dDChristoffelgambar_ULLL_1020 + dDDW_ULL_100;\n",
      "        amrex::Real CovdDDW_ULL_101 = -Christoffelgambar_ULL_001*Christoffelgambar_ULL_101*W_U_1 - Christoffelgambar_ULL_001*Christoffelgambar_ULL_102*W_U_2 - Christoffelgambar_ULL_001*dDW_UL_10 + Christoffelgambar_ULL_011*Christoffelgambar_ULL_100*W_U_1 + Christoffelgambar_ULL_012*Christoffelgambar_ULL_100*W_U_2 + Christoffelgambar_ULL_100*dDW_UL_01 + Christoffelgambar_ULL_101*dDW_UL_00 + Christoffelgambar_ULL_102*Christoffelgambar_ULL_211*W_U_1 + Christoffelgambar_ULL_102*Christoffelgambar_ULL_212*W_U_2 + Christoffelgambar_ULL_102*dDW_UL_21 + Christoffelgambar_ULL_111*dDW_UL_10 - Christoffelgambar_ULL_112*Christoffelgambar_ULL_201*W_U_1 + Christoffelgambar_ULL_112*dDW_UL_20 - Christoffelgambar_ULL_122*Christoffelgambar_ULL_201*W_U_2 - Christoffelgambar_ULL_201*dDW_UL_12 + W_U_0*dDChristoffelgambar_ULLL_1010 + W_U_1*dDChristoffelgambar_ULLL_1110 + W_U_2*dDChristoffelgambar_ULLL_1120 + dDDW_ULL_101;\n",
      "        amrex::Real CovdDDW_ULL_102 = -Christoffelgambar_ULL_002*Christoffelgambar_ULL_101*W_U_1 - Christoffelgambar_ULL_002*Christoffelgambar_ULL_102*W_U_2 - Christoffelgambar_ULL_002*dDW_UL_10 + Christoffelgambar_ULL_012*Christoffelgambar_ULL_100*W_U_1 + Christoffelgambar_ULL_022*Christoffelgambar_ULL_100*W_U_2 + Christoffelgambar_ULL_100*dDW_UL_02 + Christoffelgambar_ULL_101*Christoffelgambar_ULL_112*W_U_1 + Christoffelgambar_ULL_101*Christoffelgambar_ULL_122*W_U_2 + Christoffelgambar_ULL_101*dDW_UL_12 - Christoffelgambar_ULL_102*Christoffelgambar_ULL_111*W_U_1 - Christoffelgambar_ULL_102*Christoffelgambar_ULL_112*W_U_2 + Christoffelgambar_ULL_102*Christoffelgambar_ULL_212*W_U_1 + Christoffelgambar_ULL_102*Christoffelgambar_ULL_222*W_U_2 + Christoffelgambar_ULL_102*dDW_UL_00 - Christoffelgambar_ULL_102*dDW_UL_11 + Christoffelgambar_ULL_102*dDW_UL_22 - Christoffelgambar_ULL_112*Christoffelgambar_ULL_202*W_U_1 + Christoffelgambar_ULL_112*dDW_UL_10 - Christoffelgambar_ULL_122*Christoffelgambar_ULL_202*W_U_2 + Christoffelgambar_ULL_122*dDW_UL_20 - Christoffelgambar_ULL_202*dDW_UL_12 + W_U_0*dDChristoffelgambar_ULLL_1020 + W_U_1*dDChristoffelgambar_ULLL_1120 + W_U_2*dDChristoffelgambar_ULLL_1220 + dDDW_ULL_102;\n",
      "        amrex::Real CovdDDW_ULL_111 = Christoffelgambar_ULL_001*Christoffelgambar_ULL_101*W_U_0 - Christoffelgambar_ULL_011*Christoffelgambar_ULL_100*W_U_0 - Christoffelgambar_ULL_011*Christoffelgambar_ULL_102*W_U_2 - Christoffelgambar_ULL_011*dDW_UL_10 + Christoffelgambar_ULL_012*Christoffelgambar_ULL_101*W_U_2 + 2*Christoffelgambar_ULL_101*dDW_UL_01 - Christoffelgambar_ULL_102*Christoffelgambar_ULL_211*W_U_0 + Christoffelgambar_ULL_111*dDW_UL_11 + Christoffelgambar_ULL_112*Christoffelgambar_ULL_201*W_U_0 + Christoffelgambar_ULL_112*Christoffelgambar_ULL_212*W_U_2 + 2*Christoffelgambar_ULL_112*dDW_UL_21 - Christoffelgambar_ULL_122*Christoffelgambar_ULL_211*W_U_2 - Christoffelgambar_ULL_211*dDW_UL_12 + W_U_0*dDChristoffelgambar_ULLL_1011 + W_U_1*dDChristoffelgambar_ULLL_1111 + W_U_2*dDChristoffelgambar_ULLL_1121 + dDDW_ULL_111;\n",
      "        amrex::Real CovdDDW_ULL_112 = Christoffelgambar_ULL_002*Christoffelgambar_ULL_101*W_U_0 - Christoffelgambar_ULL_012*Christoffelgambar_ULL_100*W_U_0 - Christoffelgambar_ULL_012*Christoffelgambar_ULL_102*W_U_2 - Christoffelgambar_ULL_012*dDW_UL_10 + Christoffelgambar_ULL_022*Christoffelgambar_ULL_101*W_U_2 - Christoffelgambar_ULL_101*Christoffelgambar_ULL_112*W_U_0 + Christoffelgambar_ULL_101*dDW_UL_02 + Christoffelgambar_ULL_102*Christoffelgambar_ULL_111*W_U_0 - Christoffelgambar_ULL_102*Christoffelgambar_ULL_212*W_U_0 + Christoffelgambar_ULL_102*dDW_UL_01 + Christoffelgambar_ULL_111*Christoffelgambar_ULL_122*W_U_2 + Christoffelgambar_ULL_111*dDW_UL_12 - std::pow(Christoffelgambar_ULL_112, 2)*W_U_2 + Christoffelgambar_ULL_112*Christoffelgambar_ULL_202*W_U_0 + Christoffelgambar_ULL_112*Christoffelgambar_ULL_222*W_U_2 + Christoffelgambar_ULL_112*dDW_UL_22 - Christoffelgambar_ULL_122*Christoffelgambar_ULL_212*W_U_2 + Christoffelgambar_ULL_122*dDW_UL_21 - Christoffelgambar_ULL_212*dDW_UL_12 + W_U_0*dDChristoffelgambar_ULLL_1021 + W_U_1*dDChristoffelgambar_ULLL_1121 + W_U_2*dDChristoffelgambar_ULLL_1221 + dDDW_ULL_112;\n",
      "        amrex::Real CovdDDW_ULL_122 = Christoffelgambar_ULL_002*Christoffelgambar_ULL_102*W_U_0 + Christoffelgambar_ULL_012*Christoffelgambar_ULL_102*W_U_1 - Christoffelgambar_ULL_022*Christoffelgambar_ULL_100*W_U_0 - Christoffelgambar_ULL_022*Christoffelgambar_ULL_101*W_U_1 - Christoffelgambar_ULL_022*dDW_UL_10 - Christoffelgambar_ULL_101*Christoffelgambar_ULL_122*W_U_0 + Christoffelgambar_ULL_102*Christoffelgambar_ULL_112*W_U_0 - Christoffelgambar_ULL_102*Christoffelgambar_ULL_222*W_U_0 + 2*Christoffelgambar_ULL_102*dDW_UL_02 - Christoffelgambar_ULL_111*Christoffelgambar_ULL_122*W_U_1 + std::pow(Christoffelgambar_ULL_112, 2)*W_U_1 - Christoffelgambar_ULL_112*Christoffelgambar_ULL_222*W_U_1 + 2*Christoffelgambar_ULL_112*dDW_UL_12 + Christoffelgambar_ULL_122*Christoffelgambar_ULL_202*W_U_0 + Christoffelgambar_ULL_122*Christoffelgambar_ULL_212*W_U_1 - Christoffelgambar_ULL_122*dDW_UL_11 + 2*Christoffelgambar_ULL_122*dDW_UL_22 - Christoffelgambar_ULL_222*dDW_UL_12 + W_U_0*dDChristoffelgambar_ULLL_1022 + W_U_1*dDChristoffelgambar_ULLL_1122 + W_U_2*dDChristoffelgambar_ULLL_1222 + dDDW_ULL_122;\n",
      "        amrex::Real CovdDDW_ULL_200 = -Christoffelgambar_ULL_000*Christoffelgambar_ULL_201*W_U_1 - Christoffelgambar_ULL_000*Christoffelgambar_ULL_202*W_U_2 - Christoffelgambar_ULL_000*dDW_UL_20 + Christoffelgambar_ULL_001*Christoffelgambar_ULL_200*W_U_1 + Christoffelgambar_ULL_002*Christoffelgambar_ULL_200*W_U_2 - Christoffelgambar_ULL_100*Christoffelgambar_ULL_211*W_U_1 - Christoffelgambar_ULL_100*Christoffelgambar_ULL_212*W_U_2 - Christoffelgambar_ULL_100*dDW_UL_21 + Christoffelgambar_ULL_101*Christoffelgambar_ULL_201*W_U_1 + Christoffelgambar_ULL_102*Christoffelgambar_ULL_201*W_U_2 - Christoffelgambar_ULL_200*Christoffelgambar_ULL_212*W_U_1 - Christoffelgambar_ULL_200*Christoffelgambar_ULL_222*W_U_2 + 2*Christoffelgambar_ULL_200*dDW_UL_00 - Christoffelgambar_ULL_200*dDW_UL_22 + Christoffelgambar_ULL_201*Christoffelgambar_ULL_202*W_U_1 + 2*Christoffelgambar_ULL_201*dDW_UL_10 + std::pow(Christoffelgambar_ULL_202, 2)*W_U_2 + 2*Christoffelgambar_ULL_202*dDW_UL_20 + W_U_0*dDChristoffelgambar_ULLL_2000 + W_U_1*dDChristoffelgambar_ULLL_2010 + W_U_2*dDChristoffelgambar_ULLL_2020 + dDDW_ULL_200;\n",
      "        amrex::Real CovdDDW_ULL_201 = -Christoffelgambar_ULL_001*Christoffelgambar_ULL_201*W_U_1 - Christoffelgambar_ULL_001*Christoffelgambar_ULL_202*W_U_2 - Christoffelgambar_ULL_001*dDW_UL_20 + Christoffelgambar_ULL_011*Christoffelgambar_ULL_200*W_U_1 + Christoffelgambar_ULL_012*Christoffelgambar_ULL_200*W_U_2 - Christoffelgambar_ULL_101*Christoffelgambar_ULL_211*W_U_1 - Christoffelgambar_ULL_101*Christoffelgambar_ULL_212*W_U_2 - Christoffelgambar_ULL_101*dDW_UL_21 + Christoffelgambar_ULL_111*Christoffelgambar_ULL_201*W_U_1 + Christoffelgambar_ULL_112*Christoffelgambar_ULL_201*W_U_2 + Christoffelgambar_ULL_200*dDW_UL_01 - Christoffelgambar_ULL_201*Christoffelgambar_ULL_212*W_U_1 - Christoffelgambar_ULL_201*Christoffelgambar_ULL_222*W_U_2 + Christoffelgambar_ULL_201*dDW_UL_00 + Christoffelgambar_ULL_201*dDW_UL_11 - Christoffelgambar_ULL_201*dDW_UL_22 + Christoffelgambar_ULL_202*Christoffelgambar_ULL_211*W_U_1 + Christoffelgambar_ULL_202*Christoffelgambar_ULL_212*W_U_2 + Christoffelgambar_ULL_202*dDW_UL_21 + Christoffelgambar_ULL_211*dDW_UL_10 + Christoffelgambar_ULL_212*dDW_UL_20 + W_U_0*dDChristoffelgambar_ULLL_2010 + W_U_1*dDChristoffelgambar_ULLL_2110 + W_U_2*dDChristoffelgambar_ULLL_2120 + dDDW_ULL_201;\n",
      "        amrex::Real CovdDDW_ULL_202 = -Christoffelgambar_ULL_002*Christoffelgambar_ULL_201*W_U_1 - Christoffelgambar_ULL_002*Christoffelgambar_ULL_202*W_U_2 - Christoffelgambar_ULL_002*dDW_UL_20 + Christoffelgambar_ULL_012*Christoffelgambar_ULL_200*W_U_1 + Christoffelgambar_ULL_022*Christoffelgambar_ULL_200*W_U_2 - Christoffelgambar_ULL_102*Christoffelgambar_ULL_211*W_U_1 - Christoffelgambar_ULL_102*Christoffelgambar_ULL_212*W_U_2 - Christoffelgambar_ULL_102*dDW_UL_21 + Christoffelgambar_ULL_112*Christoffelgambar_ULL_201*W_U_1 + Christoffelgambar_ULL_122*Christoffelgambar_ULL_201*W_U_2 + Christoffelgambar_ULL_200*dDW_UL_02 + Christoffelgambar_ULL_201*dDW_UL_12 + Christoffelgambar_ULL_202*dDW_UL_00 + Christoffelgambar_ULL_212*dDW_UL_10 + Christoffelgambar_ULL_222*dDW_UL_20 + W_U_0*dDChristoffelgambar_ULLL_2020 + W_U_1*dDChristoffelgambar_ULLL_2120 + W_U_2*dDChristoffelgambar_ULLL_2220 + dDDW_ULL_202;\n",
      "        amrex::Real CovdDDW_ULL_211 = Christoffelgambar_ULL_001*Christoffelgambar_ULL_201*W_U_0 - Christoffelgambar_ULL_011*Christoffelgambar_ULL_200*W_U_0 - Christoffelgambar_ULL_011*Christoffelgambar_ULL_202*W_U_2 - Christoffelgambar_ULL_011*dDW_UL_20 + Christoffelgambar_ULL_012*Christoffelgambar_ULL_201*W_U_2 + Christoffelgambar_ULL_101*Christoffelgambar_ULL_211*W_U_0 - Christoffelgambar_ULL_111*Christoffelgambar_ULL_201*W_U_0 - Christoffelgambar_ULL_111*Christoffelgambar_ULL_212*W_U_2 - Christoffelgambar_ULL_111*dDW_UL_21 + Christoffelgambar_ULL_112*Christoffelgambar_ULL_211*W_U_2 + Christoffelgambar_ULL_201*Christoffelgambar_ULL_212*W_U_0 + 2*Christoffelgambar_ULL_201*dDW_UL_01 - Christoffelgambar_ULL_202*Christoffelgambar_ULL_211*W_U_0 - Christoffelgambar_ULL_211*Christoffelgambar_ULL_222*W_U_2 + 2*Christoffelgambar_ULL_211*dDW_UL_11 - Christoffelgambar_ULL_211*dDW_UL_22 + std::pow(Christoffelgambar_ULL_212, 2)*W_U_2 + 2*Christoffelgambar_ULL_212*dDW_UL_21 + W_U_0*dDChristoffelgambar_ULLL_2011 + W_U_1*dDChristoffelgambar_ULLL_2111 + W_U_2*dDChristoffelgambar_ULLL_2121 + dDDW_ULL_211;\n",
      "        amrex::Real CovdDDW_ULL_212 = Christoffelgambar_ULL_002*Christoffelgambar_ULL_201*W_U_0 - Christoffelgambar_ULL_012*Christoffelgambar_ULL_200*W_U_0 - Christoffelgambar_ULL_012*Christoffelgambar_ULL_202*W_U_2 - Christoffelgambar_ULL_012*dDW_UL_20 + Christoffelgambar_ULL_022*Christoffelgambar_ULL_201*W_U_2 + Christoffelgambar_ULL_102*Christoffelgambar_ULL_211*W_U_0 - Christoffelgambar_ULL_112*Christoffelgambar_ULL_201*W_U_0 - Christoffelgambar_ULL_112*Christoffelgambar_ULL_212*W_U_2 - Christoffelgambar_ULL_112*dDW_UL_21 + Christoffelgambar_ULL_122*Christoffelgambar_ULL_211*W_U_2 + Christoffelgambar_ULL_201*dDW_UL_02 + Christoffelgambar_ULL_202*dDW_UL_01 + Christoffelgambar_ULL_211*dDW_UL_12 + Christoffelgambar_ULL_212*dDW_UL_11 + Christoffelgambar_ULL_222*dDW_UL_21 + W_U_0*dDChristoffelgambar_ULLL_2021 + W_U_1*dDChristoffelgambar_ULLL_2121 + W_U_2*dDChristoffelgambar_ULLL_2221 + dDDW_ULL_212;\n",
      "        amrex::Real CovdDDW_ULL_222 = Christoffelgambar_ULL_002*Christoffelgambar_ULL_202*W_U_0 + Christoffelgambar_ULL_012*Christoffelgambar_ULL_202*W_U_1 - Christoffelgambar_ULL_022*Christoffelgambar_ULL_200*W_U_0 - Christoffelgambar_ULL_022*Christoffelgambar_ULL_201*W_U_1 - Christoffelgambar_ULL_022*dDW_UL_20 + Christoffelgambar_ULL_102*Christoffelgambar_ULL_212*W_U_0 + Christoffelgambar_ULL_112*Christoffelgambar_ULL_212*W_U_1 - Christoffelgambar_ULL_122*Christoffelgambar_ULL_201*W_U_0 - Christoffelgambar_ULL_122*Christoffelgambar_ULL_211*W_U_1 - Christoffelgambar_ULL_122*dDW_UL_21 + 2*Christoffelgambar_ULL_202*dDW_UL_02 + 2*Christoffelgambar_ULL_212*dDW_UL_12 + Christoffelgambar_ULL_222*dDW_UL_22 + W_U_0*dDChristoffelgambar_ULLL_2022 + W_U_1*dDChristoffelgambar_ULLL_2122 + W_U_2*dDChristoffelgambar_ULLL_2222 + dDDW_ULL_222;\n",
      "\n",
      "        amrex::Real Abar_UU_00 = 2*CovDW_UU_00 - 0.66666666666666663*CovdDW_UL_00*invgambar_UU_00 - 0.66666666666666663*CovdDW_UL_11*invgambar_UU_00 - 0.66666666666666663*CovdDW_UL_22*invgambar_UU_00;\n",
      "        amrex::Real Abar_UU_01 = CovDW_UU_01 + CovDW_UU_10 - 0.66666666666666663*CovdDW_UL_00*invgambar_UU_01 - 0.66666666666666663*CovdDW_UL_11*invgambar_UU_01 - 0.66666666666666663*CovdDW_UL_22*invgambar_UU_01;\n",
      "        amrex::Real Abar_UU_02 = CovDW_UU_02 + CovDW_UU_20 - 0.66666666666666663*CovdDW_UL_00*invgambar_UU_02 - 0.66666666666666663*CovdDW_UL_11*invgambar_UU_02 - 0.66666666666666663*CovdDW_UL_22*invgambar_UU_02;\n",
      "        amrex::Real Abar_UU_11 = 2*CovDW_UU_11 - 0.66666666666666663*CovdDW_UL_00*invgambar_UU_11 - 0.66666666666666663*CovdDW_UL_11*invgambar_UU_11 - 0.66666666666666663*CovdDW_UL_22*invgambar_UU_11;\n",
      "        amrex::Real Abar_UU_12 = CovDW_UU_12 + CovDW_UU_21 - 0.66666666666666663*CovdDW_UL_00*invgambar_UU_12 - 0.66666666666666663*CovdDW_UL_11*invgambar_UU_12 - 0.66666666666666663*CovdDW_UL_22*invgambar_UU_12;\n",
      "        amrex::Real Abar_UU_22 = 2*CovDW_UU_22 - 0.66666666666666663*CovdDW_UL_00*invgambar_UU_22 - 0.66666666666666663*CovdDW_UL_11*invgambar_UU_22 - 0.66666666666666663*CovdDW_UL_22*invgambar_UU_22;\n",
      "\n",
      "        amrex::Real Abar_LL_00 = Abar_UU_00*std::pow(gambar_LL_00, 2) + 2*Abar_UU_01*gambar_LL_00*gambar_LL_01 + 2*Abar_UU_02*gambar_LL_00*gambar_LL_02 + Abar_UU_11*std::pow(gambar_LL_01, 2) + 2*Abar_UU_12*gambar_LL_01*gambar_LL_02 + Abar_UU_22*std::pow(gambar_LL_02, 2);\n",
      "        amrex::Real Abar_LL_01 = Abar_UU_00*gambar_LL_00*gambar_LL_01 + Abar_UU_01*gambar_LL_00*gambar_LL_11 + Abar_UU_01*std::pow(gambar_LL_01, 2) + Abar_UU_02*gambar_LL_00*gambar_LL_12 + Abar_UU_02*gambar_LL_01*gambar_LL_02 + Abar_UU_11*gambar_LL_01*gambar_LL_11 + Abar_UU_12*gambar_LL_01*gambar_LL_12 + Abar_UU_12*gambar_LL_02*gambar_LL_11 + Abar_UU_22*gambar_LL_02*gambar_LL_12;\n",
      "        amrex::Real Abar_LL_02 = Abar_UU_00*gambar_LL_00*gambar_LL_02 + Abar_UU_01*gambar_LL_00*gambar_LL_12 + Abar_UU_01*gambar_LL_01*gambar_LL_02 + Abar_UU_02*gambar_LL_00*gambar_LL_22 + Abar_UU_02*std::pow(gambar_LL_02, 2) + Abar_UU_11*gambar_LL_01*gambar_LL_12 + Abar_UU_12*gambar_LL_01*gambar_LL_22 + Abar_UU_12*gambar_LL_02*gambar_LL_12 + Abar_UU_22*gambar_LL_02*gambar_LL_22;\n",
      "        amrex::Real Abar_LL_11 = Abar_UU_00*std::pow(gambar_LL_01, 2) + 2*Abar_UU_01*gambar_LL_01*gambar_LL_11 + 2*Abar_UU_02*gambar_LL_01*gambar_LL_12 + Abar_UU_11*std::pow(gambar_LL_11, 2) + 2*Abar_UU_12*gambar_LL_11*gambar_LL_12 + Abar_UU_22*std::pow(gambar_LL_12, 2);\n",
      "        amrex::Real Abar_LL_12 = Abar_UU_00*gambar_LL_01*gambar_LL_02 + Abar_UU_01*gambar_LL_01*gambar_LL_12 + Abar_UU_01*gambar_LL_02*gambar_LL_11 + Abar_UU_02*gambar_LL_01*gambar_LL_22 + Abar_UU_02*gambar_LL_02*gambar_LL_12 + Abar_UU_11*gambar_LL_11*gambar_LL_12 + Abar_UU_12*gambar_LL_11*gambar_LL_22 + Abar_UU_12*std::pow(gambar_LL_12, 2) + Abar_UU_22*gambar_LL_12*gambar_LL_22;\n",
      "        amrex::Real Abar_LL_22 = Abar_UU_00*std::pow(gambar_LL_02, 2) + 2*Abar_UU_01*gambar_LL_02*gambar_LL_12 + 2*Abar_UU_02*gambar_LL_02*gambar_LL_22 + Abar_UU_11*std::pow(gambar_LL_12, 2) + 2*Abar_UU_12*gambar_LL_12*gambar_LL_22 + Abar_UU_22*std::pow(gambar_LL_22, 2);\n",
      "\n",
      "        amrex::Real CovdDDPsi_LL_00 = -Christoffelgambar_ULL_000*dDPsi_L_0 - Christoffelgambar_ULL_100*dDPsi_L_1 - Christoffelgambar_ULL_200*dDPsi_L_2 + dDDPsi_LL_00;\n",
      "        amrex::Real CovdDDPsi_LL_01 = -Christoffelgambar_ULL_001*dDPsi_L_0 - Christoffelgambar_ULL_101*dDPsi_L_1 - Christoffelgambar_ULL_201*dDPsi_L_2 + dDDPsi_LL_01;\n",
      "        amrex::Real CovdDDPsi_LL_02 = -Christoffelgambar_ULL_002*dDPsi_L_0 - Christoffelgambar_ULL_102*dDPsi_L_1 - Christoffelgambar_ULL_202*dDPsi_L_2 + dDDPsi_LL_02;\n",
      "        amrex::Real CovdDDPsi_LL_11 = -Christoffelgambar_ULL_011*dDPsi_L_0 - Christoffelgambar_ULL_111*dDPsi_L_1 - Christoffelgambar_ULL_211*dDPsi_L_2 + dDDPsi_LL_11;\n",
      "        amrex::Real CovdDDPsi_LL_12 = -Christoffelgambar_ULL_012*dDPsi_L_0 - Christoffelgambar_ULL_112*dDPsi_L_1 - Christoffelgambar_ULL_212*dDPsi_L_2 + dDDPsi_LL_12;\n",
      "        amrex::Real CovdDDPsi_LL_22 = -Christoffelgambar_ULL_022*dDPsi_L_0 - Christoffelgambar_ULL_122*dDPsi_L_1 - Christoffelgambar_ULL_222*dDPsi_L_2 + dDDPsi_LL_22;\n",
      "\n",
      "        amrex::Real LapbarPsi = CovdDDPsi_LL_00*invgambar_UU_00 + 2*CovdDDPsi_LL_01*invgambar_UU_01 + 2*CovdDDPsi_LL_02*invgambar_UU_02 + CovdDDPsi_LL_11*invgambar_UU_11 + 2*CovdDDPsi_LL_12*invgambar_UU_12 + CovdDDPsi_LL_22*invgambar_UU_22;\n",
      "\n",
      "        rhs_fab(i, j, k, Idx::Psi) = Abar_LL_00*Abar_UU_00/std::pow(Psi, 7) + 2*Abar_LL_01*Abar_UU_01/std::pow(Psi, 7) + 2*Abar_LL_02*Abar_UU_02/std::pow(Psi, 7) + Abar_LL_11*Abar_UU_11/std::pow(Psi, 7) + 2*Abar_LL_12*Abar_UU_12/std::pow(Psi, 7) + Abar_LL_22*Abar_UU_22/std::pow(Psi, 7) + 8*LapbarPsi + 16*M_PI*std::pow(Psi, 5)*rho - Psi*RicciScalargambar;\n",
      "\n",
      "        amrex::Real LapbarW_U_0 = CovdDDW_ULL_000 + CovdDDW_ULL_011 + CovdDDW_ULL_022;\n",
      "        amrex::Real LapbarW_U_1 = CovdDDW_ULL_100 + CovdDDW_ULL_111 + CovdDDW_ULL_122;\n",
      "        amrex::Real LapbarW_U_2 = CovdDDW_ULL_200 + CovdDDW_ULL_211 + CovdDDW_ULL_222;\n",
      "\n",
      "        amrex::Real Riccibar_UL_00 = Riccigambar_LL_00*invgambar_UU_00 + Riccigambar_LL_01*invgambar_UU_01 + Riccigambar_LL_02*invgambar_UU_02;\n",
      "        amrex::Real Riccibar_UL_01 = Riccigambar_LL_01*invgambar_UU_00 + Riccigambar_LL_11*invgambar_UU_01 + Riccigambar_LL_12*invgambar_UU_02;\n",
      "        amrex::Real Riccibar_UL_02 = Riccigambar_LL_02*invgambar_UU_00 + Riccigambar_LL_12*invgambar_UU_01 + Riccigambar_LL_22*invgambar_UU_02;\n",
      "        amrex::Real Riccibar_UL_10 = Riccigambar_LL_00*invgambar_UU_01 + Riccigambar_LL_01*invgambar_UU_11 + Riccigambar_LL_02*invgambar_UU_12;\n",
      "        amrex::Real Riccibar_UL_11 = Riccigambar_LL_01*invgambar_UU_01 + Riccigambar_LL_11*invgambar_UU_11 + Riccigambar_LL_12*invgambar_UU_12;\n",
      "        amrex::Real Riccibar_UL_12 = Riccigambar_LL_02*invgambar_UU_01 + Riccigambar_LL_12*invgambar_UU_11 + Riccigambar_LL_22*invgambar_UU_12;\n",
      "        amrex::Real Riccibar_UL_20 = Riccigambar_LL_00*invgambar_UU_02 + Riccigambar_LL_01*invgambar_UU_12 + Riccigambar_LL_02*invgambar_UU_22;\n",
      "        amrex::Real Riccibar_UL_21 = Riccigambar_LL_01*invgambar_UU_02 + Riccigambar_LL_11*invgambar_UU_12 + Riccigambar_LL_12*invgambar_UU_22;\n",
      "        amrex::Real Riccibar_UL_22 = Riccigambar_LL_02*invgambar_UU_02 + Riccigambar_LL_12*invgambar_UU_12 + Riccigambar_LL_22*invgambar_UU_22;\n",
      "\n",
      "        amrex::Real divbarW = CovdDW_UL_00 + CovdDW_UL_11 + CovdDW_UL_22;\n",
      "\n",
      "        amrex::Real CovDdivbarW_U_0 = CovdDDW_ULL_000*gambar_LL_00 + CovdDDW_ULL_001*gambar_LL_01 + CovdDDW_ULL_002*gambar_LL_02 + CovdDDW_ULL_101*gambar_LL_00 + CovdDDW_ULL_111*gambar_LL_01 + CovdDDW_ULL_112*gambar_LL_02 + CovdDDW_ULL_202*gambar_LL_00 + CovdDDW_ULL_212*gambar_LL_01 + CovdDDW_ULL_222*gambar_LL_02;\n",
      "        amrex::Real CovDdivbarW_U_1 = CovdDDW_ULL_000*gambar_LL_01 + CovdDDW_ULL_001*gambar_LL_11 + CovdDDW_ULL_002*gambar_LL_12 + CovdDDW_ULL_101*gambar_LL_01 + CovdDDW_ULL_111*gambar_LL_11 + CovdDDW_ULL_112*gambar_LL_12 + CovdDDW_ULL_202*gambar_LL_01 + CovdDDW_ULL_212*gambar_LL_11 + CovdDDW_ULL_222*gambar_LL_12;\n",
      "        amrex::Real CovDdivbarW_U_2 = CovdDDW_ULL_000*gambar_LL_02 + CovdDDW_ULL_001*gambar_LL_12 + CovdDDW_ULL_002*gambar_LL_22 + CovdDDW_ULL_101*gambar_LL_02 + CovdDDW_ULL_111*gambar_LL_12 + CovdDDW_ULL_112*gambar_LL_22 + CovdDDW_ULL_202*gambar_LL_02 + CovdDDW_ULL_212*gambar_LL_12 + CovdDDW_ULL_222*gambar_LL_22;\n",
      "\n",
      "        amrex::Real DeltaW_U_0 = 0.33333333333333331*CovDdivbarW_U_0 + LapbarW_U_0 + Riccibar_UL_00*W_U_0 + Riccibar_UL_01*W_U_1 + Riccibar_UL_02*W_U_2;\n",
      "        amrex::Real DeltaW_U_1 = 0.33333333333333331*CovDdivbarW_U_1 + LapbarW_U_1 + Riccibar_UL_10*W_U_0 + Riccibar_UL_11*W_U_1 + Riccibar_UL_12*W_U_2;\n",
      "        amrex::Real DeltaW_U_2 = 0.33333333333333331*CovDdivbarW_U_2 + LapbarW_U_2 + Riccibar_UL_20*W_U_0 + Riccibar_UL_21*W_U_1 + Riccibar_UL_22*W_U_2;\n",
      "\n",
      "        rhs_fab(i, j, k, Idx::W_U_0) = DeltaW_U_0 - 8*M_PI*std::pow(Psi, 10)*S_U_0;\n",
      "        rhs_fab(i, j, k, Idx::W_U_1) = DeltaW_U_1 - 8*M_PI*std::pow(Psi, 10)*S_U_1;\n",
      "        rhs_fab(i, j, k, Idx::W_U_2) = DeltaW_U_2 - 8*M_PI*std::pow(Psi, 10)*S_U_2;\n",
      "\n",
      "\n"
     ]
    }
   ],
   "source": [
    "print(FullString)"
   ]
  },
  {
   "cell_type": "code",
   "execution_count": 87,
   "metadata": {},
   "outputs": [],
   "source": [
    "BCString = \"\"\"\n",
    "        ParallelFor(bx, numcomp, [=] AMREX_GPU_DEVICE (int i, int j, int k, int mcomp) {\n",
    "        \n",
    "        const auto domain_xlo = geom.ProbLo();\n",
    "        const auto domain_xhi = geom.ProbHi();\n",
    "        amrex::Real x0 = (i + 0.5)*geom.CellSize(0) + domain_xlo[0]; \n",
    "        amrex::Real x1 = (j + 0.5)*geom.CellSize(1) + domain_xlo[1]; \n",
    "        amrex::Real x2 = (k + 0.5)*geom.CellSize(2) + domain_xlo[2]; \n",
    "        \n",
    "        amrex::Real x0blo = (0.5)*geom.CellSize(0) + domain_xlo[0]; \n",
    "        amrex::Real x1blo = (0.5)*geom.CellSize(1) + domain_xlo[1]; \n",
    "        amrex::Real x2blo = (0.5)*geom.CellSize(2) + domain_xlo[2];\n",
    "        \n",
    "        amrex::Real x0blop1 = (1.5)*geom.CellSize(0) + domain_xlo[0]; \n",
    "        amrex::Real x1blop1 = (1.5)*geom.CellSize(1) + domain_xlo[1]; \n",
    "        amrex::Real x2blop1 = (1.5)*geom.CellSize(2) + domain_xlo[2];\n",
    "        \n",
    "        amrex::Real x0bhi = (-0.5)*geom.CellSize(0) + domain_xhi[0]; \n",
    "        amrex::Real x1bhi = (-0.5)*geom.CellSize(1) + domain_xhi[1]; \n",
    "        amrex::Real x2bhi = (-0.5)*geom.CellSize(2) + domain_xhi[2];\n",
    "        \n",
    "        amrex::Real x0bhim1 = (-1.5)*geom.CellSize(0) + domain_xhi[0]; \n",
    "        amrex::Real x1bhim1 = (-1.5)*geom.CellSize(1) + domain_xhi[1]; \n",
    "        amrex::Real x2bhim1 = (-1.5)*geom.CellSize(2) + domain_xhi[2];\n",
    "        \n",
    "        int n = dcomp + mcomp;\n",
    "        if ((i < dom_lo.x && bcr[n].lo(0) == BCType::ext_dir) ||\n",
    "            (i > dom_hi.x && bcr[n].hi(0) == BCType::ext_dir) ||\n",
    "\n",
    "            (j < dom_lo.y && bcr[n].lo(1) == BCType::ext_dir) ||\n",
    "            (j > dom_hi.y && bcr[n].hi(1) == BCType::ext_dir) ||\n",
    "\n",
    "            (k < dom_lo.z && bcr[n].lo(2) == BCType::ext_dir) ||\n",
    "            (k > dom_hi.z && bcr[n].hi(2) == BCType::ext_dir))\n",
    "        {\n",
    "            \n",
    "            amrex::Real Q1bc = -0.68061100520003348*x2 + 0.061019268915739208*std::cos(2*std::acos(2*x2 - 1)) - 0.028811239260563313*std::cos(3*std::acos(2*x2 - 1)) + 0.010994687062544199*std::cos(4*std::acos(2*x2 - 1)) - 0.0023006728019726377*std::cos(5*std::acos(2*x2 - 1)) + 0.00037770024933888972*std::cos(6*std::acos(2*x2 - 1)) - 0.00018926758193727779*std::cos(7*std::acos(2*x2 - 1)) + 8.9792816155849497e-5*std::cos(8*std::acos(2*x2 - 1)) - 3.0124163538172016e-5*std::cos(9*std::acos(2*x2 - 1)) + 1.2021246773304128e-5*std::cos(10*std::acos(2*x2 - 1)) - 6.5053906007292439e-6*std::cos(11*std::acos(2*x2 - 1)) + 3.0449215172399097e-6*std::cos(12*std::acos(2*x2 - 1)) - 1.2811421066013379e-6*std::cos(13*std::acos(2*x2 - 1)) + 5.9240976851317184e-7*std::cos(14*std::acos(2*x2 - 1)) - 3.0791730402934814e-7*std::cos(15*std::acos(2*x2 - 1)) + 1.6297438969713196e-7*std::cos(16*std::acos(2*x2 - 1)) - 9.0628913264681477e-8*std::cos(17*std::acos(2*x2 - 1)) + 5.5925736878320587e-8*std::cos(18*std::acos(2*x2 - 1)) - 2.1597219459004724e-8*std::cos(19*std::acos(2*x2 - 1)) + 0.89616316299388044;\n",
    "            \n",
    "            amrex::Real Q2bc = -0.87832357573863939*x2 - 0.20007739541157504*std::cos(2*std::acos(2*x2 - 1)) + 0.065191675198832538*std::cos(3*std::acos(2*x2 - 1)) - 0.0017668632063070847*std::cos(4*std::acos(2*x2 - 1)) + 0.002083321381117274*std::cos(5*std::acos(2*x2 - 1)) - 0.0021755893539064947*std::cos(6*std::acos(2*x2 - 1)) + 0.00023620380812158608*std::cos(7*std::acos(2*x2 - 1)) + 0.00019140508503004937*std::cos(8*std::acos(2*x2 - 1)) - 5.2887991899511905e-6*std::cos(9*std::acos(2*x2 - 1)) - 3.4865365456332106e-5*std::cos(10*std::acos(2*x2 - 1)) + 7.5754289462267449e-6*std::cos(11*std::acos(2*x2 - 1)) - 8.1591316806496617e-7*std::cos(12*std::acos(2*x2 - 1)) + 2.3451911836790823e-6*std::cos(13*std::acos(2*x2 - 1)) - 1.6590877800256448e-6*std::cos(14*std::acos(2*x2 - 1)) + 6.4757982828379801e-7*std::cos(15*std::acos(2*x2 - 1)) - 3.3486047862525681e-7*std::cos(16*std::acos(2*x2 - 1)) + 2.4013722528352932e-7*std::cos(17*std::acos(2*x2 - 1)) - 1.57520797136948e-7*std::cos(18*std::acos(2*x2 - 1)) + 5.9434914744145584e-8*std::cos(19*std::acos(2*x2 - 1)) + 1.2713830549954181;\n",
    "        \n",
    "            amrex::Real Q4bc = -0.10771904146263223*x2 + 0.17572956122815425*std::cos(2*std::acos(2*x2 - 1)) - 0.014222854362153495*std::cos(3*std::acos(2*x2 - 1)) + 0.0074087639678264983*std::cos(4*std::acos(2*x2 - 1)) - 0.0024538729112778268*std::cos(5*std::acos(2*x2 - 1)) + 0.00072402355434538629*std::cos(6*std::acos(2*x2 - 1)) - 0.00019692966199925943*std::cos(7*std::acos(2*x2 - 1)) + 7.4808383755037289e-5*std::cos(8*std::acos(2*x2 - 1)) - 3.4019739811985694e-5*std::cos(9*std::acos(2*x2 - 1)) + 1.4927959811270042e-5*std::cos(10*std::acos(2*x2 - 1)) - 6.2755489084950766e-6*std::cos(11*std::acos(2*x2 - 1)) + 2.8457060048184268e-6*std::cos(12*std::acos(2*x2 - 1)) - 1.3229075641260635e-6*std::cos(13*std::acos(2*x2 - 1)) + 6.1936091758085787e-7*std::cos(14*std::acos(2*x2 - 1)) - 3.0317897355136569e-7*std::cos(15*std::acos(2*x2 - 1)) + 1.6110556438908574e-7*std::cos(16*std::acos(2*x2 - 1)) - 9.1964558815438302e-8*std::cos(17*std::acos(2*x2 - 1)) + 5.6665209566264529e-8*std::cos(18*std::acos(2*x2 - 1)) - 2.0977325373289224e-8*std::cos(19*std::acos(2*x2 - 1)) + 0.79912854081583862;\n",
    "            \n",
    "                 amrex::Real uh = 0.5;\n",
    "            \n",
    "                 data(i, j, k, Idx::alpha) = Q1bc*(1-std::pow(x2,3))*std::pow(uh,2)/std::pow(x2,2);\n",
    "            \n",
    "                 data(i, j, k, Idx::gambar_LL_00) = Q4bc*uh/std::pow(x2,2);\n",
    "\n",
    "                 data(i, j, k, Idx::gambar_LL_11) = Q4bc*uh/std::pow(x2,2);\n",
    "            \n",
    "                 data(i, j, k, Idx::gambar_LL_22) = Q2bc/(std::pow(x2,2)*(1-std::pow(x2,3)));\n",
    "            \n",
    "                if(k < dom_lo.z)\n",
    "                {\n",
    "                    data(i, j, k, dcomp+Idx::Psi) = (x2 - x2blo)/(domain_xlo[2] - x2blo)*(x2-x2blop1)/(domain_xlo[2]- x2blop1) + data(i, j, 0, dcomp+Idx::Psi)*(x2-domain_xlo[2])/(x2blo-domain_xlo[2])*(x2 - x2blop1)/(x2blo-x2blop1)+data(i, j, 1, dcomp+Idx::Psi)*(x2 -domain_xlo[2])/(x2blop1 - domain_xlo[2])*(x2 - x2blo)/(x2blop1-x2blo);\n",
    "            \n",
    "                    data(i, j, k, dcomp+Idx::W_U_0) = data(i, j, 0, dcomp+Idx::W_U_0)*(x2-domain_xlo[2])/(x2blo-domain_xlo[2])*(x2 - x2blop1)/(x2blo-x2blop1)+data(i, j, 1, dcomp+Idx::W_U_0)*(x2 -domain_xlo[2])/(x2blop1 - domain_xlo[2])*(x2 - x2blo)/(x2blop1-x2blo);\n",
    "            \n",
    "                    data(i, j, k, dcomp+Idx::W_U_1) = data(i, j, 0, dcomp+Idx::W_U_1)*(x2-domain_xlo[2])/(x2blo-domain_xlo[2])*(x2 - x2blop1)/(x2blo-x2blop1)+data(i, j, 1, dcomp+Idx::W_U_1)*(x2 -domain_xlo[2])/(x2blop1 - domain_xlo[2])*(x2 - x2blo)/(x2blop1-x2blo);\n",
    "            \n",
    "                    data(i, j, k, dcomp+Idx::W_U_2) = data(i, j, 0, dcomp+Idx::W_U_2)*(x2-domain_xlo[2])/(x2blo-domain_xlo[2])*(x2 - x2blop1)/(x2blo-x2blop1)+data(i, j, 1, dcomp+Idx::W_U_1)*(x2 -domain_xlo[2])/(x2blop1 - domain_xlo[2])*(x2 - x2blo)/(x2blop1-x2blo);\n",
    "                    \n",
    "                }\n",
    "            \n",
    "                else if(k > dom_hi.z)\n",
    "                {\n",
    "                    data(i, j, k, dcomp+Idx::Psi) = (x2 - x2bhi)/(domain_xhi[2] - x2bhi)*(x2-x2bhim1)/(domain_xhi[2]- x2bhim1) + data(i, j, dom_hi.z, dcomp+Idx::Psi)*(x2-domain_xhi[2])/(x2bhi-domain_xhi[2])*(x2 - x2bhim1)/(x2bhi-x2bhim1)+data(i, j, dom_hi.z-1, dcomp+Idx::Psi)*(x2 -domain_xhi[2])/(x2bhim1 - domain_xhi[2])*(x2 - x2bhi)/(x2bhim1-x2bhi);\n",
    "            \n",
    "                    data(i, j, k, dcomp+Idx::W_U_0) = data(i, j, dom_hi.z, dcomp+Idx::W_U_0)*(x2-domain_xhi[2])/(x2bhi-domain_xhi[2])*(x2 - x2bhim1)/(x2bhi-x2bhim1)+data(i, j, dom_hi.z-1, dcomp+Idx::W_U_0)*(x2 -domain_xhi[2])/(x2bhim1 - domain_xhi[2])*(x2 - x2bhi)/(x2bhim1-x2bhi);\n",
    "                    data(i, j, k, dcomp+Idx::W_U_1) = data(i, j, dom_hi.z, dcomp+Idx::W_U_1)*(x2-domain_xhi[2])/(x2bhi-domain_xhi[2])*(x2 - x2bhim1)/(x2bhi-x2bhim1)+data(i, j, dom_hi.z-1, dcomp+Idx::W_U_1)*(x2 -domain_xhi[2])/(x2bhim1 - domain_xhi[2])*(x2 - x2bhi)/(x2bhim1-x2bhi);\n",
    "                    data(i, j, k, dcomp+Idx::W_U_2) = data(i, j, dom_hi.z, dcomp+Idx::W_U_2)*(x2-domain_xhi[2])/(x2bhi-domain_xhi[2])*(x2 - x2bhim1)/(x2bhi-x2bhim1)+data(i, j, dom_hi.z-1, dcomp+Idx::W_U_2)*(x2 -domain_xhi[2])/(x2bhim1 - domain_xhi[2])*(x2 - x2bhi)/(x2bhim1-x2bhi);\n",
    "                }\n",
    "        }\n",
    "        \n",
    "        \n",
    "    });\n",
    "\"\"\""
   ]
  },
  {
   "cell_type": "code",
   "execution_count": 88,
   "metadata": {},
   "outputs": [
    {
     "name": "stdout",
     "output_type": "stream",
     "text": [
      "        amrex::Real gambar_LL_00 = 0;\n",
      "        amrex::Real gambar_LL_01 = 0;\n",
      "        amrex::Real gambar_LL_02 = 0;\n",
      "        amrex::Real gambar_LL_11 = 0;\n",
      "        amrex::Real gambar_LL_12 = 0;\n",
      "        amrex::Real gambar_LL_22 = 0;\n",
      "\n",
      "\n"
     ]
    }
   ],
   "source": [
    "print(gambar_LL.symb2expr())"
   ]
  },
  {
   "cell_type": "code",
   "execution_count": 89,
   "metadata": {},
   "outputs": [],
   "source": [
    "Q1bc = stvar('Q1bc')\n",
    "Q2bc = stvar('Q2bc')\n",
    "Q4bc = stvar('Q4bc')"
   ]
  },
  {
   "cell_type": "code",
   "execution_count": 90,
   "metadata": {},
   "outputs": [],
   "source": [
    "alphaInit = stvar('alpha')\n",
    "betaInit_L = stvarrank1('beta_L')\n",
    "betaInit_U = stvarrank1('beta_U')\n",
    "gambarInit_LL = stvarrank2('gambar_LL')"
   ]
  },
  {
   "cell_type": "code",
   "execution_count": 91,
   "metadata": {},
   "outputs": [],
   "source": [
    "betaInit_L.expr[0] = (Q1bc.symb*(1-u.symb**3)-Q4bc.symb)*(uh.symb**2)*vboost.symb*(gamvboost.symb**2)/(u.symb**2)"
   ]
  },
  {
   "cell_type": "code",
   "execution_count": 92,
   "metadata": {},
   "outputs": [
    {
     "name": "stdout",
     "output_type": "stream",
     "text": [
      "        amrex::Real beta_L_0 = std::pow(gamvboost, 2)*std::pow(uh, 2)*vboost*(Q1bc*(1 - std::pow(u, 3)) - Q4bc)/std::pow(u, 2);\n",
      "        amrex::Real beta_L_1 = 0;\n",
      "        amrex::Real beta_L_2 = 0;\n",
      "\n",
      "\n"
     ]
    }
   ],
   "source": [
    "print(betaInit_L.symb2expr())"
   ]
  },
  {
   "cell_type": "code",
   "execution_count": 93,
   "metadata": {},
   "outputs": [],
   "source": [
    "g00 = stvar('g00')\n",
    "g00.expr = -uh.symb**2*(Q1bc.symb*(1-u.symb**3)- Q4bc.symb*vboost.symb**2)*gamvboost.symb**2/(u.symb**2)"
   ]
  },
  {
   "cell_type": "code",
   "execution_count": 102,
   "metadata": {},
   "outputs": [
    {
     "name": "stdout",
     "output_type": "stream",
     "text": [
      "        amrex::Real g00 = -std::pow(gamvboost, 2)*std::pow(uh, 2)*(Q1bc*(1 - std::pow(u, 3)) - Q4bc*std::pow(vboost, 2))/std::pow(u, 2);\n",
      "\n",
      "\n"
     ]
    }
   ],
   "source": [
    "print(g00.symb2expr())"
   ]
  },
  {
   "cell_type": "code",
   "execution_count": 95,
   "metadata": {},
   "outputs": [
    {
     "name": "stdout",
     "output_type": "stream",
     "text": [
      "        amrex::Real invgambar_UU_00 = (gambar_LL_11*gambar_LL_22 - std::pow(gambar_LL_12, 2))/(gambar_LL_00*gambar_LL_11*gambar_LL_22 - gambar_LL_00*std::pow(gambar_LL_12, 2) - std::pow(gambar_LL_01, 2)*gambar_LL_22 + 2*gambar_LL_01*gambar_LL_02*gambar_LL_12 - std::pow(gambar_LL_02, 2)*gambar_LL_11);\n",
      "        amrex::Real invgambar_UU_01 = (-gambar_LL_01*gambar_LL_22 + gambar_LL_02*gambar_LL_12)/(gambar_LL_00*gambar_LL_11*gambar_LL_22 - gambar_LL_00*std::pow(gambar_LL_12, 2) - std::pow(gambar_LL_01, 2)*gambar_LL_22 + 2*gambar_LL_01*gambar_LL_02*gambar_LL_12 - std::pow(gambar_LL_02, 2)*gambar_LL_11);\n",
      "        amrex::Real invgambar_UU_02 = (gambar_LL_01*gambar_LL_12 - gambar_LL_02*gambar_LL_11)/(gambar_LL_00*gambar_LL_11*gambar_LL_22 - gambar_LL_00*std::pow(gambar_LL_12, 2) - std::pow(gambar_LL_01, 2)*gambar_LL_22 + 2*gambar_LL_01*gambar_LL_02*gambar_LL_12 - std::pow(gambar_LL_02, 2)*gambar_LL_11);\n",
      "        amrex::Real invgambar_UU_11 = (gambar_LL_00*gambar_LL_22 - std::pow(gambar_LL_02, 2))/(gambar_LL_00*gambar_LL_11*gambar_LL_22 - gambar_LL_00*std::pow(gambar_LL_12, 2) - std::pow(gambar_LL_01, 2)*gambar_LL_22 + 2*gambar_LL_01*gambar_LL_02*gambar_LL_12 - std::pow(gambar_LL_02, 2)*gambar_LL_11);\n",
      "        amrex::Real invgambar_UU_12 = (-gambar_LL_00*gambar_LL_12 + gambar_LL_01*gambar_LL_02)/(gambar_LL_00*gambar_LL_11*gambar_LL_22 - gambar_LL_00*std::pow(gambar_LL_12, 2) - std::pow(gambar_LL_01, 2)*gambar_LL_22 + 2*gambar_LL_01*gambar_LL_02*gambar_LL_12 - std::pow(gambar_LL_02, 2)*gambar_LL_11);\n",
      "        amrex::Real invgambar_UU_22 = (gambar_LL_00*gambar_LL_11 - std::pow(gambar_LL_01, 2))/(gambar_LL_00*gambar_LL_11*gambar_LL_22 - gambar_LL_00*std::pow(gambar_LL_12, 2) - std::pow(gambar_LL_01, 2)*gambar_LL_22 + 2*gambar_LL_01*gambar_LL_02*gambar_LL_12 - std::pow(gambar_LL_02, 2)*gambar_LL_11);\n",
      "\n",
      "\n"
     ]
    }
   ],
   "source": [
    "print(invgambar_UU.symb2expr())"
   ]
  },
  {
   "cell_type": "code",
   "execution_count": 96,
   "metadata": {},
   "outputs": [],
   "source": [
    "alphaInitSqrd = stvar('alphaInitSqrd')\n",
    "alphaInitSqrd.expr = -g00.symb\n",
    "for i in range(3):\n",
    "    for j in range(3):\n",
    "        alphaInitSqrd.expr += invgambar_UU.symb[i][j]*beta_L.symb[i]*beta_L.symb[j]"
   ]
  },
  {
   "cell_type": "code",
   "execution_count": 97,
   "metadata": {},
   "outputs": [
    {
     "name": "stdout",
     "output_type": "stream",
     "text": [
      "        amrex::Real alphaInitSqrd = std::pow(beta_L_0, 2)*invgambar_UU_00 + 2*beta_L_0*beta_L_1*invgambar_UU_01 + 2*beta_L_0*beta_L_2*invgambar_UU_02 + std::pow(beta_L_1, 2)*invgambar_UU_11 + 2*beta_L_1*beta_L_2*invgambar_UU_12 + std::pow(beta_L_2, 2)*invgambar_UU_22 - g00;\n",
      "\n",
      "\n"
     ]
    }
   ],
   "source": [
    "print(alphaInitSqrd.symb2expr())"
   ]
  },
  {
   "cell_type": "code",
   "execution_count": 98,
   "metadata": {},
   "outputs": [],
   "source": [
    "alphaInit.expr = sp.sqrt(alphaInitSqrd.symb)"
   ]
  },
  {
   "cell_type": "code",
   "execution_count": 99,
   "metadata": {},
   "outputs": [
    {
     "name": "stdout",
     "output_type": "stream",
     "text": [
      "        amrex::Real alpha = std::sqrt(alphaInitSqrd);\n",
      "\n",
      "\n"
     ]
    }
   ],
   "source": [
    "print(alphaInit.symb2expr())"
   ]
  },
  {
   "cell_type": "code",
   "execution_count": 100,
   "metadata": {},
   "outputs": [],
   "source": [
    "for i in range(3):\n",
    "    for j in range(3):\n",
    "        betaInit_U.expr[i] = invgambar_UU.symb[i][j]*betaInit_L.symb[j]"
   ]
  },
  {
   "cell_type": "code",
   "execution_count": 101,
   "metadata": {},
   "outputs": [
    {
     "name": "stdout",
     "output_type": "stream",
     "text": [
      "        amrex::Real beta_U_0 = beta_L_2*invgambar_UU_02;\n",
      "        amrex::Real beta_U_1 = beta_L_2*invgambar_UU_12;\n",
      "        amrex::Real beta_U_2 = beta_L_2*invgambar_UU_22;\n",
      "\n",
      "\n"
     ]
    }
   ],
   "source": [
    "print(betaInit_U.symb2expr())"
   ]
  },
  {
   "cell_type": "code",
   "execution_count": null,
   "metadata": {},
   "outputs": [],
   "source": []
  }
 ],
 "metadata": {
  "kernelspec": {
   "display_name": "Python 3",
   "language": "python",
   "name": "python3"
  },
  "language_info": {
   "codemirror_mode": {
    "name": "ipython",
    "version": 3
   },
   "file_extension": ".py",
   "mimetype": "text/x-python",
   "name": "python",
   "nbconvert_exporter": "python",
   "pygments_lexer": "ipython3",
   "version": "3.5.2"
  }
 },
 "nbformat": 4,
 "nbformat_minor": 2
}
