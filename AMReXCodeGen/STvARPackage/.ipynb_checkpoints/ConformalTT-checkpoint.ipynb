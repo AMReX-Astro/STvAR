{
 "cells": [
  {
   "cell_type": "code",
   "execution_count": 1,
   "metadata": {},
   "outputs": [],
   "source": [
    "from STvAR_v3 import *\n",
    "from STvARMetricObjects import *\n",
    "from STvARFiniteDifference import *\n",
    "from STvARAdvection import *\n",
    "from STvARSymbolParsing import *\n",
    "from STvARIndexing import*"
   ]
  },
  {
   "cell_type": "code",
   "execution_count": 2,
   "metadata": {},
   "outputs": [],
   "source": [
    "DiffOrder = 4\n",
    "DiffOrderKO = DiffOrder + 2\n",
    "KOsigma = 0.3\n",
    "dim = 3"
   ]
  },
  {
   "cell_type": "code",
   "execution_count": 3,
   "metadata": {},
   "outputs": [],
   "source": [
    "stvar.gridvars = []\n",
    "stvar.vartypes = []\n",
    "\n",
    "PhiRe = stvar('PhiRe', gridvar = True, vartype = 'state_fab')\n",
    "PhiIm = stvar('PhiIm', gridvar = True, vartype = 'state_fab')\n",
    "\n",
    "Psi = stvar('Psi', gridvar = True, vartype = 'state_fab')\n",
    "\n",
    "alpha = stvar('alpha', gridvar = True, vartype = 'state_fab')\n"
   ]
  },
  {
   "cell_type": "code",
   "execution_count": 4,
   "metadata": {},
   "outputs": [],
   "source": [
    "Fullstring = \"\""
   ]
  },
  {
   "cell_type": "code",
   "execution_count": 5,
   "metadata": {},
   "outputs": [],
   "source": [
    "Fullstring += PhiRe.symb2isymb()\n",
    "Fullstring += PhiRe.symb2isymb()\n",
    "Fullstring += Psi.symb2isymb()\n",
    "Fullstring += alpha.symb2isymb()"
   ]
  },
  {
   "cell_type": "code",
   "execution_count": 6,
   "metadata": {},
   "outputs": [],
   "source": [
    "dDPhiRe_L = PhiRe.diff('dD', Accuracy = DiffOrder)\n",
    "\n",
    "dDalpha_L = alpha.diff('dD', Accuracy = DiffOrder)\n",
    "\n",
    "dDPsi_L = Psi.diff('dD', Accuracy = DiffOrder)\n",
    "dDDPsi_LL = Psi.diff('dDD', Accuracy = DiffOrder)\n",
    "dKODFullPsi = Psi.diff('dKODFull', Accuracy = DiffOrderKO)"
   ]
  },
  {
   "cell_type": "code",
   "execution_count": 7,
   "metadata": {},
   "outputs": [],
   "source": [
    "Fullstring += dDPhiRe_L.symb2isymb()\n",
    "Fullstring += dDalpha_L.symb2isymb()\n",
    "Fullstring += dDPsi_L.symb2isymb()\n",
    "Fullstring += dDDPsi_LL.symb2isymb()\n",
    "Fullstring += dKODFullPsi.symb2isymb()"
   ]
  },
  {
   "cell_type": "code",
   "execution_count": 8,
   "metadata": {},
   "outputs": [],
   "source": [
    "CovDPhiRe_L = stvarrank1('CovDPhi_L', dim = 4)\n",
    "for i in range(dim):\n",
    "    CovDPhiRe_L.expr[i] = dDPhiRe_L.symb[i]\n",
    "CovDPhiRe_L.expr[3] = 0"
   ]
  },
  {
   "cell_type": "code",
   "execution_count": 9,
   "metadata": {},
   "outputs": [],
   "source": [
    "Fullstring += CovDPhiRe_L.symb2expr()"
   ]
  },
  {
   "cell_type": "code",
   "execution_count": 10,
   "metadata": {},
   "outputs": [],
   "source": [
    "g_LL = stvarrank2('g_LL', sym = 'diag01', dim = 4)"
   ]
  },
  {
   "cell_type": "code",
   "execution_count": 11,
   "metadata": {},
   "outputs": [],
   "source": [
    "for i in range(3):\n",
    "    for j in range(3):\n",
    "        g_LL.expr[i][j] = (Psi.symb**4)*sp.eye(3)[i,j]\n",
    "g_LL.expr[3][3] = -alpha.symb**2"
   ]
  },
  {
   "cell_type": "code",
   "execution_count": 12,
   "metadata": {},
   "outputs": [],
   "source": [
    "Fullstring += g_LL.symb2expr()"
   ]
  },
  {
   "cell_type": "code",
   "execution_count": 13,
   "metadata": {},
   "outputs": [],
   "source": [
    "invg_UU = inversemetric(g_LL)"
   ]
  },
  {
   "cell_type": "code",
   "execution_count": 14,
   "metadata": {},
   "outputs": [],
   "source": [
    "Fullstring += invg_UU.symb2expr()"
   ]
  },
  {
   "cell_type": "code",
   "execution_count": 15,
   "metadata": {},
   "outputs": [],
   "source": [
    "Vpotential = stvar('Vpotential')\n",
    "Vpotential.expr = -2*(PhiRe.symb**2)*(1-1/2*(PhiRe.symb**2)) "
   ]
  },
  {
   "cell_type": "code",
   "execution_count": 16,
   "metadata": {},
   "outputs": [],
   "source": [
    "Fullstring += Vpotential.symb2expr()"
   ]
  },
  {
   "cell_type": "code",
   "execution_count": 17,
   "metadata": {},
   "outputs": [],
   "source": [
    "T_LL = stvarrank2('T_LL', sym = 'sym01', dim = 4)\n",
    "for a in range(4):\n",
    "    for b in range(4):\n",
    "        T_LL.expr[a][b] += (CovDPhiRe_L.symb[a]*CovDPhiRe_L.symb[b]) - g_LL.symb[a][b]*Vpotential.symb\n",
    "        for c in range(4):\n",
    "            for d in range(4):\n",
    "                T_LL.expr[a][b] += -1/2*g_LL.symb[a][b]*(invg_UU.symb[c][d]*CovDPhiRe_L.symb[c]*CovDPhiRe_L.symb[d])"
   ]
  },
  {
   "cell_type": "code",
   "execution_count": 18,
   "metadata": {},
   "outputs": [],
   "source": [
    "Fullstring += T_LL.symb2expr()"
   ]
  },
  {
   "cell_type": "code",
   "execution_count": 19,
   "metadata": {},
   "outputs": [],
   "source": [
    "n_U = stvarrank1('n_U', dim = 4)\n",
    "for i in range(3):\n",
    "    n_U.expr[i] = 0\n",
    "n_U.expr[3] = 1/alpha.symb"
   ]
  },
  {
   "cell_type": "code",
   "execution_count": 20,
   "metadata": {},
   "outputs": [],
   "source": [
    "Fullstring += n_U.symb2expr()"
   ]
  },
  {
   "cell_type": "code",
   "execution_count": 21,
   "metadata": {},
   "outputs": [],
   "source": [
    "rho = stvar('rho')\n",
    "for a in range(4):\n",
    "    for b in range(4):\n",
    "        rho.expr += n_U.symb[a]*n_U.symb[b]*T_LL.symb[a][b]"
   ]
  },
  {
   "cell_type": "code",
   "execution_count": 22,
   "metadata": {},
   "outputs": [],
   "source": [
    "Fullstring += rho.symb2expr()"
   ]
  },
  {
   "cell_type": "code",
   "execution_count": 24,
   "metadata": {},
   "outputs": [],
   "source": [
    "LapPsi = stvar('LapPsi')\n",
    "for i in range(3):\n",
    "    for j in range(3):\n",
    "        LapPsi.expr += sp.eye(3)[i,j]*dDDPsi_LL.symb[i][j]"
   ]
  },
  {
   "cell_type": "code",
   "execution_count": 25,
   "metadata": {},
   "outputs": [],
   "source": [
    "Fullstring += LapPsi.symb2expr()"
   ]
  },
  {
   "cell_type": "code",
   "execution_count": 26,
   "metadata": {},
   "outputs": [],
   "source": [
    "RHS_Psi = stvar('Psi', gridvar = True, addtolist = False, vartype = 'state_fab', varprefix = 'rhs_fab')\n",
    "RHS_Psi.expr += LapPsi.symb + 2*sp.pi*(Psi.symb**5)*rho.symb"
   ]
  },
  {
   "cell_type": "code",
   "execution_count": 27,
   "metadata": {},
   "outputs": [],
   "source": [
    "Fullstring += RHS_Psi.setisymb()"
   ]
  },
  {
   "cell_type": "code",
   "execution_count": 31,
   "metadata": {},
   "outputs": [],
   "source": [
    "Fullstring = Fullstring.replace('state_fabIdx', 'Idx')"
   ]
  },
  {
   "cell_type": "code",
   "execution_count": 32,
   "metadata": {},
   "outputs": [
    {
     "name": "stdout",
     "output_type": "stream",
     "text": [
      "        amrex::Real PhiRe = state_fab(i, j, k, Idx::PhiRe);\n",
      "\n",
      "        amrex::Real PhiRe = state_fab(i, j, k, Idx::PhiRe);\n",
      "\n",
      "        amrex::Real Psi = state_fab(i, j, k, Idx::Psi);\n",
      "\n",
      "        amrex::Real alpha = state_fab(i, j, k, Idx::alpha);\n",
      "\n",
      "        amrex::Real dDPhiRe_L_0 = ((2.0/3.0)*state_fab(i + 1, j, k, Idx::PhiRe) - 1.0/12.0*state_fab(i + 2, j, k, Idx::PhiRe) - 2.0/3.0*state_fab(i - 1, j, k, Idx::PhiRe) + (1.0/12.0)*state_fab(i - 2, j, k, Idx::PhiRe))/dx[0];\n",
      "        amrex::Real dDPhiRe_L_1 = ((2.0/3.0)*state_fab(i, j + 1, k, Idx::PhiRe) - 1.0/12.0*state_fab(i, j + 2, k, Idx::PhiRe) - 2.0/3.0*state_fab(i, j - 1, k, Idx::PhiRe) + (1.0/12.0)*state_fab(i, j - 2, k, Idx::PhiRe))/dx[1];\n",
      "        amrex::Real dDPhiRe_L_2 = ((2.0/3.0)*state_fab(i, j, k + 1, Idx::PhiRe) - 1.0/12.0*state_fab(i, j, k + 2, Idx::PhiRe) - 2.0/3.0*state_fab(i, j, k - 1, Idx::PhiRe) + (1.0/12.0)*state_fab(i, j, k - 2, Idx::PhiRe))/dx[2];\n",
      "\n",
      "        amrex::Real dDalpha_L_0 = ((2.0/3.0)*state_fab(i + 1, j, k, Idx::alpha) - 1.0/12.0*state_fab(i + 2, j, k, Idx::alpha) - 2.0/3.0*state_fab(i - 1, j, k, Idx::alpha) + (1.0/12.0)*state_fab(i - 2, j, k, Idx::alpha))/dx[0];\n",
      "        amrex::Real dDalpha_L_1 = ((2.0/3.0)*state_fab(i, j + 1, k, Idx::alpha) - 1.0/12.0*state_fab(i, j + 2, k, Idx::alpha) - 2.0/3.0*state_fab(i, j - 1, k, Idx::alpha) + (1.0/12.0)*state_fab(i, j - 2, k, Idx::alpha))/dx[1];\n",
      "        amrex::Real dDalpha_L_2 = ((2.0/3.0)*state_fab(i, j, k + 1, Idx::alpha) - 1.0/12.0*state_fab(i, j, k + 2, Idx::alpha) - 2.0/3.0*state_fab(i, j, k - 1, Idx::alpha) + (1.0/12.0)*state_fab(i, j, k - 2, Idx::alpha))/dx[2];\n",
      "\n",
      "        amrex::Real dDPsi_L_0 = ((2.0/3.0)*state_fab(i + 1, j, k, Idx::Psi) - 1.0/12.0*state_fab(i + 2, j, k, Idx::Psi) - 2.0/3.0*state_fab(i - 1, j, k, Idx::Psi) + (1.0/12.0)*state_fab(i - 2, j, k, Idx::Psi))/dx[0];\n",
      "        amrex::Real dDPsi_L_1 = ((2.0/3.0)*state_fab(i, j + 1, k, Idx::Psi) - 1.0/12.0*state_fab(i, j + 2, k, Idx::Psi) - 2.0/3.0*state_fab(i, j - 1, k, Idx::Psi) + (1.0/12.0)*state_fab(i, j - 2, k, Idx::Psi))/dx[1];\n",
      "        amrex::Real dDPsi_L_2 = ((2.0/3.0)*state_fab(i, j, k + 1, Idx::Psi) - 1.0/12.0*state_fab(i, j, k + 2, Idx::Psi) - 2.0/3.0*state_fab(i, j, k - 1, Idx::Psi) + (1.0/12.0)*state_fab(i, j, k - 2, Idx::Psi))/dx[2];\n",
      "\n",
      "        amrex::Real dDDPsi_LL_00 = ((4.0/3.0)*state_fab(i + 1, j, k, Idx::Psi) - 1.0/12.0*state_fab(i + 2, j, k, Idx::Psi) + (4.0/3.0)*state_fab(i - 1, j, k, Idx::Psi) - 1.0/12.0*state_fab(i - 2, j, k, Idx::Psi) - 5.0/2.0*state_fab(i, j, k, Idx::Psi))/std::pow(dx[0], 2);\n",
      "        amrex::Real dDDPsi_LL_01 = ((4.0/9.0)*state_fab(i + 1, j + 1, k, Idx::Psi) - 1.0/18.0*state_fab(i + 1, j + 2, k, Idx::Psi) - 4.0/9.0*state_fab(i + 1, j - 1, k, Idx::Psi) + (1.0/18.0)*state_fab(i + 1, j - 2, k, Idx::Psi) - 1.0/18.0*state_fab(i + 2, j + 1, k, Idx::Psi) + (1.0/144.0)*state_fab(i + 2, j + 2, k, Idx::Psi) + (1.0/18.0)*state_fab(i + 2, j - 1, k, Idx::Psi) - 1.0/144.0*state_fab(i + 2, j - 2, k, Idx::Psi) - 4.0/9.0*state_fab(i - 1, j + 1, k, Idx::Psi) + (1.0/18.0)*state_fab(i - 1, j + 2, k, Idx::Psi) + (4.0/9.0)*state_fab(i - 1, j - 1, k, Idx::Psi) - 1.0/18.0*state_fab(i - 1, j - 2, k, Idx::Psi) + (1.0/18.0)*state_fab(i - 2, j + 1, k, Idx::Psi) - 1.0/144.0*state_fab(i - 2, j + 2, k, Idx::Psi) - 1.0/18.0*state_fab(i - 2, j - 1, k, Idx::Psi) + (1.0/144.0)*state_fab(i - 2, j - 2, k, Idx::Psi))/(dx[0]*dx[1]);\n",
      "        amrex::Real dDDPsi_LL_02 = ((4.0/9.0)*state_fab(i + 1, j, k + 1, Idx::Psi) - 1.0/18.0*state_fab(i + 1, j, k + 2, Idx::Psi) - 4.0/9.0*state_fab(i + 1, j, k - 1, Idx::Psi) + (1.0/18.0)*state_fab(i + 1, j, k - 2, Idx::Psi) - 1.0/18.0*state_fab(i + 2, j, k + 1, Idx::Psi) + (1.0/144.0)*state_fab(i + 2, j, k + 2, Idx::Psi) + (1.0/18.0)*state_fab(i + 2, j, k - 1, Idx::Psi) - 1.0/144.0*state_fab(i + 2, j, k - 2, Idx::Psi) - 4.0/9.0*state_fab(i - 1, j, k + 1, Idx::Psi) + (1.0/18.0)*state_fab(i - 1, j, k + 2, Idx::Psi) + (4.0/9.0)*state_fab(i - 1, j, k - 1, Idx::Psi) - 1.0/18.0*state_fab(i - 1, j, k - 2, Idx::Psi) + (1.0/18.0)*state_fab(i - 2, j, k + 1, Idx::Psi) - 1.0/144.0*state_fab(i - 2, j, k + 2, Idx::Psi) - 1.0/18.0*state_fab(i - 2, j, k - 1, Idx::Psi) + (1.0/144.0)*state_fab(i - 2, j, k - 2, Idx::Psi))/(dx[0]*dx[2]);\n",
      "        amrex::Real dDDPsi_LL_11 = ((4.0/3.0)*state_fab(i, j + 1, k, Idx::Psi) - 1.0/12.0*state_fab(i, j + 2, k, Idx::Psi) + (4.0/3.0)*state_fab(i, j - 1, k, Idx::Psi) - 1.0/12.0*state_fab(i, j - 2, k, Idx::Psi) - 5.0/2.0*state_fab(i, j, k, Idx::Psi))/std::pow(dx[1], 2);\n",
      "        amrex::Real dDDPsi_LL_12 = ((4.0/9.0)*state_fab(i, j + 1, k + 1, Idx::Psi) - 1.0/18.0*state_fab(i, j + 1, k + 2, Idx::Psi) - 4.0/9.0*state_fab(i, j + 1, k - 1, Idx::Psi) + (1.0/18.0)*state_fab(i, j + 1, k - 2, Idx::Psi) - 1.0/18.0*state_fab(i, j + 2, k + 1, Idx::Psi) + (1.0/144.0)*state_fab(i, j + 2, k + 2, Idx::Psi) + (1.0/18.0)*state_fab(i, j + 2, k - 1, Idx::Psi) - 1.0/144.0*state_fab(i, j + 2, k - 2, Idx::Psi) - 4.0/9.0*state_fab(i, j - 1, k + 1, Idx::Psi) + (1.0/18.0)*state_fab(i, j - 1, k + 2, Idx::Psi) + (4.0/9.0)*state_fab(i, j - 1, k - 1, Idx::Psi) - 1.0/18.0*state_fab(i, j - 1, k - 2, Idx::Psi) + (1.0/18.0)*state_fab(i, j - 2, k + 1, Idx::Psi) - 1.0/144.0*state_fab(i, j - 2, k + 2, Idx::Psi) - 1.0/18.0*state_fab(i, j - 2, k - 1, Idx::Psi) + (1.0/144.0)*state_fab(i, j - 2, k - 2, Idx::Psi))/(dx[1]*dx[2]);\n",
      "        amrex::Real dDDPsi_LL_22 = ((4.0/3.0)*state_fab(i, j, k + 1, Idx::Psi) - 1.0/12.0*state_fab(i, j, k + 2, Idx::Psi) + (4.0/3.0)*state_fab(i, j, k - 1, Idx::Psi) - 1.0/12.0*state_fab(i, j, k - 2, Idx::Psi) - 5.0/2.0*state_fab(i, j, k, Idx::Psi))/std::pow(dx[2], 2);\n",
      "\n",
      "        amrex::Real dKODPsi = ((15.0/64.0)*state_fab(i, j, k + 1, Idx::Psi) - 3.0/32.0*state_fab(i, j, k + 2, Idx::Psi) + (1.0/64.0)*state_fab(i, j, k + 3, Idx::Psi) + (15.0/64.0)*state_fab(i, j, k - 1, Idx::Psi) - 3.0/32.0*state_fab(i, j, k - 2, Idx::Psi) + (1.0/64.0)*state_fab(i, j, k - 3, Idx::Psi) - 5.0/16.0*state_fab(i, j, k, Idx::Psi))/dx[2] + ((15.0/64.0)*state_fab(i, j + 1, k, Idx::Psi) - 3.0/32.0*state_fab(i, j + 2, k, Idx::Psi) + (1.0/64.0)*state_fab(i, j + 3, k, Idx::Psi) + (15.0/64.0)*state_fab(i, j - 1, k, Idx::Psi) - 3.0/32.0*state_fab(i, j - 2, k, Idx::Psi) + (1.0/64.0)*state_fab(i, j - 3, k, Idx::Psi) - 5.0/16.0*state_fab(i, j, k, Idx::Psi))/dx[1] + ((15.0/64.0)*state_fab(i + 1, j, k, Idx::Psi) - 3.0/32.0*state_fab(i + 2, j, k, Idx::Psi) + (1.0/64.0)*state_fab(i + 3, j, k, Idx::Psi) + (15.0/64.0)*state_fab(i - 1, j, k, Idx::Psi) - 3.0/32.0*state_fab(i - 2, j, k, Idx::Psi) + (1.0/64.0)*state_fab(i - 3, j, k, Idx::Psi) - 5.0/16.0*state_fab(i, j, k, Idx::Psi))/dx[0];\n",
      "\n",
      "        amrex::Real CovDPhi_L_0 = dDPhiRe_L_0;\n",
      "        amrex::Real CovDPhi_L_1 = dDPhiRe_L_1;\n",
      "        amrex::Real CovDPhi_L_2 = dDPhiRe_L_2;\n",
      "        amrex::Real CovDPhi_L_3 = 0;\n",
      "\n",
      "        amrex::Real g_LL_00 = std::pow(Psi, 4);\n",
      "        amrex::Real g_LL_11 = std::pow(Psi, 4);\n",
      "        amrex::Real g_LL_22 = std::pow(Psi, 4);\n",
      "        amrex::Real g_LL_33 = -std::pow(alpha, 2);\n",
      "\n",
      "        amrex::Real invg_UU_00 = 1.0/g_LL_00;\n",
      "        amrex::Real invg_UU_11 = 1.0/g_LL_11;\n",
      "        amrex::Real invg_UU_22 = 1.0/g_LL_22;\n",
      "        amrex::Real invg_UU_33 = 1.0/g_LL_33;\n",
      "\n",
      "        amrex::Real Vpotential = -2*std::pow(PhiRe, 2)*(1 - 0.5*std::pow(PhiRe, 2));\n",
      "\n",
      "        amrex::Real T_LL_00 = -0.5*std::pow(CovDPhi_L_0, 2)*g_LL_00*invg_UU_00 + std::pow(CovDPhi_L_0, 2) - 0.5*std::pow(CovDPhi_L_1, 2)*g_LL_00*invg_UU_11 - 0.5*std::pow(CovDPhi_L_2, 2)*g_LL_00*invg_UU_22 - 0.5*std::pow(CovDPhi_L_3, 2)*g_LL_00*invg_UU_33 - Vpotential*g_LL_00;\n",
      "        amrex::Real T_LL_01 = CovDPhi_L_0*CovDPhi_L_1;\n",
      "        amrex::Real T_LL_02 = CovDPhi_L_0*CovDPhi_L_2;\n",
      "        amrex::Real T_LL_03 = CovDPhi_L_0*CovDPhi_L_3;\n",
      "        amrex::Real T_LL_11 = -0.5*std::pow(CovDPhi_L_0, 2)*g_LL_11*invg_UU_00 - 0.5*std::pow(CovDPhi_L_1, 2)*g_LL_11*invg_UU_11 + std::pow(CovDPhi_L_1, 2) - 0.5*std::pow(CovDPhi_L_2, 2)*g_LL_11*invg_UU_22 - 0.5*std::pow(CovDPhi_L_3, 2)*g_LL_11*invg_UU_33 - Vpotential*g_LL_11;\n",
      "        amrex::Real T_LL_12 = CovDPhi_L_1*CovDPhi_L_2;\n",
      "        amrex::Real T_LL_13 = CovDPhi_L_1*CovDPhi_L_3;\n",
      "        amrex::Real T_LL_22 = -0.5*std::pow(CovDPhi_L_0, 2)*g_LL_22*invg_UU_00 - 0.5*std::pow(CovDPhi_L_1, 2)*g_LL_22*invg_UU_11 - 0.5*std::pow(CovDPhi_L_2, 2)*g_LL_22*invg_UU_22 + std::pow(CovDPhi_L_2, 2) - 0.5*std::pow(CovDPhi_L_3, 2)*g_LL_22*invg_UU_33 - Vpotential*g_LL_22;\n",
      "        amrex::Real T_LL_23 = CovDPhi_L_2*CovDPhi_L_3;\n",
      "        amrex::Real T_LL_33 = -0.5*std::pow(CovDPhi_L_0, 2)*g_LL_33*invg_UU_00 - 0.5*std::pow(CovDPhi_L_1, 2)*g_LL_33*invg_UU_11 - 0.5*std::pow(CovDPhi_L_2, 2)*g_LL_33*invg_UU_22 - 0.5*std::pow(CovDPhi_L_3, 2)*g_LL_33*invg_UU_33 + std::pow(CovDPhi_L_3, 2) - Vpotential*g_LL_33;\n",
      "\n",
      "        amrex::Real n_U_0 = 0;\n",
      "        amrex::Real n_U_1 = 0;\n",
      "        amrex::Real n_U_2 = 0;\n",
      "        amrex::Real n_U_3 = 1.0/alpha;\n",
      "\n",
      "        amrex::Real rho = T_LL_00*std::pow(n_U_0, 2) + 2*T_LL_01*n_U_0*n_U_1 + 2*T_LL_02*n_U_0*n_U_2 + 2*T_LL_03*n_U_0*n_U_3 + T_LL_11*std::pow(n_U_1, 2) + 2*T_LL_12*n_U_1*n_U_2 + 2*T_LL_13*n_U_1*n_U_3 + T_LL_22*std::pow(n_U_2, 2) + 2*T_LL_23*n_U_2*n_U_3 + T_LL_33*std::pow(n_U_3, 2);\n",
      "\n",
      "        amrex::Real LapPsi = dDDPsi_LL_00 + dDDPsi_LL_11 + dDDPsi_LL_22;\n",
      "\n",
      "        rhs_fab(i, j, k, Idx::Psi) = LapPsi + 2*M_PI*std::pow(Psi, 5)*rho;\n",
      "\n",
      "\n"
     ]
    }
   ],
   "source": [
    "print(Fullstring)"
   ]
  },
  {
   "cell_type": "code",
   "execution_count": null,
   "metadata": {},
   "outputs": [],
   "source": []
  }
 ],
 "metadata": {
  "kernelspec": {
   "display_name": "Python 3",
   "language": "python",
   "name": "python3"
  },
  "language_info": {
   "codemirror_mode": {
    "name": "ipython",
    "version": 3
   },
   "file_extension": ".py",
   "mimetype": "text/x-python",
   "name": "python",
   "nbconvert_exporter": "python",
   "pygments_lexer": "ipython3",
   "version": "3.5.2"
  }
 },
 "nbformat": 4,
 "nbformat_minor": 2
}
